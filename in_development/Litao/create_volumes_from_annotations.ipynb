{
 "cells": [
  {
   "cell_type": "code",
   "execution_count": 1,
   "metadata": {},
   "outputs": [],
   "source": [
    "import os, sys\n",
    "import numpy as np\n",
    "import json\n",
    "import neuroglancer\n",
    "import pandas as pd\n",
    "import ast\n",
    "from matplotlib import pyplot as plt\n",
    "import cv2\n",
    "#viewer = neuroglancer.Viewer()\n",
    "#print(viewer)"
   ]
  },
  {
   "cell_type": "code",
   "execution_count": 2,
   "metadata": {},
   "outputs": [],
   "source": [
    "HOME = os.path.expanduser(\"~\")\n",
    "\n",
    "def get_contours_from_annotations(stack, target_structure, hand_annotations, densify=0):\n",
    "    MD585_ng_section_min = 83\n",
    "    num_annotations = len(hand_annotations)\n",
    "    str_contours_annotation = {}\n",
    "\n",
    "    for i in range(num_annotations):\n",
    "        structure = hand_annotations['name'][i]\n",
    "        #side = hand_annotations['side'][i]\n",
    "        section = hand_annotations['section'][i]\n",
    "        first_sec = 0\n",
    "        last_sec = 0\n",
    "\n",
    "        #if side == 'R' or side == 'L':\n",
    "        #    structure = structure + '_' + side\n",
    "\n",
    "        if structure == target_structure:\n",
    "            vertices = hand_annotations['vertices'][i]\n",
    "\n",
    "            for i in range(densify):\n",
    "                vertices = get_dense_coordinates(vertices)\n",
    "\n",
    "            # Skip sections before the 22nd prep2 section for MD585 as there are clear errors\n",
    "            if stack == 'MD585XXX' and section < MD585_ng_section_min + 22:\n",
    "                # vertices = vertices - np.array(MD585_abberation_correction)\n",
    "                continue\n",
    "            str_contours_annotation[section] = {}\n",
    "            str_contours_annotation[section][structure] = {}\n",
    "            #str_contours_annotation[section][structure][1] = vertices\n",
    "            str_contours_annotation[section][structure] = vertices\n",
    "\n",
    "    try:\n",
    "        first_sec = np.min(list(str_contours_annotation.keys()))\n",
    "        last_sec = np.max(list(str_contours_annotation.keys()))\n",
    "    except:\n",
    "        pass\n",
    "        #print('keys:', target_structure, len(str_contours_annotation.keys()), end=\"\\n\")\n",
    "\n",
    "\n",
    "    return str_contours_annotation, first_sec, last_sec\n"
   ]
  },
  {
   "cell_type": "code",
   "execution_count": 14,
   "metadata": {},
   "outputs": [],
   "source": [
    "namexy_ng_resolution_um = 5\n",
    "color_radius = 3\n",
    "animal = 'MD585'\n",
    "DATA_PATH = '/net/birdstore/Active_Atlas_Data/data_root'\n",
    "OUTPUT_DIR = os.path.join(DATA_PATH, 'atlas_data/atlasV8', animal)\n",
    "\n",
    "csvfile = os.path.join(OUTPUT_DIR, f'{animal}_corrected_vertices.csv')\n",
    "hand_annotations = pd.read_csv(csvfile)\n",
    "hand_annotations['vertices'] = hand_annotations['vertices'] \\\n",
    "    .apply(lambda x: x.replace(' ', ','))\\\n",
    "    .apply(lambda x: x.replace('\\n',','))\\\n",
    "    .apply(lambda x: x.replace(',]',']'))\\\n",
    "    .apply(lambda x: x.replace(',,', ','))\\\n",
    "    .apply(lambda x: x.replace(',,', ','))\\\n",
    "    .apply(lambda x: x.replace(',,', ',')).apply(lambda x: x.replace(',,', ','))\n",
    "hand_annotations['name'] = hand_annotations['structure']\n",
    "hand_annotations['vertices'] = hand_annotations['vertices'].apply(lambda x: ast.literal_eval(x))"
   ]
  },
  {
   "cell_type": "code",
   "execution_count": 15,
   "metadata": {},
   "outputs": [
    {
     "name": "stdout",
     "output_type": "stream",
     "text": [
      "['SC']\n",
      "  structure  section                                           vertices name\n",
      "0        SC      136  [[39746.21885673, 18524.6432585], [39694.23914...   SC\n",
      "1        SC      137  [[37428.70092436, 19589.01700504], [37359.2369...   SC\n",
      "2        SC      138  [[39545.53740487, 19650.94844036], [39458.5823...   SC\n",
      "3        SC      139  [[39943.39583196, 19182.67438027], [39856.4411...   SC\n",
      "4        SC      140  [[40216.93717454, 20037.8527997], [40129.98226...   SC\n"
     ]
    }
   ],
   "source": [
    "print(hand_annotations[\"structure\"].unique())\n",
    "print(hand_annotations.head())"
   ]
  },
  {
   "cell_type": "code",
   "execution_count": null,
   "metadata": {},
   "outputs": [],
   "source": [
    "original_sizes = {}\n",
    "original_offsets = {}\n",
    "PADDED_SIZE = [47000, 23300]\n",
    "with open('MD594.csv', 'r') as file:\n",
    "    for line in file.readlines():\n",
    "        first, second = line.split()\n",
    "        section = float(first[:-4])\n",
    "        x, y = map(float, second.split('x'))\n",
    "        original_sizes[section] = (x, y)\n",
    "\n",
    "        original_offsets[section] = ((PADDED_SIZE[0] - x) / 4, (PADDED_SIZE[1] - y) / 4) "
   ]
  },
  {
   "cell_type": "code",
   "execution_count": 16,
   "metadata": {},
   "outputs": [],
   "source": [
    "contour_annotations, first_sec, last_sec = get_contours_from_annotations(animal, 'SC', hand_annotations, densify=0)"
   ]
  },
  {
   "cell_type": "code",
   "execution_count": 18,
   "metadata": {},
   "outputs": [
    {
     "data": {
      "text/plain": [
       "[[39746.21885673, 18524.6432585],\n",
       " [39694.23914043, 18489.57110197],\n",
       " [39659.74715482, 18437.20460506],\n",
       " [39625.25516921, 18384.83810814],\n",
       " [39625.73864499, 18297.88293047],\n",
       " [39626.22212075, 18210.9277528],\n",
       " [39695.9796532, 18176.53246235],\n",
       " [39748.34615011, 18142.04047674],\n",
       " [39800.71264702, 18107.54849113],\n",
       " [39853.07914394, 18073.05650553],\n",
       " [39905.44564085, 18038.56451992],\n",
       " [39957.81213776, 18004.07253431],\n",
       " [40010.17863467, 17969.5805487],\n",
       " [40045.15409604, 17934.99186794],\n",
       " [40097.42389781, 17917.89091787],\n",
       " [40131.91588342, 17970.25741478],\n",
       " [40201.3833304, 17988.03523093],\n",
       " [40235.97201116, 18023.01069231],\n",
       " [40200.89985462, 18074.9904086],\n",
       " [40165.82769809, 18126.9701249],\n",
       " [40113.36450603, 18178.85314605],\n",
       " [40078.38904465, 18213.44182681],\n",
       " [40043.31688812, 18265.4215431],\n",
       " [39990.85369605, 18317.30456424],\n",
       " [39955.87823468, 18351.893245],\n",
       " [39903.41504262, 18403.77626615],\n",
       " [39868.43958123, 18438.36494691],\n",
       " [39816.07308433, 18472.85693252],\n",
       " [39763.70658741, 18507.34891813]]"
      ]
     },
     "execution_count": 18,
     "metadata": {},
     "output_type": "execute_result"
    }
   ],
   "source": [
    "contour_annotations[136]['SC']"
   ]
  },
  {
   "cell_type": "code",
   "execution_count": 20,
   "metadata": {},
   "outputs": [
    {
     "name": "stdout",
     "output_type": "stream",
     "text": [
      "136\n",
      "(29, 2)\n",
      "137\n",
      "(32, 2)\n"
     ]
    }
   ],
   "source": [
    "volume = []\n",
    "PADDED_SIZE = [47000, 23300]\n",
    "\n",
    "for section in list(contour_annotations.keys())[:2]:\n",
    "    print(section)\n",
    "    vertices = np.array(contour_annotations[section]['SC'])\n",
    "    print(vertices.shape)\n",
    "    vertices = (vertices * 460) / 452\n",
    "\n",
    "    volume_slice = np.zeros(PADDED_SIZE, dtype=np.uint8)\n",
    "    #points = (vertices + np.array(original_offsets[section])).astype(np.int32)\n",
    "    points = (vertices).astype(np.int32)\n",
    "    volume_slice = cv2.polylines(volume_slice, [points], True, 1, 10, lineType=cv2.LINE_AA)\n",
    "    volume.append(volume_slice)\n",
    "    \n",
    "volume = np.array(volume).sum(axis=0)"
   ]
  },
  {
   "cell_type": "code",
   "execution_count": 21,
   "metadata": {},
   "outputs": [
    {
     "data": {
      "text/plain": [
       "(47000, 23300)"
      ]
     },
     "execution_count": 21,
     "metadata": {},
     "output_type": "execute_result"
    }
   ],
   "source": [
    "volume.shape"
   ]
  },
  {
   "cell_type": "code",
   "execution_count": null,
   "metadata": {
    "scrolled": true
   },
   "outputs": [],
   "source": [
    "min_max = np.array(min_max)\n",
    "print(min_max.max(axis=0))\n",
    "min_max.min(axis=0)"
   ]
  },
  {
   "cell_type": "code",
   "execution_count": null,
   "metadata": {},
   "outputs": [],
   "source": [
    "all_volume_layer = neuroglancer.SegmentationLayer(\n",
    "    source = neuroglancer.LocalVolume(\n",
    "        data=section_137.reshape(section_137.shape[0], section_137.shape[1], 1), \n",
    "        dimensions=neuroglancer.CoordinateSpace(names=['x', 'y', 'z'], units='nm', scales=[452, 452, 20000]), \n",
    "        voxel_offset=(0, 0, 137)\n",
    "    ),\n",
    ")\n",
    "\n",
    "with viewer.txn() as s:\n",
    "    s.layers.clear()\n",
    "    s.layers['all'] = all_volume_layer"
   ]
  },
  {
   "cell_type": "code",
   "execution_count": null,
   "metadata": {},
   "outputs": [],
   "source": []
  },
  {
   "cell_type": "code",
   "execution_count": null,
   "metadata": {},
   "outputs": [],
   "source": [
    "std_structures = get_structures()\n",
    "structures_arr = hand_annotations.name.unique()\n",
    "annotation_structures = structures_arr.tolist()\n",
    "structures = [a for a in annotation_structures if a in std_structures]"
   ]
  },
  {
   "cell_type": "code",
   "execution_count": null,
   "metadata": {},
   "outputs": [],
   "source": [
    "color_filepath = os.path.join('../', 'neuroglancer/contours/json_cache', 'struct_to_color_2.json')\n",
    "with open(color_filepath, 'r') as json_file:\n",
    "    colors = json.load(json_file)\n",
    "colors = {name.upper(): index for name, index in colors.items()}"
   ]
  },
  {
   "cell_type": "code",
   "execution_count": null,
   "metadata": {},
   "outputs": [],
   "source": [
    "#Litao, this creates the volumes and origins from the hand annotations. This is the part that\n",
    "# needs to really be worked on\n",
    "structure_volume_origin = {}\n",
    "\n",
    "for structure in structures:\n",
    "    try:\n",
    "        color = colors[structure.upper()]\n",
    "    except:\n",
    "        sided = '{}_R'.format(structure)\n",
    "        try:\n",
    "            color = colors[sided]\n",
    "        except:\n",
    "            color = 100\n",
    "\n",
    "    print(structure, color, end=\"\\t\")\n",
    "    contour_annotations, first_sec, last_sec = get_contours_from_annotations(animal, structure, hand_annotations,\n",
    "                                                                             densify=4)\n",
    "    if first_sec == 0 or last_sec == 0:\n",
    "        print('No sections found')\n",
    "        continue\n",
    "    else:\n",
    "        print('Section start, end:', first_sec, last_sec)\n",
    "\n",
    "    threshold = 1\n",
    "    volume, xyz_offsets = create_full_volume(contour_annotations, structure, first_sec, last_sec, \\\n",
    "                                                       color_radius, xy_ng_resolution_um, threshold, color)\n",
    "    volume = np.swapaxes(volume, 0, 2)\n",
    "    structure_volume_origin[structure] = (volume, xyz_offsets)"
   ]
  },
  {
   "cell_type": "code",
   "execution_count": null,
   "metadata": {},
   "outputs": [],
   "source": [
    "x_length = 6000\n",
    "y_length = 3000\n",
    "z_length = 300\n",
    "full_brain_volume_annotated = np.zeros((x_length, y_length, z_length), dtype=np.uint8)\n",
    "\n",
    "for structure, (volume, origin) in structure_volume_origin.items():  \n",
    "    \n",
    "    x, y, z = origin\n",
    "    x_start = int(x) #+ x_length // 2\n",
    "    y_start = int(y) #+ y_length // 2\n",
    "    z_start = int(z) #+ z_length // 2\n",
    "    x_end = x_start + volume.shape[0]\n",
    "    y_end = y_start + volume.shape[1]\n",
    "    z_end = z_start + volume.shape[2]\n",
    "    \n",
    "    print(structure,'X range', x_start, x_end, end=\"\\t\")\n",
    "    print('Y range', y_start, y_end, end=\"\\t\")\n",
    "    print('Z range', z_start, z_end)\n",
    "\n",
    "    print(volume.shape)\n",
    "    print(origin)\n",
    "    full_brain_volume_annotated[x_start:x_end, y_start:y_end,z_start:z_end] += volume"
   ]
  },
  {
   "cell_type": "code",
   "execution_count": null,
   "metadata": {},
   "outputs": [],
   "source": [
    "all_volume_layer = neuroglancer.SegmentationLayer(\n",
    "    source = neuroglancer.LocalVolume(\n",
    "        data=full_brain_volume_annotated, \n",
    "        dimensions=neuroglancer.CoordinateSpace(names=['x', 'y', 'z'], units='um', scales=[5, 5, 20]), \n",
    "        voxel_offset=(0, 0, 0)\n",
    "    ),\n",
    ")\n",
    "\n",
    "with viewer.txn() as s:\n",
    "    s.layers.clear()\n",
    "    s.layers['all'] = all_volume_layer"
   ]
  },
  {
   "cell_type": "code",
   "execution_count": null,
   "metadata": {
    "scrolled": false
   },
   "outputs": [],
   "source": [
    "color_filepath = os.path.join('../', 'neuroglancer/contours/json_cache', 'struct_to_color_2.json')\n",
    "with open(color_filepath, 'r') as json_file:\n",
    "    colors = json.load(json_file)\n",
    "colors = {name.upper(): index for name, index in colors.items()}\n",
    "    \n",
    "surround = False\n",
    "VOL_DIR = '/net/birdstore/Active_Atlas_Data/copied_from_S3/mousebrainatlas-data/CSHL_volumes/atlasV7/atlasV7_10.0um_scoreVolume/score_volumes'\n",
    "files = os.listdir(VOL_DIR)\n",
    "volume_files = sorted([f for f in files if f.endswith('.npy') and surround == ('surround' in f) and 'test' not in f])\n",
    "origin_files = sorted([f for f in files if f.endswith('.txt') and surround == ('surround' in f) and 'test' not in f])\n",
    "    \n",
    "structure_volume_origin = {}\n",
    "for volume_filename, origin_filename in zip(volume_files, origin_files):\n",
    "    prefix = os.path.splitext(volume_filename)[0]\n",
    "    structure = prefix.replace('atlasV7_10.0um_scoreVolume_', '').replace('_surround_200um', '')\n",
    "    if structure not in origin_filename:\n",
    "        print(structure, origin_filename)\n",
    "        break\n",
    "    \n",
    "    try:\n",
    "        color = colors[structure.upper()]\n",
    "    except:\n",
    "        sided = '{}_R'.format(structure.upper())\n",
    "        color = colors[sided]\n",
    "\n",
    "    volume = np.load(os.path.join(VOL_DIR, volume_filename))\n",
    "    origin = np.loadtxt(os.path.join(VOL_DIR, origin_filename))\n",
    "    \n",
    "    volume = np.rot90(volume, axes=(0,1))\n",
    "    volume = np.flip(volume, axis=0)\n",
    "    volume[volume > 0.8] = color\n",
    "    volume = volume.astype(np.uint8)\n",
    "    \n",
    "    structure_volume_origin[structure] = (volume, origin)\n",
    "print(structure_volume_origin.keys())"
   ]
  },
  {
   "cell_type": "code",
   "execution_count": null,
   "metadata": {},
   "outputs": [],
   "source": []
  }
 ],
 "metadata": {
  "kernelspec": {
   "display_name": "Python 3",
   "language": "python",
   "name": "python3"
  },
  "language_info": {
   "codemirror_mode": {
    "name": "ipython",
    "version": 3
   },
   "file_extension": ".py",
   "mimetype": "text/x-python",
   "name": "python",
   "nbconvert_exporter": "python",
   "pygments_lexer": "ipython3",
   "version": "3.8.10"
  }
 },
 "nbformat": 4,
 "nbformat_minor": 1
}
