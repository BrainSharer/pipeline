{
 "cells": [
  {
   "cell_type": "code",
   "execution_count": null,
   "metadata": {},
   "outputs": [],
   "source": [
    "import os \n",
    "import sys\n",
    "import cv2\n",
    "import numpy as np\n",
    "import neuroglancer\n",
    "from skimage import io, measure\n",
    "import matplotlib.pyplot as plt\n",
    "\n",
    "HOME = os.path.expanduser(\"~\")\n",
    "PATH = os.path.join(HOME, 'programming/pipeline_utility')\n",
    "sys.path.append(PATH)\n",
    "\n",
    "\n",
    "from utilities.SqlController import SqlController"
   ]
  },
  {
   "cell_type": "code",
   "execution_count": null,
   "metadata": {},
   "outputs": [],
   "source": [
    "def mask_to_shell(mask):\n",
    "    sub_contours = measure.find_contours(mask, 1)\n",
    "\n",
    "    sub_shells = []\n",
    "    for sub_contour in sub_contours:\n",
    "        sub_contour.T[[0, 1]] = sub_contour.T[[1, 0]]\n",
    "        pts = sub_contour.astype(np.int32).reshape((-1, 1, 2))\n",
    "\n",
    "        sub_shell = np.zeros(mask.shape, dtype='uint8')\n",
    "        sub_shell = cv2.polylines(sub_shell, [pts], True, 1, 5, lineType=cv2.LINE_AA)\n",
    "        sub_shells.append(sub_shell)\n",
    "    shell = np.array(sub_shells).sum(axis=0)\n",
    "    \n",
    "    return shell"
   ]
  },
  {
   "cell_type": "code",
   "execution_count": null,
   "metadata": {},
   "outputs": [],
   "source": [
    "VOL_DIR = '/net/birdstore/Active_Atlas_Data/data_root/pipeline_data/DK39/preps/rotated_aligned_masked'\n",
    "files = sorted(os.listdir(VOL_DIR))\n",
    "\n",
    "volume = []\n",
    "for file in files:\n",
    "    tif = cv2.imread(os.path.join(VOL_DIR, file), cv2.IMREAD_GRAYSCALE)\n",
    "    tif = mask_to_shell(tif)\n",
    "    volume.append(tif)\n",
    "volume = np.array(volume).astype('uint8')\n",
    "volume = np.swapaxes(volume, 0, 2)"
   ]
  },
  {
   "cell_type": "code",
   "execution_count": null,
   "metadata": {},
   "outputs": [],
   "source": [
    "animal = 'DK39'\n",
    "downsample_factor = 32\n",
    "precompute_path = '/net/birdstore/Active_Atlas_Data/data_root/pipeline_data/DK39/neuroglancer_data/shell'\n",
    "\n",
    "sqlController = SqlController(animal)\n",
    "resolution = sqlController.scan_run.resolution\n",
    "scales = np.array([resolution * downsample_factor, resolution * downsample_factor, 20]) * 1000\n",
    "\n",
    "ng = NumpyToNeuroglancer(volume, scales)\n",
    "# ng.preview()\n",
    "ng.init_precomputed(precompute_path)\n",
    "# ng.add_segment_properties(get_segment_properties())\n",
    "ng.add_downsampled_volumes()\n",
    "ng.add_segmentation_mesh()"
   ]
  },
  {
   "cell_type": "code",
   "execution_count": null,
   "metadata": {},
   "outputs": [],
   "source": []
  }
 ],
 "metadata": {
  "kernelspec": {
   "display_name": "Python 3",
   "language": "python",
   "name": "python3"
  },
  "language_info": {
   "codemirror_mode": {
    "name": "ipython",
    "version": 3
   },
   "file_extension": ".py",
   "mimetype": "text/x-python",
   "name": "python",
   "nbconvert_exporter": "python",
   "pygments_lexer": "ipython3",
   "version": "3.8.5"
  }
 },
 "nbformat": 4,
 "nbformat_minor": 4
}
