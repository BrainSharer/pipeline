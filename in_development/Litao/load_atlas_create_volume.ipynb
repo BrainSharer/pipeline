{
 "cells": [
  {
   "cell_type": "code",
   "execution_count": 1,
   "metadata": {},
   "outputs": [],
   "source": [
    "import os\n",
    "import sys\n",
    "import numpy as np\n",
    "import neuroglancer\n",
    "import matplotlib.pyplot as plt\n",
    "import shutil"
   ]
  },
  {
   "cell_type": "code",
   "execution_count": 2,
   "metadata": {},
   "outputs": [],
   "source": [
    "HOME = os.path.expanduser(\"~\")\n",
    "PATH = os.path.join(HOME, 'programming/pipeline_utility/src')\n",
    "sys.path.append(PATH)\n",
    "from utilities.utilities_cvat_neuroglancer import get_structure_number, get_segment_properties, NumpyToNeuroglancer\n",
    "from Controllers.SqlController import SqlController"
   ]
  },
  {
   "cell_type": "code",
   "execution_count": 3,
   "metadata": {},
   "outputs": [],
   "source": [
    "sqlController = SqlController('MD589')\n",
    "resolution = sqlController.scan_run.resolution\n",
    "surface_threshold = 0.8\n",
    "SCALE = (10 / resolution)\n"
   ]
  },
  {
   "cell_type": "code",
   "execution_count": 4,
   "metadata": {
    "scrolled": false
   },
   "outputs": [
    {
     "name": "stdout",
     "output_type": "stream",
     "text": [
      "dict_keys(['10N_L', '10N_R', '12N', '3N_L', '3N_R', '4N_L', '4N_R', '5N_L', '5N_R', '6N_L', '6N_R', '7N_L', '7N_R', '7n_L', '7n_R', 'AP', 'Amb_L', 'Amb_R', 'DC_L', 'DC_R', 'IC', 'LC_L', 'LC_R', 'LRt_L', 'LRt_R', 'PBG_L', 'PBG_R', 'Pn_L', 'Pn_R', 'RtTg', 'SC', 'SNC_L', 'SNC_R', 'SNR_L', 'SNR_R', 'Sp5C_L', 'Sp5C_R', 'Sp5I_L', 'Sp5I_R', 'Sp5O_L', 'Sp5O_R', 'Tz_L', 'Tz_R', 'VCA_L', 'VCA_R', 'VCP_L', 'VCP_R', 'VLL_L', 'VLL_R'])\n"
     ]
    }
   ],
   "source": [
    "ATLAS_PATH = '/net/birdstore/Active_Atlas_Data/data_root/atlas_data/atlasV8'\n",
    "ORIGIN_PATH = os.path.join(ATLAS_PATH, 'origin')\n",
    "VOLUME_PATH = os.path.join(ATLAS_PATH, 'structure')\n",
    "origin_files = sorted(os.listdir(ORIGIN_PATH))\n",
    "volume_files = sorted(os.listdir(VOLUME_PATH))\n",
    "\n",
    "structure_volume_origin = {}\n",
    "for volume_filename, origin_filename in zip(volume_files, origin_files):\n",
    "    structure = os.path.splitext(volume_filename)[0]\n",
    "    if structure not in origin_filename:\n",
    "        print(structure, origin_filename)\n",
    "        break\n",
    "\n",
    "    color = get_structure_number(structure.replace('_L', '').replace('_R', ''))\n",
    "    origin = np.loadtxt(os.path.join(ORIGIN_PATH, origin_filename))\n",
    "    volume = np.load(os.path.join(VOLUME_PATH, volume_filename))\n",
    "    volume = np.rot90(volume, axes=(0,1))\n",
    "    volume = np.flip(volume, axis=0)\n",
    "    volume[volume > 0.8] = color\n",
    "    volume = volume.astype(np.uint8)\n",
    "    \n",
    "    structure_volume_origin[structure] = (volume, origin)\n",
    "print(structure_volume_origin.keys())"
   ]
  },
  {
   "cell_type": "code",
   "execution_count": 5,
   "metadata": {},
   "outputs": [],
   "source": [
    "x_length = 1000\n",
    "y_length = 1000\n",
    "z_length = 300\n",
    "atlas_volume = np.zeros((x_length, y_length, z_length), dtype=np.uint32)\n",
    "\n",
    "for structure, (volume, origin) in structure_volume_origin.items():\n",
    "    x, y, z = origin\n",
    "    x_start = int(x) + x_length // 2\n",
    "    y_start = int(y) + y_length // 2\n",
    "    z_start = int(z) // 2 + z_length // 2\n",
    "    x_end = x_start + volume.shape[0]\n",
    "    y_end = y_start + volume.shape[1]\n",
    "    z_end = z_start + (volume.shape[2] + 1) // 2\n",
    "\n",
    "    z_indices = [z for z in range(volume.shape[2]) if z % 2 == 0]\n",
    "    volume = volume[:, :, z_indices]\n",
    "    atlas_volume[x_start:x_end, y_start:y_end, z_start:z_end] += volume"
   ]
  },
  {
   "cell_type": "code",
   "execution_count": null,
   "metadata": {},
   "outputs": [],
   "source": [
    "arr = atlas_volume.copy()\n",
    "#arr = np.swapaxes(atlas_volume, 0, 1)\n",
    "midpoint = arr.shape[2] // 2\n",
    "arr = atlas_volume.copy()\n",
    "print(arr.shape, arr.dtype)\n",
    "plt.imshow(arr[:,:,midpoint])    "
   ]
  },
  {
   "cell_type": "code",
   "execution_count": null,
   "metadata": {},
   "outputs": [],
   "source": [
    "flat = arr.flatten()\n",
    "fig = plt.figure()\n",
    "plt.rcParams['figure.figsize'] = [10, 6]\n",
    "plt.hist(flat, bins=20, color='b')\n",
    "plt.style.use('ggplot')\n",
    "plt.yscale('log')\n",
    "plt.grid(axis='y', alpha=0.75)\n",
    "plt.xlabel('Value')\n",
    "plt.ylabel('Frequency')\n",
    "plt.title(f' {arr.dtype}')"
   ]
  },
  {
   "cell_type": "code",
   "execution_count": 6,
   "metadata": {},
   "outputs": [
    {
     "name": "stdout",
     "output_type": "stream",
     "text": [
      "A new layer named segmentation_[10000, 10000, 20000] is added to:\n",
      "http://127.0.0.1:44809/v/4809a2b4e0d9ba3833bdd3ca99d7c9858a842651/\n",
      "CPU times: user 10.1 ms, sys: 0 ns, total: 10.1 ms\n",
      "Wall time: 31 ms\n"
     ]
    }
   ],
   "source": [
    "%%time\n",
    "OUTPUT_DIR = '/net/birdstore/Active_Atlas_Data/data_root/pipeline_data/structures/atlasV7'\n",
    "\n",
    "ng = NumpyToNeuroglancer(animal = 'Atlas' , volume = atlas_volume, scales = [10000, 10000, 20000],layer_type = 'segmentation', data_type = atlas_volume.dtype)\n",
    "ng.preview()\n"
   ]
  },
  {
   "cell_type": "code",
   "execution_count": null,
   "metadata": {},
   "outputs": [],
   "source": [
    "ng.init_precomputed(OUTPUT_DIR, volume_size=atlas_volume.shape)\n",
    "ng.add_segment_properties(get_segment_properties())\n",
    "ng.add_downsampled_volumes()\n",
    "ng.add_segmentation_mesh()"
   ]
  },
  {
   "cell_type": "code",
   "execution_count": null,
   "metadata": {},
   "outputs": [],
   "source": [
    "with open('atlasV7.npy', 'wb') as file:\n",
    "    np.save(file, atlasV7_volume)"
   ]
  }
 ],
 "metadata": {
  "interpreter": {
   "hash": "2bd29f7b10431261d8beeb897d602198a8ccc2be7cc6f93af9f327223ffe0508"
  },
  "kernelspec": {
   "display_name": "Python 3",
   "language": "python",
   "name": "python3"
  },
  "language_info": {
   "codemirror_mode": {
    "name": "ipython",
    "version": 3
   },
   "file_extension": ".py",
   "mimetype": "text/x-python",
   "name": "python",
   "nbconvert_exporter": "python",
   "pygments_lexer": "ipython3",
   "version": "3.8.10"
  }
 },
 "nbformat": 4,
 "nbformat_minor": 1
}
