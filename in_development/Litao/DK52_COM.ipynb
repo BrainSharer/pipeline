{
 "cells": [
  {
   "cell_type": "code",
   "execution_count": null,
   "metadata": {},
   "outputs": [],
   "source": [
    "%reload_ext autoreload\n",
    "%autoreload 2\n",
    "\n",
    "import os\n",
    "import sys\n",
    "import ast\n",
    "import json\n",
    "from collections import defaultdict\n",
    "from matplotlib import pyplot as plt\n",
    "\n",
    "import cv2\n",
    "import numpy as np\n",
    "import pandas as pd\n",
    "import neuroglancer\n",
    "from tqdm import tqdm\n",
    "from skimage import io\n",
    "import imagesize\n",
    "from collections import OrderedDict\n",
    "\n",
    "sys.path.append(os.path.join(os.getcwd(), '../'))\n",
    "from utilities.FileLocationManager import FileLocationManager\n",
    "from utilities.SqlController import SqlController\n",
    "from utils import get_structure_number"
   ]
  },
  {
   "cell_type": "code",
   "execution_count": null,
   "metadata": {},
   "outputs": [],
   "source": [
    "animal = 'DK52'\n",
    "downsample_factor = 32\n",
    "IMGDOWN32 = f'/net/birdstore/Active_Atlas_Data/data_root/pipeline_data/{animal}/preps/CH1/thumbnail_aligned'\n",
    "sqlController = SqlController(animal)\n",
    "resolution = sqlController.scan_run.resolution\n",
    "aligned_shape = np.array((sqlController.scan_run.width, sqlController.scan_run.height))\n",
    "num_section = len(os.listdir(IMAGE_DIR_PATH))\n",
    "downsampled_aligned_shape = np.round(aligned_shape / downsample_factor).astype(int)\n",
    "scales = np.array([resolution, resolution, 20]) * 1000\n",
    "downsampled_scales = np.array([resolution * downsample_factor, resolution * downsample_factor, 20]) * 1000\n",
    "print('Full res scales', scales)\n",
    "print('Downsampled scales', downsampled_scales)\n",
    "print('aligned shape', aligned_shape)\n",
    "print('downsampled aligned shape', downsampled_aligned_shape)"
   ]
  },
  {
   "cell_type": "code",
   "execution_count": null,
   "metadata": {},
   "outputs": [],
   "source": [
    "num_section"
   ]
  },
  {
   "cell_type": "markdown",
   "metadata": {},
   "source": [
    "## Get the COM of DK52 from CVAT"
   ]
  },
  {
   "cell_type": "code",
   "execution_count": null,
   "metadata": {},
   "outputs": [],
   "source": [
    "DK52_centers = {'12N': [46488, 18778, 242],\n",
    "                '5N_L': [38990, 20019, 172],\n",
    "                '5N_R': [39184, 19027, 315],\n",
    "                '7N_L': [42425, 23190, 166],\n",
    "                '7N_R': [42286, 22901, 291]}\n",
    "centers = OrderedDict(DK52_centers)\n",
    "centers_list = []\n",
    "for value in centers.values():\n",
    "    centers_list.append((value[1], value[0], value[2]))\n",
    "COM = np.array(centers_list)\n",
    "print(COM)"
   ]
  },
  {
   "cell_type": "code",
   "execution_count": null,
   "metadata": {},
   "outputs": [],
   "source": [
    "DIR='/net/birdstore/Active_Atlas_Data/data_root/atlas_data/atlasV7/origin'\n",
    "for s in DK52_centers.keys():\n",
    "    filepath = os.path.join(DIR, f'{s}.txt')\n",
    "    arr = np.loadtxt(filepath)\n",
    "    print(s,arr)\n"
   ]
  },
  {
   "cell_type": "code",
   "execution_count": null,
   "metadata": {},
   "outputs": [],
   "source": [
    "font = cv2.FONT_HERSHEY_SIMPLEX\n",
    "fontScale = 2\n",
    "thickness = 5"
   ]
  },
  {
   "cell_type": "code",
   "execution_count": null,
   "metadata": {},
   "outputs": [],
   "source": [
    "for structure,v in centers.items():\n",
    "    color = sqlController.get_structure_color_rgb(structure)\n",
    "    filename = str(v[2]) + '.tif'\n",
    "    filepath = os.path.join(IMGDOWN32, filename)\n",
    "    img = cv2.imread(filepath)\n",
    "    cx = int(round(v[0]))\n",
    "    cy = int(round(v[1]))\n",
    "    cxdisplay = cx // downsample_factor\n",
    "    cydisplay = cy // downsample_factor\n",
    "    section = v[2]\n",
    "    print(structure,section,'with offset',cx,cy)\n",
    "    cv2.circle(img, (cxdisplay,cydisplay), 20, (0,200,0), -1)\n",
    "\n",
    "    fig=plt.figure(figsize=(26,18), dpi= 100, facecolor='w', edgecolor='k')\n",
    "    plt.imshow(img, cmap=\"gray\")\n",
    "    title = f'Center of mass {cx}x{cy} for structure {structure} at section {section}\\n'\n",
    "    subtitle = f'Downsampled by 1/{downsample_factor}'\n",
    "    plt.title(title + subtitle, fontsize=30)\n",
    "    plt.tick_params(axis='x', labelsize=30)\n",
    "    plt.tick_params(axis='y', labelsize=30)\n",
    "    plt.show()\n",
    "    outpath = f'/net/birdstore/Active_Atlas_Data/data_root/atlas_data/DK52.{structure}.section.{section}.jpg'\n",
    "    fig.savefig(outpath, bbox_inches='tight')"
   ]
  },
  {
   "cell_type": "code",
   "execution_count": null,
   "metadata": {},
   "outputs": [],
   "source": [
    "def reverse_transform_create_alignment(points, transform):\n",
    "    c = np.hstack((points, np.ones((points.shape[0], 1))))\n",
    "    b = transform.copy()[:, 0:2] # Reverse rotation matrix by doing R^-1 = R^T\n",
    "    b[2:, 0:2] = -transform[0:2, 2] # Reverse translation matrix by doing -T\n",
    "    a = np.matmul(c, b)\n",
    "    return a"
   ]
  },
  {
   "cell_type": "code",
   "execution_count": null,
   "metadata": {},
   "outputs": [],
   "source": [
    "#162, 185, 210\n",
    "\n",
    "file_name = '162.tif'\n",
    "filepath = os.path.join(DOWN32, file_name)\n",
    "img = cv2.imread(filepath)\n",
    "section = int(file_name.split('.')[0])\n",
    "\n",
    "for structure in section_structure_vertices[section]:\n",
    "    pts = section_structure_vertices[section][structure]\n",
    "    points = np.array(pts, dtype=np.int32)\n",
    "    offset = section_offset[section]\n",
    "    transform = section_transform[section]\n",
    "    \n",
    "    points = reverse_transform_create_alignment(points, section_transform[section]) # reverse create_alignment transform\n",
    "    points = (points - section_offset[section]).astype(np.int32) # reverse create_clean offset\n",
    "    \n",
    "    \n",
    "    cx, cy = np.mean(points, axis=0)\n",
    "    #print(structure,section,'with centers',cx,cy, 'offset', offset)\n",
    "    cv2.polylines(img, [points], isClosed=True, color=colors[structure], thickness=2)\n",
    "    cv2.putText(img, structure, (int(cx),int(cy)), font,\n",
    "                1, colors[structure], 1, cv2.LINE_AA)\n",
    "\n",
    "fig=plt.figure(figsize=(26,18), dpi= 100, facecolor='w', edgecolor='k')\n",
    "plt.imshow(img, cmap=\"gray\")\n",
    "plt.title('Pre alignment section:{}'.format(section), fontsize=30)\n",
    "plt.tick_params(axis='x', labelsize=30)\n",
    "plt.tick_params(axis='y', labelsize=30)\n",
    "plt.show()"
   ]
  },
  {
   "cell_type": "markdown",
   "metadata": {},
   "source": [
    "# Fill up a pandas dataframe with the corrected vertices and save it."
   ]
  },
  {
   "cell_type": "code",
   "execution_count": null,
   "metadata": {},
   "outputs": [],
   "source": [
    "data = []\n",
    "\n",
    "files = sorted(os.listdir(DOWN32))\n",
    "for file_name in files:\n",
    "    section = int(file_name.split('.')[0])\n",
    "    \n",
    "    if section in section_structure_vertices:\n",
    "        for structure in section_structure_vertices[section]:\n",
    "            pts = section_structure_vertices[section][structure]\n",
    "            points = np.array(pts, dtype=np.int32)\n",
    "            points = reverse_transform_create_alignment(points, section_transform[section]) # reverse create_alignment transform\n",
    "            points = points - section_offset[section] # reverse create_clean offset\n",
    "            data.append([structure, section, points])\n",
    "            \n",
    "df = pd.DataFrame(data=data, columns=['structure', 'section', 'vertices'])\n",
    "outpath = os.path.join(CSV_DIR_PATH, f'{animal}_sections.162.185.210.csv')\n",
    "df.to_csv(outpath, index=False)\n",
    "redone_vertices = defaultdict(dict)\n",
    "for index,row in df.iterrows():\n",
    "    section = row['section']\n",
    "    structure = row['structure']\n",
    "    points = row['vertices']\n",
    "    redone_vertices[section][structure] = points"
   ]
  },
  {
   "cell_type": "code",
   "execution_count": null,
   "metadata": {},
   "outputs": [],
   "source": [
    "sections = [162, 185, 210]\n",
    "\n",
    "font = cv2.FONT_HERSHEY_SIMPLEX\n",
    "fontScale = 1\n",
    "file_name = '210.tif'\n",
    "filepath = os.path.join(DOWN32, file_name)\n",
    "img = cv2.imread(filepath)\n",
    "section = int(file_name.split('.')[0])\n",
    "\n",
    "sl = []\n",
    "for structure in section_structure_vertices[section]:\n",
    "    pts = redone_vertices[section][structure]\n",
    "    points = np.array(pts, dtype=np.int32)\n",
    "    cx, cy = np.mean(points, axis=0)\n",
    "    sl.append(structure)\n",
    "    #print(structure,section,'with centers',cx,cy, 'offset', offset)\n",
    "    cv2.polylines(img, [points], isClosed=True, color=colors[structure], thickness=2)\n",
    "    cv2.putText(img, structure, (int(cx-5),int(cy-5)), font,\n",
    "                1, colors[structure], 1, cv2.LINE_AA)\n",
    "\n",
    "fig=plt.figure(figsize=(26,18), dpi= 100, facecolor='w', edgecolor='k')\n",
    "plt.imshow(img, cmap=\"gray\")\n",
    "plt.title('MD589 at 1/32 size section:{}, structures {}'.format(section, sl), fontsize=20)\n",
    "plt.tick_params(axis='x', labelsize=30)\n",
    "plt.tick_params(axis='y', labelsize=30)\n",
    "plt.show()\n",
    "fig.savefig(f'/home/eddyod/Desktop/MD589.section{section}.jpg', bbox_inches='tight')"
   ]
  }
 ],
 "metadata": {
  "kernelspec": {
   "display_name": "Python 3",
   "language": "python",
   "name": "python3"
  },
  "language_info": {
   "codemirror_mode": {
    "name": "ipython",
    "version": 3
   },
   "file_extension": ".py",
   "mimetype": "text/x-python",
   "name": "python",
   "nbconvert_exporter": "python",
   "pygments_lexer": "ipython3",
   "version": "3.8.5"
  }
 },
 "nbformat": 4,
 "nbformat_minor": 4
}
