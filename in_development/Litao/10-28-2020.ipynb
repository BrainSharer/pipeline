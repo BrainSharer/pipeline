{
 "cells": [
  {
   "cell_type": "code",
   "execution_count": 1,
   "metadata": {},
   "outputs": [],
   "source": [
    "import os, sys\n",
    "import pandas as pd\n",
    "import numpy as np\n",
    "import cv2\n",
    "import shutil\n",
    "import struct\n",
    "import json"
   ]
  },
  {
   "cell_type": "code",
   "execution_count": 2,
   "metadata": {},
   "outputs": [],
   "source": [
    "DATA_PATH = '/net/birdstore/Active_Atlas_Data/data_root'\n",
    "csvfile = os.path.join(DATA_PATH, 'atlas_data', 'DK52.all.csv')\n",
    "DK52_df = pd.read_csv(csvfile, dtype={'Layer':'str', 'X':np.uint16, 'Y':np.uint16,'Section':np.uint16})\n",
    "DK52_df = DK52_df.loc[DK52_df['Layer'] == 'PM nucleus']\n",
    "\n",
    "OUTPUT_DIR = os.path.join('/net/birdstore/Active_Atlas_Data/data_root/pipeline_data/structures', 'points')\n",
    "if os.path.exists(OUTPUT_DIR):\n",
    "    shutil.rmtree(OUTPUT_DIR)\n",
    "os.makedirs(OUTPUT_DIR, exist_ok=True)"
   ]
  },
  {
   "cell_type": "code",
   "execution_count": 3,
   "metadata": {},
   "outputs": [],
   "source": [
    "coordinates = []\n",
    "for index, row in DK52_df.iterrows():\n",
    "    x = row['X']\n",
    "    y = row['Y']\n",
    "    z = row['Section']\n",
    "    coordinates.append((x,y,z))"
   ]
  },
  {
   "cell_type": "markdown",
   "metadata": {},
   "source": [
    "1. This takes the coordinates and packs them into a binary file, \n",
    "2. see https://github.com/google/neuroglancer/issues/227\n",
    "3. Create a dir on birdstore called points\n",
    "4. put the info file under points/info\n",
    "5. create the binary file and put in points/spatial0/0_0_0"
   ]
  },
  {
   "cell_type": "code",
   "execution_count": 4,
   "metadata": {},
   "outputs": [],
   "source": [
    "spatial_dir = os.path.join(OUTPUT_DIR, 'spatial0')\n",
    "os.makedirs(spatial_dir)\n",
    "\n",
    "with open(os.path.join(spatial_dir, '0_0_0'), 'wb') as outfile:\n",
    "    total_count=len(coordinates) # coordinates is a list of tuples (x,y,z) \n",
    "    buf = struct.pack('<Q',total_count)\n",
    "    for (x,y,z) in coordinates:\n",
    "        pt_buf = struct.pack('<3f',x,y,z)\n",
    "        buf+=pt_buf\n",
    "    # write the ids at the end of the buffer as increasing integers \n",
    "    id_buf = struct.pack('<%sQ' % len(coordinates), *range(len(coordinates)))\n",
    "    buf+=id_buf\n",
    "    outfile.write(buf)"
   ]
  },
  {
   "cell_type": "markdown",
   "metadata": {},
   "source": [
    "### The info file is below"
   ]
  },
  {
   "cell_type": "code",
   "execution_count": 5,
   "metadata": {},
   "outputs": [],
   "source": [
    "info = {\n",
    "    \"@type\": \"neuroglancer_annotations_v1\",\n",
    "    \"dimensions\" : {\n",
    "        \"x\": [3.25e-7, \"m\"],\n",
    "        \"y\": [3.25e-7, \"m\"],\n",
    "        \"z\": [0.00002, \"m\"]\n",
    "    },\n",
    "    \"lower_bound\": [0, 0, 0],\n",
    "    \"upper_bound\": [65000, 36000, 486],\n",
    "    \"annotation_type\": \"POINT\",\n",
    "    \"properties\": [],\n",
    "    \"relationships\": [],\n",
    "    \"by_id\": {\n",
    "        \"key\": \"spatial0\"\n",
    "    },\n",
    "    \"spatial\": [\n",
    "        {\n",
    "            \"key\": \"spatial0\",\n",
    "            \"grid_shape\": [1, 1, 1],\n",
    "            \"chunk_size\": [65000, 36000, 486],\n",
    "            \"limit\": 10000\n",
    "        }\n",
    "    ]\n",
    "}\n",
    "\n",
    "with open(os.path.join(OUTPUT_DIR, 'info'), 'w') as file:\n",
    "    json.dump(info, file, indent=2)"
   ]
  },
  {
   "cell_type": "code",
   "execution_count": null,
   "metadata": {},
   "outputs": [],
   "source": []
  }
 ],
 "metadata": {
  "kernelspec": {
   "display_name": "Python 3",
   "language": "python",
   "name": "python3"
  },
  "language_info": {
   "codemirror_mode": {
    "name": "ipython",
    "version": 3
   },
   "file_extension": ".py",
   "mimetype": "text/x-python",
   "name": "python",
   "nbconvert_exporter": "python",
   "pygments_lexer": "ipython3",
   "version": "3.6.9"
  }
 },
 "nbformat": 4,
 "nbformat_minor": 4
}
