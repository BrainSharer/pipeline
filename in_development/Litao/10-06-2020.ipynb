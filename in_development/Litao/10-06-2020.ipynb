{
 "cells": [
  {
   "cell_type": "code",
   "execution_count": 1,
   "metadata": {},
   "outputs": [
    {
     "name": "stdout",
     "output_type": "stream",
     "text": [
      "Connecting dklab@db.dk.ucsd.edu:3306\n"
     ]
    }
   ],
   "source": [
    "import json\n",
    "import argparse\n",
    "\n",
    "import numpy as np\n",
    "import cv2\n",
    "\n",
    "from utils import get_structure_number, get_segment_properties, NumpyToNeuroglancer"
   ]
  },
  {
   "cell_type": "code",
   "execution_count": null,
   "metadata": {},
   "outputs": [],
   "source": [
    "def read_from_cvat(cvat_data_fp):\n",
    "    '''\n",
    "    Read labels and vertices of each polygon in every section from cvat structure data.\n",
    "    :param cvat_data_fp: file path to cvat exported data, a json file\n",
    "    :return: a dictionary containing vertex coordinates organized by section numbers and structure names\n",
    "    '''\n",
    "    cvat_json = json.load(open(cvat_data_fp,'r'))\n",
    "    \n",
    "    # Read annotation contours coordinates\n",
    "    category_dict = {category['id']: category['name'] for category in cvat_json['categories']}\n",
    "    contours = {}\n",
    "    for annotation in cvat_json['annotations']:\n",
    "        section = annotation['image_id']\n",
    "        if not section in contours.keys():\n",
    "            contours[section] = {}\n",
    "            \n",
    "        landmarks = contours[section]\n",
    "        structure = category_dict[annotation['category_id']]\n",
    "        if not structure in landmarks.keys():\n",
    "            landmarks[structure] = []\n",
    "            \n",
    "        polygon = np.array(annotation['segmentation'])\n",
    "        polygon = np.c_[polygon[0,::2], polygon[0,1::2]]\n",
    "        landmarks[structure].append(polygon)\n",
    "        \n",
    "    return contours\n",
    "\n",
    "def draw_numpy(section_structure_polygons, size, section_start, section_end, draw_lines=True):\n",
    "    volume = np.zeros((size[1], size[0], section_end - section_start), dtype=np.uint8)\n",
    "    for section in tqdm(range(section_start, section_end)):\n",
    "        if section in section_structure_polygons:\n",
    "            template = np.zeros((size[1], size[0]), dtype=np.uint8)\n",
    "            for structure in section_structure_polygons[section]:\n",
    "                polygons = section_structure_polygons[section][structure]\n",
    "                for polygon in polygons:\n",
    "                    color = get_structure_number(structure)\n",
    "                    \n",
    "                    if draw_lines:\n",
    "                        cv2.polylines(template, [polygon.astype(np.int32)], True, color, 1)\n",
    "                    else:\n",
    "                        for point in polygon:\n",
    "                            cv2.circle(template, tuple(point.astype(np.int32)), 0, color, -1)\n",
    "\n",
    "            volume[:, :, section - section_start - 1] = template\n",
    "        \n",
    "    volume = np.swapaxes(volume, 0, 1)\n",
    "    return volume"
   ]
  },
  {
   "cell_type": "code",
   "execution_count": null,
   "metadata": {},
   "outputs": [],
   "source": [
    "if __name__=='__main__':\n",
    "    parser.add_argument(\"animal\", type=str)\n",
    "    parser.add_argument(\"downsample_factor\", type=int, \"The downsampled factor of the brain images\")\n",
    "    parser.add_argument(\"cvat_file\", type=str, help=\"Path to cvat exported file\")\n",
    "    parser.add_argument(\"precomputed_path\", type=str, help=\"Path to Neuroglancer Precomputed dir\")\n",
    "    parser.add_argument(\"draw_lines\", type=bool, help=\"Whether to draw lines or dots for Neuroglancer\", default=True)\n",
    "    \n",
    "    args = parser.parse_args()\n",
    "    \n",
    "    sqlController = SqlController(args.animal)\n",
    "    resolution = sqlController.scan_run.resolution\n",
    "    aligned_shape = np.array((sqlController.scan_run.width, sqlController.scan_run.height))\n",
    "    num_section = len(os.listdir(IMAGE_DIR_PATH))\n",
    "    downsampled_aligned_shape = np.round(aligned_shape / args.downsample_factor).astype(int)\n",
    "    scales = np.array([resolution * args.downsample_factor, resolution * args.downsample_factor, 20]) * 1000\n",
    "    \n",
    "    cvat_data_fp = configuration(args.cvat_file)\n",
    "    contours = read_from_cvat(cvat_data_fp)\n",
    "    volume = draw_numpy(section_structure_polygons, downsampled_aligned_shape, 0, num_section, draw_lines=args.draw_lines)\n",
    "        \n",
    "    ng = NumpyToNeuroglancer(volume, scales)\n",
    "    ng.init_precomputed(args.precompute_path)\n",
    "    ng.add_segment_properties(get_segment_properties())\n",
    "    ng.add_downsampled_volumes()\n",
    "    ng.add_segmentation_mesh()"
   ]
  }
 ],
 "metadata": {
  "kernelspec": {
   "display_name": "Python 3",
   "language": "python",
   "name": "python3"
  },
  "language_info": {
   "codemirror_mode": {
    "name": "ipython",
    "version": 3
   },
   "file_extension": ".py",
   "mimetype": "text/x-python",
   "name": "python",
   "nbconvert_exporter": "python",
   "pygments_lexer": "ipython3",
   "version": "3.8.10"
  }
 },
 "nbformat": 4,
 "nbformat_minor": 4
}
