{
 "cells": [
  {
   "cell_type": "markdown",
   "metadata": {},
   "source": [
    "## Detector training process"
   ]
  },
  {
   "cell_type": "code",
   "execution_count": null,
   "metadata": {},
   "outputs": [],
   "source": [
    "import os, sys\n",
    "import pickle as pkl\n",
    "import pandas as pd\n",
    "import numpy as np\n",
    "from glob import glob\n",
    "sys.path.append(os.path.abspath('./../../'))\n",
    "from cell_extractor.CellDetectorBase import CellDetectorBase\n",
    "from cell_extractor.CellDetectorTrainer import CellDetectorTrainerDK55, CellDetectorTrainer\n",
    "from cell_extractor.CellDetector import CellDetector"
   ]
  },
  {
   "cell_type": "code",
   "execution_count": null,
   "metadata": {},
   "outputs": [],
   "source": [
    "import matplotlib.pyplot as plt\n",
    "import seaborn as sns\n",
    "def detection_plot(detections, labeled_data, title):\n",
    "    fig = plt.figure(figsize=(8,5))\n",
    "    # ax = fig.add_subplot(1, 1, 1)\n",
    "    sns.kdeplot(x=detections['mean_score'], color='r')\n",
    "    plt.yscale('log')\n",
    "    plt.ylim([1e-6,1])\n",
    "    plt.xlabel(\"Average value of Scores\")\n",
    "    # plt.legend(loc='upper left')\n",
    "    left_yaxis = plt.gca().get_yaxis()\n",
    "    left_yaxis.label.set_color('red')\n",
    "    left_yaxis.set_tick_params(labelcolor='red', color='red')\n",
    "\n",
    "    ax2 = plt.twinx()\n",
    "    labeled_data.loc[labeled_data['label']==0, 'label'] = 'Negative'\n",
    "    labeled_data.loc[labeled_data['label']==1, 'label'] = 'Positive'\n",
    "    sns.scatterplot(x=labeled_data['mean_score'], y=labeled_data['std_score'],hue=labeled_data['label'],s=5,alpha=0.7)\n",
    "    plt.title('Distributions of Detections of %s'%title)\n",
    "    # plt.xlabel(\"Mean of Scores\")\n",
    "    plt.ylabel(\"Standard Deviation of Scores\", rotation=270, labelpad=20)\n",
    "    plt.ylim([0,5])\n",
    "    plt.xlim([-25,15])\n",
    "    plt.vlines(-1.5,ymin=0,ymax=5,ls='--',colors='k',label='Negative-unsure threshold')\n",
    "    plt.vlines(1.5,ymin=0,ymax=5,ls='--',colors='k',label='Sure-unsure threshold')\n",
    "    plt.text(0, 0.3, 'Unsure', ha='center', va='center')\n",
    "    plt.text(8.25, 0.3, 'Sure', ha='center', va='center')\n",
    "    plt.text(-8.25, 0.3, 'Negative', ha='center', va='center')\n",
    "    legend = plt.legend(loc='upper right')\n",
    "    legend.get_frame().set_alpha(0.5)\n",
    "    plt.grid()\n",
    "    plt.gca().spines['left'].set_color('red')\n",
    "    # plt.savefig(f'/scratch/k1qian/Output/{title}_Distribution.eps', format='eps')\n",
    "    plt.show()\n",
    "        "
   ]
  },
  {
   "cell_type": "markdown",
   "metadata": {},
   "source": [
    "## Detector 1\n",
    "\n",
    "Use unaided annotations from DK55 as the training set."
   ]
  },
  {
   "cell_type": "code",
   "execution_count": null,
   "metadata": {},
   "outputs": [],
   "source": [
    "generator = CellDetectorTrainerDK55('DK55',round=2,segmentation_threshold=2000)\n",
    "train_features = generator.load_refined_original_feature()"
   ]
  },
  {
   "cell_type": "code",
   "execution_count": null,
   "metadata": {},
   "outputs": [],
   "source": [
    "len(train_features)"
   ]
  },
  {
   "cell_type": "code",
   "execution_count": null,
   "metadata": {},
   "outputs": [],
   "source": [
    "trainer = CellDetectorTrainer('DK55',round=1)\n",
    "new_models = trainer.train_classifier(train_features,676,3) # training iteration = 676, depth of XGBoost trees = 3\n",
    "trainer.save_models(new_models)"
   ]
  },
  {
   "cell_type": "code",
   "execution_count": null,
   "metadata": {},
   "outputs": [],
   "source": [
    "detector = CellDetector('DK41',round=1)\n",
    "# detector.detector.model = pkl.load(open('/scratch/k1qian/Cell_Detectors/detectors_new.pkl', 'rb'))\n",
    "detector.calculate_and_save_detection_results()\n"
   ]
  },
  {
   "cell_type": "code",
   "execution_count": null,
   "metadata": {},
   "outputs": [],
   "source": [
    "detections = detector.load_detections()\n",
    "sures = detections[detections.predictions==2]\n",
    "unsures = detections[detections.predictions==0]\n",
    "len(sures),len(unsures)"
   ]
  },
  {
   "cell_type": "code",
   "execution_count": null,
   "metadata": {},
   "outputs": [],
   "source": [
    "generator = CellDetectorTrainerDK55('DK55',round=2,disk = '/net/birdstore/Active_Atlas_Data/')\n",
    "train_features = generator.load_refined_original_feature()"
   ]
  },
  {
   "cell_type": "code",
   "execution_count": null,
   "metadata": {},
   "outputs": [],
   "source": [
    "detector = CellDetector('DK55',round=1,disk = '/net/birdstore/Active_Atlas_Data/')\n",
    "detector.detector = pkl.load(open('/net/birdstore/Active_Atlas_Data/cell_segmentation/detectors/detector_round_1.pkl', 'rb'))\n",
    "scores,labels,_mean,_std = detector.detector.calculate_scores(train_features)\n",
    "train_features['mean_score'],train_features['std_score'] = _mean,_std"
   ]
  },
  {
   "cell_type": "markdown",
   "metadata": {},
   "source": [
    "## Prepare training samples for Detector 2"
   ]
  },
  {
   "cell_type": "code",
   "execution_count": null,
   "metadata": {},
   "outputs": [],
   "source": [
    "detector = CellDetector('DK55',round=1)\n",
    "scores,labels,_mean,_std = detector.detector.calculate_scores(train_features)\n",
    "train_features['mean_score'],train_features['std_score'] = _mean,_std"
   ]
  },
  {
   "cell_type": "code",
   "execution_count": null,
   "metadata": {},
   "outputs": [],
   "source": [
    "train_features.head()"
   ]
  },
  {
   "cell_type": "code",
   "execution_count": null,
   "metadata": {},
   "outputs": [],
   "source": [
    "train_features[(train_features['mean_score']>1.5) & (train_features['label']==1)]"
   ]
  },
  {
   "cell_type": "code",
   "execution_count": null,
   "metadata": {},
   "outputs": [],
   "source": [
    "detections = detector.load_detections()\n",
    "sures = detections[detections.predictions==2]\n",
    "unsures = detections[detections.predictions==0]\n",
    "len(sures),len(unsures)"
   ]
  },
  {
   "cell_type": "code",
   "execution_count": null,
   "metadata": {},
   "outputs": [],
   "source": [
    "features = detector.get_combined_features_for_detection()\n",
    "scores,labels,_mean,_std = detector.detector.calculate_scores(features)"
   ]
  },
  {
   "cell_type": "code",
   "execution_count": null,
   "metadata": {},
   "outputs": [],
   "source": [
    "detection_df = detector.get_combined_features()\n",
    "detection_df['mean_score'],detection_df['std_score'] = _mean,_std\n",
    "all_segment = np.array([detection_df.col,detection_df.row,detection_df.section]).T"
   ]
  },
  {
   "cell_type": "code",
   "execution_count": null,
   "metadata": {},
   "outputs": [],
   "source": [
    "test_counts,train_sections = pkl.load(open('/net/birdstore/Active_Atlas_Data/cell_segmentation/DK55/features/categories_round1.pkl','rb'))\n",
    "original = train_sections['original training set after mind change']\n",
    "original = np.array([[ci[1]['x'],ci[1]['y'],ci[1]['section']] for ci in original])\n",
    "original_index = generator.find_cloest_neighbor_among_points(all_segment,original)"
   ]
  },
  {
   "cell_type": "code",
   "execution_count": null,
   "metadata": {},
   "outputs": [],
   "source": [
    "neg = 'DK55_premotor_manual_negative_round1_2021-12-09.csv'\n",
    "pos = 'DK55_premotor_manual_positive_round1_2021-12-09.csv'\n",
    "neg = pd.read_csv(neg,header=None).to_numpy()\n",
    "pos = pd.read_csv(pos,header=None).to_numpy()\n",
    "positive = generator.find_cloest_neighbor_among_points(all_segment,pos)\n",
    "negative = generator.find_cloest_neighbor_among_points(all_segment,neg)\n",
    "len(positive),len(negative)"
   ]
  },
  {
   "cell_type": "code",
   "execution_count": null,
   "metadata": {},
   "outputs": [],
   "source": [
    "sure = list(detection_df[detection_df['mean_score']>1.5].index)"
   ]
  },
  {
   "cell_type": "code",
   "execution_count": null,
   "metadata": {},
   "outputs": [],
   "source": [
    "len(list(set(sure).difference(set(original_index+positive+negative))))"
   ]
  },
  {
   "cell_type": "code",
   "execution_count": null,
   "metadata": {},
   "outputs": [],
   "source": [
    "len(list(set(sure) & set(original_index+positive+negative)))"
   ]
  },
  {
   "cell_type": "code",
   "execution_count": null,
   "metadata": {},
   "outputs": [],
   "source": [
    "len(set(sure_id+original_index+positive)), len(sure_id+original_index+positive)"
   ]
  },
  {
   "cell_type": "code",
   "execution_count": null,
   "metadata": {},
   "outputs": [],
   "source": [
    "sure_id = [index for index in sure if index not in original_index+positive+negative]\n",
    "dirs=glob('/net/birdstore/Active_Atlas_Data/cell_segmentation/DK55/CH3/*/DK55*.csv') \n",
    "manual_sections = [int(i.split('/')[-2]) for i in dirs]\n",
    "labels = np.zeros(len(features))\n",
    "positive_index = sure_id+original_index+positive\n",
    "for i in positive_index:\n",
    "    labels[i] = 1\n",
    "include = [labels[i]==1 or i in negative or all_segment[i,2] in manual_sections for i in range(len(features))]\n"
   ]
  },
  {
   "cell_type": "code",
   "execution_count": null,
   "metadata": {},
   "outputs": [],
   "source": [
    "features['label'] = labels"
   ]
  },
  {
   "cell_type": "code",
   "execution_count": null,
   "metadata": {},
   "outputs": [],
   "source": [
    "detection_df['label'] = labels"
   ]
  },
  {
   "cell_type": "code",
   "execution_count": null,
   "metadata": {},
   "outputs": [],
   "source": [
    "train_features_r2 = features[include]"
   ]
  },
  {
   "cell_type": "code",
   "execution_count": null,
   "metadata": {},
   "outputs": [],
   "source": [
    "train_features_r2"
   ]
  },
  {
   "cell_type": "code",
   "execution_count": null,
   "metadata": {},
   "outputs": [],
   "source": [
    "pkl.dump(train_features_r2, open('/scratch/k1qian/TrainingData_v2/round2_training_features.pkl', 'wb'))"
   ]
  },
  {
   "cell_type": "markdown",
   "metadata": {},
   "source": [
    "## Detector 2"
   ]
  },
  {
   "cell_type": "code",
   "execution_count": null,
   "metadata": {},
   "outputs": [],
   "source": [
    "trainer = CellDetectorTrainer('DK55',round=2)\n",
    "new_models = trainer.train_classifier(train_features_r2,676,3)\n",
    "trainer.save_models(new_models)"
   ]
  },
  {
   "cell_type": "code",
   "execution_count": null,
   "metadata": {},
   "outputs": [],
   "source": [
    "detector = CellDetector('DK41',round=2)\n",
    "# detector.detector.model = pkl.load(open('/scratch/k1qian/Cell_Detectors/detectors_new.pkl', 'rb'))\n",
    "detector.calculate_and_save_detection_results()"
   ]
  },
  {
   "cell_type": "code",
   "execution_count": null,
   "metadata": {},
   "outputs": [],
   "source": [
    "detector = CellDetector('DK41',round=2)"
   ]
  },
  {
   "cell_type": "code",
   "execution_count": null,
   "metadata": {},
   "outputs": [],
   "source": [
    "detections = detector.load_detections()\n",
    "sures = detections[detections.predictions==2]\n",
    "unsures = detections[detections.predictions==0]\n",
    "len(sures),len(unsures)"
   ]
  },
  {
   "cell_type": "code",
   "execution_count": null,
   "metadata": {},
   "outputs": [],
   "source": [
    "train_features_r2 = pkl.load(open('/scratch/k1qian/TrainingData_v2/round2_training_features.pkl', 'rb'))"
   ]
  },
  {
   "cell_type": "code",
   "execution_count": null,
   "metadata": {},
   "outputs": [],
   "source": [
    "detector = CellDetector('DK55',round=2)\n",
    "scores,labels,_mean,_std = detector.detector.calculate_scores(train_features_r2)\n",
    "train_features_r2['mean_score'],train_features_r2['std_score'] = _mean,_std"
   ]
  },
  {
   "cell_type": "code",
   "execution_count": null,
   "metadata": {},
   "outputs": [],
   "source": [
    "detection_plot(detections, train_features_r2, 'Detector2')"
   ]
  },
  {
   "cell_type": "markdown",
   "metadata": {},
   "source": [
    "## Detector 3"
   ]
  },
  {
   "cell_type": "code",
   "execution_count": null,
   "metadata": {},
   "outputs": [],
   "source": [
    "train_features = pkl.load(open('/scratch/k1qian/TrainingData_v2/round2_training_features.pkl', 'rb'))\n",
    "features = pkl.load(open('/scratch/k1qian/TrainingData_v2/round3_training_features.pkl', 'rb'))\n",
    "train_features_r3 = pd.concat([features,train_features])"
   ]
  },
  {
   "cell_type": "code",
   "execution_count": null,
   "metadata": {},
   "outputs": [],
   "source": [
    "trainer = CellDetectorTrainer('DK41',round=3)\n",
    "new_models = trainer.train_classifier(train_features_r3,676,3)\n",
    "trainer.save_models(new_models)"
   ]
  },
  {
   "cell_type": "code",
   "execution_count": null,
   "metadata": {},
   "outputs": [],
   "source": [
    "detector = CellDetector('DK62',round=3)\n",
    "# detector.detector.model = pkl.load(open('/scratch/k1qian/Cell_Detectors/detectors_new.pkl', 'rb'))\n",
    "detector.calculate_and_save_detection_results()"
   ]
  },
  {
   "cell_type": "code",
   "execution_count": null,
   "metadata": {},
   "outputs": [],
   "source": [
    "detections = detector.load_detections()\n",
    "sures = detections[detections.predictions==2]\n",
    "unsures = detections[detections.predictions==0]\n",
    "len(sures),len(unsures)"
   ]
  },
  {
   "cell_type": "code",
   "execution_count": null,
   "metadata": {},
   "outputs": [],
   "source": [
    "detector = CellDetector('DK41',round=3)\n",
    "scores,labels,_mean,_std = detector.detector.calculate_scores(features)\n",
    "features['mean_score'],features['std_score'] = _mean,_std"
   ]
  },
  {
   "cell_type": "code",
   "execution_count": null,
   "metadata": {},
   "outputs": [],
   "source": [
    "detection_plot(detections, features, 'Detector3')"
   ]
  },
  {
   "cell_type": "markdown",
   "metadata": {},
   "source": [
    "## Detector 4"
   ]
  },
  {
   "cell_type": "code",
   "execution_count": null,
   "metadata": {},
   "outputs": [],
   "source": [
    "train_features = pkl.load(open('/scratch/k1qian/TrainingData_v2/round2_training_features.pkl', 'rb'))\n",
    "features = pkl.load(open('/scratch/k1qian/TrainingData_v2/round3_training_features.pkl', 'rb'))\n",
    "train_features = pd.concat([features,train_features])\n",
    "features = pkl.load(open('/scratch/k1qian/TrainingData_v2/round4_training_features.pkl','rb'))\n",
    "train_features_r4 = pd.concat([features,train_features])"
   ]
  },
  {
   "cell_type": "code",
   "execution_count": null,
   "metadata": {},
   "outputs": [],
   "source": [
    "trainer = CellDetectorTrainer('DK41',round=4)\n",
    "new_models = trainer.train_classifier(train_features_r4,676,3)\n",
    "trainer.save_models(new_models)"
   ]
  },
  {
   "cell_type": "code",
   "execution_count": null,
   "metadata": {},
   "outputs": [],
   "source": [
    "detector = CellDetector('DK62',round=4)\n",
    "# detector.detector.model = pkl.load(open('/scratch/k1qian/Cell_Detectors/detectors_new.pkl', 'rb'))\n",
    "detector.calculate_and_save_detection_results()"
   ]
  },
  {
   "cell_type": "markdown",
   "metadata": {},
   "source": [
    "## Detector 5"
   ]
  },
  {
   "cell_type": "code",
   "execution_count": null,
   "metadata": {},
   "outputs": [],
   "source": [
    "old_train_features = pkl.load(open('/scratch/k1qian/TrainingData_v2/round2_training_features.pkl','rb'))\n",
    "train_features = pkl.load(open('/scratch/k1qian/TrainingData_v2/round3_training_features.pkl','rb'))\n",
    "train_features = pd.concat([old_train_features,train_features])\n",
    "nega_features = pkl.load(open('/scratch/k1qian/TrainingData_v2/round4_training_features.pkl','rb'))\n",
    "train_features = pd.concat([train_features,nega_features])\n",
    "qc_features = pkl.load(open('/scratch/k1qian/TrainingData_v2/DK62_QC_features.pkl','rb'))\n",
    "qc_features = pd.concat([qc_features]*4)\n",
    "train_features = pd.concat([train_features,qc_features])\n",
    "beth_features = pkl.load(open('/scratch/k1qian/TrainingData_v2/DK62_beth_features.pkl','rb'))\n",
    "train_features = pd.concat([train_features,beth_features])\n"
   ]
  },
  {
   "cell_type": "code",
   "execution_count": null,
   "metadata": {},
   "outputs": [],
   "source": [
    "trainer = CellDetectorTrainer('DK41',round=5)\n",
    "new_models = trainer.train_classifier(train_features,676,3)\n",
    "trainer.save_models(new_models)"
   ]
  },
  {
   "cell_type": "code",
   "execution_count": null,
   "metadata": {},
   "outputs": [],
   "source": [
    "detector = CellDetector('DK62',round=5)\n",
    "# detector.detector.model = pkl.load(open('/scratch/k1qian/Cell_Detectors/detectors_new.pkl', 'rb'))\n",
    "detector.calculate_and_save_detection_results()"
   ]
  },
  {
   "cell_type": "code",
   "execution_count": null,
   "metadata": {},
   "outputs": [],
   "source": [
    "detections = detector.load_detections()\n",
    "sures = detections[detections.predictions==2]\n",
    "unsures = detections[detections.predictions==0]\n",
    "len(sures),len(unsures)"
   ]
  },
  {
   "cell_type": "markdown",
   "metadata": {},
   "source": [
    "## Detector 6"
   ]
  },
  {
   "cell_type": "code",
   "execution_count": null,
   "metadata": {},
   "outputs": [],
   "source": [
    "old_train_features = pkl.load(open('/scratch/k1qian/TrainingData_v2/round2_training_features.pkl','rb'))\n",
    "train_features = pkl.load(open('/scratch/k1qian/TrainingData_v2/round3_training_features.pkl','rb'))\n",
    "train_features = pd.concat([old_train_features,train_features])\n",
    "nega_features = pkl.load(open('/scratch/k1qian/TrainingData_v2/round4_training_features.pkl','rb'))\n",
    "train_features = pd.concat([train_features,nega_features])\n",
    "qc_features = pkl.load(open('/scratch/k1qian/TrainingData_v2/DK62_QC_features.pkl','rb'))\n",
    "qc_features = pd.concat([qc_features]*4)\n",
    "train_features = pd.concat([train_features,qc_features])\n",
    "beth_features = pkl.load(open('/scratch/k1qian/TrainingData_v2/DK62_beth_features.pkl','rb'))\n",
    "train_features = pd.concat([train_features,beth_features])\n",
    "qc_features = pkl.load(open('/scratch/k1qian/TrainingData_v2/DK50_QC_features.pkl','rb'))\n",
    "qc_features = pd.concat([qc_features]*4)\n",
    "train_features = pd.concat([train_features,qc_features])\n",
    "beth_features = pkl.load(open('/scratch/k1qian/TrainingData_v2/DK50_beth_features.pkl','rb'))\n",
    "train_features = pd.concat([train_features,beth_features])\n"
   ]
  },
  {
   "cell_type": "code",
   "execution_count": null,
   "metadata": {},
   "outputs": [],
   "source": [
    "trainer = CellDetectorTrainer('DK41',round=6)\n",
    "new_models = trainer.train_classifier(train_features,676,3)\n",
    "trainer.save_models(new_models)"
   ]
  },
  {
   "cell_type": "code",
   "execution_count": null,
   "metadata": {},
   "outputs": [],
   "source": [
    "detector = CellDetector('DK62',round=6)\n",
    "# detector.detector.model = pkl.load(open('/scratch/k1qian/Cell_Detectors/detectors_new.pkl', 'rb'))\n",
    "detector.calculate_and_save_detection_results()"
   ]
  },
  {
   "cell_type": "code",
   "execution_count": null,
   "metadata": {},
   "outputs": [],
   "source": [
    "detections = detector.load_detections()\n",
    "sures = detections[detections.predictions==2]\n",
    "unsures = detections[detections.predictions==0]\n",
    "len(sures),len(unsures)"
   ]
  },
  {
   "cell_type": "code",
   "execution_count": null,
   "metadata": {},
   "outputs": [],
   "source": []
  }
 ],
 "metadata": {
  "kernelspec": {
   "display_name": "Python 3 (ipykernel)",
   "language": "python",
   "name": "python3"
  },
  "language_info": {
   "codemirror_mode": {
    "name": "ipython",
    "version": 3
   },
   "file_extension": ".py",
   "mimetype": "text/x-python",
   "name": "python",
   "nbconvert_exporter": "python",
   "pygments_lexer": "ipython3",
   "version": "3.10.12"
  }
 },
 "nbformat": 4,
 "nbformat_minor": 2
}
