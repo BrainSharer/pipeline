{
 "cells": [
  {
   "cell_type": "code",
   "execution_count": 8,
   "metadata": {},
   "outputs": [
    {
     "name": "stdout",
     "output_type": "stream",
     "text": [
      "/media/alexn/Data_2/Neuroglancer_Files/Neuroglancer_Volumes/Matrix/MD585/human_annotation/combined_volume/wholebrain_xy5um_z20um/color_1_thickness_x_offset_0/volume_colored.npy\n"
     ]
    }
   ],
   "source": [
    "# import easygui\n",
    "# print( easygui.fileopenbox() )"
   ]
  },
  {
   "cell_type": "code",
   "execution_count": 1,
   "metadata": {},
   "outputs": [],
   "source": [
    "import numpy as np\n",
    "import pickle as pkl\n",
    "import boto3\n",
    "import sys\n",
    "import os\n",
    "\n",
    "import json\n",
    "import pathlib\n",
    "from neuroglancer_scripts.scripts import (generate_scales_info,\n",
    "                                          slices_to_precomputed,\n",
    "                                          compute_scales, volume_to_precomputed)\n",
    "import nibabel as nib\n",
    "import re\n",
    "\n",
    "\n",
    "sys.path.append(os.path.join( os.environ['NG_REPO_DIR'], 'src', 'utilities'))\n",
    "from filepath_manager import *"
   ]
  },
  {
   "cell_type": "code",
   "execution_count": 27,
   "metadata": {},
   "outputs": [],
   "source": [
    "# s3_creds_file = '/mnt/c/Users/Alex/Documents/json_credentials/alex_aws_credentials.json'\n",
    "# bucket_name = 'test-bucket-sid'"
   ]
  },
  {
   "cell_type": "code",
   "execution_count": 2,
   "metadata": {},
   "outputs": [
    {
     "data": {
      "text/plain": [
       "'/media/alexn/Data_2/Neuroglancer_Files/Neuroglancer_Volumes/Matrix/MD585/human_annotation/combined_volume/brainstem_xy5um_z20um/color_1_thickness_1_offset_0/'"
      ]
     },
     "execution_count": 2,
     "metadata": {},
     "output_type": "execute_result"
    }
   ],
   "source": [
    "stack = 'MD585'\n",
    "xy_res=5\n",
    "z_res=20\n",
    "\n",
    "source_dir = get_volume_fp( stack, precomputed=False, human_annotated=True, volume_type='combined', brain_crop='brainstem', \\\n",
    "                xy_res=xy_res, z_res=z_res, offset=False, color_scheme=1, thickness_scheme=1, structure=None ) + \\\n",
    "                'volume_colored.npy'\n",
    "\n",
    "out_dir = get_volume_fp( stack, precomputed=True, human_annotated=True, volume_type='combined', brain_crop='brainstem', \\\n",
    "                  xy_res=xy_res, z_res=z_res, offset=False, color_scheme=1, thickness_scheme=1, structure=None )\n",
    "ni_out = out_dir + 'vol_color.nii'"
   ]
  },
  {
   "cell_type": "code",
   "execution_count": 30,
   "metadata": {},
   "outputs": [],
   "source": [
    "vol_m = np.load(source_dir)\n",
    "\n",
    "! mkdir $out_dir\n",
    "\n",
    "vol_m = np.swapaxes(vol_m,0,2)\n",
    "print(vol_m.shape)\n",
    "\n",
    "z_res_mm = z_res*0.001\n",
    "xy_res_mm = xy_res*0.001\n",
    "vol_img = nib.Nifti1Image(vol_m, affine=np.array(\\\n",
    "      [[ xy_res_mm, 0.,         0.,        0.],\\\n",
    "       [ 0.,        xy_res_mm,  0.,        0.],\\\n",
    "       [ 0.,        0.,         z_res_mm,  0.],\\\n",
    "       [ 0.,        0.,         0.,        1.]]))\n",
    "nib.save(vol_img, ni_out)\n",
    "\n",
    "volume_to_precomputed.main(['', ni_out, out_dir, '--generate-info', '--no-gzip'])"
   ]
  },
  {
   "cell_type": "code",
   "execution_count": 33,
   "metadata": {},
   "outputs": [],
   "source": [
    "with open(os.path.join(os.path.join(out_dir, 'info_fullres.json')), 'r') as info_file:\n",
    "    info = json.load(info_file)\n",
    "\n",
    "info[\"type\"] = \"segmentation\"\n",
    "\n",
    "with open(os.path.join(os.path.join(out_dir, 'info_fullres.json')), 'w') as info_file:\n",
    "    json.dump(info, info_file)"
   ]
  },
  {
   "cell_type": "code",
   "execution_count": 34,
   "metadata": {},
   "outputs": [
    {
     "data": {
      "text/plain": [
       "0"
      ]
     },
     "execution_count": 34,
     "metadata": {},
     "output_type": "execute_result"
    },
    {
     "name": "stderr",
     "output_type": "stream",
     "text": [
      "\n",
      "writing: 100%|██████████| 150/150 [00:57<00:00, 11.28chunks/s]\u001b[A"
     ]
    }
   ],
   "source": [
    "generate_scales_info.main(['', os.path.join(out_dir, 'info_fullres.json'),  '--encoding' , 'compressed_segmentation',\n",
    "                           out_dir, '--max-scales', '1', '--target-chunk-size', '128'])\n",
    "\n",
    "volume_to_precomputed.main(['', ni_out, out_dir, '--flat', '--no-gzip'])"
   ]
  },
  {
   "cell_type": "code",
   "execution_count": 40,
   "metadata": {},
   "outputs": [
    {
     "name": "stdout",
     "output_type": "stream",
     "text": [
      "upload: ../../../../../../mnt/x/temp_s3_download/volumes/precomputed/MD589/5um/0-256_1024-1099_256-288 to s3://test-bucket-sid/final_precomputed_volumes/MD589/5um/0-256_1024-1099_256-288\n",
      "upload: ../../../../../../mnt/x/temp_s3_download/volumes/precomputed/MD589/5um/0-256_1024-1099_0-64 to s3://test-bucket-sid/final_precomputed_volumes/MD589/5um/0-256_1024-1099_0-64\n",
      "upload: ../../../../../../mnt/x/temp_s3_download/volumes/precomputed/MD589/5um/0-256_1024-1099_128-192 to s3://test-bucket-sid/final_precomputed_volumes/MD589/5um/0-256_1024-1099_128-192\n",
      "upload: ../../../../../../mnt/x/temp_s3_download/volumes/precomputed/MD589/5um/0-256_1024-1099_192-256 to s3://test-bucket-sid/final_precomputed_volumes/MD589/5um/0-256_1024-1099_192-256\n",
      "upload: ../../../../../../mnt/x/temp_s3_download/volumes/precomputed/MD589/5um/0-256_1024-1099_64-128 to s3://test-bucket-sid/final_precomputed_volumes/MD589/5um/0-256_1024-1099_64-128\n",
      "upload: ../../../../../../mnt/x/temp_s3_download/volumes/precomputed/MD589/5um/0-256_0-256_256-288 to s3://test-bucket-sid/final_precomputed_volumes/MD589/5um/0-256_0-256_256-288\n",
      "upload: ../../../../../../mnt/x/temp_s3_download/volumes/precomputed/MD589/5um/0-256_0-256_0-64 to s3://test-bucket-sid/final_precomputed_volumes/MD589/5um/0-256_0-256_0-64\n",
      "upload: ../../../../../../mnt/x/temp_s3_download/volumes/precomputed/MD589/5um/0-256_0-256_64-128 to s3://test-bucket-sid/final_precomputed_volumes/MD589/5um/0-256_0-256_64-128\n",
      "upload: ../../../../../../mnt/x/temp_s3_download/volumes/precomputed/MD589/5um/0-256_0-256_192-256 to s3://test-bucket-sid/final_precomputed_volumes/MD589/5um/0-256_0-256_192-256\n",
      "upload: ../../../../../../mnt/x/temp_s3_download/volumes/precomputed/MD589/5um/0-256_0-256_128-192 to s3://test-bucket-sid/final_precomputed_volumes/MD589/5um/0-256_0-256_128-192\n",
      "upload: ../../../../../../mnt/x/temp_s3_download/volumes/precomputed/MD589/5um/0-256_256-512_0-64 to s3://test-bucket-sid/final_precomputed_volumes/MD589/5um/0-256_256-512_0-64\n",
      "upload: ../../../../../../mnt/x/temp_s3_download/volumes/precomputed/MD589/5um/0-256_256-512_256-288 to s3://test-bucket-sid/final_precomputed_volumes/MD589/5um/0-256_256-512_256-288\n",
      "upload: ../../../../../../mnt/x/temp_s3_download/volumes/precomputed/MD589/5um/0-256_512-768_128-192 to s3://test-bucket-sid/final_precomputed_volumes/MD589/5um/0-256_512-768_128-192\n",
      "upload: ../../../../../../mnt/x/temp_s3_download/volumes/precomputed/MD589/5um/0-256_256-512_128-192 to s3://test-bucket-sid/final_precomputed_volumes/MD589/5um/0-256_256-512_128-192\n",
      "upload: ../../../../../../mnt/x/temp_s3_download/volumes/precomputed/MD589/5um/0-256_256-512_192-256 to s3://test-bucket-sid/final_precomputed_volumes/MD589/5um/0-256_256-512_192-256\n",
      "upload: ../../../../../../mnt/x/temp_s3_download/volumes/precomputed/MD589/5um/0-256_256-512_64-128 to s3://test-bucket-sid/final_precomputed_volumes/MD589/5um/0-256_256-512_64-128\n",
      "upload: ../../../../../../mnt/x/temp_s3_download/volumes/precomputed/MD589/5um/0-256_512-768_0-64 to s3://test-bucket-sid/final_precomputed_volumes/MD589/5um/0-256_512-768_0-64\n",
      "upload: ../../../../../../mnt/x/temp_s3_download/volumes/precomputed/MD589/5um/0-256_512-768_256-288 to s3://test-bucket-sid/final_precomputed_volumes/MD589/5um/0-256_512-768_256-288\n",
      "upload: ../../../../../../mnt/x/temp_s3_download/volumes/precomputed/MD589/5um/0-256_512-768_192-256 to s3://test-bucket-sid/final_precomputed_volumes/MD589/5um/0-256_512-768_192-256\n",
      "upload: ../../../../../../mnt/x/temp_s3_download/volumes/precomputed/MD589/5um/0-256_768-1024_0-64 to s3://test-bucket-sid/final_precomputed_volumes/MD589/5um/0-256_768-1024_0-64\n",
      "upload: ../../../../../../mnt/x/temp_s3_download/volumes/precomputed/MD589/5um/0-256_768-1024_128-192 to s3://test-bucket-sid/final_precomputed_volumes/MD589/5um/0-256_768-1024_128-192\n",
      "upload: ../../../../../../mnt/x/temp_s3_download/volumes/precomputed/MD589/5um/0-256_768-1024_192-256 to s3://test-bucket-sid/final_precomputed_volumes/MD589/5um/0-256_768-1024_192-256\n",
      "upload: ../../../../../../mnt/x/temp_s3_download/volumes/precomputed/MD589/5um/0-256_768-1024_256-288 to s3://test-bucket-sid/final_precomputed_volumes/MD589/5um/0-256_768-1024_256-288\n",
      "upload: ../../../../../../mnt/x/temp_s3_download/volumes/precomputed/MD589/5um/1024-1280_0-256_128-192 to s3://test-bucket-sid/final_precomputed_volumes/MD589/5um/1024-1280_0-256_128-192\n",
      "upload: ../../../../../../mnt/x/temp_s3_download/volumes/precomputed/MD589/5um/1024-1280_0-256_0-64 to s3://test-bucket-sid/final_precomputed_volumes/MD589/5um/1024-1280_0-256_0-64\n",
      "upload: ../../../../../../mnt/x/temp_s3_download/volumes/precomputed/MD589/5um/1024-1280_0-256_192-256 to s3://test-bucket-sid/final_precomputed_volumes/MD589/5um/1024-1280_0-256_192-256\n",
      "upload: ../../../../../../mnt/x/temp_s3_download/volumes/precomputed/MD589/5um/1024-1280_0-256_256-288 to s3://test-bucket-sid/final_precomputed_volumes/MD589/5um/1024-1280_0-256_256-288\n",
      "upload: ../../../../../../mnt/x/temp_s3_download/volumes/precomputed/MD589/5um/0-256_768-1024_64-128 to s3://test-bucket-sid/final_precomputed_volumes/MD589/5um/0-256_768-1024_64-128\n",
      "upload: ../../../../../../mnt/x/temp_s3_download/volumes/precomputed/MD589/5um/1024-1280_0-256_64-128 to s3://test-bucket-sid/final_precomputed_volumes/MD589/5um/1024-1280_0-256_64-128\n",
      "upload: ../../../../../../mnt/x/temp_s3_download/volumes/precomputed/MD589/5um/1024-1280_1024-1099_0-64 to s3://test-bucket-sid/final_precomputed_volumes/MD589/5um/1024-1280_1024-1099_0-64\n",
      "upload: ../../../../../../mnt/x/temp_s3_download/volumes/precomputed/MD589/5um/1024-1280_1024-1099_256-288 to s3://test-bucket-sid/final_precomputed_volumes/MD589/5um/1024-1280_1024-1099_256-288\n",
      "upload: ../../../../../../mnt/x/temp_s3_download/volumes/precomputed/MD589/5um/1024-1280_1024-1099_128-192 to s3://test-bucket-sid/final_precomputed_volumes/MD589/5um/1024-1280_1024-1099_128-192\n",
      "upload: ../../../../../../mnt/x/temp_s3_download/volumes/precomputed/MD589/5um/1024-1280_1024-1099_192-256 to s3://test-bucket-sid/final_precomputed_volumes/MD589/5um/1024-1280_1024-1099_192-256\n",
      "upload: ../../../../../../mnt/x/temp_s3_download/volumes/precomputed/MD589/5um/1024-1280_1024-1099_64-128 to s3://test-bucket-sid/final_precomputed_volumes/MD589/5um/1024-1280_1024-1099_64-128\n",
      "upload: ../../../../../../mnt/x/temp_s3_download/volumes/precomputed/MD589/5um/1024-1280_256-512_128-192 to s3://test-bucket-sid/final_precomputed_volumes/MD589/5um/1024-1280_256-512_128-192\n",
      "upload: ../../../../../../mnt/x/temp_s3_download/volumes/precomputed/MD589/5um/1024-1280_256-512_0-64 to s3://test-bucket-sid/final_precomputed_volumes/MD589/5um/1024-1280_256-512_0-64\n",
      "upload: ../../../../../../mnt/x/temp_s3_download/volumes/precomputed/MD589/5um/1024-1280_256-512_192-256 to s3://test-bucket-sid/final_precomputed_volumes/MD589/5um/1024-1280_256-512_192-256\n",
      "upload: ../../../../../../mnt/x/temp_s3_download/volumes/precomputed/MD589/5um/1024-1280_256-512_256-288 to s3://test-bucket-sid/final_precomputed_volumes/MD589/5um/1024-1280_256-512_256-288\n",
      "upload: ../../../../../../mnt/x/temp_s3_download/volumes/precomputed/MD589/5um/1024-1280_256-512_64-128 to s3://test-bucket-sid/final_precomputed_volumes/MD589/5um/1024-1280_256-512_64-128\n",
      "upload: ../../../../../../mnt/x/temp_s3_download/volumes/precomputed/MD589/5um/1024-1280_512-768_192-256 to s3://test-bucket-sid/final_precomputed_volumes/MD589/5um/1024-1280_512-768_192-256\n",
      "upload: ../../../../../../mnt/x/temp_s3_download/volumes/precomputed/MD589/5um/1024-1280_512-768_128-192 to s3://test-bucket-sid/final_precomputed_volumes/MD589/5um/1024-1280_512-768_128-192\n",
      "upload: ../../../../../../mnt/x/temp_s3_download/volumes/precomputed/MD589/5um/1024-1280_512-768_0-64 to s3://test-bucket-sid/final_precomputed_volumes/MD589/5um/1024-1280_512-768_0-64\n",
      "upload: ../../../../../../mnt/x/temp_s3_download/volumes/precomputed/MD589/5um/1024-1280_512-768_256-288 to s3://test-bucket-sid/final_precomputed_volumes/MD589/5um/1024-1280_512-768_256-288\n",
      "upload: ../../../../../../mnt/x/temp_s3_download/volumes/precomputed/MD589/5um/0-256_512-768_64-128 to s3://test-bucket-sid/final_precomputed_volumes/MD589/5um/0-256_512-768_64-128\n",
      "upload: ../../../../../../mnt/x/temp_s3_download/volumes/precomputed/MD589/5um/1024-1280_512-768_64-128 to s3://test-bucket-sid/final_precomputed_volumes/MD589/5um/1024-1280_512-768_64-128\n",
      "upload: ../../../../../../mnt/x/temp_s3_download/volumes/precomputed/MD589/5um/1024-1280_768-1024_0-64 to s3://test-bucket-sid/final_precomputed_volumes/MD589/5um/1024-1280_768-1024_0-64\n",
      "upload: ../../../../../../mnt/x/temp_s3_download/volumes/precomputed/MD589/5um/1024-1280_768-1024_192-256 to s3://test-bucket-sid/final_precomputed_volumes/MD589/5um/1024-1280_768-1024_192-256\n",
      "upload: ../../../../../../mnt/x/temp_s3_download/volumes/precomputed/MD589/5um/1280-1429_0-256_0-64 to s3://test-bucket-sid/final_precomputed_volumes/MD589/5um/1280-1429_0-256_0-64\n",
      "upload: ../../../../../../mnt/x/temp_s3_download/volumes/precomputed/MD589/5um/1024-1280_768-1024_64-128 to s3://test-bucket-sid/final_precomputed_volumes/MD589/5um/1024-1280_768-1024_64-128\n",
      "upload: ../../../../../../mnt/x/temp_s3_download/volumes/precomputed/MD589/5um/1280-1429_0-256_128-192 to s3://test-bucket-sid/final_precomputed_volumes/MD589/5um/1280-1429_0-256_128-192\n",
      "upload: ../../../../../../mnt/x/temp_s3_download/volumes/precomputed/MD589/5um/1280-1429_0-256_256-288 to s3://test-bucket-sid/final_precomputed_volumes/MD589/5um/1280-1429_0-256_256-288\n",
      "upload: ../../../../../../mnt/x/temp_s3_download/volumes/precomputed/MD589/5um/1280-1429_1024-1099_0-64 to s3://test-bucket-sid/final_precomputed_volumes/MD589/5um/1280-1429_1024-1099_0-64\n",
      "upload: ../../../../../../mnt/x/temp_s3_download/volumes/precomputed/MD589/5um/1280-1429_1024-1099_128-192 to s3://test-bucket-sid/final_precomputed_volumes/MD589/5um/1280-1429_1024-1099_128-192\n",
      "upload: ../../../../../../mnt/x/temp_s3_download/volumes/precomputed/MD589/5um/1024-1280_768-1024_128-192 to s3://test-bucket-sid/final_precomputed_volumes/MD589/5um/1024-1280_768-1024_128-192\n",
      "upload: ../../../../../../mnt/x/temp_s3_download/volumes/precomputed/MD589/5um/1280-1429_1024-1099_256-288 to s3://test-bucket-sid/final_precomputed_volumes/MD589/5um/1280-1429_1024-1099_256-288\n",
      "upload: ../../../../../../mnt/x/temp_s3_download/volumes/precomputed/MD589/5um/1280-1429_0-256_192-256 to s3://test-bucket-sid/final_precomputed_volumes/MD589/5um/1280-1429_0-256_192-256\n",
      "upload: ../../../../../../mnt/x/temp_s3_download/volumes/precomputed/MD589/5um/1280-1429_1024-1099_64-128 to s3://test-bucket-sid/final_precomputed_volumes/MD589/5um/1280-1429_1024-1099_64-128\n",
      "upload: ../../../../../../mnt/x/temp_s3_download/volumes/precomputed/MD589/5um/1280-1429_0-256_64-128 to s3://test-bucket-sid/final_precomputed_volumes/MD589/5um/1280-1429_0-256_64-128\n",
      "upload: ../../../../../../mnt/x/temp_s3_download/volumes/precomputed/MD589/5um/1280-1429_256-512_0-64 to s3://test-bucket-sid/final_precomputed_volumes/MD589/5um/1280-1429_256-512_0-64\n",
      "upload: ../../../../../../mnt/x/temp_s3_download/volumes/precomputed/MD589/5um/1280-1429_256-512_128-192 to s3://test-bucket-sid/final_precomputed_volumes/MD589/5um/1280-1429_256-512_128-192\n",
      "upload: ../../../../../../mnt/x/temp_s3_download/volumes/precomputed/MD589/5um/1280-1429_256-512_192-256 to s3://test-bucket-sid/final_precomputed_volumes/MD589/5um/1280-1429_256-512_192-256\n",
      "upload: ../../../../../../mnt/x/temp_s3_download/volumes/precomputed/MD589/5um/1280-1429_256-512_256-288 to s3://test-bucket-sid/final_precomputed_volumes/MD589/5um/1280-1429_256-512_256-288\n",
      "upload: ../../../../../../mnt/x/temp_s3_download/volumes/precomputed/MD589/5um/1280-1429_256-512_64-128 to s3://test-bucket-sid/final_precomputed_volumes/MD589/5um/1280-1429_256-512_64-128\n",
      "upload: ../../../../../../mnt/x/temp_s3_download/volumes/precomputed/MD589/5um/1280-1429_512-768_0-64 to s3://test-bucket-sid/final_precomputed_volumes/MD589/5um/1280-1429_512-768_0-64\n",
      "upload: ../../../../../../mnt/x/temp_s3_download/volumes/precomputed/MD589/5um/1280-1429_512-768_192-256 to s3://test-bucket-sid/final_precomputed_volumes/MD589/5um/1280-1429_512-768_192-256\n",
      "upload: ../../../../../../mnt/x/temp_s3_download/volumes/precomputed/MD589/5um/1280-1429_512-768_256-288 to s3://test-bucket-sid/final_precomputed_volumes/MD589/5um/1280-1429_512-768_256-288\n",
      "upload: ../../../../../../mnt/x/temp_s3_download/volumes/precomputed/MD589/5um/1280-1429_512-768_128-192 to s3://test-bucket-sid/final_precomputed_volumes/MD589/5um/1280-1429_512-768_128-192\n",
      "upload: ../../../../../../mnt/x/temp_s3_download/volumes/precomputed/MD589/5um/1280-1429_1024-1099_192-256 to s3://test-bucket-sid/final_precomputed_volumes/MD589/5um/1280-1429_1024-1099_192-256\n",
      "upload: ../../../../../../mnt/x/temp_s3_download/volumes/precomputed/MD589/5um/1280-1429_512-768_64-128 to s3://test-bucket-sid/final_precomputed_volumes/MD589/5um/1280-1429_512-768_64-128\n",
      "upload: ../../../../../../mnt/x/temp_s3_download/volumes/precomputed/MD589/5um/1280-1429_768-1024_0-64 to s3://test-bucket-sid/final_precomputed_volumes/MD589/5um/1280-1429_768-1024_0-64\n",
      "upload: ../../../../../../mnt/x/temp_s3_download/volumes/precomputed/MD589/5um/1024-1280_768-1024_256-288 to s3://test-bucket-sid/final_precomputed_volumes/MD589/5um/1024-1280_768-1024_256-288\n",
      "upload: ../../../../../../mnt/x/temp_s3_download/volumes/precomputed/MD589/5um/1280-1429_768-1024_128-192 to s3://test-bucket-sid/final_precomputed_volumes/MD589/5um/1280-1429_768-1024_128-192\n",
      "upload: ../../../../../../mnt/x/temp_s3_download/volumes/precomputed/MD589/5um/1280-1429_768-1024_192-256 to s3://test-bucket-sid/final_precomputed_volumes/MD589/5um/1280-1429_768-1024_192-256\n",
      "upload: ../../../../../../mnt/x/temp_s3_download/volumes/precomputed/MD589/5um/1280-1429_768-1024_64-128 to s3://test-bucket-sid/final_precomputed_volumes/MD589/5um/1280-1429_768-1024_64-128\n",
      "upload: ../../../../../../mnt/x/temp_s3_download/volumes/precomputed/MD589/5um/1280-1429_768-1024_256-288 to s3://test-bucket-sid/final_precomputed_volumes/MD589/5um/1280-1429_768-1024_256-288\n",
      "upload: ../../../../../../mnt/x/temp_s3_download/volumes/precomputed/MD589/5um/256-512_0-256_0-64 to s3://test-bucket-sid/final_precomputed_volumes/MD589/5um/256-512_0-256_0-64\n",
      "upload: ../../../../../../mnt/x/temp_s3_download/volumes/precomputed/MD589/5um/256-512_0-256_128-192 to s3://test-bucket-sid/final_precomputed_volumes/MD589/5um/256-512_0-256_128-192\n",
      "upload: ../../../../../../mnt/x/temp_s3_download/volumes/precomputed/MD589/5um/256-512_0-256_192-256 to s3://test-bucket-sid/final_precomputed_volumes/MD589/5um/256-512_0-256_192-256\n",
      "upload: ../../../../../../mnt/x/temp_s3_download/volumes/precomputed/MD589/5um/256-512_0-256_256-288 to s3://test-bucket-sid/final_precomputed_volumes/MD589/5um/256-512_0-256_256-288\n",
      "upload: ../../../../../../mnt/x/temp_s3_download/volumes/precomputed/MD589/5um/256-512_1024-1099_128-192 to s3://test-bucket-sid/final_precomputed_volumes/MD589/5um/256-512_1024-1099_128-192\n",
      "upload: ../../../../../../mnt/x/temp_s3_download/volumes/precomputed/MD589/5um/256-512_0-256_64-128 to s3://test-bucket-sid/final_precomputed_volumes/MD589/5um/256-512_0-256_64-128\n",
      "upload: ../../../../../../mnt/x/temp_s3_download/volumes/precomputed/MD589/5um/256-512_1024-1099_0-64 to s3://test-bucket-sid/final_precomputed_volumes/MD589/5um/256-512_1024-1099_0-64\n",
      "upload: ../../../../../../mnt/x/temp_s3_download/volumes/precomputed/MD589/5um/256-512_1024-1099_256-288 to s3://test-bucket-sid/final_precomputed_volumes/MD589/5um/256-512_1024-1099_256-288\n",
      "upload: ../../../../../../mnt/x/temp_s3_download/volumes/precomputed/MD589/5um/256-512_1024-1099_64-128 to s3://test-bucket-sid/final_precomputed_volumes/MD589/5um/256-512_1024-1099_64-128\n",
      "upload: ../../../../../../mnt/x/temp_s3_download/volumes/precomputed/MD589/5um/256-512_1024-1099_192-256 to s3://test-bucket-sid/final_precomputed_volumes/MD589/5um/256-512_1024-1099_192-256\n",
      "upload: ../../../../../../mnt/x/temp_s3_download/volumes/precomputed/MD589/5um/256-512_256-512_256-288 to s3://test-bucket-sid/final_precomputed_volumes/MD589/5um/256-512_256-512_256-288\n",
      "upload: ../../../../../../mnt/x/temp_s3_download/volumes/precomputed/MD589/5um/256-512_256-512_0-64 to s3://test-bucket-sid/final_precomputed_volumes/MD589/5um/256-512_256-512_0-64\n",
      "upload: ../../../../../../mnt/x/temp_s3_download/volumes/precomputed/MD589/5um/256-512_256-512_192-256 to s3://test-bucket-sid/final_precomputed_volumes/MD589/5um/256-512_256-512_192-256\n"
     ]
    },
    {
     "name": "stdout",
     "output_type": "stream",
     "text": [
      "upload: ../../../../../../mnt/x/temp_s3_download/volumes/precomputed/MD589/5um/256-512_256-512_128-192 to s3://test-bucket-sid/final_precomputed_volumes/MD589/5um/256-512_256-512_128-192\n",
      "upload: ../../../../../../mnt/x/temp_s3_download/volumes/precomputed/MD589/5um/256-512_512-768_0-64 to s3://test-bucket-sid/final_precomputed_volumes/MD589/5um/256-512_512-768_0-64\n",
      "upload: ../../../../../../mnt/x/temp_s3_download/volumes/precomputed/MD589/5um/256-512_512-768_128-192 to s3://test-bucket-sid/final_precomputed_volumes/MD589/5um/256-512_512-768_128-192\n",
      "upload: ../../../../../../mnt/x/temp_s3_download/volumes/precomputed/MD589/5um/256-512_512-768_256-288 to s3://test-bucket-sid/final_precomputed_volumes/MD589/5um/256-512_512-768_256-288\n",
      "upload: ../../../../../../mnt/x/temp_s3_download/volumes/precomputed/MD589/5um/256-512_256-512_64-128 to s3://test-bucket-sid/final_precomputed_volumes/MD589/5um/256-512_256-512_64-128\n",
      "upload: ../../../../../../mnt/x/temp_s3_download/volumes/precomputed/MD589/5um/256-512_768-1024_128-192 to s3://test-bucket-sid/final_precomputed_volumes/MD589/5um/256-512_768-1024_128-192\n",
      "upload: ../../../../../../mnt/x/temp_s3_download/volumes/precomputed/MD589/5um/256-512_768-1024_0-64 to s3://test-bucket-sid/final_precomputed_volumes/MD589/5um/256-512_768-1024_0-64\n",
      "upload: ../../../../../../mnt/x/temp_s3_download/volumes/precomputed/MD589/5um/256-512_768-1024_192-256 to s3://test-bucket-sid/final_precomputed_volumes/MD589/5um/256-512_768-1024_192-256\n",
      "upload: ../../../../../../mnt/x/temp_s3_download/volumes/precomputed/MD589/5um/256-512_512-768_64-128 to s3://test-bucket-sid/final_precomputed_volumes/MD589/5um/256-512_512-768_64-128\n",
      "upload: ../../../../../../mnt/x/temp_s3_download/volumes/precomputed/MD589/5um/256-512_512-768_192-256 to s3://test-bucket-sid/final_precomputed_volumes/MD589/5um/256-512_512-768_192-256\n",
      "upload: ../../../../../../mnt/x/temp_s3_download/volumes/precomputed/MD589/5um/512-768_0-256_0-64 to s3://test-bucket-sid/final_precomputed_volumes/MD589/5um/512-768_0-256_0-64\n",
      "upload: ../../../../../../mnt/x/temp_s3_download/volumes/precomputed/MD589/5um/512-768_0-256_128-192 to s3://test-bucket-sid/final_precomputed_volumes/MD589/5um/512-768_0-256_128-192\n",
      "upload: ../../../../../../mnt/x/temp_s3_download/volumes/precomputed/MD589/5um/512-768_0-256_64-128 to s3://test-bucket-sid/final_precomputed_volumes/MD589/5um/512-768_0-256_64-128\n",
      "upload: ../../../../../../mnt/x/temp_s3_download/volumes/precomputed/MD589/5um/512-768_1024-1099_0-64 to s3://test-bucket-sid/final_precomputed_volumes/MD589/5um/512-768_1024-1099_0-64\n",
      "upload: ../../../../../../mnt/x/temp_s3_download/volumes/precomputed/MD589/5um/512-768_0-256_256-288 to s3://test-bucket-sid/final_precomputed_volumes/MD589/5um/512-768_0-256_256-288\n",
      "upload: ../../../../../../mnt/x/temp_s3_download/volumes/precomputed/MD589/5um/512-768_1024-1099_192-256 to s3://test-bucket-sid/final_precomputed_volumes/MD589/5um/512-768_1024-1099_192-256\n",
      "upload: ../../../../../../mnt/x/temp_s3_download/volumes/precomputed/MD589/5um/512-768_1024-1099_128-192 to s3://test-bucket-sid/final_precomputed_volumes/MD589/5um/512-768_1024-1099_128-192\n",
      "upload: ../../../../../../mnt/x/temp_s3_download/volumes/precomputed/MD589/5um/256-512_768-1024_64-128 to s3://test-bucket-sid/final_precomputed_volumes/MD589/5um/256-512_768-1024_64-128\n",
      "upload: ../../../../../../mnt/x/temp_s3_download/volumes/precomputed/MD589/5um/512-768_1024-1099_256-288 to s3://test-bucket-sid/final_precomputed_volumes/MD589/5um/512-768_1024-1099_256-288\n",
      "upload: ../../../../../../mnt/x/temp_s3_download/volumes/precomputed/MD589/5um/512-768_0-256_192-256 to s3://test-bucket-sid/final_precomputed_volumes/MD589/5um/512-768_0-256_192-256\n",
      "upload: ../../../../../../mnt/x/temp_s3_download/volumes/precomputed/MD589/5um/256-512_768-1024_256-288 to s3://test-bucket-sid/final_precomputed_volumes/MD589/5um/256-512_768-1024_256-288\n",
      "upload: ../../../../../../mnt/x/temp_s3_download/volumes/precomputed/MD589/5um/512-768_1024-1099_64-128 to s3://test-bucket-sid/final_precomputed_volumes/MD589/5um/512-768_1024-1099_64-128\n",
      "upload: ../../../../../../mnt/x/temp_s3_download/volumes/precomputed/MD589/5um/512-768_256-512_128-192 to s3://test-bucket-sid/final_precomputed_volumes/MD589/5um/512-768_256-512_128-192\n",
      "upload: ../../../../../../mnt/x/temp_s3_download/volumes/precomputed/MD589/5um/512-768_256-512_192-256 to s3://test-bucket-sid/final_precomputed_volumes/MD589/5um/512-768_256-512_192-256\n",
      "upload: ../../../../../../mnt/x/temp_s3_download/volumes/precomputed/MD589/5um/512-768_256-512_0-64 to s3://test-bucket-sid/final_precomputed_volumes/MD589/5um/512-768_256-512_0-64\n",
      "upload: ../../../../../../mnt/x/temp_s3_download/volumes/precomputed/MD589/5um/512-768_256-512_256-288 to s3://test-bucket-sid/final_precomputed_volumes/MD589/5um/512-768_256-512_256-288\n",
      "upload: ../../../../../../mnt/x/temp_s3_download/volumes/precomputed/MD589/5um/512-768_256-512_64-128 to s3://test-bucket-sid/final_precomputed_volumes/MD589/5um/512-768_256-512_64-128\n",
      "upload: ../../../../../../mnt/x/temp_s3_download/volumes/precomputed/MD589/5um/512-768_512-768_0-64 to s3://test-bucket-sid/final_precomputed_volumes/MD589/5um/512-768_512-768_0-64\n",
      "upload: ../../../../../../mnt/x/temp_s3_download/volumes/precomputed/MD589/5um/512-768_512-768_128-192 to s3://test-bucket-sid/final_precomputed_volumes/MD589/5um/512-768_512-768_128-192\n",
      "upload: ../../../../../../mnt/x/temp_s3_download/volumes/precomputed/MD589/5um/512-768_512-768_256-288 to s3://test-bucket-sid/final_precomputed_volumes/MD589/5um/512-768_512-768_256-288\n",
      "upload: ../../../../../../mnt/x/temp_s3_download/volumes/precomputed/MD589/5um/512-768_512-768_64-128 to s3://test-bucket-sid/final_precomputed_volumes/MD589/5um/512-768_512-768_64-128\n",
      "upload: ../../../../../../mnt/x/temp_s3_download/volumes/precomputed/MD589/5um/512-768_768-1024_0-64 to s3://test-bucket-sid/final_precomputed_volumes/MD589/5um/512-768_768-1024_0-64\n",
      "upload: ../../../../../../mnt/x/temp_s3_download/volumes/precomputed/MD589/5um/512-768_768-1024_128-192 to s3://test-bucket-sid/final_precomputed_volumes/MD589/5um/512-768_768-1024_128-192\n",
      "upload: ../../../../../../mnt/x/temp_s3_download/volumes/precomputed/MD589/5um/512-768_768-1024_192-256 to s3://test-bucket-sid/final_precomputed_volumes/MD589/5um/512-768_768-1024_192-256\n",
      "upload: ../../../../../../mnt/x/temp_s3_download/volumes/precomputed/MD589/5um/512-768_768-1024_256-288 to s3://test-bucket-sid/final_precomputed_volumes/MD589/5um/512-768_768-1024_256-288\n",
      "upload: ../../../../../../mnt/x/temp_s3_download/volumes/precomputed/MD589/5um/768-1024_0-256_0-64 to s3://test-bucket-sid/final_precomputed_volumes/MD589/5um/768-1024_0-256_0-64\n",
      "upload: ../../../../../../mnt/x/temp_s3_download/volumes/precomputed/MD589/5um/512-768_512-768_192-256 to s3://test-bucket-sid/final_precomputed_volumes/MD589/5um/512-768_512-768_192-256\n",
      "upload: ../../../../../../mnt/x/temp_s3_download/volumes/precomputed/MD589/5um/768-1024_0-256_128-192 to s3://test-bucket-sid/final_precomputed_volumes/MD589/5um/768-1024_0-256_128-192\n",
      "upload: ../../../../../../mnt/x/temp_s3_download/volumes/precomputed/MD589/5um/512-768_768-1024_64-128 to s3://test-bucket-sid/final_precomputed_volumes/MD589/5um/512-768_768-1024_64-128\n",
      "upload: ../../../../../../mnt/x/temp_s3_download/volumes/precomputed/MD589/5um/768-1024_0-256_192-256 to s3://test-bucket-sid/final_precomputed_volumes/MD589/5um/768-1024_0-256_192-256\n",
      "upload: ../../../../../../mnt/x/temp_s3_download/volumes/precomputed/MD589/5um/768-1024_0-256_256-288 to s3://test-bucket-sid/final_precomputed_volumes/MD589/5um/768-1024_0-256_256-288\n",
      "upload: ../../../../../../mnt/x/temp_s3_download/volumes/precomputed/MD589/5um/768-1024_0-256_64-128 to s3://test-bucket-sid/final_precomputed_volumes/MD589/5um/768-1024_0-256_64-128\n",
      "upload: ../../../../../../mnt/x/temp_s3_download/volumes/precomputed/MD589/5um/768-1024_1024-1099_0-64 to s3://test-bucket-sid/final_precomputed_volumes/MD589/5um/768-1024_1024-1099_0-64\n",
      "upload: ../../../../../../mnt/x/temp_s3_download/volumes/precomputed/MD589/5um/768-1024_1024-1099_192-256 to s3://test-bucket-sid/final_precomputed_volumes/MD589/5um/768-1024_1024-1099_192-256\n",
      "upload: ../../../../../../mnt/x/temp_s3_download/volumes/precomputed/MD589/5um/768-1024_1024-1099_128-192 to s3://test-bucket-sid/final_precomputed_volumes/MD589/5um/768-1024_1024-1099_128-192\n"
     ]
    },
    {
     "name": "stdout",
     "output_type": "stream",
     "text": [
      "upload: ../../../../../../mnt/x/temp_s3_download/volumes/precomputed/MD589/5um/768-1024_1024-1099_256-288 to s3://test-bucket-sid/final_precomputed_volumes/MD589/5um/768-1024_1024-1099_256-288\n",
      "upload: ../../../../../../mnt/x/temp_s3_download/volumes/precomputed/MD589/5um/768-1024_1024-1099_64-128 to s3://test-bucket-sid/final_precomputed_volumes/MD589/5um/768-1024_1024-1099_64-128\n",
      "upload: ../../../../../../mnt/x/temp_s3_download/volumes/precomputed/MD589/5um/768-1024_256-512_0-64 to s3://test-bucket-sid/final_precomputed_volumes/MD589/5um/768-1024_256-512_0-64\n",
      "upload: ../../../../../../mnt/x/temp_s3_download/volumes/precomputed/MD589/5um/768-1024_256-512_128-192 to s3://test-bucket-sid/final_precomputed_volumes/MD589/5um/768-1024_256-512_128-192\n",
      "upload: ../../../../../../mnt/x/temp_s3_download/volumes/precomputed/MD589/5um/768-1024_256-512_192-256 to s3://test-bucket-sid/final_precomputed_volumes/MD589/5um/768-1024_256-512_192-256\n",
      "upload: ../../../../../../mnt/x/temp_s3_download/volumes/precomputed/MD589/5um/768-1024_256-512_256-288 to s3://test-bucket-sid/final_precomputed_volumes/MD589/5um/768-1024_256-512_256-288\n",
      "upload: ../../../../../../mnt/x/temp_s3_download/volumes/precomputed/MD589/5um/768-1024_256-512_64-128 to s3://test-bucket-sid/final_precomputed_volumes/MD589/5um/768-1024_256-512_64-128\n",
      "upload: ../../../../../../mnt/x/temp_s3_download/volumes/precomputed/MD589/5um/768-1024_512-768_0-64 to s3://test-bucket-sid/final_precomputed_volumes/MD589/5um/768-1024_512-768_0-64\n",
      "upload: ../../../../../../mnt/x/temp_s3_download/volumes/precomputed/MD589/5um/768-1024_512-768_128-192 to s3://test-bucket-sid/final_precomputed_volumes/MD589/5um/768-1024_512-768_128-192\n",
      "upload: ../../../../../../mnt/x/temp_s3_download/volumes/precomputed/MD589/5um/768-1024_512-768_192-256 to s3://test-bucket-sid/final_precomputed_volumes/MD589/5um/768-1024_512-768_192-256\n",
      "upload: ../../../../../../mnt/x/temp_s3_download/volumes/precomputed/MD589/5um/768-1024_512-768_256-288 to s3://test-bucket-sid/final_precomputed_volumes/MD589/5um/768-1024_512-768_256-288\n",
      "upload: ../../../../../../mnt/x/temp_s3_download/volumes/precomputed/MD589/5um/768-1024_768-1024_128-192 to s3://test-bucket-sid/final_precomputed_volumes/MD589/5um/768-1024_768-1024_128-192\n",
      "upload: ../../../../../../mnt/x/temp_s3_download/volumes/precomputed/MD589/5um/768-1024_768-1024_192-256 to s3://test-bucket-sid/final_precomputed_volumes/MD589/5um/768-1024_768-1024_192-256\n",
      "upload: ../../../../../../mnt/x/temp_s3_download/volumes/precomputed/MD589/5um/768-1024_768-1024_0-64 to s3://test-bucket-sid/final_precomputed_volumes/MD589/5um/768-1024_768-1024_0-64\n",
      "upload: ../../../../../../mnt/x/temp_s3_download/volumes/precomputed/MD589/5um/768-1024_768-1024_256-288 to s3://test-bucket-sid/final_precomputed_volumes/MD589/5um/768-1024_768-1024_256-288\n",
      "upload: ../../../../../../mnt/x/temp_s3_download/volumes/precomputed/MD589/5um/768-1024_512-768_64-128 to s3://test-bucket-sid/final_precomputed_volumes/MD589/5um/768-1024_512-768_64-128\n",
      "upload: ../../../../../../mnt/x/temp_s3_download/volumes/precomputed/MD589/info to s3://test-bucket-sid/final_precomputed_volumes/MD589/info\n",
      "upload: ../../../../../../mnt/x/temp_s3_download/volumes/precomputed/MD589/info_fullres.json to s3://test-bucket-sid/final_precomputed_volumes/MD589/info_fullres.json\n",
      "upload: ../../../../../../mnt/x/temp_s3_download/volumes/precomputed/MD589/5um/768-1024_768-1024_64-128 to s3://test-bucket-sid/final_precomputed_volumes/MD589/5um/768-1024_768-1024_64-128\n",
      "upload: ../../../../../../mnt/x/temp_s3_download/volumes/precomputed/MD589/transform.json to s3://test-bucket-sid/final_precomputed_volumes/MD589/transform.json\n",
      "upload: ../../../../../../mnt/x/temp_s3_download/volumes/precomputed/MD589/vol_color.nii to s3://test-bucket-sid/final_precomputed_volumes/MD589/vol_color.nii\n"
     ]
    }
   ],
   "source": [
    "# out_dir = '/mnt/x/temp_s3_download/volumes/precomputed/'+stack+'/'\n",
    "! aws s3 cp --recursive $out_dir s3://test-bucket-sid/final_precomputed_volumes/$stack/"
   ]
  },
  {
   "cell_type": "code",
   "execution_count": null,
   "metadata": {},
   "outputs": [],
   "source": []
  }
 ],
 "metadata": {
  "kernelspec": {
   "display_name": "Python 3",
   "language": "python",
   "name": "python3"
  },
  "language_info": {
   "codemirror_mode": {
    "name": "ipython",
    "version": 3
   },
   "file_extension": ".py",
   "mimetype": "text/x-python",
   "name": "python",
   "nbconvert_exporter": "python",
   "pygments_lexer": "ipython3",
   "version": "3.7.3"
  }
 },
 "nbformat": 4,
 "nbformat_minor": 2
}
