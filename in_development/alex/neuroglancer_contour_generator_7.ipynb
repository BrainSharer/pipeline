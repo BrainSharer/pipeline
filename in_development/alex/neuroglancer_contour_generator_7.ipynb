{
 "cells": [
  {
   "cell_type": "code",
   "execution_count": 1,
   "metadata": {
    "scrolled": false
   },
   "outputs": [],
   "source": [
    "%load_ext autoreload\n",
    "%autoreload 2\n",
    "\n",
    "import os\n",
    "import sys\n",
    "import yaml\n",
    "\n",
    "# os.environ['ATLAS_DATA_ROOT_DIR'] = os.environ['ROOT_DIR']\n",
    "atlas_data_root = os.environ['ATLAS_DATA_ROOT_DIR']\n",
    "\n",
    "# os.environ['NG_REPO_DIR'] = '/home/alexn/neuroglancer_interface/'\n",
    "sys.path.append(os.path.join( os.environ['NG_REPO_DIR'], 'src', 'utilities'))\n",
    "from imported_atlas_utilities import *\n",
    "from contour_utilities import *\n",
    "from filepath_manager import *\n",
    "\n",
    "# sys.path.append(os.path.join( filepaths_dict['activebrainatlas_repo_utilities_fp'] ))\n",
    "# from utilities2015 import *\n",
    "# from registration_utilities import *\n",
    "# from annotation_utilities import *\n",
    "# from metadata import *\n",
    "# from data_manager import *\n",
    "\n",
    "import matplotlib.pyplot as plt\n",
    "%matplotlib inline\n",
    "import neuroglancer\n",
    "import cv2\n",
    "import json\n",
    "import numpy as np\n",
    "\n",
    "color_map_file = os.path.join( get_json_cache_fp(), 'struct_to_color_2.json')\n",
    "with open( color_map_file, 'r') as json_file:\n",
    "    structure_to_color = json.load( json_file )\n",
    "\n",
    "stack_param_file = os.path.join( get_json_cache_fp(), 'stack_parameters_ng.json')\n",
    "with open( stack_param_file, 'r') as json_file:\n",
    "    stack_parameters_ng = json.load( json_file )\n",
    "    \n",
    "color_segments=[]\n",
    "for i in range(1,29):\n",
    "    color_segments.append(i)"
   ]
  },
  {
   "cell_type": "code",
   "execution_count": 2,
   "metadata": {
    "collapsed": true
   },
   "outputs": [],
   "source": [
    "stack = 'MD585'\n",
    "\n",
    "detector_id = 19\n",
    "# detector_id = 799"
   ]
  },
  {
   "cell_type": "code",
   "execution_count": 9,
   "metadata": {
    "collapsed": true
   },
   "outputs": [],
   "source": [
    "stack = 'MD589'\n",
    "\n",
    "detector_id = 19\n",
    "# detector_id = 799"
   ]
  },
  {
   "cell_type": "code",
   "execution_count": 7,
   "metadata": {
    "collapsed": true
   },
   "outputs": [],
   "source": [
    "stack = 'MD594'\n",
    "\n",
    "detector_id = 19\n",
    "# detector_id = 799"
   ]
  },
  {
   "cell_type": "markdown",
   "metadata": {},
   "source": [
    "# Neuroglancer code"
   ]
  },
  {
   "cell_type": "code",
   "execution_count": 3,
   "metadata": {},
   "outputs": [
    {
     "name": "stdout",
     "output_type": "stream",
     "text": [
      "http://yuncong-Precision-WorkStation-T7500:43061/v/797fdecaa9985f61d427033da9b9fac9752b5eca/\n",
      "http://132.239.73.85 172.17.0.1:43061/v/797fdecaa9985f61d427033da9b9fac9752b5eca/\n",
      "http://132.239.73.85:43061/v/797fdecaa9985f61d427033da9b9fac9752b5eca/\n"
     ]
    }
   ],
   "source": [
    "neuroglancer.set_server_bind_address('0.0.0.0')\n",
    "viewer = neuroglancer.Viewer()\n",
    "print(viewer)\n",
    "\n",
    "ip_name = !hostname -I\n",
    "print('http://' + ip_name[0].strip() + ':' + viewer.get_viewer_url().split(':')[2]) ##Remote URL\n",
    "\n",
    "ip_name_str = str(ip_name).replace('\\'','').replace('\\\"','').replace('[','').replace(']','')\n",
    "real_ip = ip_name_str.split(' ')[0]\n",
    "print('http://' + real_ip + ':' + viewer.get_viewer_url().split(':')[2]) ##Remote URL\n",
    "\n",
    "viewer # IP 132.239.73.85\n",
    "\n",
    "\n",
    "# Sets 'Image' layer to be prep2 images from S3 of <stack>\n",
    "with viewer.txn() as s:\n",
    "    s.layers['image'] = neuroglancer.ImageLayer(source=\\\n",
    "                        'precomputed://https://neuroglancer-data.s3.amazonaws.com/\\\n",
    "Neuroglancer_Images/Precomputed/'+stack+'/'+stack+'_prep2_raw_grayJpeg_precomputed')\n",
    "    \n",
    "    # Resets X/Y/Z plane orientation\n",
    "    s.navigation.pose.orientation = [0,0,0,1]\n",
    "    # Zooms out \n",
    "#     s.navigation.zoomFactor = 10000 # If 4panel\n",
    "    s.navigation.zoomFactor = 5000 # If xy\n",
    "    \n",
    "    # Resets 3D Viewer Orientation\n",
    "    s.perspectiveOrientation = [0,0,0,1]\n",
    "    # Zooms out\n",
    "    s.perspectiveZoom = 75000\n",
    "    \n",
    "    s.layout = 'xy' # '3d'/'4panel'/'xy'"
   ]
  },
  {
   "cell_type": "code",
   "execution_count": 35,
   "metadata": {
    "collapsed": true
   },
   "outputs": [],
   "source": [
    "neuroglancer.stop()"
   ]
  },
  {
   "cell_type": "code",
   "execution_count": null,
   "metadata": {
    "collapsed": true
   },
   "outputs": [],
   "source": [
    "# MD594 DONE\n",
    "https://neuroglancer-demo.appspot.com/#!%7B%22layers%22:%5B%7B%22source%22:%22precomputed://https://mousebrainatlas-datajoint-jp2k.s3.amazonaws.com/precomputed/MD594_fullres%22%2C%22type%22:%22image%22%2C%22name%22:%22image%22%7D%2C%7B%22source%22:%22precomputed://https://s3.amazonaws.com/test-bucket-sid/final_precomputed_volumes/MD594%22%2C%22type%22:%22segmentation%22%2C%22name%22:%22annotation%22%7D%5D%2C%22navigation%22:%7B%22pose%22:%7B%22position%22:%7B%22voxelSize%22:%5B460%2C460%2C20000%5D%2C%22voxelCoordinates%22:%5B5392%2C6736%2C125.56800079345703%5D%7D%7D%2C%22zoomFactor%22:14720%7D%2C%22perspectiveOrientation%22:%5B0.08709775656461716%2C0.01880049705505371%2C0.026741867884993553%2C0.9956632852554321%5D%2C%22perspectiveZoom%22:131072%2C%22selectedLayer%22:%7B%22layer%22:%22annotation%22%7D%2C%22layout%22:%224panel%22%7D\n",
    "\n",
    "# MD585 DONE\n",
    "https://neuroglancer-demo.appspot.com/#!%7B%22layers%22:%5B%7B%22source%22:%22precomputed://https://mousebrainatlas-datajoint-jp2k.s3.amazonaws.com/precomputed/MD585_fullres%22%2C%22type%22:%22image%22%2C%22name%22:%22image%22%7D%2C%7B%22source%22:%22precomputed://https://test-bucket-sid.s3.amazonaws.com/final_precomputed_volumes/MD585%22%2C%22type%22:%22segmentation%22%2C%22name%22:%22annotation%22%7D%5D%2C%22navigation%22:%7B%22pose%22:%7B%22position%22:%7B%22voxelSize%22:%5B460%2C460%2C20000%5D%2C%22voxelCoordinates%22:%5B4816%2C6179%2C101.56800079345703%5D%7D%7D%2C%22zoomFactor%22:14720%7D%2C%22perspectiveOrientation%22:%5B0.0019906109664589167%2C-0.0022145232651382685%2C0.007156445644795895%2C0.9999699592590332%5D%2C%22perspectiveZoom%22:131072%2C%22selectedLayer%22:%7B%22layer%22:%22annotation%22%7D%2C%22layout%22:%224panel%22%7D\n",
    "\n",
    "# MD589\n",
    "https://neuroglancer-demo.appspot.com/#!%7B%22layers%22:%5B%7B%22source%22:%22precomputed://https://mousebrainatlas-datajoint-jp2k.s3.amazonaws.com/precomputed/MD589_fullres%22%2C%22type%22:%22image%22%2C%22name%22:%22image%22%7D%2C%7B%22source%22:%22precomputed://https://test-bucket-sid.s3.amazonaws.com/final_precomputed_volumes/MD589%22%2C%22type%22:%22segmentation%22%2C%22name%22:%22annotation%22%7D%5D%2C%22navigation%22:%7B%22pose%22:%7B%22position%22:%7B%22voxelSize%22:%5B460%2C460%2C20000%5D%2C%22voxelCoordinates%22:%5B9745%2C6531%2C170.47999572753906%5D%7D%7D%2C%22zoomFactor%22:14720%7D%2C%22perspectiveOrientation%22:%5B0.0019906109664589167%2C-0.0022145232651382685%2C0.007156445644795895%2C0.9999699592590332%5D%2C%22perspectiveZoom%22:131072%2C%22selectedLayer%22:%7B%22layer%22:%22annotation%22%7D%2C%22layout%22:%224panel%22%7D"
   ]
  },
  {
   "cell_type": "markdown",
   "metadata": {},
   "source": [
    "# Using Aligned Volumes"
   ]
  },
  {
   "cell_type": "code",
   "execution_count": 19,
   "metadata": {
    "scrolled": true
   },
   "outputs": [
    {
     "ename": "NameError",
     "evalue": "global name 'load_transformed_volume_v2' is not defined",
     "output_type": "error",
     "traceback": [
      "\u001b[0;31m---------------------------------------------------------------------------\u001b[0m",
      "\u001b[0;31mNameError\u001b[0m                                 Traceback (most recent call last)",
      "\u001b[0;32m<ipython-input-19-2e2dedeff5af>\u001b[0m in \u001b[0;36m<module>\u001b[0;34m()\u001b[0m\n\u001b[1;32m     15\u001b[0m \u001b[0;34m\u001b[0m\u001b[0m\n\u001b[1;32m     16\u001b[0m \u001b[0;32mfor\u001b[0m \u001b[0mstructure\u001b[0m \u001b[0;32min\u001b[0m \u001b[0mall_structures_total\u001b[0m\u001b[0;34m:\u001b[0m\u001b[0;34m\u001b[0m\u001b[0m\n\u001b[0;32m---> 17\u001b[0;31m     \u001b[0mstr_contour\u001b[0m\u001b[0;34m,\u001b[0m \u001b[0mfirst_sec\u001b[0m\u001b[0;34m,\u001b[0m \u001b[0mlast_sec\u001b[0m \u001b[0;34m=\u001b[0m \u001b[0mimage_contour_generator\u001b[0m\u001b[0;34m(\u001b[0m \u001b[0mstack\u001b[0m\u001b[0;34m,\u001b[0m \u001b[0mdetector_id\u001b[0m\u001b[0;34m,\u001b[0m \u001b[0mstructure\u001b[0m\u001b[0;34m,\u001b[0m \u001b[0muse_local_alignment\u001b[0m\u001b[0;34m=\u001b[0m\u001b[0mTrue\u001b[0m\u001b[0;34m,\u001b[0m \u001b[0mimage_prep\u001b[0m\u001b[0;34m=\u001b[0m\u001b[0;36m2\u001b[0m\u001b[0;34m,\u001b[0m \u001b[0mthreshold\u001b[0m\u001b[0;34m=\u001b[0m\u001b[0;36m0.2\u001b[0m\u001b[0;34m)\u001b[0m\u001b[0;34m\u001b[0m\u001b[0m\n\u001b[0m\u001b[1;32m     18\u001b[0m \u001b[0;34m\u001b[0m\u001b[0m\n\u001b[1;32m     19\u001b[0m     \u001b[0madd_structure_to_neuroglancer\u001b[0m\u001b[0;34m(\u001b[0m \u001b[0mviewer\u001b[0m\u001b[0;34m,\u001b[0m \u001b[0mstr_contour\u001b[0m\u001b[0;34m,\u001b[0m \u001b[0mstructure\u001b[0m\u001b[0;34m,\u001b[0m \u001b[0mstack\u001b[0m\u001b[0;34m,\u001b[0m \u001b[0mfirst_sec\u001b[0m\u001b[0;34m,\u001b[0m \u001b[0mlast_sec\u001b[0m\u001b[0;34m,\u001b[0m                                   \u001b[0mcolor_radius\u001b[0m\u001b[0;34m=\u001b[0m\u001b[0;36m5\u001b[0m\u001b[0;34m,\u001b[0m \u001b[0mxy_ng_resolution_um\u001b[0m\u001b[0;34m=\u001b[0m\u001b[0;36m10\u001b[0m\u001b[0;34m,\u001b[0m \u001b[0mthreshold\u001b[0m\u001b[0;34m=\u001b[0m\u001b[0;36m0.2\u001b[0m\u001b[0;34m,\u001b[0m \u001b[0mcolor\u001b[0m\u001b[0;34m=\u001b[0m\u001b[0;36m1\u001b[0m\u001b[0;34m,\u001b[0m                                   \u001b[0msolid_volume\u001b[0m\u001b[0;34m=\u001b[0m\u001b[0mFalse\u001b[0m\u001b[0;34m,\u001b[0m \u001b[0mno_offset_big_volume\u001b[0m\u001b[0;34m=\u001b[0m\u001b[0mFalse\u001b[0m\u001b[0;34m,\u001b[0m \u001b[0msave_results\u001b[0m\u001b[0;34m=\u001b[0m\u001b[0mFalse\u001b[0m\u001b[0;34m,\u001b[0m                                  \u001b[0mreturn_with_offsets\u001b[0m\u001b[0;34m=\u001b[0m\u001b[0mFalse\u001b[0m\u001b[0;34m,\u001b[0m \u001b[0madd_to_ng\u001b[0m\u001b[0;34m=\u001b[0m\u001b[0mTrue\u001b[0m\u001b[0;34m,\u001b[0m \u001b[0mhuman_annotation\u001b[0m\u001b[0;34m=\u001b[0m\u001b[0mFalse\u001b[0m\u001b[0;34m)\u001b[0m\u001b[0;34m\u001b[0m\u001b[0m\n",
      "\u001b[0;32m/home/alexn/neuroglancer_interface/src/utilities/contour_utilities.pyc\u001b[0m in \u001b[0;36mimage_contour_generator\u001b[0;34m(stack, detector_id, structure, use_local_alignment, image_prep, threshold)\u001b[0m\n\u001b[1;32m     40\u001b[0m         \u001b[0;32mwith\u001b[0m \u001b[0mopen\u001b[0m\u001b[0;34m(\u001b[0m\u001b[0mfn_vis_structures\u001b[0m\u001b[0;34m,\u001b[0m\u001b[0;34m'r'\u001b[0m\u001b[0;34m)\u001b[0m \u001b[0;32mas\u001b[0m \u001b[0mjson_file\u001b[0m\u001b[0;34m:\u001b[0m\u001b[0;34m\u001b[0m\u001b[0m\n\u001b[1;32m     41\u001b[0m             \u001b[0mstr_alignment_spec\u001b[0m \u001b[0;34m=\u001b[0m \u001b[0mjson\u001b[0m\u001b[0;34m.\u001b[0m\u001b[0mload\u001b[0m\u001b[0;34m(\u001b[0m\u001b[0mjson_file\u001b[0m\u001b[0;34m)\u001b[0m\u001b[0;34m[\u001b[0m\u001b[0mstructure\u001b[0m\u001b[0;34m]\u001b[0m\u001b[0;34m\u001b[0m\u001b[0m\n\u001b[0;32m---> 42\u001b[0;31m         vol = load_transformed_volume_v2(alignment_spec = str_alignment_spec, \n\u001b[0m\u001b[1;32m     43\u001b[0m                                                      \u001b[0mreturn_origin_instead_of_bbox\u001b[0m \u001b[0;34m=\u001b[0m \u001b[0mTrue\u001b[0m\u001b[0;34m,\u001b[0m\u001b[0;34m\u001b[0m\u001b[0m\n\u001b[1;32m     44\u001b[0m                                                      structure = structure)\n",
      "\u001b[0;31mNameError\u001b[0m: global name 'load_transformed_volume_v2' is not defined"
     ]
    }
   ],
   "source": [
    "# CREATE VOLUMES STRUCTURE BY STRUCTURE\n",
    "\n",
    "# structure = '12N'\n",
    "# # color_codes{'blue:'1,'red',2,'yellow':3}\n",
    "\n",
    "# str_contour, first_sec, last_sec = image_contour_generator( stack, detector_id, structure, use_local_alignment=True, image_prep=2, threshold=0.2)\n",
    "\n",
    "# ng_structure_volume_normal = add_structure_to_neuroglancer( viewer, str_contour, structure, stack, first_sec, last_sec, \\\n",
    "#                                                     color_radius=5, xy_ng_resolution_um=10, threshold=0.2, color=5, \\\n",
    "#                                                     solid_volume=False, no_offset_big_volume=False, save_results=False, \\\n",
    "#                                                     return_with_offsets=False, add_to_ng=True, human_annotation=False)\n",
    "\n",
    "# plt.imshow(ng_structure_volume_normal[20,:,:])\n",
    "\n",
    "\n",
    "for structure in all_structures_total:\n",
    "    str_contour, first_sec, last_sec = image_contour_generator( stack, detector_id, structure, use_local_alignment=True, image_prep=2, threshold=0.2)\n",
    "\n",
    "    add_structure_to_neuroglancer( viewer, str_contour, structure, stack, first_sec, last_sec, \\\n",
    "                                  color_radius=5, xy_ng_resolution_um=10, threshold=0.2, color=1, \\\n",
    "                                  solid_volume=False, no_offset_big_volume=False, save_results=False,\\\n",
    "                                  return_with_offsets=False, add_to_ng=True, human_annotation=False)"
   ]
  },
  {
   "cell_type": "code",
   "execution_count": 65,
   "metadata": {
    "scrolled": true
   },
   "outputs": [
    {
     "name": "stdout",
     "output_type": "stream",
     "text": [
      "/media/alexn/BstemAtlasDataBackup/ucsd_brain/CSHL_data_processed/MD585/MD585_cropbox.ini\n"
     ]
    },
    {
     "name": "stderr",
     "output_type": "stream",
     "text": [
      "Seems you are using operation INIs to provide cropbox.\n",
      "2 contours of reconstructed volume is found at position 48 ([2, 1]). Use the longest one.\n",
      "contour has less than three vertices. Ignore.\n"
     ]
    },
    {
     "name": "stdout",
     "output_type": "stream",
     "text": [
      "Number of valid sections:\n",
      "17\n",
      "First valid section: 190\n",
      "Last valid section: 206\n",
      "num_valid_sections: 17\n",
      "\n",
      "\n",
      "\n",
      "(16, 49, 101)\n",
      "/media/alexn/BstemAtlasDataBackup/ucsd_brain/CSHL_data_processed/MD585/MD585_cropbox.ini\n"
     ]
    },
    {
     "name": "stderr",
     "output_type": "stream",
     "text": [
      "Seems you are using operation INIs to provide cropbox.\n",
      "contour has less than three vertices. Ignore.\n",
      "2 contours of reconstructed volume is found at position 96 ([16, 1]). Use the longest one.\n"
     ]
    },
    {
     "name": "stdout",
     "output_type": "stream",
     "text": [
      "Number of valid sections:\n",
      "40\n",
      "First valid section: 182\n",
      "Last valid section: 221\n",
      "num_valid_sections: 40\n",
      "\n",
      "\n",
      "\n",
      "(39, 115, 205)\n",
      "/media/alexn/BstemAtlasDataBackup/ucsd_brain/CSHL_data_processed/MD585/MD585_cropbox.ini\n"
     ]
    },
    {
     "name": "stderr",
     "output_type": "stream",
     "text": [
      "Seems you are using operation INIs to provide cropbox.\n"
     ]
    },
    {
     "name": "stdout",
     "output_type": "stream",
     "text": [
      "Number of valid sections:\n",
      "83\n",
      "First valid section: 177\n",
      "Last valid section: 259\n",
      "num_valid_sections: 83\n",
      "\n",
      "\n",
      "\n",
      "(82, 167, 215)\n",
      "/media/alexn/BstemAtlasDataBackup/ucsd_brain/CSHL_data_processed/MD585/MD585_cropbox.ini\n"
     ]
    },
    {
     "name": "stderr",
     "output_type": "stream",
     "text": [
      "Seems you are using operation INIs to provide cropbox.\n",
      "4 contours of reconstructed volume is found at position 31 ([8, 4, 3, 1]). Use the longest one.\n",
      "2 contours of reconstructed volume is found at position 371 ([19, 1]). Use the longest one.\n"
     ]
    },
    {
     "name": "stdout",
     "output_type": "stream",
     "text": [
      "Number of valid sections:\n",
      "171\n",
      "First valid section: 138\n",
      "Last valid section: 308\n",
      "num_valid_sections: 171\n",
      "\n",
      "\n",
      "\n",
      "(170, 381, 405)\n",
      "/media/alexn/BstemAtlasDataBackup/ucsd_brain/CSHL_data_processed/MD585/MD585_cropbox.ini\n"
     ]
    },
    {
     "name": "stderr",
     "output_type": "stream",
     "text": [
      "Seems you are using operation INIs to provide cropbox.\n",
      "2 contours of reconstructed volume is found at position 378 ([57, 1]). Use the longest one.\n"
     ]
    },
    {
     "name": "stdout",
     "output_type": "stream",
     "text": [
      "Number of valid sections:\n",
      "184\n",
      "First valid section: 131\n",
      "Last valid section: 314\n",
      "num_valid_sections: 184\n",
      "\n",
      "\n",
      "\n",
      "(183, 341, 273)\n",
      "/media/alexn/BstemAtlasDataBackup/ucsd_brain/CSHL_data_processed/MD585/MD585_cropbox.ini\n"
     ]
    },
    {
     "name": "stderr",
     "output_type": "stream",
     "text": [
      "Seems you are using operation INIs to provide cropbox.\n",
      "2 contours of reconstructed volume is found at position 57 ([29, 1]). Use the longest one.\n",
      "3 contours of reconstructed volume is found at position 59 ([7, 5, 2]). Use the longest one.\n",
      "2 contours of reconstructed volume is found at position 55 ([17, 1]). Use the longest one.\n"
     ]
    },
    {
     "name": "stdout",
     "output_type": "stream",
     "text": [
      "Number of valid sections:\n",
      "26\n",
      "First valid section: 270\n",
      "Last valid section: 295\n",
      "num_valid_sections: 26\n",
      "\n",
      "\n",
      "\n",
      "(25, 143, 111)\n",
      "/media/alexn/BstemAtlasDataBackup/ucsd_brain/CSHL_data_processed/MD585/MD585_cropbox.ini\n"
     ]
    },
    {
     "name": "stderr",
     "output_type": "stream",
     "text": [
      "Seems you are using operation INIs to provide cropbox.\n",
      "2 contours of reconstructed volume is found at position 12 ([14, 1]). Use the longest one.\n",
      "2 contours of reconstructed volume is found at position 56 ([15, 3]). Use the longest one.\n"
     ]
    },
    {
     "name": "stdout",
     "output_type": "stream",
     "text": [
      "Number of valid sections:\n",
      "23\n",
      "First valid section: 136\n",
      "Last valid section: 158\n",
      "num_valid_sections: 23\n",
      "\n",
      "\n",
      "\n",
      "(22, 145, 121)\n",
      "/media/alexn/BstemAtlasDataBackup/ucsd_brain/CSHL_data_processed/MD585/MD585_cropbox.ini\n"
     ]
    },
    {
     "name": "stderr",
     "output_type": "stream",
     "text": [
      "Seems you are using operation INIs to provide cropbox.\n"
     ]
    },
    {
     "name": "stdout",
     "output_type": "stream",
     "text": [
      "Number of valid sections:\n",
      "10\n",
      "First valid section: 232\n",
      "Last valid section: 241\n",
      "num_valid_sections: 10\n",
      "\n",
      "\n",
      "\n",
      "(9, 35, 35)\n",
      "/media/alexn/BstemAtlasDataBackup/ucsd_brain/CSHL_data_processed/MD585/MD585_cropbox.ini\n"
     ]
    },
    {
     "name": "stderr",
     "output_type": "stream",
     "text": [
      "Seems you are using operation INIs to provide cropbox.\n"
     ]
    },
    {
     "name": "stdout",
     "output_type": "stream",
     "text": [
      "Number of valid sections:\n",
      "9\n",
      "First valid section: 188\n",
      "Last valid section: 196\n",
      "num_valid_sections: 9\n",
      "\n",
      "\n",
      "\n",
      "(8, 35, 37)\n",
      "/media/alexn/BstemAtlasDataBackup/ucsd_brain/CSHL_data_processed/MD585/MD585_cropbox.ini\n"
     ]
    },
    {
     "name": "stderr",
     "output_type": "stream",
     "text": [
      "Seems you are using operation INIs to provide cropbox.\n",
      "contour has less than three vertices. Ignore.\n",
      "2 contours of reconstructed volume is found at position 47 ([50, 1]). Use the longest one.\n"
     ]
    },
    {
     "name": "stdout",
     "output_type": "stream",
     "text": [
      "Number of valid sections:\n",
      "36\n",
      "First valid section: 253\n",
      "Last valid section: 288\n",
      "num_valid_sections: 36\n",
      "\n",
      "\n",
      "\n",
      "(35, 159, 159)\n",
      "/media/alexn/BstemAtlasDataBackup/ucsd_brain/CSHL_data_processed/MD585/MD585_cropbox.ini\n"
     ]
    },
    {
     "name": "stderr",
     "output_type": "stream",
     "text": [
      "Seems you are using operation INIs to provide cropbox.\n"
     ]
    },
    {
     "name": "stdout",
     "output_type": "stream",
     "text": [
      "Number of valid sections:\n",
      "44\n",
      "First valid section: 139\n",
      "Last valid section: 182\n",
      "num_valid_sections: 44\n",
      "\n",
      "\n",
      "\n",
      "(43, 103, 179)\n",
      "/media/alexn/BstemAtlasDataBackup/ucsd_brain/CSHL_data_processed/MD585/MD585_cropbox.ini\n"
     ]
    },
    {
     "name": "stderr",
     "output_type": "stream",
     "text": [
      "Seems you are using operation INIs to provide cropbox.\n",
      "contour has less than three vertices. Ignore.\n"
     ]
    },
    {
     "name": "stdout",
     "output_type": "stream",
     "text": [
      "Number of valid sections:\n",
      "80\n",
      "First valid section: 228\n",
      "Last valid section: 307\n",
      "num_valid_sections: 80\n",
      "\n",
      "\n",
      "\n",
      "(79, 145, 123)\n",
      "/media/alexn/BstemAtlasDataBackup/ucsd_brain/CSHL_data_processed/MD585/MD585_cropbox.ini\n"
     ]
    },
    {
     "name": "stderr",
     "output_type": "stream",
     "text": [
      "Seems you are using operation INIs to provide cropbox.\n",
      "2 contours of reconstructed volume is found at position 13 ([1, 1]). Use the longest one.\n",
      "contour has less than three vertices. Ignore.\n",
      "3 contours of reconstructed volume is found at position 23 ([1, 1, 1]). Use the longest one.\n",
      "contour has less than three vertices. Ignore.\n"
     ]
    },
    {
     "name": "stdout",
     "output_type": "stream",
     "text": [
      "Number of valid sections:\n",
      "74\n",
      "First valid section: 113\n",
      "Last valid section: 186\n",
      "num_valid_sections: 74\n",
      "\n",
      "\n",
      "\n",
      "(73, 75, 213)\n",
      "/media/alexn/BstemAtlasDataBackup/ucsd_brain/CSHL_data_processed/MD585/MD585_cropbox.ini\n"
     ]
    },
    {
     "name": "stderr",
     "output_type": "stream",
     "text": [
      "Seems you are using operation INIs to provide cropbox.\n"
     ]
    },
    {
     "name": "stdout",
     "output_type": "stream",
     "text": [
      "Number of valid sections:\n",
      "8\n",
      "First valid section: 262\n",
      "Last valid section: 269\n",
      "num_valid_sections: 8\n",
      "\n",
      "\n",
      "\n",
      "(7, 39, 67)\n",
      "/media/alexn/BstemAtlasDataBackup/ucsd_brain/CSHL_data_processed/MD585/MD585_cropbox.ini\n"
     ]
    },
    {
     "name": "stderr",
     "output_type": "stream",
     "text": [
      "Seems you are using operation INIs to provide cropbox.\n"
     ]
    },
    {
     "name": "stdout",
     "output_type": "stream",
     "text": [
      "Number of valid sections:\n",
      "6\n",
      "First valid section: 133\n",
      "Last valid section: 138\n",
      "num_valid_sections: 6\n",
      "\n",
      "\n",
      "\n",
      "(5, 37, 71)\n",
      "/media/alexn/BstemAtlasDataBackup/ucsd_brain/CSHL_data_processed/MD585/MD585_cropbox.ini\n"
     ]
    },
    {
     "name": "stderr",
     "output_type": "stream",
     "text": [
      "Seems you are using operation INIs to provide cropbox.\n",
      "2 contours of reconstructed volume is found at position 41 ([13, 1]). Use the longest one.\n",
      "2 contours of reconstructed volume is found at position 17 ([17, 1]). Use the longest one.\n"
     ]
    },
    {
     "name": "stdout",
     "output_type": "stream",
     "text": [
      "Number of valid sections:\n",
      "16\n",
      "First valid section: 249\n",
      "Last valid section: 264\n",
      "num_valid_sections: 16\n",
      "\n",
      "\n",
      "\n",
      "(15, 119, 113)\n",
      "/media/alexn/BstemAtlasDataBackup/ucsd_brain/CSHL_data_processed/MD585/MD585_cropbox.ini\n"
     ]
    },
    {
     "name": "stderr",
     "output_type": "stream",
     "text": [
      "Seems you are using operation INIs to provide cropbox.\n",
      "2 contours of reconstructed volume is found at position 37 ([13, 4]). Use the longest one.\n",
      "2 contours of reconstructed volume is found at position 13 ([15, 3]). Use the longest one.\n"
     ]
    },
    {
     "name": "stdout",
     "output_type": "stream",
     "text": [
      "Number of valid sections:\n",
      "14\n",
      "First valid section: 166\n",
      "Last valid section: 179\n",
      "num_valid_sections: 14\n",
      "\n",
      "\n",
      "\n",
      "(13, 117, 117)\n",
      "/media/alexn/BstemAtlasDataBackup/ucsd_brain/CSHL_data_processed/MD585/MD585_cropbox.ini\n"
     ]
    },
    {
     "name": "stderr",
     "output_type": "stream",
     "text": [
      "Seems you are using operation INIs to provide cropbox.\n",
      "2 contours of reconstructed volume is found at position 82 ([21, 3]). Use the longest one.\n",
      "2 contours of reconstructed volume is found at position 52 ([59, 1]). Use the longest one.\n"
     ]
    },
    {
     "name": "stdout",
     "output_type": "stream",
     "text": [
      "Number of valid sections:\n",
      "35\n",
      "First valid section: 249\n",
      "Last valid section: 283\n",
      "num_valid_sections: 35\n",
      "\n",
      "\n",
      "\n",
      "(34, 145, 229)\n",
      "/media/alexn/BstemAtlasDataBackup/ucsd_brain/CSHL_data_processed/MD585/MD585_cropbox.ini\n"
     ]
    },
    {
     "name": "stderr",
     "output_type": "stream",
     "text": [
      "Seems you are using operation INIs to provide cropbox.\n",
      "2 contours of reconstructed volume is found at position 13 ([5, 1]). Use the longest one.\n",
      "4 contours of reconstructed volume is found at position 93 ([23, 5, 1, 1]). Use the longest one.\n",
      "3 contours of reconstructed volume is found at position 89 ([13, 1, 1]). Use the longest one.\n"
     ]
    },
    {
     "name": "stdout",
     "output_type": "stream",
     "text": [
      "Number of valid sections:\n",
      "41\n",
      "First valid section: 138\n",
      "Last valid section: 178\n",
      "num_valid_sections: 41\n",
      "\n",
      "\n",
      "\n",
      "(40, 111, 205)\n",
      "/media/alexn/BstemAtlasDataBackup/ucsd_brain/CSHL_data_processed/MD585/MD585_cropbox.ini\n"
     ]
    },
    {
     "name": "stderr",
     "output_type": "stream",
     "text": [
      "Seems you are using operation INIs to provide cropbox.\n",
      "2 contours of reconstructed volume is found at position 14 ([10, 7]). Use the longest one.\n"
     ]
    },
    {
     "name": "stdout",
     "output_type": "stream",
     "text": [
      "Number of valid sections:\n",
      "52\n",
      "First valid section: 227\n",
      "Last valid section: 278\n",
      "num_valid_sections: 52\n",
      "\n",
      "\n",
      "\n",
      "(51, 159, 187)\n",
      "/media/alexn/BstemAtlasDataBackup/ucsd_brain/CSHL_data_processed/MD585/MD585_cropbox.ini\n"
     ]
    },
    {
     "name": "stderr",
     "output_type": "stream",
     "text": [
      "Seems you are using operation INIs to provide cropbox.\n",
      "2 contours of reconstructed volume is found at position 110 ([9, 5]). Use the longest one.\n"
     ]
    },
    {
     "name": "stdout",
     "output_type": "stream",
     "text": [
      "Number of valid sections:\n",
      "53\n",
      "First valid section: 163\n",
      "Last valid section: 215\n",
      "num_valid_sections: 53\n",
      "\n",
      "\n",
      "\n",
      "(52, 171, 189)\n",
      "/media/alexn/BstemAtlasDataBackup/ucsd_brain/CSHL_data_processed/MD585/MD585_cropbox.ini\n"
     ]
    },
    {
     "name": "stderr",
     "output_type": "stream",
     "text": [
      "Seems you are using operation INIs to provide cropbox.\n",
      "contour has less than three vertices. Ignore.\n",
      "2 contours of reconstructed volume is found at position 22 ([14, 1]). Use the longest one.\n"
     ]
    },
    {
     "name": "stdout",
     "output_type": "stream",
     "text": [
      "Number of valid sections:\n",
      "36\n",
      "First valid section: 207\n",
      "Last valid section: 242\n",
      "num_valid_sections: 36\n",
      "\n",
      "\n",
      "\n",
      "(35, 65, 141)\n",
      "/media/alexn/BstemAtlasDataBackup/ucsd_brain/CSHL_data_processed/MD585/MD585_cropbox.ini\n"
     ]
    },
    {
     "name": "stderr",
     "output_type": "stream",
     "text": [
      "Seems you are using operation INIs to provide cropbox.\n",
      "3 contours of reconstructed volume is found at position 12 ([24, 3, 1]). Use the longest one.\n",
      "contour has less than three vertices. Ignore.\n",
      "2 contours of reconstructed volume is found at position 16 ([47, 3]). Use the longest one.\n"
     ]
    },
    {
     "name": "stdout",
     "output_type": "stream",
     "text": [
      "Number of valid sections:\n",
      "23\n",
      "First valid section: 184\n",
      "Last valid section: 206\n",
      "num_valid_sections: 23\n",
      "\n",
      "\n",
      "\n",
      "(22, 49, 175)\n",
      "/media/alexn/BstemAtlasDataBackup/ucsd_brain/CSHL_data_processed/MD585/MD585_cropbox.ini\n"
     ]
    },
    {
     "name": "stderr",
     "output_type": "stream",
     "text": [
      "Seems you are using operation INIs to provide cropbox.\n",
      "3 contours of reconstructed volume is found at position 32 ([5, 3, 2]). Use the longest one.\n",
      "2 contours of reconstructed volume is found at position 100 ([12, 7]). Use the longest one.\n",
      "2 contours of reconstructed volume is found at position 36 ([9, 6]). Use the longest one.\n",
      "2 contours of reconstructed volume is found at position 96 ([3, 1]). Use the longest one.\n"
     ]
    },
    {
     "name": "stdout",
     "output_type": "stream",
     "text": [
      "Number of valid sections:\n",
      "35\n",
      "First valid section: 281\n",
      "Last valid section: 315\n",
      "num_valid_sections: 35\n",
      "\n",
      "\n",
      "\n",
      "(34, 359, 151)\n",
      "/media/alexn/BstemAtlasDataBackup/ucsd_brain/CSHL_data_processed/MD585/MD585_cropbox.ini\n"
     ]
    },
    {
     "name": "stderr",
     "output_type": "stream",
     "text": [
      "Seems you are using operation INIs to provide cropbox.\n",
      "contour has less than three vertices. Ignore.\n",
      "3 contours of reconstructed volume is found at position 87 ([3, 2, 1]). Use the longest one.\n"
     ]
    },
    {
     "name": "stdout",
     "output_type": "stream",
     "text": [
      "Number of valid sections:\n",
      "39\n",
      "First valid section: 123\n",
      "Last valid section: 161\n",
      "num_valid_sections: 39\n",
      "\n",
      "\n",
      "\n",
      "(38, 355, 137)\n",
      "/media/alexn/BstemAtlasDataBackup/ucsd_brain/CSHL_data_processed/MD585/MD585_cropbox.ini\n"
     ]
    },
    {
     "name": "stderr",
     "output_type": "stream",
     "text": [
      "Seems you are using operation INIs to provide cropbox.\n"
     ]
    },
    {
     "name": "stdout",
     "output_type": "stream",
     "text": [
      "Number of valid sections:\n",
      "29\n",
      "First valid section: 234\n",
      "Last valid section: 262\n",
      "num_valid_sections: 29\n",
      "\n",
      "\n",
      "\n",
      "(28, 93, 103)\n",
      "/media/alexn/BstemAtlasDataBackup/ucsd_brain/CSHL_data_processed/MD585/MD585_cropbox.ini\n"
     ]
    },
    {
     "name": "stderr",
     "output_type": "stream",
     "text": [
      "Seems you are using operation INIs to provide cropbox.\n",
      "contour has less than three vertices. Ignore.\n"
     ]
    },
    {
     "name": "stdout",
     "output_type": "stream",
     "text": [
      "Number of valid sections:\n",
      "29\n",
      "First valid section: 182\n",
      "Last valid section: 210\n",
      "num_valid_sections: 29\n",
      "\n",
      "\n",
      "\n",
      "(28, 95, 115)\n",
      "/media/alexn/BstemAtlasDataBackup/ucsd_brain/CSHL_data_processed/MD585/MD585_cropbox.ini\n"
     ]
    },
    {
     "name": "stderr",
     "output_type": "stream",
     "text": [
      "Seems you are using operation INIs to provide cropbox.\n",
      "contour has less than three vertices. Ignore.\n",
      "2 contours of reconstructed volume is found at position 78 ([7, 1]). Use the longest one.\n",
      "2 contours of reconstructed volume is found at position 84 ([4, 2]). Use the longest one.\n",
      "2 contours of reconstructed volume is found at position 86 ([5, 1]). Use the longest one.\n",
      "2 contours of reconstructed volume is found at position 88 ([2, 1]). Use the longest one.\n",
      "contour has less than three vertices. Ignore.\n",
      "3 contours of reconstructed volume is found at position 90 ([2, 1, 1]). Use the longest one.\n",
      "contour has less than three vertices. Ignore.\n",
      "2 contours of reconstructed volume is found at position 92 ([3, 2]). Use the longest one.\n"
     ]
    },
    {
     "name": "stdout",
     "output_type": "stream",
     "text": [
      "Number of valid sections:\n",
      "45\n",
      "First valid section: 239\n",
      "Last valid section: 283\n",
      "num_valid_sections: 45\n",
      "\n",
      "\n",
      "\n",
      "(44, 79, 167)\n",
      "/media/alexn/BstemAtlasDataBackup/ucsd_brain/CSHL_data_processed/MD585/MD585_cropbox.ini\n"
     ]
    },
    {
     "name": "stderr",
     "output_type": "stream",
     "text": [
      "Seems you are using operation INIs to provide cropbox.\n",
      "contour has less than three vertices. Ignore.\n",
      "2 contours of reconstructed volume is found at position 36 ([3, 2]). Use the longest one.\n",
      "2 contours of reconstructed volume is found at position 38 ([3, 1]). Use the longest one.\n",
      "2 contours of reconstructed volume is found at position 46 ([6, 1]). Use the longest one.\n"
     ]
    },
    {
     "name": "stdout",
     "output_type": "stream",
     "text": [
      "Number of valid sections:\n",
      "44\n",
      "First valid section: 144\n",
      "Last valid section: 187\n",
      "num_valid_sections: 44\n",
      "\n",
      "\n",
      "\n",
      "(43, 163, 103)\n",
      "/media/alexn/BstemAtlasDataBackup/ucsd_brain/CSHL_data_processed/MD585/MD585_cropbox.ini\n"
     ]
    },
    {
     "name": "stderr",
     "output_type": "stream",
     "text": [
      "Seems you are using operation INIs to provide cropbox.\n",
      "2 contours of reconstructed volume is found at position 13 ([25, 2]). Use the longest one.\n",
      "2 contours of reconstructed volume is found at position 141 ([14, 4]). Use the longest one.\n",
      "2 contours of reconstructed volume is found at position 17 ([11, 3]). Use the longest one.\n"
     ]
    },
    {
     "name": "stdout",
     "output_type": "stream",
     "text": [
      "Number of valid sections:\n",
      "65\n",
      "First valid section: 263\n",
      "Last valid section: 327\n",
      "num_valid_sections: 65\n",
      "\n",
      "\n",
      "\n",
      "(64, 211, 273)\n",
      "/media/alexn/BstemAtlasDataBackup/ucsd_brain/CSHL_data_processed/MD585/MD585_cropbox.ini\n"
     ]
    },
    {
     "name": "stderr",
     "output_type": "stream",
     "text": [
      "Seems you are using operation INIs to provide cropbox.\n",
      "2 contours of reconstructed volume is found at position 140 ([9, 2]). Use the longest one.\n"
     ]
    },
    {
     "name": "stdout",
     "output_type": "stream",
     "text": [
      "Number of valid sections:\n",
      "66\n",
      "First valid section: 121\n",
      "Last valid section: 186\n",
      "num_valid_sections: 66\n",
      "\n",
      "\n",
      "\n",
      "(65, 267, 217)\n",
      "/media/alexn/BstemAtlasDataBackup/ucsd_brain/CSHL_data_processed/MD585/MD585_cropbox.ini\n"
     ]
    },
    {
     "name": "stderr",
     "output_type": "stream",
     "text": [
      "Seems you are using operation INIs to provide cropbox.\n",
      "3 contours of reconstructed volume is found at position 37 ([4, 2, 1]). Use the longest one.\n"
     ]
    },
    {
     "name": "stdout",
     "output_type": "stream",
     "text": [
      "Number of valid sections:\n",
      "12\n",
      "First valid section: 222\n",
      "Last valid section: 233\n",
      "num_valid_sections: 12\n",
      "\n",
      "\n",
      "\n",
      "(11, 63, 91)\n",
      "/media/alexn/BstemAtlasDataBackup/ucsd_brain/CSHL_data_processed/MD585/MD585_cropbox.ini\n"
     ]
    },
    {
     "name": "stderr",
     "output_type": "stream",
     "text": [
      "Seems you are using operation INIs to provide cropbox.\n"
     ]
    },
    {
     "name": "stdout",
     "output_type": "stream",
     "text": [
      "Number of valid sections:\n",
      "13\n",
      "First valid section: 209\n",
      "Last valid section: 221\n",
      "num_valid_sections: 13\n",
      "\n",
      "\n",
      "\n",
      "(12, 61, 87)\n",
      "/media/alexn/BstemAtlasDataBackup/ucsd_brain/CSHL_data_processed/MD585/MD585_cropbox.ini\n"
     ]
    },
    {
     "name": "stderr",
     "output_type": "stream",
     "text": [
      "Seems you are using operation INIs to provide cropbox.\n",
      "contour has less than three vertices. Ignore.\n",
      "contour has less than three vertices. Ignore.\n"
     ]
    },
    {
     "name": "stdout",
     "output_type": "stream",
     "text": [
      "Number of valid sections:\n",
      "7\n",
      "First valid section: 230\n",
      "Last valid section: 236\n",
      "num_valid_sections: 7\n",
      "\n",
      "\n",
      "\n",
      "(6, 25, 25)\n",
      "/media/alexn/BstemAtlasDataBackup/ucsd_brain/CSHL_data_processed/MD585/MD585_cropbox.ini\n"
     ]
    },
    {
     "name": "stderr",
     "output_type": "stream",
     "text": [
      "Seems you are using operation INIs to provide cropbox.\n",
      "contour has less than three vertices. Ignore.\n"
     ]
    },
    {
     "name": "stdout",
     "output_type": "stream",
     "text": [
      "Number of valid sections:\n",
      "7\n",
      "First valid section: 204\n",
      "Last valid section: 210\n",
      "num_valid_sections: 7\n",
      "\n",
      "\n",
      "\n",
      "(6, 27, 21)\n",
      "/media/alexn/BstemAtlasDataBackup/ucsd_brain/CSHL_data_processed/MD585/MD585_cropbox.ini\n"
     ]
    },
    {
     "name": "stderr",
     "output_type": "stream",
     "text": [
      "Seems you are using operation INIs to provide cropbox.\n",
      "2 contours of reconstructed volume is found at position 89 ([59, 1]). Use the longest one.\n",
      "3 contours of reconstructed volume is found at position 97 ([23, 1, 1]). Use the longest one.\n",
      "2 contours of reconstructed volume is found at position 75 ([69, 1]). Use the longest one.\n",
      "3 contours of reconstructed volume is found at position 93 ([11, 3, 3]). Use the longest one.\n"
     ]
    },
    {
     "name": "stdout",
     "output_type": "stream",
     "text": [
      "Number of valid sections:\n",
      "42\n",
      "First valid section: 272\n",
      "Last valid section: 313\n",
      "num_valid_sections: 42\n",
      "\n",
      "\n",
      "\n",
      "(41, 213, 219)\n",
      "/media/alexn/BstemAtlasDataBackup/ucsd_brain/CSHL_data_processed/MD585/MD585_cropbox.ini\n"
     ]
    },
    {
     "name": "stderr",
     "output_type": "stream",
     "text": [
      "Seems you are using operation INIs to provide cropbox.\n",
      "4 contours of reconstructed volume is found at position 14 ([6, 3, 1, 1]). Use the longest one.\n",
      "2 contours of reconstructed volume is found at position 20 ([2, 1]). Use the longest one.\n",
      "contour has less than three vertices. Ignore.\n",
      "3 contours of reconstructed volume is found at position 40 ([68, 1, 1]). Use the longest one.\n"
     ]
    },
    {
     "name": "stdout",
     "output_type": "stream",
     "text": [
      "Number of valid sections:\n",
      "41\n",
      "First valid section: 101\n",
      "Last valid section: 141\n",
      "num_valid_sections: 41\n",
      "\n",
      "\n",
      "\n",
      "(40, 235, 153)\n",
      "/media/alexn/BstemAtlasDataBackup/ucsd_brain/CSHL_data_processed/MD585/MD585_cropbox.ini\n"
     ]
    },
    {
     "name": "stderr",
     "output_type": "stream",
     "text": [
      "Seems you are using operation INIs to provide cropbox.\n",
      "2 contours of reconstructed volume is found at position 81 ([82, 3]). Use the longest one.\n",
      "4 contours of reconstructed volume is found at position 75 ([89, 3, 3, 1]). Use the longest one.\n",
      "2 contours of reconstructed volume is found at position 77 ([68, 3]). Use the longest one.\n",
      "2 contours of reconstructed volume is found at position 83 ([17, 1]). Use the longest one.\n"
     ]
    },
    {
     "name": "stdout",
     "output_type": "stream",
     "text": [
      "Number of valid sections:\n",
      "35\n",
      "First valid section: 280\n",
      "Last valid section: 314\n",
      "num_valid_sections: 35\n",
      "\n",
      "\n",
      "\n",
      "(34, 249, 307)\n",
      "/media/alexn/BstemAtlasDataBackup/ucsd_brain/CSHL_data_processed/MD585/MD585_cropbox.ini\n"
     ]
    },
    {
     "name": "stderr",
     "output_type": "stream",
     "text": [
      "Seems you are using operation INIs to provide cropbox.\n",
      "4 contours of reconstructed volume is found at position 22 ([7, 3, 1, 1]). Use the longest one.\n",
      "3 contours of reconstructed volume is found at position 24 ([57, 25, 1]). Use the longest one.\n",
      "2 contours of reconstructed volume is found at position 26 ([76, 63]). Use the longest one.\n",
      "3 contours of reconstructed volume is found at position 68 ([85, 2, 1]). Use the longest one.\n",
      "3 contours of reconstructed volume is found at position 72 ([56, 3, 1]). Use the longest one.\n",
      "5 contours of reconstructed volume is found at position 80 ([5, 5, 2, 1, 1]). Use the longest one.\n",
      "contour has less than three vertices. Ignore.\n",
      "3 contours of reconstructed volume is found at position 28 ([15, 2, 2]). Use the longest one.\n",
      "6 contours of reconstructed volume is found at position 30 ([56, 28, 11, 1, 1, 1]). Use the longest one.\n",
      "3 contours of reconstructed volume is found at position 32 ([84, 40, 1]). Use the longest one.\n",
      "3 contours of reconstructed volume is found at position 64 ([81, 7, 1]). Use the longest one.\n",
      "3 contours of reconstructed volume is found at position 66 ([60, 3, 1]). Use the longest one.\n"
     ]
    },
    {
     "name": "stdout",
     "output_type": "stream",
     "text": [
      "Number of valid sections:\n",
      "30\n",
      "First valid section: 114\n",
      "Last valid section: 143\n",
      "num_valid_sections: 30\n",
      "\n",
      "\n",
      "\n",
      "(29, 213, 343)\n",
      "/media/alexn/BstemAtlasDataBackup/ucsd_brain/CSHL_data_processed/MD585/MD585_cropbox.ini\n"
     ]
    },
    {
     "name": "stderr",
     "output_type": "stream",
     "text": [
      "Seems you are using operation INIs to provide cropbox.\n",
      "2 contours of reconstructed volume is found at position 71 ([6, 5]). Use the longest one.\n",
      "2 contours of reconstructed volume is found at position 73 ([9, 8]). Use the longest one.\n",
      "2 contours of reconstructed volume is found at position 77 ([18, 2]). Use the longest one.\n",
      "2 contours of reconstructed volume is found at position 79 ([29, 12]). Use the longest one.\n",
      "2 contours of reconstructed volume is found at position 107 ([10, 3]). Use the longest one.\n",
      "2 contours of reconstructed volume is found at position 109 ([11, 7]). Use the longest one.\n",
      "4 contours of reconstructed volume is found at position 111 ([12, 9, 2, 1]). Use the longest one.\n",
      "3 contours of reconstructed volume is found at position 113 ([13, 11, 9]). Use the longest one.\n",
      "3 contours of reconstructed volume is found at position 115 ([15, 13, 12]). Use the longest one.\n",
      "3 contours of reconstructed volume is found at position 117 ([18, 15, 14]). Use the longest one.\n",
      "2 contours of reconstructed volume is found at position 119 ([28, 20]). Use the longest one.\n",
      "2 contours of reconstructed volume is found at position 121 ([32, 22]). Use the longest one.\n",
      "2 contours of reconstructed volume is found at position 179 ([62, 12]). Use the longest one.\n",
      "3 contours of reconstructed volume is found at position 181 ([60, 4, 1]). Use the longest one.\n"
     ]
    },
    {
     "name": "stdout",
     "output_type": "stream",
     "text": [
      "Number of valid sections:\n",
      "85\n",
      "First valid section: 206\n",
      "Last valid section: 290\n",
      "num_valid_sections: 85\n",
      "\n",
      "\n",
      "\n",
      "(84, 235, 187)\n",
      "/media/alexn/BstemAtlasDataBackup/ucsd_brain/CSHL_data_processed/MD585/MD585_cropbox.ini\n"
     ]
    },
    {
     "name": "stderr",
     "output_type": "stream",
     "text": [
      "Seems you are using operation INIs to provide cropbox.\n",
      "2 contours of reconstructed volume is found at position 91 ([93, 1]). Use the longest one.\n",
      "2 contours of reconstructed volume is found at position 99 ([90, 2]). Use the longest one.\n",
      "2 contours of reconstructed volume is found at position 151 ([15, 1]). Use the longest one.\n",
      "2 contours of reconstructed volume is found at position 27 ([11, 7]). Use the longest one.\n",
      "2 contours of reconstructed volume is found at position 89 ([77, 1]). Use the longest one.\n"
     ]
    },
    {
     "name": "stdout",
     "output_type": "stream",
     "text": [
      "Number of valid sections:\n",
      "69\n",
      "First valid section: 108\n",
      "Last valid section: 176\n",
      "num_valid_sections: 69\n",
      "\n",
      "\n",
      "\n",
      "(68, 265, 247)\n",
      "/media/alexn/BstemAtlasDataBackup/ucsd_brain/CSHL_data_processed/MD585/MD585_cropbox.ini\n"
     ]
    },
    {
     "name": "stderr",
     "output_type": "stream",
     "text": [
      "Seems you are using operation INIs to provide cropbox.\n",
      "3 contours of reconstructed volume is found at position 35 ([2, 1, 1]). Use the longest one.\n",
      "contour has less than three vertices. Ignore.\n",
      "contour has less than three vertices. Ignore.\n",
      "contour has less than three vertices. Ignore.\n"
     ]
    },
    {
     "name": "stdout",
     "output_type": "stream",
     "text": [
      "Number of valid sections:\n",
      "10\n",
      "First valid section: 301\n",
      "Last valid section: 310\n",
      "num_valid_sections: 10\n",
      "\n",
      "\n",
      "\n",
      "(9, 99, 81)\n",
      "/media/alexn/BstemAtlasDataBackup/ucsd_brain/CSHL_data_processed/MD585/MD585_cropbox.ini\n"
     ]
    },
    {
     "name": "stderr",
     "output_type": "stream",
     "text": [
      "Seems you are using operation INIs to provide cropbox.\n",
      "2 contours of reconstructed volume is found at position 35 ([7, 1]). Use the longest one.\n",
      "2 contours of reconstructed volume is found at position 17 ([5, 1]). Use the longest one.\n",
      "2 contours of reconstructed volume is found at position 31 ([1, 1]). Use the longest one.\n",
      "contour has less than three vertices. Ignore.\n"
     ]
    },
    {
     "name": "stdout",
     "output_type": "stream",
     "text": [
      "Number of valid sections:\n",
      "12\n",
      "First valid section: 126\n",
      "Last valid section: 137\n",
      "num_valid_sections: 12\n",
      "\n",
      "\n",
      "\n",
      "(11, 105, 67)\n",
      "/media/alexn/BstemAtlasDataBackup/ucsd_brain/CSHL_data_processed/MD585/MD585_cropbox.ini\n"
     ]
    },
    {
     "name": "stderr",
     "output_type": "stream",
     "text": [
      "Seems you are using operation INIs to provide cropbox.\n",
      "contour has less than three vertices. Ignore.\n",
      "2 contours of reconstructed volume is found at position 36 ([9, 1]). Use the longest one.\n",
      "2 contours of reconstructed volume is found at position 48 ([15, 4]). Use the longest one.\n",
      "2 contours of reconstructed volume is found at position 54 ([11, 1]). Use the longest one.\n",
      "2 contours of reconstructed volume is found at position 56 ([3, 1]). Use the longest one.\n"
     ]
    },
    {
     "name": "stdout",
     "output_type": "stream",
     "text": [
      "Number of valid sections:\n",
      "26\n",
      "First valid section: 197\n",
      "Last valid section: 222\n",
      "num_valid_sections: 26\n",
      "\n",
      "\n",
      "\n",
      "(25, 87, 171)\n",
      "/media/alexn/BstemAtlasDataBackup/ucsd_brain/CSHL_data_processed/MD585/MD585_cropbox.ini\n"
     ]
    },
    {
     "name": "stderr",
     "output_type": "stream",
     "text": [
      "Seems you are using operation INIs to provide cropbox.\n",
      "2 contours of reconstructed volume is found at position 38 ([53, 1]). Use the longest one.\n",
      "9 contours of reconstructed volume is found at position 42 ([10, 7, 3, 3, 3, 2, 2, 1, 1]). Use the longest one.\n",
      "contour has less than three vertices. Ignore.\n",
      "2 contours of reconstructed volume is found at position 22 ([6, 3]). Use the longest one.\n",
      "2 contours of reconstructed volume is found at position 32 ([24, 1]). Use the longest one.\n",
      "3 contours of reconstructed volume is found at position 34 ([25, 7, 1]). Use the longest one.\n",
      "6 contours of reconstructed volume is found at position 38 ([7, 2, 2, 2, 2, 1]). Use the longest one.\n"
     ]
    },
    {
     "name": "stdout",
     "output_type": "stream",
     "text": [
      "Number of valid sections:\n",
      "16\n",
      "First valid section: 177\n",
      "Last valid section: 192\n",
      "num_valid_sections: 16\n",
      "\n",
      "\n",
      "\n",
      "(15, 97, 183)\n",
      "/media/alexn/BstemAtlasDataBackup/ucsd_brain/CSHL_data_processed/MD585/MD585_cropbox.ini\n"
     ]
    },
    {
     "name": "stderr",
     "output_type": "stream",
     "text": [
      "Seems you are using operation INIs to provide cropbox.\n",
      "2 contours of reconstructed volume is found at position 89 ([39, 1]). Use the longest one.\n",
      "5 contours of reconstructed volume is found at position 87 ([6, 2, 1, 1, 1]). Use the longest one.\n"
     ]
    },
    {
     "name": "stdout",
     "output_type": "stream",
     "text": [
      "Number of valid sections:\n",
      "40\n",
      "First valid section: 308\n",
      "Last valid section: 347\n",
      "num_valid_sections: 40\n",
      "\n",
      "\n",
      "\n",
      "(39, 133, 193)\n",
      "/media/alexn/BstemAtlasDataBackup/ucsd_brain/CSHL_data_processed/MD585/MD585_cropbox.ini\n"
     ]
    },
    {
     "name": "stderr",
     "output_type": "stream",
     "text": [
      "Seems you are using operation INIs to provide cropbox.\n",
      "3 contours of reconstructed volume is found at position 15 ([25, 3, 1]). Use the longest one.\n",
      "4 contours of reconstructed volume is found at position 19 ([20, 3, 2, 1]). Use the longest one.\n"
     ]
    },
    {
     "name": "stdout",
     "output_type": "stream",
     "text": [
      "Number of valid sections:\n",
      "38\n",
      "First valid section: 72\n",
      "Last valid section: 109\n",
      "num_valid_sections: 38\n",
      "\n",
      "\n",
      "\n",
      "(26, 155, 211)\n",
      "/media/alexn/BstemAtlasDataBackup/ucsd_brain/CSHL_data_processed/MD585/MD585_cropbox.ini\n"
     ]
    },
    {
     "name": "stderr",
     "output_type": "stream",
     "text": [
      "Seems you are using operation INIs to provide cropbox.\n",
      "4 contours of reconstructed volume is found at position 84 ([6, 5, 2, 2]). Use the longest one.\n",
      "2 contours of reconstructed volume is found at position 72 ([35, 1]). Use the longest one.\n",
      "5 contours of reconstructed volume is found at position 80 ([13, 2, 2, 1, 1]). Use the longest one.\n"
     ]
    },
    {
     "name": "stdout",
     "output_type": "stream",
     "text": [
      "Number of valid sections:\n",
      "35\n",
      "First valid section: 306\n",
      "Last valid section: 340\n",
      "num_valid_sections: 35\n",
      "\n",
      "\n",
      "\n",
      "(34, 177, 105)\n",
      "/media/alexn/BstemAtlasDataBackup/ucsd_brain/CSHL_data_processed/MD585/MD585_cropbox.ini\n"
     ]
    },
    {
     "name": "stderr",
     "output_type": "stream",
     "text": [
      "Seems you are using operation INIs to provide cropbox.\n",
      "3 contours of reconstructed volume is found at position 14 ([12, 4, 2]). Use the longest one.\n",
      "2 contours of reconstructed volume is found at position 52 ([5, 2]). Use the longest one.\n"
     ]
    },
    {
     "name": "stdout",
     "output_type": "stream",
     "text": [
      "Number of valid sections:\n",
      "27\n",
      "First valid section: 84\n",
      "Last valid section: 110\n",
      "num_valid_sections: 27\n",
      "\n",
      "\n",
      "\n",
      "(26, 131, 177)\n",
      "/media/alexn/BstemAtlasDataBackup/ucsd_brain/CSHL_data_processed/MD585/MD585_cropbox.ini\n"
     ]
    },
    {
     "name": "stderr",
     "output_type": "stream",
     "text": [
      "Seems you are using operation INIs to provide cropbox.\n",
      "contour has less than three vertices. Ignore.\n",
      "2 contours of reconstructed volume is found at position 47 ([1, 1]). Use the longest one.\n",
      "contour has less than three vertices. Ignore.\n"
     ]
    },
    {
     "name": "stdout",
     "output_type": "stream",
     "text": [
      "Number of valid sections:\n",
      "52\n",
      "First valid section: 285\n",
      "Last valid section: 336\n",
      "num_valid_sections: 52\n",
      "\n",
      "\n",
      "\n",
      "(51, 117, 181)\n",
      "/media/alexn/BstemAtlasDataBackup/ucsd_brain/CSHL_data_processed/MD585/MD585_cropbox.ini\n"
     ]
    },
    {
     "name": "stderr",
     "output_type": "stream",
     "text": [
      "Seems you are using operation INIs to provide cropbox.\n",
      "2 contours of reconstructed volume is found at position 24 ([47, 1]). Use the longest one.\n",
      "2 contours of reconstructed volume is found at position 110 ([3, 1]). Use the longest one.\n",
      "2 contours of reconstructed volume is found at position 18 ([3, 2]). Use the longest one.\n",
      "2 contours of reconstructed volume is found at position 102 ([3, 2]). Use the longest one.\n"
     ]
    },
    {
     "name": "stdout",
     "output_type": "stream",
     "text": [
      "Number of valid sections:\n",
      "49\n",
      "First valid section: 86\n",
      "Last valid section: 134\n",
      "num_valid_sections: 49\n",
      "\n",
      "\n",
      "\n",
      "(48, 127, 193)\n"
     ]
    }
   ],
   "source": [
    "# CRAETE ENTIRE BRAIN VOLUME\n",
    "xy_ng_resolution_um = 5\n",
    "\n",
    "with open('struct_reverse_2.json', 'r') as json_file:\n",
    "    structure_to_color = json.load( json_file )\n",
    "\n",
    "    \n",
    "# MD585: x_um = 35617,           y_um = 26086\n",
    "# MD585: x_pixels_.46res = x_um*0.46,  y_pixels_.46res = y_um*0.46\n",
    "# MD585: x_pixels_newres = x_pixels_.46res*(0.46/newres), y_pixels_newres = y_pixels_.46res*(0.46/newres)\n",
    "# microns/resolution\n",
    "y_voxels = int( 26086*0.46*(.46/xy_ng_resolution_um) + 0.5)\n",
    "x_voxels = int( 35617*0.46*(.46/xy_ng_resolution_um) + 0.5)\n",
    "full_brain_volumes = np.zeros((268,y_voxels,x_voxels), dtype=np.uint8)\n",
    "\n",
    "for structure in all_structures_total:\n",
    "    str_contour, first_sec, last_sec = image_contour_generator( stack, detector_id, structure, use_local_alignment=True, image_prep=2, threshold=0.5)\n",
    "    \n",
    "    try:\n",
    "        color=structure_to_color[structure]\n",
    "    except:\n",
    "        color=2\n",
    "    \n",
    "    str_volume, xyz_offsets = add_structure_to_neuroglancer( viewer, str_contour, structure, stack, first_sec, last_sec, \\\n",
    "                                          color_radius=5, xy_ng_resolution_um=xy_ng_resolution_um, threshold=0.5, color=color, \\\n",
    "                                          solid_volume=False, no_offset_big_volume=True, save_results=False, return_with_offsets=True, \\\n",
    "                                          add_to_ng=False, human_annotation=False )\n",
    "    \n",
    "    z_len, y_len, x_len = np.shape(str_volume)\n",
    "    full_brain_volumes[0:z_len, 0:y_len, 0:x_len] += str_volume\n",
    "\n",
    "\n",
    "\n",
    "color_segments=[]\n",
    "for i in range(1,50):\n",
    "    color_segments.append(i)\n",
    "\n",
    "with viewer.txn() as s:\n",
    "    #s.layers[ display_name ] = neuroglancer.SegmentationLayer(\n",
    "    s.layers[ \"full_brain\" ] = neuroglancer.SegmentationLayer(\n",
    "        source = neuroglancer.LocalVolume(\n",
    "            data=full_brain_volumes, # Z,Y,X\n",
    "            voxel_size=[ xy_ng_resolution_um*1000, xy_ng_resolution_um*1000,20000], # X Y Z\n",
    "            voxel_offset = [ 0, 0, 0] # X Y Z\n",
    "        ),\n",
    "        segments = color_segments\n",
    "    )"
   ]
  },
  {
   "cell_type": "code",
   "execution_count": 22,
   "metadata": {
    "collapsed": true
   },
   "outputs": [],
   "source": [
    "color_array = np.ones((1,80,80), dtype=np.uint8)\n",
    "color_array[0,0:49,0]= np.array(color_segments)\n",
    "color_array[0,0,0:49]= np.array(color_segments)\n",
    "\n",
    "\n",
    "with viewer.txn() as s:\n",
    "    #s.layers[ display_name ] = neuroglancer.SegmentationLayer(\n",
    "    s.layers[ \"color_test\" ] = neuroglancer.SegmentationLayer(\n",
    "        source = neuroglancer.LocalVolume(\n",
    "            data= color_array, # Z,Y,X\n",
    "            voxel_size=[ 50000, 50000,200000], # X Y Z\n",
    "            voxel_offset = [ 0, 0, 0] # X Y Z\n",
    "        ),\n",
    "        segments = color_segments\n",
    "    )"
   ]
  },
  {
   "cell_type": "code",
   "execution_count": null,
   "metadata": {
    "collapsed": true
   },
   "outputs": [],
   "source": []
  },
  {
   "cell_type": "code",
   "execution_count": null,
   "metadata": {
    "collapsed": true
   },
   "outputs": [],
   "source": []
  },
  {
   "cell_type": "code",
   "execution_count": null,
   "metadata": {
    "collapsed": true
   },
   "outputs": [],
   "source": []
  },
  {
   "cell_type": "code",
   "execution_count": null,
   "metadata": {
    "collapsed": true
   },
   "outputs": [],
   "source": []
  },
  {
   "cell_type": "markdown",
   "metadata": {},
   "source": [
    "# Human Annotation Contours"
   ]
  },
  {
   "cell_type": "code",
   "execution_count": 4,
   "metadata": {
    "scrolled": true
   },
   "outputs": [],
   "source": [
    "if stack==\"MD585\":\n",
    "    hand_annotations = load_hdf_v2(atlas_data_root+'/CSHL_labelings_v3/MD585/MD585_annotation_contours_05312018041032_prep2_corr2.hdf')\n",
    "if stack==\"MD589\":\n",
    "    hand_annotations = load_hdf_v2(atlas_data_root+'/CSHL_labelings_v3/MD589/MD589_annotation_contours_05312018031718_prep2_corr1.hdf')\n",
    "if stack==\"MD594\":\n",
    "    hand_annotations = load_hdf_v2(atlas_data_root+'/CSHL_labelings_v3/MD594/MD594_annotation_contours_05312018035134_prep2_corr1.hdf')\n",
    "\n",
    "num_annotations = len(hand_annotations)\n",
    "\n",
    "def get_dense_coordinates( coor_list ):\n",
    "    dense_coor_list = []\n",
    "    # Shortest distance, x, y\n",
    "\n",
    "    #for x, y in coor_list:\n",
    "    for i in range(len(coor_list)-1):\n",
    "        x, y = coor_list[i]\n",
    "        x_next, y_next = coor_list[i+1]\n",
    "        \n",
    "        x_mid = (x+x_next)/2\n",
    "        y_mid = (y+y_next)/2\n",
    "        \n",
    "        \n",
    "        dense_coor_list.append([x,y])\n",
    "        dense_coor_list.append( [x_mid, y_mid] )\n",
    "        \n",
    "        if i==len(coor_list)-2:\n",
    "            dense_coor_list.append( [x_next, y_next] )\n",
    "            x, y = coor_list[0]\n",
    "            x_mid = (x+x_next)/2\n",
    "            y_mid = (y+y_next)/2\n",
    "            dense_coor_list.append( [x_mid, y_mid] )\n",
    "        \n",
    "    return dense_coor_list\n",
    "\n",
    "def get_contours_from_annotations( stack, target_str, densify=0 ):\n",
    "    str_contours_annotation = {}\n",
    "\n",
    "    for i in range(num_annotations):\n",
    "        structure = hand_annotations['name'][i]\n",
    "        side = hand_annotations['side'][i]\n",
    "        section = hand_annotations['section'][i]\n",
    "        \n",
    "        if side=='R' or side=='L':\n",
    "            structure = structure+'_'+side\n",
    "            \n",
    "        if structure==target_str:\n",
    "            vertices = hand_annotations['vertices'][i]\n",
    "            \n",
    "            for i in range(densify):\n",
    "                vertices = get_dense_coordinates( vertices )\n",
    "\n",
    "            str_contours_annotation[section] = {}\n",
    "            str_contours_annotation[section][structure] = {}\n",
    "            str_contours_annotation[section][structure][1] = vertices\n",
    "\n",
    "    first_sec = np.min(str_contours_annotation.keys())\n",
    "    last_sec = np.max(str_contours_annotation.keys())\n",
    "    \n",
    "    return str_contours_annotation, first_sec, last_sec\n",
    "\n"
   ]
  },
  {
   "cell_type": "code",
   "execution_count": 14,
   "metadata": {
    "collapsed": true
   },
   "outputs": [],
   "source": [
    "def get_structure_vertices( stack, target_str, densify=0 ):\n",
    "#     hand_annotations = get_hand_annotations(stack)\n",
    "\n",
    "    structure_vertices = {}\n",
    "\n",
    "    for i in range( len(hand_annotations) ):\n",
    "        curr_structure = hand_annotations['name'][i]\n",
    "        side = hand_annotations['side'][i]\n",
    "        section = hand_annotations['section'][i]\n",
    "\n",
    "        if side=='R' or side=='L':\n",
    "            curr_structure = curr_structure+'_'+side\n",
    "\n",
    "        if curr_structure==target_str:\n",
    "            vertices = hand_annotations['vertices'][i]\n",
    "            for i in range(densify):\n",
    "                vertices = get_dense_coordinates( vertices )\n",
    "            structure_vertices[section] = vertices\n",
    "\n",
    "    structure_sections = np.sort( structure_vertices.keys() )\n",
    "\n",
    "    first_section = structure_sections[0]\n",
    "    last_section = structure_sections[len(structure_sections)-1]\n",
    "    # Generates a list of all integers from first_section to last_section\n",
    "    section_list_complete = np.linspace( first_section, last_section, num=(last_section-first_section)+1)\n",
    "    section_list_complete = [int(i) for i in section_list_complete] # Convert all items to int\n",
    "    # Find which sections were skipped\n",
    "    skipped_structure_sections = np.sort( list( set(section_list_complete) - set(structure_sections) ) )\n",
    "\n",
    "    for skipped_sec in skipped_structure_sections:\n",
    "        for section_seperation in [-1,-2,-3,-4,-5,-6,-7,-8]:\n",
    "            try:\n",
    "                structure_vertices[skipped_sec] = \\\n",
    "                    structure_vertices[ skipped_sec + section_seperation ]\n",
    "                break\n",
    "            except Exception as e:\n",
    "                pass\n",
    "            \n",
    "    return structure_vertices, first_section, last_section\n",
    "\n",
    "def get_contours_from_annotations_fill( stack, target_str, densify=0 ):\n",
    "    \n",
    "    str_contours_annotation = {}\n",
    "    \n",
    "    structure_vertices, first_sec, last_sec = get_structure_vertices( stack, target_str, densify )\n",
    "        \n",
    "    for section in range(first_sec, last_sec+1):\n",
    "        str_contours_annotation[section] = {}\n",
    "        str_contours_annotation[section][target_str] = {}\n",
    "        str_contours_annotation[section][target_str][1] = structure_vertices[section]\n",
    "    \n",
    "    return str_contours_annotation, first_sec, last_sec"
   ]
  },
  {
   "cell_type": "code",
   "execution_count": 17,
   "metadata": {},
   "outputs": [
    {
     "name": "stdout",
     "output_type": "stream",
     "text": [
      "(187, 441, 400)\n",
      "could not broadcast input array from shape (187,441,400) into shape (187,429,400)\n",
      "Cutting out some slices on the edge of the structure\n",
      "('New shape: ', 187, 429, 400)\n",
      "(183, 380, 432)\n"
     ]
    }
   ],
   "source": [
    "# for target_str in all_structures_total:\n",
    "for target_str in ['IC','SC']:\n",
    "\n",
    "    color = structure_to_color[target_str]\n",
    "    \n",
    "    str_contours_annotation, first_sec, last_sec = get_contours_from_annotations_fill( stack, target_str, densify=2 )\n",
    "      \n",
    "    ng_structure_volume = add_structure_to_neuroglancer( viewer, str_contours_annotation, target_str, stack, first_sec, last_sec, \\\n",
    "                                                    color_radius=1.5, xy_ng_resolution_um=5, threshold=1, color=color, \\\n",
    "                                                    solid_volume=False, no_offset_big_volume=True, save_results=False, \\\n",
    "                                                    return_with_offsets=False, add_to_ng=True, human_annotation=True )"
   ]
  },
  {
   "cell_type": "code",
   "execution_count": 18,
   "metadata": {},
   "outputs": [
    {
     "name": "stdout",
     "output_type": "stream",
     "text": [
      "(187, 111, 100)\n",
      "could not broadcast input array from shape (187,111,100) into shape (187,107,100)\n",
      "Cutting out some slices on the edge of the structure\n",
      "('New shape: ', 187, 107, 100)\n",
      "(183, 96, 109)\n"
     ]
    }
   ],
   "source": [
    "# for target_str in all_structures_total:\n",
    "for target_str in ['IC','SC']:\n",
    "\n",
    "    color = structure_to_color[target_str]\n",
    "    \n",
    "    str_contours_annotation, first_sec, last_sec = get_contours_from_annotations( stack, target_str, densify=4 )\n",
    "\n",
    "    ng_structure_volume = add_structure_to_neuroglancer( viewer, str_contours_annotation, target_str, stack, first_sec, last_sec, \\\n",
    "                                                    color_radius=.5, xy_ng_resolution_um=20, threshold=1, color=color, \\\n",
    "                                                    solid_volume=False, no_offset_big_volume=True, save_results=False, \\\n",
    "                                                    return_with_offsets=False, add_to_ng=True, human_annotation=True )"
   ]
  },
  {
   "cell_type": "code",
   "execution_count": 41,
   "metadata": {
    "scrolled": true
   },
   "outputs": [
    {
     "name": "stdout",
     "output_type": "stream",
     "text": [
      "(15, 35, 63)\n",
      "(37, 86, 104)\n",
      "(84, 97, 149)\n",
      "(183, 191, 217)\n",
      "(187, 221, 200)\n",
      "could not broadcast input array from shape (187,221,200) into shape (187,215,200)\n",
      "Cutting out some slices on the edge of the structure\n",
      "('New shape: ', 187, 215, 200)\n",
      "(23, 72, 73)\n",
      "(22, 81, 74)\n",
      "(8, 22, 24)\n",
      "(11, 21, 28)\n",
      "(42, 63, 102)\n",
      "(42, 60, 86)\n",
      "(71, 106, 83)\n",
      "(55, 131, 131)\n",
      "(7, 25, 50)\n",
      "(6, 29, 72)\n",
      "(8, 68, 81)\n",
      "(8, 69, 72)\n",
      "(27, 92, 123)\n",
      "(29, 94, 130)\n",
      "(55, 82, 110)\n",
      "(54, 81, 114)\n",
      "(28, 36, 93)\n",
      "(25, 41, 102)\n",
      "(26, 188, 85)\n",
      "(35, 200, 82)\n",
      "(42, 63, 78)\n",
      "(29, 58, 52)\n",
      "(43, 76, 66)\n",
      "(45, 101, 76)\n",
      "(68, 144, 132)\n",
      "(62, 140, 125)\n",
      "(18, 32, 58)\n",
      "(8, 34, 56)\n",
      "(9, 23, 20)\n",
      "(9, 20, 20)\n",
      "(41, 125, 97)\n",
      "(36, 294, 503)\n",
      "could not broadcast input array from shape (36,294,503) into shape (34,294,503)\n",
      "Cutting out some slices on the edge of the structure\n",
      "('New shape: ', 34, 294, 503)\n",
      "(41, 114, 202)\n",
      "(32, 120, 191)\n",
      "(62, 142, 153)\n",
      "(52, 135, 165)\n",
      "(16, 52, 46)\n",
      "(13, 71, 66)\n",
      "(19, 73, 101)\n",
      "(22, 88, 112)\n",
      "(29, 104, 132)\n",
      "(27, 315, 551)\n",
      "could not broadcast input array from shape (27,315,551) into shape (6,315,551)\n",
      "Cutting out some slices on the edge of the structure\n",
      "('New shape: ', 6, 315, 551)\n",
      "(37, 100, 85)\n",
      "(17, 292, 509)\n",
      "could not broadcast input array from shape (17,292,509) into shape (3,292,509)\n",
      "Cutting out some slices on the edge of the structure\n",
      "('New shape: ', 3, 292, 509)\n",
      "(54, 67, 153)\n",
      "(48, 297, 537)\n",
      "could not broadcast input array from shape (48,297,537) into shape (31,297,537)\n",
      "Cutting out some slices on the edge of the structure\n",
      "('New shape: ', 31, 297, 537)\n"
     ]
    }
   ],
   "source": [
    "# for target_str in ['7n_R','7n_L','IC','SC']:\n",
    "for target_str in all_structures_total:\n",
    "    color = structure_to_color[target_str]\n",
    "    \n",
    "    str_contours_annotation, first_sec, last_sec = get_contours_from_annotations( stack, target_str, densify=4 )\n",
    "\n",
    "    ng_structure_volume = add_structure_to_neuroglancer( viewer, str_contours_annotation, target_str, stack, first_sec, last_sec, \\\n",
    "                                                    color_radius=1.5, xy_ng_resolution_um=10, threshold=1, color=color, \\\n",
    "                                                    solid_volume=False, no_offset_big_volume=True, save_results=True, \\\n",
    "                                                    return_with_offsets=False, add_to_ng=False, human_annotation=True )"
   ]
  },
  {
   "cell_type": "code",
   "execution_count": null,
   "metadata": {
    "collapsed": true
   },
   "outputs": [],
   "source": []
  },
  {
   "cell_type": "code",
   "execution_count": 11,
   "metadata": {
    "scrolled": true
   },
   "outputs": [
    {
     "name": "stdout",
     "output_type": "stream",
     "text": [
      "AP\n",
      "(19, 56, 138)\n",
      "12N\n",
      "(39, 116, 262)\n",
      "RtTg\n",
      "(82, 216, 243)\n",
      "SC\n",
      "(172, 395, 403)\n",
      "IC\n",
      "(171, 367, 326)\n",
      "5N_R\n",
      "(22, 153, 132)\n",
      "5N_L\n",
      "(24, 156, 145)\n",
      "6N_R\n",
      "(12, 40, 50)\n",
      "6N_L\n",
      "(13, 48, 41)\n",
      "7N_R\n",
      "(40, 148, 171)\n",
      "7N_L\n",
      "(44, 147, 196)\n",
      "7n_R\n",
      "(62, 234, 173)\n",
      "7n_L\n",
      "(65, 248, 154)\n",
      "Amb_R\n",
      "(5, 44, 100)\n",
      "Amb_L\n",
      "(5, 38, 106)\n",
      "LC_R\n",
      "(12, 115, 161)\n",
      "LC_L\n",
      "(12, 121, 161)\n",
      "LRt_R\n",
      "(37, 164, 290)\n",
      "LRt_L\n",
      "(35, 144, 292)\n",
      "Pn_R\n",
      "(43, 155, 212)\n",
      "Pn_L\n",
      "(52, 159, 220)\n",
      "Tz_R\n",
      "(24, 59, 187)\n",
      "Tz_L\n",
      "(20, 61, 182)\n",
      "VLL_R\n",
      "(30, 371, 150)\n",
      "VLL_L\n",
      "(35, 386, 160)\n",
      "RMC_R\n",
      "(25, 137, 141)\n",
      "RMC_L\n",
      "(26, 139, 116)\n",
      "SNC_R\n",
      "(48, 227, 98)\n",
      "SNC_L\n",
      "(45, 220, 88)\n",
      "SNR_R\n",
      "(62, 314, 211)\n",
      "SNR_L\n",
      "(61, 314, 194)\n",
      "3N_R\n",
      "(11, 84, 117)\n",
      "3N_L\n",
      "(10, 75, 121)\n",
      "4N_R\n",
      "(5, 47, 39)\n",
      "4N_L\n",
      "(7, 49, 38)\n",
      "Sp5I_R\n",
      "(36, 261, 223)\n",
      "Sp5I_L\n",
      "(34, 236, 205)\n",
      "Sp5O_R\n",
      "(33, 267, 375)\n",
      "Sp5O_L\n",
      "(34, 240, 351)\n",
      "Sp5C_R\n",
      "(52, 300, 331)\n",
      "Sp5C_L\n",
      "(67, 286, 392)\n",
      "PBG_R\n",
      "(11, 176, 112)\n",
      "PBG_L\n",
      "(13, 176, 99)\n",
      "10N_R\n",
      "(16, 81, 202)\n",
      "10N_L\n",
      "(15, 96, 223)\n",
      "VCA_R\n",
      "(35, 183, 231)\n",
      "VCA_L\n",
      "(30, 224, 249)\n",
      "VCP_R\n",
      "(27, 223, 136)\n",
      "VCP_L\n",
      "(23, 258, 156)\n",
      "DC_R\n",
      "(51, 119, 231)\n",
      "DC_L\n",
      "(50, 146, 195)\n"
     ]
    }
   ],
   "source": [
    "# Add all annotated brains to the viewer\n",
    "xy_ng_resolution_um = 5\n",
    "color_radius = 3\n",
    "\n",
    "prep2_img_width_um = stack_parameters_ng[stack]['image_width_um']\n",
    "prep2_img_height_um = stack_parameters_ng[stack]['image_height_um']\n",
    "\n",
    "prep2_section_min = stack_parameters_ng[stack]['prep2_section_min']\n",
    "prep2_section_max = stack_parameters_ng[stack]['prep2_section_max']\n",
    "\n",
    "# x_um = prep2_img_width_um                        y_um = prep2_img_height_um\n",
    "# x_pixels_.46res = x_um*0.46                      y_pixels_.46res = y_um*0.46\n",
    "# x_pixels_newres = x_pixels_.46res*(0.46/newres)  y_pixels_newres = y_pixels_.46res*(0.46/newres)\n",
    "# microns/resolution\n",
    "y_voxels = 1+int( prep2_img_height_um*0.46*(.46/xy_ng_resolution_um) + 0.5)\n",
    "x_voxels = 1+int( prep2_img_width_um*0.46*(.46/xy_ng_resolution_um) + 0.5)\n",
    "z_voxels = 10 + (prep2_section_max - prep2_section_min) # 268\n",
    "full_brain_volume_annotated = np.zeros((z_voxels,y_voxels,x_voxels), dtype=np.uint8)\n",
    "\n",
    "for target_str in all_structures_total:\n",
    "# for target_str in['VCA_L','7n_R','7n_L']:\n",
    "    print(target_str)\n",
    "    str_contours_annotation, first_sec, last_sec = get_contours_from_annotations( stack, target_str, densify=4 )\n",
    "    \n",
    "    try:\n",
    "        color=structure_to_color[target_str]\n",
    "    except Exception as e:\n",
    "        print(e)\n",
    "        color=4\n",
    "    \n",
    "    str_volume, xyz_str_offsets = add_structure_to_neuroglancer( \\\n",
    "                            viewer, str_contours_annotation, target_str, stack, first_sec, last_sec, \\\n",
    "                            color_radius=color_radius, xy_ng_resolution_um=xy_ng_resolution_um, threshold=1, color=color, \\\n",
    "                            solid_volume=False, no_offset_big_volume=True, save_results=False, \\\n",
    "                            return_with_offsets=True, add_to_ng=False, human_annotation=True  )\n",
    "    \n",
    "    z_len, y_len, x_len = np.shape(str_volume)\n",
    "#     full_brain_volume_annotated[0:z_len, 0:y_len, 0:x_len] = str_volume.copy()\n",
    "    for z in range( xyz_str_offsets[2], z_len ):\n",
    "        for y in range( xyz_str_offsets[1], y_len ):\n",
    "            for x in range( xyz_str_offsets[0], x_len ):\n",
    "                structure_val = str_volume[z, y, x]\n",
    "                if structure_val==0:\n",
    "                    continue\n",
    "                else:\n",
    "                    try:\n",
    "                        full_brain_volume_annotated[z, y, x] = structure_val\n",
    "                    except Exception as e:\n",
    "                        print(e)\n",
    "    \n",
    "with viewer.txn() as s:\n",
    "    s.layers[ stack+\"_Atlas\" ] = neuroglancer.SegmentationLayer(\n",
    "        source = neuroglancer.LocalVolume(\n",
    "            data=full_brain_volume_annotated, # Z,Y,X\n",
    "            voxel_size=[ xy_ng_resolution_um*1000, xy_ng_resolution_um*1000,20000], # X Y Z\n",
    "            voxel_offset = [ 0, 0, 0] # X Y Z\n",
    "        ),\n",
    "        segments = color_segments\n",
    "    )"
   ]
  },
  {
   "cell_type": "code",
   "execution_count": 12,
   "metadata": {},
   "outputs": [
    {
     "name": "stdout",
     "output_type": "stream",
     "text": [
      "Saving to :/media/alexn/BstemAtlasDataBackup/neuroglancer_volumes/MD594/human_annotation/solid_volume_5um//media/alexn/BstemAtlasDataBackup/neuroglancer_volumes/MD594/human_annotation/solid_volume_5um/volume_colored.npy\n"
     ]
    }
   ],
   "source": [
    "full_annotation_fp = NEUROGLANCER_ROOT+stack+'/human_annotation/solid_volume_'+str(xy_ng_resolution_um)+'um/'\n",
    "full_annotation_fn = full_annotation_fp+'volume_colored.npy'\n",
    "print('Saving to :'+full_annotation_fp+full_annotation_fn)\n",
    "\n",
    "if not os.path.exists( full_annotation_fp ):\n",
    "    os.makedirs(full_annotation_fp)\n",
    "    \n",
    "np.save( full_annotation_fn, full_brain_volume_annotated )\n",
    "# radius <= 1 : wire\n",
    "#>radius <= 2 : thin\n",
    "#>radius <= 3.5 : ''"
   ]
  },
  {
   "cell_type": "code",
   "execution_count": 10,
   "metadata": {
    "collapsed": true
   },
   "outputs": [],
   "source": [
    "with viewer.txn() as s:\n",
    "    s.layers[ stack+\"_Atlas\" ] = neuroglancer.SegmentationLayer(\n",
    "        source = neuroglancer.LocalVolume(\n",
    "            data=full_brain_volume_annotated, # Z,Y,X\n",
    "            voxel_size=[ xy_ng_resolution_um*1000, xy_ng_resolution_um*1000,20000], # X Y Z\n",
    "            voxel_offset = [ 0, 0, 0] # X Y Z\n",
    "        ),\n",
    "        segments = color_segments\n",
    "    )"
   ]
  },
  {
   "cell_type": "code",
   "execution_count": 50,
   "metadata": {
    "collapsed": true
   },
   "outputs": [],
   "source": [
    "! mkdir /home/alexn/Desktop/neuroglancer_binary_volumes/human_annotations_5um/"
   ]
  },
  {
   "cell_type": "code",
   "execution_count": null,
   "metadata": {
    "collapsed": true
   },
   "outputs": [],
   "source": []
  },
  {
   "cell_type": "markdown",
   "metadata": {},
   "source": [
    "# TESTING"
   ]
  },
  {
   "cell_type": "code",
   "execution_count": null,
   "metadata": {
    "collapsed": true
   },
   "outputs": [],
   "source": []
  },
  {
   "cell_type": "code",
   "execution_count": null,
   "metadata": {
    "collapsed": true
   },
   "outputs": [],
   "source": []
  },
  {
   "cell_type": "code",
   "execution_count": null,
   "metadata": {
    "collapsed": true
   },
   "outputs": [],
   "source": []
  },
  {
   "cell_type": "code",
   "execution_count": 20,
   "metadata": {
    "scrolled": true
   },
   "outputs": [
    {
     "name": "stdout",
     "output_type": "stream",
     "text": [
      "delete: s3://test-bucket-sid/alex_neuroglancer_volumes/MD585/human_annotations_5um/volume.npy\n",
      "delete: s3://test-bucket-sid/alex_neuroglancer_volumes/MD585/human_annotations_5um/voxel_xyz_dimensions.txt\n",
      "delete: s3://test-bucket-sid/alex_neuroglancer_volumes/MD585/human_annotations_5um/volume_colored.npy\n",
      "delete: s3://test-bucket-sid/alex_neuroglancer_volumes/MD585/structure_volumes_5um/3N_L_volume.npy\n",
      "delete: s3://test-bucket-sid/alex_neuroglancer_volumes/MD585/structure_volumes_5um/10N_L_volume.npy\n",
      "delete: s3://test-bucket-sid/alex_neuroglancer_volumes/MD585/structure_volumes_5um/3N_R_volume.npy\n",
      "delete: s3://test-bucket-sid/alex_neuroglancer_volumes/MD585/structure_volumes_5um/10N_R_volume.npy\n",
      "delete: s3://test-bucket-sid/alex_neuroglancer_volumes/MD585/structure_volumes_5um/12N_volume.npy\n",
      "delete: s3://test-bucket-sid/alex_neuroglancer_volumes/MD585/structure_volumes_5um/4N_R_volume.npy\n",
      "delete: s3://test-bucket-sid/alex_neuroglancer_volumes/MD585/structure_volumes_5um/4N_L_volume.npy\n",
      "delete: s3://test-bucket-sid/alex_neuroglancer_volumes/MD585/structure_volumes_5um/5N_R_volume.npy\n",
      "delete: s3://test-bucket-sid/alex_neuroglancer_volumes/MD585/structure_volumes_5um/5N_L_volume.npy\n",
      "delete: s3://test-bucket-sid/alex_neuroglancer_volumes/MD585/structure_volumes_5um/6N_R_volume.npy\n",
      "delete: s3://test-bucket-sid/alex_neuroglancer_volumes/MD585/structure_volumes_5um/6N_L_volume.npy\n",
      "delete: s3://test-bucket-sid/alex_neuroglancer_volumes/MD585/structure_volumes_5um/7N_L_volume.npy\n",
      "delete: s3://test-bucket-sid/alex_neuroglancer_volumes/MD585/structure_volumes_5um/7n_L_volume.npy\n",
      "delete: s3://test-bucket-sid/alex_neuroglancer_volumes/MD585/structure_volumes_5um/7N_R_volume.npy\n",
      "delete: s3://test-bucket-sid/alex_neuroglancer_volumes/MD585/structure_volumes_5um/7n_R_volume.npy\n",
      "delete: s3://test-bucket-sid/alex_neuroglancer_volumes/MD585/structure_volumes_5um/AP_volume.npy\n",
      "delete: s3://test-bucket-sid/alex_neuroglancer_volumes/MD585/structure_volumes_5um/Amb_L_volume.npy\n",
      "delete: s3://test-bucket-sid/alex_neuroglancer_volumes/MD585/structure_volumes_5um/DC_L_volume.npy\n",
      "delete: s3://test-bucket-sid/alex_neuroglancer_volumes/MD585/structure_volumes_5um/PBG_L_volume.npy\n",
      "delete: s3://test-bucket-sid/alex_neuroglancer_volumes/MD585/structure_volumes_5um/DC_R_volume.npy\n",
      "delete: s3://test-bucket-sid/alex_neuroglancer_volumes/MD585/structure_volumes_5um/IC_volume.npy\n",
      "delete: s3://test-bucket-sid/alex_neuroglancer_volumes/MD585/structure_volumes_5um/Amb_R_volume.npy\n",
      "delete: s3://test-bucket-sid/alex_neuroglancer_volumes/MD585/structure_volumes_5um/LRt_L_volume.npy\n",
      "delete: s3://test-bucket-sid/alex_neuroglancer_volumes/MD585/structure_volumes_5um/LC_R_volume.npy\n",
      "delete: s3://test-bucket-sid/alex_neuroglancer_volumes/MD585/structure_volumes_5um/LC_L_volume.npy\n",
      "delete: s3://test-bucket-sid/alex_neuroglancer_volumes/MD585/structure_volumes_5um/LRt_R_volume.npy\n",
      "delete: s3://test-bucket-sid/alex_neuroglancer_volumes/MD585/structure_volumes_5um/PBG_R_volume.npy\n",
      "delete: s3://test-bucket-sid/alex_neuroglancer_volumes/MD585/structure_volumes_5um/SC_volume.npy\n",
      "delete: s3://test-bucket-sid/alex_neuroglancer_volumes/MD585/structure_volumes_5um/RMC_R_volume.npy\n",
      "delete: s3://test-bucket-sid/alex_neuroglancer_volumes/MD585/structure_volumes_5um/Pn_R_volume.npy\n",
      "delete: s3://test-bucket-sid/alex_neuroglancer_volumes/MD585/structure_volumes_5um/SNC_L_volume.npy\n",
      "delete: s3://test-bucket-sid/alex_neuroglancer_volumes/MD585/structure_volumes_5um/Pn_L_volume.npy\n",
      "delete: s3://test-bucket-sid/alex_neuroglancer_volumes/MD585/structure_volumes_5um/RtTg_volume.npy\n",
      "delete: s3://test-bucket-sid/alex_neuroglancer_volumes/MD585/structure_volumes_5um/SNC_R_volume.npy\n",
      "delete: s3://test-bucket-sid/alex_neuroglancer_volumes/MD585/structure_volumes_5um/SNR_L_volume.npy\n",
      "delete: s3://test-bucket-sid/alex_neuroglancer_volumes/MD585/structure_volumes_5um/Sp5C_L_volume.npy\n",
      "delete: s3://test-bucket-sid/alex_neuroglancer_volumes/MD585/structure_volumes_5um/RMC_L_volume.npy\n",
      "delete: s3://test-bucket-sid/alex_neuroglancer_volumes/MD585/structure_volumes_5um/Sp5C_R_volume.npy\n",
      "delete: s3://test-bucket-sid/alex_neuroglancer_volumes/MD585/structure_volumes_5um/SNR_R_volume.npy\n",
      "delete: s3://test-bucket-sid/alex_neuroglancer_volumes/MD585/structure_volumes_5um/Sp5I_R_volume.npy\n",
      "delete: s3://test-bucket-sid/alex_neuroglancer_volumes/MD585/structure_volumes_5um/Sp5O_L_volume.npy\n",
      "delete: s3://test-bucket-sid/alex_neuroglancer_volumes/MD585/structure_volumes_5um/Sp5I_L_volume.npy\n",
      "delete: s3://test-bucket-sid/alex_neuroglancer_volumes/MD585/structure_volumes_5um/Sp5O_R_volume.npy\n",
      "delete: s3://test-bucket-sid/alex_neuroglancer_volumes/MD585/structure_volumes_5um/Tz_R_volume.npy\n",
      "delete: s3://test-bucket-sid/alex_neuroglancer_volumes/MD585/structure_volumes_5um/VCA_L_volume.npy\n",
      "delete: s3://test-bucket-sid/alex_neuroglancer_volumes/MD585/structure_volumes_5um/Tz_L_volume.npy\n",
      "delete: s3://test-bucket-sid/alex_neuroglancer_volumes/MD585/structure_volumes_5um/VCA_R_volume.npy\n",
      "delete: s3://test-bucket-sid/alex_neuroglancer_volumes/MD585/structure_volumes_5um/VCP_L_volume.npy\n",
      "delete: s3://test-bucket-sid/alex_neuroglancer_volumes/MD585/structure_volumes_5um/VCP_R_volume.npy\n",
      "delete: s3://test-bucket-sid/alex_neuroglancer_volumes/MD585/structure_volumes_5um/VLL_R_volume.npy\n",
      "delete: s3://test-bucket-sid/alex_neuroglancer_volumes/MD585/structure_volumes_5um/VLL_L_volume.npy\n"
     ]
    }
   ],
   "source": [
    "! aws s3 rm --recursive s3://test-bucket-sid/alex_neuroglancer_volumes"
   ]
  },
  {
   "cell_type": "code",
   "execution_count": 13,
   "metadata": {},
   "outputs": [
    {
     "data": {
      "text/plain": [
       "'/media/alexn/BstemAtlasDataBackup/neuroglancer_volumes/'"
      ]
     },
     "execution_count": 13,
     "metadata": {},
     "output_type": "execute_result"
    }
   ],
   "source": [
    "NEUROGLANCER_ROOT"
   ]
  },
  {
   "cell_type": "code",
   "execution_count": 6,
   "metadata": {
    "scrolled": false
   },
   "outputs": [
    {
     "name": "stdout",
     "output_type": "stream",
     "text": [
      "upload: ../../../../../media/alexn/BstemAtlasDataBackup/neuroglancer_volumes/MD585/human_annotation/solid_volume_5um/volume_colored_thin.npy to s3://test-bucket-sid/alex_neuroglancer_volumes/MD585/human_annotation/solid_volume_5um/volume_colored_thin.npy\n",
      "upload: ../../../../../media/alexn/BstemAtlasDataBackup/neuroglancer_volumes/MD585/human_annotation/solid_volume_5um/volume_colored_wire.npy to s3://test-bucket-sid/alex_neuroglancer_volumes/MD585/human_annotation/solid_volume_5um/volume_colored_wire.npy\n",
      "upload: ../../../../../media/alexn/BstemAtlasDataBackup/neuroglancer_volumes/MD585/human_annotation/solid_volume_5um/volume_colored.npy to s3://test-bucket-sid/alex_neuroglancer_volumes/MD585/human_annotation/solid_volume_5um/volume_colored.npy\n",
      "upload: ../../../../../media/alexn/BstemAtlasDataBackup/neuroglancer_volumes/MD589/human_annotation/structure_volumes_5um/3N_L_volume.npy to s3://test-bucket-sid/alex_neuroglancer_volumes/MD589/human_annotation/structure_volumes_5um/3N_L_volume.npy\n",
      "upload: ../../../../../media/alexn/BstemAtlasDataBackup/neuroglancer_volumes/MD589/human_annotation/structure_volumes_5um/10N_L_volume.npy to s3://test-bucket-sid/alex_neuroglancer_volumes/MD589/human_annotation/structure_volumes_5um/10N_L_volume.npy\n",
      "upload: ../../../../../media/alexn/BstemAtlasDataBackup/neuroglancer_volumes/MD589/human_annotation/structure_volumes_5um/3N_R_volume.npy to s3://test-bucket-sid/alex_neuroglancer_volumes/MD589/human_annotation/structure_volumes_5um/3N_R_volume.npy\n",
      "upload: ../../../../../media/alexn/BstemAtlasDataBackup/neuroglancer_volumes/MD589/human_annotation/structure_volumes_5um/4N_L_volume.npy to s3://test-bucket-sid/alex_neuroglancer_volumes/MD589/human_annotation/structure_volumes_5um/4N_L_volume.npy\n",
      "upload: ../../../../../media/alexn/BstemAtlasDataBackup/neuroglancer_volumes/MD589/human_annotation/structure_volumes_5um/4N_R_volume.npy to s3://test-bucket-sid/alex_neuroglancer_volumes/MD589/human_annotation/structure_volumes_5um/4N_R_volume.npy\n",
      "upload: ../../../../../media/alexn/BstemAtlasDataBackup/neuroglancer_volumes/MD589/human_annotation/structure_volumes_5um/5N_L_volume.npy to s3://test-bucket-sid/alex_neuroglancer_volumes/MD589/human_annotation/structure_volumes_5um/5N_L_volume.npy\n",
      "upload: ../../../../../media/alexn/BstemAtlasDataBackup/neuroglancer_volumes/MD589/human_annotation/structure_volumes_5um/10N_R_volume.npy to s3://test-bucket-sid/alex_neuroglancer_volumes/MD589/human_annotation/structure_volumes_5um/10N_R_volume.npy\n",
      "upload: ../../../../../media/alexn/BstemAtlasDataBackup/neuroglancer_volumes/MD589/human_annotation/structure_volumes_5um/12N_volume.npy to s3://test-bucket-sid/alex_neuroglancer_volumes/MD589/human_annotation/structure_volumes_5um/12N_volume.npy\n",
      "upload: ../../../../../media/alexn/BstemAtlasDataBackup/neuroglancer_volumes/MD589/human_annotation/structure_volumes_5um/5N_R_volume.npy to s3://test-bucket-sid/alex_neuroglancer_volumes/MD589/human_annotation/structure_volumes_5um/5N_R_volume.npy\n",
      "upload: ../../../../../media/alexn/BstemAtlasDataBackup/neuroglancer_volumes/MD589/human_annotation/structure_volumes_5um/6N_L_volume.npy to s3://test-bucket-sid/alex_neuroglancer_volumes/MD589/human_annotation/structure_volumes_5um/6N_L_volume.npy\n",
      "upload: ../../../../../media/alexn/BstemAtlasDataBackup/neuroglancer_volumes/MD589/human_annotation/structure_volumes_5um/6N_R_volume.npy to s3://test-bucket-sid/alex_neuroglancer_volumes/MD589/human_annotation/structure_volumes_5um/6N_R_volume.npy\n",
      "upload: ../../../../../media/alexn/BstemAtlasDataBackup/neuroglancer_volumes/MD589/human_annotation/structure_volumes_5um/7N_L_volume.npy to s3://test-bucket-sid/alex_neuroglancer_volumes/MD589/human_annotation/structure_volumes_5um/7N_L_volume.npy\n",
      "upload: ../../../../../media/alexn/BstemAtlasDataBackup/neuroglancer_volumes/MD589/human_annotation/structure_volumes_5um/7n_L_volume.npy to s3://test-bucket-sid/alex_neuroglancer_volumes/MD589/human_annotation/structure_volumes_5um/7n_L_volume.npy\n",
      "upload: ../../../../../media/alexn/BstemAtlasDataBackup/neuroglancer_volumes/MD589/human_annotation/solid_volume_5um/volume_colored.npy to s3://test-bucket-sid/alex_neuroglancer_volumes/MD589/human_annotation/solid_volume_5um/volume_colored.npy\n",
      "upload: ../../../../../media/alexn/BstemAtlasDataBackup/neuroglancer_volumes/MD589/human_annotation/structure_volumes_5um/Amb_L_volume.npy to s3://test-bucket-sid/alex_neuroglancer_volumes/MD589/human_annotation/structure_volumes_5um/Amb_L_volume.npy\n",
      "upload: ../../../../../media/alexn/BstemAtlasDataBackup/neuroglancer_volumes/MD589/human_annotation/structure_volumes_5um/7n_R_volume.npy to s3://test-bucket-sid/alex_neuroglancer_volumes/MD589/human_annotation/structure_volumes_5um/7n_R_volume.npy\n",
      "upload: ../../../../../media/alexn/BstemAtlasDataBackup/neuroglancer_volumes/MD589/human_annotation/structure_volumes_5um/AP_volume.npy to s3://test-bucket-sid/alex_neuroglancer_volumes/MD589/human_annotation/structure_volumes_5um/AP_volume.npy\n",
      "upload: ../../../../../media/alexn/BstemAtlasDataBackup/neuroglancer_volumes/MD589/human_annotation/structure_volumes_5um/7N_R_volume.npy to s3://test-bucket-sid/alex_neuroglancer_volumes/MD589/human_annotation/structure_volumes_5um/7N_R_volume.npy\n",
      "upload: ../../../../../media/alexn/BstemAtlasDataBackup/neuroglancer_volumes/MD589/human_annotation/structure_volumes_5um/DC_L_volume.npy to s3://test-bucket-sid/alex_neuroglancer_volumes/MD589/human_annotation/structure_volumes_5um/DC_L_volume.npy\n",
      "upload: ../../../../../media/alexn/BstemAtlasDataBackup/neuroglancer_volumes/MD589/human_annotation/structure_volumes_5um/IC_volume.npy to s3://test-bucket-sid/alex_neuroglancer_volumes/MD589/human_annotation/structure_volumes_5um/IC_volume.npy\n",
      "upload: ../../../../../media/alexn/BstemAtlasDataBackup/neuroglancer_volumes/MD589/human_annotation/structure_volumes_5um/LC_L_volume.npy to s3://test-bucket-sid/alex_neuroglancer_volumes/MD589/human_annotation/structure_volumes_5um/LC_L_volume.npy\n",
      "upload: ../../../../../media/alexn/BstemAtlasDataBackup/neuroglancer_volumes/MD589/human_annotation/structure_volumes_5um/Amb_R_volume.npy to s3://test-bucket-sid/alex_neuroglancer_volumes/MD589/human_annotation/structure_volumes_5um/Amb_R_volume.npy\n",
      "upload: ../../../../../media/alexn/BstemAtlasDataBackup/neuroglancer_volumes/MD589/human_annotation/structure_volumes_5um/PBG_L_volume.npy to s3://test-bucket-sid/alex_neuroglancer_volumes/MD589/human_annotation/structure_volumes_5um/PBG_L_volume.npy\n",
      "upload: ../../../../../media/alexn/BstemAtlasDataBackup/neuroglancer_volumes/MD589/human_annotation/structure_volumes_5um/DC_R_volume.npy to s3://test-bucket-sid/alex_neuroglancer_volumes/MD589/human_annotation/structure_volumes_5um/DC_R_volume.npy\n",
      "upload: ../../../../../media/alexn/BstemAtlasDataBackup/neuroglancer_volumes/MD589/human_annotation/structure_volumes_5um/LC_R_volume.npy to s3://test-bucket-sid/alex_neuroglancer_volumes/MD589/human_annotation/structure_volumes_5um/LC_R_volume.npy\n",
      "upload: ../../../../../media/alexn/BstemAtlasDataBackup/neuroglancer_volumes/MD589/human_annotation/structure_volumes_5um/LRt_L_volume.npy to s3://test-bucket-sid/alex_neuroglancer_volumes/MD589/human_annotation/structure_volumes_5um/LRt_L_volume.npy\n",
      "upload: ../../../../../media/alexn/BstemAtlasDataBackup/neuroglancer_volumes/MD589/human_annotation/structure_volumes_5um/Pn_L_volume.npy to s3://test-bucket-sid/alex_neuroglancer_volumes/MD589/human_annotation/structure_volumes_5um/Pn_L_volume.npy\n",
      "upload: ../../../../../media/alexn/BstemAtlasDataBackup/neuroglancer_volumes/MD589/human_annotation/structure_volumes_5um/PBG_R_volume.npy to s3://test-bucket-sid/alex_neuroglancer_volumes/MD589/human_annotation/structure_volumes_5um/PBG_R_volume.npy\n",
      "upload: ../../../../../media/alexn/BstemAtlasDataBackup/neuroglancer_volumes/MD589/human_annotation/structure_volumes_5um/RMC_L_volume.npy to s3://test-bucket-sid/alex_neuroglancer_volumes/MD589/human_annotation/structure_volumes_5um/RMC_L_volume.npy\n",
      "upload: ../../../../../media/alexn/BstemAtlasDataBackup/neuroglancer_volumes/MD589/human_annotation/structure_volumes_5um/Pn_R_volume.npy to s3://test-bucket-sid/alex_neuroglancer_volumes/MD589/human_annotation/structure_volumes_5um/Pn_R_volume.npy\n"
     ]
    },
    {
     "name": "stdout",
     "output_type": "stream",
     "text": [
      "upload: ../../../../../media/alexn/BstemAtlasDataBackup/neuroglancer_volumes/MD589/human_annotation/structure_volumes_5um/RMC_R_volume.npy to s3://test-bucket-sid/alex_neuroglancer_volumes/MD589/human_annotation/structure_volumes_5um/RMC_R_volume.npy\n",
      "upload: ../../../../../media/alexn/BstemAtlasDataBackup/neuroglancer_volumes/MD589/human_annotation/structure_volumes_5um/SNC_L_volume.npy to s3://test-bucket-sid/alex_neuroglancer_volumes/MD589/human_annotation/structure_volumes_5um/SNC_L_volume.npy\n",
      "upload: ../../../../../media/alexn/BstemAtlasDataBackup/neuroglancer_volumes/MD589/human_annotation/structure_volumes_5um/LRt_R_volume.npy to s3://test-bucket-sid/alex_neuroglancer_volumes/MD589/human_annotation/structure_volumes_5um/LRt_R_volume.npy\n",
      "upload: ../../../../../media/alexn/BstemAtlasDataBackup/neuroglancer_volumes/MD589/human_annotation/structure_volumes_5um/SC_volume.npy to s3://test-bucket-sid/alex_neuroglancer_volumes/MD589/human_annotation/structure_volumes_5um/SC_volume.npy\n",
      "upload: ../../../../../media/alexn/BstemAtlasDataBackup/neuroglancer_volumes/MD589/human_annotation/structure_volumes_5um/SNR_L_volume.npy to s3://test-bucket-sid/alex_neuroglancer_volumes/MD589/human_annotation/structure_volumes_5um/SNR_L_volume.npy\n",
      "upload: ../../../../../media/alexn/BstemAtlasDataBackup/neuroglancer_volumes/MD589/human_annotation/structure_volumes_5um/RtTg_volume.npy to s3://test-bucket-sid/alex_neuroglancer_volumes/MD589/human_annotation/structure_volumes_5um/RtTg_volume.npy\n",
      "upload: ../../../../../media/alexn/BstemAtlasDataBackup/neuroglancer_volumes/MD589/human_annotation/structure_volumes_5um/SNR_R_volume.npy to s3://test-bucket-sid/alex_neuroglancer_volumes/MD589/human_annotation/structure_volumes_5um/SNR_R_volume.npy\n",
      "upload: ../../../../../media/alexn/BstemAtlasDataBackup/neuroglancer_volumes/MD589/human_annotation/structure_volumes_5um/Sp5I_L_volume.npy to s3://test-bucket-sid/alex_neuroglancer_volumes/MD589/human_annotation/structure_volumes_5um/Sp5I_L_volume.npy\n",
      "upload: ../../../../../media/alexn/BstemAtlasDataBackup/neuroglancer_volumes/MD589/human_annotation/structure_volumes_5um/SNC_R_volume.npy to s3://test-bucket-sid/alex_neuroglancer_volumes/MD589/human_annotation/structure_volumes_5um/SNC_R_volume.npy\n",
      "upload: ../../../../../media/alexn/BstemAtlasDataBackup/neuroglancer_volumes/MD589/human_annotation/structure_volumes_5um/Sp5O_L_volume.npy to s3://test-bucket-sid/alex_neuroglancer_volumes/MD589/human_annotation/structure_volumes_5um/Sp5O_L_volume.npy\n",
      "upload: ../../../../../media/alexn/BstemAtlasDataBackup/neuroglancer_volumes/MD589/human_annotation/structure_volumes_5um/Sp5C_L_volume.npy to s3://test-bucket-sid/alex_neuroglancer_volumes/MD589/human_annotation/structure_volumes_5um/Sp5C_L_volume.npy\n",
      "upload: ../../../../../media/alexn/BstemAtlasDataBackup/neuroglancer_volumes/MD589/human_annotation/structure_volumes_5um/Tz_L_volume.npy to s3://test-bucket-sid/alex_neuroglancer_volumes/MD589/human_annotation/structure_volumes_5um/Tz_L_volume.npy\n",
      "upload: ../../../../../media/alexn/BstemAtlasDataBackup/neuroglancer_volumes/MD589/human_annotation/structure_volumes_5um/Sp5I_R_volume.npy to s3://test-bucket-sid/alex_neuroglancer_volumes/MD589/human_annotation/structure_volumes_5um/Sp5I_R_volume.npy\n",
      "upload: ../../../../../media/alexn/BstemAtlasDataBackup/neuroglancer_volumes/MD589/human_annotation/structure_volumes_5um/VCA_L_volume.npy to s3://test-bucket-sid/alex_neuroglancer_volumes/MD589/human_annotation/structure_volumes_5um/VCA_L_volume.npy\n",
      "upload: ../../../../../media/alexn/BstemAtlasDataBackup/neuroglancer_volumes/MD589/human_annotation/structure_volumes_5um/Tz_R_volume.npy to s3://test-bucket-sid/alex_neuroglancer_volumes/MD589/human_annotation/structure_volumes_5um/Tz_R_volume.npy\n",
      "upload: ../../../../../media/alexn/BstemAtlasDataBackup/neuroglancer_volumes/MD589/human_annotation/structure_volumes_5um/Sp5C_R_volume.npy to s3://test-bucket-sid/alex_neuroglancer_volumes/MD589/human_annotation/structure_volumes_5um/Sp5C_R_volume.npy\n",
      "upload: ../../../../../media/alexn/BstemAtlasDataBackup/neuroglancer_volumes/MD589/human_annotation/structure_volumes_5um/VCP_L_volume.npy to s3://test-bucket-sid/alex_neuroglancer_volumes/MD589/human_annotation/structure_volumes_5um/VCP_L_volume.npy\n",
      "upload: ../../../../../media/alexn/BstemAtlasDataBackup/neuroglancer_volumes/MD589/human_annotation/structure_volumes_5um/Sp5O_R_volume.npy to s3://test-bucket-sid/alex_neuroglancer_volumes/MD589/human_annotation/structure_volumes_5um/Sp5O_R_volume.npy\n",
      "upload: ../../../../../media/alexn/BstemAtlasDataBackup/neuroglancer_volumes/MD589/human_annotation/structure_volumes_5um/VLL_L_volume.npy to s3://test-bucket-sid/alex_neuroglancer_volumes/MD589/human_annotation/structure_volumes_5um/VLL_L_volume.npy\n",
      "upload: ../../../../../media/alexn/BstemAtlasDataBackup/neuroglancer_volumes/MD589/human_annotation/structure_volumes_5um/VCA_R_volume.npy to s3://test-bucket-sid/alex_neuroglancer_volumes/MD589/human_annotation/structure_volumes_5um/VCA_R_volume.npy\n",
      "upload: ../../../../../media/alexn/BstemAtlasDataBackup/neuroglancer_volumes/MD589/human_annotation/structure_volumes_5um/VCP_R_volume.npy to s3://test-bucket-sid/alex_neuroglancer_volumes/MD589/human_annotation/structure_volumes_5um/VCP_R_volume.npy\n",
      "upload: ../../../../../media/alexn/BstemAtlasDataBackup/neuroglancer_volumes/MD589/human_annotation/structure_volumes_5um/VLL_R_volume.npy to s3://test-bucket-sid/alex_neuroglancer_volumes/MD589/human_annotation/structure_volumes_5um/VLL_R_volume.npy\n",
      "upload: ../../../../../media/alexn/BstemAtlasDataBackup/neuroglancer_volumes/MD594/human_annotation/solid_volume_5um/volume_colored.npy to s3://test-bucket-sid/alex_neuroglancer_volumes/MD594/human_annotation/solid_volume_5um/volume_colored.npy\n"
     ]
    }
   ],
   "source": [
    "! aws s3 cp --recursive $NEUROGLANCER_ROOT s3://test-bucket-sid/alex_neuroglancer_volumes"
   ]
  },
  {
   "cell_type": "code",
   "execution_count": 27,
   "metadata": {},
   "outputs": [
    {
     "name": "stdout",
     "output_type": "stream",
     "text": [
      "download: s3://test-bucket-sid/alex_neuroglancer_volumes/MD585/human_annotation/solid_volume_5um/volume_colored.npy to ../../../../../media/alexn/BstemAtlasDataBackup/volume_colored.npy\n"
     ]
    }
   ],
   "source": [
    "! aws s3 cp s3://test-bucket-sid/alex_neuroglancer_volumes/MD585/human_annotation/solid_volume_5um/volume_colored.npy /media/alexn/BstemAtlasDataBackup/"
   ]
  },
  {
   "cell_type": "markdown",
   "metadata": {},
   "source": [
    "# End Neuroglancer Code"
   ]
  },
  {
   "cell_type": "code",
   "execution_count": 14,
   "metadata": {
    "collapsed": true
   },
   "outputs": [],
   "source": [
    "# Resets the viewer\n",
    "with viewer.txn() as s:\n",
    "    # Resets X/Y/Z plane orientation\n",
    "    s.navigation.pose.orientation = [0,0,0,1]\n",
    "    # Zooms out \n",
    "    s.navigation.zoomFactor = 10000\n",
    "    \n",
    "    # Resets 3D Viewer Orientation\n",
    "    s.perspectiveOrientation = [0,0,0,1]\n",
    "    # Zooms out\n",
    "    s.perspectiveZoom = 75000\n",
    "    \n",
    "    # Not necessary, just restates the voxel sizes of the image\n",
    "    s.navigation.pose.position.voxelSize = [460,460,20000]\n",
    "    # Sets Viewer's center location\n",
    "    s.navigation.pose.position.voxelCoordinates = [8192,6000,134]"
   ]
  },
  {
   "cell_type": "code",
   "execution_count": null,
   "metadata": {
    "collapsed": true
   },
   "outputs": [],
   "source": [
    "# wholeslice_to_brainstem = -from_padded_to_wholeslice, from_padded_to_brainstem\n",
    "\n",
    "#from_padded_to_wholeslice\n",
    "rostral_limit = 50\n",
    "caudal_limit = 1188\n",
    "dorsal_limit = 21\n",
    "ventral_limit = 738\n",
    "\n",
    "#from_padded_to_brainstem\n",
    "rostral_limit = 521\n",
    "caudal_limit = 1057\n",
    "dorsal_limit = 128\n",
    "ventral_limit = 465"
   ]
  },
  {
   "cell_type": "code",
   "execution_count": null,
   "metadata": {
    "collapsed": true
   },
   "outputs": [],
   "source": [
    "fp_volumes = '/home/alexn/Desktop/neuroglancer_binary_volumes/volumes_'+xy_ng_resolution_um+'um/'\n",
    "np.save( fp_volumes+structure+'_volume.npy',structure_volume)"
   ]
  }
 ],
 "metadata": {
  "kernelspec": {
   "display_name": "Python 2",
   "language": "python",
   "name": "python2"
  },
  "language_info": {
   "codemirror_mode": {
    "name": "ipython",
    "version": 2
   },
   "file_extension": ".py",
   "mimetype": "text/x-python",
   "name": "python",
   "nbconvert_exporter": "python",
   "pygments_lexer": "ipython2",
   "version": "2.7.12"
  }
 },
 "nbformat": 4,
 "nbformat_minor": 2
}
