{
 "cells": [
  {
   "cell_type": "code",
   "execution_count": 1,
   "metadata": {},
   "outputs": [
    {
     "name": "stdout",
     "output_type": "stream",
     "text": [
      "Setting environment for an unknown machine. Global root paths must be set as env variables.\n"
     ]
    }
   ],
   "source": [
    "import os\n",
    "import sys\n",
    "import numpy as np\n",
    "import cv2\n",
    "\n",
    "sys.path.append(os.path.join(os.environ['REPO_DIR'], 'utilities'))\n",
    "from utilities2015 import *\n",
    "from metadata import *\n",
    "from data_manager import *\n",
    "\n",
    "import matplotlib.pyplot as plt\n",
    "%matplotlib inline\n",
    "\n",
    "stack = 'DK18'\n",
    "prep_id = 1\n",
    "version = 'mask'\n",
    "resol = 'thumbnail'\n",
    "\n",
    "\n",
    "plane = stack_metadata[stack]['cutting_plane']\n",
    "resolution = stack_metadata[stack]['resolution']\n",
    "stain = stack_metadata[stack]['stain'].lower()\n",
    "\n",
    "fn_to_sec_dict = DataManager.load_sorted_filenames(stack=stack)[0]\n",
    "sec_to_fn_dict = DataManager.load_sorted_filenames(stack=stack)[1]\n",
    "midpoint = int( np.mean( DataManager.load_sorted_filenames(stack=stack)[1].keys() ) )\n",
    "\n"
   ]
  },
  {
   "cell_type": "code",
   "execution_count": 2,
   "metadata": {
    "collapsed": true
   },
   "outputs": [],
   "source": [
    "stack = 'DK18'\n",
    "prep_id = 1\n",
    "version = 'mask'\n",
    "resol = 'thumbnail'\n",
    "\n",
    "sec_to_fn_dict = DataManager.load_sorted_filenames(stack=stack)[1]\n",
    "\n",
    "midpoint = int( np.mean( DataManager.load_sorted_filenames(stack=stack)[1].keys() ) )\n",
    "max_distance = 25\n",
    "\n",
    "# Only keeps sections within a max_distance of the midpoint\n",
    "for i in sec_to_fn_dict.keys():\n",
    "    try:\n",
    "        if i not in range( midpoint-max_distance, midpoint+max_distance):\n",
    "            del sec_to_fn_dict[i]\n",
    "        if sec_to_fn_dict[i] == 'Placeholder':\n",
    "            del sec_to_fn_dict[i]\n",
    "    except KeyError:\n",
    "        pass"
   ]
  },
  {
   "cell_type": "code",
   "execution_count": 9,
   "metadata": {},
   "outputs": [
    {
     "data": {
      "text/plain": [
       "'/data2/Atlas_Root_Dirs/Duke_Brains/CSHL_volumes/DK18/DK18_wholebrainWithMargin_10.0um_intensityVolume/DK18_wholebrainWithMargin_10.0um_intensityVolume.bp'"
      ]
     },
     "execution_count": 9,
     "metadata": {},
     "output_type": "execute_result"
    }
   ],
   "source": [
    "stack_spec = dict(name=stack,\n",
    "                  resolution='10.0um',\n",
    "                  prep_id='wholebrainWithMargin',\n",
    "                  vol_type='intensity')\n",
    "\n",
    "DataManager.get_original_volume_origin_filepath_v3(stack_spec=stack_spec, structure=None)\n",
    "DataManager.get_original_volume_filepath_v2(stack_spec=stack_spec, structure=None)"
   ]
  },
  {
   "cell_type": "code",
   "execution_count": 11,
   "metadata": {},
   "outputs": [
    {
     "name": "stdout",
     "output_type": "stream",
     "text": [
      "DK18_wholebrainWithMargin_10.0um_intensityVolume.bp\r\n",
      "DK18_wholebrainWithMargin_10.0um_intensityVolume_origin_wrt_wholebrain.txt\r\n"
     ]
    }
   ],
   "source": [
    "! ls \"/data2/Atlas_Root_Dirs/Duke_Brains/CSHL_volumes/DK18/DK18_wholebrainWithMargin_10.0um_intensityVolume/\""
   ]
  },
  {
   "cell_type": "code",
   "execution_count": 12,
   "metadata": {},
   "outputs": [
    {
     "ename": "AttributeError",
     "evalue": "type object 'DataManager' has no attribute 'load_original_volume_origin_filepath_v3'",
     "output_type": "error",
     "traceback": [
      "\u001b[0;31m---------------------------------------------------------------------------\u001b[0m",
      "\u001b[0;31mAttributeError\u001b[0m                            Traceback (most recent call last)",
      "\u001b[0;32m<ipython-input-12-870820a34f04>\u001b[0m in \u001b[0;36m<module>\u001b[0;34m()\u001b[0m\n\u001b[0;32m----> 1\u001b[0;31m \u001b[0mDataManager\u001b[0m\u001b[0;34m.\u001b[0m\u001b[0mload_original_volume_origin_filepath_v3\u001b[0m\u001b[0;34m(\u001b[0m\u001b[0mstack_spec\u001b[0m\u001b[0;34m=\u001b[0m\u001b[0mstack_spec\u001b[0m\u001b[0;34m,\u001b[0m \u001b[0mstructure\u001b[0m\u001b[0;34m=\u001b[0m\u001b[0mNone\u001b[0m\u001b[0;34m)\u001b[0m\u001b[0;34m\u001b[0m\u001b[0m\n\u001b[0m",
      "\u001b[0;31mAttributeError\u001b[0m: type object 'DataManager' has no attribute 'load_original_volume_origin_filepath_v3'"
     ]
    }
   ],
   "source": [
    "DataManager.load_original_volume_origin_filepath_v3(stack_spec=stack_spec, structure=None)\n"
   ]
  },
  {
   "cell_type": "code",
   "execution_count": 16,
   "metadata": {},
   "outputs": [
    {
     "data": {
      "text/plain": [
       "'/data2/Atlas_Root_Dirs/Duke_Brains/CSHL_volumes/DK18/DK18_down32_intensityVolume/DK18_down32_intensityVolume.bp'"
      ]
     },
     "execution_count": 16,
     "metadata": {},
     "output_type": "execute_result"
    }
   ],
   "source": [
    "DataManager.get_intensity_volume_filepath(stack)"
   ]
  },
  {
   "cell_type": "code",
   "execution_count": 17,
   "metadata": {},
   "outputs": [
    {
     "data": {
      "text/plain": [
       "'/data2/Atlas_Root_Dirs/Duke_Brains/CSHL_volumes/DK18/DK18_prep2_down32_intensityVolume/DK18_prep2_down32_intensityVolume.bp'"
      ]
     },
     "execution_count": 17,
     "metadata": {},
     "output_type": "execute_result"
    }
   ],
   "source": [
    "DataManager.get_intensity_volume_filepath_v2(stack)"
   ]
  },
  {
   "cell_type": "code",
   "execution_count": null,
   "metadata": {
    "collapsed": true
   },
   "outputs": [],
   "source": []
  }
 ],
 "metadata": {
  "kernelspec": {
   "display_name": "Python 2",
   "language": "python",
   "name": "python2"
  },
  "language_info": {
   "codemirror_mode": {
    "name": "ipython",
    "version": 2
   },
   "file_extension": ".py",
   "mimetype": "text/x-python",
   "name": "python",
   "nbconvert_exporter": "python",
   "pygments_lexer": "ipython2",
   "version": "2.7.12"
  }
 },
 "nbformat": 4,
 "nbformat_minor": 2
}
