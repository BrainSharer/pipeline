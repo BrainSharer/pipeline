{
 "cells": [
  {
   "cell_type": "code",
   "execution_count": 2,
   "metadata": {
    "collapsed": true
   },
   "outputs": [],
   "source": [
    "NEUROGLANCER_ROOT = '/media/alexn/BstemAtlasDataBackup/neuroglancer_volumes/'\n",
    "\n",
    "\n",
    "import socket\n",
    "import neuroglancer\n",
    "import subprocess\n",
    "import numpy as np\n",
    "from neuroglancer.server import global_server_args\n",
    "\n",
    "class Neuroglancer_Viewer:\n",
    "    def __init__(self, stack='MD585'):\n",
    "        self.stack = stack\n",
    "        self.local_volume_fp_root = './'\n",
    "        \n",
    "        neuroglancer.set_server_bind_address('0.0.0.0')\n",
    "        global_server_args['bind_port'] = 80\n",
    "        \n",
    "        # Create viewer\n",
    "        self.viewer = neuroglancer.Viewer()\n",
    "        \n",
    "        # Get the IP address\n",
    "        s = socket.socket(socket.AF_INET, socket.SOCK_DGRAM)\n",
    "        s.connect((\"8.8.8.8\", 80))\n",
    "        ip_name = s.getsockname()[0]\n",
    "        s.close()\n",
    "\n",
    "        # Removes the following symbols: ', \", [, ]\n",
    "        self.url = str( 'http://' + ip_name + ':' + self.viewer.get_viewer_url().split(':')[2] )##Remote URL\n",
    "        \n",
    "    def set_local_volume_fp(self, fp):\n",
    "        if fp[len(fp)-1]!='/':\n",
    "            fp = fp+'/'\n",
    "        self.local_volume_fp_root = fp\n",
    "        \n",
    "    def download_volumes(self):\n",
    "        s3_root_fp = 's3://test-bucket-sid/alex_neuroglancer_volumes/'+self.stack+'/human_annotations_5um/'\n",
    "        local_volume_fp = self.local_volume_fp_root+self.stack+'/human_annotations_5um/'\n",
    "        \n",
    "        command_list = ['aws','s3','cp','--recursive', s3_root_fp, local_volume_fp]\n",
    "        subprocess.call( command_list )\n",
    "    \n",
    "    def add_stack(self):\n",
    "        if self.stack == 'MD585':\n",
    "            with self.viewer.txn() as s:\n",
    "                s.layers[ self.stack+'_image'] = neuroglancer.ImageLayer(\\\n",
    "                    source='precomputed://https://mousebrainatlas-datajoint-jp2k.s3.amazonaws.com/precomputed/MD585_fullres')\n",
    "        elif self.stack == 'MD589':\n",
    "            with self.viewer.txn() as s:\n",
    "                s.layers[ self.stack+'_image'] = neuroglancer.ImageLayer(\\\n",
    "                    source='precomputed://https://mousebrainatlas-datajoint-jp2k.s3.amazonaws.com/precomputed/MD589_fullres')\n",
    "        elif self.stack == 'MD594':\n",
    "            with self.viewer.txn() as s:\n",
    "                s.layers[ self.stack+'_image'] = neuroglancer.ImageLayer(\\\n",
    "                    source='precomputed://https://mousebrainatlas-datajoint-jp2k.s3.amazonaws.com/precomputed/MD594_fullres')\n",
    "            \n",
    "    def add_volume(self, colored=True):\n",
    "        volume_fp = self.local_volume_fp_root+self.stack+'/human_annotation/solid_volume_5um/'\n",
    "        if colored:\n",
    "            volume_fn = 'volume_colored.npy'\n",
    "            color_segments=[]\n",
    "            for i in range(1,50):\n",
    "                color_segments.append(i)\n",
    "        else:\n",
    "            volume_fn = 'volume.npy'\n",
    "        \n",
    "        xy_ng_resolution_um = 5\n",
    "        volume_data = np.load( volume_fp+volume_fn )\n",
    "        \n",
    "        with self.viewer.txn() as s:\n",
    "            s.layers[ self.stack+\"_Annotations\" ] = neuroglancer.SegmentationLayer(\n",
    "                source = neuroglancer.LocalVolume(\n",
    "                    data=volume_data, # Z,Y,X\n",
    "                    voxel_size=[ xy_ng_resolution_um*1000, xy_ng_resolution_um*1000, 20000], # X Y Z\n",
    "                    voxel_offset = [ 0, 0, 0] # X Y Z\n",
    "                ),\n",
    "                segments = color_segments\n",
    "            )\n",
    "            \n",
    "    def reset_orientation(self):\n",
    "        with self.viewer.txn() as s:\n",
    "            # Resets X/Y/Z plane orientation\n",
    "            s.navigation.pose.orientation = [0,0,0,1]\n",
    "            # Zooms out \n",
    "            s.navigation.zoomFactor = 5000 # 5000 If xy, 10000 If 4panel\n",
    "            # Resets 3D Viewer Orientation\n",
    "            s.perspectiveOrientation = [0,0,0,1]\n",
    "            # Zooms out\n",
    "            s.perspectiveZoom = 75000\n",
    "\n",
    "            s.layout = 'xy' # '3d'/'4panel'/'xy'\n",
    "            \n",
    "    def stop(self):\n",
    "        neuroglancer.stop()"
   ]
  },
  {
   "cell_type": "code",
   "execution_count": 3,
   "metadata": {},
   "outputs": [
    {
     "name": "stdout",
     "output_type": "stream",
     "text": [
      "MD585\n",
      "http://132.239.73.85:45091/v/da0ac5f920d75757ac0e9de870691da81af080d9/\n",
      "MD589\n",
      "http://132.239.73.85:45091/v/881e752e45c4f75ecf44fbad37254f24b18408c7/\n",
      "MD594\n",
      "http://132.239.73.85:45091/v/f6c737bb33e47563b7a4f1dbd13a512d4e924504/\n"
     ]
    }
   ],
   "source": [
    "viewers = []\n",
    "print 'MD585'\n",
    "viewers.append( Neuroglancer_Viewer(stack='MD585') )\n",
    "viewers[0].add_stack()\n",
    "viewers[0].set_local_volume_fp( fp=NEUROGLANCER_ROOT )\n",
    "viewers[0].add_volume()\n",
    "viewers[0].reset_orientation()\n",
    "print viewers[0].url\n",
    "\n",
    "print 'MD589'\n",
    "viewers.append( Neuroglancer_Viewer(stack='MD589') )\n",
    "viewers[1].add_stack()\n",
    "viewers[1].set_local_volume_fp( fp=NEUROGLANCER_ROOT )\n",
    "viewers[1].add_volume()\n",
    "viewers[1].reset_orientation()\n",
    "print viewers[1].url\n",
    "\n",
    "print 'MD594'\n",
    "viewers.append( Neuroglancer_Viewer(stack='MD594') )\n",
    "viewers[2].add_stack()\n",
    "viewers[2].set_local_volume_fp( fp=NEUROGLANCER_ROOT )\n",
    "viewers[2].add_volume()\n",
    "viewers[2].reset_orientation()\n",
    "print viewers[2].url"
   ]
  },
  {
   "cell_type": "code",
   "execution_count": 5,
   "metadata": {
    "collapsed": true
   },
   "outputs": [],
   "source": [
    "viewers[0].stop()\n",
    "del viewers[0]\n",
    "viewers[0].stop()\n",
    "del viewers[0]\n",
    "viewers[0].stop()\n",
    "del viewers[0]"
   ]
  },
  {
   "cell_type": "code",
   "execution_count": null,
   "metadata": {
    "collapsed": true
   },
   "outputs": [],
   "source": []
  },
  {
   "cell_type": "code",
   "execution_count": 3,
   "metadata": {},
   "outputs": [
    {
     "name": "stdout",
     "output_type": "stream",
     "text": [
      "http://132.239.73.85:42849/v/b6486a96bca246b911bfeb7a6647331877432ce7/\n"
     ]
    }
   ],
   "source": [
    "new_viewer = Neuroglancer_Viewer(stack='MD594') # 8 off\n",
    "new_viewer.add_stack()\n",
    "new_viewer.reset_orientation()\n",
    "\n",
    "print new_viewer.url"
   ]
  },
  {
   "cell_type": "code",
   "execution_count": 3,
   "metadata": {},
   "outputs": [
    {
     "name": "stdout",
     "output_type": "stream",
     "text": [
      "http://132.239.73.85:42211/v/e61617fb1f4f04f4e8e9310c73b1deeb0ce4dd25/\n"
     ]
    }
   ],
   "source": [
    "new_viewer = Neuroglancer_Viewer(stack='MD589') # 8 off\n",
    "new_viewer.add_stack()\n",
    "new_viewer.reset_orientation()\n",
    "\n",
    "print new_viewer.url"
   ]
  },
  {
   "cell_type": "code",
   "execution_count": 3,
   "metadata": {
    "scrolled": true
   },
   "outputs": [
    {
     "name": "stdout",
     "output_type": "stream",
     "text": [
      "http://132.239.73.85:32961/v/a78262516d1329bc39c62a444903a6fdeb007c50/\n"
     ]
    }
   ],
   "source": [
    "new_viewer = Neuroglancer_Viewer(stack='MD585')\n",
    "new_viewer.add_stack()\n",
    "\n",
    "new_viewer.set_local_volume_fp( fp=NEUROGLANCER_ROOT )\n",
    "new_viewer.add_volume()\n",
    "\n",
    "new_viewer.reset_orientation()\n",
    "\n",
    "print new_viewer.url"
   ]
  },
  {
   "cell_type": "code",
   "execution_count": 4,
   "metadata": {
    "collapsed": true
   },
   "outputs": [],
   "source": [
    "new_viewer.set_local_volume_fp( fp=NEUROGLANCER_ROOT )\n",
    "new_viewer.add_volume()\n",
    "new_viewer.reset_orientation()"
   ]
  },
  {
   "cell_type": "code",
   "execution_count": 17,
   "metadata": {
    "collapsed": true
   },
   "outputs": [],
   "source": [
    "new_viewer.stop()\n",
    "del new_viewer"
   ]
  },
  {
   "cell_type": "code",
   "execution_count": null,
   "metadata": {
    "collapsed": true
   },
   "outputs": [],
   "source": []
  },
  {
   "cell_type": "code",
   "execution_count": 57,
   "metadata": {
    "scrolled": true
   },
   "outputs": [
    {
     "data": {
      "text/plain": [
       "1"
      ]
     },
     "execution_count": 57,
     "metadata": {},
     "output_type": "execute_result"
    }
   ],
   "source": [
    "import subprocess\n",
    "s3_root_fp = 's3://test-bucket-sid/alex_neuroglancer_volumes/'+'MD585'+'/human_annotations_5um'\n",
    "        \n",
    "command_list = ['aws','s3','cp','--recursive',s3_root_fp, '/home/alexn/Desktop/test_ng/']\n",
    "subprocess.call( command_list )"
   ]
  },
  {
   "cell_type": "code",
   "execution_count": 41,
   "metadata": {
    "collapsed": true
   },
   "outputs": [],
   "source": [
    "! rm -r /home/alexn/test_ng"
   ]
  },
  {
   "cell_type": "code",
   "execution_count": 1,
   "metadata": {},
   "outputs": [],
   "source": [
    "NEUROGLANCER_ROOT = '/media/alexn/BstemAtlasDataBackup/neuroglancer_volumes/'\n",
    "\n",
    "\n",
    "import socket\n",
    "import neuroglancer\n",
    "import subprocess\n",
    "import numpy as np\n",
    "from neuroglancer.server import global_server_args\n",
    "\n",
    "class Neuroglancer_Viewer:\n",
    "    def __init__(self):\n",
    "        self.local_volume_fp_root = './'\n",
    "        \n",
    "        neuroglancer.set_server_bind_address('0.0.0.0')\n",
    "        global_server_args['bind_port'] = 80\n",
    "        \n",
    "        # Create viewer\n",
    "        self.viewer = neuroglancer.Viewer()\n",
    "        \n",
    "        # Get the IP address\n",
    "        s = socket.socket(socket.AF_INET, socket.SOCK_DGRAM)\n",
    "        s.connect((\"8.8.8.8\", 80))\n",
    "        ip_name = s.getsockname()[0]\n",
    "        s.close()\n",
    "\n",
    "        # Removes the following symbols: ', \", [, ]\n",
    "        self.url = str( 'http://' + ip_name + ':' + self.viewer.get_viewer_url().split(':')[2] )##Remote URL\n",
    "        \n",
    "    def set_local_volume_fp(self, fp):\n",
    "        if fp[len(fp)-1]!='/':\n",
    "            fp = fp+'/'\n",
    "        self.local_volume_fp_root = fp\n",
    "        \n",
    "    def download_volumes(self):\n",
    "        s3_root_fp = 's3://test-bucket-sid/alex_neuroglancer_volumes/'+self.stack+'/human_annotations_5um/'\n",
    "        local_volume_fp = self.local_volume_fp_root+self.stack+'/human_annotations_5um/'\n",
    "        \n",
    "        command_list = ['aws','s3','cp','--recursive', s3_root_fp, local_volume_fp]\n",
    "        subprocess.call( command_list )\n",
    "    \n",
    "    def add_fp(self, fp):\n",
    "        with self.viewer.txn() as s:\n",
    "            s.layers[ fp+'_image'] = neuroglancer.ImageLayer(\\\n",
    "                source='precomputed:'+fp)\n",
    "        stack='p'\n",
    "        if stack == 'MD589':\n",
    "            with self.viewer.txn() as s:\n",
    "                s.layers[ self.stack+'_image'] = neuroglancer.ImageLayer(\\\n",
    "                    source='precomputed://https://mousebrainatlas-datajoint-jp2k.s3.amazonaws.com/precomputed/MD589_fullres')\n",
    "        elif stack == 'MD594':\n",
    "            with self.viewer.txn() as s:\n",
    "                s.layers[ self.stack+'_image'] = neuroglancer.ImageLayer(\\\n",
    "                    source='precomputed://https://mousebrainatlas-datajoint-jp2k.s3.amazonaws.com/precomputed/MD594_fullres')\n",
    "            \n",
    "    def add_volume(self, colored=True):\n",
    "        volume_fp = self.local_volume_fp_root+self.stack+'/human_annotation/solid_volume_5um/'\n",
    "        if colored:\n",
    "            volume_fn = 'volume_colored.npy'\n",
    "            color_segments=[]\n",
    "            for i in range(1,50):\n",
    "                color_segments.append(i)\n",
    "        else:\n",
    "            volume_fn = 'volume.npy'\n",
    "        \n",
    "        xy_ng_resolution_um = 5\n",
    "        volume_data = np.load( volume_fp+volume_fn )\n",
    "        \n",
    "        with self.viewer.txn() as s:\n",
    "            s.layers[ self.stack+\"_Annotations\" ] = neuroglancer.SegmentationLayer(\n",
    "                source = neuroglancer.LocalVolume(\n",
    "                    data=volume_data, # Z,Y,X\n",
    "                    voxel_size=[ xy_ng_resolution_um*1000, xy_ng_resolution_um*1000, 20000], # X Y Z\n",
    "                    voxel_offset = [ 0, 0, 0] # X Y Z\n",
    "                ),\n",
    "                segments = color_segments\n",
    "            )\n",
    "            \n",
    "    def reset_orientation(self):\n",
    "        with self.viewer.txn() as s:\n",
    "            # Resets X/Y/Z plane orientation\n",
    "            s.navigation.pose.orientation = [0,0,0,1]\n",
    "            # Zooms out \n",
    "            s.navigation.zoomFactor = 5000 # 5000 If xy, 10000 If 4panel\n",
    "            # Resets 3D Viewer Orientation\n",
    "            s.perspectiveOrientation = [0,0,0,1]\n",
    "            # Zooms out\n",
    "            s.perspectiveZoom = 75000\n",
    "\n",
    "            s.layout = 'xy' # '3d'/'4panel'/'xy'\n",
    "            \n",
    "    def stop(self):\n",
    "        neuroglancer.stop()"
   ]
  },
  {
   "cell_type": "code",
   "execution_count": 2,
   "metadata": {},
   "outputs": [
    {
     "name": "stdout",
     "output_type": "stream",
     "text": [
      "http://132.239.73.85:38325/v/97b5ad4fee0caf37fdb5aa8bd5877e2c59dfafd1/\n"
     ]
    }
   ],
   "source": [
    "new_viewer = Neuroglancer_Viewer() # 8 off\n",
    "\n",
    "\n",
    "print( new_viewer.url )"
   ]
  },
  {
   "cell_type": "code",
   "execution_count": 3,
   "metadata": {},
   "outputs": [
    {
     "ename": "AttributeError",
     "evalue": "'Neuroglancer_Viewer' object has no attribute 'stack'",
     "output_type": "error",
     "traceback": [
      "\u001b[0;31m---------------------------------------------------------------------------\u001b[0m",
      "\u001b[0;31mAttributeError\u001b[0m                            Traceback (most recent call last)",
      "\u001b[0;32m<ipython-input-3-66ca7b944e34>\u001b[0m in \u001b[0;36m<module>\u001b[0;34m\u001b[0m\n\u001b[0;32m----> 1\u001b[0;31m \u001b[0mnew_viewer\u001b[0m\u001b[0;34m.\u001b[0m\u001b[0madd_fp\u001b[0m\u001b[0;34m(\u001b[0m\u001b[0;34m'/data2/Atlas_Root_Dirs/Beta_Testing/CSHL_data_processed/DK23/DK23_Neuroglancer_primary_channel_thumbnail_output'\u001b[0m\u001b[0;34m)\u001b[0m\u001b[0;34m\u001b[0m\u001b[0;34m\u001b[0m\u001b[0m\n\u001b[0m\u001b[1;32m      2\u001b[0m \u001b[0mnew_viewer\u001b[0m\u001b[0;34m.\u001b[0m\u001b[0mreset_orientation\u001b[0m\u001b[0;34m(\u001b[0m\u001b[0;34m)\u001b[0m\u001b[0;34m\u001b[0m\u001b[0;34m\u001b[0m\u001b[0m\n",
      "\u001b[0;32m<ipython-input-1-ac324e70ff7f>\u001b[0m in \u001b[0;36madd_fp\u001b[0;34m(self, fp)\u001b[0m\n\u001b[1;32m     48\u001b[0m                 s.layers[ self.stack+'_image'] = neuroglancer.ImageLayer(\\\n\u001b[1;32m     49\u001b[0m                     source='precomputed://https://mousebrainatlas-datajoint-jp2k.s3.amazonaws.com/precomputed/MD589_fullres')\n\u001b[0;32m---> 50\u001b[0;31m         \u001b[0;32melif\u001b[0m \u001b[0mself\u001b[0m\u001b[0;34m.\u001b[0m\u001b[0mstack\u001b[0m \u001b[0;34m==\u001b[0m \u001b[0;34m'MD594'\u001b[0m\u001b[0;34m:\u001b[0m\u001b[0;34m\u001b[0m\u001b[0;34m\u001b[0m\u001b[0m\n\u001b[0m\u001b[1;32m     51\u001b[0m             \u001b[0;32mwith\u001b[0m \u001b[0mself\u001b[0m\u001b[0;34m.\u001b[0m\u001b[0mviewer\u001b[0m\u001b[0;34m.\u001b[0m\u001b[0mtxn\u001b[0m\u001b[0;34m(\u001b[0m\u001b[0;34m)\u001b[0m \u001b[0;32mas\u001b[0m \u001b[0ms\u001b[0m\u001b[0;34m:\u001b[0m\u001b[0;34m\u001b[0m\u001b[0;34m\u001b[0m\u001b[0m\n\u001b[1;32m     52\u001b[0m                 s.layers[ self.stack+'_image'] = neuroglancer.ImageLayer(\\\n",
      "\u001b[0;31mAttributeError\u001b[0m: 'Neuroglancer_Viewer' object has no attribute 'stack'"
     ]
    }
   ],
   "source": [
    "new_viewer.add_fp('/data2/Atlas_Root_Dirs/Beta_Testing/CSHL_data_processed/DK23/DK23_Neuroglancer_primary_channel_thumbnail_output')\n",
    "new_viewer.reset_orientation()"
   ]
  },
  {
   "cell_type": "code",
   "execution_count": null,
   "metadata": {},
   "outputs": [],
   "source": [
    "new_viewer.add_fp('/data2/Atlas_Root_Dirs/Beta_Testing/CSHL_data_processed/DK23/DK23_Neuroglancer_secondary_channel_thumbnail_output')\n",
    "new_viewer.reset_orientation()"
   ]
  },
  {
   "cell_type": "code",
   "execution_count": 7,
   "metadata": {},
   "outputs": [
    {
     "name": "stdout",
     "output_type": "stream",
     "text": [
      "http://ratto.dk.ucsd.edu:41667/v/47ae6d7678226fcf3b0b6e9e3d58eb3519b4ac66/\n",
      "http://132.239.73.85 172.17.0.1 172.18.0.1:41667/v/47ae6d7678226fcf3b0b6e9e3d58eb3519b4ac66/\n",
      "http://132.239.73.85:41667/v/47ae6d7678226fcf3b0b6e9e3d58eb3519b4ac66/\n"
     ]
    }
   ],
   "source": [
    "NEUROGLANCER_ROOT = '/media/alexn/BstemAtlasDataBackup/neuroglancer_volumes/'\n",
    "\n",
    "\n",
    "import socket\n",
    "import neuroglancer\n",
    "import subprocess\n",
    "import numpy as np\n",
    "from neuroglancer.server import global_server_args\n",
    "\n",
    "neuroglancer.set_server_bind_address('0.0.0.0')\n",
    "viewer = neuroglancer.Viewer()\n",
    "print(viewer)\n",
    "\n",
    "ip_name = !hostname -I\n",
    "print('http://' + ip_name[0].strip() + ':' + viewer.get_viewer_url().split(':')[2]) ##Remote URL\n",
    "\n",
    "ip_name_str = str(ip_name).replace('\\'','').replace('\\\"','').replace('[','').replace(']','')\n",
    "real_ip = ip_name_str.split(' ')[0]\n",
    "print('http://' + real_ip + ':' + viewer.get_viewer_url().split(':')[2]) ##Remote URL\n",
    "\n",
    "viewer # port 41989, IP 132.239.73.85\n",
    "\n",
    "# Sets 'Image' layer to be prep2 images from S3 of <stack>\n",
    "with viewer.txn() as s:\n",
    "    s.layers['primary'] = neuroglancer.ImageLayer(source='precomputed://https://neuroglancer-data.s3.amazonaws.com/Tests/primary',\n",
    "        shader=\"\"\"\n",
    "                void main() {\n",
    "                    emitRGB(vec3( toNormalized(getDataValue(0)), toNormalized(getDataValue(1)), 0));\n",
    "                }\n",
    "                \"\"\")\n",
    "    s.layers['secondary'] = neuroglancer.ImageLayer(source='precomputed://https://neuroglancer-data.s3.amazonaws.com/Tests/secondary',\n",
    "        shader=\"\"\"\n",
    "                void main() {\n",
    "                    emitRGB(vec3( toNormalized(getDataValue(0)), 0, toNormalized(getDataValue(2))));\n",
    "                }\n",
    "                \"\"\")"
   ]
  },
  {
   "cell_type": "code",
   "execution_count": 121,
   "metadata": {},
   "outputs": [],
   "source": []
  },
  {
   "cell_type": "code",
   "execution_count": 104,
   "metadata": {},
   "outputs": [],
   "source": [
    "# Sets 'Image' layer to be prep2 images from S3 of <stack>\n",
    "with viewer.txn() as s:\n",
    "    s.layers['primary'] = neuroglancer.ImageLayer(source='precomputed://https://neuroglancer-data.s3.amazonaws.com/Tests/primary',\n",
    "        shader=\"\"\"\n",
    "                void main() {\n",
    "                  emitRGB(vec3( toNormalized(getDataValue(0)), toNormalized(getDataValue(1)), toNormalized(getDataValue(2))));\n",
    "                }\n",
    "                \"\"\")\n",
    "    s.layers['secondary'] = neuroglancer.ImageLayer(source='precomputed://https://neuroglancer-data.s3.amazonaws.com/Tests/secondary',\n",
    "        shader=\"\"\"\n",
    "void main() {\n",
    "    emitRGB(vec3(toNormalized(getDataValue(0)),\n",
    "        toNormalized(getDataValue(1)),\n",
    "        toNormalized(getDataValue(2))));\n",
    "}\n",
    "                \"\"\")\n",
    "    \n",
    "#     # Resets X/Y/Z plane orientation\n",
    "#     s.navigation.pose.orientation = [0,0,0,1]\n",
    "#     # Zooms out \n",
    "# #     s.navigation.zoomFactor = 10000 # If 4panel\n",
    "#     s.navigation.zoomFactor = 5000 # If xy\n",
    "    \n",
    "#     # Resets 3D Viewer Orientation\n",
    "#     s.perspectiveOrientation = [0,0,0,1]\n",
    "#     # Zooms out\n",
    "#     s.perspectiveZoom = 75000\n",
    "    \n",
    "#     s.layout = 'xy' # '3d'/'4panel'/'xy'"
   ]
  },
  {
   "cell_type": "code",
   "execution_count": 88,
   "metadata": {},
   "outputs": [],
   "source": [
    "# Sets 'Image' layer to be prep2 images from S3 of <stack>\n",
    "with viewer.txn() as s:\n",
    "    s.layers['primary'] = neuroglancer.ImageLayer(source='precomputed://https://neuroglancer-data.s3.amazonaws.com/Tests/primary')\n",
    "    s.layers['secondary'] = neuroglancer.ImageLayer(source='precomputed://https://neuroglancer-data.s3.amazonaws.com/Tests/secondary')\n",
    "    \n",
    "    # Resets X/Y/Z plane orientation\n",
    "    s.navigation.pose.orientation = [0,0,0,1]\n",
    "    # Zooms out \n",
    "#     s.navigation.zoomFactor = 10000 # If 4panel\n",
    "    s.navigation.zoomFactor = 5000 # If xy\n",
    "    \n",
    "    # Resets 3D Viewer Orientation\n",
    "    s.perspectiveOrientation = [0,0,0,1]\n",
    "    # Zooms out\n",
    "    s.perspectiveZoom = 75000\n",
    "    \n",
    "    s.layout = 'xy' # '3d'/'4panel'/'xy'"
   ]
  },
  {
   "cell_type": "code",
   "execution_count": null,
   "metadata": {},
   "outputs": [],
   "source": [
    "# Sets 'Image' layer to be prep2 images from S3 of <stack>\n",
    "with viewer.txn() as s:\n",
    "    s.layers['image'] = neuroglancer.ImageLayer(source='precomputed://https://mousebrainatlas-datajoint-jp2k.s3.amazonaws.com/precomputed/'+stack+'_fullres')\n",
    "    \n",
    "    # Resets X/Y/Z plane orientation\n",
    "    s.navigation.pose.orientation = [0,0,0,1]\n",
    "    # Zooms out \n",
    "#     s.navigation.zoomFactor = 10000 # If 4panel\n",
    "    s.navigation.zoomFactor = 5000 # If xy\n",
    "    \n",
    "    # Resets 3D Viewer Orientation\n",
    "    s.perspectiveOrientation = [0,0,0,1]\n",
    "    # Zooms out\n",
    "    s.perspectiveZoom = 75000\n",
    "    \n",
    "    s.layout = 'xy' # '3d'/'4panel'/'xy'"
   ]
  },
  {
   "cell_type": "code",
   "execution_count": null,
   "metadata": {},
   "outputs": [],
   "source": [
    "with viewer.txn() as s:\n",
    "    s.voxel_size = [10, 10, 10]\n",
    "    s.layers.append(\n",
    "        name='a',\n",
    "        layer=neuroglancer.LocalVolume(\n",
    "            data=a,\n",
    "            # offset is in nm, not voxels\n",
    "            offset=(200, 300, 150),\n",
    "            voxel_size=s.voxel_size,\n",
    "        ),\n",
    "        shader=\"\"\"\n",
    "                void main() {\n",
    "                  emitRGB(vec3(toNormalized(getDataValue(0)),\n",
    "                               toNormalized(getDataValue(1)),\n",
    "                               toNormalized(getDataValue(2))));\n",
    "                }\n",
    "                \"\"\")\n",
    "    s.layers.append(\n",
    "        name='b', layer=neuroglancer.LocalVolume(\n",
    "            data=b,\n",
    "            voxel_size=s.voxel_size,\n",
    "        ))"
   ]
  }
 ],
 "metadata": {
  "kernelspec": {
   "display_name": "Python 2",
   "language": "python",
   "name": "python2"
  },
  "language_info": {
   "codemirror_mode": {
    "name": "ipython",
    "version": 3
   },
   "file_extension": ".py",
   "mimetype": "text/x-python",
   "name": "python",
   "nbconvert_exporter": "python",
   "pygments_lexer": "ipython3",
   "version": "3.7.4"
  }
 },
 "nbformat": 4,
 "nbformat_minor": 2
}
