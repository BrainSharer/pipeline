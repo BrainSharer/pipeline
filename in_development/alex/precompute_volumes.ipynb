{
 "cells": [
  {
   "cell_type": "code",
   "execution_count": 2,
   "metadata": {},
   "outputs": [
    {
     "name": "stdout",
     "output_type": "stream",
     "text": [
      "download: s3://test-bucket-sid/alex_neuroglancer_volumes/MD585/human_annotation/solid_volume_5um/volume_colored.npy to ../../../../../../mnt/x/temp_s3_download/volumes/MD585/human_annotation/solid_volume_5um/volume_colored.npy\n"
     ]
    }
   ],
   "source": [
    "! aws s3 cp s3://test-bucket-sid/alex_neuroglancer_volumes/MD585/human_annotation/solid_volume_5um/volume_colored.npy \\\n",
    "/mnt/x/temp_s3_download/volumes/MD585/human_annotation/solid_volume_5um/ "
   ]
  },
  {
   "cell_type": "code",
   "execution_count": 3,
   "metadata": {},
   "outputs": [
    {
     "name": "stdout",
     "output_type": "stream",
     "text": [
      "download: s3://test-bucket-sid/alex_neuroglancer_volumes/MD589/human_annotation/solid_volume_5um/volume_colored.npy to ../../../../../../mnt/x/temp_s3_download/volumes/MD589/human_annotation/solid_volume_5um/volume_colored.npy\n"
     ]
    }
   ],
   "source": [
    "! aws s3 cp s3://test-bucket-sid/alex_neuroglancer_volumes/MD589/human_annotation/solid_volume_5um/volume_colored.npy \\\n",
    "/mnt/x/temp_s3_download/volumes/MD589/human_annotation/solid_volume_5um/"
   ]
  },
  {
   "cell_type": "code",
   "execution_count": 4,
   "metadata": {},
   "outputs": [
    {
     "name": "stdout",
     "output_type": "stream",
     "text": [
      "download: s3://test-bucket-sid/alex_neuroglancer_volumes/MD594/human_annotation/solid_volume_5um/volume_colored.npy to ../../../../../../mnt/x/temp_s3_download/volumes/MD594/human_annotation/solid_volume_5um/volume_colored.npy\n"
     ]
    }
   ],
   "source": [
    "! aws s3 cp s3://test-bucket-sid/alex_neuroglancer_volumes/MD594/human_annotation/solid_volume_5um/volume_colored.npy \\\n",
    "/mnt/x/temp_s3_download/volumes/MD594/human_annotation/solid_volume_5um/"
   ]
  },
  {
   "cell_type": "code",
   "execution_count": 5,
   "metadata": {},
   "outputs": [],
   "source": [
    "import numpy as np\n",
    "import pickle as pkl\n",
    "import boto3\n",
    "\n",
    "import os\n",
    "\n",
    "import json\n",
    "import pathlib\n",
    "from neuroglancer_scripts.scripts import (generate_scales_info,\n",
    "                                          slices_to_precomputed,\n",
    "                                          compute_scales, volume_to_precomputed)\n",
    "import nibabel as nib\n",
    "import re\n",
    "\n",
    "\n",
    "sys.path.append(os.path.join( os.environ['NG_REPO_DIR'], 'src', 'utilities'))\n",
    "\n",
    "stack = 'MD585'"
   ]
  },
  {
   "cell_type": "code",
   "execution_count": null,
   "metadata": {},
   "outputs": [],
   "source": []
  },
  {
   "cell_type": "code",
   "execution_count": 27,
   "metadata": {},
   "outputs": [],
   "source": [
    "s3_creds_file = '/mnt/c/Users/Alex/Documents/json_credentials/alex_aws_credentials.json'\n",
    "bucket_name = 'test-bucket-sid'\n",
    "ni_out = '/mnt/x/temp_s3_download/volumes/precomputed/'+stack+'/vol_color.nii'"
   ]
  },
  {
   "cell_type": "code",
   "execution_count": 28,
   "metadata": {},
   "outputs": [],
   "source": [
    "source_dir = '/mnt/x/temp_s3_download/volumes/'+stack+'/human_annotation/solid_volume_5um/volume_colored.npy'\n",
    "out_dir = '/mnt/x/temp_s3_download/volumes/precomputed/'+stack+'/'"
   ]
  },
  {
   "cell_type": "code",
   "execution_count": 29,
   "metadata": {},
   "outputs": [],
   "source": [
    "vol_m = np.load(source_dir)"
   ]
  },
  {
   "cell_type": "code",
   "execution_count": 30,
   "metadata": {},
   "outputs": [],
   "source": [
    "! mkdir $out_dir"
   ]
  },
  {
   "cell_type": "code",
   "execution_count": 31,
   "metadata": {},
   "outputs": [
    {
     "name": "stdout",
     "output_type": "stream",
     "text": [
      "(1585, 1023, 282)\n"
     ]
    }
   ],
   "source": [
    "vol_m = np.swapaxes(vol_m,0,2)\n",
    "print(vol_m.shape)\n",
    "vol_img = nib.Nifti1Image(vol_m, affine=np.array(\\\n",
    "      [[ 0.005,  0.,  0.,  0.],\\\n",
    "       [ 0.,   0.005,  0.,  0.],\\\n",
    "       [ 0.,  0.,  0.02,  0.],\\\n",
    "       [ 0.,  0.,  0.,  1.]]))\n",
    "nib.save(vol_img, ni_out)"
   ]
  },
  {
   "cell_type": "code",
   "execution_count": 32,
   "metadata": {},
   "outputs": [
    {
     "name": "stderr",
     "output_type": "stream",
     "text": [
      "INFO: Input image shape is (1585, 1023, 282)\n",
      "INFO: Input voxel size is [0.005 0.005 0.02 ] mm\n",
      "INFO: Detected input axis orientations RAS+\n",
      "INFO: the following info has been generated:\n",
      "{\n",
      "    \"type\": \"image\",\n",
      "    \"num_channels\": 1,\n",
      "    \"data_type\": \"uint8\",\n",
      "    \"scales\": [\n",
      "        {\n",
      "            \"encoding\": \"raw\",\n",
      "            \"size\": [1585, 1023, 282],\n",
      "            \"resolution\": [4999.999888241291, 4999.999888241291, 19999.999552965164],\n",
      "            \"voxel_offset\": [0, 0, 0]\n",
      "        }\n",
      "    ]\n",
      "}\n",
      "INFO: The metadata above was written to info_fullres.json. Please run generate-scales-info on that file to generate the 'info' file, then run this program again.\n",
      "INFO: Neuroglancer transform of the converted volume (written to transform.json):\n",
      "[[1_0_0_-2499.9999441206455]_[0_1_0_-2499.9999441206455]_[0_0_1_-9999.999776482582]_[0_0_0_1]]\n"
     ]
    },
    {
     "data": {
      "text/plain": [
       "0"
      ]
     },
     "execution_count": 32,
     "metadata": {},
     "output_type": "execute_result"
    }
   ],
   "source": [
    "volume_to_precomputed.main(['', ni_out, out_dir, '--generate-info', '--no-gzip'])"
   ]
  },
  {
   "cell_type": "code",
   "execution_count": 33,
   "metadata": {},
   "outputs": [],
   "source": [
    "with open(os.path.join(os.path.join(out_dir, 'info_fullres.json')), 'r') as info_file:\n",
    "    info = json.load(info_file)\n",
    "\n",
    "info[\"type\"] = \"segmentation\"\n",
    "# # info[\"scales\"][0][\"size\"][0] *= 1000000/20000\n",
    "# # info[\"scales\"][0][\"size\"][1] *= 1000000/5000\n",
    "# # info[\"scales\"][0][\"size\"][2] *= 1000000/5000\n",
    "\n",
    "# info[\"scales\"][0][\"resolution\"][0] = 5000\n",
    "# info[\"scales\"][0][\"resolution\"][1] = 5000\n",
    "# info[\"scales\"][0][\"resolution\"][2] = 20000\n",
    "\n",
    "with open(os.path.join(os.path.join(out_dir, 'info_fullres.json')), 'w') as info_file:\n",
    "    json.dump(info, info_file)\n",
    "\n",
    "# with open(os.path.join(out_dir, 'info_fullres.json'), 'w') as outfile:\n",
    "#     json.dump(info, outfile)\n"
   ]
  },
  {
   "cell_type": "code",
   "execution_count": 34,
   "metadata": {},
   "outputs": [
    {
     "data": {
      "text/plain": [
       "0"
      ]
     },
     "execution_count": 34,
     "metadata": {},
     "output_type": "execute_result"
    },
    {
     "name": "stderr",
     "output_type": "stream",
     "text": [
      "\n",
      "writing: 100%|██████████| 150/150 [00:57<00:00, 11.28chunks/s]\u001b[A"
     ]
    }
   ],
   "source": [
    "generate_scales_info.main(['', os.path.join(out_dir, 'info_fullres.json'),  '--encoding' , 'compressed_segmentation',\n",
    "                           out_dir, '--max-scales', '1', '--target-chunk-size', '128'])\n",
    "\n",
    "# volume_to_precomputed.main(['', ni_out, out_dir, '--flat', '--no-gzip'])"
   ]
  },
  {
   "cell_type": "code",
   "execution_count": 35,
   "metadata": {
    "scrolled": true
   },
   "outputs": [
    {
     "name": "stderr",
     "output_type": "stream",
     "text": [
      "INFO: Loading full volume to memory... \n",
      "INFO: Writing chunks... \n",
      "\n",
      "\n",
      "writing:   0%|          | 0/140 [00:00<?, ?chunks/s]\u001b[A\u001b[A\n",
      "\n",
      "writing:   1%|          | 1/140 [00:00<00:42,  3.28chunks/s]\u001b[A\u001b[A\n",
      "\n",
      "writing:   1%|▏         | 2/140 [00:00<00:42,  3.25chunks/s]\u001b[A\u001b[A\n",
      "\n",
      "writing:   2%|▏         | 3/140 [00:00<00:43,  3.18chunks/s]\u001b[A\u001b[A\n",
      "\n",
      "writing:   3%|▎         | 4/140 [00:01<00:41,  3.26chunks/s]\u001b[A\u001b[A\n",
      "\n",
      "writing:   4%|▎         | 5/140 [00:01<00:40,  3.32chunks/s]\u001b[A\u001b[A\n",
      "\n",
      "writing:   4%|▍         | 6/140 [00:01<00:39,  3.38chunks/s]\u001b[A\u001b[A\n",
      "\n",
      "writing:   6%|▌         | 8/140 [00:02<00:34,  3.78chunks/s]\u001b[A\u001b[A\n",
      "\n",
      "writing:   6%|▋         | 9/140 [00:02<00:40,  3.25chunks/s]\u001b[A\u001b[A\n",
      "\n",
      "writing:   7%|▋         | 10/140 [00:02<00:40,  3.23chunks/s]\u001b[A\u001b[A\n",
      "\n",
      "writing:   8%|▊         | 11/140 [00:03<00:41,  3.11chunks/s]\u001b[A\u001b[A\n",
      "\n",
      "writing:   9%|▊         | 12/140 [00:03<00:38,  3.33chunks/s]\u001b[A\u001b[A\n",
      "\n",
      "writing:   9%|▉         | 13/140 [00:03<00:36,  3.50chunks/s]\u001b[A\u001b[A\n",
      "\n",
      "writing:  11%|█         | 15/140 [00:04<00:31,  3.98chunks/s]\u001b[A\u001b[A\n",
      "\n",
      "writing:  11%|█▏        | 16/140 [00:04<00:35,  3.46chunks/s]\u001b[A\u001b[A\n",
      "\n",
      "writing:  12%|█▏        | 17/140 [00:04<00:38,  3.17chunks/s]\u001b[A\u001b[A\n",
      "\n",
      "writing:  13%|█▎        | 18/140 [00:05<00:46,  2.63chunks/s]\u001b[A\u001b[A\n",
      "\n",
      "writing:  14%|█▎        | 19/140 [00:05<00:48,  2.49chunks/s]\u001b[A\u001b[A\n",
      "\n",
      "writing:  14%|█▍        | 20/140 [00:06<00:43,  2.74chunks/s]\u001b[A\u001b[A\n",
      "\n",
      "writing:  16%|█▌        | 22/140 [00:06<00:36,  3.25chunks/s]\u001b[A\u001b[A\n",
      "\n",
      "writing:  16%|█▋        | 23/140 [00:06<00:35,  3.31chunks/s]\u001b[A\u001b[A\n",
      "\n",
      "writing:  17%|█▋        | 24/140 [00:07<00:35,  3.27chunks/s]\u001b[A\u001b[A\n",
      "\n",
      "writing:  18%|█▊        | 25/140 [00:07<00:35,  3.27chunks/s]\u001b[A\u001b[A\n",
      "\n",
      "writing:  19%|█▊        | 26/140 [00:07<00:33,  3.38chunks/s]\u001b[A\u001b[A\n",
      "\n",
      "writing:  19%|█▉        | 27/140 [00:07<00:32,  3.51chunks/s]\u001b[A\u001b[A\n",
      "\n",
      "writing:  21%|██        | 29/140 [00:08<00:28,  3.90chunks/s]\u001b[A\u001b[A\n",
      "\n",
      "writing:  21%|██▏       | 30/140 [00:08<00:34,  3.18chunks/s]\u001b[A\u001b[A\n",
      "\n",
      "writing:  22%|██▏       | 31/140 [00:09<00:37,  2.90chunks/s]\u001b[A\u001b[A\n",
      "\n",
      "writing:  23%|██▎       | 32/140 [00:09<00:33,  3.19chunks/s]\u001b[A\u001b[A\n",
      "\n",
      "writing:  24%|██▎       | 33/140 [00:09<00:31,  3.40chunks/s]\u001b[A\u001b[A\n",
      "\n",
      "writing:  24%|██▍       | 34/140 [00:09<00:29,  3.58chunks/s]\u001b[A\u001b[A\n",
      "\n",
      "writing:  26%|██▌       | 36/140 [00:10<00:27,  3.79chunks/s]\u001b[A\u001b[A\n",
      "\n",
      "writing:  26%|██▋       | 37/140 [00:10<00:32,  3.21chunks/s]\u001b[A\u001b[A\n",
      "\n",
      "writing:  27%|██▋       | 38/140 [00:11<00:31,  3.22chunks/s]\u001b[A\u001b[A\n",
      "\n",
      "writing:  28%|██▊       | 39/140 [00:11<00:29,  3.45chunks/s]\u001b[A\u001b[A\n",
      "\n",
      "writing:  29%|██▊       | 40/140 [00:11<00:27,  3.62chunks/s]\u001b[A\u001b[A\n",
      "\n",
      "writing:  29%|██▉       | 41/140 [00:11<00:26,  3.78chunks/s]\u001b[A\u001b[A\n",
      "\n",
      "writing:  31%|███       | 43/140 [00:12<00:22,  4.23chunks/s]\u001b[A\u001b[A\n",
      "\n",
      "writing:  31%|███▏      | 44/140 [00:12<00:27,  3.55chunks/s]\u001b[A\u001b[A\n",
      "\n",
      "writing:  32%|███▏      | 45/140 [00:12<00:29,  3.21chunks/s]\u001b[A\u001b[A\n",
      "\n",
      "writing:  33%|███▎      | 46/140 [00:13<00:29,  3.19chunks/s]\u001b[A\u001b[A\n",
      "\n",
      "writing:  34%|███▎      | 47/140 [00:13<00:31,  2.95chunks/s]\u001b[A\u001b[A\n",
      "\n",
      "writing:  34%|███▍      | 48/140 [00:14<00:32,  2.81chunks/s]\u001b[A\u001b[A\n",
      "\n",
      "writing:  36%|███▌      | 50/140 [00:14<00:27,  3.29chunks/s]\u001b[A\u001b[A\n",
      "\n",
      "writing:  36%|███▋      | 51/140 [00:14<00:32,  2.78chunks/s]\u001b[A\u001b[A\n",
      "\n",
      "writing:  37%|███▋      | 52/140 [00:15<00:34,  2.57chunks/s]\u001b[A\u001b[A\n",
      "\n",
      "writing:  38%|███▊      | 53/140 [00:15<00:33,  2.58chunks/s]\u001b[A\u001b[A\n",
      "\n",
      "writing:  39%|███▊      | 54/140 [00:16<00:32,  2.61chunks/s]\u001b[A\u001b[A\n",
      "\n",
      "writing:  39%|███▉      | 55/140 [00:16<00:31,  2.72chunks/s]\u001b[A\u001b[A\n",
      "\n",
      "writing:  41%|████      | 57/140 [00:16<00:26,  3.12chunks/s]\u001b[A\u001b[A\n",
      "\n",
      "writing:  41%|████▏     | 58/140 [00:17<00:29,  2.75chunks/s]\u001b[A\u001b[A\n",
      "\n",
      "writing:  42%|████▏     | 59/140 [00:17<00:29,  2.72chunks/s]\u001b[A\u001b[A\n",
      "\n",
      "writing:  43%|████▎     | 60/140 [00:17<00:26,  3.01chunks/s]\u001b[A\u001b[A\n",
      "\n",
      "writing:  44%|████▎     | 61/140 [00:18<00:24,  3.23chunks/s]\u001b[A\u001b[A\n",
      "\n",
      "writing:  44%|████▍     | 62/140 [00:18<00:22,  3.41chunks/s]\u001b[A\u001b[A\n",
      "\n",
      "writing:  46%|████▌     | 64/140 [00:18<00:20,  3.67chunks/s]\u001b[A\u001b[A\n",
      "\n",
      "writing:  46%|████▋     | 65/140 [00:19<00:22,  3.29chunks/s]\u001b[A\u001b[A\n",
      "\n",
      "writing:  47%|████▋     | 66/140 [00:19<00:22,  3.28chunks/s]\u001b[A\u001b[A\n",
      "\n",
      "writing:  48%|████▊     | 67/140 [00:19<00:20,  3.51chunks/s]\u001b[A\u001b[A\n",
      "\n",
      "writing:  49%|████▊     | 68/140 [00:20<00:19,  3.65chunks/s]\u001b[A\u001b[A\n",
      "\n",
      "writing:  49%|████▉     | 69/140 [00:20<00:18,  3.77chunks/s]\u001b[A\u001b[A\n",
      "\n",
      "writing:  51%|█████     | 71/140 [00:20<00:16,  4.24chunks/s]\u001b[A\u001b[A\n",
      "\n",
      "writing:  51%|█████▏    | 72/140 [00:21<00:18,  3.67chunks/s]\u001b[A\u001b[A\n",
      "\n",
      "writing:  52%|█████▏    | 73/140 [00:21<00:19,  3.38chunks/s]\u001b[A\u001b[A\n",
      "\n",
      "writing:  53%|█████▎    | 74/140 [00:21<00:18,  3.54chunks/s]\u001b[A\u001b[A\n",
      "\n",
      "writing:  54%|█████▎    | 75/140 [00:22<00:20,  3.10chunks/s]\u001b[A\u001b[A\n",
      "\n",
      "writing:  54%|█████▍    | 76/140 [00:22<00:19,  3.22chunks/s]\u001b[A\u001b[A\n",
      "\n",
      "writing:  56%|█████▌    | 78/140 [00:22<00:16,  3.65chunks/s]\u001b[A\u001b[A\n",
      "\n",
      "writing:  56%|█████▋    | 79/140 [00:23<00:20,  3.00chunks/s]\u001b[A\u001b[A\n",
      "\n",
      "writing:  57%|█████▋    | 80/140 [00:23<00:21,  2.84chunks/s]\u001b[A\u001b[A\n",
      "\n",
      "writing:  58%|█████▊    | 81/140 [00:23<00:20,  2.92chunks/s]\u001b[A\u001b[A\n",
      "\n",
      "writing:  59%|█████▊    | 82/140 [00:24<00:19,  2.99chunks/s]\u001b[A\u001b[A\n",
      "\n",
      "writing:  59%|█████▉    | 83/140 [00:24<00:18,  3.16chunks/s]\u001b[A\u001b[A\n",
      "\n",
      "writing:  61%|██████    | 85/140 [00:24<00:15,  3.62chunks/s]\u001b[A\u001b[A\n",
      "\n",
      "writing:  61%|██████▏   | 86/140 [00:25<00:15,  3.46chunks/s]\u001b[A\u001b[A\n",
      "\n",
      "writing:  62%|██████▏   | 87/140 [00:25<00:15,  3.44chunks/s]\u001b[A\u001b[A\n",
      "\n",
      "writing:  63%|██████▎   | 88/140 [00:25<00:14,  3.64chunks/s]\u001b[A\u001b[A\n",
      "\n",
      "writing:  64%|██████▎   | 89/140 [00:25<00:13,  3.77chunks/s]\u001b[A\u001b[A\n",
      "\n",
      "writing:  64%|██████▍   | 90/140 [00:26<00:12,  3.85chunks/s]\u001b[A\u001b[A\n",
      "\n",
      "writing:  66%|██████▌   | 92/140 [00:26<00:11,  4.23chunks/s]\u001b[A\u001b[A\n",
      "\n",
      "writing:  66%|██████▋   | 93/140 [00:26<00:13,  3.57chunks/s]\u001b[A\u001b[A\n",
      "\n",
      "writing:  67%|██████▋   | 94/140 [00:27<00:12,  3.58chunks/s]\u001b[A\u001b[A\n",
      "\n",
      "writing:  68%|██████▊   | 95/140 [00:27<00:13,  3.39chunks/s]\u001b[A\u001b[A\n",
      "\n",
      "writing:  69%|██████▊   | 96/140 [00:27<00:12,  3.54chunks/s]\u001b[A\u001b[A\n",
      "\n",
      "writing:  69%|██████▉   | 97/140 [00:28<00:11,  3.70chunks/s]\u001b[A\u001b[A\n",
      "\n",
      "writing:  71%|███████   | 99/140 [00:28<00:10,  4.04chunks/s]\u001b[A\u001b[A\n",
      "\n",
      "writing:  71%|███████▏  | 100/140 [00:28<00:11,  3.37chunks/s]\u001b[A\u001b[A\n",
      "\n",
      "writing:  72%|███████▏  | 101/140 [00:29<00:13,  2.97chunks/s]\u001b[A\u001b[A\n",
      "\n",
      "writing:  73%|███████▎  | 102/140 [00:29<00:14,  2.66chunks/s]\u001b[A\u001b[A\n",
      "\n",
      "writing:  74%|███████▎  | 103/140 [00:30<00:16,  2.31chunks/s]\u001b[A\u001b[A\n",
      "\n",
      "writing:  74%|███████▍  | 104/140 [00:30<00:14,  2.55chunks/s]\u001b[A\u001b[A\n",
      "\n",
      "writing:  76%|███████▌  | 106/140 [00:30<00:11,  3.02chunks/s]\u001b[A\u001b[A\n",
      "\n",
      "writing:  76%|███████▋  | 107/140 [00:31<00:10,  3.08chunks/s]\u001b[A\u001b[A\n",
      "\n",
      "writing:  77%|███████▋  | 108/140 [00:31<00:10,  3.09chunks/s]\u001b[A\u001b[A\n",
      "\n",
      "writing:  78%|███████▊  | 109/140 [00:31<00:10,  3.03chunks/s]\u001b[A\u001b[A\n",
      "\n",
      "writing:  79%|███████▊  | 110/140 [00:32<00:09,  3.06chunks/s]\u001b[A\u001b[A\n",
      "\n",
      "writing:  79%|███████▉  | 111/140 [00:32<00:08,  3.24chunks/s]\u001b[A\u001b[A\n",
      "\n",
      "writing:  81%|████████  | 113/140 [00:32<00:06,  3.88chunks/s]\u001b[A\u001b[A\n",
      "\n",
      "writing:  81%|████████▏ | 114/140 [00:32<00:06,  4.20chunks/s]\u001b[A\u001b[A\n",
      "\n",
      "writing:  82%|████████▏ | 115/140 [00:33<00:05,  4.49chunks/s]\u001b[A\u001b[A\n",
      "\n",
      "writing:  83%|████████▎ | 116/140 [00:33<00:05,  4.68chunks/s]\u001b[A\u001b[A\n",
      "\n",
      "writing:  84%|████████▎ | 117/140 [00:33<00:04,  4.80chunks/s]\u001b[A\u001b[A\n",
      "\n",
      "writing:  84%|████████▍ | 118/140 [00:33<00:04,  4.93chunks/s]\u001b[A\u001b[A\n",
      "\n",
      "writing:  86%|████████▌ | 120/140 [00:34<00:03,  5.59chunks/s]\u001b[A\u001b[A\n",
      "\n",
      "writing:  86%|████████▋ | 121/140 [00:34<00:03,  5.46chunks/s]\u001b[A\u001b[A\n",
      "\n",
      "writing:  87%|████████▋ | 122/140 [00:34<00:03,  5.31chunks/s]\u001b[A\u001b[A\n",
      "\n",
      "writing:  88%|████████▊ | 123/140 [00:34<00:03,  5.24chunks/s]\u001b[A\u001b[A\n",
      "\n",
      "writing:  89%|████████▊ | 124/140 [00:34<00:03,  5.24chunks/s]\u001b[A\u001b[A\n",
      "\n",
      "writing:  89%|████████▉ | 125/140 [00:34<00:02,  5.22chunks/s]\u001b[A\u001b[A\n",
      "\n",
      "writing:  91%|█████████ | 127/140 [00:35<00:02,  5.88chunks/s]\u001b[A\u001b[A\n",
      "\n",
      "writing:  91%|█████████▏| 128/140 [00:35<00:02,  5.60chunks/s]\u001b[A\u001b[A\n",
      "\n",
      "writing:  92%|█████████▏| 129/140 [00:35<00:02,  4.99chunks/s]\u001b[A\u001b[A\n",
      "\n",
      "writing:  93%|█████████▎| 130/140 [00:35<00:02,  4.84chunks/s]\u001b[A\u001b[A\n",
      "\n",
      "writing:  94%|█████████▎| 131/140 [00:36<00:01,  4.95chunks/s]\u001b[A\u001b[A\n",
      "\n",
      "writing:  94%|█████████▍| 132/140 [00:36<00:01,  4.92chunks/s]\u001b[A\u001b[A\n",
      "\n",
      "writing:  96%|█████████▌| 134/140 [00:36<00:01,  5.56chunks/s]\u001b[A\u001b[A\n",
      "\n",
      "writing:  96%|█████████▋| 135/140 [00:36<00:00,  5.44chunks/s]\u001b[A\u001b[A\n",
      "\n",
      "writing:  97%|█████████▋| 136/140 [00:36<00:00,  5.30chunks/s]\u001b[A\u001b[A\n",
      "\n",
      "writing:  98%|█████████▊| 137/140 [00:37<00:00,  5.22chunks/s]\u001b[A\u001b[A\n",
      "\n",
      "writing:  99%|█████████▊| 138/140 [00:37<00:00,  5.17chunks/s]\u001b[A\u001b[A\n",
      "\n",
      "writing:  99%|█████████▉| 139/140 [00:37<00:00,  5.15chunks/s]\u001b[A\u001b[A"
     ]
    },
    {
     "data": {
      "text/plain": [
       "0"
      ]
     },
     "execution_count": 35,
     "metadata": {},
     "output_type": "execute_result"
    }
   ],
   "source": [
    "volume_to_precomputed.main(['', ni_out, out_dir, '--flat', '--no-gzip'])"
   ]
  },
  {
   "cell_type": "code",
   "execution_count": null,
   "metadata": {},
   "outputs": [],
   "source": []
  },
  {
   "cell_type": "code",
   "execution_count": 39,
   "metadata": {},
   "outputs": [],
   "source": [
    "stack = 'MD589'"
   ]
  },
  {
   "cell_type": "code",
   "execution_count": 40,
   "metadata": {},
   "outputs": [
    {
     "name": "stdout",
     "output_type": "stream",
     "text": [
      "upload: ../../../../../../mnt/x/temp_s3_download/volumes/precomputed/MD589/5um/0-256_1024-1099_256-288 to s3://test-bucket-sid/final_precomputed_volumes/MD589/5um/0-256_1024-1099_256-288\n",
      "upload: ../../../../../../mnt/x/temp_s3_download/volumes/precomputed/MD589/5um/0-256_1024-1099_0-64 to s3://test-bucket-sid/final_precomputed_volumes/MD589/5um/0-256_1024-1099_0-64\n",
      "upload: ../../../../../../mnt/x/temp_s3_download/volumes/precomputed/MD589/5um/0-256_1024-1099_128-192 to s3://test-bucket-sid/final_precomputed_volumes/MD589/5um/0-256_1024-1099_128-192\n",
      "upload: ../../../../../../mnt/x/temp_s3_download/volumes/precomputed/MD589/5um/0-256_1024-1099_192-256 to s3://test-bucket-sid/final_precomputed_volumes/MD589/5um/0-256_1024-1099_192-256\n",
      "upload: ../../../../../../mnt/x/temp_s3_download/volumes/precomputed/MD589/5um/0-256_1024-1099_64-128 to s3://test-bucket-sid/final_precomputed_volumes/MD589/5um/0-256_1024-1099_64-128\n",
      "upload: ../../../../../../mnt/x/temp_s3_download/volumes/precomputed/MD589/5um/0-256_0-256_256-288 to s3://test-bucket-sid/final_precomputed_volumes/MD589/5um/0-256_0-256_256-288\n",
      "upload: ../../../../../../mnt/x/temp_s3_download/volumes/precomputed/MD589/5um/0-256_0-256_0-64 to s3://test-bucket-sid/final_precomputed_volumes/MD589/5um/0-256_0-256_0-64\n",
      "upload: ../../../../../../mnt/x/temp_s3_download/volumes/precomputed/MD589/5um/0-256_0-256_64-128 to s3://test-bucket-sid/final_precomputed_volumes/MD589/5um/0-256_0-256_64-128\n",
      "upload: ../../../../../../mnt/x/temp_s3_download/volumes/precomputed/MD589/5um/0-256_0-256_192-256 to s3://test-bucket-sid/final_precomputed_volumes/MD589/5um/0-256_0-256_192-256\n",
      "upload: ../../../../../../mnt/x/temp_s3_download/volumes/precomputed/MD589/5um/0-256_0-256_128-192 to s3://test-bucket-sid/final_precomputed_volumes/MD589/5um/0-256_0-256_128-192\n",
      "upload: ../../../../../../mnt/x/temp_s3_download/volumes/precomputed/MD589/5um/0-256_256-512_0-64 to s3://test-bucket-sid/final_precomputed_volumes/MD589/5um/0-256_256-512_0-64\n",
      "upload: ../../../../../../mnt/x/temp_s3_download/volumes/precomputed/MD589/5um/0-256_256-512_256-288 to s3://test-bucket-sid/final_precomputed_volumes/MD589/5um/0-256_256-512_256-288\n",
      "upload: ../../../../../../mnt/x/temp_s3_download/volumes/precomputed/MD589/5um/0-256_512-768_128-192 to s3://test-bucket-sid/final_precomputed_volumes/MD589/5um/0-256_512-768_128-192\n",
      "upload: ../../../../../../mnt/x/temp_s3_download/volumes/precomputed/MD589/5um/0-256_256-512_128-192 to s3://test-bucket-sid/final_precomputed_volumes/MD589/5um/0-256_256-512_128-192\n",
      "upload: ../../../../../../mnt/x/temp_s3_download/volumes/precomputed/MD589/5um/0-256_256-512_192-256 to s3://test-bucket-sid/final_precomputed_volumes/MD589/5um/0-256_256-512_192-256\n",
      "upload: ../../../../../../mnt/x/temp_s3_download/volumes/precomputed/MD589/5um/0-256_256-512_64-128 to s3://test-bucket-sid/final_precomputed_volumes/MD589/5um/0-256_256-512_64-128\n",
      "upload: ../../../../../../mnt/x/temp_s3_download/volumes/precomputed/MD589/5um/0-256_512-768_0-64 to s3://test-bucket-sid/final_precomputed_volumes/MD589/5um/0-256_512-768_0-64\n",
      "upload: ../../../../../../mnt/x/temp_s3_download/volumes/precomputed/MD589/5um/0-256_512-768_256-288 to s3://test-bucket-sid/final_precomputed_volumes/MD589/5um/0-256_512-768_256-288\n",
      "upload: ../../../../../../mnt/x/temp_s3_download/volumes/precomputed/MD589/5um/0-256_512-768_192-256 to s3://test-bucket-sid/final_precomputed_volumes/MD589/5um/0-256_512-768_192-256\n",
      "upload: ../../../../../../mnt/x/temp_s3_download/volumes/precomputed/MD589/5um/0-256_768-1024_0-64 to s3://test-bucket-sid/final_precomputed_volumes/MD589/5um/0-256_768-1024_0-64\n",
      "upload: ../../../../../../mnt/x/temp_s3_download/volumes/precomputed/MD589/5um/0-256_768-1024_128-192 to s3://test-bucket-sid/final_precomputed_volumes/MD589/5um/0-256_768-1024_128-192\n",
      "upload: ../../../../../../mnt/x/temp_s3_download/volumes/precomputed/MD589/5um/0-256_768-1024_192-256 to s3://test-bucket-sid/final_precomputed_volumes/MD589/5um/0-256_768-1024_192-256\n",
      "upload: ../../../../../../mnt/x/temp_s3_download/volumes/precomputed/MD589/5um/0-256_768-1024_256-288 to s3://test-bucket-sid/final_precomputed_volumes/MD589/5um/0-256_768-1024_256-288\n",
      "upload: ../../../../../../mnt/x/temp_s3_download/volumes/precomputed/MD589/5um/1024-1280_0-256_128-192 to s3://test-bucket-sid/final_precomputed_volumes/MD589/5um/1024-1280_0-256_128-192\n",
      "upload: ../../../../../../mnt/x/temp_s3_download/volumes/precomputed/MD589/5um/1024-1280_0-256_0-64 to s3://test-bucket-sid/final_precomputed_volumes/MD589/5um/1024-1280_0-256_0-64\n",
      "upload: ../../../../../../mnt/x/temp_s3_download/volumes/precomputed/MD589/5um/1024-1280_0-256_192-256 to s3://test-bucket-sid/final_precomputed_volumes/MD589/5um/1024-1280_0-256_192-256\n",
      "upload: ../../../../../../mnt/x/temp_s3_download/volumes/precomputed/MD589/5um/1024-1280_0-256_256-288 to s3://test-bucket-sid/final_precomputed_volumes/MD589/5um/1024-1280_0-256_256-288\n",
      "upload: ../../../../../../mnt/x/temp_s3_download/volumes/precomputed/MD589/5um/0-256_768-1024_64-128 to s3://test-bucket-sid/final_precomputed_volumes/MD589/5um/0-256_768-1024_64-128\n",
      "upload: ../../../../../../mnt/x/temp_s3_download/volumes/precomputed/MD589/5um/1024-1280_0-256_64-128 to s3://test-bucket-sid/final_precomputed_volumes/MD589/5um/1024-1280_0-256_64-128\n",
      "upload: ../../../../../../mnt/x/temp_s3_download/volumes/precomputed/MD589/5um/1024-1280_1024-1099_0-64 to s3://test-bucket-sid/final_precomputed_volumes/MD589/5um/1024-1280_1024-1099_0-64\n",
      "upload: ../../../../../../mnt/x/temp_s3_download/volumes/precomputed/MD589/5um/1024-1280_1024-1099_256-288 to s3://test-bucket-sid/final_precomputed_volumes/MD589/5um/1024-1280_1024-1099_256-288\n",
      "upload: ../../../../../../mnt/x/temp_s3_download/volumes/precomputed/MD589/5um/1024-1280_1024-1099_128-192 to s3://test-bucket-sid/final_precomputed_volumes/MD589/5um/1024-1280_1024-1099_128-192\n",
      "upload: ../../../../../../mnt/x/temp_s3_download/volumes/precomputed/MD589/5um/1024-1280_1024-1099_192-256 to s3://test-bucket-sid/final_precomputed_volumes/MD589/5um/1024-1280_1024-1099_192-256\n",
      "upload: ../../../../../../mnt/x/temp_s3_download/volumes/precomputed/MD589/5um/1024-1280_1024-1099_64-128 to s3://test-bucket-sid/final_precomputed_volumes/MD589/5um/1024-1280_1024-1099_64-128\n",
      "upload: ../../../../../../mnt/x/temp_s3_download/volumes/precomputed/MD589/5um/1024-1280_256-512_128-192 to s3://test-bucket-sid/final_precomputed_volumes/MD589/5um/1024-1280_256-512_128-192\n",
      "upload: ../../../../../../mnt/x/temp_s3_download/volumes/precomputed/MD589/5um/1024-1280_256-512_0-64 to s3://test-bucket-sid/final_precomputed_volumes/MD589/5um/1024-1280_256-512_0-64\n",
      "upload: ../../../../../../mnt/x/temp_s3_download/volumes/precomputed/MD589/5um/1024-1280_256-512_192-256 to s3://test-bucket-sid/final_precomputed_volumes/MD589/5um/1024-1280_256-512_192-256\n",
      "upload: ../../../../../../mnt/x/temp_s3_download/volumes/precomputed/MD589/5um/1024-1280_256-512_256-288 to s3://test-bucket-sid/final_precomputed_volumes/MD589/5um/1024-1280_256-512_256-288\n",
      "upload: ../../../../../../mnt/x/temp_s3_download/volumes/precomputed/MD589/5um/1024-1280_256-512_64-128 to s3://test-bucket-sid/final_precomputed_volumes/MD589/5um/1024-1280_256-512_64-128\n",
      "upload: ../../../../../../mnt/x/temp_s3_download/volumes/precomputed/MD589/5um/1024-1280_512-768_192-256 to s3://test-bucket-sid/final_precomputed_volumes/MD589/5um/1024-1280_512-768_192-256\n",
      "upload: ../../../../../../mnt/x/temp_s3_download/volumes/precomputed/MD589/5um/1024-1280_512-768_128-192 to s3://test-bucket-sid/final_precomputed_volumes/MD589/5um/1024-1280_512-768_128-192\n",
      "upload: ../../../../../../mnt/x/temp_s3_download/volumes/precomputed/MD589/5um/1024-1280_512-768_0-64 to s3://test-bucket-sid/final_precomputed_volumes/MD589/5um/1024-1280_512-768_0-64\n",
      "upload: ../../../../../../mnt/x/temp_s3_download/volumes/precomputed/MD589/5um/1024-1280_512-768_256-288 to s3://test-bucket-sid/final_precomputed_volumes/MD589/5um/1024-1280_512-768_256-288\n",
      "upload: ../../../../../../mnt/x/temp_s3_download/volumes/precomputed/MD589/5um/0-256_512-768_64-128 to s3://test-bucket-sid/final_precomputed_volumes/MD589/5um/0-256_512-768_64-128\n",
      "upload: ../../../../../../mnt/x/temp_s3_download/volumes/precomputed/MD589/5um/1024-1280_512-768_64-128 to s3://test-bucket-sid/final_precomputed_volumes/MD589/5um/1024-1280_512-768_64-128\n",
      "upload: ../../../../../../mnt/x/temp_s3_download/volumes/precomputed/MD589/5um/1024-1280_768-1024_0-64 to s3://test-bucket-sid/final_precomputed_volumes/MD589/5um/1024-1280_768-1024_0-64\n",
      "upload: ../../../../../../mnt/x/temp_s3_download/volumes/precomputed/MD589/5um/1024-1280_768-1024_192-256 to s3://test-bucket-sid/final_precomputed_volumes/MD589/5um/1024-1280_768-1024_192-256\n",
      "upload: ../../../../../../mnt/x/temp_s3_download/volumes/precomputed/MD589/5um/1280-1429_0-256_0-64 to s3://test-bucket-sid/final_precomputed_volumes/MD589/5um/1280-1429_0-256_0-64\n",
      "upload: ../../../../../../mnt/x/temp_s3_download/volumes/precomputed/MD589/5um/1024-1280_768-1024_64-128 to s3://test-bucket-sid/final_precomputed_volumes/MD589/5um/1024-1280_768-1024_64-128\n",
      "upload: ../../../../../../mnt/x/temp_s3_download/volumes/precomputed/MD589/5um/1280-1429_0-256_128-192 to s3://test-bucket-sid/final_precomputed_volumes/MD589/5um/1280-1429_0-256_128-192\n",
      "upload: ../../../../../../mnt/x/temp_s3_download/volumes/precomputed/MD589/5um/1280-1429_0-256_256-288 to s3://test-bucket-sid/final_precomputed_volumes/MD589/5um/1280-1429_0-256_256-288\n",
      "upload: ../../../../../../mnt/x/temp_s3_download/volumes/precomputed/MD589/5um/1280-1429_1024-1099_0-64 to s3://test-bucket-sid/final_precomputed_volumes/MD589/5um/1280-1429_1024-1099_0-64\n",
      "upload: ../../../../../../mnt/x/temp_s3_download/volumes/precomputed/MD589/5um/1280-1429_1024-1099_128-192 to s3://test-bucket-sid/final_precomputed_volumes/MD589/5um/1280-1429_1024-1099_128-192\n",
      "upload: ../../../../../../mnt/x/temp_s3_download/volumes/precomputed/MD589/5um/1024-1280_768-1024_128-192 to s3://test-bucket-sid/final_precomputed_volumes/MD589/5um/1024-1280_768-1024_128-192\n",
      "upload: ../../../../../../mnt/x/temp_s3_download/volumes/precomputed/MD589/5um/1280-1429_1024-1099_256-288 to s3://test-bucket-sid/final_precomputed_volumes/MD589/5um/1280-1429_1024-1099_256-288\n",
      "upload: ../../../../../../mnt/x/temp_s3_download/volumes/precomputed/MD589/5um/1280-1429_0-256_192-256 to s3://test-bucket-sid/final_precomputed_volumes/MD589/5um/1280-1429_0-256_192-256\n",
      "upload: ../../../../../../mnt/x/temp_s3_download/volumes/precomputed/MD589/5um/1280-1429_1024-1099_64-128 to s3://test-bucket-sid/final_precomputed_volumes/MD589/5um/1280-1429_1024-1099_64-128\n",
      "upload: ../../../../../../mnt/x/temp_s3_download/volumes/precomputed/MD589/5um/1280-1429_0-256_64-128 to s3://test-bucket-sid/final_precomputed_volumes/MD589/5um/1280-1429_0-256_64-128\n",
      "upload: ../../../../../../mnt/x/temp_s3_download/volumes/precomputed/MD589/5um/1280-1429_256-512_0-64 to s3://test-bucket-sid/final_precomputed_volumes/MD589/5um/1280-1429_256-512_0-64\n",
      "upload: ../../../../../../mnt/x/temp_s3_download/volumes/precomputed/MD589/5um/1280-1429_256-512_128-192 to s3://test-bucket-sid/final_precomputed_volumes/MD589/5um/1280-1429_256-512_128-192\n",
      "upload: ../../../../../../mnt/x/temp_s3_download/volumes/precomputed/MD589/5um/1280-1429_256-512_192-256 to s3://test-bucket-sid/final_precomputed_volumes/MD589/5um/1280-1429_256-512_192-256\n",
      "upload: ../../../../../../mnt/x/temp_s3_download/volumes/precomputed/MD589/5um/1280-1429_256-512_256-288 to s3://test-bucket-sid/final_precomputed_volumes/MD589/5um/1280-1429_256-512_256-288\n",
      "upload: ../../../../../../mnt/x/temp_s3_download/volumes/precomputed/MD589/5um/1280-1429_256-512_64-128 to s3://test-bucket-sid/final_precomputed_volumes/MD589/5um/1280-1429_256-512_64-128\n",
      "upload: ../../../../../../mnt/x/temp_s3_download/volumes/precomputed/MD589/5um/1280-1429_512-768_0-64 to s3://test-bucket-sid/final_precomputed_volumes/MD589/5um/1280-1429_512-768_0-64\n",
      "upload: ../../../../../../mnt/x/temp_s3_download/volumes/precomputed/MD589/5um/1280-1429_512-768_192-256 to s3://test-bucket-sid/final_precomputed_volumes/MD589/5um/1280-1429_512-768_192-256\n",
      "upload: ../../../../../../mnt/x/temp_s3_download/volumes/precomputed/MD589/5um/1280-1429_512-768_256-288 to s3://test-bucket-sid/final_precomputed_volumes/MD589/5um/1280-1429_512-768_256-288\n",
      "upload: ../../../../../../mnt/x/temp_s3_download/volumes/precomputed/MD589/5um/1280-1429_512-768_128-192 to s3://test-bucket-sid/final_precomputed_volumes/MD589/5um/1280-1429_512-768_128-192\n",
      "upload: ../../../../../../mnt/x/temp_s3_download/volumes/precomputed/MD589/5um/1280-1429_1024-1099_192-256 to s3://test-bucket-sid/final_precomputed_volumes/MD589/5um/1280-1429_1024-1099_192-256\n",
      "upload: ../../../../../../mnt/x/temp_s3_download/volumes/precomputed/MD589/5um/1280-1429_512-768_64-128 to s3://test-bucket-sid/final_precomputed_volumes/MD589/5um/1280-1429_512-768_64-128\n",
      "upload: ../../../../../../mnt/x/temp_s3_download/volumes/precomputed/MD589/5um/1280-1429_768-1024_0-64 to s3://test-bucket-sid/final_precomputed_volumes/MD589/5um/1280-1429_768-1024_0-64\n",
      "upload: ../../../../../../mnt/x/temp_s3_download/volumes/precomputed/MD589/5um/1024-1280_768-1024_256-288 to s3://test-bucket-sid/final_precomputed_volumes/MD589/5um/1024-1280_768-1024_256-288\n",
      "upload: ../../../../../../mnt/x/temp_s3_download/volumes/precomputed/MD589/5um/1280-1429_768-1024_128-192 to s3://test-bucket-sid/final_precomputed_volumes/MD589/5um/1280-1429_768-1024_128-192\n",
      "upload: ../../../../../../mnt/x/temp_s3_download/volumes/precomputed/MD589/5um/1280-1429_768-1024_192-256 to s3://test-bucket-sid/final_precomputed_volumes/MD589/5um/1280-1429_768-1024_192-256\n",
      "upload: ../../../../../../mnt/x/temp_s3_download/volumes/precomputed/MD589/5um/1280-1429_768-1024_64-128 to s3://test-bucket-sid/final_precomputed_volumes/MD589/5um/1280-1429_768-1024_64-128\n",
      "upload: ../../../../../../mnt/x/temp_s3_download/volumes/precomputed/MD589/5um/1280-1429_768-1024_256-288 to s3://test-bucket-sid/final_precomputed_volumes/MD589/5um/1280-1429_768-1024_256-288\n",
      "upload: ../../../../../../mnt/x/temp_s3_download/volumes/precomputed/MD589/5um/256-512_0-256_0-64 to s3://test-bucket-sid/final_precomputed_volumes/MD589/5um/256-512_0-256_0-64\n",
      "upload: ../../../../../../mnt/x/temp_s3_download/volumes/precomputed/MD589/5um/256-512_0-256_128-192 to s3://test-bucket-sid/final_precomputed_volumes/MD589/5um/256-512_0-256_128-192\n",
      "upload: ../../../../../../mnt/x/temp_s3_download/volumes/precomputed/MD589/5um/256-512_0-256_192-256 to s3://test-bucket-sid/final_precomputed_volumes/MD589/5um/256-512_0-256_192-256\n",
      "upload: ../../../../../../mnt/x/temp_s3_download/volumes/precomputed/MD589/5um/256-512_0-256_256-288 to s3://test-bucket-sid/final_precomputed_volumes/MD589/5um/256-512_0-256_256-288\n",
      "upload: ../../../../../../mnt/x/temp_s3_download/volumes/precomputed/MD589/5um/256-512_1024-1099_128-192 to s3://test-bucket-sid/final_precomputed_volumes/MD589/5um/256-512_1024-1099_128-192\n",
      "upload: ../../../../../../mnt/x/temp_s3_download/volumes/precomputed/MD589/5um/256-512_0-256_64-128 to s3://test-bucket-sid/final_precomputed_volumes/MD589/5um/256-512_0-256_64-128\n",
      "upload: ../../../../../../mnt/x/temp_s3_download/volumes/precomputed/MD589/5um/256-512_1024-1099_0-64 to s3://test-bucket-sid/final_precomputed_volumes/MD589/5um/256-512_1024-1099_0-64\n",
      "upload: ../../../../../../mnt/x/temp_s3_download/volumes/precomputed/MD589/5um/256-512_1024-1099_256-288 to s3://test-bucket-sid/final_precomputed_volumes/MD589/5um/256-512_1024-1099_256-288\n",
      "upload: ../../../../../../mnt/x/temp_s3_download/volumes/precomputed/MD589/5um/256-512_1024-1099_64-128 to s3://test-bucket-sid/final_precomputed_volumes/MD589/5um/256-512_1024-1099_64-128\n",
      "upload: ../../../../../../mnt/x/temp_s3_download/volumes/precomputed/MD589/5um/256-512_1024-1099_192-256 to s3://test-bucket-sid/final_precomputed_volumes/MD589/5um/256-512_1024-1099_192-256\n",
      "upload: ../../../../../../mnt/x/temp_s3_download/volumes/precomputed/MD589/5um/256-512_256-512_256-288 to s3://test-bucket-sid/final_precomputed_volumes/MD589/5um/256-512_256-512_256-288\n",
      "upload: ../../../../../../mnt/x/temp_s3_download/volumes/precomputed/MD589/5um/256-512_256-512_0-64 to s3://test-bucket-sid/final_precomputed_volumes/MD589/5um/256-512_256-512_0-64\n",
      "upload: ../../../../../../mnt/x/temp_s3_download/volumes/precomputed/MD589/5um/256-512_256-512_192-256 to s3://test-bucket-sid/final_precomputed_volumes/MD589/5um/256-512_256-512_192-256\n"
     ]
    },
    {
     "name": "stdout",
     "output_type": "stream",
     "text": [
      "upload: ../../../../../../mnt/x/temp_s3_download/volumes/precomputed/MD589/5um/256-512_256-512_128-192 to s3://test-bucket-sid/final_precomputed_volumes/MD589/5um/256-512_256-512_128-192\n",
      "upload: ../../../../../../mnt/x/temp_s3_download/volumes/precomputed/MD589/5um/256-512_512-768_0-64 to s3://test-bucket-sid/final_precomputed_volumes/MD589/5um/256-512_512-768_0-64\n",
      "upload: ../../../../../../mnt/x/temp_s3_download/volumes/precomputed/MD589/5um/256-512_512-768_128-192 to s3://test-bucket-sid/final_precomputed_volumes/MD589/5um/256-512_512-768_128-192\n",
      "upload: ../../../../../../mnt/x/temp_s3_download/volumes/precomputed/MD589/5um/256-512_512-768_256-288 to s3://test-bucket-sid/final_precomputed_volumes/MD589/5um/256-512_512-768_256-288\n",
      "upload: ../../../../../../mnt/x/temp_s3_download/volumes/precomputed/MD589/5um/256-512_256-512_64-128 to s3://test-bucket-sid/final_precomputed_volumes/MD589/5um/256-512_256-512_64-128\n",
      "upload: ../../../../../../mnt/x/temp_s3_download/volumes/precomputed/MD589/5um/256-512_768-1024_128-192 to s3://test-bucket-sid/final_precomputed_volumes/MD589/5um/256-512_768-1024_128-192\n",
      "upload: ../../../../../../mnt/x/temp_s3_download/volumes/precomputed/MD589/5um/256-512_768-1024_0-64 to s3://test-bucket-sid/final_precomputed_volumes/MD589/5um/256-512_768-1024_0-64\n",
      "upload: ../../../../../../mnt/x/temp_s3_download/volumes/precomputed/MD589/5um/256-512_768-1024_192-256 to s3://test-bucket-sid/final_precomputed_volumes/MD589/5um/256-512_768-1024_192-256\n",
      "upload: ../../../../../../mnt/x/temp_s3_download/volumes/precomputed/MD589/5um/256-512_512-768_64-128 to s3://test-bucket-sid/final_precomputed_volumes/MD589/5um/256-512_512-768_64-128\n",
      "upload: ../../../../../../mnt/x/temp_s3_download/volumes/precomputed/MD589/5um/256-512_512-768_192-256 to s3://test-bucket-sid/final_precomputed_volumes/MD589/5um/256-512_512-768_192-256\n",
      "upload: ../../../../../../mnt/x/temp_s3_download/volumes/precomputed/MD589/5um/512-768_0-256_0-64 to s3://test-bucket-sid/final_precomputed_volumes/MD589/5um/512-768_0-256_0-64\n",
      "upload: ../../../../../../mnt/x/temp_s3_download/volumes/precomputed/MD589/5um/512-768_0-256_128-192 to s3://test-bucket-sid/final_precomputed_volumes/MD589/5um/512-768_0-256_128-192\n",
      "upload: ../../../../../../mnt/x/temp_s3_download/volumes/precomputed/MD589/5um/512-768_0-256_64-128 to s3://test-bucket-sid/final_precomputed_volumes/MD589/5um/512-768_0-256_64-128\n",
      "upload: ../../../../../../mnt/x/temp_s3_download/volumes/precomputed/MD589/5um/512-768_1024-1099_0-64 to s3://test-bucket-sid/final_precomputed_volumes/MD589/5um/512-768_1024-1099_0-64\n",
      "upload: ../../../../../../mnt/x/temp_s3_download/volumes/precomputed/MD589/5um/512-768_0-256_256-288 to s3://test-bucket-sid/final_precomputed_volumes/MD589/5um/512-768_0-256_256-288\n",
      "upload: ../../../../../../mnt/x/temp_s3_download/volumes/precomputed/MD589/5um/512-768_1024-1099_192-256 to s3://test-bucket-sid/final_precomputed_volumes/MD589/5um/512-768_1024-1099_192-256\n",
      "upload: ../../../../../../mnt/x/temp_s3_download/volumes/precomputed/MD589/5um/512-768_1024-1099_128-192 to s3://test-bucket-sid/final_precomputed_volumes/MD589/5um/512-768_1024-1099_128-192\n",
      "upload: ../../../../../../mnt/x/temp_s3_download/volumes/precomputed/MD589/5um/256-512_768-1024_64-128 to s3://test-bucket-sid/final_precomputed_volumes/MD589/5um/256-512_768-1024_64-128\n",
      "upload: ../../../../../../mnt/x/temp_s3_download/volumes/precomputed/MD589/5um/512-768_1024-1099_256-288 to s3://test-bucket-sid/final_precomputed_volumes/MD589/5um/512-768_1024-1099_256-288\n",
      "upload: ../../../../../../mnt/x/temp_s3_download/volumes/precomputed/MD589/5um/512-768_0-256_192-256 to s3://test-bucket-sid/final_precomputed_volumes/MD589/5um/512-768_0-256_192-256\n",
      "upload: ../../../../../../mnt/x/temp_s3_download/volumes/precomputed/MD589/5um/256-512_768-1024_256-288 to s3://test-bucket-sid/final_precomputed_volumes/MD589/5um/256-512_768-1024_256-288\n",
      "upload: ../../../../../../mnt/x/temp_s3_download/volumes/precomputed/MD589/5um/512-768_1024-1099_64-128 to s3://test-bucket-sid/final_precomputed_volumes/MD589/5um/512-768_1024-1099_64-128\n",
      "upload: ../../../../../../mnt/x/temp_s3_download/volumes/precomputed/MD589/5um/512-768_256-512_128-192 to s3://test-bucket-sid/final_precomputed_volumes/MD589/5um/512-768_256-512_128-192\n",
      "upload: ../../../../../../mnt/x/temp_s3_download/volumes/precomputed/MD589/5um/512-768_256-512_192-256 to s3://test-bucket-sid/final_precomputed_volumes/MD589/5um/512-768_256-512_192-256\n",
      "upload: ../../../../../../mnt/x/temp_s3_download/volumes/precomputed/MD589/5um/512-768_256-512_0-64 to s3://test-bucket-sid/final_precomputed_volumes/MD589/5um/512-768_256-512_0-64\n",
      "upload: ../../../../../../mnt/x/temp_s3_download/volumes/precomputed/MD589/5um/512-768_256-512_256-288 to s3://test-bucket-sid/final_precomputed_volumes/MD589/5um/512-768_256-512_256-288\n",
      "upload: ../../../../../../mnt/x/temp_s3_download/volumes/precomputed/MD589/5um/512-768_256-512_64-128 to s3://test-bucket-sid/final_precomputed_volumes/MD589/5um/512-768_256-512_64-128\n",
      "upload: ../../../../../../mnt/x/temp_s3_download/volumes/precomputed/MD589/5um/512-768_512-768_0-64 to s3://test-bucket-sid/final_precomputed_volumes/MD589/5um/512-768_512-768_0-64\n",
      "upload: ../../../../../../mnt/x/temp_s3_download/volumes/precomputed/MD589/5um/512-768_512-768_128-192 to s3://test-bucket-sid/final_precomputed_volumes/MD589/5um/512-768_512-768_128-192\n",
      "upload: ../../../../../../mnt/x/temp_s3_download/volumes/precomputed/MD589/5um/512-768_512-768_256-288 to s3://test-bucket-sid/final_precomputed_volumes/MD589/5um/512-768_512-768_256-288\n",
      "upload: ../../../../../../mnt/x/temp_s3_download/volumes/precomputed/MD589/5um/512-768_512-768_64-128 to s3://test-bucket-sid/final_precomputed_volumes/MD589/5um/512-768_512-768_64-128\n",
      "upload: ../../../../../../mnt/x/temp_s3_download/volumes/precomputed/MD589/5um/512-768_768-1024_0-64 to s3://test-bucket-sid/final_precomputed_volumes/MD589/5um/512-768_768-1024_0-64\n",
      "upload: ../../../../../../mnt/x/temp_s3_download/volumes/precomputed/MD589/5um/512-768_768-1024_128-192 to s3://test-bucket-sid/final_precomputed_volumes/MD589/5um/512-768_768-1024_128-192\n",
      "upload: ../../../../../../mnt/x/temp_s3_download/volumes/precomputed/MD589/5um/512-768_768-1024_192-256 to s3://test-bucket-sid/final_precomputed_volumes/MD589/5um/512-768_768-1024_192-256\n",
      "upload: ../../../../../../mnt/x/temp_s3_download/volumes/precomputed/MD589/5um/512-768_768-1024_256-288 to s3://test-bucket-sid/final_precomputed_volumes/MD589/5um/512-768_768-1024_256-288\n",
      "upload: ../../../../../../mnt/x/temp_s3_download/volumes/precomputed/MD589/5um/768-1024_0-256_0-64 to s3://test-bucket-sid/final_precomputed_volumes/MD589/5um/768-1024_0-256_0-64\n",
      "upload: ../../../../../../mnt/x/temp_s3_download/volumes/precomputed/MD589/5um/512-768_512-768_192-256 to s3://test-bucket-sid/final_precomputed_volumes/MD589/5um/512-768_512-768_192-256\n",
      "upload: ../../../../../../mnt/x/temp_s3_download/volumes/precomputed/MD589/5um/768-1024_0-256_128-192 to s3://test-bucket-sid/final_precomputed_volumes/MD589/5um/768-1024_0-256_128-192\n",
      "upload: ../../../../../../mnt/x/temp_s3_download/volumes/precomputed/MD589/5um/512-768_768-1024_64-128 to s3://test-bucket-sid/final_precomputed_volumes/MD589/5um/512-768_768-1024_64-128\n",
      "upload: ../../../../../../mnt/x/temp_s3_download/volumes/precomputed/MD589/5um/768-1024_0-256_192-256 to s3://test-bucket-sid/final_precomputed_volumes/MD589/5um/768-1024_0-256_192-256\n",
      "upload: ../../../../../../mnt/x/temp_s3_download/volumes/precomputed/MD589/5um/768-1024_0-256_256-288 to s3://test-bucket-sid/final_precomputed_volumes/MD589/5um/768-1024_0-256_256-288\n",
      "upload: ../../../../../../mnt/x/temp_s3_download/volumes/precomputed/MD589/5um/768-1024_0-256_64-128 to s3://test-bucket-sid/final_precomputed_volumes/MD589/5um/768-1024_0-256_64-128\n",
      "upload: ../../../../../../mnt/x/temp_s3_download/volumes/precomputed/MD589/5um/768-1024_1024-1099_0-64 to s3://test-bucket-sid/final_precomputed_volumes/MD589/5um/768-1024_1024-1099_0-64\n",
      "upload: ../../../../../../mnt/x/temp_s3_download/volumes/precomputed/MD589/5um/768-1024_1024-1099_192-256 to s3://test-bucket-sid/final_precomputed_volumes/MD589/5um/768-1024_1024-1099_192-256\n",
      "upload: ../../../../../../mnt/x/temp_s3_download/volumes/precomputed/MD589/5um/768-1024_1024-1099_128-192 to s3://test-bucket-sid/final_precomputed_volumes/MD589/5um/768-1024_1024-1099_128-192\n"
     ]
    },
    {
     "name": "stdout",
     "output_type": "stream",
     "text": [
      "upload: ../../../../../../mnt/x/temp_s3_download/volumes/precomputed/MD589/5um/768-1024_1024-1099_256-288 to s3://test-bucket-sid/final_precomputed_volumes/MD589/5um/768-1024_1024-1099_256-288\n",
      "upload: ../../../../../../mnt/x/temp_s3_download/volumes/precomputed/MD589/5um/768-1024_1024-1099_64-128 to s3://test-bucket-sid/final_precomputed_volumes/MD589/5um/768-1024_1024-1099_64-128\n",
      "upload: ../../../../../../mnt/x/temp_s3_download/volumes/precomputed/MD589/5um/768-1024_256-512_0-64 to s3://test-bucket-sid/final_precomputed_volumes/MD589/5um/768-1024_256-512_0-64\n",
      "upload: ../../../../../../mnt/x/temp_s3_download/volumes/precomputed/MD589/5um/768-1024_256-512_128-192 to s3://test-bucket-sid/final_precomputed_volumes/MD589/5um/768-1024_256-512_128-192\n",
      "upload: ../../../../../../mnt/x/temp_s3_download/volumes/precomputed/MD589/5um/768-1024_256-512_192-256 to s3://test-bucket-sid/final_precomputed_volumes/MD589/5um/768-1024_256-512_192-256\n",
      "upload: ../../../../../../mnt/x/temp_s3_download/volumes/precomputed/MD589/5um/768-1024_256-512_256-288 to s3://test-bucket-sid/final_precomputed_volumes/MD589/5um/768-1024_256-512_256-288\n",
      "upload: ../../../../../../mnt/x/temp_s3_download/volumes/precomputed/MD589/5um/768-1024_256-512_64-128 to s3://test-bucket-sid/final_precomputed_volumes/MD589/5um/768-1024_256-512_64-128\n",
      "upload: ../../../../../../mnt/x/temp_s3_download/volumes/precomputed/MD589/5um/768-1024_512-768_0-64 to s3://test-bucket-sid/final_precomputed_volumes/MD589/5um/768-1024_512-768_0-64\n",
      "upload: ../../../../../../mnt/x/temp_s3_download/volumes/precomputed/MD589/5um/768-1024_512-768_128-192 to s3://test-bucket-sid/final_precomputed_volumes/MD589/5um/768-1024_512-768_128-192\n",
      "upload: ../../../../../../mnt/x/temp_s3_download/volumes/precomputed/MD589/5um/768-1024_512-768_192-256 to s3://test-bucket-sid/final_precomputed_volumes/MD589/5um/768-1024_512-768_192-256\n",
      "upload: ../../../../../../mnt/x/temp_s3_download/volumes/precomputed/MD589/5um/768-1024_512-768_256-288 to s3://test-bucket-sid/final_precomputed_volumes/MD589/5um/768-1024_512-768_256-288\n",
      "upload: ../../../../../../mnt/x/temp_s3_download/volumes/precomputed/MD589/5um/768-1024_768-1024_128-192 to s3://test-bucket-sid/final_precomputed_volumes/MD589/5um/768-1024_768-1024_128-192\n",
      "upload: ../../../../../../mnt/x/temp_s3_download/volumes/precomputed/MD589/5um/768-1024_768-1024_192-256 to s3://test-bucket-sid/final_precomputed_volumes/MD589/5um/768-1024_768-1024_192-256\n",
      "upload: ../../../../../../mnt/x/temp_s3_download/volumes/precomputed/MD589/5um/768-1024_768-1024_0-64 to s3://test-bucket-sid/final_precomputed_volumes/MD589/5um/768-1024_768-1024_0-64\n",
      "upload: ../../../../../../mnt/x/temp_s3_download/volumes/precomputed/MD589/5um/768-1024_768-1024_256-288 to s3://test-bucket-sid/final_precomputed_volumes/MD589/5um/768-1024_768-1024_256-288\n",
      "upload: ../../../../../../mnt/x/temp_s3_download/volumes/precomputed/MD589/5um/768-1024_512-768_64-128 to s3://test-bucket-sid/final_precomputed_volumes/MD589/5um/768-1024_512-768_64-128\n",
      "upload: ../../../../../../mnt/x/temp_s3_download/volumes/precomputed/MD589/info to s3://test-bucket-sid/final_precomputed_volumes/MD589/info\n",
      "upload: ../../../../../../mnt/x/temp_s3_download/volumes/precomputed/MD589/info_fullres.json to s3://test-bucket-sid/final_precomputed_volumes/MD589/info_fullres.json\n",
      "upload: ../../../../../../mnt/x/temp_s3_download/volumes/precomputed/MD589/5um/768-1024_768-1024_64-128 to s3://test-bucket-sid/final_precomputed_volumes/MD589/5um/768-1024_768-1024_64-128\n",
      "upload: ../../../../../../mnt/x/temp_s3_download/volumes/precomputed/MD589/transform.json to s3://test-bucket-sid/final_precomputed_volumes/MD589/transform.json\n",
      "upload: ../../../../../../mnt/x/temp_s3_download/volumes/precomputed/MD589/vol_color.nii to s3://test-bucket-sid/final_precomputed_volumes/MD589/vol_color.nii\n"
     ]
    }
   ],
   "source": [
    "out_dir = '/mnt/x/temp_s3_download/volumes/precomputed/'+stack+'/'\n",
    "! aws s3 cp --recursive $out_dir s3://test-bucket-sid/final_precomputed_volumes/$stack/"
   ]
  },
  {
   "cell_type": "code",
   "execution_count": null,
   "metadata": {},
   "outputs": [],
   "source": []
  },
  {
   "cell_type": "code",
   "execution_count": null,
   "metadata": {},
   "outputs": [],
   "source": []
  },
  {
   "cell_type": "code",
   "execution_count": 9,
   "metadata": {},
   "outputs": [],
   "source": [
    "def get_bucket(s3_creds_file, bucket_name):\n",
    "    with open(s3_creds_file) as f:\n",
    "        creds = json.load(f)\n",
    "        aws_access_key_id = creds['access_key']\n",
    "        aws_secret_access_key = creds['secret_key']\n",
    "\n",
    "    session = boto3.Session(\n",
    "        aws_access_key_id = aws_access_key_id,\n",
    "        aws_secret_access_key = aws_secret_access_key,)\n",
    "    s3 = session.resource('s3')\n",
    "    return s3.Bucket(bucket_name)\n",
    "\n",
    "\n",
    "def upload_directory_to_s3(s3_creds_file, bucket_name, dir_to_write_from, s3_dir_to_write_to, overwrite=True):\n",
    "    bucket = get_bucket(s3_creds_file, bucket_name)\n",
    "    dir_to_write_from = '{0}'.format(pathpipeline.lib.Path(dir_to_write_from))\n",
    "    # write the whole directory onto S3 bucket, upload files\n",
    "    for subdir, dirs, files in os.walk(dir_to_write_from):\n",
    "        print('Uploading: {0}'.format(subdir))\n",
    "        for file in files:\n",
    "            full_path = os.path.join(subdir, file)\n",
    "            fp_s3 = re.sub(r'\\\\', '/', full_path)\n",
    "            f_key = ''.join([s3_dir_to_write_to, re.sub(re.sub(r'\\\\', '/', dir_to_write_from), '', fp_s3)])\n",
    "\n",
    "            if not overwrite:\n",
    "                obj_keys = [obj.key for obj in bucket.objects.filter(Prefix = f_key)]\n",
    "                if len(obj_keys) == 0:\n",
    "                    bucket.upload_file(full_path, f_key)\n",
    "            else:\n",
    "                bucket.upload_file(full_path, f_key)"
   ]
  },
  {
   "cell_type": "code",
   "execution_count": null,
   "metadata": {},
   "outputs": [],
   "source": []
  }
 ],
 "metadata": {
  "kernelspec": {
   "display_name": "Python 3",
   "language": "python",
   "name": "python3"
  },
  "language_info": {
   "codemirror_mode": {
    "name": "ipython",
    "version": 3
   },
   "file_extension": ".py",
   "mimetype": "text/x-python",
   "name": "python",
   "nbconvert_exporter": "python",
   "pygments_lexer": "ipython3",
   "version": "3.8.2"
  }
 },
 "nbformat": 4,
 "nbformat_minor": 2
}
