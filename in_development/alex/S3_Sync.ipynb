{
 "cells": [
  {
   "cell_type": "code",
   "execution_count": 1,
   "metadata": {
    "collapsed": true
   },
   "outputs": [],
   "source": [
    "aws_credentials_fp = '/home/alexn/Documents/json_credentials/alex_aws_credentials.json'"
   ]
  },
  {
   "cell_type": "code",
   "execution_count": 2,
   "metadata": {},
   "outputs": [],
   "source": [
    "from minio import Minio\n",
    "import json\n",
    "import os\n",
    "\n",
    "with open(aws_credentials_fp, 'r') as file:\n",
    "    creds = json.load(file)\n",
    "creds['region'] = 'us-east-1' # For bucket \"test-bucket-sid\"\n",
    "\n",
    "\n",
    "# Retrieve client, assuming you have credentials json file, to access S3\n",
    "def get_client( ):\n",
    "    return Minio( 's3.amazonaws.com', secure=True, **creds)\n",
    "\n",
    "def get_s3_file_tree( bucket_name, root_fp, rel_fp='' ):\n",
    "    # attributes of \"object\": ['__class__', '__delattr__', '__dict__', '__doc__', '__format__', '__getattribute__', \\\n",
    "    #'__hash__', '__init__', '__module__', '__new__', '__reduce__', '__reduce_ex__', '__repr__', '__setattr__', '__sizeof__', \\\n",
    "    #'__str__', '__subclasshook__', '__weakref__', 'bucket_name', 'content_type', 'etag', 'is_dir', 'last_modified', 'metadata', \\\n",
    "    #'object_name', 'size']\n",
    "    \n",
    "    client = get_client()\n",
    "    fn_list = []\n",
    "    \n",
    "    # 'Objects' contains information on every item in the specified path\n",
    "    objects = client.list_objects(bucket_name=bucket_name, prefix=root_fp+rel_fp)\n",
    "\n",
    "    for object in objects:\n",
    "        # If the 'object' is a directory\n",
    "        if object.is_dir:\n",
    "            filepath = object.object_name\n",
    "            # Get the local filepath (excludes the root fp) to save in fn_list\n",
    "            filepath_excluding_root = filepath[len(root_fp):]\n",
    "            fn_list.extend( get_s3_file_tree( bucket_name, root_fp=root_fp, rel_fp=filepath_excluding_root ) )\n",
    "        # If the 'object' is a file\n",
    "        else:\n",
    "            filename = object.object_name\n",
    "            # Get the filename (exclude the root fp) and save in fn_list\n",
    "            filename_excluding_root = filename[len(root_fp):]\n",
    "            fn_list.append( filename_excluding_root )\n",
    "    \n",
    "    return fn_list\n",
    "\n",
    "def get_local_file_tree( local_root_fp, rel_fp='' ):\n",
    "    file_list_curr_dir = os.listdir( local_root_fp+rel_fp )\n",
    "    fn_list = []\n",
    "\n",
    "    for fn in file_list_curr_dir:\n",
    "        if os.path.isfile(local_root_fp+rel_fp+fn):\n",
    "            fn_list.append( rel_fp+fn )\n",
    "        else:\n",
    "            fn_list.extend( get_local_file_tree( local_root_fp, rel_fp+fn+'/' ) )\n",
    "            \n",
    "    return fn_list"
   ]
  },
  {
   "cell_type": "code",
   "execution_count": 11,
   "metadata": {},
   "outputs": [
    {
     "name": "stdout",
     "output_type": "stream",
     "text": [
      "156\n",
      "156\n"
     ]
    }
   ],
   "source": [
    "s3_file_list = get_s3_file_tree( bucket_name='test-bucket-sid', root_fp='alex_neuroglancer_volumes/' )\n",
    "print( len(s3_file_list))\n",
    "\n",
    "local_file_list = get_local_file_tree( '/media/alexn/BstemAtlasDataBackup/neuroglancer_volumes/' )\n",
    "print( len(local_file_list))\n",
    "\n",
    "s3_not_local = list( set(s3_file_list)-set(local_file_list) )\n",
    "local_not_s3 = list( set(local_file_list)-set(s3_file_list) )"
   ]
  },
  {
   "cell_type": "code",
   "execution_count": 12,
   "metadata": {},
   "outputs": [
    {
     "name": "stdout",
     "output_type": "stream",
     "text": [
      "Files on S3 but NOT stored locally\n",
      "[]\n"
     ]
    }
   ],
   "source": [
    "print('Files on S3 but NOT stored locally')\n",
    "print( s3_not_local )"
   ]
  },
  {
   "cell_type": "code",
   "execution_count": 13,
   "metadata": {},
   "outputs": [
    {
     "name": "stdout",
     "output_type": "stream",
     "text": [
      "Files stored locally but NOT on S3\n",
      "[]\n"
     ]
    }
   ],
   "source": [
    "print('Files stored locally but NOT on S3')\n",
    "print(local_not_s3 )"
   ]
  },
  {
   "cell_type": "code",
   "execution_count": null,
   "metadata": {
    "collapsed": true
   },
   "outputs": [],
   "source": []
  },
  {
   "cell_type": "code",
   "execution_count": null,
   "metadata": {},
   "outputs": [],
   "source": []
  },
  {
   "cell_type": "code",
   "execution_count": null,
   "metadata": {},
   "outputs": [],
   "source": []
  }
 ],
 "metadata": {
  "kernelspec": {
   "display_name": "Python 2",
   "language": "python",
   "name": "python2"
  },
  "language_info": {
   "codemirror_mode": {
    "name": "ipython",
    "version": 3
   },
   "file_extension": ".py",
   "mimetype": "text/x-python",
   "name": "python",
   "nbconvert_exporter": "python",
   "pygments_lexer": "ipython3",
   "version": "3.7.3"
  }
 },
 "nbformat": 4,
 "nbformat_minor": 2
}
