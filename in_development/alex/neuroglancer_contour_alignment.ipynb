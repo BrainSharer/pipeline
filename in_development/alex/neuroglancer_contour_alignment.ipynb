{
 "cells": [
  {
   "cell_type": "code",
   "execution_count": 1,
   "metadata": {
    "scrolled": true
   },
   "outputs": [
    {
     "name": "stderr",
     "output_type": "stream",
     "text": [
      "ENABLE_UPLOAD_S3 is not set, default to False.\n",
      "ENABLE_DOWNLOAD_S3 is not set, default to False.\n"
     ]
    },
    {
     "name": "stdout",
     "output_type": "stream",
     "text": [
      "Setting environment for Precision WorkStation for Alex Newberry\n",
      "{'MD589': 0.46, 'MD585': 0.46, 'UCSD001': 0.325, 'MD594': 0.46, 'DK17': 0.325}\n",
      "Loaded data from saved metadata_cache for MD585\n",
      "Loaded data from saved metadata_cache for MD589\n",
      "Loaded data from saved metadata_cache for MD594\n",
      "Loaded data from saved metadata_cache for UCSD001\n"
     ]
    },
    {
     "name": "stderr",
     "output_type": "stream",
     "text": [
      "Folder for stack MD590 not found, skipping.\n",
      "Folder for stack MD591 not found, skipping.\n",
      "Folder for stack MD592 not found, skipping.\n",
      "Folder for stack MD593 not found, skipping.\n",
      "Folder for stack MD595 not found, skipping.\n",
      "Folder for stack MD598 not found, skipping.\n",
      "Folder for stack MD599 not found, skipping.\n",
      "Folder for stack MD602 not found, skipping.\n",
      "Folder for stack MD603 not found, skipping.\n",
      "Folder for stack MD635 not found, skipping.\n",
      "Folder for stack MD653 not found, skipping.\n",
      "Folder for stack MD652 not found, skipping.\n",
      "Folder for stack MD642 not found, skipping.\n",
      "Folder for stack MD657 not found, skipping.\n",
      "Folder for stack MD658 not found, skipping.\n",
      "Folder for stack MD661 not found, skipping.\n",
      "Folder for stack MD662 not found, skipping.\n",
      "Folder for stack CHATM2 not found, skipping.\n",
      "Folder for stack CHATM3 not found, skipping.\n"
     ]
    }
   ],
   "source": [
    "%load_ext autoreload\n",
    "%autoreload 2\n",
    "\n",
    "import os\n",
    "import sys\n",
    "\n",
    "ng_repo_path = '/home/alexn/neuroglancer_interface/'\n",
    "sys.path.append(os.path.join( ng_repo_path, 'src'))\n",
    "from ng_utilities import *\n",
    "from ng_full_utilities_test import *\n",
    "\n",
    "sys.path.append(os.path.join(os.environ['REPO_DIR'], 'utilities'))\n",
    "from utilities2015 import *\n",
    "from registration_utilities import *\n",
    "from annotation_utilities import *\n",
    "from metadata import *\n",
    "from data_manager import *\n",
    "\n",
    "import matplotlib.pyplot as plt\n",
    "%matplotlib inline\n",
    "\n",
    "import neuroglancer\n",
    "import cv2\n",
    "import json\n",
    "\n",
    "with open(ng_repo_path+'config/struct_to_color_2.json', 'r') as json_file:\n",
    "    structure_to_color = json.load( json_file )\n",
    "    \n",
    "color_segments=[]\n",
    "for i in range(1,29):\n",
    "    color_segments.append(i)\n",
    "    \n",
    "\n",
    "with open(ng_repo_path+'config/stack_parameters_ng.json', 'r') as json_file:\n",
    "    stack_parameters_ng = json.load( json_file )\n",
    "    \n",
    "stack1 = 'MD589'\n",
    "\n",
    "detector_id = 19\n",
    "# detector_id = 799\n",
    "\n",
    "stack2 = 'MD594'\n",
    "\n",
    "detector_id = 19\n",
    "# detector_id = 799"
   ]
  },
  {
   "cell_type": "markdown",
   "metadata": {},
   "source": [
    "# Setup Viewer"
   ]
  },
  {
   "cell_type": "code",
   "execution_count": 2,
   "metadata": {},
   "outputs": [
    {
     "name": "stdout",
     "output_type": "stream",
     "text": [
      "http://yuncong-Precision-WorkStation-T7500:43151/v/88cb70e157d8f78b6b73201289aa66f20cc27f4a/\n",
      "http://132.239.73.85 172.17.0.1:43151/v/88cb70e157d8f78b6b73201289aa66f20cc27f4a/\n",
      "http://132.239.73.85:43151/v/88cb70e157d8f78b6b73201289aa66f20cc27f4a/\n"
     ]
    },
    {
     "data": {
      "text/html": [
       "<a href=\"http://yuncong-Precision-WorkStation-T7500:43151/v/88cb70e157d8f78b6b73201289aa66f20cc27f4a/\" target=\"_blank\">Viewer</a>"
      ],
      "text/plain": [
       "http://yuncong-Precision-WorkStation-T7500:43151/v/88cb70e157d8f78b6b73201289aa66f20cc27f4a/"
      ]
     },
     "execution_count": 2,
     "metadata": {},
     "output_type": "execute_result"
    }
   ],
   "source": [
    "neuroglancer.set_server_bind_address('0.0.0.0')\n",
    "viewer = neuroglancer.Viewer()\n",
    "print(viewer)\n",
    "\n",
    "ip_name = !hostname -I\n",
    "print('http://' + ip_name[0].strip() + ':' + viewer.get_viewer_url().split(':')[2]) ##Remote URL\n",
    "\n",
    "ip_name_str = str(ip_name).replace('\\'','').replace('\\\"','').replace('[','').replace(']','')\n",
    "real_ip = ip_name_str.split(' ')[0]\n",
    "print('http://' + real_ip + ':' + viewer.get_viewer_url().split(':')[2]) ##Remote URL\n",
    "\n",
    "viewer # IP 132.239.73.85"
   ]
  },
  {
   "cell_type": "code",
   "execution_count": 3,
   "metadata": {},
   "outputs": [],
   "source": [
    "# Sets 'Image' layer to be prep2 images from S3 of <stack>\n",
    "with viewer.txn() as s:\n",
    "    s.layers['image'] = neuroglancer.ImageLayer(source='precomputed://https://mousebrainatlas-datajoint-jp2k.s3.amazonaws.com/precomputed/'+stack1+'_fullres')\n",
    "    \n",
    "    # Resets X/Y/Z plane orientation\n",
    "    s.navigation.pose.orientation = [0,0,0,1]\n",
    "    # Zooms out \n",
    "#     s.navigation.zoomFactor = 10000 # If 4panel\n",
    "    s.navigation.zoomFactor = 5000 # If xy\n",
    "    \n",
    "    # Resets 3D Viewer Orientation\n",
    "    s.perspectiveOrientation = [0,0,0,1]\n",
    "    # Zooms out\n",
    "    s.perspectiveZoom = 75000\n",
    "    \n",
    "    s.layout = 'xy' # '3d'/'4panel'/'xy'"
   ]
  },
  {
   "cell_type": "code",
   "execution_count": 9,
   "metadata": {},
   "outputs": [],
   "source": [
    "vol1_fp = NEUROGLANCER_ROOT+'/'+stack1+'/human_annotation/solid_volume_5um/volume_colored.npy'\n",
    "vol2_fp = NEUROGLANCER_ROOT+'/'+stack2+'/human_annotation/solid_volume_5um/volume_colored.npy'\n",
    "\n",
    "vol1 = np.load(vol1_fp)\n",
    "vol2 = np.load(vol2_fp)\n",
    "\n",
    "# Make vol1 monocolor\n",
    "# z_len, y_len, x_len = np.shape(vol1)\n",
    "# for z in range(z_len):\n",
    "#     for y in range(y_len):\n",
    "#         for x in range(x_len):\n",
    "#             if vol1[z,y,x]!=0:\n",
    "#                 vol1[z,y,x] = 1\n",
    "\n",
    "# Make vol2 monocolor\n",
    "# z_len, y_len, x_len = np.shape(vol2)\n",
    "# for z in range(z_len):\n",
    "#     for y in range(y_len):\n",
    "#         for x in range(x_len):\n",
    "#             if vol2[z,y,x]!=0:\n",
    "#                 vol2[z,y,x] = 2\n",
    "\n",
    "vol1_nonzero_indices = vol1 > 0\n",
    "vol1[vol1_nonzero_indices] = 1\n",
    "\n",
    "vol2_nonzero_indices = vol2 > 0\n",
    "vol2[vol2_nonzero_indices] = 2"
   ]
  },
  {
   "cell_type": "code",
   "execution_count": null,
   "metadata": {
    "collapsed": true
   },
   "outputs": [],
   "source": []
  },
  {
   "cell_type": "code",
   "execution_count": null,
   "metadata": {
    "collapsed": true
   },
   "outputs": [],
   "source": []
  },
  {
   "cell_type": "code",
   "execution_count": null,
   "metadata": {
    "collapsed": true
   },
   "outputs": [],
   "source": []
  },
  {
   "cell_type": "code",
   "execution_count": 10,
   "metadata": {},
   "outputs": [],
   "source": [
    "import scipy as sp\n",
    "vol2_rot = vol2.copy()\n",
    "z_len, y_len, x_len = np.shape(vol2)\n",
    "# for z in range(80,90):\n",
    "for z in range( z_len ):\n",
    "    # Positive rotation is CounterClockwise\n",
    "    # Negative rotation is Clockwise\n",
    "    vol2_rot[z,:,:] = sp.ndimage.rotate(vol2_rot[z,:,:], -25, reshape=False)\n",
    "    \n",
    "\n",
    "    \n",
    "xy_ng_resolution_um = 5\n",
    "\n",
    "with viewer.txn() as s:\n",
    "    s.layers[ 'vol2_rot' ] = neuroglancer.SegmentationLayer(\n",
    "        source = neuroglancer.LocalVolume(\n",
    "            data=vol2_rot, # Z,Y,X\n",
    "            voxel_size=[ xy_ng_resolution_um*1000, xy_ng_resolution_um*1000,20000], # X Y Z\n",
    "            voxel_offset = [ 30, 90, 0] # X Y Z\n",
    "        ),\n",
    "        segments = [i for i in range(50)]\n",
    "    )"
   ]
  },
  {
   "cell_type": "code",
   "execution_count": 11,
   "metadata": {
    "collapsed": true
   },
   "outputs": [],
   "source": [
    "with viewer.txn() as s:\n",
    "    s.layers[ 'vol2_rot' ] = neuroglancer.SegmentationLayer(\n",
    "        source = neuroglancer.LocalVolume(\n",
    "            data=vol2_rot, # Z,Y,X\n",
    "            voxel_size=[ xy_ng_resolution_um*1000, xy_ng_resolution_um*1000,20000], # X Y Z\n",
    "            voxel_offset = [ 30, 90, 0] # X Y Z\n",
    "        ),\n",
    "        segments = [i for i in range(50)]\n",
    "    )"
   ]
  },
  {
   "cell_type": "code",
   "execution_count": null,
   "metadata": {
    "collapsed": true
   },
   "outputs": [],
   "source": []
  },
  {
   "cell_type": "code",
   "execution_count": null,
   "metadata": {
    "collapsed": true
   },
   "outputs": [],
   "source": []
  },
  {
   "cell_type": "code",
   "execution_count": null,
   "metadata": {
    "collapsed": true
   },
   "outputs": [],
   "source": []
  },
  {
   "cell_type": "code",
   "execution_count": 12,
   "metadata": {},
   "outputs": [],
   "source": [
    "\n",
    "with viewer.txn() as s:\n",
    "    s.layers[ 'vol1' ] = neuroglancer.SegmentationLayer(\n",
    "        source = neuroglancer.LocalVolume(\n",
    "            data=vol1, # Z,Y,X\n",
    "            voxel_size=[ xy_ng_resolution_um*1000, xy_ng_resolution_um*1000,20000], # X Y Z\n",
    "            voxel_offset = [ 0, 0, 0] # X Y Z\n",
    "        ),\n",
    "        segments = [i for i in range(50)]\n",
    "    )\n",
    "    \n",
    "with viewer.txn() as s:\n",
    "    s.layers[ 'vol2' ] = neuroglancer.SegmentationLayer(\n",
    "        source = neuroglancer.LocalVolume(\n",
    "            data=vol2, # Z,Y,X\n",
    "            voxel_size=[ xy_ng_resolution_um*1000, xy_ng_resolution_um*1000,20000], # X Y Z\n",
    "            voxel_offset = [ 0, 0, 0] # X Y Z\n",
    "        ),\n",
    "        segments = [i for i in range(50)]\n",
    "    )"
   ]
  },
  {
   "cell_type": "code",
   "execution_count": 51,
   "metadata": {},
   "outputs": [],
   "source": [
    "neuroglancer.stop()"
   ]
  },
  {
   "cell_type": "code",
   "execution_count": null,
   "metadata": {
    "collapsed": true
   },
   "outputs": [],
   "source": []
  },
  {
   "cell_type": "code",
   "execution_count": 37,
   "metadata": {},
   "outputs": [
    {
     "data": {
      "text/plain": [
       "<matplotlib.image.AxesImage at 0x7f552bec3050>"
      ]
     },
     "execution_count": 37,
     "metadata": {},
     "output_type": "execute_result"
    },
    {
     "data": {
      "image/png": "[encoded data removed]",
      "text/plain": [
       "<matplotlib.figure.Figure at 0x7f552bf96b10>"
      ]
     },
     "metadata": {},
     "output_type": "display_data"
    }
   ],
   "source": [
    "x = np.zeros((20,20))\n",
    "x[0,:] = [1,1,1,1,1,1,1,1,1,1,1,1,1,1,1,1,1,1,1,1]\n",
    "\n",
    "plt.imshow(x)"
   ]
  },
  {
   "cell_type": "code",
   "execution_count": null,
   "metadata": {
    "collapsed": true
   },
   "outputs": [],
   "source": []
  }
 ],
 "metadata": {
  "kernelspec": {
   "display_name": "Python 2",
   "language": "python",
   "name": "python2"
  },
  "language_info": {
   "codemirror_mode": {
    "name": "ipython",
    "version": 3
   },
   "file_extension": ".py",
   "mimetype": "text/x-python",
   "name": "python",
   "nbconvert_exporter": "python",
   "pygments_lexer": "ipython3",
   "version": "3.8.2"
  }
 },
 "nbformat": 4,
 "nbformat_minor": 2
}
