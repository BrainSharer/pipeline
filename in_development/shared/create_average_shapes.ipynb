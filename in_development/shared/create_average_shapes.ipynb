{
 "cells": [
  {
   "cell_type": "code",
   "execution_count": 1,
   "metadata": {},
   "outputs": [],
   "source": [
    "import os, sys\n",
    "import pandas as pd\n",
    "import numpy as np\n",
    "import json\n",
    "from matplotlib import pyplot as plt\n",
    "import cv2\n",
    "from tqdm import tqdm\n",
    "from collections import defaultdict\n",
    "import random\n",
    "from rasterio import Affine, features\n",
    "from shapely.geometry import shape\n",
    "from shapely.ops import cascaded_union\n",
    "from math import floor, ceil\n",
    "from scipy.signal import fftconvolve\n"
   ]
  },
  {
   "cell_type": "code",
   "execution_count": 41,
   "metadata": {},
   "outputs": [
    {
     "name": "stdout",
     "output_type": "stream",
     "text": [
      "MD585 81 146\n",
      "MD589 107 138\n",
      "MD594 90 147\n"
     ]
    }
   ],
   "source": [
    "HOME = os.path.expanduser(\"~\")\n",
    "PATH = os.path.join(HOME, 'programming/pipeline_utility/src')\n",
    "sys.path.append(PATH)\n",
    "from lib.FileLocationManager import DATA_PATH\n",
    "\n",
    "color_radius = 3\n",
    "animals = ['MD585', 'MD589','MD594']\n",
    "ATLAS = 'atlasV8'\n",
    "structure = 'SC'\n",
    "section = 200\n",
    "shapes = []\n",
    "for animal in animals:\n",
    "    CSVPATH = os.path.join(DATA_PATH, 'atlas_data', ATLAS, animal)\n",
    "    jsonpath = os.path.join(CSVPATH,  'aligned_structure_sections.json')\n",
    "    with open(jsonpath) as f:\n",
    "        aligned_dict = json.load(f)\n",
    "    onestructure = aligned_dict[structure]\n",
    "    start = int(min(onestructure.keys())) + 10\n",
    "    points = onestructure[str(mins)]\n",
    "    print(animal, len(points), start)\n",
    "    shapes.append({'type': 'Polygon', 'coordinates': [points]})\n",
    "    #arr = np.array(np.round(points)).astype(np.int32)"
   ]
  },
  {
   "cell_type": "code",
   "execution_count": 9,
   "metadata": {},
   "outputs": [],
   "source": [
    "def gaussian_blur(in_array, gt, size):\n",
    "    \"\"\"Gaussian blur, returns tuple `(ar, gt2)` that have been expanded by `size`\"\"\"\n",
    "    # expand in_array to fit edge of kernel; constant value is zero\n",
    "    padded_array = np.pad(in_array, size, 'constant')\n",
    "    # build kernel\n",
    "    x, y = np.mgrid[-size:size + 1, -size:size + 1]\n",
    "    g = np.exp(-(x**2 / float(size) + y**2 / float(size)))\n",
    "    g = (g / g.sum()).astype(in_array.dtype)\n",
    "    # do the Gaussian blur\n",
    "    ar = fftconvolve(padded_array, g, mode='full')\n",
    "    # convolved increased size of array ('full' option); update geotransform\n",
    "    gt2 = Affine(\n",
    "        gt.a, gt.b, gt.xoff - (2 * size * gt.a),\n",
    "        gt.d, gt.e, gt.yoff - (2 * size * gt.e))\n",
    "    return ar, gt2"
   ]
  },
  {
   "cell_type": "code",
   "execution_count": 36,
   "metadata": {},
   "outputs": [
    {
     "name": "stdout",
     "output_type": "stream",
     "text": [
      "678.2327721684927 229.5178829550087 814.8770307877251 378.70710318016756 3\n"
     ]
    }
   ],
   "source": [
    "max_shape = cascaded_union([shape(s) for s in shapes])\n",
    "minx, miny, maxx, maxy = max_shape.bounds\n",
    "print(minx,miny,maxx,maxy, len(shapes))"
   ]
  },
  {
   "cell_type": "code",
   "execution_count": 37,
   "metadata": {},
   "outputs": [
    {
     "name": "stdout",
     "output_type": "stream",
     "text": [
      "<class 'numpy.ndarray'> float64 (150, 137)\n",
      "<class 'numpy.ndarray'> float64 (550, 537) <class 'affine.Affine'>\n",
      "pm <class 'numpy.ndarray'> uint8 (550, 537)\n"
     ]
    }
   ],
   "source": [
    "dx = dy = 1.0  # grid resolution; this can be adjusted\n",
    "lenx = dx * (ceil(maxx / dx) - floor(minx / dx))\n",
    "leny = dy * (ceil(maxy / dy) - floor(miny / dy))\n",
    "assert lenx % dx == 0.0\n",
    "assert leny % dy == 0.0\n",
    "nx = int(lenx / dx)\n",
    "ny = int(leny / dy)\n",
    "gt = Affine(\n",
    "    dx, 0.0, dx * floor(minx / dx),\n",
    "    0.0, -dy, dy * ceil(maxy / dy))\n",
    "\n",
    "pa = np.zeros((ny, nx), 'd')\n",
    "for s in shapes:\n",
    "    r = features.rasterize([s], (ny, nx), transform=gt)\n",
    "    pa[r > 0] += 1\n",
    "pa /= len(shapes)  # normalise values\n",
    "print(type(pa), pa.dtype, pa.shape)\n",
    "spa, sgt = gaussian_blur(pa, gt, 100)\n",
    "print(type(spa), spa.dtype, spa.shape, type(sgt))\n",
    "\n",
    "thresh = 0.5  # median\n",
    "pm = np.zeros(spa.shape, 'B')\n",
    "pm[spa > thresh] = 1\n",
    "print('pm', type(pm), pm.dtype, pm.shape)"
   ]
  },
  {
   "cell_type": "code",
   "execution_count": 40,
   "metadata": {},
   "outputs": [
    {
     "data": {
      "image/png": "[encoded data removed]",
      "text/plain": [
       "<Figure size 640x400 with 1 Axes>"
      ]
     },
     "metadata": {},
     "output_type": "display_data"
    }
   ],
   "source": [
    "plt.style.use('classic')\n",
    "plt.rcParams[\"figure.figsize\"] = (8,5)\n",
    "plt.title(f'Avg {structure} at section {section}')\n",
    "plt.imshow(spa, cmap=\"cool\")\n",
    "plt.show()"
   ]
  }
 ],
 "metadata": {
  "kernelspec": {
   "display_name": "Python 3 (ipykernel)",
   "language": "python",
   "name": "python3"
  },
  "language_info": {
   "codemirror_mode": {
    "name": "ipython",
    "version": 3
   },
   "file_extension": ".py",
   "mimetype": "text/x-python",
   "name": "python",
   "nbconvert_exporter": "python",
   "pygments_lexer": "ipython3",
   "version": "3.10.6"
  }
 },
 "nbformat": 4,
 "nbformat_minor": 1
}
