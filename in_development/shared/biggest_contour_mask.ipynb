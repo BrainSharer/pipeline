{
 "cells": [
  {
   "cell_type": "code",
   "execution_count": 3,
   "metadata": {},
   "outputs": [],
   "source": [
    "import numpy as np\n",
    "import cv2\n",
    "from matplotlib import pyplot as plt\n",
    "from skimage import io\n",
    "import os"
   ]
  },
  {
   "cell_type": "code",
   "execution_count": null,
   "metadata": {},
   "outputs": [],
   "source": [
    "def is_barcode(rect):\n",
    "    x,y,w,h = rect\n",
    "    area = w * h\n",
    "    result = (x > 10 and y > 10 and w > 10 and h > 40 and area > 1000)\n",
    "    if result:\n",
    "        print ('rectangle size: x=%s y=%s w=%s h=%s' %(x,y,w,h))\n",
    "    return result"
   ]
  },
  {
   "cell_type": "code",
   "execution_count": null,
   "metadata": {},
   "outputs": [],
   "source": [
    "def create_mask(original):\n",
    "    copied = np.copy(original)\n",
    "    #original = cv2.normalize(original, None, alpha=0, beta=255, norm_type=cv2.NORM_MINMAX)\n",
    "    #img_gray = cv2.cvtColor(original, cv2.COLOR_BGR2GRAY)\n",
    "    #img_blur = cv2.GaussianBlur(img_gray,(5,5),0)\n",
    "    #img_bgr = cv2.cvtColor(img_blur,cv2.COLOR_GRAY2BGR)\n",
    "    \n",
    "    img_hsv = cv.cvtColor(original, cv.COLOR_BGR2HSV)\n",
    "\n",
    "    lowHue = 0\n",
    "    lowSat = 0\n",
    "    lowVal = 2\n",
    "    highHue = 255\n",
    "    highSat = 55\n",
    "    highVal = 250\n",
    "\n",
    "    # creation of mask\n",
    "    colorLow = np.array([lowHue,lowSat,lowVal])\n",
    "    colorHigh = np.array([highHue,highSat,highVal])\n",
    "    img_mask = cv.inRange(img_hsv, colorLow, colorHigh)\n",
    "    # find and draw contours\n",
    "    #find\n",
    "    contours, hierarchy = cv.findContours(img_mask, cv.RETR_TREE, cv.CHAIN_APPROX_SIMPLE)\n",
    "    #find largest contour\n",
    "    contour_sizes = [(cv.contourArea(contour), contour) for contour in contours]\n",
    "    biggest_contour = [max(contour_sizes, key=lambda x: x[0])[1]]\n",
    "    contours_poly = [None]*len(contours)\n",
    "    boundRect = [None]*len(contours)\n",
    "    centers = [None]*len(contours)\n",
    "    radius = [None]*len(contours)\n",
    "    #contours = contours\n",
    "    color = (255,100,0)\n",
    "    #contour_and_sizes = [(cv.contourArea(contour), contour) for contour in contours]\n",
    "    #biggest_contours = sorted(contour_and_sizes, key = lambda x: x[0], reverse=True)[:2]\n",
    "\n",
    "    for i, c in enumerate(contours):\n",
    "        contours_poly[i] = cv.approxPolyDP(c, 3, True)\n",
    "        boundRect[i] = cv.boundingRect(contours_poly[i])\n",
    "        if is_barcode(boundRect[i]):\n",
    "            centers[i], radius[i] = cv.minEnclosingCircle(contours_poly[i])\n",
    "        \n",
    "            cv.rectangle(copied, (int(boundRect[i][0]), int(boundRect[i][1])), \\\n",
    "              (int(boundRect[i][0]+boundRect[i][2]), int(boundRect[i][1]+boundRect[i][3])), color, 2)\n",
    "        \n",
    "        \n",
    "    #cv.fillPoly(copied, [biggest_contour], [255,155,0])\n",
    "    \n",
    "    return copied"
   ]
  },
  {
   "cell_type": "code",
   "execution_count": null,
   "metadata": {},
   "outputs": [],
   "source": [
    "def create_rects(original):\n",
    "    copied = original.copy()\n",
    "    copied = np.copy(original)\n",
    "    img_hsv = cv.cvtColor(original, cv.COLOR_BGR2HSV)\n",
    "\n",
    "    lowHue = 0\n",
    "    lowSat = 0\n",
    "    lowVal = 2\n",
    "    highHue = 255\n",
    "    highSat = 55\n",
    "    highVal = 250\n",
    "\n",
    "    # creation of mask\n",
    "    colorLow = np.array([lowHue,lowSat,lowVal])\n",
    "    colorHigh = np.array([highHue,highSat,highVal])\n",
    "    img_mask = cv.inRange(img_hsv, colorLow, colorHigh)\n",
    "    # find and draw contours\n",
    "    contours, hierarchy = cv.findContours(img_mask, cv.RETR_TREE, cv.CHAIN_APPROX_SIMPLE)\n",
    "    #find largest contours\n",
    "    contour_and_sizes = [(cv.contourArea(contour), contour) for contour in contours]\n",
    "    biggest_contours = sorted(contour_and_sizes, key = lambda x: x[0], reverse=True)[0]\n",
    "    for i, c in enumerate(biggest_contours):\n",
    "        contours_poly[i] = cv.approxPolyDP(c, 3, True)\n",
    "        boundRect[i] = cv.boundingRect(contours_poly[i])\n",
    "        centers[i], radius[i] = cv.minEnclosingCircle(contours_poly[i])\n",
    "        \n",
    "        cv.rectangle(copied, (int(boundRect[i][0]), int(boundRect[i][1])), \\\n",
    "          (int(boundRect[i][0]+boundRect[i][2]), int(boundRect[i][1]+boundRect[i][3])), color, 2)\n",
    "        \n",
    "        \n",
    "        #cv.fillPoly(copied, [biggest_contour], [255,155,0])\n",
    "    \n",
    "    return copied\n"
   ]
  },
  {
   "cell_type": "code",
   "execution_count": null,
   "metadata": {},
   "outputs": [],
   "source": [
    "#file = 'DK43_slide020_2020_01_23_798515_C0.tif'\n",
    "#file = 'DK43_slide001_2020_01_27_808119_C0.tif'\n",
    "file = 'DK43_slide052_2020_01_23_801622_C0.tif'\n",
    "\n",
    "filename = os.path.join(HOME, NORMALIZED, file)\n",
    "original = cv.imread(filename)\n",
    "tissue = create_mask(original)"
   ]
  },
  {
   "cell_type": "code",
   "execution_count": 24,
   "metadata": {},
   "outputs": [],
   "source": [
    "def get_origin_and_section_size(structure_contours):\n",
    "    \"\"\"Gets the origin and section size\n",
    "    Set the pad to make sure we get all the volume\n",
    "    \"\"\"\n",
    "    section_mins = []\n",
    "    section_maxs = []\n",
    "    for _, contour_points in structure_contours.items():\n",
    "        contour_points = np.array(contour_points)\n",
    "        section_mins.append(np.min(contour_points, axis=0))\n",
    "        section_maxs.append(np.max(contour_points, axis=0))\n",
    "    min_z = min([int(i) for i in structure_contours.keys()])\n",
    "    min_x, min_y = np.min(section_mins, axis=0)\n",
    "    max_x, max_y = np.max(section_maxs, axis=0)\n",
    "    xspan = max_x - min_x \n",
    "    yspan = max_y - min_y\n",
    "    origin = np.array([min_x, min_y, min_z])\n",
    "    section_size = np.array([yspan, xspan]).astype(int)\n",
    "    print('origin', origin)\n",
    "    print('max_x', max_x)\n",
    "    print('xpan', xspan)\n",
    "    print('section_size', section_size)\n",
    "    return origin, section_size\n"
   ]
  },
  {
   "cell_type": "code",
   "execution_count": 27,
   "metadata": {},
   "outputs": [
    {
     "name": "stdout",
     "output_type": "stream",
     "text": [
      "origin [733 456 210]\n",
      "max_x 983\n",
      "xpan 250\n",
      "section_size [189 250]\n",
      "contour points after origin [[ 72   0]\n",
      " [  0  67]\n",
      " [250 189]]\n",
      "contour points 1st row [72  0]\n",
      "contour_points stacked [[ 72   0]\n",
      " [  0  67]\n",
      " [250 189]]\n"
     ]
    },
    {
     "data": {
      "text/plain": [
       "array([[0, 0, 0, ..., 0, 0, 0],\n",
       "       [0, 0, 0, ..., 0, 0, 0],\n",
       "       [0, 0, 0, ..., 0, 0, 0],\n",
       "       ...,\n",
       "       [0, 0, 0, ..., 1, 1, 0],\n",
       "       [0, 0, 0, ..., 1, 1, 1],\n",
       "       [0, 0, 0, ..., 1, 1, 1]], dtype=uint8)"
      ]
     },
     "execution_count": 27,
     "metadata": {},
     "output_type": "execute_result"
    }
   ],
   "source": [
    "contour_points = np.array([[805, 456], [733, 523], [983, 645]])\n",
    "volume_contours = {210: contour_points}\n",
    "\n",
    "origin, section_size = get_origin_and_section_size(volume_contours)\n",
    "vertices = np.array(contour_points) - origin[:2]\n",
    "contour_points = (vertices).astype(np.int32)\n",
    "print('contour points after origin', contour_points)\n",
    "first_row = contour_points[0,:]\n",
    "print('contour points 1st row', first_row)\n",
    "#contour_points = np.vstack([contour_points, first_row])\n",
    "print('contour_points stacked', contour_points)\n",
    "volume_slice = np.zeros(section_size, dtype=np.uint8)\n",
    "#volume_slice = cv2.polylines(volume_slice, [contour_points], isClosed=True, color=1, thickness=1)\n",
    "#volume_slice = cv2.fillPoly(volume_slice, pts=[contour_points], color=1)\n",
    "cv2.drawContours(volume_slice, [contour_points], -1, (1), thickness=-1)"
   ]
  },
  {
   "cell_type": "code",
   "execution_count": 28,
   "metadata": {},
   "outputs": [
    {
     "data": {
      "image/png": "[encoded data removed]",
      "text/plain": [
       "<Figure size 640x480 with 1 Axes>"
      ]
     },
     "metadata": {},
     "output_type": "display_data"
    }
   ],
   "source": [
    "# display images \n",
    "plt.imshow(volume_slice, interpolation='nearest')\n",
    "plt.show()"
   ]
  }
 ],
 "metadata": {
  "kernelspec": {
   "display_name": "Python 3",
   "language": "python",
   "name": "python3"
  },
  "language_info": {
   "codemirror_mode": {
    "name": "ipython",
    "version": 3
   },
   "file_extension": ".py",
   "mimetype": "text/x-python",
   "name": "python",
   "nbconvert_exporter": "python",
   "pygments_lexer": "ipython3",
   "version": "3.10.12"
  }
 },
 "nbformat": 4,
 "nbformat_minor": 4
}
