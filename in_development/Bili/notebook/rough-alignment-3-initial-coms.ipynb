{
 "cells": [
  {
   "cell_type": "markdown",
   "id": "81b344f1-75bf-494d-aad3-f9998448947d",
   "metadata": {},
   "source": [
    "# Rough Alignment 3: Initial COMs\n",
    "In this step, we use the transformation generated from the previous step to get initial COMs for Kui's detection."
   ]
  },
  {
   "cell_type": "code",
   "execution_count": 1,
   "id": "d352ad2e-25b9-49d5-90b1-359c6ebda2db",
   "metadata": {},
   "outputs": [],
   "source": [
    "import json\n",
    "\n",
    "import numpy as np\n",
    "import SimpleITK as sitk"
   ]
  },
  {
   "cell_type": "code",
   "execution_count": 2,
   "id": "fbc3896c-793b-47d5-a38d-d619768db4c5",
   "metadata": {},
   "outputs": [],
   "source": [
    "fix_brain = 'DK43'"
   ]
  },
  {
   "cell_type": "markdown",
   "id": "58d2c197-046b-41e9-a5da-12e563ba3ad2",
   "metadata": {},
   "source": [
    "## Retrieve DK52 COMs"
   ]
  },
  {
   "cell_type": "code",
   "execution_count": 3,
   "id": "33fcd545-75fa-4724-b9a7-7404ac6f0086",
   "metadata": {},
   "outputs": [
    {
     "data": {
      "text/plain": [
       "{'10N_L': [45413, 16981, 216],\n",
       " '10N_R': [47649, 16137, 259],\n",
       " '12N': [47432, 17112, 245],\n",
       " '3N_L': [36300, 14843, 227],\n",
       " '3N_R': [36088, 14789, 236],\n",
       " '4N_L': [37627, 14650, 232],\n",
       " '4N_R': [37627, 14676, 232],\n",
       " '5N_L': [38765, 20172, 170],\n",
       " '5N_R': [38578, 18830, 322],\n",
       " '6N_L': [40594, 19400, 261],\n",
       " '6N_R': [40691, 19609, 216],\n",
       " '7N_L': [44412, 25652, 172],\n",
       " '7N_R': [34067, 18435, 226],\n",
       " 'AP': [46493, 17268, 236],\n",
       " 'Amb_L': [44278, 22190, 177],\n",
       " 'Amb_R': [42963, 21855, 322],\n",
       " 'DC_L': [41286, 17520, 123],\n",
       " 'DC_R': [44852, 17688, 352],\n",
       " 'IC': [32241, 8524, 237],\n",
       " 'LC_L': [40348, 16804, 182],\n",
       " 'LC_R': [40069, 15693, 274],\n",
       " 'LRt_L': [49842, 24952, 196],\n",
       " 'LRt_R': [46245, 24242, 309],\n",
       " 'PBG_L': [35652, 15883, 141],\n",
       " 'PBG_R': [35630, 15532, 329],\n",
       " 'Pn_L': [36244, 24101, 235],\n",
       " 'Pn_R': [35862, 26388, 308],\n",
       " 'RtTg': [40371, 25410, 240],\n",
       " 'SNC_L': [34197, 21594, 169],\n",
       " 'SNC_R': [34286, 20616, 334],\n",
       " 'SNR_L': [34058, 20419, 183],\n",
       " 'SNR_R': [37306, 23611, 334],\n",
       " 'Sp5C_L': [47688, 18170, 322],\n",
       " 'Sp5C_R': [51580, 14206, 296],\n",
       " 'Sp5I_L': [48060, 19124, 164],\n",
       " 'Sp5I_R': [47879, 17568, 335],\n",
       " 'Tz_L': [37209, 26989, 210],\n",
       " 'Tz_R': [39870, 26440, 270],\n",
       " 'VCA_L': [40659, 19143, 111],\n",
       " 'VCA_R': [36250, 14371, 370],\n",
       " 'VCP_L': [43397, 21497, 106],\n",
       " 'VCP_R': [40557, 19362, 375],\n",
       " 'VLL_L': [36574, 20803, 162],\n",
       " 'VLL_R': [34862, 21325, 335]}"
      ]
     },
     "execution_count": 3,
     "metadata": {},
     "output_type": "execute_result"
    }
   ],
   "source": [
    "with open('../data/DK52_coms_kui_detected.json', 'r') as f:\n",
    "    mov_coms = json.load(f)\n",
    "mov_coms"
   ]
  },
  {
   "cell_type": "markdown",
   "id": "e106acee-67bd-46a7-814b-84282a96eda1",
   "metadata": {},
   "source": [
    "## Load the Transformation"
   ]
  },
  {
   "cell_type": "code",
   "execution_count": 4,
   "id": "76037c38-9fe2-4624-a990-2e591bdaa56b",
   "metadata": {},
   "outputs": [
    {
     "name": "stdout",
     "output_type": "stream",
     "text": [
      "CPU times: user 523 µs, sys: 84 µs, total: 607 µs\n",
      "Wall time: 394 µs\n"
     ]
    }
   ],
   "source": [
    "%%time\n",
    "# We should really load the Demons transformation here.\n",
    "# But somehow in the next step,\n",
    "# transform.TransformPoint doesn't do anything,\n",
    "# if it is a Demons transformation.\n",
    "# This is an issue to be solved.\n",
    "# transform = sitk.ReadTransform(f'../data/automatic-alignment/{fix_brain}/1-demons.tfm')\n",
    "transform = sitk.ReadTransform(f'../data/automatic-alignment/{fix_brain}/1-affine.tfm')"
   ]
  },
  {
   "cell_type": "code",
   "execution_count": 5,
   "id": "7729499e-17c6-484a-b602-f152ab8e8a14",
   "metadata": {},
   "outputs": [
    {
     "name": "stdout",
     "output_type": "stream",
     "text": [
      "itk::simple::Transform\n",
      " AffineTransform (0x55b5f8953390)\n",
      "   RTTI typeinfo:   itk::AffineTransform<double, 3u>\n",
      "   Reference Count: 1\n",
      "   Modified Time: 674\n",
      "   Debug: Off\n",
      "   Object Name: \n",
      "   Observers: \n",
      "     none\n",
      "   Matrix: \n",
      "     0.969728 0.184646 -0.0288291 \n",
      "     -0.243072 1.01074 -0.0738073 \n",
      "     -0.0029055 0.0558863 1.03986 \n",
      "   Offset: [567.038, 3102.87, -129.126]\n",
      "   Center: [8767.2, 5194.8, 3910]\n",
      "   Translation: [1148.12, 739.023, 291.588]\n",
      "   Inverse: \n",
      "     0.985913 -0.180912 0.0144927 \n",
      "     0.236374 0.94213 0.0734236 \n",
      "     -0.0099489 -0.0511391 0.957758 \n",
      "   Singular: 0\n",
      "\n"
     ]
    }
   ],
   "source": [
    "print(transform)"
   ]
  },
  {
   "cell_type": "markdown",
   "id": "ab4820f5-e7c9-49c3-82df-72015d31c906",
   "metadata": {},
   "source": [
    "## Apply the Transformation"
   ]
  },
  {
   "cell_type": "code",
   "execution_count": 6,
   "id": "55219a45-5b16-49ef-8c19-16b7d0c7f8e0",
   "metadata": {},
   "outputs": [
    {
     "name": "stdout",
     "output_type": "stream",
     "text": [
      "CPU times: user 491 µs, sys: 84 µs, total: 575 µs\n",
      "Wall time: 354 µs\n"
     ]
    },
    {
     "data": {
      "text/plain": [
       "{'10N_L': (47734.567271859014, 9211.70985917742, 912.541419578142),\n",
       " '10N_R': (49745.79880726428, 7811.959555618981, 903.590873617989),\n",
       " '12N': (49715.801574406774, 8851.213935508995, 944.1523727161361),\n",
       " '3N_L': (38502.34112945604, 9265.046765534073, 830.9729598056764),\n",
       " '3N_R': (38286.52833838145, 9261.333692510361, 837.9298476675633),\n",
       " '4N_L': (39753.38983886829, 8747.047479393692, 821.5306287496703),\n",
       " '4N_R': (39758.190644880546, 8773.326796792273, 822.9836715626936),\n",
       " '5N_L': (41878.34552037536, 14056.33004932318, 1062.3565144789666),\n",
       " '5N_R': (41444.82882979437, 12734.148768327726, 1145.959860491676),\n",
       " '6N_L': (43506.80833204538, 12824.740887729316, 1108.5258081719028),\n",
       " '6N_R': (43640.76039378231, 13015.729492925053, 1073.1303075181404),\n",
       " '7N_L': (48366.206414828295, 18222.425040607162, 1354.2855763664513),\n",
       " '7N_R': (37000.2162219644, 13438.489645047048, 1037.1645398065475),\n",
       " 'AP': (48834.290890496784, 9237.798933894719, 946.2401190305766),\n",
       " 'Amb_L': (47596.87287631682, 14755.435497449758, 1166.3959964848086),\n",
       " 'Amb_R': (46255.64324673717, 14725.774525788616, 1302.2751668090164),\n",
       " 'DC_L': (43834.70361186331, 10766.523516322513, 857.9477470204413),\n",
       " 'DC_R': (47317.17386303161, 10052.630870675534, 1095.1045456052202),\n",
       " 'IC': (33399.14469217462, 3864.0540205947314, 500.0197553742537),\n",
       " 'LC_L': (42791.19062758448, 10266.478668339307, 882.0105427589712),\n",
       " 'LC_R': (42312.84198566184, 9204.57010024061, 916.3990610276642),\n",
       " 'LRt_L': (53501.887342368245, 16193.251348479018, 1324.3450488628075),\n",
       " 'LRt_R': (49879.41760639444, 16341.614433744999, 1412.6215727085596),\n",
       " 'PBG_L': (38068.46866205743, 10480.077699537036, 801.5491054845561),\n",
       " 'PBG_R': (37976.9038788997, 10116.778726143915, 977.4914453712952),\n",
       " 'Pn_L': (40157.26193826405, 18635.526831880445, 1356.84959676295),\n",
       " 'Pn_R': (40207.00743957969, 21034.56167854962, 1561.681477838516),\n",
       " 'RtTg': (44400.889081532645, 18955.061240853902, 1423.213019252472),\n",
       " 'SNC_L': (37711.22210700608, 16604.0343362077, 1154.0592583929129),\n",
       " 'SNC_R': (37612.186964561835, 15581.716066851182, 1270.721521080024),\n",
       " 'SNR_L': (37359.066746921104, 15449.165076367837, 1103.3548664173873),\n",
       " 'SNR_R': (41093.78270276732, 17874.813134875494, 1429.3262529045123),\n",
       " 'Sp5C_L': (50157.18808102358, 9852.670348788073, 1082.6057833805123),\n",
       " 'Sp5C_R': (53200.182361179446, 4901.967042972155, 822.7279449669375),\n",
       " 'Sp5I_L': (50698.63470585514, 10738.157835374433, 970.5418633341255),\n",
       " 'Sp5I_R': (50230.87430584716, 9196.816784690744, 1061.9255387903154),\n",
       " 'Tz_L': (41627.02934767641, 21321.833026142056, 1489.4487012712002),\n",
       " 'Tz_R': (44104.376048031125, 20115.691476590404, 1513.427457142203),\n",
       " 'VCA_L': (43526.71092791459, 12560.251346645222, 937.994529371766),\n",
       " 'VCA_R': (38362.57904901657, 8789.575244262192, 953.4405206030556),\n",
       " 'VCP_L': (46616.629065763664, 14274.377573219906, 1056.3961977188271),\n",
       " 'VCP_R': (43460.62529696875, 12786.91229188452, 1225.0541691476726),\n",
       " 'VLL_L': (39870.41306401851, 15227.270591782813, 1095.6677909891416),\n",
       " 'VLL_R': (38301.635989795745, 16158.249423144971, 1309.7111747341382)}"
      ]
     },
     "execution_count": 6,
     "metadata": {},
     "output_type": "execute_result"
    }
   ],
   "source": [
    "%%time\n",
    "fix_coms = {}\n",
    "for name, com in mov_coms.items():\n",
    "    fix_coms[name] = transform.TransformPoint(com)\n",
    "fix_coms"
   ]
  },
  {
   "cell_type": "markdown",
   "id": "f893e969-52a2-4833-891b-eaf506e854c8",
   "metadata": {},
   "source": [
    "## Save the Result\n",
    "We can save the result as a JOSN file (or any other format that's convenient to use). This file could be shared with Kui to seed the actual detection."
   ]
  },
  {
   "cell_type": "code",
   "execution_count": 7,
   "id": "48b43266-06e0-42b0-9a25-52a7db60bcbf",
   "metadata": {},
   "outputs": [],
   "source": [
    "with open(f'../data/automatic-alignment/{fix_brain}/2-initial-coms.json', 'w') as f:\n",
    "    json.dump(fix_coms, f, sort_keys=True, indent=4)"
   ]
  }
 ],
 "metadata": {
  "kernelspec": {
   "display_name": "Python 3",
   "language": "python",
   "name": "python3"
  },
  "language_info": {
   "codemirror_mode": {
    "name": "ipython",
    "version": 3
   },
   "file_extension": ".py",
   "mimetype": "text/x-python",
   "name": "python",
   "nbconvert_exporter": "python",
   "pygments_lexer": "ipython3",
   "version": "3.9.4"
  }
 },
 "nbformat": 4,
 "nbformat_minor": 5
}
