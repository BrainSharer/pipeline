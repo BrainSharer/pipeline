{
 "cells": [
  {
   "cell_type": "markdown",
   "id": "cd1c302e-d8eb-4072-9b45-94485426565a",
   "metadata": {},
   "source": [
    "# Rough Alignment 2: Diagnostic Plot"
   ]
  },
  {
   "cell_type": "code",
   "execution_count": 1,
   "id": "8c8ab0ec-8dd8-4c10-ad6d-599514f8c5b0",
   "metadata": {},
   "outputs": [],
   "source": [
    "from pathlib import Path\n",
    "\n",
    "import matplotlib.pyplot as plt\n",
    "from matplotlib.backends.backend_pdf import PdfPages\n",
    "import numpy as np\n",
    "import SimpleITK as sitk\n",
    "\n",
    "import utility"
   ]
  },
  {
   "cell_type": "markdown",
   "id": "bff5afd6-3a0b-48ac-b543-1c462f91fcff",
   "metadata": {},
   "source": [
    "## Load Images and Transformations"
   ]
  },
  {
   "cell_type": "code",
   "execution_count": 2,
   "id": "a6efb7a6-223f-4c95-a2cc-bee7044484f2",
   "metadata": {},
   "outputs": [],
   "source": [
    "mov_brain = 'DK52'\n",
    "fix_brain = 'DK43'\n",
    "thumb_spacing = (10.4, 10.4, 20.0)"
   ]
  },
  {
   "cell_type": "code",
   "execution_count": 3,
   "id": "40d09077-f7f6-4c44-b199-7548a14eaefb",
   "metadata": {},
   "outputs": [],
   "source": [
    "data_dir = Path('/net/birdstore/Active_Atlas_Data/data_root/pipeline_data')\n",
    "mov_img_thumb_dir = data_dir / mov_brain / 'preps/CH1/thumbnail_aligned'\n",
    "fix_img_thumb_dir = data_dir / fix_brain / 'preps/CH1/thumbnail_aligned'\n",
    "affine_save_path = f'../data/automatic-alignment/{fix_brain}/1-affine.tfm'\n",
    "demons_save_path = f'../data/automatic-alignment/{fix_brain}/1-demons.tfm'"
   ]
  },
  {
   "cell_type": "code",
   "execution_count": 4,
   "id": "f1a60c13-359a-4ad1-911b-3fa47d7bed3f",
   "metadata": {},
   "outputs": [
    {
     "name": "stdout",
     "output_type": "stream",
     "text": [
      "CPU times: user 18.3 s, sys: 5.78 s, total: 24.1 s\n",
      "Wall time: 18.8 s\n"
     ]
    }
   ],
   "source": [
    "%%time\n",
    "moving_image = utility.load_image_dir(mov_img_thumb_dir, spacing=thumb_spacing)"
   ]
  },
  {
   "cell_type": "code",
   "execution_count": 5,
   "id": "3f407ea9-28a7-4c22-a37d-513d0c01a713",
   "metadata": {},
   "outputs": [
    {
     "name": "stdout",
     "output_type": "stream",
     "text": [
      "CPU times: user 12.9 s, sys: 3.14 s, total: 16 s\n",
      "Wall time: 13.2 s\n"
     ]
    }
   ],
   "source": [
    "%%time\n",
    "fixed_image = utility.load_image_dir(fix_img_thumb_dir, spacing=thumb_spacing)"
   ]
  },
  {
   "cell_type": "code",
   "execution_count": 6,
   "id": "1468ac8b-4095-4290-aa26-8216b86af322",
   "metadata": {},
   "outputs": [
    {
     "name": "stdout",
     "output_type": "stream",
     "text": [
      "CPU times: user 0 ns, sys: 811 µs, total: 811 µs\n",
      "Wall time: 523 µs\n"
     ]
    }
   ],
   "source": [
    "%%time\n",
    "affine_transform = sitk.ReadTransform(affine_save_path)"
   ]
  },
  {
   "cell_type": "code",
   "execution_count": 7,
   "id": "8b9d8027-93cd-4020-94d5-1d179c0ca4f7",
   "metadata": {},
   "outputs": [
    {
     "name": "stdout",
     "output_type": "stream",
     "text": [
      "CPU times: user 27.6 s, sys: 2.43 s, total: 30 s\n",
      "Wall time: 30 s\n"
     ]
    }
   ],
   "source": [
    "%%time\n",
    "demons_transform = sitk.ReadTransform(demons_save_path)"
   ]
  },
  {
   "cell_type": "markdown",
   "id": "4dd3869d-d9ee-46cc-b0a8-3ad260d53807",
   "metadata": {},
   "source": [
    "## Apply Transformations"
   ]
  },
  {
   "cell_type": "code",
   "execution_count": 8,
   "id": "48b065c9-146f-4ac6-8b0c-4067fe3c10c4",
   "metadata": {},
   "outputs": [
    {
     "name": "stdout",
     "output_type": "stream",
     "text": [
      "CPU times: user 42.7 s, sys: 3.87 s, total: 46.6 s\n",
      "Wall time: 3.24 s\n"
     ]
    }
   ],
   "source": [
    "%%time\n",
    "affine_transformed_image = sitk.Resample(\n",
    "    moving_image, fixed_image, affine_transform,\n",
    "    sitk.sitkLinear, 0.0, moving_image.GetPixelID()\n",
    ")"
   ]
  },
  {
   "cell_type": "code",
   "execution_count": 9,
   "id": "95a814e0-4f6a-481e-a659-104e4ed92ce2",
   "metadata": {},
   "outputs": [
    {
     "name": "stdout",
     "output_type": "stream",
     "text": [
      "CPU times: user 3min 22s, sys: 3.06 s, total: 3min 25s\n",
      "Wall time: 14.2 s\n"
     ]
    }
   ],
   "source": [
    "%%time\n",
    "demons_transformed_image = sitk.Resample(\n",
    "    moving_image, fixed_image, demons_transform,\n",
    "    sitk.sitkLinear, 0.0, moving_image.GetPixelID()\n",
    ")"
   ]
  },
  {
   "cell_type": "markdown",
   "id": "9458ef11-c3cf-4c82-8141-3a409939948c",
   "metadata": {},
   "source": [
    "## Plot & Save"
   ]
  },
  {
   "cell_type": "code",
   "execution_count": 10,
   "id": "3107f264-a8f1-4713-8670-9e95dfd57c82",
   "metadata": {},
   "outputs": [],
   "source": [
    "z_step = 10"
   ]
  },
  {
   "cell_type": "code",
   "execution_count": 11,
   "id": "34a3cab2-31ba-4a06-bd96-c4638e96fe80",
   "metadata": {},
   "outputs": [],
   "source": [
    "# convert all images to arrays\n",
    "fixed_arr = sitk.GetArrayViewFromImage(fixed_image)\n",
    "affine_transformed_arr = sitk.GetArrayViewFromImage(affine_transformed_image)\n",
    "demons_transformed_arr = sitk.GetArrayViewFromImage(demons_transformed_image)"
   ]
  },
  {
   "cell_type": "markdown",
   "id": "3bbfb582-c701-469c-8c9e-c2bc1f7809b0",
   "metadata": {},
   "source": [
    "### General Diagnostic Plots"
   ]
  },
  {
   "cell_type": "code",
   "execution_count": 12,
   "id": "78829349-a59e-4813-9986-c5ab8748d7fe",
   "metadata": {},
   "outputs": [
    {
     "name": "stdout",
     "output_type": "stream",
     "text": [
      "Finished!\n"
     ]
    }
   ],
   "source": [
    "save_path = f'../data/automatic-alignment/{fix_brain}/1-diagnostics.pdf'\n",
    "figure_kwargs = {\n",
    "    'dpi': 200,\n",
    "    'figsize': (8, 6),\n",
    "}\n",
    "imshow_kwargs = {\n",
    "    'aspect':'equal',\n",
    "    'cmap': 'gray',\n",
    "}\n",
    "with PdfPages(save_path) as pdf:\n",
    "    sz = fixed_arr.shape[0]\n",
    "    for z in range(0, sz, z_step):\n",
    "        print(f'{z}/{sz}', end='\\r')\n",
    "        fig, ax = plt.subplots(1, 3, **figure_kwargs)\n",
    "        ax[0].imshow(affine_transformed_arr[z,:,:].T, **imshow_kwargs)\n",
    "        ax[0].set_title(f'{mov_brain} after Affine')\n",
    "        ax[0].set_axis_off()\n",
    "        ax[1].imshow(demons_transformed_arr[z,:,:].T, **imshow_kwargs)\n",
    "        ax[1].set_title(f'{mov_brain} after Demons')\n",
    "        ax[1].set_axis_off()\n",
    "        ax[2].imshow(fixed_arr[z,:,:].T, **imshow_kwargs)\n",
    "        ax[2].set_title(f'{fix_brain} Fixed')\n",
    "        ax[2].set_axis_off()\n",
    "        fig.suptitle(f'z = {z}')\n",
    "        fig.tight_layout()\n",
    "        pdf.savefig(fig)\n",
    "        plt.close()\n",
    "print('Finished!')"
   ]
  },
  {
   "cell_type": "markdown",
   "id": "94483084-ce22-40c0-8dce-72515fd72c76",
   "metadata": {},
   "source": [
    "### Alternating Plots"
   ]
  },
  {
   "cell_type": "code",
   "execution_count": 13,
   "id": "9a450e25-fe02-4c32-9e7b-1cc822a5e1d3",
   "metadata": {},
   "outputs": [
    {
     "name": "stdout",
     "output_type": "stream",
     "text": [
      "Finished!\n"
     ]
    }
   ],
   "source": [
    "save_path = f'../data/automatic-alignment/{fix_brain}/1-diagnostics-alt.pdf'\n",
    "figure_kwargs = {\n",
    "    'dpi': 200,\n",
    "    'figsize': (8, 6),\n",
    "}\n",
    "imshow_kwargs = {\n",
    "    'aspect':'equal',\n",
    "    'cmap': 'gray',\n",
    "}\n",
    "with PdfPages(save_path) as pdf:\n",
    "    sz = fixed_arr.shape[0]\n",
    "    for z in range(0, sz, z_step):\n",
    "        print(f'{z}/{sz}', end='\\r')\n",
    "        \n",
    "        fig = plt.figure(**figure_kwargs)\n",
    "        plt.imshow(fixed_arr[z,:,:], **imshow_kwargs)\n",
    "        plt.title(f'z = {z}\\n{fix_brain} Fixed')\n",
    "        plt.axis('off')\n",
    "        pdf.savefig(fig)\n",
    "        plt.close()\n",
    "\n",
    "        fig = plt.figure(**figure_kwargs)\n",
    "        plt.imshow(affine_transformed_arr[z,:,:], **imshow_kwargs)\n",
    "        plt.title(f'z = {z}\\n{mov_brain} after Affine')\n",
    "        plt.axis('off')\n",
    "        pdf.savefig(fig)\n",
    "        plt.close()\n",
    "\n",
    "        fig = plt.figure(**figure_kwargs)\n",
    "        plt.imshow(demons_transformed_arr[z,:,:], **imshow_kwargs)\n",
    "        plt.title(f'z = {z}\\n{mov_brain} after Demons')\n",
    "        plt.axis('off')\n",
    "        pdf.savefig(fig)\n",
    "        plt.close()\n",
    "\n",
    "        fig = plt.figure(**figure_kwargs)\n",
    "        plt.imshow(fixed_arr[z,:,:], **imshow_kwargs)\n",
    "        plt.title(f'z = {z}\\n{fix_brain} Fixed')\n",
    "        plt.axis('off')\n",
    "        pdf.savefig(fig)\n",
    "        plt.close()\n",
    "print('Finished!')"
   ]
  }
 ],
 "metadata": {
  "kernelspec": {
   "display_name": "Python 3",
   "language": "python",
   "name": "python3"
  },
  "language_info": {
   "codemirror_mode": {
    "name": "ipython",
    "version": 3
   },
   "file_extension": ".py",
   "mimetype": "text/x-python",
   "name": "python",
   "nbconvert_exporter": "python",
   "pygments_lexer": "ipython3",
   "version": "3.9.4"
  }
 },
 "nbformat": 4,
 "nbformat_minor": 5
}
