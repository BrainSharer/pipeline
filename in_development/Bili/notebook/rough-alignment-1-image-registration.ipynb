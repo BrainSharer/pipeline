{
 "cells": [
  {
   "cell_type": "markdown",
   "id": "d8d3d785-5c68-44d8-b096-5cc87c6c19f0",
   "metadata": {},
   "source": [
    "# Rough Alignment 1: Image Registration\n",
    "This step involves doing **registration on downsampled thumbnail images**. We have a reference brain DK52 whose structures are well annotated both by Beth manually and by Kui's detection code automatically. The goal of this step is to find the best transformation from DK52 to another brain we study, so that we could use this transformation to bring DK52 structure annotations to the new brain, as starting points for Kui's detection later.\n",
    "\n",
    "Outline:\n",
    "- [Loading Data](#Loading-Data)\n",
    "- [Registration](#Registration)\n",
    "    - [Centered Transformation](#Centered-Transformation)\n",
    "    - [Affine Transformation](#Affine-Transformation)\n",
    "    - [Demons Transformattion](#Demons-Transformation)\n",
    "- [Saving Result](#Saving-Result)"
   ]
  },
  {
   "cell_type": "code",
   "execution_count": 1,
   "id": "6c300851-3694-4c3e-9d08-4ab3dcc570e7",
   "metadata": {},
   "outputs": [],
   "source": [
    "from pathlib import Path\n",
    "\n",
    "import SimpleITK as sitk\n",
    "import matplotlib.pyplot as plt\n",
    "import numpy as np\n",
    "\n",
    "%matplotlib inline\n",
    "\n",
    "import utility\n",
    "\n",
    "from ipywidgets import interact, fixed\n",
    "from IPython.display import clear_output"
   ]
  },
  {
   "cell_type": "markdown",
   "id": "d5354b8d-c90b-4e1b-a0e3-c0dae230def2",
   "metadata": {},
   "source": [
    "The following are some utility functions used for plotting, copied from http://insightsoftwareconsortium.github.io/SimpleITK-Notebooks/Python_html/60_Registration_Introduction.html."
   ]
  },
  {
   "cell_type": "code",
   "execution_count": 2,
   "id": "6272b256-5c51-409f-bf97-21668b4a46f8",
   "metadata": {},
   "outputs": [],
   "source": [
    "# Callback invoked by the interact IPython method for scrolling through the image stacks of\n",
    "# the two images (moving and fixed).\n",
    "def display_images(fixed_image_z, moving_image_z, fixed_npa, moving_npa):\n",
    "    # Create a figure with two subplots and the specified size.\n",
    "    plt.subplots(1,2,figsize=(10,8))\n",
    "    \n",
    "    # Draw the fixed image in the first subplot.\n",
    "    plt.subplot(1,2,1)\n",
    "    plt.imshow(fixed_npa[fixed_image_z,:,:],cmap=plt.cm.Greys_r);\n",
    "    plt.title('fixed image')\n",
    "    plt.axis('off')\n",
    "    \n",
    "    # Draw the moving image in the second subplot.\n",
    "    plt.subplot(1,2,2)\n",
    "    plt.imshow(moving_npa[moving_image_z,:,:],cmap=plt.cm.Greys_r);\n",
    "    plt.title('moving image')\n",
    "    plt.axis('off')\n",
    "    \n",
    "    plt.show()\n",
    "\n",
    "# Callback invoked by the IPython interact method for scrolling and modifying the alpha blending\n",
    "# of an image stack of two images that occupy the same physical space. \n",
    "def display_images_with_alpha(image_z, alpha, fixed, moving):\n",
    "    img = (1.0 - alpha)*fixed[:,:,image_z] + alpha*moving[:,:,image_z] \n",
    "    plt.imshow(sitk.GetArrayViewFromImage(img),cmap=plt.cm.Greys_r);\n",
    "    plt.axis('off')\n",
    "    plt.show()\n",
    "    \n",
    "# Callback invoked when the StartEvent happens, sets up our new data.\n",
    "def start_plot():\n",
    "    global metric_values, multires_iterations\n",
    "    \n",
    "    metric_values = []\n",
    "    multires_iterations = []\n",
    "\n",
    "# Callback invoked when the EndEvent happens, do cleanup of data and figure.\n",
    "def end_plot():\n",
    "    global metric_values, multires_iterations\n",
    "    \n",
    "    del metric_values\n",
    "    del multires_iterations\n",
    "    # Close figure, we don't want to get a duplicate of the plot latter on.\n",
    "    plt.close()\n",
    "\n",
    "# Callback invoked when the IterationEvent happens, update our data and display new figure.\n",
    "def plot_values(registration_method):\n",
    "    global metric_values, multires_iterations\n",
    "    \n",
    "    metric_values.append(registration_method.GetMetricValue())                                       \n",
    "    # Clear the output area (wait=True, to reduce flickering), and plot current data\n",
    "    clear_output(wait=True)\n",
    "    # Plot the similarity metric values\n",
    "    plt.plot(metric_values, 'r')\n",
    "    plt.plot(multires_iterations, [metric_values[index] for index in multires_iterations], 'b*')\n",
    "    plt.xlabel('Iteration Number',fontsize=12)\n",
    "    plt.ylabel('Metric Value',fontsize=12)\n",
    "    plt.show()\n",
    "    \n",
    "# Callback invoked when the sitkMultiResolutionIterationEvent happens, update the index into the \n",
    "# metric_values list. \n",
    "def update_multires_iterations():\n",
    "    global metric_values, multires_iterations\n",
    "    multires_iterations.append(len(metric_values))"
   ]
  },
  {
   "cell_type": "markdown",
   "id": "ce308402-ca32-427c-a518-bf9a6f784120",
   "metadata": {},
   "source": [
    "## Loading Data"
   ]
  },
  {
   "cell_type": "code",
   "execution_count": 3,
   "id": "5a3c767b-9417-4708-8b7a-29b063e4e4cf",
   "metadata": {},
   "outputs": [],
   "source": [
    "mov_brain = 'DK52'\n",
    "fix_brain = 'DK43'\n",
    "# Full resolution is (0.325, 0.325, 20) um\n",
    "# Thumbnails are downsampled by (32, 32, 1), so\n",
    "thumb_spacing = (10.4, 10.4, 20.0) # in um\n",
    "\n",
    "data_dir = Path('/net/birdstore/Active_Atlas_Data/data_root/pipeline_data')\n",
    "mov_img_thumb_dir = data_dir / mov_brain / 'preps/CH1/thumbnail_aligned'\n",
    "fix_img_thumb_dir = data_dir / fix_brain / 'preps/CH1/thumbnail_aligned'"
   ]
  },
  {
   "cell_type": "code",
   "execution_count": 4,
   "id": "fb79249e-c52d-4ace-83fd-bd526a518dbf",
   "metadata": {},
   "outputs": [
    {
     "name": "stdout",
     "output_type": "stream",
     "text": [
      "CPU times: user 18.2 s, sys: 5.23 s, total: 23.5 s\n",
      "Wall time: 18.7 s\n"
     ]
    }
   ],
   "source": [
    "%%time\n",
    "moving_image = utility.load_image_dir(mov_img_thumb_dir, spacing=thumb_spacing)"
   ]
  },
  {
   "cell_type": "code",
   "execution_count": 5,
   "id": "e204825c-c545-448f-bd44-a2a151ddcfdc",
   "metadata": {},
   "outputs": [
    {
     "name": "stdout",
     "output_type": "stream",
     "text": [
      "CPU times: user 12.8 s, sys: 2.28 s, total: 15.1 s\n",
      "Wall time: 13.1 s\n"
     ]
    }
   ],
   "source": [
    "%%time\n",
    "fixed_image = utility.load_image_dir(fix_img_thumb_dir, spacing=thumb_spacing)"
   ]
  },
  {
   "cell_type": "code",
   "execution_count": 6,
   "id": "f10a3645-fa3f-49a2-8cb0-f4dba983fa30",
   "metadata": {},
   "outputs": [],
   "source": [
    "# Registration later requires the sitkFloat32 type,\n",
    "# so we do the casting once and for all here\n",
    "moving_image = sitk.Cast(moving_image, sitk.sitkFloat32)\n",
    "fixed_image = sitk.Cast(fixed_image, sitk.sitkFloat32)"
   ]
  },
  {
   "cell_type": "code",
   "execution_count": 7,
   "id": "a95b458f-3f68-4a82-8447-db214bd48bd8",
   "metadata": {},
   "outputs": [
    {
     "data": {
      "application/vnd.jupyter.widget-view+json": {
       "model_id": "377bce0b44c24b1c8e3e2b827bf7da8b",
       "version_major": 2,
       "version_minor": 0
      },
      "text/plain": [
       "interactive(children=(IntSlider(value=195, description='image_z', max=391), FloatSlider(value=0.5, description…"
      ]
     },
     "metadata": {},
     "output_type": "display_data"
    }
   ],
   "source": [
    "interact(\n",
    "    display_images_with_alpha,\n",
    "    image_z=(0,fixed_image.GetSize()[2]-1),\n",
    "    alpha=(0.0,1.0,0.05), fixed=fixed(fixed_image), moving=fixed(moving_image)\n",
    ");"
   ]
  },
  {
   "cell_type": "markdown",
   "id": "b7ec90cf-a75d-406c-85d0-f9947fabed38",
   "metadata": {},
   "source": [
    "## Registration\n",
    "We will do a multi-step registration here. Each step generates a transformation that serves as the initial transformation for the next step."
   ]
  },
  {
   "cell_type": "markdown",
   "id": "73c30ec3-008d-4ba8-af7b-1f81fcd7fd36",
   "metadata": {},
   "source": [
    "### Centered Transformation\n",
    "We start with a simple transformatioin that basically align the centers of 2 images using a translation."
   ]
  },
  {
   "cell_type": "code",
   "execution_count": 8,
   "id": "c6a762ff-fd19-4674-b364-aba26619a933",
   "metadata": {},
   "outputs": [
    {
     "name": "stdout",
     "output_type": "stream",
     "text": [
      "CPU times: user 128 µs, sys: 41 µs, total: 169 µs\n",
      "Wall time: 245 µs\n"
     ]
    }
   ],
   "source": [
    "%%time\n",
    "centered_transform = sitk.CenteredTransformInitializer(\n",
    "    fixed_image, moving_image, \n",
    "    sitk.AffineTransform(3), \n",
    "    sitk.CenteredTransformInitializerFilter.GEOMETRY\n",
    ")"
   ]
  },
  {
   "cell_type": "code",
   "execution_count": 9,
   "id": "a6f03352-2f32-4815-82b2-ddbcf17d6b97",
   "metadata": {},
   "outputs": [
    {
     "name": "stdout",
     "output_type": "stream",
     "text": [
      "itk::simple::Transform\n",
      " AffineTransform (0x5634271c1710)\n",
      "   RTTI typeinfo:   itk::AffineTransform<double, 3u>\n",
      "   Reference Count: 1\n",
      "   Modified Time: 174915\n",
      "   Debug: Off\n",
      "   Object Name: \n",
      "   Observers: \n",
      "     none\n",
      "   Matrix: \n",
      "     1 0 0 \n",
      "     0 1 0 \n",
      "     0 0 1 \n",
      "   Offset: [1788.8, 650, 940]\n",
      "   Center: [8767.2, 5194.8, 3910]\n",
      "   Translation: [1788.8, 650, 940]\n",
      "   Inverse: \n",
      "     1 0 0 \n",
      "     0 1 0 \n",
      "     0 0 1 \n",
      "   Singular: 0\n",
      "\n"
     ]
    }
   ],
   "source": [
    "print(centered_transform)"
   ]
  },
  {
   "cell_type": "code",
   "execution_count": 10,
   "id": "f879f085-4d19-4653-a7fe-f2b966c544e7",
   "metadata": {},
   "outputs": [
    {
     "data": {
      "application/vnd.jupyter.widget-view+json": {
       "model_id": "c68469e550174eebbadc15401f57d3df",
       "version_major": 2,
       "version_minor": 0
      },
      "text/plain": [
       "interactive(children=(IntSlider(value=195, description='image_z', max=391), FloatSlider(value=0.5, description…"
      ]
     },
     "metadata": {},
     "output_type": "display_data"
    }
   ],
   "source": [
    "transform = centered_transform\n",
    "moving_resampled = sitk.Resample(\n",
    "    moving_image, fixed_image, transform,\n",
    "    sitk.sitkLinear, 0.0, moving_image.GetPixelID()\n",
    ")\n",
    "interact(\n",
    "    display_images_with_alpha,\n",
    "    image_z=(0,fixed_image.GetSize()[2]-1),\n",
    "    alpha=(0.0,1.0,0.05), fixed=fixed(fixed_image), moving=fixed(moving_resampled)\n",
    ");"
   ]
  },
  {
   "cell_type": "markdown",
   "id": "a0f6ce03-cbc8-45e1-9620-dea23564f525",
   "metadata": {},
   "source": [
    "### Affine Transformation\n",
    "Then we continue with a general affine transformation.\n",
    "\n",
    "Reference: http://insightsoftwareconsortium.github.io/SimpleITK-Notebooks/Python_html/60_Registration_Introduction.html"
   ]
  },
  {
   "cell_type": "code",
   "execution_count": 11,
   "id": "41d5efe4-9f2f-4060-83c0-ee699f584c68",
   "metadata": {},
   "outputs": [
    {
     "data": {
      "image/png": "[encoded data removed]",
      "text/plain": [
       "<Figure size 432x288 with 1 Axes>"
      ]
     },
     "metadata": {
      "needs_background": "light"
     },
     "output_type": "display_data"
    },
    {
     "name": "stdout",
     "output_type": "stream",
     "text": [
      "CPU times: user 47min 51s, sys: 2min 8s, total: 50min\n",
      "Wall time: 7min 4s\n"
     ]
    },
    {
     "data": {
      "text/plain": [
       "<SimpleITK.SimpleITK.Transform; proxy of <Swig Object of type 'itk::simple::Transform *' at 0x7f21c50b1750> >"
      ]
     },
     "execution_count": 11,
     "metadata": {},
     "output_type": "execute_result"
    }
   ],
   "source": [
    "%%time\n",
    "registration_method = sitk.ImageRegistrationMethod()\n",
    "registration_method.SetInterpolator(sitk.sitkLinear)\n",
    "\n",
    "# Metric\n",
    "registration_method.SetMetricAsMattesMutualInformation(numberOfHistogramBins=50)\n",
    "registration_method.SetMetricSamplingStrategy(registration_method.RANDOM)\n",
    "registration_method.SetMetricSamplingPercentage(0.01)\n",
    "\n",
    "# Optimizer\n",
    "registration_method.SetOptimizerAsGradientDescent(\n",
    "    learningRate=1.0,\n",
    "    numberOfIterations=100,\n",
    "    convergenceMinimumValue=1e-6,\n",
    "    convergenceWindowSize=10\n",
    ")\n",
    "registration_method.SetOptimizerScalesFromPhysicalShift()\n",
    "\n",
    "# Transformation\n",
    "affine_transform = sitk.AffineTransform(centered_transform)    \n",
    "registration_method.SetInitialTransform(affine_transform)\n",
    "\n",
    "# Multi-resolution           \n",
    "registration_method.SetShrinkFactorsPerLevel(shrinkFactors=[4, 2, 1])\n",
    "registration_method.SetSmoothingSigmasPerLevel(smoothingSigmas=[2, 1, 0])\n",
    "registration_method.SmoothingSigmasAreSpecifiedInPhysicalUnitsOn()\n",
    "\n",
    "# Plotting\n",
    "registration_method.AddCommand(sitk.sitkStartEvent, start_plot)\n",
    "registration_method.AddCommand(sitk.sitkEndEvent, end_plot)\n",
    "registration_method.AddCommand(sitk.sitkMultiResolutionIterationEvent, update_multires_iterations)\n",
    "registration_method.AddCommand(sitk.sitkIterationEvent, lambda: plot_values(registration_method))\n",
    "\n",
    "registration_method.Execute(fixed_image, moving_image);"
   ]
  },
  {
   "cell_type": "code",
   "execution_count": 12,
   "id": "022df1be-200e-4930-b97d-1f8f353b1775",
   "metadata": {},
   "outputs": [
    {
     "name": "stdout",
     "output_type": "stream",
     "text": [
      "Final metric value: -0.42355747252056203\n",
      "Optimizer's stopping condition, GradientDescentOptimizerv4Template: Convergence checker passed at iteration 9.\n"
     ]
    }
   ],
   "source": [
    "print(f'Final metric value: {registration_method.GetMetricValue()}')\n",
    "print(f'Optimizer\\'s stopping condition, {registration_method.GetOptimizerStopConditionDescription()}')"
   ]
  },
  {
   "cell_type": "code",
   "execution_count": 13,
   "id": "e543ce26-2a9d-4522-bd5b-104a283c88d0",
   "metadata": {},
   "outputs": [
    {
     "name": "stdout",
     "output_type": "stream",
     "text": [
      "itk::simple::AffineTransform\n",
      " AffineTransform (0x5634271c47e0)\n",
      "   RTTI typeinfo:   itk::AffineTransform<double, 3u>\n",
      "   Reference Count: 3\n",
      "   Modified Time: 15290445\n",
      "   Debug: Off\n",
      "   Object Name: \n",
      "   Observers: \n",
      "     none\n",
      "   Matrix: \n",
      "     0.969728 0.184646 -0.0288291 \n",
      "     -0.243072 1.01074 -0.0738073 \n",
      "     -0.0029055 0.0558863 1.03986 \n",
      "   Offset: [567.038, 3102.87, -129.126]\n",
      "   Center: [8767.2, 5194.8, 3910]\n",
      "   Translation: [1148.12, 739.023, 291.588]\n",
      "   Inverse: \n",
      "     0.985913 -0.180912 0.0144927 \n",
      "     0.236374 0.94213 0.0734236 \n",
      "     -0.0099489 -0.0511391 0.957758 \n",
      "   Singular: 0\n",
      "\n"
     ]
    }
   ],
   "source": [
    "print(affine_transform)"
   ]
  },
  {
   "cell_type": "code",
   "execution_count": 14,
   "id": "e39f9fe9-c9d3-409b-aa48-ae9e90f9a643",
   "metadata": {},
   "outputs": [
    {
     "data": {
      "application/vnd.jupyter.widget-view+json": {
       "model_id": "321cb5b185c64226adbdf820d0055a5d",
       "version_major": 2,
       "version_minor": 0
      },
      "text/plain": [
       "interactive(children=(IntSlider(value=195, description='image_z', max=391), FloatSlider(value=0.5, description…"
      ]
     },
     "metadata": {},
     "output_type": "display_data"
    }
   ],
   "source": [
    "transform = affine_transform\n",
    "moving_resampled = sitk.Resample(\n",
    "    moving_image, fixed_image, transform,\n",
    "    sitk.sitkLinear, 0.0, moving_image.GetPixelID()\n",
    ")\n",
    "interact(\n",
    "    display_images_with_alpha,\n",
    "    image_z=(0,fixed_image.GetSize()[2]-1),\n",
    "    alpha=(0.0,1.0,0.05), fixed=fixed(fixed_image), moving=fixed(moving_resampled)\n",
    ");"
   ]
  },
  {
   "cell_type": "markdown",
   "id": "8421cf0d-3690-4410-b848-6672a2789c13",
   "metadata": {},
   "source": [
    "### Demons Transformation\n",
    "Finally, we refine the registration with a nonlinear transformation.\n",
    "\n",
    "Reference: http://insightsoftwareconsortium.github.io/SimpleITK-Notebooks/Python_html/66_Registration_Demons.html"
   ]
  },
  {
   "cell_type": "code",
   "execution_count": 15,
   "id": "528b2867-94dc-4286-b264-3e627569525d",
   "metadata": {},
   "outputs": [
    {
     "data": {
      "image/png": "[encoded data removed]",
      "text/plain": [
       "<Figure size 432x288 with 1 Axes>"
      ]
     },
     "metadata": {
      "needs_background": "light"
     },
     "output_type": "display_data"
    },
    {
     "name": "stdout",
     "output_type": "stream",
     "text": [
      "CPU times: user 47min 22s, sys: 1min 36s, total: 48min 59s\n",
      "Wall time: 5min 7s\n"
     ]
    },
    {
     "data": {
      "text/plain": [
       "<SimpleITK.SimpleITK.Transform; proxy of <Swig Object of type 'itk::simple::Transform *' at 0x7f21f0140960> >"
      ]
     },
     "execution_count": 15,
     "metadata": {},
     "output_type": "execute_result"
    }
   ],
   "source": [
    "%%time\n",
    "registration_method = sitk.ImageRegistrationMethod()\n",
    "registration_method.SetInterpolator(sitk.sitkLinear)\n",
    "\n",
    "# Metric\n",
    "registration_method.SetMetricAsDemons(10) #intensities are equal if the difference is less than 10HU\n",
    "\n",
    "# Optimizer\n",
    "# Running the Demons registration with the conjugate gradient optimizer takes a long time\n",
    "# which is why the code below uses gradient descent.\n",
    "# If you are more interested in accuracy and have the time\n",
    "# then switch to the conjugate gradient optimizer.\n",
    "#registration_method.SetOptimizerAsConjugateGradientLineSearch(...)\n",
    "registration_method.SetOptimizerAsGradientDescent(\n",
    "    learningRate=1.0,\n",
    "    numberOfIterations=100,\n",
    "    convergenceMinimumValue=1e-6,\n",
    "    convergenceWindowSize=10\n",
    ")\n",
    "registration_method.SetOptimizerScalesFromPhysicalShift()\n",
    "\n",
    "# Transformation\n",
    "transform_to_displacment_field_filter = sitk.TransformToDisplacementFieldFilter()\n",
    "transform_to_displacment_field_filter.SetReferenceImage(fixed_image)\n",
    "demons_transform = sitk.DisplacementFieldTransform(transform_to_displacment_field_filter.Execute(affine_transform))\n",
    "# Regularization (update field - viscous, total field - elastic)\n",
    "demons_transform.SetSmoothingGaussianOnUpdate(\n",
    "    varianceForUpdateField=0.0,\n",
    "    varianceForTotalField=2.0\n",
    ")\n",
    "registration_method.SetInitialTransform(demons_transform)\n",
    "\n",
    "# Multi-resolution\n",
    "# We have a memory issue here. If we try to shrink with factor 2, memory will explode.\n",
    "# registration_method.SetShrinkFactorsPerLevel(shrinkFactors=[4, 2, 1])\n",
    "# registration_method.SetSmoothingSigmasPerLevel(smoothingSigmas=[8, 4, 0])\n",
    "registration_method.SetShrinkFactorsPerLevel(shrinkFactors=[4])\n",
    "registration_method.SetSmoothingSigmasPerLevel(smoothingSigmas=[8])\n",
    "registration_method.SmoothingSigmasAreSpecifiedInPhysicalUnitsOn()\n",
    "\n",
    "# Plotting\n",
    "registration_method.AddCommand(sitk.sitkStartEvent, start_plot)\n",
    "registration_method.AddCommand(sitk.sitkEndEvent, end_plot)\n",
    "registration_method.AddCommand(sitk.sitkMultiResolutionIterationEvent, update_multires_iterations) \n",
    "registration_method.AddCommand(sitk.sitkIterationEvent, lambda: plot_values(registration_method))\n",
    "\n",
    "registration_method.Execute(fixed_image, moving_image);"
   ]
  },
  {
   "cell_type": "code",
   "execution_count": 16,
   "id": "6e37b3c7-2b2b-44db-8062-47038511bf1a",
   "metadata": {},
   "outputs": [
    {
     "name": "stdout",
     "output_type": "stream",
     "text": [
      "Final metric value: 30727078.90232408\n",
      "Optimizer's stopping condition, GradientDescentOptimizerv4Template: Maximum number of iterations (100) exceeded.\n"
     ]
    }
   ],
   "source": [
    "print(f'Final metric value: {registration_method.GetMetricValue()}')\n",
    "print(f'Optimizer\\'s stopping condition, {registration_method.GetOptimizerStopConditionDescription()}')"
   ]
  },
  {
   "cell_type": "code",
   "execution_count": 17,
   "id": "8888ed6b-8171-45da-899b-775d5fb0e20c",
   "metadata": {},
   "outputs": [
    {
     "name": "stdout",
     "output_type": "stream",
     "text": [
      "itk::simple::DisplacementFieldTransform\n",
      " GaussianSmoothingOnUpdateDisplacementFieldTransform (0x563426e59160)\n",
      "   RTTI typeinfo:   itk::GaussianSmoothingOnUpdateDisplacementFieldTransform<double, 3u>\n",
      "   Reference Count: 3\n",
      "   Modified Time: 15317600\n",
      "   Debug: Off\n",
      "   Object Name: \n",
      "   Observers: \n",
      "     none\n",
      "   DisplacementField: \n",
      "     Image (0x563428033520)\n",
      "       RTTI typeinfo:   itk::Image<itk::Vector<double, 3u>, 3u>\n",
      "       Reference Count: 3\n",
      "       Modified Time: 15291485\n",
      "       Debug: Off\n",
      "       Object Name: \n",
      "       Observers: \n",
      "         none\n",
      "       Source: (none)\n",
      "       Source output name: (none)\n",
      "       Release Data: Off\n",
      "       Data Released: False\n",
      "       Global Release Data: Off\n",
      "       PipelineMTime: 0\n",
      "       UpdateMTime: 15291478\n",
      "       RealTimeStamp: 0 seconds \n",
      "       LargestPossibleRegion: \n",
      "         Dimension: 3\n",
      "         Index: [0, 0, 0]\n",
      "         Size: [421, 250, 98]\n",
      "       BufferedRegion: \n",
      "         Dimension: 3\n",
      "         Index: [0, 0, 0]\n",
      "         Size: [421, 250, 98]\n",
      "       RequestedRegion: \n",
      "         Dimension: 3\n",
      "         Index: [0, 0, 0]\n",
      "         Size: [421, 250, 98]\n",
      "       Spacing: [41.6, 41.6, 80]\n",
      "       Origin: [31.2, 15.6, 30]\n",
      "       Direction: \n",
      "1 0 0\n",
      "0 1 0\n",
      "0 0 1\n",
      "\n",
      "       IndexToPointMatrix: \n",
      "41.6 0 0\n",
      "0 41.6 0\n",
      "0 0 80\n",
      "\n",
      "       PointToIndexMatrix: \n",
      "0.0240385 0 0\n",
      "0 0.0240385 0\n",
      "0 0 0.0125\n",
      "\n",
      "       Inverse Direction: \n",
      "1 0 0\n",
      "0 1 0\n",
      "0 0 1\n",
      "\n",
      "       PixelContainer: \n",
      "         ImportImageContainer (0x5634280338a0)\n",
      "           RTTI typeinfo:   itk::ImportImageContainer<unsigned long, itk::Vector<double, 3u> >\n",
      "           Reference Count: 1\n",
      "           Modified Time: 15291476\n",
      "           Debug: Off\n",
      "           Object Name: \n",
      "           Observers: \n",
      "             none\n",
      "           Pointer: 0x7f21b13eb010\n",
      "           Container manages memory: true\n",
      "           Size: 10314500\n",
      "           Capacity: 10314500\n",
      "   InverseDisplacementField: (null)\n",
      "   Interpolator: \n",
      "     VectorLinearInterpolateImageFunction (0x5634278b0c80)\n",
      "       RTTI typeinfo:   itk::VectorLinearInterpolateImageFunction<itk::Image<itk::Vector<double, 3u>, 3u>, double>\n",
      "       Reference Count: 1\n",
      "       Modified Time: 15290998\n",
      "       Debug: Off\n",
      "       Object Name: \n",
      "       Observers: \n",
      "         none\n",
      "       InputImage: 0x563428033520\n",
      "       StartIndex: [0, 0, 0]\n",
      "       EndIndex: [420, 249, 97]\n",
      "       StartContinuousIndex: [-0.5, -0.5, -0.5]\n",
      "       EndContinuousIndex: [420.5, 249.5, 97.5]\n",
      "   InverseInterpolator: \n",
      "     VectorLinearInterpolateImageFunction (0x56342846bbe0)\n",
      "       RTTI typeinfo:   itk::VectorLinearInterpolateImageFunction<itk::Image<itk::Vector<double, 3u>, 3u>, double>\n",
      "       Reference Count: 1\n",
      "       Modified Time: 15290999\n",
      "       Debug: Off\n",
      "       Object Name: \n",
      "       Observers: \n",
      "         none\n",
      "       InputImage: 0\n",
      "       StartIndex: [0, 0, 0]\n",
      "       EndIndex: [0, 0, 0]\n",
      "       StartContinuousIndex: [0, 0, 0]\n",
      "       EndContinuousIndex: [0, 0, 0]\n",
      "   DisplacementFieldSetTime: 15291486\n",
      "   m_IdentityJacobian: [1, 0, 0]\n",
      "[0, 1, 0]\n",
      "[0, 0, 1]\n",
      "\n",
      "    CoordinateTolerance: 1e-06\n",
      "    DirectionTolerance: 1e-06\n",
      "   Gaussian smoothing parameters: \n",
      "   m_GaussianSmoothingVarianceForTheUpdateField: 0\n",
      "   m_GaussianSmoothingVarianceForTheTotalField: 2\n",
      "\n"
     ]
    }
   ],
   "source": [
    "print(demons_transform)"
   ]
  },
  {
   "cell_type": "code",
   "execution_count": 18,
   "id": "fde76b3b-fa79-4897-ae9c-bc23525940c2",
   "metadata": {},
   "outputs": [
    {
     "data": {
      "application/vnd.jupyter.widget-view+json": {
       "model_id": "3aefa7647eb243c496c10ecf3d1bdddd",
       "version_major": 2,
       "version_minor": 0
      },
      "text/plain": [
       "interactive(children=(IntSlider(value=195, description='image_z', max=391), FloatSlider(value=0.5, description…"
      ]
     },
     "metadata": {},
     "output_type": "display_data"
    }
   ],
   "source": [
    "transform = demons_transform\n",
    "moving_resampled = sitk.Resample(\n",
    "    moving_image, fixed_image, transform,\n",
    "    sitk.sitkLinear, 0.0, moving_image.GetPixelID()\n",
    ")\n",
    "interact(\n",
    "    display_images_with_alpha,\n",
    "    image_z=(0,fixed_image.GetSize()[2]-1),\n",
    "    alpha=(0.0,1.0,0.05), fixed=fixed(fixed_image), moving=fixed(moving_resampled)\n",
    ");"
   ]
  },
  {
   "cell_type": "markdown",
   "id": "e037e5f9-d7a2-4a57-8368-83c34bd23012",
   "metadata": {},
   "source": [
    "## Saving Result\n",
    "Once we have the final transformation ready, we can save it to disk for future reuse."
   ]
  },
  {
   "cell_type": "code",
   "execution_count": 19,
   "id": "919c678c-bbe7-49b3-8c2d-8628ea52745d",
   "metadata": {},
   "outputs": [],
   "source": [
    "save_dir = Path('../data/automatic-alignment') / fix_brain\n",
    "# Make sure the dir exists\n",
    "save_dir.mkdir(parents=True, exist_ok=True)\n",
    "affine_save_path = (save_dir / '1-affine.tfm').as_posix()\n",
    "demons_save_path = (save_dir / '1-demons.tfm').as_posix()"
   ]
  },
  {
   "cell_type": "code",
   "execution_count": 20,
   "id": "f5c5d943-a0b4-42c1-af01-adc80aea4ace",
   "metadata": {},
   "outputs": [
    {
     "name": "stdout",
     "output_type": "stream",
     "text": [
      "CPU times: user 277 µs, sys: 12 µs, total: 289 µs\n",
      "Wall time: 297 µs\n"
     ]
    }
   ],
   "source": [
    "%%time\n",
    "sitk.WriteTransform(affine_transform, affine_save_path)"
   ]
  },
  {
   "cell_type": "code",
   "execution_count": 21,
   "id": "edeb5d1a-f7c9-4aa2-8772-99292a2a5128",
   "metadata": {},
   "outputs": [
    {
     "name": "stdout",
     "output_type": "stream",
     "text": [
      "4.0K\t../data/automatic-alignment/DK43/1-affine.tfm\n"
     ]
    }
   ],
   "source": [
    "!du -h {affine_save_path}"
   ]
  },
  {
   "cell_type": "code",
   "execution_count": 22,
   "id": "1d5f0091-13fb-466e-8b77-26d0ad289d40",
   "metadata": {},
   "outputs": [
    {
     "name": "stdout",
     "output_type": "stream",
     "text": [
      "CPU times: user 1.08 ms, sys: 46 µs, total: 1.13 ms\n",
      "Wall time: 539 µs\n"
     ]
    }
   ],
   "source": [
    "%%time\n",
    "reloaded_affine_transform = sitk.ReadTransform(affine_save_path)"
   ]
  },
  {
   "cell_type": "code",
   "execution_count": 23,
   "id": "00d2891d-967b-4d40-bc67-ade83b44c580",
   "metadata": {},
   "outputs": [
    {
     "name": "stdout",
     "output_type": "stream",
     "text": [
      "itk::simple::Transform\n",
      " AffineTransform (0x5634278af690)\n",
      "   RTTI typeinfo:   itk::AffineTransform<double, 3u>\n",
      "   Reference Count: 1\n",
      "   Modified Time: 15318082\n",
      "   Debug: Off\n",
      "   Object Name: \n",
      "   Observers: \n",
      "     none\n",
      "   Matrix: \n",
      "     0.969728 0.184646 -0.0288291 \n",
      "     -0.243072 1.01074 -0.0738073 \n",
      "     -0.0029055 0.0558863 1.03986 \n",
      "   Offset: [567.038, 3102.87, -129.126]\n",
      "   Center: [8767.2, 5194.8, 3910]\n",
      "   Translation: [1148.12, 739.023, 291.588]\n",
      "   Inverse: \n",
      "     0.985913 -0.180912 0.0144927 \n",
      "     0.236374 0.94213 0.0734236 \n",
      "     -0.0099489 -0.0511391 0.957758 \n",
      "   Singular: 0\n",
      "\n"
     ]
    }
   ],
   "source": [
    "print(reloaded_affine_transform)"
   ]
  },
  {
   "cell_type": "code",
   "execution_count": 24,
   "id": "790383cf-d466-49a4-8aa5-990c924587fc",
   "metadata": {},
   "outputs": [
    {
     "name": "stdout",
     "output_type": "stream",
     "text": [
      "CPU times: user 8 s, sys: 872 ms, total: 8.87 s\n",
      "Wall time: 10.6 s\n"
     ]
    }
   ],
   "source": [
    "%%time\n",
    "sitk.WriteTransform(demons_transform, demons_save_path)"
   ]
  },
  {
   "cell_type": "code",
   "execution_count": 25,
   "id": "a02e0c7b-2fed-4f04-aec7-93b4bccfaab0",
   "metadata": {},
   "outputs": [
    {
     "name": "stdout",
     "output_type": "stream",
     "text": [
      "531M\t../data/automatic-alignment/DK43/1-demons.tfm\n"
     ]
    }
   ],
   "source": [
    "!du -h {demons_save_path}"
   ]
  },
  {
   "cell_type": "code",
   "execution_count": 26,
   "id": "1d4995d0-784a-4287-b7ff-ed830f31d66f",
   "metadata": {},
   "outputs": [
    {
     "name": "stdout",
     "output_type": "stream",
     "text": [
      "CPU times: user 27.9 s, sys: 2.83 s, total: 30.7 s\n",
      "Wall time: 30.7 s\n"
     ]
    }
   ],
   "source": [
    "%%time\n",
    "reloaded_demons_transform = sitk.ReadTransform(demons_save_path)"
   ]
  },
  {
   "cell_type": "code",
   "execution_count": 27,
   "id": "ea07acd0-da6a-4a2c-8f85-ce8b923db8b9",
   "metadata": {},
   "outputs": [
    {
     "name": "stdout",
     "output_type": "stream",
     "text": [
      "itk::simple::Transform\n",
      " GaussianSmoothingOnUpdateDisplacementFieldTransform (0x563425d70dc0)\n",
      "   RTTI typeinfo:   itk::GaussianSmoothingOnUpdateDisplacementFieldTransform<double, 3u>\n",
      "   Reference Count: 1\n",
      "   Modified Time: 15318114\n",
      "   Debug: Off\n",
      "   Object Name: \n",
      "   Observers: \n",
      "     none\n",
      "   DisplacementField: \n",
      "     Image (0x563428495190)\n",
      "       RTTI typeinfo:   itk::Image<itk::Vector<double, 3u>, 3u>\n",
      "       Reference Count: 3\n",
      "       Modified Time: 15318111\n",
      "       Debug: Off\n",
      "       Object Name: \n",
      "       Observers: \n",
      "         none\n",
      "       Source: (none)\n",
      "       Source output name: (none)\n",
      "       Release Data: Off\n",
      "       Data Released: False\n",
      "       Global Release Data: Off\n",
      "       PipelineMTime: 0\n",
      "       UpdateMTime: 0\n",
      "       RealTimeStamp: 0 seconds \n",
      "       LargestPossibleRegion: \n",
      "         Dimension: 3\n",
      "         Index: [0, 0, 0]\n",
      "         Size: [421, 250, 98]\n",
      "       BufferedRegion: \n",
      "         Dimension: 3\n",
      "         Index: [0, 0, 0]\n",
      "         Size: [421, 250, 98]\n",
      "       RequestedRegion: \n",
      "         Dimension: 3\n",
      "         Index: [0, 0, 0]\n",
      "         Size: [421, 250, 98]\n",
      "       Spacing: [41.6, 41.6, 80]\n",
      "       Origin: [31.2, 15.6, 30]\n",
      "       Direction: \n",
      "1 0 0\n",
      "0 1 0\n",
      "0 0 1\n",
      "\n",
      "       IndexToPointMatrix: \n",
      "41.6 0 0\n",
      "0 41.6 0\n",
      "0 0 80\n",
      "\n",
      "       PointToIndexMatrix: \n",
      "0.0240385 0 0\n",
      "0 0.0240385 0\n",
      "0 0 0.0125\n",
      "\n",
      "       Inverse Direction: \n",
      "1 0 0\n",
      "0 1 0\n",
      "0 0 1\n",
      "\n",
      "       PixelContainer: \n",
      "         ImportImageContainer (0x563428659b10)\n",
      "           RTTI typeinfo:   itk::ImportImageContainer<unsigned long, itk::Vector<double, 3u> >\n",
      "           Reference Count: 1\n",
      "           Modified Time: 15318112\n",
      "           Debug: Off\n",
      "           Object Name: \n",
      "           Observers: \n",
      "             none\n",
      "           Pointer: 0x7f218150b010\n",
      "           Container manages memory: true\n",
      "           Size: 10314500\n",
      "           Capacity: 10314500\n",
      "   InverseDisplacementField: (null)\n",
      "   Interpolator: \n",
      "     VectorLinearInterpolateImageFunction (0x5634284722a0)\n",
      "       RTTI typeinfo:   itk::VectorLinearInterpolateImageFunction<itk::Image<itk::Vector<double, 3u>, 3u>, double>\n",
      "       Reference Count: 1\n",
      "       Modified Time: 15318103\n",
      "       Debug: Off\n",
      "       Object Name: \n",
      "       Observers: \n",
      "         none\n",
      "       InputImage: 0x563428495190\n",
      "       StartIndex: [0, 0, 0]\n",
      "       EndIndex: [420, 249, 97]\n",
      "       StartContinuousIndex: [-0.5, -0.5, -0.5]\n",
      "       EndContinuousIndex: [420.5, 249.5, 97.5]\n",
      "   InverseInterpolator: \n",
      "     VectorLinearInterpolateImageFunction (0x5634280337e0)\n",
      "       RTTI typeinfo:   itk::VectorLinearInterpolateImageFunction<itk::Image<itk::Vector<double, 3u>, 3u>, double>\n",
      "       Reference Count: 1\n",
      "       Modified Time: 15318104\n",
      "       Debug: Off\n",
      "       Object Name: \n",
      "       Observers: \n",
      "         none\n",
      "       InputImage: 0\n",
      "       StartIndex: [0, 0, 0]\n",
      "       EndIndex: [0, 0, 0]\n",
      "       StartContinuousIndex: [0, 0, 0]\n",
      "       EndContinuousIndex: [0, 0, 0]\n",
      "   DisplacementFieldSetTime: 15318113\n",
      "   m_IdentityJacobian: [1, 0, 0]\n",
      "[0, 1, 0]\n",
      "[0, 0, 1]\n",
      "\n",
      "    CoordinateTolerance: 1e-06\n",
      "    DirectionTolerance: 1e-06\n",
      "   Gaussian smoothing parameters: \n",
      "   m_GaussianSmoothingVarianceForTheUpdateField: 3\n",
      "   m_GaussianSmoothingVarianceForTheTotalField: 0.5\n",
      "\n"
     ]
    }
   ],
   "source": [
    "print(reloaded_demons_transform)"
   ]
  }
 ],
 "metadata": {
  "kernelspec": {
   "display_name": "Python 3",
   "language": "python",
   "name": "python3"
  },
  "language_info": {
   "codemirror_mode": {
    "name": "ipython",
    "version": 3
   },
   "file_extension": ".py",
   "mimetype": "text/x-python",
   "name": "python",
   "nbconvert_exporter": "python",
   "pygments_lexer": "ipython3",
   "version": "3.9.4"
  }
 },
 "nbformat": 4,
 "nbformat_minor": 5
}
