{
 "cells": [
  {
   "cell_type": "code",
   "execution_count": null,
   "metadata": {},
   "outputs": [],
   "source": [
    "import numpy as np\n",
    "import os, sys\n",
    "from skimage import io\n",
    "import matplotlib\n",
    "from pprint import pprint\n",
    "from matplotlib import pyplot as plt\n",
    "from tqdm import tqdm\n",
    "import cv2\n",
    "import neuroglancer\n",
    "from PIL import Image\n",
    "from scipy.ndimage import zoom"
   ]
  },
  {
   "cell_type": "code",
   "execution_count": null,
   "metadata": {},
   "outputs": [],
   "source": [
    "ROOT = '/net/birdstore/Active_Atlas_Data/data_root'\n",
    "reg_path = 'brains_info/registration'\n",
    "allen25um_path = os.path.join(ROOT, reg_path, 'Allen_25um_sagittal.tif') \n",
    "allen25um = io.imread(allen25um_path)\n",
    "print('z,y,x', allen25um.shape, allen25um.dtype)"
   ]
  },
  {
   "cell_type": "code",
   "execution_count": null,
   "metadata": {},
   "outputs": [],
   "source": [
    "filepath = os.path.join(ROOT, 'pipeline_data/DK37/preps/C1/thumbnail_aligned')\n",
    "files = sorted(os.listdir(filepath))\n",
    "lfiles = len(files)\n",
    "midpoint = (lfiles // 2)  - 0\n",
    "midfile = files[midpoint]\n",
    "print(midpoint, lfiles, midfile)\n",
    "midfilepath = os.path.join(filepath, midfile)\n",
    "DK37_mid_arr = io.imread(midfilepath)\n",
    "print(DK37_mid_arr.shape)"
   ]
  },
  {
   "cell_type": "code",
   "execution_count": null,
   "metadata": {},
   "outputs": [],
   "source": [
    "# only works when lfiles is odd\n",
    "print('midpoint', midpoint)\n",
    "print('#files', lfiles)\n",
    "below = range(0,midpoint)\n",
    "above = range(midpoint + 1, lfiles)"
   ]
  },
  {
   "cell_type": "code",
   "execution_count": null,
   "metadata": {},
   "outputs": [],
   "source": [
    "midz = allen25um.shape[0] // 2\n",
    "mid_arr = allen25um[midz, ...]\n",
    "print(mid_arr.shape, mid_arr.dtype, midz) "
   ]
  },
  {
   "cell_type": "code",
   "execution_count": null,
   "metadata": {},
   "outputs": [],
   "source": [
    "f, (ax1, ax2) = plt.subplots(1, 2, sharey=False)\n",
    "ax1.imshow(mid_arr, cmap=\"gray\")\n",
    "ax1.set_title('Allen')\n",
    "ax2.imshow(DK37_mid_arr, cmap=\"gray\")\n",
    "ax2.set_title(f'DK37 {midpoint}')"
   ]
  },
  {
   "cell_type": "code",
   "execution_count": null,
   "metadata": {},
   "outputs": [],
   "source": [
    "plt.style.use('classic')\n",
    "plt.title(f'Allen {mid_arr.shape}')\n",
    "plt.imshow(mid_arr, cmap=\"gray\")\n",
    "plt.show()"
   ]
  },
  {
   "cell_type": "code",
   "execution_count": null,
   "metadata": {},
   "outputs": [],
   "source": [
    "DK_resolution = 10.4\n",
    "allen_resolution = 25\n",
    "change = allen_resolution / DK_resolution\n",
    "changes = (change, change)\n",
    "DKscaled_allen = zoom(mid_arr, changes)\n",
    "print(DKscaled_allen.shape, DKscaled_allen.dtype)"
   ]
  },
  {
   "cell_type": "code",
   "execution_count": null,
   "metadata": {},
   "outputs": [],
   "source": [
    "print(volume.shape, volume.dtype, np.amin(volume), np.amax(volume), np.mean(volume))"
   ]
  },
  {
   "cell_type": "code",
   "execution_count": null,
   "metadata": {},
   "outputs": [],
   "source": [
    "#arr = np.rot90(arr, 3)\n",
    "midsection = volume.shape[2] // 2 \n",
    "n = 4\n",
    "start = midsection - n\n",
    "end = midsection + n\n",
    "plt.style.use('classic')\n",
    "for i in range(start, end,1):\n",
    "    img = volume[:,:,i]\n",
    "    img[img > 0] = 255\n",
    "    print(img.dtype, img.shape)\n",
    "    #img = np.rot90(img, 3)\n",
    "    #img = np.flip(img, axis=1)\n",
    "    plt.title('Z {}'.format(i))\n",
    "    plt.imshow(img, cmap=\"gray\")\n",
    "    plt.show()"
   ]
  },
  {
   "cell_type": "code",
   "execution_count": null,
   "metadata": {},
   "outputs": [],
   "source": [
    "boundary_outpath = os.path.join(ROOT, animal, 'preps/CH1/boundary')\n",
    "os.makedirs(boundary_outpath, exist_ok=True)\n",
    "arr = volume.copy()\n",
    "endsection = arr.shape[2]   \n",
    "for i in tqdm(range(0, endsection, 1)):\n",
    "    img = arr[:,:,i]\n",
    "    img[img > 0] = 255\n",
    "    f = str(i).zfill(3) + '.tif'\n",
    "    outpath = os.path.join(boundary_outpath, f)\n",
    "    cv2.imwrite(outpath, img)\n",
    "    \n"
   ]
  },
  {
   "cell_type": "code",
   "execution_count": null,
   "metadata": {},
   "outputs": [],
   "source": [
    "sagittal_arr = sagittal_arr.astype(np.uint8)\n",
    "print(sagittal_arr.shape, sagittal_arr.dtype)\n",
    "midsection = sagittal_arr.shape[2] // 2 \n",
    "n = 2\n",
    "start = midsection - n\n",
    "end = midsection + n\n",
    "plt.style.use('classic')\n",
    "for i in range(start, end,1):\n",
    "    img = sagittal_arr[:,:,i]\n",
    "    plt.title('Z {}'.format(i))\n",
    "    plt.imshow(img, cmap=\"gray\")\n",
    "    plt.show()"
   ]
  },
  {
   "cell_type": "code",
   "execution_count": null,
   "metadata": {},
   "outputs": [],
   "source": [
    "sagittal_np_path = os.path.join(ROOT, animal, 'preps/CH1/brainreg_allen', 'sagittal_boundary')\n",
    "np.save(sagittal_np_path, sagittal_arr)"
   ]
  },
  {
   "cell_type": "code",
   "execution_count": null,
   "metadata": {},
   "outputs": [],
   "source": [
    "change_y = mid_arr.shape[0] / sagittal_arr.shape[0]\n",
    "change_x = mid_arr.shape[1] / sagittal_arr.shape[1]\n",
    "change_z = z / sagittal_arr.shape[2]\n",
    "print(change_y, change_x, change_z)"
   ]
  },
  {
   "cell_type": "code",
   "execution_count": null,
   "metadata": {},
   "outputs": [],
   "source": [
    "zatlas = zoom(sagittal_arr, (change_y, change_x, change_z))\n",
    "print('zatlas',zatlas.shape)\n",
    "print('volume', mid_arr.shape, z)"
   ]
  },
  {
   "cell_type": "code",
   "execution_count": null,
   "metadata": {},
   "outputs": [],
   "source": [
    "dimensions = neuroglancer.CoordinateSpace(\n",
    "    names=['x', 'y', 'z'],\n",
    "    units='um',\n",
    "    scales=[10.4, 10.4, 20])\n",
    "\n",
    "viewer = neuroglancer.Viewer()\n",
    "with viewer.txn() as s:\n",
    "    s.dimensions = dimensions\n",
    "    s.layers['Altas'] = neuroglancer.ImageLayer(\n",
    "        source=neuroglancer.LocalVolume(\n",
    "            data=volume,\n",
    "            dimensions=dimensions,\n",
    "            voxel_offset=(0, 0, 0),\n",
    "        ),\n",
    "        shader=\"\"\"\n",
    "#uicontrol invlerp normalized\n",
    "\n",
    "void main() {\n",
    "    float pix =  normalized();\n",
    "  \t  emitGrayscale(pix) ;\n",
    "}\n",
    "\"\"\")\n",
    "print(viewer)"
   ]
  },
  {
   "cell_type": "code",
   "execution_count": null,
   "metadata": {},
   "outputs": [],
   "source": [
    "OUTPATH = os.path.join(HOME, 'work','tifs')\n",
    "arr = volume.copy()\n",
    "arr = np.rot90(arr, 3)\n",
    "start = 0\n",
    "end = arr.shape[2]\n",
    "for i in range(start, end,1):\n",
    "    outfile = str(i).zfill(3) + '.tif'\n",
    "    outpath = os.path.join(OUTPATH, outfile)\n",
    "    cv2.imwrite(outpath, arr[:,:,i])"
   ]
  }
 ],
 "metadata": {
  "kernelspec": {
   "display_name": "Python 3",
   "language": "python",
   "name": "python3"
  },
  "language_info": {
   "codemirror_mode": {
    "name": "ipython",
    "version": 3
   },
   "file_extension": ".py",
   "mimetype": "text/x-python",
   "name": "python",
   "nbconvert_exporter": "python",
   "pygments_lexer": "ipython3",
   "version": "3.10.12"
  },
  "vscode": {
   "interpreter": {
    "hash": "9b29855540defb355a50951874e4b3a9a33e036ed29af88ad65ef37e45f70f6e"
   }
  }
 },
 "nbformat": 4,
 "nbformat_minor": 4
}
