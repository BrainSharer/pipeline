{
 "cells": [
  {
   "cell_type": "code",
   "execution_count": null,
   "metadata": {},
   "outputs": [],
   "source": [
    "import numpy as np\n",
    "import os, sys\n",
    "from skimage import io\n",
    "import tifffile\n",
    "import matplotlib\n",
    "from pprint import pprint\n",
    "from matplotlib import pyplot as plt\n",
    "from tqdm import tqdm\n",
    "import cv2\n",
    "import neuroglancer\n",
    "from PIL import Image\n",
    "from scipy.ndimage import zoom"
   ]
  },
  {
   "cell_type": "code",
   "execution_count": null,
   "metadata": {},
   "outputs": [],
   "source": [
    "input = '/net/birdstore/Active_Atlas_Data/data_root/pipeline_data/MD657/preps/tif'\n",
    "infile = '001.tif'\n",
    "filepath = os.path.join(input, infile)\n",
    "arr = tifffile.imread(filepath)\n",
    "print(arr.shape, arr.dtype, arr.ndim)"
   ]
  },
  {
   "cell_type": "code",
   "execution_count": null,
   "metadata": {},
   "outputs": [],
   "source": [
    "plt.style.use('classic')\n",
    "plt.imshow(arr, cmap=\"gray\")\n",
    "plt.show()"
   ]
  },
  {
   "cell_type": "code",
   "execution_count": null,
   "metadata": {},
   "outputs": [],
   "source": [
    "# Rescale 16-bit to 8-bit\n",
    "img_rescaled = 255 * (arr - arr.min()) / (arr.max() - arr.min())\n",
    "# Colourising image and saving it with opencv\n",
    "img = cv2.applyColorMap(img_rescaled.astype(np.uint8), cv2.COLORMAP_INFERNO)\n",
    "print(img.shape, img.dtype, img.ndim)\n",
    "cv2outpath = os.path.join(input, 'arr001.tif')\n",
    "tifffile.imwrite(cv2outpath, img, compression='LZW', bigtiff=True)\n"
   ]
  },
  {
   "cell_type": "code",
   "execution_count": null,
   "metadata": {},
   "outputs": [],
   "source": [
    "img = cv2.imread(filepath, 1)\n",
    "scale = 250\n",
    "dtype = img.dtype\n",
    "epsilon = 0.99    \n",
    "_max = np.quantile(img[img>0], epsilon)\n",
    "scaled = (img * (scale / _max)).astype(dtype) # scale the image from original values to a broader range of values\n",
    "\n",
    "print(scaled.shape, scaled.dtype, scaled.ndim)\n",
    "#cv2outpath = os.path.join(input, 'arr001.tif')\n",
    "#tifffile.imwrite(cv2outpath, img, compression='LZW', bigtiff=True)"
   ]
  },
  {
   "cell_type": "code",
   "execution_count": null,
   "metadata": {},
   "outputs": [],
   "source": [
    "plt.imshow(scaled, cmap=\"seismic\")\n",
    "plt.show()"
   ]
  },
  {
   "cell_type": "code",
   "execution_count": null,
   "metadata": {},
   "outputs": [],
   "source": [
    "animal = 'DK55'\n",
    "ROOT = '/net/birdstore/Active_Atlas_Data/data_root/pipeline_data'\n",
    "\n",
    "boundary_tiff_path = os.path.join(ROOT, animal, 'preps/CH1/brainreg_allen', 'boundaries.tiff')\n",
    "boundary_np_path = os.path.join(ROOT, animal, 'preps/CH1/brainreg_allen', 'zoomed_sagittal_boundary.npy')\n",
    "#volume = io.imread(boundary_tiff_path)\n",
    "volume = np.load(boundary_np_path)\n",
    "#downsampled_path = os.path.join(ROOT, animal, 'preps/CH1/brainreg_allen', 'downsampled.tiff')\n",
    "#downsampled_stack = io.imread(downsampled_path)\n",
    "\n",
    "#atlas_path = os.path.join(ROOT, animal, 'preps/CH1/brainreg_allen', 'registered_atlas_original_orientation.tiff')\n",
    "#atlas_stack = io.imread(atlas_path)\n",
    "print(volume.shape, volume.dtype)"
   ]
  },
  {
   "cell_type": "code",
   "execution_count": null,
   "metadata": {},
   "outputs": [],
   "source": [
    "fpath = os.path.join(ROOT, animal,  'preps/CH1/thumbnail_aligned')\n",
    "files = os.listdir(fpath)\n",
    "z = len(files)\n",
    "midfile = str(z // 2).zfill(3) + \".tif\"\n",
    "midfilepath = os.path.join(ROOT, animal,  f'preps/CH1/thumbnail_aligned/{midfile}')\n",
    "mid_arr = io.imread(midfilepath)\n",
    "print(midfile,mid_arr.shape, z) "
   ]
  },
  {
   "cell_type": "code",
   "execution_count": null,
   "metadata": {},
   "outputs": [],
   "source": [
    "print(volume.shape, volume.dtype, np.amin(volume), np.amax(volume), np.mean(volume))"
   ]
  },
  {
   "cell_type": "code",
   "execution_count": null,
   "metadata": {},
   "outputs": [],
   "source": [
    "#arr = np.rot90(arr, 3)\n",
    "midsection = volume.shape[2] // 2 \n",
    "n = 4\n",
    "start = midsection - n\n",
    "end = midsection + n\n",
    "plt.style.use('classic')\n",
    "for i in range(start, end,1):\n",
    "    img = volume[:,:,i]\n",
    "    img[img > 0] = 255\n",
    "    print(img.dtype, img.shape)\n",
    "    #img = np.rot90(img, 3)\n",
    "    #img = np.flip(img, axis=1)\n",
    "    plt.title('Z {}'.format(i))\n",
    "    plt.imshow(img, cmap=\"gray\")\n",
    "    plt.show()"
   ]
  },
  {
   "cell_type": "code",
   "execution_count": null,
   "metadata": {},
   "outputs": [],
   "source": [
    "boundary_outpath = os.path.join(ROOT, animal, 'preps/CH1/boundary')\n",
    "os.makedirs(boundary_outpath, exist_ok=True)\n",
    "arr = volume.copy()\n",
    "endsection = arr.shape[2]   \n",
    "for i in tqdm(range(0, endsection, 1)):\n",
    "    img = arr[:,:,i]\n",
    "    img[img > 0] = 255\n",
    "    f = str(i).zfill(3) + '.tif'\n",
    "    outpath = os.path.join(boundary_outpath, f)\n",
    "    cv2.imwrite(outpath, img)\n",
    "    \n"
   ]
  },
  {
   "cell_type": "code",
   "execution_count": null,
   "metadata": {},
   "outputs": [],
   "source": [
    "sagittal_arr = sagittal_arr.astype(np.uint8)\n",
    "print(sagittal_arr.shape, sagittal_arr.dtype)\n",
    "midsection = sagittal_arr.shape[2] // 2 \n",
    "n = 2\n",
    "start = midsection - n\n",
    "end = midsection + n\n",
    "plt.style.use('classic')\n",
    "for i in range(start, end,1):\n",
    "    img = sagittal_arr[:,:,i]\n",
    "    plt.title('Z {}'.format(i))\n",
    "    plt.imshow(img, cmap=\"gray\")\n",
    "    plt.show()"
   ]
  },
  {
   "cell_type": "code",
   "execution_count": null,
   "metadata": {},
   "outputs": [],
   "source": [
    "sagittal_np_path = os.path.join(ROOT, animal, 'preps/CH1/brainreg_allen', 'sagittal_boundary')\n",
    "np.save(sagittal_np_path, sagittal_arr)"
   ]
  },
  {
   "cell_type": "code",
   "execution_count": null,
   "metadata": {},
   "outputs": [],
   "source": [
    "change_y = mid_arr.shape[0] / sagittal_arr.shape[0]\n",
    "change_x = mid_arr.shape[1] / sagittal_arr.shape[1]\n",
    "change_z = z / sagittal_arr.shape[2]\n",
    "print(change_y, change_x, change_z)"
   ]
  },
  {
   "cell_type": "code",
   "execution_count": null,
   "metadata": {},
   "outputs": [],
   "source": [
    "zatlas = zoom(sagittal_arr, (change_y, change_x, change_z))\n",
    "print('zatlas',zatlas.shape)\n",
    "print('volume', mid_arr.shape, z)"
   ]
  },
  {
   "cell_type": "code",
   "execution_count": null,
   "metadata": {},
   "outputs": [],
   "source": [
    "dimensions = neuroglancer.CoordinateSpace(\n",
    "    names=['x', 'y', 'z'],\n",
    "    units='um',\n",
    "    scales=[10.4, 10.4, 20])\n",
    "\n",
    "viewer = neuroglancer.Viewer()\n",
    "with viewer.txn() as s:\n",
    "    s.dimensions = dimensions\n",
    "    s.layers['Altas'] = neuroglancer.ImageLayer(\n",
    "        source=neuroglancer.LocalVolume(\n",
    "            data=volume,\n",
    "            dimensions=dimensions,\n",
    "            voxel_offset=(0, 0, 0),\n",
    "        ),\n",
    "        shader=\"\"\"\n",
    "#uicontrol invlerp normalized\n",
    "\n",
    "void main() {\n",
    "    float pix =  normalized();\n",
    "  \t  emitGrayscale(pix) ;\n",
    "}\n",
    "\"\"\")\n",
    "print(viewer)"
   ]
  },
  {
   "cell_type": "code",
   "execution_count": null,
   "metadata": {},
   "outputs": [],
   "source": [
    "OUTPATH = os.path.join(HOME, 'work','tifs')\n",
    "arr = volume.copy()\n",
    "arr = np.rot90(arr, 3)\n",
    "start = 0\n",
    "end = arr.shape[2]\n",
    "for i in range(start, end,1):\n",
    "    outfile = str(i).zfill(3) + '.tif'\n",
    "    outpath = os.path.join(OUTPATH, outfile)\n",
    "    cv2.imwrite(outpath, arr[:,:,i])"
   ]
  }
 ],
 "metadata": {
  "kernelspec": {
   "display_name": "Python 3 (ipykernel)",
   "language": "python",
   "name": "python3"
  },
  "language_info": {
   "codemirror_mode": {
    "name": "ipython",
    "version": 3
   },
   "file_extension": ".py",
   "mimetype": "text/x-python",
   "name": "python",
   "nbconvert_exporter": "python",
   "pygments_lexer": "ipython3",
   "version": "3.10.12"
  },
  "vscode": {
   "interpreter": {
    "hash": "9b29855540defb355a50951874e4b3a9a33e036ed29af88ad65ef37e45f70f6e"
   }
  }
 },
 "nbformat": 4,
 "nbformat_minor": 4
}
