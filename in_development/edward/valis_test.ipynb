{
 "cells": [
  {
   "cell_type": "code",
   "execution_count": null,
   "id": "956d2244-4820-4f02-90e2-5314f5de811a",
   "metadata": {},
   "outputs": [],
   "source": [
    "import os\n",
    "import time\n",
    "import numpy as np\n",
    "from valis import registration\n",
    "from valis.micro_rigid_registrar import MicroRigidRegistrar # For high resolution rigid registration"
   ]
  },
  {
   "cell_type": "code",
   "execution_count": null,
   "id": "7e049670-edc6-49b8-a642-ba8830ce986e",
   "metadata": {},
   "outputs": [],
   "source": [
    "animal = 'DK37'\n",
    "os.environ[\"OPENBLAS_NUM_THREADS\"] = \"1\"\n",
    "slide_src_dir = f\"/net/birdstore/Active_Atlas_Data/data_root/pipeline_data/{animal}/preps/C1/thumbnail_cropped\"\n",
    "results_dst_dir = f\"/net/birdstore/Active_Atlas_Data/data_root/pipeline_data/{animal}/preps/C1/valis\"\n",
    "os.makedirs(results_dst_dir, exist_ok=True)\n",
    "registered_slide_dst_dir = f\"/net/birdstore/Active_Atlas_Data/data_root/pipeline_data/{animal}/preps/C1/thumbnail_registered\"\n",
    "os.makedirs(registered_slide_dst_dir, exist_ok=True)\n",
    "files = sorted(os.listdir(slide_src_dir))\n",
    "len_files = len(files)\n",
    "midpoint = len_files // 2\n",
    "midfile = files[midpoint]\n",
    "ordered_img_list = []\n",
    "for file in files:\n",
    "    filepath = os.path.join(slide_src_dir, file)\n",
    "    ordered_img_list.append(filepath)\n",
    "\n",
    "reference_slide = os.path.join(slide_src_dir, midfile)"
   ]
  },
  {
   "cell_type": "code",
   "execution_count": null,
   "id": "2216a08f-f203-4ada-8f55-f23fd921fefc",
   "metadata": {},
   "outputs": [],
   "source": [
    "# Create a Valis object and use it to register the slides in slide_src_dir, aligning *towards* the reference slide.\n",
    "registrar = registration.Valis(\n",
    "    slide_src_dir,\n",
    "    results_dst_dir,\n",
    "    img_list=ordered_img_list,\n",
    "    imgs_ordered=True,\n",
    "    image_type=\"fluorescence\",\n",
    "    non_rigid_registrar_cls=None,\n",
    "    resolution_xyu=(10.4, 10.4, u'\\u00B5m'),\n",
    "    max_processed_image_dim_px=1765,\n",
    "    max_image_dim_px=1765,\n",
    ")"
   ]
  },
  {
   "cell_type": "code",
   "execution_count": null,
   "id": "137c70de-22e7-43b5-8623-f6a5f19b30a9",
   "metadata": {},
   "outputs": [],
   "source": [
    "rigid_registrar, non_rigid_registrar, error_df = registrar.register()"
   ]
  }
 ],
 "metadata": {
  "kernelspec": {
   "display_name": "Python 3 (ipykernel)",
   "language": "python",
   "name": "python3"
  },
  "language_info": {
   "codemirror_mode": {
    "name": "ipython",
    "version": 3
   },
   "file_extension": ".py",
   "mimetype": "text/x-python",
   "name": "python",
   "nbconvert_exporter": "python",
   "pygments_lexer": "ipython3",
   "version": "3.10.12"
  }
 },
 "nbformat": 4,
 "nbformat_minor": 5
}
