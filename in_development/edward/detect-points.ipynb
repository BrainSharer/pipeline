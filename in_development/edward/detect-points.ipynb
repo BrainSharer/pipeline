{
 "cells": [
  {
   "cell_type": "code",
   "execution_count": null,
   "id": "4892eb0d",
   "metadata": {},
   "outputs": [],
   "source": [
    "import cv2\n",
    "import os\n",
    "import numpy as np\n",
    "from skimage import io\n",
    "from matplotlib import pyplot as plt\n",
    "from mpl_toolkits.axes_grid1 import ImageGrid"
   ]
  },
  {
   "cell_type": "code",
   "execution_count": null,
   "id": "2e28745d",
   "metadata": {},
   "outputs": [],
   "source": [
    "animal = 'DK78'\n",
    "DIR = f'/net/birdstore/Active_Atlas_Data/data_root/pipeline_data/{animal}/preps'\n",
    "CLEANED = os.path.join(DIR, 'CH1', 'thumbnail_cleaned')\n",
    "ALIGNED = os.path.join(DIR, 'CH1', 'thumbnail_aligned')"
   ]
  },
  {
   "cell_type": "code",
   "execution_count": null,
   "id": "bb9c3788",
   "metadata": {},
   "outputs": [],
   "source": [
    "DK78_184_cleaned_path = os.path.join(CLEANED, '184.tif')\n",
    "DK78_184_aligned_path = os.path.join(ALIGNED, '184.tif')\n",
    "DK78_185_cleaned_path = os.path.join(CLEANED, '185.tif')\n",
    "DK78_185_aligned_path = os.path.join(ALIGNED, '185.tif')\n",
    "\n",
    "DK78_184_cleaned_img = cv2.imread(DK78_184_cleaned_path)\n",
    "DK78_184_aligned_img = cv2.imread(DK78_184_aligned_path)\n",
    "DK78_185_cleaned_img = cv2.imread(DK78_185_cleaned_path)\n",
    "DK78_185_aligned_img = cv2.imread(DK78_185_aligned_path)"
   ]
  },
  {
   "cell_type": "code",
   "execution_count": null,
   "id": "467145ad",
   "metadata": {},
   "outputs": [],
   "source": [
    "orb = cv2.ORB_create(25)\n",
    "\n",
    "img180_1 = cv2.imread('/home/eddyod/180.tif')\n",
    "kp1 = orb.detect(img180_1,None)\n",
    "kp1, des1 = orb.compute(img180_1, kp1)\n",
    "blankimg180 = np.zeros(img180_1.shape).astype(np.uint8)\n",
    "img180_2 = cv2.drawKeypoints(img180_1,kp1,None,color=(0,255,0), flags=0)\n",
    "\n",
    "img181_1 = cv2.imread('/home/eddyod/181.tif')\n",
    "kp2 = orb.detect(img181_1,None)\n",
    "kp2, des2 = orb.compute(img181_1, kp2)\n",
    "blankimg181 = np.zeros(img181_1.shape).astype(np.uint8)\n",
    "img181_2 = cv2.drawKeypoints(img181_1,kp2,None,color=(0,255,0), flags=0)\n",
    "#keypoints, descriptors = orb.detectAndCompute(img, None)"
   ]
  },
  {
   "cell_type": "code",
   "execution_count": null,
   "id": "f9dcb3e0",
   "metadata": {},
   "outputs": [],
   "source": [
    "blankimg180.shape"
   ]
  },
  {
   "cell_type": "code",
   "execution_count": null,
   "id": "48e4a6e7",
   "metadata": {},
   "outputs": [],
   "source": [
    "bimg180 = cv2.drawKeypoints(blankimg180, kp1,None,color=(0,255,0), flags=0)\n",
    "bimg181 = cv2.drawKeypoints(blankimg181, kp2,None,color=(0,255,0), flags=0)"
   ]
  },
  {
   "cell_type": "code",
   "execution_count": null,
   "id": "3547ff61",
   "metadata": {},
   "outputs": [],
   "source": [
    "fig = plt.figure(figsize=(14., 14.))\n",
    "grid = ImageGrid(fig, 111,  # similar to subplot(111)\n",
    "                 nrows_ncols=(2, 2),  # creates 2x2 grid of axes\n",
    "                 axes_pad=0.5,  # pad between axes in inch.\n",
    "                 )\n",
    "for ax, im, title in zip(grid, [DK78_184_cleaned_img, DK78_184_aligned_img, \n",
    "                        DK78_185_cleaned_img, DK78_185_aligned_img],\n",
    "                        ['184 unaligned', '184 aligned', '185 unaligned','185 aligned']):\n",
    "    # Iterating over the grid returns the Axes.\n",
    "    ax.set_title('Section {0} '.format(title))\n",
    "    ax.imshow(im)\n",
    "\n",
    "plt.show()"
   ]
  }
 ],
 "metadata": {
  "kernelspec": {
   "display_name": "Python 3 (ipykernel)",
   "language": "python",
   "name": "python3"
  },
  "language_info": {
   "codemirror_mode": {
    "name": "ipython",
    "version": 3
   },
   "file_extension": ".py",
   "mimetype": "text/x-python",
   "name": "python",
   "nbconvert_exporter": "python",
   "pygments_lexer": "ipython3",
   "version": "3.10.12"
  }
 },
 "nbformat": 4,
 "nbformat_minor": 5
}
