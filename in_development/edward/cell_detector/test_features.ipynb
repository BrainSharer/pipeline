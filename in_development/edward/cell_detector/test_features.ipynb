{
 "cells": [
  {
   "cell_type": "code",
   "execution_count": 5,
   "metadata": {},
   "outputs": [
    {
     "name": "stdout",
     "output_type": "stream",
     "text": [
      "/home/eddyod/programming/pipeline\n"
     ]
    }
   ],
   "source": [
    "import pandas as pd\n",
    "import numpy as np\n",
    "import matplotlib\n",
    "from matplotlib import pyplot as plt\n",
    "import os\n",
    "import cv2\n",
    "import sys\n",
    "import math\n",
    "from pathlib import Path\n",
    "from compress_pickle import dump, load\n",
    "\n",
    "PIPELINE_ROOT = Path('./').resolve().parent.parent.parent\n",
    "sys.path.append(PIPELINE_ROOT.as_posix())\n",
    "print(PIPELINE_ROOT)\n",
    "\n",
    "from src.library.utilities.utilities_process import read_image, write_image\n",
    "from src.library.cell_labeling.cell_utilities import calculate_correlation_and_energy, find_connected_segments, load_image, subtract_blurred_image\n",
    "\n"
   ]
  },
  {
   "cell_type": "code",
   "execution_count": 6,
   "metadata": {},
   "outputs": [],
   "source": [
    "def show_image(img, increaser=1, _title=\"\", fsize=[15,15]):\n",
    "    plt.figure(figsize=[15,15])\n",
    "    plt.imshow(img * increaser, cmap=\"gray\")\n",
    "    plt.title(_title,fontsize=20)\n",
    "    plt.tick_params(axis='x', labelsize=20)\n",
    "    plt.tick_params(axis='y', labelsize=20)\n",
    "    plt.show()\n",
    "\n",
    "def collect_positives(uimg, startr, startc, tile_width, tile_height):\n",
    "    img=np.copy(uimg)\n",
    "    positives=[]\n",
    "    radius = 80\n",
    "    a=int(radius/2)\n",
    "    color = (65000)\n",
    "    min_row,min_col = startr, startc\n",
    "    for index,r in df.iterrows():\n",
    "        colr = r['x']\n",
    "        rowr = r['y']\n",
    "        col = int(round(r['x'])-min_col)\n",
    "        row = int(round(r['y'])-min_row)\n",
    "        if (col<0) or (col>tile_width) or (row<0) or (row>tile_height):\n",
    "            continue\n",
    "        img=cv2.circle(img, (int(col), int(row)), radius, color, 20)\n",
    "        I=uimg[row-a:row+a,col-a:col+a]\n",
    "        if I.shape==(radius,radius):\n",
    "            positives.append((col,row,I, colr, rowr))\n",
    "\n",
    "    return img,positives\n",
    "\n",
    "def calc_moments_of_mask(mask):   \n",
    "    mask = mask.astype(np.float32)\n",
    "    moments = cv2.moments(mask)\n",
    "\n",
    "    huMoments = cv2.HuMoments(moments)\n",
    "    moments = append_string_to_every_key(moments, f'_mask')\n",
    "    return (moments, {'h%d'%i+f'_mask':huMoments[i,0]  for i in range(7)}) #return first 7 Hu moments e.g. h1_mask\n",
    "\n",
    "def mask_mean(mask,image):\n",
    "    ids, counts = np.unique(mask, return_counts=True)\n",
    "    print(ids, len(ids))\n",
    "    print(mask.dtype)\n",
    "    mean_in=np.mean(image[mask==1])\n",
    "    print(f'mean_in {mean_in}')\n",
    "    mean_all=np.mean(image.flatten())\n",
    "    return (mean_in-mean_all)/(mean_in+mean_all)    # calculate the contrast: mean\n",
    "\n",
    "def append_string_to_every_key(dictionary, post_fix): \n",
    "    return dict(zip([keyi + post_fix for keyi in dictionary.keys()],dictionary.values()))\n",
    "\n",
    "def features_using_center_connected_components(cell_candidate_data):   \n",
    "    '''Part of step 3. calculate cell features'''\n",
    "\n",
    "    mask = cell_candidate_data['mask']  \n",
    "\n",
    "    moments_data = calc_moments_of_mask(mask)\n",
    "\n",
    "    # Calculate constrasts relative to mask\n",
    "    ch1_contrast = mask_mean(mask, cell_candidate_data['image_CH1'])\n",
    "    ch3_constrast = mask_mean(mask, cell_candidate_data['image_CH3'])\n",
    "\n",
    "    return ch1_contrast, ch3_constrast, moments_data\n"
   ]
  },
  {
   "cell_type": "code",
   "execution_count": 7,
   "metadata": {},
   "outputs": [],
   "source": [
    "animal = 'DK184'\n",
    "section = 0\n",
    "channel = 3\n",
    "prep_path = f'/net/birdstore/Active_Atlas_Data/data_root/pipeline_data/{animal}/preps'"
   ]
  },
  {
   "cell_type": "code",
   "execution_count": 8,
   "metadata": {},
   "outputs": [
    {
     "data": {
      "text/plain": [
       "(25000, 30000)"
      ]
     },
     "execution_count": 8,
     "metadata": {},
     "output_type": "execute_result"
    }
   ],
   "source": [
    "tif = str(section).zfill(3) + \".tif\"\n",
    "filepath = os.path.join(prep_path, f'C{channel}/full_aligned', tif)\n",
    "full_img = read_image(filepath)\n",
    "full_img.shape"
   ]
  },
  {
   "cell_type": "code",
   "execution_count": 9,
   "metadata": {},
   "outputs": [
    {
     "data": {
      "text/html": [
       "<div>\n",
       "<style scoped>\n",
       "    .dataframe tbody tr th:only-of-type {\n",
       "        vertical-align: middle;\n",
       "    }\n",
       "\n",
       "    .dataframe tbody tr th {\n",
       "        vertical-align: top;\n",
       "    }\n",
       "\n",
       "    .dataframe thead th {\n",
       "        text-align: right;\n",
       "    }\n",
       "</style>\n",
       "<table border=\"1\" class=\"dataframe\">\n",
       "  <thead>\n",
       "    <tr style=\"text-align: right;\">\n",
       "      <th></th>\n",
       "      <th>x</th>\n",
       "      <th>y</th>\n",
       "      <th>section</th>\n",
       "    </tr>\n",
       "  </thead>\n",
       "  <tbody>\n",
       "    <tr>\n",
       "      <th>0</th>\n",
       "      <td>26346.0</td>\n",
       "      <td>5718.0</td>\n",
       "      <td>0</td>\n",
       "    </tr>\n",
       "  </tbody>\n",
       "</table>\n",
       "</div>"
      ],
      "text/plain": [
       "         x       y  section\n",
       "0  26346.0  5718.0        0"
      ]
     },
     "execution_count": 9,
     "metadata": {},
     "output_type": "execute_result"
    }
   ],
   "source": [
    "dfpath = os.path.join(prep_path, 'cell_labels', 'all_predictions.csv')\n",
    "df = pd.read_csv(dfpath)\n",
    "df = df.loc[df['section'] == section]\n",
    "df = df.sort_values(['section', 'y', 'x'])\n",
    "df.head()"
   ]
  },
  {
   "cell_type": "code",
   "execution_count": 10,
   "metadata": {},
   "outputs": [
    {
     "name": "stdout",
     "output_type": "stream",
     "text": [
      "0 25000 0 30000\n"
     ]
    }
   ],
   "source": [
    "#startc = int(round(min(df['x']), -3)) - 1000\n",
    "#startr = int(round(min(df['y']), -3)) - 1000\n",
    "#endc = math.ceil(max(df['x'])) + 100\n",
    "#endr = math.ceil(max(df['y'])) + 100\n",
    "# manually set to ROI\n",
    "startr = 0\n",
    "endr = startr + full_img.shape[0]\n",
    "startc = 0\n",
    "endc = startc + full_img.shape[1]\n",
    "print(startr, endr, startc, endc)"
   ]
  },
  {
   "cell_type": "code",
   "execution_count": 11,
   "metadata": {},
   "outputs": [
    {
     "name": "stdout",
     "output_type": "stream",
     "text": [
      "0:25000, 0:30000\n",
      "(25000, 30000)\n",
      "tile_width=30000 tile_height=25000\n"
     ]
    }
   ],
   "source": [
    "tile_width = endc - startc\n",
    "tile_height = endr - startr\n",
    "img = full_img[startr:endr, startc:endc]\n",
    "print(f'{startr}:{endr}, {startc}:{endc}')\n",
    "print(img.shape)\n",
    "print(f'{tile_width=} {tile_height=}')\n",
    "#img.shape # (6800, 30000)"
   ]
  },
  {
   "cell_type": "code",
   "execution_count": 12,
   "metadata": {},
   "outputs": [
    {
     "name": "stdout",
     "output_type": "stream",
     "text": [
      "1\n"
     ]
    }
   ],
   "source": [
    "annotated_img, positives = collect_positives(full_img, startr, startc, tile_width, tile_height)\n",
    "print(len(positives))"
   ]
  },
  {
   "cell_type": "code",
   "execution_count": 13,
   "metadata": {},
   "outputs": [
    {
     "name": "stdout",
     "output_type": "stream",
     "text": [
      "data_virus.shape=(25000, 30000) data_dye.shape=(25000, 30000)\n"
     ]
    }
   ],
   "source": [
    "tif = str(section).zfill(3) + \".tif\"\n",
    "filepath = os.path.join(prep_path, f'C{channel}/full_aligned', tif)\n",
    "input_file_virus_path = os.path.join(prep_path, 'C3/full_aligned', tif)  \n",
    "input_file_dye_path = os.path.join(prep_path, 'C1/full_aligned', tif)  \n",
    "data_virus = read_image(input_file_virus_path)\n",
    "data_dye = read_image(input_file_dye_path)\n",
    "print(f'{data_virus.shape=} {data_dye.shape=}')"
   ]
  },
  {
   "cell_type": "code",
   "execution_count": 14,
   "metadata": {},
   "outputs": [
    {
     "name": "stdout",
     "output_type": "stream",
     "text": [
      "(80, 80)\n"
     ]
    }
   ],
   "source": [
    "avg_cell_img_file_path = '/net/birdstore/Active_Atlas_Data/cell_segmentation/models/average_cell_image.pkl'\n",
    "avg_cell_img = load(avg_cell_img_file_path) #Load average cell image once\n",
    "avg_cell_CH1 = avg_cell_img['CH1']\n",
    "avg_cell_CH3 = avg_cell_img['CH3']\n",
    "\n",
    "print(avg_cell_CH1.shape)"
   ]
  },
  {
   "cell_type": "code",
   "execution_count": 15,
   "metadata": {},
   "outputs": [
    {
     "name": "stdout",
     "output_type": "stream",
     "text": [
      "processing coordinates col=5718, row=26346, section=0\n",
      "startr=26306 endr=26386 startc=5678 endc=5758\n"
     ]
    }
   ],
   "source": [
    "cell = 0\n",
    "col = positives[cell][1]\n",
    "row = positives[cell][0]\n",
    "control_img = positives[cell][2]\n",
    "section = 0\n",
    "print(f'processing coordinates {col=}, {row=}, {section=}')\n",
    "idx = 0\n",
    "\n",
    "startc = col - 40\n",
    "endc = startc + 80\n",
    "startr = row - 40\n",
    "endr = startr + 80\n",
    "row_start = startr\n",
    "row_end = endr\n",
    "col_start = startc\n",
    "col_end = endc\n",
    "\n",
    "print(f'{startr=} {endr=} {startc=} {endc=}')"
   ]
  },
  {
   "cell_type": "code",
   "execution_count": 16,
   "metadata": {},
   "outputs": [
    {
     "name": "stdout",
     "output_type": "stream",
     "text": [
      "shape of image_roi_virus (80, 80) and shape of data_virus (80, 80)\n"
     ]
    }
   ],
   "source": [
    "image_roi_virus = data_virus[startc:endc, startr:endr] #image_roi IS numpy array\n",
    "image_roi_dye = data_dye[startc:endc, startr:endr] #image_roi IS numpy array\n",
    "print(f'shape of image_roi_virus {image_roi_virus.shape} and shape of data_virus {image_roi_dye.shape}')\n",
    "absolute_coordinates = (startc, endc, startr, endr)\n",
    "difference_ch1 = subtract_blurred_image(image_roi_dye, make_smaller=False) #calculate img difference for virus channel (e.g. fluorescence)\n",
    "difference_ch3 = subtract_blurred_image(image_roi_virus, make_smaller=False) #calculate img difference for virus channel (e.g. fluorescence)\n"
   ]
  },
  {
   "cell_type": "code",
   "execution_count": 17,
   "metadata": {},
   "outputs": [
    {
     "name": "stdout",
     "output_type": "stream",
     "text": [
      "shape of data_dye (25000, 30000)\n",
      "row=26346 col=5718 startr=26306 endr=26386 startc=5678 endc=5758\n"
     ]
    },
    {
     "data": {
      "text/plain": [
       "<matplotlib.image.AxesImage at 0x70e54ef4b0a0>"
      ]
     },
     "execution_count": 17,
     "metadata": {},
     "output_type": "execute_result"
    },
    {
     "data": {
      "image/png": "[encoded data removed]",
      "text/plain": [
       "<Figure size 640x480 with 4 Axes>"
      ]
     },
     "metadata": {},
     "output_type": "display_data"
    }
   ],
   "source": [
    "print(f'shape of data_dye {data_dye.shape}')\n",
    "print(f'{row=} {col=} {startr=} {endr=} {startc=} {endc=}')\n",
    "f, axarr = plt.subplots(2,2)\n",
    "axarr[0,0].imshow(image_roi_virus, cmap=\"gray\")\n",
    "axarr[0,1].imshow(control_img, cmap=\"gray\")\n",
    "axarr[1,0].imshow(avg_cell_CH1, cmap=\"gray\")\n",
    "axarr[1,1].imshow(difference_ch1, cmap=\"gray\")\n"
   ]
  },
  {
   "cell_type": "code",
   "execution_count": 18,
   "metadata": {},
   "outputs": [
    {
     "name": "stdout",
     "output_type": "stream",
     "text": [
      "shape of segmentmasks (80, 80)\n",
      "[0 1 2]\n",
      "[2249 4150    1]\n",
      "int32\n"
     ]
    }
   ],
   "source": [
    "connected_segments = find_connected_segments(image_roi_virus, 2000)\n",
    "n_segments, segment_masks, segment_stats, segment_location = (connected_segments)\n",
    "print(f'shape of segmentmasks {segment_masks.shape}')\n",
    "#segment_masks[segment_masks > 0 ] = 255\n",
    "\n",
    "ids, counts = np.unique(segment_masks, return_counts=True)\n",
    "print(ids)\n",
    "print(counts)\n",
    "print(segment_masks.dtype)"
   ]
  },
  {
   "cell_type": "code",
   "execution_count": 19,
   "metadata": {},
   "outputs": [
    {
     "name": "stdout",
     "output_type": "stream",
     "text": [
      "0 80 0 80\n",
      "0 80 0 80\n",
      "0 80 0 80\n",
      "bool\n",
      "[False  True] [6399    1]\n"
     ]
    }
   ],
   "source": [
    "cell_radius = 0\n",
    "n_segments, segment_masks, segment_stats, segment_location = (connected_segments)\n",
    "for segmenti in range(n_segments):\n",
    "    _, _, width, height, object_area = segment_stats[segmenti, :]\n",
    "    segment_row, segment_col = segment_location[segmenti, :]\n",
    "    #print(segment_row, segment_col)\n",
    "    row_start = 0\n",
    "    col_start = 0\n",
    "    row_end = 80\n",
    "    col_end = 80\n",
    "    print(row_start, row_end, col_start, col_end)\n",
    "    segment_mask = (segment_masks[row_start:row_end, col_start:col_end] == segmenti)\n",
    "print(segment_mask.dtype)\n",
    "ids, counts = np.unique(segment_mask, return_counts=True)\n",
    "print(ids, counts)\n"
   ]
  },
  {
   "cell_type": "code",
   "execution_count": 20,
   "metadata": {},
   "outputs": [
    {
     "name": "stdout",
     "output_type": "stream",
     "text": [
      "[False  True] [2825 3575]\n",
      "detected mask dtype bool (80, 80)\n",
      "[0 1 2] [2249 4150    1]\n",
      "segment masks dtype int32 (80, 80)\n"
     ]
    },
    {
     "data": {
      "text/plain": [
       "<matplotlib.image.AxesImage at 0x70e54e80c340>"
      ]
     },
     "execution_count": 20,
     "metadata": {},
     "output_type": "execute_result"
    },
    {
     "data": {
      "image/png": "[encoded data removed]",
      "text/plain": [
       "<Figure size 640x480 with 2 Axes>"
      ]
     },
     "metadata": {},
     "output_type": "display_data"
    }
   ],
   "source": [
    "maskpath = '/net/birdstore/Active_Atlas_Data/data_root/pipeline_data/DK184/preps/mask.npy'\n",
    "detected_mask = np.load(maskpath)\n",
    "ids, counts = np.unique(detected_mask, return_counts=True)\n",
    "print(ids, counts)\n",
    "print('detected mask dtype', detected_mask.dtype, detected_mask.shape)\n",
    "#plt.imshow(mask.T, cmap=\"gray\")\n",
    "#plt.show()\n",
    "#segment_masks[segment_masks > 0] = 255\n",
    "ids, counts = np.unique(segment_masks, return_counts=True)\n",
    "print(ids, counts)\n",
    "print('segment masks dtype', segment_masks.dtype, segment_masks.shape)\n",
    "fig = plt.figure()\n",
    "ax1 = fig.add_subplot(2,2,1)\n",
    "ax1.imshow(detected_mask, cmap=\"gray\")\n",
    "ax2 = fig.add_subplot(2,2,2)\n",
    "ax2.imshow(segment_masks, cmap=\"gray\")"
   ]
  },
  {
   "cell_type": "code",
   "execution_count": 22,
   "metadata": {},
   "outputs": [
    {
     "name": "stdout",
     "output_type": "stream",
     "text": [
      "[False  True] [2825 3575]\n",
      "[0 1 2] [2249 4150    1]\n"
     ]
    }
   ],
   "source": [
    "ids, counts = np.unique(detected_mask, return_counts=True)\n",
    "print(ids, counts)\n",
    "ids, counts = np.unique(segment_masks, return_counts=True)\n",
    "print(ids, counts)"
   ]
  },
  {
   "cell_type": "code",
   "execution_count": 23,
   "metadata": {},
   "outputs": [
    {
     "name": "stdout",
     "output_type": "stream",
     "text": [
      "-0.06482243057566793 0.03444637049021868\n"
     ]
    }
   ],
   "source": [
    "ch1_corr, ch1_energy = calculate_correlation_and_energy(avg_cell_img[\"CH1\"], image_roi_dye)\n",
    "ch3_corr, ch3_energy = calculate_correlation_and_energy(avg_cell_img[\"CH3\"], image_roi_virus)\n",
    "print(ch1_corr, ch1_energy)\n"
   ]
  },
  {
   "cell_type": "code",
   "execution_count": 24,
   "metadata": {},
   "outputs": [],
   "source": [
    "cell = {\n",
    "    \"area\": 6400,\n",
    "    \"absolute_coordinates_YX\": (\n",
    "        col,\n",
    "        row,\n",
    "    ),\n",
    "    \"cell_shape_XY\": (80, 80),\n",
    "    \"image_CH3\": image_roi_dye,\n",
    "    \"image_CH1\": image_roi_virus,\n",
    "    \"mask\": segment_masks.T,\n",
    "}                                        \n",
    "\n",
    "#    \"image_CH3\": difference_ch3[row_start:row_end, col_start:col_end].T,\n",
    "#    \"image_CH1\": difference_ch1[row_start:row_end, col_start:col_end].T,\n"
   ]
  },
  {
   "cell_type": "code",
   "execution_count": 25,
   "metadata": {},
   "outputs": [
    {
     "name": "stdout",
     "output_type": "stream",
     "text": [
      "[0 1 2] 3\n",
      "int32\n",
      "mean_in 16507.90578313253\n",
      "[0 1 2] 3\n",
      "int32\n",
      "mean_in 6201.672048192771\n"
     ]
    }
   ],
   "source": [
    "ch1_contrast, ch3_constrast, moments_data = features_using_center_connected_components(cell)\n",
    "#mean_in 18694.80027972028\n",
    "#mean_in 6312.249510489511"
   ]
  },
  {
   "cell_type": "code",
   "execution_count": 26,
   "metadata": {},
   "outputs": [
    {
     "name": "stdout",
     "output_type": "stream",
     "text": [
      "animal DK184\n",
      "section 0\n",
      "index 45202\n",
      "row 26346\n",
      "col 5718\n",
      "area 6400\n",
      "height 80\n",
      "width 80\n",
      "corr_CH1 -0.06482243057566793\n",
      "energy_CH1 0.03444637049021868\n",
      "corr_CH3 1.5280408445954319\n",
      "energy_CH3 0.21083163778847636\n",
      "m00_mask 4152.0\n",
      "m10_mask 167791.0\n",
      "m01_mask 164689.0\n",
      "m20_mask 8119945.0\n",
      "m11_mask 6939336.0\n",
      "m02_mask 8002247.0\n",
      "m30_mask 436163611.0\n",
      "m21_mask 345438342.0\n",
      "m12_mask 346295056.0\n",
      "m03_mask 433663015.0\n",
      "mu20_mask 1339159.9130539505\n",
      "mu11_mask 283909.21796724526\n",
      "mu02_mask 1469860.9881984587\n",
      "mu30_mask -216845.0302193151\n",
      "mu21_mask 414149.9747389098\n",
      "mu12_mask 385018.24166303396\n",
      "mu03_mask -349973.6208651303\n",
      "nu20_mask 0.07768152643280941\n",
      "nu11_mask 0.016468908010952615\n",
      "nu02_mask 0.08526318932807986\n",
      "nu30_mask -0.0001952118202673103\n",
      "nu21_mask 0.0003728329413437572\n",
      "nu12_mask 0.0003466074906819113\n",
      "nu03_mask -0.00031505904242087727\n",
      "h0_mask 0.16294471576088926\n",
      "h1_mask 0.0011423813365503974\n",
      "h2_mask 3.5803978596560186e-06\n",
      "h3_mask 2.625847241703764e-08\n",
      "h4_mask 3.005202253889497e-15\n",
      "h5_mask 4.277252046776356e-10\n",
      "h6_mask 7.469493415846762e-15\n",
      "contrast1 0.19862349114423417\n",
      "contrast3 0.03439565556160978\n"
     ]
    }
   ],
   "source": [
    "# Build features dictionary\n",
    "spreadsheet_row = {\n",
    "    \"animal\": \"DK184\",\n",
    "    \"section\": 0,\n",
    "    \"index\": 45202,\n",
    "    \"row\": row,\n",
    "    \"col\": col,\n",
    "    \"area\": 6400,\n",
    "    \"height\": 80,\n",
    "    \"width\": 80,\n",
    "    \"corr_CH1\": ch1_corr,\n",
    "    \"energy_CH1\": ch1_energy,\n",
    "    \"corr_CH3\": ch3_corr,\n",
    "    \"energy_CH3\": ch3_energy,\n",
    "}\n",
    "spreadsheet_row.update(moments_data[0])\n",
    "spreadsheet_row.update(moments_data[1]) #e.g. 'h1_mask' (6 items)\n",
    "spreadsheet_row.update({'contrast1': ch1_contrast, 'contrast3': ch3_constrast})\n",
    "for k,v in spreadsheet_row.items():\n",
    "    if isinstance(v, np.ndarray):\n",
    "        v1 = f\"{v.dtype} {v.shape}\"\n",
    "    else:\n",
    "        v1 = v\n",
    "    print(k,v1)"
   ]
  },
  {
   "cell_type": "code",
   "execution_count": null,
   "metadata": {},
   "outputs": [],
   "source": [
    "animal: DK184\n",
    "section: 0\n",
    "index: 45202\n",
    "row: 5718\n",
    "col: 26346\n",
    "area: 3575\n",
    "height: 68\n",
    "width: 71\n",
    "corr_CH1: -0.062213653117781466\n",
    "energy_CH1: 0.03439795782711712\n",
    "corr_CH3: 1.5275977775282754\n",
    "energy_CH3: 0.21030696615058242\n",
    "m00_mask: 3575.0\n",
    "m10_mask: 144022.0\n",
    "m01_mask: 143666.0\n",
    "m20_mask: 6906752.0\n",
    "m11_mask: 6009085.0\n",
    "m02_mask: 6756562.0\n",
    "m30_mask: 367217452.0\n",
    "m21_mask: 295736537.0\n",
    "m12_mask: 290128787.0\n",
    "m03_mask: 350298704.0\n",
    "mu20_mask: 1104699.836643357\n",
    "mu11_mask: 221374.6078321682\n",
    "mu02_mask: 983157.9283916088\n",
    "mu30_mask: -34686.82240531219\n",
    "mu21_mask: 343233.39988559886\n",
    "mu12_mask: 142330.72541748337\n",
    "mu03_mask: -241427.5168160958\n",
    "nu20_mask: 0.08643550973785374\n",
    "nu11_mask: 0.017321109713505263\n",
    "nu02_mask: 0.07692565335354169\n",
    "nu30_mask: -4.5391486079870513e-05\n",
    "nu21_mask: 0.0004491582973788852\n",
    "nu12_mask: 0.00018625526045695513\n",
    "nu03_mask: -0.0003159342081209841\n",
    "h0_mask: 0.16336116309139542\n",
    "h1_mask: 0.001290520735279386\n",
    "h2_mask: 3.1319358386334703e-06\n",
    "h3_mask: 3.759126089035539e-08\n",
    "h4_mask: 1.2101273526074454e-14\n",
    "h5_mask: 1.320135938455445e-09\n",
    "h6_mask: -4.464147373450296e-15\n",
    "contrast1: -0.033574577420949936\n",
    "contrast3: 0.2903658449649811\n"
   ]
  }
 ],
 "metadata": {
  "kernelspec": {
   "display_name": "Python 3 (ipykernel)",
   "language": "python",
   "name": "python3"
  },
  "language_info": {
   "codemirror_mode": {
    "name": "ipython",
    "version": 3
   },
   "file_extension": ".py",
   "mimetype": "text/x-python",
   "name": "python",
   "nbconvert_exporter": "python",
   "pygments_lexer": "ipython3",
   "version": "3.10.12"
  },
  "toc": {
   "base_numbering": 1,
   "nav_menu": {},
   "number_sections": true,
   "sideBar": true,
   "skip_h1_title": false,
   "title_cell": "Table of Contents",
   "title_sidebar": "Contents",
   "toc_cell": false,
   "toc_position": {},
   "toc_section_display": true,
   "toc_window_display": false
  }
 },
 "nbformat": 4,
 "nbformat_minor": 4
}
