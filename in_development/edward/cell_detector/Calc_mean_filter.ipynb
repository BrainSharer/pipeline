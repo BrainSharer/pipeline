{
 "cells": [
  {
   "cell_type": "code",
   "execution_count": null,
   "metadata": {},
   "outputs": [],
   "source": [
    "import pandas as pd\n",
    "import numpy as np\n",
    "import matplotlib\n",
    "from matplotlib import pyplot as plt\n",
    "import os\n",
    "import cv2\n",
    "import sys\n",
    "import math\n",
    "from pathlib import Path\n",
    "PIPELINE_ROOT = Path('./').resolve().parent.parent.parent\n",
    "sys.path.append(PIPELINE_ROOT.as_posix())\n",
    "print(PIPELINE_ROOT)\n",
    "\n",
    "from src.library.utilities.utilities_process import read_image, write_image"
   ]
  },
  {
   "cell_type": "code",
   "execution_count": null,
   "metadata": {},
   "outputs": [],
   "source": [
    "animal = 'DK55'\n",
    "section = 172\n",
    "channel = 3\n",
    "tif = str(section).zfill(3) + \".tif\"\n",
    "prep_path = f'/net/birdstore/Active_Atlas_Data/data_root/pipeline_data/{animal}/preps'\n",
    "filepath = os.path.join(prep_path, f'C{channel}/full_aligned', tif)\n",
    "full_img = read_image(filepath)\n",
    "full_img.shape"
   ]
  },
  {
   "cell_type": "code",
   "execution_count": null,
   "metadata": {},
   "outputs": [],
   "source": [
    "# min\n",
    "#x          34189.538462\n",
    "#y          10960.000000\n",
    "# max\n",
    "#x          44627.384615\n",
    "#y          23173.200000\n",
    "# for using tile = 5, we push the origin down 2 tile_heights\n",
    "\n",
    "dfpath = os.path.join(prep_path, 'cell_labels', '057.csv')\n",
    "df = pd.read_csv('172.csv')\n",
    "#df = df.loc[df['section'] == section]\n",
    "print(len(df.index))\n",
    "df.head()"
   ]
  },
  {
   "cell_type": "code",
   "execution_count": null,
   "metadata": {},
   "outputs": [],
   "source": [
    "startc = int(round(min(df['x']), -3))\n",
    "startr = int(round(min(df['y']), -3))\n",
    "endc = math.ceil(max(df['x']))\n",
    "endr = math.ceil(max(df['y']))\n",
    "print(startr, endr, startc, endc)"
   ]
  },
  {
   "cell_type": "code",
   "execution_count": null,
   "metadata": {},
   "outputs": [],
   "source": [
    "tile_width = endc - startc\n",
    "tile_height = endr - startr\n",
    "img = full_img[startr:endr, startc:endc]\n",
    "print(f'{startr}:{endr}, {startc}:{endc} height={tile_height} width={tile_width}')\n",
    "print(img.shape)\n",
    "#img.shape # (6800, 30000)"
   ]
  },
  {
   "cell_type": "code",
   "execution_count": null,
   "metadata": {},
   "outputs": [],
   "source": [
    "vimg = img.copy()\n",
    "def show_image(img, increaser=1, _title=\"\", fsize=[15,15]):\n",
    "    plt.figure(figsize=[15,15])\n",
    "    plt.imshow(img * increaser, cmap=\"gray\")\n",
    "    plt.title(_title,fontsize=20)\n",
    "    plt.tick_params(axis='x', labelsize=20)\n",
    "    plt.tick_params(axis='y', labelsize=20)\n",
    "    plt.show()\n",
    "increaser = 10\n",
    "show_image(vimg, increaser=increaser,_title=f'{animal} C{channel}, section: {section}')"
   ]
  },
  {
   "cell_type": "code",
   "execution_count": null,
   "metadata": {},
   "outputs": [],
   "source": [
    "def collect_positives(uimg):\n",
    "    img=np.copy(uimg)\n",
    "    positives=[]\n",
    "    radius = 80\n",
    "    a=int(radius/2)\n",
    "    color = (65000)\n",
    "    min_row,min_col = startr, startc\n",
    "    for index,r in df.iterrows():\n",
    "        col = int(round(r['x'])-min_col)\n",
    "        row = int(round(r['y'])-min_row)\n",
    "        if (col<0) or (col>tile_width) or (row<0) or (row>tile_height):\n",
    "            continue\n",
    "        img=cv2.circle(img, (int(col), int(row)), radius, color, 20)\n",
    "        I=uimg[row-a:row+a,col-a:col+a]\n",
    "        if I.shape==(radius,radius):\n",
    "            positives.append((col,row,I))\n",
    "\n",
    "    return img,positives"
   ]
  },
  {
   "cell_type": "code",
   "execution_count": null,
   "metadata": {},
   "outputs": [],
   "source": [
    "annotated_img,positives=collect_positives(img)"
   ]
  },
  {
   "cell_type": "code",
   "execution_count": null,
   "metadata": {},
   "outputs": [],
   "source": [
    "#vimg=annotated_img[in_row_min:in_row_max, in_col_min: in_col_max]\n",
    "show_image(annotated_img, increaser=increaser,_title=f' annotated {animal} C{channel}, section: {section}')"
   ]
  },
  {
   "cell_type": "code",
   "execution_count": null,
   "metadata": {
    "scrolled": false
   },
   "outputs": [],
   "source": [
    "plt.figure(figsize=[15,15])\n",
    "for i in range(len(positives[:100])):\n",
    "    plt.subplot(10,10,i+1)\n",
    "    plt.imshow(positives[i][2], cmap=\"gray\")\n",
    "plt.show()"
   ]
  },
  {
   "cell_type": "code",
   "execution_count": null,
   "metadata": {},
   "outputs": [],
   "source": [
    "def plot_dist(uimg):\n",
    "    H=uimg.flatten()\n",
    "    H=np.sort(H)\n",
    "\n",
    "    H=H[0:-1:1000]\n",
    "    print(H.shape)\n",
    "    H1 = np.arange(0,1,1./H.shape[0])\n",
    "    H1 = H1[:H.shape[0]]\n",
    "    print(H1.shape)\n",
    "\n",
    "    plt.plot(H, H1)\n",
    "    plt.grid()\n",
    "    plt.figure()\n",
    "    plt.hist(H,bins=100);\n",
    "plot_dist(img)"
   ]
  },
  {
   "cell_type": "code",
   "execution_count": null,
   "metadata": {},
   "outputs": [],
   "source": [
    "for i in [10,20,30,40]:\n",
    "    plt.hist(positives[i][2].flatten(),bins=100);"
   ]
  },
  {
   "cell_type": "code",
   "execution_count": null,
   "metadata": {},
   "outputs": [],
   "source": [
    "for i in range(len(positives)):\n",
    "    _shape=positives[i][2].shape\n",
    "    if _shape !=(80,80):\n",
    "        print(i,_shape)"
   ]
  },
  {
   "cell_type": "code",
   "execution_count": null,
   "metadata": {},
   "outputs": [],
   "source": [
    "S=np.stack([I for (x,y,I)in positives])\n",
    "S.shape\n",
    "\n",
    "Mean=np.mean(S,axis=0)\n",
    "Mean.shape\n",
    "\n",
    "plt.imshow(Mean, cmap=\"gray\")\n",
    "plt.show()\n",
    "\n",
    "_mean=np.mean(Mean.flatten())\n",
    "_std=np.std(Mean.flatten())\n",
    "print('before: mean=%5.2f std=%5.2f'%(_mean,_std))\n",
    "\n",
    "Mean = (Mean-_mean)/_std\n",
    "\n",
    "_mean=np.mean(Mean.flatten())\n",
    "_std=np.std(Mean.flatten())\n",
    "print('after: mean=%5.2f std=%5.2f'%(_mean,_std))\n",
    "\n",
    "import pickle as pk\n",
    "with open('mean.pkl','wb') as pkl_file:\n",
    "    pk.dump({'Mean':Mean},pkl_file)\n",
    "\n",
    "!ls -l *.pkl"
   ]
  },
  {
   "cell_type": "code",
   "execution_count": null,
   "metadata": {},
   "outputs": [],
   "source": [
    "from scipy.signal import convolve2d"
   ]
  },
  {
   "cell_type": "code",
   "execution_count": null,
   "metadata": {},
   "outputs": [],
   "source": [
    "#O=convolve2d(img,Mean,mode='valid') #takes forevr, might be better with GPU"
   ]
  },
  {
   "cell_type": "code",
   "execution_count": null,
   "metadata": {
    "scrolled": false
   },
   "outputs": [],
   "source": [
    "plt.figure(figsize=[15,15])\n",
    "UPimg=uimg[in_row_min:in_row_max, in_col_min: in_col_max]\n",
    "plt.imshow(5*UPimg,cmap='gray');"
   ]
  },
  {
   "cell_type": "code",
   "execution_count": null,
   "metadata": {},
   "outputs": [],
   "source": [
    "plt.figure(figsize=[15,15])\n",
    "small=cv2.resize(S,(0,0),fx=0.05,fy=0.05)\n",
    "show_image(small);"
   ]
  },
  {
   "cell_type": "code",
   "execution_count": null,
   "metadata": {},
   "outputs": [],
   "source": [
    "blur=cv2.GaussianBlur(small,ksize=(21,21),sigmaX=10)\n",
    "relarge=cv2.resize(blur,(0,0),fx=20,fy=20) #,interpolation=cv2.INTER_AREA)\n",
    "plt.figure(figsize=[15,15])\n",
    "plt.imshow(relarge,cmap='gray');"
   ]
  },
  {
   "cell_type": "code",
   "execution_count": null,
   "metadata": {},
   "outputs": [],
   "source": [
    "relarge=cv2.resize(blur,(0,0),fx=20,fy=20) #,interpolation=cv2.INTER_AREA)\n",
    "plt.figure(figsize=[15,15])\n",
    "plt.imshow(relarge,cmap='gray');"
   ]
  },
  {
   "cell_type": "code",
   "execution_count": null,
   "metadata": {},
   "outputs": [],
   "source": [
    "blur.shape,uimg_8bit.shape,relarge.shape"
   ]
  },
  {
   "cell_type": "code",
   "execution_count": null,
   "metadata": {},
   "outputs": [],
   "source": [
    "vimg=img[in_row_min:in_row_max, in_col_min: in_col_max]\n",
    "show_image(5*vimg)"
   ]
  },
  {
   "cell_type": "code",
   "execution_count": null,
   "metadata": {},
   "outputs": [],
   "source": [
    "diff=S-relarge\n",
    "plt.figure(figsize=[15,15])\n",
    "show_image(diff[in_row_min:in_row_max, in_col_min: in_col_max]);"
   ]
  },
  {
   "cell_type": "code",
   "execution_count": null,
   "metadata": {},
   "outputs": [],
   "source": [
    "plt.figure(figsize=[15,15])\n",
    "vdiff=diff[in_row_min:in_row_max, in_col_min: in_col_max]\n",
    "show_image(vdiff>150);"
   ]
  },
  {
   "cell_type": "code",
   "execution_count": null,
   "metadata": {},
   "outputs": [],
   "source": [
    "plot_dist(diff[in_row_min:in_row_max, in_col_min: in_col_max])"
   ]
  },
  {
   "cell_type": "code",
   "execution_count": null,
   "metadata": {},
   "outputs": [],
   "source": [
    "Stats=cv2.connectedComponentsWithStats(np.int8(diff>130))\n",
    "Stats[0]"
   ]
  },
  {
   "cell_type": "code",
   "execution_count": null,
   "metadata": {},
   "outputs": [],
   "source": [
    "show_image(Stats[1][in_row_min:in_row_max, in_col_min: in_col_max])"
   ]
  },
  {
   "cell_type": "code",
   "execution_count": null,
   "metadata": {},
   "outputs": [],
   "source": [
    "Stats[2].shape, Stats[3].shape"
   ]
  },
  {
   "cell_type": "code",
   "execution_count": null,
   "metadata": {},
   "outputs": [],
   "source": [
    "candid_coor=np.int32(Stats[3])\n",
    "min_row,min_col = origins[tile]\n",
    "candid_coor"
   ]
  },
  {
   "cell_type": "code",
   "execution_count": null,
   "metadata": {},
   "outputs": [],
   "source": [
    "pos_coor=np.int32(df[['y','x']])\n",
    "pos_coor -= np.array([min_row,min_col])\n",
    "pos_coor.shape"
   ]
  },
  {
   "cell_type": "code",
   "execution_count": null,
   "metadata": {},
   "outputs": [],
   "source": [
    "from numpy.linalg import norm\n",
    "Dists=[]\n",
    "for i in range(len(candid_coor)):\n",
    "    c=norm(pos_coor-candid_coor[i],axis=1)\n",
    "    Dists.append((i,np.min(c),np.argmin(c)))\n",
    "Dists"
   ]
  },
  {
   "cell_type": "code",
   "execution_count": null,
   "metadata": {},
   "outputs": [],
   "source": [
    "SD=np.sort([d[1] for d in Dists])\n",
    "plt.plot(SD[:200])\n",
    "plt.grid()"
   ]
  },
  {
   "cell_type": "code",
   "execution_count": null,
   "metadata": {},
   "outputs": [],
   "source": [
    "candid_coor.shape,pos_coor.shape"
   ]
  },
  {
   "cell_type": "code",
   "execution_count": null,
   "metadata": {},
   "outputs": [],
   "source": [
    "seg=Stats[1]\n",
    "seg.shape"
   ]
  },
  {
   "cell_type": "code",
   "execution_count": null,
   "metadata": {},
   "outputs": [],
   "source": [
    "for i in range(len(pos_coor)):\n",
    "    c=pos_coor[i]-np.array([min_col,min_row])\n",
    "    if c[0]<0 or c[0]>=tile_height or c[1]<0 or c[1] >=tile_width:\n",
    "        continue\n",
    "    print(np.array([min_col,min_row]),c)\n",
    "    print(i,seg[c[0],c[1]])"
   ]
  },
  {
   "cell_type": "code",
   "execution_count": null,
   "metadata": {},
   "outputs": [],
   "source": [
    "tile_width,tile_height"
   ]
  },
  {
   "cell_type": "code",
   "execution_count": null,
   "metadata": {},
   "outputs": [],
   "source": []
  }
 ],
 "metadata": {
  "kernelspec": {
   "display_name": "Python 3 (ipykernel)",
   "language": "python",
   "name": "python3"
  },
  "language_info": {
   "codemirror_mode": {
    "name": "ipython",
    "version": 3
   },
   "file_extension": ".py",
   "mimetype": "text/x-python",
   "name": "python",
   "nbconvert_exporter": "python",
   "pygments_lexer": "ipython3",
   "version": "3.10.12"
  },
  "toc": {
   "base_numbering": 1,
   "nav_menu": {},
   "number_sections": true,
   "sideBar": true,
   "skip_h1_title": false,
   "title_cell": "Table of Contents",
   "title_sidebar": "Contents",
   "toc_cell": false,
   "toc_position": {},
   "toc_section_display": true,
   "toc_window_display": false
  }
 },
 "nbformat": 4,
 "nbformat_minor": 4
}
