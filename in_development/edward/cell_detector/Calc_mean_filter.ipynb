{
 "cells": [
  {
   "cell_type": "code",
   "execution_count": null,
   "metadata": {},
   "outputs": [],
   "source": [
    "import pandas as pd\n",
    "import numpy as np\n",
    "import matplotlib\n",
    "from matplotlib import pyplot as plt\n",
    "import os\n",
    "import cv2\n",
    "import sys\n",
    "import math\n",
    "from pathlib import Path\n",
    "PIPELINE_ROOT = Path('./').resolve().parent.parent.parent\n",
    "sys.path.append(PIPELINE_ROOT.as_posix())\n",
    "print(PIPELINE_ROOT)\n",
    "\n",
    "from src.library.utilities.utilities_process import read_image, write_image"
   ]
  },
  {
   "cell_type": "code",
   "execution_count": null,
   "metadata": {},
   "outputs": [],
   "source": [
    "def show_image(img, increaser=1, _title=\"\", fsize=[15,15]):\n",
    "    plt.figure(figsize=[15,15])\n",
    "    plt.imshow(img * increaser, cmap=\"gray\")\n",
    "    plt.title(_title,fontsize=20)\n",
    "    plt.tick_params(axis='x', labelsize=20)\n",
    "    plt.tick_params(axis='y', labelsize=20)\n",
    "    plt.show()\n",
    "\n",
    "def collect_positives(uimg):\n",
    "    img=np.copy(uimg)\n",
    "    positives=[]\n",
    "    radius = 80\n",
    "    a=int(radius/2)\n",
    "    color = (65000)\n",
    "    min_row,min_col = startr, startc\n",
    "    for index,r in df.iterrows():\n",
    "        col = int(round(r['x'])-min_col)\n",
    "        row = int(round(r['y'])-min_row)\n",
    "        if (col<0) or (col>tile_width) or (row<0) or (row>tile_height):\n",
    "            continue\n",
    "        img=cv2.circle(img, (int(col), int(row)), radius, color, 20)\n",
    "        I=uimg[row-a:row+a,col-a:col+a]\n",
    "        if I.shape==(radius,radius):\n",
    "            positives.append((col,row,I))\n",
    "\n",
    "    return img,positives"
   ]
  },
  {
   "cell_type": "code",
   "execution_count": null,
   "metadata": {},
   "outputs": [],
   "source": [
    "animal = 'DK184'\n",
    "section = 204\n",
    "channel = 3\n",
    "prep_path = f'/net/birdstore/Active_Atlas_Data/data_root/pipeline_data/{animal}/preps'"
   ]
  },
  {
   "cell_type": "code",
   "execution_count": null,
   "metadata": {},
   "outputs": [],
   "source": [
    "tif = str(section).zfill(3) + \".tif\"\n",
    "filepath = os.path.join(prep_path, f'C{channel}/full_aligned', tif)\n",
    "full_img = read_image(filepath)\n",
    "full_img.shape"
   ]
  },
  {
   "cell_type": "code",
   "execution_count": null,
   "metadata": {},
   "outputs": [],
   "source": [
    "resize = False\n",
    "if resize:\n",
    "    filepath = os.path.join(prep_path, f'C{channel}/full_aligned', tif)\n",
    "    startr = 6000\n",
    "    endr = 25000\n",
    "    startc = 35000\n",
    "    endc = 65000\n",
    "    img = full_img[startr:endr, startc:endc]\n",
    "    print(img.shape)\n",
    "    write_image(filepath, img)"
   ]
  },
  {
   "cell_type": "code",
   "execution_count": null,
   "metadata": {},
   "outputs": [],
   "source": [
    "dfpath = os.path.join(prep_path, 'cell_labels', 'all_predictions.csv')\n",
    "df = pd.read_csv(dfpath)\n",
    "df = df.loc[df['section'] == section]\n",
    "df = df.sort_values(['section', 'x', 'y'])"
   ]
  },
  {
   "cell_type": "code",
   "execution_count": null,
   "metadata": {},
   "outputs": [],
   "source": [
    "print(df.head(3))\n",
    "print(df.tail(3))"
   ]
  },
  {
   "cell_type": "code",
   "execution_count": null,
   "metadata": {},
   "outputs": [],
   "source": [
    "count = len(df.index)\n",
    "if count > 100:\n",
    "    lower = count // 4\n",
    "    upper = lower + 100\n",
    "    print(lower, upper)\n",
    "    df = df[lower:upper]\n",
    "print(len(df.index))"
   ]
  },
  {
   "cell_type": "code",
   "execution_count": null,
   "metadata": {},
   "outputs": [],
   "source": [
    "startc = int(round(min(df['x']), -3))\n",
    "startr = int(round(min(df['y']), -3))\n",
    "endc = math.ceil(max(df['x']))\n",
    "endr = math.ceil(max(df['y']))\n",
    "# manually set to ROI\n",
    "#startr = 0\n",
    "#endr = startr + 15000\n",
    "#startc = 0\n",
    "#endc = startc + 15000\n",
    "print(startr, endr, startc, endc)"
   ]
  },
  {
   "cell_type": "code",
   "execution_count": null,
   "metadata": {},
   "outputs": [],
   "source": [
    "tile_width = endc - startc\n",
    "tile_height = endr - startr\n",
    "img = full_img[startr:endr, startc:endc]\n",
    "print(f'{startr}:{endr}, {startc}:{endc}')\n",
    "print(img.shape)\n",
    "#img.shape # (6800, 30000)"
   ]
  },
  {
   "cell_type": "code",
   "execution_count": null,
   "metadata": {},
   "outputs": [],
   "source": [
    "annotated_img, positives = collect_positives(img)\n",
    "print(len(positives))"
   ]
  },
  {
   "cell_type": "code",
   "execution_count": null,
   "metadata": {},
   "outputs": [],
   "source": [
    "#vimg=annotated_img[in_row_min:in_row_max, in_col_min: in_col_max]\n",
    "increaser = 15\n",
    "show_image(annotated_img, increaser=increaser,_title=f'{animal} C{channel}, section: {section} predictions: {len(positives)}')"
   ]
  },
  {
   "cell_type": "code",
   "execution_count": null,
   "metadata": {
    "scrolled": false
   },
   "outputs": [],
   "source": [
    "plt.figure(figsize=[15,15])\n",
    "end = min(100, len(positives))\n",
    "for i in range(len(positives[0:end])):\n",
    "    plt.subplot(10,10,i+1)\n",
    "    plt.imshow(positives[i][2], cmap=\"gray\")\n",
    "plt.show()"
   ]
  },
  {
   "cell_type": "code",
   "execution_count": null,
   "metadata": {},
   "outputs": [],
   "source": [
    "S=np.stack([I for (x,y,I)in positives])\n",
    "S.shape\n",
    "\n",
    "Mean=np.mean(S,axis=0)\n",
    "Mean.shape\n",
    "\n",
    "plt.imshow(Mean, cmap=\"gray\")\n",
    "plt.show()\n",
    "\n",
    "_mean=np.mean(Mean.flatten())\n",
    "_std=np.std(Mean.flatten())\n",
    "print('before: mean=%5.2f std=%5.2f'%(_mean,_std))\n",
    "\n",
    "Mean = (Mean-_mean)/_std\n",
    "\n",
    "_mean=np.mean(Mean.flatten())\n",
    "_std=np.std(Mean.flatten())\n",
    "print('after: mean=%5.2f std=%5.2f'%(_mean,_std))\n",
    "\n",
    "import pickle as pk\n",
    "with open('mean.pkl','wb') as pkl_file:\n",
    "    pk.dump({'Mean':Mean},pkl_file)"
   ]
  },
  {
   "cell_type": "code",
   "execution_count": null,
   "metadata": {},
   "outputs": [],
   "source": [
    "new_mean = cv2.normalize(Mean, None, 255, 0, cv2.NORM_MINMAX, cv2.CV_8U)\n",
    "plt.imshow(new_mean, cmap=\"seismic\")\n",
    "plt.show()"
   ]
  },
  {
   "cell_type": "code",
   "execution_count": null,
   "metadata": {},
   "outputs": [],
   "source": [
    "l1 = ['area', 'height', 'width', 'corr_CH1', 'energy_CH1', 'corr_CH3', 'energy_CH3', 'm00CH_3', 'm10CH_3', 'm01CH_3', 'm20CH_3', 'm11CH_3', 'm02CH_3', 'm30CH_3', 'm21CH_3', 'm12CH_3', 'm03CH_3', 'mu20CH_3', 'mu11CH_3', 'mu02CH_3', 'mu30CH_3', 'mu21CH_3', 'mu12CH_3', 'mu03CH_3', 'nu20CH_3', 'nu11CH_3', 'nu02CH_3', 'nu30CH_3', 'nu21CH_3', 'nu12CH_3', 'nu03CH_3', 'h0_CH_3', 'h1_CH_3', 'h2_CH_3', 'h3_CH_3', 'h4_CH_3', 'h5_CH_3', 'h6_CH_3', 'contrast1', 'contrast3'] ['area', 'height', 'width', 'corr_CH1', 'energy_CH1', 'corr_CH3', 'energy_CH3', 'm00_mask', 'm10_mask', 'm01_mask', 'm20_mask', 'm11_mask', 'm02_mask', 'm30_mask', 'm21_mask', 'm12_mask', 'm03_mask', 'mu20_mask', 'mu11_mask', 'mu02_mask', 'mu30_mask', 'mu21_mask', 'mu12_mask', 'mu03_mask', 'nu20_mask', 'nu11_mask', 'nu02_mask', 'nu30_mask', 'nu21_mask', 'nu12_mask', 'nu03_mask', 'h0_mask', 'h1_mask', 'h2_mask', 'h3_mask', 'h4_mask', 'h5_mask', 'h6_mask', 'contrast1', 'contrast3']\n",
    "l2 = [m02CH_3, h2_CH_3, nu11CH_3, nu12CH_3, m21CH_3, nu02CH_3, m10CH_3, mu11CH_3, mu21CH_3, h1_CH_3, m12CH_3, m03CH_3, mu20CH_3, mu02CH_3, nu21CH_3, nu20CH_3, nu30CH_3, h6_CH_3, nu03CH_3, h0_CH_3, h5_CH_3, h3_CH_3, mu30CH_3, mu03CH_3, h4_CH_3, m20CH_3, m30CH_3, m01CH_3, m11CH_3, m00CH_3, mu12CH_3 in input data\n",
    "training data did not have the following fields: m21_mask, mu30_mask, nu30_mask, nu12_mask, mu12_mask, m01_mask, nu11_mask, nu02_mask, h1_mask, m02_mask, h4_mask, mu20_mask, h0_mask, m30_mask, m12_mask, nu21_mask, nu03_mask, m10_mask, h6_mask, mu21_mask, h3_mask, h5_mask, m11_mask, mu02_mask, m03_mask, m00_mask, mu11_mask, h2_mask, mu03_mask, m20_mask, nu20_mask"
   ]
  }
 ],
 "metadata": {
  "kernelspec": {
   "display_name": "Python 3 (ipykernel)",
   "language": "python",
   "name": "python3"
  },
  "language_info": {
   "codemirror_mode": {
    "name": "ipython",
    "version": 3
   },
   "file_extension": ".py",
   "mimetype": "text/x-python",
   "name": "python",
   "nbconvert_exporter": "python",
   "pygments_lexer": "ipython3",
   "version": "3.10.12"
  },
  "toc": {
   "base_numbering": 1,
   "nav_menu": {},
   "number_sections": true,
   "sideBar": true,
   "skip_h1_title": false,
   "title_cell": "Table of Contents",
   "title_sidebar": "Contents",
   "toc_cell": false,
   "toc_position": {},
   "toc_section_display": true,
   "toc_window_display": false
  }
 },
 "nbformat": 4,
 "nbformat_minor": 4
}
