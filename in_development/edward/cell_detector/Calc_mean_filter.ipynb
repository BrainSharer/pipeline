{
 "cells": [
  {
   "cell_type": "code",
   "execution_count": null,
   "metadata": {},
   "outputs": [],
   "source": [
    "import pandas as pd\n",
    "import numpy as np\n",
    "import matplotlib\n",
    "from matplotlib import pyplot as plt\n",
    "import os\n",
    "import cv2\n",
    "import sys\n",
    "import math\n",
    "from pathlib import Path\n",
    "from compress_pickle import dump, load\n",
    "\n",
    "PIPELINE_ROOT = Path('./').resolve().parent.parent.parent\n",
    "sys.path.append(PIPELINE_ROOT.as_posix())\n",
    "print(PIPELINE_ROOT)\n",
    "\n",
    "from src.library.utilities.utilities_process import read_image, write_image\n",
    "from src.library.cell_labeling.cell_utilities import calculate_correlation_and_energy, find_connected_segments, load_image, subtract_blurred_image\n"
   ]
  },
  {
   "cell_type": "code",
   "execution_count": null,
   "metadata": {},
   "outputs": [],
   "source": [
    "def show_image(img, increaser=1, _title=\"\", fsize=[15,15]):\n",
    "    plt.figure(figsize=[15,15])\n",
    "    plt.imshow(img * increaser, cmap=\"gray\")\n",
    "    plt.title(_title,fontsize=20)\n",
    "    plt.tick_params(axis='x', labelsize=20)\n",
    "    plt.tick_params(axis='y', labelsize=20)\n",
    "    plt.show()\n",
    "\n",
    "def collect_positives(uimg, startr, startc, tile_width, tile_height):\n",
    "    img=np.copy(uimg)\n",
    "    positives=[]\n",
    "    radius = 80\n",
    "    a=int(radius/2)\n",
    "    color = (65000)\n",
    "    min_row,min_col = startr, startc\n",
    "    for index,r in df.iterrows():\n",
    "        colr = r['x']\n",
    "        rowr = r['y']\n",
    "        col = int(round(r['x'])-min_col)\n",
    "        row = int(round(r['y'])-min_row)\n",
    "        print(col, row)\n",
    "        if (col<0) or (col>tile_width) or (row<0) or (row>tile_height):\n",
    "            continue\n",
    "        img=cv2.circle(img, (int(col), int(row)), radius, color, 20)\n",
    "        I=uimg[row-a:row+a,col-a:col+a]\n",
    "        if I.shape==(radius,radius):\n",
    "            positives.append((col,row,I, colr, rowr))\n",
    "\n",
    "    return img,positives"
   ]
  },
  {
   "cell_type": "code",
   "execution_count": null,
   "metadata": {},
   "outputs": [],
   "source": [
    "animal = 'DK184'\n",
    "section = 0\n",
    "channel = 3\n",
    "prep_path = f'/net/birdstore/Active_Atlas_Data/data_root/pipeline_data/{animal}/preps'"
   ]
  },
  {
   "cell_type": "code",
   "execution_count": null,
   "metadata": {},
   "outputs": [],
   "source": [
    "tif = str(section).zfill(3) + \".tif\"\n",
    "filepath = os.path.join(prep_path, f'C{channel}/full_aligned', tif)\n",
    "full_img = read_image(filepath)\n",
    "full_img.shape"
   ]
  },
  {
   "cell_type": "code",
   "execution_count": null,
   "metadata": {},
   "outputs": [],
   "source": [
    "resize = True\n",
    "if resize:\n",
    "    filepath = os.path.join(prep_path, f'C{channel}/full_aligned', tif)\n",
    "    startr = 0\n",
    "    endr = 25000\n",
    "    startc = 35000\n",
    "    endc = 65000\n",
    "    img = full_img[startr:endr, startc:endc]\n",
    "    print(img.shape)\n",
    "    write_image(filepath, img)"
   ]
  },
  {
   "cell_type": "code",
   "execution_count": null,
   "metadata": {},
   "outputs": [],
   "source": [
    "dfpath = os.path.join(prep_path, 'cell_labels', 'all_predictions.csv')\n",
    "df = pd.read_csv(dfpath)\n",
    "df = df.loc[df['section'] == section]\n",
    "df = df.sort_values(['section', 'y', 'x'])\n",
    "df.head()"
   ]
  },
  {
   "cell_type": "code",
   "execution_count": null,
   "metadata": {},
   "outputs": [],
   "source": [
    "dfp.loc[dfp['x'] == col]"
   ]
  },
  {
   "cell_type": "code",
   "execution_count": null,
   "metadata": {},
   "outputs": [],
   "source": [
    "dfpath = os.path.join(prep_path, 'cell_labels', 'detections_000.csv')\n",
    "df = pd.read_csv(dfpath)\n",
    "#bads = df[( ( (df['row'] < 8000) | (df['row'] > 22752 ))  & (df['predictions']) == 0 )]\n",
    "#len(bads.index)"
   ]
  },
  {
   "cell_type": "code",
   "execution_count": null,
   "metadata": {},
   "outputs": [],
   "source": [
    "#bads = df[(df['row'] > 8000) & (df['col'] < 27000 )  & (df['area'] > 100) & (df['col'] > 18000) ]\n",
    "\n",
    "df.head()\n",
    "#df.loc[df['col'] == col]"
   ]
  },
  {
   "cell_type": "code",
   "execution_count": null,
   "metadata": {},
   "outputs": [],
   "source": [
    "#nos = df[(df['predictions'] == -2 )]\n",
    "#unsures = df[(df['predictions'] == 0 )]\n",
    "#sures = df[(df['predictions'] == 2 )]\n",
    "#print(f'nos={len(nos)} unsures={len(unsures)} sures={len(sures)}')"
   ]
  },
  {
   "cell_type": "code",
   "execution_count": null,
   "metadata": {},
   "outputs": [],
   "source": [
    "# set bad Y prediction to bad\n",
    "for index, df_row in df.iterrows():\n",
    "    row = int(df_row['row'])\n",
    "    col = int(df_row['col'])\n",
    "    prediction = df_row['predictions']\n",
    "    found = row < 8000 or row > 22752\n",
    "    if found:\n",
    "        #print(f'ERROR: Predicted cell {index=} found at {row=}, {col=} {prediction=}')\n",
    "        df.loc[index, 'predictions'] = -2\n",
    "\n",
    "\n",
    "\n",
    "\n",
    "nos = df[(df['predictions'] == -2 )]\n",
    "unsures = df[(df['predictions'] == 0 )]\n",
    "sures = df[(df['predictions'] == 2 )]\n",
    "print(f'nos={len(nos)} unsures={len(unsures)} sures={len(sures)}')"
   ]
  },
  {
   "cell_type": "code",
   "execution_count": null,
   "metadata": {},
   "outputs": [],
   "source": [
    "dfpath = os.path.join(prep_path, 'cell_labels', 'better_detections_000.csv')\n",
    "df.to_csv(dfpath, index=False)"
   ]
  },
  {
   "cell_type": "code",
   "execution_count": null,
   "metadata": {},
   "outputs": [],
   "source": [
    "print(df.head(3))\n",
    "print(df.tail(3))"
   ]
  },
  {
   "cell_type": "code",
   "execution_count": null,
   "metadata": {},
   "outputs": [],
   "source": [
    "count = len(df.index)\n",
    "print(f'{count=}')\n",
    "if count > 100:\n",
    "    lower = count // 4\n",
    "    upper = lower + 100\n",
    "    print(lower, upper)\n",
    "    df = df[lower:upper]\n",
    "print(len(df.index))"
   ]
  },
  {
   "cell_type": "code",
   "execution_count": null,
   "metadata": {},
   "outputs": [],
   "source": [
    "#startc = int(round(min(df['x']), -3)) - 1000\n",
    "#startr = int(round(min(df['y']), -3)) - 1000\n",
    "#endc = math.ceil(max(df['x'])) + 100\n",
    "#endr = math.ceil(max(df['y'])) + 100\n",
    "# manually set to ROI\n",
    "startr = 0\n",
    "endr = startr + full_img.shape[0]\n",
    "startc = 0\n",
    "endc = startc + full_img.shape[1]\n",
    "print(startr, endr, startc, endc)"
   ]
  },
  {
   "cell_type": "code",
   "execution_count": null,
   "metadata": {},
   "outputs": [],
   "source": [
    "tile_width = endc - startc\n",
    "tile_height = endr - startr\n",
    "img = full_img[startr:endr, startc:endc]\n",
    "print(f'{startr}:{endr}, {startc}:{endc}')\n",
    "print(img.shape)\n",
    "print(f'{tile_width=} {tile_height=}')\n",
    "#img.shape # (6800, 30000)"
   ]
  },
  {
   "cell_type": "code",
   "execution_count": null,
   "metadata": {},
   "outputs": [],
   "source": [
    "annotated_img, positives = collect_positives(full_img, startr, startc, tile_width, tile_height)\n",
    "print(len(positives))"
   ]
  },
  {
   "cell_type": "code",
   "execution_count": null,
   "metadata": {},
   "outputs": [],
   "source": [
    "#vimg=annotated_img[in_row_min:in_row_max, in_col_min: in_col_max]\n",
    "increaser = 1\n",
    "show_image(annotated_img, increaser=increaser,_title=f'{animal} C{channel}, section: {section} predictions: {len(positives)}')"
   ]
  },
  {
   "cell_type": "code",
   "execution_count": null,
   "metadata": {
    "scrolled": false
   },
   "outputs": [],
   "source": [
    "plt.figure(figsize=[15,15])\n",
    "end = min(157, len(positives))\n",
    "for i in range(len(positives[0:end])):\n",
    "    plt.subplot(16,10,i+1)\n",
    "    plt.title(i)\n",
    "    plt.imshow(positives[i][2], cmap=\"gray\")\n",
    "plt.show()"
   ]
  },
  {
   "cell_type": "code",
   "execution_count": null,
   "metadata": {},
   "outputs": [],
   "source": [
    "S=np.stack([I for (x,y,I)in positives])\n",
    "S.shape\n",
    "\n",
    "Mean=np.mean(S,axis=0)\n",
    "Mean.shape\n",
    "\n",
    "plt.imshow(Mean, cmap=\"gray\")\n",
    "plt.show()\n",
    "\n",
    "_mean=np.mean(Mean.flatten())\n",
    "_std=np.std(Mean.flatten())\n",
    "print('before: mean=%5.2f std=%5.2f'%(_mean,_std))\n",
    "\n",
    "Mean = (Mean-_mean)/_std\n",
    "\n",
    "_mean=np.mean(Mean.flatten())\n",
    "_std=np.std(Mean.flatten())\n",
    "print('after: mean=%5.2f std=%5.2f'%(_mean,_std))\n",
    "\n",
    "import pickle as pk\n",
    "with open('mean.pkl','wb') as pkl_file:\n",
    "    pk.dump({'Mean':Mean},pkl_file)"
   ]
  },
  {
   "cell_type": "code",
   "execution_count": null,
   "metadata": {},
   "outputs": [],
   "source": [
    "new_mean = cv2.normalize(Mean, None, 255, 0, cv2.NORM_MINMAX, cv2.CV_8U)\n",
    "plt.imshow(new_mean, cmap=\"seismic\")\n",
    "plt.show()"
   ]
  },
  {
   "cell_type": "code",
   "execution_count": null,
   "metadata": {},
   "outputs": [],
   "source": [
    "tif = str(section).zfill(3) + \".tif\"\n",
    "filepath = os.path.join(prep_path, f'C{channel}/full_aligned', tif)\n",
    "input_file_virus_path = os.path.join(prep_path, 'C3/full_aligned', tif)  \n",
    "input_file_dye_path = os.path.join(prep_path, 'C1/full_aligned', tif)  \n",
    "data_virus = read_image(input_file_virus_path)\n",
    "data_dye = read_image(input_file_dye_path)\n",
    "print(f'{data_virus.shape=} {data_dye.shape=}')"
   ]
  },
  {
   "cell_type": "code",
   "execution_count": null,
   "metadata": {},
   "outputs": [],
   "source": [
    "avg_cell_img_file_path = '/net/birdstore/Active_Atlas_Data/cell_segmentation/models/average_cell_image.pkl'\n",
    "avg_cell_img = load(avg_cell_img_file_path) #Load average cell image once\n",
    "avg_cell_CH1 = avg_cell_img['CH1']\n",
    "avg_cell_CH3 = avg_cell_img['CH3']\n",
    "\n",
    "print(avg_cell_CH1.shape)"
   ]
  },
  {
   "cell_type": "code",
   "execution_count": null,
   "metadata": {},
   "outputs": [],
   "source": [
    "cell = 0\n",
    "col = positives[cell][1]\n",
    "row = positives[cell][0]\n",
    "colr = positives[cell][4]\n",
    "rowr = positives[cell][3]\n",
    "control_img = positives[cell][2]\n",
    "section = 0\n",
    "print(f'processing coordinates {col=}, {row=}, {section=}')\n",
    "print(f'processing coordinates {colr=}, {rowr=}, {section=}')\n",
    "idx = 0\n",
    "\n",
    "startc = col - 40\n",
    "endc = startc + 80\n",
    "startr = row - 40\n",
    "endr = startr + 80\n",
    "\n",
    "print(f'{startr=} {endr=} {startc=} {endc=}')"
   ]
  },
  {
   "cell_type": "code",
   "execution_count": null,
   "metadata": {},
   "outputs": [],
   "source": [
    "image_roi_virus = data_virus[startc:endc, startr:endr] #image_roi IS numpy array\n",
    "image_roi_dye = data_dye[startc:endc, startr:endr] #image_roi IS numpy array\n",
    "print(f'shape of image_roi_virus {image_roi_virus.shape} and shape of data_virus {image_roi_dye.shape}')\n",
    "absolute_coordinates = (startc, endc, startr, endr)\n",
    "difference_ch1 = subtract_blurred_image(image_roi_dye, make_smaller=False) #calculate img difference for virus channel (e.g. fluorescence)\n",
    "difference_ch3 = subtract_blurred_image(image_roi_virus, make_smaller=False) #calculate img difference for virus channel (e.g. fluorescence)\n"
   ]
  },
  {
   "cell_type": "code",
   "execution_count": null,
   "metadata": {},
   "outputs": [],
   "source": [
    "print(f'shape of data_dye {data_dye.shape}')\n",
    "print(f'{row=} {col=} {startr=} {endr=} {startc=} {endc=}')\n",
    "f, axarr = plt.subplots(2,2)\n",
    "axarr[0,0].imshow(image_roi_dye, cmap=\"gray\")\n",
    "axarr[0,1].imshow(control_img, cmap=\"gray\")\n",
    "axarr[1,0].imshow(avg_cell_CH1, cmap=\"gray\")\n",
    "axarr[1,1].imshow(difference_ch1, cmap=\"gray\")\n"
   ]
  },
  {
   "cell_type": "code",
   "execution_count": null,
   "metadata": {},
   "outputs": [],
   "source": [
    "connected_segments = find_connected_segments(difference_ch3, 2000)\n",
    "n_segments, segment_masks, segment_stats, segment_location = (connected_segments)\n",
    "print(f'Found {n_segments} segments')\n",
    "print(f'{segment_stats=}')\n",
    "print(f'{segment_location=}')\n",
    "print(f'difference_ch3 shape {difference_ch3.shape}')\n",
    "print(f'shape of segmentmasks {segment_masks.shape}')\n",
    "ids, counts = np.unique(segment_masks, return_counts=True)\n",
    "print(len(ids))\n",
    "print(len(counts))\n"
   ]
  },
  {
   "cell_type": "code",
   "execution_count": null,
   "metadata": {},
   "outputs": [],
   "source": [
    "plt.imshow(segment_masks, cmap=\"gray\")\n",
    "plt.show()"
   ]
  },
  {
   "cell_type": "code",
   "execution_count": null,
   "metadata": {},
   "outputs": [],
   "source": [
    "segmenti = 0\n",
    "_, _, width, height, object_area = segment_stats[segmenti, :]\n",
    "print(f'{width=} {height=} {object_area=}')\n"
   ]
  },
  {
   "cell_type": "code",
   "execution_count": null,
   "metadata": {},
   "outputs": [],
   "source": [
    "segment_row, segment_col = segment_location[segmenti, :]\n",
    "print(f'{segment_row=}, {segment_col=}, {width=}, {height=}, {object_area=}')"
   ]
  },
  {
   "cell_type": "code",
   "execution_count": null,
   "metadata": {},
   "outputs": [],
   "source": [
    "cell_radius = 40\n",
    "row_start = int(segment_row - cell_radius)\n",
    "col_start = int(segment_col - cell_radius)\n",
    "row_end = int(segment_row + cell_radius)\n",
    "col_end = int(segment_col + cell_radius)\n",
    "segment_mask = (segment_masks[row_start:row_end, col_start:col_end] == segmenti)\n",
    "print(row_start, row_end, col_start, col_end)\n",
    "print(f'segment mask {segment_mask.shape}')"
   ]
  },
  {
   "cell_type": "code",
   "execution_count": null,
   "metadata": {},
   "outputs": [],
   "source": [
    "ch1_corr, ch1_energy = calculate_correlation_and_energy(avg_cell_img[\"CH1\"], difference_ch1.T)\n",
    "print(ch1_corr, ch1_energy)\n",
    "#plt.imshow(segment_masks, cmap=\"gray\")\n",
    "#plt.show()"
   ]
  },
  {
   "cell_type": "code",
   "execution_count": null,
   "metadata": {},
   "outputs": [],
   "source": [
    "animal: DK184\n",
    "section: 0\n",
    "index: 45202\n",
    "row: 5718\n",
    "col: 26346\n",
    "area: 3575\n",
    "height: 68\n",
    "width: 71\n",
    "corr_CH1: -0.062213653117781466\n",
    "energy_CH1: 0.03439795782711712\n",
    "corr_CH3: 1.5275977775282754\n",
    "energy_CH3: 0.21030696615058242\n",
    "m00_mask: 3575.0\n",
    "m10_mask: 144022.0\n",
    "m01_mask: 143666.0\n",
    "m20_mask: 6906752.0\n",
    "m11_mask: 6009085.0\n",
    "m02_mask: 6756562.0\n",
    "m30_mask: 367217452.0\n",
    "m21_mask: 295736537.0\n",
    "m12_mask: 290128787.0\n",
    "m03_mask: 350298704.0\n",
    "mu20_mask: 1104699.836643357\n",
    "mu11_mask: 221374.6078321682\n",
    "mu02_mask: 983157.9283916088\n",
    "mu30_mask: -34686.82240531219\n",
    "mu21_mask: 343233.39988559886\n",
    "mu12_mask: 142330.72541748337\n",
    "mu03_mask: -241427.5168160958\n",
    "nu20_mask: 0.08643550973785374\n",
    "nu11_mask: 0.017321109713505263\n",
    "nu02_mask: 0.07692565335354169\n",
    "nu30_mask: -4.5391486079870513e-05\n",
    "nu21_mask: 0.0004491582973788852\n",
    "nu12_mask: 0.00018625526045695513\n",
    "nu03_mask: -0.0003159342081209841\n",
    "h0_mask: 0.16336116309139542\n",
    "h1_mask: 0.001290520735279386\n",
    "h2_mask: 3.1319358386334703e-06\n",
    "h3_mask: 3.759126089035539e-08\n",
    "h4_mask: 1.2101273526074454e-14\n",
    "h5_mask: 1.320135938455445e-09\n",
    "h6_mask: -4.464147373450296e-15\n",
    "contrast1: -0.033574577420949936\n",
    "contrast3: 0.2903658449649811"
   ]
  }
 ],
 "metadata": {
  "kernelspec": {
   "display_name": "Python 3 (ipykernel)",
   "language": "python",
   "name": "python3"
  },
  "language_info": {
   "codemirror_mode": {
    "name": "ipython",
    "version": 3
   },
   "file_extension": ".py",
   "mimetype": "text/x-python",
   "name": "python",
   "nbconvert_exporter": "python",
   "pygments_lexer": "ipython3",
   "version": "3.10.12"
  },
  "toc": {
   "base_numbering": 1,
   "nav_menu": {},
   "number_sections": true,
   "sideBar": true,
   "skip_h1_title": false,
   "title_cell": "Table of Contents",
   "title_sidebar": "Contents",
   "toc_cell": false,
   "toc_position": {},
   "toc_section_display": true,
   "toc_window_display": false
  }
 },
 "nbformat": 4,
 "nbformat_minor": 4
}
