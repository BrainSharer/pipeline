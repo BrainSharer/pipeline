{
 "cells": [
  {
   "cell_type": "code",
   "execution_count": null,
   "id": "4892eb0d",
   "metadata": {},
   "outputs": [],
   "source": [
    "import cv2\n",
    "import os\n",
    "import numpy as np\n",
    "from skimage import io\n",
    "from PIL import Image\n",
    "from matplotlib import pyplot as plt\n",
    "from mpl_toolkits.axes_grid1 import ImageGrid"
   ]
  },
  {
   "cell_type": "code",
   "execution_count": null,
   "id": "9f2ca3cb",
   "metadata": {},
   "outputs": [],
   "source": [
    "ROOT = '/net/birdstore/Active_Atlas_Data/data_root/brains_info/masks/tg'"
   ]
  },
  {
   "cell_type": "code",
   "execution_count": null,
   "id": "db5d1600",
   "metadata": {},
   "outputs": [],
   "source": [
    "l1 = [0.6366425209185657, 0.3078008223434581, 0.21920677614124381, 0.16641398398753474, 0.1532076752251562, 0.14668911816004446, 0.13571230437168302, 0.13526896732475827, 0.13503025472164154, 0.13416594453155994, 0.13486540772239952, 0.13398436900666533, 0.13457525455776384, 0.13514323603800116, 0.13530216048307278]"
   ]
  },
  {
   "cell_type": "code",
   "execution_count": null,
   "id": "2e28745d",
   "metadata": {},
   "outputs": [],
   "source": [
    "x = [i for i in range(len(l1))]"
   ]
  },
  {
   "cell_type": "code",
   "execution_count": null,
   "id": "6b401f40",
   "metadata": {},
   "outputs": [],
   "source": [
    "plt.figure(num = 3, figsize=(8, 5))\n",
    "plt.plot(x, l1,  color='green', linestyle='dashed', marker='o',\n",
    "     markerfacecolor='blue', markersize=5)\n",
    "plt.xticks(np.arange(min(x), max(x)+1, 1.0))\n",
    "plt.xlabel('Epochs')\n",
    "plt.ylabel('Loss')\n",
    "plt.title(f'Loss over {len(x)} epochs')\n",
    "plt.show()"
   ]
  },
  {
   "cell_type": "code",
   "execution_count": null,
   "id": "50912d98",
   "metadata": {},
   "outputs": [],
   "source": [
    "img_path = '/net/birdstore/Active_Atlas_Data/data_root/pipeline_data/DK55/preps/CH1/thumbnail_aligned/159.tif'\n",
    "img = Image.open(img_path)\n",
    "img16 = np.array(img)\n",
    "img8 = (img16/256).astype('uint8')\n",
    "pimg8 = Image.fromarray(img8)\n"
   ]
  },
  {
   "cell_type": "code",
   "execution_count": null,
   "id": "f1ce44a0",
   "metadata": {},
   "outputs": [],
   "source": [
    "fname = 'DK79.38.60.102.tif'\n",
    "imgpath = os.path.join(ROOT, 'thumbnail_aligned', fname)\n",
    "maskpath = os.path.join(ROOT, 'thumbnail_masked', fname)\n",
    "img = cv2.imread(imgpath,cv2.IMREAD_GRAYSCALE)\n",
    "mask = cv2.imread(maskpath,cv2.IMREAD_GRAYSCALE)\n",
    "\n",
    "img = img.astype(np.uint16)\n",
    "mask = mask.astype(np.uint8)\n",
    "plt.figure(figsize=[20,20])\n",
    "plt.imshow(img,alpha=0.5)\n",
    "plt.imshow(mask,alpha=0.5)"
   ]
  },
  {
   "cell_type": "code",
   "execution_count": null,
   "id": "e6a96ca5",
   "metadata": {},
   "outputs": [],
   "source": [
    "imgpath = os.path.join(ROOT, 'thumbnail_aligned', fname)\n",
    "maskpath = os.path.join(ROOT, 'thumbnail_masked', fname)\n",
    "img = cv2.imread(imgpath)\n",
    "mask = cv2.imread(maskpath)\n",
    "fig = plt.figure(figsize=(14., 14.))\n",
    "grid = ImageGrid(fig, 111,  # similar to subplot(111)\n",
    "                 nrows_ncols=(1, 2),  # creates 2x2 grid of axes\n",
    "                 axes_pad=0.5,  # pad between axes in inch.\n",
    "                 )\n",
    "for ax, im, title in zip(grid, [mask, img],['mask','img']):\n",
    "    # Iterating over the grid returns the Axes.\n",
    "    ax.set_title('Section {0} '.format(title))\n",
    "    ax.imshow(im)\n",
    "\n",
    "plt.show()"
   ]
  }
 ],
 "metadata": {
  "kernelspec": {
   "display_name": "Python 3 (ipykernel)",
   "language": "python",
   "name": "python3"
  },
  "language_info": {
   "codemirror_mode": {
    "name": "ipython",
    "version": 3
   },
   "file_extension": ".py",
   "mimetype": "text/x-python",
   "name": "python",
   "nbconvert_exporter": "python",
   "pygments_lexer": "ipython3",
   "version": "3.10.6"
  },
  "vscode": {
   "interpreter": {
    "hash": "9b29855540defb355a50951874e4b3a9a33e036ed29af88ad65ef37e45f70f6e"
   }
  }
 },
 "nbformat": 4,
 "nbformat_minor": 5
}
