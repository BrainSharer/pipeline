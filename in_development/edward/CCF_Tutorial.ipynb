{
 "cells": [
  {
   "cell_type": "markdown",
   "metadata": {},
   "source": [
    "# The Common Coordinate Framework and AllenSDK\n",
    "\n",
    "The Common Coordinate Framework (CCF) can readily be accessed through the AllenSDK and used to analyze arrays of registered data. \n",
    "\n",
    "## Installation\n",
    "To get started, you can follow [these](https://allensdk.readthedocs.io/en/latest/install.html) instructions to install the AllenSDK:\n",
    "\n",
    "First install python 3.7\n",
    "Then install the AllenSDK using PIP:\n",
    "    pip install allensdk\n",
    "\n",
    "You can now run the AllenSDK in a jupyter notebook or other environment of your choice. Documentation can be found [here](https://allensdk.readthedocs.io/en/latest/).\n",
    "\n",
    "## The Mouse Connectivity Cache\n",
    "\n",
    "The average template volume, annotation volume, and ontology can all be accessed through the Mouse Connectivity Cache. This also provides access to published connectivity data registered to the CCF. First, import the MouseConnectivityCache. Along with this, I will also import numpy and pandas to use for data processing, as well as pyplot for visualization."
   ]
  },
  {
   "cell_type": "code",
   "execution_count": 1,
   "metadata": {},
   "outputs": [],
   "source": [
    "import numpy as np\n",
    "import pandas as pd\n",
    "from allensdk.core.mouse_connectivity_cache import MouseConnectivityCache\n",
    "from matplotlib import pyplot as plt"
   ]
  },
  {
   "cell_type": "code",
   "execution_count": 2,
   "metadata": {},
   "outputs": [],
   "source": [
    "%matplotlib notebook"
   ]
  },
  {
   "cell_type": "markdown",
   "metadata": {},
   "source": [
    "### Accessing the CCF from the MouseConnectivityCache\n",
    "\n",
    "Instantiate the MouseConnectivityCache (mcc). The default resolution is 25 microns, but 10,50, and 100 microns are also valid options. You can also specify a location of a manifest file, which would keep track of all downloaded assets from template and annotation volumes to experimental data. If a manifest file directory is not provided, one will be created in the current working directory."
   ]
  },
  {
   "cell_type": "code",
   "execution_count": 3,
   "metadata": {},
   "outputs": [],
   "source": [
    "mcc = MouseConnectivityCache(resolution=10)"
   ]
  },
  {
   "cell_type": "markdown",
   "metadata": {},
   "source": [
    "#### Annotated Volume and Reference Space\n",
    "Now you can get the Reference Space (rsp) at that resolution. This automatically downloads the annotated volume at the specified resolution (25 microns)."
   ]
  },
  {
   "cell_type": "code",
   "execution_count": 4,
   "metadata": {},
   "outputs": [
    {
     "name": "stderr",
     "output_type": "stream",
     "text": [
      "2025-03-10 06:32:33,529 allensdk.api.api.retrieve_file_over_http INFO     Downloading URL: http://download.alleninstitute.org/informatics-archive/current-release/mouse_ccf/annotation/ccf_2017/annotation_10.nrrd\n"
     ]
    }
   ],
   "source": [
    "rsp = mcc.get_reference_space()"
   ]
  },
  {
   "cell_type": "markdown",
   "metadata": {},
   "source": [
    "The annotated volume is a 3D numpy ndarray, with axes correspond to AP,DV, and ML respectively:"
   ]
  },
  {
   "cell_type": "code",
   "execution_count": 5,
   "metadata": {},
   "outputs": [
    {
     "name": "stdout",
     "output_type": "stream",
     "text": [
      "Shape of annotated volume: (1320, 800, 1140)\n",
      "Annotated volume data type: uint32\n"
     ]
    }
   ],
   "source": [
    "print('Shape of annotated volume:',rsp.annotation.shape)\n",
    "print('Annotated volume data type:',rsp.annotation.dtype)"
   ]
  },
  {
   "cell_type": "markdown",
   "metadata": {},
   "source": [
    "The rsp provides access to the structure tree from the ontology. Given that there are multiple atlases and associated ontologies, we are only interested in the structures belonging to this annotation. Thus, we remove unassigned structures from the structure tree. This returns a structure graph which is more easily viewed as a pandas DataFrame:"
   ]
  },
  {
   "cell_type": "code",
   "execution_count": 6,
   "metadata": {},
   "outputs": [],
   "source": [
    "sg = rsp.remove_unassigned()"
   ]
  },
  {
   "cell_type": "code",
   "execution_count": 7,
   "metadata": {},
   "outputs": [],
   "source": [
    "sg = pd.DataFrame(sg)"
   ]
  },
  {
   "cell_type": "code",
   "execution_count": 8,
   "metadata": {},
   "outputs": [
    {
     "data": {
      "text/html": [
       "<div>\n",
       "<style scoped>\n",
       "    .dataframe tbody tr th:only-of-type {\n",
       "        vertical-align: middle;\n",
       "    }\n",
       "\n",
       "    .dataframe tbody tr th {\n",
       "        vertical-align: top;\n",
       "    }\n",
       "\n",
       "    .dataframe thead th {\n",
       "        text-align: right;\n",
       "    }\n",
       "</style>\n",
       "<table border=\"1\" class=\"dataframe\">\n",
       "  <thead>\n",
       "    <tr style=\"text-align: right;\">\n",
       "      <th></th>\n",
       "      <th>acronym</th>\n",
       "      <th>graph_id</th>\n",
       "      <th>graph_order</th>\n",
       "      <th>id</th>\n",
       "      <th>name</th>\n",
       "      <th>structure_id_path</th>\n",
       "      <th>structure_set_ids</th>\n",
       "      <th>rgb_triplet</th>\n",
       "    </tr>\n",
       "  </thead>\n",
       "  <tbody>\n",
       "    <tr>\n",
       "      <th>0</th>\n",
       "      <td>root</td>\n",
       "      <td>1</td>\n",
       "      <td>0</td>\n",
       "      <td>997</td>\n",
       "      <td>root</td>\n",
       "      <td>[997]</td>\n",
       "      <td>[691663206]</td>\n",
       "      <td>[255, 255, 255]</td>\n",
       "    </tr>\n",
       "    <tr>\n",
       "      <th>1</th>\n",
       "      <td>grey</td>\n",
       "      <td>1</td>\n",
       "      <td>1</td>\n",
       "      <td>8</td>\n",
       "      <td>Basic cell groups and regions</td>\n",
       "      <td>[997, 8]</td>\n",
       "      <td>[112905828, 691663206, 12, 184527634, 11290581...</td>\n",
       "      <td>[191, 218, 227]</td>\n",
       "    </tr>\n",
       "    <tr>\n",
       "      <th>2</th>\n",
       "      <td>CH</td>\n",
       "      <td>1</td>\n",
       "      <td>2</td>\n",
       "      <td>567</td>\n",
       "      <td>Cerebrum</td>\n",
       "      <td>[997, 8, 567]</td>\n",
       "      <td>[112905828, 691663206, 12, 184527634, 11290581...</td>\n",
       "      <td>[176, 240, 255]</td>\n",
       "    </tr>\n",
       "    <tr>\n",
       "      <th>3</th>\n",
       "      <td>CTX</td>\n",
       "      <td>1</td>\n",
       "      <td>3</td>\n",
       "      <td>688</td>\n",
       "      <td>Cerebral cortex</td>\n",
       "      <td>[997, 8, 567, 688]</td>\n",
       "      <td>[112905828, 691663206, 12, 184527634, 11290581...</td>\n",
       "      <td>[176, 255, 184]</td>\n",
       "    </tr>\n",
       "    <tr>\n",
       "      <th>4</th>\n",
       "      <td>CTXpl</td>\n",
       "      <td>1</td>\n",
       "      <td>4</td>\n",
       "      <td>695</td>\n",
       "      <td>Cortical plate</td>\n",
       "      <td>[997, 8, 567, 688, 695]</td>\n",
       "      <td>[112905828, 691663206, 12, 184527634, 11290581...</td>\n",
       "      <td>[112, 255, 112]</td>\n",
       "    </tr>\n",
       "  </tbody>\n",
       "</table>\n",
       "</div>"
      ],
      "text/plain": [
       "  acronym  graph_id  graph_order   id                           name  \\\n",
       "0    root         1            0  997                           root   \n",
       "1    grey         1            1    8  Basic cell groups and regions   \n",
       "2      CH         1            2  567                       Cerebrum   \n",
       "3     CTX         1            3  688                Cerebral cortex   \n",
       "4   CTXpl         1            4  695                 Cortical plate   \n",
       "\n",
       "         structure_id_path                                  structure_set_ids  \\\n",
       "0                    [997]                                        [691663206]   \n",
       "1                 [997, 8]  [112905828, 691663206, 12, 184527634, 11290581...   \n",
       "2            [997, 8, 567]  [112905828, 691663206, 12, 184527634, 11290581...   \n",
       "3       [997, 8, 567, 688]  [112905828, 691663206, 12, 184527634, 11290581...   \n",
       "4  [997, 8, 567, 688, 695]  [112905828, 691663206, 12, 184527634, 11290581...   \n",
       "\n",
       "       rgb_triplet  \n",
       "0  [255, 255, 255]  \n",
       "1  [191, 218, 227]  \n",
       "2  [176, 240, 255]  \n",
       "3  [176, 255, 184]  \n",
       "4  [112, 255, 112]  "
      ]
     },
     "execution_count": 8,
     "metadata": {},
     "output_type": "execute_result"
    }
   ],
   "source": [
    "sg.head()"
   ]
  },
  {
   "cell_type": "code",
   "execution_count": 9,
   "metadata": {},
   "outputs": [
    {
     "data": {
      "text/html": [
       "<div>\n",
       "<style scoped>\n",
       "    .dataframe tbody tr th:only-of-type {\n",
       "        vertical-align: middle;\n",
       "    }\n",
       "\n",
       "    .dataframe tbody tr th {\n",
       "        vertical-align: top;\n",
       "    }\n",
       "\n",
       "    .dataframe thead th {\n",
       "        text-align: right;\n",
       "    }\n",
       "</style>\n",
       "<table border=\"1\" class=\"dataframe\">\n",
       "  <thead>\n",
       "    <tr style=\"text-align: right;\">\n",
       "      <th></th>\n",
       "      <th>acronym</th>\n",
       "      <th>graph_id</th>\n",
       "      <th>graph_order</th>\n",
       "      <th>id</th>\n",
       "      <th>name</th>\n",
       "      <th>structure_id_path</th>\n",
       "      <th>structure_set_ids</th>\n",
       "      <th>rgb_triplet</th>\n",
       "    </tr>\n",
       "  </thead>\n",
       "  <tbody>\n",
       "    <tr>\n",
       "      <th>696</th>\n",
       "      <td>CB</td>\n",
       "      <td>1</td>\n",
       "      <td>1014</td>\n",
       "      <td>512</td>\n",
       "      <td>Cerebellum</td>\n",
       "      <td>[997, 8, 512]</td>\n",
       "      <td>[2, 112905828, 691663206, 12, 184527634, 11290...</td>\n",
       "      <td>[240, 240, 128]</td>\n",
       "    </tr>\n",
       "  </tbody>\n",
       "</table>\n",
       "</div>"
      ],
      "text/plain": [
       "    acronym  graph_id  graph_order   id        name structure_id_path  \\\n",
       "696      CB         1         1014  512  Cerebellum     [997, 8, 512]   \n",
       "\n",
       "                                     structure_set_ids      rgb_triplet  \n",
       "696  [2, 112905828, 691663206, 12, 184527634, 11290...  [240, 240, 128]  "
      ]
     },
     "execution_count": 9,
     "metadata": {},
     "output_type": "execute_result"
    }
   ],
   "source": [
    "sg.loc[sg['name'] == 'Cerebellum']"
   ]
  },
  {
   "cell_type": "markdown",
   "metadata": {},
   "source": [
    "The structures' acronyms, names and IDs can all be linked through the structure graph."
   ]
  },
  {
   "cell_type": "markdown",
   "metadata": {},
   "source": [
    "While the rsp can be used to generate sections in the coronal (0), horizontal (1), or sagittal (2) planes:"
   ]
  },
  {
   "cell_type": "code",
   "execution_count": null,
   "metadata": {},
   "outputs": [],
   "source": [
    "orientation = {'coronal':0,'horizontal':1,'sagittal':2} # makes orientation arguments more readible\n",
    "pos_microns = lambda x:x*25 # get_slice_image function takes positional arguments in microns instead of 25 micron increments\n",
    "\n",
    "img = rsp.get_slice_image(orientation['sagittal'],pos_microns(200))\n",
    "plt.imshow(img)"
   ]
  },
  {
   "cell_type": "markdown",
   "metadata": {},
   "source": [
    "The rsp can also generate masks of given structure IDs. The IDs are provided as a list, and by default include all voxels annotated as children of the given structures (direct_only=False). If only the parent level voxels are desired, set direct_only to True.\n",
    "\n",
    "Here we make a mask of the Cerebral Cortex, which from the structure graph is shown to have the ID 688."
   ]
  },
  {
   "cell_type": "code",
   "execution_count": null,
   "metadata": {},
   "outputs": [],
   "source": [
    "ctx_mask = rsp.make_structure_mask([512], direct_only=False)"
   ]
  },
  {
   "cell_type": "code",
   "execution_count": null,
   "metadata": {},
   "outputs": [],
   "source": [
    "print('Shape of mask:',ctx_mask.shape)\n",
    "print('Mask data type:',ctx_mask.dtype)\n",
    "print('Value of masked voxels:',ctx_mask.max())"
   ]
  },
  {
   "cell_type": "code",
   "execution_count": null,
   "metadata": {},
   "outputs": [],
   "source": [
    "midpoint = ctx_mask.shape[2] // 2\n",
    "plt.imshow(ctx_mask[:,:,midpoint])"
   ]
  },
  {
   "cell_type": "markdown",
   "metadata": {},
   "source": [
    "The mask is the same shape as the specified reference space, and voxels in that space that belong to the Cerebral Cortex are labeled 1."
   ]
  },
  {
   "cell_type": "markdown",
   "metadata": {},
   "source": [
    "#### Average Template Volume\n",
    "The mcc also provides access to the average template volume, upon which the CCF is constructed. Downloading the template volume puts it in the directory specified by the manifest file when the mcc was instantiated."
   ]
  },
  {
   "cell_type": "code",
   "execution_count": null,
   "metadata": {},
   "outputs": [],
   "source": [
    "avg_temp, meta = mcc.get_template_volume()"
   ]
  },
  {
   "cell_type": "code",
   "execution_count": null,
   "metadata": {},
   "outputs": [],
   "source": [
    "print('Shape of average template volume:',avg_temp.shape)\n",
    "print('Template volume data type:',avg_temp.dtype)\n",
    "print('Max intensity of template volume:',avg_temp.max())"
   ]
  },
  {
   "cell_type": "code",
   "execution_count": null,
   "metadata": {},
   "outputs": [],
   "source": [
    "midpoint = ctx_mask.shape[0] // 2\n",
    "print(midpoint)\n",
    "plt.imshow(avg_temp[midpoint,:,:])"
   ]
  },
  {
   "cell_type": "markdown",
   "metadata": {},
   "source": [
    "### Analysis Using CCF\n",
    "\n",
    "After accessing the different components of the CCF, we can now use them for analysis. For example, we can sample voxels from any data array in that space using the masks from rsp. To do this, we can simply get the coordinates of the masked voxels and sample our data array with them."
   ]
  },
  {
   "cell_type": "code",
   "execution_count": null,
   "metadata": {},
   "outputs": [],
   "source": [
    "ctx_mask.nonzero()"
   ]
  },
  {
   "cell_type": "code",
   "execution_count": null,
   "metadata": {},
   "outputs": [],
   "source": [
    "avg_temp[ctx_mask.nonzero()]"
   ]
  },
  {
   "cell_type": "markdown",
   "metadata": {},
   "source": [
    "This resulting array contains the intensity of each voxel in the Cerebral Cortex of the average template volume."
   ]
  },
  {
   "cell_type": "markdown",
   "metadata": {},
   "source": [
    "### Accessing Experiments\n",
    "\n",
    "The mcc also allows us to access published experiments. We can view these as a pandas DataFrame and filter out the data of interest. For example, we can look at all experiments listed as having primary injections in VISp."
   ]
  },
  {
   "cell_type": "code",
   "execution_count": null,
   "metadata": {},
   "outputs": [],
   "source": [
    "exp = mcc.get_experiments(dataframe=True)"
   ]
  },
  {
   "cell_type": "code",
   "execution_count": null,
   "metadata": {},
   "outputs": [],
   "source": [
    "exp[exp.structure_abbrev == 'VISp']"
   ]
  },
  {
   "cell_type": "markdown",
   "metadata": {},
   "source": [
    "If we decide to look at the projection densities of a given experiment, we can simply use the mcc to download that data, which will automatically be downloaded at our specified resolution."
   ]
  },
  {
   "cell_type": "code",
   "execution_count": null,
   "metadata": {},
   "outputs": [],
   "source": [
    "projden, meta = mcc.get_projection_density(503069254)"
   ]
  },
  {
   "cell_type": "code",
   "execution_count": null,
   "metadata": {},
   "outputs": [],
   "source": [
    "print('Shape of projection density:',projden.shape)\n",
    "print('Projection density data type:',projden.dtype)\n",
    "print('Max value of projection density:',projden.max())"
   ]
  },
  {
   "cell_type": "markdown",
   "metadata": {},
   "source": [
    "According to the experiments data frame, this particular experiment has injection coordinates (8690,1440,3090) in microns. Our projden array is in 25 micron space, so we need to convert our coordinates."
   ]
  },
  {
   "cell_type": "code",
   "execution_count": null,
   "metadata": {},
   "outputs": [],
   "source": [
    "8690/25"
   ]
  },
  {
   "cell_type": "code",
   "execution_count": null,
   "metadata": {},
   "outputs": [],
   "source": [
    "plt.imshow(projden[348,:,:]) # indeces must be integers, so we round up from 347.6"
   ]
  },
  {
   "cell_type": "markdown",
   "metadata": {},
   "source": [
    "### Saving Data\n",
    "\n",
    "The projection volume can also be written locally to a nrrd file, which can then be viewed by ITK-Snap."
   ]
  },
  {
   "cell_type": "code",
   "execution_count": null,
   "metadata": {},
   "outputs": [],
   "source": [
    "import nrrd"
   ]
  },
  {
   "cell_type": "code",
   "execution_count": null,
   "metadata": {},
   "outputs": [],
   "source": [
    "nrrd.write('./projection_density_25_503069254.nrrd',projden)"
   ]
  },
  {
   "cell_type": "markdown",
   "metadata": {},
   "source": [
    "### Using Masks\n",
    "\n",
    "Using the masks we create from rsp, we can analyze parcel out the projection densities by annotated structure. For example, we can look at the sum projection density by structure using a loop. We'll have to account for left and right hemispheres, as the masks automatically include both."
   ]
  },
  {
   "cell_type": "code",
   "execution_count": null,
   "metadata": {},
   "outputs": [],
   "source": [
    "print('Number of structures in structure graph:',len(sg.id))"
   ]
  },
  {
   "cell_type": "markdown",
   "metadata": {},
   "source": [
    "There are 839 annotated structures, so this approach can be a little slow. If there are specific structures of interest, it may make more sense to simply sample those. For example, we can look at the projections in the Thalamus and all its substructures.\n",
    "\n",
    "To find the Thalamus's ID, we can use the structure graph."
   ]
  },
  {
   "cell_type": "code",
   "execution_count": null,
   "metadata": {},
   "outputs": [],
   "source": [
    "sg[sg.name == 'Thalamus']"
   ]
  },
  {
   "cell_type": "markdown",
   "metadata": {},
   "source": [
    "We can also use the structre tree in rsp to find the IDs of all of its descendants (substructures)."
   ]
  },
  {
   "cell_type": "code",
   "execution_count": null,
   "metadata": {},
   "outputs": [],
   "source": [
    "print(rsp.structure_tree.descendant_ids([549])[0])"
   ]
  },
  {
   "cell_type": "markdown",
   "metadata": {},
   "source": [
    "IDs are hard to make sense of, so we can map these back to their acronyms."
   ]
  },
  {
   "cell_type": "code",
   "execution_count": null,
   "metadata": {},
   "outputs": [],
   "source": [
    "id_acronym_map = rsp.structure_tree.get_id_acronym_map() # Dictionary returns IDs given acronyms\n",
    "acronym_id_map = {v:k for k,v in id_acronym_map.items()} # Flip key:value pairs to get dictionary for acronyms given IDs"
   ]
  },
  {
   "cell_type": "code",
   "execution_count": null,
   "metadata": {},
   "outputs": [],
   "source": [
    "print(list(map(acronym_id_map.get,rsp.structure_tree.descendant_ids([549])[0])))"
   ]
  },
  {
   "cell_type": "markdown",
   "metadata": {},
   "source": [
    "We can now sample our data by thalamic structure and hemisphere. We'll use a hemisphere id of 1 for the left hemisphere and 2 for the right. For the sum of signal in both hemispheres, we'll use a hemisphere id of 3."
   ]
  },
  {
   "cell_type": "code",
   "execution_count": null,
   "metadata": {},
   "outputs": [],
   "source": [
    "sum_projden = []\n",
    "for ID in rsp.structure_tree.descendant_ids([549])[0]:\n",
    "    mask = rsp.make_structure_mask([ID])\n",
    "    \n",
    "    # left hemisphere\n",
    "    left = projden[:,:,:228][mask[:,:,:228].nonzero()].sum()\n",
    "    sum_projden.append({'id':ID, 'acronym':acronym_id_map[ID], 'hemisphere':1, 'sum_projection_density':left})\n",
    "    \n",
    "    # right hemisphere\n",
    "    right = projden[:,:,228:][mask[:,:,228:].nonzero()].sum()\n",
    "    sum_projden.append({'id':ID, 'acronym':acronym_id_map[ID], 'hemisphere':2, 'sum_projection_density':right})\n",
    "    \n",
    "    # both hemispheres\n",
    "    sum_projden.append({'id':ID, 'acronym':acronym_id_map[ID], 'hemisphere':3, 'sum_projection_density':left+right})"
   ]
  },
  {
   "cell_type": "code",
   "execution_count": null,
   "metadata": {},
   "outputs": [],
   "source": [
    "df = pd.DataFrame(sum_projden)"
   ]
  },
  {
   "cell_type": "code",
   "execution_count": null,
   "metadata": {},
   "outputs": [],
   "source": [
    "df.head(10)"
   ]
  },
  {
   "cell_type": "markdown",
   "metadata": {},
   "source": [
    "### Accessing Experiments Structure Unionizes\n",
    "\n",
    "For connectivity data published through the AllenSDK, this has already been done and can be accessed using the mcc."
   ]
  },
  {
   "cell_type": "code",
   "execution_count": null,
   "metadata": {},
   "outputs": [],
   "source": [
    "struct_union = mcc.get_experiment_structure_unionizes(503069254)"
   ]
  },
  {
   "cell_type": "code",
   "execution_count": null,
   "metadata": {},
   "outputs": [],
   "source": [
    "struct_union"
   ]
  },
  {
   "cell_type": "markdown",
   "metadata": {},
   "source": [
    "## Structure Sets\n",
    "\n",
    "While there are 839 unique annotations in CCFv3, these annotations represent structures at different levels of ontology. Structure sets provide a way to access structures at a given level of ontology. For example, 12 high-level structures have been grouped together in a \"coarse\" structures set and 316 mid-level structures in a \"summary\" structures set. These sets of structures can be accessed through their structure_set_ids. To find the available structure sets, the OntologiesApi is needed."
   ]
  },
  {
   "cell_type": "code",
   "execution_count": null,
   "metadata": {},
   "outputs": [],
   "source": [
    "from allensdk.api.queries.ontologies_api import OntologiesApi"
   ]
  },
  {
   "cell_type": "code",
   "execution_count": null,
   "metadata": {},
   "outputs": [],
   "source": [
    "oapi = OntologiesApi()"
   ]
  },
  {
   "cell_type": "code",
   "execution_count": null,
   "metadata": {},
   "outputs": [],
   "source": [
    "structure_sets = pd.DataFrame(oapi.get_structure_sets())"
   ]
  },
  {
   "cell_type": "markdown",
   "metadata": {},
   "source": [
    "### Coarse Structure Set"
   ]
  },
  {
   "cell_type": "code",
   "execution_count": null,
   "metadata": {},
   "outputs": [],
   "source": [
    "structure_sets[structure_sets.name.map(lambda x:'coarse' in x.lower())]"
   ]
  },
  {
   "cell_type": "code",
   "execution_count": null,
   "metadata": {},
   "outputs": [],
   "source": [
    "coarse_structures = pd.DataFrame(rsp.structure_tree.get_structures_by_set_id([2]))"
   ]
  },
  {
   "cell_type": "code",
   "execution_count": null,
   "metadata": {},
   "outputs": [],
   "source": [
    "coarse_structures"
   ]
  },
  {
   "cell_type": "markdown",
   "metadata": {},
   "source": [
    "### Summary Structure Set"
   ]
  },
  {
   "cell_type": "code",
   "execution_count": null,
   "metadata": {},
   "outputs": [],
   "source": [
    "structure_sets[structure_sets.name.map(lambda x:'summary' in x.lower())]"
   ]
  },
  {
   "cell_type": "code",
   "execution_count": null,
   "metadata": {},
   "outputs": [],
   "source": [
    "summary_structures = pd.DataFrame(rsp.structure_tree.get_structures_by_set_id([167587189]))"
   ]
  },
  {
   "cell_type": "code",
   "execution_count": null,
   "metadata": {},
   "outputs": [],
   "source": [
    "summary_structures"
   ]
  },
  {
   "cell_type": "markdown",
   "metadata": {},
   "source": [
    "## Sample Analysis: Projection Density\n",
    "\n",
    "As an example, we can now view the projection density across coarse-level structures for all connectivity experiments with primary injection in MOp.\n",
    "\n",
    "We have our coarse_structure_ids:"
   ]
  },
  {
   "cell_type": "code",
   "execution_count": null,
   "metadata": {},
   "outputs": [],
   "source": [
    "coarse_structure_ids = coarse_structures.id.values"
   ]
  },
  {
   "cell_type": "code",
   "execution_count": null,
   "metadata": {},
   "outputs": [],
   "source": [
    "coarse_structure_ids"
   ]
  },
  {
   "cell_type": "markdown",
   "metadata": {},
   "source": [
    "From our experiments data frame, we can get experiment ids corresponding to MOp experiments."
   ]
  },
  {
   "cell_type": "code",
   "execution_count": null,
   "metadata": {},
   "outputs": [],
   "source": [
    "MOp_experiments = exp[exp.structure_abbrev == 'MOp'].id.values"
   ]
  },
  {
   "cell_type": "markdown",
   "metadata": {},
   "source": [
    "Using the mcc, we can get structure unionizes for those experiments in the coarse structures."
   ]
  },
  {
   "cell_type": "code",
   "execution_count": null,
   "metadata": {},
   "outputs": [],
   "source": [
    "MOp_exp_unionizes = mcc.get_structure_unionizes(MOp_experiments,structure_ids=coarse_structure_ids,hemisphere_ids=[1,2])"
   ]
  },
  {
   "cell_type": "markdown",
   "metadata": {},
   "source": [
    "For each experiment, we can identify the injection hemisphere."
   ]
  },
  {
   "cell_type": "code",
   "execution_count": null,
   "metadata": {},
   "outputs": [],
   "source": [
    "MOp_exp_unionizes[MOp_exp_unionizes.is_injection][['experiment_id','hemisphere_id']]"
   ]
  },
  {
   "cell_type": "markdown",
   "metadata": {},
   "source": [
    "If we are interested in ipsilateral projection densities, we can sample the unionizes results to include only non-injection results in the right hemisphere. Then we pivot the table to find the projection density in each coarse-level structure for each experiment."
   ]
  },
  {
   "cell_type": "code",
   "execution_count": null,
   "metadata": {},
   "outputs": [],
   "source": [
    "MOp_union_subsample = MOp_exp_unionizes[(MOp_exp_unionizes.hemisphere_id == 2)&(~MOp_exp_unionizes.is_injection)]\n",
    "projection_density_table = MOp_union_subsample.pivot(index='experiment_id',columns='structure_id',values='projection_density')"
   ]
  },
  {
   "cell_type": "code",
   "execution_count": null,
   "metadata": {},
   "outputs": [],
   "source": [
    "projection_density_table"
   ]
  },
  {
   "cell_type": "markdown",
   "metadata": {},
   "source": [
    "To view this as a heatmap, we get the axes of the table and convert the structure_ids to acronyms for legibility. We also need the matrix of the values in the table."
   ]
  },
  {
   "cell_type": "code",
   "execution_count": null,
   "metadata": {},
   "outputs": [],
   "source": [
    "structures = projection_density_table.columns.map(acronym_id_map)"
   ]
  },
  {
   "cell_type": "code",
   "execution_count": null,
   "metadata": {},
   "outputs": [],
   "source": [
    "experiments = projection_density_table.index"
   ]
  },
  {
   "cell_type": "code",
   "execution_count": null,
   "metadata": {},
   "outputs": [],
   "source": [
    "projection_density_matrix = projection_density_table.values"
   ]
  },
  {
   "cell_type": "code",
   "execution_count": null,
   "metadata": {},
   "outputs": [],
   "source": [
    "fig, ax = plt.subplots()\n",
    "fig.set_size_inches(len(structures)/3,len(experiments)/3)\n",
    "\n",
    "im = ax.imshow(projection_density_matrix)\n",
    "\n",
    "ax.set_xticks(np.arange(len(structures)))\n",
    "ax.set_yticks(np.arange(len(experiments)))\n",
    "\n",
    "ax.set_xticklabels(structures, rotation=90)\n",
    "ax.set_yticklabels(experiments)\n",
    "\n",
    "ax.xaxis.tick_top()\n",
    "\n",
    "fig.tight_layout()\n",
    "plt.show()"
   ]
  },
  {
   "cell_type": "markdown",
   "metadata": {},
   "source": [
    "## Download Section Images\n",
    "\n",
    "It is also important to be able to access and view the section images for a given experiment. This can be done through the ImageDownloadApi."
   ]
  },
  {
   "cell_type": "code",
   "execution_count": null,
   "metadata": {},
   "outputs": [],
   "source": [
    "from allensdk.api.queries.image_download_api import ImageDownloadApi\n",
    "from allensdk.core.mouse_connectivity_cache import MouseConnectivityApi\n",
    "import os"
   ]
  },
  {
   "cell_type": "markdown",
   "metadata": {},
   "source": [
    "For a given experiment, we can access all its sections through the experiment ID."
   ]
  },
  {
   "cell_type": "code",
   "execution_count": null,
   "metadata": {},
   "outputs": [],
   "source": [
    "ID = 503069254"
   ]
  },
  {
   "cell_type": "markdown",
   "metadata": {},
   "source": [
    "We instantiate the ImageDownloadApi to download images and use the MouseConnectivityApi to access relevant data for those images, such as equalization parameters."
   ]
  },
  {
   "cell_type": "code",
   "execution_count": null,
   "metadata": {},
   "outputs": [],
   "source": [
    "mca = MouseConnectivityApi()\n",
    "ida = ImageDownloadApi()"
   ]
  },
  {
   "cell_type": "markdown",
   "metadata": {},
   "source": [
    "For a given experiment, each section has a unique section_id, which we can access from its sections frame. Here, we see that this brain has been sectioned into 140 individual sections."
   ]
  },
  {
   "cell_type": "code",
   "execution_count": null,
   "metadata": {},
   "outputs": [],
   "source": [
    "sections_frame = pd.DataFrame(ida.section_image_query(ID))"
   ]
  },
  {
   "cell_type": "code",
   "execution_count": null,
   "metadata": {},
   "outputs": [],
   "source": [
    "sections_frame"
   ]
  },
  {
   "cell_type": "markdown",
   "metadata": {},
   "source": [
    "We are interested in the section_id corresponding to each section, so we extract those values from the data frame."
   ]
  },
  {
   "cell_type": "code",
   "execution_count": null,
   "metadata": {},
   "outputs": [],
   "source": [
    "section_ids = sections_frame[['section_number','id']].values"
   ]
  },
  {
   "cell_type": "code",
   "execution_count": null,
   "metadata": {},
   "outputs": [],
   "source": [
    "print(section_ids)"
   ]
  },
  {
   "cell_type": "markdown",
   "metadata": {},
   "source": [
    "We can access the equalization parameters from the experiment details, which we get from the MouseConnectivityApi (mca). This lets us get equalization ranges for each channel, to pass to the image downloader."
   ]
  },
  {
   "cell_type": "code",
   "execution_count": null,
   "metadata": {},
   "outputs": [],
   "source": [
    "details = mca.get_experiment_detail(ID)\n",
    "equalization_params = pd.DataFrame(details).T.loc['equalization'].values[0]\n",
    "equalization_ranges = [equalization_params['red_lower'],equalization_params['red_upper'],equalization_params['green_lower'],\n",
    "     equalization_params['green_upper'],equalization_params['blue_lower'],equalization_params['blue_upper']]"
   ]
  },
  {
   "cell_type": "code",
   "execution_count": null,
   "metadata": {},
   "outputs": [],
   "source": [
    "equalization_ranges"
   ]
  },
  {
   "cell_type": "markdown",
   "metadata": {},
   "source": [
    "We can now download the images. It can be convenient to put them all in a directory for that particular experiment. Then we download each individual section. In this case, we are downsampling the image by a factor of 4."
   ]
  },
  {
   "cell_type": "code",
   "execution_count": null,
   "metadata": {},
   "outputs": [],
   "source": [
    "if not os.path.exists('./{0}/sections'.format(ID)):\n",
    "    os.mkdir('./{0}/sections'.format(ID))\n",
    "    \n",
    "for section_number, section_id in section_ids:\n",
    "    ida.download_image(section_id,downsample=4,range=equalization_ranges,\n",
    "                       file_path='./{0}/sections/{1}.jpg'.format(ID,section_number))"
   ]
  },
  {
   "cell_type": "code",
   "execution_count": null,
   "metadata": {},
   "outputs": [],
   "source": []
  }
 ],
 "metadata": {
  "kernelspec": {
   "display_name": "Python 3 (ipykernel)",
   "language": "python",
   "name": "python3"
  },
  "language_info": {
   "codemirror_mode": {
    "name": "ipython",
    "version": 3
   },
   "file_extension": ".py",
   "mimetype": "text/x-python",
   "name": "python",
   "nbconvert_exporter": "python",
   "pygments_lexer": "ipython3",
   "version": "3.10.12"
  }
 },
 "nbformat": 4,
 "nbformat_minor": 4
}
