{
 "cells": [
  {
   "cell_type": "markdown",
   "id": "a86224cf",
   "metadata": {},
   "source": [
    "# Alignment Error Visualization\n",
    "\n",
    "This notebook collects COM data from the database and tries to quantify some alignment errors. The main results are shown in the plots at the end of the notebook."
   ]
  },
  {
   "cell_type": "code",
   "execution_count": null,
   "id": "116fa24e",
   "metadata": {},
   "outputs": [],
   "source": [
    "import os\n",
    "import sys\n",
    "from pathlib import Path\n",
    "\n",
    "import numpy as np\n",
    "import pandas as pd\n",
    "from collections import OrderedDict\n",
    "from IPython.display import HTML\n",
    "from itertools import combinations\n",
    "\n",
    "PIPELINE_ROOT = Path('./').absolute().parents[1]\n",
    "PIPELINE_ROOT = PIPELINE_ROOT.as_posix() + '/src'\n",
    "sys.path.append(PIPELINE_ROOT)\n",
    "print(PIPELINE_ROOT)\n"
   ]
  },
  {
   "cell_type": "code",
   "execution_count": null,
   "id": "299762ca",
   "metadata": {},
   "outputs": [],
   "source": [
    "from library.controller.sql_controller import SqlController\n",
    "from library.image_manipulation.filelocation_manager import FileLocationManager\n",
    "from library.atlas.atlas_utilities import apply_affine_transform, get_affine_transformation, list_coms, \\\n",
    "    compute_affine_transformation\n",
    "from library.registration.brain_structure_manager import BrainStructureManager\n",
    "from library.registration.algorithm import umeyama\n",
    "\n",
    "\n",
    "\n",
    "from library.utilities.utilities_process import M_UM_SCALE, SCALING_FACTOR, random_string, read_image, write_image\n"
   ]
  },
  {
   "cell_type": "code",
   "execution_count": null,
   "id": "f1582c49",
   "metadata": {},
   "outputs": [],
   "source": [
    "animal = 'Allen'\n",
    "um = 10\n",
    "affine = False\n",
    "debug = False\n",
    "brainManager = BrainStructureManager(animal, um, affine, debug)"
   ]
  },
  {
   "cell_type": "code",
   "execution_count": null,
   "id": "92f446a1",
   "metadata": {},
   "outputs": [],
   "source": [
    "structure = 'SC'\n",
    "com = np.array([926, 183, 572])\n",
    "brainManager.update_database_com(structure, com)"
   ]
  },
  {
   "cell_type": "code",
   "execution_count": null,
   "id": "6342efe3-8054-4acd-9dc6-8a5d22d87ba3",
   "metadata": {},
   "outputs": [],
   "source": [
    "def absolute_sum(l):\n",
    "    la = np.array(l)\n",
    "    nabs = (np.array(la*la))\n",
    "    return np.sum(la, axis=0)\n",
    "\n",
    "def sum_square_com(com):\n",
    "    ss = np.sqrt(sum([s*s for s in com]))\n",
    "    return ss\n",
    "\n",
    "def generate_combinations(lst):\n",
    "    \"\"\"\n",
    "    Generate all combinations of at least 3 elements from the given list.\n",
    "    \n",
    "    :param lst: List of elements\n",
    "    :return: List of tuples containing the combinations\n",
    "    \"\"\"\n",
    "    return list(combinations(lst, 5 ))\n",
    "\n",
    "    #result = []\n",
    "    #for r in range(3, len(lst) + 1):\n",
    "    #    result.extend(combinations(lst, r))\n",
    "    #return result\n",
    "\n",
    "def get_umeyama(atlas_src, allen_src):\n",
    "\n",
    "    A, t = umeyama(atlas_src.T, allen_src.T, with_scaling=True)\n",
    "    transformation_matrix = np.hstack( [A, t ])\n",
    "    transformation_matrix = np.vstack([transformation_matrix, np.array([0, 0, 0, 1])])\n",
    "\n",
    "    return transformation_matrix"
   ]
  },
  {
   "cell_type": "code",
   "execution_count": null,
   "id": "b6548580",
   "metadata": {},
   "outputs": [],
   "source": [
    "atlas_all = list_coms('Atlas')\n",
    "allen_all = list_coms('Allen')\n",
    "common_keys = list(atlas_all.keys() & allen_all.keys())\n",
    "atlas_common = np.array([atlas_all[s] for s in common_keys])\n",
    "allen_common = np.array([allen_all[s] for s in common_keys])\n"
   ]
  },
  {
   "cell_type": "code",
   "execution_count": null,
   "id": "19ab72cc",
   "metadata": {},
   "outputs": [],
   "source": [
    "combinations_list = generate_combinations(common_keys)\n",
    "print(len(combinations_list))"
   ]
  },
  {
   "cell_type": "markdown",
   "id": "f44ad938",
   "metadata": {},
   "source": [
    "## Data Collection"
   ]
  },
  {
   "cell_type": "code",
   "execution_count": null,
   "id": "397b771f-50da-4219-992e-0d7d0b96b0a0",
   "metadata": {},
   "outputs": [],
   "source": [
    "error = {}\n",
    "\n",
    "for combo in combinations_list[:3000]:\n",
    "    atlas_src = np.array([atlas_all[s] for s in combo])\n",
    "    allen_src = np.array([allen_all[s] for s in combo])\n",
    "    df_list = []\n",
    "    sss = []\n",
    "    matrix = compute_affine_transformation(atlas_src, allen_src)\n",
    "    for structure in common_keys:\n",
    "        atlas0 = np.array(atlas_all[structure])\n",
    "        allen0 = np.array(allen_all[structure]) \n",
    "        transformed = apply_affine_transform(atlas0, matrix)\n",
    "        transformed = [round(x,8) for x in transformed]\n",
    "        difference = [round(a - b, 8) for a, b in zip(transformed, allen0)]\n",
    "        ss = sum_square_com(difference)\n",
    "        row = [structure, atlas0, allen0, transformed, difference, ss]\n",
    "        df_list.append(row)\n",
    "        sss.append(ss)\n",
    "    error[combo] = sum(sss)\n",
    "\n",
    "\n",
    "\n",
    "sorted_combos = {k: v for k, v in sorted(error.items(), key=lambda item: item[1])}\n",
    "result = list(sorted_combos.items())[:5]\n",
    "    \n"
   ]
  },
  {
   "cell_type": "code",
   "execution_count": null,
   "id": "0b251ae6",
   "metadata": {},
   "outputs": [],
   "source": [
    "result"
   ]
  },
  {
   "cell_type": "code",
   "execution_count": null,
   "id": "8860c495",
   "metadata": {},
   "outputs": [],
   "source": [
    "df_list = []\n",
    "ckeys_single = ('IC', 'AP', 'LRt_R', '7N_L')\n",
    "atlas_src = np.array([atlas_structures[s] for s in ckeys_single])\n",
    "allen_src = np.array([allen_structures[s] for s in ckeys_single])\n",
    "#matrix = get_umeyama(atlas_src, allen_src)\n",
    "matrix = compute_affine_transformation(atlas_src, allen_src)\n",
    "error = []\n",
    "for structure in common_keys:\n",
    "    atlas0 = np.array(atlas_all[structure])\n",
    "    allen0 = np.array(allen_all[structure]) \n",
    "    transformed = apply_affine_transform(atlas0, matrix)\n",
    "    transformed = [round(x,2) for x in transformed]\n",
    "    difference = [round(a - b, 2) for a, b in zip(transformed, allen0)]\n",
    "    ss = sum_square_com(difference)\n",
    "    row = [structure, atlas0, allen0, transformed, difference, ss]\n",
    "    df_list.append(row)\n",
    "    error.append(ss)\n",
    "print('SS', sum(error))"
   ]
  },
  {
   "cell_type": "code",
   "execution_count": null,
   "id": "9d3a9a9a",
   "metadata": {
    "scrolled": false
   },
   "outputs": [],
   "source": [
    "columns = ['structure', 'atlas0', 'allen0', 'transformed', 'difference', 'sumsquares']\n",
    "df = pd.DataFrame(df_list, columns=columns)\n",
    "columns = ['atlas0', 'allen0', 'transformed', 'difference', 'sumsquares']\n",
    "df.index.name = 'Index'\n",
    "df.sort_values(by=['structure'], inplace=True)\n",
    "HTML(df.to_html(index=False))"
   ]
  },
  {
   "cell_type": "code",
   "execution_count": null,
   "id": "2af81b8e",
   "metadata": {},
   "outputs": [],
   "source": [
    "sorted(common_keys)"
   ]
  },
  {
   "cell_type": "code",
   "execution_count": null,
   "id": "70f667af",
   "metadata": {},
   "outputs": [],
   "source": [
    "counter = 1\n",
    "for L in range(3, 10):\n",
    "    for subset in combinations(common_keys, L):\n",
    "        counter += 1\n",
    "print(counter)"
   ]
  }
 ],
 "metadata": {
  "interpreter": {
   "hash": "2bd29f7b10431261d8beeb897d602198a8ccc2be7cc6f93af9f327223ffe0508"
  },
  "kernelspec": {
   "display_name": "Python 3 (ipykernel)",
   "language": "python",
   "name": "python3"
  },
  "language_info": {
   "codemirror_mode": {
    "name": "ipython",
    "version": 3
   },
   "file_extension": ".py",
   "mimetype": "text/x-python",
   "name": "python",
   "nbconvert_exporter": "python",
   "pygments_lexer": "ipython3",
   "version": "3.10.12"
  }
 },
 "nbformat": 4,
 "nbformat_minor": 5
}
