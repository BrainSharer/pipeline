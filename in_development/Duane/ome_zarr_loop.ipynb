{
 "cells": [
  {
   "cell_type": "code",
   "execution_count": null,
   "metadata": {},
   "outputs": [
    {
     "name": "stdout",
     "output_type": "stream",
     "text": [
      "Dimensions of the array (c, z, y, x): (1, 348, 38835, 77383)\n",
      "[{'name': 'c', 'type': 'channel'}, {'name': 'z', 'type': 'space', 'unit': 'micrometer'}, {'name': 'y', 'type': 'space', 'unit': 'micrometer'}, {'name': 'x', 'type': 'space', 'unit': 'micrometer'}]\n"
     ]
    },
    {
     "data": {
      "text/plain": [
       "'\\n# Convert the zarr array to a dask array for efficient chunked reading\\n#dask_array = da.from_zarr(dye_img_stack)\\n\\n# Get the number of layers (z-axis)\\nnum_layers = dask_array.shape[0]\\n\\n# Loop through each layer along the z-axis\\nfor z in range(num_layers):\\n    # Read the x, y slice for the current z-layer\\n    xy_slice = dask_array[z, :, :].compute()  # .compute() loads the data into memory\\n    \\n    # Process or analyze the xy_slice as needed\\n    print(f\"Layer {z}:\")\\n    print(xy_slice)\\n\\n\\n# Example: Accessing a specific resolution level\\n# resolution_level = 0  # 0 is typically the highest resolution\\n# array_3d = root[\\'data\\'][resolution_level]\\n\\n# store.close()\\n'"
      ]
     },
     "execution_count": 12,
     "metadata": {},
     "output_type": "execute_result"
    }
   ],
   "source": [
    "from pathlib import Path\n",
    "import zarr\n",
    "import dask.array as da\n",
    "import os\n",
    "import imageio.v2 as imageio\n",
    "import sys\n",
    "from zarr import parse_url\n",
    "from ome_zarr.io import Reader\n",
    "from dask import delayed\n",
    "\n",
    "ome_zarr_dir = '/net/birdstore/Active_Atlas_Data/data_root/pipeline_data/DK184/www/neuroglancer_data/'\n",
    "INPUT_dye = Path(ome_zarr_dir, 'C1.zarr')\n",
    "INPUT_virus = Path(ome_zarr_dir, 'C3.zarr')\n",
    "input_format = \"ome-zarr\"\n",
    "str_section_number = \"001\"  # Example section number (zfill for legacy processing)\n",
    "\n",
    "\n",
    "def load_image(file: str):\n",
    "    if os.path.exists(file):\n",
    "        return imageio.imread(file)\n",
    "    else:\n",
    "        print(f'ERROR: {file} NOT FOUND')\n",
    "        sys.exit(1)\n",
    "\n",
    "# Process Virus Data\n",
    "store_virus = parse_url(INPUT_virus, mode=\"r\").store\n",
    "zarr_root_virus = parse_url(INPUT_virus, mode=\"r\").root\n",
    "img_stack_virus = zarr_root_virus[\"scale0\"]  # Access full-resolution data\n",
    "\n",
    "# Convert the Zarr array to a Dask array for lazy loading\n",
    "dask_data_virus = da.from_zarr(img_stack_virus)\n",
    "total_sections_virus = dask_data_virus.shape[1]  # Shape is (c, z, y, x)\n",
    "\n",
    "# Loop through each section (z-axis) for Virus data\n",
    "input_file_virus = []\n",
    "for z in range(total_sections_virus):\n",
    "    # Extract the x, y slice for the current z-layer (assuming channel 0)\n",
    "    section_data_virus = dask_data_virus[0, z, :, :]  # Lazy loading\n",
    "    input_file_virus.append(section_data_virus)\n",
    "\n",
    "# Process Dye Data\n",
    "store_dye = parse_url(INPUT_dye, mode=\"r\").store\n",
    "zarr_root_dye = parse_url(INPUT_dye, mode=\"r\").root\n",
    "img_stack_dye = zarr_root_dye[\"scale0\"]  # Access full-resolution data\n",
    "\n",
    "dask_data_dye = da.from_zarr(img_stack_dye)\n",
    "total_sections_dye = dask_data_dye.shape[1]  # Shape is (c, z, y, x)\n",
    "\n",
    "input_file_dye = []\n",
    "for z in range(total_sections_dye):\n",
    "    # Extract the x, y slice for the current z-layer (assuming channel 0)\n",
    "    section_data_dye = dask_data_dye[0, z, :, :]  # Lazy loading\n",
    "    input_file_dye.append(section_data_dye)\n",
    "\n",
    "# Create delayed tasks for processing the sections (SEPARATE TASK LIST PER CHANNEL)\n",
    "delayed_tasks_virus = [delayed(load_image)(section) for section in input_file_virus]\n",
    "delayed_tasks_dye = [delayed(load_image)(section) for section in input_file_dye]\n",
    "\n",
    "\n",
    "store_dye.close()\n",
    "store_virus.close()"
   ]
  },
  {
   "cell_type": "code",
   "execution_count": 9,
   "metadata": {},
   "outputs": [
    {
     "name": "stdout",
     "output_type": "stream",
     "text": [
      "[Delayed('load_image-0493f7b1-e9db-421a-84e4-dca86e6855ee'), Delayed('load_image-fa8d7a88-cde9-4c7c-8482-03c28ce824d3'), Delayed('load_image-03b2a955-8f76-4824-93da-f8d22b91fe92'), Delayed('load_image-f4ca8da7-4469-4650-9f4c-dfd83f4b9501'), Delayed('load_image-92b7e08f-66e0-465b-8d77-023af31cb762'), Delayed('load_image-13622ca5-78af-4a66-9d56-5c8966ebe85a'), Delayed('load_image-9d6651bb-de0e-4338-90f8-cb167b6eb1c1'), Delayed('load_image-f01ecf3f-3032-42d8-8ee5-a08e4aace528'), Delayed('load_image-5c1f54cd-7993-45b3-a11e-35a3d7a42955'), Delayed('load_image-0721b287-8d19-471a-b9fb-4bc58d6877e8'), Delayed('load_image-3cc508bf-a66f-455e-9e2c-e82a0c284d86'), Delayed('load_image-091bb794-9186-4c84-93b3-8d906402edff'), Delayed('load_image-65584673-8432-471e-8669-76a36eafdb9b'), Delayed('load_image-751223dc-b246-47be-ace7-cfa8a411d15e'), Delayed('load_image-3b1341d0-6693-4c39-a78d-de269780620a'), Delayed('load_image-cfd468f6-0f5d-40d4-8b4d-30a90dd9bd07'), Delayed('load_image-eaa0c981-b7f6-413a-87e6-aca1f6e47945'), Delayed('load_image-1648c380-a363-443b-bafd-403a1b5f53df'), Delayed('load_image-62900516-52ff-4738-853f-ae1e8efb084b'), Delayed('load_image-35b8df95-2ee6-47fc-93e8-bba6a49ff80c'), Delayed('load_image-fc93011d-15e3-4bdf-ac00-5a7bac1f26c9'), Delayed('load_image-a274e99f-6a06-4dde-b021-94a2836b0178'), Delayed('load_image-a8c80778-56a4-4367-be2d-6a7cb0c57770'), Delayed('load_image-320466fa-f43b-4177-9d54-a57327a3329a'), Delayed('load_image-fd126138-1bfc-487b-9b25-76bbb546577f'), Delayed('load_image-2d9261ac-b421-4174-8b3f-5eb919a3d9b3'), Delayed('load_image-9d27d59f-687b-439b-944c-d79d0ba9e663'), Delayed('load_image-9c8cbe00-8256-46de-a6d7-e78f3c06ba56'), Delayed('load_image-902fd187-fd6b-40d6-8b1e-93e13b2cb4f8'), Delayed('load_image-83d9797e-061a-4b7c-9ce3-fdbd0d93ba62'), Delayed('load_image-f32b2a2f-6f8d-450a-ab6e-e5a9d687887f'), Delayed('load_image-fb5e42f1-a4ac-4693-a188-c339751f0a4a'), Delayed('load_image-f86ccc1d-e313-4ac5-94c0-1d1922806f4a'), Delayed('load_image-ab8b6307-d961-4e20-81f0-226756176e5c'), Delayed('load_image-e73d4b9c-780a-41fd-a4d5-3fdb9a70798f'), Delayed('load_image-f69d9191-7e31-401b-a091-3e92a7984a88'), Delayed('load_image-e585a0e8-9111-446e-9582-74085da01074'), Delayed('load_image-57aae21b-777e-4bd4-81ee-8ffe5babf0df'), Delayed('load_image-8501c23a-2710-4334-afbb-5ed45519f511'), Delayed('load_image-d85e8e4e-4f29-421e-88e2-5c09db943084'), Delayed('load_image-787d650c-e0d0-4f14-8d35-bbf38bbfc43b'), Delayed('load_image-4dcda4a8-3a7d-4ebd-993c-ec6262903c76'), Delayed('load_image-0e45a811-b31f-4b49-bb33-2d712e2b8241'), Delayed('load_image-f5c20d0e-2ccf-444f-b701-40014cae5b90'), Delayed('load_image-2175deef-802d-4311-984c-1ed08ae174da'), Delayed('load_image-a0aa2ba1-40f5-41c6-8f1b-14e0b9ffaffe'), Delayed('load_image-a405b604-9f44-4a29-b22c-354cb5b2d8ec'), Delayed('load_image-4177791c-1d2e-404a-8278-a56c43d01932'), Delayed('load_image-7fc38f20-81eb-40a7-b33e-3ff6c3b2f39d'), Delayed('load_image-3c7c24ba-a55e-4dad-ab8b-fbb1615ef496'), Delayed('load_image-b3ff7044-fca1-41ee-923a-23fc5ecafa32'), Delayed('load_image-8ba34d40-e743-4be0-9dff-4986e11c48bf'), Delayed('load_image-923c9149-9790-4f21-a77b-0051bd978c56'), Delayed('load_image-0b19ee28-36e4-4d6f-ae87-cc25c33086ee'), Delayed('load_image-65dbf737-838e-4ffb-be84-82a4791c2e0c'), Delayed('load_image-ebcd13b6-3462-435d-9063-feea283d47b7'), Delayed('load_image-ce3a8f35-ee37-482b-af40-9bc56be5eba3'), Delayed('load_image-dc4ba261-a3cd-4f2a-9ada-941b494fc363'), Delayed('load_image-d6bb7325-b27f-46c1-bc9a-1598ec6c1ca8'), Delayed('load_image-7e5faa61-a9b7-4d98-8e33-d86d6530f592'), Delayed('load_image-44bda0da-d8d9-42eb-b94e-a6f2ab858682'), Delayed('load_image-30dd46e2-59d3-44a1-b602-4c1a954fce0f'), Delayed('load_image-4a0283cd-628b-4246-aa12-92883eab5ea7'), Delayed('load_image-8d4568f2-9300-4d22-b832-8a5c591d4a62'), Delayed('load_image-40587783-b408-466d-a2b2-9dac0efa9019'), Delayed('load_image-4ae9df61-b3c0-4a86-a287-13a746770d59'), Delayed('load_image-52205a65-c555-4d71-8676-429e25b1366c'), Delayed('load_image-91dd6727-564e-49b0-94bc-1bf882e2ad5a'), Delayed('load_image-729bad7d-8d66-42e1-894c-4916dc058b8f'), Delayed('load_image-dae5a9e2-9d7e-4256-997e-79312f57b6cb'), Delayed('load_image-8de0162e-9159-4037-bc2d-2dbd25a5cc1d'), Delayed('load_image-7ca51d97-7c2b-4832-9169-4edef8b9de13'), Delayed('load_image-e2eea5ef-d06d-4594-a1d5-479dd72e31a3'), Delayed('load_image-3d73c84a-26c4-4555-9fc5-e4f93cc56ea7'), Delayed('load_image-0d863e20-244b-4d04-b63d-87304e3f4730'), Delayed('load_image-e3c73e8a-a697-4935-8ae2-058750138fc4'), Delayed('load_image-cdb112ca-4eb0-4829-871d-59bec186fd5d'), Delayed('load_image-948e119d-a92c-4854-bf77-a4565996cf2c'), Delayed('load_image-98c1414f-682b-4bf2-8539-68b7128efc92'), Delayed('load_image-f99cb4c9-df18-457b-b167-b5b3d70b4106'), Delayed('load_image-a2ab0dac-b179-4481-8d5b-140e24251957'), Delayed('load_image-bb35b48d-211b-4d9f-b05a-efdba8e04555'), Delayed('load_image-f64ee83a-0d45-485b-b01a-cbc270285f3e'), Delayed('load_image-9a5b703a-8aaf-4282-8fc6-51378ae97dc2'), Delayed('load_image-1ce93609-4d87-4fbf-99f7-b5ddefef43f8'), Delayed('load_image-f808a484-f1f6-4dd3-8d5e-dc8036fee4d4'), Delayed('load_image-3e6aea10-ce0c-4039-96b8-43127b4f8bd4'), Delayed('load_image-e9ff7183-1bfc-4515-9b9f-a5dc2ccbecb5'), Delayed('load_image-014c3f28-415d-4402-8df6-c650129b7dda'), Delayed('load_image-35e4fdbd-1031-419f-95e1-d839d3757940'), Delayed('load_image-f3dee6c5-d03a-4777-869d-014f9757e8dc'), Delayed('load_image-92e55004-d68c-4f90-bcab-03f7c5404819'), Delayed('load_image-7d1f4d55-c618-4c94-9a19-899135cf40f4'), Delayed('load_image-ad286e9c-4b84-4ae7-baa0-16afecd75594'), Delayed('load_image-91babae2-ca1c-4a59-92f0-878ee34973af'), Delayed('load_image-ad4a41ab-6262-46f4-b814-ea11e9d9640c'), Delayed('load_image-ca18bb5a-f953-482b-9c9f-8646662cc9f2'), Delayed('load_image-8b6a9007-60a6-4df9-a853-3c8884fc37c8'), Delayed('load_image-8621a478-5d91-482c-81ad-4d6b6de86ebc'), Delayed('load_image-e627cd6b-b2c9-4287-9825-66c8de71ba22'), Delayed('load_image-7effe1c6-ae5b-497e-828f-81c5ebaa56cf'), Delayed('load_image-f52af3cf-7ac3-488f-a891-ca8c2a217c2d'), Delayed('load_image-5b321a4a-8af2-44df-aa30-c9c805d03588'), Delayed('load_image-3e53a0d5-88ee-493b-b36d-c83f6b7cd9b8'), Delayed('load_image-d7b8a965-ff85-4cbb-99aa-495148904a5f'), Delayed('load_image-e6fa1ae2-7c20-4e2a-a52a-6692f73c6f70'), Delayed('load_image-7a21cb68-6a1e-494e-b052-5df73737cf8f'), Delayed('load_image-27ecd30c-dbce-4471-92dd-655dadbad853'), Delayed('load_image-47eb250e-b5cc-490a-8fba-7a5f078c714f'), Delayed('load_image-d6b3e1c1-66eb-4e8f-907a-896d73f505cc'), Delayed('load_image-4bc644cc-e699-4a04-a50f-3a1225304ba8'), Delayed('load_image-bd6e3af2-faa3-4ea5-af6e-096faee8690f'), Delayed('load_image-cb2c4027-50fb-4536-8174-3d8f00a554b0'), Delayed('load_image-0e667ba2-21ea-45f8-bdd7-7ee724cde7bf'), Delayed('load_image-fe0de79c-f85d-4d77-acf2-74418fc4586c'), Delayed('load_image-3c40fb8c-553f-4c71-9ecc-82ef29fd50ee'), Delayed('load_image-c842749c-ea4f-4fa8-a67f-c647d043b1ec'), Delayed('load_image-9f56cb7b-7d51-46d8-b8af-3cdeec72e87b'), Delayed('load_image-d2e4932e-786e-4bd6-8833-6268368221b1'), Delayed('load_image-549bf4e8-3dbb-45f2-bb88-c42abe9d0b3b'), Delayed('load_image-9f09ae54-83ee-44bf-8565-ef32491bf127'), Delayed('load_image-4bcd6838-5a1d-4fa1-875b-2f1b586cac7d'), Delayed('load_image-17c82cd2-0d6c-4b3d-93b8-2afe8c3fbd23'), Delayed('load_image-7fd0b337-352f-4586-ad44-40d65d376095'), Delayed('load_image-53c0622c-c055-48fb-bb09-472a8777c327'), Delayed('load_image-a0551c87-2aa6-4ff1-9dbf-5d1706f1ae05'), Delayed('load_image-6d7757b9-9cb6-4f66-86a5-e1d0cc43604d'), Delayed('load_image-b2362047-45f3-4b92-8599-df532e5824c2'), Delayed('load_image-aa739c2f-eadb-4c80-9836-96866689ba37'), Delayed('load_image-dd146cae-d438-4508-b2f5-897264d42bb3'), Delayed('load_image-c0acd4b4-3178-490e-a91a-affef3154c29'), Delayed('load_image-6ae8f4ec-3d50-45a2-968c-dccc15fbb3cb'), Delayed('load_image-7ef77d84-449b-46f3-8b39-3f518822a7ea'), Delayed('load_image-eec151dd-96f1-495e-b63d-03642abc80c3'), Delayed('load_image-47f65af4-f3bc-4436-884c-c1e2200c81d1'), Delayed('load_image-aa0056ee-92d7-4025-aa77-1c1958355a3b'), Delayed('load_image-62e112a0-cbc0-4a72-b438-7c31808f316c'), Delayed('load_image-5ccb81ee-5a0a-40b4-8bc6-ffbe59aac821'), Delayed('load_image-060b40c6-0138-41d8-a722-98ae8f3473c5'), Delayed('load_image-bc1298d0-ab9b-4087-9b5c-7794003c455f'), Delayed('load_image-cbce5615-7d01-4141-abea-e94f22207dc4'), Delayed('load_image-85a8c03f-e775-4245-9ef6-ddc6ac0f4b46'), Delayed('load_image-9ec62353-34e6-45ba-a1a2-c9b6d38889f3'), Delayed('load_image-2166805f-c7c7-429f-8bf2-fb55c2bc045f'), Delayed('load_image-f6f32e5f-2f81-4b9d-a6b6-25fc10dcd23a'), Delayed('load_image-644f1c1c-3065-43df-9f73-fe0c8239134e'), Delayed('load_image-5b86d7dc-1556-418e-948f-2b94a8949139'), Delayed('load_image-fdb97a66-3d31-4d50-8133-9039cd88fb04'), Delayed('load_image-aa31b1e5-d762-4dd1-ad37-e0db51b7c1cf'), Delayed('load_image-d1b72f9b-e715-42a7-bb16-61562c1206ea'), Delayed('load_image-ea788b0d-6ade-4b64-a2da-7f1fa78c2462'), Delayed('load_image-63f3be7c-d7d1-4408-88f0-ba29436ed58f'), Delayed('load_image-fc44cf01-018f-4a5c-be23-7d1e895cdc6b'), Delayed('load_image-b8c2a45f-d04a-4514-aae9-41efd0bb7d4e'), Delayed('load_image-9eadeb4c-ba6a-41fb-aed6-ce0748109e8f'), Delayed('load_image-98c5f8b8-5e35-4d40-86ed-4d0d689ce88f'), Delayed('load_image-c7f45744-ef08-43f8-9b67-339526242cf0'), Delayed('load_image-e59e4337-a64e-4e27-a024-3883a6243049'), Delayed('load_image-46b5f386-e427-44ac-bec0-857c732cfb09'), Delayed('load_image-9b79d639-cf1c-4bcc-92fd-99197cc952ed'), Delayed('load_image-f0a87a49-3e3c-4707-9185-0a6e720634f7'), Delayed('load_image-00103da8-7582-4193-be19-b8ee612eeb66'), Delayed('load_image-f56c3add-8c3b-45e4-a3ef-ad21c848f4ae'), Delayed('load_image-0b53e8c7-9c2c-435b-8240-fbca88dc1d09'), Delayed('load_image-97248155-0d4f-4044-a07b-12c8168d3ff2'), Delayed('load_image-621abf6a-3b98-4763-891f-7b0e7c9ca2dc'), Delayed('load_image-472e6c89-fe2f-4f70-b879-7782912d878c'), Delayed('load_image-54cac577-c488-4667-9d31-b9d9a4248a94'), Delayed('load_image-9f4ab662-bd84-4335-bfaf-2503676f957c'), Delayed('load_image-27b42aa7-ecac-4ef4-a8af-e62bbcf01dc5'), Delayed('load_image-81d83a49-ef12-4926-bab3-5ac1f8662231'), Delayed('load_image-e1b9a58f-984a-473b-9b68-4b4135eab08d'), Delayed('load_image-4a1e336e-6ad9-4e2c-8d71-e487488bdde6'), Delayed('load_image-34788e78-29d7-4440-a99e-508d8f285945'), Delayed('load_image-0c639bc1-26cd-482b-a85e-fcce936c8ca4'), Delayed('load_image-f7d73a3f-bffb-4304-96b9-268303e47770'), Delayed('load_image-b75549aa-10e2-45ca-893c-48a6e5f71e3f'), Delayed('load_image-63be4023-c739-4383-921c-8ac12858d961'), Delayed('load_image-0569634d-79fb-4d9f-b68b-ab604a9c13aa'), Delayed('load_image-a2272cad-87f9-4560-be6f-59764951e4c9'), Delayed('load_image-8fe7254b-0fe9-4179-be6f-63fcf1cdb7a5'), Delayed('load_image-2e2846f7-09f4-4b85-8421-9dfafcde4d28'), Delayed('load_image-ab283915-732c-4814-a6ad-0c3ea46b473e'), Delayed('load_image-204f3268-93ae-498e-b933-c36da8898370'), Delayed('load_image-fc0094f3-ba93-4021-b747-0a2e95657f6b'), Delayed('load_image-b89e0b16-1b36-4d5e-aae6-500a0353c48b'), Delayed('load_image-a692ac11-59aa-4254-9a93-6376247e1852'), Delayed('load_image-cf3ad6be-eda9-40a4-8d66-fe3498d7786d'), Delayed('load_image-c9602b72-d957-4a54-a05b-8db4a41a6f87'), Delayed('load_image-03b44837-559d-4bbc-aa7c-6828b602cdeb'), Delayed('load_image-9193694a-f753-4220-885e-5a15b8a1dea9'), Delayed('load_image-e895c883-9795-4c06-b2bd-f9cb66d0d0b8'), Delayed('load_image-21c8b304-bbd1-461d-92df-ad426422de5e'), Delayed('load_image-76281f0a-9057-4c41-8b5b-d9948c656689'), Delayed('load_image-eac5c033-fd40-45f3-9eb6-19e383916c23'), Delayed('load_image-6cc670f9-ef36-42ad-9108-80a37bc14c22'), Delayed('load_image-98684920-2f6a-4546-bff0-677aacf21dcb'), Delayed('load_image-cc7c229e-d78a-4220-8d3f-4bce03ea225f'), Delayed('load_image-7563c15e-241e-43d0-ae3d-56e3def99892'), Delayed('load_image-aa40680d-9644-475b-a774-3dcdd0ef5080'), Delayed('load_image-44e060b7-1b79-47b5-837a-ed79c8322690'), Delayed('load_image-d7e61b89-0b45-4db7-8e8a-1a7474c8ccc2'), Delayed('load_image-f1e9247b-2fcc-42a7-94cb-4726929c16e8'), Delayed('load_image-e8e7fe55-9cb1-419b-9f4c-b427ad2932b1'), Delayed('load_image-0e93e10b-7d72-47a3-a0fe-203cdd022c6c'), Delayed('load_image-0fa044d5-91c9-4b80-9e58-f41cd5057c8c'), Delayed('load_image-6cad73c5-b117-465b-bf05-23efb6ca66a5'), Delayed('load_image-5fd55747-f2a4-4674-9627-9118bdeb17d3'), Delayed('load_image-7ae467ce-4809-450a-92e5-b08a60a516ba'), Delayed('load_image-032ba95a-d477-4fdb-9683-340275f06acf'), Delayed('load_image-35a6c076-c008-4291-a771-2737a29576f4'), Delayed('load_image-05f72335-411e-4f31-8c1f-52fbb8354445'), Delayed('load_image-c4ae8923-8ce9-4738-8a87-473a38594dde'), Delayed('load_image-110ceefd-f4ee-4144-94c1-ad5103cd8ed5'), Delayed('load_image-5efbeb5b-ebe0-4e80-9757-24cc57f988d4'), Delayed('load_image-3125518b-a4df-4868-8344-abc15b5ce6bb'), Delayed('load_image-86d68c52-eadf-4c6a-aa05-df6be8fb39bd'), Delayed('load_image-b87bdfa7-a0d3-4fae-90f8-ee7a147566cc'), Delayed('load_image-ac5ed435-ece0-4c7b-80f3-7035cf105ca0'), Delayed('load_image-b0eb2734-e5ed-4955-8c6d-3cfc2504548a'), Delayed('load_image-20c983b4-b1ce-4f0c-ac64-deac8689238b'), Delayed('load_image-09ba2202-79b9-490a-ae1d-dffecb5b47ec'), Delayed('load_image-069ae3e1-7481-4037-88d6-45d1eaf65dd4'), Delayed('load_image-bb53fa6d-1cce-48c4-b455-a2a65fb9db2e'), Delayed('load_image-3316aeac-f000-46d2-8f14-8121e3fc412f'), Delayed('load_image-0d10e9fd-3235-46a2-b71b-d2f7bd03e436'), Delayed('load_image-42f33967-eb4e-4360-9831-0dd1e84e8584'), Delayed('load_image-c5356521-5bf3-4c31-bc21-443e0a1300d1'), Delayed('load_image-ebbfb261-220f-4638-977a-db2ab3694ae3'), Delayed('load_image-e074bd1f-c62c-41eb-979f-32478f53557b'), Delayed('load_image-59585b24-e477-485a-8d8f-e0dcdf4c2690'), Delayed('load_image-20837b8c-e6b2-4baa-b020-9d9b1c54d2bf'), Delayed('load_image-39a94e49-fedf-4826-a675-84543813ffe4'), Delayed('load_image-8d6148d1-39a9-4d48-aba5-08cc7cd3e905'), Delayed('load_image-84c7a17c-52b3-4d5c-9c44-fa221f82d985'), Delayed('load_image-f3e58d0a-4155-446d-9863-e766e8396510'), Delayed('load_image-15cceb34-e3d0-4e7d-99ae-9fcfda658269'), Delayed('load_image-1dfa5373-eca3-4696-904a-5f68c2b1b47d'), Delayed('load_image-6ed4d730-289d-43a8-918f-3f3228ba262a'), Delayed('load_image-a179adf1-438e-46f8-bd0a-fc90ffef17e7'), Delayed('load_image-26cc1b0a-356f-46c7-a1da-63f35639bd5a'), Delayed('load_image-894fa722-905e-433c-a9e7-dc225524ecf6'), Delayed('load_image-eb08d4f4-4c68-4b87-bee1-a8fb3ea2f341'), Delayed('load_image-e44b7172-9f2b-465a-ad85-12820cf57bfe'), Delayed('load_image-e133ca5c-6166-492c-9bf8-7c77b5a7b7df'), Delayed('load_image-4a685396-be80-46e3-afa2-b34cd6868494'), Delayed('load_image-db6fbcde-e51e-4dc3-8383-60c1831f95a5'), Delayed('load_image-5d377509-a83a-4d71-85e3-856fae3e341c'), Delayed('load_image-f81e17fe-3c20-4323-bf46-05eba913f57c'), Delayed('load_image-50bb281b-a2fd-4ac7-a258-57c185e550ec'), Delayed('load_image-9bc5c44d-fbbf-453c-8348-8e149415044f'), Delayed('load_image-63de708c-c2f8-4d2f-bdb3-843fd32cd567'), Delayed('load_image-34f67e51-0226-4a47-9e61-364f0218e285'), Delayed('load_image-e07d95b6-b9cc-4821-88ce-757e6cd85ce3'), Delayed('load_image-39ca8304-1a5c-4aba-bfb1-f097bb1cc822'), Delayed('load_image-12627760-a1b5-4dd2-be84-763aeb4af1ed'), Delayed('load_image-a60ccb84-fbc0-4859-adb9-bb91142f0832'), Delayed('load_image-636c0ea3-19a0-4ddc-aef2-c514ef12f9da'), Delayed('load_image-7c6444dd-ee94-4266-b2db-30716786bbde'), Delayed('load_image-2ff9bf39-10a1-456e-a0a5-5bd0b219695f'), Delayed('load_image-0589116b-be74-4b85-9ac5-6ab044778999'), Delayed('load_image-d6d41506-cdbf-4342-b173-1d8a5e5dbb9e'), Delayed('load_image-8e0791f1-dabb-41b3-9ed5-d1d4e24b959e'), Delayed('load_image-b528579e-b9d1-4617-b6e6-6db08fd783e4'), Delayed('load_image-cab53c76-38df-49aa-a803-c97908e05831'), Delayed('load_image-1b5f2530-d92f-438b-885a-25d923b03301'), Delayed('load_image-fa60739f-9e0f-4d62-bf3f-cec5268bc08d'), Delayed('load_image-34ff9111-e098-4b8e-a2e0-96f13bccce15'), Delayed('load_image-00b9d9e5-e7fa-43f1-b379-e30cdf4cb2d3'), Delayed('load_image-15a3d9de-2bb5-4afa-a675-2c1908dc2667'), Delayed('load_image-993239c3-10aa-41e2-b870-56a48dd723e4'), Delayed('load_image-80421fc2-e36d-46c5-b109-50e3cab7761a'), Delayed('load_image-07695dc6-256e-4fab-aea9-c79867283475'), Delayed('load_image-87d33410-e543-4958-9f58-220252950951'), Delayed('load_image-3d87a5aa-975d-4646-bd3d-8e92538bf834'), Delayed('load_image-939969fe-4c1e-4c75-bc2f-2e734f37ad7a'), Delayed('load_image-a1d94477-ef58-48ec-af9f-74bedba691d2'), Delayed('load_image-382f14f7-154c-4562-b797-018bc23cf075'), Delayed('load_image-033e3c55-9888-46df-94c4-3b30a9dab8a9'), Delayed('load_image-cb3bdcfd-a3dd-4f9c-85de-1c86169de64d'), Delayed('load_image-31707cc1-2321-4644-af9c-c215d8ae9aa1'), Delayed('load_image-8f5d0843-4438-4a4a-becf-4172c6378889'), Delayed('load_image-c0d5aaa3-7977-4499-80aa-10c0dd8a054d'), Delayed('load_image-880d4d8e-aa85-4657-b533-0383627417dc'), Delayed('load_image-69cce1fe-dc0d-436a-ba9e-92b72ba3f60e'), Delayed('load_image-ec06dd13-ee9d-4e4d-b33d-ee9357641e70'), Delayed('load_image-2462a68b-4289-4c21-8e7d-44362b4ab3ae'), Delayed('load_image-427ba8ce-9303-46b4-a32a-7709f1413e14'), Delayed('load_image-8f7bf6ab-0c8b-48e3-8a21-c5fc2ca080ab'), Delayed('load_image-39038784-8e71-45de-9c21-2fc2d5a3daff'), Delayed('load_image-c8a858f3-5602-4937-b268-f8faa829dc66'), Delayed('load_image-fc6f2b6c-b1d5-4237-83a0-1de3997c79e9'), Delayed('load_image-8fc19809-66d5-4057-86fe-51e8dd77944d'), Delayed('load_image-f5697e09-82f8-4896-b0eb-8ab3ca9c8d9a'), Delayed('load_image-ca4d9dd4-a774-461d-a991-298ea76ec3f1'), Delayed('load_image-ba113f91-b0a5-4811-90ff-1007c78c8faf'), Delayed('load_image-bdcead1e-46cc-4e5b-93d2-0e86784ba1e2'), Delayed('load_image-bb2543a1-6fa5-4886-8b1d-94d109aa6c5d'), Delayed('load_image-c42d409d-bae9-4b20-b62d-7855d604ef14'), Delayed('load_image-047d938f-eb9b-4356-ba0b-462dd98de842'), Delayed('load_image-0b01f689-d476-44da-9d8e-d66df85010d7'), Delayed('load_image-ebad1519-44c3-42a0-b132-eee1ee8f60ec'), Delayed('load_image-69d7a96e-43bf-4265-afa2-5dcf4b9cbb4e'), Delayed('load_image-4ecd3b22-c4a2-42e9-b818-e1ac2e4ff4fa'), Delayed('load_image-cd0cb24b-1ac7-440c-91c7-839f66997a27'), Delayed('load_image-f874ab0e-45a0-4ac2-8864-76841cd679c8'), Delayed('load_image-451f8760-45c4-4234-94a0-26edc6590a65'), Delayed('load_image-924f30c7-9111-4c11-8fb5-75d0da37d111'), Delayed('load_image-e08b8dc8-6763-48ba-8ab5-d545dfa20bc1'), Delayed('load_image-61937e21-c5a0-4c5d-b33b-c29159392caa'), Delayed('load_image-4efbb229-f28b-4431-bfba-5572978b2f89'), Delayed('load_image-85d43535-4b70-48a6-b1de-fc6e237d9088'), Delayed('load_image-3e3a7a26-9ce1-406a-85c6-4271f3b47543'), Delayed('load_image-b1838afc-4017-4401-bbb1-e469b37e9a4d'), Delayed('load_image-4326d50f-bcac-4af6-be48-582669b0b5ca'), Delayed('load_image-e2153649-de87-4a39-a0f3-674b557c7fd3'), Delayed('load_image-a29aa993-915a-4ee5-b880-f10c43aad21c'), Delayed('load_image-6cb90384-0887-45aa-80dd-5051bba5df98'), Delayed('load_image-8bc5cbcd-cee4-4b64-b70e-f6dd21377040'), Delayed('load_image-84f45cf7-46d1-4fbe-a1c0-ae15320fe250'), Delayed('load_image-c6a65ba4-ea91-4144-81f1-9afe5fda7913'), Delayed('load_image-91d7fc8d-2bc6-4876-ac4b-b80579396992'), Delayed('load_image-10190169-e320-4533-8bcb-8f5e121018bc'), Delayed('load_image-700abf70-474f-4ea5-8ebf-0b1f68a91f82'), Delayed('load_image-2c824fb0-0e3e-449d-a21b-bfe65bf3c5c8'), Delayed('load_image-2afb88fa-390b-4559-9827-2b555a6e4729'), Delayed('load_image-b4af3ce4-bcb9-44b0-8a00-4d6ea40c834f'), Delayed('load_image-d7ed10e4-b244-43c9-9bc5-afc6c8a61327'), Delayed('load_image-96ef7b14-e48d-4972-bfee-eaf34d8f12c2'), Delayed('load_image-65517835-f7ed-4b9c-b0dd-f2845c905ac6'), Delayed('load_image-9828ea5b-29b3-4df3-9986-88816eb66ba5'), Delayed('load_image-c4379693-6ffe-42f4-886b-3c4bc7ce31ec'), Delayed('load_image-4edaf8a3-3b89-4899-a391-09a0b5f79767'), Delayed('load_image-ae4bb0aa-99f4-4afb-84e5-3109c3118da0'), Delayed('load_image-4fc76c2d-a1d7-491e-9b2d-63e3a95bd375'), Delayed('load_image-ec7a132d-c322-4fbf-ac00-c14091819692'), Delayed('load_image-fd4c3c18-b85a-40a4-aad5-7f490585ae2a'), Delayed('load_image-3f276ef7-121d-4f45-a310-c5ffb2d8f5c5'), Delayed('load_image-ed281e1a-b858-4ea4-b459-222a6bf9ddf7'), Delayed('load_image-f805f63f-c97e-4784-8ce4-f7502a53883b'), Delayed('load_image-589f4875-46e7-476f-9723-4ef923a4f950'), Delayed('load_image-c3099db4-5a51-4e34-add6-aef22e67da32'), Delayed('load_image-3472f547-4b6a-4652-9b96-da5f21d6a2c0'), Delayed('load_image-0e154e8e-f3f2-4569-8d99-044257b4faf3'), Delayed('load_image-b70ac3fd-5390-40da-a840-9cdb846f5628'), Delayed('load_image-4ca09597-49a1-4f13-b4bc-9ed1ad82e05a'), Delayed('load_image-f0d7fa35-61ff-4f96-9767-d2ebf4436dd6'), Delayed('load_image-8de82ce6-6fe7-49d8-8715-d8f6f09a1d4e')]\n"
     ]
    }
   ],
   "source": [
    "from pathlib import Path\n",
    "import zarr\n",
    "import dask.array as da\n",
    "import os\n",
    "import imageio.v2 as imageio\n",
    "import sys\n",
    "from ome_zarr.io import parse_url\n",
    "from ome_zarr.reader import Reader\n",
    "from dask import delayed\n",
    "\n",
    "\n",
    "def load_image(file: str):\n",
    "    if os.path.exists(file):\n",
    "        return imageio.imread(file)\n",
    "    else:\n",
    "        print(f'ERROR: {file} NOT FOUND')\n",
    "        sys.exit(1)\n",
    "\n",
    "\n",
    "def zarr_to_dask(INPUT: Path):\n",
    "    '''\n",
    "    create dask task arrays (delayed loading) for each Zarr image stack\n",
    "    '''\n",
    "\n",
    "    # Process Data [in zarr store]\n",
    "    store = parse_url(INPUT, mode=\"r\").store\n",
    "    zarr_root  = zarr.group(store=store, overwrite=False)\n",
    "    img_stack = zarr_root[\"scale0\"]  # Access full-resolution data\n",
    "\n",
    "    # Convert the Zarr array to a Dask array for lazy loading\n",
    "    dask_data = da.from_zarr(img_stack)\n",
    "    total_sections = dask_data.shape[1]  # Shape is (c, z, y, x)\n",
    "\n",
    "    # Loop through each section (z-axis) for Virus data\n",
    "    input_filelist = []\n",
    "    for z in range(total_sections):\n",
    "        # Extract the x, y slice for the current z-layer (assuming channel 0)\n",
    "        total_sections = dask_data[0, z, :, :]  # Lazy loading\n",
    "        input_filelist.append(total_sections)\n",
    "        \n",
    "    store.close()\n",
    "\n",
    "    # Create delayed tasks for processing the sections (SEPARATE TASK LIST PER CHANNEL)\n",
    "    return [delayed(load_image)(section) for section in input_filelist]\n",
    "\n",
    "\n",
    "ome_zarr_dir = '/net/birdstore/Active_Atlas_Data/data_root/pipeline_data/DK184/www/neuroglancer_data/'\n",
    "INPUT_dye = Path(ome_zarr_dir, 'C1.zarr')\n",
    "INPUT_virus = Path(ome_zarr_dir, 'C3.zarr')\n",
    "input_format = \"ome-zarr\"\n",
    "str_section_number = \"001\"  # Example section number (zfill for legacy processing)\n",
    "\n",
    "delayed_tasks_dye = zarr_to_dask(INPUT_dye)\n",
    "delayed_tasks_virus = zarr_to_dask(INPUT_virus)\n",
    "print(delayed_tasks_dye)"
   ]
  }
 ],
 "metadata": {
  "kernelspec": {
   "display_name": "pipeline",
   "language": "python",
   "name": "python3"
  },
  "language_info": {
   "codemirror_mode": {
    "name": "ipython",
    "version": 3
   },
   "file_extension": ".py",
   "mimetype": "text/x-python",
   "name": "python",
   "nbconvert_exporter": "python",
   "pygments_lexer": "ipython3",
   "version": "3.10.12"
  }
 },
 "nbformat": 4,
 "nbformat_minor": 2
}
