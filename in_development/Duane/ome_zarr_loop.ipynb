{
 "cells": [
  {
   "cell_type": "code",
   "execution_count": null,
   "metadata": {},
   "outputs": [
    {
     "name": "stdout",
     "output_type": "stream",
     "text": [
      "Dimensions of the array (c, z, y, x): (1, 348, 38835, 77383)\n",
      "[{'name': 'c', 'type': 'channel'}, {'name': 'z', 'type': 'space', 'unit': 'micrometer'}, {'name': 'y', 'type': 'space', 'unit': 'micrometer'}, {'name': 'x', 'type': 'space', 'unit': 'micrometer'}]\n"
     ]
    },
    {
     "data": {
      "text/plain": [
       "'\\n# Convert the zarr array to a dask array for efficient chunked reading\\n#dask_array = da.from_zarr(dye_img_stack)\\n\\n# Get the number of layers (z-axis)\\nnum_layers = dask_array.shape[0]\\n\\n# Loop through each layer along the z-axis\\nfor z in range(num_layers):\\n    # Read the x, y slice for the current z-layer\\n    xy_slice = dask_array[z, :, :].compute()  # .compute() loads the data into memory\\n    \\n    # Process or analyze the xy_slice as needed\\n    print(f\"Layer {z}:\")\\n    print(xy_slice)\\n\\n\\n# Example: Accessing a specific resolution level\\n# resolution_level = 0  # 0 is typically the highest resolution\\n# array_3d = root[\\'data\\'][resolution_level]\\n\\n# store.close()\\n'"
      ]
     },
     "execution_count": 12,
     "metadata": {},
     "output_type": "execute_result"
    }
   ],
   "source": [
    "from pathlib import Path\n",
    "import zarr\n",
    "import dask.array as da\n",
    "import os\n",
    "import imageio.v2 as imageio\n",
    "import sys\n",
    "from zarr import parse_url\n",
    "from ome_zarr.io import Reader\n",
    "from dask import delayed\n",
    "\n",
    "ome_zarr_dir = '/net/birdstore/Active_Atlas_Data/data_root/pipeline_data/DK184/www/neuroglancer_data/'\n",
    "INPUT_dye = Path(ome_zarr_dir, 'C1.zarr')\n",
    "INPUT_virus = Path(ome_zarr_dir, 'C3.zarr')\n",
    "input_format = \"ome-zarr\"\n",
    "str_section_number = \"001\"  # Example section number (zfill for legacy processing)\n",
    "\n",
    "\n",
    "def load_image(file: str):\n",
    "    if os.path.exists(file):\n",
    "        return imageio.imread(file)\n",
    "    else:\n",
    "        print(f'ERROR: {file} NOT FOUND')\n",
    "        sys.exit(1)\n",
    "\n",
    "# Process Virus Data\n",
    "store_virus = parse_url(INPUT_virus, mode=\"r\").store\n",
    "zarr_root_virus = parse_url(INPUT_virus, mode=\"r\").root\n",
    "img_stack_virus = zarr_root_virus[\"scale0\"]  # Access full-resolution data\n",
    "\n",
    "# Convert the Zarr array to a Dask array for lazy loading\n",
    "dask_data_virus = da.from_zarr(img_stack_virus)\n",
    "total_sections_virus = dask_data_virus.shape[1]  # Shape is (c, z, y, x)\n",
    "\n",
    "# Loop through each section (z-axis) for Virus data\n",
    "input_file_virus = []\n",
    "for z in range(total_sections_virus):\n",
    "    # Extract the x, y slice for the current z-layer (assuming channel 0)\n",
    "    section_data_virus = dask_data_virus[0, z, :, :]  # Lazy loading\n",
    "    input_file_virus.append(section_data_virus)\n",
    "\n",
    "# Process Dye Data\n",
    "store_dye = parse_url(INPUT_dye, mode=\"r\").store\n",
    "zarr_root_dye = parse_url(INPUT_dye, mode=\"r\").root\n",
    "img_stack_dye = zarr_root_dye[\"scale0\"]  # Access full-resolution data\n",
    "\n",
    "dask_data_dye = da.from_zarr(img_stack_dye)\n",
    "total_sections_dye = dask_data_dye.shape[1]  # Shape is (c, z, y, x)\n",
    "\n",
    "input_file_dye = []\n",
    "for z in range(total_sections_dye):\n",
    "    # Extract the x, y slice for the current z-layer (assuming channel 0)\n",
    "    section_data_dye = dask_data_dye[0, z, :, :]  # Lazy loading\n",
    "    input_file_dye.append(section_data_dye)\n",
    "\n",
    "# Create delayed tasks for processing the sections (SEPARATE TASK LIST PER CHANNEL)\n",
    "delayed_tasks_virus = [delayed(load_image)(section) for section in input_file_virus]\n",
    "delayed_tasks_dye = [delayed(load_image)(section) for section in input_file_dye]\n",
    "\n",
    "\n",
    "store_dye.close()\n",
    "store_virus.close()"
   ]
  },
  {
   "cell_type": "code",
   "execution_count": null,
   "metadata": {},
   "outputs": [],
   "source": [
    "def zarr_to_dask(INPUT: Path):\n",
    "    '''\n",
    "    create dask task arrays (delayed loading) for each Zarr image stack\n",
    "    '''\n",
    "\n",
    "    # Process Virus Data\n",
    "    store = parse_url(INPUT, mode=\"r\").store\n",
    "    zarr_root = parse_url(INPUT, mode=\"r\").root\n",
    "    img_stack = zarr_root[\"scale0\"]  # Access full-resolution data\n",
    "\n",
    "    # Convert the Zarr array to a Dask array for lazy loading\n",
    "    dask_data = da.from_zarr(img_stack)\n",
    "    total_sections = dask_data.shape[1]  # Shape is (c, z, y, x)\n",
    "\n",
    "    # Loop through each section (z-axis) for Virus data\n",
    "    input_filelist = []\n",
    "    for z in range(total_sections):\n",
    "        # Extract the x, y slice for the current z-layer (assuming channel 0)\n",
    "        total_sections = dask_data_virus[0, z, :, :]  # Lazy loading\n",
    "        input_filelist.append(total_sections)\n",
    "        \n",
    "    store.close()\n",
    "\n",
    "    # Create delayed tasks for processing the sections (SEPARATE TASK LIST PER CHANNEL)\n",
    "    return [delayed(load_image)(section) for section in input_filelist]\n",
    "\n",
    "\n",
    "ome_zarr_dir = '/net/birdstore/Active_Atlas_Data/data_root/pipeline_data/DK184/www/neuroglancer_data/'\n",
    "INPUT_dye = Path(ome_zarr_dir, 'C1.zarr')\n",
    "INPUT_virus = Path(ome_zarr_dir, 'C3.zarr')\n",
    "input_format = \"ome-zarr\"\n",
    "str_section_number = \"001\"  # Example section number (zfill for legacy processing)\n",
    "\n",
    "delayed_tasks_dye = zarr_to_dask(INPUT_dye)\n",
    "delayed_tasks_virus = zarr_to_dask(INPUT_virus)"
   ]
  }
 ],
 "metadata": {
  "kernelspec": {
   "display_name": "pipeline",
   "language": "python",
   "name": "python3"
  },
  "language_info": {
   "codemirror_mode": {
    "name": "ipython",
    "version": 3
   },
   "file_extension": ".py",
   "mimetype": "text/x-python",
   "name": "python",
   "nbconvert_exporter": "python",
   "pygments_lexer": "ipython3",
   "version": "3.10.12"
  }
 },
 "nbformat": 4,
 "nbformat_minor": 2
}
