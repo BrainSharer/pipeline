{
 "cells": [
  {
   "cell_type": "code",
   "execution_count": 11,
   "metadata": {},
   "outputs": [
    {
     "name": "stdout",
     "output_type": "stream",
     "text": [
      "FOUND AVERAGE CELL IMAGE FILE @ /data/pipeline/src/library/cell_labeling/average_cell_image.pkl\n"
     ]
    }
   ],
   "source": [
    "import os, sys\n",
    "from pathlib import Path\n",
    "import xgboost as xgb\n",
    "import joblib\n",
    "import pandas as pd\n",
    "from compress_pickle import dump, load\n",
    "\n",
    "base_path = Path.cwd().resolve().parent.parent.parent \n",
    "sys.path.append(str(base_path))\n",
    "\n",
    "average_cell_image_file = Path(base_path, 'src', 'library', 'cell_labeling', 'average_cell_image.pkl')\n",
    "print(f'FOUND AVERAGE CELL IMAGE FILE @ {average_cell_image_file}')\n",
    "\n",
    "# Load the old model (1.6) - contains 30 models\n",
    "average_cell_image = pd.read_pickle(average_cell_image_file)\n",
    "\n",
    "# new_model_array = []\n",
    "# for i in range(len(model)):\n",
    "#     bst=model[i]\n",
    "#     updated_model = xgb.Booster(model_file=bst)\n",
    "#     new_model_array.append(updated_model)\n",
    "\n",
    "# #Save the model with the new version (2.0.2)\n",
    "# new_model_file = Path(os.getcwd(), f'models_example_new.pkl')\n",
    "# dump(new_model_array, new_model_file.as_posix())"
   ]
  },
  {
   "cell_type": "code",
   "execution_count": null,
   "metadata": {},
   "outputs": [
    {
     "name": "stdout",
     "output_type": "stream",
     "text": [
      "FOUND MODEL FILE @ /data/pipeline/src/library/cell_labeling/models_example.pkl\n",
      "MODEL ATTRIBUTES: {'best_iteration': '675', 'best_ntree_limit': '676'}\n",
      "MODEL BOOSTING ROUNDS: 676\n"
     ]
    },
    {
     "ename": "NameError",
     "evalue": "name 'dtest' is not defined",
     "output_type": "error",
     "traceback": [
      "\u001b[0;31m---------------------------------------------------------------------------\u001b[0m",
      "\u001b[0;31mNameError\u001b[0m                                 Traceback (most recent call last)",
      "Cell \u001b[0;32mIn[18], line 25\u001b[0m\n\u001b[1;32m     22\u001b[0m \u001b[38;5;28mprint\u001b[39m(\u001b[38;5;124mf\u001b[39m\u001b[38;5;124m'\u001b[39m\u001b[38;5;124mMODEL BOOSTING ROUNDS: \u001b[39m\u001b[38;5;132;01m{\u001b[39;00mbooster_model\u001b[38;5;241m.\u001b[39mnum_boosted_rounds()\u001b[38;5;132;01m}\u001b[39;00m\u001b[38;5;124m'\u001b[39m) \n\u001b[1;32m     24\u001b[0m \u001b[38;5;66;03m# Make predictions (assuming `dtest` is a DMatrix of test data)\u001b[39;00m\n\u001b[0;32m---> 25\u001b[0m predictions \u001b[38;5;241m=\u001b[39m booster_model\u001b[38;5;241m.\u001b[39mpredict(\u001b[43mdtest\u001b[49m)\n",
      "\u001b[0;31mNameError\u001b[0m: name 'dtest' is not defined"
     ]
    }
   ],
   "source": [
    "import os, sys\n",
    "from pathlib import Path\n",
    "import xgboost as xgb\n",
    "import joblib\n",
    "import pandas as pd\n",
    "from compress_pickle import dump, load\n",
    "\n",
    "base_path = Path.cwd().resolve().parent.parent.parent \n",
    "sys.path.append(str(base_path))\n",
    "\n",
    "models_example_file = Path(base_path, 'src', 'library', 'cell_labeling', 'models_example.pkl')\n",
    "print(f'FOUND MODEL FILE @ {models_example_file}')\n",
    "\n",
    "# Load the models - contains trained 30 models\n",
    "models = pd.read_pickle(models_example_file)\n",
    "\n",
    "# Access the first Booster model\n",
    "booster_model = models[0]  # Assuming the list is stored in a variable like models_list\n",
    "\n",
    "# Print model information\n",
    "print(f'MODEL ATTRIBUTES: {booster_model.attributes()}')\n",
    "print(f'MODEL BOOSTING ROUNDS: {booster_model.num_boosted_rounds()}') \n",
    "\n",
    "\n",
    "def calculate_scores(features: pd.DataFrame, model):\n",
    "    all = xgb.DMatrix(features) #RENAME VARIABLE\n",
    "    scores=np.zeros([features.shape[0], len(model)])\n",
    "    for i in range(len(model)):\n",
    "        bst = model[i]\n",
    "        scores[:,i] = bst.predict(all, iteration_range=[1,bst.best_ntree_limit], output_margin=True)\n",
    "    _mean = np.mean(scores, axis=1)\n",
    "    _std = np.std(scores, axis=1)\n",
    "    return _mean, _std\n",
    "\n",
    "\n",
    "#'test_data' is Pandas dataframe from cell features:  pd.DataFrame\n",
    "dtest = xgb.DMatrix(test_data)\n",
    "# Make predictions (assuming `dtest` is a DMatrix of test data)\n",
    "predictions = booster_model.predict(dtest)"
   ]
  },
  {
   "cell_type": "code",
   "execution_count": 15,
   "metadata": {},
   "outputs": [
    {
     "data": {
      "text/plain": [
       "30"
      ]
     },
     "execution_count": 15,
     "metadata": {},
     "output_type": "execute_result"
    }
   ],
   "source": [
    "len(models_example)"
   ]
  },
  {
   "cell_type": "code",
   "execution_count": 12,
   "metadata": {},
   "outputs": [
    {
     "data": {
      "text/plain": [
       "{'CH1': array([[-1.0573404 , -1.0581952 , -1.0589114 , ..., -1.0138417 ,\n",
       "         -1.0235392 , -1.0296975 ],\n",
       "        [-1.0493764 , -1.0523885 , -1.0581869 , ..., -0.99972093,\n",
       "         -1.0106596 , -1.0232223 ],\n",
       "        [-1.042122  , -1.0448592 , -1.0502968 , ..., -0.99248445,\n",
       "         -1.0064406 , -1.0147836 ],\n",
       "        ...,\n",
       "        [-1.054475  , -1.051001  , -1.042859  , ..., -1.090931  ,\n",
       "         -1.0911254 , -1.0891862 ],\n",
       "        [-1.0597794 , -1.0567936 , -1.0480288 , ..., -1.0937718 ,\n",
       "         -1.0926406 , -1.0941103 ],\n",
       "        [-1.0636642 , -1.0605773 , -1.0557969 , ..., -1.0963552 ,\n",
       "         -1.0933192 , -1.0933458 ]], dtype=float32),\n",
       " 'CH3': array([[-1.0111138 , -1.0109735 , -1.0111748 , ..., -0.9933717 ,\n",
       "         -1.0014781 , -1.0101577 ],\n",
       "        [-1.0065833 , -1.0070469 , -1.0074517 , ..., -0.9857129 ,\n",
       "         -0.99460155, -1.0037953 ],\n",
       "        [-1.0038296 , -1.0050545 , -1.0047892 , ..., -0.9754796 ,\n",
       "         -0.9860601 , -0.9965064 ],\n",
       "        ...,\n",
       "        [-0.9981359 , -0.98982936, -0.9811375 , ..., -1.0448931 ,\n",
       "         -1.048398  , -1.0516756 ],\n",
       "        [-1.0041745 , -0.99668366, -0.9886164 , ..., -1.0465459 ,\n",
       "         -1.0497726 , -1.0520008 ],\n",
       "        [-1.0088124 , -1.0022963 , -0.9961936 , ..., -1.0480484 ,\n",
       "         -1.0510489 , -1.054475  ]], dtype=float32)}"
      ]
     },
     "execution_count": 12,
     "metadata": {},
     "output_type": "execute_result"
    }
   ],
   "source": [
    "average_cell_image"
   ]
  }
 ],
 "metadata": {
  "kernelspec": {
   "display_name": "pipeline",
   "language": "python",
   "name": "python3"
  },
  "language_info": {
   "codemirror_mode": {
    "name": "ipython",
    "version": 3
   },
   "file_extension": ".py",
   "mimetype": "text/x-python",
   "name": "python",
   "nbconvert_exporter": "python",
   "pygments_lexer": "ipython3",
   "version": "3.10.12"
  }
 },
 "nbformat": 4,
 "nbformat_minor": 2
}
