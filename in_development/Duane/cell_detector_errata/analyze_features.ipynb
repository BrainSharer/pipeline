{
 "cells": [
  {
   "cell_type": "code",
   "execution_count": 5,
   "metadata": {},
   "outputs": [
    {
     "data": {
      "text/html": [
       "<div><style>\n",
       ".dataframe > thead > tr,\n",
       ".dataframe > tbody > tr {\n",
       "  text-align: right;\n",
       "  white-space: pre-wrap;\n",
       "}\n",
       "</style>\n",
       "<small>shape: (100, 46)</small><table border=\"1\" class=\"dataframe\"><thead><tr><th>animal</th><th>section</th><th>index</th><th>row</th><th>col</th><th>area</th><th>height</th><th>width</th><th>corr_CH1</th><th>energy_CH1</th><th>corr_CH3</th><th>energy_CH3</th><th>m00_mask</th><th>m10_mask</th><th>m01_mask</th><th>m20_mask</th><th>m11_mask</th><th>m02_mask</th><th>m30_mask</th><th>m21_mask</th><th>m12_mask</th><th>m03_mask</th><th>mu20_mask</th><th>mu11_mask</th><th>mu02_mask</th><th>mu30_mask</th><th>mu21_mask</th><th>mu12_mask</th><th>mu03_mask</th><th>nu20_mask</th><th>nu11_mask</th><th>nu02_mask</th><th>nu30_mask</th><th>nu21_mask</th><th>nu12_mask</th><th>nu03_mask</th><th>h0_mask</th><th>h1_mask</th><th>h2_mask</th><th>h3_mask</th><th>h4_mask</th><th>h5_mask</th><th>h6_mask</th><th>contrast1</th><th>contrast3</th><th>predictions</th></tr><tr><td>str</td><td>f64</td><td>f64</td><td>f64</td><td>f64</td><td>f64</td><td>f64</td><td>f64</td><td>f64</td><td>f64</td><td>f64</td><td>f64</td><td>f64</td><td>f64</td><td>f64</td><td>f64</td><td>f64</td><td>f64</td><td>f64</td><td>f64</td><td>f64</td><td>f64</td><td>f64</td><td>f64</td><td>f64</td><td>f64</td><td>f64</td><td>f64</td><td>f64</td><td>f64</td><td>f64</td><td>f64</td><td>f64</td><td>f64</td><td>f64</td><td>f64</td><td>f64</td><td>f64</td><td>f64</td><td>f64</td><td>f64</td><td>f64</td><td>f64</td><td>f64</td><td>f64</td><td>f64</td></tr></thead><tbody><tr><td>&quot;CTB015&quot;</td><td>59.0</td><td>1.0</td><td>33843.0</td><td>18037.0</td><td>6400.0</td><td>80.0</td><td>80.0</td><td>0.350879</td><td>0.220283</td><td>-0.156771</td><td>-0.015799</td><td>5628.0</td><td>223202.0</td><td>219188.0</td><td>1.1803834e7</td><td>8.556956e6</td><td>1.1575262e7</td><td>7.0140104e8</td><td>4.45302456e8</td><td>4.48908904e8</td><td>6.89758544e8</td><td>2.9518e6</td><td>-135865.60199</td><td>3.0388e6</td><td>-863311.356253</td><td>-3.6328e6</td><td>426066.440297</td><td>2.2528e6</td><td>0.093193</td><td>-0.004289</td><td>0.095938</td><td>-0.000363</td><td>-0.001529</td><td>0.000179</td><td>0.000948</td><td>0.18913</td><td>0.000081</td><td>0.000031</td><td>3.7114e-7</td><td>-9.1980e-13</td><td>-1.0006e-9</td><td>-8.7263e-13</td><td>0.009142</td><td>0.000977</td><td>2.0</td></tr><tr><td>&quot;CTB015&quot;</td><td>61.0</td><td>2.0</td><td>33809.0</td><td>17980.0</td><td>6400.0</td><td>80.0</td><td>80.0</td><td>0.466812</td><td>-0.159543</td><td>0.07312</td><td>0.08311</td><td>5595.0</td><td>229757.0</td><td>233972.0</td><td>1.2620095e7</td><td>9.655238e6</td><td>1.2669478e7</td><td>7.77499079e8</td><td>5.29040278e8</td><td>5.23018342e8</td><td>7.6086356e8</td><td>3.1852e6</td><td>47247.865237</td><td>2.8852e6</td><td>-2.3393e6</td><td>-2.5879e6</td><td>-1.2016e6</td><td>-1.0258e7</td><td>0.10175</td><td>0.001509</td><td>0.092168</td><td>-0.000999</td><td>-0.001105</td><td>-0.000513</td><td>-0.004381</td><td>0.193918</td><td>0.000101</td><td>0.000001</td><td>0.000032</td><td>2.0775e-10</td><td>-2.1642e-7</td><td>7.2877e-11</td><td>-0.019425</td><td>0.006682</td><td>2.0</td></tr><tr><td>&quot;CTB015&quot;</td><td>62.0</td><td>3.0</td><td>33913.0</td><td>18122.0</td><td>6400.0</td><td>80.0</td><td>80.0</td><td>0.84182</td><td>-0.220473</td><td>0.008471</td><td>0.172667</td><td>6258.0</td><td>247891.0</td><td>245961.0</td><td>1.3174023e7</td><td>9.746893e6</td><td>1.3011567e7</td><td>7.86335515e8</td><td>5.18340585e8</td><td>5.14728493e8</td><td>7.75396803e8</td><td>3.3546e6</td><td>3921.083893</td><td>3.3445e6</td><td>-1.2759e6</td><td>245367.052181</td><td>-992060.31218</td><td>1.1004e6</td><td>0.085658</td><td>0.0001</td><td>0.085399</td><td>-0.000412</td><td>0.000079</td><td>-0.00032</td><td>0.000355</td><td>0.171058</td><td>1.0726e-7</td><td>3.1504e-7</td><td>7.2460e-7</td><td>-6.0357e-14</td><td>-3.7372e-11</td><td>-3.4090e-13</td><td>-0.000069</td><td>-0.001471</td><td>2.0</td></tr><tr><td>&quot;CTB015&quot;</td><td>62.0</td><td>4.0</td><td>33618.0</td><td>18064.0</td><td>6400.0</td><td>80.0</td><td>80.0</td><td>0.876662</td><td>0.017806</td><td>-0.052092</td><td>-0.087141</td><td>6163.0</td><td>244903.0</td><td>243856.0</td><td>1.3011971e7</td><td>9.655849e6</td><td>1.2931718e7</td><td>7.76233723e8</td><td>5.12769873e8</td><td>5.11173689e8</td><td>7.71221206e8</td><td>3.2801e6</td><td>-34409.959598</td><td>3.2829e6</td><td>-1.5185e6</td><td>650289.111417</td><td>20941.451933</td><td>-250504.100633</td><td>0.086358</td><td>-0.000906</td><td>0.086431</td><td>-0.000509</td><td>0.000218</td><td>0.000007</td><td>-0.000084</td><td>0.17279</td><td>0.000003</td><td>8.2626e-7</td><td>2.7020e-7</td><td>1.2593e-13</td><td>2.2686e-10</td><td>-2.1000e-14</td><td>0.000979</td><td>0.000346</td><td>2.0</td></tr><tr><td>&quot;CTB015&quot;</td><td>63.0</td><td>5.0</td><td>34277.0</td><td>18219.0</td><td>6400.0</td><td>80.0</td><td>80.0</td><td>-0.137667</td><td>0.152915</td><td>-0.266994</td><td>0.020043</td><td>6400.0</td><td>252800.0</td><td>252800.0</td><td>1.33984e7</td><td>9.9856e6</td><td>1.33984e7</td><td>7.98848e8</td><td>5.292368e8</td><td>5.292368e8</td><td>7.98848e8</td><td>3.4128e6</td><td>0.0</td><td>3.4128e6</td><td>0.0</td><td>0.0</td><td>0.0</td><td>0.0</td><td>0.08332</td><td>0.0</td><td>0.08332</td><td>0.0</td><td>0.0</td><td>0.0</td><td>0.0</td><td>0.166641</td><td>0.0</td><td>0.0</td><td>0.0</td><td>0.0</td><td>0.0</td><td>0.0</td><td>0.0</td><td>0.0</td><td>2.0</td></tr><tr><td>&hellip;</td><td>&hellip;</td><td>&hellip;</td><td>&hellip;</td><td>&hellip;</td><td>&hellip;</td><td>&hellip;</td><td>&hellip;</td><td>&hellip;</td><td>&hellip;</td><td>&hellip;</td><td>&hellip;</td><td>&hellip;</td><td>&hellip;</td><td>&hellip;</td><td>&hellip;</td><td>&hellip;</td><td>&hellip;</td><td>&hellip;</td><td>&hellip;</td><td>&hellip;</td><td>&hellip;</td><td>&hellip;</td><td>&hellip;</td><td>&hellip;</td><td>&hellip;</td><td>&hellip;</td><td>&hellip;</td><td>&hellip;</td><td>&hellip;</td><td>&hellip;</td><td>&hellip;</td><td>&hellip;</td><td>&hellip;</td><td>&hellip;</td><td>&hellip;</td><td>&hellip;</td><td>&hellip;</td><td>&hellip;</td><td>&hellip;</td><td>&hellip;</td><td>&hellip;</td><td>&hellip;</td><td>&hellip;</td><td>&hellip;</td><td>&hellip;</td></tr><tr><td>&quot;CTB015&quot;</td><td>0.0</td><td>7.0</td><td>19020.0</td><td>7141.0</td><td>2.0</td><td>2.0</td><td>2.0</td><td>-0.421688</td><td>0.190765</td><td>0.668507</td><td>-0.011547</td><td>2.0</td><td>81.0</td><td>81.0</td><td>3281.0</td><td>3280.0</td><td>3281.0</td><td>132921.0</td><td>132840.0</td><td>132840.0</td><td>132921.0</td><td>0.5</td><td>-0.5</td><td>0.5</td><td>0.0</td><td>0.0</td><td>0.0</td><td>0.0</td><td>0.125</td><td>-0.125</td><td>0.125</td><td>0.0</td><td>0.0</td><td>0.0</td><td>0.0</td><td>0.25</td><td>0.0625</td><td>0.0</td><td>0.0</td><td>0.0</td><td>0.0</td><td>0.0</td><td>0.583005</td><td>0.350043</td><td>0.0</td></tr><tr><td>&quot;CTB015&quot;</td><td>0.0</td><td>8.0</td><td>19464.0</td><td>7141.0</td><td>2.0</td><td>2.0</td><td>2.0</td><td>0.186487</td><td>0.101539</td><td>0.763378</td><td>0.140987</td><td>2.0</td><td>81.0</td><td>81.0</td><td>3281.0</td><td>3280.0</td><td>3281.0</td><td>132921.0</td><td>132840.0</td><td>132840.0</td><td>132921.0</td><td>0.5</td><td>-0.5</td><td>0.5</td><td>0.0</td><td>0.0</td><td>0.0</td><td>0.0</td><td>0.125</td><td>-0.125</td><td>0.125</td><td>0.0</td><td>0.0</td><td>0.0</td><td>0.0</td><td>0.25</td><td>0.0625</td><td>0.0</td><td>0.0</td><td>0.0</td><td>0.0</td><td>0.0</td><td>0.089343</td><td>0.554494</td><td>0.0</td></tr><tr><td>&quot;CTB015&quot;</td><td>0.0</td><td>9.0</td><td>19469.0</td><td>7141.0</td><td>3.0</td><td>1.0</td><td>3.0</td><td>0.1221</td><td>0.080384</td><td>0.792966</td><td>0.175924</td><td>3.0</td><td>120.0</td><td>120.0</td><td>4802.0</td><td>4800.0</td><td>4800.0</td><td>192240.0</td><td>192080.0</td><td>192000.0</td><td>192000.0</td><td>2.0</td><td>0.0</td><td>0.0</td><td>0.0</td><td>0.0</td><td>0.0</td><td>0.0</td><td>0.222222</td><td>0.0</td><td>0.0</td><td>0.0</td><td>0.0</td><td>0.0</td><td>0.0</td><td>0.222222</td><td>0.049383</td><td>0.0</td><td>0.0</td><td>0.0</td><td>0.0</td><td>0.0</td><td>0.089689</td><td>0.592621</td><td>0.0</td></tr><tr><td>&quot;CTB015&quot;</td><td>0.0</td><td>10.0</td><td>19471.0</td><td>7140.0</td><td>1.0</td><td>1.0</td><td>1.0</td><td>0.137151</td><td>0.073225</td><td>0.809749</td><td>0.191913</td><td>1.0</td><td>40.0</td><td>40.0</td><td>1600.0</td><td>1600.0</td><td>1600.0</td><td>64000.0</td><td>64000.0</td><td>64000.0</td><td>64000.0</td><td>0.0</td><td>0.0</td><td>0.0</td><td>0.0</td><td>0.0</td><td>0.0</td><td>0.0</td><td>0.0</td><td>0.0</td><td>0.0</td><td>0.0</td><td>0.0</td><td>0.0</td><td>0.0</td><td>0.0</td><td>0.0</td><td>0.0</td><td>0.0</td><td>0.0</td><td>0.0</td><td>0.0</td><td>-0.078319</td><td>0.611743</td><td>0.0</td></tr><tr><td>&quot;CTB015&quot;</td><td>0.0</td><td>11.0</td><td>19022.0</td><td>7143.0</td><td>1.0</td><td>1.0</td><td>1.0</td><td>-0.328915</td><td>0.217793</td><td>0.686956</td><td>0.001097</td><td>1.0</td><td>40.0</td><td>40.0</td><td>1600.0</td><td>1600.0</td><td>1600.0</td><td>64000.0</td><td>64000.0</td><td>64000.0</td><td>64000.0</td><td>0.0</td><td>0.0</td><td>0.0</td><td>0.0</td><td>0.0</td><td>0.0</td><td>0.0</td><td>0.0</td><td>0.0</td><td>0.0</td><td>0.0</td><td>0.0</td><td>0.0</td><td>0.0</td><td>0.0</td><td>0.0</td><td>0.0</td><td>0.0</td><td>0.0</td><td>0.0</td><td>0.0</td><td>0.658555</td><td>0.343106</td><td>0.0</td></tr></tbody></table></div>"
      ],
      "text/plain": [
       "shape: (100, 46)\n",
       "┌────────┬─────────┬───────┬─────────┬───┬─────────────┬───────────┬───────────┬─────────────┐\n",
       "│ animal ┆ section ┆ index ┆ row     ┆ … ┆ h6_mask     ┆ contrast1 ┆ contrast3 ┆ predictions │\n",
       "│ ---    ┆ ---     ┆ ---   ┆ ---     ┆   ┆ ---         ┆ ---       ┆ ---       ┆ ---         │\n",
       "│ str    ┆ f64     ┆ f64   ┆ f64     ┆   ┆ f64         ┆ f64       ┆ f64       ┆ f64         │\n",
       "╞════════╪═════════╪═══════╪═════════╪═══╪═════════════╪═══════════╪═══════════╪═════════════╡\n",
       "│ CTB015 ┆ 59.0    ┆ 1.0   ┆ 33843.0 ┆ … ┆ -8.7263e-13 ┆ 0.009142  ┆ 0.000977  ┆ 2.0         │\n",
       "│ CTB015 ┆ 61.0    ┆ 2.0   ┆ 33809.0 ┆ … ┆ 7.2877e-11  ┆ -0.019425 ┆ 0.006682  ┆ 2.0         │\n",
       "│ CTB015 ┆ 62.0    ┆ 3.0   ┆ 33913.0 ┆ … ┆ -3.4090e-13 ┆ -0.000069 ┆ -0.001471 ┆ 2.0         │\n",
       "│ CTB015 ┆ 62.0    ┆ 4.0   ┆ 33618.0 ┆ … ┆ -2.1000e-14 ┆ 0.000979  ┆ 0.000346  ┆ 2.0         │\n",
       "│ CTB015 ┆ 63.0    ┆ 5.0   ┆ 34277.0 ┆ … ┆ 0.0         ┆ 0.0       ┆ 0.0       ┆ 2.0         │\n",
       "│ …      ┆ …       ┆ …     ┆ …       ┆ … ┆ …           ┆ …         ┆ …         ┆ …           │\n",
       "│ CTB015 ┆ 0.0     ┆ 7.0   ┆ 19020.0 ┆ … ┆ 0.0         ┆ 0.583005  ┆ 0.350043  ┆ 0.0         │\n",
       "│ CTB015 ┆ 0.0     ┆ 8.0   ┆ 19464.0 ┆ … ┆ 0.0         ┆ 0.089343  ┆ 0.554494  ┆ 0.0         │\n",
       "│ CTB015 ┆ 0.0     ┆ 9.0   ┆ 19469.0 ┆ … ┆ 0.0         ┆ 0.089689  ┆ 0.592621  ┆ 0.0         │\n",
       "│ CTB015 ┆ 0.0     ┆ 10.0  ┆ 19471.0 ┆ … ┆ 0.0         ┆ -0.078319 ┆ 0.611743  ┆ 0.0         │\n",
       "│ CTB015 ┆ 0.0     ┆ 11.0  ┆ 19022.0 ┆ … ┆ 0.0         ┆ 0.658555  ┆ 0.343106  ┆ 0.0         │\n",
       "└────────┴─────────┴───────┴─────────┴───┴─────────────┴───────────┴───────────┴─────────────┘"
      ]
     },
     "metadata": {},
     "output_type": "display_data"
    }
   ],
   "source": [
    "from IPython.display import display\n",
    "import polars as pl\n",
    "\n",
    "# Read CSV from disk\n",
    "df = pl.read_csv(\"/scratch/pipeline_tmp/CTB015/detection_features.csv\")\n",
    "\n",
    "# Ensure 'predictions' column exists\n",
    "if \"predictions\" not in df.columns:\n",
    "    raise ValueError(\"Column 'predictions' not found in the CSV file.\")\n",
    "\n",
    "# Sort by 'predictions' column in descending order\n",
    "df_sorted = df.sort(\"predictions\", descending=True)\n",
    "\n",
    "# Show the first few rows\n",
    "#print(df_sorted.head())\n",
    "# print(df_sorted.head().to_pandas()) \n",
    "display(df_sorted.head(100))"
   ]
  }
 ],
 "metadata": {
  "kernelspec": {
   "display_name": "pipeline",
   "language": "python",
   "name": "python3"
  },
  "language_info": {
   "codemirror_mode": {
    "name": "ipython",
    "version": 3
   },
   "file_extension": ".py",
   "mimetype": "text/x-python",
   "name": "python",
   "nbconvert_exporter": "python",
   "pygments_lexer": "ipython3",
   "version": "3.10.12"
  }
 },
 "nbformat": 4,
 "nbformat_minor": 2
}
