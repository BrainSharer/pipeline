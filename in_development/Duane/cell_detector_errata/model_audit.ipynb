{
 "cells": [
  {
   "cell_type": "code",
   "execution_count": null,
   "metadata": {},
   "outputs": [
    {
     "name": "stdout",
     "output_type": "stream",
     "text": [
      "FOUND MODELS FILE @ f:\\models_example.pkl\n",
      "Model 1 BEST ITERATION: 675\n",
      "Model 2 BEST ITERATION: 675\n",
      "Model 3 BEST ITERATION: 675\n",
      "Model 4 BEST ITERATION: 675\n",
      "Model 5 BEST ITERATION: 675\n",
      "Model 6 BEST ITERATION: 675\n",
      "Model 7 BEST ITERATION: 675\n",
      "Model 8 BEST ITERATION: 675\n",
      "Model 9 BEST ITERATION: 675\n",
      "Model 10 BEST ITERATION: 675\n",
      "Model 11 BEST ITERATION: 675\n",
      "Model 12 BEST ITERATION: 675\n",
      "Model 13 BEST ITERATION: 675\n",
      "Model 14 BEST ITERATION: 675\n",
      "Model 15 BEST ITERATION: 675\n",
      "Model 16 BEST ITERATION: 675\n",
      "Model 17 BEST ITERATION: 675\n",
      "Model 18 BEST ITERATION: 675\n",
      "Model 19 BEST ITERATION: 675\n",
      "Model 20 BEST ITERATION: 675\n",
      "Model 21 BEST ITERATION: 675\n",
      "Model 22 BEST ITERATION: 675\n",
      "Model 23 BEST ITERATION: 675\n",
      "Model 24 BEST ITERATION: 675\n",
      "Model 25 BEST ITERATION: 675\n",
      "Model 26 BEST ITERATION: 675\n",
      "Model 27 BEST ITERATION: 675\n",
      "Model 28 BEST ITERATION: 675\n",
      "Model 29 BEST ITERATION: 675\n",
      "Model 30 BEST ITERATION: 675\n"
     ]
    }
   ],
   "source": [
    "#12-FEB-2025\n",
    "\n",
    "#EVALUATE models_example (training rounds for ML)\n",
    "\n",
    "import os\n",
    "import json\n",
    "from pathlib import Path\n",
    "import cv2\n",
    "import matplotlib.pyplot as plt\n",
    "import numpy as np\n",
    "import xgboost as xgb\n",
    "from compress_pickle import dump, load\n",
    "\n",
    "models_file = Path(os.getcwd(), 'models_example.pkl')\n",
    "\n",
    "if not models_file.is_file():\n",
    "    print(f'NO MODELS FILE FOUND')\n",
    "    exit()\n",
    "else:\n",
    "    print(f'FOUND MODELS FILE @ {models_file}')\n",
    "\n",
    "models = load(models_file) #EACH TRINING ROUND SHOULD BE STORED AS LIST; EACH ELEMENT HAS TYPE 'xgboost.core.Booster'\n",
    "\n",
    "# print(type(models[0])) #VERIFY TYPE\n",
    "# json.loads(models[0].save_config()) #INSPECT CONFIGURATION\n",
    "\n",
    "for i, model in enumerate(models):\n",
    "    # Access the best iteration using the 'best_iteration' attribute [number of trees in the model]\n",
    "    best_iteration = model.best_iteration\n",
    "    print(f'Model {i + 1} BEST ITERATION: {best_iteration}')"
   ]
  }
 ],
 "metadata": {
  "kernelspec": {
   "display_name": "venv_imaging",
   "language": "python",
   "name": "python3"
  },
  "language_info": {
   "codemirror_mode": {
    "name": "ipython",
    "version": 3
   },
   "file_extension": ".py",
   "mimetype": "text/x-python",
   "name": "python",
   "nbconvert_exporter": "python",
   "pygments_lexer": "ipython3",
   "version": "3.13.1"
  }
 },
 "nbformat": 4,
 "nbformat_minor": 2
}
