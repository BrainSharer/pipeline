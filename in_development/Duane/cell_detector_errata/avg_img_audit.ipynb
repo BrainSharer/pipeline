{
 "cells": [
  {
   "cell_type": "code",
   "execution_count": null,
   "metadata": {},
   "outputs": [
    {
     "name": "stdout",
     "output_type": "stream",
     "text": [
      "FOUND AVERAGE CELL IMAGE FILE @ f:\\average_cell_image.pkl\n",
      "dict_keys(['CH1', 'CH3'])\n",
      "Average cell image shape [CH1]: (80, 80)\n",
      "Average cell image shape [CH3]: (80, 80)\n"
     ]
    }
   ],
   "source": [
    "#12-FEB-2025\n",
    "\n",
    "#EVALUATE average_cell_image.pkl (used in src/library/cell_labeling/cell_manager.py)\n",
    "\n",
    "import os\n",
    "from pathlib import Path\n",
    "import cv2\n",
    "import matplotlib.pyplot as plt\n",
    "import numpy as np\n",
    "from compress_pickle import dump, load\n",
    "\n",
    "avg_cell_img_file = Path(os.getcwd(), 'average_cell_image.pkl')\n",
    "\n",
    "if not avg_cell_img_file.is_file():\n",
    "    print(f'NO AVERAGE CELL IMAGE FILE FOUND')\n",
    "    exit()\n",
    "else:\n",
    "    print(f'FOUND AVERAGE CELL IMAGE FILE @ {avg_cell_img_file}')\n",
    "\n",
    "avg_cell_img = load(avg_cell_img_file) #EACH IMAGE SHOULD BE STORED AS NUMPY ARRAY IN DICTIONARY\n",
    "\n",
    "# print(avg_cell_img.keys())\n",
    "\n",
    "channel1_image = avg_cell_img['CH1']\n",
    "channel3_image = avg_cell_img['CH3']\n",
    "\n",
    "print('Average cell image shape [CH1]:', channel1_image.shape)\n",
    "print('Average cell image shape [CH3]:', channel3_image.shape)\n",
    "\n",
    "#NORMALIZE IMAGES [BETWEEN 0 AND 1 BECAUSE VALUES ARE FLOAT]\n",
    "channel1_image = np.clip(channel1_image, 0, 1)\n",
    "channel3_image = np.clip(channel3_image, 0, 1)"
   ]
  },
  {
   "cell_type": "code",
   "execution_count": 11,
   "metadata": {},
   "outputs": [
    {
     "data": {
      "image/png": "[encoded data removed]",
      "text/plain": [
       "<Figure size 1000x500 with 2 Axes>"
      ]
     },
     "metadata": {},
     "output_type": "display_data"
    }
   ],
   "source": [
    "# Create a figure with two subplots\n",
    "fig, axes = plt.subplots(1, 2, figsize=(10, 5))  # 1 row, 2 columns\n",
    "\n",
    "# Display Channel 1\n",
    "axes[0].imshow(cv2.cvtColor(channel1_image, cv2.COLOR_BGR2RGB))\n",
    "axes[0].set_title(\"Channel 1\")\n",
    "axes[0].axis('off')  # Hide axes\n",
    "\n",
    "# Display Channel 3\n",
    "axes[1].imshow(cv2.cvtColor(channel3_image, cv2.COLOR_BGR2RGB))\n",
    "axes[1].set_title(\"Channel 3\")\n",
    "axes[1].axis('off')  # Hide axes\n",
    "\n",
    "# Show the images\n",
    "plt.show()"
   ]
  },
  {
   "cell_type": "code",
   "execution_count": 7,
   "metadata": {},
   "outputs": [
    {
     "name": "stdout",
     "output_type": "stream",
     "text": [
      "The arrays are NOT identical.\n"
     ]
    }
   ],
   "source": [
    "identity = np.array_equal(channel1_image, channel3_image)\n",
    "\n",
    "# Print result\n",
    "if identity:\n",
    "    print(\"The arrays are identical.\")\n",
    "else:\n",
    "    print(\"The arrays are NOT identical.\")"
   ]
  },
  {
   "cell_type": "code",
   "execution_count": null,
   "metadata": {},
   "outputs": [],
   "source": [
    "'''\n",
    "Audit results:\n",
    "\n",
    "average_cell_image.pkl\n",
    "contains: channel 1, channel2 cell image example\n",
    "each image is 80,80 [pixels]; each pixel represents 0.325µm * 80 = 26µm\n",
    "\n",
    "Notes:\n",
    "\n",
    "hypothesis: in_development/yoav/marked_cell_detector/Calc_mean_filter.ipynb used to create this file\n",
    "\n",
    "Each average cell image (2D) is created by calculating mean of sample neurons.\n",
    "\n",
    "Steps to recreate:\n",
    "1) read org. image (width=60000, height=34000) from brain 'DK55', section 172\n",
    "Note: tiled due to memory constraints [only used (6800, 30000) of 'tile-5']\n",
    "2) attributes: radius = 400 [only relevant so circles don't go off image]\n",
    "3) load 115 pre-annotated cell points (assumed center of mass)\n",
    "Note: summary img has 89 cells (only putative positive identified)\n",
    "4) histogram w/ binning for QC check\n",
    "'''"
   ]
  }
 ],
 "metadata": {
  "kernelspec": {
   "display_name": "Python 3 (ipykernel)",
   "language": "python",
   "name": "python3"
  },
  "language_info": {
   "codemirror_mode": {
    "name": "ipython",
    "version": 3
   },
   "file_extension": ".py",
   "mimetype": "text/x-python",
   "name": "python",
   "nbconvert_exporter": "python",
   "pygments_lexer": "ipython3",
   "version": "3.10.12"
  }
 },
 "nbformat": 4,
 "nbformat_minor": 2
}
