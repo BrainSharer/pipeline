{
 "cells": [
  {
   "cell_type": "markdown",
   "metadata": {},
   "source": [
    "## Detector training process"
   ]
  },
  {
   "cell_type": "code",
   "execution_count": 1,
   "metadata": {},
   "outputs": [],
   "source": [
    "import os, sys\n",
    "import pickle as pkl\n",
    "import pandas as pd\n",
    "import numpy as np\n",
    "from glob import glob\n",
    "import matplotlib.pyplot as plt\n",
    "import seaborn as sns\n",
    "from pathlib import Path"
   ]
  },
  {
   "cell_type": "code",
   "execution_count": 30,
   "metadata": {},
   "outputs": [],
   "source": [
    "import warnings\n",
    "warnings.simplefilter(action='ignore', category=FutureWarning)"
   ]
  },
  {
   "cell_type": "code",
   "execution_count": 6,
   "metadata": {},
   "outputs": [
    {
     "name": "stdout",
     "output_type": "stream",
     "text": [
      "/home/eddyod/programming/pipeline/src\n"
     ]
    }
   ],
   "source": [
    "%load_ext autoreload\n",
    "%autoreload 2\n",
    "PIPELINE_ROOT =  Path().resolve().parent.parent\n",
    "sys.path.append(PIPELINE_ROOT.as_posix())\n",
    "print(PIPELINE_ROOT)\n",
    "from library.cell_extractor.cell_detector_base import CellDetectorBase\n",
    "from library.cell_extractor.cell_detector_trainer import CellDetectorTrainerDK55, CellDetectorTrainer\n",
    "from library.cell_extractor.cell_detector import CellDetector"
   ]
  },
  {
   "cell_type": "code",
   "execution_count": 3,
   "metadata": {},
   "outputs": [],
   "source": [
    "def detection_plot(detections, labeled_data, title):\n",
    "    fig = plt.figure(figsize=(8,5))\n",
    "    # ax = fig.add_subplot(1, 1, 1)\n",
    "    sns.kdeplot(x=detections['mean_score'], color='r')\n",
    "    plt.yscale('log')\n",
    "    plt.ylim([1e-6,1])\n",
    "    plt.xlabel(\"Average value of Scores\")\n",
    "    # plt.legend(loc='upper left')\n",
    "    left_yaxis = plt.gca().get_yaxis()\n",
    "    left_yaxis.label.set_color('red')\n",
    "    left_yaxis.set_tick_params(labelcolor='red', color='red')\n",
    "\n",
    "    ax2 = plt.twinx()\n",
    "    labeled_data.loc[labeled_data['label']==0, 'label'] = 'Negative'\n",
    "    labeled_data.loc[labeled_data['label']==1, 'label'] = 'Positive'\n",
    "    sns.scatterplot(x=labeled_data['mean_score'], y=labeled_data['std_score'],hue=labeled_data['label'],s=5,alpha=0.7)\n",
    "    plt.title('Distributions of Detections of %s'%title)\n",
    "    # plt.xlabel(\"Mean of Scores\")\n",
    "    plt.ylabel(\"Standard Deviation of Scores\", rotation=270, labelpad=20)\n",
    "    plt.ylim([0,5])\n",
    "    plt.xlim([-25,15])\n",
    "    plt.vlines(-1.5,ymin=0,ymax=5,ls='--',colors='k',label='Negative-unsure threshold')\n",
    "    plt.vlines(1.5,ymin=0,ymax=5,ls='--',colors='k',label='Sure-unsure threshold')\n",
    "    plt.text(0, 0.3, 'Unsure', ha='center', va='center')\n",
    "    plt.text(8.25, 0.3, 'Sure', ha='center', va='center')\n",
    "    plt.text(-8.25, 0.3, 'Negative', ha='center', va='center')\n",
    "    legend = plt.legend(loc='upper right')\n",
    "    legend.get_frame().set_alpha(0.5)\n",
    "    plt.grid()\n",
    "    plt.gca().spines['left'].set_color('red')\n",
    "    # plt.savefig(f'/scratch/k1qian/Output/{title}_Distribution.eps', format='eps')\n",
    "    plt.show()\n",
    "        "
   ]
  },
  {
   "cell_type": "markdown",
   "metadata": {},
   "source": [
    "## Detector 1\n",
    "\n",
    "Use unaided annotations from DK55 as the training set."
   ]
  },
  {
   "cell_type": "code",
   "execution_count": 29,
   "metadata": {},
   "outputs": [
    {
     "name": "stdout",
     "output_type": "stream",
     "text": [
      "{'eta': 0.3, 'objective': 'binary:logistic', 'nthread': 7}\n",
      "skipping, min distance 52.49761899362675\n",
      "skipping, min distance 34.48187929913333\n",
      "skipping, min distance 42.2965719651132\n",
      "skipping, min distance 27.892651361962706\n",
      "skipping, min distance 20.8806130178211\n",
      "skipping, min distance 27.80287754891569\n",
      "skipping, min distance 26.248809496813376\n",
      "skipping, min distance 28.635642126552707\n",
      "skipping, min distance 69.85699678629192\n",
      "skipping, min distance 21.18962010041709\n",
      "skipping, min distance 36.345563690772494\n",
      "skipping, min distance 30.610455730027933\n",
      "skipping, min distance 40.19950248448356\n",
      "skipping, min distance 49.64876634922564\n",
      "skipping, min distance 93.02150289046077\n",
      "skipping, min distance 20.248456731316587\n",
      "skipping, min distance 24.758836806279895\n",
      "skipping, min distance 26.40075756488817\n",
      "skipping, min distance 37.0\n",
      "skipping, min distance 30.59411708155671\n",
      "skipping, min distance 85.0881895447306\n",
      "skipping, min distance 20.248456731316587\n",
      "skipping, min distance 29.068883707497267\n",
      "skipping, min distance 25.238858928247925\n",
      "skipping, min distance 27.586228448267445\n",
      "skipping, min distance 38.07886552931954\n",
      "skipping, min distance 50.53711507397311\n",
      "skipping, min distance 77.88452991448301\n",
      "skipping, min distance 32.526911934581186\n",
      "skipping, min distance 21.213203435596427\n",
      "skipping, min distance 113.0\n",
      "skipping, min distance 34.539832078341085\n",
      "skipping, min distance 35.35533905932738\n",
      "skipping, min distance 52.392747589718944\n",
      "skipping, min distance 23.021728866442675\n",
      "skipping, min distance 40.607881008493905\n",
      "skipping, min distance 39.05124837953327\n",
      "skipping, min distance 35.0\n",
      "skipping, min distance 30.265491900843113\n",
      "skipping, min distance 33.24154027718932\n",
      "skipping, min distance 21.213203435596427\n",
      "skipping, min distance 20.0\n",
      "skipping, min distance 26.40075756488817\n",
      "skipping, min distance 59.665735560705194\n",
      "skipping, min distance 46.84015371452148\n",
      "skipping, min distance 21.37755832643195\n",
      "skipping, min distance 39.05124837953327\n",
      "skipping, min distance 46.61544808322666\n",
      "skipping, min distance 21.633307652783937\n",
      "skipping, min distance 33.421549934136806\n",
      "skipping, min distance 57.723478758647246\n",
      "skipping, min distance 28.160255680657446\n",
      "skipping, min distance 21.95449840010015\n",
      "skipping, min distance 38.948684188300895\n",
      "skipping, min distance 21.213203435596427\n",
      "skipping, min distance 38.3275357934736\n",
      "skipping, min distance 33.015148038438355\n",
      "skipping, min distance 53.2634959423431\n",
      "skipping, min distance 45.617978911828175\n",
      "skipping, min distance 43.174066289845804\n",
      "skipping, min distance 48.84669896727925\n",
      "skipping, min distance 25.80697580112788\n",
      "skipping, min distance 27.65863337187866\n",
      "skipping, min distance 29.017236257093817\n",
      "skipping, min distance 38.27531841800928\n",
      "skipping, min distance 44.598206241955516\n",
      "skipping, min distance 24.166091947189145\n",
      "skipping, min distance 73.00684899377592\n",
      "skipping, min distance 30.083217912982647\n",
      "skipping, min distance 26.832815729997478\n",
      "skipping, min distance 21.02379604162864\n",
      "skipping, min distance 30.805843601498726\n",
      "skipping, min distance 21.02379604162864\n",
      "skipping, min distance 69.81403870282824\n",
      "skipping, min distance 28.0178514522438\n",
      "skipping, min distance 45.65084884205331\n",
      "skipping, min distance 22.20360331117452\n",
      "skipping, min distance 30.479501308256342\n",
      "skipping, min distance 24.73863375370596\n",
      "skipping, min distance 50.039984012787215\n",
      "skipping, min distance 25.0\n",
      "skipping, min distance 20.09975124224178\n",
      "skipping, min distance 26.019223662515376\n",
      "skipping, min distance 21.470910553583888\n",
      "skipping, min distance 32.7566787083184\n",
      "skipping, min distance 48.373546489791295\n",
      "skipping, min distance 21.633307652783937\n",
      "skipping, min distance 55.94640292279746\n",
      "skipping, min distance 50.32891812864648\n",
      "skipping, min distance 41.182520563948\n",
      "skipping, min distance 31.575306807693888\n",
      "skipping, min distance 21.93171219946131\n",
      "skipping, min distance 31.906112267087632\n",
      "skipping, min distance 58.89821729050889\n",
      "skipping, min distance 37.013511046643494\n",
      "skipping, min distance 63.50590523722971\n",
      "skipping, min distance 21.587033144922902\n",
      "skipping, min distance 30.870698080866262\n",
      "skipping, min distance 35.17101079013795\n",
      "skipping, min distance 24.186773244895647\n",
      "skipping, min distance 33.015148038438355\n",
      "skipping, min distance 25.0\n",
      "skipping, min distance 79.40403012442127\n",
      "skipping, min distance 30.805843601498726\n",
      "skipping, min distance 33.24154027718932\n",
      "skipping, min distance 31.400636936215164\n",
      "skipping, min distance 26.0\n",
      "skipping, min distance 46.32493928760188\n",
      "skipping, min distance 106.88779163215975\n",
      "skipping, min distance 31.78049716414141\n",
      "skipping, min distance 57.0087712549569\n",
      "skipping, min distance 40.26164427839479\n",
      "skipping, min distance 47.41307836451879\n",
      "skipping, min distance 27.459060435491963\n",
      "skipping, min distance 44.384682042344295\n",
      "skipping, min distance 47.885279575251516\n",
      "skipping, min distance 40.01249804748511\n",
      "skipping, min distance 23.345235059857504\n",
      "skipping, min distance 73.00684899377592\n",
      "skipping, min distance 40.311288741492746\n",
      "skipping, min distance 46.32493928760188\n",
      "skipping, min distance 53.45091205957107\n",
      "skipping, min distance 71.11258679024411\n",
      "skipping, min distance 37.013511046643494\n",
      "skipping, min distance 33.83784863137726\n",
      "skipping, min distance 26.90724809414742\n",
      "skipping, min distance 31.78049716414141\n",
      "skipping, min distance 25.019992006393608\n",
      "skipping, min distance 28.42534080710379\n",
      "skipping, min distance 30.4138126514911\n",
      "skipping, min distance 43.829214001622255\n",
      "skipping, min distance 23.769728648009426\n",
      "skipping, min distance 34.539832078341085\n",
      "skipping, min distance 36.124783736376884\n",
      "skipping, min distance 46.61544808322666\n",
      "skipping, min distance 30.0\n",
      "skipping, min distance 56.568542494923804\n",
      "skipping, min distance 60.530983801686226\n",
      "skipping, min distance 20.615528128088304\n",
      "skipping, min distance 56.142675390472796\n",
      "skipping, min distance 20.615528128088304\n",
      "skipping, min distance 30.4138126514911\n",
      "skipping, min distance 25.495097567963924\n",
      "skipping, min distance 38.3275357934736\n",
      "skipping, min distance 45.17742799230607\n",
      "skipping, min distance 72.83543093852057\n",
      "skipping, min distance 46.52956049652737\n",
      "skipping, min distance 29.5296461204668\n",
      "skipping, min distance 35.90264614203248\n",
      "skipping, min distance 26.248809496813376\n",
      "skipping, min distance 43.174066289845804\n",
      "skipping, min distance 44.04543109109048\n",
      "skipping, min distance 35.38361202590826\n",
      "skipping, min distance 31.400636936215164\n",
      "skipping, min distance 34.9857113690718\n",
      "skipping, min distance 39.20459156782532\n",
      "skipping, min distance 48.76474136094644\n",
      "skipping, min distance 40.049968789001575\n",
      "skipping, min distance 33.24154027718932\n",
      "skipping, min distance 32.55764119219941\n",
      "skipping, min distance 28.460498941515414\n",
      "skipping, min distance 20.0\n",
      "skipping, min distance 31.144823004794873\n",
      "skipping, min distance 42.01190307520001\n",
      "skipping, min distance 53.31041174104736\n",
      "skipping, min distance 32.14031735997639\n",
      "skipping, min distance 32.55764119219941\n",
      "skipping, min distance 55.036351623268054\n",
      "skipping, min distance 60.92618484691127\n",
      "skipping, min distance 43.32435804486894\n",
      "skipping, min distance 63.56099432828282\n",
      "skipping, min distance 22.561028345356956\n",
      "skipping, min distance 47.853944456021594\n",
      "skipping, min distance 30.0\n",
      "skipping, min distance 35.4682957019364\n",
      "skipping, min distance 42.42640687119285\n",
      "skipping, min distance 47.75981574503821\n",
      "skipping, min distance 34.17601498127012\n",
      "skipping, min distance 29.120439557122072\n",
      "skipping, min distance 24.698178070456937\n",
      "skipping, min distance 32.01562118716424\n",
      "skipping, min distance 22.47220505424423\n",
      "1000\n",
      "skipping, min distance 47.095647357266465\n",
      "skipping, min distance 35.510561809129406\n",
      "skipping, min distance 25.942243542145693\n",
      "skipping, min distance 21.93171219946131\n",
      "skipping, min distance 35.17101079013795\n",
      "skipping, min distance 62.20128616033595\n",
      "skipping, min distance 69.1158447825099\n",
      "skipping, min distance 20.248456731316587\n",
      "skipping, min distance 26.248809496813376\n",
      "skipping, min distance 32.57299494980466\n",
      "skipping, min distance 23.021728866442675\n",
      "skipping, min distance 25.553864678361276\n",
      "skipping, min distance 24.515301344262525\n",
      "skipping, min distance 20.024984394500787\n",
      "skipping, min distance 23.769728648009426\n",
      "skipping, min distance 25.019992006393608\n",
      "skipping, min distance 33.61547262794322\n",
      "skipping, min distance 40.496913462633174\n",
      "skipping, min distance 20.808652046684813\n",
      "skipping, min distance 27.51363298439521\n"
     ]
    },
    {
     "name": "stdout",
     "output_type": "stream",
     "text": [
      "skipping, min distance 58.69412236331676\n",
      "skipping, min distance 30.4138126514911\n",
      "skipping, min distance 48.703182647543684\n",
      "skipping, min distance 33.95585369269929\n",
      "skipping, min distance 25.238858928247925\n",
      "skipping, min distance 60.8276253029822\n",
      "skipping, min distance 20.8806130178211\n",
      "skipping, min distance 38.3275357934736\n",
      "skipping, min distance 28.284271247461902\n",
      "skipping, min distance 29.206163733020468\n",
      "skipping, min distance 35.77708763999664\n",
      "skipping, min distance 36.40054944640259\n",
      "skipping, min distance 60.166435825965294\n",
      "skipping, min distance 39.01281840626232\n",
      "skipping, min distance 32.55764119219941\n",
      "skipping, min distance 26.019223662515376\n",
      "skipping, min distance 41.182520563948\n",
      "skipping, min distance 59.033888572581766\n",
      "skipping, min distance 22.825424421026653\n",
      "skipping, min distance 31.144823004794873\n",
      "skipping, min distance 27.202941017470888\n",
      "skipping, min distance 33.97057550292606\n",
      "skipping, min distance 72.12489168102785\n",
      "skipping, min distance 41.6293165929973\n",
      "skipping, min distance 21.400934559032695\n",
      "skipping, min distance 20.8806130178211\n",
      "skipping, min distance 21.540659228538015\n",
      "skipping, min distance 47.70744176750625\n",
      "skipping, min distance 40.0\n",
      "skipping, min distance 90.68627239003708\n",
      "skipping, min distance 26.68332812825267\n",
      "skipping, min distance 27.459060435491963\n",
      "skipping, min distance 22.360679774997898\n",
      "skipping, min distance 25.709920264364882\n",
      "skipping, min distance 21.95449840010015\n",
      "skipping, min distance 22.847319317591726\n",
      "skipping, min distance 25.632011235952593\n",
      "skipping, min distance 21.18962010041709\n",
      "skipping, min distance 66.007575322837\n",
      "skipping, min distance 32.69556544854363\n",
      "skipping, min distance 24.515301344262525\n",
      "skipping, min distance 29.732137494637012\n",
      "skipping, min distance 25.553864678361276\n",
      "skipping, min distance 36.6742416417845\n",
      "skipping, min distance 25.0\n",
      "skipping, min distance 28.160255680657446\n",
      "skipping, min distance 20.8806130178211\n",
      "skipping, min distance 28.071337695236398\n",
      "skipping, min distance 40.80441152620633\n",
      "skipping, min distance 73.7563556583431\n",
      "skipping, min distance 76.8505042273634\n",
      "skipping, min distance 22.090722034374522\n",
      "skipping, min distance 54.62600113499065\n",
      "skipping, min distance 25.942243542145693\n",
      "skipping, min distance 58.855755878248644\n",
      "skipping, min distance 23.08679276123039\n",
      "skipping, min distance 41.593268686170845\n",
      "skipping, min distance 47.16990566028302\n",
      "skipping, min distance 26.92582403567252\n",
      "skipping, min distance 47.75981574503821\n",
      "skipping, min distance 29.154759474226502\n",
      "skipping, min distance 87.70974860299168\n",
      "skipping, min distance 23.08679276123039\n",
      "skipping, min distance 25.079872407968907\n",
      "skipping, min distance 31.575306807693888\n",
      "skipping, min distance 33.015148038438355\n",
      "skipping, min distance 29.154759474226502\n",
      "skipping, min distance 47.53945729601885\n",
      "skipping, min distance 39.319206502675\n",
      "skipping, min distance 23.194827009486403\n",
      "skipping, min distance 32.202484376209235\n",
      "skipping, min distance 25.942243542145693\n",
      "skipping, min distance 43.104524124504614\n",
      "skipping, min distance 20.8806130178211\n",
      "skipping, min distance 22.80350850198276\n"
     ]
    }
   ],
   "source": [
    "generator = CellDetectorTrainerDK55('DK55',round=2,segmentation_threshold=2000)\n",
    "train_features = generator.load_refined_original_feature()\n"
   ]
  },
  {
   "cell_type": "code",
   "execution_count": 31,
   "metadata": {},
   "outputs": [
    {
     "data": {
      "text/plain": [
       "118190"
      ]
     },
     "execution_count": 31,
     "metadata": {},
     "output_type": "execute_result"
    }
   ],
   "source": [
    "len(train_features)"
   ]
  },
  {
   "cell_type": "code",
   "execution_count": 32,
   "metadata": {},
   "outputs": [
    {
     "name": "stdout",
     "output_type": "stream",
     "text": [
      "{'eta': 0.3, 'objective': 'binary:logistic', 'nthread': 7}\n",
      "(59095, 41) (59095, 41) (59095,) (118190, 41)\n",
      "(59095, 41) (59095, 41) (59095,) (118190, 41)\n",
      "(59095, 41) (59095, 41) (59095,) (118190, 41)\n",
      "(59095, 41) (59095, 41) (59095,) (118190, 41)\n",
      "(59095, 41) (59095, 41) (59095,) (118190, 41)\n",
      "(59095, 41) (59095, 41) (59095,) (118190, 41)\n",
      "(59095, 41) (59095, 41) (59095,) (118190, 41)\n",
      "(59095, 41) (59095, 41) (59095,) (118190, 41)\n",
      "(59095, 41) (59095, 41) (59095,) (118190, 41)\n",
      "(59095, 41) (59095, 41) (59095,) (118190, 41)\n",
      "(59095, 41) (59095, 41) (59095,) (118190, 41)\n",
      "(59095, 41) (59095, 41) (59095,) (118190, 41)\n",
      "(59095, 41) (59095, 41) (59095,) (118190, 41)\n",
      "(59095, 41) (59095, 41) (59095,) (118190, 41)\n",
      "(59095, 41) (59095, 41) (59095,) (118190, 41)\n",
      "(59095, 41) (59095, 41) (59095,) (118190, 41)\n",
      "(59095, 41) (59095, 41) (59095,) (118190, 41)\n",
      "(59095, 41) (59095, 41) (59095,) (118190, 41)\n",
      "(59095, 41) (59095, 41) (59095,) (118190, 41)\n",
      "(59095, 41) (59095, 41) (59095,) (118190, 41)\n",
      "(59095, 41) (59095, 41) (59095,) (118190, 41)\n",
      "(59095, 41) (59095, 41) (59095,) (118190, 41)\n",
      "(59095, 41) (59095, 41) (59095,) (118190, 41)\n",
      "(59095, 41) (59095, 41) (59095,) (118190, 41)\n",
      "(59095, 41) (59095, 41) (59095,) (118190, 41)\n",
      "(59095, 41) (59095, 41) (59095,) (118190, 41)\n",
      "(59095, 41) (59095, 41) (59095,) (118190, 41)\n",
      "(59095, 41) (59095, 41) (59095,) (118190, 41)\n",
      "(59095, 41) (59095, 41) (59095,) (118190, 41)\n",
      "(59095, 41) (59095, 41) (59095,) (118190, 41)\n",
      "(59095, 41) (59095, 41) (59095,) (118190, 41)\n",
      "saving models to self.MODEL_PATH\n"
     ]
    },
    {
     "data": {
      "image/png": "[encoded data removed]",
      "text/plain": [
       "<Figure size 640x480 with 1 Axes>"
      ]
     },
     "metadata": {},
     "output_type": "display_data"
    }
   ],
   "source": [
    "trainer = CellDetectorTrainer('DK55',round=1)\n",
    "new_models = trainer.train_classifier(train_features,676,3) # training iteration = 676, depth of XGBoost trees = 3\n",
    "trainer.save_models(new_models)"
   ]
  },
  {
   "cell_type": "code",
   "execution_count": 22,
   "metadata": {},
   "outputs": [
    {
     "name": "stdout",
     "output_type": "stream",
     "text": [
      "   label  area  height  width  corr_CH1  energy_CH1  corr_CH3  energy_CH3  \\\n",
      "0      0     1       1      1  1.116427    0.353992  1.147558    0.406702   \n",
      "1      0     1       1      1  0.552902    0.220413  0.700394    0.431941   \n",
      "2      0     1       1      1  1.072344    0.360587  1.273016    0.688880   \n",
      "3      0     4       3      2  0.396770   -0.038786  0.707442    0.193546   \n",
      "4      0     1       1      1  0.391477   -0.052685  0.678284    0.166706   \n",
      "\n",
      "   m00_mask  m10_mask  ...  nu03_mask   h0_mask   h1_mask  h2_mask   h3_mask  \\\n",
      "0       1.0      40.0  ...   0.000000  0.000000  0.000000  0.00000  0.000000   \n",
      "1       1.0      40.0  ...   0.000000  0.000000  0.000000  0.00000  0.000000   \n",
      "2       1.0      40.0  ...   0.000000  0.000000  0.000000  0.00000  0.000000   \n",
      "3       4.0     162.0  ...  -0.035156  0.234375  0.015869  0.00618  0.001785   \n",
      "4       1.0      40.0  ...   0.000000  0.000000  0.000000  0.00000  0.000000   \n",
      "\n",
      "    h4_mask   h5_mask   h6_mask  contrast1  contrast3  \n",
      "0  0.000000  0.000000  0.000000   0.455775   0.585351  \n",
      "1  0.000000  0.000000  0.000000   0.366872   0.640060  \n",
      "2  0.000000  0.000000  0.000000   0.384467   0.784497  \n",
      "3  0.000005  0.000178 -0.000004   0.328553   0.444652  \n",
      "4  0.000000  0.000000  0.000000   0.264487   0.426466  \n",
      "\n",
      "[5 rows x 41 columns]\n",
      "Exception with scores:\n",
      "Exception with scores:\n",
      "Exception with scores:\n",
      "Exception with scores:\n",
      "Exception with scores:\n",
      "Exception with scores:\n",
      "Exception with scores:\n",
      "Exception with scores:\n",
      "Exception with scores:\n",
      "Exception with scores:\n",
      "Exception with scores:\n",
      "Exception with scores:\n",
      "Exception with scores:\n",
      "Exception with scores:\n",
      "Exception with scores:\n",
      "Exception with scores:\n",
      "Exception with scores:\n",
      "Exception with scores:\n",
      "Exception with scores:\n",
      "Exception with scores:\n",
      "Exception with scores:\n",
      "Exception with scores:\n",
      "Exception with scores:\n",
      "Exception with scores:\n",
      "Exception with scores:\n",
      "Exception with scores:\n",
      "Exception with scores:\n",
      "Exception with scores:\n",
      "Exception with scores:\n",
      "Exception with scores:\n",
      "scores=array([[0., 0., 0., ..., 0., 0., 0.],\n",
      "       [0., 0., 0., ..., 0., 0., 0.],\n",
      "       [0., 0., 0., ..., 0., 0., 0.],\n",
      "       ...,\n",
      "       [0., 0., 0., ..., 0., 0., 0.],\n",
      "       [0., 0., 0., ..., 0., 0., 0.],\n",
      "       [0., 0., 0., ..., 0., 0., 0.]]) labels=array([0., 0., 0., ..., 0., 0., 0.], dtype=float32) _mean=array([0., 0., 0., ..., 0., 0., 0.]) _std=array([0., 0., 0., ..., 0., 0., 0.])\n"
     ]
    }
   ],
   "source": [
    "detector = CellDetector('DK41',round=1)\n",
    "# detector.detector.model = pkl.load(open('/scratch/k1qian/Cell_Detectors/detectors_new.pkl', 'rb'))\n",
    "detector.calculate_and_save_detection_results()\n"
   ]
  },
  {
   "cell_type": "code",
   "execution_count": 28,
   "metadata": {},
   "outputs": [
    {
     "ename": "FileNotFoundError",
     "evalue": "[Errno 2] No such file or directory: '/net/birdstore/Active_Atlas_Data//cell_segmentation/DK55/detections/detections_DK55.1_threshold_2000.csv'",
     "output_type": "error",
     "traceback": [
      "\u001b[0;31m---------------------------------------------------------------------------\u001b[0m",
      "\u001b[0;31mFileNotFoundError\u001b[0m                         Traceback (most recent call last)",
      "Input \u001b[0;32mIn [28]\u001b[0m, in \u001b[0;36m<cell line: 1>\u001b[0;34m()\u001b[0m\n\u001b[0;32m----> 1\u001b[0m detections \u001b[38;5;241m=\u001b[39m \u001b[43mdetector\u001b[49m\u001b[38;5;241;43m.\u001b[39;49m\u001b[43mload_detections\u001b[49m\u001b[43m(\u001b[49m\u001b[43m)\u001b[49m\n\u001b[1;32m      2\u001b[0m sures \u001b[38;5;241m=\u001b[39m detections[detections\u001b[38;5;241m.\u001b[39mpredictions\u001b[38;5;241m>\u001b[39m\u001b[38;5;241m0\u001b[39m]\n\u001b[1;32m      3\u001b[0m unsures \u001b[38;5;241m=\u001b[39m detections[detections\u001b[38;5;241m.\u001b[39mpredictions\u001b[38;5;241m==\u001b[39m\u001b[38;5;241m0\u001b[39m]\n",
      "File \u001b[0;32m~/programming/pipeline/src/library/cell_extractor/cell_detector_base.py:358\u001b[0m, in \u001b[0;36mCellDetectorBase.load_detections\u001b[0;34m(self)\u001b[0m\n\u001b[1;32m    357\u001b[0m \u001b[38;5;28;01mdef\u001b[39;00m \u001b[38;5;21mload_detections\u001b[39m(\u001b[38;5;28mself\u001b[39m):\n\u001b[0;32m--> 358\u001b[0m     \u001b[38;5;28;01mreturn\u001b[39;00m \u001b[43mpd\u001b[49m\u001b[38;5;241;43m.\u001b[39;49m\u001b[43mread_csv\u001b[49m\u001b[43m(\u001b[49m\u001b[38;5;28;43mself\u001b[39;49m\u001b[38;5;241;43m.\u001b[39;49m\u001b[43mDETECTION_RESULT_DIR\u001b[49m\u001b[43m)\u001b[49m\n",
      "File \u001b[0;32m/usr/local/share/pipeline/lib/python3.10/site-packages/pandas/io/parsers/readers.py:1026\u001b[0m, in \u001b[0;36mread_csv\u001b[0;34m(filepath_or_buffer, sep, delimiter, header, names, index_col, usecols, dtype, engine, converters, true_values, false_values, skipinitialspace, skiprows, skipfooter, nrows, na_values, keep_default_na, na_filter, verbose, skip_blank_lines, parse_dates, infer_datetime_format, keep_date_col, date_parser, date_format, dayfirst, cache_dates, iterator, chunksize, compression, thousands, decimal, lineterminator, quotechar, quoting, doublequote, escapechar, comment, encoding, encoding_errors, dialect, on_bad_lines, delim_whitespace, low_memory, memory_map, float_precision, storage_options, dtype_backend)\u001b[0m\n\u001b[1;32m   1013\u001b[0m kwds_defaults \u001b[38;5;241m=\u001b[39m _refine_defaults_read(\n\u001b[1;32m   1014\u001b[0m     dialect,\n\u001b[1;32m   1015\u001b[0m     delimiter,\n\u001b[0;32m   (...)\u001b[0m\n\u001b[1;32m   1022\u001b[0m     dtype_backend\u001b[38;5;241m=\u001b[39mdtype_backend,\n\u001b[1;32m   1023\u001b[0m )\n\u001b[1;32m   1024\u001b[0m kwds\u001b[38;5;241m.\u001b[39mupdate(kwds_defaults)\n\u001b[0;32m-> 1026\u001b[0m \u001b[38;5;28;01mreturn\u001b[39;00m \u001b[43m_read\u001b[49m\u001b[43m(\u001b[49m\u001b[43mfilepath_or_buffer\u001b[49m\u001b[43m,\u001b[49m\u001b[43m \u001b[49m\u001b[43mkwds\u001b[49m\u001b[43m)\u001b[49m\n",
      "File \u001b[0;32m/usr/local/share/pipeline/lib/python3.10/site-packages/pandas/io/parsers/readers.py:620\u001b[0m, in \u001b[0;36m_read\u001b[0;34m(filepath_or_buffer, kwds)\u001b[0m\n\u001b[1;32m    617\u001b[0m _validate_names(kwds\u001b[38;5;241m.\u001b[39mget(\u001b[38;5;124m\"\u001b[39m\u001b[38;5;124mnames\u001b[39m\u001b[38;5;124m\"\u001b[39m, \u001b[38;5;28;01mNone\u001b[39;00m))\n\u001b[1;32m    619\u001b[0m \u001b[38;5;66;03m# Create the parser.\u001b[39;00m\n\u001b[0;32m--> 620\u001b[0m parser \u001b[38;5;241m=\u001b[39m \u001b[43mTextFileReader\u001b[49m\u001b[43m(\u001b[49m\u001b[43mfilepath_or_buffer\u001b[49m\u001b[43m,\u001b[49m\u001b[43m \u001b[49m\u001b[38;5;241;43m*\u001b[39;49m\u001b[38;5;241;43m*\u001b[39;49m\u001b[43mkwds\u001b[49m\u001b[43m)\u001b[49m\n\u001b[1;32m    622\u001b[0m \u001b[38;5;28;01mif\u001b[39;00m chunksize \u001b[38;5;129;01mor\u001b[39;00m iterator:\n\u001b[1;32m    623\u001b[0m     \u001b[38;5;28;01mreturn\u001b[39;00m parser\n",
      "File \u001b[0;32m/usr/local/share/pipeline/lib/python3.10/site-packages/pandas/io/parsers/readers.py:1620\u001b[0m, in \u001b[0;36mTextFileReader.__init__\u001b[0;34m(self, f, engine, **kwds)\u001b[0m\n\u001b[1;32m   1617\u001b[0m     \u001b[38;5;28mself\u001b[39m\u001b[38;5;241m.\u001b[39moptions[\u001b[38;5;124m\"\u001b[39m\u001b[38;5;124mhas_index_names\u001b[39m\u001b[38;5;124m\"\u001b[39m] \u001b[38;5;241m=\u001b[39m kwds[\u001b[38;5;124m\"\u001b[39m\u001b[38;5;124mhas_index_names\u001b[39m\u001b[38;5;124m\"\u001b[39m]\n\u001b[1;32m   1619\u001b[0m \u001b[38;5;28mself\u001b[39m\u001b[38;5;241m.\u001b[39mhandles: IOHandles \u001b[38;5;241m|\u001b[39m \u001b[38;5;28;01mNone\u001b[39;00m \u001b[38;5;241m=\u001b[39m \u001b[38;5;28;01mNone\u001b[39;00m\n\u001b[0;32m-> 1620\u001b[0m \u001b[38;5;28mself\u001b[39m\u001b[38;5;241m.\u001b[39m_engine \u001b[38;5;241m=\u001b[39m \u001b[38;5;28;43mself\u001b[39;49m\u001b[38;5;241;43m.\u001b[39;49m\u001b[43m_make_engine\u001b[49m\u001b[43m(\u001b[49m\u001b[43mf\u001b[49m\u001b[43m,\u001b[49m\u001b[43m \u001b[49m\u001b[38;5;28;43mself\u001b[39;49m\u001b[38;5;241;43m.\u001b[39;49m\u001b[43mengine\u001b[49m\u001b[43m)\u001b[49m\n",
      "File \u001b[0;32m/usr/local/share/pipeline/lib/python3.10/site-packages/pandas/io/parsers/readers.py:1880\u001b[0m, in \u001b[0;36mTextFileReader._make_engine\u001b[0;34m(self, f, engine)\u001b[0m\n\u001b[1;32m   1878\u001b[0m     \u001b[38;5;28;01mif\u001b[39;00m \u001b[38;5;124m\"\u001b[39m\u001b[38;5;124mb\u001b[39m\u001b[38;5;124m\"\u001b[39m \u001b[38;5;129;01mnot\u001b[39;00m \u001b[38;5;129;01min\u001b[39;00m mode:\n\u001b[1;32m   1879\u001b[0m         mode \u001b[38;5;241m+\u001b[39m\u001b[38;5;241m=\u001b[39m \u001b[38;5;124m\"\u001b[39m\u001b[38;5;124mb\u001b[39m\u001b[38;5;124m\"\u001b[39m\n\u001b[0;32m-> 1880\u001b[0m \u001b[38;5;28mself\u001b[39m\u001b[38;5;241m.\u001b[39mhandles \u001b[38;5;241m=\u001b[39m \u001b[43mget_handle\u001b[49m\u001b[43m(\u001b[49m\n\u001b[1;32m   1881\u001b[0m \u001b[43m    \u001b[49m\u001b[43mf\u001b[49m\u001b[43m,\u001b[49m\n\u001b[1;32m   1882\u001b[0m \u001b[43m    \u001b[49m\u001b[43mmode\u001b[49m\u001b[43m,\u001b[49m\n\u001b[1;32m   1883\u001b[0m \u001b[43m    \u001b[49m\u001b[43mencoding\u001b[49m\u001b[38;5;241;43m=\u001b[39;49m\u001b[38;5;28;43mself\u001b[39;49m\u001b[38;5;241;43m.\u001b[39;49m\u001b[43moptions\u001b[49m\u001b[38;5;241;43m.\u001b[39;49m\u001b[43mget\u001b[49m\u001b[43m(\u001b[49m\u001b[38;5;124;43m\"\u001b[39;49m\u001b[38;5;124;43mencoding\u001b[39;49m\u001b[38;5;124;43m\"\u001b[39;49m\u001b[43m,\u001b[49m\u001b[43m \u001b[49m\u001b[38;5;28;43;01mNone\u001b[39;49;00m\u001b[43m)\u001b[49m\u001b[43m,\u001b[49m\n\u001b[1;32m   1884\u001b[0m \u001b[43m    \u001b[49m\u001b[43mcompression\u001b[49m\u001b[38;5;241;43m=\u001b[39;49m\u001b[38;5;28;43mself\u001b[39;49m\u001b[38;5;241;43m.\u001b[39;49m\u001b[43moptions\u001b[49m\u001b[38;5;241;43m.\u001b[39;49m\u001b[43mget\u001b[49m\u001b[43m(\u001b[49m\u001b[38;5;124;43m\"\u001b[39;49m\u001b[38;5;124;43mcompression\u001b[39;49m\u001b[38;5;124;43m\"\u001b[39;49m\u001b[43m,\u001b[49m\u001b[43m \u001b[49m\u001b[38;5;28;43;01mNone\u001b[39;49;00m\u001b[43m)\u001b[49m\u001b[43m,\u001b[49m\n\u001b[1;32m   1885\u001b[0m \u001b[43m    \u001b[49m\u001b[43mmemory_map\u001b[49m\u001b[38;5;241;43m=\u001b[39;49m\u001b[38;5;28;43mself\u001b[39;49m\u001b[38;5;241;43m.\u001b[39;49m\u001b[43moptions\u001b[49m\u001b[38;5;241;43m.\u001b[39;49m\u001b[43mget\u001b[49m\u001b[43m(\u001b[49m\u001b[38;5;124;43m\"\u001b[39;49m\u001b[38;5;124;43mmemory_map\u001b[39;49m\u001b[38;5;124;43m\"\u001b[39;49m\u001b[43m,\u001b[49m\u001b[43m \u001b[49m\u001b[38;5;28;43;01mFalse\u001b[39;49;00m\u001b[43m)\u001b[49m\u001b[43m,\u001b[49m\n\u001b[1;32m   1886\u001b[0m \u001b[43m    \u001b[49m\u001b[43mis_text\u001b[49m\u001b[38;5;241;43m=\u001b[39;49m\u001b[43mis_text\u001b[49m\u001b[43m,\u001b[49m\n\u001b[1;32m   1887\u001b[0m \u001b[43m    \u001b[49m\u001b[43merrors\u001b[49m\u001b[38;5;241;43m=\u001b[39;49m\u001b[38;5;28;43mself\u001b[39;49m\u001b[38;5;241;43m.\u001b[39;49m\u001b[43moptions\u001b[49m\u001b[38;5;241;43m.\u001b[39;49m\u001b[43mget\u001b[49m\u001b[43m(\u001b[49m\u001b[38;5;124;43m\"\u001b[39;49m\u001b[38;5;124;43mencoding_errors\u001b[39;49m\u001b[38;5;124;43m\"\u001b[39;49m\u001b[43m,\u001b[49m\u001b[43m \u001b[49m\u001b[38;5;124;43m\"\u001b[39;49m\u001b[38;5;124;43mstrict\u001b[39;49m\u001b[38;5;124;43m\"\u001b[39;49m\u001b[43m)\u001b[49m\u001b[43m,\u001b[49m\n\u001b[1;32m   1888\u001b[0m \u001b[43m    \u001b[49m\u001b[43mstorage_options\u001b[49m\u001b[38;5;241;43m=\u001b[39;49m\u001b[38;5;28;43mself\u001b[39;49m\u001b[38;5;241;43m.\u001b[39;49m\u001b[43moptions\u001b[49m\u001b[38;5;241;43m.\u001b[39;49m\u001b[43mget\u001b[49m\u001b[43m(\u001b[49m\u001b[38;5;124;43m\"\u001b[39;49m\u001b[38;5;124;43mstorage_options\u001b[39;49m\u001b[38;5;124;43m\"\u001b[39;49m\u001b[43m,\u001b[49m\u001b[43m \u001b[49m\u001b[38;5;28;43;01mNone\u001b[39;49;00m\u001b[43m)\u001b[49m\u001b[43m,\u001b[49m\n\u001b[1;32m   1889\u001b[0m \u001b[43m\u001b[49m\u001b[43m)\u001b[49m\n\u001b[1;32m   1890\u001b[0m \u001b[38;5;28;01massert\u001b[39;00m \u001b[38;5;28mself\u001b[39m\u001b[38;5;241m.\u001b[39mhandles \u001b[38;5;129;01mis\u001b[39;00m \u001b[38;5;129;01mnot\u001b[39;00m \u001b[38;5;28;01mNone\u001b[39;00m\n\u001b[1;32m   1891\u001b[0m f \u001b[38;5;241m=\u001b[39m \u001b[38;5;28mself\u001b[39m\u001b[38;5;241m.\u001b[39mhandles\u001b[38;5;241m.\u001b[39mhandle\n",
      "File \u001b[0;32m/usr/local/share/pipeline/lib/python3.10/site-packages/pandas/io/common.py:873\u001b[0m, in \u001b[0;36mget_handle\u001b[0;34m(path_or_buf, mode, encoding, compression, memory_map, is_text, errors, storage_options)\u001b[0m\n\u001b[1;32m    868\u001b[0m \u001b[38;5;28;01melif\u001b[39;00m \u001b[38;5;28misinstance\u001b[39m(handle, \u001b[38;5;28mstr\u001b[39m):\n\u001b[1;32m    869\u001b[0m     \u001b[38;5;66;03m# Check whether the filename is to be opened in binary mode.\u001b[39;00m\n\u001b[1;32m    870\u001b[0m     \u001b[38;5;66;03m# Binary mode does not support 'encoding' and 'newline'.\u001b[39;00m\n\u001b[1;32m    871\u001b[0m     \u001b[38;5;28;01mif\u001b[39;00m ioargs\u001b[38;5;241m.\u001b[39mencoding \u001b[38;5;129;01mand\u001b[39;00m \u001b[38;5;124m\"\u001b[39m\u001b[38;5;124mb\u001b[39m\u001b[38;5;124m\"\u001b[39m \u001b[38;5;129;01mnot\u001b[39;00m \u001b[38;5;129;01min\u001b[39;00m ioargs\u001b[38;5;241m.\u001b[39mmode:\n\u001b[1;32m    872\u001b[0m         \u001b[38;5;66;03m# Encoding\u001b[39;00m\n\u001b[0;32m--> 873\u001b[0m         handle \u001b[38;5;241m=\u001b[39m \u001b[38;5;28;43mopen\u001b[39;49m\u001b[43m(\u001b[49m\n\u001b[1;32m    874\u001b[0m \u001b[43m            \u001b[49m\u001b[43mhandle\u001b[49m\u001b[43m,\u001b[49m\n\u001b[1;32m    875\u001b[0m \u001b[43m            \u001b[49m\u001b[43mioargs\u001b[49m\u001b[38;5;241;43m.\u001b[39;49m\u001b[43mmode\u001b[49m\u001b[43m,\u001b[49m\n\u001b[1;32m    876\u001b[0m \u001b[43m            \u001b[49m\u001b[43mencoding\u001b[49m\u001b[38;5;241;43m=\u001b[39;49m\u001b[43mioargs\u001b[49m\u001b[38;5;241;43m.\u001b[39;49m\u001b[43mencoding\u001b[49m\u001b[43m,\u001b[49m\n\u001b[1;32m    877\u001b[0m \u001b[43m            \u001b[49m\u001b[43merrors\u001b[49m\u001b[38;5;241;43m=\u001b[39;49m\u001b[43merrors\u001b[49m\u001b[43m,\u001b[49m\n\u001b[1;32m    878\u001b[0m \u001b[43m            \u001b[49m\u001b[43mnewline\u001b[49m\u001b[38;5;241;43m=\u001b[39;49m\u001b[38;5;124;43m\"\u001b[39;49m\u001b[38;5;124;43m\"\u001b[39;49m\u001b[43m,\u001b[49m\n\u001b[1;32m    879\u001b[0m \u001b[43m        \u001b[49m\u001b[43m)\u001b[49m\n\u001b[1;32m    880\u001b[0m     \u001b[38;5;28;01melse\u001b[39;00m:\n\u001b[1;32m    881\u001b[0m         \u001b[38;5;66;03m# Binary mode\u001b[39;00m\n\u001b[1;32m    882\u001b[0m         handle \u001b[38;5;241m=\u001b[39m \u001b[38;5;28mopen\u001b[39m(handle, ioargs\u001b[38;5;241m.\u001b[39mmode)\n",
      "\u001b[0;31mFileNotFoundError\u001b[0m: [Errno 2] No such file or directory: '/net/birdstore/Active_Atlas_Data//cell_segmentation/DK55/detections/detections_DK55.1_threshold_2000.csv'"
     ]
    }
   ],
   "source": [
    "detections = detector.load_detections()\n",
    "sures = detections[detections.predictions>0]\n",
    "unsures = detections[detections.predictions==0]\n",
    "len(sures),len(unsures)"
   ]
  },
  {
   "cell_type": "code",
   "execution_count": 25,
   "metadata": {},
   "outputs": [
    {
     "ename": "TypeError",
     "evalue": "CellDetectorTrainer.__init__() got an unexpected keyword argument 'disk'",
     "output_type": "error",
     "traceback": [
      "\u001b[0;31m---------------------------------------------------------------------------\u001b[0m",
      "\u001b[0;31mTypeError\u001b[0m                                 Traceback (most recent call last)",
      "Input \u001b[0;32mIn [25]\u001b[0m, in \u001b[0;36m<cell line: 1>\u001b[0;34m()\u001b[0m\n\u001b[0;32m----> 1\u001b[0m generator \u001b[38;5;241m=\u001b[39m \u001b[43mCellDetectorTrainer\u001b[49m\u001b[43m(\u001b[49m\u001b[38;5;124;43m'\u001b[39;49m\u001b[38;5;124;43mDK55\u001b[39;49m\u001b[38;5;124;43m'\u001b[39;49m\u001b[43m,\u001b[49m\u001b[38;5;28;43mround\u001b[39;49m\u001b[38;5;241;43m=\u001b[39;49m\u001b[38;5;241;43m2\u001b[39;49m\u001b[43m,\u001b[49m\u001b[43mdisk\u001b[49m\u001b[43m \u001b[49m\u001b[38;5;241;43m=\u001b[39;49m\u001b[43m \u001b[49m\u001b[38;5;124;43m'\u001b[39;49m\u001b[38;5;124;43m/net/birdstore/Active_Atlas_Data/\u001b[39;49m\u001b[38;5;124;43m'\u001b[39;49m\u001b[43m)\u001b[49m\n\u001b[1;32m      2\u001b[0m train_features \u001b[38;5;241m=\u001b[39m generator\u001b[38;5;241m.\u001b[39mload_refined_original_feature()\n",
      "\u001b[0;31mTypeError\u001b[0m: CellDetectorTrainer.__init__() got an unexpected keyword argument 'disk'"
     ]
    }
   ],
   "source": [
    "generator = CellDetectorTrainer('DK55',round=2,disk = '/net/birdstore/Active_Atlas_Data/')\n",
    "train_features = generator.load_refined_original_feature()"
   ]
  },
  {
   "cell_type": "code",
   "execution_count": 27,
   "metadata": {},
   "outputs": [
    {
     "ename": "ModuleNotFoundError",
     "evalue": "No module named 'cell_extractor'",
     "output_type": "error",
     "traceback": [
      "\u001b[0;31m---------------------------------------------------------------------------\u001b[0m",
      "\u001b[0;31mModuleNotFoundError\u001b[0m                       Traceback (most recent call last)",
      "Input \u001b[0;32mIn [27]\u001b[0m, in \u001b[0;36m<cell line: 2>\u001b[0;34m()\u001b[0m\n\u001b[1;32m      1\u001b[0m detector \u001b[38;5;241m=\u001b[39m CellDetector(\u001b[38;5;124m'\u001b[39m\u001b[38;5;124mDK55\u001b[39m\u001b[38;5;124m'\u001b[39m,\u001b[38;5;28mround\u001b[39m\u001b[38;5;241m=\u001b[39m\u001b[38;5;241m1\u001b[39m,disk \u001b[38;5;241m=\u001b[39m \u001b[38;5;124m'\u001b[39m\u001b[38;5;124m/net/birdstore/Active_Atlas_Data/\u001b[39m\u001b[38;5;124m'\u001b[39m)\n\u001b[0;32m----> 2\u001b[0m detector\u001b[38;5;241m.\u001b[39mdetector \u001b[38;5;241m=\u001b[39m \u001b[43mpkl\u001b[49m\u001b[38;5;241;43m.\u001b[39;49m\u001b[43mload\u001b[49m\u001b[43m(\u001b[49m\u001b[38;5;28;43mopen\u001b[39;49m\u001b[43m(\u001b[49m\u001b[38;5;124;43m'\u001b[39;49m\u001b[38;5;124;43m/net/birdstore/Active_Atlas_Data/cell_segmentation/detectors/detector_round_1.pkl\u001b[39;49m\u001b[38;5;124;43m'\u001b[39;49m\u001b[43m,\u001b[49m\u001b[43m \u001b[49m\u001b[38;5;124;43m'\u001b[39;49m\u001b[38;5;124;43mrb\u001b[39;49m\u001b[38;5;124;43m'\u001b[39;49m\u001b[43m)\u001b[49m\u001b[43m)\u001b[49m\n\u001b[1;32m      3\u001b[0m scores,labels,_mean,_std \u001b[38;5;241m=\u001b[39m detector\u001b[38;5;241m.\u001b[39mdetector\u001b[38;5;241m.\u001b[39mcalculate_scores(train_features)\n\u001b[1;32m      4\u001b[0m train_features[\u001b[38;5;124m'\u001b[39m\u001b[38;5;124mmean_score\u001b[39m\u001b[38;5;124m'\u001b[39m],train_features[\u001b[38;5;124m'\u001b[39m\u001b[38;5;124mstd_score\u001b[39m\u001b[38;5;124m'\u001b[39m] \u001b[38;5;241m=\u001b[39m _mean,_std\n",
      "\u001b[0;31mModuleNotFoundError\u001b[0m: No module named 'cell_extractor'"
     ]
    }
   ],
   "source": [
    "detector = CellDetector('DK55',round=1,disk = '/net/birdstore/Active_Atlas_Data/')\n",
    "detector.detector = pkl.load(open('/net/birdstore/Active_Atlas_Data/cell_segmentation/detectors/detector_round_1.pkl', 'rb'))\n",
    "scores,labels,_mean,_std = detector.detector.calculate_scores(train_features)\n",
    "train_features['mean_score'],train_features['std_score'] = _mean,_std"
   ]
  },
  {
   "cell_type": "markdown",
   "metadata": {},
   "source": [
    "## Prepare training samples for Detector 2"
   ]
  },
  {
   "cell_type": "code",
   "execution_count": null,
   "metadata": {},
   "outputs": [],
   "source": [
    "detector = CellDetector('DK55',round=1)\n",
    "scores,labels,_mean,_std = detector.detector.calculate_scores(train_features)\n",
    "train_features['mean_score'],train_features['std_score'] = _mean,_std"
   ]
  },
  {
   "cell_type": "code",
   "execution_count": null,
   "metadata": {},
   "outputs": [],
   "source": [
    "train_features.head()"
   ]
  },
  {
   "cell_type": "code",
   "execution_count": null,
   "metadata": {},
   "outputs": [],
   "source": [
    "train_features[(train_features['mean_score']>1.5) & (train_features['label']==1)]"
   ]
  },
  {
   "cell_type": "code",
   "execution_count": null,
   "metadata": {},
   "outputs": [],
   "source": [
    "detections = detector.load_detections()\n",
    "sures = detections[detections.predictions==2]\n",
    "unsures = detections[detections.predictions==0]\n",
    "len(sures),len(unsures)"
   ]
  },
  {
   "cell_type": "code",
   "execution_count": null,
   "metadata": {},
   "outputs": [],
   "source": [
    "features = detector.get_combined_features_for_detection()\n",
    "scores,labels,_mean,_std = detector.detector.calculate_scores(features)"
   ]
  },
  {
   "cell_type": "code",
   "execution_count": null,
   "metadata": {},
   "outputs": [],
   "source": [
    "detection_df = detector.get_combined_features()\n",
    "detection_df['mean_score'],detection_df['std_score'] = _mean,_std\n",
    "all_segment = np.array([detection_df.col,detection_df.row,detection_df.section]).T"
   ]
  },
  {
   "cell_type": "code",
   "execution_count": null,
   "metadata": {},
   "outputs": [],
   "source": [
    "test_counts,train_sections = pkl.load(open('/net/birdstore/Active_Atlas_Data/cell_segmentation/DK55/features/categories_round1.pkl','rb'))\n",
    "original = train_sections['original training set after mind change']\n",
    "original = np.array([[ci[1]['x'],ci[1]['y'],ci[1]['section']] for ci in original])\n",
    "original_index = generator.find_cloest_neighbor_among_points(all_segment,original)"
   ]
  },
  {
   "cell_type": "code",
   "execution_count": null,
   "metadata": {},
   "outputs": [],
   "source": [
    "neg = 'DK55_premotor_manual_negative_round1_2021-12-09.csv'\n",
    "pos = 'DK55_premotor_manual_positive_round1_2021-12-09.csv'\n",
    "neg = pd.read_csv(neg,header=None).to_numpy()\n",
    "pos = pd.read_csv(pos,header=None).to_numpy()\n",
    "positive = generator.find_cloest_neighbor_among_points(all_segment,pos)\n",
    "negative = generator.find_cloest_neighbor_among_points(all_segment,neg)\n",
    "len(positive),len(negative)"
   ]
  },
  {
   "cell_type": "code",
   "execution_count": null,
   "metadata": {},
   "outputs": [],
   "source": [
    "sure = list(detection_df[detection_df['mean_score']>1.5].index)"
   ]
  },
  {
   "cell_type": "code",
   "execution_count": null,
   "metadata": {},
   "outputs": [],
   "source": [
    "len(list(set(sure).difference(set(original_index+positive+negative))))"
   ]
  },
  {
   "cell_type": "code",
   "execution_count": null,
   "metadata": {},
   "outputs": [],
   "source": [
    "len(list(set(sure) & set(original_index+positive+negative)))"
   ]
  },
  {
   "cell_type": "code",
   "execution_count": null,
   "metadata": {},
   "outputs": [],
   "source": [
    "len(set(sure_id+original_index+positive)), len(sure_id+original_index+positive)"
   ]
  },
  {
   "cell_type": "code",
   "execution_count": null,
   "metadata": {},
   "outputs": [],
   "source": [
    "sure_id = [index for index in sure if index not in original_index+positive+negative]\n",
    "dirs=glob('/net/birdstore/Active_Atlas_Data/cell_segmentation/DK55/CH3/*/DK55*.csv') \n",
    "manual_sections = [int(i.split('/')[-2]) for i in dirs]\n",
    "labels = np.zeros(len(features))\n",
    "positive_index = sure_id+original_index+positive\n",
    "for i in positive_index:\n",
    "    labels[i] = 1\n",
    "include = [labels[i]==1 or i in negative or all_segment[i,2] in manual_sections for i in range(len(features))]\n"
   ]
  },
  {
   "cell_type": "code",
   "execution_count": null,
   "metadata": {},
   "outputs": [],
   "source": [
    "features['label'] = labels"
   ]
  },
  {
   "cell_type": "code",
   "execution_count": null,
   "metadata": {},
   "outputs": [],
   "source": [
    "detection_df['label'] = labels"
   ]
  },
  {
   "cell_type": "code",
   "execution_count": null,
   "metadata": {},
   "outputs": [],
   "source": [
    "train_features_r2 = features[include]"
   ]
  },
  {
   "cell_type": "code",
   "execution_count": null,
   "metadata": {},
   "outputs": [],
   "source": [
    "train_features_r2"
   ]
  },
  {
   "cell_type": "code",
   "execution_count": null,
   "metadata": {},
   "outputs": [],
   "source": [
    "pkl.dump(train_features_r2, open('/scratch/k1qian/TrainingData_v2/round2_training_features.pkl', 'wb'))"
   ]
  },
  {
   "cell_type": "markdown",
   "metadata": {},
   "source": [
    "## Detector 2"
   ]
  },
  {
   "cell_type": "code",
   "execution_count": null,
   "metadata": {},
   "outputs": [],
   "source": [
    "trainer = CellDetectorTrainer('DK55',round=2)\n",
    "new_models = trainer.train_classifier(train_features_r2,676,3)\n",
    "trainer.save_models(new_models)"
   ]
  },
  {
   "cell_type": "code",
   "execution_count": null,
   "metadata": {},
   "outputs": [],
   "source": [
    "detector = CellDetector('DK41',round=2)\n",
    "# detector.detector.model = pkl.load(open('/scratch/k1qian/Cell_Detectors/detectors_new.pkl', 'rb'))\n",
    "detector.calculate_and_save_detection_results()"
   ]
  },
  {
   "cell_type": "code",
   "execution_count": null,
   "metadata": {},
   "outputs": [],
   "source": [
    "detector = CellDetector('DK41',round=2)"
   ]
  },
  {
   "cell_type": "code",
   "execution_count": null,
   "metadata": {},
   "outputs": [],
   "source": [
    "detections = detector.load_detections()\n",
    "sures = detections[detections.predictions==2]\n",
    "unsures = detections[detections.predictions==0]\n",
    "len(sures),len(unsures)"
   ]
  },
  {
   "cell_type": "code",
   "execution_count": null,
   "metadata": {},
   "outputs": [],
   "source": [
    "train_features_r2 = pkl.load(open('/scratch/k1qian/TrainingData_v2/round2_training_features.pkl', 'rb'))"
   ]
  },
  {
   "cell_type": "code",
   "execution_count": null,
   "metadata": {},
   "outputs": [],
   "source": [
    "detector = CellDetector('DK55',round=2)\n",
    "scores,labels,_mean,_std = detector.detector.calculate_scores(train_features_r2)\n",
    "train_features_r2['mean_score'],train_features_r2['std_score'] = _mean,_std"
   ]
  },
  {
   "cell_type": "code",
   "execution_count": null,
   "metadata": {},
   "outputs": [],
   "source": [
    "detection_plot(detections, train_features_r2, 'Detector2')"
   ]
  },
  {
   "cell_type": "markdown",
   "metadata": {},
   "source": [
    "## Detector 3"
   ]
  },
  {
   "cell_type": "code",
   "execution_count": null,
   "metadata": {},
   "outputs": [],
   "source": [
    "train_features = pkl.load(open('/scratch/k1qian/TrainingData_v2/round2_training_features.pkl', 'rb'))\n",
    "features = pkl.load(open('/scratch/k1qian/TrainingData_v2/round3_training_features.pkl', 'rb'))\n",
    "train_features_r3 = pd.concat([features,train_features])"
   ]
  },
  {
   "cell_type": "code",
   "execution_count": null,
   "metadata": {},
   "outputs": [],
   "source": [
    "trainer = CellDetectorTrainer('DK41',round=3)\n",
    "new_models = trainer.train_classifier(train_features_r3,676,3)\n",
    "trainer.save_models(new_models)"
   ]
  },
  {
   "cell_type": "code",
   "execution_count": null,
   "metadata": {},
   "outputs": [],
   "source": [
    "detector = CellDetector('DK62',round=3)\n",
    "# detector.detector.model = pkl.load(open('/scratch/k1qian/Cell_Detectors/detectors_new.pkl', 'rb'))\n",
    "detector.calculate_and_save_detection_results()"
   ]
  },
  {
   "cell_type": "code",
   "execution_count": null,
   "metadata": {},
   "outputs": [],
   "source": [
    "detections = detector.load_detections()\n",
    "sures = detections[detections.predictions==2]\n",
    "unsures = detections[detections.predictions==0]\n",
    "len(sures),len(unsures)"
   ]
  },
  {
   "cell_type": "code",
   "execution_count": null,
   "metadata": {},
   "outputs": [],
   "source": [
    "detector = CellDetector('DK41',round=3)\n",
    "scores,labels,_mean,_std = detector.detector.calculate_scores(features)\n",
    "features['mean_score'],features['std_score'] = _mean,_std"
   ]
  },
  {
   "cell_type": "code",
   "execution_count": null,
   "metadata": {},
   "outputs": [],
   "source": [
    "detection_plot(detections, features, 'Detector3')"
   ]
  },
  {
   "cell_type": "markdown",
   "metadata": {},
   "source": [
    "## Detector 4"
   ]
  },
  {
   "cell_type": "code",
   "execution_count": null,
   "metadata": {},
   "outputs": [],
   "source": [
    "train_features = pkl.load(open('/scratch/k1qian/TrainingData_v2/round2_training_features.pkl', 'rb'))\n",
    "features = pkl.load(open('/scratch/k1qian/TrainingData_v2/round3_training_features.pkl', 'rb'))\n",
    "train_features = pd.concat([features,train_features])\n",
    "features = pkl.load(open('/scratch/k1qian/TrainingData_v2/round4_training_features.pkl','rb'))\n",
    "train_features_r4 = pd.concat([features,train_features])"
   ]
  },
  {
   "cell_type": "code",
   "execution_count": null,
   "metadata": {},
   "outputs": [],
   "source": [
    "trainer = CellDetectorTrainer('DK41',round=4)\n",
    "new_models = trainer.train_classifier(train_features_r4,676,3)\n",
    "trainer.save_models(new_models)"
   ]
  },
  {
   "cell_type": "code",
   "execution_count": null,
   "metadata": {},
   "outputs": [],
   "source": [
    "detector = CellDetector('DK62',round=4)\n",
    "# detector.detector.model = pkl.load(open('/scratch/k1qian/Cell_Detectors/detectors_new.pkl', 'rb'))\n",
    "detector.calculate_and_save_detection_results()"
   ]
  },
  {
   "cell_type": "markdown",
   "metadata": {},
   "source": [
    "## Detector 5"
   ]
  },
  {
   "cell_type": "code",
   "execution_count": null,
   "metadata": {},
   "outputs": [],
   "source": [
    "old_train_features = pkl.load(open('/scratch/k1qian/TrainingData_v2/round2_training_features.pkl','rb'))\n",
    "train_features = pkl.load(open('/scratch/k1qian/TrainingData_v2/round3_training_features.pkl','rb'))\n",
    "train_features = pd.concat([old_train_features,train_features])\n",
    "nega_features = pkl.load(open('/scratch/k1qian/TrainingData_v2/round4_training_features.pkl','rb'))\n",
    "train_features = pd.concat([train_features,nega_features])\n",
    "qc_features = pkl.load(open('/scratch/k1qian/TrainingData_v2/DK62_QC_features.pkl','rb'))\n",
    "qc_features = pd.concat([qc_features]*4)\n",
    "train_features = pd.concat([train_features,qc_features])\n",
    "beth_features = pkl.load(open('/scratch/k1qian/TrainingData_v2/DK62_beth_features.pkl','rb'))\n",
    "train_features = pd.concat([train_features,beth_features])\n"
   ]
  },
  {
   "cell_type": "code",
   "execution_count": null,
   "metadata": {},
   "outputs": [],
   "source": [
    "trainer = CellDetectorTrainer('DK41',round=5)\n",
    "new_models = trainer.train_classifier(train_features,676,3)\n",
    "trainer.save_models(new_models)"
   ]
  },
  {
   "cell_type": "code",
   "execution_count": null,
   "metadata": {},
   "outputs": [],
   "source": [
    "detector = CellDetector('DK62',round=5)\n",
    "# detector.detector.model = pkl.load(open('/scratch/k1qian/Cell_Detectors/detectors_new.pkl', 'rb'))\n",
    "detector.calculate_and_save_detection_results()"
   ]
  },
  {
   "cell_type": "code",
   "execution_count": null,
   "metadata": {},
   "outputs": [],
   "source": [
    "detections = detector.load_detections()\n",
    "sures = detections[detections.predictions==2]\n",
    "unsures = detections[detections.predictions==0]\n",
    "len(sures),len(unsures)"
   ]
  },
  {
   "cell_type": "markdown",
   "metadata": {},
   "source": [
    "## Detector 6"
   ]
  },
  {
   "cell_type": "code",
   "execution_count": null,
   "metadata": {},
   "outputs": [],
   "source": [
    "old_train_features = pkl.load(open('/scratch/k1qian/TrainingData_v2/round2_training_features.pkl','rb'))\n",
    "train_features = pkl.load(open('/scratch/k1qian/TrainingData_v2/round3_training_features.pkl','rb'))\n",
    "train_features = pd.concat([old_train_features,train_features])\n",
    "nega_features = pkl.load(open('/scratch/k1qian/TrainingData_v2/round4_training_features.pkl','rb'))\n",
    "train_features = pd.concat([train_features,nega_features])\n",
    "qc_features = pkl.load(open('/scratch/k1qian/TrainingData_v2/DK62_QC_features.pkl','rb'))\n",
    "qc_features = pd.concat([qc_features]*4)\n",
    "train_features = pd.concat([train_features,qc_features])\n",
    "beth_features = pkl.load(open('/scratch/k1qian/TrainingData_v2/DK62_beth_features.pkl','rb'))\n",
    "train_features = pd.concat([train_features,beth_features])\n",
    "qc_features = pkl.load(open('/scratch/k1qian/TrainingData_v2/DK50_QC_features.pkl','rb'))\n",
    "qc_features = pd.concat([qc_features]*4)\n",
    "train_features = pd.concat([train_features,qc_features])\n",
    "beth_features = pkl.load(open('/scratch/k1qian/TrainingData_v2/DK50_beth_features.pkl','rb'))\n",
    "train_features = pd.concat([train_features,beth_features])\n"
   ]
  },
  {
   "cell_type": "code",
   "execution_count": null,
   "metadata": {},
   "outputs": [],
   "source": [
    "trainer = CellDetectorTrainer('DK41',round=6)\n",
    "new_models = trainer.train_classifier(train_features,676,3)\n",
    "trainer.save_models(new_models)"
   ]
  },
  {
   "cell_type": "code",
   "execution_count": null,
   "metadata": {},
   "outputs": [],
   "source": [
    "detector = CellDetector('DK62',round=6)\n",
    "# detector.detector.model = pkl.load(open('/scratch/k1qian/Cell_Detectors/detectors_new.pkl', 'rb'))\n",
    "detector.calculate_and_save_detection_results()"
   ]
  },
  {
   "cell_type": "code",
   "execution_count": null,
   "metadata": {},
   "outputs": [],
   "source": [
    "detections = detector.load_detections()\n",
    "sures = detections[detections.predictions==2]\n",
    "unsures = detections[detections.predictions==0]\n",
    "len(sures),len(unsures)"
   ]
  },
  {
   "cell_type": "code",
   "execution_count": null,
   "metadata": {},
   "outputs": [],
   "source": []
  }
 ],
 "metadata": {
  "kernelspec": {
   "display_name": "Python 3 (ipykernel)",
   "language": "python",
   "name": "python3"
  },
  "language_info": {
   "codemirror_mode": {
    "name": "ipython",
    "version": 3
   },
   "file_extension": ".py",
   "mimetype": "text/x-python",
   "name": "python",
   "nbconvert_exporter": "python",
   "pygments_lexer": "ipython3",
   "version": "3.10.12"
  }
 },
 "nbformat": 4,
 "nbformat_minor": 2
}
