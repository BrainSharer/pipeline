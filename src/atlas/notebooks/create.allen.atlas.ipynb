{
 "cells": [
  {
   "cell_type": "code",
   "execution_count": null,
   "metadata": {},
   "outputs": [],
   "source": [
    "import os\n",
    "import sys\n",
    "from pathlib import Path\n",
    "import numpy as np\n",
    "from scipy.ndimage import center_of_mass\n",
    "import matplotlib.pyplot as plt\n",
    "import numpy as np\n",
    "from tqdm import tqdm\n",
    "PIPELINE_ROOT = Path('../src').resolve().parent.parent\n",
    "sys.path.append(PIPELINE_ROOT.as_posix())\n",
    "\n",
    "from library.utilities.utilities_process import read_image, write_image\n"
   ]
  },
  {
   "cell_type": "code",
   "execution_count": null,
   "metadata": {},
   "outputs": [],
   "source": [
    "reg_path = '/net/birdstore/Active_Atlas_Data/data_root/brains_info/registration'\n",
    "atlas_name = 'Allen_10um_coronal.tif'\n",
    "atlas_path = os.path.join(reg_path, atlas_name)\n",
    "coronal = read_image(atlas_path)\n",
    "print(coronal.dtype, coronal.shape, coronal.ndim)"
   ]
  },
  {
   "cell_type": "code",
   "execution_count": null,
   "metadata": {},
   "outputs": [],
   "source": [
    "arr = coronal.copy()\n",
    "sagittal = np.rot90(arr, axes=(0,1))\n",
    "#sagittal = np.flip(sagittal, axis=0)\n",
    "print(sagittal.shape)\n",
    "plt.imshow(sagittal[:,:,650], cmap=\"gray\")"
   ]
  },
  {
   "cell_type": "code",
   "execution_count": null,
   "metadata": {},
   "outputs": [],
   "source": [
    "arr = coronal.copy()\n",
    "swapped = np.swapaxes(coronal, 0,2)\n",
    "sagittal = swapped.astype(np.uint16)\n",
    "print(f'sagittal info {sagittal.shape}, {sagittal.dtype}')\n",
    "\n",
    "midpoint = sagittal.shape[0] // 2\n",
    "plt.imshow(sagittal[midpoint,:,:], cmap=\"gray\")"
   ]
  },
  {
   "cell_type": "code",
   "execution_count": null,
   "metadata": {},
   "outputs": [],
   "source": [
    "#allen10 800,1320,1140\n",
    "#DK41 1000,1800,456\n",
    "rowpad = 200\n",
    "colpad = 500\n",
    "padded = sagittal.copy()\n",
    "print(f'padded volume shape={padded.shape} dtype={padded.dtype}')\n",
    "\n",
    "padded = np.concatenate((padded, np.zeros((padded.shape[0], rowpad, padded.shape[2])) ), axis=1)\n",
    "print(f'padded volume shape={padded.shape} dtype={padded.dtype}')\n",
    "\n",
    "padded = np.concatenate((padded, np.zeros((padded.shape[0], padded.shape[1], colpad)) ), axis=2)\n",
    "padded = padded.astype(np.uint16)\n",
    "print(f'padded volume shape={padded.shape} dtype={padded.dtype}')\n"
   ]
  },
  {
   "cell_type": "code",
   "execution_count": null,
   "metadata": {},
   "outputs": [],
   "source": [
    "midpoint = padded.shape[2] // 2\n",
    "plt.imshow(padded[500,:,:], cmap=\"gray\")"
   ]
  },
  {
   "cell_type": "code",
   "execution_count": null,
   "metadata": {},
   "outputs": [],
   "source": [
    "outfile = 'Allen_10um_sagittal_padded.tif'\n",
    "outpath = os.path.join(reg_path, outfile)\n",
    "write_image(outpath, padded)"
   ]
  },
  {
   "cell_type": "code",
   "execution_count": null,
   "metadata": {},
   "outputs": [],
   "source": [
    "padded.shape"
   ]
  }
 ],
 "metadata": {
  "kernelspec": {
   "display_name": "Python 3 (ipykernel)",
   "language": "python",
   "name": "python3"
  },
  "language_info": {
   "codemirror_mode": {
    "name": "ipython",
    "version": 3
   },
   "file_extension": ".py",
   "mimetype": "text/x-python",
   "name": "python",
   "nbconvert_exporter": "python",
   "pygments_lexer": "ipython3",
   "version": "3.10.12"
  }
 },
 "nbformat": 4,
 "nbformat_minor": 4
}
