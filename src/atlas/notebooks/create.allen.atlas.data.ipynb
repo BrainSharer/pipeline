{
 "cells": [
  {
   "cell_type": "code",
   "execution_count": 3,
   "metadata": {},
   "outputs": [
    {
     "name": "stdout",
     "output_type": "stream",
     "text": [
      "/home/eddyod/programming/preprocessing-pipeline/src\n"
     ]
    }
   ],
   "source": [
    "import os\n",
    "import sys\n",
    "from pathlib import Path\n",
    "import numpy as np\n",
    "from scipy.ndimage import center_of_mass\n",
    "import matplotlib.pyplot as plt\n",
    "import pandas as pd\n",
    "import plotly.express as px\n",
    "import numpy as np\n",
    "from superpose3d import Superpose3D\n",
    "PIPELINE_ROOT = Path('../src').resolve().parent.parent\n",
    "sys.path.append(PIPELINE_ROOT.as_posix())\n",
    "print(PIPELINE_ROOT)\n",
    "\n",
    "from library.registration.brain_structure_manager import BrainStructureManager\n",
    "from library.registration.algorithm import umeyama"
   ]
  },
  {
   "cell_type": "code",
   "execution_count": null,
   "metadata": {},
   "outputs": [],
   "source": [
    "def brain_to_atlas_transform(brain_coord, r, t):\n",
    "    brain_coord = np.array(brain_coord).reshape(3, 1) # Convert to a column vector\n",
    "    atlas_coord = r @ brain_coord + t\n",
    "    return atlas_coord.T[0] # Convert back to a row vector\n",
    "\n",
    "def calculate_distance(com1, com2):\n",
    "    return (np.linalg.norm(com1 - com2))\n",
    "\n",
    "def label_left_right(row):\n",
    "    val = 'Singular'\n",
    "    if str(row['Structure']).endswith('L'):\n",
    "        val = 'Left'\n",
    "    if str(row['Structure']).endswith('R'):\n",
    "        val = 'Right'\n",
    "    return val        "
   ]
  },
  {
   "cell_type": "code",
   "execution_count": null,
   "metadata": {},
   "outputs": [],
   "source": [
    "animal = 'Atlas'\n",
    "brain = BrainStructureManager(animal)\n",
    "brain.fixed_brain = BrainStructureManager('Allen')"
   ]
  },
  {
   "cell_type": "code",
   "execution_count": null,
   "metadata": {},
   "outputs": [],
   "source": [
    "brainstem_keys = set(brain.allen_structures_keys) - brain.midbrain_keys "
   ]
  },
  {
   "cell_type": "code",
   "execution_count": null,
   "metadata": {},
   "outputs": [],
   "source": [
    "moving_coms = brain.get_coms(annotator_id=1)\n",
    "allen_coms = brain.fixed_brain.get_coms(annotator_id=1)\n",
    "common_keys = allen_coms.keys() & moving_coms.keys() &  brain.midbrain_keys\n",
    "brain_regions = sorted(moving_coms.keys())\n",
    "allen_points = np.array([allen_coms[s] for s in brain_regions if s in common_keys])\n",
    "moving_points = np.array([moving_coms[s] for s in brain_regions if s in common_keys])\n",
    "allen_point_dict = {s:allen_coms[s] for s in brain_regions if s in common_keys}\n",
    "moving_point_dict = {s:moving_coms[s] for s in brain_regions if s in common_keys}\n",
    "assert len(moving_point_dict) > 0"
   ]
  },
  {
   "cell_type": "code",
   "execution_count": null,
   "metadata": {},
   "outputs": [],
   "source": [
    "R, t = umeyama(moving_points.T, allen_points.T)"
   ]
  },
  {
   "cell_type": "code",
   "execution_count": null,
   "metadata": {},
   "outputs": [],
   "source": [
    "t"
   ]
  },
  {
   "cell_type": "code",
   "execution_count": null,
   "metadata": {},
   "outputs": [],
   "source": [
    "reg_points = R @ moving_points.T + t"
   ]
  },
  {
   "cell_type": "code",
   "execution_count": null,
   "metadata": {},
   "outputs": [],
   "source": [
    "reg_point_dict = {s:reg_points.T[i] for i,s in enumerate(brain_regions) if s in common_keys}"
   ]
  },
  {
   "cell_type": "code",
   "execution_count": null,
   "metadata": {},
   "outputs": [],
   "source": [
    "moving_point_dict"
   ]
  },
  {
   "cell_type": "markdown",
   "metadata": {},
   "source": [
    " That does not preclude starting the new idea but is just to say that somehow we need to get David's attention on what you have done- do a graph\n",
    "= box plot of the midbrain com distances vs allen (active atlas based)\n",
    "=box plot of the brainstem vs allen distances (but not using midbrain values to improve the distances)\n",
    "This should provide an easy visual...\n",
    "\n",
    "\n",
    "When the tethering is done for the brainstem structures though- he does not want the midbrain metrics to be included ( I don't know though if he means that the alignment is done with midbrain and then the evaluated outputs are only for the brainstem structures...?) your guess is best\n",
    "So- in any case it was clear that he did not want metrics for midbrain and brainstem structures to be combined."
   ]
  },
  {
   "cell_type": "code",
   "execution_count": 4,
   "metadata": {},
   "outputs": [
    {
     "data": {
      "text/html": [
       "<div>\n",
       "<style scoped>\n",
       "    .dataframe tbody tr th:only-of-type {\n",
       "        vertical-align: middle;\n",
       "    }\n",
       "\n",
       "    .dataframe tbody tr th {\n",
       "        vertical-align: top;\n",
       "    }\n",
       "\n",
       "    .dataframe thead th {\n",
       "        text-align: right;\n",
       "    }\n",
       "</style>\n",
       "<table border=\"1\" class=\"dataframe\">\n",
       "  <thead>\n",
       "    <tr style=\"text-align: right;\">\n",
       "      <th></th>\n",
       "      <th>Structure</th>\n",
       "      <th>distance</th>\n",
       "    </tr>\n",
       "  </thead>\n",
       "  <tbody>\n",
       "    <tr>\n",
       "      <th>0</th>\n",
       "      <td>IC</td>\n",
       "      <td>101.584250</td>\n",
       "    </tr>\n",
       "    <tr>\n",
       "      <th>1</th>\n",
       "      <td>PBG_R</td>\n",
       "      <td>102.240882</td>\n",
       "    </tr>\n",
       "    <tr>\n",
       "      <th>2</th>\n",
       "      <td>SC</td>\n",
       "      <td>104.035306</td>\n",
       "    </tr>\n",
       "    <tr>\n",
       "      <th>3</th>\n",
       "      <td>SNR_R</td>\n",
       "      <td>165.298125</td>\n",
       "    </tr>\n",
       "    <tr>\n",
       "      <th>4</th>\n",
       "      <td>4N_L</td>\n",
       "      <td>171.430192</td>\n",
       "    </tr>\n",
       "  </tbody>\n",
       "</table>\n",
       "</div>"
      ],
      "text/plain": [
       "  Structure    distance\n",
       "0        IC  101.584250\n",
       "1     PBG_R  102.240882\n",
       "2        SC  104.035306\n",
       "3     SNR_R  165.298125\n",
       "4      4N_L  171.430192"
      ]
     },
     "execution_count": 4,
     "metadata": {},
     "output_type": "execute_result"
    }
   ],
   "source": [
    "csvpath = '/net/birdstore/Active_Atlas_Data/data_root/atlas_data/atlasV8/csv'\n",
    "df_midbrain_distance = pd.read_csv(os.path.join(csvpath, 'midbrain_distance.csv'))\n",
    "df_midbrain_distance.head()"
   ]
  },
  {
   "cell_type": "code",
   "execution_count": null,
   "metadata": {},
   "outputs": [],
   "source": [
    "distances = []\n",
    "sortme = {}\n",
    "for structure in common_keys:\n",
    "    (x,y,z) = allen_point_dict[structure]\n",
    "    allen_point = np.array([x,y,z])    \n",
    "    moving_point = np.array(moving_point_dict[structure])\n",
    "    reg_point = brain_to_atlas_transform(moving_point, R, t)\n",
    "    d = calculate_distance(allen_point, reg_point)\n",
    "    distances.append(d)\n",
    "    sortme[structure] = d\n",
    "\n",
    "print(f'n={len(distances)}, min={min(distances)} max={max(distances)}, mean={np.mean(distances)}')\n",
    "ds = {k: v for k, v in sorted(sortme.items(), key=lambda item: item[1])}\n",
    "for structure, d in ds.items():\n",
    "    print(f'<tr><td>{structure}</td><td>{round(d,2)}</td></tr>')"
   ]
  },
  {
   "cell_type": "code",
   "execution_count": null,
   "metadata": {},
   "outputs": [],
   "source": [
    "df_distance = pd.DataFrame(ds.items(), columns=['Structure', 'distance'])\n",
    "df_distance.head()"
   ]
  },
  {
   "cell_type": "code",
   "execution_count": null,
   "metadata": {},
   "outputs": [],
   "source": [
    "fig, ax = plt.subplots()\n",
    "columns = [distances]\n",
    "ax.boxplot(columns, patch_artist=True)\n",
    "plt.xticks([1], [\"Registered\"])\n",
    "plt.show()"
   ]
  },
  {
   "cell_type": "code",
   "execution_count": null,
   "metadata": {},
   "outputs": [],
   "source": [
    "df_allen = pd.DataFrame(allen_point_dict.items(), columns=['Structure', 'xyz'])\n",
    "df_allen['S'] = df_allen.apply (lambda row: label_left_right(row), axis=1)\n",
    "df_allen[['X', 'Y', 'Z']] = pd.DataFrame(df_allen['xyz'].tolist(), index=df_allen.index)"
   ]
  },
  {
   "cell_type": "code",
   "execution_count": null,
   "metadata": {},
   "outputs": [],
   "source": [
    "df_atlas = pd.DataFrame(reg_point_dict.items(), columns=['Structure', 'xyz'])\n",
    "df_atlas['S'] = df_atlas.apply (lambda row: label_left_right(row), axis=1)\n",
    "df_atlas[['X', 'Y', 'Z']] = pd.DataFrame(df_atlas['xyz'].tolist(), index=df_atlas.index)"
   ]
  },
  {
   "cell_type": "code",
   "execution_count": null,
   "metadata": {},
   "outputs": [],
   "source": [
    "df_atlas.head()"
   ]
  },
  {
   "cell_type": "code",
   "execution_count": null,
   "metadata": {},
   "outputs": [],
   "source": [
    "xmin = 8000\n",
    "xmax = 13000\n",
    "ymin = 2000\n",
    "ymax = 6000\n",
    "zmin = 0\n",
    "zmax = 25*456"
   ]
  },
  {
   "cell_type": "code",
   "execution_count": null,
   "metadata": {},
   "outputs": [],
   "source": [
    "for color, label in zip('bgr', ['Left', 'Right', 'Singular']):\n",
    "    allen_subset = df_allen[df_allen.S == label]\n",
    "    atlas_subset = df_atlas[df_atlas.S == label]\n",
    "    plt.scatter(allen_subset.X, allen_subset.Y, s=120, marker='^', c=color, label=str('Allen ' + label))\n",
    "    plt.scatter(atlas_subset.X, atlas_subset.Y, s=120, marker='o', c=color, label=str('Atlas ' + label))\n",
    "    plt.xlabel('X')\n",
    "    plt.ylabel('Y')\n",
    "    ax = plt.gca()\n",
    "    ax.set_xlim([xmin, xmax])\n",
    "    ax.set_ylim([ymin, ymax])\n",
    "    ax.invert_yaxis()\n",
    "plt.title('Allen/Altas X Y scatter plot')    \n",
    "plt.legend()"
   ]
  },
  {
   "cell_type": "code",
   "execution_count": null,
   "metadata": {},
   "outputs": [],
   "source": [
    "for color, label in zip('bgr', ['Left', 'Right', 'Singular']):\n",
    "    allen_subset = df_allen[df_allen.S == label]\n",
    "    atlas_subset = df_atlas[df_atlas.S == label]\n",
    "    plt.scatter(allen_subset.X, allen_subset.Z, s=120, marker='^', c=color, label=str('Allen ' + label))\n",
    "    plt.scatter(atlas_subset.X, atlas_subset.Z, s=120, marker='o', c=color, label=str('Atlas ' + label))\n",
    "    plt.xlabel('X')\n",
    "    plt.ylabel('Z')\n",
    "    ax = plt.gca()\n",
    "    ax.set_xlim([xmin, xmax])\n",
    "    #ax.set_ylim([ymin, ymax])\n",
    "    #ax.invert_yaxis()\n",
    "plt.title('Allen/Altas X Z scatter plot')    \n",
    "plt.legend()"
   ]
  },
  {
   "cell_type": "code",
   "execution_count": null,
   "metadata": {},
   "outputs": [],
   "source": [
    "for color, label in zip('bgr', ['Left', 'Right', 'Singular']):\n",
    "    allen_subset = df_allen[df_allen.S == label]\n",
    "    atlas_subset = df_atlas[df_atlas.S == label]\n",
    "    plt.scatter(allen_subset.Z, allen_subset.Y, s=120, marker='^', c=color, label=str('Allen ' + label))\n",
    "    plt.scatter(atlas_subset.Z, atlas_subset.Y, s=120, marker='o', c=color, label=str('Atlas ' + label))\n",
    "    plt.xlabel('Z')\n",
    "    plt.ylabel('Y')\n",
    "    ax = plt.gca()\n",
    "    #ax.set_xlim([xmin, xmax])\n",
    "    #ax.set_ylim([ymin, ymax])\n",
    "    ax.invert_yaxis()\n",
    "plt.title('Allen/Altas Y Z scatter plot')    \n",
    "plt.legend()"
   ]
  }
 ],
 "metadata": {
  "kernelspec": {
   "display_name": "Python 3",
   "language": "python",
   "name": "python3"
  },
  "language_info": {
   "codemirror_mode": {
    "name": "ipython",
    "version": 3
   },
   "file_extension": ".py",
   "mimetype": "text/x-python",
   "name": "python",
   "nbconvert_exporter": "python",
   "pygments_lexer": "ipython3",
   "version": "3.10.6"
  }
 },
 "nbformat": 4,
 "nbformat_minor": 4
}
