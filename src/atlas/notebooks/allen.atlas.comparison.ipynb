{
 "cells": [
  {
   "cell_type": "code",
   "execution_count": 1,
   "metadata": {},
   "outputs": [],
   "source": [
    "import os\n",
    "import sys\n",
    "import matplotlib.pyplot as plt\n",
    "import pandas as pd\n",
    "import numpy as np"
   ]
  },
  {
   "cell_type": "code",
   "execution_count": 2,
   "metadata": {},
   "outputs": [],
   "source": [
    "csvpath = '/net/birdstore/Active_Atlas_Data/data_root/atlas_data/atlasV8/csv'"
   ]
  },
  {
   "cell_type": "code",
   "execution_count": 3,
   "metadata": {},
   "outputs": [],
   "source": [
    "df_midbrain_distance = pd.read_csv(os.path.join(csvpath, 'midbrain_distance.csv'))\n",
    "df_midbrain_allen = pd.read_csv(os.path.join(csvpath, 'midbrain_allen.csv'))\n",
    "df_midbrain_atlas = pd.read_csv(os.path.join(csvpath, 'midbrain_atlas.csv'))"
   ]
  },
  {
   "cell_type": "code",
   "execution_count": 4,
   "metadata": {},
   "outputs": [],
   "source": [
    "df_brainstem_distance = pd.read_csv(os.path.join(csvpath, 'brainstem_distance.csv'))\n",
    "df_brainstem_allen = pd.read_csv(os.path.join(csvpath, 'brainstem_allen.csv'))\n",
    "df_brainstem_atlas = pd.read_csv(os.path.join(csvpath, 'brainstem_atlas.csv'))"
   ]
  },
  {
   "cell_type": "markdown",
   "metadata": {},
   "source": [
    " That does not preclude starting the new idea but is just to say that somehow we need to get David's attention on what you have done- do a graph\n",
    "= box plot of the midbrain com distances vs allen (active atlas based)\n",
    "=box plot of the brainstem vs allen distances (but not using midbrain values to improve the distances)\n",
    "This should provide an easy visual...\n",
    "\n",
    "\n",
    "When the tethering is done for the brainstem structures though- he does not want the midbrain metrics to be included ( I don't know though if he means that the alignment is done with midbrain and then the evaluated outputs are only for the brainstem structures...?) your guess is best\n",
    "So- in any case it was clear that he did not want metrics for midbrain and brainstem structures to be combined."
   ]
  },
  {
   "cell_type": "code",
   "execution_count": null,
   "metadata": {},
   "outputs": [],
   "source": [
    "midbrain_distances = df_midbrain_distance.distance\n",
    "brainstem_distances = df_brainstem_distance.distance\n",
    "fig, ax = plt.subplots()\n",
    "columns = [midbrain_distances, brainstem_distances]\n",
    "ax.boxplot(columns, patch_artist=True)\n",
    "title1 = f\"Midbrain distances\\nn={len(midbrain_distances)}, min={round(min(midbrain_distances))}\"\n",
    "title1 += f\"\\nmax={round(max(midbrain_distances))}, mean={round(np.mean(midbrain_distances))}\"\n",
    "title2 = f\"Brain stem distances\\nn={len(brainstem_distances)}, min={round(min(brainstem_distances))}\"\n",
    "title2 += f\"\\nmax={round(max(brainstem_distances))}, mean={round(np.mean(brainstem_distances))}\"\n",
    "plt.xticks([1,2], [title1, title2])\n",
    "plt.show()"
   ]
  },
  {
   "cell_type": "code",
   "execution_count": null,
   "metadata": {},
   "outputs": [],
   "source": [
    "len(brainstem_distances), min(brainstem_distances), max(brainstem_distances), np.mean(brainstem_distances)"
   ]
  },
  {
   "cell_type": "code",
   "execution_count": 6,
   "metadata": {},
   "outputs": [
    {
     "name": "stdout",
     "output_type": "stream",
     "text": [
      "<tr><td>Sp5O_L</td> <td>97.11</td></tr>\n",
      "<tr><td>Sp5O_R</td> <td>132.01</td></tr>\n",
      "<tr><td>DC_L</td> <td>134.63</td></tr>\n",
      "<tr><td>6N_L</td> <td>138.32</td></tr>\n",
      "<tr><td>5N_R</td> <td>149.65</td></tr>\n",
      "<tr><td>VLL_R</td> <td>151.83</td></tr>\n",
      "<tr><td>LRt_L</td> <td>167.32</td></tr>\n",
      "<tr><td>5N_L</td> <td>189.11</td></tr>\n",
      "<tr><td>6N_R</td> <td>204.79</td></tr>\n",
      "<tr><td>DC_R</td> <td>219.04</td></tr>\n",
      "<tr><td>7n_R</td> <td>228.57</td></tr>\n",
      "<tr><td>SNC_R</td> <td>261.94</td></tr>\n",
      "<tr><td>SNC_L</td> <td>274.29</td></tr>\n",
      "<tr><td>7n_L</td> <td>276.58</td></tr>\n",
      "<tr><td>LRt_R</td> <td>312.05</td></tr>\n",
      "<tr><td>Sp5I_R</td> <td>320.7</td></tr>\n",
      "<tr><td>Amb_L</td> <td>323.08</td></tr>\n",
      "<tr><td>Sp5I_L</td> <td>330.99</td></tr>\n",
      "<tr><td>VLL_L</td> <td>335.02</td></tr>\n",
      "<tr><td>7N_L</td> <td>363.45</td></tr>\n",
      "<tr><td>LC_L</td> <td>398.66</td></tr>\n",
      "<tr><td>RtTg</td> <td>401.44</td></tr>\n",
      "<tr><td>Amb_R</td> <td>407.88</td></tr>\n",
      "<tr><td>LC_R</td> <td>420.65</td></tr>\n",
      "<tr><td>Sp5C_L</td> <td>491.23</td></tr>\n",
      "<tr><td>7N_R</td> <td>531.4</td></tr>\n",
      "<tr><td>AP</td> <td>576.44</td></tr>\n"
     ]
    }
   ],
   "source": [
    "for i, row in df_brainstem_distance.iterrows():\n",
    "    print(f'<tr><td>{row[0]}</td> <td>{round(row[1],2)}</td></tr>')"
   ]
  },
  {
   "cell_type": "code",
   "execution_count": null,
   "metadata": {},
   "outputs": [],
   "source": [
    "xmin = 8000\n",
    "xmax = 13000\n",
    "ymin = 2000\n",
    "ymax = 6000\n",
    "zmin = 0\n",
    "zmax = 25*456"
   ]
  },
  {
   "cell_type": "code",
   "execution_count": null,
   "metadata": {},
   "outputs": [],
   "source": [
    "for color, label in zip('bgr', ['Left', 'Right', 'Singular']):\n",
    "    allen_subset = df_midbrain_allen[df_midbrain_allen.S == label]\n",
    "    atlas_subset = df_midbrain_atlas[df_midbrain_atlas.S == label]\n",
    "    plt.scatter(allen_subset.X, allen_subset.Y, s=120, marker='^', c=color, label=str('Allen ' + label))\n",
    "    plt.scatter(atlas_subset.X, atlas_subset.Y, s=120, marker='o', c=color, label=str('Atlas ' + label))\n",
    "    plt.xlabel('X')\n",
    "    plt.ylabel('Y')\n",
    "    ax = plt.gca()\n",
    "    ax.set_xlim([xmin, xmax])\n",
    "    ax.set_ylim([ymin, ymax])\n",
    "    ax.invert_yaxis()\n",
    "plt.title('Allen/Altas X Y scatter plot')    \n",
    "plt.legend()"
   ]
  },
  {
   "cell_type": "code",
   "execution_count": null,
   "metadata": {},
   "outputs": [],
   "source": [
    "for color, label in zip('bgr', ['Left', 'Right', 'Singular']):\n",
    "    allen_subset = df_midbrain_allen[df_midbrain_allen.S == label]\n",
    "    atlas_subset = df_midbrain_atlas[df_midbrain_atlas.S == label]\n",
    "    plt.scatter(allen_subset.X, allen_subset.Z, s=120, marker='^', c=color, label=str('Allen ' + label))\n",
    "    plt.scatter(atlas_subset.X, atlas_subset.Z, s=120, marker='o', c=color, label=str('Atlas ' + label))\n",
    "    plt.xlabel('X')\n",
    "    plt.ylabel('Z')\n",
    "    ax = plt.gca()\n",
    "    ax.set_xlim([xmin, xmax])\n",
    "    #ax.set_ylim([ymin, ymax])\n",
    "    #ax.invert_yaxis()\n",
    "plt.title('Allen/Altas X Z scatter plot')    \n",
    "plt.legend()"
   ]
  },
  {
   "cell_type": "code",
   "execution_count": null,
   "metadata": {},
   "outputs": [],
   "source": [
    "for color, label in zip('bgr', ['Left', 'Right', 'Singular']):\n",
    "    allen_subset = df_midbrain_allen[df_midbrain_allen.S == label]\n",
    "    atlas_subset = df_midbrain_atlas[df_midbrain_atlas.S == label]\n",
    "    plt.scatter(allen_subset.Z, allen_subset.Y, s=120, marker='^', c=color, label=str('Allen ' + label))\n",
    "    plt.scatter(atlas_subset.Z, atlas_subset.Y, s=120, marker='o', c=color, label=str('Atlas ' + label))\n",
    "    plt.xlabel('Z')\n",
    "    plt.ylabel('Y')\n",
    "    ax = plt.gca()\n",
    "    #ax.set_xlim([xmin, xmax])\n",
    "    #ax.set_ylim([ymin, ymax])\n",
    "    ax.invert_yaxis()\n",
    "plt.title('Allen/Altas Y Z scatter plot')    \n",
    "plt.legend()"
   ]
  },
  {
   "cell_type": "code",
   "execution_count": null,
   "metadata": {},
   "outputs": [],
   "source": [
    "for color, label in zip('bgr', ['Left', 'Right', 'Singular']):\n",
    "    allen_subset = df_brainstem_allen[df_brainstem_allen.S == label]\n",
    "    atlas_subset = df_brainstem_atlas[df_brainstem_atlas.S == label]\n",
    "    plt.scatter(allen_subset.X, allen_subset.Y, s=120, marker='^', c=color, label=str('Allen ' + label))\n",
    "    plt.scatter(atlas_subset.X, atlas_subset.Y, s=120, marker='o', c=color, label=str('Atlas ' + label))\n",
    "    plt.xlabel('X')\n",
    "    plt.ylabel('Y')\n",
    "    ax = plt.gca()\n",
    "    ax.set_xlim([xmin, xmax])\n",
    "    ax.set_ylim([ymin, ymax])\n",
    "    ax.invert_yaxis()\n",
    "plt.title('Allen/Altas X Y scatter plot')    \n",
    "plt.legend()"
   ]
  },
  {
   "cell_type": "code",
   "execution_count": null,
   "metadata": {},
   "outputs": [],
   "source": [
    "for color, label in zip('bgr', ['Left', 'Right', 'Singular']):\n",
    "    allen_subset = df_brainstem_allen[df_brainstem_allen.S == label]\n",
    "    atlas_subset = df_brainstem_atlas[df_brainstem_atlas.S == label]\n",
    "    plt.scatter(allen_subset.X, allen_subset.Z, s=120, marker='^', c=color, label=str('Allen ' + label))\n",
    "    plt.scatter(atlas_subset.X, atlas_subset.Z, s=120, marker='o', c=color, label=str('Atlas ' + label))\n",
    "    plt.xlabel('X')\n",
    "    plt.ylabel('Z')\n",
    "    ax = plt.gca()\n",
    "    ax.set_xlim([xmin, xmax])\n",
    "    #ax.set_ylim([ymin, ymax])\n",
    "    #ax.invert_yaxis()\n",
    "plt.title('Allen/Altas X Z scatter plot')    \n",
    "plt.legend()"
   ]
  },
  {
   "cell_type": "code",
   "execution_count": null,
   "metadata": {},
   "outputs": [],
   "source": [
    "for color, label in zip('bgr', ['Left', 'Right', 'Singular']):\n",
    "    allen_subset = df_brainstem_allen[df_brainstem_allen.S == label]\n",
    "    atlas_subset = df_brainstem_atlas[df_brainstem_atlas.S == label]\n",
    "    plt.scatter(allen_subset.Z, allen_subset.Y, s=120, marker='^', c=color, label=str('Allen ' + label))\n",
    "    plt.scatter(atlas_subset.Z, atlas_subset.Y, s=120, marker='o', c=color, label=str('Atlas ' + label))\n",
    "    plt.xlabel('Z')\n",
    "    plt.ylabel('Y')\n",
    "    ax = plt.gca()\n",
    "    #ax.set_xlim([xmin, xmax])\n",
    "    #ax.set_ylim([ymin, ymax])\n",
    "    ax.invert_yaxis()\n",
    "plt.title('Allen/Altas Y Z scatter plot')    \n",
    "plt.legend()"
   ]
  }
 ],
 "metadata": {
  "kernelspec": {
   "display_name": "Python 3",
   "language": "python",
   "name": "python3"
  },
  "language_info": {
   "codemirror_mode": {
    "name": "ipython",
    "version": 3
   },
   "file_extension": ".py",
   "mimetype": "text/x-python",
   "name": "python",
   "nbconvert_exporter": "python",
   "pygments_lexer": "ipython3",
   "version": "3.10.6"
  }
 },
 "nbformat": 4,
 "nbformat_minor": 4
}
