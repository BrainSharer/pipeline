{
 "cells": [
  {
   "cell_type": "code",
   "execution_count": 5,
   "metadata": {},
   "outputs": [],
   "source": [
    "import os\n",
    "import sys\n",
    "import matplotlib.pyplot as plt\n",
    "import pandas as pd\n",
    "import numpy as np\n",
    "from skimage import io\n",
    "import cv2"
   ]
  },
  {
   "cell_type": "code",
   "execution_count": 6,
   "metadata": {},
   "outputs": [],
   "source": [
    "def calculate_distance(com1, com2):\n",
    "    return (np.linalg.norm(com1 - com2))"
   ]
  },
  {
   "cell_type": "code",
   "execution_count": 48,
   "metadata": {},
   "outputs": [],
   "source": [
    "csvpath = '/net/birdstore/Active_Atlas_Data/data_root/atlas_data/atlasV8/csv'\n",
    "distancepath = '/net/birdstore/Active_Atlas_Data/data_root/atlas_data/atlasV8/distance'\n",
    "atlaspath = '/net/birdstore/Active_Atlas_Data/data_root/brains_info/registration'"
   ]
  },
  {
   "cell_type": "code",
   "execution_count": 3,
   "metadata": {},
   "outputs": [
    {
     "data": {
      "text/plain": [
       "(dtype('uint16'), (456, 320, 528))"
      ]
     },
     "execution_count": 3,
     "metadata": {},
     "output_type": "execute_result"
    }
   ],
   "source": [
    "allen_path = os.path.join(atlaspath, 'allen_25um_sagittal_reference.tif')\n",
    "allen_img = io.imread(allen_path)\n",
    "allen_img.dtype, allen_img.shape"
   ]
  },
  {
   "cell_type": "code",
   "execution_count": 4,
   "metadata": {},
   "outputs": [],
   "source": [
    "sagittal = np.swapaxes(allen_img,0,2)\n",
    "sagittal = np.rot90(sagittal, axes=(0, 1))\n",
    "sagittal = np.flip(sagittal, axis=1)\n",
    "sagittal = np.flip(sagittal)"
   ]
  },
  {
   "cell_type": "code",
   "execution_count": null,
   "metadata": {},
   "outputs": [],
   "source": [
    "len(df_midbrain_allen)"
   ]
  },
  {
   "cell_type": "code",
   "execution_count": 16,
   "metadata": {},
   "outputs": [],
   "source": [
    "distances = []\n",
    "sortme = {}\n",
    "\n",
    "for (i1,row1), (i2,row2) in zip(df_midbrain_allen.iterrows(), df_midbrain_atlas.iterrows() ): \n",
    "    structure = row1['Structure']\n",
    "\n",
    "    fig = plt.figure()\n",
    "    plt.rcParams[\"figure.figsize\"] = [10, 6]\n",
    "    x1 = row1['X']\n",
    "    y1 = row1['Y']\n",
    "    z1 = row1['Z']\n",
    "    x2 = row2['X']\n",
    "    y2 = row2['Y']\n",
    "    z2 = row2['Z']\n",
    "    section = int(round(z1/25, 2))\n",
    "    xdistance = abs(x1 - x2)\n",
    "    ydistance = abs(y1 - y2)\n",
    "    zdistance = abs(z1 - z2)\n",
    "    distance = calculate_distance(np.array([x1,y1,z1]), np.array([x2,y2,z2]))\n",
    "    slice = sagittal[:,:,section]\n",
    "    title = f'{structure} at section={section}\\n'\n",
    "    title += f'x distance={round(xdistance,2)} um\\n'\n",
    "    title += f'y distance={round(ydistance,2)} um\\n'\n",
    "    title += f'z distance={round(zdistance,2)} um\\n'\n",
    "    title += f'  distance={round(distance,2)} um'\n",
    "    plt.title(title)\n",
    "    plt.scatter(x1/25, y1/25, s=80, marker='^', c='b', label=str('Allen ' + structure))\n",
    "    plt.scatter(x2/25, y2/25, s=80, marker='o', c='g', label=str('Atlas ' + structure))\n",
    "    plt.imshow(slice, cmap='gray')\n",
    "    plt.legend()\n",
    "    plt.close()\n",
    "    outpath = os.path.join(distancepath, f'{structure}.png')\n",
    "    fig.savefig(outpath, bbox_inches=\"tight\")\n",
    "    distances.append(distance)\n",
    "    sortme[structure] = distance\n"
   ]
  },
  {
   "cell_type": "code",
   "execution_count": 30,
   "metadata": {},
   "outputs": [
    {
     "data": {
      "text/plain": [
       "array([0.25])"
      ]
     },
     "execution_count": 30,
     "metadata": {},
     "output_type": "execute_result"
    }
   ],
   "source": [
    "width = 0.25  # the width of the bars\n",
    "multiplier = 0\n",
    "x = np.arange(1) \n",
    "x + width"
   ]
  },
  {
   "cell_type": "code",
   "execution_count": 52,
   "metadata": {},
   "outputs": [],
   "source": [
    "errors = ['X error', 'Y error', 'Z error', 'Distance error']\n",
    "x = np.arange(len(errors))  # the label locations\n",
    "width = 0.35  # the width of the bars\n",
    "for (i1,row1), (i2,row2) in zip(df_midbrain_allen.iterrows(), df_midbrain_atlas.iterrows() ): \n",
    "    structure = row1['Structure']\n",
    "    #fig = plt.figure()\n",
    "    fig, ax = plt.subplots(figsize=(8, 6))\n",
    "    #plt.rcParams[\"figure.figsize\"] = [10, 6]\n",
    "\n",
    "    x1 = row1['X']\n",
    "    y1 = row1['Y']\n",
    "    z1 = row1['Z']\n",
    "    x2 = row2['X']\n",
    "    y2 = row2['Y']\n",
    "    z2 = row2['Z']\n",
    "    xdistance = abs(x1 - x2)\n",
    "    ydistance = abs(y1 - y2)\n",
    "    zdistance = abs(z1 - z2)\n",
    "    distance = calculate_distance(np.array([x1,y1,z1]), np.array([x2,y2,z2]))\n",
    "\n",
    "    counts = [xdistance, ydistance, zdistance, distance]\n",
    "    bar_labels = ['X error', 'Y error', 'Z error', 'Distance error']\n",
    "    bar_colors = ['tab:red', 'tab:blue', 'tab:red', 'tab:orange']\n",
    "    #ax.bar(errors, counts, label=bar_labels, color=bar_colors)\n",
    "    ax.set_ylabel('Error in um')\n",
    "    # Label with specially formatted floats\n",
    "    rects1 = ax.bar(x - width/2, counts, label=bar_labels, color=bar_colors)\n",
    "    ax.bar_label(rects1, padding=3)\n",
    "    ax.set_xticks(x, errors)\n",
    "    ax.set_title('Errors for ' + structure)\n",
    "    ax.legend(title='Error color')\n",
    "    plt.close()\n",
    "    outpath = os.path.join(distancepath, f'{structure}_error.png')\n",
    "    fig.savefig(outpath, bbox_inches=\"tight\")\n"
   ]
  },
  {
   "cell_type": "code",
   "execution_count": 53,
   "metadata": {},
   "outputs": [
    {
     "name": "stdout",
     "output_type": "stream",
     "text": [
      "n=37, min=98.23399070148605 max=1182.6365323228192, mean=443.2248796323675\n",
      "<tr>\n",
      "<td><img src=\"https://www.brainsharer.org/images/PBG_R.png\"></td>\n",
      "<td><img src=\"https://www.brainsharer.org/images/PBG_R_error.png\"></td>\n",
      "</tr>\n",
      "<tr>\n",
      "<td><img src=\"https://www.brainsharer.org/images/IC.png\"></td>\n",
      "<td><img src=\"https://www.brainsharer.org/images/IC_error.png\"></td>\n",
      "</tr>\n",
      "<tr>\n",
      "<td><img src=\"https://www.brainsharer.org/images/SNC_L.png\"></td>\n",
      "<td><img src=\"https://www.brainsharer.org/images/SNC_L_error.png\"></td>\n",
      "</tr>\n",
      "<tr>\n",
      "<td><img src=\"https://www.brainsharer.org/images/4N_L.png\"></td>\n",
      "<td><img src=\"https://www.brainsharer.org/images/4N_L_error.png\"></td>\n",
      "</tr>\n",
      "<tr>\n",
      "<td><img src=\"https://www.brainsharer.org/images/SNR_R.png\"></td>\n",
      "<td><img src=\"https://www.brainsharer.org/images/SNR_R_error.png\"></td>\n",
      "</tr>\n",
      "<tr>\n",
      "<td><img src=\"https://www.brainsharer.org/images/LC_L.png\"></td>\n",
      "<td><img src=\"https://www.brainsharer.org/images/LC_L_error.png\"></td>\n",
      "</tr>\n",
      "<tr>\n",
      "<td><img src=\"https://www.brainsharer.org/images/LC_R.png\"></td>\n",
      "<td><img src=\"https://www.brainsharer.org/images/LC_R_error.png\"></td>\n",
      "</tr>\n",
      "<tr>\n",
      "<td><img src=\"https://www.brainsharer.org/images/3N_L.png\"></td>\n",
      "<td><img src=\"https://www.brainsharer.org/images/3N_L_error.png\"></td>\n",
      "</tr>\n",
      "<tr>\n",
      "<td><img src=\"https://www.brainsharer.org/images/SC.png\"></td>\n",
      "<td><img src=\"https://www.brainsharer.org/images/SC_error.png\"></td>\n",
      "</tr>\n",
      "<tr>\n",
      "<td><img src=\"https://www.brainsharer.org/images/4N_R.png\"></td>\n",
      "<td><img src=\"https://www.brainsharer.org/images/4N_R_error.png\"></td>\n",
      "</tr>\n",
      "<tr>\n",
      "<td><img src=\"https://www.brainsharer.org/images/PBG_L.png\"></td>\n",
      "<td><img src=\"https://www.brainsharer.org/images/PBG_L_error.png\"></td>\n",
      "</tr>\n",
      "<tr>\n",
      "<td><img src=\"https://www.brainsharer.org/images/3N_R.png\"></td>\n",
      "<td><img src=\"https://www.brainsharer.org/images/3N_R_error.png\"></td>\n",
      "</tr>\n",
      "<tr>\n",
      "<td><img src=\"https://www.brainsharer.org/images/SNR_L.png\"></td>\n",
      "<td><img src=\"https://www.brainsharer.org/images/SNR_L_error.png\"></td>\n",
      "</tr>\n",
      "<tr>\n",
      "<td><img src=\"https://www.brainsharer.org/images/VLL_R.png\"></td>\n",
      "<td><img src=\"https://www.brainsharer.org/images/VLL_R_error.png\"></td>\n",
      "</tr>\n",
      "<tr>\n",
      "<td><img src=\"https://www.brainsharer.org/images/SNC_R.png\"></td>\n",
      "<td><img src=\"https://www.brainsharer.org/images/SNC_R_error.png\"></td>\n",
      "</tr>\n",
      "<tr>\n",
      "<td><img src=\"https://www.brainsharer.org/images/7n_R.png\"></td>\n",
      "<td><img src=\"https://www.brainsharer.org/images/7n_R_error.png\"></td>\n",
      "</tr>\n",
      "<tr>\n",
      "<td><img src=\"https://www.brainsharer.org/images/5N_L.png\"></td>\n",
      "<td><img src=\"https://www.brainsharer.org/images/5N_L_error.png\"></td>\n",
      "</tr>\n",
      "<tr>\n",
      "<td><img src=\"https://www.brainsharer.org/images/RtTg.png\"></td>\n",
      "<td><img src=\"https://www.brainsharer.org/images/RtTg_error.png\"></td>\n",
      "</tr>\n",
      "<tr>\n",
      "<td><img src=\"https://www.brainsharer.org/images/5N_R.png\"></td>\n",
      "<td><img src=\"https://www.brainsharer.org/images/5N_R_error.png\"></td>\n",
      "</tr>\n",
      "<tr>\n",
      "<td><img src=\"https://www.brainsharer.org/images/6N_R.png\"></td>\n",
      "<td><img src=\"https://www.brainsharer.org/images/6N_R_error.png\"></td>\n",
      "</tr>\n",
      "<tr>\n",
      "<td><img src=\"https://www.brainsharer.org/images/6N_L.png\"></td>\n",
      "<td><img src=\"https://www.brainsharer.org/images/6N_L_error.png\"></td>\n",
      "</tr>\n",
      "<tr>\n",
      "<td><img src=\"https://www.brainsharer.org/images/7n_L.png\"></td>\n",
      "<td><img src=\"https://www.brainsharer.org/images/7n_L_error.png\"></td>\n",
      "</tr>\n",
      "<tr>\n",
      "<td><img src=\"https://www.brainsharer.org/images/VLL_L.png\"></td>\n",
      "<td><img src=\"https://www.brainsharer.org/images/VLL_L_error.png\"></td>\n",
      "</tr>\n",
      "<tr>\n",
      "<td><img src=\"https://www.brainsharer.org/images/DC_R.png\"></td>\n",
      "<td><img src=\"https://www.brainsharer.org/images/DC_R_error.png\"></td>\n",
      "</tr>\n",
      "<tr>\n",
      "<td><img src=\"https://www.brainsharer.org/images/DC_L.png\"></td>\n",
      "<td><img src=\"https://www.brainsharer.org/images/DC_L_error.png\"></td>\n",
      "</tr>\n",
      "<tr>\n",
      "<td><img src=\"https://www.brainsharer.org/images/Sp5O_L.png\"></td>\n",
      "<td><img src=\"https://www.brainsharer.org/images/Sp5O_L_error.png\"></td>\n",
      "</tr>\n",
      "<tr>\n",
      "<td><img src=\"https://www.brainsharer.org/images/Sp5O_R.png\"></td>\n",
      "<td><img src=\"https://www.brainsharer.org/images/Sp5O_R_error.png\"></td>\n",
      "</tr>\n",
      "<tr>\n",
      "<td><img src=\"https://www.brainsharer.org/images/AP.png\"></td>\n",
      "<td><img src=\"https://www.brainsharer.org/images/AP_error.png\"></td>\n",
      "</tr>\n",
      "<tr>\n",
      "<td><img src=\"https://www.brainsharer.org/images/7N_L.png\"></td>\n",
      "<td><img src=\"https://www.brainsharer.org/images/7N_L_error.png\"></td>\n",
      "</tr>\n",
      "<tr>\n",
      "<td><img src=\"https://www.brainsharer.org/images/Amb_L.png\"></td>\n",
      "<td><img src=\"https://www.brainsharer.org/images/Amb_L_error.png\"></td>\n",
      "</tr>\n",
      "<tr>\n",
      "<td><img src=\"https://www.brainsharer.org/images/Amb_R.png\"></td>\n",
      "<td><img src=\"https://www.brainsharer.org/images/Amb_R_error.png\"></td>\n",
      "</tr>\n",
      "<tr>\n",
      "<td><img src=\"https://www.brainsharer.org/images/Sp5I_L.png\"></td>\n",
      "<td><img src=\"https://www.brainsharer.org/images/Sp5I_L_error.png\"></td>\n",
      "</tr>\n",
      "<tr>\n",
      "<td><img src=\"https://www.brainsharer.org/images/LRt_L.png\"></td>\n",
      "<td><img src=\"https://www.brainsharer.org/images/LRt_L_error.png\"></td>\n",
      "</tr>\n",
      "<tr>\n",
      "<td><img src=\"https://www.brainsharer.org/images/Sp5I_R.png\"></td>\n",
      "<td><img src=\"https://www.brainsharer.org/images/Sp5I_R_error.png\"></td>\n",
      "</tr>\n",
      "<tr>\n",
      "<td><img src=\"https://www.brainsharer.org/images/Sp5C_L.png\"></td>\n",
      "<td><img src=\"https://www.brainsharer.org/images/Sp5C_L_error.png\"></td>\n",
      "</tr>\n",
      "<tr>\n",
      "<td><img src=\"https://www.brainsharer.org/images/LRt_R.png\"></td>\n",
      "<td><img src=\"https://www.brainsharer.org/images/LRt_R_error.png\"></td>\n",
      "</tr>\n",
      "<tr>\n",
      "<td><img src=\"https://www.brainsharer.org/images/7N_R.png\"></td>\n",
      "<td><img src=\"https://www.brainsharer.org/images/7N_R_error.png\"></td>\n",
      "</tr>\n"
     ]
    }
   ],
   "source": [
    "print(f'n={len(distances)}, min={min(distances)} max={max(distances)}, mean={np.mean(distances)}')\n",
    "ds = {k: v for k, v in sorted(sortme.items(), key=lambda item: item[1])}\n",
    "for structure, d in ds.items():\n",
    "    \n",
    "    #print(f'{structure} distance from Allen={round(d,2)} micrometers')\n",
    "    print('<tr>')\n",
    "    print(f'<td><img src=\"https://www.brainsharer.org/images/{structure}.png\"></td>')\n",
    "    print(f'<td><img src=\"https://www.brainsharer.org/images/{structure}_error.png\"></td>')\n",
    "    print('</tr>')\n"
   ]
  },
  {
   "cell_type": "code",
   "execution_count": null,
   "metadata": {},
   "outputs": [],
   "source": []
  },
  {
   "cell_type": "code",
   "execution_count": null,
   "metadata": {},
   "outputs": [],
   "source": [
    "savepath = os.path.join(atlaspath, 'allen_25um_sagittal_reference.tif')\n",
    "io.imsave(savepath, sagittal)"
   ]
  },
  {
   "cell_type": "code",
   "execution_count": 8,
   "metadata": {},
   "outputs": [],
   "source": [
    "df_midbrain_distance = pd.read_csv(os.path.join(csvpath, 'using_midbrain_distance.csv'))\n",
    "df_midbrain_allen = pd.read_csv(os.path.join(csvpath, 'using_midbrain_allen.csv'))\n",
    "df_midbrain_atlas = pd.read_csv(os.path.join(csvpath, 'using_midbrain_atlas.csv'))"
   ]
  },
  {
   "cell_type": "code",
   "execution_count": null,
   "metadata": {},
   "outputs": [],
   "source": [
    "df_all_distance = pd.read_csv(os.path.join(csvpath, 'using_all_distance.csv'))\n",
    "df_all_allen = pd.read_csv(os.path.join(csvpath, 'using_all_allen.csv'))\n",
    "df_all_atlas = pd.read_csv(os.path.join(csvpath, 'using_all_atlas.csv'))"
   ]
  },
  {
   "cell_type": "code",
   "execution_count": null,
   "metadata": {},
   "outputs": [],
   "source": [
    "df_brainstem_distance = pd.read_csv(os.path.join(csvpath, 'using_brainstem_distance.csv'))\n",
    "df_brainstem_allen = pd.read_csv(os.path.join(csvpath, 'using_brainstem_allen.csv'))\n",
    "df_brainstem_atlas = pd.read_csv(os.path.join(csvpath, 'using_brainstem_atlas.csv'))"
   ]
  },
  {
   "cell_type": "code",
   "execution_count": null,
   "metadata": {},
   "outputs": [],
   "source": [
    "midbrain_distances = df_midbrain_distance.distance\n",
    "all_distances = df_all_distance.distance\n",
    "brainstem_distances = df_brainstem_distance.distance\n",
    "fig, ax = plt.subplots(figsize=(8, 6))\n",
    "columns = [midbrain_distances, all_distances, brainstem_distances]\n",
    "ax.boxplot(columns, patch_artist=True)\n",
    "ax.set_title(\"Distances between the DK atlas and the Allen (um)\")\n",
    "title1 = f\"Using mid-brain\\nn={len(midbrain_distances)}, min={round(min(midbrain_distances))}\"\n",
    "title1 += f\"\\nmax={round(max(midbrain_distances))}, mean={round(np.mean(midbrain_distances))}\"\n",
    "title2 = f\"Using all structures\\nn={len(all_distances)}, min={round(min(all_distances))}\"\n",
    "title2 += f\"\\nmax={round(max(all_distances))}, mean={round(np.mean(all_distances))}\"\n",
    "title3 = f\"Using brainstem structures\\nn={len(brainstem_distances)}, min={round(min(brainstem_distances))}\"\n",
    "title3 += f\"\\nmax={round(max(brainstem_distances))}, mean={round(np.mean(brainstem_distances))}\"\n",
    "plt.xticks([1,2,3], [title1, title2, title3])\n",
    "plt.show()"
   ]
  },
  {
   "cell_type": "code",
   "execution_count": null,
   "metadata": {},
   "outputs": [],
   "source": [
    "len(all_distances), min(all_distances), max(all_distances), np.mean(all_distances)"
   ]
  },
  {
   "cell_type": "code",
   "execution_count": null,
   "metadata": {},
   "outputs": [],
   "source": [
    "for i, row in df_midbrain_distance.iterrows():\n",
    "    print(f'{row[0]} distance={round(row[1],2)}')"
   ]
  },
  {
   "cell_type": "code",
   "execution_count": null,
   "metadata": {
    "scrolled": true
   },
   "outputs": [],
   "source": [
    "for i, row in df_brainstem_distance.iterrows():\n",
    "    print(f'<tr><td>{row[0]}</td> <td>{round(row[1],2)}</td></tr>')"
   ]
  },
  {
   "cell_type": "code",
   "execution_count": null,
   "metadata": {},
   "outputs": [],
   "source": [
    "xmin = 8000\n",
    "xmax = 13000\n",
    "ymin = 2000\n",
    "ymax = 6000\n",
    "zmin = 0\n",
    "zmax = 25*456"
   ]
  },
  {
   "cell_type": "code",
   "execution_count": null,
   "metadata": {},
   "outputs": [],
   "source": [
    "df_midbrain_atlas.head(2)"
   ]
  },
  {
   "cell_type": "code",
   "execution_count": null,
   "metadata": {},
   "outputs": [],
   "source": [
    "for color, label in zip('bg', ['midbrain', 'brainstem']):\n",
    "    allen_subset = df_midbrain_allen[df_midbrain_allen.area == label]\n",
    "    atlas_subset = df_midbrain_atlas[df_midbrain_atlas.area == label]\n",
    "    plt.scatter(allen_subset.X, allen_subset.Y, s=120, marker='^', c=color, label=str('Allen ' + label))\n",
    "    plt.scatter(atlas_subset.X, atlas_subset.Y, s=120, marker='o', c=color, label=str('Atlas ' + label))\n",
    "    plt.xlabel('X')\n",
    "    plt.ylabel('Y')\n",
    "    ax = plt.gca()\n",
    "    ax.set_xlim([xmin, xmax])\n",
    "    ax.set_ylim([ymin, ymax])\n",
    "    ax.invert_yaxis()\n",
    "    #ax.annotate('x', (atlas_subset.X, atlas_subset.Y))\n",
    "    #ax.annotate('x', xy=(atlas_subset.X, atlas_subset.Y))\n",
    "plt.title('Mid-brain Allen/Altas X Y scatter plot')    \n",
    "plt.legend()\n",
    "fig = plt.gcf()\n",
    "fig.set_size_inches(18.5, 10.5)\n",
    "for k, v in df_midbrain_atlas.iterrows():\n",
    "    ax.annotate(v['Structure'],\n",
    "                xy=(v['X'], v['Y']),\n",
    "                xytext=(10, 10), textcoords='offset points',\n",
    "                family='sans-serif', fontsize=10, color='black')"
   ]
  },
  {
   "cell_type": "code",
   "execution_count": null,
   "metadata": {},
   "outputs": [],
   "source": [
    "for color, label in zip('bgr', ['midbrain', 'brainstem']):\n",
    "    allen_subset = df_midbrain_allen[df_midbrain_allen.area == label]\n",
    "    atlas_subset = df_midbrain_atlas[df_midbrain_atlas.area == label]\n",
    "    plt.scatter(allen_subset.X, allen_subset.Z, s=120, marker='^', c=color, label=str('Allen ' + label))\n",
    "    plt.scatter(atlas_subset.X, atlas_subset.Z, s=120, marker='o', c=color, label=str('Atlas ' + label))\n",
    "    plt.xlabel('X')\n",
    "    plt.ylabel('Z')\n",
    "    ax = plt.gca()\n",
    "    ax.set_xlim([xmin, xmax])\n",
    "    #ax.set_ylim([ymin, ymax])\n",
    "    #ax.invert_yaxis()\n",
    "plt.title('Mid-brain Allen/Altas X Z scatter plot')    \n",
    "plt.legend()\n",
    "fig = plt.gcf()\n",
    "fig.set_size_inches(18.5, 10.5)"
   ]
  },
  {
   "cell_type": "code",
   "execution_count": null,
   "metadata": {},
   "outputs": [],
   "source": [
    "for color, label in zip('bgr', ['midbrain', 'brainstem']):\n",
    "    allen_subset = df_midbrain_allen[df_midbrain_allen.area == label]\n",
    "    atlas_subset = df_midbrain_atlas[df_midbrain_atlas.area == label]\n",
    "    plt.scatter(allen_subset.Z, allen_subset.Y, s=120, marker='^', c=color, label=str('Allen ' + label))\n",
    "    plt.scatter(atlas_subset.Z, atlas_subset.Y, s=120, marker='o', c=color, label=str('Atlas ' + label))\n",
    "    plt.xlabel('Z')\n",
    "    plt.ylabel('Y')\n",
    "    ax = plt.gca()\n",
    "    #ax.set_xlim([xmin, xmax])\n",
    "    #ax.set_ylim([ymin, ymax])\n",
    "    ax.invert_yaxis()\n",
    "plt.title('Midbrain Allen/Altas Y Z scatter plot')    \n",
    "plt.legend()\n",
    "fig = plt.gcf()\n",
    "fig.set_size_inches(18.5, 10.5)"
   ]
  },
  {
   "cell_type": "code",
   "execution_count": null,
   "metadata": {},
   "outputs": [],
   "source": [
    "for color, label in zip('bgr', ['midbrain', 'brainstem']):\n",
    "    allen_subset = df_all_allen[df_all_allen.area == label]\n",
    "    atlas_subset = df_all_atlas[df_all_atlas.area == label]\n",
    "    plt.scatter(allen_subset.X, allen_subset.Y, s=120, marker='^', c=color, label=str('Allen ' + label))\n",
    "    plt.scatter(atlas_subset.X, atlas_subset.Y, s=120, marker='o', c=color, label=str('Atlas ' + label))\n",
    "    plt.xlabel('X')\n",
    "    plt.ylabel('Y')\n",
    "    ax = plt.gca()\n",
    "    ax.set_xlim([xmin, xmax])\n",
    "    ax.set_ylim([ymin, ymax])\n",
    "    ax.invert_yaxis()\n",
    "plt.title('All structures - Allen/Altas X Y scatter plot')    \n",
    "plt.legend()\n",
    "plt.legend()\n",
    "fig = plt.gcf()\n",
    "fig.set_size_inches(18.5, 10.5)"
   ]
  },
  {
   "cell_type": "code",
   "execution_count": null,
   "metadata": {},
   "outputs": [],
   "source": [
    "for color, label in zip('bgr', ['midbrain', 'brainstem']):\n",
    "    allen_subset = df_all_allen[df_all_allen.area == label]\n",
    "    atlas_subset = df_all_atlas[df_all_atlas.area == label]\n",
    "    plt.scatter(allen_subset.X, allen_subset.Z, s=120, marker='^', c=color, label=str('Allen ' + label))\n",
    "    plt.scatter(atlas_subset.X, atlas_subset.Z, s=120, marker='o', c=color, label=str('Atlas ' + label))\n",
    "    plt.xlabel('X')\n",
    "    plt.ylabel('Z')\n",
    "    ax = plt.gca()\n",
    "    ax.set_xlim([xmin, xmax])\n",
    "    #ax.set_ylim([ymin, ymax])\n",
    "    #ax.invert_yaxis()\n",
    "plt.title('All structures - Allen/Altas X Z scatter plot')    \n",
    "plt.legend()\n",
    "fig = plt.gcf()\n",
    "fig.set_size_inches(18.5, 10.5)"
   ]
  },
  {
   "cell_type": "code",
   "execution_count": null,
   "metadata": {},
   "outputs": [],
   "source": [
    "for color, label in zip('bgr', ['midbrain', 'brainstem']):\n",
    "    allen_subset = df_all_allen[df_all_allen.area == label]\n",
    "    atlas_subset = df_all_atlas[df_all_atlas.area == label]\n",
    "    plt.scatter(allen_subset.Z, allen_subset.Y, s=120, marker='^', c=color, label=str('Allen ' + label))\n",
    "    plt.scatter(atlas_subset.Z, atlas_subset.Y, s=120, marker='o', c=color, label=str('Atlas ' + label))\n",
    "    plt.xlabel('Z')\n",
    "    plt.ylabel('Y')\n",
    "    ax = plt.gca()\n",
    "    #ax.set_xlim([xmin, xmax])\n",
    "    #ax.set_ylim([ymin, ymax])\n",
    "    ax.invert_yaxis()\n",
    "plt.title('All structures - Allen/Altas Y Z scatter plot')    \n",
    "plt.legend()\n",
    "fig = plt.gcf()\n",
    "fig.set_size_inches(18.5, 10.5)"
   ]
  },
  {
   "cell_type": "code",
   "execution_count": null,
   "metadata": {},
   "outputs": [],
   "source": [
    "# xy\n",
    "for color, label in zip('bgr', ['Left', 'Right', 'Singular']):\n",
    "    allen_subset = df_brainstem_allen[df_brainstem_allen.S == label]\n",
    "    atlas_subset = df_brainstem_atlas[df_brainstem_atlas.S == label]\n",
    "    plt.scatter(allen_subset.X, allen_subset.Y, s=120, marker='^', c=color, label=str('Allen ' + label))\n",
    "    plt.scatter(atlas_subset.X, atlas_subset.Y, s=120, marker='o', c=color, label=str('Atlas ' + label))\n",
    "    plt.xlabel('X')\n",
    "    plt.ylabel('Y')\n",
    "    ax = plt.gca()\n",
    "    ax.set_xlim([xmin, xmax])\n",
    "    ax.set_ylim([ymin, ymax])\n",
    "    ax.invert_yaxis()\n",
    "plt.title('Brainstem Allen/Altas X Y scatter plot')    \n",
    "plt.legend()\n",
    "fig = plt.gcf()\n",
    "fig.set_size_inches(18.5, 10.5)"
   ]
  },
  {
   "cell_type": "code",
   "execution_count": null,
   "metadata": {},
   "outputs": [],
   "source": [
    "# xz\n",
    "for color, label in zip('bgr', ['Left', 'Right', 'Singular']):\n",
    "    allen_subset = df_brainstem_allen[df_brainstem_allen.S == label]\n",
    "    atlas_subset = df_brainstem_atlas[df_brainstem_atlas.S == label]\n",
    "    plt.scatter(allen_subset.X, allen_subset.Z, s=120, marker='^', c=color, label=str('Allen ' + label))\n",
    "    plt.scatter(atlas_subset.X, atlas_subset.Z, s=120, marker='o', c=color, label=str('Atlas ' + label))\n",
    "    plt.xlabel('X')\n",
    "    plt.ylabel('Z')\n",
    "    ax = plt.gca()\n",
    "    ax.set_xlim([xmin, xmax])\n",
    "    #ax.set_ylim([ymin, ymax])\n",
    "    #ax.invert_yaxis()\n",
    "plt.title('Brainstem Allen/Altas X Z scatter plot')    \n",
    "plt.legend()\n",
    "fig = plt.gcf()\n",
    "fig.set_size_inches(18.5, 10.5)"
   ]
  },
  {
   "cell_type": "code",
   "execution_count": null,
   "metadata": {},
   "outputs": [],
   "source": [
    "# yz\n",
    "for color, label in zip('bgr', ['Left', 'Right', 'Singular']):\n",
    "    allen_subset = df_brainstem_allen[df_brainstem_allen.S == label]\n",
    "    atlas_subset = df_brainstem_atlas[df_brainstem_atlas.S == label]\n",
    "    plt.scatter(allen_subset.Z, allen_subset.Y, s=120, marker='^', c=color, label=str('Allen ' + label))\n",
    "    plt.scatter(atlas_subset.Z, atlas_subset.Y, s=120, marker='o', c=color, label=str('Atlas ' + label))\n",
    "    plt.xlabel('Z')\n",
    "    plt.ylabel('Y')\n",
    "    ax = plt.gca()\n",
    "    #ax.set_xlim([xmin, xmax])\n",
    "    #ax.set_ylim([ymin, ymax])\n",
    "    ax.invert_yaxis()\n",
    "plt.title('Brainstem Allen/Altas Y Z scatter plot')    \n",
    "plt.legend()\n",
    "fig = plt.gcf()\n",
    "fig.set_size_inches(18.5, 10.5)"
   ]
  }
 ],
 "metadata": {
  "kernelspec": {
   "display_name": "Python 3",
   "language": "python",
   "name": "python3"
  },
  "language_info": {
   "codemirror_mode": {
    "name": "ipython",
    "version": 3
   },
   "file_extension": ".py",
   "mimetype": "text/x-python",
   "name": "python",
   "nbconvert_exporter": "python",
   "pygments_lexer": "ipython3",
   "version": "3.10.12"
  }
 },
 "nbformat": 4,
 "nbformat_minor": 4
}
