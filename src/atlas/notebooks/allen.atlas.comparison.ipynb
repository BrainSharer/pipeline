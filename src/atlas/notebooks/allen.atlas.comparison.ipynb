{
 "cells": [
  {
   "cell_type": "code",
   "execution_count": null,
   "metadata": {},
   "outputs": [],
   "source": [
    "import os\n",
    "import sys\n",
    "import matplotlib.pyplot as plt\n",
    "import pandas as pd\n",
    "import numpy as np\n",
    "from skimage import io\n",
    "import cv2"
   ]
  },
  {
   "cell_type": "code",
   "execution_count": null,
   "metadata": {},
   "outputs": [],
   "source": [
    "csvpath = '/net/birdstore/Active_Atlas_Data/data_root/atlas_data/atlasV8/csv'\n",
    "distancepath = '/net/birdstore/Active_Atlas_Data/data_root/atlas_data/atlasV8/distance'\n",
    "atlaspath = '/net/birdstore/Active_Atlas_Data/data_root/brains_info/registration'"
   ]
  },
  {
   "cell_type": "code",
   "execution_count": null,
   "metadata": {},
   "outputs": [],
   "source": [
    "allen_path = os.path.join(atlaspath, 'allen_25um_sagittal_reference.tif')\n",
    "allen_img = io.imread(allen_path)\n",
    "allen_img.dtype, allen_img.shape"
   ]
  },
  {
   "cell_type": "code",
   "execution_count": null,
   "metadata": {},
   "outputs": [],
   "source": [
    "sagittal = np.swapaxes(allen_img,0,2)\n",
    "sagittal = np.rot90(sagittal, axes=(0, 1))\n",
    "sagittal = np.flip(sagittal, axis=1)\n",
    "sagittal = np.flip(sagittal)"
   ]
  },
  {
   "cell_type": "code",
   "execution_count": null,
   "metadata": {},
   "outputs": [],
   "source": [
    "len(df_midbrain_allen)"
   ]
  },
  {
   "cell_type": "code",
   "execution_count": null,
   "metadata": {},
   "outputs": [],
   "source": [
    "for (i1,row1), (i2,row2) in zip(df_midbrain_allen.iterrows(), df_midbrain_atlas.iterrows() ): \n",
    "    structure = row1['Structure']\n",
    "    if 'SC' in structure:\n",
    "        x1 = row1['X'] // 25\n",
    "        y1 = row1['Y'] // 25\n",
    "        z1 = int(row1['Z'] // 25)\n",
    "        x2 = row2['X'] // 25\n",
    "        y2 = row2['Y'] // 25\n",
    "        z2 = int(row2['Z'] // 25)\n",
    "        xdistance = abs(row1['X'] - row2['X'])\n",
    "        ydistance = abs(row1['Y'] - row2['Y'])\n",
    "        zdistance = abs(row1['Z'] - row2['Z'])\n",
    "        slice = sagittal[:,:,z1]\n",
    "        title = f'{structure} at z={z1}\\n'\n",
    "        title += f'x distance={round(xdistance,2)} um\\n'\n",
    "        title += f'y distance={round(ydistance,2)} um\\n'\n",
    "        title += f'z distance={round(zdistance,2)} um'\n",
    "        plt.title(title)\n",
    "        plt.scatter(x1, y1, s=100, marker='^', c='b', label=str('Allen'))\n",
    "        plt.scatter(x2, y2, s=100, marker='o', c='g', label=str('Atlas'))\n",
    "        plt.imshow(slice, cmap='gray')\n",
    "        plt.legend()\n",
    "        fig = plt.gcf()\n",
    "        fig.set_size_inches(18.5, 10.5)\n"
   ]
  },
  {
   "cell_type": "code",
   "execution_count": null,
   "metadata": {},
   "outputs": [],
   "source": [
    "for (i1,row1), (i2,row2) in zip(df_midbrain_allen.iterrows(), df_midbrain_atlas.iterrows() ): \n",
    "    structure = row1['Structure']\n",
    "\n",
    "    fig = plt.figure()\n",
    "    plt.rcParams[\"figure.figsize\"] = [10, 6]\n",
    "    x1 = row1['X'] // 25\n",
    "    y1 = row1['Y'] // 25\n",
    "    z1 = int(row1['Z'] // 25)\n",
    "    x2 = row2['X'] // 25\n",
    "    y2 = row2['Y'] // 25\n",
    "    z2 = int(row2['Z'] // 25)\n",
    "    xdistance = abs(row1['X'] - row2['X'])\n",
    "    ydistance = abs(row1['Y'] - row2['Y'])\n",
    "    zdistance = abs(row1['Z'] - row2['Z'])\n",
    "    slice = sagittal[:,:,z1]\n",
    "    title = f'{structure} at z={z1}\\n'\n",
    "    title += f'x distance={round(xdistance,2)} um\\n'\n",
    "    title += f'y distance={round(ydistance,2)} um\\n'\n",
    "    title += f'z distance={round(zdistance,2)} um'\n",
    "    plt.title(title)\n",
    "    plt.scatter(x1, y1, s=100, marker='^', c='b', label=str('Allen'))\n",
    "    plt.scatter(x2, y2, s=100, marker='o', c='g', label=str('Atlas'))\n",
    "    plt.imshow(slice, cmap='gray')\n",
    "    plt.legend()\n",
    "    \n",
    "    plt.close()\n",
    "    outpath = os.path.join(distancepath, f'{structure}.png')\n",
    "    fig.savefig(outpath, bbox_inches=\"tight\")\n"
   ]
  },
  {
   "cell_type": "code",
   "execution_count": null,
   "metadata": {},
   "outputs": [],
   "source": [
    "savepath = os.path.join(atlaspath, 'allen_25um_sagittal_reference.tif')\n",
    "io.imsave(savepath, sagittal)"
   ]
  },
  {
   "cell_type": "code",
   "execution_count": null,
   "metadata": {},
   "outputs": [],
   "source": [
    "df_midbrain_distance = pd.read_csv(os.path.join(csvpath, 'using_midbrain_distance.csv'))\n",
    "df_midbrain_allen = pd.read_csv(os.path.join(csvpath, 'using_midbrain_allen.csv'))\n",
    "df_midbrain_atlas = pd.read_csv(os.path.join(csvpath, 'using_midbrain_atlas.csv'))"
   ]
  },
  {
   "cell_type": "code",
   "execution_count": null,
   "metadata": {},
   "outputs": [],
   "source": [
    "df_all_distance = pd.read_csv(os.path.join(csvpath, 'using_all_distance.csv'))\n",
    "df_all_allen = pd.read_csv(os.path.join(csvpath, 'using_all_allen.csv'))\n",
    "df_all_atlas = pd.read_csv(os.path.join(csvpath, 'using_all_atlas.csv'))"
   ]
  },
  {
   "cell_type": "code",
   "execution_count": null,
   "metadata": {},
   "outputs": [],
   "source": [
    "df_brainstem_distance = pd.read_csv(os.path.join(csvpath, 'using_brainstem_distance.csv'))\n",
    "df_brainstem_allen = pd.read_csv(os.path.join(csvpath, 'using_brainstem_allen.csv'))\n",
    "df_brainstem_atlas = pd.read_csv(os.path.join(csvpath, 'using_brainstem_atlas.csv'))"
   ]
  },
  {
   "cell_type": "code",
   "execution_count": null,
   "metadata": {},
   "outputs": [],
   "source": [
    "midbrain_distances = df_midbrain_distance.distance\n",
    "all_distances = df_all_distance.distance\n",
    "brainstem_distances = df_brainstem_distance.distance\n",
    "fig, ax = plt.subplots(figsize=(8, 6))\n",
    "columns = [midbrain_distances, all_distances, brainstem_distances]\n",
    "ax.boxplot(columns, patch_artist=True)\n",
    "ax.set_title(\"Distances between the DK atlas and the Allen (um)\")\n",
    "title1 = f\"Using mid-brain\\nn={len(midbrain_distances)}, min={round(min(midbrain_distances))}\"\n",
    "title1 += f\"\\nmax={round(max(midbrain_distances))}, mean={round(np.mean(midbrain_distances))}\"\n",
    "title2 = f\"Using all structures\\nn={len(all_distances)}, min={round(min(all_distances))}\"\n",
    "title2 += f\"\\nmax={round(max(all_distances))}, mean={round(np.mean(all_distances))}\"\n",
    "title3 = f\"Using brainstem structures\\nn={len(brainstem_distances)}, min={round(min(brainstem_distances))}\"\n",
    "title3 += f\"\\nmax={round(max(brainstem_distances))}, mean={round(np.mean(brainstem_distances))}\"\n",
    "plt.xticks([1,2,3], [title1, title2, title3])\n",
    "plt.show()"
   ]
  },
  {
   "cell_type": "code",
   "execution_count": null,
   "metadata": {},
   "outputs": [],
   "source": [
    "len(all_distances), min(all_distances), max(all_distances), np.mean(all_distances)"
   ]
  },
  {
   "cell_type": "code",
   "execution_count": null,
   "metadata": {},
   "outputs": [],
   "source": [
    "for i, row in df_midbrain_distance.iterrows():\n",
    "    print(f'{row[0]} distance={round(row[1],2)}')"
   ]
  },
  {
   "cell_type": "code",
   "execution_count": null,
   "metadata": {
    "scrolled": true
   },
   "outputs": [],
   "source": [
    "for i, row in df_brainstem_distance.iterrows():\n",
    "    print(f'<tr><td>{row[0]}</td> <td>{round(row[1],2)}</td></tr>')"
   ]
  },
  {
   "cell_type": "code",
   "execution_count": null,
   "metadata": {},
   "outputs": [],
   "source": [
    "xmin = 8000\n",
    "xmax = 13000\n",
    "ymin = 2000\n",
    "ymax = 6000\n",
    "zmin = 0\n",
    "zmax = 25*456"
   ]
  },
  {
   "cell_type": "code",
   "execution_count": null,
   "metadata": {},
   "outputs": [],
   "source": [
    "df_midbrain_atlas.head(2)"
   ]
  },
  {
   "cell_type": "code",
   "execution_count": null,
   "metadata": {},
   "outputs": [],
   "source": [
    "for color, label in zip('bg', ['midbrain', 'brainstem']):\n",
    "    allen_subset = df_midbrain_allen[df_midbrain_allen.area == label]\n",
    "    atlas_subset = df_midbrain_atlas[df_midbrain_atlas.area == label]\n",
    "    plt.scatter(allen_subset.X, allen_subset.Y, s=120, marker='^', c=color, label=str('Allen ' + label))\n",
    "    plt.scatter(atlas_subset.X, atlas_subset.Y, s=120, marker='o', c=color, label=str('Atlas ' + label))\n",
    "    plt.xlabel('X')\n",
    "    plt.ylabel('Y')\n",
    "    ax = plt.gca()\n",
    "    ax.set_xlim([xmin, xmax])\n",
    "    ax.set_ylim([ymin, ymax])\n",
    "    ax.invert_yaxis()\n",
    "    #ax.annotate('x', (atlas_subset.X, atlas_subset.Y))\n",
    "    #ax.annotate('x', xy=(atlas_subset.X, atlas_subset.Y))\n",
    "plt.title('Mid-brain Allen/Altas X Y scatter plot')    \n",
    "plt.legend()\n",
    "fig = plt.gcf()\n",
    "fig.set_size_inches(18.5, 10.5)\n",
    "for k, v in df_midbrain_atlas.iterrows():\n",
    "    ax.annotate(v['Structure'],\n",
    "                xy=(v['X'], v['Y']),\n",
    "                xytext=(10, 10), textcoords='offset points',\n",
    "                family='sans-serif', fontsize=10, color='black')"
   ]
  },
  {
   "cell_type": "code",
   "execution_count": null,
   "metadata": {},
   "outputs": [],
   "source": [
    "for color, label in zip('bgr', ['midbrain', 'brainstem']):\n",
    "    allen_subset = df_midbrain_allen[df_midbrain_allen.area == label]\n",
    "    atlas_subset = df_midbrain_atlas[df_midbrain_atlas.area == label]\n",
    "    plt.scatter(allen_subset.X, allen_subset.Z, s=120, marker='^', c=color, label=str('Allen ' + label))\n",
    "    plt.scatter(atlas_subset.X, atlas_subset.Z, s=120, marker='o', c=color, label=str('Atlas ' + label))\n",
    "    plt.xlabel('X')\n",
    "    plt.ylabel('Z')\n",
    "    ax = plt.gca()\n",
    "    ax.set_xlim([xmin, xmax])\n",
    "    #ax.set_ylim([ymin, ymax])\n",
    "    #ax.invert_yaxis()\n",
    "plt.title('Mid-brain Allen/Altas X Z scatter plot')    \n",
    "plt.legend()\n",
    "fig = plt.gcf()\n",
    "fig.set_size_inches(18.5, 10.5)"
   ]
  },
  {
   "cell_type": "code",
   "execution_count": null,
   "metadata": {},
   "outputs": [],
   "source": [
    "for color, label in zip('bgr', ['midbrain', 'brainstem']):\n",
    "    allen_subset = df_midbrain_allen[df_midbrain_allen.area == label]\n",
    "    atlas_subset = df_midbrain_atlas[df_midbrain_atlas.area == label]\n",
    "    plt.scatter(allen_subset.Z, allen_subset.Y, s=120, marker='^', c=color, label=str('Allen ' + label))\n",
    "    plt.scatter(atlas_subset.Z, atlas_subset.Y, s=120, marker='o', c=color, label=str('Atlas ' + label))\n",
    "    plt.xlabel('Z')\n",
    "    plt.ylabel('Y')\n",
    "    ax = plt.gca()\n",
    "    #ax.set_xlim([xmin, xmax])\n",
    "    #ax.set_ylim([ymin, ymax])\n",
    "    ax.invert_yaxis()\n",
    "plt.title('Midbrain Allen/Altas Y Z scatter plot')    \n",
    "plt.legend()\n",
    "fig = plt.gcf()\n",
    "fig.set_size_inches(18.5, 10.5)"
   ]
  },
  {
   "cell_type": "code",
   "execution_count": null,
   "metadata": {},
   "outputs": [],
   "source": [
    "for color, label in zip('bgr', ['midbrain', 'brainstem']):\n",
    "    allen_subset = df_all_allen[df_all_allen.area == label]\n",
    "    atlas_subset = df_all_atlas[df_all_atlas.area == label]\n",
    "    plt.scatter(allen_subset.X, allen_subset.Y, s=120, marker='^', c=color, label=str('Allen ' + label))\n",
    "    plt.scatter(atlas_subset.X, atlas_subset.Y, s=120, marker='o', c=color, label=str('Atlas ' + label))\n",
    "    plt.xlabel('X')\n",
    "    plt.ylabel('Y')\n",
    "    ax = plt.gca()\n",
    "    ax.set_xlim([xmin, xmax])\n",
    "    ax.set_ylim([ymin, ymax])\n",
    "    ax.invert_yaxis()\n",
    "plt.title('All structures - Allen/Altas X Y scatter plot')    \n",
    "plt.legend()\n",
    "plt.legend()\n",
    "fig = plt.gcf()\n",
    "fig.set_size_inches(18.5, 10.5)"
   ]
  },
  {
   "cell_type": "code",
   "execution_count": null,
   "metadata": {},
   "outputs": [],
   "source": [
    "for color, label in zip('bgr', ['midbrain', 'brainstem']):\n",
    "    allen_subset = df_all_allen[df_all_allen.area == label]\n",
    "    atlas_subset = df_all_atlas[df_all_atlas.area == label]\n",
    "    plt.scatter(allen_subset.X, allen_subset.Z, s=120, marker='^', c=color, label=str('Allen ' + label))\n",
    "    plt.scatter(atlas_subset.X, atlas_subset.Z, s=120, marker='o', c=color, label=str('Atlas ' + label))\n",
    "    plt.xlabel('X')\n",
    "    plt.ylabel('Z')\n",
    "    ax = plt.gca()\n",
    "    ax.set_xlim([xmin, xmax])\n",
    "    #ax.set_ylim([ymin, ymax])\n",
    "    #ax.invert_yaxis()\n",
    "plt.title('All structures - Allen/Altas X Z scatter plot')    \n",
    "plt.legend()\n",
    "fig = plt.gcf()\n",
    "fig.set_size_inches(18.5, 10.5)"
   ]
  },
  {
   "cell_type": "code",
   "execution_count": null,
   "metadata": {},
   "outputs": [],
   "source": [
    "for color, label in zip('bgr', ['midbrain', 'brainstem']):\n",
    "    allen_subset = df_all_allen[df_all_allen.area == label]\n",
    "    atlas_subset = df_all_atlas[df_all_atlas.area == label]\n",
    "    plt.scatter(allen_subset.Z, allen_subset.Y, s=120, marker='^', c=color, label=str('Allen ' + label))\n",
    "    plt.scatter(atlas_subset.Z, atlas_subset.Y, s=120, marker='o', c=color, label=str('Atlas ' + label))\n",
    "    plt.xlabel('Z')\n",
    "    plt.ylabel('Y')\n",
    "    ax = plt.gca()\n",
    "    #ax.set_xlim([xmin, xmax])\n",
    "    #ax.set_ylim([ymin, ymax])\n",
    "    ax.invert_yaxis()\n",
    "plt.title('All structures - Allen/Altas Y Z scatter plot')    \n",
    "plt.legend()\n",
    "fig = plt.gcf()\n",
    "fig.set_size_inches(18.5, 10.5)"
   ]
  },
  {
   "cell_type": "code",
   "execution_count": null,
   "metadata": {},
   "outputs": [],
   "source": [
    "# xy\n",
    "for color, label in zip('bgr', ['Left', 'Right', 'Singular']):\n",
    "    allen_subset = df_brainstem_allen[df_brainstem_allen.S == label]\n",
    "    atlas_subset = df_brainstem_atlas[df_brainstem_atlas.S == label]\n",
    "    plt.scatter(allen_subset.X, allen_subset.Y, s=120, marker='^', c=color, label=str('Allen ' + label))\n",
    "    plt.scatter(atlas_subset.X, atlas_subset.Y, s=120, marker='o', c=color, label=str('Atlas ' + label))\n",
    "    plt.xlabel('X')\n",
    "    plt.ylabel('Y')\n",
    "    ax = plt.gca()\n",
    "    ax.set_xlim([xmin, xmax])\n",
    "    ax.set_ylim([ymin, ymax])\n",
    "    ax.invert_yaxis()\n",
    "plt.title('Brainstem Allen/Altas X Y scatter plot')    \n",
    "plt.legend()\n",
    "fig = plt.gcf()\n",
    "fig.set_size_inches(18.5, 10.5)"
   ]
  },
  {
   "cell_type": "code",
   "execution_count": null,
   "metadata": {},
   "outputs": [],
   "source": [
    "# xz\n",
    "for color, label in zip('bgr', ['Left', 'Right', 'Singular']):\n",
    "    allen_subset = df_brainstem_allen[df_brainstem_allen.S == label]\n",
    "    atlas_subset = df_brainstem_atlas[df_brainstem_atlas.S == label]\n",
    "    plt.scatter(allen_subset.X, allen_subset.Z, s=120, marker='^', c=color, label=str('Allen ' + label))\n",
    "    plt.scatter(atlas_subset.X, atlas_subset.Z, s=120, marker='o', c=color, label=str('Atlas ' + label))\n",
    "    plt.xlabel('X')\n",
    "    plt.ylabel('Z')\n",
    "    ax = plt.gca()\n",
    "    ax.set_xlim([xmin, xmax])\n",
    "    #ax.set_ylim([ymin, ymax])\n",
    "    #ax.invert_yaxis()\n",
    "plt.title('Brainstem Allen/Altas X Z scatter plot')    \n",
    "plt.legend()\n",
    "fig = plt.gcf()\n",
    "fig.set_size_inches(18.5, 10.5)"
   ]
  },
  {
   "cell_type": "code",
   "execution_count": null,
   "metadata": {},
   "outputs": [],
   "source": [
    "# yz\n",
    "for color, label in zip('bgr', ['Left', 'Right', 'Singular']):\n",
    "    allen_subset = df_brainstem_allen[df_brainstem_allen.S == label]\n",
    "    atlas_subset = df_brainstem_atlas[df_brainstem_atlas.S == label]\n",
    "    plt.scatter(allen_subset.Z, allen_subset.Y, s=120, marker='^', c=color, label=str('Allen ' + label))\n",
    "    plt.scatter(atlas_subset.Z, atlas_subset.Y, s=120, marker='o', c=color, label=str('Atlas ' + label))\n",
    "    plt.xlabel('Z')\n",
    "    plt.ylabel('Y')\n",
    "    ax = plt.gca()\n",
    "    #ax.set_xlim([xmin, xmax])\n",
    "    #ax.set_ylim([ymin, ymax])\n",
    "    ax.invert_yaxis()\n",
    "plt.title('Brainstem Allen/Altas Y Z scatter plot')    \n",
    "plt.legend()\n",
    "fig = plt.gcf()\n",
    "fig.set_size_inches(18.5, 10.5)"
   ]
  }
 ],
 "metadata": {
  "kernelspec": {
   "display_name": "Python 3 (ipykernel)",
   "language": "python",
   "name": "python3"
  },
  "language_info": {
   "codemirror_mode": {
    "name": "ipython",
    "version": 3
   },
   "file_extension": ".py",
   "mimetype": "text/x-python",
   "name": "python",
   "nbconvert_exporter": "python",
   "pygments_lexer": "ipython3",
   "version": "3.10.12"
  }
 },
 "nbformat": 4,
 "nbformat_minor": 4
}
