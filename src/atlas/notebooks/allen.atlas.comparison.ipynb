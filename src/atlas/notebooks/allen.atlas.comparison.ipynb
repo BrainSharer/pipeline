{
 "cells": [
  {
   "cell_type": "code",
   "execution_count": 1,
   "metadata": {},
   "outputs": [
    {
     "name": "stdout",
     "output_type": "stream",
     "text": [
      "/home/eddyod/programming/preprocessing-pipeline/src\n"
     ]
    }
   ],
   "source": [
    "import os\n",
    "import sys\n",
    "import matplotlib.pyplot as plt\n",
    "import pandas as pd\n",
    "import numpy as np\n",
    "from skimage import io\n",
    "import cv2\n",
    "from itertools import chain, combinations\n",
    "\n",
    "from pathlib import Path\n",
    "\n",
    "PIPELINE_ROOT = Path('../src').resolve().parent.parent\n",
    "sys.path.append(PIPELINE_ROOT.as_posix())\n",
    "print(PIPELINE_ROOT)\n",
    "\n",
    "from library.registration.brain_structure_manager import BrainStructureManager\n",
    "from library.registration.brain_merger import BrainMerger\n",
    "from library.registration.algorithm import umeyama"
   ]
  },
  {
   "cell_type": "code",
   "execution_count": 2,
   "metadata": {},
   "outputs": [],
   "source": [
    "def calculate_distance(com1, com2):\n",
    "    return (np.linalg.norm(com1 - com2))\n",
    "def brain_to_atlas_transform(brain_coord, r, t):\n",
    "    brain_coord = np.array(brain_coord).reshape(3, 1) # Convert to a column vector\n",
    "    atlas_coord = r @ brain_coord + t\n",
    "    return atlas_coord.T[0] # Convert back to a row vector\n",
    "\n",
    "def powerset(iterable):\n",
    "    \"powerset([1,2,3]) --> () (1,) (2,) (3,) (1,2) (1,3) (2,3) (1,2,3)\"\n",
    "    s = list(iterable)\n",
    "    return chain.from_iterable(combinations(s, r) for r in range(6, len(s)+1))"
   ]
  },
  {
   "cell_type": "code",
   "execution_count": 17,
   "metadata": {},
   "outputs": [],
   "source": [
    "animal = 'Atlas'\n",
    "brainManager = BrainStructureManager(animal)\n",
    "brainManager.fixed_brain = BrainStructureManager('Allen')\n",
    "brainManager.com_annotator_id = 1\n",
    "brainManager.fixed_brain.com_annotator_id = 1\n",
    "testing_structures = {'3N_L','3N_R','4N_L','4N_R','IC','LC_L','LC_R','PBG_L','PBG_R','SC', 'SNC_L','SNC_R','SNR_L','SNR_R'}\n",
    "#testing_structures = {'3N_L','3N_R','4N_L'}\n",
    "moving_coms = brainManager.get_coms(annotator_id=1)\n",
    "allen_coms = brainManager.fixed_brain.get_coms(annotator_id=1)\n",
    "allen_atlas_keys = sorted(allen_coms.keys() & moving_coms.keys())\n",
    "allen_point_dict = {s:allen_coms[s] for s in allen_atlas_keys}\n",
    "moving_point_dict = {s:moving_coms[s] for s in allen_atlas_keys}\n",
    "common_keys = sorted(allen_coms.keys() & moving_coms.keys())"
   ]
  },
  {
   "cell_type": "code",
   "execution_count": 18,
   "metadata": {},
   "outputs": [
    {
     "name": "stdout",
     "output_type": "stream",
     "text": [
      "CPU times: user 1.35 ms, sys: 261 µs, total: 1.61 ms\n",
      "Wall time: 1.62 ms\n"
     ]
    }
   ],
   "source": [
    "%%time\n",
    "combos = list(powerset(testing_structures))"
   ]
  },
  {
   "cell_type": "code",
   "execution_count": 19,
   "metadata": {},
   "outputs": [
    {
     "name": "stdout",
     "output_type": "stream",
     "text": [
      "reflection detected\n",
      "reflection detected\n",
      "reflection detected\n",
      "reflection detected\n",
      "min of means = 363.26613162078104\n"
     ]
    }
   ],
   "source": [
    "means = []\n",
    "for i, combo in enumerate(combos):\n",
    "    common_keys = sorted(allen_coms.keys() & moving_coms.keys() & set(combo))\n",
    "    allen_points = np.array([allen_coms[p] for p in common_keys])\n",
    "    moving_points = np.array([moving_coms[p] for p in common_keys])\n",
    "    R, t = umeyama(moving_points.T, allen_points.T)\n",
    "    distances = []\n",
    "    for structure in allen_atlas_keys:\n",
    "        (x,y,z) = allen_point_dict[structure]\n",
    "        allen_point = np.array([x,y,z])  \n",
    "        moving_point = np.array(moving_point_dict[structure])\n",
    "        reg_point = brain_to_atlas_transform(moving_point, R, t)\n",
    "        d = calculate_distance(allen_point, reg_point)\n",
    "        distances.append(d)\n",
    "\n",
    "    #print(f'n={len(distances)}, min={min(distances)} max={max(distances)}, mean={np.mean(distances)}')\n",
    "    means.append(np.mean(distances))\n",
    "print(f'min of means = {min(means)}')\n",
    "\n"
   ]
  },
  {
   "cell_type": "code",
   "execution_count": 14,
   "metadata": {},
   "outputs": [
    {
     "data": {
      "text/plain": [
       "((12, 3), (12, 3))"
      ]
     },
     "execution_count": 14,
     "metadata": {},
     "output_type": "execute_result"
    }
   ],
   "source": [
    "allen_points = np.array([allen_coms[p] for p in testing_structures])\n",
    "moving_points = np.array([moving_coms[p] for p in testing_structures])\n",
    "allen_points.shape, moving_points.shape"
   ]
  },
  {
   "cell_type": "code",
   "execution_count": 15,
   "metadata": {},
   "outputs": [
    {
     "data": {
      "text/plain": [
       "array([[-2122.24353486],\n",
       "       [-1507.35522247],\n",
       "       [  -31.72962935]])"
      ]
     },
     "execution_count": 15,
     "metadata": {},
     "output_type": "execute_result"
    }
   ],
   "source": [
    "R, t = umeyama(moving_points.T, allen_points.T)\n",
    "t"
   ]
  },
  {
   "cell_type": "code",
   "execution_count": 16,
   "metadata": {},
   "outputs": [
    {
     "name": "stdout",
     "output_type": "stream",
     "text": [
      "n=37, min=94.96455033162336 max=1159.139634181129, mean=506.3180044233738\n",
      "LC_R 94.96 (array([68.61, 41.88, 50.57]), 'X')\n",
      "3N_L 126.6 (array([ 43.22, 114.32,  33.01]), 'Y')\n",
      "4N_L 135.4 (array([ 22.11, 115.38,  67.31]), 'Y')\n",
      "4N_R 154.23 (array([  9.82, 153.89,   3.03]), 'Y')\n",
      "3N_R 156.94 (array([ 17.12, 155.88,   6.13]), 'Y')\n",
      "LC_L 169.29 (array([ 44.43,  89.62, 136.58]), 'Z')\n",
      "SNR_R 207.46 (array([ 77.76, 179.48,  69.12]), 'Y')\n",
      "PBG_R 221.81 (array([119.44, 159.94,  96.7 ]), 'Y')\n",
      "IC 222.64 (array([ 60.75, 195.84,  86.76]), 'Y')\n",
      "SNR_L 249.26 (array([148.43, 200.03,   9.26]), 'Y')\n",
      "5N_L 286.17 (array([191.88, 193.86,  86.57]), 'Y')\n",
      "PBG_L 290.71 (array([120.81, 237.04, 117.18]), 'Y')\n",
      "5N_R 326.79 (array([204.02, 254.98,  12.36]), 'Y')\n",
      "SNC_L 329.43 (array([ 87.49, 241.33, 206.47]), 'Y')\n",
      "7n_R 336.46 (array([265.73, 152.19, 139.38]), 'X')\n",
      "7n_L 355.54 (array([234.26,  95.49, 249.82]), 'Z')\n",
      "SNC_R 360.22 (array([176.87, 171.15, 263.03]), 'Z')\n",
      "6N_R 368.72 (array([344.3 ,  99.55,  86.61]), 'X')\n",
      "6N_L 369.55 (array([320.46, 128.13, 132.13]), 'X')\n",
      "VLL_R 462.23 (array([ 87.52, 399.91, 214.64]), 'Y')\n",
      "Sp5O_L 550.34 (array([406.62, 284.47, 237.93]), 'X')\n",
      "DC_L 567.82 (array([304.45, 404.27, 257.48]), 'Y')\n",
      "Amb_L 589.53 (array([278.9 , 471.63, 217.54]), 'Y')\n",
      "RtTg 601.03 (array([ 32.84, 574.23, 174.42]), 'Y')\n",
      "VLL_L 604.9 (array([138.75, 494.09, 320.21]), 'Y')\n",
      "AP 605.79 (array([532.83,  14.5 , 287.87]), 'X')\n",
      "DC_R 657.5 (array([119.84, 625.99, 161.49]), 'Y')\n",
      "Sp5O_R 686.3 (array([497.45, 470.95,  41.92]), 'X')\n",
      "Amb_R 732.87 (array([349.36, 643.93,  19.9 ]), 'Y')\n",
      "7N_L 813.03 (array([126.64, 789.88, 145.19]), 'Y')\n",
      "SC 877.25 (array([234.42, 845.35,   2.56]), 'Y')\n",
      "LRt_L 929.92 (array([772.69, 476.55, 201.54]), 'X')\n",
      "7N_R 958.92 (array([253.52, 896.35, 227.62]), 'Y')\n",
      "LRt_R 1025.35 (array([754.58, 688.49,  89.07]), 'X')\n",
      "Sp5I_L 1029.79 (array([897.58, 386.18, 325.08]), 'X')\n",
      "Sp5I_R 1119.86 (array([897.77, 669.4 ,   2.37]), 'X')\n",
      "Sp5C_L 1159.14 (array([1117.25,  251.76,  178.81]), 'X')\n"
     ]
    }
   ],
   "source": [
    "distances = []\n",
    "sortme = {}\n",
    "diffs = {}\n",
    "diff_dict = {0:'X', 1:'Y',2:'Z'}\n",
    "for structure in allen_atlas_keys:\n",
    "    (x,y,z) = allen_point_dict[structure]\n",
    "    allen_point = np.array([x,y,z])  \n",
    "    moving_point = np.array(moving_point_dict[structure])\n",
    "    reg_point = brain_to_atlas_transform(moving_point, R, t)\n",
    "    diff = np.round(abs(allen_point - reg_point),2)\n",
    "    mx = np.argmax(diff)\n",
    "    diffs[structure] = (diff, diff_dict[mx])\n",
    "    d = calculate_distance(allen_point, reg_point)\n",
    "    distances.append(d)\n",
    "    sortme[structure] = d\n",
    "\n",
    "print(f'n={len(distances)}, min={min(distances)} max={max(distances)}, mean={np.mean(distances)}')\n",
    "ds = {k: v for k, v in sorted(sortme.items(), key=lambda item: item[1])}\n",
    "for structure, d in ds.items():\n",
    "    print(f'{structure} {round(d,2)} {diffs[structure]}')"
   ]
  },
  {
   "cell_type": "code",
   "execution_count": null,
   "metadata": {},
   "outputs": [],
   "source": [
    "brainMerger = BrainMerger()\n",
    "brainMerger.save_brain_area_data()"
   ]
  },
  {
   "cell_type": "code",
   "execution_count": null,
   "metadata": {},
   "outputs": [],
   "source": [
    "plotpath = '/net/birdstore/Active_Atlas_Data/data_root/atlas_data/Atlas/plots'\n",
    "csvpath = '/net/birdstore/Active_Atlas_Data/data_root/atlas_data/Atlas/csv'\n",
    "atlaspath = '/net/birdstore/Active_Atlas_Data/data_root/brains_info/registration'"
   ]
  },
  {
   "cell_type": "code",
   "execution_count": null,
   "metadata": {},
   "outputs": [],
   "source": [
    "df_allen = pd.read_csv(os.path.join(csvpath, 'Allen.csv'))\n",
    "df_atlas = pd.read_csv(os.path.join(csvpath, 'Atlas.csv'))\n",
    "df_atlas.head()"
   ]
  },
  {
   "cell_type": "code",
   "execution_count": null,
   "metadata": {},
   "outputs": [],
   "source": [
    "allen_path = os.path.join(atlaspath, 'Allen_25um_sagittal.tif')\n",
    "allen_img = io.imread(allen_path)\n",
    "allen_img.dtype, allen_img.shape\n",
    "#sagittal = np.swapaxes(allen_img,0,2)\n",
    "sagittal = allen_img\n",
    "print(sagittal.shape)"
   ]
  },
  {
   "cell_type": "code",
   "execution_count": null,
   "metadata": {},
   "outputs": [],
   "source": [
    "distances = []\n",
    "sortme = {}\n",
    "\n",
    "for (i1,row1), (i2,row2) in zip(df_allen.iterrows(), df_atlas.iterrows() ): \n",
    "    structure = row1['Structure']\n",
    "\n",
    "    fig = plt.figure()\n",
    "    plt.rcParams[\"figure.figsize\"] = [12, 8]\n",
    "    x1 = row1['X']\n",
    "    y1 = row1['Y']\n",
    "    z1 = row1['Z']\n",
    "    x2 = row2['X']\n",
    "    y2 = row2['Y']\n",
    "    z2 = row2['Z']\n",
    "    section = int(round(z1/25, 2))\n",
    "    xdistance = abs(x1 - x2)\n",
    "    ydistance = abs(y1 - y2)\n",
    "    zdistance = abs(z1 - z2)\n",
    "    distance = calculate_distance(np.array([x1,y1,z1]), np.array([x2,y2,z2]))\n",
    "    slice = sagittal[section,:,:]\n",
    "    title = f'{structure} at section={section}\\n'\n",
    "    title += f'x distance={round(xdistance,2)} um\\n'\n",
    "    title += f'y distance={round(ydistance,2)} um\\n'\n",
    "    title += f'z distance={round(zdistance,2)} um\\n'\n",
    "    title += f'  distance={round(distance,2)} um'\n",
    "    plt.title(title)\n",
    "    ax = plt.gca()\n",
    "    #ax.set_xlim([300, 600])\n",
    "    ax.set_ylim(300,0)\n",
    "    plt.scatter(x1/25, y1/25, s=40, marker='^', c='b', label=str('Allen ' + structure))\n",
    "    plt.scatter(x2/25, y2/25, s=40, marker='o', c='g', label=str('Atlas ' + structure))\n",
    "    plt.imshow(slice, cmap='gray')\n",
    "    plt.legend()\n",
    "    plt.close()\n",
    "    #outpath = os.path.join(plotpath, 'eps', f'{structure}.eps')\n",
    "    #fig.savefig(outpath, bbox_inches=\"tight\", format='eps')\n",
    "    outpath = os.path.join(plotpath, f'{structure}.png')\n",
    "    fig.savefig(outpath, bbox_inches=\"tight\")\n",
    "    \n",
    "    distances.append(distance)\n",
    "    sortme[structure] = distance\n"
   ]
  },
  {
   "cell_type": "code",
   "execution_count": null,
   "metadata": {},
   "outputs": [],
   "source": [
    "width = 0.25  # the width of the bars\n",
    "multiplier = 0\n",
    "x = np.arange(1) \n",
    "x + width"
   ]
  },
  {
   "cell_type": "code",
   "execution_count": null,
   "metadata": {},
   "outputs": [],
   "source": [
    "errors = ['X error', 'Y error', 'Z error', 'Distance error']\n",
    "x = np.arange(len(errors))  # the label locations\n",
    "width = 0.05  # the width of the bars\n",
    "for (i1,row1), (i2,row2) in zip(df_midbrain_allen.iterrows(), df_midbrain_atlas.iterrows() ): \n",
    "    structure = row1['Structure']\n",
    "    #fig = plt.figure()\n",
    "    fig, ax = plt.subplots(figsize=(6, 4))\n",
    "    #plt.rcParams[\"figure.figsize\"] = [10, 6]\n",
    "\n",
    "    x1 = row1['X']\n",
    "    y1 = row1['Y']\n",
    "    z1 = row1['Z']\n",
    "    x2 = row2['X']\n",
    "    y2 = row2['Y']\n",
    "    z2 = row2['Z']\n",
    "    xdistance = abs(x1 - x2)\n",
    "    ydistance = abs(y1 - y2)\n",
    "    zdistance = abs(z1 - z2)\n",
    "    distance = calculate_distance(np.array([x1,y1,z1]), np.array([x2,y2,z2]))\n",
    "\n",
    "    counts = [xdistance, ydistance, zdistance, distance]\n",
    "    bar_labels = ['X error', 'Y error', 'Z error', 'Distance error']\n",
    "    bar_colors = ['tab:red', 'tab:blue', 'tab:green', 'tab:orange']\n",
    "    #ax.bar(errors, counts, label=bar_labels, color=bar_colors)\n",
    "    ax.set_ylabel('Error in um')\n",
    "    # Label with specially formatted floats\n",
    "    rects1 = ax.bar(x - width/2, counts, label=bar_labels, color=bar_colors)\n",
    "    ax.bar_label(rects1, padding=2)\n",
    "    ax.set_xticks(x, errors)\n",
    "    ax.set_title('Errors for ' + structure)\n",
    "    ax.set_ylim([0,1200])\n",
    "    #ax.legend(title='Error color')\n",
    "    plt.close()\n",
    "    outpath = os.path.join(distancepath, 'eps', f'{structure}_error.eps')\n",
    "    fig.savefig(outpath, bbox_inches=\"tight\", format='eps')\n",
    "    outpath = os.path.join(distancepath, f'{structure}_error.png')\n",
    "    fig.savefig(outpath, bbox_inches=\"tight\")\n"
   ]
  },
  {
   "cell_type": "code",
   "execution_count": null,
   "metadata": {},
   "outputs": [],
   "source": [
    "print(f'n={len(distances)}, min={min(distances)} max={max(distances)}, mean={np.mean(distances)}')\n",
    "ds = {k: v for k, v in sorted(sortme.items(), key=lambda item: item[1])}\n",
    "for structure, d in ds.items():\n",
    "    \n",
    "    #print(f'{structure} distance from Allen={round(d,2)} micrometers')\n",
    "    print('<tr>')\n",
    "    print(f'<td><img src=\"https://www.brainsharer.org/images/{structure}.png\"></td>')\n",
    "    print(f'<td><img src=\"https://www.brainsharer.org/images/{structure}_error.png\"></td>')\n",
    "    print('</tr>')\n"
   ]
  },
  {
   "cell_type": "code",
   "execution_count": null,
   "metadata": {},
   "outputs": [],
   "source": [
    "midbrain_distances = df_midbrain_distance.distance\n",
    "all_distances = df_all_distance.distance\n",
    "brainstem_distances = df_brainstem_distance.distance\n",
    "fig, ax = plt.subplots(figsize=(8, 6))\n",
    "columns = [midbrain_distances, all_distances, brainstem_distances]\n",
    "ax.boxplot(columns, patch_artist=True)\n",
    "ax.set_title(\"Distances between the DK atlas and the Allen (um)\")\n",
    "title1 = f\"Using mid-brain\\nn={len(midbrain_distances)}, min={round(min(midbrain_distances))}\"\n",
    "title1 += f\"\\nmax={round(max(midbrain_distances))}, mean={round(np.mean(midbrain_distances))}\"\n",
    "title2 = f\"Using all structures\\nn={len(all_distances)}, min={round(min(all_distances))}\"\n",
    "title2 += f\"\\nmax={round(max(all_distances))}, mean={round(np.mean(all_distances))}\"\n",
    "title3 = f\"Using brainstem structures\\nn={len(brainstem_distances)}, min={round(min(brainstem_distances))}\"\n",
    "title3 += f\"\\nmax={round(max(brainstem_distances))}, mean={round(np.mean(brainstem_distances))}\"\n",
    "plt.xticks([1,2,3], [title1, title2, title3])\n",
    "plt.show()"
   ]
  },
  {
   "cell_type": "code",
   "execution_count": null,
   "metadata": {},
   "outputs": [],
   "source": [
    "len(all_distances), min(all_distances), max(all_distances), np.mean(all_distances)"
   ]
  },
  {
   "cell_type": "code",
   "execution_count": null,
   "metadata": {},
   "outputs": [],
   "source": [
    "for i, row in df_midbrain_distance.iterrows():\n",
    "    print(f'{row[0]} distance={round(row[1],2)}')"
   ]
  },
  {
   "cell_type": "code",
   "execution_count": null,
   "metadata": {
    "scrolled": true
   },
   "outputs": [],
   "source": [
    "for i, row in df_brainstem_distance.iterrows():\n",
    "    print(f'<tr><td>{row[0]}</td> <td>{round(row[1],2)}</td></tr>')"
   ]
  },
  {
   "cell_type": "code",
   "execution_count": null,
   "metadata": {},
   "outputs": [],
   "source": [
    "xmin = 8000\n",
    "xmax = 13000\n",
    "ymin = 2000\n",
    "ymax = 6000\n",
    "zmin = 0\n",
    "zmax = 25*456"
   ]
  },
  {
   "cell_type": "code",
   "execution_count": null,
   "metadata": {},
   "outputs": [],
   "source": [
    "df_midbrain_atlas.head(2)"
   ]
  },
  {
   "cell_type": "code",
   "execution_count": null,
   "metadata": {},
   "outputs": [],
   "source": [
    "for color, label in zip('bg', ['midbrain', 'brainstem']):\n",
    "    allen_subset = df_midbrain_allen[df_midbrain_allen.area == label]\n",
    "    atlas_subset = df_midbrain_atlas[df_midbrain_atlas.area == label]\n",
    "    plt.scatter(allen_subset.X, allen_subset.Y, s=120, marker='^', c=color, label=str('Allen ' + label))\n",
    "    plt.scatter(atlas_subset.X, atlas_subset.Y, s=120, marker='o', c=color, label=str('Atlas ' + label))\n",
    "    plt.xlabel('X')\n",
    "    plt.ylabel('Y')\n",
    "    ax = plt.gca()\n",
    "    ax.set_xlim([xmin, xmax])\n",
    "    ax.set_ylim([ymin, ymax])\n",
    "    ax.invert_yaxis()\n",
    "    #ax.annotate('x', (atlas_subset.X, atlas_subset.Y))\n",
    "    #ax.annotate('x', xy=(atlas_subset.X, atlas_subset.Y))\n",
    "plt.title('Mid-brain Allen/Altas X Y scatter plot')    \n",
    "plt.legend()\n",
    "fig = plt.gcf()\n",
    "fig.set_size_inches(18.5, 10.5)\n",
    "for k, v in df_midbrain_atlas.iterrows():\n",
    "    ax.annotate(v['Structure'],\n",
    "                xy=(v['X'], v['Y']),\n",
    "                xytext=(10, 10), textcoords='offset points',\n",
    "                family='sans-serif', fontsize=10, color='black')"
   ]
  },
  {
   "cell_type": "code",
   "execution_count": null,
   "metadata": {},
   "outputs": [],
   "source": [
    "for color, label in zip('bgr', ['midbrain', 'brainstem']):\n",
    "    allen_subset = df_midbrain_allen[df_midbrain_allen.area == label]\n",
    "    atlas_subset = df_midbrain_atlas[df_midbrain_atlas.area == label]\n",
    "    plt.scatter(allen_subset.X, allen_subset.Z, s=120, marker='^', c=color, label=str('Allen ' + label))\n",
    "    plt.scatter(atlas_subset.X, atlas_subset.Z, s=120, marker='o', c=color, label=str('Atlas ' + label))\n",
    "    plt.xlabel('X')\n",
    "    plt.ylabel('Z')\n",
    "    ax = plt.gca()\n",
    "    ax.set_xlim([xmin, xmax])\n",
    "    #ax.set_ylim([ymin, ymax])\n",
    "    #ax.invert_yaxis()\n",
    "plt.title('Mid-brain Allen/Altas X Z scatter plot')    \n",
    "plt.legend()\n",
    "fig = plt.gcf()\n",
    "fig.set_size_inches(18.5, 10.5)"
   ]
  }
 ],
 "metadata": {
  "kernelspec": {
   "display_name": "Python 3",
   "language": "python",
   "name": "python3"
  },
  "language_info": {
   "codemirror_mode": {
    "name": "ipython",
    "version": 3
   },
   "file_extension": ".py",
   "mimetype": "text/x-python",
   "name": "python",
   "nbconvert_exporter": "python",
   "pygments_lexer": "ipython3",
   "version": "3.10.12"
  }
 },
 "nbformat": 4,
 "nbformat_minor": 4
}
