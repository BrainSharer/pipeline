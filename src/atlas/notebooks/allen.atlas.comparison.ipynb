{
 "cells": [
  {
   "cell_type": "code",
   "execution_count": null,
   "metadata": {},
   "outputs": [],
   "source": [
    "import os\n",
    "import sys\n",
    "import matplotlib.pyplot as plt\n",
    "import pandas as pd\n",
    "import numpy as np"
   ]
  },
  {
   "cell_type": "code",
   "execution_count": null,
   "metadata": {},
   "outputs": [],
   "source": [
    "csvpath = '/net/birdstore/Active_Atlas_Data/data_root/atlas_data/atlasV8/csv'"
   ]
  },
  {
   "cell_type": "code",
   "execution_count": null,
   "metadata": {},
   "outputs": [],
   "source": [
    "df_midbrain_distance = pd.read_csv(os.path.join(csvpath, 'using_midbrain_distance.csv'))\n",
    "df_midbrain_allen = pd.read_csv(os.path.join(csvpath, 'using_midbrain_allen.csv'))\n",
    "df_midbrain_atlas = pd.read_csv(os.path.join(csvpath, 'using_midbrain_atlas.csv'))"
   ]
  },
  {
   "cell_type": "code",
   "execution_count": null,
   "metadata": {},
   "outputs": [],
   "source": [
    "df_all_distance = pd.read_csv(os.path.join(csvpath, 'using_all_distance.csv'))\n",
    "df_all_allen = pd.read_csv(os.path.join(csvpath, 'using_all_allen.csv'))\n",
    "df_all_atlas = pd.read_csv(os.path.join(csvpath, 'using_all_atlas.csv'))"
   ]
  },
  {
   "cell_type": "code",
   "execution_count": null,
   "metadata": {},
   "outputs": [],
   "source": [
    "df_brainstem_distance = pd.read_csv(os.path.join(csvpath, 'using_brainstem_distance.csv'))\n",
    "df_brainstem_allen = pd.read_csv(os.path.join(csvpath, 'using_brainstem_allen.csv'))\n",
    "df_brainstem_atlas = pd.read_csv(os.path.join(csvpath, 'using_brainstem_atlas.csv'))"
   ]
  },
  {
   "cell_type": "code",
   "execution_count": null,
   "metadata": {},
   "outputs": [],
   "source": [
    "midbrain_distances = df_midbrain_distance.distance\n",
    "all_distances = df_all_distance.distance\n",
    "brainstem_distances = df_brainstem_distance.distance\n",
    "fig, ax = plt.subplots(figsize=(15, 15))\n",
    "columns = [midbrain_distances, all_distances, brainstem_distances]\n",
    "ax.boxplot(columns, patch_artist=True)\n",
    "ax.set_title(\"Distances between the DK atlas and the Allen (um)\")\n",
    "title1 = f\"Using mid-brain\\nn={len(midbrain_distances)}, min={round(min(midbrain_distances))}\"\n",
    "title1 += f\"\\nmax={round(max(midbrain_distances))}, mean={round(np.mean(midbrain_distances))}\"\n",
    "title2 = f\"Using all structures\\nn={len(all_distances)}, min={round(min(all_distances))}\"\n",
    "title2 += f\"\\nmax={round(max(all_distances))}, mean={round(np.mean(all_distances))}\"\n",
    "title3 = f\"Using brainstem structures\\nn={len(brainstem_distances)}, min={round(min(brainstem_distances))}\"\n",
    "title3 += f\"\\nmax={round(max(brainstem_distances))}, mean={round(np.mean(brainstem_distances))}\"\n",
    "plt.xticks([1,2,3], [title1, title2, title3])\n",
    "plt.show()"
   ]
  },
  {
   "cell_type": "code",
   "execution_count": null,
   "metadata": {},
   "outputs": [],
   "source": [
    "len(all_distances), min(all_distances), max(all_distances), np.mean(all_distances)"
   ]
  },
  {
   "cell_type": "code",
   "execution_count": null,
   "metadata": {},
   "outputs": [],
   "source": [
    "for i, row in df_midbrain_distance.iterrows():\n",
    "    print(f'{row[0]} distance={round(row[1],2)}')"
   ]
  },
  {
   "cell_type": "code",
   "execution_count": null,
   "metadata": {
    "scrolled": true
   },
   "outputs": [],
   "source": [
    "for i, row in df_brainstem_distance.iterrows():\n",
    "    print(f'<tr><td>{row[0]}</td> <td>{round(row[1],2)}</td></tr>')"
   ]
  },
  {
   "cell_type": "code",
   "execution_count": null,
   "metadata": {},
   "outputs": [],
   "source": [
    "xmin = 8000\n",
    "xmax = 13000\n",
    "ymin = 2000\n",
    "ymax = 6000\n",
    "zmin = 0\n",
    "zmax = 25*456"
   ]
  },
  {
   "cell_type": "code",
   "execution_count": null,
   "metadata": {},
   "outputs": [],
   "source": [
    "for color, label in zip('bgr', ['Left', 'Right', 'Singular']):\n",
    "    allen_subset = df_midbrain_allen[df_midbrain_allen.S == label]\n",
    "    atlas_subset = df_midbrain_atlas[df_midbrain_atlas.S == label]\n",
    "    plt.scatter(allen_subset.X, allen_subset.Y, s=120, marker='^', c=color, label=str('Allen ' + label))\n",
    "    plt.scatter(atlas_subset.X, atlas_subset.Y, s=120, marker='o', c=color, label=str('Atlas ' + label))\n",
    "    plt.xlabel('X')\n",
    "    plt.ylabel('Y')\n",
    "    ax = plt.gca()\n",
    "    ax.set_xlim([xmin, xmax])\n",
    "    ax.set_ylim([ymin, ymax])\n",
    "    ax.invert_yaxis()\n",
    "plt.title('Mid-brain Allen/Altas X Y scatter plot')    \n",
    "plt.legend()\n",
    "fig = plt.gcf()\n",
    "fig.set_size_inches(18.5, 10.5)"
   ]
  },
  {
   "cell_type": "code",
   "execution_count": null,
   "metadata": {},
   "outputs": [],
   "source": [
    "for color, label in zip('bgr', ['Left', 'Right', 'Singular']):\n",
    "    allen_subset = df_midbrain_allen[df_midbrain_allen.S == label]\n",
    "    atlas_subset = df_midbrain_atlas[df_midbrain_atlas.S == label]\n",
    "    plt.scatter(allen_subset.X, allen_subset.Z, s=120, marker='^', c=color, label=str('Allen ' + label))\n",
    "    plt.scatter(atlas_subset.X, atlas_subset.Z, s=120, marker='o', c=color, label=str('Atlas ' + label))\n",
    "    plt.xlabel('X')\n",
    "    plt.ylabel('Z')\n",
    "    ax = plt.gca()\n",
    "    ax.set_xlim([xmin, xmax])\n",
    "    #ax.set_ylim([ymin, ymax])\n",
    "    #ax.invert_yaxis()\n",
    "plt.title('Mid-brain Allen/Altas X Z scatter plot')    \n",
    "plt.legend()\n",
    "fig = plt.gcf()\n",
    "fig.set_size_inches(18.5, 10.5)"
   ]
  },
  {
   "cell_type": "code",
   "execution_count": null,
   "metadata": {},
   "outputs": [],
   "source": [
    "for color, label in zip('bgr', ['Left', 'Right', 'Singular']):\n",
    "    allen_subset = df_midbrain_allen[df_midbrain_allen.S == label]\n",
    "    atlas_subset = df_midbrain_atlas[df_midbrain_atlas.S == label]\n",
    "    plt.scatter(allen_subset.Z, allen_subset.Y, s=120, marker='^', c=color, label=str('Allen ' + label))\n",
    "    plt.scatter(atlas_subset.Z, atlas_subset.Y, s=120, marker='o', c=color, label=str('Atlas ' + label))\n",
    "    plt.xlabel('Z')\n",
    "    plt.ylabel('Y')\n",
    "    ax = plt.gca()\n",
    "    #ax.set_xlim([xmin, xmax])\n",
    "    #ax.set_ylim([ymin, ymax])\n",
    "    ax.invert_yaxis()\n",
    "plt.title('Midbrain Allen/Altas Y Z scatter plot')    \n",
    "plt.legend()\n",
    "fig = plt.gcf()\n",
    "fig.set_size_inches(18.5, 10.5)"
   ]
  },
  {
   "cell_type": "code",
   "execution_count": null,
   "metadata": {},
   "outputs": [],
   "source": [
    "for color, label in zip('bgr', ['Left', 'Right', 'Singular']):\n",
    "    allen_subset = df_all_allen[df_all_allen.S == label]\n",
    "    atlas_subset = df_all_atlas[df_all_atlas.S == label]\n",
    "    plt.scatter(allen_subset.X, allen_subset.Y, s=120, marker='^', c=color, label=str('Allen ' + label))\n",
    "    plt.scatter(atlas_subset.X, atlas_subset.Y, s=120, marker='o', c=color, label=str('Atlas ' + label))\n",
    "    plt.xlabel('X')\n",
    "    plt.ylabel('Y')\n",
    "    ax = plt.gca()\n",
    "    ax.set_xlim([xmin, xmax])\n",
    "    ax.set_ylim([ymin, ymax])\n",
    "    ax.invert_yaxis()\n",
    "plt.title('All structures - Allen/Altas X Y scatter plot')    \n",
    "plt.legend()\n",
    "plt.legend()\n",
    "fig = plt.gcf()\n",
    "fig.set_size_inches(18.5, 10.5)"
   ]
  },
  {
   "cell_type": "code",
   "execution_count": null,
   "metadata": {},
   "outputs": [],
   "source": [
    "for color, label in zip('bgr', ['Left', 'Right', 'Singular']):\n",
    "    allen_subset = df_all_allen[df_all_allen.S == label]\n",
    "    atlas_subset = df_all_atlas[df_all_atlas.S == label]\n",
    "    plt.scatter(allen_subset.X, allen_subset.Z, s=120, marker='^', c=color, label=str('Allen ' + label))\n",
    "    plt.scatter(atlas_subset.X, atlas_subset.Z, s=120, marker='o', c=color, label=str('Atlas ' + label))\n",
    "    plt.xlabel('X')\n",
    "    plt.ylabel('Z')\n",
    "    ax = plt.gca()\n",
    "    ax.set_xlim([xmin, xmax])\n",
    "    #ax.set_ylim([ymin, ymax])\n",
    "    #ax.invert_yaxis()\n",
    "plt.title('All structures - Allen/Altas X Z scatter plot')    \n",
    "plt.legend()\n",
    "fig = plt.gcf()\n",
    "fig.set_size_inches(18.5, 10.5)"
   ]
  },
  {
   "cell_type": "code",
   "execution_count": null,
   "metadata": {},
   "outputs": [],
   "source": [
    "for color, label in zip('bgr', ['Left', 'Right', 'Singular']):\n",
    "    allen_subset = df_all_allen[df_all_allen.S == label]\n",
    "    atlas_subset = df_all_atlas[df_all_atlas.S == label]\n",
    "    plt.scatter(allen_subset.Z, allen_subset.Y, s=120, marker='^', c=color, label=str('Allen ' + label))\n",
    "    plt.scatter(atlas_subset.Z, atlas_subset.Y, s=120, marker='o', c=color, label=str('Atlas ' + label))\n",
    "    plt.xlabel('Z')\n",
    "    plt.ylabel('Y')\n",
    "    ax = plt.gca()\n",
    "    #ax.set_xlim([xmin, xmax])\n",
    "    #ax.set_ylim([ymin, ymax])\n",
    "    ax.invert_yaxis()\n",
    "plt.title('All structures - Allen/Altas Y Z scatter plot')    \n",
    "plt.legend()\n",
    "fig = plt.gcf()\n",
    "fig.set_size_inches(18.5, 10.5)"
   ]
  },
  {
   "cell_type": "code",
   "execution_count": null,
   "metadata": {},
   "outputs": [],
   "source": [
    "# xy\n",
    "for color, label in zip('bgr', ['Left', 'Right', 'Singular']):\n",
    "    allen_subset = df_brainstem_allen[df_brainstem_allen.S == label]\n",
    "    atlas_subset = df_brainstem_atlas[df_brainstem_atlas.S == label]\n",
    "    plt.scatter(allen_subset.X, allen_subset.Y, s=120, marker='^', c=color, label=str('Allen ' + label))\n",
    "    plt.scatter(atlas_subset.X, atlas_subset.Y, s=120, marker='o', c=color, label=str('Atlas ' + label))\n",
    "    plt.xlabel('X')\n",
    "    plt.ylabel('Y')\n",
    "    ax = plt.gca()\n",
    "    ax.set_xlim([xmin, xmax])\n",
    "    ax.set_ylim([ymin, ymax])\n",
    "    ax.invert_yaxis()\n",
    "plt.title('Brainstem Allen/Altas X Y scatter plot')    \n",
    "plt.legend()\n",
    "fig = plt.gcf()\n",
    "fig.set_size_inches(18.5, 10.5)"
   ]
  },
  {
   "cell_type": "code",
   "execution_count": null,
   "metadata": {},
   "outputs": [],
   "source": [
    "# xz\n",
    "for color, label in zip('bgr', ['Left', 'Right', 'Singular']):\n",
    "    allen_subset = df_brainstem_allen[df_brainstem_allen.S == label]\n",
    "    atlas_subset = df_brainstem_atlas[df_brainstem_atlas.S == label]\n",
    "    plt.scatter(allen_subset.X, allen_subset.Z, s=120, marker='^', c=color, label=str('Allen ' + label))\n",
    "    plt.scatter(atlas_subset.X, atlas_subset.Z, s=120, marker='o', c=color, label=str('Atlas ' + label))\n",
    "    plt.xlabel('X')\n",
    "    plt.ylabel('Z')\n",
    "    ax = plt.gca()\n",
    "    ax.set_xlim([xmin, xmax])\n",
    "    #ax.set_ylim([ymin, ymax])\n",
    "    #ax.invert_yaxis()\n",
    "plt.title('Brainstem Allen/Altas X Z scatter plot')    \n",
    "plt.legend()\n",
    "fig = plt.gcf()\n",
    "fig.set_size_inches(18.5, 10.5)"
   ]
  },
  {
   "cell_type": "code",
   "execution_count": null,
   "metadata": {},
   "outputs": [],
   "source": [
    "# yz\n",
    "for color, label in zip('bgr', ['Left', 'Right', 'Singular']):\n",
    "    allen_subset = df_brainstem_allen[df_brainstem_allen.S == label]\n",
    "    atlas_subset = df_brainstem_atlas[df_brainstem_atlas.S == label]\n",
    "    plt.scatter(allen_subset.Z, allen_subset.Y, s=120, marker='^', c=color, label=str('Allen ' + label))\n",
    "    plt.scatter(atlas_subset.Z, atlas_subset.Y, s=120, marker='o', c=color, label=str('Atlas ' + label))\n",
    "    plt.xlabel('Z')\n",
    "    plt.ylabel('Y')\n",
    "    ax = plt.gca()\n",
    "    #ax.set_xlim([xmin, xmax])\n",
    "    #ax.set_ylim([ymin, ymax])\n",
    "    ax.invert_yaxis()\n",
    "plt.title('Brainstem Allen/Altas Y Z scatter plot')    \n",
    "plt.legend()\n",
    "fig = plt.gcf()\n",
    "fig.set_size_inches(18.5, 10.5)"
   ]
  }
 ],
 "metadata": {
  "kernelspec": {
   "display_name": "Python 3",
   "language": "python",
   "name": "python3"
  },
  "language_info": {
   "codemirror_mode": {
    "name": "ipython",
    "version": 3
   },
   "file_extension": ".py",
   "mimetype": "text/x-python",
   "name": "python",
   "nbconvert_exporter": "python",
   "pygments_lexer": "ipython3",
   "version": "3.10.6"
  }
 },
 "nbformat": 4,
 "nbformat_minor": 4
}
