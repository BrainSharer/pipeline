{
 "cells": [
  {
   "cell_type": "code",
   "execution_count": 1,
   "metadata": {},
   "outputs": [],
   "source": [
    "import os\n",
    "import sys\n",
    "import matplotlib.pyplot as plt\n",
    "import pandas as pd\n",
    "import numpy as np\n",
    "from skimage import io\n",
    "import cv2"
   ]
  },
  {
   "cell_type": "code",
   "execution_count": 2,
   "metadata": {},
   "outputs": [],
   "source": [
    "def calculate_distance(com1, com2):\n",
    "    return (np.linalg.norm(com1 - com2))"
   ]
  },
  {
   "cell_type": "code",
   "execution_count": 3,
   "metadata": {},
   "outputs": [],
   "source": [
    "csvpath = '/net/birdstore/Active_Atlas_Data/data_root/atlas_data/atlasV8/csv'\n",
    "distancepath = '/net/birdstore/Active_Atlas_Data/data_root/atlas_data/atlasV8/distance'\n",
    "atlaspath = '/net/birdstore/Active_Atlas_Data/data_root/brains_info/registration'"
   ]
  },
  {
   "cell_type": "code",
   "execution_count": 12,
   "metadata": {},
   "outputs": [
    {
     "data": {
      "text/plain": [
       "(dtype('uint16'), (528, 320, 456))"
      ]
     },
     "execution_count": 12,
     "metadata": {},
     "output_type": "execute_result"
    }
   ],
   "source": [
    "allen_path = os.path.join(atlaspath, 'Allen_25um_coronal.tif')\n",
    "allen_img = io.imread(allen_path)\n",
    "allen_img.dtype, allen_img.shape"
   ]
  },
  {
   "cell_type": "code",
   "execution_count": null,
   "metadata": {},
   "outputs": [],
   "source": [
    "inpath = os.path.join(atlaspath, 'MD589_25um_sagittal.tif')\n",
    "MD589_img = io.imread(inpath)\n",
    "MD589_img.dtype, MD589_img.shape"
   ]
  },
  {
   "cell_type": "code",
   "execution_count": 13,
   "metadata": {},
   "outputs": [
    {
     "name": "stdout",
     "output_type": "stream",
     "text": [
      "sagittal shape=(456, 320, 528) dtype=uint16\n"
     ]
    },
    {
     "name": "stderr",
     "output_type": "stream",
     "text": [
      "/tmp/ipykernel_1237166/2420175636.py:7: UserWarning: /net/birdstore/Active_Atlas_Data/data_root/brains_info/registration/Allen_25um_sagittal.tif is a low contrast image\n",
      "  io.imsave(savepath, sagittal)\n"
     ]
    }
   ],
   "source": [
    "sagittal = np.swapaxes(allen_img,0,2)\n",
    "print(f'sagittal shape={sagittal.shape} dtype={sagittal.dtype}')\n",
    "savepath = os.path.join(atlaspath, 'Allen_25um_sagittal.tif')\n",
    "io.imsave(savepath, sagittal)"
   ]
  },
  {
   "cell_type": "code",
   "execution_count": null,
   "metadata": {},
   "outputs": [],
   "source": [
    "padded = pad_volume(allen_img, MD589_img.shape)\n",
    "savepath = os.path.join(atlaspath, 'Allen_25um_sagittal.tif')\n",
    "io.imsave(savepath, padded)\n",
    "padded.shape"
   ]
  },
  {
   "cell_type": "code",
   "execution_count": null,
   "metadata": {},
   "outputs": [],
   "source": [
    "len(df_midbrain_allen)"
   ]
  },
  {
   "cell_type": "code",
   "execution_count": null,
   "metadata": {},
   "outputs": [],
   "source": [
    "distances = []\n",
    "sortme = {}\n",
    "\n",
    "for (i1,row1), (i2,row2) in zip(df_midbrain_allen.iterrows(), df_midbrain_atlas.iterrows() ): \n",
    "    structure = row1['Structure']\n",
    "\n",
    "    fig = plt.figure()\n",
    "    plt.rcParams[\"figure.figsize\"] = [12, 8]\n",
    "    x1 = row1['X']\n",
    "    y1 = row1['Y']\n",
    "    z1 = row1['Z']\n",
    "    x2 = row2['X']\n",
    "    y2 = row2['Y']\n",
    "    z2 = row2['Z']\n",
    "    section = int(round(z1/25, 2))\n",
    "    xdistance = abs(x1 - x2)\n",
    "    ydistance = abs(y1 - y2)\n",
    "    zdistance = abs(z1 - z2)\n",
    "    distance = calculate_distance(np.array([x1,y1,z1]), np.array([x2,y2,z2]))\n",
    "    slice = sagittal[:,:,section]\n",
    "    title = f'{structure} at section={section}\\n'\n",
    "    title += f'x distance={round(xdistance,2)} um\\n'\n",
    "    title += f'y distance={round(ydistance,2)} um\\n'\n",
    "    title += f'z distance={round(zdistance,2)} um\\n'\n",
    "    title += f'  distance={round(distance,2)} um'\n",
    "    plt.title(title)\n",
    "    ax = plt.gca()\n",
    "    ax.set_xlim([300, 600])\n",
    "    ax.set_ylim(300,0)\n",
    "    plt.scatter(x1/25, y1/25, s=40, marker='^', c='b', label=str('Allen ' + structure))\n",
    "    plt.scatter(x2/25, y2/25, s=40, marker='o', c='g', label=str('Atlas ' + structure))\n",
    "    plt.imshow(slice, cmap='gray')\n",
    "    plt.legend()\n",
    "    plt.close()\n",
    "    outpath = os.path.join(distancepath, 'eps', f'{structure}.eps')\n",
    "    fig.savefig(outpath, bbox_inches=\"tight\", format='eps')\n",
    "    outpath = os.path.join(distancepath, f'{structure}.png')\n",
    "    fig.savefig(outpath, bbox_inches=\"tight\")\n",
    "    \n",
    "    distances.append(distance)\n",
    "    sortme[structure] = distance\n"
   ]
  },
  {
   "cell_type": "code",
   "execution_count": null,
   "metadata": {},
   "outputs": [],
   "source": [
    "width = 0.25  # the width of the bars\n",
    "multiplier = 0\n",
    "x = np.arange(1) \n",
    "x + width"
   ]
  },
  {
   "cell_type": "code",
   "execution_count": null,
   "metadata": {},
   "outputs": [],
   "source": [
    "errors = ['X error', 'Y error', 'Z error', 'Distance error']\n",
    "x = np.arange(len(errors))  # the label locations\n",
    "width = 0.05  # the width of the bars\n",
    "for (i1,row1), (i2,row2) in zip(df_midbrain_allen.iterrows(), df_midbrain_atlas.iterrows() ): \n",
    "    structure = row1['Structure']\n",
    "    #fig = plt.figure()\n",
    "    fig, ax = plt.subplots(figsize=(6, 4))\n",
    "    #plt.rcParams[\"figure.figsize\"] = [10, 6]\n",
    "\n",
    "    x1 = row1['X']\n",
    "    y1 = row1['Y']\n",
    "    z1 = row1['Z']\n",
    "    x2 = row2['X']\n",
    "    y2 = row2['Y']\n",
    "    z2 = row2['Z']\n",
    "    xdistance = abs(x1 - x2)\n",
    "    ydistance = abs(y1 - y2)\n",
    "    zdistance = abs(z1 - z2)\n",
    "    distance = calculate_distance(np.array([x1,y1,z1]), np.array([x2,y2,z2]))\n",
    "\n",
    "    counts = [xdistance, ydistance, zdistance, distance]\n",
    "    bar_labels = ['X error', 'Y error', 'Z error', 'Distance error']\n",
    "    bar_colors = ['tab:red', 'tab:blue', 'tab:green', 'tab:orange']\n",
    "    #ax.bar(errors, counts, label=bar_labels, color=bar_colors)\n",
    "    ax.set_ylabel('Error in um')\n",
    "    # Label with specially formatted floats\n",
    "    rects1 = ax.bar(x - width/2, counts, label=bar_labels, color=bar_colors)\n",
    "    ax.bar_label(rects1, padding=2)\n",
    "    ax.set_xticks(x, errors)\n",
    "    ax.set_title('Errors for ' + structure)\n",
    "    ax.set_ylim([0,1200])\n",
    "    #ax.legend(title='Error color')\n",
    "    plt.close()\n",
    "    outpath = os.path.join(distancepath, 'eps', f'{structure}_error.eps')\n",
    "    fig.savefig(outpath, bbox_inches=\"tight\", format='eps')\n",
    "    outpath = os.path.join(distancepath, f'{structure}_error.png')\n",
    "    fig.savefig(outpath, bbox_inches=\"tight\")\n"
   ]
  },
  {
   "cell_type": "code",
   "execution_count": null,
   "metadata": {},
   "outputs": [],
   "source": [
    "print(f'n={len(distances)}, min={min(distances)} max={max(distances)}, mean={np.mean(distances)}')\n",
    "ds = {k: v for k, v in sorted(sortme.items(), key=lambda item: item[1])}\n",
    "for structure, d in ds.items():\n",
    "    \n",
    "    #print(f'{structure} distance from Allen={round(d,2)} micrometers')\n",
    "    print('<tr>')\n",
    "    print(f'<td><img src=\"https://www.brainsharer.org/images/{structure}.png\"></td>')\n",
    "    print(f'<td><img src=\"https://www.brainsharer.org/images/{structure}_error.png\"></td>')\n",
    "    print('</tr>')\n"
   ]
  },
  {
   "cell_type": "code",
   "execution_count": null,
   "metadata": {},
   "outputs": [],
   "source": [
    "df_midbrain_distance = pd.read_csv(os.path.join(csvpath, 'using_midbrain_distance.csv'))\n",
    "df_midbrain_allen = pd.read_csv(os.path.join(csvpath, 'using_midbrain_allen.csv'))\n",
    "df_midbrain_atlas = pd.read_csv(os.path.join(csvpath, 'using_midbrain_atlas.csv'))"
   ]
  },
  {
   "cell_type": "code",
   "execution_count": null,
   "metadata": {},
   "outputs": [],
   "source": [
    "df_all_distance = pd.read_csv(os.path.join(csvpath, 'using_all_distance.csv'))\n",
    "df_all_allen = pd.read_csv(os.path.join(csvpath, 'using_all_allen.csv'))\n",
    "df_all_atlas = pd.read_csv(os.path.join(csvpath, 'using_all_atlas.csv'))"
   ]
  },
  {
   "cell_type": "code",
   "execution_count": null,
   "metadata": {},
   "outputs": [],
   "source": [
    "df_brainstem_distance = pd.read_csv(os.path.join(csvpath, 'using_brainstem_distance.csv'))\n",
    "df_brainstem_allen = pd.read_csv(os.path.join(csvpath, 'using_brainstem_allen.csv'))\n",
    "df_brainstem_atlas = pd.read_csv(os.path.join(csvpath, 'using_brainstem_atlas.csv'))"
   ]
  },
  {
   "cell_type": "code",
   "execution_count": null,
   "metadata": {},
   "outputs": [],
   "source": [
    "midbrain_distances = df_midbrain_distance.distance\n",
    "all_distances = df_all_distance.distance\n",
    "brainstem_distances = df_brainstem_distance.distance\n",
    "fig, ax = plt.subplots(figsize=(8, 6))\n",
    "columns = [midbrain_distances, all_distances, brainstem_distances]\n",
    "ax.boxplot(columns, patch_artist=True)\n",
    "ax.set_title(\"Distances between the DK atlas and the Allen (um)\")\n",
    "title1 = f\"Using mid-brain\\nn={len(midbrain_distances)}, min={round(min(midbrain_distances))}\"\n",
    "title1 += f\"\\nmax={round(max(midbrain_distances))}, mean={round(np.mean(midbrain_distances))}\"\n",
    "title2 = f\"Using all structures\\nn={len(all_distances)}, min={round(min(all_distances))}\"\n",
    "title2 += f\"\\nmax={round(max(all_distances))}, mean={round(np.mean(all_distances))}\"\n",
    "title3 = f\"Using brainstem structures\\nn={len(brainstem_distances)}, min={round(min(brainstem_distances))}\"\n",
    "title3 += f\"\\nmax={round(max(brainstem_distances))}, mean={round(np.mean(brainstem_distances))}\"\n",
    "plt.xticks([1,2,3], [title1, title2, title3])\n",
    "plt.show()"
   ]
  },
  {
   "cell_type": "code",
   "execution_count": null,
   "metadata": {},
   "outputs": [],
   "source": [
    "len(all_distances), min(all_distances), max(all_distances), np.mean(all_distances)"
   ]
  },
  {
   "cell_type": "code",
   "execution_count": null,
   "metadata": {},
   "outputs": [],
   "source": [
    "for i, row in df_midbrain_distance.iterrows():\n",
    "    print(f'{row[0]} distance={round(row[1],2)}')"
   ]
  },
  {
   "cell_type": "code",
   "execution_count": null,
   "metadata": {
    "scrolled": true
   },
   "outputs": [],
   "source": [
    "for i, row in df_brainstem_distance.iterrows():\n",
    "    print(f'<tr><td>{row[0]}</td> <td>{round(row[1],2)}</td></tr>')"
   ]
  },
  {
   "cell_type": "code",
   "execution_count": null,
   "metadata": {},
   "outputs": [],
   "source": [
    "xmin = 8000\n",
    "xmax = 13000\n",
    "ymin = 2000\n",
    "ymax = 6000\n",
    "zmin = 0\n",
    "zmax = 25*456"
   ]
  },
  {
   "cell_type": "code",
   "execution_count": null,
   "metadata": {},
   "outputs": [],
   "source": [
    "df_midbrain_atlas.head(2)"
   ]
  },
  {
   "cell_type": "code",
   "execution_count": null,
   "metadata": {},
   "outputs": [],
   "source": [
    "for color, label in zip('bg', ['midbrain', 'brainstem']):\n",
    "    allen_subset = df_midbrain_allen[df_midbrain_allen.area == label]\n",
    "    atlas_subset = df_midbrain_atlas[df_midbrain_atlas.area == label]\n",
    "    plt.scatter(allen_subset.X, allen_subset.Y, s=120, marker='^', c=color, label=str('Allen ' + label))\n",
    "    plt.scatter(atlas_subset.X, atlas_subset.Y, s=120, marker='o', c=color, label=str('Atlas ' + label))\n",
    "    plt.xlabel('X')\n",
    "    plt.ylabel('Y')\n",
    "    ax = plt.gca()\n",
    "    ax.set_xlim([xmin, xmax])\n",
    "    ax.set_ylim([ymin, ymax])\n",
    "    ax.invert_yaxis()\n",
    "    #ax.annotate('x', (atlas_subset.X, atlas_subset.Y))\n",
    "    #ax.annotate('x', xy=(atlas_subset.X, atlas_subset.Y))\n",
    "plt.title('Mid-brain Allen/Altas X Y scatter plot')    \n",
    "plt.legend()\n",
    "fig = plt.gcf()\n",
    "fig.set_size_inches(18.5, 10.5)\n",
    "for k, v in df_midbrain_atlas.iterrows():\n",
    "    ax.annotate(v['Structure'],\n",
    "                xy=(v['X'], v['Y']),\n",
    "                xytext=(10, 10), textcoords='offset points',\n",
    "                family='sans-serif', fontsize=10, color='black')"
   ]
  },
  {
   "cell_type": "code",
   "execution_count": null,
   "metadata": {},
   "outputs": [],
   "source": [
    "for color, label in zip('bgr', ['midbrain', 'brainstem']):\n",
    "    allen_subset = df_midbrain_allen[df_midbrain_allen.area == label]\n",
    "    atlas_subset = df_midbrain_atlas[df_midbrain_atlas.area == label]\n",
    "    plt.scatter(allen_subset.X, allen_subset.Z, s=120, marker='^', c=color, label=str('Allen ' + label))\n",
    "    plt.scatter(atlas_subset.X, atlas_subset.Z, s=120, marker='o', c=color, label=str('Atlas ' + label))\n",
    "    plt.xlabel('X')\n",
    "    plt.ylabel('Z')\n",
    "    ax = plt.gca()\n",
    "    ax.set_xlim([xmin, xmax])\n",
    "    #ax.set_ylim([ymin, ymax])\n",
    "    #ax.invert_yaxis()\n",
    "plt.title('Mid-brain Allen/Altas X Z scatter plot')    \n",
    "plt.legend()\n",
    "fig = plt.gcf()\n",
    "fig.set_size_inches(18.5, 10.5)"
   ]
  },
  {
   "cell_type": "code",
   "execution_count": null,
   "metadata": {},
   "outputs": [],
   "source": [
    "for color, label in zip('bgr', ['midbrain', 'brainstem']):\n",
    "    allen_subset = df_midbrain_allen[df_midbrain_allen.area == label]\n",
    "    atlas_subset = df_midbrain_atlas[df_midbrain_atlas.area == label]\n",
    "    plt.scatter(allen_subset.Z, allen_subset.Y, s=120, marker='^', c=color, label=str('Allen ' + label))\n",
    "    plt.scatter(atlas_subset.Z, atlas_subset.Y, s=120, marker='o', c=color, label=str('Atlas ' + label))\n",
    "    plt.xlabel('Z')\n",
    "    plt.ylabel('Y')\n",
    "    ax = plt.gca()\n",
    "    #ax.set_xlim([xmin, xmax])\n",
    "    #ax.set_ylim([ymin, ymax])\n",
    "    ax.invert_yaxis()\n",
    "plt.title('Midbrain Allen/Altas Y Z scatter plot')    \n",
    "plt.legend()\n",
    "fig = plt.gcf()\n",
    "fig.set_size_inches(18.5, 10.5)"
   ]
  },
  {
   "cell_type": "code",
   "execution_count": null,
   "metadata": {},
   "outputs": [],
   "source": [
    "for color, label in zip('bgr', ['midbrain', 'brainstem']):\n",
    "    allen_subset = df_all_allen[df_all_allen.area == label]\n",
    "    atlas_subset = df_all_atlas[df_all_atlas.area == label]\n",
    "    plt.scatter(allen_subset.X, allen_subset.Y, s=120, marker='^', c=color, label=str('Allen ' + label))\n",
    "    plt.scatter(atlas_subset.X, atlas_subset.Y, s=120, marker='o', c=color, label=str('Atlas ' + label))\n",
    "    plt.xlabel('X')\n",
    "    plt.ylabel('Y')\n",
    "    ax = plt.gca()\n",
    "    ax.set_xlim([xmin, xmax])\n",
    "    ax.set_ylim([ymin, ymax])\n",
    "    ax.invert_yaxis()\n",
    "plt.title('All structures - Allen/Altas X Y scatter plot')    \n",
    "plt.legend()\n",
    "plt.legend()\n",
    "fig = plt.gcf()\n",
    "fig.set_size_inches(18.5, 10.5)"
   ]
  },
  {
   "cell_type": "code",
   "execution_count": null,
   "metadata": {},
   "outputs": [],
   "source": [
    "for color, label in zip('bgr', ['midbrain', 'brainstem']):\n",
    "    allen_subset = df_all_allen[df_all_allen.area == label]\n",
    "    atlas_subset = df_all_atlas[df_all_atlas.area == label]\n",
    "    plt.scatter(allen_subset.X, allen_subset.Z, s=120, marker='^', c=color, label=str('Allen ' + label))\n",
    "    plt.scatter(atlas_subset.X, atlas_subset.Z, s=120, marker='o', c=color, label=str('Atlas ' + label))\n",
    "    plt.xlabel('X')\n",
    "    plt.ylabel('Z')\n",
    "    ax = plt.gca()\n",
    "    ax.set_xlim([xmin, xmax])\n",
    "    #ax.set_ylim([ymin, ymax])\n",
    "    #ax.invert_yaxis()\n",
    "plt.title('All structures - Allen/Altas X Z scatter plot')    \n",
    "plt.legend()\n",
    "fig = plt.gcf()\n",
    "fig.set_size_inches(18.5, 10.5)"
   ]
  },
  {
   "cell_type": "code",
   "execution_count": null,
   "metadata": {},
   "outputs": [],
   "source": [
    "for color, label in zip('bgr', ['midbrain', 'brainstem']):\n",
    "    allen_subset = df_all_allen[df_all_allen.area == label]\n",
    "    atlas_subset = df_all_atlas[df_all_atlas.area == label]\n",
    "    plt.scatter(allen_subset.Z, allen_subset.Y, s=120, marker='^', c=color, label=str('Allen ' + label))\n",
    "    plt.scatter(atlas_subset.Z, atlas_subset.Y, s=120, marker='o', c=color, label=str('Atlas ' + label))\n",
    "    plt.xlabel('Z')\n",
    "    plt.ylabel('Y')\n",
    "    ax = plt.gca()\n",
    "    #ax.set_xlim([xmin, xmax])\n",
    "    #ax.set_ylim([ymin, ymax])\n",
    "    ax.invert_yaxis()\n",
    "plt.title('All structures - Allen/Altas Y Z scatter plot')    \n",
    "plt.legend()\n",
    "fig = plt.gcf()\n",
    "fig.set_size_inches(18.5, 10.5)"
   ]
  },
  {
   "cell_type": "code",
   "execution_count": null,
   "metadata": {},
   "outputs": [],
   "source": [
    "# xy\n",
    "for color, label in zip('bgr', ['Left', 'Right', 'Singular']):\n",
    "    allen_subset = df_brainstem_allen[df_brainstem_allen.S == label]\n",
    "    atlas_subset = df_brainstem_atlas[df_brainstem_atlas.S == label]\n",
    "    plt.scatter(allen_subset.X, allen_subset.Y, s=120, marker='^', c=color, label=str('Allen ' + label))\n",
    "    plt.scatter(atlas_subset.X, atlas_subset.Y, s=120, marker='o', c=color, label=str('Atlas ' + label))\n",
    "    plt.xlabel('X')\n",
    "    plt.ylabel('Y')\n",
    "    ax = plt.gca()\n",
    "    ax.set_xlim([xmin, xmax])\n",
    "    ax.set_ylim([ymin, ymax])\n",
    "    ax.invert_yaxis()\n",
    "plt.title('Brainstem Allen/Altas X Y scatter plot')    \n",
    "plt.legend()\n",
    "fig = plt.gcf()\n",
    "fig.set_size_inches(18.5, 10.5)"
   ]
  },
  {
   "cell_type": "code",
   "execution_count": null,
   "metadata": {},
   "outputs": [],
   "source": [
    "# xz\n",
    "for color, label in zip('bgr', ['Left', 'Right', 'Singular']):\n",
    "    allen_subset = df_brainstem_allen[df_brainstem_allen.S == label]\n",
    "    atlas_subset = df_brainstem_atlas[df_brainstem_atlas.S == label]\n",
    "    plt.scatter(allen_subset.X, allen_subset.Z, s=120, marker='^', c=color, label=str('Allen ' + label))\n",
    "    plt.scatter(atlas_subset.X, atlas_subset.Z, s=120, marker='o', c=color, label=str('Atlas ' + label))\n",
    "    plt.xlabel('X')\n",
    "    plt.ylabel('Z')\n",
    "    ax = plt.gca()\n",
    "    ax.set_xlim([xmin, xmax])\n",
    "    #ax.set_ylim([ymin, ymax])\n",
    "    #ax.invert_yaxis()\n",
    "plt.title('Brainstem Allen/Altas X Z scatter plot')    \n",
    "plt.legend()\n",
    "fig = plt.gcf()\n",
    "fig.set_size_inches(18.5, 10.5)"
   ]
  },
  {
   "cell_type": "code",
   "execution_count": null,
   "metadata": {},
   "outputs": [],
   "source": [
    "# yz\n",
    "for color, label in zip('bgr', ['Left', 'Right', 'Singular']):\n",
    "    allen_subset = df_brainstem_allen[df_brainstem_allen.S == label]\n",
    "    atlas_subset = df_brainstem_atlas[df_brainstem_atlas.S == label]\n",
    "    plt.scatter(allen_subset.Z, allen_subset.Y, s=120, marker='^', c=color, label=str('Allen ' + label))\n",
    "    plt.scatter(atlas_subset.Z, atlas_subset.Y, s=120, marker='o', c=color, label=str('Atlas ' + label))\n",
    "    plt.xlabel('Z')\n",
    "    plt.ylabel('Y')\n",
    "    ax = plt.gca()\n",
    "    #ax.set_xlim([xmin, xmax])\n",
    "    #ax.set_ylim([ymin, ymax])\n",
    "    ax.invert_yaxis()\n",
    "plt.title('Brainstem Allen/Altas Y Z scatter plot')    \n",
    "plt.legend()\n",
    "fig = plt.gcf()\n",
    "fig.set_size_inches(18.5, 10.5)"
   ]
  }
 ],
 "metadata": {
  "kernelspec": {
   "display_name": "Python 3",
   "language": "python",
   "name": "python3"
  },
  "language_info": {
   "codemirror_mode": {
    "name": "ipython",
    "version": 3
   },
   "file_extension": ".py",
   "mimetype": "text/x-python",
   "name": "python",
   "nbconvert_exporter": "python",
   "pygments_lexer": "ipython3",
   "version": "3.10.12"
  }
 },
 "nbformat": 4,
 "nbformat_minor": 4
}
