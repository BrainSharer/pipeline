{
 "cells": [
  {
   "cell_type": "code",
   "execution_count": 10,
   "id": "bdf185d3",
   "metadata": {},
   "outputs": [],
   "source": [
    "import os\n",
    "import matplotlib.pyplot as plt\n",
    "from mpl_toolkits.mplot3d import Axes3D\n",
    "import numpy as np\n",
    "import k3d\n",
    "import numpy as np\n",
    "from skimage import io\n",
    "from skimage.exposure import rescale_intensity\n",
    "import scipy.interpolate as si\n",
    "import cv2\n",
    "from skimage.filters import gaussian\n",
    "import ipywidgets"
   ]
  },
  {
   "cell_type": "code",
   "execution_count": 2,
   "id": "4d45bddf",
   "metadata": {},
   "outputs": [
    {
     "name": "stdout",
     "output_type": "stream",
     "text": [
      "Enabling notebook extension k3d/extension...\r\n",
      "      - Validating: \u001b[32mOK\u001b[0m\r\n"
     ]
    }
   ],
   "source": [
    "!jupyter nbextension enable --py --user k3d"
   ]
  },
  {
   "cell_type": "code",
   "execution_count": null,
   "id": "6a5fa1b3",
   "metadata": {},
   "outputs": [],
   "source": [
    "def normalize8(img):\n",
    "    mn = img.min()\n",
    "    mx = img.max()\n",
    "    mx -= mn\n",
    "    img = ((img - mn)/mx) * 2**8 - 1\n",
    "    return np.round(img).astype(np.uint8) \n",
    "\n",
    "def pad_volume(size, volume):\n",
    "    size_difference = size - volume.shape\n",
    "    xr, yr, zr = ((size_difference)/2).astype(int)\n",
    "    xl, yl, zl = size_difference - np.array([xr, yr, zr])\n",
    "    return np.pad(volume, [[xl, xr], [yl, yr], [zl, zr]])"
   ]
  },
  {
   "cell_type": "code",
   "execution_count": null,
   "id": "8f503e8d",
   "metadata": {},
   "outputs": [],
   "source": [
    "DATA = '/net/birdstore/Active_Atlas_Data/data_root/pipeline_data/MD589/preps/CH1/thumbnail_aligned.25um'\n",
    "fpath = os.path.join(DATA, '111.tif')\n",
    "img = cv2.imread(fpath, cv2.IMREAD_GRAYSCALE)"
   ]
  },
  {
   "cell_type": "code",
   "execution_count": null,
   "id": "9c9aa6f0",
   "metadata": {},
   "outputs": [],
   "source": [
    "filepath = '/home/eddyod/.brainglobe/allen_mouse_10um_v1.2/annotation.tiff'\n",
    "annotations = io.imread(filepath)"
   ]
  },
  {
   "cell_type": "code",
   "execution_count": null,
   "id": "67e5dfdf",
   "metadata": {},
   "outputs": [],
   "source": [
    "SC = annotations[annotations == 302]\n",
    "SC.dtype"
   ]
  },
  {
   "cell_type": "code",
   "execution_count": null,
   "id": "e09c846c",
   "metadata": {},
   "outputs": [],
   "source": [
    "ids, counts = np.unique(SC, return_counts=True)\n",
    "print(ids)\n",
    "print(counts)"
   ]
  },
  {
   "cell_type": "code",
   "execution_count": 11,
   "id": "3f4070f8",
   "metadata": {},
   "outputs": [],
   "source": [
    "def bspliner(cv, n=100, degree=3):\n",
    "    \"\"\"\n",
    "    Generate a B-spline curve from a set of polygon points.\n",
    "\n",
    "    Parameters:\n",
    "    cv (array-like): Array of control vertices.\n",
    "    n (int, optional): Number of points to generate along the B-spline curve. Default is 100.\n",
    "    degree (int, optional): Degree of the B-spline. Default is 3.\n",
    "\n",
    "    Returns:\n",
    "    numpy.ndarray: Array of points representing the B-spline curve.\n",
    "    \"\"\"\n",
    "\n",
    "    cv = np.asarray(cv)\n",
    "    count = len(cv)\n",
    "    degree = np.clip(degree,1,count-1)\n",
    "\n",
    "    # Calculate knot vector\n",
    "    kv = np.concatenate(([0]*degree, np.arange(count-degree+1), [count-degree]*degree))\n",
    "\n",
    "    # Calculate query range\n",
    "    u = np.linspace(False,(count-degree),n)\n",
    "\n",
    "    # Calculate result\n",
    "    return np.array(si.splev(u, (kv,cv.T,degree))).T    \n",
    "\n",
    "def smooth_image(gray):\n",
    "    # threshold\n",
    "    thresh = cv2.threshold(gray, 32, 255, cv2.THRESH_BINARY)[1]\n",
    "    # blur threshold image\n",
    "    blur = cv2.GaussianBlur(thresh, (0,0), sigmaX=3, sigmaY=3, borderType = cv2.BORDER_DEFAULT)\n",
    "    # stretch so that 255 -> 255 and 127.5 -> 0\n",
    "    stretch = rescale_intensity(blur, in_range=(127.5,255), out_range=(0,255)).astype(np.uint8)\n",
    "    # threshold again\n",
    "    thresh2 = cv2.threshold(stretch, 0, 255, cv2.THRESH_BINARY)[1]\n",
    "    # get external contour\n",
    "    contours = cv2.findContours(thresh2, cv2.RETR_EXTERNAL, cv2.CHAIN_APPROX_SIMPLE)\n",
    "    contours = contours[0] if len(contours) == 2 else contours[1]\n",
    "    big_contour = max(contours, key=cv2.contourArea)\n",
    "    # draw white filled contour on black background as mas\n",
    "    contour = np.zeros_like(gray)\n",
    "    cv2.drawContours(contour, [big_contour], 0, 255, -1)\n",
    "    # dilate mask for dark border\n",
    "    kernel = cv2.getStructuringElement(cv2.MORPH_ELLIPSE, (12,12))\n",
    "    dilate1 = cv2.morphologyEx(contour, cv2.MORPH_CLOSE, kernel)\n",
    "    # apply morphology erode\n",
    "    kernel = cv2.getStructuringElement(cv2.MORPH_ELLIPSE, (8,8))\n",
    "    dilate2 = cv2.morphologyEx(dilate1, cv2.MORPH_ERODE, kernel)\n",
    "    # blur dilate image\n",
    "    blur2 = cv2.GaussianBlur(dilate2, (3,3), sigmaX=0, sigmaY=0, borderType = cv2.BORDER_DEFAULT)\n",
    "    # stretch so that 255 -> 255 and 127.5 -> 0\n",
    "    mask = rescale_intensity(blur2, in_range=(127.5,255), out_range=(0,255))\n",
    "    #return cv2.bitwise_and(gray, gray, mask=mask.astype(np.uint8))\n",
    "    return cv2.bitwise_and(gray, mask.astype(np.uint8), mask=None)\n",
    "    #return dilate1\n"
   ]
  },
  {
   "cell_type": "code",
   "execution_count": null,
   "id": "df149286",
   "metadata": {},
   "outputs": [],
   "source": [
    "arr = img.copy()\n",
    "arr[arr == 255] = 0\n",
    "#arr[arr == 232] = 0\n",
    "plt.imshow(arr, cmap='gray')"
   ]
  },
  {
   "cell_type": "code",
   "execution_count": null,
   "id": "a91d3341",
   "metadata": {},
   "outputs": [],
   "source": [
    "simg = img.copy()\n",
    "simg[simg == 255] = 0\n",
    "smooth_img = smooth_image(simg)\n",
    "plt.imshow(smooth_img, cmap='gray')"
   ]
  },
  {
   "cell_type": "code",
   "execution_count": null,
   "id": "a965b6d6",
   "metadata": {},
   "outputs": [],
   "source": [
    "def merge_volumes(volumes):\n",
    "    sizes = np.array([vi.shape for vi in volumes])\n",
    "    volume_size = sizes.max(0) + 5\n",
    "    \n",
    "    volumes = [pad_volume(volume_size, vi) for vi in volumes]\n",
    "    volumes = list([(v > 0).astype(np.int32) for v in volumes])\n",
    "    merged_volume = np.sum(volumes, axis=0)\n",
    "    #merged_volume_prob = merged_volume / float(np.max(merged_volume))\n",
    "    merged_volume_prob = merged_volume / float(len(volumes))\n",
    "    # increasing the STD makes the volume smoother\n",
    "    # Smooth the probability\n",
    "    average_volume = gaussian(merged_volume_prob, 1.0)\n",
    "    color = 1\n",
    "    #average_volume = merged_volume_prob\n",
    "    average_volume[average_volume > 0.3] = color\n",
    "    average_volume[average_volume != color] = 0\n",
    "    average_volume = average_volume.astype(np.uint8)\n",
    "    return average_volume\n",
    "\n",
    "def merge_brain(volumes):\n",
    "    #sizes = np.array([vi.shape for vi in volumes])\n",
    "    #volume_size = sizes.max(0) + 5\n",
    "    \n",
    "    #volumes = [pad_volume(volume_size, vi) for vi in volumes]\n",
    "    #volumes = list([(v > 0).astype(np.int32) for v in volumes])\n",
    "    merged_volume = np.sum(volumes, axis=0)\n",
    "    #merged_volume_prob = merged_volume / float(np.max(merged_volume))\n",
    "    average_volume = merged_volume / float(len(volumes))\n",
    "    average_volume = normalize8(average_volume)\n",
    "    # increasing the STD makes the volume smoother\n",
    "    # Smooth the probability\n",
    "    #average_volume = gaussian(merged_volume_prob, 1.0)\n",
    "    #color = 1\n",
    "    #average_volume = merged_volume_prob\n",
    "    #average_volume[average_volume > 0.3] = color\n",
    "    #average_volume[average_volume != color] = 0\n",
    "    #average_volume = average_volume.astype(np.uint8)\n",
    "    return average_volume\n",
    "\n"
   ]
  },
  {
   "cell_type": "code",
   "execution_count": null,
   "id": "a5f9d2f3",
   "metadata": {},
   "outputs": [],
   "source": [
    "volumes = []\n",
    "brains = ['MD585', 'MD589', 'MD594']\n",
    "structure = '7n_L'\n",
    "for brain in brains:\n",
    "    structure_path = f'/net/birdstore/Active_Atlas_Data/data_root/atlas_data/{brain}'\n",
    "    volume_path = os.path.join(structure_path, 'structure', f'{structure}.npy')\n",
    "    volume = np.load(volume_path)\n",
    "    volumes.append(volume)\n",
    "    print(volume.shape)\n"
   ]
  },
  {
   "cell_type": "code",
   "execution_count": null,
   "id": "c49d2ce2",
   "metadata": {},
   "outputs": [],
   "source": [
    "brains = ['MD589_25um_sagittal.tif', 'MD585_MD589.tif', 'MD594_MD589.tif']\n",
    "volumes = []\n",
    "fixed_path = '/net/birdstore/Active_Atlas_Data/data_root/brains_info/registration'\n",
    "for brain in brains:\n",
    "    brainpath = os.path.join(fixed_path, brain)\n",
    "    brainimg = io.imread(brainpath)\n",
    "    if brainimg.dtype == np.uint8:\n",
    "        #brainimg = normalize8(brainimg)\n",
    "        brainimg = brainimg.astype(np.float32)\n",
    "    print(brain, brainimg.shape, brainimg.dtype)\n",
    "    volumes.append(brainimg)"
   ]
  },
  {
   "cell_type": "code",
   "execution_count": null,
   "id": "895da042",
   "metadata": {},
   "outputs": [],
   "source": [
    "merged_volume = merge_volumes(volumes)\n",
    "print(merged_volume.dtype)"
   ]
  },
  {
   "cell_type": "code",
   "execution_count": 26,
   "id": "f1b19834",
   "metadata": {
    "scrolled": true
   },
   "outputs": [
    {
     "name": "stdout",
     "output_type": "stream",
     "text": [
      "1. volume dtype=uint8 shape=(75, 64, 138)\n",
      "[0 1]\n",
      "[4735   65]\n",
      "min z = 0.0\n",
      "max z = 0.003921568627450981\n",
      "2. volume dtype=uint16 shape=(138, 64, 75)\n"
     ]
    }
   ],
   "source": [
    "# Full data structures look much better.\n",
    "structure = 'IC'\n",
    "structure_path = f'/net/birdstore/Active_Atlas_Data/data_root/atlas_data/MD594/structure'\n",
    "volume_path = os.path.join(structure_path, f'{structure}.npy')\n",
    "volume = np.load(volume_path)\n",
    "print(f'1. volume dtype={volume.dtype} shape={volume.shape}')\n",
    "volume = np.swapaxes(volume, 0, 2)\n",
    "z_values = volume[0, ...]\n",
    "ids, counts = np.unique(z_values, return_counts=True)\n",
    "print(ids)\n",
    "print(counts)\n",
    "\n",
    "volume = gaussian(volume, [4,0,0])\n",
    "#volume[volume > 0] = 255\n",
    "z_values = volume[0, ...]\n",
    "print(f'min z = {np.min(z_values)}')\n",
    "print(f'max z = {np.max(z_values)}')\n",
    "      \n",
    "volume = volume.astype(np.uint16)\n",
    "print(f'2. volume dtype={volume.dtype} shape={volume.shape}')"
   ]
  },
  {
   "cell_type": "code",
   "execution_count": 16,
   "id": "6ea34022",
   "metadata": {},
   "outputs": [
    {
     "data": {
      "text/plain": [
       "(array([  0,  10, 255], dtype=uint16), array([373204,   8832, 280364]))"
      ]
     },
     "execution_count": 16,
     "metadata": {},
     "output_type": "execute_result"
    }
   ],
   "source": [
    "np.unique(volume, return_counts=True)"
   ]
  },
  {
   "cell_type": "code",
   "execution_count": 18,
   "id": "df1e441c",
   "metadata": {},
   "outputs": [
    {
     "data": {
      "image/png": "[encoded data removed]",
      "text/plain": [
       "<Figure size 640x480 with 1 Axes>"
      ]
     },
     "metadata": {},
     "output_type": "display_data"
    }
   ],
   "source": [
    "fig = plt.figure()\n",
    "ax = fig.add_subplot(111, projection='3d')\n",
    "z,x,y = volume.nonzero()\n",
    "ax.scatter(x, y, z, zdir='y', c= 'red')\n",
    "plt.show()"
   ]
  },
  {
   "cell_type": "code",
   "execution_count": 19,
   "id": "9b2c5cec",
   "metadata": {},
   "outputs": [
    {
     "data": {
      "application/vnd.jupyter.widget-view+json": {
       "model_id": "b2a562c0ab294088bd033671b9211def",
       "version_major": 2,
       "version_minor": 0
      },
      "text/plain": [
       "Output()"
      ]
     },
     "metadata": {},
     "output_type": "display_data"
    }
   ],
   "source": [
    "plt_volume = k3d.volume(volume.astype(np.float32))\n",
    "plot = k3d.plot()\n",
    "plot += plt_volume\n",
    "plot.display()"
   ]
  }
 ],
 "metadata": {
  "kernelspec": {
   "display_name": "Python 3 (ipykernel)",
   "language": "python",
   "name": "python3"
  },
  "language_info": {
   "codemirror_mode": {
    "name": "ipython",
    "version": 3
   },
   "file_extension": ".py",
   "mimetype": "text/x-python",
   "name": "python",
   "nbconvert_exporter": "python",
   "pygments_lexer": "ipython3",
   "version": "3.10.12"
  }
 },
 "nbformat": 4,
 "nbformat_minor": 5
}
