{
 "cells": [
  {
   "cell_type": "code",
   "execution_count": null,
   "id": "bdf185d3",
   "metadata": {},
   "outputs": [],
   "source": [
    "import os\n",
    "import sys\n",
    "import matplotlib.pyplot as plt\n",
    "import numpy as np\n",
    "import pyvista as pv\n",
    "from skimage.filters import gaussian\n",
    "from scipy.ndimage import zoom, center_of_mass, shift, affine_transform\n",
    "import cv2\n",
    "\n",
    "import ipywidgets\n",
    "from pathlib import Path\n",
    "from tqdm import tqdm\n",
    "from collections import Counter\n",
    "import warnings\n",
    "warnings.filterwarnings(\"ignore\")\n",
    "#\"ipyvtklink\", \"panel\", \"ipygany\", \"static\", \"pythreejs\", \"client\", \"server\", \"trame\", \"none\"\n",
    "pv.set_jupyter_backend(\"panel\")"
   ]
  },
  {
   "cell_type": "code",
   "execution_count": null,
   "id": "2c14b7cd",
   "metadata": {},
   "outputs": [],
   "source": [
    "%load_ext autoreload\n",
    "%autoreload 2"
   ]
  },
  {
   "cell_type": "code",
   "execution_count": null,
   "id": "bfec3576",
   "metadata": {},
   "outputs": [],
   "source": [
    "PIPELINE_ROOT = Path('./').absolute().parents[1]\n",
    "PIPELINE_ROOT = PIPELINE_ROOT.as_posix()\n",
    "sys.path.append(PIPELINE_ROOT)\n",
    "print(PIPELINE_ROOT)\n",
    "\n",
    "data_path = '/net/birdstore/Active_Atlas_Data/data_root/atlas_data'\n",
    "from library.atlas.atlas_utilities import register_volume, adjust_volume, affine_transform_volume, \\\n",
    "    affine_transform_point"
   ]
  },
  {
   "cell_type": "code",
   "execution_count": null,
   "id": "72fe5678",
   "metadata": {},
   "outputs": [],
   "source": [
    "def visualize_slices(volume, title=\"Slice View\"):\n",
    "    \"\"\"Visualize the middle slices of a 3D volume.\"\"\"\n",
    "    fig, axes = plt.subplots(1, 3, figsize=(12, 4))\n",
    "    mid_slices = [s // 2 for s in volume.shape]\n",
    "    \n",
    "    axes[0].imshow(volume[mid_slices[0], :, :], cmap='gray')\n",
    "    axes[0].set_title(\"Axial Slice\")\n",
    "    axes[1].imshow(volume[:, mid_slices[1], :], cmap='gray')\n",
    "    axes[1].set_title(\"Coronal Slice\")\n",
    "    axes[2].imshow(volume[:, :, mid_slices[2]], cmap='gray')\n",
    "    axes[2].set_title(\"Sagittal Slice\")\n",
    "    \n",
    "    for ax in axes:\n",
    "        ax.axis(\"on\")\n",
    "    plt.suptitle(title)\n",
    "    plt.show()\n",
    "\n",
    "def get_clockwise_edge_coords(array):\n",
    "    # Ensure the array is binary (non-zero becomes 1)\n",
    "    binary = (array > 0).astype(np.uint8)\n",
    "    \n",
    "    # Use skimage's find_contours to detect contours at level 0.5\n",
    "    contours = measure.find_contours(binary, 0.5)\n",
    "\n",
    "    # If multiple contours, take the largest (most points)\n",
    "    if not contours:\n",
    "        return []\n",
    "    contour = max(contours, key=len)\n",
    "\n",
    "    # Convert (row, col) to (x, y) and round to int\n",
    "    coords = np.fliplr(contour).astype(int)\n",
    "\n",
    "    # Ensure clockwise order using signed area (shoelace formula)\n",
    "    def is_clockwise(pts):\n",
    "        return np.sum(\n",
    "            (pts[1:, 0] - pts[:-1, 0]) * (pts[1:, 1] + pts[:-1, 1])\n",
    "        ) > 0\n",
    "\n",
    "    if not is_clockwise(coords):\n",
    "        coords = coords[::-1]  # Reverse if not clockwise\n",
    "\n",
    "    return coords\n",
    "\n",
    "\n",
    "def get_evenly_spaced_vertices(mask, num_points):\n",
    "    \"\"\"\n",
    "    Given a binary mask, extract the outer contour and return evenly spaced vertices along the edge.\n",
    "\n",
    "    Parameters:\n",
    "    - mask: 2D numpy array (binary mask)\n",
    "    - num_points: Number of evenly spaced points to return\n",
    "\n",
    "    Returns:\n",
    "    - List of (x, y) coordinates of vertices\n",
    "    \"\"\"\n",
    "    # Ensure mask is uint8\n",
    "    mask = mask.astype(np.uint8)\n",
    "\n",
    "    # Find contours (external only)\n",
    "    contours, _ = cv2.findContours(mask, cv2.RETR_EXTERNAL, cv2.CHAIN_APPROX_NONE)\n",
    "    if not contours:\n",
    "        return []\n",
    "\n",
    "    # Choose the largest contour (in case there are multiple)\n",
    "    contour = max(contours, key=cv2.contourArea).squeeze()\n",
    "\n",
    "    # Calculate arc length (perimeter)\n",
    "    arc_length = cv2.arcLength(contour, True)\n",
    "    print(arc_length)\n",
    "\n",
    "    # Calculate the cumulative arc lengths\n",
    "    distances = [0]\n",
    "    for i in range(1, len(contour)):\n",
    "        d = np.linalg.norm(contour[i] - contour[i - 1])\n",
    "        distances.append(distances[-1] + d)\n",
    "    distances = np.array(distances)\n",
    "\n",
    "    # Sample points at regular intervals\n",
    "    desired_distances = np.linspace(0, distances[-1], num_points, endpoint=False)\n",
    "    vertices = []\n",
    "    j = 0\n",
    "    for d in desired_distances:\n",
    "        while j < len(distances) - 1 and distances[j+1] < d:\n",
    "            j += 1\n",
    "        # Linear interpolation between points j and j+1\n",
    "        t = (d - distances[j]) / (distances[j+1] - distances[j])\n",
    "        pt = (1 - t) * contour[j] + t * contour[j + 1]\n",
    "        vertices.append(tuple(pt.astype(int)))\n",
    "\n",
    "    return vertices"
   ]
  },
  {
   "cell_type": "code",
   "execution_count": null,
   "id": "ec2ae3d0",
   "metadata": {},
   "outputs": [],
   "source": [
    "structure = 'SC'\n",
    "animal = 'AtlasV8'\n",
    "structure_path = os.path.join(data_path, animal, 'structure', f'{structure}.npy')\n",
    "arr = np.load(structure_path)\n",
    "ids, counts = np.unique(arr, return_counts=True)\n",
    "print(ids)\n",
    "print(counts)\n",
    "print(arr.shape, arr.dtype, np.mean(arr), np.min(arr), np.max(arr))"
   ]
  },
  {
   "cell_type": "code",
   "execution_count": null,
   "id": "a38c856b",
   "metadata": {},
   "outputs": [],
   "source": [
    "volume = arr.copy()\n",
    "volume = volume * 255\n",
    "volume = volume.astype(np.uint8)\n",
    "print(volume.shape, volume.dtype, np.mean(volume), np.min(volume), np.max(volume))"
   ]
  },
  {
   "cell_type": "code",
   "execution_count": null,
   "id": "d408e266",
   "metadata": {},
   "outputs": [],
   "source": [
    "z = arr.shape[2] // 2\n",
    "volume = arr.copy()\n",
    "#volume = adjust_volume(volume, 255)\n",
    "slice = volume[:,:,z].astype(np.uint32)\n",
    "plt.imshow(slice, cmap='gray')"
   ]
  },
  {
   "cell_type": "code",
   "execution_count": null,
   "id": "cdeacb6b",
   "metadata": {},
   "outputs": [],
   "source": [
    "adjusted = adjust_volume(volume, 255)\n",
    "slice = adjusted[:,:,z].astype(np.uint32)\n",
    "plt.imshow(slice, cmap='gray')"
   ]
  },
  {
   "cell_type": "code",
   "execution_count": null,
   "id": "d4da9f96",
   "metadata": {},
   "outputs": [],
   "source": [
    "#n, nl, vertices = get_outer_edge_vertices(slice)\n",
    "vertices = get_evenly_spaced_vertices(slice, 20)\n",
    "# Visualize result\n",
    "plt.imshow(slice, cmap='gray')\n",
    "x, y = zip(*vertices)\n",
    "plt.plot(x, y, 'r-')\n",
    "plt.scatter(x, y, c='blue')\n",
    "plt.title(\"Contour Vertices\")\n",
    "plt.show()"
   ]
  },
  {
   "cell_type": "code",
   "execution_count": null,
   "id": "2d6c79a8",
   "metadata": {},
   "outputs": [],
   "source": [
    "slice = volume[:,:,z].astype(np.uint32)\n",
    "print(volume.shape)\n",
    "\n"
   ]
  },
  {
   "cell_type": "code",
   "execution_count": null,
   "id": "54f9c293",
   "metadata": {
    "scrolled": false
   },
   "outputs": [],
   "source": [
    "data = pv.wrap(volume)\n",
    "data.plot(volume=True) # Volume render"
   ]
  },
  {
   "cell_type": "code",
   "execution_count": null,
   "id": "1207bbad",
   "metadata": {
    "scrolled": true
   },
   "outputs": [],
   "source": [
    "#transformed_volume = affine_transform_volume(volume, transformation_matrix)\n",
    "# Visualize original and transformed volumes\n",
    "visualize_slices(volume, title=\"Original Volume\")\n",
    "#visualize_slices(transformed_volume, title=\"Transformed Volume\")"
   ]
  },
  {
   "cell_type": "code",
   "execution_count": null,
   "id": "41b4bdde",
   "metadata": {},
   "outputs": [],
   "source": [
    "# Visualize original and transformed volumes\n",
    "transformed_volume = affine_transform_volume(volume, transformation_matrix)\n",
    "visualize_slices(transformed_volume, title=\"Transformed Volume\")"
   ]
  }
 ],
 "metadata": {
  "kernelspec": {
   "display_name": "Python 3 (ipykernel)",
   "language": "python",
   "name": "python3"
  },
  "language_info": {
   "codemirror_mode": {
    "name": "ipython",
    "version": 3
   },
   "file_extension": ".py",
   "mimetype": "text/x-python",
   "name": "python",
   "nbconvert_exporter": "python",
   "pygments_lexer": "ipython3",
   "version": "3.10.12"
  }
 },
 "nbformat": 4,
 "nbformat_minor": 5
}
