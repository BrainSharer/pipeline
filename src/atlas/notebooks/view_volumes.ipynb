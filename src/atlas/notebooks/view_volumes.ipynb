{
 "cells": [
  {
   "cell_type": "code",
   "execution_count": null,
   "id": "bdf185d3",
   "metadata": {},
   "outputs": [],
   "source": [
    "import os\n",
    "import sys\n",
    "import matplotlib.pyplot as plt\n",
    "import numpy as np\n",
    "import pyvista as pv\n",
    "from skimage.filters import gaussian\n",
    "from scipy.ndimage import zoom, center_of_mass, shift, affine_transform\n",
    "import cv2\n",
    "\n",
    "import ipywidgets\n",
    "from pathlib import Path\n",
    "from tqdm import tqdm\n",
    "from collections import Counter\n",
    "import warnings\n",
    "warnings.filterwarnings(\"ignore\")\n",
    "#\"ipyvtklink\", \"panel\", \"ipygany\", \"static\", \"pythreejs\", \"client\", \"server\", \"trame\", \"none\"\n",
    "pv.set_jupyter_backend(\"panel\")"
   ]
  },
  {
   "cell_type": "code",
   "execution_count": null,
   "id": "2c14b7cd",
   "metadata": {},
   "outputs": [],
   "source": [
    "%load_ext autoreload\n",
    "%autoreload 2"
   ]
  },
  {
   "cell_type": "code",
   "execution_count": null,
   "id": "bfec3576",
   "metadata": {},
   "outputs": [],
   "source": [
    "PIPELINE_ROOT = Path('./').absolute().parents[1]\n",
    "PIPELINE_ROOT = PIPELINE_ROOT.as_posix()\n",
    "sys.path.append(PIPELINE_ROOT)\n",
    "print(PIPELINE_ROOT)\n",
    "\n",
    "data_path = '/net/birdstore/Active_Atlas_Data/data_root/atlas_data'\n",
    "from library.atlas.atlas_utilities import register_volume, adjust_volume, affine_transform_volume, apply_affine_transform"
   ]
  },
  {
   "cell_type": "code",
   "execution_count": null,
   "id": "72fe5678",
   "metadata": {},
   "outputs": [],
   "source": [
    "def filter_top_n_values(volume: np.ndarray, n: int, set_value: int = 1) -> np.ndarray:\n",
    "    \"\"\"\n",
    "    Get the `n` most common unique values from a numpy volume.\n",
    "    Sets those values to `set_value` and the rest to 0.\n",
    "\n",
    "    Parameters:\n",
    "        volume (np.ndarray): Input 3D volume.\n",
    "        n (int): Number of most common unique values to retain.\n",
    "        set_value (int, optional): The value to assign to the most common values. Defaults to 1.\n",
    "\n",
    "    Returns:\n",
    "        np.ndarray: Transformed volume.\n",
    "    \"\"\"\n",
    "    \n",
    "    # Flatten the volume and count occurrences of unique values\n",
    "    values, counts = np.unique(volume[volume != 0], return_counts=True)\n",
    "    \n",
    "    # Get the top `n` most common values\n",
    "    top_n_values = [val for val, _ in Counter(dict(zip(values, counts))).most_common(n)]\n",
    "    print(f'top {n} {top_n_values=}')\n",
    "    \n",
    "    # Create a mask where only top N values are retained\n",
    "    mask = np.isin(volume, top_n_values)\n",
    "    \n",
    "    # Set the selected values to `set_value` and the rest to 0\n",
    "    result = np.where(mask, set_value, 0)\n",
    "    \n",
    "    return result\n",
    "\n",
    "\n",
    "def center_3d_volume(volume: np.ndarray) -> np.ndarray:\n",
    "    \"\"\"\n",
    "    Centers a 3D volume by shifting its center of mass to the geometric center.\n",
    "\n",
    "    Parameters:\n",
    "    volume (np.ndarray): A 3D numpy array representing the volume.\n",
    "\n",
    "    Returns:\n",
    "    np.ndarray: The centered 3D volume.\n",
    "    \"\"\"\n",
    "    if volume.ndim != 3:\n",
    "        raise ValueError(\"Input volume must be a 3D numpy array\")\n",
    "    \n",
    "    # Compute the center of mass\n",
    "    com = np.array(center_of_mass(volume))\n",
    "    \n",
    "    # Compute the geometric center\n",
    "    shape = np.array(volume.shape)\n",
    "    geometric_center = (shape - 1) / 2\n",
    "    \n",
    "    # Compute the shift required\n",
    "    shift_values = geometric_center - com\n",
    "    \n",
    "    # Apply shift\n",
    "    centered_volume = shift(volume, shift_values, mode='constant', cval=0)\n",
    "    \n",
    "    return centered_volume\n",
    "\n",
    "def crop_nonzero_3d(volume):\n",
    "    \"\"\"\n",
    "    Crops a 3D volume to remove all-zero regions.\n",
    "    \n",
    "    Parameters:\n",
    "        volume (numpy.ndarray): A 3D NumPy array.\n",
    "        \n",
    "    Returns:\n",
    "        numpy.ndarray: The cropped 3D volume.\n",
    "    \"\"\"\n",
    "    if volume.ndim != 3:\n",
    "        raise ValueError(\"Input volume must be a 3D NumPy array\")\n",
    "    \n",
    "    # Find nonzero elements\n",
    "    nonzero_coords = np.argwhere(volume)\n",
    "    \n",
    "    # Get bounding box of nonzero elements\n",
    "    min_coords = nonzero_coords.min(axis=0)\n",
    "    max_coords = nonzero_coords.max(axis=0) + 1  # Add 1 to include the max index\n",
    "    \n",
    "    # Crop the volume\n",
    "    cropped_volume = volume[min_coords[0]:max_coords[0],\n",
    "                            min_coords[1]:max_coords[1],\n",
    "                            min_coords[2]:max_coords[2]]\n",
    "    \n",
    "    return cropped_volume\n",
    "\n",
    "def normalize16(img):\n",
    "    if img.dtype == np.uint32:\n",
    "        print('image dtype is 32bit')\n",
    "        return img.astype(np.uint16)\n",
    "    else:\n",
    "        mn = img.min()\n",
    "        mx = img.max()\n",
    "        mx -= mn\n",
    "        img = ((img - mn)/mx) * 2**16 - 1\n",
    "        return np.round(img).astype(np.uint16) \n",
    "\n",
    "\n",
    "def apply_affine_transformation(volume, matrix, translation):\n",
    "    \"\"\"Apply an affine transformation to a 3D volume.\"\"\"\n",
    "    transformed_volume = affine_transform(volume, matrix, offset=translation, order=1)\n",
    "    return transformed_volume\n",
    "\n",
    "def visualize_slices(volume, title=\"Slice View\"):\n",
    "    \"\"\"Visualize the middle slices of a 3D volume.\"\"\"\n",
    "    fig, axes = plt.subplots(1, 3, figsize=(12, 4))\n",
    "    mid_slices = [s // 2 for s in volume.shape]\n",
    "    \n",
    "    axes[0].imshow(volume[mid_slices[0], :, :], cmap='gray')\n",
    "    axes[0].set_title(\"Axial Slice\")\n",
    "    axes[1].imshow(volume[:, mid_slices[1], :], cmap='gray')\n",
    "    axes[1].set_title(\"Coronal Slice\")\n",
    "    axes[2].imshow(volume[:, :, mid_slices[2]], cmap='gray')\n",
    "    axes[2].set_title(\"Sagittal Slice\")\n",
    "    \n",
    "    for ax in axes:\n",
    "        ax.axis(\"on\")\n",
    "    plt.suptitle(title)\n",
    "    plt.show()\n",
    "\n"
   ]
  },
  {
   "cell_type": "code",
   "execution_count": null,
   "id": "ec2ae3d0",
   "metadata": {},
   "outputs": [],
   "source": [
    "structure = 'SC'\n",
    "structure_path = os.path.join(data_path, 'AtlasV8', 'structure', f'{structure}.npy')\n",
    "arr = np.load(structure_path)\n",
    "print(arr.shape)"
   ]
  },
  {
   "cell_type": "code",
   "execution_count": null,
   "id": "d408e266",
   "metadata": {},
   "outputs": [],
   "source": [
    "z = arr.shape[2] // 2\n",
    "plt.imshow(arr[:, :, z], cmap='gray')"
   ]
  },
  {
   "cell_type": "code",
   "execution_count": null,
   "id": "d4da9f96",
   "metadata": {},
   "outputs": [],
   "source": [
    "volume = arr.copy()\n",
    "volume = adjust_volume(volume, 255)\n",
    "plt.imshow(volume[:,:,z], cmap=\"gray\")"
   ]
  },
  {
   "cell_type": "code",
   "execution_count": null,
   "id": "54f9c293",
   "metadata": {
    "scrolled": false
   },
   "outputs": [],
   "source": [
    "data = pv.wrap(v2)\n",
    "data.plot(volume=True) # Volume render"
   ]
  },
  {
   "cell_type": "code",
   "execution_count": null,
   "id": "af6ff57d",
   "metadata": {},
   "outputs": [],
   "source": [
    "transformation_matrix = np.array([[ 1.00020121e+00, -7.85455904e-02, -1.64689004e-02,\n",
    "        -1.46273691e+03],\n",
    "       [ 1.81477262e-01,  1.14218291e+00,  7.63646430e-02,\n",
    "        -4.31843852e+03],\n",
    "       [-3.29134061e-02, -7.44862557e-02,  1.07530126e+00,\n",
    "         1.31840353e+03],\n",
    "       [ 0.00000000e+00,  0.00000000e+00,  0.00000000e+00,\n",
    "         1.00000000e+00]])\n",
    "print(transformation_matrix)"
   ]
  },
  {
   "cell_type": "code",
   "execution_count": null,
   "id": "1207bbad",
   "metadata": {
    "scrolled": true
   },
   "outputs": [],
   "source": [
    "transformed_volume = affine_transform_volume(volume, transformation_matrix)\n",
    "# Visualize original and transformed volumes\n",
    "visualize_slices(volume, title=\"Original Volume\")\n",
    "visualize_slices(transformed_volume, title=\"Transformed Volume\")\n"
   ]
  },
  {
   "cell_type": "code",
   "execution_count": null,
   "id": "8ada1b92",
   "metadata": {},
   "outputs": [],
   "source": [
    "print(volume.shape)\n",
    "print(transformed_volume.shape)"
   ]
  }
 ],
 "metadata": {
  "kernelspec": {
   "display_name": "Python 3 (ipykernel)",
   "language": "python",
   "name": "python3"
  },
  "language_info": {
   "codemirror_mode": {
    "name": "ipython",
    "version": 3
   },
   "file_extension": ".py",
   "mimetype": "text/x-python",
   "name": "python",
   "nbconvert_exporter": "python",
   "pygments_lexer": "ipython3",
   "version": "3.10.12"
  }
 },
 "nbformat": 4,
 "nbformat_minor": 5
}
