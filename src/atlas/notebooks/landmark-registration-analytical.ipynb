{
 "cells": [
  {
   "cell_type": "code",
   "execution_count": null,
   "metadata": {},
   "outputs": [],
   "source": [
    "import sys\n",
    "from pathlib import Path\n",
    "import numpy as np\n",
    "from scipy.ndimage import center_of_mass\n",
    "#import warnings\n",
    "#warnings.filterwarnings(\"error\")\n",
    "import matplotlib.pyplot as plt\n",
    "import pandas as pd\n",
    "import plotly.express as px\n",
    "import numpy as np\n",
    "\n",
    "PIPELINE_ROOT = Path('../src').resolve().parent.parent\n",
    "sys.path.append(PIPELINE_ROOT.as_posix())\n",
    "print(PIPELINE_ROOT)\n",
    "\n",
    "from library.registration.brain_structure_manager import BrainStructureManager\n",
    "from library.utilities.algorithm import umeyama"
   ]
  },
  {
   "cell_type": "code",
   "execution_count": null,
   "metadata": {},
   "outputs": [],
   "source": [
    "def brain_to_atlas_transform(brain_coord, r, t):\n",
    "    brain_coord = np.array(brain_coord).reshape(3, 1) # Convert to a column vector\n",
    "    atlas_coord = r @ brain_coord + t\n",
    "    return atlas_coord.T[0] # Convert back to a row vector\n",
    "\n",
    "def calculate_distance(com1, com2):\n",
    "    return (np.linalg.norm(com1 - com2))\n",
    "\n",
    "def plot_point_sets_3d(point_sets):\n",
    "    df = pd.DataFrame()\n",
    "    for data, label in point_sets:\n",
    "        df_cur = pd.DataFrame(data.T, columns=['x', 'y', 'z'])\n",
    "        df_cur['label'] = label\n",
    "        #df = df.concat(df_cur, ignore_index=True)\n",
    "        df = pd.concat([df, df_cur], axis= 0)\n",
    "    \n",
    "    fig = px.scatter_3d(df, x='x', y='y', z='z', color='label')\n",
    "    return fig"
   ]
  },
  {
   "cell_type": "code",
   "execution_count": null,
   "metadata": {},
   "outputs": [],
   "source": [
    "animal = 'Atlas'\n",
    "brain = BrainStructureManager(animal)\n",
    "brain.fixed_brain = BrainStructureManager('Allen')"
   ]
  },
  {
   "cell_type": "code",
   "execution_count": null,
   "metadata": {},
   "outputs": [],
   "source": [
    "moving_coms = brain.get_coms(annotator_id=1)\n",
    "#del moving_coms['Sp5C_L']\n",
    "#del moving_coms['RtTg']\n",
    "fixed_coms = brain.fixed_brain.get_coms(annotator_id=1)\n",
    "common_keys = fixed_coms.keys() & moving_coms.keys()\n",
    "brain_regions = sorted(moving_coms.keys())\n",
    "common_keys = ['SC','IC','PBG_L','PBG_R','3N_L','3N_R','4N_L','4N_R','SNR_L','SNR_R','VLL_L','VLL_R']\n",
    "fixed_points = np.array([fixed_coms[s] for s in brain_regions if s in common_keys])\n",
    "moving_points = np.array([moving_coms[s] for s in brain_regions if s in common_keys])"
   ]
  },
  {
   "cell_type": "code",
   "execution_count": null,
   "metadata": {},
   "outputs": [],
   "source": [
    "fixed_point_dict = {s:fixed_coms[s] for s in brain_regions if s in common_keys}\n",
    "moving_point_dict = {s:moving_coms[s] for s in brain_regions if s in common_keys}"
   ]
  },
  {
   "cell_type": "code",
   "execution_count": null,
   "metadata": {},
   "outputs": [],
   "source": [
    "fixed_point_dict"
   ]
  },
  {
   "cell_type": "code",
   "execution_count": null,
   "metadata": {},
   "outputs": [],
   "source": [
    "distances = []\n",
    "for structure in common_keys:\n",
    "    (x,y,z) = fixed_point_dict[structure]\n",
    "    fixed_point = np.array([x,y,z])    \n",
    "    moving_point = np.array(moving_point_dict[structure])\n",
    "    d = calculate_distance(fixed_point, moving_point)\n",
    "    distances.append(d)\n",
    "    moving_point = np.round(moving_point/25)\n",
    "    print(f'{structure} COM={moving_point} distance={round(d,2)}')"
   ]
  },
  {
   "cell_type": "code",
   "execution_count": null,
   "metadata": {},
   "outputs": [],
   "source": [
    "\"\"\"\n",
    "SC COM=[357.  93. 229.] distance=309.4\n",
    "IC COM=[407.  78. 224.] distance=290.55\n",
    "PBG_L COM=[383. 136. 143.] distance=464.15\n",
    "PBG_R COM=[382. 141. 311.] distance=357.12\n",
    "3N_L COM=[368. 152. 223.] distance=100.88\n",
    "3N_R COM=[368. 154. 234.] distance=106.66\n",
    "4N_L COM=[386. 149. 215.] distance=95.34\n",
    "4N_R COM=[386. 151. 237.] distance=64.32\n",
    "SNR_L COM=[357. 193. 165.] distance=597.31\n",
    "SNR_R COM=[355. 193. 294.] distance=559.41\n",
    "VLL_L COM=[392. 172. 148.] distance=944.63\n",
    "VLL_R COM=[391. 181. 303.] distance=721.04\n",
    "\n",
    "SC COM=[356.  92. 229.] distance=327.88\n",
    "IC COM=[406.  77. 225.] distance=316.61\n",
    "PBG_L COM=[382. 135. 143.] distance=479.08\n",
    "PBG_R COM=[381. 141. 312.] distance=356.87\n",
    "3N_L COM=[366. 152. 223.] distance=82.6\n",
    "3N_R COM=[367. 153. 234.] distance=74.17\n",
    "4N_L COM=[385. 148. 216.] distance=83.52\n",
    "4N_R COM=[385. 150. 238.] distance=42.41\n",
    "SNR_L COM=[356. 193. 166.] distance=589.6\n",
    "SNR_R COM=[354. 192. 294.] distance=546.13\n",
    "VLL_L COM=[390. 172. 149.] distance=934.07\n",
    "VLL_R COM=[390. 180. 303.] distance=730.59\n",
    "\n",
    "SC COM=[364.  90. 230.] distance=153.14\n",
    "IC COM=[416.  86. 226.] distance=57.8\n",
    "PBG_L COM=[378. 144. 141.] distance=241.66\n",
    "PBG_R COM=[376. 147. 316.] distance=192.25\n",
    "3N_L COM=[362. 153. 224.] distance=105.12\n",
    "3N_R COM=[363. 154. 235.] distance=60.78\n",
    "4N_L COM=[382. 153. 216.] distance=76.64\n",
    "4N_R COM=[380. 154. 239.] distance=117.63\n",
    "SNR_L COM=[341. 195. 165.] distance=322.87\n",
    "SNR_R COM=[338. 195. 296.] distance=307.14\n",
    "VLL_L COM=[382. 179. 148.] distance=722.29\n",
    "VLL_R COM=[377. 187. 307.] distance=516.72\n",
    "\"\"\""
   ]
  },
  {
   "cell_type": "code",
   "execution_count": null,
   "metadata": {},
   "outputs": [],
   "source": [
    "print(fixed_points.shape)\n",
    "print('Mean')\n",
    "print(np.mean(fixed_points, axis=0))\n",
    "print(np.mean(moving_points, axis=0))\n",
    "print('Min')\n",
    "print(np.min(fixed_points, axis=0))\n",
    "print(np.min(moving_points, axis=0))\n",
    "print('Max')\n",
    "print(np.max(fixed_points, axis=0))\n",
    "print(np.max(moving_points, axis=0))\n",
    "#fixed_points - moving_points"
   ]
  },
  {
   "cell_type": "code",
   "execution_count": null,
   "metadata": {},
   "outputs": [],
   "source": [
    "plot_point_sets_3d([\n",
    "    (moving_points.T, 'unaligned moving centers'),\n",
    "    (fixed_points.T, 'Allen centers')\n",
    "])"
   ]
  },
  {
   "cell_type": "code",
   "execution_count": null,
   "metadata": {},
   "outputs": [],
   "source": [
    "r, t = umeyama(moving_points.T, fixed_points.T)"
   ]
  },
  {
   "cell_type": "code",
   "execution_count": null,
   "metadata": {},
   "outputs": [],
   "source": [
    "t"
   ]
  },
  {
   "cell_type": "code",
   "execution_count": null,
   "metadata": {},
   "outputs": [],
   "source": [
    "reg_points = r @ moving_points.T + t"
   ]
  },
  {
   "cell_type": "code",
   "execution_count": null,
   "metadata": {},
   "outputs": [],
   "source": [
    "print('Mean')\n",
    "print(np.mean(fixed_points, axis=0))\n",
    "print(np.mean(reg_points, axis=1))\n",
    "print('Min')\n",
    "print(np.min(fixed_points, axis=0))\n",
    "print(np.min(reg_points, axis=1))\n",
    "print('Max')\n",
    "print(np.max(fixed_points, axis=0))\n",
    "print(np.max(reg_points, axis=1))"
   ]
  },
  {
   "cell_type": "code",
   "execution_count": null,
   "metadata": {},
   "outputs": [],
   "source": [
    "reg_point_dict = {s:moving_coms[s] for s in brain_regions if s in common_keys}"
   ]
  },
  {
   "cell_type": "code",
   "execution_count": null,
   "metadata": {},
   "outputs": [],
   "source": [
    "distances = []\n",
    "for structure in common_keys:\n",
    "    (x,y,z) = fixed_point_dict[structure]\n",
    "    fixed_point = np.array([x,y,z])    \n",
    "    moving_point = np.array(moving_point_dict[structure])\n",
    "    reg_point = brain_to_atlas_transform(moving_point, r, t)\n",
    "    d = calculate_distance(fixed_point, reg_point)\n",
    "    distances.append(d)\n",
    "    reg_point = np.round(reg_point / 25)\n",
    "    print(f'{structure} COM={reg_point} distance={round(d,2)}')"
   ]
  },
  {
   "cell_type": "code",
   "execution_count": null,
   "metadata": {},
   "outputs": [],
   "source": [
    "len(distances), round(np.mean(distances)), round(min(distances)), round(max(distances)), round(np.sum(distances))"
   ]
  },
  {
   "cell_type": "code",
   "execution_count": null,
   "metadata": {},
   "outputs": [],
   "source": [
    "# MD594 (33, 436, 111, 2838, 14391)\n",
    "# MD589 (33, 429, 107, 2922, 14146)\n",
    "# MD589 (31, 276, 53, 818, 8554) # with no RtTG and SPc\n",
    "# MD589 (33, 276, 77, 529, 9098)"
   ]
  },
  {
   "cell_type": "code",
   "execution_count": null,
   "metadata": {},
   "outputs": [],
   "source": [
    "plot_point_sets_3d([\n",
    "    (reg_points, 'registered moving centers'),\n",
    "    (fixed_points.T, 'Allen centers')    \n",
    "])"
   ]
  }
 ],
 "metadata": {
  "kernelspec": {
   "display_name": "Python 3 (ipykernel)",
   "language": "python",
   "name": "python3"
  },
  "language_info": {
   "codemirror_mode": {
    "name": "ipython",
    "version": 3
   },
   "file_extension": ".py",
   "mimetype": "text/x-python",
   "name": "python",
   "nbconvert_exporter": "python",
   "pygments_lexer": "ipython3",
   "version": "3.10.6"
  }
 },
 "nbformat": 4,
 "nbformat_minor": 4
}
