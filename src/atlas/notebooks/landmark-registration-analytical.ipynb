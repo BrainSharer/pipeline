{
 "cells": [
  {
   "cell_type": "code",
   "execution_count": 1,
   "metadata": {},
   "outputs": [
    {
     "name": "stdout",
     "output_type": "stream",
     "text": [
      "/home/eddyod/programming/preprocessing-pipeline/src\n"
     ]
    }
   ],
   "source": [
    "import sys\n",
    "from pathlib import Path\n",
    "import numpy as np\n",
    "import matplotlib.pyplot as plt\n",
    "import pandas as pd\n",
    "import plotly.express as px\n",
    "import numpy as np\n",
    "import cv2\n",
    "from superpose3d import Superpose3D\n",
    "\n",
    "PIPELINE_ROOT = Path('../src').resolve().parent.parent\n",
    "sys.path.append(PIPELINE_ROOT.as_posix())\n",
    "print(PIPELINE_ROOT)\n",
    "\n",
    "from library.registration.brain_structure_manager import BrainStructureManager\n",
    "from library.registration.algorithm import umeyama"
   ]
  },
  {
   "cell_type": "code",
   "execution_count": 2,
   "metadata": {},
   "outputs": [],
   "source": [
    "def brain_to_atlas_transform(brain_coord, r, t):\n",
    "    brain_coord = np.array(brain_coord).reshape(3, 1) # Convert to a column vector\n",
    "    atlas_coord = r @ brain_coord + t\n",
    "    return atlas_coord.T[0] # Convert back to a row vector\n",
    "\n",
    "def calculate_distance(com1, com2):\n",
    "    return (np.linalg.norm(com1 - com2))\n",
    "        \n",
    "def plot_point_sets_3d(point_sets):\n",
    "    df = pd.DataFrame()\n",
    "    for data, label in point_sets:\n",
    "        df_cur = pd.DataFrame(data.T, columns=['x', 'y', 'z'])\n",
    "        df_cur['label'] = label\n",
    "        #df = df.concat(df_cur, ignore_index=True)\n",
    "        df = pd.concat([df, df_cur], axis= 0)\n",
    "    \n",
    "    fig = px.scatter_3d(df, x='x', y='y', z='z', color='label', width=800, height=600)\n",
    "    fig.update_layout(\n",
    "    scene={\n",
    "        'xaxis': {'range': (0, 528)}, \n",
    "        'yaxis': {'range': (0, 320)},\n",
    "        'zaxis': {'range': (0, 456)},\n",
    "    })\n",
    "    return fig\n",
    "        "
   ]
  },
  {
   "cell_type": "code",
   "execution_count": 3,
   "metadata": {},
   "outputs": [],
   "source": [
    "animal = 'Atlas'\n",
    "brain = BrainStructureManager(animal)\n",
    "brain.fixed_brain = BrainStructureManager('Allen')"
   ]
  },
  {
   "cell_type": "code",
   "execution_count": null,
   "metadata": {},
   "outputs": [],
   "source": [
    "brainstem_keys = set(brain.allen_structures_keys) - brain.midbrain_keys "
   ]
  },
  {
   "cell_type": "code",
   "execution_count": 4,
   "metadata": {},
   "outputs": [],
   "source": [
    "moving_coms = brain.get_coms(annotator_id=1)\n",
    "allen_coms = brain.fixed_brain.get_coms(annotator_id=1)\n",
    "common_keys = sorted(allen_coms.keys() & moving_coms.keys())\n",
    "allen_points = np.array([allen_coms[s] for s in common_keys])\n",
    "moving_points = np.array([moving_coms[s] for s in common_keys])"
   ]
  },
  {
   "cell_type": "code",
   "execution_count": null,
   "metadata": {},
   "outputs": [],
   "source": [
    "common_midbrain_keys = sorted(allen_coms.keys() & moving_coms.keys() & brain.midbrain_keys)\n",
    "allen_midbrain_points = np.array([allen_coms[s] for s in common_midbrain_keys])\n",
    "moving_midbrain_points = np.array([moving_coms[s] for s in common_midbrain_keys])"
   ]
  },
  {
   "cell_type": "code",
   "execution_count": 5,
   "metadata": {},
   "outputs": [],
   "source": [
    "allen_point_dict = {s:allen_coms[s] for s in common_keys}\n",
    "moving_point_dict = {s:moving_coms[s] for s in common_keys}"
   ]
  },
  {
   "cell_type": "code",
   "execution_count": 7,
   "metadata": {},
   "outputs": [
    {
     "data": {
      "text/plain": [
       "37"
      ]
     },
     "execution_count": 7,
     "metadata": {},
     "output_type": "execute_result"
    }
   ],
   "source": [
    "len(moving_point_dict)"
   ]
  },
  {
   "cell_type": "code",
   "execution_count": 8,
   "metadata": {},
   "outputs": [
    {
     "name": "stdout",
     "output_type": "stream",
     "text": [
      "n=37, min=25.450888000224076 max=972.47115895537, mean=245.29979010644993\n",
      "PBG_L distance from Allen=25.45 micrometers\n",
      "VLL_L distance from Allen=31.01 micrometers\n",
      "IC distance from Allen=55.84 micrometers\n",
      "7N_R distance from Allen=56.93 micrometers\n",
      "7N_L distance from Allen=65.45 micrometers\n",
      "PBG_R distance from Allen=110.85 micrometers\n",
      "SNC_L distance from Allen=111.15 micrometers\n",
      "SNC_R distance from Allen=117.04 micrometers\n",
      "5N_L distance from Allen=119.65 micrometers\n",
      "Sp5I_R distance from Allen=128.85 micrometers\n",
      "Sp5O_R distance from Allen=152.38 micrometers\n",
      "Sp5I_L distance from Allen=160.27 micrometers\n",
      "4N_L distance from Allen=175.32 micrometers\n",
      "Sp5C_L distance from Allen=186.85 micrometers\n",
      "LRt_L distance from Allen=202.76 micrometers\n",
      "DC_L distance from Allen=205.27 micrometers\n",
      "Amb_L distance from Allen=211.9 micrometers\n",
      "5N_R distance from Allen=213.55 micrometers\n",
      "4N_R distance from Allen=216.75 micrometers\n",
      "LRt_R distance from Allen=224.4 micrometers\n",
      "3N_L distance from Allen=226.0 micrometers\n",
      "6N_L distance from Allen=248.35 micrometers\n",
      "3N_R distance from Allen=256.6 micrometers\n",
      "Sp5O_L distance from Allen=266.36 micrometers\n",
      "SC distance from Allen=267.43 micrometers\n",
      "SNR_R distance from Allen=268.35 micrometers\n",
      "SNR_L distance from Allen=269.18 micrometers\n",
      "6N_R distance from Allen=282.57 micrometers\n",
      "DC_R distance from Allen=288.04 micrometers\n",
      "Amb_R distance from Allen=327.57 micrometers\n",
      "LC_L distance from Allen=368.66 micrometers\n",
      "AP distance from Allen=399.42 micrometers\n",
      "LC_R distance from Allen=442.65 micrometers\n",
      "7n_R distance from Allen=443.89 micrometers\n",
      "7n_L distance from Allen=482.58 micrometers\n",
      "VLL_R distance from Allen=494.26 micrometers\n",
      "RtTg distance from Allen=972.47 micrometers\n"
     ]
    }
   ],
   "source": [
    "distances = []\n",
    "sortme = {}\n",
    "for structure in common_keys:\n",
    "    (x,y,z) = allen_point_dict[structure]\n",
    "    allen_point = np.array([x,y,z])    \n",
    "    moving_point = np.array(moving_point_dict[structure])\n",
    "    #print(atlas_point, allen_point)\n",
    "    d = calculate_distance(allen_point, moving_point)\n",
    "    distances.append(d)\n",
    "    sortme[structure] = d\n",
    "print(f'n={len(distances)}, min={min(distances)} max={max(distances)}, mean={np.mean(distances)}')\n",
    "ds = {k: v for k, v in sorted(sortme.items(), key=lambda item: item[1])}\n",
    "for structure, d in ds.items():\n",
    "    print(f'{structure} distance from Allen={round(d,2)} micrometers')"
   ]
  },
  {
   "cell_type": "code",
   "execution_count": null,
   "metadata": {},
   "outputs": [],
   "source": [
    "plot_point_sets_3d([\n",
    "    (moving_points.T/25, 'unaligned moving centers'),\n",
    "    (allen_points.T/25, 'Allen centers')\n",
    "])"
   ]
  },
  {
   "cell_type": "code",
   "execution_count": null,
   "metadata": {},
   "outputs": [],
   "source": [
    "(RMSD, R1, t1, _) = Superpose3D(allen_points, moving_points, allow_rescale=True)\n",
    "t1 = t1.reshape(3,1)\n",
    "print(RMSD)\n",
    "print(R1)\n",
    "print(t1)"
   ]
  },
  {
   "cell_type": "code",
   "execution_count": null,
   "metadata": {},
   "outputs": [],
   "source": [
    "allen_midbrain_points.shape"
   ]
  },
  {
   "cell_type": "code",
   "execution_count": null,
   "metadata": {},
   "outputs": [],
   "source": [
    "R, t = umeyama(moving_points.T, allen_points.T)"
   ]
  },
  {
   "cell_type": "code",
   "execution_count": null,
   "metadata": {},
   "outputs": [],
   "source": [
    "t"
   ]
  },
  {
   "cell_type": "code",
   "execution_count": null,
   "metadata": {},
   "outputs": [],
   "source": [
    "n, a1, a2 = cv2.estimateAffine3D(src=moving_points, dst=allen_points)\n",
    "a2.shape\n"
   ]
  },
  {
   "cell_type": "code",
   "execution_count": null,
   "metadata": {},
   "outputs": [],
   "source": [
    "R3 = a1[:,0:3]\n",
    "t3 = a1[:,-1].reshape(3,1)"
   ]
  },
  {
   "cell_type": "code",
   "execution_count": null,
   "metadata": {},
   "outputs": [],
   "source": [
    "t3.shape"
   ]
  },
  {
   "cell_type": "code",
   "execution_count": null,
   "metadata": {},
   "outputs": [],
   "source": [
    "reg_points = R @ moving_points.T + t"
   ]
  },
  {
   "cell_type": "code",
   "execution_count": null,
   "metadata": {},
   "outputs": [],
   "source": [
    "reg_points3 = R3 @ moving_points.T + t3"
   ]
  },
  {
   "cell_type": "markdown",
   "metadata": {},
   "source": [
    " That does not preclude starting the new idea but is just to say that somehow we need to get David's attention on what you have done- do a graph\n",
    "= box plot of the midbrain com distances vs allen (active atlas based)\n",
    "=box plot of the brainstem vs allen distances (but not using midbrain values to improve the distances)\n",
    "This should provide an easy visual...\n",
    "\n",
    "\n",
    "When the tethering is done for the brainstem structures though- he does not want the midbrain metrics to be included ( I don't know though if he means that the alignment is done with midbrain and then the evaluated outputs are only for the brainstem structures...?) your guess is best\n",
    "So- in any case it was clear that he did not want metrics for midbrain and brainstem structures to be combined."
   ]
  },
  {
   "cell_type": "code",
   "execution_count": null,
   "metadata": {},
   "outputs": [],
   "source": [
    "print('Mean')\n",
    "print(np.mean(allen_points, axis=0))\n",
    "print(np.mean(reg_points, axis=1))\n",
    "print(np.mean(reg_points3, axis=1))\n",
    "print('Min')\n",
    "print(np.min(allen_points, axis=0))\n",
    "print(np.min(reg_points, axis=1))\n",
    "print('Max')\n",
    "print(np.max(allen_points, axis=0))\n",
    "print(np.max(reg_points, axis=1))"
   ]
  },
  {
   "cell_type": "code",
   "execution_count": null,
   "metadata": {},
   "outputs": [],
   "source": [
    "reg_point_dict = {s:moving_coms[s] for s in common_keys}"
   ]
  },
  {
   "cell_type": "code",
   "execution_count": null,
   "metadata": {},
   "outputs": [],
   "source": [
    "distances = []\n",
    "distances2 = []\n",
    "sortme = {}\n",
    "for structure in common_keys:\n",
    "    (x,y,z) = allen_point_dict[structure]\n",
    "    allen_point = np.array([x,y,z])    \n",
    "    moving_point = np.array(moving_point_dict[structure])\n",
    "    reg_point = brain_to_atlas_transform(moving_point, R, t)\n",
    "    reg_point3 = brain_to_atlas_transform(moving_point, R3, t3)\n",
    "    d = calculate_distance(allen_point, reg_point)\n",
    "    ds = calculate_distance(allen_point, reg_point3)\n",
    "    distances2.append(ds)\n",
    "    distances.append(d)\n",
    "    print(f'{structure} COM={reg_point.round()} distance={round(d,2)} cv2={round(ds,2)}')\n",
    "    sortme[structure] = d\n",
    "\n",
    "print(f'n={len(distances)}, min={min(distances)} max={max(distances)}, mean={np.mean(distances)}')\n",
    "print(f'n={len(distances2)}, min={min(distances2)} max={max(distances2)}, mean={np.mean(distances2)}')\n",
    "#ds = {k: v for k, v in sorted(sortme.items(), key=lambda item: item[1])}\n",
    "#for structure, d in ds.items():\n",
    "#    print(f'{structure} {round(d,2)}')"
   ]
  },
  {
   "cell_type": "code",
   "execution_count": null,
   "metadata": {},
   "outputs": [],
   "source": [
    "reg_points.shape"
   ]
  },
  {
   "cell_type": "code",
   "execution_count": null,
   "metadata": {},
   "outputs": [],
   "source": [
    "plot_point_sets_3d([\n",
    "    (reg_points/25, 'registered moving centers'),\n",
    "    (allen_points.T/25, 'Allen centers')    \n",
    "])"
   ]
  }
 ],
 "metadata": {
  "kernelspec": {
   "display_name": "Python 3",
   "language": "python",
   "name": "python3"
  },
  "language_info": {
   "codemirror_mode": {
    "name": "ipython",
    "version": 3
   },
   "file_extension": ".py",
   "mimetype": "text/x-python",
   "name": "python",
   "nbconvert_exporter": "python",
   "pygments_lexer": "ipython3",
   "version": "3.10.12"
  }
 },
 "nbformat": 4,
 "nbformat_minor": 4
}
