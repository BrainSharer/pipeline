{
 "cells": [
  {
   "cell_type": "code",
   "execution_count": 1,
   "metadata": {},
   "outputs": [
    {
     "name": "stdout",
     "output_type": "stream",
     "text": [
      "/home/eddyod/programming/preprocessing-pipeline/src\n"
     ]
    }
   ],
   "source": [
    "import sys\n",
    "from pathlib import Path\n",
    "import numpy as np\n",
    "from scipy.ndimage import center_of_mass\n",
    "#import warnings\n",
    "#warnings.filterwarnings(\"error\")\n",
    "import matplotlib.pyplot as plt\n",
    "import pandas as pd\n",
    "import plotly.express as px\n",
    "import numpy as np\n",
    "from superpose3d import Superpose3D\n",
    "PIPELINE_ROOT = Path('../src').resolve().parent.parent\n",
    "sys.path.append(PIPELINE_ROOT.as_posix())\n",
    "print(PIPELINE_ROOT)\n",
    "\n",
    "from library.registration.brain_structure_manager import BrainStructureManager\n",
    "from library.registration.algorithm import umeyama"
   ]
  },
  {
   "cell_type": "code",
   "execution_count": 2,
   "metadata": {},
   "outputs": [],
   "source": [
    "def brain_to_atlas_transform(brain_coord, r, t):\n",
    "    brain_coord = np.array(brain_coord).reshape(3, 1) # Convert to a column vector\n",
    "    atlas_coord = r @ brain_coord + t\n",
    "    return atlas_coord.T[0] # Convert back to a row vector\n",
    "\n",
    "def calculate_distance(com1, com2):\n",
    "    return (np.linalg.norm(com1 - com2))\n",
    "\n",
    "def plot_point_sets_2d(point_sets):\n",
    "    for y_axis in ['y', 'z']:\n",
    "        for data, label in point_sets:\n",
    "            plt.scatter(data[0,:], data['xyz'.index(y_axis),:], label=label, alpha=0.8)\n",
    "        plt.xlabel('x')\n",
    "        plt.ylabel(y_axis)\n",
    "        plt.legend()\n",
    "        plt.show()\n",
    "        plt.close()\n",
    "        \n",
    "def plot_point_sets_3d(point_sets):\n",
    "    df = pd.DataFrame()\n",
    "    for data, label in point_sets:\n",
    "        df_cur = pd.DataFrame(data.T, columns=['x', 'y', 'z'])\n",
    "        df_cur['label'] = label\n",
    "        #df = df.concat(df_cur, ignore_index=True)\n",
    "        df = pd.concat([df, df_cur], axis= 0)\n",
    "    \n",
    "    fig = px.scatter_3d(df, x='x', y='y', z='z', color='label', width=800, height=600)\n",
    "    fig.update_layout(\n",
    "    scene={\n",
    "        'xaxis': {'range': (0, 528)}, \n",
    "        'yaxis': {'range': (0, 320)},\n",
    "        'zaxis': {'range': (0, 456)},\n",
    "    })\n",
    "    return fig\n",
    "#528, 320, 456"
   ]
  },
  {
   "cell_type": "code",
   "execution_count": 3,
   "metadata": {},
   "outputs": [],
   "source": [
    "animal = 'Atlas'\n",
    "brain = BrainStructureManager(animal)\n",
    "brain.fixed_brain = BrainStructureManager('Allen')"
   ]
  },
  {
   "cell_type": "code",
   "execution_count": 4,
   "metadata": {},
   "outputs": [],
   "source": [
    "brainstem_keys = set(brain.allen_structures_keys) - brain.midbrain_keys "
   ]
  },
  {
   "cell_type": "code",
   "execution_count": 5,
   "metadata": {},
   "outputs": [],
   "source": [
    "moving_coms = brain.get_coms(annotator_id=1)\n",
    "allen_coms = brain.fixed_brain.get_coms(annotator_id=1)\n",
    "common_keys = allen_coms.keys() & moving_coms.keys() &  brain.midbrain_keys\n",
    "brain_regions = sorted(moving_coms.keys())\n",
    "allen_points = np.array([allen_coms[s] for s in brain_regions if s in common_keys])\n",
    "moving_points = np.array([moving_coms[s] for s in brain_regions if s in common_keys])"
   ]
  },
  {
   "cell_type": "code",
   "execution_count": 6,
   "metadata": {},
   "outputs": [],
   "source": [
    "allen_point_dict = {s:allen_coms[s] for s in brain_regions if s in common_keys}\n",
    "moving_point_dict = {s:moving_coms[s] for s in brain_regions if s in common_keys}"
   ]
  },
  {
   "cell_type": "code",
   "execution_count": null,
   "metadata": {},
   "outputs": [],
   "source": [
    "len(moving_point_dict)"
   ]
  },
  {
   "cell_type": "code",
   "execution_count": null,
   "metadata": {},
   "outputs": [],
   "source": [
    "brainstem_keys"
   ]
  },
  {
   "cell_type": "code",
   "execution_count": null,
   "metadata": {},
   "outputs": [],
   "source": [
    "allen_point_dict['SC']"
   ]
  },
  {
   "cell_type": "code",
   "execution_count": null,
   "metadata": {},
   "outputs": [],
   "source": [
    "moving_point_dict['SC']"
   ]
  },
  {
   "cell_type": "code",
   "execution_count": null,
   "metadata": {},
   "outputs": [],
   "source": [
    "distances = []\n",
    "sortme = {}\n",
    "for structure in common_keys:\n",
    "    (x,y,z) = allen_point_dict[structure]\n",
    "    allen_point = np.array([x,y,z])    \n",
    "    moving_point = np.array(moving_point_dict[structure])\n",
    "    #print(atlas_point, allen_point)\n",
    "    d = calculate_distance(allen_point, moving_point)\n",
    "    distances.append(d)\n",
    "    sortme[structure] = d\n",
    "print(f'n={len(distances)}, min={min(distances)} max={max(distances)}, mean={np.mean(distances)}')\n",
    "ds = {k: v for k, v in sorted(sortme.items(), key=lambda item: item[1])}\n",
    "for structure, d in ds.items():\n",
    "    print(f'{structure} distance from Allen={round(d,2)} micrometers')"
   ]
  },
  {
   "cell_type": "code",
   "execution_count": null,
   "metadata": {},
   "outputs": [],
   "source": [
    "plot_point_sets_3d([\n",
    "    (moving_points.T/25, 'unaligned moving centers'),\n",
    "    (allen_points.T/25, 'Allen centers')\n",
    "])"
   ]
  },
  {
   "cell_type": "code",
   "execution_count": null,
   "metadata": {},
   "outputs": [],
   "source": [
    "(RMSD, R1, t1, _) = Superpose3D(allen_points, moving_points, allow_rescale=True)\n",
    "t1 = t1.reshape(3,1)\n",
    "print(RMSD)"
   ]
  },
  {
   "cell_type": "code",
   "execution_count": 7,
   "metadata": {},
   "outputs": [],
   "source": [
    "R, t = umeyama(moving_points.T, allen_points.T)"
   ]
  },
  {
   "cell_type": "code",
   "execution_count": 8,
   "metadata": {},
   "outputs": [
    {
     "data": {
      "text/plain": [
       "array([[-1216.35790705],\n",
       "       [  884.17711642],\n",
       "       [ -349.32198387]])"
      ]
     },
     "execution_count": 8,
     "metadata": {},
     "output_type": "execute_result"
    }
   ],
   "source": [
    "t"
   ]
  },
  {
   "cell_type": "code",
   "execution_count": 9,
   "metadata": {},
   "outputs": [],
   "source": [
    "reg_points = R @ moving_points.T + t"
   ]
  },
  {
   "cell_type": "markdown",
   "metadata": {},
   "source": [
    " That does not preclude starting the new idea but is just to say that somehow we need to get David's attention on what you have done- do a graph\n",
    "= box plot of the midbrain com distances vs allen (active atlas based)\n",
    "=box plot of the brainstem vs allen distances (but not using midbrain values to improve the distances)\n",
    "This should provide an easy visual...\n",
    "\n",
    "\n",
    "When the tethering is done for the brainstem structures though- he does not want the midbrain metrics to be included ( I don't know though if he means that the alignment is done with midbrain and then the evaluated outputs are only for the brainstem structures...?) your guess is best\n",
    "So- in any case it was clear that he did not want metrics for midbrain and brainstem structures to be combined."
   ]
  },
  {
   "cell_type": "code",
   "execution_count": 10,
   "metadata": {},
   "outputs": [
    {
     "name": "stdout",
     "output_type": "stream",
     "text": [
      "Mean\n",
      "[9260.633 3787.901 5690.77 ]\n",
      "[9260.633 3787.901 5690.77 ]\n",
      "Min\n",
      "[8440.38 2325.   3551.05]\n",
      "[8439.06110995 2247.65950879 3505.58047136]\n",
      "Max\n",
      "[10400.    5167.29  7833.27]\n",
      "[10472.04368067  5039.35019965  7855.12676862]\n"
     ]
    }
   ],
   "source": [
    "print('Mean')\n",
    "print(np.mean(allen_points, axis=0))\n",
    "print(np.mean(reg_points, axis=1))\n",
    "print('Min')\n",
    "print(np.min(allen_points, axis=0))\n",
    "print(np.min(reg_points, axis=1))\n",
    "print('Max')\n",
    "print(np.max(allen_points, axis=0))\n",
    "print(np.max(reg_points, axis=1))"
   ]
  },
  {
   "cell_type": "code",
   "execution_count": 11,
   "metadata": {},
   "outputs": [],
   "source": [
    "reg_point_dict = {s:moving_coms[s] for s in brain_regions if s in common_keys}"
   ]
  },
  {
   "cell_type": "code",
   "execution_count": 12,
   "metadata": {},
   "outputs": [
    {
     "name": "stdout",
     "output_type": "stream",
     "text": [
      "n=10, min=108.21084856188644 max=179.89241329818012, mean=150.5583761273566\n",
      "IC distance from Allen=108.21 micrometers\n",
      "PBG_R distance from Allen=109.86 micrometers\n",
      "SC distance from Allen=126.8 micrometers\n",
      "SNR_R distance from Allen=143.11 micrometers\n",
      "4N_L distance from Allen=154.72 micrometers\n",
      "3N_L distance from Allen=159.21 micrometers\n",
      "3N_R distance from Allen=171.58 micrometers\n",
      "4N_R distance from Allen=175.97 micrometers\n",
      "PBG_L distance from Allen=176.24 micrometers\n",
      "SNR_L distance from Allen=179.89 micrometers\n"
     ]
    }
   ],
   "source": [
    "distances = []\n",
    "sortme = {}\n",
    "for structure in common_keys:\n",
    "    (x,y,z) = allen_point_dict[structure]\n",
    "    allen_point = np.array([x,y,z])    \n",
    "    moving_point = np.array(moving_point_dict[structure])\n",
    "    reg_point = brain_to_atlas_transform(moving_point, R, t)\n",
    "    d = calculate_distance(allen_point, reg_point)\n",
    "    distances.append(d)\n",
    "    #print(f'{structure} COM={reg_point} distance={round(d,2)}')\n",
    "    sortme[structure] = d\n",
    "\n",
    "print(f'n={len(distances)}, min={min(distances)} max={max(distances)}, mean={np.mean(distances)}')\n",
    "ds = {k: v for k, v in sorted(sortme.items(), key=lambda item: item[1])}\n",
    "for structure, d in ds.items():\n",
    "    print(f'{structure} distance from Allen={round(d,2)} micrometers')"
   ]
  },
  {
   "cell_type": "code",
   "execution_count": 14,
   "metadata": {},
   "outputs": [
    {
     "data": {
      "text/plain": [
       "{'3N_L',\n",
       " '3N_R',\n",
       " '4N_L',\n",
       " '4N_R',\n",
       " 'IC',\n",
       " 'PBG_L',\n",
       " 'PBG_R',\n",
       " 'SC',\n",
       " 'SNR_L',\n",
       " 'SNR_R'}"
      ]
     },
     "execution_count": 14,
     "metadata": {},
     "output_type": "execute_result"
    }
   ],
   "source": [
    "brain.midbrain_keys"
   ]
  },
  {
   "cell_type": "code",
   "execution_count": 13,
   "metadata": {},
   "outputs": [
    {
     "data": {
      "image/png": "[encoded data removed]",
      "text/plain": [
       "<Figure size 640x480 with 1 Axes>"
      ]
     },
     "metadata": {},
     "output_type": "display_data"
    },
    {
     "data": {
      "image/png": "[encoded data removed]",
      "text/plain": [
       "<Figure size 640x480 with 1 Axes>"
      ]
     },
     "metadata": {},
     "output_type": "display_data"
    }
   ],
   "source": [
    "xA = allen_points[:,0]\n",
    "yA = allen_points[:,1] \n",
    "zA = allen_points[:,2]\n",
    "xm = reg_points.T[:,0]\n",
    "ym = reg_points.T[:,1]\n",
    "zm = reg_points.T[:,2]\n",
    "\n",
    "plt.scatter(xA, yA, marker='^', c='#FF0000', label='Allen')\n",
    "plt.scatter(xm, ym, marker='o', c='#00FF00', label='Atlas')\n",
    "plt.xlabel('x')\n",
    "plt.ylabel('y')\n",
    "plt.title('Allen/Altas X Y scatter plot')\n",
    "plt.legend()\n",
    "plt.show()\n",
    "plt.close()\n",
    "\n",
    "plt.scatter(xA, zA, marker='^', c='#FF0000', label='Allen')\n",
    "plt.scatter(xm, zm, marker='o', c='#00FF00', label='Atlas')\n",
    "for i, txt in enumerate(common_keys):\n",
    "    plt.annotate(f' {txt}', (xA[i], zA[i]))\n",
    "plt.xlabel('x')\n",
    "plt.ylabel('z')\n",
    "plt.title('Allen/Altas X Z scatter plot')\n",
    "plt.legend()\n",
    "plt.show()\n",
    "plt.close()"
   ]
  },
  {
   "cell_type": "code",
   "execution_count": null,
   "metadata": {},
   "outputs": [],
   "source": [
    "reg_points.shape"
   ]
  },
  {
   "cell_type": "code",
   "execution_count": null,
   "metadata": {},
   "outputs": [],
   "source": [
    "plot_point_sets_2d([\n",
    "    (allen_points, 'Allen centers'),\n",
    "    (reg_points.T, 'Aligned atlas centers')\n",
    "])"
   ]
  },
  {
   "cell_type": "code",
   "execution_count": null,
   "metadata": {},
   "outputs": [],
   "source": [
    "plot_point_sets_3d([\n",
    "    (reg_points/25, 'registered moving centers'),\n",
    "    (allen_points.T/25, 'Allen centers')    \n",
    "])"
   ]
  }
 ],
 "metadata": {
  "kernelspec": {
   "display_name": "Python 3",
   "language": "python",
   "name": "python3"
  },
  "language_info": {
   "codemirror_mode": {
    "name": "ipython",
    "version": 3
   },
   "file_extension": ".py",
   "mimetype": "text/x-python",
   "name": "python",
   "nbconvert_exporter": "python",
   "pygments_lexer": "ipython3",
   "version": "3.10.6"
  }
 },
 "nbformat": 4,
 "nbformat_minor": 4
}
