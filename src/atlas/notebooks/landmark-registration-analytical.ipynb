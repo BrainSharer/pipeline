{
 "cells": [
  {
   "cell_type": "code",
   "execution_count": 7,
   "metadata": {},
   "outputs": [
    {
     "name": "stdout",
     "output_type": "stream",
     "text": [
      "/home/eddyod/programming/preprocessing-pipeline/src\n"
     ]
    }
   ],
   "source": [
    "import sys\n",
    "from pathlib import Path\n",
    "import numpy as np\n",
    "import matplotlib.pyplot as plt\n",
    "import pandas as pd\n",
    "import plotly.express as px\n",
    "import numpy as np\n",
    "import cv2\n",
    "from superpose3d import Superpose3D\n",
    "\n",
    "PIPELINE_ROOT = Path('../src').resolve().parent.parent\n",
    "sys.path.append(PIPELINE_ROOT.as_posix())\n",
    "print(PIPELINE_ROOT)\n",
    "\n",
    "from library.registration.brain_structure_manager import BrainStructureManager\n",
    "from library.registration.algorithm import umeyama"
   ]
  },
  {
   "cell_type": "code",
   "execution_count": 37,
   "metadata": {},
   "outputs": [],
   "source": [
    "def brain_to_atlas_transform(brain_coord, r, t):\n",
    "    brain_coord = np.array(brain_coord).reshape(3, 1) # Convert to a column vector\n",
    "    atlas_coord = r @ brain_coord + t\n",
    "    return atlas_coord.T[0] # Convert back to a row vector\n",
    "\n",
    "def calculate_distance(com1, com2):\n",
    "    return (np.linalg.norm(com1 - com2))\n",
    "        \n",
    "def plot_point_sets_3d(point_sets):\n",
    "    df = pd.DataFrame()\n",
    "    for data, label in point_sets:\n",
    "        df_cur = pd.DataFrame(data.T, columns=['x', 'y', 'z'])\n",
    "        df_cur['label'] = label\n",
    "        #df = df.concat(df_cur, ignore_index=True)\n",
    "        df = pd.concat([df, df_cur], axis= 0)\n",
    "    \n",
    "    fig = px.scatter_3d(df, x='x', y='y', z='z', color='label', width=800, height=600)\n",
    "    fig.update_layout(\n",
    "    scene={\n",
    "        'xaxis': {'range': (0, 528)}, \n",
    "        'yaxis': {'range': (0, 320)},\n",
    "        'zaxis': {'range': (0, 456)},\n",
    "    })\n",
    "    return fig\n",
    "        "
   ]
  },
  {
   "cell_type": "code",
   "execution_count": 2,
   "metadata": {},
   "outputs": [],
   "source": [
    "animal = 'Atlas'\n",
    "brain = BrainStructureManager(animal)\n",
    "brain.fixed_brain = BrainStructureManager('Allen')"
   ]
  },
  {
   "cell_type": "code",
   "execution_count": null,
   "metadata": {},
   "outputs": [],
   "source": [
    "brainstem_keys = set(brain.allen_structures_keys) - brain.midbrain_keys "
   ]
  },
  {
   "cell_type": "code",
   "execution_count": 3,
   "metadata": {},
   "outputs": [],
   "source": [
    "moving_coms = brain.get_coms(annotator_id=1)\n",
    "allen_coms = brain.fixed_brain.get_coms(annotator_id=1)\n",
    "common_keys = sorted(allen_coms.keys() & moving_coms.keys())\n",
    "allen_points = np.array([allen_coms[s] for s in common_keys])\n",
    "moving_points = np.array([moving_coms[s] for s in common_keys])"
   ]
  },
  {
   "cell_type": "code",
   "execution_count": 5,
   "metadata": {},
   "outputs": [],
   "source": [
    "common_midbrain_keys = sorted(allen_coms.keys() & moving_coms.keys() & brain.midbrain_keys)\n",
    "allen_midbrain_points = np.array([allen_coms[s] for s in common_midbrain_keys])\n",
    "moving_midbrain_points = np.array([moving_coms[s] for s in common_midbrain_keys])"
   ]
  },
  {
   "cell_type": "code",
   "execution_count": 4,
   "metadata": {},
   "outputs": [],
   "source": [
    "allen_point_dict = {s:allen_coms[s] for s in common_keys}\n",
    "moving_point_dict = {s:moving_coms[s] for s in common_keys}"
   ]
  },
  {
   "cell_type": "code",
   "execution_count": 5,
   "metadata": {},
   "outputs": [
    {
     "data": {
      "text/plain": [
       "37"
      ]
     },
     "execution_count": 5,
     "metadata": {},
     "output_type": "execute_result"
    }
   ],
   "source": [
    "len(allen_point_dict)"
   ]
  },
  {
   "cell_type": "code",
   "execution_count": null,
   "metadata": {},
   "outputs": [],
   "source": [
    "distances = []\n",
    "sortme = {}\n",
    "for structure in common_keys:\n",
    "    (x,y,z) = allen_point_dict[structure]\n",
    "    allen_point = np.array([x,y,z])    \n",
    "    moving_point = np.array(moving_point_dict[structure])\n",
    "    #print(atlas_point, allen_point)\n",
    "    d = calculate_distance(allen_point, moving_point)\n",
    "    distances.append(d)\n",
    "    sortme[structure] = d\n",
    "print(f'n={len(distances)}, min={min(distances)} max={max(distances)}, mean={np.mean(distances)}')\n",
    "ds = {k: v for k, v in sorted(sortme.items(), key=lambda item: item[1])}\n",
    "for structure, d in ds.items():\n",
    "    print(f'{structure} distance from Allen={round(d,2)} micrometers')"
   ]
  },
  {
   "cell_type": "code",
   "execution_count": null,
   "metadata": {},
   "outputs": [],
   "source": [
    "plot_point_sets_3d([\n",
    "    (moving_points.T/25, 'unaligned moving centers'),\n",
    "    (allen_points.T/25, 'Allen centers')\n",
    "])"
   ]
  },
  {
   "cell_type": "code",
   "execution_count": 8,
   "metadata": {},
   "outputs": [
    {
     "name": "stdout",
     "output_type": "stream",
     "text": [
      "305.69115497574603\n",
      "[[ 0.99841862  0.05440934  0.01413803]\n",
      " [-0.05530431  0.99576765  0.07340454]\n",
      " [-0.0100843  -0.07407036  0.99720203]]\n",
      "[[-3368.22446259]\n",
      " [-2445.98352834]\n",
      " [ 1365.58366407]]\n"
     ]
    }
   ],
   "source": [
    "(RMSD, R1, t1, _) = Superpose3D(allen_points, moving_points, allow_rescale=True)\n",
    "t1 = t1.reshape(3,1)\n",
    "print(RMSD)\n",
    "print(R1)\n",
    "print(t1)"
   ]
  },
  {
   "cell_type": "code",
   "execution_count": null,
   "metadata": {},
   "outputs": [],
   "source": [
    "allen_midbrain_points.shape"
   ]
  },
  {
   "cell_type": "code",
   "execution_count": 9,
   "metadata": {},
   "outputs": [],
   "source": [
    "R, t = umeyama(moving_points.T, allen_points.T)"
   ]
  },
  {
   "cell_type": "code",
   "execution_count": 20,
   "metadata": {},
   "outputs": [
    {
     "data": {
      "text/plain": [
       "array([[-3368.22446259],\n",
       "       [-2445.98352834],\n",
       "       [ 1365.58366407]])"
      ]
     },
     "execution_count": 20,
     "metadata": {},
     "output_type": "execute_result"
    }
   ],
   "source": [
    "t"
   ]
  },
  {
   "cell_type": "code",
   "execution_count": 14,
   "metadata": {},
   "outputs": [
    {
     "data": {
      "text/plain": [
       "(37, 1)"
      ]
     },
     "execution_count": 14,
     "metadata": {},
     "output_type": "execute_result"
    }
   ],
   "source": [
    "n, a1, a2 = cv2.estimateAffine3D(src=moving_points, dst=allen_points)\n",
    "a2.shape\n"
   ]
  },
  {
   "cell_type": "code",
   "execution_count": 29,
   "metadata": {},
   "outputs": [],
   "source": [
    "R3 = a1[:,0:3]\n",
    "t3 = a1[:,-1].reshape(3,1)"
   ]
  },
  {
   "cell_type": "code",
   "execution_count": 30,
   "metadata": {},
   "outputs": [
    {
     "data": {
      "text/plain": [
       "(3, 1)"
      ]
     },
     "execution_count": 30,
     "metadata": {},
     "output_type": "execute_result"
    }
   ],
   "source": [
    "t3.shape"
   ]
  },
  {
   "cell_type": "code",
   "execution_count": 31,
   "metadata": {},
   "outputs": [],
   "source": [
    "reg_points = R @ moving_points.T + t"
   ]
  },
  {
   "cell_type": "code",
   "execution_count": 32,
   "metadata": {},
   "outputs": [],
   "source": [
    "reg_points3 = R3 @ moving_points.T + t3"
   ]
  },
  {
   "cell_type": "markdown",
   "metadata": {},
   "source": [
    " That does not preclude starting the new idea but is just to say that somehow we need to get David's attention on what you have done- do a graph\n",
    "= box plot of the midbrain com distances vs allen (active atlas based)\n",
    "=box plot of the brainstem vs allen distances (but not using midbrain values to improve the distances)\n",
    "This should provide an easy visual...\n",
    "\n",
    "\n",
    "When the tethering is done for the brainstem structures though- he does not want the midbrain metrics to be included ( I don't know though if he means that the alignment is done with midbrain and then the evaluated outputs are only for the brainstem structures...?) your guess is best\n",
    "So- in any case it was clear that he did not want metrics for midbrain and brainstem structures to be combined."
   ]
  },
  {
   "cell_type": "code",
   "execution_count": 34,
   "metadata": {},
   "outputs": [
    {
     "name": "stdout",
     "output_type": "stream",
     "text": [
      "Mean\n",
      "[10463.46540541  5123.43756757  5645.72054054]\n",
      "[10463.46540541  5123.43756757  5645.72054054]\n",
      "[10550.77583933  5026.79981405  5667.99930089]\n",
      "Min\n",
      "[8354.09 2325.   3229.  ]\n",
      "[8068.25945013 2524.03061144 3263.66670863]\n",
      "Max\n",
      "[12832.54  6990.91  8156.39]\n",
      "[13297.21697261  6871.63404678  8156.27022824]\n"
     ]
    }
   ],
   "source": [
    "print('Mean')\n",
    "print(np.mean(allen_points, axis=0))\n",
    "print(np.mean(reg_points, axis=1))\n",
    "print(np.mean(reg_points3, axis=1))\n",
    "print('Min')\n",
    "print(np.min(allen_points, axis=0))\n",
    "print(np.min(reg_points, axis=1))\n",
    "print('Max')\n",
    "print(np.max(allen_points, axis=0))\n",
    "print(np.max(reg_points, axis=1))"
   ]
  },
  {
   "cell_type": "code",
   "execution_count": null,
   "metadata": {},
   "outputs": [],
   "source": [
    "reg_point_dict = {s:moving_coms[s] for s in common_keys}"
   ]
  },
  {
   "cell_type": "code",
   "execution_count": 38,
   "metadata": {},
   "outputs": [
    {
     "name": "stdout",
     "output_type": "stream",
     "text": [
      "3N_L COM=[9056. 3971. 5621.] distance=208.25 cv2=296.53\n",
      "3N_R COM=[9095. 4021. 5897.] distance=229.6 cv2=282.76\n",
      "4N_L COM=[9588. 4017. 5449.] distance=239.67 cv2=300.26\n",
      "4N_R COM=[9558. 4063. 5984.] distance=291.41 cv2=250.64\n",
      "5N_L COM=[10160.  5207.  4194.] distance=134.13 cv2=77.43\n",
      "5N_R COM=[10096.  5155.  7184.] distance=195.83 cv2=184.3\n",
      "6N_L COM=[10782.  5309.  5256.] distance=100.62 cv2=72.85\n",
      "6N_R COM=[10783.  5371.  6020.] distance=172.96 cv2=126.18\n",
      "7N_L COM=[10767.  6484.  4477.] distance=333.08 cv2=266.88\n",
      "7N_R COM=[11367.  6578.  7057.] distance=550.8 cv2=475.5\n",
      "7n_L COM=[10551.  5651.  4532.] distance=277.45 cv2=394.57\n",
      "7n_R COM=[10549.  5624.  6809.] distance=238.06 cv2=325.84\n",
      "AP COM=[12736.  5530.  5510.] distance=556.23 cv2=248.77\n",
      "Amb_L COM=[11672.  6404.  4294.] distance=302.4 cv2=340.8\n",
      "Amb_R COM=[11692.  6237.  7010.] distance=428.44 cv2=345.68\n",
      "DC_L COM=[11329.  4913.  3264.] distance=112.3 cv2=392.85\n",
      "DC_R COM=[11068.  4791.  8156.] distance=292.3 cv2=631.5\n",
      "IC COM=[10574.  2579.  5728.] distance=311.84 cv2=1109.45\n",
      "LC_L COM=[10583.  4602.  4754.] distance=349.09 cv2=0.0\n",
      "LC_R COM=[10556.  4625.  6575.] distance=386.94 cv2=0.0\n",
      "LRt_L COM=[12505.  6872.  4399.] distance=199.73 cv2=224.0\n",
      "LRt_R COM=[12489.  6750.  6860.] distance=310.65 cv2=0.0\n",
      "PBG_L COM=[9540. 3799. 3720.] distance=222.23 cv2=644.63\n",
      "PBG_R COM=[9437. 3899. 7773.] distance=88.05 cv2=554.26\n",
      "RtTg COM=[9153. 5527. 5548.] distance=430.65 cv2=592.94\n",
      "SC COM=[9204. 2524. 5764.] distance=166.53 cv2=1003.67\n",
      "SNC_L COM=[8182. 4905. 4394.] distance=296.57 cv2=0.0\n",
      "SNC_R COM=[8068. 4867. 7175.] distance=393.52 cv2=172.52\n",
      "SNR_L COM=[8463. 4954. 4267.] distance=318.73 cv2=222.96\n",
      "SNR_R COM=[8365. 4961. 7236.] distance=249.01 cv2=148.98\n",
      "Sp5C_L COM=[13297.  6146.  4061.] distance=533.94 cv2=357.39\n",
      "Sp5I_L COM=[12464.  5889.  3697.] distance=360.99 cv2=278.5\n",
      "Sp5I_R COM=[12413.  5801.  7535.] distance=330.76 cv2=376.04\n",
      "Sp5O_L COM=[11200.  5870.  3783.] distance=73.96 cv2=120.48\n",
      "Sp5O_R COM=[11130.  5790.  7519.] distance=146.41 cv2=102.37\n",
      "VLL_L COM=[9406. 4873. 3900.] distance=308.18 cv2=313.58\n",
      "VLL_R COM=[9274. 5009. 7484.] distance=252.27 cv2=170.73\n",
      "n=37, min=73.96104936485453 max=556.2263085262663, mean=280.90775698109377\n",
      "n=37, min=0.00028719861849095914 max=1109.4484884646504, mean=308.2663623400882\n"
     ]
    }
   ],
   "source": [
    "distances = []\n",
    "distances2 = []\n",
    "sortme = {}\n",
    "for structure in common_keys:\n",
    "    (x,y,z) = allen_point_dict[structure]\n",
    "    allen_point = np.array([x,y,z])    \n",
    "    moving_point = np.array(moving_point_dict[structure])\n",
    "    reg_point = brain_to_atlas_transform(moving_point, R, t)\n",
    "    reg_point3 = brain_to_atlas_transform(moving_point, R3, t3)\n",
    "    d = calculate_distance(allen_point, reg_point)\n",
    "    ds = calculate_distance(allen_point, reg_point3)\n",
    "    distances2.append(ds)\n",
    "    distances.append(d)\n",
    "    print(f'{structure} COM={reg_point.round()} distance={round(d,2)} cv2={round(ds,2)}')\n",
    "    sortme[structure] = d\n",
    "\n",
    "print(f'n={len(distances)}, min={min(distances)} max={max(distances)}, mean={np.mean(distances)}')\n",
    "print(f'n={len(distances2)}, min={min(distances2)} max={max(distances2)}, mean={np.mean(distances2)}')\n",
    "#ds = {k: v for k, v in sorted(sortme.items(), key=lambda item: item[1])}\n",
    "#for structure, d in ds.items():\n",
    "#    print(f'{structure} {round(d,2)}')"
   ]
  },
  {
   "cell_type": "code",
   "execution_count": null,
   "metadata": {},
   "outputs": [],
   "source": [
    "reg_points.shape"
   ]
  },
  {
   "cell_type": "code",
   "execution_count": null,
   "metadata": {},
   "outputs": [],
   "source": [
    "plot_point_sets_3d([\n",
    "    (reg_points/25, 'registered moving centers'),\n",
    "    (allen_points.T/25, 'Allen centers')    \n",
    "])"
   ]
  }
 ],
 "metadata": {
  "kernelspec": {
   "display_name": "Python 3",
   "language": "python",
   "name": "python3"
  },
  "language_info": {
   "codemirror_mode": {
    "name": "ipython",
    "version": 3
   },
   "file_extension": ".py",
   "mimetype": "text/x-python",
   "name": "python",
   "nbconvert_exporter": "python",
   "pygments_lexer": "ipython3",
   "version": "3.10.12"
  }
 },
 "nbformat": 4,
 "nbformat_minor": 4
}
