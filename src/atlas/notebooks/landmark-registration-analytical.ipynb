{
 "cells": [
  {
   "cell_type": "code",
   "execution_count": 1,
   "metadata": {},
   "outputs": [
    {
     "name": "stdout",
     "output_type": "stream",
     "text": [
      "/home/eddyod/programming/preprocessing-pipeline/src\n"
     ]
    }
   ],
   "source": [
    "import sys\n",
    "from pathlib import Path\n",
    "import numpy as np\n",
    "from scipy.ndimage import center_of_mass\n",
    "#import warnings\n",
    "#warnings.filterwarnings(\"error\")\n",
    "import matplotlib.pyplot as plt\n",
    "import pandas as pd\n",
    "import plotly.express as px\n",
    "import numpy as np\n",
    "\n",
    "PIPELINE_ROOT = Path('../src').resolve().parent.parent\n",
    "sys.path.append(PIPELINE_ROOT.as_posix())\n",
    "print(PIPELINE_ROOT)\n",
    "\n",
    "from library.registration.brain_structure_manager import BrainStructureManager\n",
    "from library.utilities.algorithm import umeyama"
   ]
  },
  {
   "cell_type": "code",
   "execution_count": 2,
   "metadata": {},
   "outputs": [],
   "source": [
    "def brain_to_atlas_transform(brain_coord, r, t):\n",
    "    brain_coord = np.array(brain_coord).reshape(3, 1) # Convert to a column vector\n",
    "    atlas_coord = r @ brain_coord + t\n",
    "    return atlas_coord.T[0] # Convert back to a row vector\n",
    "\n",
    "def calculate_distance(com1, com2):\n",
    "    return (np.linalg.norm(com1 - com2))\n",
    "\n",
    "def plot_point_sets_3d(point_sets):\n",
    "    df = pd.DataFrame()\n",
    "    for data, label in point_sets:\n",
    "        df_cur = pd.DataFrame(data.T, columns=['x', 'y', 'z'])\n",
    "        df_cur['label'] = label\n",
    "        #df = df.concat(df_cur, ignore_index=True)\n",
    "        df = pd.concat([df, df_cur], axis= 0)\n",
    "    \n",
    "    fig = px.scatter_3d(df, x='x', y='y', z='z', color='label')\n",
    "    return fig"
   ]
  },
  {
   "cell_type": "code",
   "execution_count": 3,
   "metadata": {},
   "outputs": [],
   "source": [
    "animal = 'Atlas'\n",
    "brain = BrainStructureManager(animal)\n",
    "brain.fixed_brain = BrainStructureManager('Allen')"
   ]
  },
  {
   "cell_type": "code",
   "execution_count": 4,
   "metadata": {},
   "outputs": [],
   "source": [
    "moving_coms = brain.get_coms(annotator_id=1)\n",
    "#del moving_coms['Sp5C_L']\n",
    "#del moving_coms['RtTg']\n",
    "fixed_coms = brain.fixed_brain.get_coms(annotator_id=1)\n",
    "common_keys = fixed_coms.keys() & moving_coms.keys()\n",
    "brain_regions = sorted(moving_coms.keys())\n",
    "common_keys = ['IC','PBG_L','PBG_R','3N_L','3N_R','4N_L','4N_R','SNR_L','SNR_R','VLL_L','VLL_R']\n",
    "fixed_points = np.array([fixed_coms[s] for s in brain_regions if s in common_keys])\n",
    "moving_points = np.array([moving_coms[s] for s in brain_regions if s in common_keys])"
   ]
  },
  {
   "cell_type": "code",
   "execution_count": 5,
   "metadata": {},
   "outputs": [],
   "source": [
    "fixed_point_dict = {s:fixed_coms[s] for s in brain_regions if s in common_keys}\n",
    "moving_point_dict = {s:moving_coms[s] for s in brain_regions if s in common_keys}"
   ]
  },
  {
   "cell_type": "code",
   "execution_count": 6,
   "metadata": {},
   "outputs": [
    {
     "data": {
      "text/plain": [
       "{'3N_L': [9103.0, 3794.25, 5500.0],\n",
       " '3N_R': [9103.0, 3794.25, 5875.0],\n",
       " '4N_L': [9587.75, 3776.25, 5450.0],\n",
       " '4N_R': [9587.75, 3776.25, 5950.0],\n",
       " 'IC': [10402.5, 2332.25, 5692.0],\n",
       " 'PBG_L': [9401.75, 3845.25, 3575.0],\n",
       " 'PBG_R': [9401.75, 3845.25, 7825.0],\n",
       " 'SNR_L': [8440.53, 5167.26, 4250.0],\n",
       " 'SNR_R': [8440.53, 5167.26, 7225.0],\n",
       " 'VLL_L': [9464.75, 5174.75, 4200.0],\n",
       " 'VLL_R': [9464.75, 5174.75, 7400.0]}"
      ]
     },
     "execution_count": 6,
     "metadata": {},
     "output_type": "execute_result"
    }
   ],
   "source": [
    "fixed_point_dict"
   ]
  },
  {
   "cell_type": "code",
   "execution_count": 7,
   "metadata": {},
   "outputs": [
    {
     "name": "stdout",
     "output_type": "stream",
     "text": [
      "IC COM=[418.  88. 226.] distance=147.4\n",
      "PBG_L COM=[380. 146. 144.] distance=218.28\n",
      "PBG_R COM=[378. 146. 315.] distance=211.59\n",
      "3N_L COM=[361. 154. 225.] distance=148.61\n",
      "3N_R COM=[362. 155. 236.] distance=87.61\n",
      "4N_L COM=[383. 154. 217.] distance=77.27\n",
      "4N_R COM=[382. 155. 240.] distance=104.77\n",
      "SNR_L COM=[342. 197. 169.] distance=265.15\n",
      "SNR_R COM=[339. 194. 296.] distance=350.74\n",
      "VLL_L COM=[381. 184. 150.] distance=720.4\n",
      "VLL_R COM=[379. 187. 307.] distance=570.64\n"
     ]
    }
   ],
   "source": [
    "distances = []\n",
    "for structure in common_keys:\n",
    "    (x,y,z) = fixed_point_dict[structure]\n",
    "    fixed_point = np.array([x,y,z])    \n",
    "    moving_point = np.array(moving_point_dict[structure])\n",
    "    d = calculate_distance(fixed_point, moving_point)\n",
    "    distances.append(d)\n",
    "    moving_point = np.round(moving_point/25)\n",
    "    print(f'{structure} COM={moving_point} distance={round(d,2)}')"
   ]
  },
  {
   "cell_type": "code",
   "execution_count": null,
   "metadata": {},
   "outputs": [],
   "source": [
    "#IC COM=[420. 101. 231.] distance=235.02\n",
    "#PBG_L COM=[380. 150. 151.] distance=239.76\n",
    "#PBG_R COM=[375. 153. 311.] distance=57.22\n",
    "#3N_L COM=[361. 157. 226.] distance=220.24\n",
    "#3N_R COM=[361. 158. 237.] distance=185.78\n",
    "#4N_L COM=[381. 159. 219.] distance=203.86\n",
    "#4N_R COM=[380. 160. 241.] distance=244.41\n",
    "#SNR_L COM=[339. 196. 173.] distance=287.68\n",
    "#SNR_R COM=[333. 195. 291.] distance=309.48\n",
    "#VLL_L COM=[376. 189. 157.] distance=522.31\n",
    "#VLL_R COM=[370. 195. 301.] distance=386.75"
   ]
  },
  {
   "cell_type": "code",
   "execution_count": null,
   "metadata": {},
   "outputs": [],
   "source": [
    "print(fixed_points.shape)\n",
    "print('Mean')\n",
    "print(np.mean(fixed_points, axis=0))\n",
    "print(np.mean(moving_points, axis=0))\n",
    "print('Min')\n",
    "print(np.min(fixed_points, axis=0))\n",
    "print(np.min(moving_points, axis=0))\n",
    "print('Max')\n",
    "print(np.max(fixed_points, axis=0))\n",
    "print(np.max(moving_points, axis=0))\n",
    "#fixed_points - moving_points"
   ]
  },
  {
   "cell_type": "code",
   "execution_count": null,
   "metadata": {},
   "outputs": [],
   "source": [
    "plot_point_sets_3d([\n",
    "    (moving_points.T, 'unaligned moving centers'),\n",
    "    (fixed_points.T, 'Allen centers')\n",
    "])"
   ]
  },
  {
   "cell_type": "code",
   "execution_count": null,
   "metadata": {},
   "outputs": [],
   "source": [
    "r, t = umeyama(moving_points.T, fixed_points.T)"
   ]
  },
  {
   "cell_type": "code",
   "execution_count": null,
   "metadata": {},
   "outputs": [],
   "source": [
    "t"
   ]
  },
  {
   "cell_type": "code",
   "execution_count": null,
   "metadata": {},
   "outputs": [],
   "source": [
    "reg_points = r @ moving_points.T + t"
   ]
  },
  {
   "cell_type": "code",
   "execution_count": null,
   "metadata": {},
   "outputs": [],
   "source": [
    "print('Mean')\n",
    "print(np.mean(fixed_points, axis=0))\n",
    "print(np.mean(reg_points, axis=1))\n",
    "print('Min')\n",
    "print(np.min(fixed_points, axis=0))\n",
    "print(np.min(reg_points, axis=1))\n",
    "print('Max')\n",
    "print(np.max(fixed_points, axis=0))\n",
    "print(np.max(reg_points, axis=1))"
   ]
  },
  {
   "cell_type": "code",
   "execution_count": null,
   "metadata": {},
   "outputs": [],
   "source": [
    "reg_point_dict = {s:moving_coms[s] for s in brain_regions if s in common_keys}"
   ]
  },
  {
   "cell_type": "code",
   "execution_count": null,
   "metadata": {},
   "outputs": [],
   "source": [
    "distances = []\n",
    "for structure in common_keys:\n",
    "    (x,y,z) = fixed_point_dict[structure]\n",
    "    fixed_point = np.array([x,y,z])    \n",
    "    moving_point = np.array(moving_point_dict[structure])\n",
    "    reg_point = brain_to_atlas_transform(moving_point, r, t)\n",
    "    d = calculate_distance(fixed_point, reg_point)\n",
    "    distances.append(d)\n",
    "    reg_point = np.round(reg_point / 25)\n",
    "    print(f'{structure} COM={reg_point} distance={round(d,2)}')"
   ]
  },
  {
   "cell_type": "code",
   "execution_count": null,
   "metadata": {},
   "outputs": [],
   "source": [
    "len(distances), round(np.mean(distances)), round(min(distances)), round(max(distances)), round(np.sum(distances))"
   ]
  },
  {
   "cell_type": "code",
   "execution_count": null,
   "metadata": {},
   "outputs": [],
   "source": [
    "# MD594 (33, 436, 111, 2838, 14391)\n",
    "# MD589 (33, 429, 107, 2922, 14146)\n",
    "# MD589 (31, 276, 53, 818, 8554) # with no RtTG and SPc\n",
    "# MD589 (33, 276, 77, 529, 9098)"
   ]
  },
  {
   "cell_type": "code",
   "execution_count": null,
   "metadata": {},
   "outputs": [],
   "source": [
    "plot_point_sets_3d([\n",
    "    (reg_points, 'registered moving centers'),\n",
    "    (fixed_points.T, 'Allen centers')    \n",
    "])"
   ]
  }
 ],
 "metadata": {
  "kernelspec": {
   "display_name": "Python 3 (ipykernel)",
   "language": "python",
   "name": "python3"
  },
  "language_info": {
   "codemirror_mode": {
    "name": "ipython",
    "version": 3
   },
   "file_extension": ".py",
   "mimetype": "text/x-python",
   "name": "python",
   "nbconvert_exporter": "python",
   "pygments_lexer": "ipython3",
   "version": "3.10.6"
  }
 },
 "nbformat": 4,
 "nbformat_minor": 4
}
