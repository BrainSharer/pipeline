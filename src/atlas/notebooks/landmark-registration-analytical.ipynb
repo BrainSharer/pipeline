{
 "cells": [
  {
   "cell_type": "code",
   "execution_count": null,
   "metadata": {},
   "outputs": [],
   "source": [
    "import sys\n",
    "from pathlib import Path\n",
    "import numpy as np\n",
    "from scipy.ndimage import center_of_mass\n",
    "#import warnings\n",
    "#warnings.filterwarnings(\"error\")\n",
    "import matplotlib.pyplot as plt\n",
    "import pandas as pd\n",
    "import plotly.express as px\n",
    "import numpy as np\n",
    "from superpose3d import Superpose3D\n",
    "PIPELINE_ROOT = Path('../src').resolve().parent.parent\n",
    "sys.path.append(PIPELINE_ROOT.as_posix())\n",
    "print(PIPELINE_ROOT)\n",
    "\n",
    "from library.registration.brain_structure_manager import BrainStructureManager\n",
    "from library.registration.algorithm import umeyama"
   ]
  },
  {
   "cell_type": "code",
   "execution_count": null,
   "metadata": {},
   "outputs": [],
   "source": [
    "def brain_to_atlas_transform(brain_coord, r, t):\n",
    "    brain_coord = np.array(brain_coord).reshape(3, 1) # Convert to a column vector\n",
    "    atlas_coord = r @ brain_coord + t\n",
    "    return atlas_coord.T[0] # Convert back to a row vector\n",
    "\n",
    "def calculate_distance(com1, com2):\n",
    "    return (np.linalg.norm(com1 - com2))\n",
    "\n",
    "def plot_point_sets_3d(point_sets):\n",
    "    df = pd.DataFrame()\n",
    "    for data, label in point_sets:\n",
    "        df_cur = pd.DataFrame(data.T, columns=['x', 'y', 'z'])\n",
    "        df_cur['label'] = label\n",
    "        #df = df.concat(df_cur, ignore_index=True)\n",
    "        df = pd.concat([df, df_cur], axis= 0)\n",
    "    \n",
    "    fig = px.scatter_3d(df, x='x', y='y', z='z', color='label')\n",
    "    return fig"
   ]
  },
  {
   "cell_type": "code",
   "execution_count": null,
   "metadata": {},
   "outputs": [],
   "source": [
    "animal = 'DK55'\n",
    "brain = BrainStructureManager(animal)\n",
    "brain.fixed_brain = BrainStructureManager('Allen')"
   ]
  },
  {
   "cell_type": "code",
   "execution_count": null,
   "metadata": {},
   "outputs": [],
   "source": [
    "moving_coms = brain.get_coms(annotator_id=23)\n",
    "allen_coms = brain.fixed_brain.get_coms(annotator_id=1)\n",
    "common_keys = allen_coms.keys() & moving_coms.keys() &  brain.midbrain_keys\n",
    "brain_regions = sorted(moving_coms.keys())\n",
    "allen_points = np.array([allen_coms[s] for s in brain_regions if s in common_keys])\n",
    "moving_points = np.array([moving_coms[s] for s in brain_regions if s in common_keys])"
   ]
  },
  {
   "cell_type": "code",
   "execution_count": null,
   "metadata": {},
   "outputs": [],
   "source": [
    "allen_point_dict = {s:allen_coms[s] for s in brain_regions if s in common_keys}\n",
    "moving_point_dict = {s:moving_coms[s] for s in brain_regions if s in common_keys}"
   ]
  },
  {
   "cell_type": "code",
   "execution_count": null,
   "metadata": {},
   "outputs": [],
   "source": [
    "len(moving_point_dict)"
   ]
  },
  {
   "cell_type": "code",
   "execution_count": null,
   "metadata": {},
   "outputs": [],
   "source": [
    "allen_point_dict['SC']"
   ]
  },
  {
   "cell_type": "code",
   "execution_count": null,
   "metadata": {},
   "outputs": [],
   "source": [
    "moving_point_dict['SC']"
   ]
  },
  {
   "cell_type": "code",
   "execution_count": null,
   "metadata": {},
   "outputs": [],
   "source": [
    "distances = []\n",
    "sortme = {}\n",
    "for structure in common_keys:\n",
    "    (x,y,z) = allen_point_dict[structure]\n",
    "    allen_point = np.array([x,y,z])    \n",
    "    moving_point = np.array(moving_point_dict[structure])\n",
    "    #print(atlas_point, allen_point)\n",
    "    d = calculate_distance(allen_point, moving_point)\n",
    "    distances.append(d)\n",
    "    sortme[structure] = d\n",
    "print(f'n={len(distances)}, min={min(distances)} max={max(distances)}, mean={np.mean(distances)}')\n",
    "ds = {k: v for k, v in sorted(sortme.items(), key=lambda item: item[1])}\n",
    "for structure, d in ds.items():\n",
    "    print(f'{structure} distance from Allen={round(d,2)} micrometers')"
   ]
  },
  {
   "cell_type": "code",
   "execution_count": null,
   "metadata": {},
   "outputs": [],
   "source": [
    "plot_point_sets_3d([\n",
    "    (atlas_points.T, 'unaligned moving centers'),\n",
    "    (allen_points.T, 'Allen centers')\n",
    "])"
   ]
  },
  {
   "cell_type": "code",
   "execution_count": null,
   "metadata": {},
   "outputs": [],
   "source": [
    "(RMSD, _, _, _) = Superpose3D(allen_points, moving_points, allow_rescale=True)\n",
    "print(RMSD)"
   ]
  },
  {
   "cell_type": "code",
   "execution_count": null,
   "metadata": {},
   "outputs": [],
   "source": [
    "R, t = umeyama(moving_points.T, allen_points.T)"
   ]
  },
  {
   "cell_type": "code",
   "execution_count": null,
   "metadata": {},
   "outputs": [],
   "source": [
    "t"
   ]
  },
  {
   "cell_type": "code",
   "execution_count": null,
   "metadata": {},
   "outputs": [],
   "source": [
    "reg_points = R @ moving_points.T + t"
   ]
  },
  {
   "cell_type": "markdown",
   "metadata": {},
   "source": [
    " That does not preclude starting the new idea but is just to say that somehow we need to get David's attention on what you have done- do a graph\n",
    "= box plot of the midbrain com distances vs allen (active atlas based)\n",
    "=box plot of the brainstem vs allen distances (but not using midbrain values to improve the distances)\n",
    "This should provide an easy visual...\n",
    "\n",
    "\n",
    "When the tethering is done for the brainstem structures though- he does not want the midbrain metrics to be included ( I don't know though if he means that the alignment is done with midbrain and then the evaluated outputs are only for the brainstem structures...?) your guess is best\n",
    "So- in any case it was clear that he did not want metrics for midbrain and brainstem structures to be combined."
   ]
  },
  {
   "cell_type": "code",
   "execution_count": null,
   "metadata": {},
   "outputs": [],
   "source": [
    "print('Mean')\n",
    "print(np.mean(allen_points, axis=0))\n",
    "print(np.mean(reg_points, axis=1))\n",
    "print('Min')\n",
    "print(np.min(allen_points, axis=0))\n",
    "print(np.min(reg_points, axis=1))\n",
    "print('Max')\n",
    "print(np.max(allen_points, axis=0))\n",
    "print(np.max(reg_points, axis=1))"
   ]
  },
  {
   "cell_type": "code",
   "execution_count": null,
   "metadata": {},
   "outputs": [],
   "source": [
    "reg_point_dict = {s:moving_coms[s] for s in brain_regions if s in common_keys}"
   ]
  },
  {
   "cell_type": "code",
   "execution_count": null,
   "metadata": {},
   "outputs": [],
   "source": [
    "distances = []\n",
    "sortme = {}\n",
    "for structure in common_keys:\n",
    "    (x,y,z) = allen_point_dict[structure]\n",
    "    allen_point = np.array([x,y,z])    \n",
    "    moving_point = np.array(moving_point_dict[structure])\n",
    "    reg_point = brain_to_atlas_transform(moving_point, R, t)\n",
    "    d = calculate_distance(allen_point, reg_point)\n",
    "    distances.append(d)\n",
    "    #print(f'{structure} COM={reg_point} distance={round(d,2)}')\n",
    "    sortme[structure] = d\n",
    "\n",
    "print(f'n={len(distances)}, min={min(distances)} max={max(distances)}, mean={np.mean(distances)}')\n",
    "ds = {k: v for k, v in sorted(sortme.items(), key=lambda item: item[1])}\n",
    "for structure, d in ds.items():\n",
    "    print(f'{structure} distance from Allen={round(d,2)} micrometers')"
   ]
  },
  {
   "cell_type": "code",
   "execution_count": null,
   "metadata": {},
   "outputs": [],
   "source": [
    "# superpose, allow_rescale=False 34 279 105 613\n",
    "# superpoase with scaling 34 271 74 621\n",
    "# umeyama with scaling 34 271 74 621"
   ]
  },
  {
   "cell_type": "code",
   "execution_count": null,
   "metadata": {},
   "outputs": [],
   "source": [
    "plot_point_sets_3d([\n",
    "    (reg_points, 'registered moving centers'),\n",
    "    (allen_points.T, 'Allen centers')    \n",
    "])"
   ]
  }
 ],
 "metadata": {
  "kernelspec": {
   "display_name": "Python 3 (ipykernel)",
   "language": "python",
   "name": "python3"
  },
  "language_info": {
   "codemirror_mode": {
    "name": "ipython",
    "version": 3
   },
   "file_extension": ".py",
   "mimetype": "text/x-python",
   "name": "python",
   "nbconvert_exporter": "python",
   "pygments_lexer": "ipython3",
   "version": "3.10.6"
  }
 },
 "nbformat": 4,
 "nbformat_minor": 4
}
