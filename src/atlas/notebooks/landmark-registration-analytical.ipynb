{
 "cells": [
  {
   "cell_type": "code",
   "execution_count": 1,
   "metadata": {},
   "outputs": [
    {
     "name": "stdout",
     "output_type": "stream",
     "text": [
      "/home/eddyod/programming/preprocessing-pipeline/src\n"
     ]
    }
   ],
   "source": [
    "import sys\n",
    "from pathlib import Path\n",
    "import numpy as np\n",
    "from scipy.ndimage import center_of_mass\n",
    "#import warnings\n",
    "#warnings.filterwarnings(\"error\")\n",
    "import matplotlib.pyplot as plt\n",
    "import pandas as pd\n",
    "import plotly.express as px\n",
    "import numpy as np\n",
    "from superpose3d import Superpose3D\n",
    "PIPELINE_ROOT = Path('../src').resolve().parent.parent\n",
    "sys.path.append(PIPELINE_ROOT.as_posix())\n",
    "print(PIPELINE_ROOT)\n",
    "\n",
    "from library.registration.brain_structure_manager import BrainStructureManager\n",
    "from library.registration.algorithm import umeyama"
   ]
  },
  {
   "cell_type": "code",
   "execution_count": 2,
   "metadata": {},
   "outputs": [],
   "source": [
    "def brain_to_atlas_transform(brain_coord, r, t):\n",
    "    brain_coord = np.array(brain_coord).reshape(3, 1) # Convert to a column vector\n",
    "    atlas_coord = r @ brain_coord + t\n",
    "    return atlas_coord.T[0] # Convert back to a row vector\n",
    "\n",
    "def calculate_distance(com1, com2):\n",
    "    return (np.linalg.norm(com1 - com2))\n",
    "\n",
    "def plot_point_sets_2d(point_sets):\n",
    "    for y_axis in ['y', 'z']:\n",
    "        for data, label in point_sets:\n",
    "            plt.scatter(data[0,:], data['xyz'.index(y_axis),:], label=label, alpha=0.8)\n",
    "        plt.xlabel('x')\n",
    "        plt.ylabel(y_axis)\n",
    "        plt.legend()\n",
    "        plt.show()\n",
    "        plt.close()\n",
    "        \n",
    "def plot_point_sets_3d(point_sets):\n",
    "    df = pd.DataFrame()\n",
    "    for data, label in point_sets:\n",
    "        df_cur = pd.DataFrame(data.T, columns=['x', 'y', 'z'])\n",
    "        df_cur['label'] = label\n",
    "        #df = df.concat(df_cur, ignore_index=True)\n",
    "        df = pd.concat([df, df_cur], axis= 0)\n",
    "    \n",
    "    fig = px.scatter_3d(df, x='x', y='y', z='z', color='label', width=800, height=600)\n",
    "    fig.update_layout(\n",
    "    scene={\n",
    "        'xaxis': {'range': (0, 528)}, \n",
    "        'yaxis': {'range': (0, 320)},\n",
    "        'zaxis': {'range': (0, 456)},\n",
    "    })\n",
    "    return fig\n",
    "#528, 320, 456"
   ]
  },
  {
   "cell_type": "code",
   "execution_count": 3,
   "metadata": {},
   "outputs": [],
   "source": [
    "animal = 'Atlas'\n",
    "brain = BrainStructureManager(animal)\n",
    "brain.fixed_brain = BrainStructureManager('Allen')"
   ]
  },
  {
   "cell_type": "code",
   "execution_count": 4,
   "metadata": {},
   "outputs": [],
   "source": [
    "brainstem_keys = set(brain.allen_structures_keys) - brain.midbrain_keys "
   ]
  },
  {
   "cell_type": "code",
   "execution_count": 5,
   "metadata": {},
   "outputs": [],
   "source": [
    "moving_coms = brain.get_coms(annotator_id=1)\n",
    "allen_coms = brain.fixed_brain.get_coms(annotator_id=1)\n",
    "common_keys = allen_coms.keys() & moving_coms.keys() &  brainstem_keys\n",
    "brain_regions = sorted(moving_coms.keys())\n",
    "allen_points = np.array([allen_coms[s] for s in brain_regions if s in common_keys])\n",
    "moving_points = np.array([moving_coms[s] for s in brain_regions if s in common_keys])"
   ]
  },
  {
   "cell_type": "code",
   "execution_count": 6,
   "metadata": {},
   "outputs": [],
   "source": [
    "allen_point_dict = {s:allen_coms[s] for s in brain_regions if s in common_keys}\n",
    "moving_point_dict = {s:moving_coms[s] for s in brain_regions if s in common_keys}"
   ]
  },
  {
   "cell_type": "code",
   "execution_count": 7,
   "metadata": {},
   "outputs": [
    {
     "data": {
      "text/plain": [
       "27"
      ]
     },
     "execution_count": 7,
     "metadata": {},
     "output_type": "execute_result"
    }
   ],
   "source": [
    "len(moving_point_dict)"
   ]
  },
  {
   "cell_type": "code",
   "execution_count": 12,
   "metadata": {},
   "outputs": [
    {
     "data": {
      "text/plain": [
       "{'5N_L',\n",
       " '5N_R',\n",
       " '6N_L',\n",
       " '6N_R',\n",
       " '7N_L',\n",
       " '7N_R',\n",
       " '7n_L',\n",
       " '7n_R',\n",
       " 'AP',\n",
       " 'Amb_L',\n",
       " 'Amb_R',\n",
       " 'DC_L',\n",
       " 'DC_R',\n",
       " 'LC_L',\n",
       " 'LC_R',\n",
       " 'LRt_L',\n",
       " 'LRt_R',\n",
       " 'RtTg',\n",
       " 'SNC_L',\n",
       " 'SNC_R',\n",
       " 'Sp5C_L',\n",
       " 'Sp5I_L',\n",
       " 'Sp5I_R',\n",
       " 'Sp5O_L',\n",
       " 'Sp5O_R',\n",
       " 'VLL_L',\n",
       " 'VLL_R'}"
      ]
     },
     "execution_count": 12,
     "metadata": {},
     "output_type": "execute_result"
    }
   ],
   "source": [
    "brainstem_keys"
   ]
  },
  {
   "cell_type": "code",
   "execution_count": null,
   "metadata": {},
   "outputs": [],
   "source": [
    "allen_point_dict['SC']"
   ]
  },
  {
   "cell_type": "code",
   "execution_count": null,
   "metadata": {},
   "outputs": [],
   "source": [
    "moving_point_dict['SC']"
   ]
  },
  {
   "cell_type": "code",
   "execution_count": null,
   "metadata": {},
   "outputs": [],
   "source": [
    "distances = []\n",
    "sortme = {}\n",
    "for structure in common_keys:\n",
    "    (x,y,z) = allen_point_dict[structure]\n",
    "    allen_point = np.array([x,y,z])    \n",
    "    moving_point = np.array(moving_point_dict[structure])\n",
    "    #print(atlas_point, allen_point)\n",
    "    d = calculate_distance(allen_point, moving_point)\n",
    "    distances.append(d)\n",
    "    sortme[structure] = d\n",
    "print(f'n={len(distances)}, min={min(distances)} max={max(distances)}, mean={np.mean(distances)}')\n",
    "ds = {k: v for k, v in sorted(sortme.items(), key=lambda item: item[1])}\n",
    "for structure, d in ds.items():\n",
    "    print(f'{structure} distance from Allen={round(d,2)} micrometers')"
   ]
  },
  {
   "cell_type": "code",
   "execution_count": null,
   "metadata": {},
   "outputs": [],
   "source": [
    "plot_point_sets_3d([\n",
    "    (moving_points.T/25, 'unaligned moving centers'),\n",
    "    (allen_points.T/25, 'Allen centers')\n",
    "])"
   ]
  },
  {
   "cell_type": "code",
   "execution_count": null,
   "metadata": {},
   "outputs": [],
   "source": [
    "(RMSD, R1, t1, _) = Superpose3D(allen_points, moving_points, allow_rescale=True)\n",
    "t1 = t1.reshape(3,1)\n",
    "print(RMSD)"
   ]
  },
  {
   "cell_type": "code",
   "execution_count": 8,
   "metadata": {},
   "outputs": [],
   "source": [
    "R, t = umeyama(moving_points.T, allen_points.T)"
   ]
  },
  {
   "cell_type": "code",
   "execution_count": 9,
   "metadata": {},
   "outputs": [
    {
     "data": {
      "text/plain": [
       "array([[323.77112081],\n",
       "       [110.41063674],\n",
       "       [253.91195568]])"
      ]
     },
     "execution_count": 9,
     "metadata": {},
     "output_type": "execute_result"
    }
   ],
   "source": [
    "t"
   ]
  },
  {
   "cell_type": "code",
   "execution_count": 10,
   "metadata": {},
   "outputs": [],
   "source": [
    "reg_points = R @ moving_points.T + t"
   ]
  },
  {
   "cell_type": "markdown",
   "metadata": {},
   "source": [
    " That does not preclude starting the new idea but is just to say that somehow we need to get David's attention on what you have done- do a graph\n",
    "= box plot of the midbrain com distances vs allen (active atlas based)\n",
    "=box plot of the brainstem vs allen distances (but not using midbrain values to improve the distances)\n",
    "This should provide an easy visual...\n",
    "\n",
    "\n",
    "When the tethering is done for the brainstem structures though- he does not want the midbrain metrics to be included ( I don't know though if he means that the alignment is done with midbrain and then the evaluated outputs are only for the brainstem structures...?) your guess is best\n",
    "So- in any case it was clear that he did not want metrics for midbrain and brainstem structures to be combined."
   ]
  },
  {
   "cell_type": "code",
   "execution_count": null,
   "metadata": {},
   "outputs": [],
   "source": [
    "print('Mean')\n",
    "print(np.mean(allen_points, axis=0))\n",
    "print(np.mean(reg_points, axis=1))\n",
    "print('Min')\n",
    "print(np.min(allen_points, axis=0))\n",
    "print(np.min(reg_points, axis=1))\n",
    "print('Max')\n",
    "print(np.max(allen_points, axis=0))\n",
    "print(np.max(reg_points, axis=1))"
   ]
  },
  {
   "cell_type": "code",
   "execution_count": null,
   "metadata": {},
   "outputs": [],
   "source": [
    "reg_point_dict = {s:moving_coms[s] for s in brain_regions if s in common_keys}"
   ]
  },
  {
   "cell_type": "code",
   "execution_count": 13,
   "metadata": {},
   "outputs": [
    {
     "name": "stdout",
     "output_type": "stream",
     "text": [
      "n=27, min=86.29862613012646 max=574.8020477980643, mean=292.7131073830229\n",
      "<tr><td>Sp5O_L</td><td>86.3</td></tr>\n",
      "<tr><td>Sp5O_R</td><td>135.13</td></tr>\n",
      "<tr><td>6N_L</td><td>140.07</td></tr>\n",
      "<tr><td>DC_L</td><td>145.39</td></tr>\n",
      "<tr><td>5N_R</td><td>149.44</td></tr>\n",
      "<tr><td>VLL_R</td><td>159.19</td></tr>\n",
      "<tr><td>LRt_L</td><td>164.3</td></tr>\n",
      "<tr><td>5N_L</td><td>188.29</td></tr>\n",
      "<tr><td>6N_R</td><td>207.49</td></tr>\n",
      "<tr><td>7n_R</td><td>215.76</td></tr>\n",
      "<tr><td>DC_R</td><td>228.62</td></tr>\n",
      "<tr><td>7n_L</td><td>252.29</td></tr>\n",
      "<tr><td>SNC_L</td><td>272.6</td></tr>\n",
      "<tr><td>SNC_R</td><td>275.95</td></tr>\n",
      "<tr><td>LRt_R</td><td>306.68</td></tr>\n",
      "<tr><td>Sp5I_R</td><td>317.7</td></tr>\n",
      "<tr><td>Sp5I_L</td><td>327.41</td></tr>\n",
      "<tr><td>Amb_L</td><td>327.74</td></tr>\n",
      "<tr><td>VLL_L</td><td>359.05</td></tr>\n",
      "<tr><td>7N_L</td><td>360.98</td></tr>\n",
      "<tr><td>LC_L</td><td>406.57</td></tr>\n",
      "<tr><td>Amb_R</td><td>410.03</td></tr>\n",
      "<tr><td>LC_R</td><td>422.67</td></tr>\n",
      "<tr><td>RtTg</td><td>453.79</td></tr>\n",
      "<tr><td>Sp5C_L</td><td>485.41</td></tr>\n",
      "<tr><td>7N_R</td><td>529.63</td></tr>\n",
      "<tr><td>AP</td><td>574.8</td></tr>\n"
     ]
    }
   ],
   "source": [
    "distances = []\n",
    "sortme = {}\n",
    "for structure in common_keys:\n",
    "    (x,y,z) = allen_point_dict[structure]\n",
    "    allen_point = np.array([x,y,z])    \n",
    "    moving_point = np.array(moving_point_dict[structure])\n",
    "    reg_point = brain_to_atlas_transform(moving_point, R, t)\n",
    "    d = calculate_distance(allen_point, reg_point)\n",
    "    distances.append(d)\n",
    "    #print(f'{structure} COM={reg_point} distance={round(d,2)}')\n",
    "    sortme[structure] = d\n",
    "\n",
    "print(f'n={len(distances)}, min={min(distances)} max={max(distances)}, mean={np.mean(distances)}')\n",
    "ds = {k: v for k, v in sorted(sortme.items(), key=lambda item: item[1])}\n",
    "for structure, d in ds.items():\n",
    "    print(f'<tr><td>{structure}</td><td>{round(d,2)}</td></tr>')"
   ]
  },
  {
   "cell_type": "code",
   "execution_count": null,
   "metadata": {},
   "outputs": [],
   "source": [
    "brain.midbrain_keys"
   ]
  },
  {
   "cell_type": "code",
   "execution_count": 14,
   "metadata": {},
   "outputs": [
    {
     "data": {
      "image/png": "[encoded data removed]",
      "text/plain": [
       "<Figure size 640x480 with 1 Axes>"
      ]
     },
     "metadata": {},
     "output_type": "display_data"
    },
    {
     "data": {
      "image/png": "[encoded data removed]",
      "text/plain": [
       "<Figure size 640x480 with 1 Axes>"
      ]
     },
     "metadata": {},
     "output_type": "display_data"
    }
   ],
   "source": [
    "xA = allen_points[:,0]\n",
    "yA = allen_points[:,1] \n",
    "zA = allen_points[:,2]\n",
    "xm = reg_points.T[:,0]\n",
    "ym = reg_points.T[:,1]\n",
    "zm = reg_points.T[:,2]\n",
    "\n",
    "plt.scatter(xA, yA, marker='^', c='#FF0000', label='Allen')\n",
    "plt.scatter(xm, ym, marker='o', c='#00FF00', label='Atlas')\n",
    "plt.xlabel('x')\n",
    "plt.ylabel('y')\n",
    "plt.title('Allen/Altas X Y scatter plot')\n",
    "plt.legend()\n",
    "plt.show()\n",
    "plt.close()\n",
    "\n",
    "plt.scatter(xA, zA, marker='^', c='#FF0000', label='Allen')\n",
    "plt.scatter(xm, zm, marker='o', c='#00FF00', label='Atlas')\n",
    "for i, txt in enumerate(common_keys):\n",
    "    plt.annotate(f' {txt}', (xA[i], zA[i]))\n",
    "plt.xlabel('x')\n",
    "plt.ylabel('z')\n",
    "plt.title('Allen/Altas X Z scatter plot')\n",
    "plt.legend()\n",
    "plt.show()\n",
    "plt.close()"
   ]
  },
  {
   "cell_type": "code",
   "execution_count": null,
   "metadata": {},
   "outputs": [],
   "source": [
    "reg_points.shape"
   ]
  },
  {
   "cell_type": "code",
   "execution_count": null,
   "metadata": {},
   "outputs": [],
   "source": [
    "plot_point_sets_2d([\n",
    "    (allen_points, 'Allen centers'),\n",
    "    (reg_points.T, 'Aligned atlas centers')\n",
    "])"
   ]
  },
  {
   "cell_type": "code",
   "execution_count": null,
   "metadata": {},
   "outputs": [],
   "source": [
    "plot_point_sets_3d([\n",
    "    (reg_points/25, 'registered moving centers'),\n",
    "    (allen_points.T/25, 'Allen centers')    \n",
    "])"
   ]
  }
 ],
 "metadata": {
  "kernelspec": {
   "display_name": "Python 3",
   "language": "python",
   "name": "python3"
  },
  "language_info": {
   "codemirror_mode": {
    "name": "ipython",
    "version": 3
   },
   "file_extension": ".py",
   "mimetype": "text/x-python",
   "name": "python",
   "nbconvert_exporter": "python",
   "pygments_lexer": "ipython3",
   "version": "3.10.6"
  }
 },
 "nbformat": 4,
 "nbformat_minor": 4
}
