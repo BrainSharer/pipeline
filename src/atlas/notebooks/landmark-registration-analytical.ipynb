{
 "cells": [
  {
   "cell_type": "code",
   "execution_count": 29,
   "metadata": {},
   "outputs": [
    {
     "name": "stdout",
     "output_type": "stream",
     "text": [
      "/home/eddyod/programming/preprocessing-pipeline/src\n"
     ]
    }
   ],
   "source": [
    "import sys\n",
    "from pathlib import Path\n",
    "import numpy as np\n",
    "from scipy.ndimage import center_of_mass\n",
    "#import warnings\n",
    "#warnings.filterwarnings(\"error\")\n",
    "import matplotlib.pyplot as plt\n",
    "import pandas as pd\n",
    "import plotly.express as px\n",
    "import numpy as np\n",
    "from superpose3d import Superpose3D\n",
    "\n",
    "\n",
    "PIPELINE_ROOT = Path('../src').resolve().parent.parent\n",
    "sys.path.append(PIPELINE_ROOT.as_posix())\n",
    "print(PIPELINE_ROOT)\n",
    "\n",
    "from library.registration.brain_structure_manager import BrainStructureManager\n",
    "from library.registration.algorithm import umeyama\n",
    "from registration.pointset_alignment import get_rigid_aligned_points, get_similarity_alignment_points"
   ]
  },
  {
   "cell_type": "code",
   "execution_count": 2,
   "metadata": {},
   "outputs": [],
   "source": [
    "def brain_to_atlas_transform(brain_coord, r, t):\n",
    "    brain_coord = np.array(brain_coord).reshape(3, 1) # Convert to a column vector\n",
    "    atlas_coord = r @ brain_coord + t\n",
    "    return atlas_coord.T[0] # Convert back to a row vector\n",
    "\n",
    "def calculate_distance(com1, com2):\n",
    "    return (np.linalg.norm(com1 - com2))\n",
    "        \n",
    "def plot_point_sets_3d(point_sets):\n",
    "    df = pd.DataFrame()\n",
    "    for data, label in point_sets:\n",
    "        df_cur = pd.DataFrame(data.T, columns=['x', 'y', 'z'])\n",
    "        df_cur['label'] = label\n",
    "        #df = df.concat(df_cur, ignore_index=True)\n",
    "        df = pd.concat([df, df_cur], axis= 0)\n",
    "    \n",
    "    fig = px.scatter_3d(df, x='x', y='y', z='z', color='label', width=800, height=600)\n",
    "    fig.update_layout(\n",
    "    scene={\n",
    "        'xaxis': {'range': (0, 528)}, \n",
    "        'yaxis': {'range': (0, 320)},\n",
    "        'zaxis': {'range': (0, 456)},\n",
    "    })\n",
    "    return fig\n",
    "        "
   ]
  },
  {
   "cell_type": "code",
   "execution_count": 3,
   "metadata": {},
   "outputs": [],
   "source": [
    "animal = 'Atlas'\n",
    "brain = BrainStructureManager(animal)\n",
    "brain.fixed_brain = BrainStructureManager('Allen')"
   ]
  },
  {
   "cell_type": "code",
   "execution_count": 4,
   "metadata": {},
   "outputs": [],
   "source": [
    "brainstem_keys = set(brain.allen_structures_keys) - brain.midbrain_keys "
   ]
  },
  {
   "cell_type": "code",
   "execution_count": 5,
   "metadata": {},
   "outputs": [],
   "source": [
    "moving_coms = brain.get_coms(annotator_id=1)\n",
    "allen_coms = brain.fixed_brain.get_coms(annotator_id=1)\n",
    "common_keys = sorted(allen_coms.keys() & moving_coms.keys())\n",
    "allen_points = np.array([allen_coms[s] for s in common_keys])\n",
    "moving_points = np.array([moving_coms[s] for s in common_keys])"
   ]
  },
  {
   "cell_type": "code",
   "execution_count": 6,
   "metadata": {},
   "outputs": [],
   "source": [
    "common_midbrain_keys = sorted(allen_coms.keys() & moving_coms.keys() & brain.midbrain_keys)\n",
    "allen_midbrain_points = np.array([allen_coms[s] for s in common_midbrain_keys])\n",
    "moving_midbrain_points = np.array([moving_coms[s] for s in common_midbrain_keys])"
   ]
  },
  {
   "cell_type": "code",
   "execution_count": 7,
   "metadata": {},
   "outputs": [],
   "source": [
    "allen_point_dict = {s:allen_coms[s] for s in common_keys}\n",
    "moving_point_dict = {s:moving_coms[s] for s in common_keys}"
   ]
  },
  {
   "cell_type": "code",
   "execution_count": 30,
   "metadata": {},
   "outputs": [],
   "source": [
    "reg_dict = get_similarity_alignment_points(allen_point_dict, moving_point_dict)"
   ]
  },
  {
   "cell_type": "code",
   "execution_count": 24,
   "metadata": {},
   "outputs": [
    {
     "data": {
      "text/plain": [
       "(37, 3)"
      ]
     },
     "execution_count": 24,
     "metadata": {},
     "output_type": "execute_result"
    }
   ],
   "source": [
    "moving_points.shape"
   ]
  },
  {
   "cell_type": "code",
   "execution_count": null,
   "metadata": {},
   "outputs": [],
   "source": [
    "brainstem_keys"
   ]
  },
  {
   "cell_type": "code",
   "execution_count": null,
   "metadata": {},
   "outputs": [],
   "source": [
    "allen_point_dict['SC']"
   ]
  },
  {
   "cell_type": "code",
   "execution_count": null,
   "metadata": {},
   "outputs": [],
   "source": [
    "moving_point_dict['SC']"
   ]
  },
  {
   "cell_type": "code",
   "execution_count": null,
   "metadata": {},
   "outputs": [],
   "source": [
    "distances = []\n",
    "sortme = {}\n",
    "for structure in common_keys:\n",
    "    (x,y,z) = allen_point_dict[structure]\n",
    "    allen_point = np.array([x,y,z])    \n",
    "    moving_point = np.array(moving_point_dict[structure])\n",
    "    #print(atlas_point, allen_point)\n",
    "    d = calculate_distance(allen_point, moving_point)\n",
    "    distances.append(d)\n",
    "    sortme[structure] = d\n",
    "print(f'n={len(distances)}, min={min(distances)} max={max(distances)}, mean={np.mean(distances)}')\n",
    "ds = {k: v for k, v in sorted(sortme.items(), key=lambda item: item[1])}\n",
    "for structure, d in ds.items():\n",
    "    print(f'{structure} distance from Allen={round(d,2)} micrometers')"
   ]
  },
  {
   "cell_type": "code",
   "execution_count": null,
   "metadata": {},
   "outputs": [],
   "source": [
    "plot_point_sets_3d([\n",
    "    (moving_points.T/25, 'unaligned moving centers'),\n",
    "    (allen_points.T/25, 'Allen centers')\n",
    "])"
   ]
  },
  {
   "cell_type": "code",
   "execution_count": null,
   "metadata": {},
   "outputs": [],
   "source": [
    "(RMSD, R1, t1, _) = Superpose3D(allen_points, moving_points, allow_rescale=True)\n",
    "t1 = t1.reshape(3,1)\n",
    "print(RMSD)"
   ]
  },
  {
   "cell_type": "code",
   "execution_count": null,
   "metadata": {},
   "outputs": [],
   "source": [
    "allen_midbrain_points.shape"
   ]
  },
  {
   "cell_type": "code",
   "execution_count": 25,
   "metadata": {},
   "outputs": [],
   "source": [
    "R, t = umeyama(moving_points.T, allen_points.T)"
   ]
  },
  {
   "cell_type": "code",
   "execution_count": 26,
   "metadata": {},
   "outputs": [
    {
     "data": {
      "text/plain": [
       "array([[ -8.78746122],\n",
       "       [ 43.28687301],\n",
       "       [-57.35439132]])"
      ]
     },
     "execution_count": 26,
     "metadata": {},
     "output_type": "execute_result"
    }
   ],
   "source": [
    "t"
   ]
  },
  {
   "cell_type": "code",
   "execution_count": 27,
   "metadata": {},
   "outputs": [],
   "source": [
    "reg_points = R @ moving_points.T + t"
   ]
  },
  {
   "cell_type": "markdown",
   "metadata": {},
   "source": [
    " That does not preclude starting the new idea but is just to say that somehow we need to get David's attention on what you have done- do a graph\n",
    "= box plot of the midbrain com distances vs allen (active atlas based)\n",
    "=box plot of the brainstem vs allen distances (but not using midbrain values to improve the distances)\n",
    "This should provide an easy visual...\n",
    "\n",
    "\n",
    "When the tethering is done for the brainstem structures though- he does not want the midbrain metrics to be included ( I don't know though if he means that the alignment is done with midbrain and then the evaluated outputs are only for the brainstem structures...?) your guess is best\n",
    "So- in any case it was clear that he did not want metrics for midbrain and brainstem structures to be combined."
   ]
  },
  {
   "cell_type": "code",
   "execution_count": null,
   "metadata": {},
   "outputs": [],
   "source": [
    "print('Mean')\n",
    "print(np.mean(allen_points, axis=0))\n",
    "print(np.mean(reg_points, axis=1))\n",
    "print('Min')\n",
    "print(np.min(allen_points, axis=0))\n",
    "print(np.min(reg_points, axis=1))\n",
    "print('Max')\n",
    "print(np.max(allen_points, axis=0))\n",
    "print(np.max(reg_points, axis=1))"
   ]
  },
  {
   "cell_type": "code",
   "execution_count": null,
   "metadata": {},
   "outputs": [],
   "source": [
    "reg_point_dict = {s:moving_coms[s] for s in common_keys}"
   ]
  },
  {
   "cell_type": "code",
   "execution_count": 31,
   "metadata": {},
   "outputs": [
    {
     "name": "stdout",
     "output_type": "stream",
     "text": [
      "3N_L COM=[9054. 3980. 5623.] SITK=219.52 distance=216.77\n",
      "3N_R COM=[9073. 4016. 5885.] SITK=228.6 distance=225.06\n",
      "4N_L COM=[9578. 4030. 5447.] SITK=256.96 distance=252.76\n",
      "4N_R COM=[9550. 4063. 5980.] SITK=295.14 distance=291.58\n",
      "5N_L COM=[10161.  5211.  4201.] SITK=141.25 distance=136.76\n",
      "5N_R COM=[10102.  5158.  7182.] SITK=194.94 distance=191.97\n",
      "6N_L COM=[10775.  5319.  5259.] SITK=107.47 distance=108.67\n",
      "6N_R COM=[10781.  5366.  6027.] SITK=165.42 distance=165.75\n",
      "7N_L COM=[10780.  6479.  4476.] SITK=341.2 distance=334.35\n",
      "7N_R COM=[11357.  6575.  7059.] SITK=541.68 distance=542.9\n",
      "7n_L COM=[10538.  5651.  4538.] SITK=277.44 distance=281.11\n",
      "7n_R COM=[10558.  5587.  6790.] SITK=198.84 distance=202.02\n",
      "AP COM=[12708.  5525.  5518.] SITK=543.42 distance=545.88\n",
      "Amb_L COM=[11660.  6408.  4292.] SITK=314.13 distance=307.78\n",
      "Amb_R COM=[11678.  6238.  7012.] SITK=440.33 distance=433.63\n",
      "DC_L COM=[11301.  4923.  3256.] SITK=90.89 distance=89.33\n",
      "DC_R COM=[11072.  4778.  8146.] SITK=301.41 distance=300.35\n",
      "IC COM=[10570.  2575.  5749.] SITK=318.92 distance=311.16\n",
      "LC_L COM=[10575.  4612.  4755.] SITK=363.06 distance=360.81\n",
      "LC_R COM=[10563.  4600.  6582.] SITK=362.66 distance=359.94\n",
      "LRt_L COM=[12499.  6893.  4384.] SITK=180.45 distance=183.37\n",
      "LRt_R COM=[12488.  6756.  6837.] SITK=320.12 distance=316.5\n",
      "PBG_L COM=[9546. 3793. 3710.] SITK=226.82 distance=220.09\n",
      "PBG_R COM=[9437. 3897. 7768.] SITK=100.46 distance=90.13\n",
      "RtTg COM=[9226. 5688. 5603.] SITK=463.26 distance=467.89\n",
      "SC COM=[9207. 2530. 5768.] SITK=184.4 distance=174.34\n",
      "SNC_L COM=[8195. 4881. 4365.] SITK=295.2 distance=299.35\n",
      "SNC_R COM=[8060. 4872. 7179.] SITK=388.2 distance=397.09\n",
      "SNR_L COM=[8485. 4946. 4270.] SITK=332.43 distance=327.82\n",
      "SNR_R COM=[8363. 4959. 7242.] SITK=248.8 distance=248.86\n",
      "Sp5C_L COM=[13290.  6158.  4056.] SITK=521.99 distance=532.54\n",
      "Sp5I_L COM=[12475.  5878.  3705.] SITK=362.55 distance=371.23\n",
      "Sp5I_R COM=[12424.  5785.  7546.] SITK=337.16 distance=341.48\n",
      "Sp5O_L COM=[11183.  5877.  3783.] SITK=56.23 distance=56.42\n",
      "Sp5O_R COM=[11105.  5784.  7524.] SITK=158.59 distance=152.19\n",
      "VLL_L COM=[9438. 4801. 3862.] SITK=375.06 distance=377.03\n",
      "VLL_R COM=[9292. 4978. 7512.] SITK=257.8 distance=261.6\n",
      "n=37, min=56.42309288277382 max=545.8822933606355, mean=283.14928294591755\n",
      "n=37, min=56.230459010691945 max=543.4206595101243, mean=284.1294610705685\n"
     ]
    }
   ],
   "source": [
    "distances = []\n",
    "distances2 = []\n",
    "sortme = {}\n",
    "for structure in common_keys:\n",
    "    (x,y,z) = allen_point_dict[structure]\n",
    "    sitk_point = reg_dict[structure]\n",
    "    allen_point = np.array([x,y,z])    \n",
    "    moving_point = np.array(moving_point_dict[structure])\n",
    "    reg_point = brain_to_atlas_transform(moving_point, R, t)\n",
    "    d = calculate_distance(allen_point, reg_point)\n",
    "    ds = calculate_distance(allen_point, sitk_point)\n",
    "    distances2.append(ds)\n",
    "    distances.append(d)\n",
    "    print(f'{structure} COM={reg_point.round()} SITK={round(ds,2)} distance={round(d,2)}')\n",
    "    sortme[structure] = d\n",
    "\n",
    "print(f'n={len(distances)}, min={min(distances)} max={max(distances)}, mean={np.mean(distances)}')\n",
    "print(f'n={len(distances2)}, min={min(distances2)} max={max(distances2)}, mean={np.mean(distances2)}')\n",
    "#ds = {k: v for k, v in sorted(sortme.items(), key=lambda item: item[1])}\n",
    "#for structure, d in ds.items():\n",
    "#    print(f'{structure} {round(d,2)}')"
   ]
  },
  {
   "cell_type": "code",
   "execution_count": null,
   "metadata": {},
   "outputs": [],
   "source": [
    "reg_points.shape"
   ]
  },
  {
   "cell_type": "code",
   "execution_count": null,
   "metadata": {},
   "outputs": [],
   "source": [
    "plot_point_sets_3d([\n",
    "    (reg_points/25, 'registered moving centers'),\n",
    "    (allen_points.T/25, 'Allen centers')    \n",
    "])"
   ]
  }
 ],
 "metadata": {
  "kernelspec": {
   "display_name": "Python 3 (ipykernel)",
   "language": "python",
   "name": "python3"
  },
  "language_info": {
   "codemirror_mode": {
    "name": "ipython",
    "version": 3
   },
   "file_extension": ".py",
   "mimetype": "text/x-python",
   "name": "python",
   "nbconvert_exporter": "python",
   "pygments_lexer": "ipython3",
   "version": "3.10.12"
  }
 },
 "nbformat": 4,
 "nbformat_minor": 4
}
