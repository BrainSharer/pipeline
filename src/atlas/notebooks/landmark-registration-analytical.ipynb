{
 "cells": [
  {
   "cell_type": "code",
   "execution_count": null,
   "metadata": {},
   "outputs": [],
   "source": [
    "import sys\n",
    "from pathlib import Path\n",
    "import numpy as np\n",
    "from scipy.ndimage import center_of_mass\n",
    "#import warnings\n",
    "#warnings.filterwarnings(\"error\")\n",
    "import matplotlib.pyplot as plt\n",
    "import pandas as pd\n",
    "import plotly.express as px\n",
    "import numpy as np\n",
    "\n",
    "PIPELINE_ROOT = Path('../src').resolve().parent.parent\n",
    "sys.path.append(PIPELINE_ROOT.as_posix())\n",
    "print(PIPELINE_ROOT)\n",
    "\n",
    "from library.registration.brain_structure_manager import BrainStructureManager\n",
    "from library.registration.algorithm import umeyama"
   ]
  },
  {
   "cell_type": "code",
   "execution_count": null,
   "metadata": {},
   "outputs": [],
   "source": [
    "def brain_to_atlas_transform(brain_coord, r, t):\n",
    "    brain_coord = np.array(brain_coord).reshape(3, 1) # Convert to a column vector\n",
    "    atlas_coord = r @ brain_coord + t\n",
    "    return atlas_coord.T[0] # Convert back to a row vector\n",
    "\n",
    "def calculate_distance(com1, com2):\n",
    "    return (np.linalg.norm(com1 - com2))\n",
    "\n",
    "def plot_point_sets_3d(point_sets):\n",
    "    df = pd.DataFrame()\n",
    "    for data, label in point_sets:\n",
    "        df_cur = pd.DataFrame(data.T, columns=['x', 'y', 'z'])\n",
    "        df_cur['label'] = label\n",
    "        #df = df.concat(df_cur, ignore_index=True)\n",
    "        df = pd.concat([df, df_cur], axis= 0)\n",
    "    \n",
    "    fig = px.scatter_3d(df, x='x', y='y', z='z', color='label')\n",
    "    return fig"
   ]
  },
  {
   "cell_type": "code",
   "execution_count": null,
   "metadata": {},
   "outputs": [],
   "source": [
    "animal = 'Atlas'\n",
    "brain = BrainStructureManager(animal)\n",
    "brain.fixed_brain = BrainStructureManager('Allen')"
   ]
  },
  {
   "cell_type": "code",
   "execution_count": null,
   "metadata": {},
   "outputs": [],
   "source": [
    "atlas_coms = brain.get_coms(annotator_id=1)\n",
    "allen_coms = brain.fixed_brain.get_coms(annotator_id=1)\n",
    "common_keys = allen_coms.keys() & atlas_coms.keys()\n",
    "brain_regions = sorted(atlas_coms.keys())\n",
    "allen_points = np.array([allen_coms[s] for s in brain_regions if s in brain.midbrain_keys])\n",
    "atlas_points = np.array([atlas_coms[s] for s in brain_regions if s in brain.midbrain_keys])"
   ]
  },
  {
   "cell_type": "code",
   "execution_count": null,
   "metadata": {},
   "outputs": [],
   "source": [
    "allen_point_dict = {s:allen_coms[s] for s in brain_regions if s in common_keys}\n",
    "atlas_point_dict = {s:atlas_coms[s] for s in brain_regions if s in common_keys}"
   ]
  },
  {
   "cell_type": "code",
   "execution_count": null,
   "metadata": {},
   "outputs": [],
   "source": [
    "atlas_coms['SC']"
   ]
  },
  {
   "cell_type": "code",
   "execution_count": null,
   "metadata": {},
   "outputs": [],
   "source": [
    "allen_coms['SC']"
   ]
  },
  {
   "cell_type": "code",
   "execution_count": null,
   "metadata": {},
   "outputs": [],
   "source": [
    "distances = []\n",
    "for structure in brain.midbrain_keys:\n",
    "    (x,y,z) = allen_point_dict[structure]\n",
    "    allen_point = np.array([x,y,z])    \n",
    "    atlas_point = np.array(atlas_point_dict[structure])\n",
    "    #print(atlas_point, allen_point)\n",
    "    d = calculate_distance(allen_point, atlas_point)\n",
    "    distances.append(d)\n",
    "    atlas_point = np.round(atlas_point/25)\n",
    "    print(f'{structure} Cdistance from Allen={round(d,2)} micrometers')\n",
    "print()\n",
    "print(f'n={len(distances)}, min={min(distances)} max={max(distances)}, mean={np.mean(distances)}')"
   ]
  },
  {
   "cell_type": "code",
   "execution_count": null,
   "metadata": {},
   "outputs": [],
   "source": [
    "plot_point_sets_3d([\n",
    "    (atlas_points.T, 'unaligned moving centers'),\n",
    "    (allen_points.T, 'Allen centers')\n",
    "])"
   ]
  },
  {
   "cell_type": "code",
   "execution_count": null,
   "metadata": {},
   "outputs": [],
   "source": [
    "r, t = umeyama(atlas_points.T, allen_points.T)"
   ]
  },
  {
   "cell_type": "code",
   "execution_count": null,
   "metadata": {},
   "outputs": [],
   "source": [
    "t"
   ]
  },
  {
   "cell_type": "code",
   "execution_count": null,
   "metadata": {},
   "outputs": [],
   "source": [
    "reg_points = r @ atlas_points.T + t"
   ]
  },
  {
   "cell_type": "code",
   "execution_count": null,
   "metadata": {},
   "outputs": [],
   "source": [
    "print('Mean')\n",
    "print(np.mean(allen_points, axis=0))\n",
    "print(np.mean(reg_points, axis=1))\n",
    "print('Min')\n",
    "print(np.min(allen_points, axis=0))\n",
    "print(np.min(reg_points, axis=1))\n",
    "print('Max')\n",
    "print(np.max(allen_points, axis=0))\n",
    "print(np.max(reg_points, axis=1))"
   ]
  },
  {
   "cell_type": "code",
   "execution_count": null,
   "metadata": {},
   "outputs": [],
   "source": [
    "reg_point_dict = {s:atlas_coms[s] for s in brain_regions if s in brain.midbrain_keys}"
   ]
  },
  {
   "cell_type": "code",
   "execution_count": null,
   "metadata": {},
   "outputs": [],
   "source": [
    "distances = []\n",
    "for structure in common_keys:\n",
    "    (x,y,z) = allen_point_dict[structure]\n",
    "    allen_point = np.array([x,y,z])    \n",
    "    atlas_point = np.array(atlas_point_dict[structure])\n",
    "    reg_point = brain_to_atlas_transform(atlas_point, r, t)\n",
    "    d = calculate_distance(allen_point, reg_point)\n",
    "    distances.append(d)\n",
    "    reg_point = np.round(reg_point / 25)\n",
    "    print(f'{structure} COM={reg_point} distance={round(d,2)}')\n",
    "print()\n",
    "len(distances), round(np.mean(distances)), round(min(distances)), round(max(distances))"
   ]
  },
  {
   "cell_type": "code",
   "execution_count": null,
   "metadata": {},
   "outputs": [],
   "source": [
    "\"\"\"\n",
    "add trans in loop from MD -> MD589\n",
    "Pn_R COM=[385. 239. 255.] distance=628.58\n",
    "SNR_L COM=[364. 192. 172.] distance=807.9\n",
    "PBG_R COM=[379. 147. 310.] distance=208.75\n",
    "Pn_L COM=[382. 237. 207.] distance=745.91\n",
    "4N_R COM=[387. 151. 238.] distance=95.07\n",
    "3N_L COM=[366. 153. 225.] distance=125.3\n",
    "PBG_L COM=[381. 147. 149.] distance=278.35\n",
    "3N_R COM=[375. 151. 239.] distance=305.8\n",
    "SNR_R COM=[350. 198. 289.] distance=403.99\n",
    "SC COM=[365.  94. 230.] distance=790.67\n",
    "IC COM=[415.  80. 226.] distance=134.63\n",
    "4N_L COM=[346. 129. 189.] distance=1299.23\n",
    "\n",
    "(12, 485, 95, 1299)\n",
    "\n",
    "add trans in loop from MD -> allen\n",
    "SNR_L COM=[361. 194. 164.] distance=653.93\n",
    "3N_R COM=[369. 152. 234.] distance=116.48\n",
    "4N_R COM=[379. 149. 237.] distance=132.96\n",
    "Pn_R COM=[385. 243. 253.] distance=724.89\n",
    "IC COM=[409.  77. 224.] distance=284.73\n",
    "SNR_R COM=[352. 194. 295.] distance=493.45\n",
    "SC COM=[365.  90. 230.] distance=689.5\n",
    "3N_L COM=[362. 151. 224.] distance=101.12\n",
    "PBG_R COM=[376. 141. 313.] distance=309.93\n",
    "Pn_L COM=[382. 241. 203.] distance=736.1\n",
    "PBG_L COM=[376. 138. 141.] distance=392.79\n",
    "4N_L COM=[379. 147. 215.] distance=164.75\n",
    "\n",
    "(12, 400, 101, 736)\n",
    "\n",
    "only transformation is on this page\n",
    "4N_R COM=[350. 132. 213.] distance=1151.52\n",
    "Pn_R COM=[384. 237. 257.] distance=565.89\n",
    "3N_L COM=[369. 155. 229.] distance=250.5\n",
    "SC COM=[370. 101. 234.] distance=988.87\n",
    "PBG_R COM=[384. 151. 310.] distance=222.8\n",
    "Pn_L COM=[382. 236. 209.] distance=773.35\n",
    "PBG_L COM=[384. 146. 155.] distance=418.68\n",
    "IC COM=[419.  86. 227.] distance=94.65\n",
    "4N_L COM=[351. 130. 193.] distance=1140.79\n",
    "SNR_R COM=[356. 199. 291.] distance=512.06\n",
    "SNR_L COM=[370. 192. 176.] distance=955.02\n",
    "3N_R COM=[376. 154. 239.] distance=326.34\n",
    "\n",
    "(12, 617, 95, 1152)\n",
    "\"\"\""
   ]
  },
  {
   "cell_type": "code",
   "execution_count": null,
   "metadata": {},
   "outputs": [],
   "source": [
    "plot_point_sets_3d([\n",
    "    (reg_points, 'registered moving centers'),\n",
    "    (allen_points.T, 'Allen centers')    \n",
    "])"
   ]
  }
 ],
 "metadata": {
  "kernelspec": {
   "display_name": "Python 3",
   "language": "python",
   "name": "python3"
  },
  "language_info": {
   "codemirror_mode": {
    "name": "ipython",
    "version": 3
   },
   "file_extension": ".py",
   "mimetype": "text/x-python",
   "name": "python",
   "nbconvert_exporter": "python",
   "pygments_lexer": "ipython3",
   "version": "3.10.6"
  }
 },
 "nbformat": 4,
 "nbformat_minor": 4
}
