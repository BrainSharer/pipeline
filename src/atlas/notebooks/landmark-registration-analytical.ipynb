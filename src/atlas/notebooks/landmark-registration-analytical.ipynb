{
 "cells": [
  {
   "cell_type": "code",
   "execution_count": 1,
   "metadata": {},
   "outputs": [
    {
     "name": "stdout",
     "output_type": "stream",
     "text": [
      "/home/eddyod/programming/preprocessing-pipeline/src\n"
     ]
    }
   ],
   "source": [
    "import sys\n",
    "from pathlib import Path\n",
    "import numpy as np\n",
    "from scipy.ndimage import center_of_mass\n",
    "#import warnings\n",
    "#warnings.filterwarnings(\"error\")\n",
    "import matplotlib.pyplot as plt\n",
    "import pandas as pd\n",
    "import plotly.express as px\n",
    "import numpy as np\n",
    "from superpose3d import Superpose3D\n",
    "PIPELINE_ROOT = Path('../src').resolve().parent.parent\n",
    "sys.path.append(PIPELINE_ROOT.as_posix())\n",
    "print(PIPELINE_ROOT)\n",
    "\n",
    "from library.registration.brain_structure_manager import BrainStructureManager\n",
    "from library.registration.algorithm import umeyama"
   ]
  },
  {
   "cell_type": "code",
   "execution_count": 2,
   "metadata": {},
   "outputs": [],
   "source": [
    "def brain_to_atlas_transform(brain_coord, r, t):\n",
    "    brain_coord = np.array(brain_coord).reshape(3, 1) # Convert to a column vector\n",
    "    atlas_coord = r @ brain_coord + t\n",
    "    return atlas_coord.T[0] # Convert back to a row vector\n",
    "\n",
    "def calculate_distance(com1, com2):\n",
    "    return (np.linalg.norm(com1 - com2))\n",
    "\n",
    "def plot_point_sets_3d(point_sets):\n",
    "    df = pd.DataFrame()\n",
    "    for data, label in point_sets:\n",
    "        df_cur = pd.DataFrame(data.T, columns=['x', 'y', 'z'])\n",
    "        df_cur['label'] = label\n",
    "        #df = df.concat(df_cur, ignore_index=True)\n",
    "        df = pd.concat([df, df_cur], axis= 0)\n",
    "    \n",
    "    fig = px.scatter_3d(df, x='x', y='y', z='z', color='label')\n",
    "    return fig"
   ]
  },
  {
   "cell_type": "code",
   "execution_count": 3,
   "metadata": {},
   "outputs": [],
   "source": [
    "animal = 'DK55'\n",
    "brain = BrainStructureManager(animal)\n",
    "brain.fixed_brain = BrainStructureManager('Allen')"
   ]
  },
  {
   "cell_type": "code",
   "execution_count": 4,
   "metadata": {},
   "outputs": [],
   "source": [
    "moving_coms = brain.get_coms(annotator_id=2)\n",
    "allen_coms = brain.fixed_brain.get_coms(annotator_id=1)\n",
    "common_keys = allen_coms.keys() & moving_coms.keys()\n",
    "brain_regions = sorted(moving_coms.keys())\n",
    "allen_points = np.array([allen_coms[s] for s in brain_regions if s in common_keys])\n",
    "moving_points = np.array([moving_coms[s] for s in brain_regions if s in common_keys])"
   ]
  },
  {
   "cell_type": "code",
   "execution_count": 5,
   "metadata": {},
   "outputs": [],
   "source": [
    "allen_point_dict = {s:allen_coms[s] for s in brain_regions if s in common_keys}\n",
    "moving_point_dict = {s:moving_coms[s] for s in brain_regions if s in common_keys}"
   ]
  },
  {
   "cell_type": "code",
   "execution_count": 6,
   "metadata": {},
   "outputs": [
    {
     "data": {
      "text/plain": [
       "{'3N_L': [11207.5, 5005.76, 4620.0],\n",
       " '3N_R': [11172.8, 4960.67, 4900.0],\n",
       " '4N_L': [11525.2, 5043.96, 4460.0],\n",
       " '4N_R': [11474.0, 4986.83, 4940.0],\n",
       " '5N_L': [12184.6, 6245.08, 3400.0],\n",
       " '5N_R': [12198.9, 6011.09, 6320.0],\n",
       " '6N_L': [12747.7, 6215.66, 4500.0],\n",
       " '6N_R': [12691.9, 6174.66, 5240.0],\n",
       " '7N_L': [13080.7, 7323.6, 3660.0],\n",
       " '7N_R': [12927.3, 7183.8, 6300.0],\n",
       " '7n_L': [12650.95, 6181.5, 4020.0],\n",
       " 'AP': [14439.6, 5705.57, 4920.0],\n",
       " 'Amb_L': [13717.5, 7135.54, 3660.0],\n",
       " 'Amb_R': [13785.2, 6869.11, 6340.0],\n",
       " 'DC_L': [13327.7, 5646.89, 2660.0],\n",
       " 'DC_R': [13334.3, 5283.99, 7080.0],\n",
       " 'LC_L': [12584.0, 5309.77, 3960.0],\n",
       " 'LC_R': [12679.9, 5218.19, 5680.0],\n",
       " 'LRt_L': [14545.3, 7358.92, 3680.0],\n",
       " 'LRt_R': [14848.1, 7225.04, 6280.0],\n",
       " 'PBG_L': [11314.1, 5133.68, 2860.0],\n",
       " 'PBG_R': [11309.0, 4916.5, 6740.0]}"
      ]
     },
     "execution_count": 6,
     "metadata": {},
     "output_type": "execute_result"
    }
   ],
   "source": [
    "moving_point_dict"
   ]
  },
  {
   "cell_type": "code",
   "execution_count": null,
   "metadata": {},
   "outputs": [],
   "source": [
    "allen_coms['SC']"
   ]
  },
  {
   "cell_type": "code",
   "execution_count": 7,
   "metadata": {},
   "outputs": [
    {
     "name": "stdout",
     "output_type": "stream",
     "text": [
      "n=22, min=2018.2507510465596 max=2614.012388589618, mean=2339.176779799585\n",
      "Amb_L distance from Allen=2018.25 micrometers\n",
      "Amb_R distance from Allen=2051.76 micrometers\n",
      "AP distance from Allen=2066.51 micrometers\n",
      "7n_L distance from Allen=2194.52 micrometers\n",
      "DC_L distance from Allen=2229.95 micrometers\n",
      "7N_R distance from Allen=2242.01 micrometers\n",
      "LC_L distance from Allen=2274.63 micrometers\n",
      "6N_R distance from Allen=2310.7 micrometers\n",
      "5N_L distance from Allen=2315.92 micrometers\n",
      "LRt_L distance from Allen=2342.58 micrometers\n",
      "5N_R distance from Allen=2344.08 micrometers\n",
      "DC_R distance from Allen=2344.28 micrometers\n",
      "6N_L distance from Allen=2352.38 micrometers\n",
      "LC_R distance from Allen=2389.35 micrometers\n",
      "7N_L distance from Allen=2393.08 micrometers\n",
      "PBG_L distance from Allen=2406.82 micrometers\n",
      "PBG_R distance from Allen=2445.87 micrometers\n",
      "4N_R distance from Allen=2461.0 micrometers\n",
      "4N_L distance from Allen=2509.84 micrometers\n",
      "3N_R distance from Allen=2563.92 micrometers\n",
      "3N_L distance from Allen=2590.43 micrometers\n",
      "LRt_R distance from Allen=2614.01 micrometers\n"
     ]
    }
   ],
   "source": [
    "distances = []\n",
    "sortme = {}\n",
    "for structure in common_keys:\n",
    "    (x,y,z) = allen_point_dict[structure]\n",
    "    allen_point = np.array([x,y,z])    \n",
    "    moving_point = np.array(moving_point_dict[structure])\n",
    "    #print(atlas_point, allen_point)\n",
    "    d = calculate_distance(allen_point, moving_point)\n",
    "    distances.append(d)\n",
    "    sortme[structure] = d\n",
    "print(f'n={len(distances)}, min={min(distances)} max={max(distances)}, mean={np.mean(distances)}')\n",
    "ds = {k: v for k, v in sorted(sortme.items(), key=lambda item: item[1])}\n",
    "for structure, d in ds.items():\n",
    "    print(f'{structure} distance from Allen={round(d,2)} micrometers')"
   ]
  },
  {
   "cell_type": "code",
   "execution_count": null,
   "metadata": {},
   "outputs": [],
   "source": [
    "plot_point_sets_3d([\n",
    "    (atlas_points.T, 'unaligned moving centers'),\n",
    "    (allen_points.T, 'Allen centers')\n",
    "])"
   ]
  },
  {
   "cell_type": "code",
   "execution_count": 16,
   "metadata": {},
   "outputs": [
    {
     "name": "stdout",
     "output_type": "stream",
     "text": [
      "221.02443674967975\n"
     ]
    }
   ],
   "source": [
    "(RMSD, _, _, _) = Superpose3D(allen_points, moving_points, allow_rescale=True)\n",
    "print(RMSD)"
   ]
  },
  {
   "cell_type": "code",
   "execution_count": 17,
   "metadata": {},
   "outputs": [],
   "source": [
    "R, t = umeyama(moving_points.T, allen_points.T)"
   ]
  },
  {
   "cell_type": "code",
   "execution_count": 18,
   "metadata": {},
   "outputs": [
    {
     "name": "stdout",
     "output_type": "stream",
     "text": [
      "[[ 1.07762522 -0.19058936 -0.00973869]\n",
      " [ 0.19077436  1.07442001  0.08319884]\n",
      " [-0.00492819 -0.08362178  1.0911821 ]]\n",
      "[[-1811.87371515]\n",
      " [-4065.73917681]\n",
      " [  940.3294948 ]]\n"
     ]
    }
   ],
   "source": [
    "print(R)\n",
    "print(t)"
   ]
  },
  {
   "cell_type": "code",
   "execution_count": 19,
   "metadata": {},
   "outputs": [],
   "source": [
    "reg_points = R @ moving_points.T + t"
   ]
  },
  {
   "cell_type": "code",
   "execution_count": 20,
   "metadata": {},
   "outputs": [
    {
     "name": "stdout",
     "output_type": "stream",
     "text": [
      "Mean\n",
      "[10707.85727273  5166.11227273  5647.64363636]\n",
      "[10707.85727273  5166.11227273  5647.64363636]\n",
      "Min\n",
      "[9102.49 3774.79 3229.  ]\n",
      "[9235.04689181 3803.26206037 3304.9894971 ]\n",
      "Max\n",
      "[12653.24  6990.91  8156.39]\n",
      "[12750.63866088  7052.11391658  8158.3281967 ]\n"
     ]
    }
   ],
   "source": [
    "print('Mean')\n",
    "print(np.mean(allen_points, axis=0))\n",
    "print(np.mean(reg_points, axis=1))\n",
    "print('Min')\n",
    "print(np.min(allen_points, axis=0))\n",
    "print(np.min(reg_points, axis=1))\n",
    "print('Max')\n",
    "print(np.max(allen_points, axis=0))\n",
    "print(np.max(reg_points, axis=1))"
   ]
  },
  {
   "cell_type": "code",
   "execution_count": 22,
   "metadata": {},
   "outputs": [],
   "source": [
    "reg_point_dict = {s:moving_coms[s] for s in brain_regions if s in common_keys}"
   ]
  },
  {
   "cell_type": "code",
   "execution_count": 23,
   "metadata": {},
   "outputs": [
    {
     "name": "stdout",
     "output_type": "stream",
     "text": [
      "n=22, min=38.11424881491477 max=429.1977924102672, mean=200.18559492616384\n",
      "PBG_L distance from Allen=38.11 micrometers\n",
      "5N_R distance from Allen=79.9 micrometers\n",
      "PBG_R distance from Allen=93.17 micrometers\n",
      "LC_L distance from Allen=94.98 micrometers\n",
      "5N_L distance from Allen=106.56 micrometers\n",
      "3N_R distance from Allen=140.14 micrometers\n",
      "4N_R distance from Allen=154.89 micrometers\n",
      "LRt_L distance from Allen=162.58 micrometers\n",
      "3N_L distance from Allen=169.57 micrometers\n",
      "4N_L distance from Allen=179.51 micrometers\n",
      "LC_R distance from Allen=179.99 micrometers\n",
      "7n_L distance from Allen=184.27 micrometers\n",
      "7N_L distance from Allen=191.43 micrometers\n",
      "6N_L distance from Allen=218.37 micrometers\n",
      "AP distance from Allen=232.01 micrometers\n",
      "7N_R distance from Allen=235.61 micrometers\n",
      "6N_R distance from Allen=250.51 micrometers\n",
      "Amb_R distance from Allen=297.62 micrometers\n",
      "DC_L distance from Allen=305.75 micrometers\n",
      "Amb_L distance from Allen=327.21 micrometers\n",
      "DC_R distance from Allen=332.7 micrometers\n",
      "LRt_R distance from Allen=429.2 micrometers\n"
     ]
    }
   ],
   "source": [
    "distances = []\n",
    "sortme = {}\n",
    "for structure in common_keys:\n",
    "    (x,y,z) = allen_point_dict[structure]\n",
    "    allen_point = np.array([x,y,z])    \n",
    "    moving_point = np.array(moving_point_dict[structure])\n",
    "    reg_point = brain_to_atlas_transform(moving_point, R, t)\n",
    "    d = calculate_distance(allen_point, reg_point)\n",
    "    distances.append(d)\n",
    "    #print(f'{structure} COM={reg_point} distance={round(d,2)}')\n",
    "    sortme[structure] = d\n",
    "\n",
    "print(f'n={len(distances)}, min={min(distances)} max={max(distances)}, mean={np.mean(distances)}')\n",
    "ds = {k: v for k, v in sorted(sortme.items(), key=lambda item: item[1])}\n",
    "for structure, d in ds.items():\n",
    "    print(f'{structure} distance from Allen={round(d,2)} micrometers')"
   ]
  },
  {
   "cell_type": "code",
   "execution_count": null,
   "metadata": {},
   "outputs": [],
   "source": [
    "# superpose, allow_rescale=False 34 279 105 613\n",
    "# superpoase with scaling 34 271 74 621\n",
    "# umeyama with scaling 34 271 74 621"
   ]
  },
  {
   "cell_type": "code",
   "execution_count": null,
   "metadata": {},
   "outputs": [],
   "source": [
    "plot_point_sets_3d([\n",
    "    (reg_points, 'registered moving centers'),\n",
    "    (allen_points.T, 'Allen centers')    \n",
    "])"
   ]
  }
 ],
 "metadata": {
  "kernelspec": {
   "display_name": "Python 3 (ipykernel)",
   "language": "python",
   "name": "python3"
  },
  "language_info": {
   "codemirror_mode": {
    "name": "ipython",
    "version": 3
   },
   "file_extension": ".py",
   "mimetype": "text/x-python",
   "name": "python",
   "nbconvert_exporter": "python",
   "pygments_lexer": "ipython3",
   "version": "3.10.6"
  }
 },
 "nbformat": 4,
 "nbformat_minor": 4
}
