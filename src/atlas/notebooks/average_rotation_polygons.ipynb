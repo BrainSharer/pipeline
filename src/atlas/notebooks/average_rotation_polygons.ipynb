{
 "cells": [
  {
   "cell_type": "code",
   "execution_count": null,
   "id": "f5f5d4e1",
   "metadata": {},
   "outputs": [],
   "source": [
    "import os\n",
    "import sys\n",
    "import numpy as np\n",
    "from scipy import ndimage\n",
    "from skimage.filters import gaussian\n",
    "from scipy.spatial.transform import Rotation as R\n",
    "import matplotlib.pyplot as plt\n",
    "from skimage import measure  # for marching_cubes (optional 3D surface)\n",
    "from sklearn.decomposition import PCA\n",
    "from scipy.ndimage import center_of_mass\n",
    "from pathlib import Path"
   ]
  },
  {
   "cell_type": "code",
   "execution_count": null,
   "id": "1ae92477",
   "metadata": {},
   "outputs": [],
   "source": [
    "PIPELINE_ROOT = Path('./').absolute().parents[1]\n",
    "PIPELINE_ROOT = PIPELINE_ROOT.as_posix()\n",
    "sys.path.append(PIPELINE_ROOT)\n",
    "data_path = '/net/birdstore/Active_Atlas_Data/data_root/atlas_data'\n",
    "from library.atlas.atlas_utilities import  adjust_volume, align_masks_numpy, average_images    \n",
    "from library.controller.sql_controller import SqlController"
   ]
  },
  {
   "cell_type": "code",
   "execution_count": null,
   "id": "bc37930c",
   "metadata": {},
   "outputs": [],
   "source": [
    "def load_volumes(structure):\n",
    "    images = []\n",
    "    brains = ['MD585', 'MD589', 'MD594']\n",
    "    for brain in brains:\n",
    "        structure_path = os.path.join(data_path, brain, 'structure', f'{structure}.npy')\n",
    "        arr = np.load(structure_path)\n",
    "        images.append(arr)\n",
    "    return images\n",
    "\n",
    "def plot_slices(volume):\n",
    "    fig, ax = plt.subplots(1,3,figsize=(9,3))\n",
    "    ax[0].imshow(volume[volume.shape[0]//2,:,:])\n",
    "    ax[0].set_title('axial (z)')\n",
    "    ax[1].imshow(volume[:,volume.shape[1]//2,:])\n",
    "    ax[1].set_title('coronal (y)')\n",
    "    ax[2].imshow(volume[:,:,volume.shape[2]//2])\n",
    "    ax[2].set_title('sagittal (x)')"
   ]
  },
  {
   "cell_type": "code",
   "execution_count": null,
   "id": "17f4473a",
   "metadata": {},
   "outputs": [],
   "source": [
    "structure = 'SC'\n",
    "masks = load_volumes(structure)"
   ]
  },
  {
   "cell_type": "code",
   "execution_count": null,
   "id": "bab82107",
   "metadata": {},
   "outputs": [],
   "source": [
    "pca_aligned = align_masks_numpy(masks)\n",
    "aligned = average_images(masks)"
   ]
  },
  {
   "cell_type": "code",
   "execution_count": null,
   "id": "c1d66532",
   "metadata": {},
   "outputs": [],
   "source": [
    "avg_volume = np.mean(pca_aligned, axis=0)\n",
    "print(avg_volume.shape, avg_volume.dtype)\n",
    "allen_id = 255\n",
    "arr = avg_volume.copy()\n",
    "z = arr.shape[2] // 2\n",
    "print('midpoint=',z)\n",
    "volume = arr.copy()\n",
    "volume = gaussian(volume, 4.0)            \n",
    "upper = np.quantile(volume, 0.85)\n",
    "print('upper', upper)\n",
    "volume[(volume > upper) ] = allen_id\n",
    "volume[(volume != allen_id)] = 0\n",
    "volume = volume.astype(np.uint32)\n",
    "\n",
    "slice = volume[:,:,z]\n",
    "plt.imshow(slice, cmap='gray')"
   ]
  },
  {
   "cell_type": "code",
   "execution_count": null,
   "id": "92594669",
   "metadata": {},
   "outputs": [],
   "source": [
    "print(aligned.shape, aligned.dtype)\n",
    "allen_id = 255\n",
    "arr = aligned.copy()\n",
    "z = arr.shape[2] // 2\n",
    "print('midpoint=',z)\n",
    "volume = arr.copy()\n",
    "volume = gaussian(volume, 4.0)            \n",
    "upper = np.quantile(volume, 0.725)\n",
    "print('upper', upper)\n",
    "volume[(volume > upper) ] = allen_id\n",
    "volume[(volume != allen_id)] = 0\n",
    "volume = volume.astype(np.uint32)\n",
    "\n",
    "slice = volume[:,:,z]\n",
    "plt.imshow(slice, cmap='gray')"
   ]
  }
 ],
 "metadata": {
  "kernelspec": {
   "display_name": "Python 3 (ipykernel)",
   "language": "python",
   "name": "python3"
  },
  "language_info": {
   "codemirror_mode": {
    "name": "ipython",
    "version": 3
   },
   "file_extension": ".py",
   "mimetype": "text/x-python",
   "name": "python",
   "nbconvert_exporter": "python",
   "pygments_lexer": "ipython3",
   "version": "3.10.12"
  }
 },
 "nbformat": 4,
 "nbformat_minor": 5
}
