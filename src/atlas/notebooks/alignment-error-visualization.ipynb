{
 "cells": [
  {
   "cell_type": "markdown",
   "id": "a86224cf",
   "metadata": {},
   "source": [
    "# Alignment Error Visualization\n",
    "\n",
    "This notebook collects COM data from the database and tries to quantify some alignment errors. The main results are shown in the plots at the end of the notebook."
   ]
  },
  {
   "cell_type": "code",
   "execution_count": null,
   "id": "116fa24e",
   "metadata": {},
   "outputs": [],
   "source": [
    "import os\n",
    "import sys\n",
    "from pathlib import Path\n",
    "\n",
    "import numpy as np\n",
    "import pandas as pd\n",
    "from collections import OrderedDict\n",
    "from IPython.display import HTML\n",
    "from itertools import combinations\n",
    "from scipy.ndimage import affine_transform\n",
    "import SimpleITK as sitk\n",
    "import matplotlib.pyplot as plt\n",
    "\n",
    "\n",
    "PIPELINE_ROOT = Path('./').absolute().parents[1]\n",
    "PIPELINE_ROOT = PIPELINE_ROOT.as_posix()\n",
    "sys.path.append(PIPELINE_ROOT)\n",
    "print(PIPELINE_ROOT)\n"
   ]
  },
  {
   "cell_type": "code",
   "execution_count": null,
   "id": "45da981f",
   "metadata": {},
   "outputs": [],
   "source": [
    "%load_ext autoreload\n",
    "%autoreload 2"
   ]
  },
  {
   "cell_type": "code",
   "execution_count": null,
   "id": "299762ca",
   "metadata": {},
   "outputs": [],
   "source": [
    "from library.controller.sql_controller import SqlController\n",
    "from library.image_manipulation.filelocation_manager import FileLocationManager\n",
    "from library.atlas.atlas_utilities import apply_affine_transform, get_affine_transformation, \\\n",
    "fetch_coms, list_coms, compute_affine_transformation, affine_transform_volume\n",
    "from library.atlas.brain_structure_manager import BrainStructureManager\n",
    "from library.utilities.utilities_process import M_UM_SCALE, SCALING_FACTOR, random_string, \\\n",
    "read_image, write_image\n"
   ]
  },
  {
   "cell_type": "code",
   "execution_count": null,
   "id": "6342efe3-8054-4acd-9dc6-8a5d22d87ba3",
   "metadata": {},
   "outputs": [],
   "source": [
    "def sum_square_com(com):\n",
    "    ss = np.sqrt(sum([s**2 for s in com]))\n",
    "    return ss\n",
    "\n",
    "def apply_affine_transformation(volume, matrix):\n",
    "    \"\"\"Apply an affine transformation to a 3D volume.\"\"\"\n",
    "    transformed_volume = affine_transform(volume, matrix, offset=0, order=1)\n",
    "    return transformed_volume"
   ]
  },
  {
   "cell_type": "code",
   "execution_count": null,
   "id": "b6548580",
   "metadata": {},
   "outputs": [],
   "source": [
    "moving_name = 'DK55'\n",
    "fixed_name = 'AtlasV8'\n",
    "moving_all = list_coms(moving_name, scaling_factor=50)\n",
    "fixed_all = list_coms(fixed_name, scaling_factor=50)\n",
    "common_keys = list(moving_all.keys() & fixed_all.keys())\n",
    "bad_keys = ('RtTg', 'AP')\n",
    "#bad_keys = ('RtTg',)\n",
    "bad_keys = ()\n",
    "good_keys = set(common_keys) - set(bad_keys)\n",
    "\n",
    "moving_src = np.array([moving_all[s] for s in good_keys])\n",
    "fixed_src = np.array([fixed_all[s] for s in good_keys])\n",
    "print(len(common_keys))"
   ]
  },
  {
   "cell_type": "code",
   "execution_count": null,
   "id": "68804c17",
   "metadata": {},
   "outputs": [],
   "source": [
    "#transformation_matrix = get_affine_transformation(moving_name=moving_name, fixed_name=fixed_name, \n",
    "#                                                  scaling_factor=1)\n",
    "transformation_matrix = compute_affine_transformation(moving_src, fixed_src)\n",
    "print(transformation_matrix)"
   ]
  },
  {
   "cell_type": "code",
   "execution_count": null,
   "id": "8860c495",
   "metadata": {},
   "outputs": [],
   "source": [
    "df_list = []\n",
    "error = []\n",
    "transformed_dict = {}\n",
    "for structure in common_keys:\n",
    "    moving0 = np.array(moving_all[structure])\n",
    "    fixed0 = np.array(fixed_all[structure]) \n",
    "    transformed = apply_affine_transform(moving0, transformation_matrix)\n",
    "    transformed = [x for x in transformed]\n",
    "    difference = [a - b for a, b in zip(transformed, fixed0)]\n",
    "    ss = sum_square_com(difference)\n",
    "    row = [structure, np.round(moving0), np.round(fixed0), \n",
    "           np.round(transformed), np.round(difference), ss]\n",
    "    df_list.append(row)\n",
    "    error.append(ss)\n",
    "    transformed_dict[structure] = transformed\n",
    "print('RMS', sum(error)/len(df_list))\n",
    "# MD589 to Allen RMS 260.0211852431133\n",
    "# MD585 to Allen RMS 263.314352291951\n",
    "# MD594 to Allen RMS 250.79820210419254\n",
    "# AtlasV8 disk to Allen RMS 237.0680595008574\n",
    "# MD585 to MD589 RMS 18.2658167690059"
   ]
  },
  {
   "cell_type": "code",
   "execution_count": null,
   "id": "4e7b269b",
   "metadata": {},
   "outputs": [],
   "source": [
    "#transformation_matrix = np.hstack([transformation_matrix, t])\n",
    "#transformation_matrix = np.vstack([transformation_matrix, np.array([0, 0, 0, 1])])\n",
    "#print(transformation_matrix)\n",
    "structure = 'SC'\n",
    "try:\n",
    "    com = moving_all[structure]\n",
    "except KeyError:\n",
    "    structure = common_keys[0]\n",
    "    com = moving_all[structure]\n",
    "#com = [1095, 392, 519]\n",
    "print(f'{moving_name} {structure} non trans {np.round(np.array(com))}')\n",
    "transformed_structure = apply_affine_transform(com, transformation_matrix)\n",
    "print(f'{moving_name} {structure} apply trans {np.round(transformed_structure/1)}')\n",
    "print(f'{fixed_name} {structure} {np.round(np.array(fixed_all[structure]))}')\n",
    "diff = transformed_structure - fixed_all[structure]\n",
    "print(f'{moving_name}->{fixed_name} {structure} {np.round(diff)}')\n"
   ]
  },
  {
   "cell_type": "code",
   "execution_count": null,
   "id": "9d3a9a9a",
   "metadata": {
    "scrolled": true
   },
   "outputs": [],
   "source": [
    "columns = ['structure', moving_name, fixed_name, 'transformed', 'difference', 'sumsquares']\n",
    "df = pd.DataFrame(df_list, columns=columns)\n",
    "df.index.name = 'Index'\n",
    "df = df.round(4)\n",
    "df.sort_values(by=['sumsquares'], inplace=True)\n",
    "#df.to_csv('/home/eddyod/programming/pipeline/docs/sphinx/source/_static/results.csv', index=False)\n",
    "df.head(50)"
   ]
  },
  {
   "cell_type": "code",
   "execution_count": null,
   "id": "90556335",
   "metadata": {},
   "outputs": [],
   "source": [
    "outpath = '/net/birdstore/Active_Atlas_Data/data_root/atlas_data/DK55/com'\n",
    "for structure, com in moving_all.items():\n",
    "    comfile = structure + '.txt'\n",
    "    compath = os.path.join(outpath, comfile)\n",
    "    np.savetxt(compath, com)"
   ]
  },
  {
   "cell_type": "code",
   "execution_count": null,
   "id": "eae526f5",
   "metadata": {},
   "outputs": [],
   "source": [
    "um = 50\n",
    "registration_path = '/net/birdstore/Active_Atlas_Data/data_root/brains_info/registration'\n",
    "base_com_path = '/net/birdstore/Active_Atlas_Data/data_root/atlas_data'\n",
    "for brain in [moving_name, fixed_name]:\n",
    "    brain_point_path = os.path.join(registration_path, brain, f'{brain}_{um}um_sagittal.pts')\n",
    "    brain_com_path = os.path.join(base_com_path, brain, 'com')\n",
    "    comfiles = sorted(os.listdir(brain_com_path))\n",
    "    with open(brain_point_path, 'w') as f:\n",
    "        f.write('point\\n')\n",
    "        f.write(f'{len(common_keys)}\\n')\n",
    "        for comfile in comfiles:\n",
    "            structure = comfile.replace('.txt','')\n",
    "            if structure in common_keys:\n",
    "                #print(structure)\n",
    "                compath = os.path.join(brain_com_path, comfile)\n",
    "                x,y,z = np.loadtxt(compath)\n",
    "                f.write(f'{round(x/um,4)} {round(y/um,4)} {round(z/um,4)}')\n",
    "                f.write('\\n')\n"
   ]
  },
  {
   "cell_type": "code",
   "execution_count": null,
   "id": "18021c5a",
   "metadata": {},
   "outputs": [],
   "source": [
    "sc_com = np.array([1.119232944161371051e+04,3.845036998545344431e+03,4.365074759237448234e+03])\n",
    "scale = np.array([0.452, 0.452, 20])\n",
    "from_disk = sc_com/scale\n",
    "print(from_disk)\n",
    "from_program = np.array([24818.103954839404, 8748.195805110985, 222.0769230769231])\n",
    "from_disk - from_program"
   ]
  },
  {
   "cell_type": "code",
   "execution_count": null,
   "id": "d587cc5f",
   "metadata": {},
   "outputs": [],
   "source": [
    "import math\n",
    "print(0.00274 - 0.00272)\n",
    "zresolution = 20\n",
    "M_UM_SCALE = 1000000\n",
    "test_redundant_z = []\n",
    "for z_index, section in enumerate(range(136,177)):\n",
    "    z = section * zresolution / M_UM_SCALE\n",
    "    current_z = section\n",
    "    test_redundant_z.append(current_z)\n",
    "    try:\n",
    "        pre_z = test_redundant_z[z_index-1]\n",
    "    except IndexError:\n",
    "        pre_z = current_z\n",
    "        \n",
    "    if current_z != pre_z:\n",
    "        print('OK', section, z)\n",
    "    else:\n",
    "        print('BAD', section, z)"
   ]
  }
 ],
 "metadata": {
  "interpreter": {
   "hash": "2bd29f7b10431261d8beeb897d602198a8ccc2be7cc6f93af9f327223ffe0508"
  },
  "kernelspec": {
   "display_name": "Python 3 (ipykernel)",
   "language": "python",
   "name": "python3"
  },
  "language_info": {
   "codemirror_mode": {
    "name": "ipython",
    "version": 3
   },
   "file_extension": ".py",
   "mimetype": "text/x-python",
   "name": "python",
   "nbconvert_exporter": "python",
   "pygments_lexer": "ipython3",
   "version": "3.10.12"
  }
 },
 "nbformat": 4,
 "nbformat_minor": 5
}
