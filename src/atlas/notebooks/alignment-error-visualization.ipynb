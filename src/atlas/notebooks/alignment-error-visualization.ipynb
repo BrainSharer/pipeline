{
 "cells": [
  {
   "cell_type": "markdown",
   "id": "a86224cf",
   "metadata": {},
   "source": [
    "# Alignment Error Visualization\n",
    "\n",
    "This notebook collects COM data from the database and tries to quantify some alignment errors. The main results are shown in the plots at the end of the notebook."
   ]
  },
  {
   "cell_type": "code",
   "execution_count": 2,
   "id": "116fa24e",
   "metadata": {},
   "outputs": [
    {
     "name": "stdout",
     "output_type": "stream",
     "text": [
      "/home/eddyod/programming/pipeline/src\n"
     ]
    }
   ],
   "source": [
    "import os\n",
    "import sys\n",
    "from pathlib import Path\n",
    "\n",
    "import numpy as np\n",
    "import pandas as pd\n",
    "from collections import OrderedDict\n",
    "from scipy.ndimage import affine_transform\n",
    "from skimage import measure\n",
    "import SimpleITK as sitk\n",
    "import matplotlib.pyplot as plt\n",
    "\n",
    "\n",
    "PIPELINE_ROOT = Path('./').absolute().parents[1]\n",
    "PIPELINE_ROOT = PIPELINE_ROOT.as_posix()\n",
    "sys.path.append(PIPELINE_ROOT)\n",
    "print(PIPELINE_ROOT)\n"
   ]
  },
  {
   "cell_type": "code",
   "execution_count": 3,
   "id": "45da981f",
   "metadata": {},
   "outputs": [],
   "source": [
    "%load_ext autoreload\n",
    "%autoreload 2"
   ]
  },
  {
   "cell_type": "code",
   "execution_count": 4,
   "id": "299762ca",
   "metadata": {},
   "outputs": [],
   "source": [
    "from library.controller.sql_controller import SqlController\n",
    "from library.image_manipulation.filelocation_manager import FileLocationManager\n",
    "from library.atlas.atlas_utilities import affine_transform_point, get_affine_transformation, \\\n",
    "fetch_coms, list_coms, compute_affine_transformation, affine_transform_volume\n",
    "from library.atlas.brain_structure_manager import BrainStructureManager\n",
    "from library.utilities.utilities_process import M_UM_SCALE, SCALING_FACTOR, random_string, \\\n",
    "read_image, write_image\n"
   ]
  },
  {
   "cell_type": "code",
   "execution_count": 5,
   "id": "6342efe3-8054-4acd-9dc6-8a5d22d87ba3",
   "metadata": {},
   "outputs": [],
   "source": [
    "def sum_square_com(com):\n",
    "    ss = np.sqrt(sum([s**2 for s in com]))\n",
    "    return ss\n",
    "\n",
    "# ---------- Utilities ----------\n",
    "def _to_homogeneous(P):\n",
    "    \"\"\"(N,3) -> (N,4) homogeneous coordinates\"\"\"\n",
    "    return np.hstack([P, np.ones((P.shape[0], 1), dtype=P.dtype)])\n",
    "\n",
    "def apply_transform(P, T):\n",
    "    \"\"\"\n",
    "    Apply 4x4 transform T to Nx3 array P.\n",
    "    Returns transformed Nx3 array.\n",
    "    \"\"\"\n",
    "    Ph = _to_homogeneous(P)  # (N,4)\n",
    "    Qh = Ph @ T.T            # (N,4)\n",
    "    return Qh[:, :3] / Qh[:, 3:4]\n",
    "\n",
    "# ---------- Rigid (Kabsch) ----------\n",
    "def fit_rigid(A, B, weights=None, allow_reflection=False):\n",
    "    \"\"\"\n",
    "    Best-fit rigid transform from A -> B (both Nx3).\n",
    "    Returns 4x4 transform matrix T such that B ≈ apply_transform(A, T).\n",
    "\n",
    "    Parameters\n",
    "    ----------\n",
    "    A, B : (N,3)\n",
    "        Corresponding points (same ordering).\n",
    "    weights : (N,) or None\n",
    "        Optional non-negative weights per correspondence.\n",
    "    allow_reflection : bool\n",
    "        If False (default), forbids reflections (det(R)=+1).\n",
    "    \"\"\"\n",
    "    A = np.asarray(A, dtype=np.float64)\n",
    "    B = np.asarray(B, dtype=np.float64)\n",
    "    assert A.shape == B.shape and A.shape[1] == 3\n",
    "\n",
    "    if weights is None:\n",
    "        w = np.ones(A.shape[0], dtype=np.float64)\n",
    "    else:\n",
    "        w = np.asarray(weights, dtype=np.float64)\n",
    "        assert w.shape == (A.shape[0],)\n",
    "        w = np.clip(w, 0, np.inf)\n",
    "\n",
    "    W = w / (np.sum(w) + 1e-15)\n",
    "    muA = np.sum(A * W[:, None], axis=0)\n",
    "    muB = np.sum(B * W[:, None], axis=0)\n",
    "\n",
    "    A0 = A - muA\n",
    "    B0 = B - muB\n",
    "\n",
    "    # Weighted covariance\n",
    "    H = (A0 * W[:, None]).T @ B0  # 3x3\n",
    "\n",
    "    U, S, Vt = np.linalg.svd(H)\n",
    "    R = Vt.T @ U.T\n",
    "\n",
    "    # Enforce proper rotation (det=+1) unless reflections are allowed\n",
    "    if not allow_reflection and np.linalg.det(R) < 0:\n",
    "        Vt[-1, :] *= -1\n",
    "        R = Vt.T @ U.T\n",
    "\n",
    "    t = muB - R @ muA\n",
    "\n",
    "    T = np.eye(4)\n",
    "    T[:3, :3] = R\n",
    "    T[:3, 3] = t\n",
    "    return T\n",
    "\n",
    "# ---------- Similarity (Umeyama) ----------\n",
    "def fit_similarity(A, B, allow_reflection=False):\n",
    "    \"\"\"\n",
    "    Best-fit similarity (scale * rotation + translation) using Umeyama.\n",
    "    Returns 4x4 transform with uniform scale baked into the linear part.\n",
    "    \"\"\"\n",
    "    A = np.asarray(A, dtype=np.float64)\n",
    "    B = np.asarray(B, dtype=np.float64)\n",
    "    assert A.shape == B.shape and A.shape[1] == 3\n",
    "\n",
    "    muA = A.mean(axis=0)\n",
    "    muB = B.mean(axis=0)\n",
    "    A0 = A - muA\n",
    "    B0 = B - muB\n",
    "\n",
    "    C = (A0.T @ B0) / A.shape[0]\n",
    "    U, D, Vt = np.linalg.svd(C)\n",
    "    S = np.eye(3)\n",
    "\n",
    "    if not allow_reflection and np.linalg.det(U @ Vt) < 0:\n",
    "        S[-1, -1] = -1\n",
    "\n",
    "    R = U @ S @ Vt\n",
    "    varA = np.mean(np.sum(A0**2, axis=1))\n",
    "    scale = (np.sum(D * np.diag(S)) / (varA + 1e-15))\n",
    "\n",
    "    t = muB - scale * (R @ muA)\n",
    "\n",
    "    T = np.eye(4)\n",
    "    T[:3, :3] = scale * R\n",
    "    T[:3, 3] = t\n",
    "    return T, scale\n",
    "\n",
    "# ---------- Affine (12-DoF) ----------\n",
    "def fit_affine(A, B):\n",
    "    \"\"\"\n",
    "    Best-fit full affine transform A->B using linear least squares.\n",
    "    Solves for 3x4 matrix [M|t] such that B ≈ A*M^T + t.\n",
    "    Returns a 4x4 matrix T.\n",
    "    \"\"\"\n",
    "    A = np.asarray(A, dtype=np.float64)\n",
    "    B = np.asarray(B, dtype=np.float64)\n",
    "    assert A.shape == B.shape and A.shape[1] == 3\n",
    "\n",
    "    N = A.shape[0]\n",
    "    Ah = _to_homogeneous(A)           # (N,4)\n",
    "    # Solve Ah @ X^T ≈ B, where X is 3x4\n",
    "    X, *_ = np.linalg.lstsq(Ah, B, rcond=None)  # X is (4,3)\n",
    "    X = X.T                                   # (3,4)\n",
    "\n",
    "    T = np.eye(4)\n",
    "    T[:3, :4] = X\n",
    "    return T\n",
    "\n",
    "# ---------- RANSAC wrapper (optional) ----------\n",
    "def ransac_fit(A, B, model='rigid', thresh=1.0, max_trials=1000, min_inliers=3, random_state=None):\n",
    "    \"\"\"\n",
    "    Robustly estimate transform with RANSAC to handle outliers.\n",
    "\n",
    "    Parameters\n",
    "    ----------\n",
    "    model : 'rigid' | 'similarity' | 'affine'\n",
    "    thresh : float\n",
    "        Inlier distance threshold in target space units.\n",
    "    max_trials : int\n",
    "    min_inliers : int\n",
    "        Minimum inliers to accept a model.\n",
    "    \"\"\"\n",
    "    rng = np.random.default_rng(random_state)\n",
    "    A = np.asarray(A, dtype=np.float64)\n",
    "    B = np.asarray(B, dtype=np.float64)\n",
    "    assert A.shape == B.shape and A.shape[1] == 3\n",
    "\n",
    "    if model == 'rigid' or model == 'similarity':\n",
    "        sample_size = 3  # 3 non-collinear pairs\n",
    "    elif model == 'affine':\n",
    "        sample_size = 4  # 4 points for 12 params (overdetermined)\n",
    "    else:\n",
    "        raise ValueError(\"model must be 'rigid', 'similarity', or 'affine'\")\n",
    "\n",
    "    N = A.shape[0]\n",
    "    best_T, best_inliers = None, np.array([], dtype=bool)\n",
    "\n",
    "    for _ in range(max_trials):\n",
    "        idx = rng.choice(N, size=sample_size, replace=False)\n",
    "        A_s, B_s = A[idx], B[idx]\n",
    "\n",
    "        try:\n",
    "            if model == 'rigid':\n",
    "                T = fit_rigid(A_s, B_s)\n",
    "            elif model == 'similarity':\n",
    "                T, _ = fit_similarity(A_s, B_s)\n",
    "            else:  # affine\n",
    "                T = fit_affine(A_s, B_s)\n",
    "        except np.linalg.LinAlgError:\n",
    "            continue\n",
    "\n",
    "        B_pred = apply_transform(A, T)\n",
    "        errs = np.linalg.norm(B - B_pred, axis=1)\n",
    "        inliers = errs <= thresh\n",
    "\n",
    "        if inliers.sum() > best_inliers.sum():\n",
    "            best_inliers = inliers\n",
    "            # Refit on all inliers for a refined model\n",
    "            if inliers.sum() >= min_inliers:\n",
    "                if model == 'rigid':\n",
    "                    T = fit_rigid(A[inliers], B[inliers])\n",
    "                elif model == 'similarity':\n",
    "                    T, _ = fit_similarity(A[inliers], B[inliers])\n",
    "                else:\n",
    "                    T = fit_affine(A[inliers], B[inliers])\n",
    "                best_T = T\n",
    "\n",
    "    if best_T is None:\n",
    "        raise RuntimeError(\"RANSAC failed to find a valid model. \"\n",
    "                           \"Try increasing max_trials or thresh.\")\n",
    "\n",
    "    return best_T, best_inliers\n"
   ]
  },
  {
   "cell_type": "code",
   "execution_count": 10,
   "id": "b6548580",
   "metadata": {},
   "outputs": [
    {
     "name": "stdout",
     "output_type": "stream",
     "text": [
      "37\n"
     ]
    }
   ],
   "source": [
    "moving_name = 'AtlasV8'\n",
    "fixed_name = 'Allen'\n",
    "moving_all = list_coms(moving_name, scaling_factor=1)\n",
    "fixed_all = list_coms(fixed_name, scaling_factor=1)\n",
    "common_keys = list(moving_all.keys() & fixed_all.keys())\n",
    "bad_keys = ('RtTg', 'AP')\n",
    "#bad_keys = ('RtTg',)\n",
    "#bad_keys = ()\n",
    "good_keys = set(common_keys) - set(bad_keys)\n",
    "good_keys = ['SC', 'IC']\n",
    "\n",
    "moving_src = np.array([moving_all[s] for s in good_keys])\n",
    "fixed_src = np.array([fixed_all[s] for s in good_keys])\n",
    "print(len(common_keys))"
   ]
  },
  {
   "cell_type": "code",
   "execution_count": 11,
   "id": "c278bf48",
   "metadata": {},
   "outputs": [
    {
     "name": "stdout",
     "output_type": "stream",
     "text": [
      "[10949.  3924.  5199.]\n",
      "[9140. 2388. 5692.]\n"
     ]
    }
   ],
   "source": [
    "print(np.round(moving_src[0]))\n",
    "print(np.round(fixed_src[0]))"
   ]
  },
  {
   "cell_type": "code",
   "execution_count": 12,
   "id": "68804c17",
   "metadata": {},
   "outputs": [
    {
     "name": "stdout",
     "output_type": "stream",
     "text": [
      "[[ 1.08693395e+00 -3.08554504e-01 -2.98168012e-01 -4.79588311e-05]\n",
      " [-2.64341116e-02  2.68837747e-01  3.12088859e-01  5.62837284e-05]\n",
      " [ 4.20139649e-02  5.22616466e-01  6.12002297e-01  1.10885657e-04]\n",
      " [ 0.00000000e+00  0.00000000e+00  0.00000000e+00  1.00000000e+00]]\n"
     ]
    }
   ],
   "source": [
    "#transformation_matrix = get_affine_transformation(moving_name=moving_name, fixed_name=fixed_name, \n",
    "#                                                  scaling_factor=1)\n",
    "transformation_matrix = compute_affine_transformation(moving_src, fixed_src)\n",
    "print(transformation_matrix)"
   ]
  },
  {
   "cell_type": "code",
   "execution_count": 13,
   "id": "8860c495",
   "metadata": {},
   "outputs": [
    {
     "name": "stdout",
     "output_type": "stream",
     "text": [
      "RMS: 2671.6313473166147 observations: 37\n"
     ]
    }
   ],
   "source": [
    "df_list = []\n",
    "error = []\n",
    "transformed_dict = {}\n",
    "for structure in common_keys:\n",
    "    moving0 = np.array(moving_all[structure])\n",
    "    fixed0 = np.array(fixed_all[structure]) \n",
    "    transformed = affine_transform_point(moving0, transformation_matrix)\n",
    "    difference = [a - b for a, b in zip(transformed, fixed0)]\n",
    "    ss = sum_square_com(difference)\n",
    "    row = [structure, np.round(moving0), np.round(fixed0), \n",
    "           np.round(transformed), np.round(difference), ss]\n",
    "    df_list.append(row)\n",
    "    error.append(ss)\n",
    "    transformed_dict[structure] = transformed\n",
    "rms = sum(error)/len(df_list)\n",
    "print(f'RMS: {rms} observations: {len(df_list)}')\n",
    "# MD589 to Allen RMS 260.0211852431133\n",
    "# MD585 to Allen RMS 263.314352291951\n",
    "# MD594 to Allen RMS 250.79820210419254\n",
    "# AtlasV8 DB to Allen RMS 238.5831606646421\n",
    "# MD585 to MD589 RMS 18.2658167690059"
   ]
  },
  {
   "cell_type": "code",
   "execution_count": null,
   "id": "4e7b269b",
   "metadata": {},
   "outputs": [],
   "source": [
    "#transformation_matrix = np.hstack([transformation_matrix, t])\n",
    "#transformation_matrix = np.vstack([transformation_matrix, np.array([0, 0, 0, 1])])\n",
    "#print(transformation_matrix)\n",
    "structure = 'SC'\n",
    "try:\n",
    "    com = np.array(moving_all[structure]).reshape(1,3)\n",
    "except KeyError:\n",
    "    structure = common_keys[0]\n",
    "    com = np.array(moving_all[structure]).reshape(1,3)\n",
    "#com = [1095, 392, 519]\n",
    "print(f'{moving_name} {structure} non trans {np.round(np.array(com))}')\n",
    "transformed_structure = apply_transform(com, transformation_matrix)\n",
    "\n",
    "print(f'{moving_name} {structure} apply trans {np.round(transformed_structure/1)}')\n",
    "print(f'{fixed_name} {structure} {np.round(np.array(fixed_all[structure]))}')\n",
    "diff = transformed_structure - fixed_all[structure]\n",
    "print(f'{moving_name}->{fixed_name} error {structure} {diff}')"
   ]
  },
  {
   "cell_type": "code",
   "execution_count": null,
   "id": "9d3a9a9a",
   "metadata": {
    "scrolled": true
   },
   "outputs": [],
   "source": [
    "columns = ['structure', moving_name, fixed_name, 'transformed', 'difference', 'sumsquares']\n",
    "df = pd.DataFrame(df_list, columns=columns)\n",
    "df.index.name = 'Index'\n",
    "df = df.round(4)\n",
    "df.sort_values(by=['sumsquares'], inplace=True)\n",
    "#df.to_csv('/home/eddyod/programming/pipeline/docs/sphinx/source/_static/results.csv', index=False)\n",
    "df.head(50)"
   ]
  },
  {
   "cell_type": "code",
   "execution_count": null,
   "id": "b3e03b99",
   "metadata": {
    "scrolled": true
   },
   "outputs": [],
   "source": [
    "plt.figure(figsize=(30, 5)) \n",
    "plt.axhline(y=rms, linestyle='--', linewidth=2, color='red', label='Mean')\n",
    "plt.text(0, rms, f\"Mean RMS={round(rms,2)}\")\n",
    "plt.bar(df['structure'], df['sumsquares'])"
   ]
  },
  {
   "cell_type": "code",
   "execution_count": null,
   "id": "90556335",
   "metadata": {},
   "outputs": [],
   "source": [
    "outpath = '/net/birdstore/Active_Atlas_Data/data_root/atlas_data/DK55/com'\n",
    "for structure, com in moving_all.items():\n",
    "    comfile = structure + '.txt'\n",
    "    compath = os.path.join(outpath, comfile)\n",
    "    np.savetxt(compath, com)"
   ]
  },
  {
   "cell_type": "code",
   "execution_count": null,
   "id": "eae526f5",
   "metadata": {},
   "outputs": [],
   "source": [
    "um = 50\n",
    "registration_path = '/net/birdstore/Active_Atlas_Data/data_root/brains_info/registration'\n",
    "base_com_path = '/net/birdstore/Active_Atlas_Data/data_root/atlas_data'\n",
    "for brain in [moving_name, fixed_name]:\n",
    "    brain_point_path = os.path.join(registration_path, brain, f'{brain}_{um}um_sagittal.pts')\n",
    "    brain_com_path = os.path.join(base_com_path, brain, 'com')\n",
    "    comfiles = sorted(os.listdir(brain_com_path))\n",
    "    with open(brain_point_path, 'w') as f:\n",
    "        f.write('point\\n')\n",
    "        f.write(f'{len(common_keys)}\\n')\n",
    "        for comfile in comfiles:\n",
    "            structure = comfile.replace('.txt','')\n",
    "            if structure in common_keys:\n",
    "                #print(structure)\n",
    "                compath = os.path.join(brain_com_path, comfile)\n",
    "                x,y,z = np.loadtxt(compath)\n",
    "                f.write(f'{round(x/um,4)} {round(y/um,4)} {round(z/um,4)}')\n",
    "                f.write('\\n')\n"
   ]
  },
  {
   "cell_type": "code",
   "execution_count": null,
   "id": "0a30f420",
   "metadata": {},
   "outputs": [],
   "source": [
    "def ants_3d_to_scipy_2d(affine_3d, plane='axial', slice_index=0):\n",
    "    \"\"\"\n",
    "    Convert a 3D ANTs affine transformation matrix to a 2D affine transform\n",
    "    suitable for scipy.ndimage.affine_transform.\n",
    "\n",
    "    Parameters:\n",
    "        affine_3d (np.ndarray): A 4x4 affine matrix from ANTs.\n",
    "        plane (str): Plane to slice through ('axial', 'coronal', 'sagittal').\n",
    "        slice_index (int): Index of the slice in the chosen plane.\n",
    "\n",
    "    Returns:\n",
    "        matrix_2d (np.ndarray): 2x2 affine transformation matrix.\n",
    "        offset_2d (np.ndarray): Length-2 offset vector.\n",
    "    \"\"\"\n",
    "    if affine_3d.shape != (4, 4):\n",
    "        raise ValueError(\"Expected a 4x4 affine transformation matrix.\")\n",
    "\n",
    "    # Extract rotation+scaling and translation components\n",
    "    rotation_scaling = affine_3d[:3, :3]\n",
    "    translation = affine_3d[:3, 3]\n",
    "\n",
    "    if plane == 'axial':\n",
    "        matrix_2d = rotation_scaling[:2, :2]\n",
    "        offset_2d = translation[:2] + rotation_scaling[:2, 2] * slice_index\n",
    "    elif plane == 'coronal':\n",
    "        matrix_2d = rotation_scaling[[0,2], :][:, [0,2]]\n",
    "        offset_2d = translation[[0,2]] + rotation_scaling[[0,2], 1] * slice_index\n",
    "    elif plane == 'sagittal':\n",
    "        matrix_2d = rotation_scaling[1:3, 1:3]\n",
    "        offset_2d = translation[1:3] + rotation_scaling[1:3, 0] * slice_index\n",
    "    else:\n",
    "        raise ValueError(\"Plane must be 'axial', 'coronal', or 'sagittal'.\")\n",
    "\n",
    "    return matrix_2d, offset_2d"
   ]
  },
  {
   "cell_type": "code",
   "execution_count": null,
   "id": "a52f01c4",
   "metadata": {},
   "outputs": [],
   "source": [
    "reg_path = '/net/birdstore/Active_Atlas_Data/data_root/brains_info/registration'\n",
    "matrix_path = os.path.join(reg_path, 'ALLEN771602/ALLEN771602_Allen_32.0x28.8x28.8um_sagittal.tfm')\n",
    "transform = sitk.ReadTransform(matrix_path)"
   ]
  },
  {
   "cell_type": "code",
   "execution_count": null,
   "id": "1a3ab5cd",
   "metadata": {},
   "outputs": [],
   "source": [
    "tx = sitk.AffineTransform(transform)\n",
    "Rt = tx.GetMatrix()\n",
    "R = np.array(Rt).reshape(3,3)\n",
    "print(R)\n",
    "print()\n",
    "Rr = np.rot90(R, k=1)\n",
    "print(Rr)"
   ]
  },
  {
   "cell_type": "code",
   "execution_count": null,
   "id": "88280529",
   "metadata": {},
   "outputs": [],
   "source": [
    "affine_transform = sitk.AffineTransform(3)\n",
    "affine_transform.SetMatrix(Rr.flatten())\n",
    "affine_transform.SetTranslation(t)\n",
    "affine_transform.SetCenter(c)\n"
   ]
  },
  {
   "cell_type": "code",
   "execution_count": null,
   "id": "b88c65b4",
   "metadata": {},
   "outputs": [],
   "source": [
    "# Example 3x3 array where each row is a 3D point\n",
    "A = np.array([\n",
    "    [1, 0, 0],\n",
    "    [0, 1, 0],\n",
    "    [0, 0, 1]\n",
    "])\n",
    "\n",
    "# Rotation matrix for 90 degrees around Y-axis (counter-clockwise)\n",
    "theta = np.radians(90)\n",
    "rotation_matrix = np.array([\n",
    "    [np.cos(theta), 0, np.sin(theta)],\n",
    "    [0,            1, 0],\n",
    "    [-np.sin(theta), 0, np.cos(theta)]\n",
    "])\n",
    "\n",
    "# Apply rotation\n",
    "rotated = A @ rotation_matrix.T\n",
    "print(rotated)"
   ]
  },
  {
   "cell_type": "code",
   "execution_count": null,
   "id": "f5856535",
   "metadata": {},
   "outputs": [],
   "source": [
    "rotation_matrix.T"
   ]
  }
 ],
 "metadata": {
  "interpreter": {
   "hash": "2bd29f7b10431261d8beeb897d602198a8ccc2be7cc6f93af9f327223ffe0508"
  },
  "kernelspec": {
   "display_name": "Python 3 (ipykernel)",
   "language": "python",
   "name": "python3"
  },
  "language_info": {
   "codemirror_mode": {
    "name": "ipython",
    "version": 3
   },
   "file_extension": ".py",
   "mimetype": "text/x-python",
   "name": "python",
   "nbconvert_exporter": "python",
   "pygments_lexer": "ipython3",
   "version": "3.10.12"
  }
 },
 "nbformat": 4,
 "nbformat_minor": 5
}
