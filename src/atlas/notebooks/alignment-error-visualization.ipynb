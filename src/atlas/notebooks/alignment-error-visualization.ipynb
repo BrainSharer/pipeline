{
 "cells": [
  {
   "cell_type": "markdown",
   "id": "a86224cf",
   "metadata": {},
   "source": [
    "# Alignment Error Visualization\n",
    "\n",
    "This notebook collects COM data from the database and tries to quantify some alignment errors. The main results are shown in the plots at the end of the notebook."
   ]
  },
  {
   "cell_type": "code",
   "execution_count": 1,
   "id": "116fa24e",
   "metadata": {},
   "outputs": [
    {
     "name": "stdout",
     "output_type": "stream",
     "text": [
      "/home/eddyod/programming/pipeline/src\n"
     ]
    }
   ],
   "source": [
    "import os\n",
    "import sys\n",
    "from pathlib import Path\n",
    "\n",
    "import numpy as np\n",
    "import pandas as pd\n",
    "from collections import OrderedDict\n",
    "from IPython.display import HTML\n",
    "from itertools import combinations\n",
    "\n",
    "PIPELINE_ROOT = Path('./').absolute().parents[1]\n",
    "PIPELINE_ROOT = PIPELINE_ROOT.as_posix()\n",
    "sys.path.append(PIPELINE_ROOT)\n",
    "print(PIPELINE_ROOT)\n"
   ]
  },
  {
   "cell_type": "code",
   "execution_count": 2,
   "id": "299762ca",
   "metadata": {},
   "outputs": [
    {
     "name": "stdout",
     "output_type": "stream",
     "text": [
      "xgboost version=2.1.4\n"
     ]
    }
   ],
   "source": [
    "from library.controller.sql_controller import SqlController\n",
    "from library.image_manipulation.filelocation_manager import FileLocationManager\n",
    "from library.atlas.atlas_utilities import apply_affine_transform, get_affine_transformation, list_coms, \\\n",
    "    compute_affine_transformation, compute_affine_transformation_centroid\n",
    "from library.atlas.brain_structure_manager import BrainStructureManager\n",
    "from library.utilities.utilities_process import M_UM_SCALE, SCALING_FACTOR, random_string, \\\n",
    "read_image, write_image\n"
   ]
  },
  {
   "cell_type": "code",
   "execution_count": 3,
   "id": "6342efe3-8054-4acd-9dc6-8a5d22d87ba3",
   "metadata": {},
   "outputs": [],
   "source": [
    "def absolute_sum(l):\n",
    "    la = np.array(l)\n",
    "    nabs = (np.array(la*la))\n",
    "    return np.sum(la, axis=0)\n",
    "\n",
    "def sum_square_com(com):\n",
    "    ss = np.sqrt(sum([s*s for s in com]))\n",
    "    return ss\n",
    "\n",
    "def generate_combinations(lst):\n",
    "    \"\"\"\n",
    "    Generate all combinations of at least 3 elements from the given list.\n",
    "    \n",
    "    :param lst: List of elements\n",
    "    :return: List of tuples containing the combinations\n",
    "    \"\"\"\n",
    "    return list(combinations(lst, 5 ))\n",
    "\n",
    "    #result = []\n",
    "    #for r in range(3, len(lst) + 1):\n",
    "    #    result.extend(combinations(lst, r))\n",
    "    #return result\n",
    "\n"
   ]
  },
  {
   "cell_type": "code",
   "execution_count": 20,
   "id": "b6548580",
   "metadata": {},
   "outputs": [
    {
     "name": "stdout",
     "output_type": "stream",
     "text": [
      "37\n"
     ]
    }
   ],
   "source": [
    "atlas_all = list_coms('AtlasV7')\n",
    "allen_all = list_coms('Allen')\n",
    "common_keys = list(atlas_all.keys() & allen_all.keys())\n",
    "atlas_common = np.array([atlas_all[s] for s in common_keys])\n",
    "allen_common = np.array([allen_all[s] for s in common_keys])\n",
    "print(len(common_keys))"
   ]
  },
  {
   "cell_type": "code",
   "execution_count": 5,
   "id": "d5ab7c07",
   "metadata": {},
   "outputs": [
    {
     "name": "stdout",
     "output_type": "stream",
     "text": [
      "4\n",
      "10\n",
      "2\n",
      "35\n",
      "37\n"
     ]
    }
   ],
   "source": [
    "base_keys = ['LRt_L', 'LRt_R', 'SC', 'IC']\n",
    "test_keys = ['PBG_L', 'PBG_R', 'SC', 'IC', '4N_L', '4N_R', 'LRt_L','LRt_R', 'SNC_L', 'SNC_R', ]\n",
    "bad_keys = ['RtTg','AP']\n",
    "good_keys = set(common_keys) - set(bad_keys)\n",
    "print(len(base_keys))\n",
    "print(len(test_keys))\n",
    "print(len(bad_keys))\n",
    "print(len(good_keys))\n",
    "print(len(common_keys))"
   ]
  },
  {
   "cell_type": "code",
   "execution_count": 21,
   "id": "ec1aac4f",
   "metadata": {},
   "outputs": [
    {
     "data": {
      "text/plain": [
       "array([[ 9.42279538e-01,  5.07770162e-02,  4.02430133e-03,\n",
       "         1.67617121e+02],\n",
       "       [-1.30121150e-03,  1.19394497e+00,  7.16889453e-03,\n",
       "        -8.14323008e+01],\n",
       "       [-1.50092611e-02,  8.60586632e-03,  1.12982209e+00,\n",
       "        -6.62364827e+01],\n",
       "       [ 0.00000000e+00,  0.00000000e+00,  0.00000000e+00,\n",
       "         1.00000000e+00]])"
      ]
     },
     "execution_count": 21,
     "metadata": {},
     "output_type": "execute_result"
    }
   ],
   "source": [
    "atlas_src = np.array([atlas_all[s] for s in common_keys])\n",
    "allen_src = np.array([allen_all[s] for s in common_keys])\n",
    "transformation_matrix = compute_affine_transformation(atlas_src, allen_src)\n",
    "transformation_matrix"
   ]
  },
  {
   "cell_type": "code",
   "execution_count": 22,
   "id": "8860c495",
   "metadata": {},
   "outputs": [
    {
     "name": "stdout",
     "output_type": "stream",
     "text": [
      "RMS 25.996035162247185\n"
     ]
    }
   ],
   "source": [
    "df_list = []\n",
    "error = []\n",
    "transformed_dict = {}\n",
    "for structure in common_keys:\n",
    "    atlas0 = np.array(atlas_all[structure])\n",
    "    allen0 = np.array(allen_all[structure]) \n",
    "    transformed = apply_affine_transform(atlas0, transformation_matrix)\n",
    "    transformed = [round(x,4) for x in transformed]\n",
    "    difference = [round(a - b,4) for a, b in zip(transformed, allen0)]\n",
    "    ss = sum_square_com(difference)\n",
    "    row = [structure, atlas0, allen0, transformed, difference, ss]\n",
    "    df_list.append(row)\n",
    "    error.append(ss)\n",
    "    transformed_dict[structure] = transformed\n",
    "print('RMS', sum(error)/len(df_list))\n",
    "# test keys RMS 25.61709479307028\n",
    "# base keys RMS 25.602246865972344"
   ]
  },
  {
   "cell_type": "code",
   "execution_count": 23,
   "id": "0ac4d242",
   "metadata": {},
   "outputs": [
    {
     "name": "stdout",
     "output_type": "stream",
     "text": [
      "(777.58, 265.35, 573.0)\n",
      "(914.05, 238.8, 569.25)\n",
      "[916.0945, 238.477, 571.7642]\n"
     ]
    }
   ],
   "source": [
    "print(atlas_all['SC'])\n",
    "print(allen_all['SC'])\n",
    "print(transformed_dict['SC'])"
   ]
  },
  {
   "cell_type": "code",
   "execution_count": 24,
   "id": "9d3a9a9a",
   "metadata": {
    "scrolled": false
   },
   "outputs": [
    {
     "data": {
      "text/html": [
       "<table border=\"1\" class=\"dataframe\">\n",
       "  <thead>\n",
       "    <tr style=\"text-align: right;\">\n",
       "      <th>structure</th>\n",
       "      <th>atlas0</th>\n",
       "      <th>allen0</th>\n",
       "      <th>transformed</th>\n",
       "      <th>difference</th>\n",
       "      <th>sumsquares</th>\n",
       "    </tr>\n",
       "  </thead>\n",
       "  <tbody>\n",
       "    <tr>\n",
       "      <td>3N_L</td>\n",
       "      <td>[775.63, 391.54, 557.44]</td>\n",
       "      <td>[910.25, 379.44, 552.1]</td>\n",
       "      <td>[920.6019, 389.0319, 555.2995]</td>\n",
       "      <td>[10.3519, 9.5919, 3.1995]</td>\n",
       "      <td>14.470770</td>\n",
       "    </tr>\n",
       "    <tr>\n",
       "      <td>3N_R</td>\n",
       "      <td>[775.63, 391.54, 582.56]</td>\n",
       "      <td>[910.34, 379.4, 586.44]</td>\n",
       "      <td>[920.703, 389.212, 583.6806]</td>\n",
       "      <td>[10.363, 9.812, -2.7594]</td>\n",
       "      <td>14.535522</td>\n",
       "    </tr>\n",
       "    <tr>\n",
       "      <td>4N_L</td>\n",
       "      <td>[809.24, 396.73, 545.23]</td>\n",
       "      <td>[958.86, 377.78, 543.25]</td>\n",
       "      <td>[952.4864, 395.0972, 541.0445]</td>\n",
       "      <td>[-6.3736, 17.3172, -2.2055]</td>\n",
       "      <td>18.584198</td>\n",
       "    </tr>\n",
       "    <tr>\n",
       "      <td>4N_R</td>\n",
       "      <td>[809.24, 396.73, 594.77]</td>\n",
       "      <td>[958.68, 377.48, 595.29]</td>\n",
       "      <td>[952.6857, 395.4523, 597.0159]</td>\n",
       "      <td>[-5.9943, 17.9723, 1.7259]</td>\n",
       "      <td>19.024036</td>\n",
       "    </tr>\n",
       "    <tr>\n",
       "      <td>5N_L</td>\n",
       "      <td>[866.79, 502.13, 432.89]</td>\n",
       "      <td>[1019.3, 528.65, 409.16]</td>\n",
       "      <td>[1011.6143, 520.0588, 414.1636]</td>\n",
       "      <td>[-7.6857, -8.5912, 5.0036]</td>\n",
       "      <td>12.566412</td>\n",
       "    </tr>\n",
       "    <tr>\n",
       "      <td>5N_R</td>\n",
       "      <td>[866.79, 502.13, 707.11]</td>\n",
       "      <td>[1019.34, 528.55, 729.28]</td>\n",
       "      <td>[1012.7179, 522.0246, 723.9834]</td>\n",
       "      <td>[-6.6221, -6.5254, -5.2966]</td>\n",
       "      <td>10.699861</td>\n",
       "    </tr>\n",
       "    <tr>\n",
       "      <td>6N_L</td>\n",
       "      <td>[926.23, 512.4, 533.79]</td>\n",
       "      <td>[1077.12, 521.48, 529.09]</td>\n",
       "      <td>[1068.551, 532.9666, 527.3589]</td>\n",
       "      <td>[-8.569, 11.4866, -1.7311]</td>\n",
       "      <td>14.434904</td>\n",
       "    </tr>\n",
       "    <tr>\n",
       "      <td>6N_R</td>\n",
       "      <td>[926.23, 512.4, 606.21]</td>\n",
       "      <td>[1077.14, 521.46, 609.41]</td>\n",
       "      <td>[1068.8424, 533.4857, 609.1806]</td>\n",
       "      <td>[-8.2976, 12.0257, -0.2294]</td>\n",
       "      <td>14.612332</td>\n",
       "    </tr>\n",
       "    <tr>\n",
       "      <td>7N_L</td>\n",
       "      <td>[939.45, 615.73, 455.77]</td>\n",
       "      <td>[1085.27, 677.54, 434.0]</td>\n",
       "      <td>[1085.9407, 655.7604, 439.901]</td>\n",
       "      <td>[0.6707, -21.7796, 5.901]</td>\n",
       "      <td>22.574823</td>\n",
       "    </tr>\n",
       "    <tr>\n",
       "      <td>7N_R</td>\n",
       "      <td>[939.45, 615.73, 684.23]</td>\n",
       "      <td>[1085.26, 677.53, 704.52]</td>\n",
       "      <td>[1086.8601, 657.3982, 698.0201]</td>\n",
       "      <td>[1.6001, -20.1318, -6.4999]</td>\n",
       "      <td>21.215522</td>\n",
       "    </tr>\n",
       "    <tr>\n",
       "      <td>7n_L</td>\n",
       "      <td>[905.83, 540.87, 462.5]</td>\n",
       "      <td>[1068.7, 548.28, 470.61]</td>\n",
       "      <td>[1050.4872, 566.4737, 447.365]</td>\n",
       "      <td>[-18.2128, 18.1937, -23.245]</td>\n",
       "      <td>34.684965</td>\n",
       "    </tr>\n",
       "    <tr>\n",
       "      <td>7n_R</td>\n",
       "      <td>[905.83, 540.87, 677.5]</td>\n",
       "      <td>[1068.81, 548.19, 667.75]</td>\n",
       "      <td>[1051.3524, 568.015, 690.2768]</td>\n",
       "      <td>[-17.4576, 19.825, 22.5268]</td>\n",
       "      <td>34.716785</td>\n",
       "    </tr>\n",
       "    <tr>\n",
       "      <td>AP</td>\n",
       "      <td>[1111.23, 525.18, 572.0]</td>\n",
       "      <td>[1265.32, 501.05, 569.21]</td>\n",
       "      <td>[1243.6754, 548.2584, 567.8626]</td>\n",
       "      <td>[-21.6446, 47.2084, -1.3474]</td>\n",
       "      <td>51.951297</td>\n",
       "    </tr>\n",
       "    <tr>\n",
       "      <td>Amb_L</td>\n",
       "      <td>[1024.13, 604.07, 446.38]</td>\n",
       "      <td>[1188.31, 661.78, 432.36]</td>\n",
       "      <td>[1165.1031, 641.6615, 427.9206]</td>\n",
       "      <td>[-23.2069, -20.1185, -4.4394]</td>\n",
       "      <td>31.032604</td>\n",
       "    </tr>\n",
       "    <tr>\n",
       "      <td>Amb_R</td>\n",
       "      <td>[1024.13, 604.07, 693.62]</td>\n",
       "      <td>[1188.11, 661.77, 706.19]</td>\n",
       "      <td>[1166.0981, 643.4339, 707.2578]</td>\n",
       "      <td>[-22.0119, -18.3361, 1.0678]</td>\n",
       "      <td>28.668389</td>\n",
       "    </tr>\n",
       "    <tr>\n",
       "      <td>DC_L</td>\n",
       "      <td>[994.29, 458.14, 359.53]</td>\n",
       "      <td>[1127.03, 500.2, 322.9]</td>\n",
       "      <td>[1129.2261, 466.8453, 328.9876]</td>\n",
       "      <td>[2.1961, -33.3547, 6.0876]</td>\n",
       "      <td>33.976724</td>\n",
       "    </tr>\n",
       "    <tr>\n",
       "      <td>DC_R</td>\n",
       "      <td>[994.29, 458.14, 780.47]</td>\n",
       "      <td>[1127.09, 500.2, 815.64]</td>\n",
       "      <td>[1130.9201, 469.863, 804.5749]</td>\n",
       "      <td>[3.8301, -30.337, -11.0651]</td>\n",
       "      <td>32.518298</td>\n",
       "    </tr>\n",
       "    <tr>\n",
       "      <td>IC</td>\n",
       "      <td>[899.03, 255.76, 570.0]</td>\n",
       "      <td>[1040.0, 232.5, 567.5]</td>\n",
       "      <td>[1030.0353, 226.8475, 566.4694]</td>\n",
       "      <td>[-9.9647, -5.6525, -1.0306]</td>\n",
       "      <td>11.502527</td>\n",
       "    </tr>\n",
       "    <tr>\n",
       "      <td>LC_L</td>\n",
       "      <td>[905.8, 442.59, 487.09]</td>\n",
       "      <td>[1070.96, 427.8, 473.2]</td>\n",
       "      <td>[1045.5675, 449.3091, 474.302]</td>\n",
       "      <td>[-25.3925, 21.5091, 1.102]</td>\n",
       "      <td>33.296169</td>\n",
       "    </tr>\n",
       "    <tr>\n",
       "      <td>LC_R</td>\n",
       "      <td>[905.8, 442.59, 652.91]</td>\n",
       "      <td>[1070.99, 427.85, 665.22]</td>\n",
       "      <td>[1046.2348, 450.4978, 661.6491]</td>\n",
       "      <td>[-24.7552, 22.6478, -3.5709]</td>\n",
       "      <td>33.741578</td>\n",
       "    </tr>\n",
       "    <tr>\n",
       "      <td>LRt_L</td>\n",
       "      <td>[1096.97, 645.52, 458.22]</td>\n",
       "      <td>[1234.44, 699.06, 439.27]</td>\n",
       "      <td>[1235.8911, 691.1406, 440.5611]</td>\n",
       "      <td>[1.4511, -7.9194, 1.2911]</td>\n",
       "      <td>8.154111</td>\n",
       "    </tr>\n",
       "    <tr>\n",
       "      <td>LRt_R</td>\n",
       "      <td>[1096.97, 645.52, 681.78]</td>\n",
       "      <td>[1234.4, 699.09, 699.26]</td>\n",
       "      <td>[1236.7908, 692.7433, 693.1442]</td>\n",
       "      <td>[2.3908, -6.3467, -6.1158]</td>\n",
       "      <td>9.132335</td>\n",
       "    </tr>\n",
       "    <tr>\n",
       "      <td>PBG_L</td>\n",
       "      <td>[808.42, 370.83, 383.58]</td>\n",
       "      <td>[940.29, 384.43, 355.11]</td>\n",
       "      <td>[949.748, 363.0162, 358.1982]</td>\n",
       "      <td>[9.458, -21.4138, 3.0882]</td>\n",
       "      <td>23.612318</td>\n",
       "    </tr>\n",
       "    <tr>\n",
       "      <td>PBG_R</td>\n",
       "      <td>[808.42, 370.83, 756.42]</td>\n",
       "      <td>[940.07, 384.63, 783.33]</td>\n",
       "      <td>[951.2484, 365.6891, 779.4411]</td>\n",
       "      <td>[11.1784, -18.9409, -3.8889]</td>\n",
       "      <td>22.334678</td>\n",
       "    </tr>\n",
       "    <tr>\n",
       "      <td>RtTg</td>\n",
       "      <td>[792.8, 561.35, 566.5]</td>\n",
       "      <td>[950.34, 532.18, 569.23]</td>\n",
       "      <td>[945.4398, 591.8183, 566.7393]</td>\n",
       "      <td>[-4.9002, 59.6383, -2.4907]</td>\n",
       "      <td>59.891088</td>\n",
       "    </tr>\n",
       "    <tr>\n",
       "      <td>SC</td>\n",
       "      <td>[777.58, 265.35, 573.0]</td>\n",
       "      <td>[914.05, 238.8, 569.25]</td>\n",
       "      <td>[916.0945, 238.477, 571.7642]</td>\n",
       "      <td>[2.0445, -0.323, 2.5142]</td>\n",
       "      <td>3.256610</td>\n",
       "    </tr>\n",
       "    <tr>\n",
       "      <td>SNC_L</td>\n",
       "      <td>[679.65, 481.89, 449.8]</td>\n",
       "      <td>[835.41, 512.47, 429.36]</td>\n",
       "      <td>[834.3165, 496.258, 435.9035]</td>\n",
       "      <td>[-1.0935, -16.212, 6.5435]</td>\n",
       "      <td>17.516908</td>\n",
       "    </tr>\n",
       "    <tr>\n",
       "      <td>SNC_R</td>\n",
       "      <td>[679.65, 481.89, 690.2]</td>\n",
       "      <td>[835.58, 512.26, 709.22]</td>\n",
       "      <td>[835.2839, 497.9814, 707.5128]</td>\n",
       "      <td>[-0.2961, -14.2786, -1.7072]</td>\n",
       "      <td>14.383345</td>\n",
       "    </tr>\n",
       "    <tr>\n",
       "      <td>SNR_L</td>\n",
       "      <td>[712.06, 476.47, 428.78]</td>\n",
       "      <td>[844.07, 516.73, 403.17]</td>\n",
       "      <td>[864.496, 489.594, 411.6216]</td>\n",
       "      <td>[20.426, -27.136, 8.4516]</td>\n",
       "      <td>35.000193</td>\n",
       "    </tr>\n",
       "    <tr>\n",
       "      <td>SNR_R</td>\n",
       "      <td>[712.06, 476.47, 711.22]</td>\n",
       "      <td>[844.04, 516.72, 735.35]</td>\n",
       "      <td>[865.6326, 491.6188, 730.7285]</td>\n",
       "      <td>[21.5926, -25.1012, -4.6215]</td>\n",
       "      <td>33.431555</td>\n",
       "    </tr>\n",
       "    <tr>\n",
       "      <td>Sp5C_L</td>\n",
       "      <td>[1169.34, 586.5, 441.17]</td>\n",
       "      <td>[1283.25, 589.6, 398.0]</td>\n",
       "      <td>[1301.0184, 620.4576, 419.7035]</td>\n",
       "      <td>[17.7684, 30.8576, 21.7035]</td>\n",
       "      <td>41.700713</td>\n",
       "    </tr>\n",
       "    <tr>\n",
       "      <td>Sp5I_L</td>\n",
       "      <td>[1090.42, 550.54, 381.42]</td>\n",
       "      <td>[1210.65, 587.17, 374.78]</td>\n",
       "      <td>[1224.5873, 577.1977, 353.0717]</td>\n",
       "      <td>[13.9373, -9.9723, -21.7083]</td>\n",
       "      <td>27.657646</td>\n",
       "    </tr>\n",
       "    <tr>\n",
       "      <td>Sp5I_R</td>\n",
       "      <td>[1090.42, 550.54, 758.58]</td>\n",
       "      <td>[1210.65, 587.2, 763.77]</td>\n",
       "      <td>[1226.1051, 579.9015, 779.1954]</td>\n",
       "      <td>[15.4551, -7.2985, 15.4254]</td>\n",
       "      <td>23.023275</td>\n",
       "    </tr>\n",
       "    <tr>\n",
       "      <td>Sp5O_L</td>\n",
       "      <td>[1012.72, 547.34, 385.75]</td>\n",
       "      <td>[1113.89, 591.19, 378.68]</td>\n",
       "      <td>[1151.2271, 573.5092, 359.1025]</td>\n",
       "      <td>[37.3371, -17.6808, -19.5775]</td>\n",
       "      <td>45.715952</td>\n",
       "    </tr>\n",
       "    <tr>\n",
       "      <td>Sp5O_R</td>\n",
       "      <td>[1012.72, 547.34, 754.25]</td>\n",
       "      <td>[1113.85, 591.31, 759.76]</td>\n",
       "      <td>[1152.7101, 576.1509, 775.442]</td>\n",
       "      <td>[38.8601, -15.1591, 15.682]</td>\n",
       "      <td>44.562662</td>\n",
       "    </tr>\n",
       "    <tr>\n",
       "      <td>VLL_L</td>\n",
       "      <td>[791.53, 521.89, 424.43]</td>\n",
       "      <td>[946.43, 517.56, 388.99]</td>\n",
       "      <td>[941.6677, 543.6884, 405.9049]</td>\n",
       "      <td>[-4.7623, 26.1284, 16.9149]</td>\n",
       "      <td>31.487881</td>\n",
       "    </tr>\n",
       "    <tr>\n",
       "      <td>VLL_R</td>\n",
       "      <td>[791.53, 521.89, 715.57]</td>\n",
       "      <td>[946.51, 517.38, 749.54]</td>\n",
       "      <td>[942.8393, 545.7755, 734.8413]</td>\n",
       "      <td>[-3.6707, 28.3955, -14.6987]</td>\n",
       "      <td>32.184317</td>\n",
       "    </tr>\n",
       "  </tbody>\n",
       "</table>"
      ],
      "text/plain": [
       "<IPython.core.display.HTML object>"
      ]
     },
     "execution_count": 24,
     "metadata": {},
     "output_type": "execute_result"
    }
   ],
   "source": [
    "columns = ['structure', 'atlas0', 'allen0', 'transformed', 'difference', 'sumsquares']\n",
    "df = pd.DataFrame(df_list, columns=columns)\n",
    "df.index.name = 'Index'\n",
    "df.sort_values(by=['structure'], inplace=True)\n",
    "HTML(df.to_html(index=False))"
   ]
  },
  {
   "cell_type": "code",
   "execution_count": 10,
   "id": "2af81b8e",
   "metadata": {},
   "outputs": [
    {
     "data": {
      "text/plain": [
       "25.99603516224719"
      ]
     },
     "execution_count": 10,
     "metadata": {},
     "output_type": "execute_result"
    }
   ],
   "source": [
    "df['sumsquares'].sum()/len(df.index)"
   ]
  },
  {
   "cell_type": "code",
   "execution_count": 49,
   "id": "e6081574",
   "metadata": {},
   "outputs": [
    {
     "name": "stdout",
     "output_type": "stream",
     "text": [
      "original (157, 104, 182)\n",
      "new (156, 106, 182)\n"
     ]
    }
   ],
   "source": [
    "structure = 'SC'\n",
    "animal = 'MD589'\n",
    "original_path = f'/media/eddyod/orangepassport/birdstore/Active_Atlas_Data/data_root/atlas_data/{animal}/structure/{structure}.npy'\n",
    "new_path = f'/net/birdstore/Active_Atlas_Data/data_root/atlas_data/{animal}/structure/{structure}.npy'\n",
    "ori_arr = np.load(original_path)\n",
    "new_arr = np.load(new_path)\n",
    "print(f'original {ori_arr.shape}')\n",
    "print(f'new {new_arr.shape}')"
   ]
  },
  {
   "cell_type": "code",
   "execution_count": 50,
   "id": "31bac070",
   "metadata": {},
   "outputs": [
    {
     "data": {
      "image/png": "[encoded data removed]",
      "text/plain": [
       "<Figure size 640x480 with 1 Axes>"
      ]
     },
     "metadata": {},
     "output_type": "display_data"
    }
   ],
   "source": [
    "import matplotlib.pyplot as plt\n",
    "from mpl_toolkits.mplot3d import Axes3D\n",
    "\n",
    "volume = new_arr.copy()\n",
    "fig = plt.figure()\n",
    "ax = fig.add_subplot(111, projection='3d')\n",
    "z,x,y = volume.nonzero()\n",
    "ax.scatter(x, y, z, zdir='y', c= 'red')\n",
    "plt.show()"
   ]
  }
 ],
 "metadata": {
  "interpreter": {
   "hash": "2bd29f7b10431261d8beeb897d602198a8ccc2be7cc6f93af9f327223ffe0508"
  },
  "kernelspec": {
   "display_name": "Python 3 (ipykernel)",
   "language": "python",
   "name": "python3"
  },
  "language_info": {
   "codemirror_mode": {
    "name": "ipython",
    "version": 3
   },
   "file_extension": ".py",
   "mimetype": "text/x-python",
   "name": "python",
   "nbconvert_exporter": "python",
   "pygments_lexer": "ipython3",
   "version": "3.10.12"
  }
 },
 "nbformat": 4,
 "nbformat_minor": 5
}
