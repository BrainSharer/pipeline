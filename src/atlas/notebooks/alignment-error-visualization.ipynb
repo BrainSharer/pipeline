{
 "cells": [
  {
   "cell_type": "markdown",
   "id": "a86224cf",
   "metadata": {},
   "source": [
    "# Alignment Error Visualization\n",
    "\n",
    "This notebook collects COM data from the database and tries to quantify some alignment errors. The main results are shown in the plots at the end of the notebook."
   ]
  },
  {
   "cell_type": "code",
   "execution_count": null,
   "id": "116fa24e",
   "metadata": {},
   "outputs": [],
   "source": [
    "import os\n",
    "import sys\n",
    "from pathlib import Path\n",
    "\n",
    "import numpy as np\n",
    "import pandas as pd\n",
    "from collections import OrderedDict\n",
    "from IPython.display import HTML\n",
    "from itertools import combinations\n",
    "\n",
    "PIPELINE_ROOT = Path('./').absolute().parents[1]\n",
    "PIPELINE_ROOT = PIPELINE_ROOT.as_posix()\n",
    "sys.path.append(PIPELINE_ROOT)\n",
    "print(PIPELINE_ROOT)\n"
   ]
  },
  {
   "cell_type": "code",
   "execution_count": null,
   "id": "299762ca",
   "metadata": {},
   "outputs": [],
   "source": [
    "from library.controller.sql_controller import SqlController\n",
    "from library.image_manipulation.filelocation_manager import FileLocationManager\n",
    "from library.atlas.atlas_utilities import apply_affine_transform, get_affine_transformation, list_coms, \\\n",
    "    compute_affine_transformation, compute_affine_transformation_centroid\n",
    "from library.registration.brain_structure_manager import BrainStructureManager\n",
    "from library.registration.algorithm import umeyama\n",
    "from library.utilities.utilities_process import M_UM_SCALE, SCALING_FACTOR, random_string, \\\n",
    "read_image, write_image\n"
   ]
  },
  {
   "cell_type": "code",
   "execution_count": null,
   "id": "6342efe3-8054-4acd-9dc6-8a5d22d87ba3",
   "metadata": {},
   "outputs": [],
   "source": [
    "def absolute_sum(l):\n",
    "    la = np.array(l)\n",
    "    nabs = (np.array(la*la))\n",
    "    return np.sum(la, axis=0)\n",
    "\n",
    "def sum_square_com(com):\n",
    "    ss = np.sqrt(sum([s*s for s in com]))\n",
    "    return ss\n",
    "\n",
    "def generate_combinations(lst):\n",
    "    \"\"\"\n",
    "    Generate all combinations of at least 3 elements from the given list.\n",
    "    \n",
    "    :param lst: List of elements\n",
    "    :return: List of tuples containing the combinations\n",
    "    \"\"\"\n",
    "    return list(combinations(lst, 5 ))\n",
    "\n",
    "    #result = []\n",
    "    #for r in range(3, len(lst) + 1):\n",
    "    #    result.extend(combinations(lst, r))\n",
    "    #return result\n",
    "\n",
    "def get_umeyama(atlas_src, allen_src):\n",
    "\n",
    "    A, t = umeyama(atlas_src.T, allen_src.T, with_scaling=True)\n",
    "    transformation_matrix = np.hstack( [A, t ])\n",
    "    transformation_matrix = np.vstack([transformation_matrix, np.array([0, 0, 0, 1])])\n",
    "\n",
    "    return transformation_matrix"
   ]
  },
  {
   "cell_type": "code",
   "execution_count": null,
   "id": "b6548580",
   "metadata": {},
   "outputs": [],
   "source": [
    "atlas_all = list_coms('Atlas')\n",
    "allen_all = list_coms('Allen')\n",
    "common_keys = list(atlas_all.keys() & allen_all.keys())\n",
    "atlas_common = np.array([atlas_all[s] for s in common_keys])\n",
    "allen_common = np.array([allen_all[s] for s in common_keys])\n",
    "print(len(common_keys))"
   ]
  },
  {
   "cell_type": "code",
   "execution_count": null,
   "id": "d5ab7c07",
   "metadata": {},
   "outputs": [],
   "source": [
    "base_keys = ['LRt_L', 'LRt_R', 'SC', 'SNC_R', 'SNC_L']\n",
    "test_keys = ['PBG_L', 'PBG_R', 'SC', 'IC', '4N_L', '4N_R', 'LRt_L','LRt_R', 'SNC_L', 'SNC_R', ]\n",
    "bad_keys = ['RtTg','AP']\n",
    "good_keys = set(common_keys) - set(bad_keys)\n",
    "print(len(base_keys))\n",
    "print(len(test_keys))\n",
    "print(len(bad_keys))\n",
    "print(len(good_keys))\n",
    "print(len(common_keys))"
   ]
  },
  {
   "cell_type": "code",
   "execution_count": null,
   "id": "ec1aac4f",
   "metadata": {},
   "outputs": [],
   "source": [
    "atlas_src = np.array([atlas_all[s] for s in base_keys])\n",
    "allen_src = np.array([allen_all[s] for s in base_keys])\n",
    "matrix = compute_affine_transformation(atlas_src, allen_src)"
   ]
  },
  {
   "cell_type": "code",
   "execution_count": null,
   "id": "8860c495",
   "metadata": {},
   "outputs": [],
   "source": [
    "df_list = []\n",
    "error = []\n",
    "for structure in common_keys:\n",
    "    atlas0 = np.array(atlas_all[structure])\n",
    "    allen0 = np.array(allen_all[structure]) \n",
    "    transformed = apply_affine_transform(atlas0, matrix)\n",
    "    transformed = [round(x,4) for x in transformed]\n",
    "    difference = [round(a - b,4) for a, b in zip(transformed, allen0)]\n",
    "    ss = sum_square_com(difference)\n",
    "    row = [structure, atlas0, allen0, transformed, difference, ss]\n",
    "    df_list.append(row)\n",
    "    error.append(ss)\n",
    "print('RMS', sum(error)/len(df_list))\n",
    "# test keys RMS 25.61709479307028\n",
    "# base keys RMS 25.602246865972344"
   ]
  },
  {
   "cell_type": "code",
   "execution_count": null,
   "id": "9d3a9a9a",
   "metadata": {
    "scrolled": false
   },
   "outputs": [],
   "source": [
    "columns = ['structure', 'atlas0', 'allen0', 'transformed', 'difference', 'sumsquares']\n",
    "df = pd.DataFrame(df_list, columns=columns)\n",
    "df.index.name = 'Index'\n",
    "df.sort_values(by=['structure'], inplace=True)\n",
    "HTML(df.to_html(index=False))"
   ]
  },
  {
   "cell_type": "code",
   "execution_count": null,
   "id": "2af81b8e",
   "metadata": {},
   "outputs": [],
   "source": [
    "df['sumsquares'].sum()/len(df.index)"
   ]
  },
  {
   "cell_type": "code",
   "execution_count": null,
   "id": "a253d3ca",
   "metadata": {},
   "outputs": [],
   "source": [
    "949.4215777978649/len(df.index)"
   ]
  },
  {
   "cell_type": "code",
   "execution_count": null,
   "id": "70f667af",
   "metadata": {},
   "outputs": [],
   "source": [
    "df_list = []\n",
    "atlas_src = np.array([atlas_all[s] for s in remaining_keys])\n",
    "for structure in remaining_keys:\n",
    "    atlas0 = np.array(atlas_all[structure])\n",
    "    allen0 = 0\n",
    "    transformed = apply_affine_transform(atlas0, matrix)\n",
    "    transformed = [round(x,2) for x in transformed]\n",
    "    difference = 0\n",
    "    ss = 0\n",
    "    row = [structure, atlas0, allen0, transformed, difference, ss]\n",
    "    df_list.append(row)"
   ]
  },
  {
   "cell_type": "code",
   "execution_count": null,
   "id": "5f0679a7",
   "metadata": {},
   "outputs": [],
   "source": [
    "columns = ['structure', 'atlas0', 'allen0', 'transformed', 'difference', 'sumsquares']\n",
    "df = pd.DataFrame(df_list, columns=columns)\n",
    "df.index.name = 'Index'\n",
    "df.sort_values(by=['structure'], inplace=True)\n",
    "HTML(df.to_html(index=False))"
   ]
  }
 ],
 "metadata": {
  "interpreter": {
   "hash": "2bd29f7b10431261d8beeb897d602198a8ccc2be7cc6f93af9f327223ffe0508"
  },
  "kernelspec": {
   "display_name": "Python 3 (ipykernel)",
   "language": "python",
   "name": "python3"
  },
  "language_info": {
   "codemirror_mode": {
    "name": "ipython",
    "version": 3
   },
   "file_extension": ".py",
   "mimetype": "text/x-python",
   "name": "python",
   "nbconvert_exporter": "python",
   "pygments_lexer": "ipython3",
   "version": "3.10.12"
  }
 },
 "nbformat": 4,
 "nbformat_minor": 5
}
