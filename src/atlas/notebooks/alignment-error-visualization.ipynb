{
 "cells": [
  {
   "cell_type": "markdown",
   "id": "a86224cf",
   "metadata": {},
   "source": [
    "# Alignment Error Visualization\n",
    "\n",
    "This notebook collects COM data from the database and tries to quantify some alignment errors. The main results are shown in the plots at the end of the notebook."
   ]
  },
  {
   "cell_type": "code",
   "execution_count": 1,
   "id": "116fa24e",
   "metadata": {},
   "outputs": [
    {
     "name": "stdout",
     "output_type": "stream",
     "text": [
      "/home/eddyod/programming/pipeline/src\n"
     ]
    }
   ],
   "source": [
    "import os\n",
    "import sys\n",
    "from pathlib import Path\n",
    "\n",
    "import numpy as np\n",
    "import pandas as pd\n",
    "from collections import OrderedDict\n",
    "from IPython.display import HTML\n",
    "from itertools import combinations\n",
    "\n",
    "PIPELINE_ROOT = Path('./').absolute().parents[1]\n",
    "PIPELINE_ROOT = PIPELINE_ROOT.as_posix()\n",
    "sys.path.append(PIPELINE_ROOT)\n",
    "print(PIPELINE_ROOT)\n"
   ]
  },
  {
   "cell_type": "code",
   "execution_count": 2,
   "id": "299762ca",
   "metadata": {},
   "outputs": [
    {
     "name": "stdout",
     "output_type": "stream",
     "text": [
      "xgboost version=2.1.4\n"
     ]
    }
   ],
   "source": [
    "from library.controller.sql_controller import SqlController\n",
    "from library.image_manipulation.filelocation_manager import FileLocationManager\n",
    "from library.atlas.atlas_utilities import apply_affine_transform, get_affine_transformation, list_coms, \\\n",
    "    compute_affine_transformation, compute_affine_transformation_centroid\n",
    "from library.atlas.brain_structure_manager import BrainStructureManager\n",
    "from library.utilities.utilities_process import M_UM_SCALE, SCALING_FACTOR, random_string, \\\n",
    "read_image, write_image\n"
   ]
  },
  {
   "cell_type": "code",
   "execution_count": 3,
   "id": "6342efe3-8054-4acd-9dc6-8a5d22d87ba3",
   "metadata": {},
   "outputs": [],
   "source": [
    "def absolute_sum(l):\n",
    "    la = np.array(l)\n",
    "    nabs = (np.array(la*la))\n",
    "    return np.sum(la, axis=0)\n",
    "\n",
    "def sum_square_com(com):\n",
    "    ss = np.sqrt(sum([s*s for s in com]))\n",
    "    return ss"
   ]
  },
  {
   "cell_type": "code",
   "execution_count": 21,
   "id": "b6548580",
   "metadata": {},
   "outputs": [
    {
     "name": "stdout",
     "output_type": "stream",
     "text": [
      "37\n"
     ]
    }
   ],
   "source": [
    "atlas_all = list_coms('AtlasV7')\n",
    "allen_all = list_coms('Allen')\n",
    "common_keys = list(atlas_all.keys() & allen_all.keys())\n",
    "atlas_common = np.array([atlas_all[s] for s in common_keys])\n",
    "allen_common = np.array([allen_all[s] for s in common_keys])\n",
    "print(len(common_keys))"
   ]
  },
  {
   "cell_type": "code",
   "execution_count": 24,
   "id": "88ba5a47",
   "metadata": {},
   "outputs": [
    {
     "name": "stdout",
     "output_type": "stream",
     "text": [
      "#good_keys=35\n"
     ]
    }
   ],
   "source": [
    "# these keys have very high errors: 'RtTg', 'AP'\n",
    "bad_keys = ('RtTg', 'AP')\n",
    "good_keys = set(common_keys) - set(bad_keys)\n",
    "print(f'#good_keys={len(good_keys)}')"
   ]
  },
  {
   "cell_type": "code",
   "execution_count": 25,
   "id": "ec1aac4f",
   "metadata": {},
   "outputs": [],
   "source": [
    "atlas_src = np.array([atlas_all[s] for s in good_keys])\n",
    "allen_src = np.array([allen_all[s] for s in good_keys])\n",
    "transformation_matrix = compute_affine_transformation(atlas_src, allen_src)"
   ]
  },
  {
   "cell_type": "code",
   "execution_count": 26,
   "id": "8860c495",
   "metadata": {},
   "outputs": [
    {
     "name": "stdout",
     "output_type": "stream",
     "text": [
      "RMS 250.58580923794403\n"
     ]
    }
   ],
   "source": [
    "df_list = []\n",
    "error = []\n",
    "transformed_dict = {}\n",
    "for structure in common_keys:\n",
    "    atlas0 = np.array(atlas_all[structure])\n",
    "    allen0 = np.array(allen_all[structure]) \n",
    "    transformed = apply_affine_transform(atlas0, transformation_matrix)\n",
    "    transformed = [x for x in transformed]\n",
    "    difference = [a - b for a, b in zip(transformed, allen0)]\n",
    "    ss = sum_square_com(difference)\n",
    "    row = [structure, np.round(atlas0), np.round(allen0), \n",
    "           np.round(transformed), np.round(difference), ss]\n",
    "    df_list.append(row)\n",
    "    error.append(ss)\n",
    "    transformed_dict[structure] = transformed\n",
    "print('RMS', sum(error)/len(df_list))\n",
    "# test keys RMS 25.61709479307028\n",
    "# base keys RMS 25.602246865972344"
   ]
  },
  {
   "cell_type": "code",
   "execution_count": 27,
   "id": "4e7b269b",
   "metadata": {},
   "outputs": [
    {
     "name": "stdout",
     "output_type": "stream",
     "text": [
      "Atlas SC [7828. 2579. 5730.]\n",
      "Allen SC [9140. 2388. 5692.]\n",
      "Atlas transformed SC [9185. 2305. 5716.]\n"
     ]
    }
   ],
   "source": [
    "structure = 'SC'\n",
    "print(f'Atlas {structure} {np.round(np.array(atlas_all[structure]))}')\n",
    "print(f'Allen {structure} {np.round(np.array(allen_all[structure]))}')\n",
    "print(f'Atlas transformed {structure} {np.round(np.array(transformed_dict[structure]))}')"
   ]
  },
  {
   "cell_type": "code",
   "execution_count": 28,
   "id": "9d3a9a9a",
   "metadata": {
    "scrolled": true
   },
   "outputs": [
    {
     "data": {
      "text/html": [
       "<table border=\"1\" class=\"dataframe\">\n",
       "  <thead>\n",
       "    <tr style=\"text-align: right;\">\n",
       "      <th>structure</th>\n",
       "      <th>atlas0</th>\n",
       "      <th>allen0</th>\n",
       "      <th>transformed</th>\n",
       "      <th>difference</th>\n",
       "      <th>sumsquares</th>\n",
       "    </tr>\n",
       "  </thead>\n",
       "  <tbody>\n",
       "    <tr>\n",
       "      <td>LRt_L</td>\n",
       "      <td>[10985.0, 6472.0, 4571.0]</td>\n",
       "      <td>[12344.0, 6991.0, 4393.0]</td>\n",
       "      <td>[12371.0, 6990.0, 4415.0]</td>\n",
       "      <td>[26.0, -1.0, 22.0]</td>\n",
       "      <td>34.30</td>\n",
       "    </tr>\n",
       "    <tr>\n",
       "      <td>LRt_R</td>\n",
       "      <td>[10985.0, 6472.0, 6829.0]</td>\n",
       "      <td>[12344.0, 6991.0, 6993.0]</td>\n",
       "      <td>[12377.0, 7005.0, 6933.0]</td>\n",
       "      <td>[33.0, 14.0, -59.0]</td>\n",
       "      <td>69.18</td>\n",
       "    </tr>\n",
       "    <tr>\n",
       "      <td>SNC_R</td>\n",
       "      <td>[6780.0, 4826.0, 6921.0]</td>\n",
       "      <td>[8356.0, 5123.0, 7092.0]</td>\n",
       "      <td>[8365.0, 5029.0, 7071.0]</td>\n",
       "      <td>[9.0, -94.0, -21.0]</td>\n",
       "      <td>96.49</td>\n",
       "    </tr>\n",
       "    <tr>\n",
       "      <td>SC</td>\n",
       "      <td>[7828.0, 2579.0, 5730.0]</td>\n",
       "      <td>[9140.0, 2388.0, 5692.0]</td>\n",
       "      <td>[9185.0, 2305.0, 5716.0]</td>\n",
       "      <td>[44.0, -83.0, 23.0]</td>\n",
       "      <td>96.82</td>\n",
       "    </tr>\n",
       "    <tr>\n",
       "      <td>5N_R</td>\n",
       "      <td>[8668.0, 5020.0, 7061.0]</td>\n",
       "      <td>[10193.0, 5286.0, 7293.0]</td>\n",
       "      <td>[10130.0, 5260.0, 7207.0]</td>\n",
       "      <td>[-63.0, -26.0, -85.0]</td>\n",
       "      <td>109.29</td>\n",
       "    </tr>\n",
       "    <tr>\n",
       "      <td>5N_L</td>\n",
       "      <td>[8668.0, 5020.0, 4339.0]</td>\n",
       "      <td>[10193.0, 5287.0, 4092.0]</td>\n",
       "      <td>[10123.0, 5241.0, 4173.0]</td>\n",
       "      <td>[-70.0, -45.0, 81.0]</td>\n",
       "      <td>116.24</td>\n",
       "    </tr>\n",
       "    <tr>\n",
       "      <td>IC</td>\n",
       "      <td>[9084.0, 2510.0, 5700.0]</td>\n",
       "      <td>[10400.0, 2325.0, 5675.0]</td>\n",
       "      <td>[10346.0, 2218.0, 5667.0]</td>\n",
       "      <td>[-54.0, -107.0, -8.0]</td>\n",
       "      <td>119.87</td>\n",
       "    </tr>\n",
       "    <tr>\n",
       "      <td>SNC_L</td>\n",
       "      <td>[6780.0, 4826.0, 4479.0]</td>\n",
       "      <td>[8354.0, 5125.0, 4294.0]</td>\n",
       "      <td>[8358.0, 5012.0, 4349.0]</td>\n",
       "      <td>[4.0, -112.0, 56.0]</td>\n",
       "      <td>125.38</td>\n",
       "    </tr>\n",
       "    <tr>\n",
       "      <td>3N_L</td>\n",
       "      <td>[7737.0, 3916.0, 5553.0]</td>\n",
       "      <td>[9102.0, 3794.0, 5521.0]</td>\n",
       "      <td>[9188.0, 3918.0, 5529.0]</td>\n",
       "      <td>[86.0, 124.0, 8.0]</td>\n",
       "      <td>150.54</td>\n",
       "    </tr>\n",
       "    <tr>\n",
       "      <td>3N_R</td>\n",
       "      <td>[7737.0, 3916.0, 5847.0]</td>\n",
       "      <td>[9103.0, 3794.0, 5864.0]</td>\n",
       "      <td>[9189.0, 3920.0, 5857.0]</td>\n",
       "      <td>[86.0, 126.0, -8.0]</td>\n",
       "      <td>152.42</td>\n",
       "    </tr>\n",
       "    <tr>\n",
       "      <td>PBG_R</td>\n",
       "      <td>[8053.0, 3731.0, 7564.0]</td>\n",
       "      <td>[9401.0, 3846.0, 7833.0]</td>\n",
       "      <td>[9475.0, 3708.0, 7767.0]</td>\n",
       "      <td>[74.0, -138.0, -67.0]</td>\n",
       "      <td>170.63</td>\n",
       "    </tr>\n",
       "    <tr>\n",
       "      <td>6N_L</td>\n",
       "      <td>[9273.0, 5124.0, 5349.0]</td>\n",
       "      <td>[10771.0, 5215.0, 5291.0]</td>\n",
       "      <td>[10694.0, 5371.0, 5292.0]</td>\n",
       "      <td>[-77.0, 157.0, 1.0]</td>\n",
       "      <td>174.69</td>\n",
       "    </tr>\n",
       "    <tr>\n",
       "      <td>6N_R</td>\n",
       "      <td>[9273.0, 5124.0, 6051.0]</td>\n",
       "      <td>[10771.0, 5215.0, 6094.0]</td>\n",
       "      <td>[10696.0, 5376.0, 6076.0]</td>\n",
       "      <td>[-76.0, 162.0, -18.0]</td>\n",
       "      <td>179.36</td>\n",
       "    </tr>\n",
       "    <tr>\n",
       "      <td>7N_R</td>\n",
       "      <td>[9397.0, 6142.0, 6850.0]</td>\n",
       "      <td>[10853.0, 6775.0, 7045.0]</td>\n",
       "      <td>[10881.0, 6611.0, 6972.0]</td>\n",
       "      <td>[28.0, -164.0, -74.0]</td>\n",
       "      <td>182.19</td>\n",
       "    </tr>\n",
       "    <tr>\n",
       "      <td>PBG_L</td>\n",
       "      <td>[8053.0, 3731.0, 3836.0]</td>\n",
       "      <td>[9403.0, 3844.0, 3551.0]</td>\n",
       "      <td>[9465.0, 3683.0, 3609.0]</td>\n",
       "      <td>[62.0, -162.0, 58.0]</td>\n",
       "      <td>182.69</td>\n",
       "    </tr>\n",
       "    <tr>\n",
       "      <td>7N_L</td>\n",
       "      <td>[9397.0, 6142.0, 4550.0]</td>\n",
       "      <td>[10853.0, 6775.0, 4340.0]</td>\n",
       "      <td>[10875.0, 6595.0, 4408.0]</td>\n",
       "      <td>[22.0, -180.0, 68.0]</td>\n",
       "      <td>193.62</td>\n",
       "    </tr>\n",
       "    <tr>\n",
       "      <td>4N_L</td>\n",
       "      <td>[8095.0, 3959.0, 5453.0]</td>\n",
       "      <td>[9589.0, 3778.0, 5432.0]</td>\n",
       "      <td>[9524.0, 3968.0, 5413.0]</td>\n",
       "      <td>[-65.0, 190.0, -19.0]</td>\n",
       "      <td>201.85</td>\n",
       "    </tr>\n",
       "    <tr>\n",
       "      <td>4N_R</td>\n",
       "      <td>[8095.0, 3959.0, 5947.0]</td>\n",
       "      <td>[9587.0, 3775.0, 5953.0]</td>\n",
       "      <td>[9525.0, 3971.0, 5965.0]</td>\n",
       "      <td>[-62.0, 197.0, 12.0]</td>\n",
       "      <td>206.39</td>\n",
       "    </tr>\n",
       "    <tr>\n",
       "      <td>Sp5I_R</td>\n",
       "      <td>[10889.0, 5508.0, 7621.0]</td>\n",
       "      <td>[12107.0, 5872.0, 7638.0]</td>\n",
       "      <td>[12226.0, 5847.0, 7810.0]</td>\n",
       "      <td>[119.0, -25.0, 172.0]</td>\n",
       "      <td>211.21</td>\n",
       "    </tr>\n",
       "    <tr>\n",
       "      <td>Sp5I_L</td>\n",
       "      <td>[10889.0, 5508.0, 3779.0]</td>\n",
       "      <td>[12107.0, 5872.0, 3748.0]</td>\n",
       "      <td>[12216.0, 5821.0, 3526.0]</td>\n",
       "      <td>[109.0, -50.0, -222.0]</td>\n",
       "      <td>252.14</td>\n",
       "    </tr>\n",
       "    <tr>\n",
       "      <td>VLL_L</td>\n",
       "      <td>[7868.0, 5138.0, 4203.0]</td>\n",
       "      <td>[9464.0, 5176.0, 3890.0]</td>\n",
       "      <td>[9388.0, 5384.0, 4030.0]</td>\n",
       "      <td>[-76.0, 209.0, 140.0]</td>\n",
       "      <td>262.93</td>\n",
       "    </tr>\n",
       "    <tr>\n",
       "      <td>VLL_R</td>\n",
       "      <td>[7868.0, 5138.0, 7197.0]</td>\n",
       "      <td>[9465.0, 5174.0, 7495.0]</td>\n",
       "      <td>[9396.0, 5405.0, 7370.0]</td>\n",
       "      <td>[-69.0, 231.0, -126.0]</td>\n",
       "      <td>271.86</td>\n",
       "    </tr>\n",
       "    <tr>\n",
       "      <td>Amb_R</td>\n",
       "      <td>[10219.0, 6037.0, 6934.0]</td>\n",
       "      <td>[11881.0, 6618.0, 7062.0]</td>\n",
       "      <td>[11637.0, 6483.0, 7056.0]</td>\n",
       "      <td>[-244.0, -135.0, -6.0]</td>\n",
       "      <td>279.06</td>\n",
       "    </tr>\n",
       "    <tr>\n",
       "      <td>Amb_L</td>\n",
       "      <td>[10219.0, 6037.0, 4466.0]</td>\n",
       "      <td>[11883.0, 6618.0, 4324.0]</td>\n",
       "      <td>[11630.0, 6466.0, 4304.0]</td>\n",
       "      <td>[-253.0, -152.0, -20.0]</td>\n",
       "      <td>295.49</td>\n",
       "    </tr>\n",
       "    <tr>\n",
       "      <td>DC_R</td>\n",
       "      <td>[9930.0, 4561.0, 7869.0]</td>\n",
       "      <td>[11271.0, 5002.0, 8156.0]</td>\n",
       "      <td>[11273.0, 4707.0, 8091.0]</td>\n",
       "      <td>[3.0, -295.0, -66.0]</td>\n",
       "      <td>301.86</td>\n",
       "    </tr>\n",
       "    <tr>\n",
       "      <td>SNR_R</td>\n",
       "      <td>[7116.0, 4780.0, 7109.0]</td>\n",
       "      <td>[8440.0, 5167.0, 7353.0]</td>\n",
       "      <td>[8674.0, 4973.0, 7277.0]</td>\n",
       "      <td>[233.0, -194.0, -77.0]</td>\n",
       "      <td>312.89</td>\n",
       "    </tr>\n",
       "    <tr>\n",
       "      <td>DC_L</td>\n",
       "      <td>[9930.0, 4561.0, 3531.0]</td>\n",
       "      <td>[11270.0, 5002.0, 3229.0]</td>\n",
       "      <td>[11262.0, 4678.0, 3254.0]</td>\n",
       "      <td>[-8.0, -324.0, 25.0]</td>\n",
       "      <td>325.11</td>\n",
       "    </tr>\n",
       "    <tr>\n",
       "      <td>SNR_L</td>\n",
       "      <td>[7116.0, 4780.0, 4291.0]</td>\n",
       "      <td>[8441.0, 5167.0, 4032.0]</td>\n",
       "      <td>[8666.0, 4954.0, 4135.0]</td>\n",
       "      <td>[226.0, -213.0, 103.0]</td>\n",
       "      <td>327.04</td>\n",
       "    </tr>\n",
       "    <tr>\n",
       "      <td>Sp5C_L</td>\n",
       "      <td>[11656.0, 5808.0, 4339.0]</td>\n",
       "      <td>[12833.0, 5896.0, 3980.0]</td>\n",
       "      <td>[12949.0, 6185.0, 4144.0]</td>\n",
       "      <td>[116.0, 289.0, 164.0]</td>\n",
       "      <td>352.13</td>\n",
       "    </tr>\n",
       "    <tr>\n",
       "      <td>LC_L</td>\n",
       "      <td>[9062.0, 4429.0, 4863.0]</td>\n",
       "      <td>[10710.0, 4278.0, 4732.0]</td>\n",
       "      <td>[10451.0, 4530.0, 4748.0]</td>\n",
       "      <td>[-259.0, 252.0, 16.0]</td>\n",
       "      <td>361.39</td>\n",
       "    </tr>\n",
       "    <tr>\n",
       "      <td>7n_L</td>\n",
       "      <td>[9047.0, 5402.0, 4619.0]</td>\n",
       "      <td>[10687.0, 5483.0, 4706.0]</td>\n",
       "      <td>[10500.0, 5703.0, 4483.0]</td>\n",
       "      <td>[-187.0, 221.0, -223.0]</td>\n",
       "      <td>365.17</td>\n",
       "    </tr>\n",
       "    <tr>\n",
       "      <td>LC_R</td>\n",
       "      <td>[9062.0, 4429.0, 6537.0]</td>\n",
       "      <td>[10710.0, 4279.0, 6652.0]</td>\n",
       "      <td>[10455.0, 4541.0, 6615.0]</td>\n",
       "      <td>[-255.0, 263.0, -38.0]</td>\n",
       "      <td>367.69</td>\n",
       "    </tr>\n",
       "    <tr>\n",
       "      <td>7n_R</td>\n",
       "      <td>[9047.0, 5402.0, 6781.0]</td>\n",
       "      <td>[10688.0, 5482.0, 6677.0]</td>\n",
       "      <td>[10506.0, 5718.0, 6894.0]</td>\n",
       "      <td>[-182.0, 236.0, 217.0]</td>\n",
       "      <td>368.49</td>\n",
       "    </tr>\n",
       "    <tr>\n",
       "      <td>Sp5O_R</td>\n",
       "      <td>[10111.0, 5501.0, 7570.0]</td>\n",
       "      <td>[11138.0, 5913.0, 7598.0]</td>\n",
       "      <td>[11503.0, 5840.0, 7762.0]</td>\n",
       "      <td>[364.0, -73.0, 165.0]</td>\n",
       "      <td>406.38</td>\n",
       "    </tr>\n",
       "    <tr>\n",
       "      <td>Sp5O_L</td>\n",
       "      <td>[10111.0, 5501.0, 3830.0]</td>\n",
       "      <td>[11139.0, 5912.0, 3787.0]</td>\n",
       "      <td>[11493.0, 5815.0, 3592.0]</td>\n",
       "      <td>[354.0, -97.0, -195.0]</td>\n",
       "      <td>415.56</td>\n",
       "    </tr>\n",
       "    <tr>\n",
       "      <td>AP</td>\n",
       "      <td>[11126.0, 5257.0, 5720.0]</td>\n",
       "      <td>[12653.0, 5010.0, 5692.0]</td>\n",
       "      <td>[12424.0, 5531.0, 5686.0]</td>\n",
       "      <td>[-230.0, 521.0, -6.0]</td>\n",
       "      <td>568.99</td>\n",
       "    </tr>\n",
       "    <tr>\n",
       "      <td>RtTg</td>\n",
       "      <td>[7874.0, 5625.0, 5665.0]</td>\n",
       "      <td>[9503.0, 5322.0, 5692.0]</td>\n",
       "      <td>[9430.0, 5981.0, 5664.0]</td>\n",
       "      <td>[-74.0, 660.0, -28.0]</td>\n",
       "      <td>664.36</td>\n",
       "    </tr>\n",
       "  </tbody>\n",
       "</table>"
      ],
      "text/plain": [
       "<IPython.core.display.HTML object>"
      ]
     },
     "execution_count": 28,
     "metadata": {},
     "output_type": "execute_result"
    }
   ],
   "source": [
    "columns = ['structure', 'atlas0', 'allen0', 'transformed', 'difference', 'sumsquares']\n",
    "df = pd.DataFrame(df_list, columns=columns)\n",
    "df.index.name = 'Index'\n",
    "df = df.round(2)\n",
    "df.sort_values(by=['sumsquares'], inplace=True)\n",
    "HTML(df.to_html(index=False))"
   ]
  },
  {
   "cell_type": "code",
   "execution_count": 9,
   "id": "2af81b8e",
   "metadata": {},
   "outputs": [
    {
     "data": {
      "text/plain": [
       "252.11243243243243"
      ]
     },
     "execution_count": 9,
     "metadata": {},
     "output_type": "execute_result"
    }
   ],
   "source": [
    "df['sumsquares'].sum()/len(df.index)\n",
    "# 259.96675675675675\n",
    "# 252.11243243243237"
   ]
  },
  {
   "cell_type": "code",
   "execution_count": 10,
   "id": "c97bbe40",
   "metadata": {},
   "outputs": [
    {
     "name": "stdout",
     "output_type": "stream",
     "text": [
      "['LRt_L', 'SC', 'LRt_R', 'IC', '5N_R', '5N_L', 'SNC_R', '6N_L', '3N_L', '3N_R', '6N_R', 'SNC_L', 'PBG_R', '4N_L', 'PBG_L', '4N_R', 'Sp5I_R', 'VLL_L', '7N_R', 'VLL_R', '7N_L', 'Sp5I_L', 'Amb_R']\n"
     ]
    }
   ],
   "source": []
  },
  {
   "cell_type": "code",
   "execution_count": 18,
   "id": "b98874cd",
   "metadata": {},
   "outputs": [
    {
     "name": "stdout",
     "output_type": "stream",
     "text": [
      "RMS 100 keys remove={'3N_R', 'VLL_R', 'SNR_R', 'Sp5I_R', 'SNC_R', 'VLL_L', '4N_R', '7n_L', 'Sp5I_L', 'DC_L', '5N_L', '7N_R', 'Sp5C_L', 'AP', '3N_L', 'SNC_L', '6N_R', '7N_L', 'LC_L', 'Sp5O_R', 'SNR_L', '5N_R', 'Amb_L', 'Amb_R', 'PBG_L', 'RtTg', '7n_R', '4N_L', 'DC_R', 'LC_R', 'PBG_R', 'Sp5O_L', '6N_L'} error=276.55\n",
      "RMS 125 keys remove={'3N_R', 'VLL_R', 'SNR_R', 'Sp5I_R', 'SNC_R', 'VLL_L', '4N_R', '7n_L', 'Sp5I_L', 'DC_L', '5N_L', '7N_R', 'Sp5C_L', 'AP', '3N_L', 'SNC_L', '6N_R', '7N_L', 'LC_L', 'Sp5O_R', 'SNR_L', 'Amb_L', 'Amb_R', 'PBG_L', 'RtTg', '7n_R', '4N_L', 'DC_R', 'LC_R', 'PBG_R', 'Sp5O_L', '6N_L'} error=253.98\n",
      "RMS 150 keys remove={'VLL_R', 'SNR_R', 'Sp5I_R', 'VLL_L', '4N_R', '7n_L', 'Sp5I_L', 'DC_L', '7N_R', 'Sp5C_L', 'AP', 'SNC_L', '7N_L', 'LC_L', 'Sp5O_R', 'SNR_L', 'Amb_R', 'Amb_L', 'PBG_L', 'RtTg', '7n_R', '4N_L', 'DC_R', 'LC_R', 'PBG_R', 'Sp5O_L'} error=254.83\n",
      "RMS 175 keys remove={'VLL_R', 'SNR_R', 'Sp5I_R', 'VLL_L', '4N_R', '7n_L', 'Sp5I_L', 'DC_L', '7N_R', 'Sp5C_L', 'AP', '7N_L', 'LC_L', 'Sp5O_R', 'SNR_L', 'Amb_R', 'Amb_L', 'PBG_L', 'RtTg', '7n_R', '4N_L', 'DC_R', 'LC_R', 'PBG_R', 'Sp5O_L'} error=252.95\n",
      "RMS 200 keys remove={'VLL_R', 'SNR_R', 'Sp5I_R', 'VLL_L', '7n_L', 'Sp5I_L', 'DC_L', '7N_R', 'Sp5C_L', 'AP', '7N_L', 'LC_L', 'Sp5O_R', 'SNR_L', 'Amb_R', 'Amb_L', 'RtTg', '7n_R', 'DC_R', 'LC_R', 'Sp5O_L'} error=252.71\n",
      "RMS 225 keys remove={'VLL_R', 'SNR_R', 'Sp5I_R', 'VLL_L', '7n_L', 'Sp5I_L', 'DC_L', '7N_R', 'Sp5C_L', 'AP', '7N_L', 'LC_L', 'Sp5O_R', 'SNR_L', 'Amb_R', 'Amb_L', 'RtTg', '7n_R', 'DC_R', 'LC_R', 'Sp5O_L'} error=252.71\n",
      "RMS 250 keys remove={'RtTg', '7n_R', 'SNR_R', 'LC_L', 'Sp5I_L', 'Amb_R', 'DC_L', 'DC_R', 'LC_R', 'Sp5O_R', 'SNR_L', 'Sp5C_L', 'Sp5O_L', 'Amb_L', '7n_L', 'AP'} error=254.42\n",
      "RMS 275 keys remove={'RtTg', '7n_R', 'SNR_R', 'LC_L', 'Amb_R', 'DC_L', 'DC_R', 'LC_R', 'Sp5O_R', 'SNR_L', 'Sp5C_L', 'Sp5O_L', 'Amb_L', '7n_L', 'AP'} error=252.07\n",
      "RMS 300 keys remove={'RtTg', '7n_R', 'SNR_R', 'LC_L', 'DC_L', 'DC_R', 'LC_R', 'Sp5O_R', 'SNR_L', 'Sp5C_L', 'Sp5O_L', 'Amb_L', '7n_L', 'AP'} error=252.7\n",
      "RMS 325 keys remove={'RtTg', '7n_R', 'SNR_R', 'LC_L', 'DC_L', 'LC_R', 'Sp5O_R', 'SNR_L', 'Sp5C_L', 'Sp5O_L', '7n_L', 'AP'} error=255.7\n",
      "RMS 350 keys remove={'Sp5O_R', 'RtTg', 'Sp5O_L', 'AP'} error=251.18\n",
      "RMS 375 keys remove={'Sp5O_R', 'RtTg', 'Sp5O_L', 'AP'} error=251.18\n",
      "RMS 400 keys remove={'Sp5O_R', 'RtTg', 'Sp5O_L', 'AP'} error=251.18\n",
      "RMS 425 keys remove={'Sp5O_R', 'RtTg', 'Sp5O_L', 'AP'} error=251.18\n",
      "RMS 450 keys remove={'RtTg', 'AP'} error=250.59\n",
      "RMS 475 keys remove={'RtTg', 'AP'} error=250.59\n",
      "RMS 500 keys remove={'RtTg', 'AP'} error=250.59\n",
      "RMS 525 keys remove={'RtTg', 'AP'} error=250.59\n"
     ]
    }
   ],
   "source": [
    "for threshold in range(100,550, 25):\n",
    "    good_keys = df.query(f'sumsquares < {threshold}')['structure']\n",
    "    good_keys = good_keys.to_list()\n",
    "    atlas_src = np.array([atlas_all[s] for s in good_keys])\n",
    "    allen_src = np.array([allen_all[s] for s in good_keys])\n",
    "    transformation_matrix = compute_affine_transformation(atlas_src, allen_src)\n",
    "    error = []\n",
    "    for structure in common_keys:\n",
    "        atlas0 = np.array(atlas_all[structure])\n",
    "        allen0 = np.array(allen_all[structure]) \n",
    "        transformed = apply_affine_transform(atlas0, transformation_matrix)\n",
    "        transformed = [x for x in transformed]\n",
    "        difference = [a - b for a, b in zip(transformed, allen0)]\n",
    "        ss = sum_square_com(difference)\n",
    "        error.append(ss)\n",
    "    bad_keys = set(common_keys) - set(good_keys)\n",
    "    print(f'RMS {threshold} keys remove={bad_keys} error={round(sum(error)/len(common_keys),2)}')\n",
    "#"
   ]
  }
 ],
 "metadata": {
  "interpreter": {
   "hash": "2bd29f7b10431261d8beeb897d602198a8ccc2be7cc6f93af9f327223ffe0508"
  },
  "kernelspec": {
   "display_name": "Python 3 (ipykernel)",
   "language": "python",
   "name": "python3"
  },
  "language_info": {
   "codemirror_mode": {
    "name": "ipython",
    "version": 3
   },
   "file_extension": ".py",
   "mimetype": "text/x-python",
   "name": "python",
   "nbconvert_exporter": "python",
   "pygments_lexer": "ipython3",
   "version": "3.10.12"
  }
 },
 "nbformat": 4,
 "nbformat_minor": 5
}
