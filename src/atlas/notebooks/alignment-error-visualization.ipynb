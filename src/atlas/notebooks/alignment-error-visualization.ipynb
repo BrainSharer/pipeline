{
 "cells": [
  {
   "cell_type": "markdown",
   "id": "a86224cf",
   "metadata": {},
   "source": [
    "# Alignment Error Visualization\n",
    "\n",
    "This notebook collects COM data from the database and tries to quantify some alignment errors. The main results are shown in the plots at the end of the notebook."
   ]
  },
  {
   "cell_type": "code",
   "execution_count": 1,
   "id": "116fa24e",
   "metadata": {},
   "outputs": [
    {
     "name": "stdout",
     "output_type": "stream",
     "text": [
      "/home/eddyod/programming/pipeline/src\n"
     ]
    }
   ],
   "source": [
    "import os\n",
    "import sys\n",
    "from pathlib import Path\n",
    "\n",
    "import numpy as np\n",
    "import pandas as pd\n",
    "from collections import OrderedDict\n",
    "from scipy.ndimage import affine_transform\n",
    "from skimage import measure\n",
    "import SimpleITK as sitk\n",
    "import matplotlib.pyplot as plt\n",
    "\n",
    "\n",
    "PIPELINE_ROOT = Path('./').absolute().parents[1]\n",
    "PIPELINE_ROOT = PIPELINE_ROOT.as_posix()\n",
    "sys.path.append(PIPELINE_ROOT)\n",
    "print(PIPELINE_ROOT)\n"
   ]
  },
  {
   "cell_type": "code",
   "execution_count": null,
   "id": "45da981f",
   "metadata": {},
   "outputs": [],
   "source": [
    "%load_ext autoreload\n",
    "%autoreload 2"
   ]
  },
  {
   "cell_type": "code",
   "execution_count": 2,
   "id": "299762ca",
   "metadata": {},
   "outputs": [],
   "source": [
    "from library.controller.sql_controller import SqlController\n",
    "from library.image_manipulation.filelocation_manager import FileLocationManager\n",
    "from library.atlas.atlas_utilities import affine_transform_point, get_affine_transformation, \\\n",
    "fetch_coms, list_coms, compute_affine_transformation, affine_transform_volume\n",
    "from library.atlas.brain_structure_manager import BrainStructureManager\n",
    "from library.utilities.utilities_process import M_UM_SCALE, SCALING_FACTOR, random_string, \\\n",
    "read_image, write_image\n"
   ]
  },
  {
   "cell_type": "code",
   "execution_count": 3,
   "id": "6342efe3-8054-4acd-9dc6-8a5d22d87ba3",
   "metadata": {},
   "outputs": [],
   "source": [
    "def sum_square_com(com):\n",
    "    ss = np.sqrt(sum([s**2 for s in com]))\n",
    "    return ss\n",
    "\n",
    "def apply_affine_transformation(volume, matrix):\n",
    "    \"\"\"Apply an affine transformation to a 3D volume.\"\"\"\n",
    "    transformed_volume = affine_transform(volume, matrix, offset=0, order=1)\n",
    "    return transformed_volume\n",
    "\n",
    "def load_ants_affine_mat(mat_file_path):\n",
    "    # Load .mat file\n",
    "\n",
    "    rotation = np.array([\n",
    "    [0.941498875617981, 0.19202075898647308, -0.08786671608686447], \n",
    "    [-0.198630228638649, 0.781607985496521, 0.015325229614973068],\n",
    "    [0.06243732571601868, 0.0008880351670086384, 0.8622015118598938]\n",
    "    ]\n",
    "    )\n",
    "    translation = np.array([266.45843505859375, 150.64747619628906, -138.71780395507812])\n",
    "    center = np.array([730.082275390625, 373.0629577636719, 569.5])\n",
    "    # Apply rotation around center\n",
    "    affine = np.eye(4)\n",
    "    affine[:3, :3] = rotation\n",
    "    affine[:3, 3] = translation + center - rotation @ center\n",
    "\n",
    "    return affine\n",
    "\n",
    "def convert_lps_to_sar(affine_lps):\n",
    "    # Flip L (x) and P (y) axes: LPS to RAS => flip x and y\n",
    "    flip = np.diag([-1, -1, 1, 1])\n",
    "    affine_sar = flip @ affine_lps @ flip\n",
    "    return affine_sar"
   ]
  },
  {
   "cell_type": "code",
   "execution_count": 7,
   "id": "b6548580",
   "metadata": {},
   "outputs": [
    {
     "name": "stdout",
     "output_type": "stream",
     "text": [
      "37\n"
     ]
    }
   ],
   "source": [
    "moving_name = 'AtlasV8'\n",
    "fixed_name = 'Allen'\n",
    "moving_all = fetch_coms(moving_name, scaling_factor=1)\n",
    "fixed_all = list_coms(fixed_name, scaling_factor=1)\n",
    "common_keys = list(moving_all.keys() & fixed_all.keys())\n",
    "bad_keys = ('RtTg', 'AP')\n",
    "#bad_keys = ('RtTg',)\n",
    "#bad_keys = ()\n",
    "good_keys = set(common_keys) - set(bad_keys)\n",
    "\n",
    "moving_src = np.array([moving_all[s] for s in good_keys])\n",
    "fixed_src = np.array([fixed_all[s] for s in good_keys])\n",
    "print(len(common_keys))"
   ]
  },
  {
   "cell_type": "code",
   "execution_count": 8,
   "id": "30a0a314",
   "metadata": {},
   "outputs": [
    {
     "name": "stdout",
     "output_type": "stream",
     "text": [
      "[11287.  6334.  2911.]\n",
      "[9464. 5176. 3890.]\n"
     ]
    }
   ],
   "source": [
    "print(np.round(moving_src[0]))\n",
    "print(np.round(fixed_src[0]))"
   ]
  },
  {
   "cell_type": "code",
   "execution_count": null,
   "id": "5607a9d9",
   "metadata": {},
   "outputs": [],
   "source": [
    "# Convert to lists of sitk.Point\n",
    "fixed_points_list = [tuple(np.round(p)) for p in fixed_src]\n",
    "moving_points_list = [tuple(p) for p in moving_src]\n",
    "print(fixed_points_list)"
   ]
  },
  {
   "cell_type": "code",
   "execution_count": null,
   "id": "287488b0",
   "metadata": {},
   "outputs": [],
   "source": [
    "landmark_initializer = sitk.LandmarkBasedTransformInitializerFilter()\n",
    "\n",
    "landmark_initializer.SetFixedLandmarks(fixed_points_list)\n",
    "landmark_initializer.SetMovingLandmarks(moving_points_list)\n",
    "\n",
    "\n",
    "# Create an AffineTransform (3D)\n",
    "affine_transform = sitk.AffineTransform(3)\n",
    "\n",
    "# Use SimpleITK's LandmarkBasedTransformInitializer\n",
    "affine_transform = sitk.LandmarkBasedTransformInitializer(\n",
    "    transform=affine_transform,\n",
    "    fixedLandmarks=fixed_points_list,\n",
    "    movingLandmarks=moving_points_list\n",
    ")\n",
    "\n",
    "# Get matrix and translation\n",
    "matrix = np.array(affine_transform.GetMatrix()).reshape((3,3))\n",
    "translation = np.array(affine_transform.GetTranslation())\n",
    "\n",
    "print(\"Affine Transformation Matrix:\\n\", matrix)\n",
    "print(\"Translation Vector:\\n\", translation)\n",
    "\n",
    "# Optional: Apply transform to a point\n",
    "test_point = (0.5, 0.5, 0.5)\n",
    "transformed_point = affine_transform.TransformPoint(test_point)\n",
    "print(\"Transformed point:\", transformed_point)"
   ]
  },
  {
   "cell_type": "code",
   "execution_count": 9,
   "id": "68804c17",
   "metadata": {},
   "outputs": [
    {
     "name": "stdout",
     "output_type": "stream",
     "text": [
      "[[ 9.77752704e-01 -3.45818301e-02  1.38903433e-02 -1.45768086e+03]\n",
      " [ 1.23304368e-01  1.25030522e+00  8.97779129e-02 -4.44177104e+03]\n",
      " [ 4.07969856e-03  1.16806694e-02  1.13418445e+00  5.14477914e+02]\n",
      " [ 0.00000000e+00  0.00000000e+00  0.00000000e+00  1.00000000e+00]]\n"
     ]
    }
   ],
   "source": [
    "#transformation_matrix = get_affine_transformation(moving_name=moving_name, fixed_name=fixed_name, \n",
    "#                                                  scaling_factor=1)\n",
    "transformation_matrix = compute_affine_transformation(moving_src, fixed_src)\n",
    "print(transformation_matrix)"
   ]
  },
  {
   "cell_type": "code",
   "execution_count": 10,
   "id": "8860c495",
   "metadata": {},
   "outputs": [
    {
     "name": "stdout",
     "output_type": "stream",
     "text": [
      "RMS: 255.06442287466515 observations: 37\n"
     ]
    }
   ],
   "source": [
    "df_list = []\n",
    "error = []\n",
    "transformed_dict = {}\n",
    "for structure in common_keys:\n",
    "    moving0 = np.array(moving_all[structure])\n",
    "    fixed0 = np.array(fixed_all[structure]) \n",
    "    transformed = affine_transform_point(moving0, transformation_matrix)\n",
    "    difference = [a - b for a, b in zip(transformed, fixed0)]\n",
    "    ss = sum_square_com(difference)\n",
    "    row = [structure, np.round(moving0), np.round(fixed0), \n",
    "           np.round(transformed), np.round(difference), ss]\n",
    "    df_list.append(row)\n",
    "    error.append(ss)\n",
    "    transformed_dict[structure] = transformed\n",
    "rms = sum(error)/len(df_list)\n",
    "print(f'RMS: {rms} observations: {len(df_list)}')\n",
    "# MD589 to Allen RMS 260.0211852431133\n",
    "# MD585 to Allen RMS 263.314352291951\n",
    "# MD594 to Allen RMS 250.79820210419254\n",
    "# AtlasV8 DB to Allen RMS 238.5831606646421\n",
    "# MD585 to MD589 RMS 18.2658167690059"
   ]
  },
  {
   "cell_type": "code",
   "execution_count": 11,
   "id": "4e7b269b",
   "metadata": {},
   "outputs": [
    {
     "name": "stdout",
     "output_type": "stream",
     "text": [
      "AtlasV8 SC non trans [10914.  3952.  4502.]\n",
      "AtlasV8 SC apply trans [9139. 2250. 5711.]\n",
      "Allen SC [9140. 2388. 5692.]\n",
      "AtlasV8->Allen SC [  -1.5301106  -138.32410135   18.27721214]\n"
     ]
    }
   ],
   "source": [
    "#transformation_matrix = np.hstack([transformation_matrix, t])\n",
    "#transformation_matrix = np.vstack([transformation_matrix, np.array([0, 0, 0, 1])])\n",
    "#print(transformation_matrix)\n",
    "structure = 'SC'\n",
    "try:\n",
    "    com = moving_all[structure]\n",
    "except KeyError:\n",
    "    structure = common_keys[0]\n",
    "    com = moving_all[structure]\n",
    "#com = [1095, 392, 519]\n",
    "print(f'{moving_name} {structure} non trans {np.round(np.array(com))}')\n",
    "transformed_structure = affine_transform_point(com, transformation_matrix)\n",
    "\n",
    "print(f'{moving_name} {structure} apply trans {np.round(transformed_structure/1)}')\n",
    "print(f'{fixed_name} {structure} {np.round(np.array(fixed_all[structure]))}')\n",
    "diff = transformed_structure - fixed_all[structure]\n",
    "print(f'{moving_name}->{fixed_name} {structure} {diff}')"
   ]
  },
  {
   "cell_type": "code",
   "execution_count": null,
   "id": "9d3a9a9a",
   "metadata": {
    "scrolled": true
   },
   "outputs": [],
   "source": [
    "columns = ['structure', moving_name, fixed_name, 'transformed', 'difference', 'sumsquares']\n",
    "df = pd.DataFrame(df_list, columns=columns)\n",
    "df.index.name = 'Index'\n",
    "df = df.round(4)\n",
    "df.sort_values(by=['sumsquares'], inplace=True)\n",
    "#df.to_csv('/home/eddyod/programming/pipeline/docs/sphinx/source/_static/results.csv', index=False)\n",
    "df.head(50)"
   ]
  },
  {
   "cell_type": "code",
   "execution_count": null,
   "id": "b3e03b99",
   "metadata": {
    "scrolled": true
   },
   "outputs": [],
   "source": [
    "plt.figure(figsize=(30, 5)) \n",
    "plt.axhline(y=rms, linestyle='--', linewidth=2, color='red', label='Mean')\n",
    "plt.text(0, rms, f\"Mean RMS={round(rms,2)}\")\n",
    "plt.bar(df['structure'], df['sumsquares'])"
   ]
  },
  {
   "cell_type": "code",
   "execution_count": null,
   "id": "90556335",
   "metadata": {},
   "outputs": [],
   "source": [
    "outpath = '/net/birdstore/Active_Atlas_Data/data_root/atlas_data/DK55/com'\n",
    "for structure, com in moving_all.items():\n",
    "    comfile = structure + '.txt'\n",
    "    compath = os.path.join(outpath, comfile)\n",
    "    np.savetxt(compath, com)"
   ]
  },
  {
   "cell_type": "code",
   "execution_count": null,
   "id": "eae526f5",
   "metadata": {},
   "outputs": [],
   "source": [
    "um = 50\n",
    "registration_path = '/net/birdstore/Active_Atlas_Data/data_root/brains_info/registration'\n",
    "base_com_path = '/net/birdstore/Active_Atlas_Data/data_root/atlas_data'\n",
    "for brain in [moving_name, fixed_name]:\n",
    "    brain_point_path = os.path.join(registration_path, brain, f'{brain}_{um}um_sagittal.pts')\n",
    "    brain_com_path = os.path.join(base_com_path, brain, 'com')\n",
    "    comfiles = sorted(os.listdir(brain_com_path))\n",
    "    with open(brain_point_path, 'w') as f:\n",
    "        f.write('point\\n')\n",
    "        f.write(f'{len(common_keys)}\\n')\n",
    "        for comfile in comfiles:\n",
    "            structure = comfile.replace('.txt','')\n",
    "            if structure in common_keys:\n",
    "                #print(structure)\n",
    "                compath = os.path.join(brain_com_path, comfile)\n",
    "                x,y,z = np.loadtxt(compath)\n",
    "                f.write(f'{round(x/um,4)} {round(y/um,4)} {round(z/um,4)}')\n",
    "                f.write('\\n')\n"
   ]
  },
  {
   "cell_type": "code",
   "execution_count": null,
   "id": "0a30f420",
   "metadata": {},
   "outputs": [],
   "source": [
    "def ants_3d_to_scipy_2d(affine_3d, plane='axial', slice_index=0):\n",
    "    \"\"\"\n",
    "    Convert a 3D ANTs affine transformation matrix to a 2D affine transform\n",
    "    suitable for scipy.ndimage.affine_transform.\n",
    "\n",
    "    Parameters:\n",
    "        affine_3d (np.ndarray): A 4x4 affine matrix from ANTs.\n",
    "        plane (str): Plane to slice through ('axial', 'coronal', 'sagittal').\n",
    "        slice_index (int): Index of the slice in the chosen plane.\n",
    "\n",
    "    Returns:\n",
    "        matrix_2d (np.ndarray): 2x2 affine transformation matrix.\n",
    "        offset_2d (np.ndarray): Length-2 offset vector.\n",
    "    \"\"\"\n",
    "    if affine_3d.shape != (4, 4):\n",
    "        raise ValueError(\"Expected a 4x4 affine transformation matrix.\")\n",
    "\n",
    "    # Extract rotation+scaling and translation components\n",
    "    rotation_scaling = affine_3d[:3, :3]\n",
    "    translation = affine_3d[:3, 3]\n",
    "\n",
    "    if plane == 'axial':\n",
    "        matrix_2d = rotation_scaling[:2, :2]\n",
    "        offset_2d = translation[:2] + rotation_scaling[:2, 2] * slice_index\n",
    "    elif plane == 'coronal':\n",
    "        matrix_2d = rotation_scaling[[0,2], :][:, [0,2]]\n",
    "        offset_2d = translation[[0,2]] + rotation_scaling[[0,2], 1] * slice_index\n",
    "    elif plane == 'sagittal':\n",
    "        matrix_2d = rotation_scaling[1:3, 1:3]\n",
    "        offset_2d = translation[1:3] + rotation_scaling[1:3, 0] * slice_index\n",
    "    else:\n",
    "        raise ValueError(\"Plane must be 'axial', 'coronal', or 'sagittal'.\")\n",
    "\n",
    "    return matrix_2d, offset_2d"
   ]
  },
  {
   "cell_type": "code",
   "execution_count": null,
   "id": "a52f01c4",
   "metadata": {},
   "outputs": [],
   "source": [
    "reg_path = '/net/birdstore/Active_Atlas_Data/data_root/brains_info/registration'\n",
    "matrix_path = os.path.join(reg_path, 'ALLEN771602/ALLEN771602_Allen_32.0x28.8x28.8um_sagittal.tfm')\n",
    "transform = sitk.ReadTransform(matrix_path)"
   ]
  },
  {
   "cell_type": "code",
   "execution_count": null,
   "id": "1a3ab5cd",
   "metadata": {},
   "outputs": [],
   "source": [
    "tx = sitk.AffineTransform(transform)\n",
    "Rt = tx.GetMatrix()\n",
    "R = np.array(Rt).reshape(3,3)\n",
    "print(R)\n",
    "print()\n",
    "Rr = np.rot90(R, k=1)\n",
    "print(Rr)"
   ]
  },
  {
   "cell_type": "code",
   "execution_count": null,
   "id": "88280529",
   "metadata": {},
   "outputs": [],
   "source": [
    "affine_transform = sitk.AffineTransform(3)\n",
    "affine_transform.SetMatrix(Rr.flatten())\n",
    "affine_transform.SetTranslation(t)\n",
    "affine_transform.SetCenter(c)\n"
   ]
  },
  {
   "cell_type": "code",
   "execution_count": null,
   "id": "b88c65b4",
   "metadata": {},
   "outputs": [],
   "source": [
    "# Example 3x3 array where each row is a 3D point\n",
    "A = np.array([\n",
    "    [1, 0, 0],\n",
    "    [0, 1, 0],\n",
    "    [0, 0, 1]\n",
    "])\n",
    "\n",
    "# Rotation matrix for 90 degrees around Y-axis (counter-clockwise)\n",
    "theta = np.radians(90)\n",
    "rotation_matrix = np.array([\n",
    "    [np.cos(theta), 0, np.sin(theta)],\n",
    "    [0,            1, 0],\n",
    "    [-np.sin(theta), 0, np.cos(theta)]\n",
    "])\n",
    "\n",
    "# Apply rotation\n",
    "rotated = A @ rotation_matrix.T\n",
    "print(rotated)"
   ]
  },
  {
   "cell_type": "code",
   "execution_count": null,
   "id": "f5856535",
   "metadata": {},
   "outputs": [],
   "source": [
    "rotation_matrix.T"
   ]
  }
 ],
 "metadata": {
  "interpreter": {
   "hash": "2bd29f7b10431261d8beeb897d602198a8ccc2be7cc6f93af9f327223ffe0508"
  },
  "kernelspec": {
   "display_name": "Python 3 (ipykernel)",
   "language": "python",
   "name": "python3"
  },
  "language_info": {
   "codemirror_mode": {
    "name": "ipython",
    "version": 3
   },
   "file_extension": ".py",
   "mimetype": "text/x-python",
   "name": "python",
   "nbconvert_exporter": "python",
   "pygments_lexer": "ipython3",
   "version": "3.10.12"
  }
 },
 "nbformat": 4,
 "nbformat_minor": 5
}
