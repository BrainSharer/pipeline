{
 "cells": [
  {
   "cell_type": "markdown",
   "id": "a86224cf",
   "metadata": {},
   "source": [
    "# Alignment Error Visualization\n",
    "\n",
    "This notebook collects COM data from the database and tries to quantify some alignment errors. The main results are shown in the plots at the end of the notebook."
   ]
  },
  {
   "cell_type": "code",
   "execution_count": 1,
   "id": "116fa24e",
   "metadata": {},
   "outputs": [
    {
     "name": "stdout",
     "output_type": "stream",
     "text": [
      "/home/eddyod/programming/pipeline/src\n"
     ]
    }
   ],
   "source": [
    "import os\n",
    "import sys\n",
    "from pathlib import Path\n",
    "\n",
    "import numpy as np\n",
    "import pandas as pd\n",
    "from collections import OrderedDict\n",
    "from IPython.display import HTML\n",
    "from itertools import combinations\n",
    "from scipy.ndimage import affine_transform\n",
    "\n",
    "\n",
    "PIPELINE_ROOT = Path('./').absolute().parents[1]\n",
    "PIPELINE_ROOT = PIPELINE_ROOT.as_posix()\n",
    "sys.path.append(PIPELINE_ROOT)\n",
    "print(PIPELINE_ROOT)\n"
   ]
  },
  {
   "cell_type": "code",
   "execution_count": 2,
   "id": "45da981f",
   "metadata": {},
   "outputs": [],
   "source": [
    "%load_ext autoreload\n",
    "%autoreload 2"
   ]
  },
  {
   "cell_type": "code",
   "execution_count": 3,
   "id": "299762ca",
   "metadata": {},
   "outputs": [
    {
     "name": "stdout",
     "output_type": "stream",
     "text": [
      "XGBoost Version: 2.1.4\n"
     ]
    }
   ],
   "source": [
    "from library.controller.sql_controller import SqlController\n",
    "from library.image_manipulation.filelocation_manager import FileLocationManager\n",
    "from library.atlas.atlas_utilities import apply_affine_transform, get_affine_transformation, \\\n",
    "fetch_coms, list_coms, compute_affine_transformation, scale_coordinates\n",
    "from library.atlas.brain_structure_manager import BrainStructureManager\n",
    "from library.utilities.utilities_process import M_UM_SCALE, SCALING_FACTOR, random_string, \\\n",
    "read_image, write_image\n"
   ]
  },
  {
   "cell_type": "code",
   "execution_count": 4,
   "id": "6342efe3-8054-4acd-9dc6-8a5d22d87ba3",
   "metadata": {},
   "outputs": [],
   "source": [
    "def sum_square_com(com):\n",
    "    ss = np.sqrt(sum([s**2 for s in com]))\n",
    "    return ss\n",
    "\n",
    "def apply_affine_transformation(volume, matrix):\n",
    "    \"\"\"Apply an affine transformation to a 3D volume.\"\"\"\n",
    "    transformed_volume = affine_transform(volume, matrix, offset=0, order=1)\n",
    "    return transformed_volume\n"
   ]
  },
  {
   "cell_type": "code",
   "execution_count": 103,
   "id": "b6548580",
   "metadata": {},
   "outputs": [
    {
     "name": "stdout",
     "output_type": "stream",
     "text": [
      "DK79 len=6\n",
      "MD589 len=56\n",
      "6\n"
     ]
    }
   ],
   "source": [
    "moving_name = 'DK79'\n",
    "fixed_name = 'MD589'\n",
    "\n",
    "moving_all = list_coms(moving_name, scaling_factor=10)\n",
    "fixed_all = list_coms(fixed_name, scaling_factor=10)\n",
    "\n",
    "common_keys = list(moving_all.keys() & fixed_all.keys())\n",
    "print(f'{moving_name} len={len(moving_all.keys())}')\n",
    "print(f'{fixed_name} len={len(fixed_all.keys())}')\n",
    "\n",
    "print(len(common_keys))"
   ]
  },
  {
   "cell_type": "code",
   "execution_count": 104,
   "id": "88ba5a47",
   "metadata": {},
   "outputs": [
    {
     "name": "stdout",
     "output_type": "stream",
     "text": [
      "#good_keys=6\n",
      "{'coronal1', 'coronal2', 'Sagittal2', 'Sagittal3', 'coronal3', 'Sagittal1'}\n"
     ]
    }
   ],
   "source": [
    "# these keys have very high errors: 'RtTg', 'AP'\n",
    "midbrain_keys = {\n",
    "            \"3N_L\",\n",
    "            \"3N_R\",\n",
    "            \"4N_L\",\n",
    "            \"4N_R\",\n",
    "            \"IC\",\n",
    "            \"PBG_L\",\n",
    "            \"PBG_R\",\n",
    "            \"SC\",\n",
    "            \"SNC_L\",\n",
    "            \"SNC_R\",\n",
    "            \"SNR_L\",\n",
    "            \"SNR_R\",\n",
    "        }\n",
    "bad_keys = ('RtTg', 'AP', '3N_L', '3N_R')\n",
    "bad_keys = ('RtTg', 'AP')\n",
    "#bad_keys = ('RtTg',)\n",
    "bad_keys = ()\n",
    "good_keys = set(common_keys) - set(bad_keys)\n",
    "print(f'#good_keys={len(good_keys)}')\n",
    "print(good_keys)"
   ]
  },
  {
   "cell_type": "code",
   "execution_count": 105,
   "id": "ec1aac4f",
   "metadata": {},
   "outputs": [
    {
     "name": "stdout",
     "output_type": "stream",
     "text": [
      "array([[ 8.11052817e-01, -8.97891604e-02,  8.82937109e-02,\n",
      "         9.66430191e+01],\n",
      "       [ 3.70418947e-01,  6.27916376e-01, -1.59053155e-01,\n",
      "        -1.19915965e+02],\n",
      "       [ 4.63733778e-03,  8.57716398e-02,  8.37100186e-01,\n",
      "         9.97117247e+01],\n",
      "       [ 0.00000000e+00,  0.00000000e+00,  0.00000000e+00,\n",
      "         1.00000000e+00]])\n"
     ]
    }
   ],
   "source": [
    "moving_src = np.array([moving_all[s] for s in good_keys])\n",
    "fixed_src = np.array([fixed_all[s] for s in good_keys])\n",
    "transformation_matrix = compute_affine_transformation(moving_src, fixed_src)\n",
    "print(repr(transformation_matrix))"
   ]
  },
  {
   "cell_type": "code",
   "execution_count": 84,
   "id": "0fea84be",
   "metadata": {},
   "outputs": [
    {
     "name": "stdout",
     "output_type": "stream",
     "text": [
      "[884 697 296]\n",
      "[855. 734. 308.]\n"
     ]
    }
   ],
   "source": [
    "# Apply affine transformation\n",
    "# Apply affine transformation\n",
    "origin = np.array([884, 697, 296])\n",
    "print(origin)\n",
    "trans_origin = apply_affine_transform(origin, transformation_matrix)\n",
    "print(np.round(trans_origin))"
   ]
  },
  {
   "cell_type": "code",
   "execution_count": 106,
   "id": "8860c495",
   "metadata": {},
   "outputs": [
    {
     "name": "stdout",
     "output_type": "stream",
     "text": [
      "RMS 47.886577490886246\n"
     ]
    }
   ],
   "source": [
    "df_list = []\n",
    "error = []\n",
    "transformed_dict = {}\n",
    "for structure in common_keys:\n",
    "    moving0 = np.array(moving_all[structure])\n",
    "    fixed0 = np.array(fixed_all[structure]) \n",
    "    transformed = apply_affine_transform(moving0, transformation_matrix)\n",
    "    transformed = [x for x in transformed]\n",
    "    difference = [a - b for a, b in zip(transformed, fixed0)]\n",
    "    ss = sum_square_com(difference)\n",
    "    row = [structure, np.round(moving0), np.round(fixed0), \n",
    "           np.round(transformed), np.round(difference), ss]\n",
    "    df_list.append(row)\n",
    "    error.append(ss)\n",
    "    transformed_dict[structure] = transformed\n",
    "print('RMS', sum(error)/len(df_list))\n",
    "# MD589 to Allen RMS 260.0211852431133\n",
    "# MD585 to Allen RMS 263.314352291951\n",
    "# MD594 to Allen RMS 250.79820210419254\n",
    "# AtlasV8 disk to Allen RMS 237.0680595008574\n",
    "# MD585 to MD589 RMS 182.56958121184923"
   ]
  },
  {
   "cell_type": "code",
   "execution_count": 100,
   "id": "4e7b269b",
   "metadata": {},
   "outputs": [
    {
     "name": "stdout",
     "output_type": "stream",
     "text": [
      "DK79 coronal1 [947. 199. 409.]\n",
      "MD589 coronal1 [824. 304. 429.]\n",
      "DK79 transformed coronal1 [824. 304. 429.]\n"
     ]
    }
   ],
   "source": [
    "structure = 'VLL_L'\n",
    "try:\n",
    "    com = moving_all[structure]\n",
    "except KeyError:\n",
    "    structure = common_keys[0]\n",
    "    com = moving_all[structure]\n",
    "transformed_structure = apply_affine_transform(com, transformation_matrix)\n",
    "print(f'{moving_name} {structure} {np.round(np.array(com))}')\n",
    "print(f'{fixed_name} {structure} {np.round(np.array(fixed_all[structure]))}')\n",
    "print(f'{moving_name} transformed {structure} {np.round(np.array(transformed_dict[structure]))}')\n",
    "#print(f'neuro res {moving_name} {structure} {np.round(com)}')\n"
   ]
  },
  {
   "cell_type": "code",
   "execution_count": 107,
   "id": "9d3a9a9a",
   "metadata": {
    "scrolled": true
   },
   "outputs": [
    {
     "data": {
      "text/html": [
       "<table border=\"1\" class=\"dataframe\">\n",
       "  <thead>\n",
       "    <tr style=\"text-align: right;\">\n",
       "      <th>structure</th>\n",
       "      <th>DK79</th>\n",
       "      <th>MD589</th>\n",
       "      <th>transformed</th>\n",
       "      <th>difference</th>\n",
       "      <th>sumsquares</th>\n",
       "    </tr>\n",
       "  </thead>\n",
       "  <tbody>\n",
       "    <tr>\n",
       "      <td>coronal2</td>\n",
       "      <td>[947.0, 349.0, 125.0]</td>\n",
       "      <td>[824.0, 437.0, 227.0]</td>\n",
       "      <td>[844.0, 430.0, 239.0]</td>\n",
       "      <td>[21.0, -7.0, 12.0]</td>\n",
       "      <td>24.7332</td>\n",
       "    </tr>\n",
       "    <tr>\n",
       "      <td>Sagittal3</td>\n",
       "      <td>[1551.0, 756.0, 337.0]</td>\n",
       "      <td>[1311.0, 852.0, 447.0]</td>\n",
       "      <td>[1317.0, 876.0, 454.0]</td>\n",
       "      <td>[6.0, 24.0, 7.0]</td>\n",
       "      <td>25.3672</td>\n",
       "    </tr>\n",
       "    <tr>\n",
       "      <td>Sagittal1</td>\n",
       "      <td>[167.0, 622.0, 337.0]</td>\n",
       "      <td>[230.0, 254.0, 447.0]</td>\n",
       "      <td>[206.0, 279.0, 436.0]</td>\n",
       "      <td>[-24.0, 25.0, -11.0]</td>\n",
       "      <td>36.3578</td>\n",
       "    </tr>\n",
       "    <tr>\n",
       "      <td>coronal3</td>\n",
       "      <td>[947.0, 698.0, 349.0]</td>\n",
       "      <td>[824.0, 660.0, 457.0]</td>\n",
       "      <td>[833.0, 614.0, 456.0]</td>\n",
       "      <td>[9.0, -46.0, -1.0]</td>\n",
       "      <td>47.1088</td>\n",
       "    </tr>\n",
       "    <tr>\n",
       "      <td>coronal1</td>\n",
       "      <td>[947.0, 199.0, 409.0]</td>\n",
       "      <td>[824.0, 304.0, 429.0]</td>\n",
       "      <td>[883.0, 291.0, 464.0]</td>\n",
       "      <td>[59.0, -13.0, 35.0]</td>\n",
       "      <td>69.7781</td>\n",
       "    </tr>\n",
       "    <tr>\n",
       "      <td>Sagittal2</td>\n",
       "      <td>[1256.0, 211.0, 337.0]</td>\n",
       "      <td>[1197.0, 407.0, 447.0]</td>\n",
       "      <td>[1126.0, 424.0, 406.0]</td>\n",
       "      <td>[-71.0, 18.0, -41.0]</td>\n",
       "      <td>83.9743</td>\n",
       "    </tr>\n",
       "  </tbody>\n",
       "</table>"
      ],
      "text/plain": [
       "<IPython.core.display.HTML object>"
      ]
     },
     "execution_count": 107,
     "metadata": {},
     "output_type": "execute_result"
    }
   ],
   "source": [
    "columns = ['structure', moving_name, fixed_name, 'transformed', 'difference', 'sumsquares']\n",
    "df = pd.DataFrame(df_list, columns=columns)\n",
    "df.index.name = 'Index'\n",
    "df = df.round(4)\n",
    "df.sort_values(by=['sumsquares'], inplace=True)\n",
    "HTML(df.to_html(index=False))"
   ]
  }
 ],
 "metadata": {
  "interpreter": {
   "hash": "2bd29f7b10431261d8beeb897d602198a8ccc2be7cc6f93af9f327223ffe0508"
  },
  "kernelspec": {
   "display_name": "Python 3 (ipykernel)",
   "language": "python",
   "name": "python3"
  },
  "language_info": {
   "codemirror_mode": {
    "name": "ipython",
    "version": 3
   },
   "file_extension": ".py",
   "mimetype": "text/x-python",
   "name": "python",
   "nbconvert_exporter": "python",
   "pygments_lexer": "ipython3",
   "version": "3.10.12"
  }
 },
 "nbformat": 4,
 "nbformat_minor": 5
}
