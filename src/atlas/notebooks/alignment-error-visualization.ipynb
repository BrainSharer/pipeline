{
 "cells": [
  {
   "cell_type": "markdown",
   "id": "a86224cf",
   "metadata": {},
   "source": [
    "# Alignment Error Visualization\n",
    "\n",
    "This notebook collects COM data from the database and tries to quantify some alignment errors. The main results are shown in the plots at the end of the notebook."
   ]
  },
  {
   "cell_type": "code",
   "execution_count": 4,
   "id": "116fa24e",
   "metadata": {},
   "outputs": [
    {
     "name": "stdout",
     "output_type": "stream",
     "text": [
      "/home/eddyod/programming/pipeline/src\n"
     ]
    }
   ],
   "source": [
    "import os\n",
    "import sys\n",
    "from pathlib import Path\n",
    "\n",
    "import numpy as np\n",
    "import pandas as pd\n",
    "from collections import OrderedDict\n",
    "from IPython.display import HTML\n",
    "from itertools import combinations\n",
    "from scipy.ndimage import affine_transform\n",
    "import SimpleITK as sitk\n",
    "import matplotlib.pyplot as plt\n",
    "\n",
    "\n",
    "PIPELINE_ROOT = Path('./').absolute().parents[1]\n",
    "PIPELINE_ROOT = PIPELINE_ROOT.as_posix()\n",
    "sys.path.append(PIPELINE_ROOT)\n",
    "print(PIPELINE_ROOT)\n"
   ]
  },
  {
   "cell_type": "code",
   "execution_count": 5,
   "id": "45da981f",
   "metadata": {},
   "outputs": [],
   "source": [
    "%load_ext autoreload\n",
    "%autoreload 2"
   ]
  },
  {
   "cell_type": "code",
   "execution_count": 6,
   "id": "299762ca",
   "metadata": {},
   "outputs": [],
   "source": [
    "from library.controller.sql_controller import SqlController\n",
    "from library.image_manipulation.filelocation_manager import FileLocationManager\n",
    "from library.atlas.atlas_utilities import apply_affine_transform, get_affine_transformation, \\\n",
    "fetch_coms, list_coms, compute_affine_transformation, affine_transform_volume\n",
    "from library.atlas.brain_structure_manager import BrainStructureManager\n",
    "from library.utilities.utilities_process import M_UM_SCALE, SCALING_FACTOR, random_string, \\\n",
    "read_image, write_image\n"
   ]
  },
  {
   "cell_type": "code",
   "execution_count": null,
   "id": "6342efe3-8054-4acd-9dc6-8a5d22d87ba3",
   "metadata": {},
   "outputs": [],
   "source": [
    "def sum_square_com(com):\n",
    "    ss = np.sqrt(sum([s**2 for s in com]))\n",
    "    return ss\n",
    "\n",
    "def apply_affine_transformation(volume, matrix):\n",
    "    \"\"\"Apply an affine transformation to a 3D volume.\"\"\"\n",
    "    transformed_volume = affine_transform(volume, matrix, offset=0, order=1)\n",
    "    return transformed_volume"
   ]
  },
  {
   "cell_type": "code",
   "execution_count": null,
   "id": "b6548580",
   "metadata": {},
   "outputs": [],
   "source": [
    "moving_name = 'AtlasV8'\n",
    "fixed_name = 'Allen'\n",
    "moving_all = list_coms(moving_name, scaling_factor=10)\n",
    "fixed_all = fetch_coms(fixed_name, scaling_factor=10)\n",
    "common_keys = list(moving_all.keys() & fixed_all.keys())\n",
    "bad_keys = ('RtTg', 'AP')\n",
    "#bad_keys = ('RtTg',)\n",
    "bad_keys = ()\n",
    "good_keys = set(common_keys) - set(bad_keys)\n",
    "\n",
    "moving_src = np.array([moving_all[s] for s in good_keys])\n",
    "fixed_src = np.array([fixed_all[s] for s in good_keys])\n",
    "print(len(common_keys))"
   ]
  },
  {
   "cell_type": "code",
   "execution_count": null,
   "id": "c777aa81",
   "metadata": {},
   "outputs": [],
   "source": [
    "fixed_all"
   ]
  },
  {
   "cell_type": "code",
   "execution_count": null,
   "id": "68804c17",
   "metadata": {},
   "outputs": [],
   "source": [
    "#transformation_matrix = get_affine_transformation(moving_name=moving_name, fixed_name=fixed_name, \n",
    "#                                                  scaling_factor=1)\n",
    "transformation_matrix = compute_affine_transformation(moving_src, fixed_src)\n",
    "print(transformation_matrix)"
   ]
  },
  {
   "cell_type": "code",
   "execution_count": null,
   "id": "8860c495",
   "metadata": {},
   "outputs": [],
   "source": [
    "df_list = []\n",
    "error = []\n",
    "transformed_dict = {}\n",
    "for structure in common_keys:\n",
    "    moving0 = np.array(moving_all[structure])\n",
    "    fixed0 = np.array(fixed_all[structure]) \n",
    "    transformed = apply_affine_transform(moving0, transformation_matrix)\n",
    "    transformed = [x for x in transformed]\n",
    "    difference = [a - b for a, b in zip(transformed, fixed0)]\n",
    "    ss = sum_square_com(difference)\n",
    "    row = [structure, np.round(moving0), np.round(fixed0), \n",
    "           np.round(transformed), np.round(difference), ss]\n",
    "    df_list.append(row)\n",
    "    error.append(ss)\n",
    "    transformed_dict[structure] = transformed\n",
    "print('RMS', sum(error)/len(df_list))\n",
    "# MD589 to Allen RMS 260.0211852431133\n",
    "# MD585 to Allen RMS 263.314352291951\n",
    "# MD594 to Allen RMS 250.79820210419254\n",
    "# AtlasV8 disk to Allen RMS 237.0680595008574\n",
    "# MD585 to MD589 RMS 18.2658167690059"
   ]
  },
  {
   "cell_type": "code",
   "execution_count": null,
   "id": "4e7b269b",
   "metadata": {},
   "outputs": [],
   "source": [
    "#transformation_matrix = np.hstack([transformation_matrix, t])\n",
    "#transformation_matrix = np.vstack([transformation_matrix, np.array([0, 0, 0, 1])])\n",
    "#print(transformation_matrix)\n",
    "structure = 'SC'\n",
    "try:\n",
    "    com = moving_all[structure]\n",
    "except KeyError:\n",
    "    structure = common_keys[0]\n",
    "    com = moving_all[structure]\n",
    "#com = [1095, 392, 519]\n",
    "print(f'{moving_name} {structure} non trans {np.round(np.array(com))}')\n",
    "transformed_structure = apply_affine_transform(com, transformation_matrix)\n",
    "print(f'{moving_name} {structure} apply trans {np.round(transformed_structure/1)}')\n",
    "print(f'{fixed_name} {structure} {np.round(np.array(fixed_all[structure]))}')\n",
    "diff = transformed_structure - fixed_all[structure]\n",
    "print(f'{moving_name}->{fixed_name} {structure} {np.round(diff)}')\n"
   ]
  },
  {
   "cell_type": "code",
   "execution_count": null,
   "id": "9d3a9a9a",
   "metadata": {
    "scrolled": true
   },
   "outputs": [],
   "source": [
    "columns = ['structure', moving_name, fixed_name, 'transformed', 'difference', 'sumsquares']\n",
    "df = pd.DataFrame(df_list, columns=columns)\n",
    "df.index.name = 'Index'\n",
    "df = df.round(4)\n",
    "df.sort_values(by=['sumsquares'], inplace=True)\n",
    "#df.to_csv('/home/eddyod/programming/pipeline/docs/sphinx/source/_static/results.csv', index=False)\n",
    "df.head(50)"
   ]
  },
  {
   "cell_type": "code",
   "execution_count": null,
   "id": "90556335",
   "metadata": {},
   "outputs": [],
   "source": [
    "outpath = '/net/birdstore/Active_Atlas_Data/data_root/atlas_data/DK55/com'\n",
    "for structure, com in moving_all.items():\n",
    "    comfile = structure + '.txt'\n",
    "    compath = os.path.join(outpath, comfile)\n",
    "    np.savetxt(compath, com)"
   ]
  },
  {
   "cell_type": "code",
   "execution_count": null,
   "id": "eae526f5",
   "metadata": {},
   "outputs": [],
   "source": [
    "um = 50\n",
    "registration_path = '/net/birdstore/Active_Atlas_Data/data_root/brains_info/registration'\n",
    "base_com_path = '/net/birdstore/Active_Atlas_Data/data_root/atlas_data'\n",
    "for brain in [moving_name, fixed_name]:\n",
    "    brain_point_path = os.path.join(registration_path, brain, f'{brain}_{um}um_sagittal.pts')\n",
    "    brain_com_path = os.path.join(base_com_path, brain, 'com')\n",
    "    comfiles = sorted(os.listdir(brain_com_path))\n",
    "    with open(brain_point_path, 'w') as f:\n",
    "        f.write('point\\n')\n",
    "        f.write(f'{len(common_keys)}\\n')\n",
    "        for comfile in comfiles:\n",
    "            structure = comfile.replace('.txt','')\n",
    "            if structure in common_keys:\n",
    "                #print(structure)\n",
    "                compath = os.path.join(brain_com_path, comfile)\n",
    "                x,y,z = np.loadtxt(compath)\n",
    "                f.write(f'{round(x/um,4)} {round(y/um,4)} {round(z/um,4)}')\n",
    "                f.write('\\n')\n"
   ]
  },
  {
   "cell_type": "code",
   "execution_count": null,
   "id": "18021c5a",
   "metadata": {},
   "outputs": [],
   "source": [
    "sc_com = np.array([1.119232944161371051e+04,3.845036998545344431e+03,4.365074759237448234e+03])\n",
    "scale = np.array([0.452, 0.452, 20])\n",
    "from_disk = sc_com/scale\n",
    "print(from_disk)\n",
    "from_program = np.array([24818.103954839404, 8748.195805110985, 222.0769230769231])\n",
    "from_disk - from_program"
   ]
  },
  {
   "cell_type": "code",
   "execution_count": 7,
   "id": "d587cc5f",
   "metadata": {},
   "outputs": [
    {
     "name": "stdout",
     "output_type": "stream",
     "text": [
      "uint16 (1140, 1000, 1820)\n"
     ]
    }
   ],
   "source": [
    "import os\n",
    "reg_path = '/net/birdstore/Active_Atlas_Data/data_root/brains_info/registration/Allen'\n",
    "allenpath = os.path.join(reg_path, 'Allen_10um_sagittal_padded.tif')\n",
    "allen_arr = read_image(allenpath)\n",
    "print(allen_arr.dtype, allen_arr.shape)"
   ]
  },
  {
   "cell_type": "code",
   "execution_count": 11,
   "id": "d059fb8a",
   "metadata": {},
   "outputs": [
    {
     "name": "stdout",
     "output_type": "stream",
     "text": [
      "change_z=5.0 change_y=5.555555555555555 change_x=5.555555555555555\n"
     ]
    }
   ],
   "source": [
    "change_z = 10/2\n",
    "change_y = 10/1.8\n",
    "change_x = 10/1.8\n",
    "change = (change_z, change_y, change_x)\n",
    "print(f'change_z={change_z} change_y={change_y} change_x={change_x}')"
   ]
  },
  {
   "cell_type": "code",
   "execution_count": 12,
   "id": "a987feaf",
   "metadata": {},
   "outputs": [
    {
     "ename": "MemoryError",
     "evalue": "Unable to allocate 596. GiB for an array with shape (5700, 5556, 10111) and data type uint16",
     "output_type": "error",
     "traceback": [
      "\u001b[0;31m---------------------------------------------------------------------------\u001b[0m",
      "\u001b[0;31mMemoryError\u001b[0m                               Traceback (most recent call last)",
      "Input \u001b[0;32mIn [12]\u001b[0m, in \u001b[0;36m<cell line: 2>\u001b[0;34m()\u001b[0m\n\u001b[1;32m      1\u001b[0m \u001b[38;5;28;01mfrom\u001b[39;00m \u001b[38;5;21;01mscipy\u001b[39;00m\u001b[38;5;21;01m.\u001b[39;00m\u001b[38;5;21;01mndimage\u001b[39;00m \u001b[38;5;28;01mimport\u001b[39;00m zoom\n\u001b[0;32m----> 2\u001b[0m zoomed \u001b[38;5;241m=\u001b[39m \u001b[43mzoom\u001b[49m\u001b[43m(\u001b[49m\u001b[43mallen_arr\u001b[49m\u001b[43m,\u001b[49m\u001b[43m \u001b[49m\u001b[43mchange\u001b[49m\u001b[43m)\u001b[49m\n\u001b[1;32m      3\u001b[0m \u001b[38;5;28mprint\u001b[39m(zoomed\u001b[38;5;241m.\u001b[39mdtype, zoomed\u001b[38;5;241m.\u001b[39mshape)\n",
      "File \u001b[0;32m/usr/local/share/pipeline/lib/python3.10/site-packages/scipy/ndimage/_interpolation.py:774\u001b[0m, in \u001b[0;36mzoom\u001b[0;34m(input, zoom, output, order, mode, cval, prefilter, grid_mode)\u001b[0m\n\u001b[1;32m    771\u001b[0m output_shape \u001b[38;5;241m=\u001b[39m \u001b[38;5;28mtuple\u001b[39m(\n\u001b[1;32m    772\u001b[0m         [\u001b[38;5;28mint\u001b[39m(\u001b[38;5;28mround\u001b[39m(ii \u001b[38;5;241m*\u001b[39m jj)) \u001b[38;5;28;01mfor\u001b[39;00m ii, jj \u001b[38;5;129;01min\u001b[39;00m \u001b[38;5;28mzip\u001b[39m(\u001b[38;5;28minput\u001b[39m\u001b[38;5;241m.\u001b[39mshape, zoom)])\n\u001b[1;32m    773\u001b[0m complex_output \u001b[38;5;241m=\u001b[39m numpy\u001b[38;5;241m.\u001b[39miscomplexobj(\u001b[38;5;28minput\u001b[39m)\n\u001b[0;32m--> 774\u001b[0m output \u001b[38;5;241m=\u001b[39m \u001b[43m_ni_support\u001b[49m\u001b[38;5;241;43m.\u001b[39;49m\u001b[43m_get_output\u001b[49m\u001b[43m(\u001b[49m\u001b[43moutput\u001b[49m\u001b[43m,\u001b[49m\u001b[43m \u001b[49m\u001b[38;5;28;43minput\u001b[39;49m\u001b[43m,\u001b[49m\u001b[43m \u001b[49m\u001b[43mshape\u001b[49m\u001b[38;5;241;43m=\u001b[39;49m\u001b[43moutput_shape\u001b[49m\u001b[43m,\u001b[49m\n\u001b[1;32m    775\u001b[0m \u001b[43m                                 \u001b[49m\u001b[43mcomplex_output\u001b[49m\u001b[38;5;241;43m=\u001b[39;49m\u001b[43mcomplex_output\u001b[49m\u001b[43m)\u001b[49m\n\u001b[1;32m    776\u001b[0m \u001b[38;5;28;01mif\u001b[39;00m complex_output:\n\u001b[1;32m    777\u001b[0m     \u001b[38;5;66;03m# import under different name to avoid confusion with zoom parameter\u001b[39;00m\n\u001b[1;32m    778\u001b[0m     \u001b[38;5;28;01mfrom\u001b[39;00m \u001b[38;5;21;01mscipy\u001b[39;00m\u001b[38;5;21;01m.\u001b[39;00m\u001b[38;5;21;01mndimage\u001b[39;00m\u001b[38;5;21;01m.\u001b[39;00m\u001b[38;5;21;01m_interpolation\u001b[39;00m \u001b[38;5;28;01mimport\u001b[39;00m zoom \u001b[38;5;28;01mas\u001b[39;00m _zoom\n",
      "File \u001b[0;32m/usr/local/share/pipeline/lib/python3.10/site-packages/scipy/ndimage/_ni_support.py:78\u001b[0m, in \u001b[0;36m_get_output\u001b[0;34m(output, input, shape, complex_output)\u001b[0m\n\u001b[1;32m     76\u001b[0m \u001b[38;5;28;01mif\u001b[39;00m output \u001b[38;5;129;01mis\u001b[39;00m \u001b[38;5;28;01mNone\u001b[39;00m:\n\u001b[1;32m     77\u001b[0m     \u001b[38;5;28;01mif\u001b[39;00m \u001b[38;5;129;01mnot\u001b[39;00m complex_output:\n\u001b[0;32m---> 78\u001b[0m         output \u001b[38;5;241m=\u001b[39m \u001b[43mnumpy\u001b[49m\u001b[38;5;241;43m.\u001b[39;49m\u001b[43mzeros\u001b[49m\u001b[43m(\u001b[49m\u001b[43mshape\u001b[49m\u001b[43m,\u001b[49m\u001b[43m \u001b[49m\u001b[43mdtype\u001b[49m\u001b[38;5;241;43m=\u001b[39;49m\u001b[38;5;28;43minput\u001b[39;49m\u001b[38;5;241;43m.\u001b[39;49m\u001b[43mdtype\u001b[49m\u001b[38;5;241;43m.\u001b[39;49m\u001b[43mname\u001b[49m\u001b[43m)\u001b[49m\n\u001b[1;32m     79\u001b[0m     \u001b[38;5;28;01melse\u001b[39;00m:\n\u001b[1;32m     80\u001b[0m         complex_type \u001b[38;5;241m=\u001b[39m numpy\u001b[38;5;241m.\u001b[39mpromote_types(\u001b[38;5;28minput\u001b[39m\u001b[38;5;241m.\u001b[39mdtype, numpy\u001b[38;5;241m.\u001b[39mcomplex64)\n",
      "\u001b[0;31mMemoryError\u001b[0m: Unable to allocate 596. GiB for an array with shape (5700, 5556, 10111) and data type uint16"
     ]
    }
   ],
   "source": [
    "from scipy.ndimage import zoom\n",
    "zoomed = zoom(allen_arr, change)\n",
    "print(zoomed.dtype, zoomed.shape)"
   ]
  },
  {
   "cell_type": "code",
   "execution_count": 10,
   "id": "141d2191",
   "metadata": {},
   "outputs": [],
   "source": [
    "outpath = os.path.join(reg_path, 'Allen_8x7.2x7.2um_sagittal.tif')\n",
    "write_image(outpath, zoomed)"
   ]
  }
 ],
 "metadata": {
  "interpreter": {
   "hash": "2bd29f7b10431261d8beeb897d602198a8ccc2be7cc6f93af9f327223ffe0508"
  },
  "kernelspec": {
   "display_name": "Python 3 (ipykernel)",
   "language": "python",
   "name": "python3"
  },
  "language_info": {
   "codemirror_mode": {
    "name": "ipython",
    "version": 3
   },
   "file_extension": ".py",
   "mimetype": "text/x-python",
   "name": "python",
   "nbconvert_exporter": "python",
   "pygments_lexer": "ipython3",
   "version": "3.10.12"
  }
 },
 "nbformat": 4,
 "nbformat_minor": 5
}
