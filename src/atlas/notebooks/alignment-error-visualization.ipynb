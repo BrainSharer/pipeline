{
 "cells": [
  {
   "cell_type": "markdown",
   "id": "a86224cf",
   "metadata": {},
   "source": [
    "# Alignment Error Visualization\n",
    "\n",
    "This notebook collects COM data from the database and tries to quantify some alignment errors. The main results are shown in the plots at the end of the notebook."
   ]
  },
  {
   "cell_type": "code",
   "execution_count": 1,
   "id": "116fa24e",
   "metadata": {},
   "outputs": [
    {
     "name": "stdout",
     "output_type": "stream",
     "text": [
      "/home/eddyod/programming/pipeline/src\n"
     ]
    }
   ],
   "source": [
    "import os\n",
    "import sys\n",
    "from pathlib import Path\n",
    "\n",
    "import numpy as np\n",
    "import pandas as pd\n",
    "from collections import OrderedDict\n",
    "from IPython.display import HTML\n",
    "from itertools import combinations\n",
    "from scipy.ndimage import affine_transform\n",
    "import SimpleITK as sitk\n",
    "\n",
    "\n",
    "PIPELINE_ROOT = Path('./').absolute().parents[1]\n",
    "PIPELINE_ROOT = PIPELINE_ROOT.as_posix()\n",
    "sys.path.append(PIPELINE_ROOT)\n",
    "print(PIPELINE_ROOT)\n"
   ]
  },
  {
   "cell_type": "code",
   "execution_count": 2,
   "id": "45da981f",
   "metadata": {},
   "outputs": [],
   "source": [
    "%load_ext autoreload\n",
    "%autoreload 2"
   ]
  },
  {
   "cell_type": "code",
   "execution_count": 3,
   "id": "299762ca",
   "metadata": {},
   "outputs": [],
   "source": [
    "from library.controller.sql_controller import SqlController\n",
    "from library.image_manipulation.filelocation_manager import FileLocationManager\n",
    "from library.atlas.atlas_utilities import apply_affine_transform, get_affine_transformation, \\\n",
    "fetch_coms, list_coms, compute_affine_transformation\n",
    "from library.atlas.brain_structure_manager import BrainStructureManager\n",
    "from library.utilities.utilities_process import M_UM_SCALE, SCALING_FACTOR, random_string, \\\n",
    "read_image, write_image\n"
   ]
  },
  {
   "cell_type": "code",
   "execution_count": 4,
   "id": "6342efe3-8054-4acd-9dc6-8a5d22d87ba3",
   "metadata": {},
   "outputs": [],
   "source": [
    "def sum_square_com(com):\n",
    "    ss = np.sqrt(sum([s**2 for s in com]))\n",
    "    return ss\n",
    "\n",
    "def apply_affine_transformation(volume, matrix):\n",
    "    \"\"\"Apply an affine transformation to a 3D volume.\"\"\"\n",
    "    transformed_volume = affine_transform(volume, matrix, offset=0, order=1)\n",
    "    return transformed_volume"
   ]
  },
  {
   "cell_type": "code",
   "execution_count": 12,
   "id": "b6548580",
   "metadata": {},
   "outputs": [
    {
     "name": "stdout",
     "output_type": "stream",
     "text": [
      "37\n"
     ]
    }
   ],
   "source": [
    "moving_name = 'AtlasV8'\n",
    "fixed_name = 'Allen'\n",
    "moving_all = list_coms(moving_name, scaling_factor=1)\n",
    "fixed_all = list_coms(fixed_name, scaling_factor=1)\n",
    "common_keys = list(moving_all.keys() & fixed_all.keys())\n",
    "bad_keys = ('RtTg', 'AP')\n",
    "#bad_keys = ('RtTg',)\n",
    "#bad_keys = ()\n",
    "good_keys = set(common_keys) - set(bad_keys)\n",
    "\n",
    "moving_src = np.array([moving_all[s] for s in good_keys])\n",
    "fixed_src = np.array([fixed_all[s] for s in good_keys])\n",
    "print(len(common_keys))"
   ]
  },
  {
   "cell_type": "code",
   "execution_count": 7,
   "id": "e768d131",
   "metadata": {},
   "outputs": [
    {
     "data": {
      "text/plain": [
       "{}"
      ]
     },
     "execution_count": 7,
     "metadata": {},
     "output_type": "execute_result"
    }
   ],
   "source": [
    "fixed_all"
   ]
  },
  {
   "cell_type": "code",
   "execution_count": 13,
   "id": "68804c17",
   "metadata": {},
   "outputs": [
    {
     "name": "stdout",
     "output_type": "stream",
     "text": [
      "[[ 9.72209073e-01 -4.15690120e-02  1.32902967e-02 -1.34232620e+03]\n",
      " [ 1.31329250e-01  1.23381332e+00  7.23778938e-02 -4.42036988e+03]\n",
      " [ 5.65136380e-03 -2.11118227e-02  1.14956036e+00 -2.73811629e+02]\n",
      " [ 0.00000000e+00  0.00000000e+00  0.00000000e+00  1.00000000e+00]]\n"
     ]
    }
   ],
   "source": [
    "#transformation_matrix = get_affine_transformation(moving_name=moving_name, fixed_name=fixed_name, \n",
    "#                                                  scaling_factor=1)\n",
    "transformation_matrix = compute_affine_transformation(moving_src, fixed_src)\n",
    "print(transformation_matrix)"
   ]
  },
  {
   "cell_type": "code",
   "execution_count": 14,
   "id": "8860c495",
   "metadata": {},
   "outputs": [
    {
     "name": "stdout",
     "output_type": "stream",
     "text": [
      "RMS 237.06805950085712\n"
     ]
    }
   ],
   "source": [
    "df_list = []\n",
    "error = []\n",
    "transformed_dict = {}\n",
    "for structure in common_keys:\n",
    "    moving0 = np.array(moving_all[structure])\n",
    "    fixed0 = np.array(fixed_all[structure]) \n",
    "    transformed = apply_affine_transform(moving0, transformation_matrix)\n",
    "    transformed = [x for x in transformed]\n",
    "    difference = [a - b for a, b in zip(transformed, fixed0)]\n",
    "    ss = sum_square_com(difference)\n",
    "    row = [structure, np.round(moving0), np.round(fixed0), \n",
    "           np.round(transformed), np.round(difference), ss]\n",
    "    df_list.append(row)\n",
    "    error.append(ss)\n",
    "    transformed_dict[structure] = transformed\n",
    "print('RMS', sum(error)/len(df_list))\n",
    "# MD589 to Allen RMS 260.0211852431133\n",
    "# MD585 to Allen RMS 263.314352291951\n",
    "# MD594 to Allen RMS 250.79820210419254\n",
    "# AtlasV8 disk to Allen RMS 237.0680595008574\n",
    "# MD585 to MD589 RMS 18.2658167690059"
   ]
  },
  {
   "cell_type": "code",
   "execution_count": 11,
   "id": "4e7b269b",
   "metadata": {},
   "outputs": [
    {
     "name": "stdout",
     "output_type": "stream",
     "text": [
      "AtlasV8 SC non trans [10949.  3924.  5199.]\n",
      "AtlasV8 SC apply trans [9209. 2235. 5682.]\n",
      "Allen SC [9140. 2388. 5692.]\n",
      "AtlasV8-Allen SC [  68. -153.  -11.]\n"
     ]
    }
   ],
   "source": [
    "#transformation_matrix = np.hstack([transformation_matrix, t])\n",
    "#transformation_matrix = np.vstack([transformation_matrix, np.array([0, 0, 0, 1])])\n",
    "#print(transformation_matrix)\n",
    "structure = 'SC'\n",
    "try:\n",
    "    com = moving_all[structure]\n",
    "except KeyError:\n",
    "    structure = common_keys[0]\n",
    "    com = moving_all[structure]\n",
    "#com = [1095, 392, 519]\n",
    "print(f'{moving_name} {structure} non trans {np.round(np.array(com))}')\n",
    "transformed_structure = apply_affine_transform(com, transformation_matrix)\n",
    "print(f'{moving_name} {structure} apply trans {np.round(transformed_structure/1)}')\n",
    "print(f'{fixed_name} {structure} {np.round(np.array(fixed_all[structure]))}')\n",
    "diff = transformed_structure - fixed_all[structure]\n",
    "print(f'{moving_name}-{fixed_name} {structure} {np.round(diff)}')\n"
   ]
  },
  {
   "cell_type": "code",
   "execution_count": null,
   "id": "9d3a9a9a",
   "metadata": {
    "scrolled": true
   },
   "outputs": [],
   "source": [
    "columns = ['structure', moving_name, fixed_name, 'transformed', 'difference', 'sumsquares']\n",
    "df = pd.DataFrame(df_list, columns=columns)\n",
    "df.index.name = 'Index'\n",
    "df = df.round(4)\n",
    "df.sort_values(by=['sumsquares'], inplace=True)\n",
    "#df.to_csv('/home/eddyod/programming/pipeline/docs/sphinx/source/_static/results.csv', index=False)\n",
    "df.head(50)"
   ]
  },
  {
   "cell_type": "code",
   "execution_count": null,
   "id": "69e04b18",
   "metadata": {},
   "outputs": [],
   "source": [
    "com_um = np.array([11339,  4729,  4288.])\n",
    "origin_allen = np.array([1013, 406, 254])\n",
    "test_com = np.array([121,  67, 175])\n",
    "scale = np.array([0.452, 0.452, 20])\n",
    "origin_neuro = origin_um / scale\n",
    "volume_shape = np.array([158, 102, 182])\n",
    "xy_resolution = 0.452\n",
    "SCALING_FACTOR = 32\n",
    "scale0 = np.array([xy_resolution*SCALING_FACTOR, xy_resolution*SCALING_FACTOR, 20])\n",
    "allen_um = np.array([10,10,10])\n",
    "scale_allen = scale0 / allen_um"
   ]
  },
  {
   "cell_type": "code",
   "execution_count": null,
   "id": "1316b7d1",
   "metadata": {},
   "outputs": [],
   "source": [
    "volume_shape = np.array([158, 102, 182])\n",
    "xy_resolution = 0.452\n",
    "SCALING_FACTOR = 20\n",
    "to_um = np.array([0.452*32, 0.452*32, 20])\n",
    "(volume_shape * to_um) / SCALING_FACTOR"
   ]
  }
 ],
 "metadata": {
  "interpreter": {
   "hash": "2bd29f7b10431261d8beeb897d602198a8ccc2be7cc6f93af9f327223ffe0508"
  },
  "kernelspec": {
   "display_name": "Python 3 (ipykernel)",
   "language": "python",
   "name": "python3"
  },
  "language_info": {
   "codemirror_mode": {
    "name": "ipython",
    "version": 3
   },
   "file_extension": ".py",
   "mimetype": "text/x-python",
   "name": "python",
   "nbconvert_exporter": "python",
   "pygments_lexer": "ipython3",
   "version": "3.10.12"
  }
 },
 "nbformat": 4,
 "nbformat_minor": 5
}
