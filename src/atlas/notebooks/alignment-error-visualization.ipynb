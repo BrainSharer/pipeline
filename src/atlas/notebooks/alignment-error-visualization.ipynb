{
 "cells": [
  {
   "cell_type": "markdown",
   "id": "a86224cf",
   "metadata": {},
   "source": [
    "# Alignment Error Visualization\n",
    "\n",
    "This notebook collects COM data from the database and tries to quantify some alignment errors. The main results are shown in the plots at the end of the notebook."
   ]
  },
  {
   "cell_type": "code",
   "execution_count": 1,
   "id": "116fa24e",
   "metadata": {},
   "outputs": [
    {
     "name": "stdout",
     "output_type": "stream",
     "text": [
      "/home/eddyod/programming/pipeline/src\n"
     ]
    }
   ],
   "source": [
    "import os\n",
    "import sys\n",
    "from pathlib import Path\n",
    "\n",
    "import numpy as np\n",
    "import pandas as pd\n",
    "from collections import OrderedDict\n",
    "from IPython.display import HTML\n",
    "from itertools import combinations\n",
    "from scipy.ndimage import affine_transform\n",
    "\n",
    "\n",
    "PIPELINE_ROOT = Path('./').absolute().parents[1]\n",
    "PIPELINE_ROOT = PIPELINE_ROOT.as_posix()\n",
    "sys.path.append(PIPELINE_ROOT)\n",
    "print(PIPELINE_ROOT)\n"
   ]
  },
  {
   "cell_type": "code",
   "execution_count": 2,
   "id": "45da981f",
   "metadata": {},
   "outputs": [],
   "source": [
    "%load_ext autoreload\n",
    "%autoreload 2"
   ]
  },
  {
   "cell_type": "code",
   "execution_count": 3,
   "id": "299762ca",
   "metadata": {},
   "outputs": [
    {
     "name": "stdout",
     "output_type": "stream",
     "text": [
      "XGBoost Version: 2.1.4\n"
     ]
    }
   ],
   "source": [
    "from library.controller.sql_controller import SqlController\n",
    "from library.image_manipulation.filelocation_manager import FileLocationManager\n",
    "from library.atlas.atlas_utilities import apply_affine_transform, get_affine_transformation, \\\n",
    "fetch_coms, list_coms, compute_affine_transformation\n",
    "from library.atlas.brain_structure_manager import BrainStructureManager\n",
    "from library.utilities.utilities_process import M_UM_SCALE, SCALING_FACTOR, random_string, \\\n",
    "read_image, write_image\n"
   ]
  },
  {
   "cell_type": "code",
   "execution_count": 4,
   "id": "6342efe3-8054-4acd-9dc6-8a5d22d87ba3",
   "metadata": {},
   "outputs": [],
   "source": [
    "def sum_square_com(com):\n",
    "    ss = np.sqrt(sum([s**2 for s in com]))\n",
    "    return ss\n",
    "\n",
    "def apply_affine_transformation(volume, matrix):\n",
    "    \"\"\"Apply an affine transformation to a 3D volume.\"\"\"\n",
    "    transformed_volume = affine_transform(volume, matrix, offset=0, order=1)\n",
    "    return transformed_volume\n",
    "\n",
    "import numpy as np\n",
    "from scipy.spatial.transform import Rotation as R\n",
    "\n",
    "def euler_to_rigid_transform(euler_transform, rotation_order='xyz', degrees=False):\n",
    "    \"\"\"\n",
    "    Converts a 6-variable Euler transform to a 4x4 rigid transformation matrix.\n",
    "    \n",
    "    Parameters:\n",
    "        euler_transform (list or np.ndarray): A list or array of 6 values.\n",
    "                                              The first 3 are rotation (rx, ry, rz),\n",
    "                                              the last 3 are translation (tx, ty, tz).\n",
    "        rotation_order (str): Order of Euler rotations (default 'xyz').\n",
    "        degrees (bool): Whether the input rotation angles are in degrees. Default is radians.\n",
    "\n",
    "    Returns:\n",
    "        np.ndarray: A 4x4 rigid transformation matrix.\n",
    "    \"\"\"\n",
    "    assert len(euler_transform) == 6, \"Euler transform must have 6 elements\"\n",
    "\n",
    "    rot_angles = euler_transform[:3]\n",
    "    translation = euler_transform[3:]\n",
    "\n",
    "    # Create rotation matrix\n",
    "    rotation = R.from_euler(rotation_order, rot_angles, degrees=degrees)\n",
    "    rot_matrix = rotation.as_matrix()\n",
    "\n",
    "    # Construct 4x4 transformation matrix\n",
    "    transform = np.eye(4)\n",
    "    transform[:3, :3] = rot_matrix\n",
    "    transform[:3, 3] = translation\n",
    "\n",
    "    return transform\n",
    "# Example usage:\n"
   ]
  },
  {
   "cell_type": "code",
   "execution_count": null,
   "id": "b6548580",
   "metadata": {},
   "outputs": [],
   "source": [
    "moving_name = 'DK78'\n",
    "fixed_name = 'MD589'\n",
    "\n",
    "moving_all = list_coms(moving_name, scaling_factor=10)\n",
    "fixed_all = list_coms(fixed_name, scaling_factor=1)\n",
    "\n",
    "common_keys = list(moving_all.keys() & fixed_all.keys())\n",
    "print(f'{moving_name} len={len(moving_all.keys())}')\n",
    "print(f'{fixed_name} len={len(fixed_all.keys())}')\n",
    "\n",
    "print(len(common_keys))"
   ]
  },
  {
   "cell_type": "code",
   "execution_count": null,
   "id": "88ba5a47",
   "metadata": {},
   "outputs": [],
   "source": [
    "# these keys have very high errors: 'RtTg', 'AP'\n",
    "midbrain_keys = {\n",
    "            \"3N_L\",\n",
    "            \"3N_R\",\n",
    "            \"4N_L\",\n",
    "            \"4N_R\",\n",
    "            \"IC\",\n",
    "            \"PBG_L\",\n",
    "            \"PBG_R\",\n",
    "            \"SC\",\n",
    "            \"SNC_L\",\n",
    "            \"SNC_R\",\n",
    "            \"SNR_L\",\n",
    "            \"SNR_R\",\n",
    "        }\n",
    "bad_keys = ('RtTg', 'AP', '3N_L', '3N_R')\n",
    "bad_keys = ('RtTg', 'AP')\n",
    "#bad_keys = ('RtTg',)\n",
    "bad_keys = ()\n",
    "good_keys = set(common_keys) - set(bad_keys)\n",
    "print(f'#good_keys={len(good_keys)}')\n",
    "print(good_keys)"
   ]
  },
  {
   "cell_type": "code",
   "execution_count": 20,
   "id": "ec1aac4f",
   "metadata": {},
   "outputs": [
    {
     "name": "stdout",
     "output_type": "stream",
     "text": [
      "array([[ 8.88575421e-01, -4.57335265e-01,  3.57515908e-02,\n",
      "        -2.35788051e+02],\n",
      "       [ 4.58688870e-01,  8.86842829e-01, -5.58060647e-02,\n",
      "        -1.69603207e+02],\n",
      "       [-6.18396059e-03,  6.59867543e-02,  9.97801336e-01,\n",
      "         3.68774080e+01],\n",
      "       [ 0.00000000e+00,  0.00000000e+00,  0.00000000e+00,\n",
      "         1.00000000e+00]])\n",
      "(3, 3)\n"
     ]
    }
   ],
   "source": [
    "euler = [-0.071714, -0.036631, -0.476278, 326.744936, 115.845161, -47.838387]\n",
    "reuler = [0.066036, 0.006184, 0.476529, -235.788051, -169.603207, 36.877408]\n",
    "transformation_matrix = euler_to_rigid_transform(reuler, degrees=False)\n",
    "#print(\"Rigid Transformation Matrix:\\n\", T)\n",
    "print(repr(transformation_matrix))\n",
    "A = transformation_matrix[:3, :3]\n",
    "print(A.shape)"
   ]
  },
  {
   "cell_type": "code",
   "execution_count": 21,
   "id": "3082ea73",
   "metadata": {},
   "outputs": [
    {
     "name": "stdout",
     "output_type": "stream",
     "text": [
      "[535 666 515]\n",
      "[-47. 638. 591.]\n"
     ]
    }
   ],
   "source": [
    "# Apply affine transformation\n",
    "# Apply affine transformation\n",
    "origin = np.array([535, 666, 515])\n",
    "torigin = np.array([1108,  502,  437])\n",
    "print(origin)\n",
    "#print(origin + translation/10)\n",
    "#transformation_matrix = np.linalg.inv(transformation_matrix)\n",
    "trans_origin = apply_affine_transform(origin, transformation_matrix)\n",
    "print(np.round(trans_origin))\n",
    "# 100,10\n",
    "#[884 697 296]\n",
    "#[718. 778. 224.]\n",
    "# 25um calc [920. 415. 459.]\n",
    "# inv or reuler = [1065.  420.  458.]"
   ]
  },
  {
   "cell_type": "code",
   "execution_count": null,
   "id": "8860c495",
   "metadata": {},
   "outputs": [],
   "source": [
    "df_list = []\n",
    "error = []\n",
    "transformed_dict = {}\n",
    "for structure in common_keys:\n",
    "    moving0 = np.array(moving_all[structure])\n",
    "    fixed0 = np.array(fixed_all[structure]) \n",
    "    transformed = apply_affine_transform(moving0, transformation_matrix)\n",
    "    transformed = [x for x in transformed]\n",
    "    difference = [a - b for a, b in zip(transformed, fixed0)]\n",
    "    ss = sum_square_com(difference)\n",
    "    row = [structure, np.round(moving0), np.round(fixed0), \n",
    "           np.round(transformed), np.round(difference), ss]\n",
    "    df_list.append(row)\n",
    "    error.append(ss)\n",
    "    transformed_dict[structure] = transformed\n",
    "print('RMS', sum(error)/len(df_list))\n",
    "# MD589 to Allen RMS 260.0211852431133\n",
    "# MD585 to Allen RMS 263.314352291951\n",
    "# MD594 to Allen RMS 250.79820210419254\n",
    "# AtlasV8 disk to Allen RMS 237.0680595008574\n",
    "# MD585 to MD589 RMS 18.2658167690059"
   ]
  },
  {
   "cell_type": "code",
   "execution_count": null,
   "id": "4e7b269b",
   "metadata": {},
   "outputs": [],
   "source": [
    "structure = 'SC'\n",
    "try:\n",
    "    com = moving_all[structure]\n",
    "except KeyError:\n",
    "    structure = common_keys[0]\n",
    "    com = moving_all[structure]\n",
    "transformed_structure = apply_affine_transform(com, transformation_matrix)\n",
    "print(f'{moving_name} {structure} {np.round(np.array(com))}')\n",
    "print(f'{fixed_name} {structure} {np.round(np.array(fixed_all[structure]))}')\n",
    "print(f'{moving_name} transformed {structure} {np.round(np.array(transformed_dict[structure]))}')\n",
    "#print(f'neuro res {moving_name} {structure} {np.round(com)}')\n"
   ]
  },
  {
   "cell_type": "code",
   "execution_count": null,
   "id": "9d3a9a9a",
   "metadata": {
    "scrolled": true
   },
   "outputs": [],
   "source": [
    "columns = ['structure', moving_name, fixed_name, 'transformed', 'difference', 'sumsquares']\n",
    "df = pd.DataFrame(df_list, columns=columns)\n",
    "df.index.name = 'Index'\n",
    "df = df.round(4)\n",
    "df.sort_values(by=['sumsquares'], inplace=True)\n",
    "HTML(df.to_html(index=False))"
   ]
  }
 ],
 "metadata": {
  "interpreter": {
   "hash": "2bd29f7b10431261d8beeb897d602198a8ccc2be7cc6f93af9f327223ffe0508"
  },
  "kernelspec": {
   "display_name": "Python 3 (ipykernel)",
   "language": "python",
   "name": "python3"
  },
  "language_info": {
   "codemirror_mode": {
    "name": "ipython",
    "version": 3
   },
   "file_extension": ".py",
   "mimetype": "text/x-python",
   "name": "python",
   "nbconvert_exporter": "python",
   "pygments_lexer": "ipython3",
   "version": "3.10.12"
  }
 },
 "nbformat": 4,
 "nbformat_minor": 5
}
