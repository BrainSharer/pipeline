{
 "cells": [
  {
   "cell_type": "markdown",
   "id": "a86224cf",
   "metadata": {},
   "source": [
    "# Alignment Error Visualization\n",
    "\n",
    "This notebook collects COM data from the database and tries to quantify some alignment errors. The main results are shown in the plots at the end of the notebook."
   ]
  },
  {
   "cell_type": "code",
   "execution_count": 1,
   "id": "116fa24e",
   "metadata": {},
   "outputs": [
    {
     "name": "stdout",
     "output_type": "stream",
     "text": [
      "/home/eddyod/programming/pipeline/src\n"
     ]
    }
   ],
   "source": [
    "import os\n",
    "import sys\n",
    "from pathlib import Path\n",
    "\n",
    "import numpy as np\n",
    "import pandas as pd\n",
    "from collections import OrderedDict\n",
    "from IPython.display import HTML\n",
    "from itertools import combinations\n",
    "\n",
    "PIPELINE_ROOT = Path('./').absolute().parents[1]\n",
    "PIPELINE_ROOT = PIPELINE_ROOT.as_posix()\n",
    "sys.path.append(PIPELINE_ROOT)\n",
    "print(PIPELINE_ROOT)\n"
   ]
  },
  {
   "cell_type": "code",
   "execution_count": 2,
   "id": "299762ca",
   "metadata": {},
   "outputs": [
    {
     "name": "stdout",
     "output_type": "stream",
     "text": [
      "XGBoost Version: 2.1.4\n"
     ]
    }
   ],
   "source": [
    "from library.controller.sql_controller import SqlController\n",
    "from library.image_manipulation.filelocation_manager import FileLocationManager\n",
    "from library.atlas.atlas_utilities import apply_affine_transform, get_affine_transformation, list_coms, \\\n",
    "    compute_affine_transformation, compute_affine_transformation_centroid\n",
    "from library.atlas.brain_structure_manager import BrainStructureManager\n",
    "from library.utilities.utilities_process import M_UM_SCALE, SCALING_FACTOR, random_string, \\\n",
    "read_image, write_image\n"
   ]
  },
  {
   "cell_type": "code",
   "execution_count": 3,
   "id": "6342efe3-8054-4acd-9dc6-8a5d22d87ba3",
   "metadata": {},
   "outputs": [],
   "source": [
    "def absolute_sum(l):\n",
    "    la = np.array(l)\n",
    "    nabs = (np.array(la*la))\n",
    "    return np.sum(la, axis=0)\n",
    "\n",
    "def sum_square_com(com):\n",
    "    ss = np.sqrt(sum([s*s for s in com]))\n",
    "    return ss"
   ]
  },
  {
   "cell_type": "code",
   "execution_count": 4,
   "id": "b6548580",
   "metadata": {},
   "outputs": [
    {
     "name": "stdout",
     "output_type": "stream",
     "text": [
      "37\n"
     ]
    }
   ],
   "source": [
    "atlas_all = list_coms('AtlasV8')\n",
    "allen_all = list_coms('Allen')\n",
    "common_keys = list(atlas_all.keys() & allen_all.keys())\n",
    "atlas_common = np.array([atlas_all[s] for s in common_keys])\n",
    "allen_common = np.array([allen_all[s] for s in common_keys])\n",
    "print(len(common_keys))"
   ]
  },
  {
   "cell_type": "code",
   "execution_count": 5,
   "id": "88ba5a47",
   "metadata": {},
   "outputs": [
    {
     "name": "stdout",
     "output_type": "stream",
     "text": [
      "#good_keys=35\n"
     ]
    }
   ],
   "source": [
    "# these keys have very high errors: 'RtTg', 'AP'\n",
    "bad_keys = ('RtTg', 'AP')\n",
    "good_keys = set(common_keys) - set(bad_keys)\n",
    "print(f'#good_keys={len(good_keys)}')"
   ]
  },
  {
   "cell_type": "code",
   "execution_count": 6,
   "id": "ec1aac4f",
   "metadata": {},
   "outputs": [],
   "source": [
    "atlas_src = np.array([atlas_all[s] for s in good_keys])\n",
    "allen_src = np.array([allen_all[s] for s in good_keys])\n",
    "transformation_matrix = compute_affine_transformation(atlas_src, allen_src)"
   ]
  },
  {
   "cell_type": "code",
   "execution_count": 7,
   "id": "8860c495",
   "metadata": {},
   "outputs": [
    {
     "name": "stdout",
     "output_type": "stream",
     "text": [
      "RMS 279.1794858635526\n"
     ]
    }
   ],
   "source": [
    "df_list = []\n",
    "error = []\n",
    "transformed_dict = {}\n",
    "for structure in common_keys:\n",
    "    atlas0 = np.array(atlas_all[structure])\n",
    "    allen0 = np.array(allen_all[structure]) \n",
    "    transformed = apply_affine_transform(atlas0, transformation_matrix)\n",
    "    transformed = [x for x in transformed]\n",
    "    difference = [a - b for a, b in zip(transformed, allen0)]\n",
    "    ss = sum_square_com(difference)\n",
    "    row = [structure, np.round(atlas0), np.round(allen0), \n",
    "           np.round(transformed), np.round(difference), ss]\n",
    "    df_list.append(row)\n",
    "    error.append(ss)\n",
    "    transformed_dict[structure] = transformed\n",
    "print('RMS', sum(error)/len(df_list))\n",
    "# test keys RMS 25.61709479307028\n",
    "# base keys RMS 25.602246865972344"
   ]
  },
  {
   "cell_type": "code",
   "execution_count": null,
   "id": "4e7b269b",
   "metadata": {},
   "outputs": [],
   "source": [
    "structure = 'SC'\n",
    "print(f'Atlas {structure} {np.round(np.array(atlas_all[structure]))}')\n",
    "print(f'Allen {structure} {np.round(np.array(allen_all[structure]))}')\n",
    "print(f'Atlas transformed {structure} {np.round(np.array(transformed_dict[structure]))}')"
   ]
  },
  {
   "cell_type": "code",
   "execution_count": null,
   "id": "9d3a9a9a",
   "metadata": {
    "scrolled": true
   },
   "outputs": [],
   "source": [
    "columns = ['structure', 'atlas0', 'allen0', 'transformed', 'difference', 'sumsquares']\n",
    "df = pd.DataFrame(df_list, columns=columns)\n",
    "df.index.name = 'Index'\n",
    "df = df.round(2)\n",
    "df.sort_values(by=['sumsquares'], inplace=True)\n",
    "HTML(df.to_html(index=False))"
   ]
  },
  {
   "cell_type": "code",
   "execution_count": null,
   "id": "2af81b8e",
   "metadata": {},
   "outputs": [],
   "source": [
    "df['sumsquares'].sum()/len(df.index)\n",
    "# 259.96675675675675\n",
    "# 252.11243243243237"
   ]
  },
  {
   "cell_type": "code",
   "execution_count": null,
   "id": "b98874cd",
   "metadata": {},
   "outputs": [],
   "source": [
    "for threshold in range(100,550, 25):\n",
    "    good_keys = df.query(f'sumsquares < {threshold}')['structure']\n",
    "    good_keys = good_keys.to_list()\n",
    "    atlas_src = np.array([atlas_all[s] for s in good_keys])\n",
    "    allen_src = np.array([allen_all[s] for s in good_keys])\n",
    "    transformation_matrix = compute_affine_transformation(atlas_src, allen_src)\n",
    "    error = []\n",
    "    for structure in common_keys:\n",
    "        atlas0 = np.array(atlas_all[structure])\n",
    "        allen0 = np.array(allen_all[structure]) \n",
    "        transformed = apply_affine_transform(atlas0, transformation_matrix)\n",
    "        transformed = [x for x in transformed]\n",
    "        difference = [a - b for a, b in zip(transformed, allen0)]\n",
    "        ss = sum_square_com(difference)\n",
    "        error.append(ss)\n",
    "    bad_keys = set(common_keys) - set(good_keys)\n",
    "    print(f'RMS {threshold} keys remove={len(bad_keys)}keys, error={round(sum(error)/len(common_keys),2)}')\n",
    "#"
   ]
  }
 ],
 "metadata": {
  "interpreter": {
   "hash": "2bd29f7b10431261d8beeb897d602198a8ccc2be7cc6f93af9f327223ffe0508"
  },
  "kernelspec": {
   "display_name": "Python 3 (ipykernel)",
   "language": "python",
   "name": "python3"
  },
  "language_info": {
   "codemirror_mode": {
    "name": "ipython",
    "version": 3
   },
   "file_extension": ".py",
   "mimetype": "text/x-python",
   "name": "python",
   "nbconvert_exporter": "python",
   "pygments_lexer": "ipython3",
   "version": "3.10.12"
  }
 },
 "nbformat": 4,
 "nbformat_minor": 5
}
