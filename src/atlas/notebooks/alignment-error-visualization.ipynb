{
 "cells": [
  {
   "cell_type": "markdown",
   "id": "a86224cf",
   "metadata": {},
   "source": [
    "# Alignment Error Visualization\n",
    "\n",
    "This notebook collects COM data from the database and tries to quantify some alignment errors. The main results are shown in the plots at the end of the notebook."
   ]
  },
  {
   "cell_type": "code",
   "execution_count": 1,
   "id": "116fa24e",
   "metadata": {},
   "outputs": [
    {
     "name": "stdout",
     "output_type": "stream",
     "text": [
      "/home/eddyod/programming/pipeline/src\n"
     ]
    }
   ],
   "source": [
    "import os\n",
    "import sys\n",
    "from pathlib import Path\n",
    "\n",
    "import numpy as np\n",
    "import pandas as pd\n",
    "from collections import OrderedDict\n",
    "from IPython.display import HTML\n",
    "from itertools import combinations\n",
    "from scipy.ndimage import affine_transform\n",
    "\n",
    "\n",
    "PIPELINE_ROOT = Path('./').absolute().parents[1]\n",
    "PIPELINE_ROOT = PIPELINE_ROOT.as_posix()\n",
    "sys.path.append(PIPELINE_ROOT)\n",
    "print(PIPELINE_ROOT)\n"
   ]
  },
  {
   "cell_type": "code",
   "execution_count": 2,
   "id": "45da981f",
   "metadata": {},
   "outputs": [],
   "source": [
    "%load_ext autoreload\n",
    "%autoreload 2"
   ]
  },
  {
   "cell_type": "code",
   "execution_count": 3,
   "id": "299762ca",
   "metadata": {},
   "outputs": [
    {
     "name": "stdout",
     "output_type": "stream",
     "text": [
      "XGBoost Version: 2.1.4\n"
     ]
    }
   ],
   "source": [
    "from library.controller.sql_controller import SqlController\n",
    "from library.image_manipulation.filelocation_manager import FileLocationManager\n",
    "from library.atlas.atlas_utilities import apply_affine_transform, get_affine_transformation, \\\n",
    "fetch_coms, list_coms, compute_affine_transformation\n",
    "from library.atlas.brain_structure_manager import BrainStructureManager\n",
    "from library.utilities.utilities_process import M_UM_SCALE, SCALING_FACTOR, random_string, \\\n",
    "read_image, write_image\n"
   ]
  },
  {
   "cell_type": "code",
   "execution_count": 4,
   "id": "6342efe3-8054-4acd-9dc6-8a5d22d87ba3",
   "metadata": {},
   "outputs": [],
   "source": [
    "def sum_square_com(com):\n",
    "    ss = np.sqrt(sum([s**2 for s in com]))\n",
    "    return ss\n",
    "\n",
    "def apply_affine_transformation(volume, matrix):\n",
    "    \"\"\"Apply an affine transformation to a 3D volume.\"\"\"\n",
    "    transformed_volume = affine_transform(volume, matrix, offset=0, order=1)\n",
    "    return transformed_volume\n"
   ]
  },
  {
   "cell_type": "code",
   "execution_count": 124,
   "id": "b6548580",
   "metadata": {},
   "outputs": [
    {
     "name": "stdout",
     "output_type": "stream",
     "text": [
      "DK55 len=28\n",
      "MD589 len=51\n",
      "28\n"
     ]
    }
   ],
   "source": [
    "moving_name = 'DK55'\n",
    "fixed_name = 'MD589'\n",
    "\n",
    "moving_all = list_coms(moving_name, scaling_factor=10)\n",
    "fixed_all = fetch_coms(fixed_name, scaling_factor=10)\n",
    "\n",
    "common_keys = list(moving_all.keys() & fixed_all.keys())\n",
    "print(f'{moving_name} len={len(moving_all.keys())}')\n",
    "print(f'{fixed_name} len={len(fixed_all.keys())}')\n",
    "\n",
    "print(len(common_keys))"
   ]
  },
  {
   "cell_type": "code",
   "execution_count": 125,
   "id": "88ba5a47",
   "metadata": {},
   "outputs": [
    {
     "name": "stdout",
     "output_type": "stream",
     "text": [
      "#good_keys=28\n",
      "{'3N_L', 'DC_R', '7N_R', 'Pn_R', '6N_R', 'LC_R', 'Pn_L', '3N_R', 'Tz_R', 'Amb_R', '5N_L', 'LRt_R', '7N_L', 'LC_L', 'AP', 'DC_L', '7n_L', 'LRt_L', '4N_L', 'Amb_L', 'PBG_L', '5N_R', '6N_L', '10N_R', 'PBG_R', 'Tz_L', '10N_L', '4N_R'}\n"
     ]
    }
   ],
   "source": [
    "# these keys have very high errors: 'RtTg', 'AP'\n",
    "midbrain_keys = {\n",
    "            \"3N_L\",\n",
    "            \"3N_R\",\n",
    "            \"4N_L\",\n",
    "            \"4N_R\",\n",
    "            \"IC\",\n",
    "            \"PBG_L\",\n",
    "            \"PBG_R\",\n",
    "            \"SC\",\n",
    "            \"SNC_L\",\n",
    "            \"SNC_R\",\n",
    "            \"SNR_L\",\n",
    "            \"SNR_R\",\n",
    "        }\n",
    "bad_keys = ('RtTg', 'AP', '3N_L', '3N_R')\n",
    "bad_keys = ('RtTg', 'AP')\n",
    "#bad_keys = ('RtTg',)\n",
    "bad_keys = ()\n",
    "good_keys = set(common_keys) - set(bad_keys)\n",
    "print(f'#good_keys={len(good_keys)}')\n",
    "print(good_keys)"
   ]
  },
  {
   "cell_type": "code",
   "execution_count": 126,
   "id": "ec1aac4f",
   "metadata": {},
   "outputs": [
    {
     "name": "stdout",
     "output_type": "stream",
     "text": [
      "array([[ 8.93677412e-01, -2.03796713e-01, -2.43450053e-02,\n",
      "         1.99269034e+02],\n",
      "       [ 2.48660431e-01,  7.88047942e-01, -6.08070992e-02,\n",
      "        -5.16511628e+01],\n",
      "       [-9.52325276e-02, -5.32330406e-02,  9.34198206e-01,\n",
      "         1.29293242e+02],\n",
      "       [ 0.00000000e+00,  0.00000000e+00,  0.00000000e+00,\n",
      "         1.00000000e+00]])\n"
     ]
    }
   ],
   "source": [
    "moving_src = np.array([moving_all[s] for s in good_keys])\n",
    "fixed_src = np.array([fixed_all[s] for s in good_keys])\n",
    "transformation_matrix = compute_affine_transformation(moving_src, fixed_src)\n",
    "print(repr(transformation_matrix))"
   ]
  },
  {
   "cell_type": "code",
   "execution_count": 127,
   "id": "89e8256b",
   "metadata": {},
   "outputs": [
    {
     "name": "stdout",
     "output_type": "stream",
     "text": [
      "[884 697 296]\n",
      "[840. 699. 285.]\n"
     ]
    }
   ],
   "source": [
    "# Apply affine transformation\n",
    "# Apply affine transformation\n",
    "origin = np.array([884, 697, 296])\n",
    "print(origin)\n",
    "trans_origin = apply_affine_transform(origin, transformation_matrix)\n",
    "print(np.round(trans_origin))\n",
    "# 100,10\n",
    "#[884 697 296]\n",
    "#[718. 778. 224.]"
   ]
  },
  {
   "cell_type": "code",
   "execution_count": 128,
   "id": "8860c495",
   "metadata": {},
   "outputs": [
    {
     "name": "stdout",
     "output_type": "stream",
     "text": [
      "RMS 32.56014058927723\n"
     ]
    }
   ],
   "source": [
    "df_list = []\n",
    "error = []\n",
    "transformed_dict = {}\n",
    "for structure in common_keys:\n",
    "    moving0 = np.array(moving_all[structure])\n",
    "    fixed0 = np.array(fixed_all[structure]) \n",
    "    transformed = apply_affine_transform(moving0, transformation_matrix)\n",
    "    transformed = [x for x in transformed]\n",
    "    difference = [a - b for a, b in zip(transformed, fixed0)]\n",
    "    ss = sum_square_com(difference)\n",
    "    row = [structure, np.round(moving0), np.round(fixed0), \n",
    "           np.round(transformed), np.round(difference), ss]\n",
    "    df_list.append(row)\n",
    "    error.append(ss)\n",
    "    transformed_dict[structure] = transformed\n",
    "print('RMS', sum(error)/len(df_list))\n",
    "# MD589 to Allen RMS 260.0211852431133\n",
    "# MD585 to Allen RMS 263.314352291951\n",
    "# MD594 to Allen RMS 250.79820210419254\n",
    "# AtlasV8 disk to Allen RMS 237.0680595008574\n",
    "# MD585 to MD589 RMS 18.2658167690059"
   ]
  },
  {
   "cell_type": "code",
   "execution_count": 129,
   "id": "4e7b269b",
   "metadata": {},
   "outputs": [
    {
     "name": "stdout",
     "output_type": "stream",
     "text": [
      "DK55 3N_L [1121.  501.  462.]\n",
      "MD589 3N_L [1084.  596.  425.]\n",
      "DK55 transformed 3N_L [1088.  593.  428.]\n"
     ]
    }
   ],
   "source": [
    "structure = 'SC'\n",
    "try:\n",
    "    com = moving_all[structure]\n",
    "except KeyError:\n",
    "    structure = common_keys[0]\n",
    "    com = moving_all[structure]\n",
    "transformed_structure = apply_affine_transform(com, transformation_matrix)\n",
    "print(f'{moving_name} {structure} {np.round(np.array(com))}')\n",
    "print(f'{fixed_name} {structure} {np.round(np.array(fixed_all[structure]))}')\n",
    "print(f'{moving_name} transformed {structure} {np.round(np.array(transformed_dict[structure]))}')\n",
    "#print(f'neuro res {moving_name} {structure} {np.round(com)}')\n"
   ]
  },
  {
   "cell_type": "code",
   "execution_count": 130,
   "id": "9d3a9a9a",
   "metadata": {
    "scrolled": true
   },
   "outputs": [
    {
     "data": {
      "text/html": [
       "<table border=\"1\" class=\"dataframe\">\n",
       "  <thead>\n",
       "    <tr style=\"text-align: right;\">\n",
       "      <th>structure</th>\n",
       "      <th>DK55</th>\n",
       "      <th>MD589</th>\n",
       "      <th>transformed</th>\n",
       "      <th>difference</th>\n",
       "      <th>sumsquares</th>\n",
       "    </tr>\n",
       "  </thead>\n",
       "  <tbody>\n",
       "    <tr>\n",
       "      <td>3N_L</td>\n",
       "      <td>[1121.0, 501.0, 462.0]</td>\n",
       "      <td>[1084.0, 596.0, 425.0]</td>\n",
       "      <td>[1088.0, 593.0, 428.0]</td>\n",
       "      <td>[4.0, -2.0, 3.0]</td>\n",
       "      <td>5.2172</td>\n",
       "    </tr>\n",
       "    <tr>\n",
       "      <td>7N_R</td>\n",
       "      <td>[1293.0, 718.0, 630.0]</td>\n",
       "      <td>[1195.0, 807.0, 552.0]</td>\n",
       "      <td>[1193.0, 798.0, 556.0]</td>\n",
       "      <td>[-2.0, -10.0, 4.0]</td>\n",
       "      <td>10.7644</td>\n",
       "    </tr>\n",
       "    <tr>\n",
       "      <td>LC_L</td>\n",
       "      <td>[1258.0, 531.0, 396.0]</td>\n",
       "      <td>[1195.0, 652.0, 353.0]</td>\n",
       "      <td>[1206.0, 656.0, 351.0]</td>\n",
       "      <td>[11.0, 3.0, -1.0]</td>\n",
       "      <td>12.0008</td>\n",
       "    </tr>\n",
       "    <tr>\n",
       "      <td>5N_L</td>\n",
       "      <td>[1218.0, 625.0, 340.0]</td>\n",
       "      <td>[1146.0, 710.0, 303.0]</td>\n",
       "      <td>[1153.0, 723.0, 298.0]</td>\n",
       "      <td>[6.0, 13.0, -5.0]</td>\n",
       "      <td>15.0999</td>\n",
       "    </tr>\n",
       "    <tr>\n",
       "      <td>3N_R</td>\n",
       "      <td>[1117.0, 496.0, 490.0]</td>\n",
       "      <td>[1090.0, 596.0, 466.0]</td>\n",
       "      <td>[1085.0, 587.0, 454.0]</td>\n",
       "      <td>[-5.0, -9.0, -12.0]</td>\n",
       "      <td>15.7861</td>\n",
       "    </tr>\n",
       "    <tr>\n",
       "      <td>Tz_L</td>\n",
       "      <td>[1201.0, 764.0, 446.0]</td>\n",
       "      <td>[1104.0, 835.0, 403.0]</td>\n",
       "      <td>[1106.0, 822.0, 391.0]</td>\n",
       "      <td>[2.0, -13.0, -12.0]</td>\n",
       "      <td>18.1047</td>\n",
       "    </tr>\n",
       "    <tr>\n",
       "      <td>7N_L</td>\n",
       "      <td>[1308.0, 732.0, 366.0]</td>\n",
       "      <td>[1196.0, 842.0, 308.0]</td>\n",
       "      <td>[1210.0, 828.0, 308.0]</td>\n",
       "      <td>[14.0, -13.0, -1.0]</td>\n",
       "      <td>19.4293</td>\n",
       "    </tr>\n",
       "    <tr>\n",
       "      <td>5N_R</td>\n",
       "      <td>[1220.0, 601.0, 632.0]</td>\n",
       "      <td>[1131.0, 686.0, 577.0]</td>\n",
       "      <td>[1152.0, 687.0, 572.0]</td>\n",
       "      <td>[21.0, 1.0, -6.0]</td>\n",
       "      <td>21.7953</td>\n",
       "    </tr>\n",
       "    <tr>\n",
       "      <td>Pn_R</td>\n",
       "      <td>[1108.0, 742.0, 558.0]</td>\n",
       "      <td>[1019.0, 757.0, 494.0]</td>\n",
       "      <td>[1025.0, 775.0, 506.0]</td>\n",
       "      <td>[6.0, 18.0, 12.0]</td>\n",
       "      <td>21.8884</td>\n",
       "    </tr>\n",
       "    <tr>\n",
       "      <td>LRt_L</td>\n",
       "      <td>[1455.0, 736.0, 368.0]</td>\n",
       "      <td>[1353.0, 860.0, 312.0]</td>\n",
       "      <td>[1340.0, 868.0, 295.0]</td>\n",
       "      <td>[-13.0, 8.0, -17.0]</td>\n",
       "      <td>22.7507</td>\n",
       "    </tr>\n",
       "    <tr>\n",
       "      <td>Tz_R</td>\n",
       "      <td>[1202.0, 757.0, 548.0]</td>\n",
       "      <td>[1097.0, 825.0, 503.0]</td>\n",
       "      <td>[1105.0, 810.0, 487.0]</td>\n",
       "      <td>[9.0, -15.0, -17.0]</td>\n",
       "      <td>23.9929</td>\n",
       "    </tr>\n",
       "    <tr>\n",
       "      <td>4N_L</td>\n",
       "      <td>[1153.0, 504.0, 446.0]</td>\n",
       "      <td>[1138.0, 613.0, 418.0]</td>\n",
       "      <td>[1116.0, 605.0, 409.0]</td>\n",
       "      <td>[-23.0, -8.0, -9.0]</td>\n",
       "      <td>25.7649</td>\n",
       "    </tr>\n",
       "    <tr>\n",
       "      <td>PBG_R</td>\n",
       "      <td>[1131.0, 492.0, 674.0]</td>\n",
       "      <td>[1111.0, 555.0, 625.0]</td>\n",
       "      <td>[1093.0, 576.0, 625.0]</td>\n",
       "      <td>[-18.0, 21.0, 0.0]</td>\n",
       "      <td>27.8467</td>\n",
       "    </tr>\n",
       "    <tr>\n",
       "      <td>10N_R</td>\n",
       "      <td>[1433.0, 594.0, 524.0]</td>\n",
       "      <td>[1366.0, 759.0, 461.0]</td>\n",
       "      <td>[1346.0, 741.0, 451.0]</td>\n",
       "      <td>[-20.0, -18.0, -10.0]</td>\n",
       "      <td>28.6920</td>\n",
       "    </tr>\n",
       "    <tr>\n",
       "      <td>6N_L</td>\n",
       "      <td>[1275.0, 622.0, 450.0]</td>\n",
       "      <td>[1221.0, 740.0, 412.0]</td>\n",
       "      <td>[1201.0, 728.0, 395.0]</td>\n",
       "      <td>[-20.0, -12.0, -17.0]</td>\n",
       "      <td>28.8129</td>\n",
       "    </tr>\n",
       "    <tr>\n",
       "      <td>LC_R</td>\n",
       "      <td>[1268.0, 522.0, 568.0]</td>\n",
       "      <td>[1189.0, 647.0, 527.0]</td>\n",
       "      <td>[1212.0, 640.0, 511.0]</td>\n",
       "      <td>[24.0, -6.0, -15.0]</td>\n",
       "      <td>28.8317</td>\n",
       "    </tr>\n",
       "    <tr>\n",
       "      <td>AP</td>\n",
       "      <td>[1444.0, 571.0, 492.0]</td>\n",
       "      <td>[1384.0, 744.0, 433.0]</td>\n",
       "      <td>[1361.0, 727.0, 421.0]</td>\n",
       "      <td>[-23.0, -17.0, -12.0]</td>\n",
       "      <td>30.7302</td>\n",
       "    </tr>\n",
       "    <tr>\n",
       "      <td>PBG_L</td>\n",
       "      <td>[1131.0, 513.0, 286.0]</td>\n",
       "      <td>[1111.0, 595.0, 243.0]</td>\n",
       "      <td>[1099.0, 617.0, 261.0]</td>\n",
       "      <td>[-12.0, 22.0, 19.0]</td>\n",
       "      <td>31.0740</td>\n",
       "    </tr>\n",
       "    <tr>\n",
       "      <td>4N_R</td>\n",
       "      <td>[1147.0, 499.0, 494.0]</td>\n",
       "      <td>[1136.0, 611.0, 468.0]</td>\n",
       "      <td>[1111.0, 597.0, 455.0]</td>\n",
       "      <td>[-25.0, -15.0, -13.0]</td>\n",
       "      <td>32.2650</td>\n",
       "    </tr>\n",
       "    <tr>\n",
       "      <td>Pn_L</td>\n",
       "      <td>[1090.0, 741.0, 428.0]</td>\n",
       "      <td>[1015.0, 760.0, 355.0]</td>\n",
       "      <td>[1012.0, 777.0, 386.0]</td>\n",
       "      <td>[-3.0, 17.0, 31.0]</td>\n",
       "      <td>35.5825</td>\n",
       "    </tr>\n",
       "    <tr>\n",
       "      <td>6N_R</td>\n",
       "      <td>[1269.0, 617.0, 524.0]</td>\n",
       "      <td>[1219.0, 739.0, 492.0]</td>\n",
       "      <td>[1195.0, 719.0, 465.0]</td>\n",
       "      <td>[-24.0, -20.0, -27.0]</td>\n",
       "      <td>41.2112</td>\n",
       "    </tr>\n",
       "    <tr>\n",
       "      <td>Amb_R</td>\n",
       "      <td>[1379.0, 687.0, 634.0]</td>\n",
       "      <td>[1294.0, 804.0, 590.0]</td>\n",
       "      <td>[1276.0, 794.0, 554.0]</td>\n",
       "      <td>[-18.0, -10.0, -37.0]</td>\n",
       "      <td>41.8260</td>\n",
       "    </tr>\n",
       "    <tr>\n",
       "      <td>Amb_L</td>\n",
       "      <td>[1372.0, 714.0, 366.0]</td>\n",
       "      <td>[1294.0, 850.0, 330.0]</td>\n",
       "      <td>[1271.0, 830.0, 303.0]</td>\n",
       "      <td>[-24.0, -21.0, -28.0]</td>\n",
       "      <td>41.8767</td>\n",
       "    </tr>\n",
       "    <tr>\n",
       "      <td>LRt_R</td>\n",
       "      <td>[1485.0, 723.0, 628.0]</td>\n",
       "      <td>[1332.0, 817.0, 544.0]</td>\n",
       "      <td>[1364.0, 849.0, 536.0]</td>\n",
       "      <td>[32.0, 31.0, -8.0]</td>\n",
       "      <td>45.1396</td>\n",
       "    </tr>\n",
       "    <tr>\n",
       "      <td>DC_R</td>\n",
       "      <td>[1333.0, 528.0, 708.0]</td>\n",
       "      <td>[1216.0, 650.0, 615.0]</td>\n",
       "      <td>[1266.0, 653.0, 636.0]</td>\n",
       "      <td>[50.0, 4.0, 21.0]</td>\n",
       "      <td>53.7394</td>\n",
       "    </tr>\n",
       "    <tr>\n",
       "      <td>DC_L</td>\n",
       "      <td>[1333.0, 565.0, 266.0]</td>\n",
       "      <td>[1220.0, 683.0, 212.0]</td>\n",
       "      <td>[1269.0, 709.0, 221.0]</td>\n",
       "      <td>[49.0, 25.0, 9.0]</td>\n",
       "      <td>55.6017</td>\n",
       "    </tr>\n",
       "    <tr>\n",
       "      <td>7n_L</td>\n",
       "      <td>[1265.0, 618.0, 402.0]</td>\n",
       "      <td>[1153.0, 735.0, 301.0]</td>\n",
       "      <td>[1194.0, 726.0, 351.0]</td>\n",
       "      <td>[41.0, -9.0, 51.0]</td>\n",
       "      <td>66.0454</td>\n",
       "    </tr>\n",
       "    <tr>\n",
       "      <td>10N_L</td>\n",
       "      <td>[1445.0, 665.0, 582.0]</td>\n",
       "      <td>[1379.0, 762.0, 403.0]</td>\n",
       "      <td>[1341.0, 797.0, 500.0]</td>\n",
       "      <td>[-38.0, 35.0, 97.0]</td>\n",
       "      <td>109.8144</td>\n",
       "    </tr>\n",
       "  </tbody>\n",
       "</table>"
      ],
      "text/plain": [
       "<IPython.core.display.HTML object>"
      ]
     },
     "execution_count": 130,
     "metadata": {},
     "output_type": "execute_result"
    }
   ],
   "source": [
    "columns = ['structure', moving_name, fixed_name, 'transformed', 'difference', 'sumsquares']\n",
    "df = pd.DataFrame(df_list, columns=columns)\n",
    "df.index.name = 'Index'\n",
    "df = df.round(4)\n",
    "df.sort_values(by=['sumsquares'], inplace=True)\n",
    "HTML(df.to_html(index=False))"
   ]
  }
 ],
 "metadata": {
  "interpreter": {
   "hash": "2bd29f7b10431261d8beeb897d602198a8ccc2be7cc6f93af9f327223ffe0508"
  },
  "kernelspec": {
   "display_name": "Python 3 (ipykernel)",
   "language": "python",
   "name": "python3"
  },
  "language_info": {
   "codemirror_mode": {
    "name": "ipython",
    "version": 3
   },
   "file_extension": ".py",
   "mimetype": "text/x-python",
   "name": "python",
   "nbconvert_exporter": "python",
   "pygments_lexer": "ipython3",
   "version": "3.10.12"
  }
 },
 "nbformat": 4,
 "nbformat_minor": 5
}
