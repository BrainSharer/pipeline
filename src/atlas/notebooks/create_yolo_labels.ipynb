{
 "cells": [
  {
   "cell_type": "code",
   "execution_count": 1,
   "id": "bdf185d3",
   "metadata": {},
   "outputs": [],
   "source": [
    "import os\n",
    "import matplotlib.pyplot as plt\n",
    "import numpy as np\n",
    "import numpy as np\n",
    "from skimage import io\n",
    "from skimage.exposure import rescale_intensity\n",
    "import cv2\n",
    "from ultralytics import YOLO"
   ]
  },
  {
   "cell_type": "code",
   "execution_count": null,
   "id": "fa0d1a12",
   "metadata": {},
   "outputs": [],
   "source": [
    "model = YOLO(\"yolov8x-seg.pt\")"
   ]
  },
  {
   "cell_type": "code",
   "execution_count": 7,
   "id": "4a36275d",
   "metadata": {},
   "outputs": [],
   "source": [
    "DATA = '/net/birdstore/Active_Atlas_Data/data_root/brains_info/masks'\n",
    "NORM = os.path.join(DATA, 'normalized')\n",
    "RECPATH = os.path.join(DATA, 'rectangles')\n",
    "LABELS = os.path.join(DATA, 'labels')"
   ]
  },
  {
   "cell_type": "code",
   "execution_count": 3,
   "id": "1dbe6446",
   "metadata": {},
   "outputs": [
    {
     "name": "stdout",
     "output_type": "stream",
     "text": [
      "655\n"
     ]
    }
   ],
   "source": [
    "files = sorted(os.listdir(NORM))\n",
    "print(len(files))"
   ]
  },
  {
   "cell_type": "code",
   "execution_count": 4,
   "id": "03653e74",
   "metadata": {},
   "outputs": [],
   "source": [
    "#img = io.imread(filepath)\n",
    "# {object_class_id} {x_center} {y_center} {width} {height}\n",
    "bigtissue = 1000\n",
    "smalltissue = 1001\n",
    "barcode = 1003\n",
    "junk = 1004"
   ]
  },
  {
   "cell_type": "code",
   "execution_count": 21,
   "id": "100bc5ee",
   "metadata": {},
   "outputs": [
    {
     "name": "stdout",
     "output_type": "stream",
     "text": [
      "CPU times: user 304 ms, sys: 66.3 ms, total: 370 ms\n",
      "Wall time: 863 ms\n"
     ]
    }
   ],
   "source": [
    "%%time\n",
    "for file in files:\n",
    "    filepath = os.path.join(NORM, file)\n",
    "    labelfile = str(file).replace('tif','txt')\n",
    "    labelpath = os.path.join(LABELS, labelfile)\n",
    "    logfile = open(labelpath, \"w\")\n",
    "\n",
    "    outputpath = os.path.join(RECPATH, file)\n",
    "    img = cv2.imread(filepath, cv2.IMREAD_GRAYSCALE)\n",
    "    ret, thresh = cv2.threshold(img, 10, 255, cv2.THRESH_BINARY)\n",
    "    contours, hierarchy = cv2.findContours(thresh, cv2.RETR_EXTERNAL, cv2.CHAIN_APPROX_SIMPLE)\n",
    "    imgw = img.shape[1]\n",
    "    imgh = img.shape[0]\n",
    "    big_contour = max(contours, key=cv2.contourArea)\n",
    "    bigarea = cv2.contourArea(big_contour)\n",
    "    bx,by,bw,bh = cv2.boundingRect(big_contour)\n",
    "    cv2.rectangle(img,(bx,by),(bx+bw,by+bh),255, 1)\n",
    "    line = f'{bigtissue}, {((bx+bw)/2)/imgw}, {((by+bh)/2)/imgh}, {bw/imgw}, {bh/imgh}'\n",
    "    logfile.write(line)\n",
    "    logfile.write(\"\\n\")\n",
    "\n",
    "    for contour in contours:\n",
    "        x,y,w,h = cv2.boundingRect(contour)\n",
    "        area = cv2.contourArea(contour)\n",
    "        \n",
    "        if (area > bigarea*0.01 and area < bigarea) or h > 25:\n",
    "            x_center = ((x+w)/2)/imgw\n",
    "            y_center = ((y+h)/2)/imgh\n",
    "            width = w/imgw\n",
    "            height = h/imgh\n",
    "            if x > imgw * 0.8:\n",
    "                id = barcode\n",
    "            else:\n",
    "                id = smalltissue\n",
    "            cv2.rectangle(img,(x,y),(x+w,y+h),255, 1)\n",
    "            line = f'{id}, {x_center}, {y_center}, {width}, {height}'\n",
    "            logfile.write(line)\n",
    "            logfile.write(\"\\n\")\n",
    "\n",
    "    cv2.imwrite(outputpath, img)\n",
    "    logfile.close()\n",
    "    "
   ]
  },
  {
   "cell_type": "code",
   "execution_count": null,
   "id": "ec3933bc",
   "metadata": {},
   "outputs": [],
   "source": [
    "results = model.predict(filepath)"
   ]
  },
  {
   "cell_type": "code",
   "execution_count": null,
   "id": "c2b9e662",
   "metadata": {},
   "outputs": [],
   "source": [
    "result = results[0]\n",
    "len(result.boxes)\n",
    "box = result.boxes"
   ]
  },
  {
   "cell_type": "code",
   "execution_count": null,
   "id": "07cf0439",
   "metadata": {},
   "outputs": [],
   "source": [
    "print(\"Object type:\", box.cls)\n",
    "print(\"Coordinates:\", box.xyxy)\n",
    "print(\"Probability:\", box.conf)"
   ]
  },
  {
   "cell_type": "code",
   "execution_count": null,
   "id": "69ed26cd",
   "metadata": {},
   "outputs": [],
   "source": [
    "cords = box.xyxy[0].tolist()\n",
    "class_id = box.cls[0].item()\n",
    "class_id = result.names[box.cls[0].item()]\n",
    "conf = round(box.conf[0].item(), 2)\n",
    "print(\"Object type:\", class_id)\n",
    "print(\"Coordinates:\", cords)\n",
    "print(\"Probability:\", conf)"
   ]
  },
  {
   "cell_type": "code",
   "execution_count": null,
   "id": "442ced16",
   "metadata": {},
   "outputs": [],
   "source": [
    "plt.imshow(img, cmap='gray')"
   ]
  },
  {
   "cell_type": "code",
   "execution_count": null,
   "id": "b5e7208a",
   "metadata": {},
   "outputs": [],
   "source": [
    "smooth_img = smooth_image(img)\n",
    "plt.imshow(smooth_img, cmap='gray')"
   ]
  },
  {
   "cell_type": "code",
   "execution_count": null,
   "id": "16ca7440",
   "metadata": {},
   "outputs": [],
   "source": [
    "%%time\n",
    "fig = plt.figure()\n",
    "ax = fig.add_subplot(projection='3d')\n",
    "\n",
    "cmap = plt.get_cmap(\"viridis\")\n",
    "norm= plt.Normalize(volume.min(), volume.max())\n",
    "ax.voxels(np.ones_like(volume), facecolors=cmap(norm(volume)), edgecolor=\"black\")\n",
    "#ax.voxels(volume)\n",
    "plt.show()"
   ]
  }
 ],
 "metadata": {
  "kernelspec": {
   "display_name": "Python 3",
   "language": "python",
   "name": "python3"
  },
  "language_info": {
   "codemirror_mode": {
    "name": "ipython",
    "version": 3
   },
   "file_extension": ".py",
   "mimetype": "text/x-python",
   "name": "python",
   "nbconvert_exporter": "python",
   "pygments_lexer": "ipython3",
   "version": "3.10.6"
  }
 },
 "nbformat": 4,
 "nbformat_minor": 5
}
