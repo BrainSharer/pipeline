{
 "cells": [
  {
   "cell_type": "code",
   "execution_count": null,
   "id": "2183305a",
   "metadata": {},
   "outputs": [],
   "source": [
    "import os\n",
    "from detectron2.data.datasets import register_coco_instances\n",
    "from detectron2.engine import DefaultTrainer, DefaultPredictor\n",
    "from detectron2.data import MetadataCatalog\n",
    "from detectron2.config import get_cfg\n",
    "from detectron2 import model_zoo\n",
    "from detectron2.utils.visualizer import ColorMode\n",
    "from detectron2.utils.visualizer import Visualizer\n",
    "\n",
    "import matplotlib.pyplot as plt\n",
    "\n",
    "import random\n",
    "import cv2"
   ]
  },
  {
   "cell_type": "code",
   "execution_count": null,
   "id": "e54f0f50",
   "metadata": {},
   "outputs": [],
   "source": [
    "ROOT = '/net/birdstore/Active_Atlas_Data/data_root/'\n",
    "DATA = os.path.join(ROOT, 'brains_info', 'masks', 'structures', 'detectron')\n",
    "train_data = os.path.join(DATA, 'train')\n",
    "train_json = os.path.join(DATA, 'structure_training.json')\n",
    "register_coco_instances(f\"structure_train\", {}, train_json, train_data)\n",
    "\n",
    "test_data = os.path.join(ROOT, 'pipeline_data/DK37/preps/C1/thumbnail_aligned')\n",
    "test_json = os.path.join(DATA, 'DK37_testing.json')\n",
    "register_coco_instances(f\"structure_test\", {}, test_json, test_data)"
   ]
  },
  {
   "cell_type": "code",
   "execution_count": null,
   "id": "6f3e082b",
   "metadata": {},
   "outputs": [],
   "source": [
    "%%time\n",
    "cfg = get_cfg()\n",
    "cfg.MODEL.DEVICE = \"cpu\"\n",
    "# Got 0 with mask at 30%\n",
    "#cfg.merge_from_file(model_zoo.get_config_file(\"COCO-InstanceSegmentation/mask_rcnn_R_50_FPN_3x.yaml\"))\n",
    "#cfg.MODEL.WEIGHTS = model_zoo.get_checkpoint_url(\"COCO-InstanceSegmentation/mask_rcnn_R_50_FPN_3x.yaml\")\n",
    "# got got several rectangles with this one at 25%\n",
    "cfg.merge_from_file(model_zoo.get_config_file(\"COCO-Detection/faster_rcnn_X_101_32x8d_FPN_3x.yaml\"))\n",
    "cfg.MODEL.WEIGHTS = model_zoo.get_checkpoint_url(\"COCO-Detection/faster_rcnn_X_101_32x8d_FPN_3x.yaml\")  # Let training initialize from model zoo\n",
    "cfg.DATASETS.TRAIN = (\"structure_train\",)\n",
    "cfg.DATASETS.TEST = ()\n",
    "cfg.DATALOADER.NUM_WORKERS = 2\n",
    "cfg.SOLVER.IMS_PER_BATCH = 2\n",
    "cfg.SOLVER.BASE_LR = 0.00025\n",
    "#cfg.SOLVER.MAX_ITER = 10\n",
    "cfg.SOLVER.WARMUP_ITERS = 10\n",
    "cfg.SOLVER.MAX_ITER = 15 #adjust up if val mAP is still rising, adjust down if overfit\n",
    "#cfg.SOLVER.STEPS = (10, 15)\n",
    "cfg.SOLVER.GAMMA = 0.05\n",
    "cfg.MODEL.ROI_HEADS.NUM_CLASSES = 6\n",
    "cfg.OUTPUT_DIR = os.path.join(DATA, 'output')\n",
    "os.makedirs(cfg.OUTPUT_DIR, exist_ok=True)\n",
    "trainer = DefaultTrainer(cfg) \n",
    "trainer.resume_or_load(resume=True)\n",
    "trainer.train()"
   ]
  },
  {
   "cell_type": "code",
   "execution_count": null,
   "id": "2ec7ac92",
   "metadata": {},
   "outputs": [],
   "source": [
    "cfg.MODEL.WEIGHTS = os.path.join(cfg.OUTPUT_DIR, \"model_final.pth\")\n",
    "cfg.MODEL.ROI_HEADS.SCORE_THRESH_TEST = 0.18\n",
    "cfg.DATASETS.TEST = (\"structure_test\", )\n",
    "predictor = DefaultPredictor(cfg)\n",
    "test_metadata = MetadataCatalog.get(\"structure_test\")\n",
    "test_path = os.path.join(ROOT, 'pipeline_data/DK37/preps/C1/thumbnail_aligned')\n",
    "test_file = os.path.join(test_path, '270.tif')\n",
    "im = cv2.imread(test_file)\n",
    "outputs = predictor(im)\n",
    "v = Visualizer(im[:, :, ::-1],\n",
    "               metadata=test_metadata, \n",
    "               scale=1.0)\n",
    "v = v.draw_instance_predictions(outputs[\"instances\"].to(\"cpu\"))\n",
    "plt.figure(figsize = (14, 10))\n",
    "#plt.imshow(cv2.cvtColor(v.get_image()[:, :, ::-1], cv2.COLOR_BGR2RGB))\n",
    "plt.imshow(v.get_image())\n",
    "plt.show()"
   ]
  }
 ],
 "metadata": {
  "kernelspec": {
   "display_name": "Python 3 (ipykernel)",
   "language": "python",
   "name": "python3"
  },
  "language_info": {
   "codemirror_mode": {
    "name": "ipython",
    "version": 3
   },
   "file_extension": ".py",
   "mimetype": "text/x-python",
   "name": "python",
   "nbconvert_exporter": "python",
   "pygments_lexer": "ipython3",
   "version": "3.10.12"
  }
 },
 "nbformat": 4,
 "nbformat_minor": 5
}
