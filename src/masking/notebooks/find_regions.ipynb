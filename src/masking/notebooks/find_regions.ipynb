{
 "cells": [
  {
   "cell_type": "code",
   "execution_count": null,
   "id": "434f4e4a",
   "metadata": {
    "scrolled": true
   },
   "outputs": [],
   "source": [
    "import os\n",
    "import numpy as np\n",
    "import matplotlib.pyplot as plt\n",
    "import cv2\n",
    "from glob import glob\n",
    "from skimage.io import imread\n",
    "from sklearn.model_selection import train_test_split\n",
    "import tensorflow as tf\n",
    "from tensorflow.keras import layers, Model"
   ]
  },
  {
   "cell_type": "code",
   "execution_count": null,
   "id": "af4c0283",
   "metadata": {},
   "outputs": [],
   "source": [
    "def conv_block(x, filters):\n",
    "    x = layers.Conv2D(filters, 3, padding=\"same\", activation=\"relu\")(x)\n",
    "    x = layers.Conv2D(filters, 3, padding=\"same\", activation=\"relu\")(x)\n",
    "    return x\n",
    "\n",
    "def encoder_block(x, filters):\n",
    "    f = conv_block(x, filters)\n",
    "    p = layers.MaxPooling2D((2, 2))(f)\n",
    "    return f, p\n",
    "\n",
    "def decoder_block(x, skip, filters):\n",
    "    x = layers.Conv2DTranspose(filters, (2, 2), strides=(2, 2), padding=\"same\")(x)\n",
    "    x = layers.Concatenate()([x, skip])\n",
    "    x = conv_block(x, filters)\n",
    "    return x\n",
    "\n",
    "def build_unet(input_shape=(256, 256, 1)):\n",
    "    inputs = layers.Input(shape=input_shape)\n",
    "\n",
    "    # Encoder\n",
    "    f1, p1 = encoder_block(inputs, 64)\n",
    "    f2, p2 = encoder_block(p1, 128)\n",
    "    f3, p3 = encoder_block(p2, 256)\n",
    "    f4, p4 = encoder_block(p3, 512)\n",
    "\n",
    "    # Bottleneck\n",
    "    bottleneck = conv_block(p4, 1024)\n",
    "\n",
    "    # Decoder\n",
    "    d1 = decoder_block(bottleneck, f4, 512)\n",
    "    d2 = decoder_block(d1, f3, 256)\n",
    "    d3 = decoder_block(d2, f2, 128)\n",
    "    d4 = decoder_block(d3, f1, 64)\n",
    "\n",
    "    outputs = layers.Conv2D(1, (1, 1), activation=\"sigmoid\")(d4)\n",
    "\n",
    "    model = Model(inputs, outputs, name=\"U-Net\")\n",
    "    return model"
   ]
  },
  {
   "cell_type": "code",
   "execution_count": null,
   "id": "7ee8b70e",
   "metadata": {},
   "outputs": [],
   "source": [
    "def draw_contour(image, mask, color=(0, 255, 0)):\n",
    "    \"\"\"Draw contour around mask region.\"\"\"\n",
    "    mask_uint8 = (mask.squeeze() * 255).astype(np.uint8)\n",
    "    contours, _ = cv2.findContours(mask_uint8, cv2.RETR_EXTERNAL, cv2.CHAIN_APPROX_SIMPLE)\n",
    "    img_rgb = cv2.cvtColor((image.squeeze() * 255).astype(np.uint8), cv2.COLOR_GRAY2RGB)\n",
    "    cv2.drawContours(img_rgb, contours, -1, color, 2)\n",
    "    return img_rgb\n",
    "\n",
    "# Show some examples\n",
    "for i in range(3):\n",
    "    img_contour = draw_contour(X_train[i], Y_train[i])\n",
    "    plt.figure(figsize=(4,4))\n",
    "    plt.imshow(img_contour)\n",
    "    plt.axis(\"off\")\n",
    "    plt.title(\"Contour Overlay\")\n",
    "    plt.show()"
   ]
  },
  {
   "cell_type": "code",
   "execution_count": null,
   "id": "827c5326",
   "metadata": {},
   "outputs": [],
   "source": [
    "image_dir = os.path.join(data_path, \"thumbnail_aligned\")\n",
    "mask_dir = os.path.join(data_path, \"thumbnail_masked\")\n",
    "image_paths = sorted(glob(os.path.join(image_dir, \"*.tif\")))\n",
    "mask_paths = sorted(glob(os.path.join(mask_dir, \"*.tif\")))\n",
    "\n",
    "print(f\"Found {len(image_paths)} images and {len(mask_paths)} masks.\")\n",
    "\n",
    "# Load and preprocess (resize to uniform shape)\n",
    "IMG_HEIGHT, IMG_WIDTH = 256, 256\n",
    "\n",
    "def load_data(img_paths, mask_paths):\n",
    "    X, Y = [], []\n",
    "    for img_p, mask_p in zip(img_paths, mask_paths):\n",
    "        img = imread(img_p)\n",
    "        mask = imread(mask_p)\n",
    "        img = cv2.resize(img, (IMG_WIDTH, IMG_HEIGHT))\n",
    "        mask = cv2.resize(mask, (IMG_WIDTH, IMG_HEIGHT))\n",
    "        if img.ndim == 2:\n",
    "            img = np.expand_dims(img, -1)\n",
    "        mask = (mask > 0).astype(np.float32)\n",
    "        X.append(img)\n",
    "        Y.append(np.expand_dims(mask, -1))\n",
    "    X = np.array(X, dtype=np.float32) / 255.0\n",
    "    Y = np.array(Y, dtype=np.float32)\n",
    "    return X, Y\n",
    "\n",
    "X, Y = load_data(image_paths, mask_paths)\n",
    "X_train, X_val, Y_train, Y_val = train_test_split(X, Y, test_size=0.2, random_state=42)"
   ]
  },
  {
   "cell_type": "code",
   "execution_count": null,
   "id": "feef5efd",
   "metadata": {},
   "outputs": [],
   "source": [
    "print(\"Train shape:\", X_train.shape, Y_train.shape)\n",
    "print(\"Validation shape:\", X_val.shape, Y_val.shape)"
   ]
  },
  {
   "cell_type": "code",
   "execution_count": null,
   "id": "4b03c192",
   "metadata": {},
   "outputs": [],
   "source": [
    "model = build_unet(input_shape=X_train.shape[1:])"
   ]
  },
  {
   "cell_type": "code",
   "execution_count": null,
   "id": "9827ef2c",
   "metadata": {},
   "outputs": [],
   "source": [
    "def train_unet(model, X_train, Y_train, X_val, Y_val, epochs=20, batch_size=8):\n",
    "    model.compile(optimizer=\"adam\", loss=\"binary_crossentropy\", metrics=[\"accuracy\"])\n",
    "    history = model.fit(\n",
    "        X_train, Y_train,\n",
    "        validation_data=(X_val, Y_val),\n",
    "        epochs=epochs,\n",
    "        batch_size=batch_size\n",
    "    )\n",
    "    return history\n",
    "\n",
    "history = train_unet(model, X_train, Y_train, X_val, Y_val, epochs=10)\n",
    "model.save(\"mouse_brain_unet_model.h5\")\n",
    "print(\"Model saved as mouse_brain_unet_model.h5\")\n"
   ]
  }
 ],
 "metadata": {
  "kernelspec": {
   "display_name": "Python 3 (ipykernel)",
   "language": "python",
   "name": "python3"
  },
  "language_info": {
   "codemirror_mode": {
    "name": "ipython",
    "version": 3
   },
   "file_extension": ".py",
   "mimetype": "text/x-python",
   "name": "python",
   "nbconvert_exporter": "python",
   "pygments_lexer": "ipython3",
   "version": "3.10.12"
  }
 },
 "nbformat": 4,
 "nbformat_minor": 5
}
