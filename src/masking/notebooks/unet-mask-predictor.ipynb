{
 "cells": [
  {
   "cell_type": "code",
   "execution_count": 1,
   "id": "6f927163",
   "metadata": {},
   "outputs": [
    {
     "name": "stderr",
     "output_type": "stream",
     "text": [
      "2024-01-22 14:56:05.400648: I external/local_tsl/tsl/cuda/cudart_stub.cc:31] Could not find cuda drivers on your machine, GPU will not be used.\n",
      "2024-01-22 14:56:05.933116: E external/local_xla/xla/stream_executor/cuda/cuda_dnn.cc:9261] Unable to register cuDNN factory: Attempting to register factory for plugin cuDNN when one has already been registered\n",
      "2024-01-22 14:56:05.933185: E external/local_xla/xla/stream_executor/cuda/cuda_fft.cc:607] Unable to register cuFFT factory: Attempting to register factory for plugin cuFFT when one has already been registered\n",
      "2024-01-22 14:56:06.046110: E external/local_xla/xla/stream_executor/cuda/cuda_blas.cc:1515] Unable to register cuBLAS factory: Attempting to register factory for plugin cuBLAS when one has already been registered\n",
      "2024-01-22 14:56:06.282088: I external/local_tsl/tsl/cuda/cudart_stub.cc:31] Could not find cuda drivers on your machine, GPU will not be used.\n",
      "2024-01-22 14:56:06.283984: I tensorflow/core/platform/cpu_feature_guard.cc:182] This TensorFlow binary is optimized to use available CPU instructions in performance-critical operations.\n",
      "To enable the following instructions: AVX2 FMA, in other operations, rebuild TensorFlow with the appropriate compiler flags.\n",
      "2024-01-22 14:56:07.341669: W tensorflow/compiler/tf2tensorrt/utils/py_utils.cc:38] TF-TRT Warning: Could not find TensorRT\n"
     ]
    }
   ],
   "source": [
    "import tensorflow as tf\n",
    "import os\n",
    "import random\n",
    "import numpy as np\n",
    "from tqdm import tqdm \n",
    "from skimage.io import imread, imshow\n",
    "from skimage.transform import resize\n",
    "import matplotlib.pyplot as plt\n",
    "from sklearn.model_selection import train_test_split\n",
    "\n",
    "from tensorflow.keras.optimizers import Adam\n",
    "from sklearn.metrics import accuracy_score, precision_score, recall_score, f1_score\n",
    "from tensorflow.keras.metrics import MeanIoU\n",
    "from tensorflow.keras.layers import Conv2D, MaxPooling2D, Dropout, concatenate, Conv2DTranspose, BatchNormalization\n",
    "from keras.callbacks import EarlyStopping,ModelCheckpoint\n"
   ]
  },
  {
   "cell_type": "code",
   "execution_count": 2,
   "id": "04a3bf86",
   "metadata": {},
   "outputs": [],
   "source": [
    "def unet_model(IMG_WIDTH, IMG_HEIGHT, IMG_CHANNELS, num_classes):\n",
    "    \n",
    "    inputs = tf.keras.layers.Input((IMG_HEIGHT, IMG_WIDTH, IMG_CHANNELS))\n",
    "    # Contraction Path\n",
    "    conv1 = Conv2D(64, (3, 3), activation='relu', padding='same')(inputs)\n",
    "    conv1 = BatchNormalization()(conv1)\n",
    "    conv1 = Conv2D(64, (3, 3), activation='relu', padding='same')(conv1)\n",
    "    conv1 = BatchNormalization()(conv1)\n",
    "    pool1 = MaxPooling2D(pool_size=(2, 2))(conv1)\n",
    "\n",
    "    conv2 = Conv2D(128, (3, 3), activation='relu', padding='same')(pool1)\n",
    "    conv2 = BatchNormalization()(conv2)\n",
    "    conv2 = Conv2D(128, (3, 3), activation='relu', padding='same')(conv2)\n",
    "    conv2 = BatchNormalization()(conv2)\n",
    "    pool2 = MaxPooling2D(pool_size=(2, 2))(conv2)\n",
    "\n",
    "    conv3 = Conv2D(256, (3, 3), activation='relu', padding='same')(pool2)\n",
    "    conv3 = BatchNormalization()(conv3)\n",
    "    conv3 = Conv2D(256, (3, 3), activation='relu', padding='same')(conv3)\n",
    "    conv3 = BatchNormalization()(conv3)\n",
    "    pool3 = MaxPooling2D(pool_size=(2, 2))(conv3)\n",
    "\n",
    "    conv4 = Conv2D(512, (3, 3), activation='relu', padding='same')(pool3)\n",
    "    conv4 = BatchNormalization()(conv4)\n",
    "    conv4 = Conv2D(512, (3, 3), activation='relu', padding='same')(conv4)\n",
    "    conv4 = BatchNormalization()(conv4)\n",
    "    drop4 = Dropout(0.5)(conv4)\n",
    "    pool4 = MaxPooling2D(pool_size=(2, 2))(drop4)\n",
    "\n",
    "    # Bottleneck\n",
    "    conv5 = Conv2D(1024, (3, 3), activation='relu', padding='same')(pool4)\n",
    "    conv5 = BatchNormalization()(conv5)\n",
    "    conv5 = Conv2D(1024, (3, 3), activation='relu', padding='same')(conv5)\n",
    "    conv5 = BatchNormalization()(conv5)\n",
    "    drop5 = Dropout(0.5)(conv5)\n",
    "\n",
    "    # Expansion Path\n",
    "    up6 = Conv2DTranspose(512, (2, 2), strides=(2, 2), padding='same')(drop5)\n",
    "    concat6 = concatenate([up6, drop4])\n",
    "    conv6 = Conv2D(512, (3, 3), activation='relu', padding='same')(concat6)\n",
    "    conv6 = BatchNormalization()(conv6)\n",
    "    conv6 = Conv2D(512, (3, 3), activation='relu', padding='same')(conv6)\n",
    "    conv6 = BatchNormalization()(conv6)\n",
    "\n",
    "    up7 = Conv2DTranspose(256, (2, 2), strides=(2, 2), padding='same')(conv6)\n",
    "    concat7 = concatenate([up7, conv3])\n",
    "    conv7 = Conv2D(256, (3, 3), activation='relu', padding='same')(concat7)\n",
    "    conv7 = BatchNormalization()(conv7)\n",
    "    conv7 = Conv2D(256, (3, 3), activation='relu', padding='same')(conv7)\n",
    "    conv7 = BatchNormalization()(conv7)\n",
    "\n",
    "    up8 = Conv2DTranspose(128, (2, 2), strides=(2, 2), padding='same')(conv7)\n",
    "    concat8 = concatenate([up8, conv2])\n",
    "    conv8 = Conv2D(128, (3, 3), activation='relu', padding='same')(concat8)\n",
    "    conv8 = BatchNormalization()(conv8)\n",
    "    conv8 = Conv2D(128, (3, 3), activation='relu', padding='same')(conv8)\n",
    "    conv8 = BatchNormalization()(conv8)\n",
    "\n",
    "    up9 = Conv2DTranspose(64, (2, 2), strides=(2, 2), padding='same')(conv8)\n",
    "    concat9 = concatenate([up9, conv1])\n",
    "    conv9 = Conv2D(64, (3, 3), activation='relu', padding='same')(concat9)\n",
    "    conv9 = BatchNormalization()(conv9)\n",
    "    conv9 = Conv2D(64, (3, 3), activation='relu', padding='same')(conv9)\n",
    "    conv9 = BatchNormalization()(conv9)\n",
    "\n",
    "    # Output Layer\n",
    "    outputs = Conv2D(1, (1, 1), activation='sigmoid')(conv9)\n",
    "    model = tf.keras.Model(inputs=[inputs], outputs=[outputs])\n",
    "    optimizer = Adam(learning_rate=0.0001)\n",
    "    model.compile(optimizer=optimizer, loss='binary_crossentropy', metrics=['accuracy']) \n",
    "    #model.compile(optimizer=optimizer, loss='binary_crossentropy', metrics=['accuracy', MeanIoU(num_classes=num_classes, name='mean_iou')])\n",
    "    return model\n",
    "\n",
    "def display(display_list):\n",
    "  plt.figure(figsize=(15, 15))\n",
    "\n",
    "  title = ['Input image', 'True mask', 'Predicted mask']\n",
    "\n",
    "  for i in range(len(display_list)):\n",
    "    plt.subplot(1, len(display_list), i+1)\n",
    "    plt.title(title[i])\n",
    "    #plt.imshow(tf.keras.utils.array_to_img(display_list[i]), cmap=\"gray\")\n",
    "    plt.imshow(display_list[i], cmap=\"gray\")\n",
    "    plt.axis('on')\n",
    "  plt.show()"
   ]
  },
  {
   "cell_type": "code",
   "execution_count": 3,
   "id": "bd417ad0",
   "metadata": {},
   "outputs": [
    {
     "name": "stdout",
     "output_type": "stream",
     "text": [
      "Resizing training images and masks\n"
     ]
    },
    {
     "name": "stderr",
     "output_type": "stream",
     "text": [
      "100%|██████████████████████████████████████████████████████████████████████████████████████████████████████████████████████████████████████████████████████████████████████| 100/100 [00:25<00:00,  3.86it/s]\n"
     ]
    }
   ],
   "source": [
    "seed = 42\n",
    "np.random.seed = seed\n",
    "\n",
    "IMG_WIDTH = 256\n",
    "IMG_HEIGHT = 128\n",
    "IMG_CHANNELS = 1\n",
    "\n",
    "ROOT = '/net/birdstore/Active_Atlas_Data/data_root/brains_info/masks'\n",
    "IMAGE_PATH = os.path.join(ROOT, 'tg', 'thumbnail_aligned')\n",
    "MASK_PATH  = os.path.join(ROOT, 'tg', 'thumbnail_masked')\n",
    "files = sorted(os.listdir(IMAGE_PATH))\n",
    "files = files[0:100]\n",
    "\n",
    "X = np.zeros((len(files), IMG_HEIGHT, IMG_WIDTH), dtype=np.uint8)\n",
    "y = np.zeros((len(files), IMG_HEIGHT, IMG_WIDTH), dtype=np.uint8)\n",
    "\n",
    "print('Resizing training images and masks')\n",
    "for n, file in enumerate(tqdm(files)):\n",
    "    filepath = os.path.join(IMAGE_PATH, file)\n",
    "    maskpath = os.path.join(MASK_PATH, file)\n",
    "    img = imread(filepath)\n",
    "    img = resize(img, (IMG_HEIGHT, IMG_WIDTH), mode='constant', preserve_range=True)\n",
    "    mask = imread(maskpath)\n",
    "    img = resize(img, (IMG_HEIGHT, IMG_WIDTH), mode='constant', preserve_range=True)\n",
    "    mask = resize(mask, (IMG_HEIGHT, IMG_WIDTH), mode='constant', preserve_range=True)\n",
    "    X[n] = img  #Fill empty X_train with values from img\n",
    "    y[n] = mask \n"
   ]
  },
  {
   "cell_type": "code",
   "execution_count": 4,
   "id": "52529188",
   "metadata": {},
   "outputs": [],
   "source": [
    "X_train, X_test, y_train, y_test = train_test_split(X, y, test_size=0.3, random_state=42)"
   ]
  },
  {
   "cell_type": "code",
   "execution_count": 5,
   "id": "2c1110fc",
   "metadata": {},
   "outputs": [],
   "source": [
    "model = unet_model(IMG_WIDTH,IMG_HEIGHT,IMG_CHANNELS, num_classes=1)"
   ]
  },
  {
   "cell_type": "code",
   "execution_count": 8,
   "id": "3e427345",
   "metadata": {},
   "outputs": [
    {
     "name": "stdout",
     "output_type": "stream",
     "text": [
      "Epoch 1/2\n",
      "5/5 [==============================] - ETA: 0s - loss: -0.5131 - accuracy: 0.6430\n",
      "Epoch 1: val_loss improved from inf to -1.90342, saving model to model-unet.h5\n"
     ]
    },
    {
     "name": "stderr",
     "output_type": "stream",
     "text": [
      "/usr/local/share/pipeline/lib/python3.10/site-packages/keras/src/engine/training.py:3103: UserWarning: You are saving your model as an HDF5 file via `model.save()`. This file format is considered legacy. We recommend using instead the native Keras format, e.g. `model.save('my_model.keras')`.\n",
      "  saving_api.save_model(\n"
     ]
    },
    {
     "name": "stdout",
     "output_type": "stream",
     "text": [
      "5/5 [==============================] - 36s 7s/step - loss: -0.5131 - accuracy: 0.6430 - val_loss: -1.9034 - val_accuracy: 0.6415\n",
      "Epoch 2/2\n",
      "5/5 [==============================] - ETA: 0s - loss: -2.4363 - accuracy: 0.6959\n",
      "Epoch 2: val_loss improved from -1.90342 to -3.00428, saving model to model-unet.h5\n",
      "5/5 [==============================] - 33s 7s/step - loss: -2.4363 - accuracy: 0.6959 - val_loss: -3.0043 - val_accuracy: 0.6520\n"
     ]
    }
   ],
   "source": [
    "callbacks = [\n",
    "        ModelCheckpoint(\"model-unet.keras\",verbose=1,save_best_only=True),\n",
    "        tf.keras.callbacks.EarlyStopping(patience=5, monitor='val_loss'),\n",
    "        tf.keras.callbacks.TensorBoard(log_dir='logs')]\n",
    "\n",
    "results = model.fit(X_train, y_train, validation_data=(X_test,y_test), batch_size=16, epochs=2, callbacks=callbacks)"
   ]
  },
  {
   "cell_type": "code",
   "execution_count": 11,
   "id": "41dc0100",
   "metadata": {},
   "outputs": [],
   "source": [
    "model.save('unet.keras')"
   ]
  },
  {
   "cell_type": "code",
   "execution_count": 10,
   "id": "ad51819b",
   "metadata": {},
   "outputs": [
    {
     "data": {
      "image/png": "[encoded data removed]",
      "text/plain": [
       "<Figure size 640x480 with 1 Axes>"
      ]
     },
     "metadata": {},
     "output_type": "display_data"
    }
   ],
   "source": [
    "#loss = model.history.history['loss']\n",
    "val_loss = model.history.history['val_loss']\n",
    "accuracy = model.history.history['accuracy']\n",
    "plt.figure()\n",
    "plt.plot( accuracy, 'r', label='Accuracy')\n",
    "plt.plot( val_loss, 'bo', label='Validation loss')\n",
    "plt.title('Training and Validation Loss')\n",
    "plt.xlabel('Epoch')\n",
    "plt.ylabel('Loss Value')\n",
    "plt.ylim([-1, 2])\n",
    "plt.legend()\n",
    "plt.show()"
   ]
  },
  {
   "cell_type": "code",
   "execution_count": null,
   "id": "f46c8e4f",
   "metadata": {},
   "outputs": [],
   "source": [
    "i = random.randint(0, len(X_test))\n",
    "sample_image = X_test[i]\n",
    "sample_mask = y_test[i]\n",
    "prediction = model.predict(sample_image[tf.newaxis, ...])[0]\n",
    "predicted_mask = (prediction > 0.9995).astype(np.uint8)\n",
    "display([sample_image, sample_mask, predicted_mask])"
   ]
  }
 ],
 "metadata": {
  "kernelspec": {
   "display_name": "Python 3 (ipykernel)",
   "language": "python",
   "name": "python3"
  },
  "language_info": {
   "codemirror_mode": {
    "name": "ipython",
    "version": 3
   },
   "file_extension": ".py",
   "mimetype": "text/x-python",
   "name": "python",
   "nbconvert_exporter": "python",
   "pygments_lexer": "ipython3",
   "version": "3.10.12"
  }
 },
 "nbformat": 4,
 "nbformat_minor": 5
}
