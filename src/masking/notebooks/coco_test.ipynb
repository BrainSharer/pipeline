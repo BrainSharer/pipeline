{
 "cells": [
  {
   "cell_type": "code",
   "execution_count": null,
   "id": "eed8a579",
   "metadata": {},
   "outputs": [],
   "source": [
    "import os\n",
    "import matplotlib\n",
    "import matplotlib.pyplot as plt\n",
    "import matplotlib.patches as patches\n",
    "import matplotlib.colors as colors\n",
    "import seaborn as sns\n",
    "import numpy as np\n",
    "\n",
    "import random\n",
    "from PIL import Image\n",
    "\n",
    "from pycocotools.coco import COCO"
   ]
  },
  {
   "cell_type": "code",
   "execution_count": null,
   "id": "c5f03dc0",
   "metadata": {},
   "outputs": [],
   "source": [
    "annFile='/net/birdstore/Active_Atlas_Data/data_root/brains_info/masks/structures/detectron/structure_training.json'\n",
    "imageDir = '/net/birdstore/Active_Atlas_Data/data_root/brains_info/masks/structures/detectron/train/'\n",
    "# Initialize the COCO api for instance annotations\n",
    "coco=COCO(annFile)"
   ]
  },
  {
   "cell_type": "code",
   "execution_count": null,
   "id": "26ad64ee",
   "metadata": {},
   "outputs": [],
   "source": [
    "ids = 0\n",
    "SC = coco.loadCats(ids=ids)\n",
    "print(SC)"
   ]
  },
  {
   "cell_type": "code",
   "execution_count": null,
   "id": "42de6287",
   "metadata": {},
   "outputs": [],
   "source": [
    "image_ids = coco.getImgIds()\n",
    "image_id = image_ids[0]  # Change this line to display a different image\n",
    "image_info = coco.loadImgs(image_id)\n",
    "print(image_info)"
   ]
  },
  {
   "cell_type": "code",
   "execution_count": null,
   "id": "d9be13cb",
   "metadata": {},
   "outputs": [],
   "source": [
    "len(image_ids)"
   ]
  },
  {
   "cell_type": "code",
   "execution_count": null,
   "id": "3ff4a08b",
   "metadata": {},
   "outputs": [],
   "source": [
    "annotation_ids = coco.getAnnIds(imgIds=image_id)\n",
    "annotations = coco.loadAnns(annotation_ids)\n",
    "#print(annotations)"
   ]
  },
  {
   "cell_type": "code",
   "execution_count": null,
   "id": "f1ac24c2",
   "metadata": {},
   "outputs": [],
   "source": [
    "imgId = random.randint(0, len(image_ids))\n",
    "#imgId = 450\n",
    "ann_ids = coco.getAnnIds(imgIds=[imgId], iscrowd=None)\n",
    "print(f\"Annotations for Image ID {imgId}:\")\n",
    "anns = coco.loadAnns(ann_ids)\n",
    "\n",
    "image_path = coco.loadImgs(imgId)[0]['file_name']\n",
    "print(image_path)\n",
    "image = plt.imread(imageDir + image_path)\n",
    "plt.figure(figsize = (14, 10))\n",
    "plt.imshow(image, cmap=\"gray\")\n",
    "\n",
    "# Display the specified annotations\n",
    "coco.showAnns(anns, draw_bbox=True)\n",
    "\n",
    "plt.axis('on')\n",
    "plt.title(f'Annotations for Image ID: {imgId}')\n",
    "plt.tight_layout()\n",
    "plt.show()"
   ]
  },
  {
   "cell_type": "code",
   "execution_count": null,
   "id": "fd64abe8",
   "metadata": {},
   "outputs": [],
   "source": [
    "abbreviation = 'SC'"
   ]
  },
  {
   "cell_type": "code",
   "execution_count": null,
   "id": "e0d243ed",
   "metadata": {},
   "outputs": [],
   "source": [
    "if abbreviation.endswith('_L') or abbreviation.endswith('_R'):\n",
    "    abbreviation = abbreviation[:-2] \n",
    "print(abbreviation)"
   ]
  }
 ],
 "metadata": {
  "kernelspec": {
   "display_name": "Python 3 (ipykernel)",
   "language": "python",
   "name": "python3"
  },
  "language_info": {
   "codemirror_mode": {
    "name": "ipython",
    "version": 3
   },
   "file_extension": ".py",
   "mimetype": "text/x-python",
   "name": "python",
   "nbconvert_exporter": "python",
   "pygments_lexer": "ipython3",
   "version": "3.10.12"
  }
 },
 "nbformat": 4,
 "nbformat_minor": 5
}
