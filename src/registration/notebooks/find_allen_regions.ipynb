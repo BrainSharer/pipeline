{
 "cells": [
  {
   "cell_type": "markdown",
   "metadata": {},
   "source": [
    "# Finding brain regions and getting their center of mass using the Allen SDK\n",
    "\n",
    "1. Create a new python virtual environment or use an existing one.\n",
    "1. pip install allensdk==2.15.1 # this works with the current ubuntu/pipeline we have, you can try just doing pip install allensdk\n",
    "1. The Allen data has to be download which happens in the commands below. You might get an error on downloading, if you do, just copy the link that is in the error message and use curl or wget or just put that link in the browser. It will then download. You will need to move that into the current working directory of this notebook under the 'mouse_connectivity' directory\n"
   ]
  },
  {
   "cell_type": "code",
   "execution_count": 1,
   "metadata": {},
   "outputs": [],
   "source": [
    "import numpy as np\n",
    "import pandas as pd\n",
    "from scipy.ndimage import center_of_mass\n",
    "from allensdk.core.mouse_connectivity_cache import MouseConnectivityCache\n",
    "from matplotlib import pyplot as plt"
   ]
  },
  {
   "cell_type": "markdown",
   "metadata": {},
   "source": [
    "### Accessing the CCF from the MouseConnectivityCache\n",
    "\n",
    "Instantiate the MouseConnectivityCache (mcc). The default resolution is 25 microns, but 10,50, and 100 microns are also valid options. You can also specify a location of a manifest file, which would keep track of all downloaded assets from template and annotation volumes to experimental data. If a manifest file directory is not provided, one will be created in the current working directory. (This is where you might get downloading errors, just download it manually and place it under the dir: mouse_connectivity'"
   ]
  },
  {
   "cell_type": "code",
   "execution_count": 2,
   "metadata": {},
   "outputs": [],
   "source": [
    "mcc = MouseConnectivityCache(resolution=25)"
   ]
  },
  {
   "cell_type": "markdown",
   "metadata": {},
   "source": [
    "#### Annotated Volume and Reference Space\n",
    "Now you can get the Reference Space (rsp) at that resolution. This automatically downloads the annotated volume at the specified resolution (25 microns)."
   ]
  },
  {
   "cell_type": "code",
   "execution_count": 3,
   "metadata": {},
   "outputs": [],
   "source": [
    "rsp = mcc.get_reference_space()"
   ]
  },
  {
   "cell_type": "markdown",
   "metadata": {},
   "source": [
    "The annotated volume is a 3D numpy ndarray, with axes correspond to AP,DV, and ML respectively:"
   ]
  },
  {
   "cell_type": "code",
   "execution_count": 4,
   "metadata": {},
   "outputs": [
    {
     "name": "stdout",
     "output_type": "stream",
     "text": [
      "Type of annotated volume <class 'allensdk.core.reference_space.ReferenceSpace'>\n",
      "Shape of annotated volume: (528, 320, 456)\n",
      "Annotated volume data type: uint32\n"
     ]
    }
   ],
   "source": [
    "print('Type of annotated volume', type(rsp))\n",
    "print('Shape of annotated volume:',rsp.annotation.shape)\n",
    "print('Annotated volume data type:',rsp.annotation.dtype)"
   ]
  },
  {
   "cell_type": "markdown",
   "metadata": {},
   "source": [
    "The rsp provides access to the structure tree from the ontology. Given that there are multiple atlases and associated ontologies, we are only interested in the structures belonging to this annotation. Thus, we remove unassigned structures from the structure tree. This returns a structure graph which is more easily viewed as a pandas DataFrame:"
   ]
  },
  {
   "cell_type": "code",
   "execution_count": 5,
   "metadata": {},
   "outputs": [],
   "source": [
    "sg = rsp.remove_unassigned()"
   ]
  },
  {
   "cell_type": "code",
   "execution_count": 6,
   "metadata": {},
   "outputs": [],
   "source": [
    "sg = pd.DataFrame(sg)"
   ]
  },
  {
   "cell_type": "code",
   "execution_count": 7,
   "metadata": {},
   "outputs": [
    {
     "data": {
      "text/html": [
       "<div>\n",
       "<style scoped>\n",
       "    .dataframe tbody tr th:only-of-type {\n",
       "        vertical-align: middle;\n",
       "    }\n",
       "\n",
       "    .dataframe tbody tr th {\n",
       "        vertical-align: top;\n",
       "    }\n",
       "\n",
       "    .dataframe thead th {\n",
       "        text-align: right;\n",
       "    }\n",
       "</style>\n",
       "<table border=\"1\" class=\"dataframe\">\n",
       "  <thead>\n",
       "    <tr style=\"text-align: right;\">\n",
       "      <th></th>\n",
       "      <th>acronym</th>\n",
       "      <th>graph_id</th>\n",
       "      <th>graph_order</th>\n",
       "      <th>id</th>\n",
       "      <th>name</th>\n",
       "      <th>structure_id_path</th>\n",
       "      <th>structure_set_ids</th>\n",
       "      <th>rgb_triplet</th>\n",
       "    </tr>\n",
       "  </thead>\n",
       "  <tbody>\n",
       "    <tr>\n",
       "      <th>0</th>\n",
       "      <td>root</td>\n",
       "      <td>1</td>\n",
       "      <td>0</td>\n",
       "      <td>997</td>\n",
       "      <td>root</td>\n",
       "      <td>[997]</td>\n",
       "      <td>[691663206]</td>\n",
       "      <td>[255, 255, 255]</td>\n",
       "    </tr>\n",
       "    <tr>\n",
       "      <th>1</th>\n",
       "      <td>grey</td>\n",
       "      <td>1</td>\n",
       "      <td>1</td>\n",
       "      <td>8</td>\n",
       "      <td>Basic cell groups and regions</td>\n",
       "      <td>[997, 8]</td>\n",
       "      <td>[112905828, 691663206, 12, 184527634, 11290581...</td>\n",
       "      <td>[191, 218, 227]</td>\n",
       "    </tr>\n",
       "    <tr>\n",
       "      <th>2</th>\n",
       "      <td>CH</td>\n",
       "      <td>1</td>\n",
       "      <td>2</td>\n",
       "      <td>567</td>\n",
       "      <td>Cerebrum</td>\n",
       "      <td>[997, 8, 567]</td>\n",
       "      <td>[112905828, 691663206, 12, 184527634, 11290581...</td>\n",
       "      <td>[176, 240, 255]</td>\n",
       "    </tr>\n",
       "    <tr>\n",
       "      <th>3</th>\n",
       "      <td>CTX</td>\n",
       "      <td>1</td>\n",
       "      <td>3</td>\n",
       "      <td>688</td>\n",
       "      <td>Cerebral cortex</td>\n",
       "      <td>[997, 8, 567, 688]</td>\n",
       "      <td>[112905828, 691663206, 12, 184527634, 11290581...</td>\n",
       "      <td>[176, 255, 184]</td>\n",
       "    </tr>\n",
       "    <tr>\n",
       "      <th>4</th>\n",
       "      <td>CTXpl</td>\n",
       "      <td>1</td>\n",
       "      <td>4</td>\n",
       "      <td>695</td>\n",
       "      <td>Cortical plate</td>\n",
       "      <td>[997, 8, 567, 688, 695]</td>\n",
       "      <td>[112905828, 691663206, 12, 184527634, 11290581...</td>\n",
       "      <td>[112, 255, 112]</td>\n",
       "    </tr>\n",
       "  </tbody>\n",
       "</table>\n",
       "</div>"
      ],
      "text/plain": [
       "  acronym  graph_id  graph_order   id                           name  \\\n",
       "0    root         1            0  997                           root   \n",
       "1    grey         1            1    8  Basic cell groups and regions   \n",
       "2      CH         1            2  567                       Cerebrum   \n",
       "3     CTX         1            3  688                Cerebral cortex   \n",
       "4   CTXpl         1            4  695                 Cortical plate   \n",
       "\n",
       "         structure_id_path                                  structure_set_ids  \\\n",
       "0                    [997]                                        [691663206]   \n",
       "1                 [997, 8]  [112905828, 691663206, 12, 184527634, 11290581...   \n",
       "2            [997, 8, 567]  [112905828, 691663206, 12, 184527634, 11290581...   \n",
       "3       [997, 8, 567, 688]  [112905828, 691663206, 12, 184527634, 11290581...   \n",
       "4  [997, 8, 567, 688, 695]  [112905828, 691663206, 12, 184527634, 11290581...   \n",
       "\n",
       "       rgb_triplet  \n",
       "0  [255, 255, 255]  \n",
       "1  [191, 218, 227]  \n",
       "2  [176, 240, 255]  \n",
       "3  [176, 255, 184]  \n",
       "4  [112, 255, 112]  "
      ]
     },
     "execution_count": 7,
     "metadata": {},
     "output_type": "execute_result"
    }
   ],
   "source": [
    "sg.head()"
   ]
  },
  {
   "cell_type": "code",
   "execution_count": null,
   "metadata": {},
   "outputs": [],
   "source": [
    "# I picked the IC as it is easy to see\n",
    "# get data with structure name\n",
    "structure = 'inferior colliculus'\n",
    "row = sg.loc[sg['name'] == structure]\n",
    "row"
   ]
  },
  {
   "cell_type": "code",
   "execution_count": 8,
   "metadata": {},
   "outputs": [
    {
     "data": {
      "text/html": [
       "<div>\n",
       "<style scoped>\n",
       "    .dataframe tbody tr th:only-of-type {\n",
       "        vertical-align: middle;\n",
       "    }\n",
       "\n",
       "    .dataframe tbody tr th {\n",
       "        vertical-align: top;\n",
       "    }\n",
       "\n",
       "    .dataframe thead th {\n",
       "        text-align: right;\n",
       "    }\n",
       "</style>\n",
       "<table border=\"1\" class=\"dataframe\">\n",
       "  <thead>\n",
       "    <tr style=\"text-align: right;\">\n",
       "      <th></th>\n",
       "      <th>acronym</th>\n",
       "      <th>graph_id</th>\n",
       "      <th>graph_order</th>\n",
       "      <th>id</th>\n",
       "      <th>name</th>\n",
       "      <th>structure_id_path</th>\n",
       "      <th>structure_set_ids</th>\n",
       "      <th>rgb_triplet</th>\n",
       "    </tr>\n",
       "  </thead>\n",
       "  <tbody>\n",
       "    <tr>\n",
       "      <th>655</th>\n",
       "      <td>VII</td>\n",
       "      <td>1</td>\n",
       "      <td>967</td>\n",
       "      <td>661</td>\n",
       "      <td>Facial motor nucleus</td>\n",
       "      <td>[997, 8, 343, 1065, 354, 370, 661]</td>\n",
       "      <td>[112905828, 691663206, 687527945, 10, 12, 6881...</td>\n",
       "      <td>[255, 179, 217]</td>\n",
       "    </tr>\n",
       "  </tbody>\n",
       "</table>\n",
       "</div>"
      ],
      "text/plain": [
       "    acronym  graph_id  graph_order   id                  name  \\\n",
       "655     VII         1          967  661  Facial motor nucleus   \n",
       "\n",
       "                      structure_id_path  \\\n",
       "655  [997, 8, 343, 1065, 354, 370, 661]   \n",
       "\n",
       "                                     structure_set_ids      rgb_triplet  \n",
       "655  [112905828, 691663206, 687527945, 10, 12, 6881...  [255, 179, 217]  "
      ]
     },
     "execution_count": 8,
     "metadata": {},
     "output_type": "execute_result"
    }
   ],
   "source": [
    "# get data with acronym\n",
    "# our facial nerve is 7n_L and 7n_R, Allen has it as VII\n",
    "# SC = SCs, SNR = SNr\n",
    "acronym = 'VII'\n",
    "row = sg.loc[sg['acronym'] == acronym]\n",
    "row"
   ]
  },
  {
   "cell_type": "code",
   "execution_count": null,
   "metadata": {},
   "outputs": [],
   "source": [
    "#sg.query('name.str.contains(\"Superior colliculus\")', engine='python')"
   ]
  },
  {
   "cell_type": "code",
   "execution_count": 9,
   "metadata": {},
   "outputs": [
    {
     "name": "stdout",
     "output_type": "stream",
     "text": [
      "661\n"
     ]
    }
   ],
   "source": [
    "structure_id = row.iat[0, 3]\n",
    "print(structure_id)"
   ]
  },
  {
   "cell_type": "code",
   "execution_count": 10,
   "metadata": {},
   "outputs": [
    {
     "name": "stdout",
     "output_type": "stream",
     "text": [
      "['VII']\n"
     ]
    }
   ],
   "source": [
    "# Get a list of acronymns\n",
    "id_acronym_map = rsp.structure_tree.get_id_acronym_map() # Dictionary returns IDs given acronyms\n",
    "acronym_id_map = {v:k for k,v in id_acronym_map.items()} # Flip key:value pairs to get dictionary for acronyms given IDs\n",
    "print(list(map(acronym_id_map.get,rsp.structure_tree.descendant_ids([structure_id])[0])))"
   ]
  },
  {
   "cell_type": "markdown",
   "metadata": {},
   "source": [
    "The structures' acronyms, names and IDs can all be linked through the structure graph."
   ]
  },
  {
   "cell_type": "markdown",
   "metadata": {},
   "source": [
    "While the rsp can be used to generate sections in the coronal (0), horizontal (1), or sagittal (2) planes:"
   ]
  },
  {
   "cell_type": "code",
   "execution_count": 11,
   "metadata": {},
   "outputs": [
    {
     "data": {
      "text/plain": [
       "<matplotlib.image.AxesImage at 0x7f7f57eb8490>"
      ]
     },
     "execution_count": 11,
     "metadata": {},
     "output_type": "execute_result"
    },
    {
     "data": {
      "image/png": "[encoded data removed]",
      "text/plain": [
       "<Figure size 640x480 with 1 Axes>"
      ]
     },
     "metadata": {},
     "output_type": "display_data"
    }
   ],
   "source": [
    "orientation = {'coronal':0,'horizontal':1,'sagittal':2} # makes orientation arguments more readible\n",
    "pos_microns = lambda x:x*25 # get_slice_image function takes positional arguments in microns instead of 25 micron increments\n",
    "\n",
    "img = rsp.get_slice_image(orientation['sagittal'],pos_microns(200))\n",
    "plt.imshow(img)"
   ]
  },
  {
   "cell_type": "markdown",
   "metadata": {},
   "source": [
    "The rsp can also generate masks of given structure IDs. The IDs are provided as a list, and by default include all voxels annotated as children of the given structures (direct_only=False). If only the parent level voxels are desired, set direct_only to True.\n",
    "\n",
    "Here we make a mask of the Cerebral Cortex, which from the structure graph is shown to have the ID 688."
   ]
  },
  {
   "cell_type": "code",
   "execution_count": 13,
   "metadata": {},
   "outputs": [
    {
     "name": "stdout",
     "output_type": "stream",
     "text": [
      "uint8 (528, 320, 456)\n",
      "[76987052    58708]\n",
      "Center of mass for 661: (434.1056585133202, 271.0152449410642, 227.7161715609457)\n"
     ]
    },
    {
     "data": {
      "text/plain": [
       "<matplotlib.image.AxesImage at 0x7f7fa3e31240>"
      ]
     },
     "execution_count": 13,
     "metadata": {},
     "output_type": "execute_result"
    },
    {
     "data": {
      "image/png": "[encoded data removed]",
      "text/plain": [
       "<Figure size 640x480 with 1 Axes>"
      ]
     },
     "metadata": {},
     "output_type": "display_data"
    }
   ],
   "source": [
    "structure_mask = rsp.make_structure_mask([structure_id], direct_only=False)\n",
    "ids, counts = np.unique(structure_mask, return_counts=True)\n",
    "print(structure_mask.dtype, structure_mask.shape)\n",
    "print(counts)\n",
    "#structure_mask = np.swapaxes(structure_mask, 0, 2)\n",
    "structure_mask = structure_mask * 254\n",
    "midpoint = structure_mask.shape[2] / 2\n",
    "com = center_of_mass(structure_mask)\n",
    "print(f'Center of mass for {structure_id}: {com}')\n",
    "# in structure_mask, first index would be coronal, 3rd is sagittal\n",
    "i = int(com[0])\n",
    "slice = structure_mask[i,:,:]\n",
    "plt.scatter([com[1]], [com[0]], c='#000000', s=40)\n",
    "plt.imshow(slice, cmap='plasma')\n",
    "# Center of mass for 381: (337.62106378683893, 206.69036132418248, 227.7101836899475)\n",
    "# This COM from the calculation is in the center of the two masses"
   ]
  },
  {
   "cell_type": "code",
   "execution_count": 32,
   "metadata": {},
   "outputs": [
    {
     "name": "stdout",
     "output_type": "stream",
     "text": [
      "Shape of entire brain (528, 320, 456)\n",
      "Mid z 228\n"
     ]
    }
   ],
   "source": [
    "print('Shape of entire brain', rsp.annotation.shape)\n",
    "midpoint = int(rsp.annotation.shape[2] / 2)\n",
    "print('Mid z', midpoint)"
   ]
  },
  {
   "cell_type": "code",
   "execution_count": null,
   "metadata": {},
   "outputs": [],
   "source": [
    "structures = {}"
   ]
  },
  {
   "cell_type": "code",
   "execution_count": 30,
   "metadata": {},
   "outputs": [
    {
     "name": "stdout",
     "output_type": "stream",
     "text": [
      "7N 661\n",
      "COM left 10852.703853886256 6775.448938562715 4339.978532729069\n",
      "COM right 10852.57910152924 6775.313340826266 7045.184939205067\n"
     ]
    }
   ],
   "source": [
    "print('7N', structure_id)\n",
    "left_side = structure_mask[:,:,0:midpoint]\n",
    "right_side = structure_mask[:,:,midpoint:]\n",
    "xl,yl,zl = center_of_mass(left_side)\n",
    "xl *= 25\n",
    "yl *= 25\n",
    "zl *= 25\n",
    "print('COM left', xl,yl,zl)\n",
    "\n",
    "xr,yr,zr = center_of_mass(right_side)\n",
    "xr *= 25\n",
    "yr *= 25\n",
    "zr = (zr + midpoint) * 25\n",
    "print('COM right', xr,yr,zr)\n",
    "\n"
   ]
  },
  {
   "cell_type": "code",
   "execution_count": 18,
   "metadata": {},
   "outputs": [
    {
     "data": {
      "text/plain": [
       "455"
      ]
     },
     "execution_count": 18,
     "metadata": {},
     "output_type": "execute_result"
    }
   ],
   "source": [
    "228+227"
   ]
  },
  {
   "cell_type": "code",
   "execution_count": null,
   "metadata": {},
   "outputs": [],
   "source": [
    "def create_com(structure_id):\n",
    "    com = (0,0,0)\n",
    "    try:\n",
    "        structure_mask = rsp.make_structure_mask([structure_id], direct_only=False)\n",
    "    except:\n",
    "        structure_mask = None\n",
    "    if structure_mask is not None:\n",
    "        com = center_of_mass(structure_mask)\n",
    "    return com\n",
    "def round_com(com):\n",
    "    x,y,z = com\n",
    "    return (round(x,2), round(y,2), round(z,2))\n",
    "def calculate_distance(id1, id2):\n",
    "    com1 = create_com(id1)\n",
    "    com2 = create_com(id2)\n",
    "    a = np.array(com1).astype(np.float64)\n",
    "    b = np.array(com2).astype(np.float64)\n",
    "    return (np.linalg.norm(a-b))\n",
    "    \n",
    "com = create_com(structure_id)\n",
    "print(com)\n",
    "com_round = round_com(com)\n",
    "print(com_round)"
   ]
  },
  {
   "cell_type": "code",
   "execution_count": null,
   "metadata": {},
   "outputs": [],
   "source": [
    "SC_id = 302\n",
    "IC_id = 811\n",
    "V_id = 621"
   ]
  },
  {
   "cell_type": "code",
   "execution_count": null,
   "metadata": {},
   "outputs": [],
   "source": [
    "calculate_distance(SC_id, IC_id)"
   ]
  },
  {
   "cell_type": "code",
   "execution_count": null,
   "metadata": {},
   "outputs": [],
   "source": [
    "#sg['com'] = create_com(sg['id'])\n",
    "sg['com'] = sg['id'].apply(create_com)"
   ]
  },
  {
   "cell_type": "code",
   "execution_count": null,
   "metadata": {},
   "outputs": [],
   "source": [
    "sg['com_rounded'] = sg['com'].apply(round_com)"
   ]
  },
  {
   "cell_type": "code",
   "execution_count": null,
   "metadata": {},
   "outputs": [],
   "source": [
    "df = sg.drop(sg.columns[[1, 2, 5,6,7,8]], axis=1)"
   ]
  },
  {
   "cell_type": "code",
   "execution_count": null,
   "metadata": {},
   "outputs": [],
   "source": [
    "sg.head()"
   ]
  },
  {
   "cell_type": "code",
   "execution_count": null,
   "metadata": {},
   "outputs": [],
   "source": [
    "df.head()"
   ]
  },
  {
   "cell_type": "code",
   "execution_count": null,
   "metadata": {},
   "outputs": [],
   "source": [
    "outfile = '/home/eddyod/allen-coms.csv'\n",
    "com_df.to_csv(outfile, index=False)"
   ]
  },
  {
   "cell_type": "code",
   "execution_count": null,
   "metadata": {},
   "outputs": [],
   "source": [
    "infile = '/home/eddyod/sql/allen.DK52.COMS.csv'\n",
    "com_df = pd.read_csv(infile)\n",
    "com_df.head()"
   ]
  },
  {
   "cell_type": "code",
   "execution_count": null,
   "metadata": {},
   "outputs": [],
   "source": [
    "#com_df['distance_l'] = com_df[['allen_com', 'dk52_l_com']].apply(calculate_distance)\n",
    "com_df['distance_l'] = com_df.apply(lambda x: calculate_distance(x.allen_com, x.dk52_l_com), axis=1)"
   ]
  },
  {
   "cell_type": "code",
   "execution_count": null,
   "metadata": {},
   "outputs": [],
   "source": [
    "com_df.head(20)"
   ]
  }
 ],
 "metadata": {
  "kernelspec": {
   "display_name": "Python 3 (ipykernel)",
   "language": "python",
   "name": "python3"
  },
  "language_info": {
   "codemirror_mode": {
    "name": "ipython",
    "version": 3
   },
   "file_extension": ".py",
   "mimetype": "text/x-python",
   "name": "python",
   "nbconvert_exporter": "python",
   "pygments_lexer": "ipython3",
   "version": "3.10.6"
  }
 },
 "nbformat": 4,
 "nbformat_minor": 4
}
