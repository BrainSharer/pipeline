{
 "cells": [
  {
   "cell_type": "markdown",
   "metadata": {},
   "source": [
    "# Finding brain regions and getting their center of mass using the Allen SDK\n",
    "\n",
    "1. Create a new python virtual environment or use an existing one.\n",
    "1. pip install allensdk==2.15.1 # this works with the current ubuntu/pipeline we have, you can try just doing pip install allensdk\n",
    "1. The Allen data has to be download which happens in the commands below. You might get an error on downloading, if you do, just copy the link that is in the error message and use curl or wget or just put that link in the browser. It will then download. You will need to move that into the current working directory of this notebook under the 'mouse_connectivity' directory\n"
   ]
  },
  {
   "cell_type": "code",
   "execution_count": 1,
   "metadata": {},
   "outputs": [],
   "source": [
    "import numpy as np\n",
    "import pandas as pd\n",
    "from scipy.ndimage import center_of_mass\n",
    "from allensdk.core.mouse_connectivity_cache import MouseConnectivityCache\n",
    "from matplotlib import pyplot as plt"
   ]
  },
  {
   "cell_type": "markdown",
   "metadata": {},
   "source": [
    "### Accessing the CCF from the MouseConnectivityCache\n",
    "\n",
    "Instantiate the MouseConnectivityCache (mcc). The default resolution is 25 microns, but 10,50, and 100 microns are also valid options. You can also specify a location of a manifest file, which would keep track of all downloaded assets from template and annotation volumes to experimental data. If a manifest file directory is not provided, one will be created in the current working directory. (This is where you might get downloading errors, just download it manually and place it under the dir: mouse_connectivity'"
   ]
  },
  {
   "cell_type": "code",
   "execution_count": 2,
   "metadata": {},
   "outputs": [],
   "source": [
    "mcc = MouseConnectivityCache(resolution=25)"
   ]
  },
  {
   "cell_type": "markdown",
   "metadata": {},
   "source": [
    "#### Annotated Volume and Reference Space\n",
    "Now you can get the Reference Space (rsp) at that resolution. This automatically downloads the annotated volume at the specified resolution (25 microns)."
   ]
  },
  {
   "cell_type": "code",
   "execution_count": 3,
   "metadata": {},
   "outputs": [],
   "source": [
    "rsp = mcc.get_reference_space()"
   ]
  },
  {
   "cell_type": "markdown",
   "metadata": {},
   "source": [
    "The annotated volume is a 3D numpy ndarray, with axes correspond to AP,DV, and ML respectively:"
   ]
  },
  {
   "cell_type": "code",
   "execution_count": 4,
   "metadata": {},
   "outputs": [
    {
     "name": "stdout",
     "output_type": "stream",
     "text": [
      "Type of annotated volume <class 'allensdk.core.reference_space.ReferenceSpace'>\n",
      "Shape of annotated volume: (528, 320, 456)\n",
      "Annotated volume data type: uint32\n"
     ]
    }
   ],
   "source": [
    "print('Type of annotated volume', type(rsp))\n",
    "print('Shape of annotated volume:',rsp.annotation.shape)\n",
    "print('Annotated volume data type:',rsp.annotation.dtype)"
   ]
  },
  {
   "cell_type": "markdown",
   "metadata": {},
   "source": [
    "The rsp provides access to the structure tree from the ontology. Given that there are multiple atlases and associated ontologies, we are only interested in the structures belonging to this annotation. Thus, we remove unassigned structures from the structure tree. This returns a structure graph which is more easily viewed as a pandas DataFrame:"
   ]
  },
  {
   "cell_type": "code",
   "execution_count": 5,
   "metadata": {},
   "outputs": [],
   "source": [
    "sg = rsp.remove_unassigned()"
   ]
  },
  {
   "cell_type": "code",
   "execution_count": 6,
   "metadata": {},
   "outputs": [],
   "source": [
    "sg = pd.DataFrame(sg)"
   ]
  },
  {
   "cell_type": "code",
   "execution_count": null,
   "metadata": {},
   "outputs": [],
   "source": [
    "sg.head()"
   ]
  },
  {
   "cell_type": "code",
   "execution_count": 7,
   "metadata": {},
   "outputs": [
    {
     "data": {
      "text/html": [
       "<div>\n",
       "<style scoped>\n",
       "    .dataframe tbody tr th:only-of-type {\n",
       "        vertical-align: middle;\n",
       "    }\n",
       "\n",
       "    .dataframe tbody tr th {\n",
       "        vertical-align: top;\n",
       "    }\n",
       "\n",
       "    .dataframe thead th {\n",
       "        text-align: right;\n",
       "    }\n",
       "</style>\n",
       "<table border=\"1\" class=\"dataframe\">\n",
       "  <thead>\n",
       "    <tr style=\"text-align: right;\">\n",
       "      <th></th>\n",
       "      <th>acronym</th>\n",
       "      <th>graph_id</th>\n",
       "      <th>graph_order</th>\n",
       "      <th>id</th>\n",
       "      <th>name</th>\n",
       "      <th>structure_id_path</th>\n",
       "      <th>structure_set_ids</th>\n",
       "      <th>rgb_triplet</th>\n",
       "    </tr>\n",
       "  </thead>\n",
       "  <tbody>\n",
       "  </tbody>\n",
       "</table>\n",
       "</div>"
      ],
      "text/plain": [
       "Empty DataFrame\n",
       "Columns: [acronym, graph_id, graph_order, id, name, structure_id_path, structure_set_ids, rgb_triplet]\n",
       "Index: []"
      ]
     },
     "execution_count": 7,
     "metadata": {},
     "output_type": "execute_result"
    }
   ],
   "source": [
    "# I picked the IC as it is easy to see\n",
    "# get data with structure name\n",
    "structure = 'Superior colliculus'\n",
    "row = sg.loc[sg['name'] == structure]\n",
    "row"
   ]
  },
  {
   "cell_type": "code",
   "execution_count": null,
   "metadata": {},
   "outputs": [],
   "source": [
    "# get data with acronym\n",
    "# our facial nerve is 7n_L and 7n_R, Allen has it as VII\n",
    "# SC = SCs, SNR = SNr\n",
    "acronym = 'VII'\n",
    "row = sg.loc[sg['acronym'] == acronym]\n",
    "row"
   ]
  },
  {
   "cell_type": "code",
   "execution_count": 8,
   "metadata": {},
   "outputs": [
    {
     "data": {
      "text/html": [
       "<div>\n",
       "<style scoped>\n",
       "    .dataframe tbody tr th:only-of-type {\n",
       "        vertical-align: middle;\n",
       "    }\n",
       "\n",
       "    .dataframe tbody tr th {\n",
       "        vertical-align: top;\n",
       "    }\n",
       "\n",
       "    .dataframe thead th {\n",
       "        text-align: right;\n",
       "    }\n",
       "</style>\n",
       "<table border=\"1\" class=\"dataframe\">\n",
       "  <thead>\n",
       "    <tr style=\"text-align: right;\">\n",
       "      <th></th>\n",
       "      <th>acronym</th>\n",
       "      <th>graph_id</th>\n",
       "      <th>graph_order</th>\n",
       "      <th>id</th>\n",
       "      <th>name</th>\n",
       "      <th>structure_id_path</th>\n",
       "      <th>structure_set_ids</th>\n",
       "      <th>rgb_triplet</th>\n",
       "    </tr>\n",
       "  </thead>\n",
       "  <tbody>\n",
       "    <tr>\n",
       "      <th>536</th>\n",
       "      <td>SCs</td>\n",
       "      <td>1</td>\n",
       "      <td>808</td>\n",
       "      <td>302</td>\n",
       "      <td>Superior colliculus, sensory related</td>\n",
       "      <td>[997, 8, 343, 313, 339, 302]</td>\n",
       "      <td>[112905828, 691663206, 687527945, 10, 12, 6881...</td>\n",
       "      <td>[255, 122, 255]</td>\n",
       "    </tr>\n",
       "    <tr>\n",
       "      <th>537</th>\n",
       "      <td>SCop</td>\n",
       "      <td>1</td>\n",
       "      <td>809</td>\n",
       "      <td>851</td>\n",
       "      <td>Superior colliculus, optic layer</td>\n",
       "      <td>[997, 8, 343, 313, 339, 302, 851]</td>\n",
       "      <td>[184527634, 12, 691663206]</td>\n",
       "      <td>[255, 122, 255]</td>\n",
       "    </tr>\n",
       "    <tr>\n",
       "      <th>538</th>\n",
       "      <td>SCsg</td>\n",
       "      <td>1</td>\n",
       "      <td>810</td>\n",
       "      <td>842</td>\n",
       "      <td>Superior colliculus, superficial gray layer</td>\n",
       "      <td>[997, 8, 343, 313, 339, 302, 842]</td>\n",
       "      <td>[184527634, 12, 691663206]</td>\n",
       "      <td>[255, 122, 255]</td>\n",
       "    </tr>\n",
       "    <tr>\n",
       "      <th>539</th>\n",
       "      <td>SCzo</td>\n",
       "      <td>1</td>\n",
       "      <td>811</td>\n",
       "      <td>834</td>\n",
       "      <td>Superior colliculus, zonal layer</td>\n",
       "      <td>[997, 8, 343, 313, 339, 302, 834]</td>\n",
       "      <td>[184527634, 12, 691663206]</td>\n",
       "      <td>[255, 122, 255]</td>\n",
       "    </tr>\n",
       "    <tr>\n",
       "      <th>555</th>\n",
       "      <td>SCm</td>\n",
       "      <td>1</td>\n",
       "      <td>830</td>\n",
       "      <td>294</td>\n",
       "      <td>Superior colliculus, motor related</td>\n",
       "      <td>[997, 8, 343, 313, 323, 294]</td>\n",
       "      <td>[112905828, 691663206, 687527945, 12, 68815236...</td>\n",
       "      <td>[255, 144, 255]</td>\n",
       "    </tr>\n",
       "    <tr>\n",
       "      <th>556</th>\n",
       "      <td>SCdg</td>\n",
       "      <td>1</td>\n",
       "      <td>831</td>\n",
       "      <td>26</td>\n",
       "      <td>Superior colliculus, motor related, deep gray ...</td>\n",
       "      <td>[997, 8, 343, 313, 323, 294, 26]</td>\n",
       "      <td>[184527634, 12, 691663206]</td>\n",
       "      <td>[255, 144, 255]</td>\n",
       "    </tr>\n",
       "    <tr>\n",
       "      <th>557</th>\n",
       "      <td>SCdw</td>\n",
       "      <td>1</td>\n",
       "      <td>832</td>\n",
       "      <td>42</td>\n",
       "      <td>Superior colliculus, motor related, deep white...</td>\n",
       "      <td>[997, 8, 343, 313, 323, 294, 42]</td>\n",
       "      <td>[184527634, 12, 691663206]</td>\n",
       "      <td>[255, 144, 255]</td>\n",
       "    </tr>\n",
       "    <tr>\n",
       "      <th>558</th>\n",
       "      <td>SCiw</td>\n",
       "      <td>1</td>\n",
       "      <td>833</td>\n",
       "      <td>17</td>\n",
       "      <td>Superior colliculus, motor related, intermedia...</td>\n",
       "      <td>[997, 8, 343, 313, 323, 294, 17]</td>\n",
       "      <td>[184527634, 12, 691663206]</td>\n",
       "      <td>[255, 144, 255]</td>\n",
       "    </tr>\n",
       "    <tr>\n",
       "      <th>559</th>\n",
       "      <td>SCig</td>\n",
       "      <td>1</td>\n",
       "      <td>834</td>\n",
       "      <td>10</td>\n",
       "      <td>Superior colliculus, motor related, intermedia...</td>\n",
       "      <td>[997, 8, 343, 313, 323, 294, 10]</td>\n",
       "      <td>[184527634, 12, 691663206]</td>\n",
       "      <td>[255, 144, 255]</td>\n",
       "    </tr>\n",
       "  </tbody>\n",
       "</table>\n",
       "</div>"
      ],
      "text/plain": [
       "    acronym  graph_id  graph_order   id  \\\n",
       "536     SCs         1          808  302   \n",
       "537    SCop         1          809  851   \n",
       "538    SCsg         1          810  842   \n",
       "539    SCzo         1          811  834   \n",
       "555     SCm         1          830  294   \n",
       "556    SCdg         1          831   26   \n",
       "557    SCdw         1          832   42   \n",
       "558    SCiw         1          833   17   \n",
       "559    SCig         1          834   10   \n",
       "\n",
       "                                                  name  \\\n",
       "536               Superior colliculus, sensory related   \n",
       "537                   Superior colliculus, optic layer   \n",
       "538        Superior colliculus, superficial gray layer   \n",
       "539                   Superior colliculus, zonal layer   \n",
       "555                 Superior colliculus, motor related   \n",
       "556  Superior colliculus, motor related, deep gray ...   \n",
       "557  Superior colliculus, motor related, deep white...   \n",
       "558  Superior colliculus, motor related, intermedia...   \n",
       "559  Superior colliculus, motor related, intermedia...   \n",
       "\n",
       "                     structure_id_path  \\\n",
       "536       [997, 8, 343, 313, 339, 302]   \n",
       "537  [997, 8, 343, 313, 339, 302, 851]   \n",
       "538  [997, 8, 343, 313, 339, 302, 842]   \n",
       "539  [997, 8, 343, 313, 339, 302, 834]   \n",
       "555       [997, 8, 343, 313, 323, 294]   \n",
       "556   [997, 8, 343, 313, 323, 294, 26]   \n",
       "557   [997, 8, 343, 313, 323, 294, 42]   \n",
       "558   [997, 8, 343, 313, 323, 294, 17]   \n",
       "559   [997, 8, 343, 313, 323, 294, 10]   \n",
       "\n",
       "                                     structure_set_ids      rgb_triplet  \n",
       "536  [112905828, 691663206, 687527945, 10, 12, 6881...  [255, 122, 255]  \n",
       "537                         [184527634, 12, 691663206]  [255, 122, 255]  \n",
       "538                         [184527634, 12, 691663206]  [255, 122, 255]  \n",
       "539                         [184527634, 12, 691663206]  [255, 122, 255]  \n",
       "555  [112905828, 691663206, 687527945, 12, 68815236...  [255, 144, 255]  \n",
       "556                         [184527634, 12, 691663206]  [255, 144, 255]  \n",
       "557                         [184527634, 12, 691663206]  [255, 144, 255]  \n",
       "558                         [184527634, 12, 691663206]  [255, 144, 255]  \n",
       "559                         [184527634, 12, 691663206]  [255, 144, 255]  "
      ]
     },
     "execution_count": 8,
     "metadata": {},
     "output_type": "execute_result"
    }
   ],
   "source": [
    "sg.query('name.str.contains(\"Superior colliculus\")', engine='python')"
   ]
  },
  {
   "cell_type": "code",
   "execution_count": null,
   "metadata": {},
   "outputs": [],
   "source": [
    "structure_id = row.iat[0, 3]\n",
    "print(structure_id)"
   ]
  },
  {
   "cell_type": "code",
   "execution_count": null,
   "metadata": {},
   "outputs": [],
   "source": [
    "# Get a list of acronymns\n",
    "id_acronym_map = rsp.structure_tree.get_id_acronym_map() # Dictionary returns IDs given acronyms\n",
    "acronym_id_map = {v:k for k,v in id_acronym_map.items()} # Flip key:value pairs to get dictionary for acronyms given IDs\n",
    "print(list(map(acronym_id_map.get,rsp.structure_tree.descendant_ids([structure_id])[0])))"
   ]
  },
  {
   "cell_type": "markdown",
   "metadata": {},
   "source": [
    "The structures' acronyms, names and IDs can all be linked through the structure graph."
   ]
  },
  {
   "cell_type": "markdown",
   "metadata": {},
   "source": [
    "While the rsp can be used to generate sections in the coronal (0), horizontal (1), or sagittal (2) planes:"
   ]
  },
  {
   "cell_type": "code",
   "execution_count": null,
   "metadata": {},
   "outputs": [],
   "source": [
    "orientation = {'coronal':0,'horizontal':1,'sagittal':2} # makes orientation arguments more readible\n",
    "pos_microns = lambda x:x*25 # get_slice_image function takes positional arguments in microns instead of 25 micron increments\n",
    "\n",
    "img = rsp.get_slice_image(orientation['sagittal'],pos_microns(200))\n",
    "img = np.rot90(img, axes=(0,1))\n",
    "img = np.flip(img, axis=0)\n",
    "plt.imshow(img)"
   ]
  },
  {
   "cell_type": "markdown",
   "metadata": {},
   "source": [
    "The rsp can also generate masks of given structure IDs. The IDs are provided as a list, and by default include all voxels annotated as children of the given structures (direct_only=False). If only the parent level voxels are desired, set direct_only to True.\n",
    "\n",
    "Here we make a mask of the Cerebral Cortex, which from the structure graph is shown to have the ID 688."
   ]
  },
  {
   "cell_type": "code",
   "execution_count": 11,
   "metadata": {},
   "outputs": [
    {
     "name": "stdout",
     "output_type": "stream",
     "text": [
      "[302]\n"
     ]
    }
   ],
   "source": [
    "IC=[811]\n",
    "SC=[302]\n",
    "structure_id = SC\n",
    "if type(structure_id) == list:\n",
    "    sid = structure_id\n",
    "else:\n",
    "    sid = [structure_id]\n",
    "print(sid)"
   ]
  },
  {
   "cell_type": "code",
   "execution_count": 12,
   "metadata": {},
   "outputs": [
    {
     "name": "stdout",
     "output_type": "stream",
     "text": [
      "uint8 (528, 320, 456)\n",
      "[76907626   138134]\n",
      "Center of mass for [302]: 368.08973894913635 62.21607279887645 227.68008600344592\n",
      "Center of mass in um for [302]: 9202.24347372841 1555.4018199719114 5692.002150086148\n"
     ]
    },
    {
     "data": {
      "text/plain": [
       "<matplotlib.image.AxesImage at 0x7fba1ed2dea0>"
      ]
     },
     "execution_count": 12,
     "metadata": {},
     "output_type": "execute_result"
    },
    {
     "data": {
      "image/png": "[encoded data removed]",
      "text/plain": [
       "<Figure size 640x480 with 1 Axes>"
      ]
     },
     "metadata": {},
     "output_type": "display_data"
    }
   ],
   "source": [
    "#structure_mask = rsp.make_structure_mask([structure_id], direct_only=False)\n",
    "structure_mask = rsp.make_structure_mask(sid, direct_only=False)\n",
    "ids, counts = np.unique(structure_mask, return_counts=True)\n",
    "print(structure_mask.dtype, structure_mask.shape)\n",
    "print(counts)\n",
    "#structure_mask = np.swapaxes(structure_mask, 0, 2)\n",
    "structure_mask = structure_mask * 254\n",
    "midpoint = structure_mask.shape[2] / 2\n",
    "x,y,z = center_of_mass(structure_mask)\n",
    "print(f'Center of mass for {structure_id}: {x} {y} {z}')\n",
    "xum = x * 25\n",
    "yum = y * 25\n",
    "zum = z * 25\n",
    "print(f'Center of mass in um for {structure_id}: {xum} {yum} {zum}')\n",
    "# in structure_mask, first index would be coronal, 3rd is sagittal\n",
    "i = int(x)\n",
    "slice = structure_mask[i,:,:]\n",
    "plt.scatter(y, x, c='#000000', s=40)\n",
    "plt.imshow(slice, cmap='plasma')\n",
    "# Center of mass for 381: (337.62106378683893, 206.69036132418248, 227.7101836899475)\n",
    "# This COM from the calculation is in the center of the two masses"
   ]
  },
  {
   "cell_type": "code",
   "execution_count": null,
   "metadata": {},
   "outputs": [],
   "source": [
    "plt.figure(figsize=[20,20])\n",
    "for id in IC:\n",
    "    structure_mask = rsp.make_structure_mask([id], direct_only=False)\n",
    "    structure_mask = structure_mask\n",
    "    x,y,z = center_of_mass(structure_mask)\n",
    "    # in structure_mask, first index would be coronal, 3rd is sagittal\n",
    "    i = int(z/2)\n",
    "    slice = structure_mask[:,:,i].astype(np.uint16) * id * 100\n",
    "    print(f'Center of mass for {id}: {x} {y} {z} {slice.dtype}')\n",
    "    #plt.scatter(z, y, c='#FFFFFF', s=40)\n",
    "    slice = np.rot90(slice, axes=(0,1))\n",
    "    slice = np.flip(slice, axis=0)\n",
    "    plt.imshow(slice, cmap='plasma',alpha=0.5)"
   ]
  },
  {
   "cell_type": "code",
   "execution_count": null,
   "metadata": {},
   "outputs": [],
   "source": [
    "# coronal\n",
    "plt.figure(figsize=[20,20])\n",
    "for id in SC:\n",
    "    structure_mask = rsp.make_structure_mask([id], direct_only=False)\n",
    "    structure_mask = structure_mask\n",
    "    x,y,z = center_of_mass(structure_mask)\n",
    "    # in structure_mask, first index would be coronal, 3rd is sagittal\n",
    "    i = int(x)\n",
    "    slice = structure_mask[i,:,:].astype(np.uint16) * id * 100\n",
    "    print(f'Center of mass for {id}: {x} {y} {z} {slice.dtype}')\n",
    "    plt.scatter(z, y, c='#FFFFFF', s=40)\n",
    "    plt.imshow(slice, cmap='plasma',alpha=0.5)"
   ]
  },
  {
   "cell_type": "code",
   "execution_count": null,
   "metadata": {},
   "outputs": [],
   "source": [
    "def bbox(img):\n",
    "    r = np.any(img, axis=(1, 2))\n",
    "    c = np.any(img, axis=(0, 2))\n",
    "    z = np.any(img, axis=(0, 1))\n",
    "\n",
    "    rmin, rmax = np.where(r)[0][[0, -1]]\n",
    "    cmin, cmax = np.where(c)[0][[0, -1]]\n",
    "    zmin, zmax = np.where(z)[0][[0, -1]]\n",
    "    return img[rmin:rmax, cmin:cmax, zmin:zmax]"
   ]
  },
  {
   "cell_type": "code",
   "execution_count": null,
   "metadata": {},
   "outputs": [],
   "source": [
    "rmin, rmax, cmin, cmax, zmin, zmax = bbox(structure_mask)\n",
    "mask = structure_mask[rmin:rmax, cmin:cmax, zmin:zmax]\n",
    "print(cmin, rmin, zmin)"
   ]
  },
  {
   "cell_type": "code",
   "execution_count": null,
   "metadata": {},
   "outputs": [],
   "source": [
    "mask.shape"
   ]
  },
  {
   "cell_type": "code",
   "execution_count": null,
   "metadata": {},
   "outputs": [],
   "source": [
    "i = mask.shape[0] // 1\n",
    "slice = mask[7,:,:]\n",
    "plt.imshow(slice, cmap='plasma')"
   ]
  },
  {
   "cell_type": "code",
   "execution_count": null,
   "metadata": {},
   "outputs": [],
   "source": [
    "print(structure_mask.shape)\n",
    "B = np.argwhere(a)\n",
    "(ystart, xstart, zstart), (ystop, xstop, zend) = B.min(0), B.max(0) + 1 \n",
    "Atrim = a[ystart:ystop, xstart:xstop, zstart:]"
   ]
  },
  {
   "cell_type": "code",
   "execution_count": null,
   "metadata": {},
   "outputs": [],
   "source": [
    "print('Shape of entire brain', rsp.annotation.shape)\n",
    "midpoint = int(rsp.annotation.shape[2] / 2)\n",
    "print('Mid z', midpoint)"
   ]
  },
  {
   "cell_type": "code",
   "execution_count": null,
   "metadata": {},
   "outputs": [],
   "source": [
    "structures = {}"
   ]
  },
  {
   "cell_type": "code",
   "execution_count": null,
   "metadata": {},
   "outputs": [],
   "source": [
    "print('7N', structure_id)\n",
    "left_side = structure_mask[:,:,0:midpoint]\n",
    "right_side = structure_mask[:,:,midpoint:]\n",
    "xl,yl,zl = center_of_mass(left_side)\n",
    "xl *= 25\n",
    "yl *= 25\n",
    "zl *= 25\n",
    "print('COM left', xl,yl,zl)\n",
    "\n",
    "xr,yr,zr = center_of_mass(right_side)\n",
    "xr *= 25\n",
    "yr *= 25\n",
    "zr = (zr + midpoint) * 25\n",
    "print('COM right', xr,yr,zr)\n",
    "\n"
   ]
  },
  {
   "cell_type": "code",
   "execution_count": null,
   "metadata": {},
   "outputs": [],
   "source": [
    "228+227"
   ]
  },
  {
   "cell_type": "code",
   "execution_count": null,
   "metadata": {},
   "outputs": [],
   "source": [
    "def create_com(structure_id):\n",
    "    com = (0,0,0)\n",
    "    try:\n",
    "        structure_mask = rsp.make_structure_mask([structure_id], direct_only=False)\n",
    "    except:\n",
    "        structure_mask = None\n",
    "    if structure_mask is not None:\n",
    "        com = center_of_mass(structure_mask)\n",
    "    return com\n",
    "def round_com(com):\n",
    "    x,y,z = com\n",
    "    return (round(x,2), round(y,2), round(z,2))\n",
    "def calculate_distance(id1, id2):\n",
    "    com1 = create_com(id1)\n",
    "    com2 = create_com(id2)\n",
    "    a = np.array(com1).astype(np.float64)\n",
    "    b = np.array(com2).astype(np.float64)\n",
    "    return (np.linalg.norm(a-b))\n",
    "    \n",
    "com = create_com(structure_id)\n",
    "print(com)\n",
    "com_round = round_com(com)\n",
    "print(com_round)"
   ]
  },
  {
   "cell_type": "code",
   "execution_count": null,
   "metadata": {},
   "outputs": [],
   "source": [
    "SC_id = 302\n",
    "IC_id = 811\n",
    "V_id = 621"
   ]
  },
  {
   "cell_type": "code",
   "execution_count": null,
   "metadata": {},
   "outputs": [],
   "source": [
    "calculate_distance(SC_id, IC_id)"
   ]
  },
  {
   "cell_type": "code",
   "execution_count": null,
   "metadata": {},
   "outputs": [],
   "source": [
    "#sg['com'] = create_com(sg['id'])\n",
    "sg['com'] = sg['id'].apply(create_com)"
   ]
  },
  {
   "cell_type": "code",
   "execution_count": null,
   "metadata": {},
   "outputs": [],
   "source": [
    "sg['com_rounded'] = sg['com'].apply(round_com)"
   ]
  },
  {
   "cell_type": "code",
   "execution_count": null,
   "metadata": {},
   "outputs": [],
   "source": [
    "df = sg.drop(sg.columns[[1, 2, 5,6,7,8]], axis=1)"
   ]
  },
  {
   "cell_type": "code",
   "execution_count": null,
   "metadata": {},
   "outputs": [],
   "source": [
    "sg.head()"
   ]
  },
  {
   "cell_type": "code",
   "execution_count": null,
   "metadata": {},
   "outputs": [],
   "source": [
    "df.head()"
   ]
  },
  {
   "cell_type": "code",
   "execution_count": null,
   "metadata": {},
   "outputs": [],
   "source": [
    "outfile = '/home/eddyod/allen-coms.csv'\n",
    "com_df.to_csv(outfile, index=False)"
   ]
  },
  {
   "cell_type": "code",
   "execution_count": null,
   "metadata": {},
   "outputs": [],
   "source": [
    "infile = '/home/eddyod/sql/allen.DK52.COMS.csv'\n",
    "com_df = pd.read_csv(infile)\n",
    "com_df.head()"
   ]
  },
  {
   "cell_type": "code",
   "execution_count": null,
   "metadata": {},
   "outputs": [],
   "source": [
    "#com_df['distance_l'] = com_df[['allen_com', 'dk52_l_com']].apply(calculate_distance)\n",
    "com_df['distance_l'] = com_df.apply(lambda x: calculate_distance(x.allen_com, x.dk52_l_com), axis=1)"
   ]
  },
  {
   "cell_type": "code",
   "execution_count": null,
   "metadata": {},
   "outputs": [],
   "source": [
    "com_df.head(20)"
   ]
  }
 ],
 "metadata": {
  "kernelspec": {
   "display_name": "Python 3",
   "language": "python",
   "name": "python3"
  },
  "language_info": {
   "codemirror_mode": {
    "name": "ipython",
    "version": 3
   },
   "file_extension": ".py",
   "mimetype": "text/x-python",
   "name": "python",
   "nbconvert_exporter": "python",
   "pygments_lexer": "ipython3",
   "version": "3.10.12"
  }
 },
 "nbformat": 4,
 "nbformat_minor": 4
}
