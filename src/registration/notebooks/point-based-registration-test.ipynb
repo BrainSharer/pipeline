{
 "cells": [
  {
   "cell_type": "code",
   "execution_count": 16,
   "metadata": {},
   "outputs": [],
   "source": [
    "import os\n",
    "import sys\n",
    "import numpy as np\n",
    "from skimage import io\n",
    "import SimpleITK as sitk\n",
    "from skimage.filters import gaussian"
   ]
  },
  {
   "cell_type": "code",
   "execution_count": 2,
   "metadata": {},
   "outputs": [
    {
     "name": "stdout",
     "output_type": "stream",
     "text": [
      "/net/birdstore/Active_Atlas_Data/data_root/pipeline_data/MD589/preps/CH1/moving_volume.tif\n"
     ]
    }
   ],
   "source": [
    "DATA = '/net/birdstore/Active_Atlas_Data/data_root/pipeline_data'\n",
    "moving_path = os.path.join(DATA, 'MD585/preps/CH1/moving_volume.tif')\n",
    "fixed_path = os.path.join(DATA, 'MD589/preps/CH1/moving_volume.tif')\n",
    "print(fixed_path)"
   ]
  },
  {
   "cell_type": "code",
   "execution_count": 45,
   "metadata": {},
   "outputs": [],
   "source": [
    "def normalize8(img):\n",
    "    mn = img.min()\n",
    "    mx = img.max()\n",
    "    mx -= mn\n",
    "    img = ((img - mn)/mx) * 2**8 - 1\n",
    "    return np.round(img).astype(np.uint8) \n",
    "\n",
    "def pad_volume(size, volume):\n",
    "    size_difference = size - volume.shape\n",
    "    xr, yr, zr = ((size_difference)/2).astype(int)\n",
    "    xl, yl, zl = size_difference - np.array([xr, yr, zr])\n",
    "    return np.pad(volume, [[xl, xr], [yl, yr], [zl, zr]])\n"
   ]
  },
  {
   "cell_type": "code",
   "execution_count": 3,
   "metadata": {},
   "outputs": [],
   "source": [
    "fixed_image = sitk.ReadImage(fixed_path, sitk.sitkFloat32)\n",
    "moving_image = sitk.ReadImage(moving_path, sitk.sitkFloat32)"
   ]
  },
  {
   "cell_type": "code",
   "execution_count": 4,
   "metadata": {},
   "outputs": [
    {
     "data": {
      "text/plain": [
       "<SimpleITK.SimpleITK.ElastixImageFilter; proxy of <Swig Object of type 'itk::simple::ElastixImageFilter::Self *' at 0x7fa36612cc00> >"
      ]
     },
     "execution_count": 4,
     "metadata": {},
     "output_type": "execute_result"
    }
   ],
   "source": [
    "iterationNumbers = 600\n",
    "spatialSamples = 6000\n",
    "simpleElastix = sitk.ElastixImageFilter()\n",
    "simpleElastix.SetParameterMap(sitk.GetDefaultParameterMap('translation'))\n",
    "simpleElastix.AddParameterMap(sitk.GetDefaultParameterMap('affine'))\n",
    "simpleElastix.AddParameterMap(sitk.GetDefaultParameterMap('bspline'))\n",
    "simpleElastix.SetParameter(\"Registration\",\"MultiMetricMultiResolutionRegistration\")\n",
    "simpleElastix.SetParameter( \"Metric\", (\"NormalizedMutualInformation\", \"CorrespondingPointsEuclideanDistanceMetric\",))\n",
    "simpleElastix.SetParameter(\"Metric0Weight\", \"0.0\")\n",
    "simpleElastix.SetParameter(\"MaximumNumberOfIterations\" , str(iterationNumbers))\n",
    "simpleElastix.SetParameter(\"NumberOfSpatialSamples\" , str(spatialSamples))\n",
    "#simpleElastix.PrintParameterMap()"
   ]
  },
  {
   "cell_type": "code",
   "execution_count": 5,
   "metadata": {
    "scrolled": false
   },
   "outputs": [
    {
     "name": "stdout",
     "output_type": "stream",
     "text": [
      "CPU times: user 13min 3s, sys: 7.93 s, total: 13min 11s\n",
      "Wall time: 9min 53s\n"
     ]
    }
   ],
   "source": [
    "%%time\n",
    "simpleElastix.SetFixedImage(fixed_image)\n",
    "simpleElastix.SetMovingImage(moving_image)\n",
    "simpleElastix.SetOutputDirectory('/tmp')\n",
    "simpleElastix.SetFixedPointSetFileName(\"/tmp/fixed_points.pts\")\n",
    "simpleElastix.SetMovingPointSetFileName(\"/tmp/moving_points.pts\")\n",
    "simpleElastix.LogToConsoleOff()\n",
    "resultImage = simpleElastix.Execute()"
   ]
  },
  {
   "cell_type": "code",
   "execution_count": 6,
   "metadata": {},
   "outputs": [
    {
     "data": {
      "text/plain": [
       "(numpy.ndarray, dtype('float32'), (447, 253, 342))"
      ]
     },
     "execution_count": 6,
     "metadata": {},
     "output_type": "execute_result"
    }
   ],
   "source": [
    "img = sitk.GetArrayFromImage(resultImage)\n",
    "type(img), img.dtype, img.shape"
   ]
  },
  {
   "cell_type": "code",
   "execution_count": 7,
   "metadata": {},
   "outputs": [],
   "source": [
    "savepath = '/net/birdstore/Active_Atlas_Data/data_root/pipeline_data/MD585/preps/CH1/registered_585.tif'\n",
    "io.imsave(savepath, img)"
   ]
  },
  {
   "cell_type": "code",
   "execution_count": 161,
   "metadata": {},
   "outputs": [],
   "source": [
    "DATA = '/net/birdstore/Active_Atlas_Data/data_root/brains_info/registration'\n",
    "MD585_volumepath = os.path.join(DATA, 'MD585_MD589.tif')\n",
    "MD589_volumepath = os.path.join(DATA, 'MD589_25um_sagittal.tif')\n",
    "MD594_volumepath = os.path.join(DATA, 'MD594_MD589.tif')\n",
    "population = [MD585_volumepath, MD589_volumepath, MD594_volumepath]"
   ]
  },
  {
   "cell_type": "code",
   "execution_count": 156,
   "metadata": {},
   "outputs": [],
   "source": [
    "MD585_volume = io.imread(MD585_volumepath)\n",
    "MD589_volume = io.imread(MD589_volumepath)\n",
    "MD594_volume = io.imread(MD594_volumepath)\n",
    "volumes = [MD585_volume, MD589_volume.astype(np.float32), MD594_volume]\n",
    "volumes2 = [MD585_volume, MD594_volume]"
   ]
  },
  {
   "cell_type": "code",
   "execution_count": 148,
   "metadata": {},
   "outputs": [
    {
     "data": {
      "text/plain": [
       "(dtype('float32'), dtype('uint8'), dtype('float32'))"
      ]
     },
     "execution_count": 148,
     "metadata": {},
     "output_type": "execute_result"
    }
   ],
   "source": [
    "MD585_volume.dtype, MD589_volume.dtype, MD594_volume.dtype"
   ]
  },
  {
   "cell_type": "code",
   "execution_count": 153,
   "metadata": {},
   "outputs": [
    {
     "name": "stdout",
     "output_type": "stream",
     "text": [
      "post max=803.9765625 mean=79.67485046386719\n"
     ]
    }
   ],
   "source": [
    "merged_volume = np.sum(volumes, axis=0)\n",
    "print(f'post max={np.max(merged_volume)} mean={np.mean(merged_volume)}')\n",
    "arr = normalize8(merged_volume)"
   ]
  },
  {
   "cell_type": "code",
   "execution_count": 154,
   "metadata": {},
   "outputs": [
    {
     "data": {
      "text/plain": [
       "(dtype('uint8'), (447, 253, 341))"
      ]
     },
     "execution_count": 154,
     "metadata": {},
     "output_type": "execute_result"
    }
   ],
   "source": [
    "arr.dtype, arr.shape"
   ]
  },
  {
   "cell_type": "code",
   "execution_count": 155,
   "metadata": {},
   "outputs": [],
   "source": [
    "savepath = os.path.join(DATA, 'gauss.tif')\n",
    "io.imsave(savepath, arr)"
   ]
  },
  {
   "cell_type": "code",
   "execution_count": 163,
   "metadata": {},
   "outputs": [
    {
     "name": "stdout",
     "output_type": "stream",
     "text": [
      "/net/birdstore/Active_Atlas_Data/data_root/brains_info/registration/MD585_MD589.tif\n",
      "/net/birdstore/Active_Atlas_Data/data_root/brains_info/registration/MD589_25um_sagittal.tif\n",
      "/net/birdstore/Active_Atlas_Data/data_root/brains_info/registration/MD594_MD589.tif\n",
      "ELASTIX version: 5.000\n",
      "Command line options from ElastixBase:\n",
      "-fMask    unspecified, so no fixed mask used\n",
      "-mMask    unspecified, so no moving mask used\n",
      "-out      ./\n",
      "-threads  unspecified, so all available threads are used\n",
      "WARNING: The parameter \"UseDirectionCosines\", requested at entry number 0, does not exist at all.\n",
      "  The default value \"true\" is used instead.\n",
      "\n",
      "WARNING: The option \"UseDirectionCosines\" was not found in your parameter file.\n",
      "  From elastix 4.8 it defaults to true!\n",
      "This may change the behavior of your registrations considerably.\n",
      "\n",
      "Command line options from TransformBase:\n",
      "-t0       unspecified, so no initial transform used\n",
      "WARNING: The parameter \"BSplineTransformSplineOrder\", requested at entry number 0, does not exist at all.\n",
      "  The default value \"3\" is used instead.\n",
      "\n",
      "Reading images...\n",
      "Reading images took 0 ms.\n",
      "\n",
      "WARNING: the fixed pyramid schedule is not fully specified!\n",
      "  A default pyramid schedule is used.\n",
      "WARNING: the moving pyramid schedule is not fully specified!\n",
      "  A default pyramid schedule is used.\n",
      "Initialization of all components (before registration) took: 2 ms.\n",
      "\n",
      "itk::ExceptionObject (0x5580f97e75e0)\n",
      "Location: \"ElastixTemplate - Run()\" \n",
      "File: /src/SimpleElastix/build/ITK-prefix/include/ITK-5.1/itkRecursiveSeparableImageFilter.hxx\n",
      "Line: 227\n",
      "Description: itk::ERROR: RecursiveGaussianImageFilter(0x558102543700): The number of pixels along direction 3 is less than 4. This filter requires a minimum of four pixels along the dimension to be processed.\n",
      "\n",
      "Error occurred during actual registration.\n",
      "\n",
      "\n"
     ]
    },
    {
     "ename": "RuntimeError",
     "evalue": "Exception thrown in SimpleITK ElastixImageFilter_Execute: /src/SimpleElastix/Code/Elastix/src/sitkElastixImageFilterImpl.cxx:259:\nsitk::ERROR: \nitk::ExceptionObject (0x5580f97e75e0)\nLocation: \"unknown\" \nFile: /src/SimpleElastix/build/Elastix/Core/Main/elxElastixFilter.hxx\nLine: 253\nDescription: itk::ERROR: ElastixFilter(0x5580ea6eaff0): Internal elastix error: See elastix log (use LogToConsoleOn() or LogToFileOn()).\n\n",
     "output_type": "error",
     "traceback": [
      "\u001b[0;31m---------------------------------------------------------------------------\u001b[0m",
      "\u001b[0;31mRuntimeError\u001b[0m                              Traceback (most recent call last)",
      "Cell \u001b[0;32mIn[163], line 15\u001b[0m\n\u001b[1;32m     13\u001b[0m elastixImageFilter\u001b[38;5;241m.\u001b[39mSetMovingImage(image)\n\u001b[1;32m     14\u001b[0m elastixImageFilter\u001b[38;5;241m.\u001b[39mSetParameterMap(sitk\u001b[38;5;241m.\u001b[39mGetDefaultParameterMap(\u001b[38;5;124m'\u001b[39m\u001b[38;5;124mgroupwise\u001b[39m\u001b[38;5;124m'\u001b[39m))\n\u001b[0;32m---> 15\u001b[0m \u001b[43melastixImageFilter\u001b[49m\u001b[38;5;241;43m.\u001b[39;49m\u001b[43mExecute\u001b[49m\u001b[43m(\u001b[49m\u001b[43m)\u001b[49m\n",
      "File \u001b[0;32m/usr/local/share/pipeline/lib/python3.10/site-packages/SimpleITK/SimpleITK.py:11130\u001b[0m, in \u001b[0;36mElastixImageFilter.Execute\u001b[0;34m(self)\u001b[0m\n\u001b[1;32m  11128\u001b[0m \u001b[38;5;28;01mdef\u001b[39;00m \u001b[38;5;21mExecute\u001b[39m(\u001b[38;5;28mself\u001b[39m):\n\u001b[1;32m  11129\u001b[0m     \u001b[38;5;124;03m\"\"\"Execute(ElastixImageFilter self) -> Image\"\"\"\u001b[39;00m\n\u001b[0;32m> 11130\u001b[0m     \u001b[38;5;28;01mreturn\u001b[39;00m \u001b[43m_SimpleITK\u001b[49m\u001b[38;5;241;43m.\u001b[39;49m\u001b[43mElastixImageFilter_Execute\u001b[49m\u001b[43m(\u001b[49m\u001b[38;5;28;43mself\u001b[39;49m\u001b[43m)\u001b[49m\n",
      "\u001b[0;31mRuntimeError\u001b[0m: Exception thrown in SimpleITK ElastixImageFilter_Execute: /src/SimpleElastix/Code/Elastix/src/sitkElastixImageFilterImpl.cxx:259:\nsitk::ERROR: \nitk::ExceptionObject (0x5580f97e75e0)\nLocation: \"unknown\" \nFile: /src/SimpleElastix/build/Elastix/Core/Main/elxElastixFilter.hxx\nLine: 253\nDescription: itk::ERROR: ElastixFilter(0x5580ea6eaff0): Internal elastix error: See elastix log (use LogToConsoleOn() or LogToFileOn()).\n\n"
     ]
    }
   ],
   "source": [
    "# Concatenate the ND images into one (N+1)D image\n",
    "vectorOfImages = sitk.VectorOfImage()\n",
    "\n",
    "for filename in population:\n",
    "    print(filename)\n",
    "    vectorOfImages.push_back(sitk.ReadImage(filename, sitk.sitkFloat32))\n",
    "\n",
    "image = sitk.JoinSeries(vectorOfImages)\n",
    "\n",
    "# Register\n",
    "elastixImageFilter = sitk.ElastixImageFilter()\n",
    "elastixImageFilter.SetFixedImage(image)\n",
    "elastixImageFilter.SetMovingImage(image)\n",
    "elastixImageFilter.SetParameterMap(sitk.GetDefaultParameterMap('groupwise'))\n",
    "elastixImageFilter.Execute()"
   ]
  }
 ],
 "metadata": {
  "kernelspec": {
   "display_name": "Python 3",
   "language": "python",
   "name": "python3"
  },
  "language_info": {
   "codemirror_mode": {
    "name": "ipython",
    "version": 3
   },
   "file_extension": ".py",
   "mimetype": "text/x-python",
   "name": "python",
   "nbconvert_exporter": "python",
   "pygments_lexer": "ipython3",
   "version": "3.10.12"
  }
 },
 "nbformat": 4,
 "nbformat_minor": 4
}
