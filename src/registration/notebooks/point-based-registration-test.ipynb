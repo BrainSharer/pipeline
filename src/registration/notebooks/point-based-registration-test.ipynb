{
 "cells": [
  {
   "cell_type": "code",
   "execution_count": 16,
   "metadata": {},
   "outputs": [],
   "source": [
    "import os\n",
    "import sys\n",
    "import numpy as np\n",
    "from skimage import io\n",
    "import SimpleITK as sitk\n",
    "from skimage.filters import gaussian"
   ]
  },
  {
   "cell_type": "code",
   "execution_count": 2,
   "metadata": {},
   "outputs": [
    {
     "name": "stdout",
     "output_type": "stream",
     "text": [
      "/net/birdstore/Active_Atlas_Data/data_root/pipeline_data/MD589/preps/CH1/moving_volume.tif\n"
     ]
    }
   ],
   "source": [
    "DATA = '/net/birdstore/Active_Atlas_Data/data_root/pipeline_data'\n",
    "moving_path = os.path.join(DATA, 'MD585/preps/CH1/moving_volume.tif')\n",
    "fixed_path = os.path.join(DATA, 'MD589/preps/CH1/moving_volume.tif')\n",
    "print(fixed_path)"
   ]
  },
  {
   "cell_type": "code",
   "execution_count": 45,
   "metadata": {},
   "outputs": [],
   "source": [
    "def normalize8(img):\n",
    "    mn = img.min()\n",
    "    mx = img.max()\n",
    "    mx -= mn\n",
    "    img = ((img - mn)/mx) * 2**8 - 1\n",
    "    return np.round(img).astype(np.uint8) \n",
    "\n",
    "def pad_volume(size, volume):\n",
    "    size_difference = size - volume.shape\n",
    "    xr, yr, zr = ((size_difference)/2).astype(int)\n",
    "    xl, yl, zl = size_difference - np.array([xr, yr, zr])\n",
    "    return np.pad(volume, [[xl, xr], [yl, yr], [zl, zr]])\n"
   ]
  },
  {
   "cell_type": "code",
   "execution_count": 3,
   "metadata": {},
   "outputs": [],
   "source": [
    "fixed_image = sitk.ReadImage(fixed_path, sitk.sitkFloat32)\n",
    "moving_image = sitk.ReadImage(moving_path, sitk.sitkFloat32)"
   ]
  },
  {
   "cell_type": "code",
   "execution_count": 4,
   "metadata": {},
   "outputs": [
    {
     "data": {
      "text/plain": [
       "<SimpleITK.SimpleITK.ElastixImageFilter; proxy of <Swig Object of type 'itk::simple::ElastixImageFilter::Self *' at 0x7fa36612cc00> >"
      ]
     },
     "execution_count": 4,
     "metadata": {},
     "output_type": "execute_result"
    }
   ],
   "source": [
    "iterationNumbers = 600\n",
    "spatialSamples = 6000\n",
    "simpleElastix = sitk.ElastixImageFilter()\n",
    "simpleElastix.SetParameterMap(sitk.GetDefaultParameterMap('translation'))\n",
    "simpleElastix.AddParameterMap(sitk.GetDefaultParameterMap('affine'))\n",
    "simpleElastix.AddParameterMap(sitk.GetDefaultParameterMap('bspline'))\n",
    "simpleElastix.SetParameter(\"Registration\",\"MultiMetricMultiResolutionRegistration\")\n",
    "simpleElastix.SetParameter( \"Metric\", (\"NormalizedMutualInformation\", \"CorrespondingPointsEuclideanDistanceMetric\",))\n",
    "simpleElastix.SetParameter(\"Metric0Weight\", \"0.0\")\n",
    "simpleElastix.SetParameter(\"MaximumNumberOfIterations\" , str(iterationNumbers))\n",
    "simpleElastix.SetParameter(\"NumberOfSpatialSamples\" , str(spatialSamples))\n",
    "#simpleElastix.PrintParameterMap()"
   ]
  },
  {
   "cell_type": "code",
   "execution_count": 5,
   "metadata": {
    "scrolled": false
   },
   "outputs": [
    {
     "name": "stdout",
     "output_type": "stream",
     "text": [
      "CPU times: user 13min 3s, sys: 7.93 s, total: 13min 11s\n",
      "Wall time: 9min 53s\n"
     ]
    }
   ],
   "source": [
    "%%time\n",
    "simpleElastix.SetFixedImage(fixed_image)\n",
    "simpleElastix.SetMovingImage(moving_image)\n",
    "simpleElastix.SetOutputDirectory('/tmp')\n",
    "simpleElastix.SetFixedPointSetFileName(\"/tmp/fixed_points.pts\")\n",
    "simpleElastix.SetMovingPointSetFileName(\"/tmp/moving_points.pts\")\n",
    "simpleElastix.LogToConsoleOff()\n",
    "resultImage = simpleElastix.Execute()"
   ]
  },
  {
   "cell_type": "code",
   "execution_count": 6,
   "metadata": {},
   "outputs": [
    {
     "data": {
      "text/plain": [
       "(numpy.ndarray, dtype('float32'), (447, 253, 342))"
      ]
     },
     "execution_count": 6,
     "metadata": {},
     "output_type": "execute_result"
    }
   ],
   "source": [
    "img = sitk.GetArrayFromImage(resultImage)\n",
    "type(img), img.dtype, img.shape"
   ]
  },
  {
   "cell_type": "code",
   "execution_count": 7,
   "metadata": {},
   "outputs": [],
   "source": [
    "savepath = '/net/birdstore/Active_Atlas_Data/data_root/pipeline_data/MD585/preps/CH1/registered_585.tif'\n",
    "io.imsave(savepath, img)"
   ]
  },
  {
   "cell_type": "code",
   "execution_count": 64,
   "metadata": {},
   "outputs": [],
   "source": [
    "DATA = '/net/birdstore/Active_Atlas_Data/data_root/brains_info/registration'\n",
    "MD585_volumepath = os.path.join(DATA, 'MD585_sagittal.tif')\n",
    "MD589_volumepath = os.path.join(DATA, 'MD589_14um_sagittal.tif')\n",
    "MD594_volumepath = os.path.join(DATA, 'MD594_sagittal.tif')"
   ]
  },
  {
   "cell_type": "code",
   "execution_count": 65,
   "metadata": {},
   "outputs": [],
   "source": [
    "MD585_volume = io.imread(MD585_volumepath)\n",
    "MD589_volume = io.imread(MD589_volumepath)\n",
    "MD594_volume = io.imread(MD594_volumepath)\n",
    "volumes = [MD585_volume, MD589_volume, MD594_volume]"
   ]
  },
  {
   "cell_type": "code",
   "execution_count": 66,
   "metadata": {},
   "outputs": [
    {
     "data": {
      "text/plain": [
       "dtype('float32')"
      ]
     },
     "execution_count": 66,
     "metadata": {},
     "output_type": "execute_result"
    }
   ],
   "source": [
    "MD585_volume.dtype"
   ]
  },
  {
   "cell_type": "code",
   "execution_count": 67,
   "metadata": {},
   "outputs": [],
   "source": [
    "#margin = 0\n",
    "#sizes = np.array([vi.shape for vi in volumes])\n",
    "#volume_size = sizes.max(0) + margin\n",
    "#volumes = [normalize8(v) for v in volumes]\n",
    "#volumes = [pad_volume(volume_size, vi) for vi in volumes]\n",
    "#volumes = list([(v > 0).astype(np.int32) for v in volumes])\n",
    "#for v in volumes:\n",
    "#    print(v.dtype, v.shape)\n",
    "\n",
    "merged_volume = np.sum(volumes, axis=0)\n",
    "merged_volume = merged_volume / float(np.max(merged_volume))\n",
    "#merged_volume_prob = merged_volume / 3\n",
    "# increasing the STD makes the volume smoother\n",
    "# Smooth the probability\n",
    "#average_volume = gaussian(merged_volume_prob, 1.0)\n",
    "#color = 255\n",
    "#average_volume[average_volume > 0.8] = color\n",
    "#average_volume[average_volume != color] = 0\n",
    "#average_volume = average_volume.astype(np.uint8)\n",
    "arr = normalize8(merged_volume)\n",
    "#ids, counts = np.unique(arr, return_counts=True)\n",
    "#print(ids, counts)"
   ]
  },
  {
   "cell_type": "code",
   "execution_count": 68,
   "metadata": {},
   "outputs": [
    {
     "data": {
      "text/plain": [
       "(dtype('uint8'), (447, 253, 342))"
      ]
     },
     "execution_count": 68,
     "metadata": {},
     "output_type": "execute_result"
    }
   ],
   "source": [
    "arr.dtype, arr.shape"
   ]
  },
  {
   "cell_type": "code",
   "execution_count": 69,
   "metadata": {},
   "outputs": [],
   "source": [
    "savepath = os.path.join(DATA, 'gauss.tif')\n",
    "io.imsave(savepath, arr)"
   ]
  }
 ],
 "metadata": {
  "kernelspec": {
   "display_name": "Python 3",
   "language": "python",
   "name": "python3"
  },
  "language_info": {
   "codemirror_mode": {
    "name": "ipython",
    "version": 3
   },
   "file_extension": ".py",
   "mimetype": "text/x-python",
   "name": "python",
   "nbconvert_exporter": "python",
   "pygments_lexer": "ipython3",
   "version": "3.10.6"
  }
 },
 "nbformat": 4,
 "nbformat_minor": 4
}
