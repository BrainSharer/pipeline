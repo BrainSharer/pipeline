{
 "cells": [
  {
   "cell_type": "code",
   "execution_count": null,
   "metadata": {},
   "outputs": [],
   "source": [
    "import os\n",
    "import sys\n",
    "import numpy as np\n",
    "from skimage import io\n",
    "import SimpleITK as sitk\n",
    "from scipy import ndimage\n",
    "import matplotlib\n",
    "from matplotlib import pyplot as plt"
   ]
  },
  {
   "cell_type": "code",
   "execution_count": null,
   "metadata": {},
   "outputs": [],
   "source": [
    "def compare_two_images(img1, img2):\n",
    "    plt.figure(figsize=[20,20])\n",
    "    plt.imshow(img1,cmap='Blues')\n",
    "    plt.imshow(img2,alpha=0.5,cmap='Reds')\n",
    "    \n",
    "def pad_volume(volume, padto):\n",
    "    re = (padto[2] - volume.shape[2]) // 1\n",
    "    ce = (padto[1] - volume.shape[1]) // 1\n",
    "    return np.pad(volume, [[0, 0], [0, ce], [0, re]], constant_values=(0))"
   ]
  },
  {
   "cell_type": "code",
   "execution_count": null,
   "metadata": {},
   "outputs": [],
   "source": [
    "DATA = '/net/birdstore/Active_Atlas_Data/data_root/brains_info/registration'\n",
    "fixed_path = os.path.join(DATA, 'Allen_25um_sagittal.tif')\n",
    "moving_path = os.path.join(DATA, 'MD589_25um_sagittal.tif')"
   ]
  },
  {
   "cell_type": "code",
   "execution_count": null,
   "metadata": {},
   "outputs": [],
   "source": [
    "MOVING_CROP = 50\n",
    "fixed_volume = io.imread(fixed_path)\n",
    "moving_volume = io.imread(moving_path)\n",
    "print(f'fixed shape={fixed_volume.shape}')\n",
    "print(f'moving shape={moving_volume.shape}')\n",
    "moving_volume = moving_volume[:,0:500, 0:725]\n",
    "print(f'cropped moving shape={moving_volume.shape}')\n",
    "#padded_fixed = pad_volume(fixed_volume, cropped_moving.shape)\n",
    "#print(f'padded fixed shape={padded_fixed.shape}')"
   ]
  },
  {
   "cell_type": "code",
   "execution_count": null,
   "metadata": {},
   "outputs": [],
   "source": [
    "savepath = os.path.join(DATA, 'Atlas_25um_sagittal.tif')\n",
    "io.imsave(savepath, moving_volume)"
   ]
  },
  {
   "cell_type": "code",
   "execution_count": null,
   "metadata": {},
   "outputs": [],
   "source": [
    "offset = 30\n",
    "fixed_midpoint = fixed_volume.shape[0] // 2 - offset\n",
    "fixed_image = fixed_volume[fixed_midpoint,:,:]\n",
    "moving_midpoint = moving_volume.shape[0] // 2 - offset\n",
    "moving_image = moving_volume[moving_midpoint,:,:]\n",
    "print(f'Fixed image shape={fixed_image.shape} dtype={fixed_image.dtype}')\n",
    "print(f'moving image shape={moving_image.shape} dtype={moving_image.dtype}')"
   ]
  },
  {
   "cell_type": "code",
   "execution_count": null,
   "metadata": {},
   "outputs": [],
   "source": [
    "# 1- blue is fixed (Allen), 2 red is moving (DKXX)\n",
    "compare_two_images(fixed_image, moving_image)"
   ]
  },
  {
   "cell_type": "code",
   "execution_count": null,
   "metadata": {
    "scrolled": true
   },
   "outputs": [],
   "source": [
    "plt.title('fixed image Allen')\n",
    "plt.imshow(fixed_image, cmap=\"gray\")\n",
    "plt.show()"
   ]
  },
  {
   "cell_type": "code",
   "execution_count": null,
   "metadata": {},
   "outputs": [],
   "source": [
    "#ri = sitk.GetArrayFromImage(registered_image)\n",
    "plt.title('moving image MD589')\n",
    "plt.imshow(moving_image, cmap=\"gray\")\n",
    "plt.show()"
   ]
  },
  {
   "cell_type": "code",
   "execution_count": null,
   "metadata": {},
   "outputs": [],
   "source": [
    "plt.title('registered image')\n",
    "plt.imshow(fixed_image, cmap=\"gray\")\n",
    "plt.show()"
   ]
  }
 ],
 "metadata": {
  "kernelspec": {
   "display_name": "Python 3 (ipykernel)",
   "language": "python",
   "name": "python3"
  },
  "language_info": {
   "codemirror_mode": {
    "name": "ipython",
    "version": 3
   },
   "file_extension": ".py",
   "mimetype": "text/x-python",
   "name": "python",
   "nbconvert_exporter": "python",
   "pygments_lexer": "ipython3",
   "version": "3.10.12"
  }
 },
 "nbformat": 4,
 "nbformat_minor": 4
}
