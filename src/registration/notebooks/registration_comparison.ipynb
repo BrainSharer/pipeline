{
 "cells": [
  {
   "cell_type": "code",
   "execution_count": null,
   "metadata": {},
   "outputs": [],
   "source": [
    "import numpy as np\n",
    "import matplotlib\n",
    "from matplotlib import pyplot as plt\n",
    "from skimage import io\n",
    "from tqdm import tqdm\n",
    "import os, sys\n",
    "import SimpleITK as sitk\n",
    "from PIL import Image\n",
    "import cv2\n",
    "from IPython.display import clear_output\n",
    "\n",
    "from pathlib import Path\n",
    "\n",
    "PIPELINE_ROOT = Path('../src').resolve().parent.parent\n",
    "sys.path.append(PIPELINE_ROOT.as_posix())\n",
    "print(PIPELINE_ROOT)\n",
    "\n",
    "from library.utilities.utilities_process import get_image_size, read_image\n",
    "\n",
    "%load_ext autoreload\n",
    "%autoreload 2"
   ]
  },
  {
   "cell_type": "code",
   "execution_count": null,
   "metadata": {},
   "outputs": [],
   "source": [
    "def compare_two_images(img1, img2):\n",
    "    plt.figure(figsize=[20,20])\n",
    "    plt.imshow(img1,cmap='Blues')\n",
    "    plt.imshow(img2,alpha=0.5,cmap='Reds')"
   ]
  },
  {
   "cell_type": "code",
   "execution_count": null,
   "metadata": {},
   "outputs": [],
   "source": [
    "animal = 'CTB004'\n",
    "DIR = f'/net/birdstore/Active_Atlas_Data/data_root/pipeline_data/{animal}/preps'\n",
    "INPUT = os.path.join(DIR, 'CH1', 'thumbnail_cleaned')"
   ]
  },
  {
   "cell_type": "code",
   "execution_count": null,
   "metadata": {},
   "outputs": [],
   "source": [
    "fixed_index = str(105).zfill(3)\n",
    "moving_index = str(106).zfill(3) # big image"
   ]
  },
  {
   "cell_type": "code",
   "execution_count": null,
   "metadata": {},
   "outputs": [],
   "source": [
    "%%time\n",
    "pixelType = sitk.sitkFloat32\n",
    "fixed_file = os.path.join(INPUT, f'{fixed_index}.tif')\n",
    "moving_file = os.path.join(INPUT, f'{moving_index}.tif')\n",
    "fixed = sitk.ReadImage(fixed_file, pixelType)\n",
    "moving = sitk.ReadImage(moving_file, pixelType)\n",
    "\n",
    "elastixImageFilter = sitk.ElastixImageFilter()\n",
    "elastixImageFilter.SetFixedImage(fixed)\n",
    "elastixImageFilter.SetMovingImage(moving)\n",
    "elastixImageFilter.SetParameterMap(sitk.GetDefaultParameterMap(\"translation\"))\n",
    "elastixImageFilter.AddParameterMap(sitk.GetDefaultParameterMap(\"rigid\"))\n",
    "elastixImageFilter.AddParameterMap(sitk.GetDefaultParameterMap(\"affine\"))\n",
    "elastixImageFilter.SetParameter(\"NumberOfResolutions\", \"8\")\n",
    "elastixImageFilter.SetParameter(\"MaximumNumberOfIterations\", \"1500\")\n",
    "elastixImageFilter.LogToConsoleOff()\n",
    "elastixImageFilter.Execute()\n",
    "trans_params = elastixImageFilter.GetTransformParameterMap()[0][\"TransformParameters\"]\n",
    "rigid_params = elastixImageFilter.GetTransformParameterMap()[1][\"TransformParameters\"]\n",
    "affine_params = elastixImageFilter.GetTransformParameterMap()[2][\"TransformParameters\"]\n",
    "\n",
    "x1,y1 = trans_params\n",
    "rotation,x2,y2 = rigid_params\n",
    "rotation = float(rotation)\n",
    "xshift = float(x1) + float(x2)\n",
    "yshift = float(y1) + float(y2)"
   ]
  },
  {
   "cell_type": "code",
   "execution_count": null,
   "metadata": {},
   "outputs": [],
   "source": [
    "width, height = get_image_size(moving_file)\n",
    "center = np.array([width, height]) / 2\n",
    "\n",
    "#rotation, xshift, yshift = np.array([rotation, xshift, yshift]).astype(np.float16)\n",
    "center = np.array(center).astype(np.float16)\n",
    "R = np.array(\n",
    "    [\n",
    "        [np.cos(rotation), -np.sin(rotation)],\n",
    "        [np.sin(rotation), np.cos(rotation)],\n",
    "    ]\n",
    ")\n",
    "shift = center + (xshift, yshift) - np.dot(R, center)\n",
    "Trigid = np.vstack([np.column_stack([R, shift]), [0, 0, 1]])\n",
    "print(Trigid)"
   ]
  },
  {
   "cell_type": "code",
   "execution_count": null,
   "metadata": {},
   "outputs": [],
   "source": [
    "print(affine_params)\n",
    "r00,r01,xshift,r10,r11,yshift = [float(a) for a in affine_params]\n",
    "width, height = get_image_size(moving_file)\n",
    "center = np.array([width, height]) / 2\n",
    "\n",
    "#rotation, xshift, yshift = np.array([rotation, xshift, yshift]).astype(np.float16)\n",
    "center = np.array(center).astype(np.float16)\n",
    "R = np.array(\n",
    "    [\n",
    "        [r00, r01],\n",
    "        [r10, r11],\n",
    "    ]\n",
    ")\n",
    "shift = center + (xshift, yshift) - np.dot(R, center)\n",
    "Taffine = np.vstack([np.column_stack([R, shift]), [0, 0, 1]])\n",
    "print(Taffine)"
   ]
  },
  {
   "cell_type": "code",
   "execution_count": null,
   "metadata": {},
   "outputs": [],
   "source": [
    "transform_parameters = np.array(affine_params, dtype=float).reshape(2,3)\n",
    "affine_rotation = np.vstack([transform_parameters, [0, 0, 1]])\n",
    "#Taffine = np.linalg.inv(affine_rotation)\n",
    "Taffine = affine_rotation"
   ]
  },
  {
   "cell_type": "code",
   "execution_count": null,
   "metadata": {},
   "outputs": [],
   "source": [
    "Taffine"
   ]
  },
  {
   "cell_type": "code",
   "execution_count": null,
   "metadata": {},
   "outputs": [],
   "source": [
    "Trigid"
   ]
  },
  {
   "cell_type": "code",
   "execution_count": null,
   "metadata": {},
   "outputs": [],
   "source": [
    "im1 = Image.open(moving_file)\n",
    "im2 = im1.transform((im1.size), Image.Transform.AFFINE, Trigid.flatten()[:6], resample=Image.Resampling.NEAREST)\n",
    "rigidimg = np.array(im2)\n",
    "del im1, im2\n",
    "im1 = Image.open(moving_file)\n",
    "im2 = im1.transform((im1.size), Image.Transform.AFFINE, Taffine.flatten()[:6], resample=Image.Resampling.NEAREST)\n",
    "affineimg = np.array(im2)\n",
    "del im1, im2"
   ]
  },
  {
   "cell_type": "code",
   "execution_count": null,
   "metadata": {},
   "outputs": [],
   "source": [
    "from scipy import ndimage as ndi\n",
    "img = io.imread(moving_file)\n",
    "affineimg = ndi.affine_transform(img, Trigid)"
   ]
  },
  {
   "cell_type": "code",
   "execution_count": null,
   "metadata": {},
   "outputs": [],
   "source": [
    "#fixed_index = str(105).zfill(3)\n",
    "#moving_index = str(106).zfill(3) big image\n",
    "fig, ax = plt.subplots(1,4)\n",
    "fig.set_figheight(15)\n",
    "fig.set_figwidth(15)\n",
    "ax[0].grid()\n",
    "ax[1].grid()\n",
    "ax[2].grid()\n",
    "ax[3].grid()\n",
    "ax[0].imshow(sitk.GetArrayFromImage(fixed), cmap=\"gray\")\n",
    "ax[1].imshow(rigidimg, cmap=\"gray\")\n",
    "ax[2].imshow(affineimg, cmap=\"gray\")\n",
    "ax[3].imshow(sitk.GetArrayFromImage(moving), cmap=\"gray\")"
   ]
  },
  {
   "cell_type": "code",
   "execution_count": null,
   "metadata": {},
   "outputs": [],
   "source": [
    "fig = plt.figure(figsize=(8, 6))\n",
    "plt.title('fixed image')\n",
    "plt.grid()\n",
    "plt.imshow(sitk.GetArrayFromImage(fixed), cmap='gray')"
   ]
  },
  {
   "cell_type": "code",
   "execution_count": null,
   "metadata": {},
   "outputs": [],
   "source": [
    "fig = plt.figure(figsize=(8, 6))\n",
    "plt.title('result image')\n",
    "plt.grid()\n",
    "plt.imshow(sitk.GetArrayFromImage(resultImage), cmap='gray')"
   ]
  },
  {
   "cell_type": "code",
   "execution_count": null,
   "metadata": {},
   "outputs": [],
   "source": [
    "dimension = 2        \n",
    "offset = [2]*dimension # use a Python trick to create the offset list based on the dimension\n",
    "translation = sitk.TranslationTransform(dimension, offset)\n",
    "print(translation)"
   ]
  },
  {
   "cell_type": "code",
   "execution_count": null,
   "metadata": {},
   "outputs": [],
   "source": [
    "R,x,y"
   ]
  },
  {
   "cell_type": "code",
   "execution_count": null,
   "metadata": {},
   "outputs": [],
   "source": [
    "point = [10, 11]\n",
    "rotation2D = sitk.Euler2DTransform()\n",
    "rotation2D.SetTranslation((x,y))\n",
    "rotation2D.SetAngle(R)\n",
    "print(f'original point: {point}')\n",
    "transformed_point = rotation2D.TransformPoint(point)\n",
    "translation_inverse = rotation2D.GetInverse()\n",
    "print(f'transformed point: {transformed_point}')\n",
    "print(f'back to original: {translation_inverse.TransformPoint(transformed_point)}')"
   ]
  },
  {
   "cell_type": "code",
   "execution_count": null,
   "metadata": {
    "scrolled": true
   },
   "outputs": [],
   "source": [
    "moving_resampled = sitk.Resample(moving, fixed, final_transform, sitk.sitkLinear, 0.0, moving.GetPixelID())\n",
    "fig = plt.figure(figsize=(15,8))\n",
    "plt.imshow(sitk.GetArrayViewFromImage(fixed), cmap='gray')\n",
    "plt.grid()\n",
    "plt.title('fixed image', fontsize=10)\n",
    "\n",
    "fig = plt.figure(figsize=(15, 8))\n",
    "plt.imshow(sitk.GetArrayViewFromImage(moving_resampled), cmap='gray')\n",
    "plt.grid()\n",
    "plt.title('resampled image')\n",
    "\n",
    "fig = plt.figure(figsize=(15, 8))\n",
    "plt.title('moving image')\n",
    "plt.grid()\n",
    "plt.imshow(sitk.GetArrayViewFromImage(moving), cmap='gray')\n",
    "    "
   ]
  }
 ],
 "metadata": {
  "kernelspec": {
   "display_name": "Python 3",
   "language": "python",
   "name": "python3"
  },
  "language_info": {
   "codemirror_mode": {
    "name": "ipython",
    "version": 3
   },
   "file_extension": ".py",
   "mimetype": "text/x-python",
   "name": "python",
   "nbconvert_exporter": "python",
   "pygments_lexer": "ipython3",
   "version": "3.10.12"
  }
 },
 "nbformat": 4,
 "nbformat_minor": 4
}
