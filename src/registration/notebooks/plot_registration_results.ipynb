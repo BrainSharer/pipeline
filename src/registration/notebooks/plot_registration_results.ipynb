{
 "cells": [
  {
   "cell_type": "code",
   "execution_count": null,
   "metadata": {},
   "outputs": [],
   "source": [
    "import os\n",
    "import sys\n",
    "import numpy as np\n",
    "from skimage import io\n",
    "import itk\n",
    "from scipy import ndimage\n",
    "import itkwidgets\n",
    "import matplotlib.pyplot as plt"
   ]
  },
  {
   "cell_type": "code",
   "execution_count": null,
   "metadata": {},
   "outputs": [],
   "source": [
    "animal = 'DK41'\n",
    "DATA = f'/net/birdstore/Active_Atlas_Data/data_root/pipeline_data/{animal}/preps'\n",
    "REGDATA = '/net/birdstore/Active_Atlas_Data/data_root/brains_info/registration'"
   ]
  },
  {
   "cell_type": "code",
   "execution_count": null,
   "metadata": {},
   "outputs": [],
   "source": [
    "filename = 'allen_50um_sagittal.tif'\n",
    "fixedFilepath = os.path.join(REGDATA, filename)\n",
    "fixedImage = itk.imread(fixedFilepath, itk.F)"
   ]
  },
  {
   "cell_type": "code",
   "execution_count": null,
   "metadata": {},
   "outputs": [],
   "source": [
    "movingFilepath = os.path.join(DATA, 'moving_volume.256.tif')\n",
    "movingImage = itk.imread(movingFilepath, itk.F)"
   ]
  },
  {
   "cell_type": "code",
   "execution_count": null,
   "metadata": {},
   "outputs": [],
   "source": [
    "\n",
    "init_transform = itk.VersorRigid3DTransform[itk.D].New()  # Represents 3D rigid transformation with unit quaternion\n",
    "init_transform.SetIdentity()\n",
    "transform_initializer = itk.CenteredVersorTransformInitializer[\n",
    "    type(fixedImage), type(movingImage)\n",
    "].New()\n",
    "transform_initializer.SetFixedImage(fixedImage)\n",
    "transform_initializer.SetMovingImage(movingImage)\n",
    "transform_initializer.SetTransform(init_transform)\n",
    "transform_initializer.GeometryOn()  # We compute translation between the center of each image\n",
    "transform_initializer.ComputeRotationOff()  # We have previously verified that spatial orientation aligns\n",
    "transform_initializer.InitializeTransform()\n",
    "init_transform = init_transform.GetInverseTransform()\n",
    "print(init_transform)\n"
   ]
  },
  {
   "cell_type": "code",
   "execution_count": null,
   "metadata": {},
   "outputs": [],
   "source": [
    "itkwidgets.compare(movingImage,fixedImage)"
   ]
  },
  {
   "cell_type": "code",
   "execution_count": null,
   "metadata": {},
   "outputs": [],
   "source": [
    "# init transform end\n",
    "# Apply translation without resampling the image by updating the image origin directly\n",
    "change_information_filter = itk.ChangeInformationImageFilter[type(movingImage)].New()\n",
    "change_information_filter.SetInput(movingImage)\n",
    "change_information_filter.SetOutputOrigin(\n",
    "    init_transform.TransformPoint(itk.origin(movingImage))\n",
    ")\n",
    "change_information_filter.ChangeOriginOn()\n",
    "change_information_filter.UpdateOutputInformation()\n",
    "source_image_init = change_information_filter.GetOutput()"
   ]
  },
  {
   "cell_type": "code",
   "execution_count": null,
   "metadata": {},
   "outputs": [],
   "source": [
    "TRANSPATH = os.path.join(DATA, 'init-transform.tfm')\n",
    "itk.transformwrite([init_transform], TRANSPATH)"
   ]
  },
  {
   "cell_type": "code",
   "execution_count": null,
   "metadata": {},
   "outputs": [],
   "source": [
    "saved_init_transform = itk.transformread(TRANSPATH)[0]\n",
    "print(saved_init_transform)"
   ]
  },
  {
   "cell_type": "code",
   "execution_count": null,
   "metadata": {},
   "outputs": [],
   "source": [
    "iterations = [0,1,2,3,5]\n",
    "xl = []\n",
    "yl = []\n",
    "count = 0\n",
    "for iteration in iterations:\n",
    "    infile = os.path.join(DATA, 'elastix_output/allen25um', f'IterationInfo.3.R{iteration}.txt')\n",
    "    with open(infile, 'r') as f:\n",
    "        lines = f.readlines()[1:]\n",
    "        for line in lines:\n",
    "            text_list = line.split(\"\\t\")\n",
    "            yl.append(count)\n",
    "            xl.append(float(text_list[1]))\n",
    "            count += 1\n",
    "\n",
    "\n",
    "plt.plot(yl, xl)\n",
    "plt.show()\n"
   ]
  }
 ],
 "metadata": {
  "kernelspec": {
   "display_name": "Python 3",
   "language": "python",
   "name": "python3"
  },
  "language_info": {
   "codemirror_mode": {
    "name": "ipython",
    "version": 3
   },
   "file_extension": ".py",
   "mimetype": "text/x-python",
   "name": "python",
   "nbconvert_exporter": "python",
   "pygments_lexer": "ipython3",
   "version": "3.10.12"
  }
 },
 "nbformat": 4,
 "nbformat_minor": 4
}
