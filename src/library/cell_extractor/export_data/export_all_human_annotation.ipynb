{
 "cells": [
  {
   "cell_type": "code",
   "execution_count": 1,
   "metadata": {},
   "outputs": [
    {
     "name": "stdout",
     "output_type": "stream",
     "text": [
      "\n"
     ]
    },
    {
     "name": "stderr",
     "output_type": "stream",
     "text": [
      "/usr/local/share/pipeline/lib/python3.8/site-packages/xgboost/compat.py:36: FutureWarning: pandas.Int64Index is deprecated and will be removed from pandas in a future version. Use pandas.Index with the appropriate dtype instead.\n",
      "  from pandas import MultiIndex, Int64Index\n"
     ]
    }
   ],
   "source": [
    "import os,sys\n",
    "import pandas as pd\n",
    "sys.path.append(os.path.abspath('./../../'))\n",
    "from Controllers.Controller import Controller\n",
    "from Controllers.CellTypeController import CellTypeController\n",
    "from model.annotation_points import AnnotationSession\n",
    "from Controllers.MarkedCellController import MarkedCellController\n",
    "from cell_extractor.diagnostics.ToolKit import get_DataFrame_from_query_result\n",
    "from model.cell_type import CellType\n"
   ]
  },
  {
   "cell_type": "code",
   "execution_count": 9,
   "metadata": {},
   "outputs": [],
   "source": [
    "controller = Controller()\n",
    "sessions = []\n",
    "for user_id in [2,3,38,41]:\n",
    "    for prep_id in ['DK55','DK41','DK43']:\n",
    "        search_dictionary = {'annotation_type':'MARKED_CELL',\n",
    "                            'FK_annotator_id':user_id,\n",
    "                            'FK_prep_id':prep_id,\n",
    "                            'active':1}\n",
    "        sessions= sessions+controller.query_table(search_dictionary,AnnotationSession)"
   ]
  },
  {
   "cell_type": "code",
   "execution_count": 16,
   "metadata": {},
   "outputs": [],
   "source": [
    "dir = '/home/zhw272/programming/all_manual_annotations/'\n",
    "cell_controller = MarkedCellController()\n",
    "cell_type_controller = CellTypeController()\n",
    "cell_type_id_to_name = cell_type_controller.get_cell_type_id_to_name()\n",
    "annotations = []\n",
    "time = []\n",
    "for sessioni in sessions:\n",
    "    id = sessioni.id\n",
    "    prep_id = sessioni.FK_prep_id\n",
    "    annotation = cell_controller.get_marked_cells({'session_id':id})\n",
    "    if annotation != []:\n",
    "        if annotation[0].FK_cell_type_id is None or  annotation[0].source.value =='NULL':\n",
    "            continue\n",
    "        if annotation[0].FK_cell_type_id in [1,5,16,17,18,19,22,23]:\n",
    "            time.append(sessioni.created)\n",
    "            cell_type = cell_type_id_to_name[annotation[0].FK_cell_type_id]\n",
    "            annotation = get_DataFrame_from_query_result(annotation,f'{prep_id}_{cell_type}_{annotation[0].source.value}',factor = [0.325,0.325,20])\n",
    "            annotation.to_csv(dir+annotation.iloc[0]['name']+'.csv')\n",
    "            annotations.append(annotation)\n",
    "time=[i.strftime('%Y-%m-%d %H:%M:%S') for i in time]\n"
   ]
  },
  {
   "cell_type": "code",
   "execution_count": 17,
   "metadata": {},
   "outputs": [],
   "source": [
    "master_file = pd.DataFrame({'file_name':[i.iloc[0]['name'] for i in annotations],'created':time,'npoints':[len(i) for i in annotations]})\n",
    "master_file.to_csv(dir+'/annotation_information.csv')"
   ]
  },
  {
   "cell_type": "markdown",
   "metadata": {},
   "source": [
    "select * from annotation_session as2 where annotation_type ='MARKED_CELL' and FK_annotator_id in(2,3,36,39) and active =1;\n",
    "\n",
    "DKXX_cell_type_annotator_source\n"
   ]
  }
 ],
 "metadata": {
  "kernelspec": {
   "display_name": "Python 3.6.9 ('pipeline')",
   "language": "python",
   "name": "python3"
  },
  "language_info": {
   "codemirror_mode": {
    "name": "ipython",
    "version": 3
   },
   "file_extension": ".py",
   "mimetype": "text/x-python",
   "name": "python",
   "nbconvert_exporter": "python",
   "pygments_lexer": "ipython3",
   "version": "3.8.10"
  },
  "orig_nbformat": 4,
  "vscode": {
   "interpreter": {
    "hash": "9b29855540defb355a50951874e4b3a9a33e036ed29af88ad65ef37e45f70f6e"
   }
  }
 },
 "nbformat": 4,
 "nbformat_minor": 2
}
