{
 "cells": [
  {
   "cell_type": "code",
   "execution_count": 1,
   "metadata": {},
   "outputs": [
    {
     "name": "stdout",
     "output_type": "stream",
     "text": [
      "\n"
     ]
    },
    {
     "name": "stderr",
     "output_type": "stream",
     "text": [
      "/usr/local/share/pipeline/lib/python3.8/site-packages/xgboost/compat.py:36: FutureWarning: pandas.Int64Index is deprecated and will be removed from pandas in a future version. Use pandas.Index with the appropriate dtype instead.\n",
      "  from pandas import MultiIndex, Int64Index\n"
     ]
    }
   ],
   "source": [
    "import os,sys\n",
    "sys.path.append(os.path.abspath('./../../'))\n",
    "from Controllers.MarkedCellController import MarkedCellController\n",
    "from Controllers.SqlController import SqlController\n",
    "from model.annotation_points import MarkedCellView\n",
    "from sqlalchemy import inspect\n",
    "inst = inspect(MarkedCellView)\n",
    "attr_names = [c_attr.key for c_attr in inst.mapper.column_attrs]\n",
    "import pandas as pd\n",
    "from cell_extractor.AnnotationProximityTool import AnnotationProximityTool\n",
    "import numpy as np\n",
    "from collections import Counter\n",
    "from cell_extractor.diagnostics.ToolKit import get_DataFrame_from_query_result"
   ]
  },
  {
   "cell_type": "code",
   "execution_count": 11,
   "metadata": {},
   "outputs": [],
   "source": [
    "animal = 'DK41'\n",
    "controller = SqlController()\n",
    "factor = controller.get_resolution(animal)\n",
    "controller = MarkedCellController()\n",
    "search_dict = {'FK_prep_id':animal,'FK_cell_type_id':24}\n",
    "inter_rater = get_DataFrame_from_query_result(controller.get_marked_cells(search_dict),'inter_rater',factor)"
   ]
  },
  {
   "cell_type": "code",
   "execution_count": 12,
   "metadata": {},
   "outputs": [
    {
     "name": "stdout",
     "output_type": "stream",
     "text": [
      "calculating distance matrix\n",
      "finding points that are close to each other\n",
      "grouping and labeling points that are close to each other\n",
      "before removing duplicates 1000\n",
      "after removing duplicates 500\n"
     ]
    },
    {
     "data": {
      "text/plain": [
       "[(('inter_rater_Julian_POSITIVE', 'inter_rater_Marissa_POSITIVE'), 472),\n",
       " (('inter_rater_Julian_NEGATIVE', 'inter_rater_Marissa_POSITIVE'), 14),\n",
       " (('inter_rater_Julian_NEGATIVE', 'inter_rater_Marissa_NEGATIVE'), 11),\n",
       " (('inter_rater_Julian_POSITIVE', 'inter_rater_Marissa_NEGATIVE'), 3)]"
      ]
     },
     "execution_count": 12,
     "metadata": {},
     "output_type": "execute_result"
    }
   ],
   "source": [
    "tool = AnnotationProximityTool()\n",
    "tool.pair_distance=0.1\n",
    "tool.set_annotations_to_compare(inter_rater)\n",
    "tool.find_equivalent_points()\n",
    "Counter([tuple(i) for i in tool.pair_categories.values()]).most_common()"
   ]
  },
  {
   "cell_type": "code",
   "execution_count": null,
   "metadata": {},
   "outputs": [],
   "source": []
  }
 ],
 "metadata": {
  "kernelspec": {
   "display_name": "Python 3.6.9 ('pipeline')",
   "language": "python",
   "name": "python3"
  },
  "language_info": {
   "codemirror_mode": {
    "name": "ipython",
    "version": 3
   },
   "file_extension": ".py",
   "mimetype": "text/x-python",
   "name": "python",
   "nbconvert_exporter": "python",
   "pygments_lexer": "ipython3",
   "version": "3.8.10"
  },
  "orig_nbformat": 4,
  "vscode": {
   "interpreter": {
    "hash": "9b29855540defb355a50951874e4b3a9a33e036ed29af88ad65ef37e45f70f6e"
   }
  }
 },
 "nbformat": 4,
 "nbformat_minor": 2
}
