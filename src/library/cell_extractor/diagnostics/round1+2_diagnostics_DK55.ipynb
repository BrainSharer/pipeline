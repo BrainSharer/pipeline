{
 "cells": [
  {
   "cell_type": "code",
   "execution_count": 1,
   "metadata": {},
   "outputs": [
    {
     "name": "stdout",
     "output_type": "stream",
     "text": [
      "\n"
     ]
    }
   ],
   "source": [
    "import os,sys\n",
    "sys.path.append(os.path.abspath('./../../'))\n",
    "from cell_extractor.diagnostics.ToolKit import get_DataFrame_from_query_result,get_DataFrame_from_detection_df,get_all_qcs\n",
    "from cell_extractor.AnnotationProximityTool import AnnotationProximityTool\n",
    "from cell_extractor.CellDetector import CellDetector\n",
    "from collections import Counter\n",
    "import pandas as pd\n",
    "from Controllers.SqlController import SqlController"
   ]
  },
  {
   "cell_type": "code",
   "execution_count": 24,
   "metadata": {},
   "outputs": [],
   "source": [
    "animal = 'DK55'\n",
    "controller = SqlController()\n",
    "factor = controller.get_resolution(animal)\n",
    "qcs = get_all_qcs(animal)\n",
    "qcs = get_DataFrame_from_query_result(qcs,'Round1',factor) "
   ]
  },
  {
   "cell_type": "code",
   "execution_count": 25,
   "metadata": {},
   "outputs": [],
   "source": [
    "detector = CellDetector(animal,round=2)\n",
    "detections = detector.load_detections()\n",
    "sures = detections[detections.predictions==2]\n",
    "unsures = detections[detections.predictions==0]\n",
    "nodetection = detections[detections.predictions==-2]\n",
    "nodetectionr1 = get_DataFrame_from_detection_df(nodetection,'no_detection_round1')\n",
    "suresr1 = get_DataFrame_from_detection_df(sures,'sures_round1')\n",
    "unsuresr1 = get_DataFrame_from_detection_df(unsures,'unsures_round1')\n",
    "# tool = AnnotationProximityTool()\n",
    "# tool.pair_distance=30\n",
    "# tool.set_annotations_to_compare(pd.concat([sures,unsures,qcs]))\n",
    "# tool.find_equivalent_points()\n",
    "# print(f'total sure {len(sures)} total unsure {len(unsures)}')\n",
    "# Counter([tuple(i) for i in tool.pair_categories.values()]).most_common()"
   ]
  },
  {
   "cell_type": "code",
   "execution_count": 26,
   "metadata": {},
   "outputs": [
    {
     "name": "stdout",
     "output_type": "stream",
     "text": [
      "[Errno 2] No such file or directory: '//net/birdstore/Active_Atlas_Data//cell_segmentation/models/models_from_qc_round_1_threshold_2000.pkl'\n"
     ]
    }
   ],
   "source": [
    "detector = CellDetector(animal,round=1)\n",
    "detections = detector.load_detections()\n",
    "sures = detections[detections.predictions==2]\n",
    "unsures = detections[detections.predictions==0]\n",
    "nodetection = detections[detections.predictions==-2]\n",
    "suresr2 = get_DataFrame_from_detection_df(sures,'sures_round2')\n",
    "unsuresr2 = get_DataFrame_from_detection_df(unsures,'unsures_round2')\n",
    "nodetectionr2 = get_DataFrame_from_detection_df(nodetection,'no_detection_round2')\n",
    "# tool = AnnotationProximityTool()\n",
    "# tool.pair_distance=30\n",
    "# tool.set_annotations_to_compare(pd.concat([sures,unsures,qcs]))\n",
    "# tool.find_equivalent_points()\n",
    "# print(f'total sure {len(sures)} total unsure {len(unsures)}')\n",
    "# Counter([tuple(i) for i in tool.pair_categories.values()]).most_common()"
   ]
  },
  {
   "cell_type": "code",
   "execution_count": 27,
   "metadata": {},
   "outputs": [],
   "source": [
    "all_data = pd.concat([suresr1,unsuresr1,suresr2,unsuresr2,qcs,nodetectionr1,nodetectionr2])\n",
    "all_data.to_csv('/scratch/programming/cell_detection_output/DK55_round1 and 2 threshold 2000.csv')"
   ]
  },
  {
   "cell_type": "code",
   "execution_count": 21,
   "metadata": {},
   "outputs": [],
   "source": [
    "from Controllers.MarkedCellController import MarkedCellController\n",
    "animal = 'DK52'\n",
    "controller = SqlController()\n",
    "factor = controller.get_resolution(animal)\n",
    "controller = MarkedCellController()\n",
    "search_dict = {'FK_prep_id':animal,'FK_cell_type_id':1,'FK_annotator_id':2}\n",
    "cells = controller.get_marked_cells(search_dictionary=search_dict)\n",
    "cells = get_DataFrame_from_query_result(cells,'Human',factor) \n",
    "detector = CellDetector(animal,round=2)\n",
    "detections = detector.load_detections()\n",
    "sures = detections[detections.predictions==2]\n",
    "unsures = detections[detections.predictions==0]\n",
    "nodetection = detections[detections.predictions==-2]\n",
    "sures = get_DataFrame_from_detection_df(sures,'sures_round2')\n",
    "unsures = get_DataFrame_from_detection_df(unsures,'unsures_round2')\n",
    "nodetection = get_DataFrame_from_detection_df(nodetection,'no_detection_round2')"
   ]
  },
  {
   "cell_type": "code",
   "execution_count": 23,
   "metadata": {},
   "outputs": [],
   "source": [
    "all_data = pd.concat([cells,sures,unsures,nodetection])\n",
    "all_data.to_csv('/scratch/programming/cell_detection_output/DK52_round1 and 2 threshold 2000.csv')"
   ]
  },
  {
   "cell_type": "code",
   "execution_count": null,
   "metadata": {},
   "outputs": [],
   "source": []
  }
 ],
 "metadata": {
  "kernelspec": {
   "display_name": "Python 3.6.9 ('pipeline')",
   "language": "python",
   "name": "python3"
  },
  "language_info": {
   "codemirror_mode": {
    "name": "ipython",
    "version": 3
   },
   "file_extension": ".py",
   "mimetype": "text/x-python",
   "name": "python",
   "nbconvert_exporter": "python",
   "pygments_lexer": "ipython3",
   "version": "3.6.9"
  },
  "orig_nbformat": 4,
  "vscode": {
   "interpreter": {
    "hash": "9b29855540defb355a50951874e4b3a9a33e036ed29af88ad65ef37e45f70f6e"
   }
  }
 },
 "nbformat": 4,
 "nbformat_minor": 2
}
