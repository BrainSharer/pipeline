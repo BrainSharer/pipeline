{
 "cells": [
  {
   "cell_type": "code",
   "execution_count": 4,
   "metadata": {},
   "outputs": [],
   "source": [
    "import sys\n",
    "sys.path.append('/home/zhw272/programming/pipeline_utility/in_development/Will')\n",
    "from cell_extractor.AnnotationProximityTool import DetectorMetricsDK55\n",
    "from cell_extractor.CellDetector import MultiThresholdDetector"
   ]
  },
  {
   "cell_type": "code",
   "execution_count": 11,
   "metadata": {},
   "outputs": [],
   "source": [
    "m55 = DetectorMetricsDK55()\n",
    "detector = MultiThresholdDetector(animal = 'DK55',round =2)\n",
    "detections = detector.load_detections()"
   ]
  },
  {
   "cell_type": "code",
   "execution_count": 10,
   "metadata": {},
   "outputs": [
    {
     "data": {
      "text/html": [
       "<div>\n",
       "<style scoped>\n",
       "    .dataframe tbody tr th:only-of-type {\n",
       "        vertical-align: middle;\n",
       "    }\n",
       "\n",
       "    .dataframe tbody tr th {\n",
       "        vertical-align: top;\n",
       "    }\n",
       "\n",
       "    .dataframe thead th {\n",
       "        text-align: right;\n",
       "    }\n",
       "</style>\n",
       "<table border=\"1\" class=\"dataframe\">\n",
       "  <thead>\n",
       "    <tr style=\"text-align: right;\">\n",
       "      <th></th>\n",
       "      <th>x</th>\n",
       "      <th>y</th>\n",
       "      <th>section</th>\n",
       "      <th>name</th>\n",
       "      <th>mean</th>\n",
       "      <th>std</th>\n",
       "      <th>label</th>\n",
       "    </tr>\n",
       "  </thead>\n",
       "  <tbody>\n",
       "    <tr>\n",
       "      <th>0</th>\n",
       "      <td>37633</td>\n",
       "      <td>18851</td>\n",
       "      <td>132</td>\n",
       "      <td>2200_sure</td>\n",
       "      <td>3.261358</td>\n",
       "      <td>1.963368</td>\n",
       "      <td>0.0</td>\n",
       "    </tr>\n",
       "    <tr>\n",
       "      <th>1</th>\n",
       "      <td>38135</td>\n",
       "      <td>17422</td>\n",
       "      <td>145</td>\n",
       "      <td>2200_sure</td>\n",
       "      <td>11.926437</td>\n",
       "      <td>1.838244</td>\n",
       "      <td>0.0</td>\n",
       "    </tr>\n",
       "    <tr>\n",
       "      <th>2</th>\n",
       "      <td>37838</td>\n",
       "      <td>17638</td>\n",
       "      <td>145</td>\n",
       "      <td>2200_sure</td>\n",
       "      <td>6.222859</td>\n",
       "      <td>1.584897</td>\n",
       "      <td>0.0</td>\n",
       "    </tr>\n",
       "    <tr>\n",
       "      <th>3</th>\n",
       "      <td>37725</td>\n",
       "      <td>17707</td>\n",
       "      <td>145</td>\n",
       "      <td>2300_sure</td>\n",
       "      <td>14.408781</td>\n",
       "      <td>1.403189</td>\n",
       "      <td>0.0</td>\n",
       "    </tr>\n",
       "    <tr>\n",
       "      <th>4</th>\n",
       "      <td>37634</td>\n",
       "      <td>17793</td>\n",
       "      <td>145</td>\n",
       "      <td>2300_sure</td>\n",
       "      <td>13.356399</td>\n",
       "      <td>1.703213</td>\n",
       "      <td>0.0</td>\n",
       "    </tr>\n",
       "  </tbody>\n",
       "</table>\n",
       "</div>"
      ],
      "text/plain": [
       "       x      y  section       name       mean       std  label\n",
       "0  37633  18851      132  2200_sure   3.261358  1.963368    0.0\n",
       "1  38135  17422      145  2200_sure  11.926437  1.838244    0.0\n",
       "2  37838  17638      145  2200_sure   6.222859  1.584897    0.0\n",
       "3  37725  17707      145  2300_sure  14.408781  1.403189    0.0\n",
       "4  37634  17793      145  2300_sure  13.356399  1.703213    0.0"
      ]
     },
     "execution_count": 10,
     "metadata": {},
     "output_type": "execute_result"
    }
   ],
   "source": [
    "det.head()"
   ]
  },
  {
   "cell_type": "code",
   "execution_count": 40,
   "metadata": {},
   "outputs": [
    {
     "data": {
      "text/plain": [
       "(14010, 2024, 16034)"
      ]
     },
     "execution_count": 40,
     "metadata": {},
     "output_type": "execute_result"
    }
   ],
   "source": [
    "issure = [i.split('_')[1]=='sure' for i in detections.name]\n",
    "isunsure = [i.split('_')[1]=='unsure' for i in detections.name]\n",
    "sure = detections[issure]\n",
    "unsure = detections[isunsure]\n",
    "len(sure),len(unsure),len(detections)"
   ]
  },
  {
   "cell_type": "code",
   "execution_count": 41,
   "metadata": {},
   "outputs": [],
   "source": [
    "hqc = m55.load_human_qc()"
   ]
  },
  {
   "cell_type": "code",
   "execution_count": 42,
   "metadata": {},
   "outputs": [],
   "source": [
    "import pandas as pd\n",
    "sure = pd.DataFrame({'0':sure.x.astype('float'),'1':sure.y.astype('float'),'2':sure.section.astype('float'),'name':['sure' for _ in range(len(sure))]})\n",
    "unsure = pd.DataFrame({'0':unsure.x.astype('float'),'1':unsure.y.astype('float'),'2':unsure.section.astype('float'),'name':['unsure' for _ in range(len(unsure))]})\n",
    "sure.columns = hqc[0].columns\n",
    "unsure.columns = hqc[0].columns"
   ]
  },
  {
   "cell_type": "code",
   "execution_count": 43,
   "metadata": {},
   "outputs": [
    {
     "name": "stdout",
     "output_type": "stream",
     "text": [
      "calculating distance matrix\n",
      "finding points that are close to each other\n",
      "grouping and labeling points that are close to each other\n",
      "before removing duplicates 19203\n",
      "after removing duplicates 16461\n"
     ]
    }
   ],
   "source": [
    "import numpy as np\n",
    "all = pd.concat([sure,unsure]+hqc)\n",
    "m55.annotations_to_compare =all\n",
    "m55.annotations_to_compare.columns=['x','y','section','name']\n",
    "m55.annotations_to_compare['x']=np.round(m55.annotations_to_compare['x'])\n",
    "m55.annotations_to_compare['y']=np.round(m55.annotations_to_compare['y'])\n",
    "m55.nannotations = len( m55.annotations_to_compare)\n",
    "m55.find_equivalent_points() "
   ]
  },
  {
   "cell_type": "code",
   "execution_count": 47,
   "metadata": {},
   "outputs": [],
   "source": [
    "quantifications={}\n",
    "category_name_and_criteria = {\n",
    "    'Unverified detection'                  :lambda pair_categories : m55.check(pair_categories,include=['sure'],size_max=1),\n",
    "    'Verified detection'                    :lambda pair_categories : m55.check(pair_categories,include=['sure','manual_train'],size_max=2,size_min=1),\n",
    "    'unconfident identified  as positive'   :lambda pair_categories : m55.check(pair_categories,include=['unsure','manual_train'],size_max=2,size_min=1),\n",
    "    'unconfident identified as negative'    :lambda pair_categories : m55.check(pair_categories,include=['unsure'],size_max=1),\n",
    "    'a pair of detections at wrong locations'    :lambda pair_categories : m55.check(pair_categories,include=['sure','manual_train'],size_max=4,size_min=3)}\n",
    "for category,criteria in category_name_and_criteria.items():\n",
    "    quantifications[category] = m55.get_pairs_in_category(pair_category_criteria = criteria)"
   ]
  },
  {
   "cell_type": "code",
   "execution_count": 48,
   "metadata": {},
   "outputs": [
    {
     "name": "stdout",
     "output_type": "stream",
     "text": [
      "Unverified detection\n",
      "11838\n",
      "Verified detection\n",
      "1544\n",
      "unconfident identified  as positive\n",
      "36\n",
      "unconfident identified as negative\n",
      "1719\n",
      "a pair of detections at wrong locations\n",
      "100\n"
     ]
    }
   ],
   "source": [
    "for i in quantifications:\n",
    "    print(i)\n",
    "    print(len(quantifications[i]))"
   ]
  },
  {
   "cell_type": "code",
   "execution_count": null,
   "metadata": {},
   "outputs": [],
   "source": []
  }
 ],
 "metadata": {
  "kernelspec": {
   "display_name": "Python 3.6.9 ('pipeline')",
   "language": "python",
   "name": "python3"
  },
  "language_info": {
   "codemirror_mode": {
    "name": "ipython",
    "version": 3
   },
   "file_extension": ".py",
   "mimetype": "text/x-python",
   "name": "python",
   "nbconvert_exporter": "python",
   "pygments_lexer": "ipython3",
   "version": "3.6.9"
  },
  "orig_nbformat": 4,
  "vscode": {
   "interpreter": {
    "hash": "9b29855540defb355a50951874e4b3a9a33e036ed29af88ad65ef37e45f70f6e"
   }
  }
 },
 "nbformat": 4,
 "nbformat_minor": 2
}
