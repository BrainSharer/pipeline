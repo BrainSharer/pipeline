{
 "cells": [
  {
   "cell_type": "code",
   "execution_count": 26,
   "metadata": {},
   "outputs": [],
   "source": [
    "import os,sys\n",
    "sys.path.append(os.path.abspath('./../../'))\n",
    "from cell_extractor.diagnostics.ToolKit import get_DataFrame_from_query_result,get_DataFrame_from_detection_df,print_human_machine_overlap\n"
   ]
  },
  {
   "cell_type": "code",
   "execution_count": 27,
   "metadata": {},
   "outputs": [
    {
     "name": "stdout",
     "output_type": "stream",
     "text": [
      "calculating distance matrix\n",
      "finding points that are close to each other\n",
      "grouping and labeling points that are close to each other\n",
      "before removing duplicates 13919\n",
      "after removing duplicates 13885\n",
      "total sure 8922 total unsure 2849\n",
      "(('sures',), 8894)\n",
      "(('unsures',), 2830)\n",
      "(('Round1_Hannah_POSITIVE',), 2129)\n",
      "(('sures', 'Round1_Hannah_POSITIVE'), 12)\n",
      "(('sures', 'sures'), 6)\n",
      "(('unsures', 'Round1_Hannah_POSITIVE'), 5)\n",
      "(('sures', 'unsures'), 4)\n",
      "(('unsures', 'unsures', 'unsures'), 2)\n",
      "(('unsures', 'unsures'), 2)\n",
      "(('Round1_Hannah_POSITIVE', 'Round1_Hannah_POSITIVE'), 1)\n"
     ]
    }
   ],
   "source": [
    "print_human_machine_overlap('DK39',3)"
   ]
  },
  {
   "cell_type": "code",
   "execution_count": 28,
   "metadata": {},
   "outputs": [
    {
     "name": "stdout",
     "output_type": "stream",
     "text": [
      "calculating distance matrix\n",
      "finding points that are close to each other\n",
      "grouping and labeling points that are close to each other\n",
      "before removing duplicates 13575\n",
      "after removing duplicates 11971\n",
      "total sure 9488 total unsure 2137\n",
      "(('sures',), 7980)\n",
      "(('unsures',), 2052)\n",
      "(('sures', 'Round1_Beth_POSITIVE'), 1490)\n",
      "(('Round1_Beth_POSITIVE',), 352)\n",
      "(('unsures', 'Round1_Beth_POSITIVE'), 75)\n",
      "(('sures', 'Round1_Beth_POSITIVE', 'Round1_Beth_POSITIVE'), 13)\n",
      "(('unsures', 'Round1_Beth_POSITIVE', 'Round1_Beth_POSITIVE'), 3)\n",
      "(('sures', 'sures'), 2)\n",
      "(('unsures', 'unsures'), 2)\n",
      "(('sures', 'unsures'), 1)\n",
      "(('unsures', 'unsures', 'Round1_Beth_POSITIVE'), 1)\n"
     ]
    }
   ],
   "source": [
    "print_human_machine_overlap('DK52',2)"
   ]
  }
 ],
 "metadata": {
  "kernelspec": {
   "display_name": "Python 3.6.9 ('pipeline')",
   "language": "python",
   "name": "python3"
  },
  "language_info": {
   "codemirror_mode": {
    "name": "ipython",
    "version": 3
   },
   "file_extension": ".py",
   "mimetype": "text/x-python",
   "name": "python",
   "nbconvert_exporter": "python",
   "pygments_lexer": "ipython3",
   "version": "3.6.9"
  },
  "orig_nbformat": 4,
  "vscode": {
   "interpreter": {
    "hash": "9b29855540defb355a50951874e4b3a9a33e036ed29af88ad65ef37e45f70f6e"
   }
  }
 },
 "nbformat": 4,
 "nbformat_minor": 2
}
