{
 "cells": [
  {
   "cell_type": "code",
   "execution_count": 1,
   "metadata": {},
   "outputs": [
    {
     "name": "stderr",
     "output_type": "stream",
     "text": [
      "/usr/local/share/pipeline/lib/python3.8/site-packages/xgboost/compat.py:36: FutureWarning: pandas.Int64Index is deprecated and will be removed from pandas in a future version. Use pandas.Index with the appropriate dtype instead.\n",
      "  from pandas import MultiIndex, Int64Index\n"
     ]
    },
    {
     "name": "stdout",
     "output_type": "stream",
     "text": [
      "\n"
     ]
    }
   ],
   "source": [
    "import matplotlib.pyplot as plt\n",
    "import numpy as np\n",
    "import os,sys\n",
    "sys.path.append(os.path.abspath('./../../'))\n",
    "from cell_extractor import utils \n",
    "from cell_extractor.diagnostics.ToolKit import get_DataFrame_from_query_result,find_equivalence,find_agreement,get_DataFrame_from_detection_df\n",
    "from Controllers.MarkedCellController import MarkedCellController\n",
    "from Controllers.SqlController import SqlController\n",
    "import pandas as pd\n",
    "from cell_extractor.CellAnnotationUtilities import CellAnnotationUtilities\n",
    "from cell_extractor.CellDetectorBase import CellDetectorBase\n",
    "from cell_extractor.AnnotationProximityTool import AnnotationProximityTool,AcrossSectionProximity\n",
    "from matplotlib.patches import Patch\n",
    "from collections import Counter\n",
    "from lib.UrlGenerator import UrlGenerator\n",
    "from Controllers.SqlController import SqlController\n"
   ]
  },
  {
   "cell_type": "code",
   "execution_count": 2,
   "metadata": {},
   "outputs": [],
   "source": [
    "controller = SqlController()\n",
    "duplciated_sections = controller.get_duplicate_sections('DK41')[0]\n",
    "base = CellDetectorBase('DK41',round = 3)\n",
    "detections = base.load_detections()\n",
    "detections = detections[[i not in duplciated_sections for i in detections.section]]\n",
    "sures = get_DataFrame_from_detection_df(detections[detections.predictions==2],'sure')\n",
    "unsures = get_DataFrame_from_detection_df(detections[detections.predictions==0],'unsure')"
   ]
  },
  {
   "cell_type": "code",
   "execution_count": 3,
   "metadata": {},
   "outputs": [
    {
     "name": "stderr",
     "output_type": "stream",
     "text": [
      "/home/zhw272/programming/preprocessing-pipeline/pipeline/cell_extractor/AnnotationProximityTool.py:148: SettingWithCopyWarning: \n",
      "A value is trying to be set on a copy of a slice from a DataFrame.\n",
      "Try using .loc[row_indexer,col_indexer] = value instead\n",
      "\n",
      "See the caveats in the documentation: https://pandas.pydata.org/pandas-docs/stable/user_guide/indexing.html#returning-a-view-versus-a-copy\n",
      "  next_section.section = sectioni\n",
      "/home/zhw272/programming/preprocessing-pipeline/pipeline/cell_extractor/AnnotationProximityTool.py:149: SettingWithCopyWarning: \n",
      "A value is trying to be set on a copy of a slice from a DataFrame.\n",
      "Try using .loc[row_indexer,col_indexer] = value instead\n",
      "\n",
      "See the caveats in the documentation: https://pandas.pydata.org/pandas-docs/stable/user_guide/indexing.html#returning-a-view-versus-a-copy\n",
      "  next_section.name = next_section.name+f'_1_section_over'\n"
     ]
    },
    {
     "name": "stdout",
     "output_type": "stream",
     "text": [
      "calculating distance matrix\n",
      "finding points that are close to each other\n",
      "grouping and labeling points that are close to each other\n",
      "before removing duplicates 9856\n",
      "after removing duplicates 9240\n",
      "finding cell detection spanning 2 sections\n",
      "finding cell detection spanning 3 sections\n",
      "finding cell detection spanning 4 sections\n",
      "found 586 cells spanning 2 sections\n",
      "found 26 cells spanning 3 sections\n",
      "found 2 cells spanning 4 sections\n"
     ]
    }
   ],
   "source": [
    "tool = AcrossSectionProximity()\n",
    "tool.set_annotations_to_compare(sures)\n",
    "duplication = tool.find_equivalent_points()"
   ]
  },
  {
   "cell_type": "code",
   "execution_count": 4,
   "metadata": {},
   "outputs": [
    {
     "name": "stderr",
     "output_type": "stream",
     "text": [
      "/home/zhw272/programming/preprocessing-pipeline/pipeline/cell_extractor/AnnotationProximityTool.py:148: SettingWithCopyWarning: \n",
      "A value is trying to be set on a copy of a slice from a DataFrame.\n",
      "Try using .loc[row_indexer,col_indexer] = value instead\n",
      "\n",
      "See the caveats in the documentation: https://pandas.pydata.org/pandas-docs/stable/user_guide/indexing.html#returning-a-view-versus-a-copy\n",
      "  next_section.section = sectioni\n",
      "/home/zhw272/programming/preprocessing-pipeline/pipeline/cell_extractor/AnnotationProximityTool.py:149: SettingWithCopyWarning: \n",
      "A value is trying to be set on a copy of a slice from a DataFrame.\n",
      "Try using .loc[row_indexer,col_indexer] = value instead\n",
      "\n",
      "See the caveats in the documentation: https://pandas.pydata.org/pandas-docs/stable/user_guide/indexing.html#returning-a-view-versus-a-copy\n",
      "  next_section.name = next_section.name+f'_1_section_over'\n"
     ]
    },
    {
     "name": "stdout",
     "output_type": "stream",
     "text": [
      "calculating distance matrix\n",
      "finding points that are close to each other\n",
      "grouping and labeling points that are close to each other\n",
      "before removing duplicates 2745\n",
      "after removing duplicates 2629\n",
      "finding cell detection spanning 2 sections\n",
      "found 15 cells spanning 2 sections\n"
     ]
    }
   ],
   "source": [
    "tool = AcrossSectionProximity()\n",
    "tool.set_annotations_to_compare(unsures)\n",
    "duplication = tool.find_equivalent_points()"
   ]
  }
 ],
 "metadata": {
  "kernelspec": {
   "display_name": "Python 3.6.9 ('pipeline')",
   "language": "python",
   "name": "python3"
  },
  "language_info": {
   "codemirror_mode": {
    "name": "ipython",
    "version": 3
   },
   "file_extension": ".py",
   "mimetype": "text/x-python",
   "name": "python",
   "nbconvert_exporter": "python",
   "pygments_lexer": "ipython3",
   "version": "3.8.10"
  },
  "orig_nbformat": 4,
  "vscode": {
   "interpreter": {
    "hash": "9b29855540defb355a50951874e4b3a9a33e036ed29af88ad65ef37e45f70f6e"
   }
  }
 },
 "nbformat": 4,
 "nbformat_minor": 2
}
