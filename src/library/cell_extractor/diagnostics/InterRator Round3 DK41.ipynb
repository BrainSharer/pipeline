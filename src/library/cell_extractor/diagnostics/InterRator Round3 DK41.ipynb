{
 "cells": [
  {
   "cell_type": "code",
   "execution_count": 1,
   "metadata": {},
   "outputs": [
    {
     "name": "stdout",
     "output_type": "stream",
     "text": [
      "\n"
     ]
    }
   ],
   "source": [
    "import os,sys\n",
    "sys.path.append(os.path.abspath('./../../'))\n",
    "from Controllers.MarkedCellController import MarkedCellController\n",
    "from Controllers.SqlController import SqlController\n",
    "from model.annotation_points import MarkedCellView\n",
    "from sqlalchemy import inspect\n",
    "inst = inspect(MarkedCellView)\n",
    "attr_names = [c_attr.key for c_attr in inst.mapper.column_attrs]\n",
    "import pandas as pd\n",
    "from cell_extractor.AnnotationProximityTool import AnnotationProximityTool\n",
    "import numpy as np\n",
    "from collections import Counter\n",
    "from cell_extractor.diagnostics.ToolKit import get_DataFrame_from_query_result"
   ]
  },
  {
   "cell_type": "code",
   "execution_count": 2,
   "metadata": {},
   "outputs": [],
   "source": [
    "animal = 'DK41'\n",
    "controller = SqlController()\n",
    "factor = controller.get_resolution(animal)\n",
    "controller = MarkedCellController()\n",
    "search_dict = {'FK_prep_id':animal,'FK_cell_type_id':16}\n",
    "round3_sures = get_DataFrame_from_query_result(controller.get_marked_cells(search_dict),'Sure',factor)\n",
    "search_dict = {'FK_prep_id':animal,'FK_cell_type_id':17}\n",
    "round3_unsures = get_DataFrame_from_query_result(controller.get_marked_cells(search_dict),'Unsure',factor)\n",
    "search_dict = {'FK_prep_id':animal,'FK_cell_type_id':19}\n",
    "connected = get_DataFrame_from_query_result(controller.get_marked_cells(search_dict),'Connected',factor)\n",
    "search_dict = {'FK_prep_id':animal,'FK_cell_type_id':18}\n",
    "false_negatives = get_DataFrame_from_query_result(controller.get_marked_cells(search_dict),'False_negative',factor)\n"
   ]
  },
  {
   "cell_type": "code",
   "execution_count": null,
   "metadata": {},
   "outputs": [],
   "source": [
    "human_qc = pd.concat([round3_sures,round3_unsures,connected,false_negatives])"
   ]
  },
  {
   "cell_type": "code",
   "execution_count": 85,
   "metadata": {},
   "outputs": [
    {
     "name": "stdout",
     "output_type": "stream",
     "text": [
      "calculating distance matrix\n",
      "finding points that are close to each other\n",
      "grouping and labeling points that are close to each other\n",
      "before removing duplicates 1000\n",
      "after removing duplicates 500\n"
     ]
    },
    {
     "data": {
      "text/plain": [
       "[(('Sure_Marissa_POSITIVE', 'Sure_Julian_POSITIVE'), 196),\n",
       " (('Sure_Marissa_NULL', 'Sure_Julian_NEGATIVE'), 106),\n",
       " (('Sure_Marissa_NULL', 'Sure_Julian_POSITIVE'), 94),\n",
       " (('Sure_Marissa_NEGATIVE', 'Sure_Julian_NEGATIVE'), 48),\n",
       " (('Sure_Marissa_POSITIVE', 'Sure_Julian_NEGATIVE'), 47),\n",
       " (('Sure_Marissa_NEGATIVE', 'Sure_Julian_POSITIVE'), 9)]"
      ]
     },
     "execution_count": 85,
     "metadata": {},
     "output_type": "execute_result"
    }
   ],
   "source": [
    "tool = AnnotationProximityTool()\n",
    "tool.pair_distance=0.1\n",
    "tool.set_annotations_to_compare(round3_sures)\n",
    "tool.find_equivalent_points()\n",
    "Counter([tuple(i) for i in tool.pair_categories.values()]).most_common()"
   ]
  },
  {
   "cell_type": "code",
   "execution_count": 86,
   "metadata": {},
   "outputs": [
    {
     "name": "stdout",
     "output_type": "stream",
     "text": [
      "calculating distance matrix\n",
      "finding points that are close to each other\n",
      "grouping and labeling points that are close to each other\n",
      "before removing duplicates 8982\n",
      "after removing duplicates 4491\n"
     ]
    },
    {
     "data": {
      "text/plain": [
       "[(('Unsure_Marissa_NULL', 'Unsure_Julian_NULL'), 3135),\n",
       " (('Unsure_Marissa_NEGATIVE', 'Unsure_Julian_NEGATIVE'), 1011),\n",
       " (('Unsure_Marissa_POSITIVE', 'Unsure_Julian_POSITIVE'), 266),\n",
       " (('Unsure_Marissa_POSITIVE', 'Unsure_Julian_NEGATIVE'), 60),\n",
       " (('Unsure_Marissa_NEGATIVE', 'Unsure_Julian_NULL'), 12),\n",
       " (('Unsure_Marissa_POSITIVE', 'Unsure_Julian_NULL'), 4),\n",
       " (('Unsure_Marissa_NEGATIVE', 'Unsure_Julian_POSITIVE'), 3)]"
      ]
     },
     "execution_count": 86,
     "metadata": {},
     "output_type": "execute_result"
    }
   ],
   "source": [
    "tool = AnnotationProximityTool()\n",
    "tool.pair_distance=0.1\n",
    "tool.set_annotations_to_compare(round3_unsures)\n",
    "tool.find_equivalent_points()\n",
    "Counter([tuple(i) for i in tool.pair_categories.values()]).most_common()"
   ]
  },
  {
   "cell_type": "code",
   "execution_count": 90,
   "metadata": {},
   "outputs": [
    {
     "name": "stdout",
     "output_type": "stream",
     "text": [
      "calculating distance matrix\n",
      "finding points that are close to each other\n",
      "grouping and labeling points that are close to each other\n",
      "before removing duplicates 43\n",
      "after removing duplicates 43\n"
     ]
    },
    {
     "data": {
      "text/plain": [
       "[(('Connected_Marissa_POSITIVE',), 43)]"
      ]
     },
     "execution_count": 90,
     "metadata": {},
     "output_type": "execute_result"
    }
   ],
   "source": [
    "tool = AnnotationProximityTool()\n",
    "tool.pair_distance=1\n",
    "tool.set_annotations_to_compare(connected)\n",
    "tool.find_equivalent_points()\n",
    "Counter([tuple(i) for i in tool.pair_categories.values()]).most_common()"
   ]
  },
  {
   "cell_type": "code",
   "execution_count": 88,
   "metadata": {},
   "outputs": [
    {
     "name": "stdout",
     "output_type": "stream",
     "text": [
      "calculating distance matrix\n",
      "finding points that are close to each other\n",
      "grouping and labeling points that are close to each other\n",
      "before removing duplicates 917\n",
      "after removing duplicates 778\n"
     ]
    },
    {
     "data": {
      "text/plain": [
       "[(('False_negative_Marissa_POSITIVE',), 385),\n",
       " (('False_negative_Julian_POSITIVE',), 254),\n",
       " (('False_negative_Julian_POSITIVE', 'False_negative_Marissa_POSITIVE'), 139)]"
      ]
     },
     "execution_count": 88,
     "metadata": {},
     "output_type": "execute_result"
    }
   ],
   "source": [
    "tool = AnnotationProximityTool()\n",
    "tool.pair_distance=5\n",
    "tool.set_annotations_to_compare(false_negatives)\n",
    "tool.find_equivalent_points()\n",
    "Counter([tuple(i) for i in tool.pair_categories.values()]).most_common()"
   ]
  }
 ],
 "metadata": {
  "kernelspec": {
   "display_name": "Python 3.6.9 ('pipeline')",
   "language": "python",
   "name": "python3"
  },
  "language_info": {
   "codemirror_mode": {
    "name": "ipython",
    "version": 3
   },
   "file_extension": ".py",
   "mimetype": "text/x-python",
   "name": "python",
   "nbconvert_exporter": "python",
   "pygments_lexer": "ipython3",
   "version": "3.6.9"
  },
  "orig_nbformat": 4,
  "vscode": {
   "interpreter": {
    "hash": "9b29855540defb355a50951874e4b3a9a33e036ed29af88ad65ef37e45f70f6e"
   }
  }
 },
 "nbformat": 4,
 "nbformat_minor": 2
}
