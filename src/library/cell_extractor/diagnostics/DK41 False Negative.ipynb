{
 "cells": [
  {
   "cell_type": "code",
   "execution_count": 1,
   "metadata": {},
   "outputs": [
    {
     "name": "stdout",
     "output_type": "stream",
     "text": [
      "\n"
     ]
    }
   ],
   "source": [
    "import sys,os\n",
    "import pandas as pd\n",
    "import numpy as np\n",
    "sys.path.append(os.path.abspath('./../../'))\n",
    "from cell_extractor.CellDetectorBase import CellDetectorBase\n",
    "from cell_extractor.AnnotationProximityTool import AnnotationProximityTool\n",
    "from cell_extractor.diagnostics.ToolKit import get_DataFrame_from_query_result,get_DataFrame_from_detection_df\n",
    "from cell_extractor.utils import numpy_to_json\n",
    "from Controllers.MarkedCellController import MarkedCellController\n",
    "from lib.UrlGenerator import UrlGenerator"
   ]
  },
  {
   "cell_type": "code",
   "execution_count": 2,
   "metadata": {},
   "outputs": [
    {
     "name": "stdout",
     "output_type": "stream",
     "text": [
      "5205 1476 262\n"
     ]
    }
   ],
   "source": [
    "base = CellDetectorBase('DK41',round = 3)\n",
    "controller = MarkedCellController()\n",
    "sure,unsure,_ = base.get_detection_by_category()\n",
    "beth_cell = controller.get_marked_cells({'FK_annotator_id':2,'FK_prep_id':'DK41'})\n",
    "beth_cell = get_DataFrame_from_query_result(beth_cell,'beth_annotation',factor = [0.325,0.325,20])\n",
    "sure = get_DataFrame_from_detection_df(sure,'round3_sure')\n",
    "unsure = get_DataFrame_from_detection_df(unsure,'round3_unsure')\n",
    "print(len(sure),len(unsure),len(beth_cell))"
   ]
  },
  {
   "cell_type": "code",
   "execution_count": 3,
   "metadata": {},
   "outputs": [
    {
     "name": "stdout",
     "output_type": "stream",
     "text": [
      "calculating distance matrix\n",
      "finding points that are close to each other\n",
      "grouping and labeling points that are close to each other\n",
      "before removing duplicates 6943\n",
      "after removing duplicates 6657\n",
      "(('round3_sure',), 4998)\n",
      "(('round3_unsure',), 1366)\n",
      "(('round3_sure', 'beth_annotation_Beth_POSITIVE'), 203)\n",
      "(('beth_annotation_Beth_POSITIVE',), 29)\n",
      "(('round3_unsure', 'beth_annotation_Beth_POSITIVE'), 22)\n",
      "(('round3_unsure', 'round3_unsure'), 20)\n",
      "(('round3_unsure', 'round3_unsure', 'round3_unsure'), 12)\n",
      "(('round3_sure', 'beth_annotation_Beth_POSITIVE', 'beth_annotation_Beth_POSITIVE'), 4)\n",
      "(('round3_unsure', 'round3_unsure', 'round3_unsure', 'round3_unsure'), 3)\n"
     ]
    }
   ],
   "source": [
    "tool = AnnotationProximityTool()\n",
    "tool.set_annotations_to_compare(pd.concat([sure,unsure,beth_cell]))\n",
    "tool.find_equivalent_points()\n",
    "tool.print_grouping()"
   ]
  },
  {
   "cell_type": "code",
   "execution_count": 4,
   "metadata": {},
   "outputs": [],
   "source": [
    "possibly_connected = tool.find_annotation_in_category([['round3_sure', 'beth_annotation_Beth_POSITIVE', 'beth_annotation_Beth_POSITIVE']])"
   ]
  },
  {
   "cell_type": "code",
   "execution_count": 5,
   "metadata": {},
   "outputs": [],
   "source": [
    "sures_json = numpy_to_json(np.array([sure.x,sure.y,sure.section]),color_hex='#c61b2b')\n",
    "unsures_json = numpy_to_json(np.array([unsure.x,unsure.y,unsure.section]),color_hex='#00a1e5')\n",
    "possibly_connected_json = numpy_to_json(np.array([possibly_connected.x,possibly_connected.y,possibly_connected.section]),color_hex='#e9dde3')"
   ]
  },
  {
   "cell_type": "code",
   "execution_count": 6,
   "metadata": {},
   "outputs": [
    {
     "data": {
      "text/plain": [
       "660"
      ]
     },
     "execution_count": 6,
     "metadata": {},
     "output_type": "execute_result"
    }
   ],
   "source": [
    "animal = 'DK41'\n",
    "urlGen = UrlGenerator()\n",
    "urlGen.add_stack_image(animal,channel=1)\n",
    "urlGen.add_stack_image(animal,channel=2,color='red')\n",
    "urlGen.add_stack_image(animal,channel=3,color='green')\n",
    "urlGen.add_annotation_layer('Sure',annotations = sures_json)\n",
    "urlGen.add_annotation_layer('Unsure',annotations = unsures_json)\n",
    "urlGen.add_annotation_layer('possibly_connected',annotations = possibly_connected_json)\n",
    "urlGen.add_to_database('DK41 round3 detector possible conntected cell',34)"
   ]
  },
  {
   "cell_type": "code",
   "execution_count": null,
   "metadata": {},
   "outputs": [],
   "source": []
  }
 ],
 "metadata": {
  "kernelspec": {
   "display_name": "Python 3.6.9 ('pipeline')",
   "language": "python",
   "name": "python3"
  },
  "language_info": {
   "codemirror_mode": {
    "name": "ipython",
    "version": 3
   },
   "file_extension": ".py",
   "mimetype": "text/x-python",
   "name": "python",
   "nbconvert_exporter": "python",
   "pygments_lexer": "ipython3",
   "version": "3.6.9"
  },
  "orig_nbformat": 4,
  "vscode": {
   "interpreter": {
    "hash": "9b29855540defb355a50951874e4b3a9a33e036ed29af88ad65ef37e45f70f6e"
   }
  }
 },
 "nbformat": 4,
 "nbformat_minor": 2
}
