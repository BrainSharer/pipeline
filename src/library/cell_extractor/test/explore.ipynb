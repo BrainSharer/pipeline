{
 "cells": [
  {
   "cell_type": "code",
   "execution_count": 1,
   "metadata": {},
   "outputs": [],
   "source": [
    "import sys\n",
    "sys.path.append('/scratch/programming/pipeline_old_schema/preprocessing-pipeline/src')\n",
    "sys.path.append('/scratch/programming/pipeline_old_schema/preprocessing-pipeline/in_development/Will')\n",
    "from cell_extractor.CellDetectorBase import CellDetectorBase\n",
    "from cell_extractor.ExampleFinder import ExampleFinder "
   ]
  },
  {
   "cell_type": "code",
   "execution_count": 2,
   "metadata": {},
   "outputs": [],
   "source": [
    "base = CellDetectorBase('DK55')\n",
    "section = base.get_sections_without_example(threshold=200)"
   ]
  },
  {
   "cell_type": "code",
   "execution_count": 3,
   "metadata": {},
   "outputs": [
    {
     "name": "stdout",
     "output_type": "stream",
     "text": [
      "section=160, SECTION_DIR=//net/birdstore/Active_Atlas_Data/cell_segmentation/DK55/CH3/160, threshold=2000\n"
     ]
    }
   ],
   "source": [
    "animal='DK55'\n",
    "section=160\n",
    "disk='/net/birdstore/Active_Atlas_Data'\n",
    "segmentation_threshold=2000\n",
    "extractor = ExampleFinder(animal=animal,section=section,disk=disk,segmentation_threshold = segmentation_threshold)\n",
    "# extractor.find_examples()\n",
    "# extractor.save_examples()\n",
    "extractor.load_manual_annotation()"
   ]
  },
  {
   "cell_type": "code",
   "execution_count": 4,
   "metadata": {},
   "outputs": [],
   "source": [
    "tile = 5\n",
    "extractor.load_and_preprocess_image(tile)"
   ]
  },
  {
   "cell_type": "code",
   "execution_count": 5,
   "metadata": {},
   "outputs": [],
   "source": [
    "extractor.find_connected_segments(extractor.difference_ch3)\n"
   ]
  },
  {
   "cell_type": "code",
   "execution_count": 6,
   "metadata": {},
   "outputs": [],
   "source": [
    "if extractor.n_segments>2:\n",
    "    extractor.find_segments_corresponding_to_manual_labels(tile)\n",
    "    tilei_examples=extractor.get_examples(tile)\n",
    "    # extractor.Examples.append(tilei_examples)"
   ]
  },
  {
   "cell_type": "code",
   "execution_count": null,
   "metadata": {},
   "outputs": [],
   "source": [
    "import matplotlib.pyplot as plt\n",
    "from numpy import genfromtxt\n",
    "my_data = genfromtxt('/home/zhw272/distances.csv', delimiter=',')\n",
    "plt.hist(my_data.flatten())"
   ]
  }
 ],
 "metadata": {
  "interpreter": {
   "hash": "2533c74531520ed8a9e12d74b09480bfc2e121faafaeb89b603908d5709f20cf"
  },
  "kernelspec": {
   "display_name": "Python 2.7.18 ('venvDet': virtualenv)",
   "language": "python",
   "name": "python3"
  },
  "language_info": {
   "codemirror_mode": {
    "name": "ipython",
    "version": 3
   },
   "file_extension": ".py",
   "mimetype": "text/x-python",
   "name": "python",
   "nbconvert_exporter": "python",
   "pygments_lexer": "ipython3",
   "version": "3.8.10"
  },
  "orig_nbformat": 4
 },
 "nbformat": 4,
 "nbformat_minor": 2
}
