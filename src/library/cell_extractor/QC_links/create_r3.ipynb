{
 "cells": [
  {
   "cell_type": "code",
   "execution_count": 1,
   "metadata": {},
   "outputs": [
    {
     "name": "stderr",
     "output_type": "stream",
     "text": [
      "/usr/local/share/pipeline/lib/python3.8/site-packages/xgboost/compat.py:36: FutureWarning: pandas.Int64Index is deprecated and will be removed from pandas in a future version. Use pandas.Index with the appropriate dtype instead.\n",
      "  from pandas import MultiIndex, Int64Index\n"
     ]
    },
    {
     "name": "stdout",
     "output_type": "stream",
     "text": [
      "\n"
     ]
    }
   ],
   "source": [
    "import sys\n",
    "import os\n",
    "sys.path.append(os.path.abspath('./../../'))\n",
    "from cell_extractor import utils \n",
    "sys.path.append(os.path.abspath('./../../../..'))\n",
    "import numpy as np\n",
    "from lib.UrlGenerator import UrlGenerator\n",
    "from cell_extractor.QcGenerater import QcGenerater\n"
   ]
  },
  {
   "cell_type": "code",
   "execution_count": 2,
   "metadata": {},
   "outputs": [],
   "source": [
    "animal = 'DK41'\n",
    "round = 3\n",
    "generater = QcGenerater(animal,round)"
   ]
  },
  {
   "cell_type": "code",
   "execution_count": 3,
   "metadata": {},
   "outputs": [],
   "source": [
    "sure,unsure = generater.get_sure_and_unsure_cells([500,500])"
   ]
  },
  {
   "cell_type": "code",
   "execution_count": 5,
   "metadata": {},
   "outputs": [
    {
     "data": {
      "text/plain": [
       "682"
      ]
     },
     "execution_count": 5,
     "metadata": {},
     "output_type": "execute_result"
    }
   ],
   "source": [
    "urlGen = UrlGenerator()\n",
    "urlGen.add_stack_image(animal,channel=1)\n",
    "urlGen.add_stack_image(animal,channel=2,color='red')\n",
    "urlGen.add_stack_image(animal,channel=3,color='green')\n",
    "# urlGen.add_annotation_layer('Sure',annotations = sure)\n",
    "urlGen.add_annotation_layer('Unsure',annotations = unsure)\n",
    "sc_id = urlGen.add_to_database(f'Julian QC{round+1} Unsure '+animal,34)\n",
    "print(f'Julian QC url id {animal} : https://activebrainatlas.ucsd.edu/ng/?id={sc_id}')\n",
    "\n",
    "sc_id = urlGen.add_to_database(f'Marissa QC{round+1} Marissa '+animal,34)\n",
    "print(f'Marissa QC url id {animal} : https://activebrainatlas.ucsd.edu/ng/?id={sc_id}')\n"
   ]
  },
  {
   "cell_type": "code",
   "execution_count": 6,
   "metadata": {},
   "outputs": [
    {
     "name": "stderr",
     "output_type": "stream",
     "text": [
      "/tmp/ipykernel_671435/2625973679.py:10: SettingWithCopyWarning: \n",
      "A value is trying to be set on a copy of a slice from a DataFrame\n",
      "\n",
      "See the caveats in the documentation: https://pandas.pydata.org/pandas-docs/stable/user_guide/indexing.html#returning-a-view-versus-a-copy\n",
      "  sure.rename(columns = {'x' : 'col', 'y' : 'row'}, inplace = True)\n",
      "/tmp/ipykernel_671435/2625973679.py:11: SettingWithCopyWarning: \n",
      "A value is trying to be set on a copy of a slice from a DataFrame\n",
      "\n",
      "See the caveats in the documentation: https://pandas.pydata.org/pandas-docs/stable/user_guide/indexing.html#returning-a-view-versus-a-copy\n",
      "  unsure.rename(columns = {'x' : 'col', 'y' : 'row'}, inplace = True)\n"
     ]
    }
   ],
   "source": [
    "animal = 'DK41'\n",
    "sc_id = utils.create_QC_url(animal,sure,unsure,f'Julian QC{round+1} '+animal)\n",
    "print(f'Julian QC url id {animal} : https://activebrainatlas.ucsd.edu/ng/?id={sc_id}')\n",
    "\n",
    "sc_id = utils.create_QC_url(animal,sure,unsure,f'Marissa QC{round+1} '+animal)\n",
    "print(f'Marissa QC url {animal} : https://activebrainatlas.ucsd.edu/ng/?id={sc_id}')\n"
   ]
  },
  {
   "cell_type": "code",
   "execution_count": 47,
   "metadata": {},
   "outputs": [],
   "source": [
    "labeled_sample = sures.sample(100)\n",
    "labeled = utils.numpy_to_json(sure_data_sample,category = f'intra_rater_test_round3')"
   ]
  },
  {
   "cell_type": "code",
   "execution_count": 48,
   "metadata": {},
   "outputs": [
    {
     "data": {
      "text/plain": [
       "672"
      ]
     },
     "execution_count": 48,
     "metadata": {},
     "output_type": "execute_result"
    }
   ],
   "source": [
    "urlGen = UrlGenerator()\n",
    "urlGen.add_stack_image(animal,channel=1)\n",
    "urlGen.add_stack_image(animal,channel=3,color='green')\n",
    "urlGen.add_annotation_layer('Intra Rater',annotations = labeled)\n",
    "urlGen.add_to_database('Marissa Intra Rater',34)\n",
    "urlGen = UrlGenerator()\n",
    "urlGen.add_stack_image(animal,channel=1)\n",
    "urlGen.add_stack_image(animal,channel=3,color='green')\n",
    "urlGen.add_annotation_layer('Intra Rater',annotations = labeled)\n",
    "urlGen.add_to_database('Julian Intra Rater',34)\n"
   ]
  }
 ],
 "metadata": {
  "kernelspec": {
   "display_name": "Python 3.6.9 ('pipeline')",
   "language": "python",
   "name": "python3"
  },
  "language_info": {
   "codemirror_mode": {
    "name": "ipython",
    "version": 3
   },
   "file_extension": ".py",
   "mimetype": "text/x-python",
   "name": "python",
   "nbconvert_exporter": "python",
   "pygments_lexer": "ipython3",
   "version": "3.6.9"
  },
  "orig_nbformat": 4,
  "vscode": {
   "interpreter": {
    "hash": "9b29855540defb355a50951874e4b3a9a33e036ed29af88ad65ef37e45f70f6e"
   }
  }
 },
 "nbformat": 4,
 "nbformat_minor": 2
}
