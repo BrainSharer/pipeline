{
 "cells": [
  {
   "cell_type": "code",
   "execution_count": 1,
   "metadata": {},
   "outputs": [
    {
     "name": "stderr",
     "output_type": "stream",
     "text": [
      "/usr/local/share/pipeline/lib/python3.8/site-packages/xgboost/compat.py:36: FutureWarning: pandas.Int64Index is deprecated and will be removed from pandas in a future version. Use pandas.Index with the appropriate dtype instead.\n",
      "  from pandas import MultiIndex, Int64Index\n"
     ]
    },
    {
     "name": "stdout",
     "output_type": "stream",
     "text": [
      "\n"
     ]
    }
   ],
   "source": [
    "import os,sys\n",
    "sys.path.append(os.path.abspath('./../../'))\n",
    "from cell_extractor.BorderFinder import BorderFinder\n",
    "from cell_extractor.CellDetectorBase import CellDetectorBase\n",
    "from cell_extractor.utils import numpy_to_json,create_QC_url"
   ]
  },
  {
   "cell_type": "code",
   "execution_count": 2,
   "metadata": {},
   "outputs": [
    {
     "name": "stderr",
     "output_type": "stream",
     "text": [
      "/tmp/ipykernel_497734/937363188.py:10: SettingWithCopyWarning: \n",
      "A value is trying to be set on a copy of a slice from a DataFrame\n",
      "\n",
      "See the caveats in the documentation: https://pandas.pydata.org/pandas-docs/stable/user_guide/indexing.html#returning-a-view-versus-a-copy\n",
      "  sure.rename(columns = {'x' : 'col', 'y' : 'row'}, inplace = True)\n",
      "/tmp/ipykernel_497734/937363188.py:11: SettingWithCopyWarning: \n",
      "A value is trying to be set on a copy of a slice from a DataFrame\n",
      "\n",
      "See the caveats in the documentation: https://pandas.pydata.org/pandas-docs/stable/user_guide/indexing.html#returning-a-view-versus-a-copy\n",
      "  unsure.rename(columns = {'x' : 'col', 'y' : 'row'}, inplace = True)\n"
     ]
    }
   ],
   "source": [
    "animal = 'DK41'\n",
    "threshold=2000\n",
    "round = 3\n",
    "sample = 500\n",
    "finder = BorderFinder(animal)\n",
    "detector = CellDetectorBase(animal,round = round,segmentation_threshold=threshold)\n",
    "detections = detector.load_detections()\n",
    "sure = detections[detections.predictions==2]\n",
    "unsure = detections[detections.predictions==0]\n",
    "sure.rename(columns = {'x' : 'col', 'y' : 'row'}, inplace = True)\n",
    "unsure.rename(columns = {'x' : 'col', 'y' : 'row'}, inplace = True)"
   ]
  },
  {
   "cell_type": "code",
   "execution_count": 10,
   "metadata": {},
   "outputs": [
    {
     "data": {
      "text/plain": [
       "20"
      ]
     },
     "execution_count": 10,
     "metadata": {},
     "output_type": "execute_result"
    }
   ],
   "source": [
    "li = [237]\n",
    "sum([i in li for i in sure.section])"
   ]
  },
  {
   "cell_type": "code",
   "execution_count": 11,
   "metadata": {},
   "outputs": [
    {
     "name": "stdout",
     "output_type": "stream",
     "text": [
      "Julian QC url id DK41 : https://activebrainatlas.ucsd.edu/ng/?id=657\n",
      "Marissa QC url DK41 : https://activebrainatlas.ucsd.edu/ng/?id=658\n"
     ]
    }
   ],
   "source": [
    "_,sure = finder.find_border_cells(sure)\n",
    "_,unsure = finder.find_border_cells(unsure)\n",
    "if sample is not None:\n",
    "    sure_data_sample = sure[['col','row','section']].sample(sample).sort_values('section').to_numpy().tolist()\n",
    "else:\n",
    "    sure_data_sample = sure[['col','row','section']].sort_values('section').to_numpy().tolist()\n",
    "sure_data = sure[['col','row','section']].sort_values('section').to_numpy().tolist()\n",
    "unsure_data = unsure[['col','row','section']].sample(sample).sort_values('section').to_numpy().tolist()\n",
    "sure_cells_sample = numpy_to_json(sure_data_sample,category = f'Round{round+1}_Sure')\n",
    "sure_cells = numpy_to_json(sure_data,category = f'Round{round+1}_Sure')\n",
    "unsure_cells = numpy_to_json(unsure_data,color_hex='#1d66db',category = f'Round{round+1}_Unsure')\n",
    "\n",
    "sc_id = create_QC_url(animal,sure_cells_sample,unsure_cells,f'Julian QC{round+1} '+animal)\n",
    "# false_negative_id = create_QC_url(animal,sure_cells,unsure_cells,'Julian false negative '+animal)\n",
    "print(f'Julian QC url id {animal} : https://activebrainatlas.ucsd.edu/ng/?id={sc_id}')\n",
    "# print(f'Julian false negative url id {animal} : https://activebrainatlas.ucsd.edu/ng/?id={false_negative_id}')\n",
    "\n",
    "sc_id = create_QC_url(animal,sure_cells_sample,unsure_cells,f'Marissa QC{round+1} '+animal)\n",
    "# false_negative_id = create_QC_url(animal,sure_cells,unsure_cells,'Marissa false negative '+animal)\n",
    "print(f'Marissa QC url {animal} : https://activebrainatlas.ucsd.edu/ng/?id={sc_id}')\n",
    "# print(f'Marissa false negative url id {animal} : https://activebrainatlas.ucsd.edu/ng/?id={false_negative_id}')"
   ]
  },
  {
   "cell_type": "code",
   "execution_count": null,
   "metadata": {},
   "outputs": [],
   "source": []
  }
 ],
 "metadata": {
  "kernelspec": {
   "display_name": "Python 3.6.9 ('pipeline')",
   "language": "python",
   "name": "python3"
  },
  "language_info": {
   "codemirror_mode": {
    "name": "ipython",
    "version": 3
   },
   "file_extension": ".py",
   "mimetype": "text/x-python",
   "name": "python",
   "nbconvert_exporter": "python",
   "pygments_lexer": "ipython3",
   "version": "3.6.9"
  },
  "orig_nbformat": 4,
  "vscode": {
   "interpreter": {
    "hash": "9b29855540defb355a50951874e4b3a9a33e036ed29af88ad65ef37e45f70f6e"
   }
  }
 },
 "nbformat": 4,
 "nbformat_minor": 2
}
