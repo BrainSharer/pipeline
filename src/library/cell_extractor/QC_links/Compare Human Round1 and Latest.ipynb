{
 "cells": [
  {
   "cell_type": "code",
   "execution_count": 2,
   "metadata": {},
   "outputs": [],
   "source": [
    "import sys\n",
    "import os\n",
    "sys.path.append(os.path.abspath('./../../'))\n",
    "from cell_extractor import utils \n",
    "import sys\n",
    "import os\n",
    "sys.path.append(os.path.abspath('./../../../..'))\n",
    "from cell_extractor.CellDetectorBase import CellDetectorBase\n",
    "from lib.annotation_layer import Cell,random_string\n",
    "import numpy as np\n",
    "from lib.UrlGenerator import UrlGenerator\n",
    "from cell_extractor.BorderFinder import BorderFinder\n",
    "from cell_extractor.CellDetector import MultiThresholdDetector\n",
    "from cell_extractor.CellAnnotationUtilities import CellAnnotationUtilities\n",
    "import matplotlib.pyplot as plt\n",
    "import numpy as np\n",
    "import os,sys\n",
    "sys.path.append(os.path.abspath('./../../'))\n",
    "from cell_extractor import utils \n",
    "from cell_extractor.diagnostics.ToolKit import get_DataFrame_from_query_result,find_equivalence,find_agreement,get_DataFrame_from_detection_df\n",
    "from Controllers.MarkedCellController import MarkedCellController\n",
    "from Controllers.SqlController import SqlController\n",
    "import pandas as pd\n",
    "from cell_extractor.CellAnnotationUtilities import CellAnnotationUtilities\n",
    "from cell_extractor.AnnotationProximityTool import AnnotationProximityTool\n",
    "from matplotlib.patches import Patch\n",
    "from collections import Counter\n"
   ]
  },
  {
   "cell_type": "code",
   "execution_count": 22,
   "metadata": {},
   "outputs": [],
   "source": [
    "animal = 'DK55'\n",
    "controller = SqlController()\n",
    "factor = controller.get_resolution(animal)\n",
    "controller = MarkedCellController()\n",
    "search_dict = {'FK_prep_id':animal,'FK_cell_type_id':1,'FK_annotator_id':3}\n",
    "hannah_labels = get_DataFrame_from_query_result(controller.get_marked_cells(search_dict),'Sure',factor)\n",
    "hannah_data = np.array([hannah_labels.x,hannah_labels.y,hannah_labels.section])\n",
    "hannah_cells = utils.numpy_to_json(hannah_data.T,category = f'Premotor')"
   ]
  },
  {
   "cell_type": "code",
   "execution_count": 14,
   "metadata": {},
   "outputs": [
    {
     "name": "stderr",
     "output_type": "stream",
     "text": [
      "/tmp/ipykernel_764812/2328597680.py:6: SettingWithCopyWarning: \n",
      "A value is trying to be set on a copy of a slice from a DataFrame\n",
      "\n",
      "See the caveats in the documentation: https://pandas.pydata.org/pandas-docs/stable/user_guide/indexing.html#returning-a-view-versus-a-copy\n",
      "  sure.rename(columns = {'x' : 'col', 'y' : 'row'}, inplace = True)\n",
      "/tmp/ipykernel_764812/2328597680.py:7: SettingWithCopyWarning: \n",
      "A value is trying to be set on a copy of a slice from a DataFrame\n",
      "\n",
      "See the caveats in the documentation: https://pandas.pydata.org/pandas-docs/stable/user_guide/indexing.html#returning-a-view-versus-a-copy\n",
      "  unsure.rename(columns = {'x' : 'col', 'y' : 'row'}, inplace = True)\n"
     ]
    }
   ],
   "source": [
    "finder = BorderFinder(animal)\n",
    "detector = CellDetectorBase(animal,round = 3,segmentation_threshold=2000)\n",
    "detections = detector.load_detections()\n",
    "sure = detections[detections.predictions==2]\n",
    "unsure = detections[detections.predictions==0]\n",
    "sure.rename(columns = {'x' : 'col', 'y' : 'row'}, inplace = True)\n",
    "unsure.rename(columns = {'x' : 'col', 'y' : 'row'}, inplace = True)\n",
    "_,sure = finder.find_border_cells(sure)\n",
    "_,unsure = finder.find_border_cells(unsure)\n",
    "sure_data = sure[['col','row','section']].sort_values('section').to_numpy().tolist()\n",
    "unsure_data = unsure[['col','row','section']].sort_values('section').to_numpy().tolist()\n",
    "sure_cells_r3 = utils.numpy_to_json(sure_data,category = f'sure_detector3',color_hex = '#f39c12')\n",
    "unsure_cells_r3 = utils.numpy_to_json(unsure_data,category = f'unsure_detector3')"
   ]
  },
  {
   "cell_type": "code",
   "execution_count": 20,
   "metadata": {},
   "outputs": [
    {
     "name": "stderr",
     "output_type": "stream",
     "text": [
      "/tmp/ipykernel_764812/1209358131.py:6: SettingWithCopyWarning: \n",
      "A value is trying to be set on a copy of a slice from a DataFrame\n",
      "\n",
      "See the caveats in the documentation: https://pandas.pydata.org/pandas-docs/stable/user_guide/indexing.html#returning-a-view-versus-a-copy\n",
      "  sure.rename(columns = {'x' : 'col', 'y' : 'row'}, inplace = True)\n",
      "/tmp/ipykernel_764812/1209358131.py:7: SettingWithCopyWarning: \n",
      "A value is trying to be set on a copy of a slice from a DataFrame\n",
      "\n",
      "See the caveats in the documentation: https://pandas.pydata.org/pandas-docs/stable/user_guide/indexing.html#returning-a-view-versus-a-copy\n",
      "  unsure.rename(columns = {'x' : 'col', 'y' : 'row'}, inplace = True)\n"
     ]
    }
   ],
   "source": [
    "finder = BorderFinder(animal)\n",
    "detector = CellDetectorBase(animal,round = 1,segmentation_threshold=2000)\n",
    "detections = detector.load_detections()\n",
    "sure = detections[detections.predictions==2]\n",
    "unsure = detections[detections.predictions==0]\n",
    "sure.rename(columns = {'x' : 'col', 'y' : 'row'}, inplace = True)\n",
    "unsure.rename(columns = {'x' : 'col', 'y' : 'row'}, inplace = True)\n",
    "_,sure = finder.find_border_cells(sure)\n",
    "_,unsure = finder.find_border_cells(unsure)\n",
    "sure_data = sure[['col','row','section']].sort_values('section').to_numpy().tolist()\n",
    "unsure_data = unsure[['col','row','section']].sort_values('section').to_numpy().tolist()\n",
    "sure_cells_r1 = utils.numpy_to_json(sure_data,category = f'sure_detector1',color_hex = '#3498db')\n",
    "unsure_cells_r1 = utils.numpy_to_json(unsure_data,category = f'unsure_detector1')"
   ]
  },
  {
   "cell_type": "code",
   "execution_count": 23,
   "metadata": {},
   "outputs": [
    {
     "data": {
      "text/plain": [
       "674"
      ]
     },
     "execution_count": 23,
     "metadata": {},
     "output_type": "execute_result"
    }
   ],
   "source": [
    "urlGen = UrlGenerator()\n",
    "urlGen.add_stack_image(animal,channel=1)\n",
    "urlGen.add_stack_image(animal,channel=3,color='green')\n",
    "urlGen.add_annotation_layer('human annotation',annotations = hannah_cells)\n",
    "urlGen.add_annotation_layer('sure round1',annotations = sure_cells_r1)\n",
    "urlGen.add_annotation_layer('sure round3',annotations = sure_cells_r3)\n",
    "urlGen.add_to_database('DK55 compare original, detector1 and detector3',34)\n"
   ]
  },
  {
   "cell_type": "code",
   "execution_count": null,
   "metadata": {},
   "outputs": [],
   "source": []
  }
 ],
 "metadata": {
  "kernelspec": {
   "display_name": "Python 3.6.9 ('pipeline')",
   "language": "python",
   "name": "python3"
  },
  "language_info": {
   "codemirror_mode": {
    "name": "ipython",
    "version": 3
   },
   "file_extension": ".py",
   "mimetype": "text/x-python",
   "name": "python",
   "nbconvert_exporter": "python",
   "pygments_lexer": "ipython3",
   "version": "3.6.9"
  },
  "orig_nbformat": 4,
  "vscode": {
   "interpreter": {
    "hash": "9b29855540defb355a50951874e4b3a9a33e036ed29af88ad65ef37e45f70f6e"
   }
  }
 },
 "nbformat": 4,
 "nbformat_minor": 2
}
