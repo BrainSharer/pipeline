{
 "cells": [
  {
   "cell_type": "code",
   "execution_count": 44,
   "metadata": {},
   "outputs": [],
   "source": [
    "import sys\n",
    "import os\n",
    "sys.path.append(os.path.abspath('./../../'))\n",
    "sys.path.append(os.path.abspath('./../../../..'))\n",
    "from Controllers.UrlController import UrlController\n",
    "import json\n",
    "from lib.UrlGenerator import UrlGenerator"
   ]
  },
  {
   "cell_type": "code",
   "execution_count": 2,
   "metadata": {},
   "outputs": [],
   "source": [
    "controller = UrlController()\n",
    "model = controller.get_urlModel(688)"
   ]
  },
  {
   "cell_type": "code",
   "execution_count": 31,
   "metadata": {},
   "outputs": [],
   "source": [
    "import matplotlib.pyplot as plt\n",
    "import numpy as np\n",
    "import os,sys\n",
    "sys.path.append(os.path.abspath('./../../'))\n",
    "from cell_extractor.diagnostics.ToolKit import get_DataFrame_from_query_result,find_equivalence,find_agreement,get_DataFrame_from_detection_df\n",
    "from Controllers.MarkedCellController import MarkedCellController\n",
    "from Controllers.SqlController import SqlController\n",
    "import pandas as pd\n",
    "from cell_extractor.CellAnnotationUtilities import CellAnnotationUtilities\n",
    "from cell_extractor.AnnotationProximityTool import AnnotationProximityTool\n",
    "from matplotlib.patches import Patch\n",
    "from collections import Counter\n",
    "from lib.UrlGenerator import UrlGenerator\n",
    "from cell_extractor.QcGenerater import QcGenerater\n",
    "from cell_extractor import utils \n",
    "\n",
    "animal = 'DK41'\n",
    "controller = SqlController()\n",
    "factor = controller.get_resolution(animal)\n",
    "\n",
    "controller = MarkedCellController()\n",
    "search_dict = {'FK_prep_id':animal,'FK_cell_type_id':26,'FK_annotator_id':38}\n",
    "mixed = get_DataFrame_from_query_result(controller.get_marked_cells(search_dict),'mixed',factor)"
   ]
  },
  {
   "cell_type": "code",
   "execution_count": 32,
   "metadata": {},
   "outputs": [],
   "source": [
    "animal = 'DK41'\n",
    "sures,unsure,nodetection = utils.get_single_threshold_sure_and_unsure(animal,2000,round=3)\n",
    "detections = pd.concat([sures,unsure,nodetection])\n",
    "\n",
    "suresr2 = get_DataFrame_from_detection_df(sures,'sures_round2')\n",
    "unsuresr2 = get_DataFrame_from_detection_df(unsure,'unsures_round2')\n",
    "nodetectionr2 = get_DataFrame_from_detection_df(nodetection,'no_detection_round2')"
   ]
  },
  {
   "cell_type": "code",
   "execution_count": 33,
   "metadata": {},
   "outputs": [
    {
     "name": "stdout",
     "output_type": "stream",
     "text": [
      "calculating distance matrix\n",
      "finding points that are close to each other\n",
      "grouping and labeling points that are close to each other\n",
      "before removing duplicates 7181\n",
      "after removing duplicates 6681\n"
     ]
    },
    {
     "data": {
      "text/plain": [
       "[(('sures_round2',), 4955),\n",
       " (('unsures_round2',), 1226),\n",
       " (('mixed_Marissa_POSITIVE', 'sures_round2'), 242),\n",
       " (('mixed_Marissa_POSITIVE', 'unsures_round2'), 216),\n",
       " (('mixed_Marissa_NEGATIVE', 'unsures_round2'), 34),\n",
       " (('mixed_Marissa_NEGATIVE', 'sures_round2'), 8)]"
      ]
     },
     "execution_count": 33,
     "metadata": {},
     "output_type": "execute_result"
    }
   ],
   "source": [
    "tool = AnnotationProximityTool()\n",
    "tool.pair_distance=1\n",
    "tool.set_annotations_to_compare(pd.concat([mixed,suresr2,unsuresr2]))\n",
    "tool.find_equivalent_points()\n",
    "Counter([tuple(i) for i in tool.pair_categories.values()]).most_common()"
   ]
  },
  {
   "cell_type": "code",
   "execution_count": 63,
   "metadata": {},
   "outputs": [],
   "source": [
    "sure_positive = tool.find_annotation_in_category([['mixed_Marissa_POSITIVE', 'sures_round2']])\n",
    "unsure_positive = tool.find_annotation_in_category([['mixed_Marissa_POSITIVE', 'unsures_round2']])\n",
    "sure_negative = tool.find_annotation_in_category([['mixed_Marissa_NEGATIVE', 'unsures_round2']])\n",
    "unsure_negative = tool.find_annotation_in_category([['mixed_Marissa_NEGATIVE', 'sures_round2']])\n",
    "from cell_extractor.utils import numpy_to_json\n",
    "\n",
    "sure_positive = numpy_to_json(sure_positive[['x','y','section']].sort_values('section').to_numpy(),category='sure_positive',color_hex = '#2d652b')\n",
    "unsure_positive = numpy_to_json(unsure_positive[['x','y','section']].sort_values('section').to_numpy(),category='unsure_positive',color_hex = '#5eb924')\n",
    "sure_negative = numpy_to_json(sure_negative[['x','y','section']].sort_values('section').to_numpy(),category='sure_negative',color_hex = '#203891')\n",
    "unsure_negative = numpy_to_json(unsure_negative[['x','y','section']].sort_values('section').to_numpy(),category='unsure_negative',color_hex = '#40d8ca')"
   ]
  },
  {
   "cell_type": "code",
   "execution_count": 64,
   "metadata": {},
   "outputs": [
    {
     "name": "stdout",
     "output_type": "stream",
     "text": [
      "meeting url id DK41 : https://activebrainatlas.ucsd.edu/ng/?id=745\n"
     ]
    }
   ],
   "source": [
    "urlGen = UrlGenerator()\n",
    "urlGen.add_stack_image(animal,channel=1)\n",
    "urlGen.add_stack_image(animal,channel=2,color='red')\n",
    "urlGen.add_stack_image(animal,channel=3,color='green')\n",
    "urlGen.add_annotation_layer('Sure Positive',annotations = sure_positive,color_hex='#2d652b')\n",
    "urlGen.add_annotation_layer('Unsure Positive',annotations = unsure_positive,color_hex='#5eb924')\n",
    "urlGen.add_annotation_layer('Sure Negative',annotations = sure_negative,color_hex='#203891')\n",
    "urlGen.add_annotation_layer('Unsure Negative',annotations = unsure_negative,color_hex='#40d8ca')\n",
    "sc_id = urlGen.add_to_database(f'DK41 unmixed QC Marissa',34)\n",
    "print(f'meeting url id {animal} : https://activebrainatlas.ucsd.edu/ng/?id={sc_id}')"
   ]
  },
  {
   "cell_type": "code",
   "execution_count": null,
   "metadata": {},
   "outputs": [],
   "source": []
  }
 ],
 "metadata": {
  "kernelspec": {
   "display_name": "Python 3.8.10 ('pipeline')",
   "language": "python",
   "name": "python3"
  },
  "language_info": {
   "codemirror_mode": {
    "name": "ipython",
    "version": 3
   },
   "file_extension": ".py",
   "mimetype": "text/x-python",
   "name": "python",
   "nbconvert_exporter": "python",
   "pygments_lexer": "ipython3",
   "version": "3.8.10"
  },
  "orig_nbformat": 4,
  "vscode": {
   "interpreter": {
    "hash": "9b29855540defb355a50951874e4b3a9a33e036ed29af88ad65ef37e45f70f6e"
   }
  }
 },
 "nbformat": 4,
 "nbformat_minor": 2
}
