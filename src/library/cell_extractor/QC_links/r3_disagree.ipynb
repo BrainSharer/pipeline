{
 "cells": [
  {
   "cell_type": "code",
   "execution_count": 3,
   "metadata": {},
   "outputs": [],
   "source": [
    "import matplotlib.pyplot as plt\n",
    "import numpy as np\n",
    "import os,sys\n",
    "sys.path.append(os.path.abspath('./../../'))\n",
    "from cell_extractor import utils \n",
    "from cell_extractor.diagnostics.ToolKit import get_DataFrame_from_query_result,find_equivalence,find_agreement,get_DataFrame_from_detection_df\n",
    "from Controllers.MarkedCellController import MarkedCellController\n",
    "from Controllers.SqlController import SqlController\n",
    "import pandas as pd\n",
    "from cell_extractor.CellAnnotationUtilities import CellAnnotationUtilities\n",
    "from cell_extractor.AnnotationProximityTool import AnnotationProximityTool\n",
    "from matplotlib.patches import Patch\n",
    "from collections import Counter\n",
    "from lib.UrlGenerator import UrlGenerator\n",
    "from cell_extractor.QcGenerater import QcGenerater\n"
   ]
  },
  {
   "cell_type": "code",
   "execution_count": 25,
   "metadata": {},
   "outputs": [],
   "source": [
    "animal = 'DK41'\n",
    "controller = SqlController()\n",
    "sections = controller.get_sections(animal,1)\n",
    "file_names = np.array([i.file_name for i in sections])\n",
    "repeating_sections = np.where(file_names[1:]==file_names[:-1])[0]\n",
    "factor = controller.get_resolution(animal)\n"
   ]
  },
  {
   "cell_type": "code",
   "execution_count": 31,
   "metadata": {},
   "outputs": [
    {
     "name": "stdout",
     "output_type": "stream",
     "text": [
      "calculating distance matrix\n",
      "finding points that are close to each other\n",
      "grouping and labeling points that are close to each other\n",
      "before removing duplicates 980\n",
      "after removing duplicates 490\n",
      "calculating distance matrix\n",
      "finding points that are close to each other\n",
      "grouping and labeling points that are close to each other\n",
      "before removing duplicates 8758\n",
      "after removing duplicates 4379\n",
      "calculating distance matrix\n",
      "finding points that are close to each other\n",
      "grouping and labeling points that are close to each other\n",
      "before removing duplicates 43\n",
      "after removing duplicates 43\n",
      "calculating distance matrix\n",
      "finding points that are close to each other\n",
      "grouping and labeling points that are close to each other\n",
      "before removing duplicates 886\n",
      "after removing duplicates 751\n"
     ]
    }
   ],
   "source": [
    "controller = MarkedCellController()\n",
    "search_dict = {'FK_prep_id':animal,'FK_cell_type_id':16}\n",
    "round3_sures = get_DataFrame_from_query_result(controller.get_marked_cells(search_dict),'Sure',factor)\n",
    "round3_sures = round3_sures.drop(round3_sures[[int(i) in repeating_sections for i in round3_sures.section]].index)\n",
    "round3_sures_tool = find_equivalence(round3_sures)\n",
    "search_dict = {'FK_prep_id':animal,'FK_cell_type_id':17}\n",
    "round3_unsures = get_DataFrame_from_query_result(controller.get_marked_cells(search_dict),'Unsure',factor)\n",
    "round3_unsures = round3_unsures.drop(round3_unsures[[int(i) in repeating_sections for i in round3_unsures.section]].index)\n",
    "round3_unsures_tool = find_equivalence(round3_unsures)\n",
    "search_dict = {'FK_prep_id':animal,'FK_cell_type_id':19}\n",
    "connected = get_DataFrame_from_query_result(controller.get_marked_cells(search_dict),'Connected',factor)\n",
    "connected = connected.drop(connected[[int(i) in repeating_sections for i in connected.section]].index)\n",
    "connected_tool = find_equivalence(connected)\n",
    "search_dict = {'FK_prep_id':animal,'FK_cell_type_id':18}\n",
    "false_negatives = get_DataFrame_from_query_result(controller.get_marked_cells(search_dict),'False_negative',factor)\n",
    "false_negatives = false_negatives.drop(false_negatives[[int(i) in repeating_sections for i in false_negatives.section]].index)\n",
    "false_negatives_tool = find_equivalence(false_negatives,distance=5)\n"
   ]
  },
  {
   "cell_type": "code",
   "execution_count": 4,
   "metadata": {},
   "outputs": [],
   "source": [
    "disagree = [['Sure_Marissa_NEGATIVE', 'Sure_Julian_POSITIVE'],['Sure_Marissa_POSITIVE', 'Sure_Julian_NEGATIVE']]\n",
    "round3_sure_disagree = find_annotation_in_category(round3_sures_tool,disagree)"
   ]
  },
  {
   "cell_type": "code",
   "execution_count": 5,
   "metadata": {},
   "outputs": [],
   "source": [
    "disagree = [['Unsure_Marissa_POSITIVE', 'Unsure_Julian_NEGATIVE'],['Unsure_Marissa_NEGATIVE', 'Unsure_Julian_POSITIVE']]\n",
    "round3_unsure_disagree = find_annotation_in_category(round3_unsures_tool,disagree)"
   ]
  },
  {
   "cell_type": "code",
   "execution_count": 6,
   "metadata": {},
   "outputs": [],
   "source": [
    "agree = [['False_negative_Julian_POSITIVE', 'False_negative_Marissa_POSITIVE'],]\n",
    "disagree = [['False_negative_Julian_POSITIVE'],['False_negative_Marissa_POSITIVE']]\n",
    "false_negatives_agreed,false_negatives_disagreed = find_agreement(false_negatives_tool,agree,disagree)"
   ]
  },
  {
   "cell_type": "code",
   "execution_count": 7,
   "metadata": {},
   "outputs": [
    {
     "data": {
      "text/html": [
       "<div>\n",
       "<style scoped>\n",
       "    .dataframe tbody tr th:only-of-type {\n",
       "        vertical-align: middle;\n",
       "    }\n",
       "\n",
       "    .dataframe tbody tr th {\n",
       "        vertical-align: top;\n",
       "    }\n",
       "\n",
       "    .dataframe thead th {\n",
       "        text-align: right;\n",
       "    }\n",
       "</style>\n",
       "<table border=\"1\" class=\"dataframe\">\n",
       "  <thead>\n",
       "    <tr style=\"text-align: right;\">\n",
       "      <th></th>\n",
       "      <th>x</th>\n",
       "      <th>y</th>\n",
       "      <th>section</th>\n",
       "      <th>name</th>\n",
       "    </tr>\n",
       "  </thead>\n",
       "  <tbody>\n",
       "    <tr>\n",
       "      <th>222</th>\n",
       "      <td>35472.9</td>\n",
       "      <td>18529</td>\n",
       "      <td>164</td>\n",
       "      <td>Sure_Marissa_NEGATIVE</td>\n",
       "    </tr>\n",
       "    <tr>\n",
       "      <th>223</th>\n",
       "      <td>40544</td>\n",
       "      <td>22547</td>\n",
       "      <td>165</td>\n",
       "      <td>Sure_Marissa_NEGATIVE</td>\n",
       "    </tr>\n",
       "    <tr>\n",
       "      <th>224</th>\n",
       "      <td>40302.2</td>\n",
       "      <td>23485</td>\n",
       "      <td>165</td>\n",
       "      <td>Sure_Marissa_NEGATIVE</td>\n",
       "    </tr>\n",
       "    <tr>\n",
       "      <th>229</th>\n",
       "      <td>40799.1</td>\n",
       "      <td>20920</td>\n",
       "      <td>180</td>\n",
       "      <td>Sure_Marissa_NEGATIVE</td>\n",
       "    </tr>\n",
       "    <tr>\n",
       "      <th>232</th>\n",
       "      <td>40452</td>\n",
       "      <td>21692</td>\n",
       "      <td>199</td>\n",
       "      <td>Sure_Marissa_NEGATIVE</td>\n",
       "    </tr>\n",
       "  </tbody>\n",
       "</table>\n",
       "</div>"
      ],
      "text/plain": [
       "           x      y section                   name\n",
       "222  35472.9  18529     164  Sure_Marissa_NEGATIVE\n",
       "223    40544  22547     165  Sure_Marissa_NEGATIVE\n",
       "224  40302.2  23485     165  Sure_Marissa_NEGATIVE\n",
       "229  40799.1  20920     180  Sure_Marissa_NEGATIVE\n",
       "232    40452  21692     199  Sure_Marissa_NEGATIVE"
      ]
     },
     "execution_count": 7,
     "metadata": {},
     "output_type": "execute_result"
    }
   ],
   "source": [
    "round3_sure_disagree,round3_unsure_disagree,false_negatives_disagreed"
   ]
  },
  {
   "cell_type": "code",
   "execution_count": 26,
   "metadata": {},
   "outputs": [],
   "source": [
    "sure_disagree = np.array([round3_sure_disagree.x,round3_sure_disagree.y,round3_sure_disagree.section]).T\n",
    "unsure_disagree = np.array([round3_unsure_disagree.x,round3_unsure_disagree.y,round3_unsure_disagree.section]).T\n",
    "false_negative_disagree = np.array([false_negatives_disagreed.x,false_negatives_disagreed.y,false_negatives_disagreed.section]).T"
   ]
  },
  {
   "cell_type": "code",
   "execution_count": 27,
   "metadata": {},
   "outputs": [
    {
     "name": "stdout",
     "output_type": "stream",
     "text": [
      "Beth QC url id DK41 : https://activebrainatlas.ucsd.edu/ng/?id=655\n"
     ]
    }
   ],
   "source": [
    "sure_cells = utils.numpy_to_json(sure_disagree,category = f'Round3_Sure')\n",
    "unsure_cells = utils.numpy_to_json(unsure_disagree,category = f'Round3_Unsure')\n",
    "false_negative_cells = utils.numpy_to_json(false_negative_disagree,color_hex='#1d66db',category = f'false_negative')\n",
    "urlGen = UrlGenerator()\n",
    "urlGen.add_stack_image(animal,channel=1)\n",
    "urlGen.add_stack_image(animal,channel=3,color='green')\n",
    "urlGen.add_annotation_layer('Sure',annotations = sure_cells)\n",
    "urlGen.add_annotation_layer('Unsure',annotations = unsure_cells)\n",
    "urlGen.add_annotation_layer('False Negative',annotations = false_negative_cells)\n",
    "sc_id = urlGen.add_to_database('DK41 round3 disagreement',34)\n",
    "print(f'Beth QC url id {animal} : https://activebrainatlas.ucsd.edu/ng/?id={sc_id}')"
   ]
  }
 ],
 "metadata": {
  "kernelspec": {
   "display_name": "Python 3.6.9 ('pipeline')",
   "language": "python",
   "name": "python3"
  },
  "language_info": {
   "codemirror_mode": {
    "name": "ipython",
    "version": 3
   },
   "file_extension": ".py",
   "mimetype": "text/x-python",
   "name": "python",
   "nbconvert_exporter": "python",
   "pygments_lexer": "ipython3",
   "version": "3.8.10"
  },
  "orig_nbformat": 4,
  "vscode": {
   "interpreter": {
    "hash": "9b29855540defb355a50951874e4b3a9a33e036ed29af88ad65ef37e45f70f6e"
   }
  }
 },
 "nbformat": 4,
 "nbformat_minor": 2
}
