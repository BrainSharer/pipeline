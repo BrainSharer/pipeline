{
 "cells": [
  {
   "cell_type": "code",
   "execution_count": 14,
   "id": "initial_id",
   "metadata": {
    "collapsed": true
   },
   "outputs": [
    {
     "name": "stdout",
     "output_type": "stream",
     "text": [
      "reading: /net/birdstore/Active_Atlas_Data/cell_segmentation/DK62/CH3/001/extracted_cells_1_threshold_2000.pkl\n",
      "ORG EXTRACTED CELLS CELL CANDIDATE COUNT: 26\n",
      "reading: /scratch/pipeline/DK62/cell_candidates/extracted_cells_001.gz\n",
      "NEW EXTRACTED CELLS CELL CANDIDATE COUNT: 26\n"
     ]
    }
   ],
   "source": [
    "import pandas as pd\n",
    "from pathlib import Path\n",
    "import imageio\n",
    "from compress_pickle import dump, load\n",
    "\n",
    "animal = 'DK62'\n",
    "section = '001'\n",
    "input_file = Path(f'/net/birdstore/Active_Atlas_Data/cell_segmentation/{animal}/CH3/{section}/', f'extracted_cells_{int(section)}_threshold_2000.pkl')\n",
    "print(f'reading: {input_file}')\n",
    "obj = pd.read_pickle(input_file)\n",
    "try:\n",
    "    print(f'ORG EXTRACTED CELLS CELL CANDIDATE COUNT: {len(obj[0])}')\n",
    "except:\n",
    "    print('NOT AVAILABLE')\n",
    "\n",
    "# section = '001'\n",
    "input_file1 = Path(f'/scratch/pipeline/{animal}/cell_candidates/', f'extracted_cells_{section}.gz')\n",
    "print(f'reading: {input_file1}')\n",
    "obj1 = load(input_file1)\n",
    "try:\n",
    "    print(f'NEW EXTRACTED CELLS CELL CANDIDATE COUNT: {len(obj1[0])}')\n",
    "except:\n",
    "    print('NOT AVAILABLE')"
   ]
  },
  {
   "cell_type": "code",
   "execution_count": 16,
   "id": "6fdb66b27de2e6df",
   "metadata": {
    "collapsed": false
   },
   "outputs": [
    {
     "name": "stdout",
     "output_type": "stream",
     "text": [
      "Numpy array of org. image_CH3: (80, 80)\n",
      "Numpy array of new image_CH3: (80, 80)\n"
     ]
    }
   ],
   "source": [
    "#VIEW CONTENTS OF ARRAY\n",
    "import numpy as np\n",
    "#len(obj1[0])\n",
    "\n",
    "#obj1[0][0]\n",
    "\n",
    "# obj1\n",
    "\n",
    "#ORG IMAGE:\n",
    "org_img3 = obj[0][0]['image_CH3']\n",
    "# print(f'Numpy array shape of org. image_CH3: {org_img3.shape}')\n",
    "# print(f'Numpy array shape of new image_CH3: {obj1[0][0][\"image_CH3\"].shape}')\n",
    "print(f'Numpy array of org. image_CH3: {org_img3}')\n",
    "print(f'Numpy array of new image_CH3: {obj1[0][0][\"image_CH3\"]}')\n",
    "\n",
    "#org_img1 = obj[0][0]['image_CH1']\n",
    "# print(f'Numpy array of org. image_CH1: {org_img1.shape.shape}')\n",
    "# print(f'Numpy array of new image_CH1: {obj1[0][0][\"image_CH1\"].shape}')\n",
    "\n",
    "# print(f'Segment mask: {obj1[0][0][\"mask\"]}')\n",
    "#obj1[0][0]['image_CH3']\n",
    "#obj1[0]"
   ]
  }
 ],
 "metadata": {
  "kernelspec": {
   "display_name": "Python 3",
   "language": "python",
   "name": "python3"
  },
  "language_info": {
   "codemirror_mode": {
    "name": "ipython",
    "version": 3
   },
   "file_extension": ".py",
   "mimetype": "text/x-python",
   "name": "python",
   "nbconvert_exporter": "python",
   "pygments_lexer": "ipython3",
   "version": "3.10.12"
  }
 },
 "nbformat": 4,
 "nbformat_minor": 5
}
