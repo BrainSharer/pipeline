{
 "cells": [
  {
   "cell_type": "code",
   "execution_count": null,
   "id": "4892eb0d",
   "metadata": {},
   "outputs": [],
   "source": [
    "import os\n",
    "import numpy as np\n",
    "from skimage import io\n",
    "from matplotlib import pyplot as plt\n",
    "import cv2\n",
    "from skimage import color\n",
    "from skimage import io\n",
    "from skimage.filters import gaussian\n",
    "from scipy.ndimage import binary_fill_holes"
   ]
  },
  {
   "cell_type": "code",
   "execution_count": null,
   "id": "0e1a7920",
   "metadata": {},
   "outputs": [],
   "source": [
    "def merge_mask(image, mask):\n",
    "    b = mask\n",
    "    g = image[:,:,1]\n",
    "    r = np.zeros_like(image[:,:,0]).astype(np.uint8)\n",
    "    merged = np.stack([r, g, b], axis=2)\n",
    "    return merged"
   ]
  },
  {
   "cell_type": "code",
   "execution_count": null,
   "id": "f2d1ae04",
   "metadata": {
    "scrolled": true
   },
   "outputs": [],
   "source": [
    "img = io.imread(infile)\n",
    "image = img.copy()\n",
    "lower = [10, 15, 0]\n",
    "upper = [255, 100, 10]\n",
    "\n",
    "# create NumPy arrays from the boundaries\n",
    "lower = np.array(lower, dtype=\"uint8\")\n",
    "upper = np.array(upper, dtype=\"uint8\")\n",
    "\n",
    "# find the colors within the specified boundaries and apply\n",
    "# the mask\n",
    "mask = cv2.inRange(image, lower, upper)\n",
    "print(mask.dtype, mask.shape)\n",
    "mask = (binary_fill_holes(mask)).astype(np.uint8)\n",
    "print(mask.dtype, mask.shape)\n",
    "output = cv2.bitwise_and(image, image, mask=mask)\n",
    "ret,thresh = cv2.threshold(mask, 0, 255, 0)\n",
    "contours, hierarchy = cv2.findContours(thresh, cv2.RETR_EXTERNAL, cv2.CHAIN_APPROX_NONE)\n",
    "areaArray = []\n",
    "for contour in contours:\n",
    "    area = cv2.contourArea(contour)\n",
    "    areaArray.append(area)\n",
    "# first sort the array by area\n",
    "if len(contours) > 0:\n",
    "    sorteddata = sorted(zip(areaArray, contours), key=lambda x: x[0], reverse=True)\n",
    "    largest_contour = sorteddata[0][1]\n",
    "    output = cv2.fillPoly(mask, pts =[largest_contour], color=255)\n",
    "    #plt.imshow(output, cmap=\"gray\")\n",
    "print(output.shape, output.ndim)\n",
    "plt.imshow(mask, cmap=\"gray\")"
   ]
  },
  {
   "cell_type": "code",
   "execution_count": null,
   "id": "404b8555",
   "metadata": {},
   "outputs": [],
   "source": [
    "print(image.dtype, image.shape, image.ndim)\n",
    "print(output.dtype, output.shape, output.ndim)"
   ]
  },
  {
   "cell_type": "code",
   "execution_count": null,
   "id": "eed96329",
   "metadata": {},
   "outputs": [],
   "source": [
    "merged = merge_mask(image, output)\n",
    "print(merged.shape, merged.dtype, merged.ndim)"
   ]
  },
  {
   "cell_type": "code",
   "execution_count": null,
   "id": "215afbb3",
   "metadata": {},
   "outputs": [],
   "source": [
    "plt.imshow(mask)"
   ]
  },
  {
   "cell_type": "code",
   "execution_count": null,
   "id": "2e28745d",
   "metadata": {},
   "outputs": [],
   "source": [
    "animal = 'DK37'\n",
    "DIR = f'/net/birdstore/Active_Atlas_Data/data_root/pipeline_data/{animal}/preps/masks'\n",
    "INPUT = os.path.join(DIR, 'C1', 'thumbnail_colored')\n",
    "file = '101.tif'\n",
    "infile = os.path.join(INPUT, file)"
   ]
  },
  {
   "cell_type": "code",
   "execution_count": null,
   "id": "72a8f2d1",
   "metadata": {},
   "outputs": [],
   "source": [
    "img = io.imread(infile)\n",
    "print('img',img.dtype, img.shape)\n",
    "new_img = color.rgb2gray(img)\n",
    "new_img *= 255 # or any coefficient\n",
    "new_img = new_img.astype(np.uint8)\n",
    "new_img[(new_img > 200)] = 0"
   ]
  },
  {
   "cell_type": "code",
   "execution_count": null,
   "id": "c01698b5",
   "metadata": {},
   "outputs": [],
   "source": [
    "lowerbound = 0\n",
    "upperbound = 255\n",
    "#all pixels value above lowerbound will  be set to upperbound \n",
    "_, thresh = cv2.threshold(new_img.copy(), lowerbound, upperbound, cv2.THRESH_BINARY_INV)\n",
    "kernel = cv2.getStructuringElement(cv2.MORPH_ELLIPSE,(50,50))\n",
    "thresh = cv2.morphologyEx(thresh,cv2.MORPH_OPEN,kernel)\n",
    "#smoothed = gaussian(thresh, 50)\n",
    "kernel = cv2.getStructuringElement(cv2.MORPH_ELLIPSE, (8,8))\n",
    "smoothed = cv2.morphologyEx(thresh, cv2.MORPH_ERODE, kernel)\n",
    "inverted_thresh = cv2.bitwise_not(smoothed)\n",
    "filled_thresh = binary_fill_holes(inverted_thresh).astype(np.uint8)\n",
    "cleaned = cv2.bitwise_and(img,img, mask=filled_thresh)"
   ]
  },
  {
   "cell_type": "code",
   "execution_count": null,
   "id": "6f67e116",
   "metadata": {},
   "outputs": [],
   "source": [
    "images = [cleaned, smoothed, thresh, filled_thresh, img]\n",
    "_, axs = plt.subplots(len(images),1, figsize=(12, 12))\n",
    "axs = axs.flatten()\n",
    "for image, ax in zip(images, axs):\n",
    "    ax.imshow(image, cmap=\"gray\")\n",
    "plt.show()"
   ]
  },
  {
   "cell_type": "code",
   "execution_count": null,
   "id": "e2f63587",
   "metadata": {},
   "outputs": [],
   "source": []
  }
 ],
 "metadata": {
  "kernelspec": {
   "display_name": "Python 3 (ipykernel)",
   "language": "python",
   "name": "python3"
  },
  "language_info": {
   "codemirror_mode": {
    "name": "ipython",
    "version": 3
   },
   "file_extension": ".py",
   "mimetype": "text/x-python",
   "name": "python",
   "nbconvert_exporter": "python",
   "pygments_lexer": "ipython3",
   "version": "3.10.12"
  }
 },
 "nbformat": 4,
 "nbformat_minor": 5
}
