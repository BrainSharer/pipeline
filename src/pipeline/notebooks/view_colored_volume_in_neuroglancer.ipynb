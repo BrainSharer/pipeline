{
 "cells": [
  {
   "cell_type": "code",
   "execution_count": null,
   "metadata": {},
   "outputs": [],
   "source": [
    "import os\n",
    "import sys\n",
    "import numpy as np\n",
    "import neuroglancer\n",
    "from skimage import io\n",
    "import matplotlib\n",
    "from matplotlib import pyplot as plt\n",
    "import cv2\n",
    "from pathlib import Path\n",
    "from tifffile import imwrite\n",
    "import SimpleITK as sitk\n",
    "from scipy.ndimage import zoom\n",
    "PIPELINE_ROOT = Path('.').resolve().parent.parent\n",
    "sys.path.append(PIPELINE_ROOT.as_posix())\n",
    "\n",
    "from library.utilities.utilities_mask import normalize16"
   ]
  },
  {
   "cell_type": "code",
   "execution_count": null,
   "metadata": {},
   "outputs": [],
   "source": [
    "def compare_two_images(img1, img2):\n",
    "    plt.figure(figsize=[20,20])\n",
    "    plt.imshow(img1,cmap='Blues')\n",
    "    plt.imshow(img2,alpha=0.5,cmap='Reds')"
   ]
  },
  {
   "cell_type": "code",
   "execution_count": null,
   "metadata": {},
   "outputs": [],
   "source": [
    "DATA = '/net/birdstore/Active_Atlas_Data/data_root/pipeline_data/DK52/preps/CH1'\n",
    "REGDATA = '/net/birdstore/Active_Atlas_Data/data_root/brains_info/registration'"
   ]
  },
  {
   "cell_type": "code",
   "execution_count": null,
   "metadata": {},
   "outputs": [],
   "source": [
    "filename = 'allen_10um_sagittal.tif'\n",
    "fixedFilepath = os.path.join(REGDATA, filename)\n",
    "fixed_volume = io.imread(fixedFilepath)\n",
    "print(f'Fixed volume shape={fixed_volume.shape} dtype={fixed_volume.dtype}')"
   ]
  },
  {
   "cell_type": "code",
   "execution_count": null,
   "metadata": {},
   "outputs": [],
   "source": [
    "fixed_midpoint = fixed_volume.shape[0] // 2\n",
    "fixed_image = fixed_volume[fixed_midpoint,:,:]\n",
    "del fixed_volume\n",
    "print(f'Fixed image shape={fixed_image.shape} dtype={fixed_image.dtype}')"
   ]
  },
  {
   "cell_type": "code",
   "execution_count": null,
   "metadata": {},
   "outputs": [],
   "source": [
    "# moving_volume around x=1200, y = 750 for 10um\n",
    "# moving volume around x=600, y=350 for 25um\n",
    "files = os.listdir(os.path.join(DATA, 'thumbnail_aligned'))\n",
    "midpoint = len(files) // 2\n",
    "filename = f'{midpoint}.tif'\n",
    "movingFilepath = os.path.join(DATA, 'thumbnail_aligned', filename)\n",
    "moving_image = io.imread(movingFilepath)\n",
    "print(f'Shape of {filename}: {moving_image.shape}')\n",
    "#scale = fixed_volume.shape[1] / (moving_volume.shape[1] - 120)\n",
    "#scale = 1.1\n",
    "#print(f'scale={scale}')\n",
    "#moving_volume = zoom(moving_volume, zoom=(1, scale, scale))\n",
    "#print(f'Shape after scaling: {moving_volume.shape}')\n",
    "#print(f'Scales: {moving_volume.shape[0]*scale} {moving_volume.shape[1]*scale} {moving_volume.shape[2]*scale}')\n",
    "#moving_volume = moving_volume[:, 50:, 50:]\n",
    "#print(f'Shape after scaling and cropping: {moving_volume.shape}')\n"
   ]
  },
  {
   "cell_type": "code",
   "execution_count": null,
   "metadata": {},
   "outputs": [],
   "source": [
    "fx = 65500\n",
    "fy = 35500\n",
    "print(fx/2252)\n",
    "print(fy/1220)\n",
    "1/29.85*100"
   ]
  },
  {
   "cell_type": "code",
   "execution_count": null,
   "metadata": {},
   "outputs": [],
   "source": [
    "fixedImage = sitk.ReadImage(fixedFilepath)\n",
    "movingImage = sitk.ReadImage(movingFilepath)\n",
    "\n",
    "initial_transform = sitk.CenteredTransformInitializer(fixedImage, \n",
    "                                                    movingImage, \n",
    "                                                    sitk.Euler3DTransform(), \n",
    "                                                    sitk.CenteredTransformInitializerFilter.MOMENTS)\n",
    "\n",
    "moving_resampled = sitk.Resample(movingImage, fixedImage, initial_transform, sitk.sitkLinear, 0.0, movingImage.GetPixelID())\n",
    "moving_volume = sitk.GetArrayFromImage(moving_resampled)"
   ]
  },
  {
   "cell_type": "code",
   "execution_count": null,
   "metadata": {},
   "outputs": [],
   "source": [
    "fixedImage = sitk.GetImageFromArray(fixed_image)\n",
    "movingImage = sitk.GetImageFromArray(moving_image)"
   ]
  },
  {
   "cell_type": "code",
   "execution_count": 1,
   "metadata": {},
   "outputs": [
    {
     "ename": "NameError",
     "evalue": "name 'sitk' is not defined",
     "output_type": "error",
     "traceback": [
      "\u001b[0;31m---------------------------------------------------------------------------\u001b[0m",
      "\u001b[0;31mNameError\u001b[0m                                 Traceback (most recent call last)",
      "File \u001b[0;32m<timed exec>:1\u001b[0m, in \u001b[0;36m<module>\u001b[0;34m\u001b[0m\n",
      "\u001b[0;31mNameError\u001b[0m: name 'sitk' is not defined"
     ]
    }
   ],
   "source": [
    "%%time\n",
    "elastixImageFilter = sitk.ElastixImageFilter()\n",
    "elastixImageFilter.SetFixedImage(fixedImage)\n",
    "elastixImageFilter.SetMovingImage(movingImage)\n",
    "translateParameterMap = sitk.GetDefaultParameterMap('translation')\n",
    "translateParameterMap[\"MaximumNumberOfIterations\"] = [\"1500\"] # 250 works ok\n",
    "\n",
    "rigidParameterMap = sitk.GetDefaultParameterMap('rigid')\n",
    "rigidParameterMap[\"MaximumNumberOfIterations\"] = [\"1500\"] # 250 works ok        \n",
    "rigidParameterMap[\"MaximumNumberOfSamplingAttempts\"] = [\"10\"]\n",
    "rigidParameterMap[\"UseDirectionCosines\"] = [\"true\"]\n",
    "rigidParameterMap[\"NumberOfResolutions\"]= [\"6\"]\n",
    "rigidParameterMap[\"NumberOfSpatialSamples\"] = [\"4000\"]\n",
    "rigidParameterMap[\"WriteResultImage\"] = [\"false\"]\n",
    "\n",
    "affineParameterMap = sitk.GetDefaultParameterMap('affine')\n",
    "affineParameterMap[\"UseDirectionCosines\"] = [\"true\"]\n",
    "affineParameterMap[\"MaximumNumberOfIterations\"] = [\"1000\"] # 250 works ok\n",
    "affineParameterMap[\"MaximumNumberOfSamplingAttempts\"] = [\"10\"]\n",
    "affineParameterMap[\"NumberOfResolutions\"]= [\"6\"]\n",
    "affineParameterMap[\"NumberOfSpatialSamples\"] = [\"4000\"]\n",
    "affineParameterMap[\"WriteResultImage\"] = [\"false\"]\n",
    "\n",
    "bsplineParameterMap = sitk.GetDefaultParameterMap('bspline')\n",
    "bsplineParameterMap[\"MaximumNumberOfIterations\"] = [\"1500\"] # 150 works ok\n",
    "#bsplineParameterMap[\"WriteResultImage\"] = [\"true\"]\n",
    "#bsplineParameterMap[\"UseDirectionCosines\"] = [\"true\"]\n",
    "#bsplineParameterMap[\"FinalGridSpacingInVoxels\"] = [\"10\"]\n",
    "#bsplineParameterMap[\"MaximumNumberOfSamplingAttempts\"] = [\"10\"]\n",
    "bsplineParameterMap[\"NumberOfResolutions\"]= [\"6\"]\n",
    "#bsplineParameterMap[\"GridSpacingSchedule\"] = [\"6.219\", \"4.1\", \"2.8\", \"1.9\", \"1.4\", \"1.0\"]\n",
    "bsplineParameterMap[\"NumberOfSpatialSamples\"] = [\"4000\"]\n",
    "#del bsplineParameterMap[\"FinalGridSpacingInPhysicalUnits\"]\n",
    "\n",
    "elastixImageFilter.SetParameterMap(translateParameterMap)\n",
    "elastixImageFilter.AddParameterMap(rigidParameterMap)\n",
    "#elastixImageFilter.AddParameterMap(affineParameterMap)\n",
    "#elastixImageFilter.AddParameterMap(bsplineParameterMap)\n",
    "resultImage = elastixImageFilter.Execute()"
   ]
  },
  {
   "cell_type": "code",
   "execution_count": null,
   "metadata": {
    "scrolled": true
   },
   "outputs": [],
   "source": [
    "#arr = fixed_volume\n",
    "registered_image = sitk.GetArrayFromImage(resultImage)\n",
    "plt.title('all')\n",
    "plt.imshow(registered_image, cmap=\"gray\")\n",
    "plt.show()"
   ]
  },
  {
   "cell_type": "code",
   "execution_count": null,
   "metadata": {},
   "outputs": [],
   "source": [
    "# 1- blue is fixed, 2 red is moving\n",
    "compare_two_images(fixed_image, registered_image)"
   ]
  },
  {
   "cell_type": "code",
   "execution_count": null,
   "metadata": {
    "scrolled": true
   },
   "outputs": [],
   "source": [
    "plt.title('Z {}'.format(moving_midpoint))\n",
    "plt.imshow(moving_image, cmap=\"gray\")\n",
    "plt.show()"
   ]
  },
  {
   "cell_type": "code",
   "execution_count": null,
   "metadata": {},
   "outputs": [],
   "source": [
    "#scaled = zoom(moving_volume, zoom=(1, scaler, scaler))\n",
    "#print(scaled.shape)\n",
    "outpath = os.path.join(DATA, 'scaled_volume.tif')\n",
    "imwrite(outpath, moving_volume)\n",
    "#vm2 = np.swapaxes(volume, 0,2)\n",
    "#print(vm2.shape)\n",
    "#outpath = os.path.join(DATA, 'allen_50um_sagittal.tif')\n",
    "#imwrite(outpath, vm2)"
   ]
  },
  {
   "cell_type": "code",
   "execution_count": null,
   "metadata": {},
   "outputs": [],
   "source": [
    "#arr = normalize16(volume)\n",
    "arr = fixed_volume\n",
    "print(arr.shape)\n",
    "#arr = np.swapaxes(fixed_volume, 0,1)\n",
    "midpoint = arr.shape[2] // 2\n",
    "limit = 100\n",
    "start = midpoint - limit\n",
    "end = midpoint + limit\n",
    "for i in tqdm(range(start, end, 10)):\n",
    "    plt.title('Z {}'.format(i))\n",
    "    img = arr[:,:,i]\n",
    "    img = np.rot90(img, 1, axes=(1,0))\n",
    "    img = np.flip(img, axis=1)\n",
    "    plt.imshow(img, cmap=\"seismic\")\n",
    "    plt.show()"
   ]
  },
  {
   "cell_type": "code",
   "execution_count": null,
   "metadata": {},
   "outputs": [],
   "source": [
    "image_stack = np.zeros(volume.shape)\n",
    "file_list = []\n",
    "\n",
    "for i in tqdm(range(0, volume.shape[2], 1)):\n",
    "    img = volume[:,:,i]\n",
    "    img = np.rot90(img, 1, axes=(1,0))\n",
    "    img = np.flip(img, axis=1)\n",
    "    filepath = os.path.join(OUTPUT, str(i).zfill(3) + '.tif')\n",
    "    cv2.imwrite(filepath, img)"
   ]
  },
  {
   "cell_type": "code",
   "execution_count": null,
   "metadata": {},
   "outputs": [],
   "source": [
    "# The default atlas created by brainreg is isotropic 25um\n",
    "vm2 = fixed_volume\n",
    "#print(f'Orig volume shape={sagittal.shape}')\n",
    "#vm2 = np.swapaxes(volume, 0,2)\n",
    "#sagittal = np.rot90(sagittal, axes=(1, 0))\n",
    "#sagittal = np.flip(sagittal, axis=1)\n",
    "print(f'new volume shape={vm2.shape}')\n",
    "\n",
    "dimensions = neuroglancer.CoordinateSpace(\n",
    "    names=['x', 'y', 'z'],\n",
    "    units='um',\n",
    "    scales=[10,10,10])\n",
    "viewer = neuroglancer.Viewer()\n",
    "with viewer.txn() as s:\n",
    "    s.dimensions = dimensions\n",
    "    s.layout = '4panel'\n",
    "    s.layers['Princeton'] = neuroglancer.SegmentationLayer(\n",
    "        source=neuroglancer.LocalVolume(\n",
    "            data=vm2,\n",
    "            dimensions=dimensions,\n",
    "            voxel_offset=(0, 0, 0),\n",
    "        ))\n",
    "\n",
    "print(viewer)"
   ]
  }
 ],
 "metadata": {
  "kernelspec": {
   "display_name": "Python 3 (ipykernel)",
   "language": "python",
   "name": "python3"
  },
  "language_info": {
   "codemirror_mode": {
    "name": "ipython",
    "version": 3
   },
   "file_extension": ".py",
   "mimetype": "text/x-python",
   "name": "python",
   "nbconvert_exporter": "python",
   "pygments_lexer": "ipython3",
   "version": "3.10.6"
  }
 },
 "nbformat": 4,
 "nbformat_minor": 4
}
