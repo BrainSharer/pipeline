{
 "cells": [
  {
   "cell_type": "code",
   "execution_count": 1,
   "id": "4892eb0d",
   "metadata": {},
   "outputs": [],
   "source": [
    "from valis import registration\n",
    "import valis\n",
    "import os"
   ]
  },
  {
   "cell_type": "code",
   "execution_count": 2,
   "id": "98f1b0ff",
   "metadata": {},
   "outputs": [],
   "source": [
    "slide_src_dir = \"/net/birdstore/Active_Atlas_Data/data_root/pipeline_data/DK37/preps/C1/thumbnail_cropped\"\n",
    "results_dst_dir = \"/net/birdstore/Active_Atlas_Data/data_root/pipeline_data/DK37/preps/C1/valis\"\n",
    "os.makedirs(results_dst_dir, exist_ok=True)\n",
    "registered_slide_dst_dir = \"/net/birdstore/Active_Atlas_Data/data_root/pipeline_data/DK37/preps/C1/thumbnail_registered\"\n",
    "os.makedirs(registered_slide_dst_dir, exist_ok=True)\n",
    "# Create a Valis object and use it to register the slides in slide_src_dir\n",
    "#registrar = registration.Valis(slide_src_dir, results_dst_dir, imgs_ordered=True, non_rigid_registrar_cls=None)"
   ]
  },
  {
   "cell_type": "code",
   "execution_count": 3,
   "id": "505285e7",
   "metadata": {},
   "outputs": [],
   "source": [
    "ordered_img_list = []\n",
    "files = sorted(os.listdir(slide_src_dir))\n",
    "for file in files:\n",
    "    filepath = os.path.join(slide_src_dir, file)\n",
    "    ordered_img_list.append(filepath)"
   ]
  },
  {
   "cell_type": "code",
   "execution_count": null,
   "id": "dfe09039",
   "metadata": {},
   "outputs": [
    {
     "name": "stdout",
     "output_type": "stream",
     "text": [
      "\n",
      "==== Converting images\n",
      "\n"
     ]
    },
    {
     "name": "stderr",
     "output_type": "stream",
     "text": [
      "Converting images: 100%|██████████████████████████████████████████████████████████████████████████████████████████████████████████████| 479/479 [00:12<00:00, 38.89image/s]\n"
     ]
    },
    {
     "name": "stdout",
     "output_type": "stream",
     "text": [
      "\n",
      "==== Processing images\n",
      "\n"
     ]
    },
    {
     "name": "stderr",
     "output_type": "stream",
     "text": [
      "Processing images : 100%|█████████████████████████████████████████████████████████████████████████████████████████████████████████████| 479/479 [00:31<00:00, 15.44image/s]\n",
      "Normalizing images: 100%|█████████████████████████████████████████████████████████████████████████████████████████████████████████████| 479/479 [18:28<00:00,  2.31s/image]\n",
      "Denoising images  : 100%|█████████████████████████████████████████████████████████████████████████████████████████████████████████████| 479/479 [00:56<00:00,  8.54image/s]\n"
     ]
    },
    {
     "name": "stdout",
     "output_type": "stream",
     "text": [
      "\n",
      "==== Rigid registration\n",
      "\n"
     ]
    },
    {
     "name": "stderr",
     "output_type": "stream",
     "text": [
      "Detecting features   : 100%|██████████████████████████████████████████████████████████████████████████████████████████████████████████| 479/479 [03:53<00:00,  2.05image/s]\n"
     ]
    },
    {
     "data": {
      "application/vnd.jupyter.widget-view+json": {
       "model_id": "",
       "version_major": 2,
       "version_minor": 0
      },
      "text/plain": [
       "QUEUEING TASKS | Matching images      :   0%|          | 0/479 [00:00<?, ?image/s]"
      ]
     },
     "metadata": {},
     "output_type": "display_data"
    },
    {
     "data": {
      "application/vnd.jupyter.widget-view+json": {
       "model_id": "",
       "version_major": 2,
       "version_minor": 0
      },
      "text/plain": [
       "PROCESSING TASKS | Matching images      :   0%|          | 0/479 [00:00<?, ?image/s]"
      ]
     },
     "metadata": {},
     "output_type": "display_data"
    },
    {
     "data": {
      "application/vnd.jupyter.widget-view+json": {
       "model_id": "",
       "version_major": 2,
       "version_minor": 0
      },
      "text/plain": [
       "COLLECTING RESULTS | Matching images      :   0%|          | 0/479 [00:00<?, ?image/s]"
      ]
     },
     "metadata": {},
     "output_type": "display_data"
    },
    {
     "name": "stderr",
     "output_type": "stream",
     "text": [
      "Finding transforms   : 100%|████████████████████████████████████████████████████████████████████████████████████████████████████████| 478/478 [00:00<00:00, 3397.58image/s]\n",
      "Finalizing           : 100%|███████████████████████████████████████████████████████████████████████████████████████████████████████| 479/479 [00:00<00:00, 12921.40image/s]\n"
     ]
    }
   ],
   "source": [
    "registrar = registration.Valis(slide_src_dir, dst_dir = results_dst_dir, \n",
    "                               non_rigid_registrar_cls=None,\n",
    "                            img_list=ordered_img_list, imgs_ordered=True)\n",
    "rigid_registrar, non_rigid_registrar, error_df = registrar.register()\n",
    "registrar.warp_and_merge_slides(results_dir, crop = False, drop_duplicates = False )"
   ]
  }
 ],
 "metadata": {
  "kernelspec": {
   "display_name": "Python 3 (ipykernel)",
   "language": "python",
   "name": "python3"
  },
  "language_info": {
   "codemirror_mode": {
    "name": "ipython",
    "version": 3
   },
   "file_extension": ".py",
   "mimetype": "text/x-python",
   "name": "python",
   "nbconvert_exporter": "python",
   "pygments_lexer": "ipython3",
   "version": "3.10.12"
  }
 },
 "nbformat": 4,
 "nbformat_minor": 5
}
