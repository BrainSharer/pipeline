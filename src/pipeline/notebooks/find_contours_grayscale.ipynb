{
 "cells": [
  {
   "cell_type": "code",
   "execution_count": null,
   "id": "4892eb0d",
   "metadata": {},
   "outputs": [],
   "source": [
    "import os\n",
    "import numpy as np\n",
    "from skimage import io\n",
    "from matplotlib import pyplot as plt\n",
    "import cv2\n",
    "from skimage import color\n",
    "from skimage import io\n",
    "from skimage.filters import gaussian\n",
    "from scipy.ndimage import binary_fill_holes"
   ]
  },
  {
   "cell_type": "code",
   "execution_count": null,
   "id": "50f12151",
   "metadata": {},
   "outputs": [],
   "source": [
    "def smooth_image(gray):\n",
    "    # threshold\n",
    "    thresh = cv2.threshold(gray, 32, 255, cv2.THRESH_BINARY)[1]\n",
    "    # blur threshold image\n",
    "    blur = cv2.GaussianBlur(thresh, (0,0), sigmaX=3, sigmaY=3, borderType = cv2.BORDER_DEFAULT)\n",
    "    # stretch so that 255 -> 255 and 127.5 -> 0\n",
    "    stretch = rescale_intensity(blur, in_range=(127.5,255), out_range=(0,255)).astype(np.uint8)\n",
    "    # threshold again\n",
    "    thresh2 = cv2.threshold(stretch, 0, 255, cv2.THRESH_BINARY)[1]\n",
    "    # get external contour\n",
    "    contours = cv2.findContours(thresh2, cv2.RETR_EXTERNAL, cv2.CHAIN_APPROX_SIMPLE)\n",
    "    contours = contours[0] if len(contours) == 2 else contours[1]\n",
    "    big_contour = max(contours, key=cv2.contourArea)\n",
    "    # draw white filled contour on black background as mas\n",
    "    contour = np.zeros_like(gray)\n",
    "    cv2.drawContours(contour, [big_contour], 0, 255, -1)\n",
    "    # dilate mask for dark border\n",
    "    kernel = cv2.getStructuringElement(cv2.MORPH_ELLIPSE, (12,12))\n",
    "    dilate = cv2.morphologyEx(contour, cv2.MORPH_CLOSE, kernel)\n",
    "    # apply morphology erode\n",
    "    kernel = cv2.getStructuringElement(cv2.MORPH_ELLIPSE, (8,8))\n",
    "    dilate = cv2.morphologyEx(dilate, cv2.MORPH_ERODE, kernel)\n",
    "    # blur dilate image\n",
    "    blur2 = cv2.GaussianBlur(dilate, (3,3), sigmaX=0, sigmaY=0, borderType = cv2.BORDER_DEFAULT)\n",
    "    # stretch so that 255 -> 255 and 127.5 -> 0\n",
    "    mask = rescale_intensity(blur2, in_range=(127.5,255), out_range=(0,255))\n",
    "    #return cv2.bitwise_and(gray, gray, mask=mask.astype(np.uint8))\n",
    "    return cv2.bitwise_and(gray, mask.astype(np.uint8), mask=None)\n",
    "\n",
    "def find_contours(image):\n",
    "    # red color boundaries [B, G, R]\n",
    "    lower = 0\n",
    "    upper = 1000\n",
    "\n",
    "    # create NumPy arrays from the boundaries\n",
    "    #lower = np.array(lower, dtype=\"uint8\")\n",
    "    #upper = np.array(upper, dtype=\"uint8\")\n",
    "\n",
    "    # find the colors within the specified boundaries and apply\n",
    "    # the mask\n",
    "    \n",
    "    mask = cv2.inRange(image, lower, upper)\n",
    "    output = cv2.bitwise_and(image, image, mask=mask)\n",
    "\n",
    "    ret,thresh = cv2.threshold(mask, 40, 255, 0)\n",
    "    contours, hierarchy = cv2.findContours(thresh, cv2.RETR_EXTERNAL, cv2.CHAIN_APPROX_NONE)\n",
    "    print(f'len contour={len(contours)})\n",
    "    if len(contours) != 0:\n",
    "        \n",
    "        # draw in blue the contours that were founded\n",
    "        cv2.drawContours(output, contours, -1, 255, 3)\n",
    "\n",
    "        # find the biggest countour (c) by the area\n",
    "        c = max(contours, key = cv2.contourArea)\n",
    "        x,y,w,h = cv2.boundingRect(c)\n",
    "\n",
    "        # draw the biggest contour (c) in green\n",
    "        cv2.rectangle(output,(x,y),(x+w,y+h),(0,255,0),2)\n",
    "        \n",
    "    return output\n"
   ]
  },
  {
   "cell_type": "code",
   "execution_count": null,
   "id": "20d07307",
   "metadata": {},
   "outputs": [],
   "source": [
    "image = img.copy()\n",
    "ret,thresh = cv2.threshold(image, 0, 200, 0)\n",
    "contours, hierarchy = cv2.findContours(thresh, cv2.RETR_EXTERNAL, cv2.CHAIN_APPROX_NONE)\n",
    "areaArray = []\n",
    "for contour in contours:\n",
    "    area = cv2.contourArea(contour)\n",
    "    print(area)\n",
    "    areaArray.append(area)\n",
    "# first sort the array by area\n",
    "sorteddata = sorted(zip(areaArray, contours), key=lambda x: x[0], reverse=True)\n",
    "largest_contour = sorteddata[0][1]\n",
    "output = cv2.fillPoly(image, pts =[largest_contour], color=255)\n",
    "plt.imshow(output, cmap=\"gray\")\n",
    "print(output.shape)"
   ]
  },
  {
   "cell_type": "code",
   "execution_count": null,
   "id": "2e28745d",
   "metadata": {},
   "outputs": [],
   "source": [
    "animal = 'DK37'\n",
    "DIR = f'/net/birdstore/Active_Atlas_Data/data_root/pipeline_data/{animal}/preps'\n",
    "INPUT = os.path.join(DIR, 'C1', 'thumbnail')\n",
    "file = '000.tif'\n",
    "infile = os.path.join(INPUT, file)"
   ]
  },
  {
   "cell_type": "code",
   "execution_count": null,
   "id": "72a8f2d1",
   "metadata": {},
   "outputs": [],
   "source": [
    "img = io.imread(infile)\n",
    "img = np.rot90(img, 3, axes=(1,0))\n",
    "img = (img/256).astype(np.uint8)\n",
    "print('img',img.dtype, img.shape)\n",
    "plt.imshow(img)"
   ]
  },
  {
   "cell_type": "code",
   "execution_count": null,
   "id": "c01698b5",
   "metadata": {},
   "outputs": [],
   "source": [
    "lowerbound = 0\n",
    "upperbound = 255\n",
    "#all pixels value above lowerbound will  be set to upperbound \n",
    "_, thresh = cv2.threshold(img.copy(), lowerbound, upperbound, cv2.THRESH_BINARY_INV)\n",
    "kernel_size = (2,2)\n",
    "kernel = cv2.getStructuringElement(cv2.MORPH_ELLIPSE, kernel_size)\n",
    "thresh = cv2.morphologyEx(thresh,cv2.MORPH_OPEN,kernel)\n",
    "#smoothed = gaussian(thresh, 50)\n",
    "kernel = cv2.getStructuringElement(cv2.MORPH_ELLIPSE, kernel_size)\n",
    "smoothed = cv2.morphologyEx(thresh, cv2.MORPH_ERODE, kernel)\n",
    "inverted_thresh = cv2.bitwise_not(smoothed)\n",
    "filled_thresh = binary_fill_holes(inverted_thresh).astype(np.uint8)\n",
    "cleaned = cv2.bitwise_and(img,img, mask=filled_thresh)"
   ]
  },
  {
   "cell_type": "code",
   "execution_count": null,
   "id": "417fc5e7",
   "metadata": {},
   "outputs": [],
   "source": [
    "contours = find_contours(img)\n",
    "print('contours', contours.dtype, contours.shape)"
   ]
  },
  {
   "cell_type": "code",
   "execution_count": null,
   "id": "6f67e116",
   "metadata": {},
   "outputs": [],
   "source": [
    "images = [contours, cleaned, smoothed, thresh, filled_thresh, img, inverted_thresh]\n",
    "titles = ['contours', 'cleaned', 'smoothed', 'thresh', 'filled_thresh', 'img', 'inverted_thresh']\n",
    "\n",
    "_, axs = plt.subplots(len(images),1, figsize=(12, 12))\n",
    "axs = axs.flatten()\n",
    "for image, ax, title in zip(images, axs, titles):\n",
    "    ax.set_title(f'{title}')\n",
    "    ax.imshow(image, cmap=\"gray\")\n",
    "    plt.tight_layout()\n",
    "#plt.show()"
   ]
  }
 ],
 "metadata": {
  "kernelspec": {
   "display_name": "Python 3 (ipykernel)",
   "language": "python",
   "name": "python3"
  },
  "language_info": {
   "codemirror_mode": {
    "name": "ipython",
    "version": 3
   },
   "file_extension": ".py",
   "mimetype": "text/x-python",
   "name": "python",
   "nbconvert_exporter": "python",
   "pygments_lexer": "ipython3",
   "version": "3.10.12"
  }
 },
 "nbformat": 4,
 "nbformat_minor": 5
}
