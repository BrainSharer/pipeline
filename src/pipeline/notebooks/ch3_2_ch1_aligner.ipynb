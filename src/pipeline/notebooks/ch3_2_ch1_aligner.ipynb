{
 "cells": [
  {
   "cell_type": "code",
   "execution_count": 1,
   "metadata": {},
   "outputs": [],
   "source": [
    "from scipy.ndimage import affine_transform\n",
    "import tifffile as tiff\n",
    "import os\n",
    "import numpy as np\n",
    "import copy\n",
    "from pathlib import Path\n",
    "import sys\n",
    "import matplotlib.pyplot as plt\n",
    "import cv2\n",
    "PIPELINE_ROOT =  Path().resolve().parent\n",
    "sys.path.append(PIPELINE_ROOT.as_posix())"
   ]
  },
  {
   "cell_type": "code",
   "execution_count": null,
   "metadata": {},
   "outputs": [],
   "source": [
    "from image_manipulation.pipeline_process import Pipeline\n",
    "from image_manipulation.elastix_manager import create_downsampled_transforms\n",
    "from utilities.utilities_mask import equalized, normalize_image\n",
    "\n",
    "from utilities.utilities_registration import (\n",
    "    parameters_to_rigid_transform,\n",
    "    rigid_transform_to_parmeters,\n",
    ")\n",
    "from settings import data_path, host, password, user, schema\n",
    "channel = 1\n",
    "downsample = True\n",
    "tg = False\n",
    "debug = False\n",
    "rescan_number = 0"
   ]
  },
  {
   "cell_type": "code",
   "execution_count": null,
   "metadata": {},
   "outputs": [],
   "source": [
    "filepath = '/net/birdstore/Active_Atlas_Data/data_root/pipeline_data/DK97/thumbnail_original/DK97_slide057_C1_C2_C3_2023_02_03_axion2_S4_C3.tif'\n",
    "image = tiff.imread(filepath)\n",
    "(h, w) = image.shape[:2]\n",
    "print(f'dtype={image.dtype} shape={image.shape}, h={h}, w={w}')"
   ]
  },
  {
   "cell_type": "code",
   "execution_count": null,
   "metadata": {},
   "outputs": [],
   "source": [
    "def image_resize(image, width, height):\n",
    "    # resize the image\n",
    "    resized = cv2.resize(image, (height, width), interpolation = cv2.INTER_AREA)\n",
    "    # return the resized image\n",
    "    return resized"
   ]
  },
  {
   "cell_type": "code",
   "execution_count": null,
   "metadata": {},
   "outputs": [],
   "source": [
    "resized = image_resize(image, 3156, 1781)\n",
    "print(f'dtype={resized.dtype} shape={resized.shape}')"
   ]
  },
  {
   "cell_type": "code",
   "execution_count": null,
   "metadata": {},
   "outputs": [],
   "source": [
    "img1 = normalize_image(resized)\n",
    "img1 = equalized(img1)\n",
    "plt.figure(figsize=[20,20])\n",
    "plt.imshow(img1, cmap='Greys')"
   ]
  },
  {
   "cell_type": "code",
   "execution_count": null,
   "metadata": {},
   "outputs": [],
   "source": [
    "class ManualAligner(Pipeline):    \n",
    "    \n",
    "    def __init__(self, animal, moving_index):\n",
    "        # pipeline = Pipeline(animal, rescan_number, channel, downsample, data_path, tg, debug)\n",
    "\n",
    "        super().__init__(animal, rescan_number, channel, downsample, data_path, tg, debug)\n",
    "        sectioni = moving_index\n",
    "        self.moving_index = moving_index\n",
    "        MOVING_DIR = os.path.join(self.fileLocationManager.prep, 'CH3', 'thumbnail_aligned_iteration_1')\n",
    "        FIXED_DIR = self.fileLocationManager.get_thumbnail_aligned(channel=2)\n",
    "        self.fixed_file = os.path.join(FIXED_DIR, f'{str(moving_index).zfill(3)}.tif')\n",
    "        self.moving_file = os.path.join(MOVING_DIR, f'{str(moving_index).zfill(3)}.tif')\n",
    "        self.moving = tiff.imread(self.moving_file)\n",
    "        self.fixed = tiff.imread(self.fixed_file)\n",
    "        self.center = self.get_rotation_center()\n",
    "        \n",
    "    def transform_image(self,img,T):\n",
    "        matrix = T[:2,:2]\n",
    "        offset = T[:2,2]\n",
    "        offset = np.flip(offset)\n",
    "        img = affine_transform(img,matrix.T,offset)\n",
    "        return img\n",
    "    \n",
    "    def evaluate_transformation(self):\n",
    "        # img1 is moving        \n",
    "        rotation, xshift, yshift = self.load_elastix_transformation(self.animal, self.moving_index, 2)\n",
    "        T = self.parameters_to_rigid_transform(rotation, xshift, yshift, self.center)\n",
    "        img1 = self.transform_image(self.moving, T)\n",
    "        self.compare_two_image(img1,self.fixed)        \n",
    "        \n",
    "    def compare_two_imageXXX(self,img1,img2):\n",
    "        img1,img2 = img1.astype(float),img2.astype(float)\n",
    "        vmin_max1 = img1[img1!=0].min(),img1[img1!=0].max()\n",
    "        vmin_max2 = img2[img2!=0].min(),img2[img2!=0].max()\n",
    "        img1[img1<2000]=np.nan\n",
    "        img2[img2<2000]=np.nan\n",
    "        plt.figure(figsize=[20,20])\n",
    "        plt.imshow(img1,cmap='Reds',vmin=vmin_max1[0], vmax=vmin_max1[1]*0.8)\n",
    "        plt.imshow(img2,alpha=0.5,cmap='Blues',vmin=vmin_max2[0], vmax=vmin_max2[1]*0.8)\n",
    "        \n",
    "    def compare_two_image(self,img1,img2):\n",
    "        img1 = normalize_image(img1)\n",
    "        img1 = equalized(img1)\n",
    "        img2 = normalize_image(img2)\n",
    "        img2 = equalized(img2)\n",
    "        \n",
    "        plt.figure(figsize=[20,20])\n",
    "        plt.imshow(img1, cmap='Reds')\n",
    "        plt.imshow(img2, alpha=0.5)        \n",
    "    \n",
    "    \n",
    "    def compare_untransformed(self):\n",
    "        self.compare_two_image(self.moving,self.fixed)\n",
    "        \n",
    "    \n",
    "    def evaluate_current_transformation(self):\n",
    "        T1 = self.get_transformation_of_sectioni(self.moving_index)\n",
    "        T2 = self.get_transformation_of_sectioni(self.fixed_index)\n",
    "        self.evalulate_transformation(self.moving, self.fixed, T1, T2)\n",
    "        plt.title(self.moving_index);"
   ]
  },
  {
   "cell_type": "code",
   "execution_count": null,
   "metadata": {},
   "outputs": [],
   "source": [
    "prep_id = 'DK97'\n",
    "section = 10\n",
    "aligner = ManualAligner(prep_id, section)"
   ]
  },
  {
   "cell_type": "code",
   "execution_count": null,
   "metadata": {},
   "outputs": [],
   "source": [
    "aligner.compare_untransformed()"
   ]
  },
  {
   "cell_type": "code",
   "execution_count": null,
   "metadata": {},
   "outputs": [],
   "source": [
    "aligner.evaluate_transformation()"
   ]
  },
  {
   "cell_type": "code",
   "execution_count": null,
   "metadata": {},
   "outputs": [],
   "source": [
    "rotation, xshift, yshift = aligner.load_elastix_transformation(aligner.animal, aligner.moving_index, iteration=2)\n",
    "section = str(aligner.moving_index).zfill(3)\n",
    "print(f'moving index/section = {aligner.moving_index}')\n",
    "print(f'rotation = {rotation}')\n",
    "print(f'xshift = {xshift}')\n",
    "print(f'yshift = {yshift}')"
   ]
  }
 ],
 "metadata": {
  "kernelspec": {
   "display_name": "Python 3",
   "language": "python",
   "name": "python3"
  },
  "language_info": {
   "codemirror_mode": {
    "name": "ipython",
    "version": 3
   },
   "file_extension": ".py",
   "mimetype": "text/x-python",
   "name": "python",
   "nbconvert_exporter": "python",
   "pygments_lexer": "ipython3",
   "version": "3.10.12"
  },
  "vscode": {
   "interpreter": {
    "hash": "9b29855540defb355a50951874e4b3a9a33e036ed29af88ad65ef37e45f70f6e"
   }
  }
 },
 "nbformat": 4,
 "nbformat_minor": 2
}
