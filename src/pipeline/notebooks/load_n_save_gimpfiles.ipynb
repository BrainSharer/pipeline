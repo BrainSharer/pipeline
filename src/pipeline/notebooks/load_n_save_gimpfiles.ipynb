{
 "cells": [
  {
   "cell_type": "code",
   "execution_count": null,
   "id": "4892eb0d",
   "metadata": {},
   "outputs": [],
   "source": [
    "import os\n",
    "import numpy as np\n",
    "from skimage import io\n",
    "from matplotlib import pyplot as plt"
   ]
  },
  {
   "cell_type": "code",
   "execution_count": null,
   "id": "2e28745d",
   "metadata": {},
   "outputs": [],
   "source": [
    "animal = 'DK52'\n",
    "DIR = f'/net/birdstore/Active_Atlas_Data/data_root/pipeline_data/{animal}/preps'\n",
    "INPUT = os.path.join(DIR, 'CH1', 'thumbnail_cleaned')"
   ]
  },
  {
   "cell_type": "code",
   "execution_count": null,
   "id": "467145ad",
   "metadata": {},
   "outputs": [],
   "source": [
    "# test if readable, corrupted\n",
    "badfiles = ['086.tif','087.tif','088.tif']\n",
    "for badfile in badfiles:\n",
    "    badpath = os.path.join(INPUT, badfile)\n",
    "    badarr = io.imread(badpath)\n",
    "    print(badfile,badarr.dtype, badarr.shape)\n"
   ]
  },
  {
   "cell_type": "code",
   "execution_count": null,
   "id": "d7e7cad2",
   "metadata": {},
   "outputs": [],
   "source": [
    "for badfile in badfiles:\n",
    "    badpath = os.path.join(INPUT, badfile)\n",
    "    badarr = io.imread(badpath)\n",
    "    print(badarr.dtype, badarr.shape)\n",
    "    io.imsave(badpath, badarr)\n"
   ]
  },
  {
   "cell_type": "code",
   "execution_count": null,
   "id": "e27e0c49",
   "metadata": {},
   "outputs": [],
   "source": [
    "# Set the figure size\n",
    "plt.rcParams[\"figure.figsize\"] = [7.00, 3.50]\n",
    "plt.rcParams[\"figure.autolayout\"] = True\n",
    "for goodfile in badfiles:\n",
    "    goodpath = os.path.join(INPUT, goodfile)\n",
    "    goodarr = io.imread(goodpath)\n",
    "    # Plot the data using imshow with gray colormap\n",
    "    plt.imshow(goodarr, cmap='gray')\n",
    "    # Display the plot\n",
    "    plt.show()"
   ]
  },
  {
   "cell_type": "code",
   "execution_count": null,
   "id": "3547ff61",
   "metadata": {},
   "outputs": [],
   "source": []
  }
 ],
 "metadata": {
  "kernelspec": {
   "display_name": "Python 3 (ipykernel)",
   "language": "python",
   "name": "python3"
  },
  "language_info": {
   "codemirror_mode": {
    "name": "ipython",
    "version": 3
   },
   "file_extension": ".py",
   "mimetype": "text/x-python",
   "name": "python",
   "nbconvert_exporter": "python",
   "pygments_lexer": "ipython3",
   "version": "3.10.6"
  }
 },
 "nbformat": 4,
 "nbformat_minor": 5
}
