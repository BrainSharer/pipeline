{
 "cells": [
  {
   "cell_type": "code",
   "execution_count": 26,
   "id": "21f85887",
   "metadata": {},
   "outputs": [],
   "source": [
    "import os, sys\n",
    "from pathlib import Path\n",
    "import numpy as np\n",
    "import math\n",
    "import psutil"
   ]
  },
  {
   "cell_type": "code",
   "execution_count": 39,
   "id": "7ea89772",
   "metadata": {},
   "outputs": [],
   "source": [
    "def get_size_MB(shape):\n",
    "    current_size = math.prod(shape)/1024**3\n",
    "    current_size *= 1\n",
    "    current_size *= 1024\n",
    "    return round(current_size,4)\n",
    "\n",
    "def get_size_GB(shape, dtype=None):\n",
    "    current_size = math.prod(shape)/1024**3\n",
    "    current_size *=2\n",
    "    \n",
    "    return current_size\n",
    "\n",
    "def optimize_chunk_shape_3d(image_shape, origional_chunks, output_chunks=(1,1024,1024)):\n",
    "    \n",
    "    dtype='uint16'\n",
    "    cpu_cores=os.cpu_count()\n",
    "    sim_jobs=4\n",
    "    mem=int((psutil.virtual_memory().free/1024**3)*.8)\n",
    "    chunk_limit_GB = mem / cpu_cores / 8\n",
    "    y = origional_chunks[1] if origional_chunks[1] > output_chunks[1] else output_chunks[1]\n",
    "    x = origional_chunks[2] if origional_chunks[2] > output_chunks[2] else output_chunks[2]\n",
    "\n",
    "    origional_chunks = (origional_chunks[0], y, x)\n",
    "\n",
    "    current_chunks = origional_chunks\n",
    "    current_size = get_size_GB(current_chunks, dtype)\n",
    "\n",
    "    print(current_chunks)\n",
    "    print(current_size)\n",
    "\n",
    "    if current_size > chunk_limit_GB:\n",
    "        return current_chunks\n",
    "\n",
    "    idx = 0\n",
    "    chunk_bigger_than_z = True if current_chunks[0] >= image_shape[0] else False\n",
    "    chunk_bigger_than_y = True if current_chunks[1] >= image_shape[1] else False\n",
    "    chunk_bigger_than_x = True if current_chunks[2] >= image_shape[2] else False\n",
    "\n",
    "    while current_size <= chunk_limit_GB:\n",
    "\n",
    "        # last_size = get_size_GB(current_chunks,dtype)\n",
    "        last_shape = current_chunks\n",
    "\n",
    "        # chunk_iter_idx = idx % 2\n",
    "        # if chunk_iter_idx == 0 and chunk_bigger_than_y == False:\n",
    "        #     current_chunks = (origional_chunks[0], current_chunks[1] + output_chunks[1], current_chunks[2])\n",
    "        # elif chunk_iter_idx == 1 and chunk_bigger_than_x == False:\n",
    "        #     current_chunks = (origional_chunks[0], current_chunks[1], current_chunks[2] + output_chunks[2])\n",
    "\n",
    "        # Iterate over y first then x\n",
    "        if chunk_bigger_than_y == False:\n",
    "            current_chunks = (origional_chunks[0],current_chunks[1]+output_chunks[1],current_chunks[2])\n",
    "        elif chunk_bigger_than_x == False:\n",
    "            current_chunks = (origional_chunks[0],current_chunks[1],current_chunks[2]+output_chunks[2])\n",
    "        elif chunk_bigger_than_z == False:\n",
    "            current_chunks = (origional_chunks[0] + output_chunks[0], current_chunks[1], current_chunks[2])\n",
    "\n",
    "        current_size = get_size_GB(current_chunks, dtype)\n",
    "\n",
    "        print(current_chunks)\n",
    "        print(current_size)\n",
    "        print('next step chunk limit {}'.format(current_size))\n",
    "\n",
    "        if current_size > chunk_limit_GB:\n",
    "            return last_shape\n",
    "\n",
    "        if current_chunks[0] > image_shape[0]:\n",
    "            chunk_bigger_than_z = True\n",
    "\n",
    "        if current_chunks[1] > image_shape[1]:\n",
    "            chunk_bigger_than_y = True\n",
    "\n",
    "        if current_chunks[2] > image_shape[2]:\n",
    "            chunk_bigger_than_x = True\n",
    "\n",
    "        if all([chunk_bigger_than_z, chunk_bigger_than_y, chunk_bigger_than_x]):\n",
    "            return last_shape\n",
    "\n",
    "        idx += 1\n",
    "\n",
    "    \n"
   ]
  },
  {
   "cell_type": "code",
   "execution_count": 24,
   "id": "d1b335f5",
   "metadata": {},
   "outputs": [
    {
     "name": "stdout",
     "output_type": "stream",
     "text": [
      "(138, 854, 568) size in MB=63.8389\n",
      "(1, 4620, 5430) size in MB=23.9244\n"
     ]
    }
   ],
   "source": [
    "shape = (138, 854, 568)\n",
    "print(f'{shape} size in MB={get_size_MB(shape)}')\n",
    "shape = (1, 36962//8, 43442//8)\n",
    "print(f'{shape} size in MB={get_size_MB(shape)}')"
   ]
  },
  {
   "cell_type": "code",
   "execution_count": 40,
   "id": "b0d63756",
   "metadata": {},
   "outputs": [
    {
     "name": "stdout",
     "output_type": "stream",
     "text": [
      "(250, 1536, 1024)\n",
      "0.732421875\n",
      "(250, 1536, 1024)\n"
     ]
    }
   ],
   "source": [
    "#optimum_chunks = \n",
    "#utils.optimize_chunk_shape_3d_2(\n",
    "#test_image.shape,\n",
    "#test_image.chunks,\n",
    "#self.origionalChunkSize[2:],test_image.dtype,self.res0_chunk_limit_GB)\n",
    "   \n",
    "\n",
    "image_shape = (4750, 36962, 43442)\n",
    "original_chunks = (1, 1024, 1024)\n",
    "image_chunks=(250, 1536, 1024)\n",
    "chunks = optimize_chunk_shape_3d(image_shape, image_chunks)\n",
    "print(chunks)"
   ]
  }
 ],
 "metadata": {
  "kernelspec": {
   "display_name": "Python 3 (ipykernel)",
   "language": "python",
   "name": "python3"
  },
  "language_info": {
   "codemirror_mode": {
    "name": "ipython",
    "version": 3
   },
   "file_extension": ".py",
   "mimetype": "text/x-python",
   "name": "python",
   "nbconvert_exporter": "python",
   "pygments_lexer": "ipython3",
   "version": "3.10.12"
  }
 },
 "nbformat": 4,
 "nbformat_minor": 5
}
