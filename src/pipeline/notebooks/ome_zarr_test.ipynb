{
 "cells": [
  {
   "cell_type": "code",
   "execution_count": null,
   "id": "21f85887",
   "metadata": {},
   "outputs": [],
   "source": [
    "import os, glob, time, sys, shutil\n",
    "import dask\n",
    "from dask.delayed import delayed\n",
    "import numcodecs\n",
    "import zarr.storage\n",
    "from pathlib import Path\n",
    "import numpy as np\n",
    "import dask\n",
    "import dask.array as da"
   ]
  },
  {
   "cell_type": "code",
   "execution_count": null,
   "id": "f90d0a7e",
   "metadata": {},
   "outputs": [],
   "source": [
    "zarr_store_type = zarr.storage.NestedDirectoryStore\n",
    "store = zarr.DirectoryStore('./data/example01.zarr')"
   ]
  },
  {
   "cell_type": "code",
   "execution_count": null,
   "id": "8675c640",
   "metadata": {},
   "outputs": [],
   "source": [
    "storepath = '/net/birdstore/Active_Atlas_Data/data_root/pipeline_data/DK20230126-003/www/neuroglancer_data/test.zarr'\n",
    "store = zarr.NestedDirectoryStore(storepath)\n",
    "scaling_factor = 1\n",
    "volume_shape = (250, 2000, 2000)\n",
    "print(f'Creating {zarrpath}')\n",
    "tile_shape=np.array([250, 1536, 1024])\n",
    "chunks = (tile_shape[0] // scaling_factor // 4, \n",
    "          tile_shape[1] // scaling_factor // 4, \n",
    "          tile_shape[2] // scaling_factor // 4)\n",
    "volume = zarr.create(shape=(volume_shape), chunks=chunks, dtype='uint16', store=store, overwrite=True)\n",
    "print(volume.info)\n"
   ]
  },
  {
   "cell_type": "code",
   "execution_count": null,
   "id": "297dd41a",
   "metadata": {},
   "outputs": [],
   "source": [
    "print(f\"Tile {tile_idx+1}  centre: {row['centre_x']}, {row['centre_y']} goes to: x:[{x1}:{x2}], y:[{y1}:{y2}]\")\n",
    "z[y1:y2+1,x1:x2+1] = tile"
   ]
  },
  {
   "cell_type": "code",
   "execution_count": null,
   "id": "23adeaf5",
   "metadata": {},
   "outputs": [],
   "source": [
    "x = np.zeros([476, 1043, 1795])\n",
    "x = np.swapaxes(x, 0,2)\n",
    "print(x.shape, x.ndim)\n",
    "x = da.from_array(x)"
   ]
  },
  {
   "cell_type": "code",
   "execution_count": null,
   "id": "bb09aceb",
   "metadata": {},
   "outputs": [],
   "source": [
    "type(volume)"
   ]
  },
  {
   "cell_type": "code",
   "execution_count": null,
   "id": "d79c3a95",
   "metadata": {},
   "outputs": [],
   "source": [
    "#scale0, {1: 2, 2: 2, 3: 2}\n",
    "da.coarsen(np.min, x, {0:2,1:2, 2:1}, trim_excess=True).rechunk((64, 64, 64))"
   ]
  },
  {
   "cell_type": "code",
   "execution_count": null,
   "id": "9993f0d4",
   "metadata": {},
   "outputs": [],
   "source": [
    "axes = [{'name': 'x', 'type': 'space', 'unit': 'micrometer'},\n",
    "        {'name': 'y', 'type': 'space', 'unit': 'micrometer'},\n",
    "        {'name': 'z', 'type': 'space', 'unit': 'micrometer'}]"
   ]
  },
  {
   "cell_type": "code",
   "execution_count": null,
   "id": "31112820",
   "metadata": {},
   "outputs": [],
   "source": [
    "(a['name'] for a in axes)"
   ]
  },
  {
   "cell_type": "code",
   "execution_count": null,
   "id": "70ce5c50",
   "metadata": {},
   "outputs": [],
   "source": [
    "from ome_zarr.scale import Scaler\n",
    "scaler = Scaler()\n",
    "downsampling = scaler.nearest(x)"
   ]
  },
  {
   "cell_type": "code",
   "execution_count": null,
   "id": "be94062b",
   "metadata": {},
   "outputs": [],
   "source": [
    "downsampling[0]"
   ]
  },
  {
   "cell_type": "code",
   "execution_count": null,
   "id": "891bba6a",
   "metadata": {},
   "outputs": [],
   "source": [
    "for d in downsampling:\n",
    "    print(d.dtype, d.shape)"
   ]
  }
 ],
 "metadata": {
  "kernelspec": {
   "display_name": "Python 3 (ipykernel)",
   "language": "python",
   "name": "python3"
  },
  "language_info": {
   "codemirror_mode": {
    "name": "ipython",
    "version": 3
   },
   "file_extension": ".py",
   "mimetype": "text/x-python",
   "name": "python",
   "nbconvert_exporter": "python",
   "pygments_lexer": "ipython3",
   "version": "3.10.12"
  }
 },
 "nbformat": 4,
 "nbformat_minor": 5
}
