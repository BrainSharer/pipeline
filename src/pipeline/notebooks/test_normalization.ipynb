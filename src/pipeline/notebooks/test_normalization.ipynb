{
 "cells": [
  {
   "cell_type": "code",
   "execution_count": 63,
   "id": "4892eb0d",
   "metadata": {},
   "outputs": [],
   "source": [
    "import os\n",
    "import numpy as np\n",
    "from skimage import io\n",
    "from matplotlib import pyplot as plt\n",
    "import cv2"
   ]
  },
  {
   "cell_type": "code",
   "execution_count": 2,
   "id": "59cec173",
   "metadata": {},
   "outputs": [],
   "source": [
    "def scaled(img, scale=20000):\n",
    "    \"\"\"First we find really high values, which are the bright spots and turn them down\n",
    "    \"\"\"\n",
    "    dtype = img.dtype    \n",
    "    epsilon = 0.99    \n",
    "    _max = np.quantile(img[img>0], epsilon)\n",
    "    scaled = (img * (scale / _max)).astype(dtype) # scale the image from original values to e.g., 30000/10000\n",
    "    del img\n",
    "    return scaled\n",
    "\n",
    "def equalized(fixed, cliplimit=2):\n",
    "    \"\"\"Takes an image that has already been scaled and uses opencv adaptive histogram\n",
    "    equalization. This cases uses 5 as the clip limit and splits the image into rows\n",
    "    and columns. A higher cliplimit will make the image brighter. A cliplimit of 1 will\n",
    "    do nothing. \n",
    "\n",
    "    :param fixed: image we are working on\n",
    "    :return: a better looking image\n",
    "    \"\"\"\n",
    "    \n",
    "    clahe = cv2.createCLAHE(clipLimit=cliplimit, tileGridSize=(8, 8))\n",
    "    fixed = clahe.apply(fixed)\n",
    "    return fixed"
   ]
  },
  {
   "cell_type": "code",
   "execution_count": null,
   "id": "2e28745d",
   "metadata": {},
   "outputs": [],
   "source": [
    "animal = 'DK101'\n",
    "DIR = f'/net/birdstore/Active_Atlas_Data/data_root/pipeline_data/{animal}/preps/tif'\n",
    "filepath = os.path.join(DIR, 'DK101_slide033_2023_02_15_axion2_S1_C1.tif')"
   ]
  },
  {
   "cell_type": "code",
   "execution_count": null,
   "id": "72d1d69a",
   "metadata": {},
   "outputs": [],
   "source": [
    "#For bigarr, look at 15812x43685, 16816x44463\n",
    "startrow = 43685\n",
    "endrow = 44463\n",
    "startcol = 15812\n",
    "endcol = 16816"
   ]
  },
  {
   "cell_type": "code",
   "execution_count": null,
   "id": "467145ad",
   "metadata": {},
   "outputs": [],
   "source": [
    "bigarr = io.imread(filepath)\n",
    "print(f'dtype={bigarr.dtype} shape={bigarr.shape}')"
   ]
  },
  {
   "cell_type": "code",
   "execution_count": null,
   "id": "7acdd7a5",
   "metadata": {},
   "outputs": [],
   "source": [
    "%%time\n",
    "#scale = 2**16 - 1\n",
    "scale = 20000\n",
    "bigarr_scaled = scaled(bigarr, scale)\n",
    "print(f'dtype={bigarr_scaled.dtype} shape={bigarr_scaled.shape}')\n",
    "cropped = bigarr_scaled[startrow:endrow, startcol:endcol]\n",
    "print(f'dtype={cropped.dtype} shape={cropped.shape}')\n",
    "outpath = os.path.join(DIR, 'cropped_test.tif')\n",
    "io.imsave(outpath, cropped)"
   ]
  },
  {
   "cell_type": "code",
   "execution_count": null,
   "id": "0aded6fc",
   "metadata": {},
   "outputs": [],
   "source": [
    "scale = 2**16 - 1\n",
    "cropped_scaled = scaled(cropped, scale)\n",
    "outpath = os.path.join(DIR, f'cropped_scaled_{scale}.tif')\n",
    "if not os.path.exists(outpath):\n",
    "    io.imsave(outpath, cropped_scaled)"
   ]
  }
 ],
 "metadata": {
  "kernelspec": {
   "display_name": "Python 3 (ipykernel)",
   "language": "python",
   "name": "python3"
  },
  "language_info": {
   "codemirror_mode": {
    "name": "ipython",
    "version": 3
   },
   "file_extension": ".py",
   "mimetype": "text/x-python",
   "name": "python",
   "nbconvert_exporter": "python",
   "pygments_lexer": "ipython3",
   "version": "3.10.12"
  }
 },
 "nbformat": 4,
 "nbformat_minor": 5
}
