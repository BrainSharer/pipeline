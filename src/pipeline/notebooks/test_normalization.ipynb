{
 "cells": [
  {
   "cell_type": "code",
   "execution_count": null,
   "id": "4892eb0d",
   "metadata": {},
   "outputs": [],
   "source": [
    "import os\n",
    "import numpy as np\n",
    "from skimage import io\n",
    "from matplotlib import pyplot as plt\n",
    "import cv2\n",
    "from skimage import color\n",
    "from scipy.ndimage import binary_fill_holes\n",
    "from skimage import exposure\n",
    "from tifffile import imread, imwrite"
   ]
  },
  {
   "cell_type": "code",
   "execution_count": null,
   "id": "59cec173",
   "metadata": {},
   "outputs": [],
   "source": [
    "def scaled(img, scale=32000):\n",
    "    \"\"\"Stretch values out to scale\n",
    "    Used to be 45000, but changing it down to 32000 as of 7 Aug 2024\n",
    "    \"\"\"\n",
    "\n",
    "    epsilon = 0.999    \n",
    "    _max = np.quantile(img[img>0], epsilon)\n",
    "    #_max = np.max(img)\n",
    "    scaled = (img * (scale / _max)).astype(img.dtype) # scale the image from original values to a broader range of values\n",
    "    del img\n",
    "    return scaled, _max\n",
    "\n",
    "\n",
    "def rescaler(img, lower, upper):\n",
    "    # Contrast stretching\n",
    "    plower, pupper = np.percentile(img, (0, 99))\n",
    "    #_max = np.max(img)\n",
    "    img_rescale = exposure.rescale_intensity(img, in_range=(plower, pupper))\n",
    "    #img_rescale = exposure.rescale_intensity(img, in_range='image', out_range='dtype')\n",
    "    return img_rescale\n",
    "\n",
    "\n",
    "def equalized(fixed, cliplimit=2):    \n",
    "    clahe = cv2.createCLAHE(clipLimit=cliplimit, tileGridSize=(8, 8))\n",
    "    fixed = clahe.apply(fixed)\n",
    "    return fixed\n",
    "\n",
    "def clean(img, mask):\n",
    "    return cv2.bitwise_and(img, img, mask=mask)\n"
   ]
  },
  {
   "cell_type": "code",
   "execution_count": null,
   "id": "2e28745d",
   "metadata": {},
   "outputs": [],
   "source": [
    "animal = 'DK161'\n",
    "file = '046.tif'\n",
    "BASE_DIR = f'/net/birdstore/Active_Atlas_Data/data_root/pipeline_data/{animal}/preps'\n",
    "filepath = os.path.join(BASE_DIR, 'C2/full', file)\n",
    "maskpath = os.path.join(BASE_DIR, 'masks/C1/full_masked', file)"
   ]
  },
  {
   "cell_type": "code",
   "execution_count": null,
   "id": "72d1d69a",
   "metadata": {},
   "outputs": [],
   "source": [
    "#For bigarr, look at 15812x43685, 16816x44463\n",
    "if file == '046.tif':\n",
    "    startrow = 31000\n",
    "    endrow = 33000\n",
    "    startcol = 8000\n",
    "    endcol = 12000\n",
    "if file == '057.tif':\n",
    "    startrow = 37000\n",
    "    endrow = 38250\n",
    "    startcol = 10700\n",
    "    endcol = 12000"
   ]
  },
  {
   "cell_type": "code",
   "execution_count": null,
   "id": "467145ad",
   "metadata": {},
   "outputs": [],
   "source": [
    "img = io.imread(filepath)\n",
    "print(f'dtype={img.dtype} shape={img.shape}')\n",
    "mask = io.imread(maskpath)\n",
    "print(f'dtype={mask.dtype} shape={mask.shape}')"
   ]
  },
  {
   "cell_type": "code",
   "execution_count": null,
   "id": "4cec1b87",
   "metadata": {},
   "outputs": [],
   "source": [
    "cleaned = clean(img, mask)\n",
    "del img\n",
    "del mask\n",
    "print(f'dtype={cleaned.dtype} shape={cleaned.shape}')"
   ]
  },
  {
   "cell_type": "code",
   "execution_count": null,
   "id": "f31e9826",
   "metadata": {
    "scrolled": true
   },
   "outputs": [],
   "source": [
    "%%time\n",
    "lower = 0\n",
    "upper = 32000\n",
    "epsilon = 0.999\n",
    "cleaned_scaled, _max = scaled(cleaned, upper)\n",
    "#cleaned_scaled = rescaler(cleaned, lower, upper)\n",
    "#cleaned_scaled = histogram_equalize(img, mask)\n",
    "print(f'cleaned_scaled dtype={cleaned_scaled.dtype}')\n",
    "cropped = cleaned_scaled[startrow:endrow, startcol:endcol]\n",
    "plt.title(_max)\n",
    "plt.imshow(cropped, cmap=\"gray\")"
   ]
  },
  {
   "cell_type": "code",
   "execution_count": null,
   "id": "5806705e",
   "metadata": {},
   "outputs": [],
   "source": [
    "#outpath = os.path.join(BASE_DIR, f'rescaler_upper_{upper}_lower_{lower}_{file}')\n",
    "outpath = os.path.join(BASE_DIR, f'scaled_upper_{upper}_max_{_max}_{file}')\n",
    "print(outpath)\n",
    "imwrite(outpath, cleaned_scaled, compression='LZW', bigtiff=True)"
   ]
  },
  {
   "cell_type": "code",
   "execution_count": null,
   "id": "607c5b02",
   "metadata": {},
   "outputs": [],
   "source": [
    "%%time\n",
    "shapeto = cleaned.shape\n",
    "reference = midallenarr[midallenarr > 0]\n",
    "reference = reference.flatten()\n",
    "target = cleaned.flatten()\n",
    "matched = exposure.match_histograms(target, reference)"
   ]
  },
  {
   "cell_type": "code",
   "execution_count": null,
   "id": "87360137",
   "metadata": {},
   "outputs": [],
   "source": [
    "%%time\n",
    "matched = match_histograms(cleaned, midallenarr)\n",
    "print(f'matched dtype={matched.dtype} shape={matched.shape}')"
   ]
  },
  {
   "cell_type": "code",
   "execution_count": null,
   "id": "d960be10",
   "metadata": {},
   "outputs": [],
   "source": [
    "#matched = matched.reshape(shapeto)\n",
    "print(f'matched dtype={matched.dtype}')\n",
    "cropped = matched[startrow:endrow, startcol:endcol]\n",
    "plt.title('matched')\n",
    "plt.imshow(cropped, cmap=\"gray\")"
   ]
  },
  {
   "cell_type": "code",
   "execution_count": null,
   "id": "0f82806a",
   "metadata": {},
   "outputs": [],
   "source": [
    "data = matched / np.max(matched) # normalize the data to 0 - 1\n",
    "data = 65535 * data # Now scale by 255\n",
    "outpath = os.path.join(BASE_DIR, f'matched_{file}')\n",
    "print(outpath)\n",
    "imwrite(outpath, data.astype(np.uint16), compression='LZW', bigtiff=True)"
   ]
  },
  {
   "cell_type": "code",
   "execution_count": null,
   "id": "d8401626",
   "metadata": {
    "scrolled": true
   },
   "outputs": [],
   "source": [
    "img = midallenarr.copy()\n",
    "img = img[img > 0]\n",
    "flat = img.flatten()\n",
    "del img\n",
    "fig = plt.figure()\n",
    "plt.rcParams[\"figure.figsize\"] = [10, 6]\n",
    "end = np.max(flat)\n",
    "end = 2000\n",
    "plt.hist(flat, flat.max(), [0, 5000], color='b')\n",
    "plt.style.use(\"ggplot\")\n",
    "plt.grid(axis=\"y\", alpha=0.75)\n",
    "plt.xlabel(\"Value\")\n",
    "plt.ylabel(\"Frequency\")\n",
    "plt.show()"
   ]
  },
  {
   "cell_type": "code",
   "execution_count": null,
   "id": "025aa60d",
   "metadata": {},
   "outputs": [],
   "source": [
    "newimg = clean(img, mask)\n",
    "white = np.where(mask==255)\n",
    "whiterows = white[0]\n",
    "firstrow = whiterows[1]\n",
    "print(firstrow)\n",
    "print(np.max(newimg[firstrow]))\n",
    "\n",
    "print(f'dtype={newimg.dtype} shape={newimg.shape} first={first}')\n",
    "newimg[newimg[:,:,0] == 0] = 234\n",
    "plt.imshow(newimg)"
   ]
  },
  {
   "cell_type": "code",
   "execution_count": null,
   "id": "7acdd7a5",
   "metadata": {},
   "outputs": [],
   "source": [
    "scale = 45000\n",
    "cropped_scaled = scaled(cropped, scale)\n",
    "print(f'dtype={cropped_scaled.dtype} shape={cropped_scaled.shape}')"
   ]
  },
  {
   "cell_type": "code",
   "execution_count": null,
   "id": "8066afa5",
   "metadata": {},
   "outputs": [],
   "source": [
    "plt.imshow(cropped_scaled, cmap=\"gray\")"
   ]
  },
  {
   "cell_type": "code",
   "execution_count": null,
   "id": "23992824",
   "metadata": {},
   "outputs": [],
   "source": [
    "outpath = os.path.join(BASE_DIR, 'cropped_test.tif')\n",
    "io.imsave(outpath, cropped_scaled)"
   ]
  },
  {
   "cell_type": "code",
   "execution_count": null,
   "id": "0aded6fc",
   "metadata": {},
   "outputs": [],
   "source": [
    "scale = 2**16 - 1\n",
    "cropped_scaled = scaled(cropped, scale)\n",
    "outpath = os.path.join(DIR, f'cropped_scaled_{scale}.tif')\n",
    "if not os.path.exists(outpath):\n",
    "    io.imsave(outpath, cropped_scaled)"
   ]
  }
 ],
 "metadata": {
  "kernelspec": {
   "display_name": "Python 3 (ipykernel)",
   "language": "python",
   "name": "python3"
  },
  "language_info": {
   "codemirror_mode": {
    "name": "ipython",
    "version": 3
   },
   "file_extension": ".py",
   "mimetype": "text/x-python",
   "name": "python",
   "nbconvert_exporter": "python",
   "pygments_lexer": "ipython3",
   "version": "3.10.12"
  }
 },
 "nbformat": 4,
 "nbformat_minor": 5
}
