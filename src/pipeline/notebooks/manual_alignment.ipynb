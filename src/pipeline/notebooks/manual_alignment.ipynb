{
 "cells": [
  {
   "cell_type": "code",
   "execution_count": null,
   "metadata": {},
   "outputs": [],
   "source": [
    "from scipy.ndimage import affine_transform\n",
    "import tifffile as tiff\n",
    "import os\n",
    "import numpy as np\n",
    "import copy\n",
    "from pathlib import Path\n",
    "import sys\n",
    "import matplotlib.pyplot as plt\n",
    "\n",
    "PIPELINE_ROOT =  Path().resolve().parent.parent\n",
    "sys.path.append(PIPELINE_ROOT.as_posix())"
   ]
  },
  {
   "cell_type": "code",
   "execution_count": null,
   "metadata": {},
   "outputs": [],
   "source": [
    "from library.image_manipulation.pipeline_process import Pipeline\n",
    "from library.image_manipulation.elastix_manager import create_downsampled_transforms\n",
    "from library.utilities.utilities_registration import (\n",
    "    parameters_to_rigid_transform,\n",
    "    rigid_transform_to_parmeters,\n",
    ")\n",
    "#from settings import host, password, user, schema\n",
    "channel = 1\n",
    "downsample = True\n",
    "tg = False\n",
    "debug = False\n",
    "rescan_number = 0\n",
    "task = 'align'"
   ]
  },
  {
   "cell_type": "code",
   "execution_count": null,
   "metadata": {},
   "outputs": [],
   "source": [
    "class ManualAligner(Pipeline):\n",
    "    \n",
    "    def __init__(self, animal, moving_index):\n",
    "        #animal, channel, downsample, data_path, tg, debug\n",
    "        #animal, rescan_number, channel, downsample, tg, debug, task):\n",
    "\n",
    "        super().__init__(animal, rescan_number, channel, downsample, tg, debug, task)\n",
    "        self.sections = self.sqlController.get_sections(self.animal, self.channel, rescan_number)\n",
    "        section = moving_index\n",
    "        self.midpoint = len(self.sections) // 2\n",
    "        self.moving_index = moving_index\n",
    "        self.fixed_index = moving_index - 1\n",
    "        INPUT = os.path.join(self.fileLocationManager.prep, 'CH1', 'thumbnail_aligned_iteration_2')\n",
    "        self.moving_file = os.path.join(INPUT, f'{str(moving_index).zfill(3)}.tif')\n",
    "        self.fixed_file = os.path.join(INPUT, f'{str(self.fixed_index).zfill(3)}.tif')\n",
    "        self.moving = tiff.imread(self.moving_file)\n",
    "        self.fixed = tiff.imread(self.fixed_file)\n",
    "        self.transformation_to_previous_sec = self.get_transformation_to_previous_section()\n",
    "        self.center = self.get_rotation_center()\n",
    "        \n",
    "    def transform_image(self,img,T):\n",
    "        matrix = T[:2,:2]\n",
    "        offset = T[:2,2]\n",
    "        offset = np.flip(offset)\n",
    "        img = affine_transform(img,matrix.T,offset)\n",
    "        return img\n",
    "    \n",
    "    def evalulate_transformation(self,img1,img2,T1,T2):\n",
    "        img1 = self.transform_image(img1,T1)\n",
    "        img2 = self.transform_image(img2,T2)\n",
    "        self.compare_two_image(img1,img2)        \n",
    "        \n",
    "    def compare_two_image(self,img1,img2):\n",
    "        img1,img2 = img1.astype(float),img2.astype(float)\n",
    "        vmin_max1 = img1[img1!=0].min(),img1[img1!=0].max()\n",
    "        vmin_max2 = img2[img2!=0].min(),img2[img2!=0].max()\n",
    "        img1[img1<2000]=np.nan\n",
    "        img2[img2<2000]=np.nan\n",
    "        plt.figure(figsize=[20,20])\n",
    "        plt.imshow(img1,cmap='Blues',vmin=vmin_max1[0], vmax=vmin_max1[1]*0.8)\n",
    "        plt.imshow(img2,alpha=0.5,cmap='Reds',vmin=vmin_max2[0], vmax=vmin_max2[1]*0.8)\n",
    "        \n",
    "    def get_transformation_to_previous_section(self):\n",
    "        transformation_to_previous_sec = {}\n",
    "        center = self.get_rotation_center()\n",
    "        for i in range(1, len(self.sections)):\n",
    "            rotation, xshift, yshift = self.load_elastix_transformation(self.animal, i, iteration=3)\n",
    "            T = parameters_to_rigid_transform(rotation, xshift, yshift, center)\n",
    "            transformation_to_previous_sec[i] = T\n",
    "        return transformation_to_previous_sec\n",
    "\n",
    "    def get_transformation_of_sectioni_to_midpoint(self, sectioni, transformations):\n",
    "        if sectioni == self.midpoint:\n",
    "            transformation = np.eye(3)\n",
    "        elif sectioni < self.midpoint:\n",
    "            T_composed = np.eye(3)\n",
    "            for i in range(self.midpoint, sectioni, -1):\n",
    "                T_composed = np.dot(np.linalg.inv(transformations[i]), T_composed)\n",
    "                # print(f'midpoint={self.midpoint}, i={i}, section={sectioni}')\n",
    "            transformation = T_composed\n",
    "        else:\n",
    "            # original\n",
    "            T_composed = np.eye(3)\n",
    "            for i in range(self.midpoint + 1, sectioni + 1):\n",
    "                #print(f'midpoint={self.midpoint}, i={i}, section={sectioni}')\n",
    "                T_composed = np.dot(transformations[i], T_composed)\n",
    "            transformation = T_composed\n",
    "            \n",
    "        \n",
    "        return transformation\n",
    "    \n",
    "\n",
    "    def get_transformation_of_sectioni(self,sectioni):\n",
    "        transformation = self.get_transformation_of_sectioni_to_midpoint(\n",
    "            sectioni, self.transformation_to_previous_sec)\n",
    "        return transformation\n",
    "\n",
    "    def get_modified_transformation_of_sectioni(self, fixed_index, rotation, xshift, yshift):\n",
    "        T = parameters_to_rigid_transform(rotation, xshift, yshift, self.center)\n",
    "        transformation_to_previous_sec = copy.copy(self.transformation_to_previous_sec)\n",
    "        transformation_to_previous_sec[fixed_index+1] = T\n",
    "        transformation = self.get_transformation_of_sectioni_to_midpoint(\n",
    "            fixed_index, transformation_to_previous_sec)\n",
    "        return transformation\n",
    "    \n",
    "    def compare_untransformed(self):\n",
    "        self.compare_two_image(self.moving,self.fixed)\n",
    "        \n",
    "    # def get_current_transformation_parameters(self):\n",
    "    #     T = self.transformation_to_previous_sec[self.moving_index]\n",
    "    #     return rigid_transform_to_parmeters(T,self.center)\n",
    "    \n",
    "    def evaluate_current_transformation(self):\n",
    "        T1 = self.get_transformation_of_sectioni(self.moving_index)\n",
    "        T2 = self.get_transformation_of_sectioni(self.fixed_index)\n",
    "        self.evalulate_transformation(self.moving, self.fixed, T1, T2)\n",
    "        plt.title(self.moving_index);"
   ]
  },
  {
   "cell_type": "code",
   "execution_count": null,
   "metadata": {},
   "outputs": [],
   "source": [
    "prep_id = 'CTB004'\n",
    "section = 102\n",
    "aligner = ManualAligner(prep_id, section)\n",
    "print(f'fixed index={aligner.fixed_index}')\n",
    "print(f'moving index={aligner.moving_index}')"
   ]
  },
  {
   "cell_type": "code",
   "execution_count": null,
   "metadata": {},
   "outputs": [],
   "source": [
    "#aligner.compare_untransformed()"
   ]
  },
  {
   "cell_type": "code",
   "execution_count": null,
   "metadata": {},
   "outputs": [],
   "source": [
    "aligner.evaluate_current_transformation()"
   ]
  },
  {
   "cell_type": "code",
   "execution_count": null,
   "metadata": {},
   "outputs": [],
   "source": [
    "rotation, xshift, yshift = aligner.load_elastix_transformation(aligner.animal, aligner.moving_index, iteration=1)\n",
    "section = str(aligner.moving_index).zfill(3)\n",
    "print(f'fixed index = {aligner.fixed_index}')\n",
    "print(f'moving index/section = {aligner.moving_index}')\n",
    "print(f'rotation = {rotation}')\n",
    "print(f'xshift = {xshift}')\n",
    "print(f'yshift = {yshift}')"
   ]
  },
  {
   "cell_type": "code",
   "execution_count": null,
   "metadata": {},
   "outputs": [],
   "source": [
    "## changing these changes the red image:\n",
    "## increasing the rotation rotates the red image clockwise\n",
    "## increasing x moves the red image to the right.\n",
    "## increasing y moves the red image down\n",
    "## The red image is the previous image (fixed image)\n",
    "rotation = 0.000236907\n",
    "xshift = -4.65016\n",
    "yshift = 1000\n",
    "T1 = aligner.get_transformation_of_sectioni(aligner.moving_index)\n",
    "#T2 = aligner.get_transformation_of_sectioni(aligner.fixed_index)\n",
    "T2 = aligner.get_modified_transformation_of_sectioni(aligner.fixed_index, rotation, xshift, yshift)\n",
    "aligner.evalulate_transformation(aligner.moving, aligner.fixed, T1, T2)\n",
    "title = f'Moving blue section {section} on {prep_id} rotation={rotation}, xshift={xshift}, yshift={yshift}'\n",
    "plt.title(title);"
   ]
  },
  {
   "cell_type": "code",
   "execution_count": null,
   "metadata": {},
   "outputs": [],
   "source": [
    "print(f'section={section}')\n",
    "fig, ax = plt.subplots(1,2)\n",
    "fig.set_figheight(15)\n",
    "fig.set_figwidth(15)\n",
    "ax[0].grid()\n",
    "ax[1].grid()\n",
    "ax[0].title.set_text(f'fixed {aligner.fixed_index}')\n",
    "ax[1].title.set_text(f'moving {aligner.moving_index}')\n",
    "ax[0].imshow(aligner.fixed, cmap=\"gray\")\n",
    "ax[1].imshow(aligner.moving, cmap=\"gray\")"
   ]
  },
  {
   "cell_type": "code",
   "execution_count": null,
   "metadata": {},
   "outputs": [],
   "source": [
    "sql = f'UPDATE elastix_transformation SET rotation={rotation}, xshift={xshift}, yshift={yshift} \\\n",
    "     \\nWHERE section = \\'{section}\\' and FK_prep_id = \\'{prep_id}\\' and iteration=1 \\nLIMIT 1'\n",
    "print(sql)"
   ]
  }
 ],
 "metadata": {
  "kernelspec": {
   "display_name": "Python 3 (ipykernel)",
   "language": "python",
   "name": "python3"
  },
  "language_info": {
   "codemirror_mode": {
    "name": "ipython",
    "version": 3
   },
   "file_extension": ".py",
   "mimetype": "text/x-python",
   "name": "python",
   "nbconvert_exporter": "python",
   "pygments_lexer": "ipython3",
   "version": "3.10.12"
  },
  "vscode": {
   "interpreter": {
    "hash": "9b29855540defb355a50951874e4b3a9a33e036ed29af88ad65ef37e45f70f6e"
   }
  }
 },
 "nbformat": 4,
 "nbformat_minor": 2
}
