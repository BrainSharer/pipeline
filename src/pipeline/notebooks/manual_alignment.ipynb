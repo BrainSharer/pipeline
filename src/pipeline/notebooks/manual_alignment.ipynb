{
 "cells": [
  {
   "cell_type": "code",
   "execution_count": null,
   "metadata": {},
   "outputs": [],
   "source": [
    "%load_ext autoreload"
   ]
  },
  {
   "cell_type": "code",
   "execution_count": null,
   "metadata": {},
   "outputs": [],
   "source": [
    "from scipy.ndimage import affine_transform\n",
    "import tifffile as tiff\n",
    "import os\n",
    "import numpy as np\n",
    "import copy\n",
    "from pathlib import Path\n",
    "import sys\n",
    "import matplotlib.pyplot as plt\n",
    "\n",
    "PIPELINE_ROOT =  Path().resolve().parent.parent\n",
    "sys.path.append(PIPELINE_ROOT.as_posix())"
   ]
  },
  {
   "cell_type": "code",
   "execution_count": null,
   "metadata": {},
   "outputs": [],
   "source": [
    "from library.image_manipulation.pipeline_process import Pipeline\n",
    "from library.image_manipulation.elastix_manager import create_downsampled_transforms\n",
    "from library.utilities.utilities_registration import (\n",
    "    parameters_to_rigid_transform,\n",
    "    rigid_transform_to_parmeters,\n",
    ")\n",
    "#from settings import host, password, user, schema\n",
    "channel = 1\n",
    "downsample = True\n",
    "debug = False\n",
    "rescan_number = 0\n",
    "task = 'align'"
   ]
  },
  {
   "cell_type": "code",
   "execution_count": null,
   "metadata": {},
   "outputs": [],
   "source": [
    "class ManualAligner(Pipeline):\n",
    "    \n",
    "    def __init__(self, animal, section):\n",
    "        \"\"\"\"\n",
    "        below midfile\n",
    "        increase xshift of section pushes preceding images to the right\n",
    "        decrease xshift of section pushes preceding images to the left\n",
    "        increase yshift of moving pushes preceding images down\n",
    "        decrease yshift of moving pushes preceding images up\n",
    "        increase rotation of moving rotates preceding images clockwise\n",
    "        decrease rotation of moving rotates preceding images counterclockwise\n",
    "        \"\"\"\n",
    "        super().__init__(animal, rescan_number, channel, downsample, \n",
    "                         task, debug)\n",
    "        self.sections = self.sqlController.get_sections(self.animal, self.channel, rescan_number)\n",
    "        self.midpoint = len(self.sections) // 2\n",
    "        self.moving_index = section - 1\n",
    "        self.fixed_index = section\n",
    "        INPUT = os.path.join(self.fileLocationManager.prep, 'C1', 'thumbnail_aligned')\n",
    "        self.moving_file = os.path.join(INPUT, f'{str(self.moving_index).zfill(3)}.tif')\n",
    "        self.fixed_file = os.path.join(INPUT, f'{str(self.fixed_index).zfill(3)}.tif')\n",
    "        self.moving = tiff.imread(self.moving_file)\n",
    "        self.fixed = tiff.imread(self.fixed_file)\n",
    "        self.transformations = self.get_transformations()\n",
    "        self.center = self.get_rotation_center()\n",
    "        \n",
    "    def transform_image(self, img, T):\n",
    "        matrix = T[:2,:2]\n",
    "        offset = T[:2,2]\n",
    "        offset = np.flip(offset)\n",
    "        img = affine_transform(img, matrix.T, offset)\n",
    "        return img\n",
    "    \n",
    "    def evalulate_transformation(self, fixed, moving, Tf, Tm):\n",
    "        fixed = self.transform_image(fixed, Tf)\n",
    "        moving = self.transform_image(moving, Tm)\n",
    "        self.compare_two_image(fixed, moving)\n",
    "        \n",
    "    def image_side_by_side(self, fixed, moving, Tf=None, Tm=None):\n",
    "        if Tm is not None:\n",
    "            fixed = self.transform_image(fixed, Tf)\n",
    "            moving = self.transform_image(moving, Tm)\n",
    "        fig, ax = plt.subplots(1,2)\n",
    "        fig.set_figheight(15)\n",
    "        fig.set_figwidth(15)\n",
    "        ax[0].grid()\n",
    "        ax[1].grid()\n",
    "        ax[0].title.set_text(f'fixed {self.fixed_index}')\n",
    "        ax[1].title.set_text(f'moving {self.moving_index}')\n",
    "        ax[0].imshow(fixed, cmap=\"gray\")\n",
    "        ax[1].imshow(moving, cmap=\"gray\")\n",
    "        \n",
    "    def compare_two_image(self, img1, img2):\n",
    "        img1,img2 = img1.astype(float),img2.astype(float)\n",
    "        plt.figure(figsize=[20,20])\n",
    "        plt.imshow(img1,cmap='Blues')\n",
    "        plt.imshow(img2,alpha=0.5,cmap='Greys')\n",
    "         \n",
    "    def get_transformations(self):\n",
    "        transformations = {}\n",
    "        center = self.get_rotation_center()\n",
    "        for i in range(1, len(self.sections)):\n",
    "            rotation, xshift, yshift = self.load_elastix_transformation(self.animal, i)\n",
    "            T = parameters_to_rigid_transform(rotation, xshift, yshift, center)\n",
    "            transformations[i] = T\n",
    "        return transformations\n",
    "\n",
    "    def get_transformation_of_section_to_midpoint(self, section, transformations):\n",
    "        if section == self.midpoint:\n",
    "            transformation = np.eye(3)\n",
    "        elif section < self.midpoint:\n",
    "            T_composed = np.eye(3)\n",
    "            for i in range(self.midpoint, section, -1):\n",
    "                T_composed = np.dot(np.linalg.inv(transformations[i]), T_composed)\n",
    "                # print(f'midpoint={self.midpoint}, i={i}, section={section}')\n",
    "            transformation = T_composed\n",
    "        else:\n",
    "            # original\n",
    "            T_composed = np.eye(3)\n",
    "            for i in range(self.midpoint + 1, section + 1):\n",
    "                #print(f'midpoint={self.midpoint}, i={i}, section={section}')\n",
    "                T_composed = np.dot(transformations[i], T_composed)\n",
    "            transformation = T_composed\n",
    "            \n",
    "        \n",
    "        return transformation\n",
    "    \n",
    "    def get_transformation_of_section(self, section):\n",
    "        transformation = self.get_transformation_of_section_to_midpoint(\n",
    "            section, self.transformations)\n",
    "        return transformation\n",
    "\n",
    "    def get_modified_transformation_of_section(self, fixed_index, rotation, xshift, yshift):\n",
    "        T = parameters_to_rigid_transform(rotation, xshift, yshift, self.center)\n",
    "        transformations = copy.copy(self.transformations)\n",
    "        transformations[fixed_index] = T\n",
    "        transformation = self.get_transformation_of_section_to_midpoint(\n",
    "            fixed_index - 1, transformations)\n",
    "        return transformation\n",
    "    \n",
    "    def compare_untransformed(self):\n",
    "        self.compare_two_image(self.moving,self.fixed)\n",
    "        \n",
    "    def evaluate_current_transformation(self):\n",
    "        Tf = self.get_transformation_of_section(self.fixed_index)\n",
    "        Tm = self.get_transformation_of_section(self.moving_index)\n",
    "        self.evalulate_transformation(self.fixed, self.moving, Tf, Tm)\n",
    "        plt.title(self.moving_index);"
   ]
  },
  {
   "cell_type": "code",
   "execution_count": null,
   "metadata": {},
   "outputs": [],
   "source": [
    "prep_id = 'DK78'\n",
    "section = 180 # section = fixed_index\n",
    "aligner = ManualAligner(prep_id, section)\n",
    "print(f'fixed index={aligner.fixed_index}')\n",
    "print(f'moving index={aligner.moving_index}')"
   ]
  },
  {
   "cell_type": "code",
   "execution_count": null,
   "metadata": {},
   "outputs": [],
   "source": [
    "#aligner.evaluate_current_transformation()\n",
    "aligner.compare_two_image(aligner.fixed, aligner.moving)"
   ]
  },
  {
   "cell_type": "code",
   "execution_count": null,
   "metadata": {},
   "outputs": [],
   "source": [
    "aligner.image_side_by_side(aligner.fixed, aligner.moving)"
   ]
  },
  {
   "cell_type": "code",
   "execution_count": null,
   "metadata": {},
   "outputs": [],
   "source": [
    "rotation, xshift, yshift = aligner.load_elastix_transformation(aligner.animal, aligner.fixed_index)\n",
    "print(f'fixed index = {aligner.fixed_index}')\n",
    "print(f'rotation of fixed = {rotation}')\n",
    "print(f'xshift of fixed = {xshift}')\n",
    "print(f'yshift of fixed = {yshift}')"
   ]
  },
  {
   "cell_type": "markdown",
   "metadata": {},
   "source": [
    "- preceding image = moving image\n",
    "- increase xshift of fixed pushes preceding images to the right\n",
    "- decrease xshift of fixed pushes preceding images to the left\n",
    "- increase yshift of fixed pushes preceding images down\n",
    "- decrease yshift of fixed pushes preceding images up\n",
    "- increase rotation of fixed rotates preceding images clockwise\n",
    "- decrease rotation of fixed rotates preceding images counterclockwise\n"
   ]
  },
  {
   "cell_type": "code",
   "execution_count": null,
   "metadata": {},
   "outputs": [],
   "source": [
    "## moving = blue, fixed = grey, previous image\n",
    "\n",
    "#rotation = 0.3\n",
    "#xshift = -300\n",
    "#yshift = -20\n",
    "T1 = aligner.get_transformation_of_section(aligner.moving_index)\n",
    "T2 = aligner.get_modified_transformation_of_section(aligner.fixed_index, rotation, xshift, yshift)\n",
    "aligner.evalulate_transformation(aligner.fixed, aligner.moving, T1, T2)\n",
    "title = f'Moving blue section {aligner.moving_index} on {prep_id}'\n",
    "title += f'\\nFixed section={aligner.fixed_index} with rotation={rotation}, xshift={xshift}, yshift={yshift}'\n",
    "plt.title(title);"
   ]
  },
  {
   "cell_type": "code",
   "execution_count": null,
   "metadata": {},
   "outputs": [],
   "source": [
    "#print(f'section={section}')\n",
    "#aligner.image_side_by_side(aligner.fixed, aligner.moving, Tf, Tm)"
   ]
  },
  {
   "cell_type": "code",
   "execution_count": null,
   "metadata": {},
   "outputs": [],
   "source": [
    "sql = f'UPDATE elastix_transformation SET rotation={rotation}, xshift={xshift}, yshift={yshift} WHERE section=\\'{aligner.fixed_index}\\' and FK_prep_id=\\'{prep_id}\\';'\n",
    "print(sql)"
   ]
  }
 ],
 "metadata": {
  "kernelspec": {
   "display_name": "Python 3 (ipykernel)",
   "language": "python",
   "name": "python3"
  },
  "language_info": {
   "codemirror_mode": {
    "name": "ipython",
    "version": 3
   },
   "file_extension": ".py",
   "mimetype": "text/x-python",
   "name": "python",
   "nbconvert_exporter": "python",
   "pygments_lexer": "ipython3",
   "version": "3.10.12"
  },
  "vscode": {
   "interpreter": {
    "hash": "9b29855540defb355a50951874e4b3a9a33e036ed29af88ad65ef37e45f70f6e"
   }
  }
 },
 "nbformat": 4,
 "nbformat_minor": 2
}
