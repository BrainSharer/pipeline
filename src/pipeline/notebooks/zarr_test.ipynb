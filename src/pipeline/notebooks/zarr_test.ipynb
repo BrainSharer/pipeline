{
 "cells": [
  {
   "cell_type": "code",
   "execution_count": null,
   "id": "4892eb0d",
   "metadata": {},
   "outputs": [],
   "source": [
    "import os\n",
    "import h5py    \n",
    "import numpy as np\n",
    "from skimage import io\n",
    "from matplotlib import pyplot as plt\n",
    "import cv2\n",
    "import nrrd\n",
    "from tifffile import tifffile\n",
    "import json\n",
    "from pprint import pprint\n",
    "import math\n",
    "import zarr\n",
    "from ome_zarr.io import parse_url\n",
    "from ome_zarr.reader import Reader\n",
    "import napari"
   ]
  },
  {
   "cell_type": "code",
   "execution_count": null,
   "id": "260f5b84",
   "metadata": {},
   "outputs": [],
   "source": [
    "volume_shape = [250, 4490, 10666]\n",
    "zarrpath = '/net/birdstore/Active_Atlas_Data/data_root/pipeline_data/DK20230126-003/preps/layers/myzarr.zarr'\n",
    "volume = zarr.create(shape=(volume_shape), chunks=True, dtype='int', store=zarrpath)"
   ]
  },
  {
   "cell_type": "code",
   "execution_count": null,
   "id": "91470a59",
   "metadata": {},
   "outputs": [],
   "source": [
    "volume.info"
   ]
  },
  {
   "cell_type": "code",
   "execution_count": null,
   "id": "a056a344",
   "metadata": {},
   "outputs": [],
   "source": [
    "%%time\n",
    "fullpath = '/net/birdstore/Active_Atlas_Data/data_root/pipeline_data/DK20230126-003/preps'\n",
    "apath = os.path.join(fullpath, 'a.zarr')\n",
    "bpath = os.path.join(fullpath, 'b.zarr')"
   ]
  },
  {
   "cell_type": "code",
   "execution_count": null,
   "id": "353a914c",
   "metadata": {},
   "outputs": [],
   "source": [
    "tshape = [250, 1536, 1024]\n",
    "tile_shape=np.array(tshape)\n",
    "overlaps = np.array([0,0,0])\n",
    "chunks = (tile_shape - overlaps).tolist()\n",
    "a = zarr.create(shape=(250, 4490, 10666), chunks=chunks, dtype='uint16', store=apath, overwrite=True)\n",
    "a.info"
   ]
  },
  {
   "cell_type": "code",
   "execution_count": null,
   "id": "b5795538",
   "metadata": {},
   "outputs": [],
   "source": [
    "subvolume = np.random.randint(1000, size=tshape)\n",
    "subvolume.dtype, subvolume.shape"
   ]
  },
  {
   "cell_type": "code",
   "execution_count": null,
   "id": "5a85ee87",
   "metadata": {},
   "outputs": [],
   "source": [
    "%%time\n",
    "print(chunks)\n",
    "a[0:250,1475:3011,4819:5843] = subvolume\n",
    "a[0:250,1475:3011,5783:6807] = subvolume"
   ]
  },
  {
   "cell_type": "code",
   "execution_count": null,
   "id": "2a88084e",
   "metadata": {},
   "outputs": [],
   "source": [
    "%%time\n",
    "print(chunks)\n",
    "a[0:250,1475:3011,4819:5843] = subvolume"
   ]
  },
  {
   "cell_type": "code",
   "execution_count": null,
   "id": "b1b89444",
   "metadata": {},
   "outputs": [],
   "source": [
    "%%time\n",
    "print(chunks)\n",
    "a[0:250,1475:3011,4819:5843] = subvolume"
   ]
  },
  {
   "cell_type": "code",
   "execution_count": null,
   "id": "9384335e",
   "metadata": {},
   "outputs": [],
   "source": [
    "url = \"https://uk1s3.embassy.ebi.ac.uk/idr/zarr/v0.4/idr0062A/6001240.zarr\"\n",
    "\n",
    "# read the image data\n",
    "store = parse_url(url, mode=\"r\").store\n",
    "\n",
    "reader = Reader(parse_url(url))\n",
    "# nodes may include images, labels etc\n",
    "nodes = list(reader())\n",
    "# first node will be the image pixel data\n",
    "image_node = nodes[0]\n",
    "\n",
    "dask_data = image_node.data\n",
    "\n",
    "# We can view this in napari\n",
    "# NB: image axes are CZYX: split channels by C axis=0\n",
    "viewer = napari.view_image(dask_data, channel_axis=0)\n",
    "if __name__ == '__main__':\n",
    "    napari.run()"
   ]
  },
  {
   "cell_type": "code",
   "execution_count": null,
   "id": "7760de14",
   "metadata": {},
   "outputs": [],
   "source": []
  }
 ],
 "metadata": {
  "kernelspec": {
   "display_name": "Python 3 (ipykernel)",
   "language": "python",
   "name": "python3"
  },
  "language_info": {
   "codemirror_mode": {
    "name": "ipython",
    "version": 3
   },
   "file_extension": ".py",
   "mimetype": "text/x-python",
   "name": "python",
   "nbconvert_exporter": "python",
   "pygments_lexer": "ipython3",
   "version": "3.10.12"
  }
 },
 "nbformat": 4,
 "nbformat_minor": 5
}
