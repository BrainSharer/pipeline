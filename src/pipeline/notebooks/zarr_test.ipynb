{
 "cells": [
  {
   "cell_type": "code",
   "execution_count": 1,
   "id": "4892eb0d",
   "metadata": {},
   "outputs": [],
   "source": [
    "import os\n",
    "import h5py    \n",
    "import numpy as np\n",
    "from skimage import io\n",
    "from matplotlib import pyplot as plt\n",
    "import cv2\n",
    "import nrrd\n",
    "from tifffile import tifffile\n",
    "import json\n",
    "from pprint import pprint\n",
    "import math\n",
    "import zarr"
   ]
  },
  {
   "cell_type": "code",
   "execution_count": null,
   "id": "260f5b84",
   "metadata": {},
   "outputs": [],
   "source": [
    "volume_shape = [250, 4490, 10666]\n",
    "zarrpath = '/net/birdstore/Active_Atlas_Data/data_root/pipeline_data/DK20230126-003/preps/layers/myzarr.zarr'\n",
    "volume = zarr.create(shape=(volume_shape), chunks=True, dtype='int', store=zarrpath)"
   ]
  },
  {
   "cell_type": "code",
   "execution_count": null,
   "id": "91470a59",
   "metadata": {},
   "outputs": [],
   "source": [
    "volume.info"
   ]
  },
  {
   "cell_type": "code",
   "execution_count": 2,
   "id": "a056a344",
   "metadata": {},
   "outputs": [
    {
     "name": "stdout",
     "output_type": "stream",
     "text": [
      "CPU times: user 8 µs, sys: 4 µs, total: 12 µs\n",
      "Wall time: 16 µs\n"
     ]
    }
   ],
   "source": [
    "%%time\n",
    "fullpath = '/net/birdstore/Active_Atlas_Data/data_root/pipeline_data/DK20230126-003/preps'\n",
    "apath = os.path.join(fullpath, 'a.zarr')\n",
    "bpath = os.path.join(fullpath, 'b.zarr')"
   ]
  },
  {
   "cell_type": "code",
   "execution_count": 38,
   "id": "353a914c",
   "metadata": {},
   "outputs": [
    {
     "data": {
      "text/html": [
       "<table class=\"zarr-info\"><tbody><tr><th style=\"text-align: left\">Type</th><td style=\"text-align: left\">zarr.core.Array</td></tr><tr><th style=\"text-align: left\">Data type</th><td style=\"text-align: left\">uint16</td></tr><tr><th style=\"text-align: left\">Shape</th><td style=\"text-align: left\">(250, 4490, 10666)</td></tr><tr><th style=\"text-align: left\">Chunk shape</th><td style=\"text-align: left\">(250, 1536, 1024)</td></tr><tr><th style=\"text-align: left\">Order</th><td style=\"text-align: left\">C</td></tr><tr><th style=\"text-align: left\">Read-only</th><td style=\"text-align: left\">False</td></tr><tr><th style=\"text-align: left\">Compressor</th><td style=\"text-align: left\">Blosc(cname='lz4', clevel=5, shuffle=SHUFFLE, blocksize=0)</td></tr><tr><th style=\"text-align: left\">Store type</th><td style=\"text-align: left\">zarr.storage.DirectoryStore</td></tr><tr><th style=\"text-align: left\">No. bytes</th><td style=\"text-align: left\">23945170000 (22.3G)</td></tr><tr><th style=\"text-align: left\">No. bytes stored</th><td style=\"text-align: left\">370</td></tr><tr><th style=\"text-align: left\">Storage ratio</th><td style=\"text-align: left\">64716675.7</td></tr><tr><th style=\"text-align: left\">Chunks initialized</th><td style=\"text-align: left\">0/33</td></tr></tbody></table>"
      ],
      "text/plain": [
       "Type               : zarr.core.Array\n",
       "Data type          : uint16\n",
       "Shape              : (250, 4490, 10666)\n",
       "Chunk shape        : (250, 1536, 1024)\n",
       "Order              : C\n",
       "Read-only          : False\n",
       "Compressor         : Blosc(cname='lz4', clevel=5, shuffle=SHUFFLE, blocksize=0)\n",
       "Store type         : zarr.storage.DirectoryStore\n",
       "No. bytes          : 23945170000 (22.3G)\n",
       "No. bytes stored   : 370\n",
       "Storage ratio      : 64716675.7\n",
       "Chunks initialized : 0/33"
      ]
     },
     "execution_count": 38,
     "metadata": {},
     "output_type": "execute_result"
    }
   ],
   "source": [
    "tshape = [250, 1536, 1024]\n",
    "tile_shape=np.array(tshape)\n",
    "overlaps = np.array([0,0,0])\n",
    "chunks = (tile_shape - overlaps).tolist()\n",
    "a = zarr.create(shape=(250, 4490, 10666), chunks=chunks, dtype='uint16', store=apath, overwrite=True)\n",
    "a.info"
   ]
  },
  {
   "cell_type": "code",
   "execution_count": 7,
   "id": "b5795538",
   "metadata": {},
   "outputs": [
    {
     "data": {
      "text/plain": [
       "(dtype('int64'), (250, 1536, 1024))"
      ]
     },
     "execution_count": 7,
     "metadata": {},
     "output_type": "execute_result"
    }
   ],
   "source": [
    "subvolume = np.random.randint(1000, size=tshape)\n",
    "subvolume.dtype, subvolume.shape"
   ]
  },
  {
   "cell_type": "code",
   "execution_count": 39,
   "id": "5a85ee87",
   "metadata": {},
   "outputs": [
    {
     "name": "stdout",
     "output_type": "stream",
     "text": [
      "[250, 1536, 1024]\n",
      "CPU times: user 10.8 s, sys: 5.77 s, total: 16.6 s\n",
      "Wall time: 7min 36s\n"
     ]
    }
   ],
   "source": [
    "%%time\n",
    "print(chunks)\n",
    "a[0:250,1475:3011,4819:5843] = subvolume\n",
    "a[0:250,1475:3011,5783:6807] = subvolume"
   ]
  },
  {
   "cell_type": "code",
   "execution_count": 28,
   "id": "2a88084e",
   "metadata": {},
   "outputs": [
    {
     "name": "stdout",
     "output_type": "stream",
     "text": [
      "[31, 192, 128]\n",
      "CPU times: user 5.35 s, sys: 1.58 s, total: 6.93 s\n",
      "Wall time: 8.9 s\n"
     ]
    }
   ],
   "source": [
    "%%time\n",
    "print(chunks)\n",
    "a[0:250,1475:3011,4819:5843] = subvolume"
   ]
  },
  {
   "cell_type": "code",
   "execution_count": 31,
   "id": "b1b89444",
   "metadata": {},
   "outputs": [
    {
     "name": "stdout",
     "output_type": "stream",
     "text": [
      "(64, 64, 64)\n",
      "CPU times: user 8.46 s, sys: 3.33 s, total: 11.8 s\n",
      "Wall time: 23 s\n"
     ]
    }
   ],
   "source": [
    "%%time\n",
    "print(chunks)\n",
    "a[0:250,1475:3011,4819:5843] = subvolume"
   ]
  }
 ],
 "metadata": {
  "kernelspec": {
   "display_name": "Python 3",
   "language": "python",
   "name": "python3"
  },
  "language_info": {
   "codemirror_mode": {
    "name": "ipython",
    "version": 3
   },
   "file_extension": ".py",
   "mimetype": "text/x-python",
   "name": "python",
   "nbconvert_exporter": "python",
   "pygments_lexer": "ipython3",
   "version": "3.10.12"
  }
 },
 "nbformat": 4,
 "nbformat_minor": 5
}
