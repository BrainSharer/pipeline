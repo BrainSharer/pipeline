{
 "cells": [
  {
   "cell_type": "code",
   "execution_count": null,
   "id": "4892eb0d",
   "metadata": {},
   "outputs": [],
   "source": [
    "import os\n",
    "import h5py    \n",
    "import numpy as np\n",
    "from skimage import io\n",
    "from matplotlib import pyplot as plt\n",
    "import cv2\n",
    "import nrrd\n",
    "from tifffile import tifffile\n",
    "import json\n",
    "from pprint import pprint\n",
    "import math"
   ]
  },
  {
   "cell_type": "code",
   "execution_count": null,
   "id": "6cd71ef7",
   "metadata": {},
   "outputs": [],
   "source": [
    "filepath='/net/birdstore/Vessel/WBIM/Acquisition/LifeCanvas/003_20240209/00005/Scan/00060_00089/00000/tile.h5'"
   ]
  },
  {
   "cell_type": "code",
   "execution_count": null,
   "id": "3ea59428",
   "metadata": {},
   "outputs": [],
   "source": [
    "f = h5py.File(filepath, 'r')"
   ]
  },
  {
   "cell_type": "code",
   "execution_count": null,
   "id": "b506c257",
   "metadata": {},
   "outputs": [],
   "source": [
    "for key in f.keys():\n",
    "    print(key) #Names of the root level object names in HDF5 file - can be groups or datasets.\n",
    "    print(type(f[key])) # get the object type: usually group or dataset"
   ]
  },
  {
   "cell_type": "code",
   "execution_count": null,
   "id": "c34d29d5",
   "metadata": {},
   "outputs": [],
   "source": [
    "#Get the HDF5 group; key needs to be a group name from above\n",
    "group = f['CH1']\n",
    "print(type(group))\n",
    "#Checkout what keys are inside that group.\n",
    "for key in group.keys():\n",
    "    print(key)"
   ]
  },
  {
   "cell_type": "code",
   "execution_count": null,
   "id": "229e797f",
   "metadata": {},
   "outputs": [],
   "source": [
    "data = group['raw'][()]"
   ]
  },
  {
   "cell_type": "code",
   "execution_count": null,
   "id": "98a3dedf",
   "metadata": {},
   "outputs": [],
   "source": [
    "print(f'dtype={data.dtype} shape={data.shape}')"
   ]
  },
  {
   "cell_type": "code",
   "execution_count": null,
   "id": "08240da6",
   "metadata": {},
   "outputs": [],
   "source": [
    "plt.rcParams[\"figure.figsize\"] = [14, 10]\n",
    "plt.rcParams[\"figure.autolayout\"] = True\n",
    "plt.imshow(data[125,:,:], cmap='seismic')\n",
    "#plt.show()"
   ]
  },
  {
   "cell_type": "code",
   "execution_count": null,
   "id": "098879cc",
   "metadata": {},
   "outputs": [],
   "source": [
    "#filepath = '/home/eddyod/programming/ITKMontage/examples/SampleData_CMUrun2/tile_10.nrrd'\n",
    "filepath = '/home/eddyod/programming/ITKMontage/examples/SampleData_DzZ_T1/tile_10.nrrd'\n",
    "#filepath = '/home/eddyod/tmp/out.nrrd'\n",
    "data, header = nrrd.read(filepath)\n",
    "print(data.dtype, readdata.shape)"
   ]
  },
  {
   "cell_type": "code",
   "execution_count": null,
   "id": "9aa057bb",
   "metadata": {},
   "outputs": [],
   "source": [
    "filepath = '/net/birdstore/Active_Atlas_Data/data_root/pipeline_data/DK20230126-003/preps/layers/00001/tif/00061_00100.tif'\n",
    "data = tifffile.imread(filepath)\n",
    "#data = np.swapaxes(data, 0, 2)\n",
    "data.dtype, data.shape, data.ndim"
   ]
  },
  {
   "cell_type": "code",
   "execution_count": null,
   "id": "6dd62ada",
   "metadata": {},
   "outputs": [],
   "source": [
    "arr = data[0,:,:]\n",
    "arr.dtype, arr.shape, arr.ndim"
   ]
  },
  {
   "cell_type": "code",
   "execution_count": null,
   "id": "2e0a944c",
   "metadata": {},
   "outputs": [],
   "source": [
    "#plt.rcParams[\"figure.figsize\"] = [14, 10]\n",
    "#plt.rcParams[\"figure.autolayout\"] = True\n",
    "#plt.imshow(data[12,:,:], cmap='gray')"
   ]
  },
  {
   "cell_type": "code",
   "execution_count": null,
   "id": "c3f8b0b7",
   "metadata": {},
   "outputs": [],
   "source": [
    "INPUT = '/net/birdstore/Active_Atlas_Data/data_root/pipeline_data/DK20230126-003/preps/layers/00001'\n",
    "infopath = os.path.join(INPUT, 'info')\n",
    "infos = sorted(os.listdir(infopath))"
   ]
  },
  {
   "cell_type": "code",
   "execution_count": null,
   "id": "7778429e",
   "metadata": {},
   "outputs": [],
   "source": [
    "bbox_mmxx_um = []\n",
    "bbox_mmxx_pxl = []\n",
    "layer_z_um = []\n",
    "stitch_tiles = []\n",
    "for file in sorted(infos):\n",
    "    inpath = os.path.join(infopath, file)\n",
    "    with open(inpath) as json_data:\n",
    "        d = json.load(json_data)\n",
    "        stitch_tiles.append(d)\n",
    "        json_data.close()\n",
    "        #print(file, end=\"\\t\")\n",
    "        #pprint(d['stack_size'])\n",
    "        bbox_mmxx_um.append(d['tile_mmxx_um'])\n",
    "        bbox_mmxx_pxl.append(d['tile_mmxx_pxl'])\n",
    "        layer_z_um.append(d['layer_z_um'])\n",
    "\n",
    "# set to np arrays\n",
    "bbox_mmxx_um = np.array(bbox_mmxx_um)\n"
   ]
  },
  {
   "cell_type": "code",
   "execution_count": null,
   "id": "c10b2cc1",
   "metadata": {},
   "outputs": [],
   "source": [
    "#tmp_stitch_data = zeros(ds_bbox_ll, 'uint16');\n",
    "tmp_stitch_data = np.zeros(ds_bbox_ll[0:2], dtype=np.uint16)\n",
    "tmp_stitch_data.dtype, tmp_stitch_data.shape"
   ]
  },
  {
   "cell_type": "code",
   "execution_count": null,
   "id": "eb5ad3d8",
   "metadata": {},
   "outputs": [],
   "source": [
    "tifpath = os.path.join(INPUT, 'tif')\n",
    "tiles = sorted(os.listdir(tifpath))\n",
    "# Parameters\n",
    "#stitch_voxel_size_um = [2, 2, 2];\n",
    "stitch_voxel_size_um = [1, 1, 1];\n",
    "zero_num_sec = 0;\n",
    "zero_last_section_Q = True\n",
    "medfilt_Q = False\n",
    "stack_size_um = stitch_tiles[0]['stack_size_um'];\n",
    "print('stack_size_um', stack_size_um)\n",
    "stack_size = stitch_tiles[0]['stack_size'];\n",
    "#ds_stack_size = np.round(stack_size_um / stitch_voxel_size_um);\n",
    "ds_stack_size = [round(stack/stitch) for stack,stitch in zip(stack_size_um, stitch_voxel_size_um)]\n",
    "print('ds_stack_size', ds_stack_size)\n",
    "#MATLAB bbox_mmxx_pxl = cat(1, stitch_tiles.tile_mmxx_pxl);\n",
    "#MATLAB vol_bbox_z_mx_um = [min(layer_z_um), max(layer_z_um) + stack_size_um(3) - 1];\n",
    "#MATLAB vol_bbox_mm_um = [min(bbox_mmxx_um(:, 1:2), [], 1), vol_bbox_z_mx_um(1)];\n",
    "#MATLAB vol_bbox_xx_um = [max(bbox_mmxx_um(:, 3:4), [], 1), vol_bbox_z_mx_um(2)];\n",
    "#MATLAB vol_bbox_ll_um = vol_bbox_xx_um - vol_bbox_mm_um + 1;\n",
    "\n",
    "\n",
    "vol_bbox_z_mx_um = [56770, 56770, 249]\n",
    "vol_bbox_mm_um = np.min(bbox_mmxx_um,0)[0:2].tolist()\n",
    "vol_bbox_xx_um = np.max(bbox_mmxx_um,0)[2:4].tolist()\n",
    "vol_bbox_mm_um.append(vol_bbox_z_mx_um[0])\n",
    "vol_bbox_xx_um.append(vol_bbox_z_mx_um[1])\n",
    "print('vol_bbox_mm_um', vol_bbox_mm_um)\n",
    "print('vol_bbox_xx_um', vol_bbox_xx_um)\n",
    "\n",
    "vol_bbox_ll_um = [a_i - b_i for a_i, b_i in zip(vol_bbox_xx_um, vol_bbox_mm_um)]\n",
    "vol_bbox_ll_um = [a+1 for a in vol_bbox_ll_um]\n",
    "\n",
    "print('vol_bbox_ll_um', vol_bbox_ll_um)\n",
    "ds_bbox_ll = (np.array(vol_bbox_ll_um) / stitch_voxel_size_um)\n",
    "ds_bbox_ll = [math.ceil(a) for a  in ds_bbox_ll]\n",
    "#ds_bbox_ll = (np.array(vol_bbox_ll_um) / stitch_voxel_size_um)\n",
    "print('ds_bbox_ll', ds_bbox_ll)\n",
    "#print(f'vol_bbox_xx_um - vol_bbox_mm_um = {np.array(vol_bbox_xx_um) - np.array(vol_bbox_mm_um)}')\n",
    "\n",
    "assert len(infos) == len(tiles), \"Error, number of tiles does not equal number of json files\"\n",
    "for info,tile in zip(stitch_tiles, tiles):\n",
    "    tmp_tile = info\n",
    "    tmp_tile_data_path = os.path.join(tifpath, tile)\n",
    "    tmp_tile_data = io.imread(tmp_tile_data_path)\n",
    "    tmp_tile_data = np.swapaxes(tmp_tile_data, 0, 2)\n",
    "    \n",
    "    #tmp_tile_data = tmp_tile_data[i];\n",
    "    #if zero_num_sec and (tmp_tile.layer > 1):\n",
    "    #    tmp_tile_data[:, :, 1:zero_num_sec] = 0;\n",
    "    \n",
    "    #tmp_tile_data[:, :, -1] = 0;\n",
    "    tmp_tile_bbox_mm_um = tmp_tile['tile_mmxx_um'][:2]\n",
    "    tmp_tile_bbox_mm_um.append(tmp_tile['layer_z_um'])\n",
    "    #tmp_tile_bbox_mm_um = [tmp_tile.tile_mmxx_um(1:2), tmp_tile.layer_z_um];    \n",
    "    #tmp_tile_bbox_ll_um = [tmp_tile.tile_mmll_um(3:4), tmp_tile.stack_size_um(3)];\n",
    "    tmp_tile_bbox_ll_um = tmp_tile['tile_mmll_um'][2:]\n",
    "    tmp_tile_bbox_ll_um.append(tmp_tile['stack_size_um'][2])\n",
    "    #tmp_tile_ll_ds_pxl = round(tmp_tile_bbox_ll_um ./ stitch_voxel_size_um);\n",
    "    tmp_tile_ll_ds_pxl = [round(bbox/voxel) for bbox,voxel in zip(tmp_tile_bbox_ll_um, stitch_voxel_size_um)]\n",
    "    print('TIF dtype and orignal shape',tile, tmp_tile_data.dtype, tmp_tile_data.shape, end=\"\\t\" )\n",
    "    print('tmp_tile_ll_ds_pxl', tmp_tile_ll_ds_pxl)\n",
    "    \"\"\"\n",
    "    # Downsample image stack - need smoothing? \n",
    "    tmp_tile_data = imresize3(tmp_tile_data, tmp_tile_ll_ds_pxl);\n",
    "    tmp_tile.clear_buffer();\n",
    "    # Local bounding box \n",
    "    tmp_local_bbox_um = tmp_tile_bbox_mm_um - vol_bbox_mm_um;\n",
    "    tmp_local_bbox_mm_ds_pxl = round(tmp_local_bbox_um ./ stitch_voxel_size_um);\n",
    "    # Deal with edge: \n",
    "    tmp_local_bbox_mm_ds_pxl = max(tmp_local_bbox_mm_ds_pxl, 1);\n",
    "    tmp_local_bbox_xx_ds_pxl = tmp_local_bbox_mm_ds_pxl + tmp_tile_ll_ds_pxl - 1;\n",
    "    # Max - rendering\n",
    "    tmp_stitch_data(tmp_local_bbox_mm_ds_pxl(1) : tmp_local_bbox_xx_ds_pxl(1), ...\n",
    "        tmp_local_bbox_mm_ds_pxl(2) : tmp_local_bbox_xx_ds_pxl(2), ...\n",
    "        tmp_local_bbox_mm_ds_pxl(3) : tmp_local_bbox_xx_ds_pxl(3)) = max(tmp_stitch_data(...\n",
    "        tmp_local_bbox_mm_ds_pxl(1) : tmp_local_bbox_xx_ds_pxl(1), ...\n",
    "        tmp_local_bbox_mm_ds_pxl(2) : tmp_local_bbox_xx_ds_pxl(2), ...\n",
    "        tmp_local_bbox_mm_ds_pxl(3) : tmp_local_bbox_xx_ds_pxl(3)), tmp_tile_data);\n",
    "    \"\"\""
   ]
  }
 ],
 "metadata": {
  "kernelspec": {
   "display_name": "Python 3 (ipykernel)",
   "language": "python",
   "name": "python3"
  },
  "language_info": {
   "codemirror_mode": {
    "name": "ipython",
    "version": 3
   },
   "file_extension": ".py",
   "mimetype": "text/x-python",
   "name": "python",
   "nbconvert_exporter": "python",
   "pygments_lexer": "ipython3",
   "version": "3.10.12"
  }
 },
 "nbformat": 4,
 "nbformat_minor": 5
}
