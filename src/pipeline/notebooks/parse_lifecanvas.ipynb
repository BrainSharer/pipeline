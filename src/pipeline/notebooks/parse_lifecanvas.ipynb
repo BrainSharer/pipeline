{
 "cells": [
  {
   "cell_type": "code",
   "execution_count": null,
   "id": "4892eb0d",
   "metadata": {},
   "outputs": [],
   "source": [
    "import os\n",
    "import h5py    \n",
    "import numpy as np\n",
    "from skimage import io\n",
    "from matplotlib import pyplot as plt\n",
    "import cv2\n",
    "import nrrd\n",
    "from tifffile import tifffile\n",
    "import json\n",
    "from pprint import pprint\n",
    "import math"
   ]
  },
  {
   "cell_type": "code",
   "execution_count": null,
   "id": "6cd71ef7",
   "metadata": {},
   "outputs": [],
   "source": [
    "filepath='/net/birdstore/Vessel/WBIM/Acquisition/LifeCanvas/003_20240209/00005/Scan/00060_00089/00000/tile.h5'"
   ]
  },
  {
   "cell_type": "code",
   "execution_count": null,
   "id": "3ea59428",
   "metadata": {},
   "outputs": [],
   "source": [
    "if os.path.exists(filepath):\n",
    "    f = h5py.File(filepath, 'r')\n",
    "    for key in f.keys():\n",
    "        print(key) #Names of the root level object names in HDF5 file - can be groups or datasets.\n",
    "        print(type(f[key])) # get the object type: usually group or dataset\n",
    "\n",
    "    #Get the HDF5 group; key needs to be a group name from above\n",
    "    group = f['CH1']\n",
    "    print(type(group))\n",
    "    #Checkout what keys are inside that group.\n",
    "    for key in group.keys():\n",
    "        print(key)\n",
    "    data = group['raw'][()]\n",
    "    print(f'dtype={data.dtype} shape={data.shape}')\n"
   ]
  },
  {
   "cell_type": "code",
   "execution_count": null,
   "id": "08240da6",
   "metadata": {},
   "outputs": [],
   "source": [
    "if os.path.exists(filepath):\n",
    "    plt.rcParams[\"figure.figsize\"] = [14, 10]\n",
    "    plt.rcParams[\"figure.autolayout\"] = True\n",
    "    plt.imshow(data[125,:,:], cmap='seismic')\n",
    "    #plt.show()"
   ]
  },
  {
   "cell_type": "code",
   "execution_count": null,
   "id": "098879cc",
   "metadata": {},
   "outputs": [],
   "source": [
    "#filepath = '/home/eddyod/programming/ITKMontage/examples/SampleData_CMUrun2/tile_10.nrrd'\n",
    "#filepath = '/home/eddyod/programming/ITKMontage/examples/SampleData_DzZ_T1/tile_10.nrrd'\n",
    "#if os.path.exists(filepath):\n",
    "#    data, header = nrrd.read(filepath)\n",
    "#    print(data.dtype, readdata.shape)"
   ]
  },
  {
   "cell_type": "code",
   "execution_count": null,
   "id": "9aa057bb",
   "metadata": {},
   "outputs": [],
   "source": [
    "# numpy is z,y,x, rows, columns\n",
    "# matlab data is in [y, x, z] coordinates. \n",
    "# identify TIFF x=102, y=154 with 250 files\n",
    "dirpath = '/net/birdstore/Active_Atlas_Data/data_root/pipeline_data/DK20230126-003/preps/C1/registration'\n",
    "filepath = os.path.join(dirpath, 'layers.1-5.tif')\n",
    "if os.path.exists(filepath):\n",
    "    data = tifffile.imread(filepath)\n",
    "    #data = np.swapaxes(data, 0, 2)\n",
    "    #data = np.swapaxes(data, 0, 1)\n",
    "    print(data.dtype, data.shape, data.ndim)"
   ]
  },
  {
   "cell_type": "code",
   "execution_count": null,
   "id": "c837099e",
   "metadata": {},
   "outputs": [],
   "source": [
    "i = 249\n",
    "str(i).zfill(3) + '.tif'"
   ]
  },
  {
   "cell_type": "code",
   "execution_count": null,
   "id": "e1b05672",
   "metadata": {},
   "outputs": [],
   "source": [
    "outpath = '/net/birdstore/Active_Atlas_Data/data_root/pipeline_data/DK20230126-003/preps/C1/sections'\n",
    "sections = data.shape[0]\n",
    "for i in range(0,sections-1):\n",
    "    arr = data[i, :, :]\n",
    "    filename = str(i).zfill(3)  + '.tif'\n",
    "    outfile = os.path.join(outpath, filename)\n",
    "    io.imsave(outfile, arr)"
   ]
  },
  {
   "cell_type": "code",
   "execution_count": null,
   "id": "6dd62ada",
   "metadata": {},
   "outputs": [],
   "source": [
    "if os.path.exists(filepath):\n",
    "    arr = data[0,:,:]\n",
    "    arr.dtype, arr.shape, arr.ndim"
   ]
  },
  {
   "cell_type": "code",
   "execution_count": null,
   "id": "2e0a944c",
   "metadata": {},
   "outputs": [],
   "source": [
    "plt.rcParams[\"figure.figsize\"] = [14, 10]\n",
    "plt.rcParams[\"figure.autolayout\"] = True\n",
    "plt.imshow(data[225,:,:], cmap='gray')"
   ]
  },
  {
   "cell_type": "code",
   "execution_count": null,
   "id": "c3f8b0b7",
   "metadata": {},
   "outputs": [],
   "source": [
    "INPUT = ''\n",
    "infopath = os.path.join(INPUT, 'info')\n",
    "infos = sorted(os.listdir(infopath))\n",
    "print(f'found {len(infos)} info.json files')"
   ]
  },
  {
   "cell_type": "code",
   "execution_count": null,
   "id": "7778429e",
   "metadata": {},
   "outputs": [],
   "source": [
    "bbox_mmxx_um = []\n",
    "bbox_mmxx_pxl = []\n",
    "layer_z_um = []\n",
    "stitch_tiles = []\n",
    "for file in sorted(infos):\n",
    "    inpath = os.path.join(infopath, file)\n",
    "    with open(inpath) as json_data:\n",
    "        d = json.load(json_data)\n",
    "        stitch_tiles.append(d)\n",
    "        json_data.close()\n",
    "        print('Box size of ', file, end=\"\\t\")\n",
    "        print(d['vol_bbox_z_mx_um'])\n",
    "        dl = d['tile_mmxx_pxl']\n",
    "        y_min, x_min, y_max, x_max = dl\n",
    "        height = y_max - y_min\n",
    "        width = x_max - x_min\n",
    "        print(f'height={height}, width={width}')\n",
    "        #print(dl)\n",
    "        bbox_mmxx_um.append(d['tile_mmxx_um'])\n",
    "        bbox_mmxx_pxl.append(d['tile_mmxx_pxl'])\n",
    "        layer_z_um.append(d['layer_z_um'])\n",
    "\n",
    "# set to np arrays\n",
    "bbox_mmxx_um = np.array(bbox_mmxx_um)\n"
   ]
  },
  {
   "cell_type": "markdown",
   "id": "770ee24b",
   "metadata": {},
   "source": [
    "1. layer_z_um is the z position of the first plane in micrometer. \n",
    "2. tile_mmxx_pxl is the bounding box of the 2D image [y_min, x_min, y_max, x_max] in pixel."
   ]
  },
  {
   "cell_type": "code",
   "execution_count": null,
   "id": "eb5ad3d8",
   "metadata": {},
   "outputs": [],
   "source": [
    "TIFPATH = os.path.join(INPUT, 'tif')\n",
    "tiles = sorted(os.listdir(TIFPATH))\n",
    "# Parameters\n",
    "scaling_factor = 10\n",
    "stitch_voxel_size_um = [0.375*scaling_factor, 0.375*scaling_factor, 1];\n",
    "stack_size_um = stitch_tiles[0]['stack_size_um'];\n",
    "print('stack_size_um', stack_size_um)\n",
    "stack_size = stitch_tiles[0]['stack_size'];\n",
    "ds_stack_size = [round(stack/stitch) for stack,stitch in zip(stack_size_um, stitch_voxel_size_um)]\n",
    "print('ds_stack_size', ds_stack_size)\n",
    "\n",
    "\n",
    "vol_bbox_z_mx_um = [56770, 56770, 249]\n",
    "vol_bbox_mm_um = np.min(bbox_mmxx_um,0)[0:2].tolist()\n",
    "vol_bbox_xx_um = np.max(bbox_mmxx_um,0)[2:4].tolist()\n",
    "vol_bbox_mm_um.append(vol_bbox_z_mx_um[0])\n",
    "vol_bbox_xx_um.append(vol_bbox_z_mx_um[1])\n",
    "print('vol_bbox_mm_um', vol_bbox_mm_um)\n",
    "print('vol_bbox_xx_um', vol_bbox_xx_um)\n",
    "\n",
    "vol_bbox_ll_um = [a_i - b_i for a_i, b_i in zip(vol_bbox_xx_um, vol_bbox_mm_um)]\n",
    "vol_bbox_ll_um = [a+1 for a in vol_bbox_ll_um]\n",
    "\n",
    "print('vol_bbox_ll_um', vol_bbox_ll_um)\n",
    "ds_bbox_ll = (np.array(vol_bbox_ll_um) / stitch_voxel_size_um)\n",
    "ds_bbox_ll = [math.ceil(a) for a  in ds_bbox_ll]\n",
    "#ds_bbox_ll = (np.array(vol_bbox_ll_um) / stitch_voxel_size_um)\n",
    "ds_bbox_ll[2] = 250\n",
    "b = ds_bbox_ll\n",
    "ds_bbox_ll = [b[2], b[0], b[1]]\n",
    "print('ds_bbox_ll', ds_bbox_ll)"
   ]
  },
  {
   "cell_type": "code",
   "execution_count": null,
   "id": "c01b7f94",
   "metadata": {},
   "outputs": [],
   "source": [
    "0.325 * 32"
   ]
  },
  {
   "cell_type": "code",
   "execution_count": null,
   "id": "a5f42227",
   "metadata": {},
   "outputs": [],
   "source": [
    "# properties are in [y, x, z] coordinates. \n",
    "# numpy is [z,y,x]\n",
    "#ds_bbox_ll = [250, 1335, 1356]\n",
    "assert len(infos) == len(tiles), \"Error, number of tiles does not equal number of json files\"\n",
    "tmp_stitch_data = np.zeros(ds_bbox_ll, dtype=np.uint16)\n",
    "print(f'Big box shape={tmp_stitch_data.shape}')\n",
    "\n",
    "\n",
    "\n",
    "for info,tile in zip(stitch_tiles, tiles):\n",
    "    tifpath = os.path.join(TIFPATH, tile)\n",
    "    tif = io.imread(tifpath)\n",
    "    #tif = np.swapaxes(tif, 0, 2)\n",
    "    #tif = np.swapaxes(tif, 0, 1)\n",
    "    \n",
    "    tmp_tile_bbox_mm_um = info['tile_mmxx_um'][:2]\n",
    "    tmp_tile_bbox_mm_um.append(info['layer_z_um'])\n",
    "    tmp_tile_bbox_ll_um = info['tile_mmll_um'][2:]\n",
    "    tmp_tile_bbox_ll_um.append(info['stack_size_um'][2])\n",
    "    tmp_tile_ll_ds_pxl = [round(bbox/voxel) for bbox,voxel in zip(tmp_tile_bbox_ll_um, stitch_voxel_size_um)]\n",
    "    print(f'TIF shape= {tif.shape}', end=\"\\t\" )\n",
    "    print('bounding box', tmp_tile_ll_ds_pxl, end=\"\\t\")\n",
    "    \n",
    "    # Local bounding box \n",
    "    tmp_local_bbox_um = [a_i - b_i for a_i, b_i in zip(tmp_tile_bbox_mm_um, vol_bbox_mm_um)]\n",
    "    #tmp_local_bbox_mm_ds_pxl = round(tmp_local_bbox_um ./ stitch_voxel_size_um);\n",
    "    tmp_local_bbox_mm_ds_pxl = [round(a/b) for a,b in zip(tmp_local_bbox_um, stitch_voxel_size_um)]\n",
    "    #print(tmp_local_bbox_mm_ds_pxl)\n",
    "    start_row = tmp_local_bbox_mm_ds_pxl[0]\n",
    "    start_col = tmp_local_bbox_mm_ds_pxl[1]\n",
    "    end_row = tif.shape[1] + start_row\n",
    "    end_col = tif.shape[2] + start_col\n",
    "    print(start_row, end_row, start_col, end_col)\n",
    "    tmp_stitch_data[0:, start_row:end_row, start_col:end_col] += tif\n",
    "    \n",
    "    continue\n",
    "    # Deal with edge: \n",
    "    tmp_local_bbox_mm_ds_pxl = np.max(tmp_local_bbox_mm_ds_pxl, axis=0)\n",
    "    # tmp_local_bbox_xx_ds_pxl = tmp_local_bbox_mm_ds_pxl + tmp_tile_ll_ds_pxl - 1;\n",
    "\n",
    "    tmp_local_bbox_xx_ds_pxl = [a + tmp_local_bbox_mm_ds_pxl for a in tmp_tile_ll_ds_pxl]\n",
    "    tmp_local_bbox_xx_ds_pxl = [a-1 for a in tmp_local_bbox_xx_ds_pxl]\n",
    "\n",
    "    # Max - rendering\n",
    "    \"\"\"\n",
    "    tmp_stitch_data(tmp_local_bbox_mm_ds_pxl[0] : tmp_local_bbox_xx_ds_pxl[0], \n",
    "        tmp_local_bbox_mm_ds_pxl[1] : tmp_local_bbox_xx_ds_pxl[1], \n",
    "        tmp_local_bbox_mm_ds_pxl[2] : tmp_local_bbox_xx_ds_pxl[2]) = max(tmp_stitch_data(\n",
    "        tmp_local_bbox_mm_ds_pxl[0] : tmp_local_bbox_xx_ds_pxl[0], \n",
    "        tmp_local_bbox_mm_ds_pxl[1] : tmp_local_bbox_xx_ds_pxl[1], \n",
    "        tmp_local_bbox_mm_ds_pxl[2] : tmp_local_bbox_xx_ds_pxl[2]), tmp_tile_data);\n",
    "    \"\"\"\n",
    "#outpath = '/home/eddyod/tmp/stitched.tif'\n",
    "#tmp_stitch_data = np.swapaxes(tmp_stitch_data, 0, 2)\n",
    "\n",
    "#io.imsave(outpath, tmp_stitch_data)\n",
    "#print(f'dtype={tmp_stitch_data.dtype} shape={tmp_stitch_data.shape}')\n",
    "#print('saved', outpath)"
   ]
  },
  {
   "cell_type": "code",
   "execution_count": null,
   "id": "1d962433",
   "metadata": {},
   "outputs": [],
   "source": [
    "from pathlib import Path\n",
    "\n",
    "base_path = '/net/birdstore/Active_Atlas_Data/data_root/pipeline_data/DK20230126-003/preps/C1/layers'\n",
    "available_layers = [1,2,3]\n",
    "all_info_files = {}\n",
    "for layer in available_layers:\n",
    "    layer = str(layer).zfill(5)\n",
    "    infopath = os.path.join(base_path, layer, 'info')\n",
    "    infos = sorted(os.listdir(infopath))\n",
    "    print(f'found {len(infos)} info.json files')\n",
    "    for file in sorted(infos):\n",
    "        inpath = os.path.join(infopath, file)\n",
    "        with open(inpath) as json_data:\n",
    "            d = json.load(json_data)\n",
    "            f = Path(file).stem\n",
    "            all_info_files[(layer,f)] = d\n",
    "            json_data.close()\n",
    "    print(f'len of all infos={len(all_info_files)}')"
   ]
  },
  {
   "cell_type": "code",
   "execution_count": null,
   "id": "5c7485a2",
   "metadata": {},
   "outputs": [],
   "source": [
    "k = ('00001','00058_00095')\n",
    "all_info_files"
   ]
  },
  {
   "cell_type": "code",
   "execution_count": null,
   "id": "f584e4d8",
   "metadata": {},
   "outputs": [],
   "source": [
    "first = next(iter(all_info_files.values()))\n",
    "first['stack_size_um']"
   ]
  },
  {
   "cell_type": "code",
   "execution_count": null,
   "id": "79e070a1",
   "metadata": {},
   "outputs": [],
   "source": [
    "max(st['layer_z_um'] for st in all_info_files.values())"
   ]
  },
  {
   "cell_type": "code",
   "execution_count": null,
   "id": "3509935b",
   "metadata": {},
   "outputs": [],
   "source": [
    "base_path = '/net/birdstore/Active_Atlas_Data/data_root/pipeline_data/DK20230126-003/preps/C1/layers'\n",
    "max_layer = max([int(layer) for layer in sorted(os.listdir(base_path))])\n",
    "outfile = 'layers.1-' + str(max_layer)  + '.tif'\n",
    "print(outfile)    "
   ]
  },
  {
   "cell_type": "code",
   "execution_count": null,
   "id": "071f7add",
   "metadata": {},
   "outputs": [],
   "source": [
    "h5path = '/net/birdstore/Vessel/WBIM/Acquisition/LifeCanvas/003_20240209/00005/Scan/00060_00089/00000/tile.h5'"
   ]
  }
 ],
 "metadata": {
  "kernelspec": {
   "display_name": "Python 3 (ipykernel)",
   "language": "python",
   "name": "python3"
  },
  "language_info": {
   "codemirror_mode": {
    "name": "ipython",
    "version": 3
   },
   "file_extension": ".py",
   "mimetype": "text/x-python",
   "name": "python",
   "nbconvert_exporter": "python",
   "pygments_lexer": "ipython3",
   "version": "3.10.12"
  }
 },
 "nbformat": 4,
 "nbformat_minor": 5
}
